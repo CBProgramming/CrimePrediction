{
 "cells": [
  {
   "cell_type": "code",
   "execution_count": 170,
   "metadata": {},
   "outputs": [],
   "source": [
    "import pandas as pd\n",
    "from sklearn.preprocessing import LabelEncoder\n",
    "from sklearn.compose import ColumnTransformer\n",
    "from sklearn.preprocessing import OneHotEncoder\n",
    "from sklearn.compose import make_column_transformer"
   ]
  },
  {
   "cell_type": "code",
   "execution_count": 171,
   "metadata": {},
   "outputs": [],
   "source": [
    "def open_sfpd():\n",
    "    df = pd.read_csv('SFPD_preprocessed.csv')\n",
    "    return df"
   ]
  },
  {
   "cell_type": "code",
   "execution_count": 172,
   "metadata": {},
   "outputs": [],
   "source": [
    "def open_businesses():\n",
    "    df = pd.read_csv('businesses_preprocessed.csv')\n",
    "    return df"
   ]
  },
  {
   "cell_type": "code",
   "execution_count": 173,
   "metadata": {},
   "outputs": [],
   "source": [
    "def open_business_openings():\n",
    "    df = pd.read_csv('businesses_openings.csv')\n",
    "    return df"
   ]
  },
  {
   "cell_type": "code",
   "execution_count": 174,
   "metadata": {},
   "outputs": [],
   "source": [
    "def open_business_closures():\n",
    "    df = pd.read_csv('businesses_closures.csv')\n",
    "    return df"
   ]
  },
  {
   "cell_type": "code",
   "execution_count": 175,
   "metadata": {},
   "outputs": [],
   "source": [
    "def finalise_data(sfpd_data,businesses,openings,closures):\n",
    "    sfpd_data.rename(columns={\"1 day ago\": \"Crime 1 day ago\",\n",
    "                              \"2 days ago\": \"Crime 2 days ago\",\n",
    "                              \"3 days ago\": \"Crime 3 days ago\",\n",
    "                              \"4 days ago\": \"Crime 4 days ago\",\n",
    "                              \"5 days ago\": \"Crime 5 days ago\",\n",
    "                              \"6 days ago\": \"Crime 6 days ago\",\n",
    "                              \"7 days ago\": \"Crime 7 days ago\",\n",
    "                              \"14 days ago\": \"Crime 14 days ago\",\n",
    "                              \"30 days ago\": \"Crime 30 days ago\",\n",
    "                              \"365 days ago\": \"Crime 365 days ago\",\n",
    "                              \"Last 7 days\": \"Last 7 days crime\",\n",
    "                              \"Last 14 days\": \"Last 14 days crime\",\n",
    "                              \"Last 28 days\": \"Last 28 days crime\"})\n",
    "    sfpd_data['Number of businesses'] = businesses['Number of businesses']\n",
    "    sfpd_data['Businesses 1 day ago'] = businesses['Businesses 1 day ago']\n",
    "    sfpd_data['Businesses 2 days ago'] = businesses['Businesses 2 days ago']\n",
    "    sfpd_data['Businesses 3 days ago'] = businesses['Businesses 3 days ago']\n",
    "    sfpd_data['Businesses 4 days ago'] = businesses['Businesses 4 days ago']\n",
    "    sfpd_data['Businesses 5 days ago'] = businesses['Businesses 5 days ago']\n",
    "    sfpd_data['Businesses 6 days ago'] = businesses['Businesses 6 days ago']\n",
    "    sfpd_data['Businesses 7 days ago'] = businesses['Businesses 7 days ago']\n",
    "    sfpd_data['Businesses 14 days ago'] = businesses['Businesses 14 days ago']\n",
    "    sfpd_data['Businesses 30 days ago'] = businesses['Businesses 30 days ago']\n",
    "    sfpd_data['Businesses 365 days ago'] = businesses['Businesses 365 days ago']\n",
    "    sfpd_data['Number of closures'] = closures['Closures']\n",
    "    sfpd_data['Closures 1 day ago'] = closures['Closures 1 day ago']\n",
    "    sfpd_data['Closures 2 days ago'] = closures['Closures 2 days ago']\n",
    "    sfpd_data['Closures 3 days ago'] = closures['Closures 3 days ago']\n",
    "    sfpd_data['Closures 4 days ago'] = closures['Closures 4 days ago']\n",
    "    sfpd_data['Closures 5 days ago'] = closures['Closures 5 days ago']\n",
    "    sfpd_data['Closures 6 days ago'] = closures['Closures 6 days ago']\n",
    "    sfpd_data['Closures 7 days ago'] = closures['Closures 7 days ago']\n",
    "    sfpd_data['Closures 14 days ago'] = closures['Closures 14 days ago']\n",
    "    sfpd_data['Closures 30 days ago'] = closures['Closures 30 days ago']\n",
    "    sfpd_data['Closures 365 days ago'] = closures['Closures 365 days ago']\n",
    "    sfpd_data['Last 7 days closures'] = closures['Last 7 days closures']\n",
    "    sfpd_data['Last 14 days closures'] = closures['Last 14 days closures']\n",
    "    sfpd_data['Last 28 days closures'] = closures['Last 28 days closures']\n",
    "    sfpd_data['Number of openings'] = openings['Openings']\n",
    "    sfpd_data['Openings 1 day ago'] = openings['Openings 1 day ago']\n",
    "    sfpd_data['Openings 2 days ago'] = openings['Openings 2 days ago']\n",
    "    sfpd_data['Openings 3 days ago'] = openings['Openings 3 days ago']\n",
    "    sfpd_data['Openings 4 days ago'] = openings['Openings 4 days ago']\n",
    "    sfpd_data['Openings 5 days ago'] = openings['Openings 5 days ago']\n",
    "    sfpd_data['Openings 6 days ago'] = openings['Openings 6 days ago']\n",
    "    sfpd_data['Openings 7 days ago'] = openings['Openings 7 days ago']\n",
    "    sfpd_data['Openings 14 days ago'] = openings['Openings 14 days ago']\n",
    "    sfpd_data['Openings 30 days ago'] = openings['Openings 30 days ago']\n",
    "    sfpd_data['Openings 365 days ago'] = openings['Openings 365 days ago']\n",
    "    sfpd_data['Last 7 days openings'] = openings['Last 7 days openings']\n",
    "    sfpd_data['Last 14 days openings'] = openings['Last 14 days openings']\n",
    "    sfpd_data['Last 28 days openings'] = openings['Last 28 days openings']\n",
    "    sfpd_data = sfpd_data.drop(columns=['Incident Date','Incident Year', 'Neighborhood'])\n",
    "    return sfpd_data"
   ]
  },
  {
   "cell_type": "code",
   "execution_count": 176,
   "metadata": {},
   "outputs": [],
   "source": [
    "def convert_day_of_week(df):\n",
    "    columns = list(df.columns)\n",
    "    columns[0] = 'Wednesday'\n",
    "    columns.insert(0,'Tuesday')\n",
    "    columns.insert(0,'Thursday')\n",
    "    columns.insert(0,'Sunday')\n",
    "    columns.insert(0,'Saturday')\n",
    "    columns.insert(0,'Monday')\n",
    "    columns.insert(0,'Friday')\n",
    "    ohe = OneHotEncoder()\n",
    "    ohe.fit_transform(df[['Incident Day of Week']])\n",
    "    column_trans = make_column_transformer((OneHotEncoder(), ['Incident Day of Week']), remainder = 'passthrough')\n",
    "    y = column_trans.fit_transform(df)\n",
    "    y = pd.DataFrame(y)\n",
    "    y.columns = columns\n",
    "    return y"
   ]
  },
  {
   "cell_type": "code",
   "execution_count": 177,
   "metadata": {},
   "outputs": [],
   "source": [
    "def normalise_data(df):\n",
    "    y_data = df[['Todays Reports']]\n",
    "    x_data = df.drop('Todays Reports', axis = 1)\n",
    "    x_data = x_data.apply(lambda x: (x - x.min(axis = 0)) / (x.max(axis = 0) - x.min(axis = 0)))\n",
    "    x_data['Todays Reports'] = y_data['Todays Reports']\n",
    "    return x_data"
   ]
  },
  {
   "cell_type": "code",
   "execution_count": 178,
   "metadata": {},
   "outputs": [],
   "source": [
    "sfpd_data = open_sfpd()"
   ]
  },
  {
   "cell_type": "code",
   "execution_count": 179,
   "metadata": {},
   "outputs": [],
   "source": [
    "businesses = open_businesses()"
   ]
  },
  {
   "cell_type": "code",
   "execution_count": 180,
   "metadata": {},
   "outputs": [],
   "source": [
    "openings = open_business_openings()"
   ]
  },
  {
   "cell_type": "code",
   "execution_count": 181,
   "metadata": {},
   "outputs": [],
   "source": [
    "closures = open_business_closures()"
   ]
  },
  {
   "cell_type": "code",
   "execution_count": 182,
   "metadata": {},
   "outputs": [],
   "source": [
    "final_data = finalise_data(sfpd_data,businesses,openings,closures)"
   ]
  },
  {
   "cell_type": "code",
   "execution_count": 183,
   "metadata": {},
   "outputs": [],
   "source": [
    "final_data = convert_day_of_week(final_data)"
   ]
  },
  {
   "cell_type": "code",
   "execution_count": 184,
   "metadata": {},
   "outputs": [],
   "source": [
    "final_data = normalise_data(final_data)"
   ]
  },
  {
   "cell_type": "code",
   "execution_count": 185,
   "metadata": {},
   "outputs": [],
   "source": [
    "final_data.to_csv('finalised_data.csv', index = False)"
   ]
  }
 ],
 "metadata": {
  "kernelspec": {
   "display_name": "Python 3",
   "language": "python",
   "name": "python3"
  },
  "language_info": {
   "codemirror_mode": {
    "name": "ipython",
    "version": 3
   },
   "file_extension": ".py",
   "mimetype": "text/x-python",
   "name": "python",
   "nbconvert_exporter": "python",
   "pygments_lexer": "ipython3",
   "version": "3.9.0"
  }
 },
 "nbformat": 4,
 "nbformat_minor": 4
}
