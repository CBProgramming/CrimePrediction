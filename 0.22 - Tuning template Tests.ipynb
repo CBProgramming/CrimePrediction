{
 "cells": [
  {
   "cell_type": "code",
   "execution_count": 408,
   "metadata": {},
   "outputs": [],
   "source": [
    "import math\n",
    "import numpy as np\n",
    "from numpy import arange\n",
    "import pandas as pd\n",
    "import matplotlib.pyplot as plt\n",
    "%matplotlib inline\n",
    "import sklearn\n",
    "from sklearn.metrics import mean_squared_error, r2_score, mean_absolute_error\n",
    "from sklearn.pipeline import Pipeline\n",
    "from sklearn.model_selection import GridSearchCV\n",
    "import pickle"
   ]
  },
  {
   "cell_type": "markdown",
   "metadata": {},
   "source": [
    "<h1> Import relevant model below then delete me <h1>"
   ]
  },
  {
   "cell_type": "code",
   "execution_count": 6,
   "metadata": {},
   "outputs": [],
   "source": [
    "from sklearn.linear_model import LinearRegression"
   ]
  },
  {
   "cell_type": "markdown",
   "metadata": {},
   "source": [
    "<h1> Update model name and display name below then delete me <h1>"
   ]
  },
  {
   "cell_type": "code",
   "execution_count": 7,
   "metadata": {},
   "outputs": [],
   "source": [
    "model_name = \"tuning_template_test_model\"\n",
    "display_name = \"Test Model\""
   ]
  },
  {
   "cell_type": "code",
   "execution_count": 8,
   "metadata": {},
   "outputs": [],
   "source": [
    "y_test = pd.read_csv('y_test_tuning_tests.csv')\n",
    "file = open(\"Selection Methods\",\"rb\")\n",
    "sel_methods = np.load(file)"
   ]
  },
  {
   "cell_type": "markdown",
   "metadata": {},
   "source": [
    "<h1> Update model in pipeline on line 12 then delete me <h1>"
   ]
  },
  {
   "cell_type": "code",
   "execution_count": 35,
   "metadata": {},
   "outputs": [],
   "source": [
    "def get_best_model(method, args, _cv, is_sample):\n",
    "    sample_string = ''\n",
    "    if (is_sample):\n",
    "        sample_string = '_sample'\n",
    "    y_train = pd.read_csv('y_train_tuning_tests'+ sample_string + '.csv')    \n",
    "    method_string = method\n",
    "    if (method == ''):\n",
    "        method_string = \"no feature selection\"\n",
    "    print('\\n\\nRunning cross fold validation for',display_name,'with',method_string,'dataset')\n",
    "    x_train = pd.read_csv('x_train_tuning_tests' + method + sample_string + '.csv').values\n",
    "    x_test = pd.read_csv('x_test_tuning_tests' + method + '.csv').values\n",
    "    pipe = Pipeline([('clf', LinearRegression())])\n",
    "    grid = GridSearchCV(pipe, args, cv = _cv, verbose = 1, scoring = 'r2', n_jobs=6)\n",
    "    grid.fit(x_train, y_train.values.ravel())\n",
    "    print('\\nBest score for',display_name,'with',method_string,\"dataset:\",grid.best_score_)\n",
    "    best_args = grid.best_estimator_.get_params()\n",
    "    print('\\nBest hyperparameters for',display_name,'with',method_string,'dataset:')\n",
    "    for arg in best_args:\n",
    "        print(arg,\":\",best_args[arg])\n",
    "    y_test_predict = grid.predict(x_test)\n",
    "    mse = mean_squared_error(y_test,y_test_predict)\n",
    "    mae = mean_absolute_error(y_test,y_test_predict)\n",
    "    r2 = r2_score(y_test,y_test_predict)\n",
    "    print('\\nPrediction scores for',display_name,'using',method_string,':')\n",
    "    print('Mean Squared error:',mse)\n",
    "    print('Mean Absolute error:',mae)\n",
    "    print('R^2:',r2)\n",
    "    #additional variables returned for testing purposes, method itself not amended\n",
    "    return grid.best_estimator_,grid.best_score_,mse,mae,r2,sample_string, y_train, method_string, x_train, x_test, grid, best_args"
   ]
  },
  {
   "cell_type": "code",
   "execution_count": 36,
   "metadata": {},
   "outputs": [],
   "source": [
    "def save_model(model,method):\n",
    "    with open('CrimeGUI/Models/'+model_name+method,'wb') as file:\n",
    "        pickle.dump(model,file)"
   ]
  },
  {
   "cell_type": "code",
   "execution_count": 37,
   "metadata": {},
   "outputs": [
    {
     "name": "stdout",
     "output_type": "stream",
     "text": [
      "['_f_regression' '_chi2' '_adaboost' '_equal_crime_and_business'\n",
      " '_all_business']\n"
     ]
    }
   ],
   "source": [
    "print(sel_methods)"
   ]
  },
  {
   "cell_type": "markdown",
   "metadata": {},
   "source": [
    "<h3>Testing begins here<h3>"
   ]
  },
  {
   "cell_type": "code",
   "execution_count": 613,
   "metadata": {},
   "outputs": [],
   "source": [
    "#helper test method to return simplified list of variables to be tested\n",
    "def package_variables_to_be_tested(method, args, _cv, is_sample):\n",
    "    model, score, mse, mae, r2, samp_str, y_train, meth_str, x_train, x_test, grid, best_args = get_best_model(method, \n",
    "                                                                                                               args, \n",
    "                                                                                                               _cv, \n",
    "                                                                                                               is_sample)\n",
    "    return [model, score, mse, mae, r2, samp_str, y_train, meth_str, x_train, x_test, grid, best_args]"
   ]
  },
  {
   "cell_type": "code",
   "execution_count": 614,
   "metadata": {},
   "outputs": [],
   "source": [
    "def test_results(results,expected_results):\n",
    "    assert results, 'Results are null but should be a fully populated list'\n",
    "    test_pipeline(results[0],expected_results[0])\n",
    "    #test scores\n",
    "    assert results[1] == expected_results[1], \"Results [1] (Best Score) not as expected\"\n",
    "    assert results[2] == expected_results[2], \"Results [2] (MSE) not as expected\"\n",
    "    assert results[3] == expected_results[3], \"Results [3] (MAE) not as expected\"\n",
    "    assert results[4] == expected_results[4], \"Results [4] (R2) not as expected\"\n",
    "    print('Score tests passed successfully.')\n",
    "    assert results[5] == expected_results[5], \"Results [4] (Sample text) not as expected\"\n",
    "    test_dataframe(results[6],expected_results[6],'y_train')\n",
    "    assert results[7] == expected_results[7], \"Results [7] (Method text) not as expected\"\n",
    "    test_numpy_array(results[8],expected_results[8],'x_train')\n",
    "    test_numpy_array(results[9],expected_results[9],'x_test')\n",
    "    test_grid(results[10],expected_results[10],expected_results[0])\n",
    "    test_best_args(results[11],expected_results[11])\n",
    "    print('\\nAll tests passed successfully.')"
   ]
  },
  {
   "cell_type": "code",
   "execution_count": 615,
   "metadata": {},
   "outputs": [],
   "source": [
    "def test_pipeline(pipe,expected_params):\n",
    "    assert pipe and isinstance(pipe, Pipeline), 'Pipe should be a Pipeline, but it does not.'\n",
    "    pipe_params = pipe.get_params()\n",
    "    assert pipe_params['memory'] == expected_params['memory'], 'Pipe parameter: Memory not as expected.'\n",
    "    param_steps = pipe_params['steps']\n",
    "    assert param_steps, 'Parameter steps are empty but should not be.'\n",
    "    steps = param_steps[0]\n",
    "    assert steps, 'Parameter steps tuple is empty but should not be.'\n",
    "    expected_steps = expected_params['steps'][0]\n",
    "    assert steps[0] == expected_steps[0], 'Parameter steps tuple [0] not as expected.'\n",
    "    assert steps[1] and isinstance(steps[1], expected_steps[1]), 'Parameter steps tuple [1] not as expected.'\n",
    "    assert pipe_params['verbose'] == expected_params['verbose'], 'Pipe parameter: Verbose not as expected.'\n",
    "    assert isinstance(pipe_params['clf'], expected_params['clf']),'Pipe parameter: clf not as expected.'\n",
    "    assert pipe_params['clf__copy_X'] == expected_params['clf__copy_X'], 'Pipe parameter: clf__copy_X not as expected.'\n",
    "    assert pipe_params['clf__fit_intercept'] == expected_params['clf__fit_intercept'], 'Pipe parameter: clf__fit_intercept not as expected.'\n",
    "    assert pipe_params['clf__n_jobs'] == expected_params['clf__n_jobs'], 'Pipe parameter: clf__n_jobs not as expected.'\n",
    "    assert pipe_params['clf__normalize'] == expected_params['clf__normalize'], 'Pipe parameter: clf__normalize not as expected.'\n",
    "    print('Pipeline tests passed successfully.')"
   ]
  },
  {
   "cell_type": "code",
   "execution_count": 616,
   "metadata": {},
   "outputs": [],
   "source": [
    "def test_dataframe(results,expected_results,df_name):\n",
    "    assert not results.empty, 'Results are empty but should not be'\n",
    "    assert len(results) == expected_results['num_records'], 'Dataframe ' + df_name + ' length not as expected'\n",
    "    for col in results:\n",
    "        assert col in expected_results['columns'], 'Dataframe ' + df_name + ' columns not as expected'\n",
    "    for record_num in range(0,len(results.index)):\n",
    "        j = 0\n",
    "        while j <= len(expected_results['columns']) - 1:\n",
    "            assert results[expected_results['columns'][j]].iloc[record_num] == 1, \"Value for \" + expected_results['columns'][j] + \" is not as expected.\"\n",
    "            #assert results[expected_results['columns'][j]].iloc[record_num] >= 0 and results[expected_results['columns'][j]].iloc[record_num] <= 1, \"Value for \" + expected_columns[j] + \" is less than 0\"\n",
    "            j += 1\n",
    "        assert results['Todays Reports'].iloc[record_num] >= 0 , \"Value for Todays Reports is less than 0\"\n",
    "    print('Dataset ' + df_name + ' tests passed successfully.')"
   ]
  },
  {
   "cell_type": "code",
   "execution_count": 617,
   "metadata": {},
   "outputs": [],
   "source": [
    "def test_numpy_array(results,expected_results,data_name):\n",
    "    alt_expected = 1\n",
    "    if expected_results['x_zeros_possible']:\n",
    "        alt_expected = 0\n",
    "    for i in range(0,expected_results['num_records']):\n",
    "        for j in range (0,len(results[i])):\n",
    "            assert results[i][j] == expected_results['value_vals'] or results[i][j] == alt_expected, \"Value for array reference [\" + str(i) + \"][\" + str(j) + \"] not as expected for dataset \" + data_name + \".\"\n",
    "    print('Dataset ' + data_name + ' tests passed successfully.')"
   ]
  },
  {
   "cell_type": "code",
   "execution_count": 618,
   "metadata": {},
   "outputs": [],
   "source": [
    "def test_grid(grid,expected_grid,expected_pipe):\n",
    "    assert grid and isinstance(grid, GridSearchCV), 'Grid should be a GridSearchCV, but it does not.'\n",
    "    grid_params = grid.get_params()\n",
    "    assert grid_params['cv'] == expected_grid['cv'], 'Grid parameter: cv not as expected.'\n",
    "    assert math.isnan(grid_params['error_score'])\n",
    "    assert grid_params['estimator__memory'] == expected_grid['estimator__memory'], 'Grid parameter: estimator__memory not as expected.'\n",
    "    assert grid_params['estimator__steps'], 'Grid parameter: estimator__steps not as expected.'\n",
    "    estimator_steps = grid_params['estimator__steps'][0]\n",
    "    assert estimator_steps, 'Grid parameter: estimator__steps not as expected.'\n",
    "    assert estimator_steps[0] == expected_grid['estimator__steps'][0][0], 'Grid parameter: estimator__steps[0] not as expected.'\n",
    "    assert estimator_steps[1] and isinstance(estimator_steps[1], expected_grid['estimator__steps'][0][1]), 'Parameter steps tuple [1] not as expected.'\n",
    "    assert grid_params['estimator__verbose'] == expected_grid['estimator__verbose'], 'Grid parameter: estimator__verbose not as expected.'\n",
    "    assert grid_params['estimator__clf'] and isinstance(grid_params['estimator__clf'], expected_grid['estimator__clf']), 'Grid parameter: estimator__clf not as expected.'\n",
    "    assert grid_params['estimator__clf__copy_X'] == expected_grid['estimator__clf__copy_X'], 'Grid parameter: estimator__clf__copy_X not as expected.'\n",
    "    assert grid_params['estimator__clf__fit_intercept'] == expected_grid['estimator__clf__fit_intercept'], 'Grid parameter: estimator__clf__fit_intercept not as expected.'\n",
    "    assert grid_params['estimator__clf__n_jobs'] == expected_grid['estimator__clf__n_jobs'], 'Grid parameter: estimator__clf__n_jobs not as expected.'\n",
    "    assert grid_params['estimator__clf__normalize'] == expected_grid['estimator__clf__normalize'], 'Grid parameter: estimator__clf__normalize not as expected.'\n",
    "    assert grid_params['estimator'] and isinstance(grid_params['estimator'], Pipeline), 'Grid parameter: estimator not as expected.'\n",
    "    test_pipeline(grid_params['estimator'],expected_pipe)\n",
    "    assert grid_params['iid'] == expected_grid['iid'], 'Grid parameter: iid not as expected.'\n",
    "    assert grid_params['n_jobs'] == expected_grid['n_jobs'], 'Grid parameter: n_jobs not as expected.'\n",
    "    assert grid_params['param_grid'] == expected_grid['param_grid'], 'Grid parameter: param_grid not as expected.'\n",
    "    assert grid_params['pre_dispatch'] == expected_grid['pre_dispatch'], 'Grid parameter: pre_dispatch not as expected.'\n",
    "    assert grid_params['refit'] == expected_grid['refit'], 'Grid parameter: refit not as expected.'\n",
    "    assert grid_params['return_train_score'] == expected_grid['return_train_score'], 'Grid parameter: return_train_score not as expected.'\n",
    "    assert grid_params['scoring'] == expected_grid['scoring'], 'Grid parameter: scoring not as expected.'\n",
    "    assert grid_params['verbose'] == expected_grid['verbose'], 'Grid parameter: verbose not as expected.'\n",
    "    print('GridSearchCV tests passed successfully.')"
   ]
  },
  {
   "cell_type": "code",
   "execution_count": 619,
   "metadata": {},
   "outputs": [],
   "source": [
    "def test_best_args(best_args, expected_best_args):\n",
    "    assert best_args['memory'] == expected_best_args['memory'], 'Best args parameter: memory not as expected.'\n",
    "    param_steps = best_args['steps']\n",
    "    assert param_steps, 'Parameter steps are empty but should not be.'\n",
    "    steps = param_steps[0]\n",
    "    assert steps, 'Parameter steps tuple is empty but should not be.'\n",
    "    expected_steps = expected_best_args['steps'][0]\n",
    "    assert steps[0] == expected_steps[0], 'Parameter steps tuple [0] not as expected.'\n",
    "    assert steps[1] and isinstance(steps[1], expected_steps[1]), 'Parameter steps tuple [1] not as expected.'\n",
    "    assert best_args['verbose'] == expected_best_args['verbose'], 'Best args parameter: verbose not as expected.'\n",
    "    assert best_args['clf__copy_X'] == expected_best_args['clf__copy_X'], 'Best args parameter: clf__copy_X not as expected.'\n",
    "    assert best_args['clf__fit_intercept'] == expected_best_args['clf__fit_intercept'], 'Best args parameter: clf__fit_intercept not as expected.'\n",
    "    assert best_args['clf__n_jobs'] == expected_best_args['clf__n_jobs'], 'Best args parameter: clf__n_jobs not as expected.'\n",
    "    assert best_args['clf__normalize'] == expected_best_args['clf__normalize'], 'Best args parameter: clf__normalize not as expected.'\n",
    "    print('Best Args tests passed successfully.')"
   ]
  },
  {
   "cell_type": "code",
   "execution_count": 620,
   "metadata": {},
   "outputs": [],
   "source": [
    "def get_best_model_test(method, is_sample, num_folds,x_zeros_possible):\n",
    "    results = package_variables_to_be_tested(method,args,num_folds,is_sample)\n",
    "       \n",
    "    expected_score = 1\n",
    "    expected_mse = 0\n",
    "    expected_mae = 0\n",
    "    expected_r2 = 1\n",
    "    expected_sample_string = \"\"\n",
    "    num_records = 614\n",
    "    if is_sample:\n",
    "        expected_sample_string = \"_sample\"\n",
    "        num_records = 153\n",
    "    expected_method_string = method\n",
    "\n",
    "    expected_pipeline_vals = {'memory':None,\n",
    "                              'steps':[('clf',LinearRegression)], \n",
    "                              'verbose': False, \n",
    "                              'clf': LinearRegression, \n",
    "                              'clf__copy_X': True, \n",
    "                              'clf__fit_intercept': True, \n",
    "                              'clf__n_jobs':None, \n",
    "                              'clf__normalize': False\n",
    "                             }\n",
    "\n",
    "    expected_y_train_vals = {'num_records':num_records,\n",
    "                            'value_vals':1,\n",
    "                            'columns':['Todays Reports']}\n",
    "\n",
    "    expected_x_train_vals = {'num_records': num_records,\n",
    "                            'value_vals':1,\n",
    "                            'x_zeros_possible':x_zeros_possible}\n",
    "\n",
    "    expected_x_test_vals = {'num_records': 205,\n",
    "                            'value_vals':1,\n",
    "                            'x_zeros_possible':x_zeros_possible}\n",
    "\n",
    "    expected_grid = {'cv': num_folds, \n",
    "                     'estimator__memory': None, \n",
    "                     'estimator__steps': [('clf', LinearRegression)], \n",
    "                     'estimator__verbose': False, \n",
    "                     'estimator__clf': LinearRegression, \n",
    "                     'estimator__clf__copy_X': True, \n",
    "                     'estimator__clf__fit_intercept': True, \n",
    "                     'estimator__clf__n_jobs': None, \n",
    "                     'estimator__clf__normalize': False, \n",
    "                     'estimator': Pipeline(steps=[('clf', LinearRegression())]), \n",
    "                     'iid': 'deprecated', \n",
    "                     'n_jobs': 6, \n",
    "                     'param_grid': {}, \n",
    "                     'pre_dispatch': '2*n_jobs', \n",
    "                     'refit': True, \n",
    "                     'return_train_score': False, \n",
    "                     'scoring': 'r2', \n",
    "                     'verbose': 1}\n",
    "\n",
    "    expected_best_args = {'memory': None, \n",
    "                          'steps': [('clf', LinearRegression)], \n",
    "                          'verbose': False, \n",
    "                          'clf': LinearRegression, \n",
    "                          'clf__copy_X': True, \n",
    "                          'clf__fit_intercept': True, \n",
    "                          'clf__n_jobs': None, \n",
    "                          'clf__normalize': False}\n",
    "\n",
    "    expected_results = [expected_pipeline_vals, expected_score, expected_mse, expected_mae, expected_r2, expected_sample_string,\n",
    "                        expected_y_train_vals, expected_method_string, expected_x_train_vals, expected_x_test_vals,\n",
    "                        expected_grid, expected_best_args]\n",
    "    \n",
    "    test_results(results,expected_results)"
   ]
  },
  {
   "cell_type": "markdown",
   "metadata": {},
   "source": [
    "<h3> F-regression tests <h3>"
   ]
  },
  {
   "cell_type": "code",
   "execution_count": 621,
   "metadata": {
    "scrolled": false
   },
   "outputs": [
    {
     "name": "stdout",
     "output_type": "stream",
     "text": [
      "\n",
      "\n",
      "Running cross fold validation for Test Model with _f_regression dataset\n",
      "Fitting 5 folds for each of 1 candidates, totalling 5 fits\n",
      "\n",
      "Best score for Test Model with _f_regression dataset: 1.0\n",
      "\n",
      "Best hyperparameters for Test Model with _f_regression dataset:\n",
      "memory : None\n",
      "steps : [('clf', LinearRegression())]\n",
      "verbose : False\n",
      "clf : LinearRegression()\n",
      "clf__copy_X : True\n",
      "clf__fit_intercept : True\n",
      "clf__n_jobs : None\n",
      "clf__normalize : False\n",
      "\n",
      "Prediction scores for Test Model using _f_regression :\n",
      "Mean Squared error: 0.0\n",
      "Mean Absolute error: 0.0\n",
      "R^2: 1.0\n",
      "Pipeline tests passed successfully.\n",
      "Score tests passed successfully.\n",
      "Dataset y_train tests passed successfully.\n",
      "Dataset x_train tests passed successfully.\n",
      "Dataset x_test tests passed successfully.\n",
      "Pipeline tests passed successfully.\n",
      "GridSearchCV tests passed successfully.\n",
      "Best Args tests passed successfully.\n",
      "\n",
      "All tests passed successfully.\n"
     ]
    },
    {
     "name": "stderr",
     "output_type": "stream",
     "text": [
      "[Parallel(n_jobs=6)]: Using backend LokyBackend with 6 concurrent workers.\n",
      "[Parallel(n_jobs=6)]: Done   5 out of   5 | elapsed:    0.0s finished\n"
     ]
    }
   ],
   "source": [
    "get_best_model_test(method = '_f_regression', is_sample = True, num_folds = 5, x_zeros_possible = False)"
   ]
  },
  {
   "cell_type": "code",
   "execution_count": 622,
   "metadata": {},
   "outputs": [
    {
     "name": "stdout",
     "output_type": "stream",
     "text": [
      "\n",
      "\n",
      "Running cross fold validation for Test Model with _f_regression dataset\n",
      "Fitting 10 folds for each of 1 candidates, totalling 10 fits\n",
      "\n",
      "Best score for Test Model with _f_regression dataset: 1.0\n",
      "\n",
      "Best hyperparameters for Test Model with _f_regression dataset:\n",
      "memory : None\n",
      "steps : [('clf', LinearRegression())]\n",
      "verbose : False\n",
      "clf : LinearRegression()\n",
      "clf__copy_X : True\n",
      "clf__fit_intercept : True\n",
      "clf__n_jobs : None\n",
      "clf__normalize : False\n",
      "\n",
      "Prediction scores for Test Model using _f_regression :\n",
      "Mean Squared error: 0.0\n",
      "Mean Absolute error: 0.0\n",
      "R^2: 1.0\n",
      "Pipeline tests passed successfully.\n",
      "Score tests passed successfully.\n",
      "Dataset y_train tests passed successfully.\n",
      "Dataset x_train tests passed successfully.\n",
      "Dataset x_test tests passed successfully.\n",
      "Pipeline tests passed successfully.\n",
      "GridSearchCV tests passed successfully.\n",
      "Best Args tests passed successfully.\n",
      "\n",
      "All tests passed successfully.\n"
     ]
    },
    {
     "name": "stderr",
     "output_type": "stream",
     "text": [
      "[Parallel(n_jobs=6)]: Using backend LokyBackend with 6 concurrent workers.\n",
      "[Parallel(n_jobs=6)]: Done  10 out of  10 | elapsed:    0.0s remaining:    0.0s\n",
      "[Parallel(n_jobs=6)]: Done  10 out of  10 | elapsed:    0.0s finished\n"
     ]
    }
   ],
   "source": [
    "get_best_model_test(method = '_f_regression', is_sample = True, num_folds = 10, x_zeros_possible = False)"
   ]
  },
  {
   "cell_type": "code",
   "execution_count": 623,
   "metadata": {
    "scrolled": false
   },
   "outputs": [
    {
     "name": "stdout",
     "output_type": "stream",
     "text": [
      "\n",
      "\n",
      "Running cross fold validation for Test Model with _f_regression dataset\n",
      "Fitting 5 folds for each of 1 candidates, totalling 5 fits\n",
      "\n",
      "Best score for Test Model with _f_regression dataset: 1.0\n",
      "\n",
      "Best hyperparameters for Test Model with _f_regression dataset:\n",
      "memory : None\n",
      "steps : [('clf', LinearRegression())]\n",
      "verbose : False\n",
      "clf : LinearRegression()\n",
      "clf__copy_X : True\n",
      "clf__fit_intercept : True\n",
      "clf__n_jobs : None\n",
      "clf__normalize : False\n",
      "\n",
      "Prediction scores for Test Model using _f_regression :\n",
      "Mean Squared error: 0.0\n",
      "Mean Absolute error: 0.0\n",
      "R^2: 1.0\n",
      "Pipeline tests passed successfully.\n",
      "Score tests passed successfully.\n",
      "Dataset y_train tests passed successfully.\n",
      "Dataset x_train tests passed successfully.\n",
      "Dataset x_test tests passed successfully.\n",
      "Pipeline tests passed successfully.\n",
      "GridSearchCV tests passed successfully.\n",
      "Best Args tests passed successfully.\n",
      "\n",
      "All tests passed successfully.\n"
     ]
    },
    {
     "name": "stderr",
     "output_type": "stream",
     "text": [
      "[Parallel(n_jobs=6)]: Using backend LokyBackend with 6 concurrent workers.\n",
      "[Parallel(n_jobs=6)]: Done   5 out of   5 | elapsed:    0.0s finished\n"
     ]
    }
   ],
   "source": [
    "get_best_model_test(method = '_f_regression', is_sample = False, num_folds = 5, x_zeros_possible = False)"
   ]
  },
  {
   "cell_type": "code",
   "execution_count": 624,
   "metadata": {},
   "outputs": [
    {
     "name": "stdout",
     "output_type": "stream",
     "text": [
      "\n",
      "\n",
      "Running cross fold validation for Test Model with _f_regression dataset\n",
      "Fitting 10 folds for each of 1 candidates, totalling 10 fits\n",
      "\n",
      "Best score for Test Model with _f_regression dataset: 1.0\n",
      "\n",
      "Best hyperparameters for Test Model with _f_regression dataset:\n",
      "memory : None\n",
      "steps : [('clf', LinearRegression())]\n",
      "verbose : False\n",
      "clf : LinearRegression()\n",
      "clf__copy_X : True\n",
      "clf__fit_intercept : True\n",
      "clf__n_jobs : None\n",
      "clf__normalize : False\n",
      "\n",
      "Prediction scores for Test Model using _f_regression :\n",
      "Mean Squared error: 0.0\n",
      "Mean Absolute error: 0.0\n",
      "R^2: 1.0\n",
      "Pipeline tests passed successfully.\n",
      "Score tests passed successfully.\n",
      "Dataset y_train tests passed successfully.\n",
      "Dataset x_train tests passed successfully.\n",
      "Dataset x_test tests passed successfully.\n",
      "Pipeline tests passed successfully.\n",
      "GridSearchCV tests passed successfully.\n",
      "Best Args tests passed successfully.\n",
      "\n",
      "All tests passed successfully.\n"
     ]
    },
    {
     "name": "stderr",
     "output_type": "stream",
     "text": [
      "[Parallel(n_jobs=6)]: Using backend LokyBackend with 6 concurrent workers.\n",
      "[Parallel(n_jobs=6)]: Done  10 out of  10 | elapsed:    0.0s remaining:    0.0s\n",
      "[Parallel(n_jobs=6)]: Done  10 out of  10 | elapsed:    0.0s finished\n"
     ]
    }
   ],
   "source": [
    "get_best_model_test(method = '_f_regression', is_sample = False, num_folds = 10, x_zeros_possible = False)"
   ]
  },
  {
   "cell_type": "markdown",
   "metadata": {},
   "source": [
    "<h3>Chi-Squared tests<h3>"
   ]
  },
  {
   "cell_type": "code",
   "execution_count": 627,
   "metadata": {},
   "outputs": [
    {
     "name": "stdout",
     "output_type": "stream",
     "text": [
      "\n",
      "\n",
      "Running cross fold validation for Test Model with _chi2 dataset\n",
      "Fitting 5 folds for each of 1 candidates, totalling 5 fits\n",
      "\n",
      "Best score for Test Model with _chi2 dataset: 1.0\n",
      "\n",
      "Best hyperparameters for Test Model with _chi2 dataset:\n",
      "memory : None\n",
      "steps : [('clf', LinearRegression())]\n",
      "verbose : False\n",
      "clf : LinearRegression()\n",
      "clf__copy_X : True\n",
      "clf__fit_intercept : True\n",
      "clf__n_jobs : None\n",
      "clf__normalize : False\n",
      "\n",
      "Prediction scores for Test Model using _chi2 :\n",
      "Mean Squared error: 0.0\n",
      "Mean Absolute error: 0.0\n",
      "R^2: 1.0\n",
      "Pipeline tests passed successfully.\n",
      "Score tests passed successfully.\n",
      "Dataset y_train tests passed successfully.\n",
      "Dataset x_train tests passed successfully.\n",
      "Dataset x_test tests passed successfully.\n",
      "Pipeline tests passed successfully.\n",
      "GridSearchCV tests passed successfully.\n",
      "Best Args tests passed successfully.\n",
      "\n",
      "All tests passed successfully.\n"
     ]
    },
    {
     "name": "stderr",
     "output_type": "stream",
     "text": [
      "[Parallel(n_jobs=6)]: Using backend LokyBackend with 6 concurrent workers.\n",
      "[Parallel(n_jobs=6)]: Done   5 out of   5 | elapsed:    0.0s finished\n"
     ]
    }
   ],
   "source": [
    "get_best_model_test(method = '_chi2', is_sample = True, num_folds = 5, x_zeros_possible = True)"
   ]
  },
  {
   "cell_type": "code",
   "execution_count": 628,
   "metadata": {},
   "outputs": [
    {
     "name": "stdout",
     "output_type": "stream",
     "text": [
      "\n",
      "\n",
      "Running cross fold validation for Test Model with _chi2 dataset\n",
      "Fitting 10 folds for each of 1 candidates, totalling 10 fits\n",
      "\n",
      "Best score for Test Model with _chi2 dataset: 1.0\n",
      "\n",
      "Best hyperparameters for Test Model with _chi2 dataset:\n",
      "memory : None\n",
      "steps : [('clf', LinearRegression())]\n",
      "verbose : False\n",
      "clf : LinearRegression()\n",
      "clf__copy_X : True\n",
      "clf__fit_intercept : True\n",
      "clf__n_jobs : None\n",
      "clf__normalize : False\n",
      "\n",
      "Prediction scores for Test Model using _chi2 :\n",
      "Mean Squared error: 0.0\n",
      "Mean Absolute error: 0.0\n",
      "R^2: 1.0\n",
      "Pipeline tests passed successfully.\n",
      "Score tests passed successfully.\n",
      "Dataset y_train tests passed successfully.\n",
      "Dataset x_train tests passed successfully.\n",
      "Dataset x_test tests passed successfully.\n",
      "Pipeline tests passed successfully.\n",
      "GridSearchCV tests passed successfully.\n",
      "Best Args tests passed successfully.\n",
      "\n",
      "All tests passed successfully.\n"
     ]
    },
    {
     "name": "stderr",
     "output_type": "stream",
     "text": [
      "[Parallel(n_jobs=6)]: Using backend LokyBackend with 6 concurrent workers.\n",
      "[Parallel(n_jobs=6)]: Done  10 out of  10 | elapsed:    0.0s remaining:    0.0s\n",
      "[Parallel(n_jobs=6)]: Done  10 out of  10 | elapsed:    0.0s finished\n"
     ]
    }
   ],
   "source": [
    "get_best_model_test(method = '_chi2', is_sample = True, num_folds = 10, x_zeros_possible = True)"
   ]
  },
  {
   "cell_type": "code",
   "execution_count": 629,
   "metadata": {},
   "outputs": [
    {
     "name": "stdout",
     "output_type": "stream",
     "text": [
      "\n",
      "\n",
      "Running cross fold validation for Test Model with _chi2 dataset\n",
      "Fitting 5 folds for each of 1 candidates, totalling 5 fits\n",
      "\n",
      "Best score for Test Model with _chi2 dataset: 1.0\n",
      "\n",
      "Best hyperparameters for Test Model with _chi2 dataset:\n",
      "memory : None\n",
      "steps : [('clf', LinearRegression())]\n",
      "verbose : False\n",
      "clf : LinearRegression()\n",
      "clf__copy_X : True\n",
      "clf__fit_intercept : True\n",
      "clf__n_jobs : None\n",
      "clf__normalize : False\n",
      "\n",
      "Prediction scores for Test Model using _chi2 :\n",
      "Mean Squared error: 0.0\n",
      "Mean Absolute error: 0.0\n",
      "R^2: 1.0\n",
      "Pipeline tests passed successfully.\n",
      "Score tests passed successfully.\n",
      "Dataset y_train tests passed successfully.\n",
      "Dataset x_train tests passed successfully.\n",
      "Dataset x_test tests passed successfully.\n",
      "Pipeline tests passed successfully.\n",
      "GridSearchCV tests passed successfully.\n",
      "Best Args tests passed successfully.\n",
      "\n",
      "All tests passed successfully.\n"
     ]
    },
    {
     "name": "stderr",
     "output_type": "stream",
     "text": [
      "[Parallel(n_jobs=6)]: Using backend LokyBackend with 6 concurrent workers.\n",
      "[Parallel(n_jobs=6)]: Done   5 out of   5 | elapsed:    0.0s finished\n"
     ]
    }
   ],
   "source": [
    "get_best_model_test(method = '_chi2', is_sample = False, num_folds = 5, x_zeros_possible = True)"
   ]
  },
  {
   "cell_type": "code",
   "execution_count": 630,
   "metadata": {},
   "outputs": [
    {
     "name": "stdout",
     "output_type": "stream",
     "text": [
      "\n",
      "\n",
      "Running cross fold validation for Test Model with _chi2 dataset\n",
      "Fitting 10 folds for each of 1 candidates, totalling 10 fits\n",
      "\n",
      "Best score for Test Model with _chi2 dataset: 1.0\n",
      "\n",
      "Best hyperparameters for Test Model with _chi2 dataset:\n",
      "memory : None\n",
      "steps : [('clf', LinearRegression())]\n",
      "verbose : False\n",
      "clf : LinearRegression()\n",
      "clf__copy_X : True\n",
      "clf__fit_intercept : True\n",
      "clf__n_jobs : None\n",
      "clf__normalize : False\n",
      "\n",
      "Prediction scores for Test Model using _chi2 :\n",
      "Mean Squared error: 0.0\n",
      "Mean Absolute error: 0.0\n",
      "R^2: 1.0\n",
      "Pipeline tests passed successfully.\n",
      "Score tests passed successfully.\n",
      "Dataset y_train tests passed successfully.\n",
      "Dataset x_train tests passed successfully.\n",
      "Dataset x_test tests passed successfully.\n",
      "Pipeline tests passed successfully.\n",
      "GridSearchCV tests passed successfully.\n",
      "Best Args tests passed successfully.\n",
      "\n",
      "All tests passed successfully.\n"
     ]
    },
    {
     "name": "stderr",
     "output_type": "stream",
     "text": [
      "[Parallel(n_jobs=6)]: Using backend LokyBackend with 6 concurrent workers.\n",
      "[Parallel(n_jobs=6)]: Done  10 out of  10 | elapsed:    0.0s remaining:    0.0s\n",
      "[Parallel(n_jobs=6)]: Done  10 out of  10 | elapsed:    0.0s finished\n"
     ]
    }
   ],
   "source": [
    "get_best_model_test(method = '_chi2', is_sample = False, num_folds = 10, x_zeros_possible = True)"
   ]
  },
  {
   "cell_type": "markdown",
   "metadata": {},
   "source": [
    "<h3>AdaBoost tests<h3>"
   ]
  },
  {
   "cell_type": "code",
   "execution_count": 631,
   "metadata": {},
   "outputs": [
    {
     "name": "stdout",
     "output_type": "stream",
     "text": [
      "\n",
      "\n",
      "Running cross fold validation for Test Model with _adaboost dataset\n",
      "Fitting 5 folds for each of 1 candidates, totalling 5 fits\n",
      "\n",
      "Best score for Test Model with _adaboost dataset: 1.0\n",
      "\n",
      "Best hyperparameters for Test Model with _adaboost dataset:\n",
      "memory : None\n",
      "steps : [('clf', LinearRegression())]\n",
      "verbose : False\n",
      "clf : LinearRegression()\n",
      "clf__copy_X : True\n",
      "clf__fit_intercept : True\n",
      "clf__n_jobs : None\n",
      "clf__normalize : False\n",
      "\n",
      "Prediction scores for Test Model using _adaboost :\n",
      "Mean Squared error: 0.0\n",
      "Mean Absolute error: 0.0\n",
      "R^2: 1.0\n",
      "Pipeline tests passed successfully.\n",
      "Score tests passed successfully.\n",
      "Dataset y_train tests passed successfully.\n",
      "Dataset x_train tests passed successfully.\n",
      "Dataset x_test tests passed successfully.\n",
      "Pipeline tests passed successfully.\n",
      "GridSearchCV tests passed successfully.\n",
      "Best Args tests passed successfully.\n",
      "\n",
      "All tests passed successfully.\n"
     ]
    },
    {
     "name": "stderr",
     "output_type": "stream",
     "text": [
      "[Parallel(n_jobs=6)]: Using backend LokyBackend with 6 concurrent workers.\n",
      "[Parallel(n_jobs=6)]: Done   5 out of   5 | elapsed:    0.0s finished\n"
     ]
    }
   ],
   "source": [
    "get_best_model_test(method = '_adaboost', is_sample = True, num_folds = 5, x_zeros_possible = False)"
   ]
  },
  {
   "cell_type": "code",
   "execution_count": 632,
   "metadata": {},
   "outputs": [
    {
     "name": "stdout",
     "output_type": "stream",
     "text": [
      "\n",
      "\n",
      "Running cross fold validation for Test Model with _adaboost dataset\n",
      "Fitting 10 folds for each of 1 candidates, totalling 10 fits\n",
      "\n",
      "Best score for Test Model with _adaboost dataset: 1.0\n",
      "\n",
      "Best hyperparameters for Test Model with _adaboost dataset:\n",
      "memory : None\n",
      "steps : [('clf', LinearRegression())]\n",
      "verbose : False\n",
      "clf : LinearRegression()\n",
      "clf__copy_X : True\n",
      "clf__fit_intercept : True\n",
      "clf__n_jobs : None\n",
      "clf__normalize : False\n",
      "\n",
      "Prediction scores for Test Model using _adaboost :\n",
      "Mean Squared error: 0.0\n",
      "Mean Absolute error: 0.0\n",
      "R^2: 1.0\n",
      "Pipeline tests passed successfully.\n",
      "Score tests passed successfully.\n",
      "Dataset y_train tests passed successfully.\n",
      "Dataset x_train tests passed successfully.\n",
      "Dataset x_test tests passed successfully.\n",
      "Pipeline tests passed successfully.\n",
      "GridSearchCV tests passed successfully.\n",
      "Best Args tests passed successfully.\n",
      "\n",
      "All tests passed successfully.\n"
     ]
    },
    {
     "name": "stderr",
     "output_type": "stream",
     "text": [
      "[Parallel(n_jobs=6)]: Using backend LokyBackend with 6 concurrent workers.\n",
      "[Parallel(n_jobs=6)]: Done  10 out of  10 | elapsed:    0.0s remaining:    0.0s\n",
      "[Parallel(n_jobs=6)]: Done  10 out of  10 | elapsed:    0.0s finished\n"
     ]
    }
   ],
   "source": [
    "get_best_model_test(method = '_adaboost', is_sample = True, num_folds = 10, x_zeros_possible = False)"
   ]
  },
  {
   "cell_type": "code",
   "execution_count": 633,
   "metadata": {},
   "outputs": [
    {
     "name": "stdout",
     "output_type": "stream",
     "text": [
      "\n",
      "\n",
      "Running cross fold validation for Test Model with _adaboost dataset\n",
      "Fitting 5 folds for each of 1 candidates, totalling 5 fits\n",
      "\n",
      "Best score for Test Model with _adaboost dataset: 1.0\n",
      "\n",
      "Best hyperparameters for Test Model with _adaboost dataset:\n",
      "memory : None\n",
      "steps : [('clf', LinearRegression())]\n",
      "verbose : False\n",
      "clf : LinearRegression()\n",
      "clf__copy_X : True\n",
      "clf__fit_intercept : True\n",
      "clf__n_jobs : None\n",
      "clf__normalize : False\n",
      "\n",
      "Prediction scores for Test Model using _adaboost :\n",
      "Mean Squared error: 0.0\n",
      "Mean Absolute error: 0.0\n",
      "R^2: 1.0\n",
      "Pipeline tests passed successfully.\n",
      "Score tests passed successfully.\n",
      "Dataset y_train tests passed successfully.\n",
      "Dataset x_train tests passed successfully.\n",
      "Dataset x_test tests passed successfully.\n",
      "Pipeline tests passed successfully.\n",
      "GridSearchCV tests passed successfully.\n",
      "Best Args tests passed successfully.\n",
      "\n",
      "All tests passed successfully.\n"
     ]
    },
    {
     "name": "stderr",
     "output_type": "stream",
     "text": [
      "[Parallel(n_jobs=6)]: Using backend LokyBackend with 6 concurrent workers.\n",
      "[Parallel(n_jobs=6)]: Done   5 out of   5 | elapsed:    0.0s finished\n"
     ]
    }
   ],
   "source": [
    "get_best_model_test(method = '_adaboost', is_sample = False, num_folds = 5, x_zeros_possible = False)"
   ]
  },
  {
   "cell_type": "code",
   "execution_count": 634,
   "metadata": {},
   "outputs": [
    {
     "name": "stdout",
     "output_type": "stream",
     "text": [
      "\n",
      "\n",
      "Running cross fold validation for Test Model with _adaboost dataset\n",
      "Fitting 10 folds for each of 1 candidates, totalling 10 fits\n",
      "\n",
      "Best score for Test Model with _adaboost dataset: 1.0\n",
      "\n",
      "Best hyperparameters for Test Model with _adaboost dataset:\n",
      "memory : None\n",
      "steps : [('clf', LinearRegression())]\n",
      "verbose : False\n",
      "clf : LinearRegression()\n",
      "clf__copy_X : True\n",
      "clf__fit_intercept : True\n",
      "clf__n_jobs : None\n",
      "clf__normalize : False\n",
      "\n",
      "Prediction scores for Test Model using _adaboost :\n",
      "Mean Squared error: 0.0\n",
      "Mean Absolute error: 0.0\n",
      "R^2: 1.0\n",
      "Pipeline tests passed successfully.\n",
      "Score tests passed successfully.\n",
      "Dataset y_train tests passed successfully.\n",
      "Dataset x_train tests passed successfully.\n",
      "Dataset x_test tests passed successfully.\n",
      "Pipeline tests passed successfully.\n",
      "GridSearchCV tests passed successfully.\n",
      "Best Args tests passed successfully.\n",
      "\n",
      "All tests passed successfully.\n"
     ]
    },
    {
     "name": "stderr",
     "output_type": "stream",
     "text": [
      "[Parallel(n_jobs=6)]: Using backend LokyBackend with 6 concurrent workers.\n",
      "[Parallel(n_jobs=6)]: Done  10 out of  10 | elapsed:    0.0s remaining:    0.0s\n",
      "[Parallel(n_jobs=6)]: Done  10 out of  10 | elapsed:    0.0s finished\n"
     ]
    }
   ],
   "source": [
    "get_best_model_test(method = '_adaboost', is_sample = False, num_folds = 10, x_zeros_possible = False)"
   ]
  },
  {
   "cell_type": "markdown",
   "metadata": {},
   "source": [
    "<h3>Equal business and crime tests<h3>"
   ]
  },
  {
   "cell_type": "code",
   "execution_count": 635,
   "metadata": {},
   "outputs": [
    {
     "name": "stdout",
     "output_type": "stream",
     "text": [
      "\n",
      "\n",
      "Running cross fold validation for Test Model with _equal_crime_and_business dataset\n",
      "Fitting 5 folds for each of 1 candidates, totalling 5 fits\n",
      "\n",
      "Best score for Test Model with _equal_crime_and_business dataset: 1.0\n",
      "\n",
      "Best hyperparameters for Test Model with _equal_crime_and_business dataset:\n",
      "memory : None\n",
      "steps : [('clf', LinearRegression())]\n",
      "verbose : False\n",
      "clf : LinearRegression()\n",
      "clf__copy_X : True\n",
      "clf__fit_intercept : True\n",
      "clf__n_jobs : None\n",
      "clf__normalize : False\n",
      "\n",
      "Prediction scores for Test Model using _equal_crime_and_business :\n",
      "Mean Squared error: 0.0\n",
      "Mean Absolute error: 0.0\n",
      "R^2: 1.0\n",
      "Pipeline tests passed successfully.\n",
      "Score tests passed successfully.\n",
      "Dataset y_train tests passed successfully.\n",
      "Dataset x_train tests passed successfully.\n",
      "Dataset x_test tests passed successfully.\n",
      "Pipeline tests passed successfully.\n",
      "GridSearchCV tests passed successfully.\n",
      "Best Args tests passed successfully.\n",
      "\n",
      "All tests passed successfully.\n"
     ]
    },
    {
     "name": "stderr",
     "output_type": "stream",
     "text": [
      "[Parallel(n_jobs=6)]: Using backend LokyBackend with 6 concurrent workers.\n",
      "[Parallel(n_jobs=6)]: Done   5 out of   5 | elapsed:    0.0s finished\n"
     ]
    }
   ],
   "source": [
    "get_best_model_test(method = '_equal_crime_and_business', is_sample = True, num_folds = 5, x_zeros_possible = False)"
   ]
  },
  {
   "cell_type": "code",
   "execution_count": 636,
   "metadata": {},
   "outputs": [
    {
     "name": "stdout",
     "output_type": "stream",
     "text": [
      "\n",
      "\n",
      "Running cross fold validation for Test Model with _equal_crime_and_business dataset\n",
      "Fitting 10 folds for each of 1 candidates, totalling 10 fits\n",
      "\n",
      "Best score for Test Model with _equal_crime_and_business dataset: 1.0\n",
      "\n",
      "Best hyperparameters for Test Model with _equal_crime_and_business dataset:\n",
      "memory : None\n",
      "steps : [('clf', LinearRegression())]\n",
      "verbose : False\n",
      "clf : LinearRegression()\n",
      "clf__copy_X : True\n",
      "clf__fit_intercept : True\n",
      "clf__n_jobs : None\n",
      "clf__normalize : False\n",
      "\n",
      "Prediction scores for Test Model using _equal_crime_and_business :\n",
      "Mean Squared error: 0.0\n",
      "Mean Absolute error: 0.0\n",
      "R^2: 1.0\n",
      "Pipeline tests passed successfully.\n",
      "Score tests passed successfully.\n",
      "Dataset y_train tests passed successfully.\n",
      "Dataset x_train tests passed successfully.\n",
      "Dataset x_test tests passed successfully.\n",
      "Pipeline tests passed successfully.\n",
      "GridSearchCV tests passed successfully.\n",
      "Best Args tests passed successfully.\n",
      "\n",
      "All tests passed successfully.\n"
     ]
    },
    {
     "name": "stderr",
     "output_type": "stream",
     "text": [
      "[Parallel(n_jobs=6)]: Using backend LokyBackend with 6 concurrent workers.\n",
      "[Parallel(n_jobs=6)]: Done  10 out of  10 | elapsed:    0.0s remaining:    0.0s\n",
      "[Parallel(n_jobs=6)]: Done  10 out of  10 | elapsed:    0.0s finished\n"
     ]
    }
   ],
   "source": [
    "get_best_model_test(method = '_equal_crime_and_business', is_sample = True, num_folds = 10, x_zeros_possible = False)"
   ]
  },
  {
   "cell_type": "code",
   "execution_count": 637,
   "metadata": {},
   "outputs": [
    {
     "name": "stdout",
     "output_type": "stream",
     "text": [
      "\n",
      "\n",
      "Running cross fold validation for Test Model with _equal_crime_and_business dataset\n",
      "Fitting 5 folds for each of 1 candidates, totalling 5 fits\n",
      "\n",
      "Best score for Test Model with _equal_crime_and_business dataset: 1.0\n",
      "\n",
      "Best hyperparameters for Test Model with _equal_crime_and_business dataset:\n",
      "memory : None\n",
      "steps : [('clf', LinearRegression())]\n",
      "verbose : False\n",
      "clf : LinearRegression()\n",
      "clf__copy_X : True\n",
      "clf__fit_intercept : True\n",
      "clf__n_jobs : None\n",
      "clf__normalize : False\n",
      "\n",
      "Prediction scores for Test Model using _equal_crime_and_business :\n",
      "Mean Squared error: 0.0\n",
      "Mean Absolute error: 0.0\n",
      "R^2: 1.0\n",
      "Pipeline tests passed successfully.\n",
      "Score tests passed successfully.\n",
      "Dataset y_train tests passed successfully.\n",
      "Dataset x_train tests passed successfully.\n",
      "Dataset x_test tests passed successfully.\n",
      "Pipeline tests passed successfully.\n",
      "GridSearchCV tests passed successfully.\n",
      "Best Args tests passed successfully.\n",
      "\n",
      "All tests passed successfully.\n"
     ]
    },
    {
     "name": "stderr",
     "output_type": "stream",
     "text": [
      "[Parallel(n_jobs=6)]: Using backend LokyBackend with 6 concurrent workers.\n",
      "[Parallel(n_jobs=6)]: Done   5 out of   5 | elapsed:    0.0s finished\n"
     ]
    }
   ],
   "source": [
    "get_best_model_test(method = '_equal_crime_and_business', is_sample = False, num_folds = 5, x_zeros_possible = False)"
   ]
  },
  {
   "cell_type": "code",
   "execution_count": 638,
   "metadata": {},
   "outputs": [
    {
     "name": "stdout",
     "output_type": "stream",
     "text": [
      "\n",
      "\n",
      "Running cross fold validation for Test Model with _equal_crime_and_business dataset\n",
      "Fitting 10 folds for each of 1 candidates, totalling 10 fits\n",
      "\n",
      "Best score for Test Model with _equal_crime_and_business dataset: 1.0\n",
      "\n",
      "Best hyperparameters for Test Model with _equal_crime_and_business dataset:\n",
      "memory : None\n",
      "steps : [('clf', LinearRegression())]\n",
      "verbose : False\n",
      "clf : LinearRegression()\n",
      "clf__copy_X : True\n",
      "clf__fit_intercept : True\n",
      "clf__n_jobs : None\n",
      "clf__normalize : False\n",
      "\n",
      "Prediction scores for Test Model using _equal_crime_and_business :\n",
      "Mean Squared error: 0.0\n",
      "Mean Absolute error: 0.0\n",
      "R^2: 1.0\n",
      "Pipeline tests passed successfully.\n",
      "Score tests passed successfully.\n",
      "Dataset y_train tests passed successfully.\n",
      "Dataset x_train tests passed successfully.\n",
      "Dataset x_test tests passed successfully.\n",
      "Pipeline tests passed successfully.\n",
      "GridSearchCV tests passed successfully.\n",
      "Best Args tests passed successfully.\n",
      "\n",
      "All tests passed successfully.\n"
     ]
    },
    {
     "name": "stderr",
     "output_type": "stream",
     "text": [
      "[Parallel(n_jobs=6)]: Using backend LokyBackend with 6 concurrent workers.\n",
      "[Parallel(n_jobs=6)]: Done  10 out of  10 | elapsed:    0.0s remaining:    0.0s\n",
      "[Parallel(n_jobs=6)]: Done  10 out of  10 | elapsed:    0.0s finished\n"
     ]
    }
   ],
   "source": [
    "get_best_model_test(method = '_equal_crime_and_business', is_sample = False, num_folds = 10, x_zeros_possible = False)"
   ]
  },
  {
   "cell_type": "markdown",
   "metadata": {},
   "source": [
    "<h3>Business only tests<h3>"
   ]
  },
  {
   "cell_type": "code",
   "execution_count": 639,
   "metadata": {},
   "outputs": [
    {
     "name": "stdout",
     "output_type": "stream",
     "text": [
      "\n",
      "\n",
      "Running cross fold validation for Test Model with _equal_crime_and_business dataset\n",
      "Fitting 5 folds for each of 1 candidates, totalling 5 fits\n",
      "\n",
      "Best score for Test Model with _equal_crime_and_business dataset: 1.0\n",
      "\n",
      "Best hyperparameters for Test Model with _equal_crime_and_business dataset:\n",
      "memory : None\n",
      "steps : [('clf', LinearRegression())]\n",
      "verbose : False\n",
      "clf : LinearRegression()\n",
      "clf__copy_X : True\n",
      "clf__fit_intercept : True\n",
      "clf__n_jobs : None\n",
      "clf__normalize : False\n",
      "\n",
      "Prediction scores for Test Model using _equal_crime_and_business :\n",
      "Mean Squared error: 0.0\n",
      "Mean Absolute error: 0.0\n",
      "R^2: 1.0\n",
      "Pipeline tests passed successfully.\n",
      "Score tests passed successfully.\n",
      "Dataset y_train tests passed successfully.\n",
      "Dataset x_train tests passed successfully.\n",
      "Dataset x_test tests passed successfully.\n",
      "Pipeline tests passed successfully.\n",
      "GridSearchCV tests passed successfully.\n",
      "Best Args tests passed successfully.\n",
      "\n",
      "All tests passed successfully.\n"
     ]
    },
    {
     "name": "stderr",
     "output_type": "stream",
     "text": [
      "[Parallel(n_jobs=6)]: Using backend LokyBackend with 6 concurrent workers.\n",
      "[Parallel(n_jobs=6)]: Done   5 out of   5 | elapsed:    0.0s finished\n"
     ]
    }
   ],
   "source": [
    "get_best_model_test(method = '_equal_crime_and_business', is_sample = True, num_folds = 5, x_zeros_possible = False)"
   ]
  },
  {
   "cell_type": "code",
   "execution_count": 640,
   "metadata": {},
   "outputs": [
    {
     "name": "stdout",
     "output_type": "stream",
     "text": [
      "\n",
      "\n",
      "Running cross fold validation for Test Model with _equal_crime_and_business dataset\n",
      "Fitting 10 folds for each of 1 candidates, totalling 10 fits\n",
      "\n",
      "Best score for Test Model with _equal_crime_and_business dataset: 1.0\n",
      "\n",
      "Best hyperparameters for Test Model with _equal_crime_and_business dataset:\n",
      "memory : None\n",
      "steps : [('clf', LinearRegression())]\n",
      "verbose : False\n",
      "clf : LinearRegression()\n",
      "clf__copy_X : True\n",
      "clf__fit_intercept : True\n",
      "clf__n_jobs : None\n",
      "clf__normalize : False\n",
      "\n",
      "Prediction scores for Test Model using _equal_crime_and_business :\n",
      "Mean Squared error: 0.0\n",
      "Mean Absolute error: 0.0\n",
      "R^2: 1.0\n",
      "Pipeline tests passed successfully.\n",
      "Score tests passed successfully.\n",
      "Dataset y_train tests passed successfully.\n",
      "Dataset x_train tests passed successfully.\n",
      "Dataset x_test tests passed successfully.\n",
      "Pipeline tests passed successfully.\n",
      "GridSearchCV tests passed successfully.\n",
      "Best Args tests passed successfully.\n",
      "\n",
      "All tests passed successfully.\n"
     ]
    },
    {
     "name": "stderr",
     "output_type": "stream",
     "text": [
      "[Parallel(n_jobs=6)]: Using backend LokyBackend with 6 concurrent workers.\n",
      "[Parallel(n_jobs=6)]: Done  10 out of  10 | elapsed:    0.0s remaining:    0.0s\n",
      "[Parallel(n_jobs=6)]: Done  10 out of  10 | elapsed:    0.0s finished\n"
     ]
    }
   ],
   "source": [
    "get_best_model_test(method = '_equal_crime_and_business', is_sample = True, num_folds = 10, x_zeros_possible = False)"
   ]
  },
  {
   "cell_type": "code",
   "execution_count": 641,
   "metadata": {},
   "outputs": [
    {
     "name": "stdout",
     "output_type": "stream",
     "text": [
      "\n",
      "\n",
      "Running cross fold validation for Test Model with _equal_crime_and_business dataset\n",
      "Fitting 5 folds for each of 1 candidates, totalling 5 fits\n",
      "\n",
      "Best score for Test Model with _equal_crime_and_business dataset: 1.0\n",
      "\n",
      "Best hyperparameters for Test Model with _equal_crime_and_business dataset:\n",
      "memory : None\n",
      "steps : [('clf', LinearRegression())]\n",
      "verbose : False\n",
      "clf : LinearRegression()\n",
      "clf__copy_X : True\n",
      "clf__fit_intercept : True\n",
      "clf__n_jobs : None\n",
      "clf__normalize : False\n",
      "\n",
      "Prediction scores for Test Model using _equal_crime_and_business :\n",
      "Mean Squared error: 0.0\n",
      "Mean Absolute error: 0.0\n",
      "R^2: 1.0\n",
      "Pipeline tests passed successfully.\n",
      "Score tests passed successfully.\n",
      "Dataset y_train tests passed successfully.\n",
      "Dataset x_train tests passed successfully.\n",
      "Dataset x_test tests passed successfully.\n",
      "Pipeline tests passed successfully.\n",
      "GridSearchCV tests passed successfully.\n",
      "Best Args tests passed successfully.\n",
      "\n",
      "All tests passed successfully.\n"
     ]
    },
    {
     "name": "stderr",
     "output_type": "stream",
     "text": [
      "[Parallel(n_jobs=6)]: Using backend LokyBackend with 6 concurrent workers.\n",
      "[Parallel(n_jobs=6)]: Done   5 out of   5 | elapsed:    0.0s finished\n"
     ]
    }
   ],
   "source": [
    "get_best_model_test(method = '_equal_crime_and_business', is_sample = False, num_folds = 5, x_zeros_possible = False)"
   ]
  },
  {
   "cell_type": "code",
   "execution_count": 642,
   "metadata": {},
   "outputs": [
    {
     "name": "stdout",
     "output_type": "stream",
     "text": [
      "\n",
      "\n",
      "Running cross fold validation for Test Model with _equal_crime_and_business dataset\n",
      "Fitting 10 folds for each of 1 candidates, totalling 10 fits\n",
      "\n",
      "Best score for Test Model with _equal_crime_and_business dataset: 1.0\n",
      "\n",
      "Best hyperparameters for Test Model with _equal_crime_and_business dataset:\n",
      "memory : None\n",
      "steps : [('clf', LinearRegression())]\n",
      "verbose : False\n",
      "clf : LinearRegression()\n",
      "clf__copy_X : True\n",
      "clf__fit_intercept : True\n",
      "clf__n_jobs : None\n",
      "clf__normalize : False\n",
      "\n",
      "Prediction scores for Test Model using _equal_crime_and_business :\n",
      "Mean Squared error: 0.0\n",
      "Mean Absolute error: 0.0\n",
      "R^2: 1.0\n",
      "Pipeline tests passed successfully.\n",
      "Score tests passed successfully.\n",
      "Dataset y_train tests passed successfully.\n",
      "Dataset x_train tests passed successfully.\n",
      "Dataset x_test tests passed successfully.\n",
      "Pipeline tests passed successfully.\n",
      "GridSearchCV tests passed successfully.\n",
      "Best Args tests passed successfully.\n",
      "\n",
      "All tests passed successfully.\n"
     ]
    },
    {
     "name": "stderr",
     "output_type": "stream",
     "text": [
      "[Parallel(n_jobs=6)]: Using backend LokyBackend with 6 concurrent workers.\n",
      "[Parallel(n_jobs=6)]: Done  10 out of  10 | elapsed:    0.0s remaining:    0.0s\n",
      "[Parallel(n_jobs=6)]: Done  10 out of  10 | elapsed:    0.0s finished\n"
     ]
    }
   ],
   "source": [
    "get_best_model_test(method = '_equal_crime_and_business', is_sample = False, num_folds = 10, x_zeros_possible = False)"
   ]
  },
  {
   "cell_type": "code",
   "execution_count": null,
   "metadata": {},
   "outputs": [],
   "source": []
  },
  {
   "cell_type": "code",
   "execution_count": null,
   "metadata": {},
   "outputs": [],
   "source": []
  },
  {
   "cell_type": "code",
   "execution_count": null,
   "metadata": {},
   "outputs": [],
   "source": []
  },
  {
   "cell_type": "code",
   "execution_count": null,
   "metadata": {},
   "outputs": [],
   "source": []
  },
  {
   "cell_type": "code",
   "execution_count": null,
   "metadata": {},
   "outputs": [],
   "source": []
  },
  {
   "cell_type": "code",
   "execution_count": null,
   "metadata": {},
   "outputs": [],
   "source": []
  },
  {
   "cell_type": "code",
   "execution_count": null,
   "metadata": {},
   "outputs": [],
   "source": []
  },
  {
   "cell_type": "code",
   "execution_count": null,
   "metadata": {},
   "outputs": [],
   "source": []
  },
  {
   "cell_type": "code",
   "execution_count": null,
   "metadata": {},
   "outputs": [],
   "source": []
  },
  {
   "cell_type": "markdown",
   "metadata": {},
   "source": [
    "<h3>Visualise scores<h3>"
   ]
  },
  {
   "cell_type": "code",
   "execution_count": 70,
   "metadata": {},
   "outputs": [],
   "source": [
    "training_scores = [f_reg_train_score, chi2_train_score, ada_train_score, equal_train_score, bus_train_score]\n",
    "mse_scores = [f_reg_mse, chi2_mse, ada_mse, equal_mse, bus_mse]\n",
    "mae_scores = [f_reg_mae, chi2_mae, ada_mae, equal_mae, bus_mae]\n",
    "r2_scores = [f_reg_r2, chi2_r2, ada_r2, equal_r2, bus_r2]\n",
    "datasets = [\"F-Regression\",\"Chi-Squared\",\"AdaBoost\",\"Equal Business\\nand Crime\",\"All Business\"]\n",
    "y_select = np.arange(len(datasets))"
   ]
  },
  {
   "cell_type": "code",
   "execution_count": 10,
   "metadata": {
    "scrolled": true
   },
   "outputs": [
    {
     "ename": "NameError",
     "evalue": "name 'plt' is not defined",
     "output_type": "error",
     "traceback": [
      "\u001b[1;31m---------------------------------------------------------------------------\u001b[0m",
      "\u001b[1;31mNameError\u001b[0m                                 Traceback (most recent call last)",
      "\u001b[1;32m<ipython-input-10-b81721c760ea>\u001b[0m in \u001b[0;36m<module>\u001b[1;34m\u001b[0m\n\u001b[1;32m----> 1\u001b[1;33m \u001b[0mplt\u001b[0m\u001b[1;33m.\u001b[0m\u001b[0mfigure\u001b[0m\u001b[1;33m(\u001b[0m\u001b[0mfigsize\u001b[0m \u001b[1;33m=\u001b[0m \u001b[1;33m(\u001b[0m\u001b[1;36m10\u001b[0m\u001b[1;33m,\u001b[0m\u001b[1;36m10\u001b[0m\u001b[1;33m)\u001b[0m\u001b[1;33m)\u001b[0m\u001b[1;33m\u001b[0m\u001b[1;33m\u001b[0m\u001b[0m\n\u001b[0m\u001b[0;32m      2\u001b[0m \u001b[0mplt\u001b[0m\u001b[1;33m.\u001b[0m\u001b[0mxticks\u001b[0m\u001b[1;33m(\u001b[0m\u001b[0my_select\u001b[0m\u001b[1;33m,\u001b[0m\u001b[0mdatasets\u001b[0m\u001b[1;33m)\u001b[0m\u001b[1;33m\u001b[0m\u001b[1;33m\u001b[0m\u001b[0m\n\u001b[0;32m      3\u001b[0m \u001b[0mplt\u001b[0m\u001b[1;33m.\u001b[0m\u001b[0mtitle\u001b[0m\u001b[1;33m(\u001b[0m\u001b[1;34m\"Decision tree training score\"\u001b[0m\u001b[1;33m)\u001b[0m\u001b[1;33m\u001b[0m\u001b[1;33m\u001b[0m\u001b[0m\n\u001b[0;32m      4\u001b[0m \u001b[0mplt\u001b[0m\u001b[1;33m.\u001b[0m\u001b[0mxlabel\u001b[0m\u001b[1;33m(\u001b[0m\u001b[1;34m\"Dataset\"\u001b[0m\u001b[1;33m)\u001b[0m\u001b[1;33m\u001b[0m\u001b[1;33m\u001b[0m\u001b[0m\n\u001b[0;32m      5\u001b[0m \u001b[0mplt\u001b[0m\u001b[1;33m.\u001b[0m\u001b[0mylabel\u001b[0m\u001b[1;33m(\u001b[0m\u001b[1;34m\"Training score (r-squared)\"\u001b[0m\u001b[1;33m)\u001b[0m\u001b[1;33m\u001b[0m\u001b[1;33m\u001b[0m\u001b[0m\n",
      "\u001b[1;31mNameError\u001b[0m: name 'plt' is not defined"
     ]
    }
   ],
   "source": [
    "plt.figure(figsize = (10,10))\n",
    "plt.xticks(y_select,datasets)\n",
    "plt.title(display_name + \" tree training score\")\n",
    "plt.xlabel(\"Dataset\")\n",
    "plt.ylabel(\"Training score (r-squared)\")\n",
    "plt.bar(y_select, training_scores)"
   ]
  },
  {
   "cell_type": "code",
   "execution_count": 11,
   "metadata": {},
   "outputs": [
    {
     "ename": "NameError",
     "evalue": "name 'plt' is not defined",
     "output_type": "error",
     "traceback": [
      "\u001b[1;31m---------------------------------------------------------------------------\u001b[0m",
      "\u001b[1;31mNameError\u001b[0m                                 Traceback (most recent call last)",
      "\u001b[1;32m<ipython-input-11-66508d61f5b0>\u001b[0m in \u001b[0;36m<module>\u001b[1;34m\u001b[0m\n\u001b[1;32m----> 1\u001b[1;33m \u001b[0mplt\u001b[0m\u001b[1;33m.\u001b[0m\u001b[0mfigure\u001b[0m\u001b[1;33m(\u001b[0m\u001b[0mfigsize\u001b[0m \u001b[1;33m=\u001b[0m \u001b[1;33m(\u001b[0m\u001b[1;36m10\u001b[0m\u001b[1;33m,\u001b[0m\u001b[1;36m10\u001b[0m\u001b[1;33m)\u001b[0m\u001b[1;33m)\u001b[0m\u001b[1;33m\u001b[0m\u001b[1;33m\u001b[0m\u001b[0m\n\u001b[0m\u001b[0;32m      2\u001b[0m \u001b[0mplt\u001b[0m\u001b[1;33m.\u001b[0m\u001b[0mxticks\u001b[0m\u001b[1;33m(\u001b[0m\u001b[0my_select\u001b[0m\u001b[1;33m,\u001b[0m\u001b[0mdatasets\u001b[0m\u001b[1;33m)\u001b[0m\u001b[1;33m\u001b[0m\u001b[1;33m\u001b[0m\u001b[0m\n\u001b[0;32m      3\u001b[0m \u001b[0mplt\u001b[0m\u001b[1;33m.\u001b[0m\u001b[0mtitle\u001b[0m\u001b[1;33m(\u001b[0m\u001b[1;34m\"Decision tree testing mean-squared error\"\u001b[0m\u001b[1;33m)\u001b[0m\u001b[1;33m\u001b[0m\u001b[1;33m\u001b[0m\u001b[0m\n\u001b[0;32m      4\u001b[0m \u001b[0mplt\u001b[0m\u001b[1;33m.\u001b[0m\u001b[0mxlabel\u001b[0m\u001b[1;33m(\u001b[0m\u001b[1;34m\"Dataset\"\u001b[0m\u001b[1;33m)\u001b[0m\u001b[1;33m\u001b[0m\u001b[1;33m\u001b[0m\u001b[0m\n\u001b[0;32m      5\u001b[0m \u001b[0mplt\u001b[0m\u001b[1;33m.\u001b[0m\u001b[0mylabel\u001b[0m\u001b[1;33m(\u001b[0m\u001b[1;34m\"Mean-squared error\"\u001b[0m\u001b[1;33m)\u001b[0m\u001b[1;33m\u001b[0m\u001b[1;33m\u001b[0m\u001b[0m\n",
      "\u001b[1;31mNameError\u001b[0m: name 'plt' is not defined"
     ]
    }
   ],
   "source": [
    "plt.figure(figsize = (10,10))\n",
    "plt.xticks(y_select,datasets)\n",
    "plt.title(display_name + \" testing mean-squared error\")\n",
    "plt.xlabel(\"Dataset\")\n",
    "plt.ylabel(\"Mean-squared error\")\n",
    "plt.bar(y_select, mse_scores)"
   ]
  },
  {
   "cell_type": "code",
   "execution_count": 12,
   "metadata": {},
   "outputs": [
    {
     "ename": "NameError",
     "evalue": "name 'plt' is not defined",
     "output_type": "error",
     "traceback": [
      "\u001b[1;31m---------------------------------------------------------------------------\u001b[0m",
      "\u001b[1;31mNameError\u001b[0m                                 Traceback (most recent call last)",
      "\u001b[1;32m<ipython-input-12-850f28f3b4ee>\u001b[0m in \u001b[0;36m<module>\u001b[1;34m\u001b[0m\n\u001b[1;32m----> 1\u001b[1;33m \u001b[0mplt\u001b[0m\u001b[1;33m.\u001b[0m\u001b[0mfigure\u001b[0m\u001b[1;33m(\u001b[0m\u001b[0mfigsize\u001b[0m \u001b[1;33m=\u001b[0m \u001b[1;33m(\u001b[0m\u001b[1;36m10\u001b[0m\u001b[1;33m,\u001b[0m\u001b[1;36m10\u001b[0m\u001b[1;33m)\u001b[0m\u001b[1;33m)\u001b[0m\u001b[1;33m\u001b[0m\u001b[1;33m\u001b[0m\u001b[0m\n\u001b[0m\u001b[0;32m      2\u001b[0m \u001b[0mplt\u001b[0m\u001b[1;33m.\u001b[0m\u001b[0mxticks\u001b[0m\u001b[1;33m(\u001b[0m\u001b[0my_select\u001b[0m\u001b[1;33m,\u001b[0m\u001b[0mdatasets\u001b[0m\u001b[1;33m)\u001b[0m\u001b[1;33m\u001b[0m\u001b[1;33m\u001b[0m\u001b[0m\n\u001b[0;32m      3\u001b[0m \u001b[0mplt\u001b[0m\u001b[1;33m.\u001b[0m\u001b[0mtitle\u001b[0m\u001b[1;33m(\u001b[0m\u001b[1;34m\"Decision tree testing mean-absolute error\"\u001b[0m\u001b[1;33m)\u001b[0m\u001b[1;33m\u001b[0m\u001b[1;33m\u001b[0m\u001b[0m\n\u001b[0;32m      4\u001b[0m \u001b[0mplt\u001b[0m\u001b[1;33m.\u001b[0m\u001b[0mxlabel\u001b[0m\u001b[1;33m(\u001b[0m\u001b[1;34m\"Dataset\"\u001b[0m\u001b[1;33m)\u001b[0m\u001b[1;33m\u001b[0m\u001b[1;33m\u001b[0m\u001b[0m\n\u001b[0;32m      5\u001b[0m \u001b[0mplt\u001b[0m\u001b[1;33m.\u001b[0m\u001b[0mylabel\u001b[0m\u001b[1;33m(\u001b[0m\u001b[1;34m\"Mean absolute error\"\u001b[0m\u001b[1;33m)\u001b[0m\u001b[1;33m\u001b[0m\u001b[1;33m\u001b[0m\u001b[0m\n",
      "\u001b[1;31mNameError\u001b[0m: name 'plt' is not defined"
     ]
    }
   ],
   "source": [
    "plt.figure(figsize = (10,10))\n",
    "plt.xticks(y_select,datasets)\n",
    "plt.title(display_name + \" testing mean-absolute error\")\n",
    "plt.xlabel(\"Dataset\")\n",
    "plt.ylabel(\"Mean absolute error\")\n",
    "plt.bar(y_select, mae_scores)"
   ]
  },
  {
   "cell_type": "code",
   "execution_count": 13,
   "metadata": {},
   "outputs": [
    {
     "ename": "NameError",
     "evalue": "name 'plt' is not defined",
     "output_type": "error",
     "traceback": [
      "\u001b[1;31m---------------------------------------------------------------------------\u001b[0m",
      "\u001b[1;31mNameError\u001b[0m                                 Traceback (most recent call last)",
      "\u001b[1;32m<ipython-input-13-9a1d9bae6a4e>\u001b[0m in \u001b[0;36m<module>\u001b[1;34m\u001b[0m\n\u001b[1;32m----> 1\u001b[1;33m \u001b[0mplt\u001b[0m\u001b[1;33m.\u001b[0m\u001b[0mfigure\u001b[0m\u001b[1;33m(\u001b[0m\u001b[0mfigsize\u001b[0m \u001b[1;33m=\u001b[0m \u001b[1;33m(\u001b[0m\u001b[1;36m10\u001b[0m\u001b[1;33m,\u001b[0m\u001b[1;36m10\u001b[0m\u001b[1;33m)\u001b[0m\u001b[1;33m)\u001b[0m\u001b[1;33m\u001b[0m\u001b[1;33m\u001b[0m\u001b[0m\n\u001b[0m\u001b[0;32m      2\u001b[0m \u001b[0mplt\u001b[0m\u001b[1;33m.\u001b[0m\u001b[0mxticks\u001b[0m\u001b[1;33m(\u001b[0m\u001b[0my_select\u001b[0m\u001b[1;33m,\u001b[0m\u001b[0mdatasets\u001b[0m\u001b[1;33m)\u001b[0m\u001b[1;33m\u001b[0m\u001b[1;33m\u001b[0m\u001b[0m\n\u001b[0;32m      3\u001b[0m \u001b[0mplt\u001b[0m\u001b[1;33m.\u001b[0m\u001b[0mtitle\u001b[0m\u001b[1;33m(\u001b[0m\u001b[1;34m\"Decision tree testing r-squared scores\"\u001b[0m\u001b[1;33m)\u001b[0m\u001b[1;33m\u001b[0m\u001b[1;33m\u001b[0m\u001b[0m\n\u001b[0;32m      4\u001b[0m \u001b[0mplt\u001b[0m\u001b[1;33m.\u001b[0m\u001b[0mxlabel\u001b[0m\u001b[1;33m(\u001b[0m\u001b[1;34m\"Dataset\"\u001b[0m\u001b[1;33m)\u001b[0m\u001b[1;33m\u001b[0m\u001b[1;33m\u001b[0m\u001b[0m\n\u001b[0;32m      5\u001b[0m \u001b[0mplt\u001b[0m\u001b[1;33m.\u001b[0m\u001b[0mylabel\u001b[0m\u001b[1;33m(\u001b[0m\u001b[1;34m\"R-Squared Score\"\u001b[0m\u001b[1;33m)\u001b[0m\u001b[1;33m\u001b[0m\u001b[1;33m\u001b[0m\u001b[0m\n",
      "\u001b[1;31mNameError\u001b[0m: name 'plt' is not defined"
     ]
    }
   ],
   "source": [
    "plt.figure(figsize = (10,10))\n",
    "plt.xticks(y_select,datasets)\n",
    "plt.title(display_name + \" testing r-squared scores\")\n",
    "plt.xlabel(\"Dataset\")\n",
    "plt.ylabel(\"R-Squared Score\")\n",
    "plt.bar(y_select, r2_scores)"
   ]
  }
 ],
 "metadata": {
  "kernelspec": {
   "display_name": "Python 3",
   "language": "python",
   "name": "python3"
  },
  "language_info": {
   "codemirror_mode": {
    "name": "ipython",
    "version": 3
   },
   "file_extension": ".py",
   "mimetype": "text/x-python",
   "name": "python",
   "nbconvert_exporter": "python",
   "pygments_lexer": "ipython3",
   "version": "3.9.0"
  }
 },
 "nbformat": 4,
 "nbformat_minor": 4
}
