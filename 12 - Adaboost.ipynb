{
 "cells": [
  {
   "cell_type": "code",
   "execution_count": 12,
   "metadata": {},
   "outputs": [],
   "source": [
    "import numpy as np\n",
    "import pandas as pd\n",
    "import matplotlib.pyplot as plt\n",
    "%matplotlib inline\n",
    "import seaborn as sns\n",
    "import sklearn\n",
    "from sklearn.ensemble import AdaBoostRegressor\n",
    "from sklearn.tree import DecisionTreeRegressor\n",
    "from sklearn.metrics import mean_squared_error, r2_score"
   ]
  },
  {
   "cell_type": "code",
   "execution_count": 13,
   "metadata": {},
   "outputs": [],
   "source": [
    "y_train = pd.read_csv('y_train.csv')\n",
    "y_test = pd.read_csv('y_test.csv')\n",
    "file = open(\"Selection Methods\",\"rb\")\n",
    "sel_methods = np.load(file)"
   ]
  },
  {
   "cell_type": "code",
   "execution_count": 14,
   "metadata": {},
   "outputs": [],
   "source": [
    "def ada_boost(filename):\n",
    "    x_train = pd.read_csv('x_train' + filename + '.csv').values\n",
    "    x_test = pd.read_csv('x_test' + filename + '.csv').values\n",
    "    adaBoost = AdaBoostRegressor(\n",
    "        DecisionTreeRegressor(),\n",
    "                              n_estimators=500,\n",
    "                              random_state=13)\n",
    "    adaBoost.fit(x_train, y_train.values.ravel())\n",
    "    y_train_prediction = adaBoost.predict(x_train)\n",
    "    y_test_prediction = adaBoost.predict(x_test)\n",
    "    print(\"\\n\\nResults for Random Forest Regressor on\",filename,\"data\")\n",
    "    print(\"\\nMean Squared error\")\n",
    "    print(\"Train:\",mean_squared_error(y_train,y_train_prediction))\n",
    "    print(\"Test:\",mean_squared_error(y_test,y_test_prediction))\n",
    "    print(\"\\nR^2\")\n",
    "    print(\"Train:\",r2_score(y_train,y_train_prediction))\n",
    "    print(\"Test:\",r2_score(y_test,y_test_prediction))"
   ]
  },
  {
   "cell_type": "code",
   "execution_count": null,
   "metadata": {},
   "outputs": [],
   "source": [
    "#AdaBoost performs worse than Random Forest Regression but again better without feature selection"
   ]
  },
  {
   "cell_type": "code",
   "execution_count": 15,
   "metadata": {},
   "outputs": [
    {
     "name": "stdout",
     "output_type": "stream",
     "text": [
      "\n",
      "\n",
      "Results for Random Forest Regressor on  data\n",
      "\n",
      "Mean Squared error\n",
      "Train: 0.04885030065594285\n",
      "Test: 4.829698790384481\n",
      "\n",
      "R^2\n",
      "Train: 0.9975031558324688\n",
      "Test: 0.7522246011962006\n",
      "\n",
      "\n",
      "Results for Random Forest Regressor on _f_regression data\n",
      "\n",
      "Mean Squared error\n",
      "Train: 6.732291870471436\n",
      "Test: 10.499761208734137\n",
      "\n",
      "R^2\n",
      "Train: 0.6558980504686271\n",
      "Test: 0.4613364862383773\n",
      "\n",
      "\n",
      "Results for Random Forest Regressor on _chi2 data\n",
      "\n",
      "Mean Squared error\n",
      "Train: 1.3490908718603294\n",
      "Test: 6.4879449288919515\n",
      "\n",
      "R^2\n",
      "Train: 0.9310450574583287\n",
      "Test: 0.6671525053749123\n",
      "\n",
      "\n",
      "Results for Random Forest Regressor on _mutual_info data\n",
      "\n",
      "Mean Squared error\n",
      "Train: 1.6241140595804355\n",
      "Test: 5.430080715602524\n",
      "\n",
      "R^2\n",
      "Train: 0.9169880294979241\n",
      "Test: 0.7214235352473961\n",
      "\n",
      "\n",
      "Results for Random Forest Regressor on _extra_trees data\n",
      "\n",
      "Mean Squared error\n",
      "Train: 1.168295103408603\n",
      "Test: 5.744224909836295\n",
      "\n",
      "R^2\n",
      "Train: 0.9402859189046558\n",
      "Test: 0.7053071672529494\n",
      "\n",
      "\n",
      "Results for Random Forest Regressor on _equal_crime_and_business data\n",
      "\n",
      "Mean Squared error\n",
      "Train: 2.9044308023960514\n",
      "Test: 7.0938137407585895\n",
      "\n",
      "R^2\n",
      "Train: 0.851548280940252\n",
      "Test: 0.6360699486776054\n",
      "\n",
      "\n",
      "Results for Random Forest Regressor on _all_business data\n",
      "\n",
      "Mean Squared error\n",
      "Train: 7.943511425923268\n",
      "Test: 11.253587906238698\n",
      "\n",
      "R^2\n",
      "Train: 0.5939900081020217\n",
      "Test: 0.4226633269566834\n"
     ]
    }
   ],
   "source": [
    "for method in sel_methods:\n",
    "    ada_boost(method)"
   ]
  }
 ],
 "metadata": {
  "kernelspec": {
   "display_name": "Python 3",
   "language": "python",
   "name": "python3"
  },
  "language_info": {
   "codemirror_mode": {
    "name": "ipython",
    "version": 3
   },
   "file_extension": ".py",
   "mimetype": "text/x-python",
   "name": "python",
   "nbconvert_exporter": "python",
   "pygments_lexer": "ipython3",
   "version": "3.9.0"
  }
 },
 "nbformat": 4,
 "nbformat_minor": 4
}
