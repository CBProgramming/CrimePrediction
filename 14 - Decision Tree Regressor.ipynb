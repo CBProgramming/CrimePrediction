{
 "cells": [
  {
   "cell_type": "code",
   "execution_count": 3,
   "metadata": {},
   "outputs": [],
   "source": [
    "import numpy as np\n",
    "import pandas as pd\n",
    "import matplotlib.pyplot as plt\n",
    "%matplotlib inline\n",
    "import seaborn as sns\n",
    "import sklearn\n",
    "from sklearn.tree import DecisionTreeRegressor\n",
    "from sklearn.metrics import mean_squared_error, r2_score, mean_absolute_error\n",
    "from sklearn.pipeline import Pipeline\n",
    "from sklearn.model_selection import GridSearchCV\n",
    "import pickle"
   ]
  },
  {
   "cell_type": "code",
   "execution_count": 4,
   "metadata": {},
   "outputs": [],
   "source": [
    "y_test = pd.read_csv('y_test.csv')\n",
    "file = open(\"Selection Methods\",\"rb\")\n",
    "sel_methods = np.load(file)\n",
    "model_name = \"decision_tree\"\n",
    "display_name = \"Decision Tree\""
   ]
  },
  {
   "cell_type": "code",
   "execution_count": 5,
   "metadata": {},
   "outputs": [],
   "source": [
    "def get_best_model(method, args, _cv, is_sample):\n",
    "    sample_string = ''\n",
    "    if (is_sample):\n",
    "        sample_string = '_sample'\n",
    "    y_train = pd.read_csv('y_train'+ sample_string + '.csv')    \n",
    "    method_string = method\n",
    "    if (method == ''):\n",
    "        method_string = \"no feature selection\"\n",
    "    print('\\n\\nRunning cross fold validation for',display_name,'with',method_string,'dataset')\n",
    "    x_train = pd.read_csv('x_train' + method + sample_string + '.csv').values\n",
    "    x_test = pd.read_csv('x_test' + method + '.csv').values\n",
    "    pipe = Pipeline([('clf', DecisionTreeRegressor())])\n",
    "    grid = GridSearchCV(pipe, args, cv = _cv, verbose = 1, scoring = 'r2', n_jobs=6)\n",
    "    grid.fit(x_train, y_train.values.ravel())\n",
    "    print('\\nBest score for',display_name,'with',method_string,\"dataset:\",grid.best_score_)\n",
    "    best_args = grid.best_estimator_.get_params()\n",
    "    print('\\nBest hyperparameters for',display_name,'with',method_string,'dataset:')\n",
    "    for arg in best_args:\n",
    "        print(arg,\":\",best_args[arg])\n",
    "    y_test_predict = grid.predict(x_test)\n",
    "    mse = mean_squared_error(y_test,y_test_predict)\n",
    "    mae = mean_absolute_error(y_test,y_test_predict)\n",
    "    r2 = r2_score(y_test,y_test_predict)\n",
    "    print('\\nPrediction scores for',display_name,'using',method_string,':')\n",
    "    print('Mean Squared error:',mse)\n",
    "    print('Mean Absolute error:',mae)\n",
    "    print('R^2:',r2)\n",
    "    return grid.best_estimator_,grid.best_score_,mse,mae,r2"
   ]
  },
  {
   "cell_type": "code",
   "execution_count": 6,
   "metadata": {},
   "outputs": [
    {
     "name": "stdout",
     "output_type": "stream",
     "text": [
      "['_f_regression' '_chi2' '_adaboost' '_equal_crime_and_business'\n",
      " '_all_business']\n"
     ]
    }
   ],
   "source": [
    "print(sel_methods)"
   ]
  },
  {
   "cell_type": "markdown",
   "metadata": {},
   "source": [
    "<h3>F-Regression feature selected dataset<h3>"
   ]
  },
  {
   "cell_type": "code",
   "execution_count": 10,
   "metadata": {},
   "outputs": [],
   "source": [
    "is_sample = True\n",
    "num_folds = 5\n",
    "args = {'clf__criterion':('mse','friedman_mse','mae','poisson'),\n",
    "         'clf__splitter':('best','random'),\n",
    "         'clf__min_samples_split':(2,5,10,15,20,25,30,35,40,45,50,55,60,65,70,75,80,85,90,95,100),\n",
    "         'clf__min_samples_leaf':(1,2,3,5,10,15,20,25,30,35,40,45,50,55,60,65,70,75,80,85,90,95,100),\n",
    "         'clf__max_features':('sqrt','log2'),\n",
    "         'clf__random_state':([7]),\n",
    "         'clf__min_impurity_decrease':(0,0.1,0.2,0.3,0.4,0.5,0.6,0.7,0.8,0.9,1.0)}"
   ]
  },
  {
   "cell_type": "code",
   "execution_count": 11,
   "metadata": {},
   "outputs": [
    {
     "name": "stdout",
     "output_type": "stream",
     "text": [
      "\n",
      "\n",
      "Running cross fold validation for Decision Tree with _f_regression dataset\n",
      "Fitting 5 folds for each of 85008 candidates, totalling 425040 fits\n"
     ]
    },
    {
     "name": "stderr",
     "output_type": "stream",
     "text": [
      "[Parallel(n_jobs=6)]: Using backend LokyBackend with 6 concurrent workers.\n",
      "[Parallel(n_jobs=6)]: Done  40 tasks      | elapsed:    1.3s\n",
      "[Parallel(n_jobs=6)]: Done 2060 tasks      | elapsed:    4.3s\n",
      "[Parallel(n_jobs=6)]: Done 9228 tasks      | elapsed:   10.3s\n",
      "[Parallel(n_jobs=6)]: Done 20428 tasks      | elapsed:   18.6s\n",
      "[Parallel(n_jobs=6)]: Done 34828 tasks      | elapsed:   29.0s\n",
      "[Parallel(n_jobs=6)]: Done 52428 tasks      | elapsed:   41.0s\n",
      "[Parallel(n_jobs=6)]: Done 73228 tasks      | elapsed:   59.0s\n",
      "[Parallel(n_jobs=6)]: Done 97228 tasks      | elapsed:  1.3min\n",
      "[Parallel(n_jobs=6)]: Done 124428 tasks      | elapsed:  1.7min\n",
      "[Parallel(n_jobs=6)]: Done 154828 tasks      | elapsed:  2.3min\n",
      "[Parallel(n_jobs=6)]: Done 188428 tasks      | elapsed:  2.9min\n",
      "[Parallel(n_jobs=6)]: Done 213336 tasks      | elapsed:  5.1min\n",
      "[Parallel(n_jobs=6)]: Done 214586 tasks      | elapsed:  7.2min\n",
      "[Parallel(n_jobs=6)]: Done 215936 tasks      | elapsed:  9.2min\n",
      "[Parallel(n_jobs=6)]: Done 217386 tasks      | elapsed: 10.8min\n",
      "[Parallel(n_jobs=6)]: Done 218936 tasks      | elapsed: 12.8min\n",
      "[Parallel(n_jobs=6)]: Done 220586 tasks      | elapsed: 14.7min\n",
      "[Parallel(n_jobs=6)]: Done 222336 tasks      | elapsed: 16.2min\n",
      "[Parallel(n_jobs=6)]: Done 224186 tasks      | elapsed: 17.5min\n",
      "[Parallel(n_jobs=6)]: Done 226136 tasks      | elapsed: 18.7min\n",
      "[Parallel(n_jobs=6)]: Done 228186 tasks      | elapsed: 20.1min\n",
      "[Parallel(n_jobs=6)]: Done 230336 tasks      | elapsed: 21.5min\n",
      "[Parallel(n_jobs=6)]: Done 232586 tasks      | elapsed: 22.7min\n",
      "[Parallel(n_jobs=6)]: Done 234936 tasks      | elapsed: 23.6min\n",
      "[Parallel(n_jobs=6)]: Done 244442 tasks      | elapsed: 27.1min\n",
      "[Parallel(n_jobs=6)]: Done 254642 tasks      | elapsed: 30.8min\n",
      "[Parallel(n_jobs=6)]: Done 265242 tasks      | elapsed: 34.7min\n",
      "[Parallel(n_jobs=6)]: Done 268352 tasks      | elapsed: 39.7min\n",
      "[Parallel(n_jobs=6)]: Done 271202 tasks      | elapsed: 43.1min\n",
      "[Parallel(n_jobs=6)]: Done 274152 tasks      | elapsed: 46.5min\n",
      "[Parallel(n_jobs=6)]: Done 277202 tasks      | elapsed: 48.8min\n",
      "[Parallel(n_jobs=6)]: Done 280352 tasks      | elapsed: 50.9min\n",
      "[Parallel(n_jobs=6)]: Done 283602 tasks      | elapsed: 53.0min\n",
      "[Parallel(n_jobs=6)]: Done 286952 tasks      | elapsed: 54.6min\n",
      "[Parallel(n_jobs=6)]: Done 292666 tasks      | elapsed: 56.9min\n",
      "[Parallel(n_jobs=6)]: Done 299766 tasks      | elapsed: 59.5min\n",
      "[Parallel(n_jobs=6)]: Done 307066 tasks      | elapsed: 62.3min\n",
      "[Parallel(n_jobs=6)]: Done 314566 tasks      | elapsed: 65.0min\n",
      "[Parallel(n_jobs=6)]: Done 425040 out of 425040 | elapsed: 67.3min finished\n"
     ]
    },
    {
     "name": "stdout",
     "output_type": "stream",
     "text": [
      "\n",
      "Best score for Decision Tree with _f_regression dataset: 0.7167231707611397\n",
      "\n",
      "Best hyperparameters for Decision Tree with _f_regression dataset:\n",
      "memory : None\n",
      "steps : [('clf', DecisionTreeRegressor(criterion='friedman_mse', max_features='sqrt',\n",
      "                      min_impurity_decrease=0.7, min_samples_leaf=15,\n",
      "                      min_samples_split=35, random_state=7))]\n",
      "verbose : False\n",
      "clf : DecisionTreeRegressor(criterion='friedman_mse', max_features='sqrt',\n",
      "                      min_impurity_decrease=0.7, min_samples_leaf=15,\n",
      "                      min_samples_split=35, random_state=7)\n",
      "clf__ccp_alpha : 0.0\n",
      "clf__criterion : friedman_mse\n",
      "clf__max_depth : None\n",
      "clf__max_features : sqrt\n",
      "clf__max_leaf_nodes : None\n",
      "clf__min_impurity_decrease : 0.7\n",
      "clf__min_impurity_split : None\n",
      "clf__min_samples_leaf : 15\n",
      "clf__min_samples_split : 35\n",
      "clf__min_weight_fraction_leaf : 0.0\n",
      "clf__presort : deprecated\n",
      "clf__random_state : 7\n",
      "clf__splitter : best\n",
      "\n",
      "Prediction scores for Decision Tree using _f_regression :\n",
      "Mean Squared error: 5.804935362408155\n",
      "Mean Absolute error: 1.4913360457293476\n",
      "R^2: 0.7021925720679453\n"
     ]
    }
   ],
   "source": [
    "f_reg_model, f_reg_train_score, f_reg_mse, f_reg_mae, f_reg_r2 = get_best_model(sel_methods[0], args, num_folds, is_sample)"
   ]
  },
  {
   "cell_type": "code",
   "execution_count": 7,
   "metadata": {},
   "outputs": [],
   "source": [
    "# fine tuning of all numeric hyperparameters, all others kept at full range\n",
    "is_sample = True\n",
    "num_folds = 5\n",
    "args = {'clf__criterion':('mse','friedman_mse','mae','poisson'),\n",
    "         'clf__splitter':('best','random'),\n",
    "         'clf__min_samples_split':(30,31,32,33,34,35,36,37,38,39,40),\n",
    "         'clf__min_samples_leaf':(10,11,12,13,14,15,16,17,18,19,20),\n",
    "         'clf__max_features':('sqrt','log2'),\n",
    "         'clf__random_state':([7]),\n",
    "         'clf__min_impurity_decrease':(0.5,0.55,0.6,0.65,0.7,0.75,0.8,0.85,0.9)}"
   ]
  },
  {
   "cell_type": "code",
   "execution_count": 8,
   "metadata": {},
   "outputs": [
    {
     "name": "stdout",
     "output_type": "stream",
     "text": [
      "\n",
      "\n",
      "Running cross fold validation for Decision Tree with _f_regression dataset\n",
      "Fitting 5 folds for each of 17424 candidates, totalling 87120 fits\n"
     ]
    },
    {
     "name": "stderr",
     "output_type": "stream",
     "text": [
      "[Parallel(n_jobs=6)]: Using backend LokyBackend with 6 concurrent workers.\n",
      "[Parallel(n_jobs=6)]: Done  40 tasks      | elapsed:    1.3s\n",
      "[Parallel(n_jobs=6)]: Done 3724 tasks      | elapsed:    4.4s\n",
      "[Parallel(n_jobs=6)]: Done 11724 tasks      | elapsed:   10.2s\n",
      "[Parallel(n_jobs=6)]: Done 22924 tasks      | elapsed:   19.7s\n",
      "[Parallel(n_jobs=6)]: Done 37324 tasks      | elapsed:   38.9s\n",
      "[Parallel(n_jobs=6)]: Done 44358 tasks      | elapsed:  1.1min\n",
      "[Parallel(n_jobs=6)]: Done 45008 tasks      | elapsed:  1.3min\n",
      "[Parallel(n_jobs=6)]: Done 45758 tasks      | elapsed:  1.6min\n",
      "[Parallel(n_jobs=6)]: Done 46608 tasks      | elapsed:  2.0min\n",
      "[Parallel(n_jobs=6)]: Done 47558 tasks      | elapsed:  2.3min\n",
      "[Parallel(n_jobs=6)]: Done 48608 tasks      | elapsed:  2.7min\n",
      "[Parallel(n_jobs=6)]: Done 49758 tasks      | elapsed:  3.2min\n",
      "[Parallel(n_jobs=6)]: Done 51008 tasks      | elapsed:  3.6min\n",
      "[Parallel(n_jobs=6)]: Done 52358 tasks      | elapsed:  4.2min\n",
      "[Parallel(n_jobs=6)]: Done 53808 tasks      | elapsed:  4.7min\n",
      "[Parallel(n_jobs=6)]: Done 55358 tasks      | elapsed:  5.3min\n",
      "[Parallel(n_jobs=6)]: Done 57008 tasks      | elapsed:  5.9min\n",
      "[Parallel(n_jobs=6)]: Done 58758 tasks      | elapsed:  6.6min\n",
      "[Parallel(n_jobs=6)]: Done 60608 tasks      | elapsed:  7.3min\n",
      "[Parallel(n_jobs=6)]: Done 62558 tasks      | elapsed:  8.1min\n",
      "[Parallel(n_jobs=6)]: Done 64608 tasks      | elapsed:  8.8min\n",
      "[Parallel(n_jobs=6)]: Done 87120 out of 87120 | elapsed:  9.3min finished\n"
     ]
    },
    {
     "name": "stdout",
     "output_type": "stream",
     "text": [
      "\n",
      "Best score for Decision Tree with _f_regression dataset: 0.7167231707611397\n",
      "\n",
      "Best hyperparameters for Decision Tree with _f_regression dataset:\n",
      "memory : None\n",
      "steps : [('clf', DecisionTreeRegressor(criterion='friedman_mse', max_features='sqrt',\n",
      "                      min_impurity_decrease=0.7, min_samples_leaf=15,\n",
      "                      min_samples_split=35, random_state=7))]\n",
      "verbose : False\n",
      "clf : DecisionTreeRegressor(criterion='friedman_mse', max_features='sqrt',\n",
      "                      min_impurity_decrease=0.7, min_samples_leaf=15,\n",
      "                      min_samples_split=35, random_state=7)\n",
      "clf__ccp_alpha : 0.0\n",
      "clf__criterion : friedman_mse\n",
      "clf__max_depth : None\n",
      "clf__max_features : sqrt\n",
      "clf__max_leaf_nodes : None\n",
      "clf__min_impurity_decrease : 0.7\n",
      "clf__min_impurity_split : None\n",
      "clf__min_samples_leaf : 15\n",
      "clf__min_samples_split : 35\n",
      "clf__min_weight_fraction_leaf : 0.0\n",
      "clf__presort : deprecated\n",
      "clf__random_state : 7\n",
      "clf__splitter : best\n",
      "\n",
      "Prediction scores for Decision Tree using _f_regression :\n",
      "Mean Squared error: 5.804935362408155\n",
      "Mean Absolute error: 1.4913360457293476\n",
      "R^2: 0.7021925720679453\n"
     ]
    }
   ],
   "source": [
    "f_reg_model, f_reg_train_score, f_reg_mse, f_reg_mae, f_reg_r2 = get_best_model(sel_methods[0], args, num_folds, is_sample)"
   ]
  },
  {
   "cell_type": "code",
   "execution_count": 24,
   "metadata": {},
   "outputs": [],
   "source": [
    "# identical hyperparameters selected, 10-fold cross validation to confirm\n",
    "is_sample = False\n",
    "num_folds = 10\n",
    "args = {'clf__criterion':('mse','friedman_mse','mae','poisson'),\n",
    "         'clf__splitter':('best','random'),\n",
    "         'clf__min_samples_split':(33,34,35,36,37),\n",
    "         'clf__min_samples_leaf':(13,14,15,16,17),\n",
    "         'clf__max_features':('sqrt','log2'),\n",
    "         'clf__random_state':([7]),\n",
    "         'clf__min_impurity_decrease':(0.66,0.67,0.68,0.69,0.7,0.71,0.72,0.73,0.74)}"
   ]
  },
  {
   "cell_type": "code",
   "execution_count": null,
   "metadata": {},
   "outputs": [
    {
     "name": "stdout",
     "output_type": "stream",
     "text": [
      "\n",
      "\n",
      "Running cross fold validation for Decision Tree with _f_regression dataset\n",
      "Fitting 10 folds for each of 3600 candidates, totalling 36000 fits\n"
     ]
    },
    {
     "name": "stderr",
     "output_type": "stream",
     "text": [
      "[Parallel(n_jobs=6)]: Using backend LokyBackend with 6 concurrent workers.\n",
      "[Parallel(n_jobs=6)]: Done  40 tasks      | elapsed:    1.4s\n",
      "[Parallel(n_jobs=6)]: Done 1132 tasks      | elapsed:    5.6s\n",
      "[Parallel(n_jobs=6)]: Done 3132 tasks      | elapsed:   13.0s\n",
      "[Parallel(n_jobs=6)]: Done 5932 tasks      | elapsed:   23.5s\n",
      "[Parallel(n_jobs=6)]: Done 9532 tasks      | elapsed:   38.8s\n",
      "[Parallel(n_jobs=6)]: Done 13932 tasks      | elapsed:  1.1min\n",
      "[Parallel(n_jobs=6)]: Done 18236 tasks      | elapsed:  3.7min\n",
      "[Parallel(n_jobs=6)]: Done 18986 tasks      | elapsed: 10.4min\n",
      "[Parallel(n_jobs=6)]: Done 19836 tasks      | elapsed: 18.0min\n",
      "[Parallel(n_jobs=6)]: Done 20786 tasks      | elapsed: 26.5min\n"
     ]
    }
   ],
   "source": [
    "f_reg_model, f_reg_train_score, f_reg_mse, f_reg_mae, f_reg_r2 = get_best_model(sel_methods[0], args, num_folds, is_sample)"
   ]
  },
  {
   "cell_type": "markdown",
   "metadata": {},
   "source": [
    "<h3>Chi-Squared feature selected dataset<h3>"
   ]
  },
  {
   "cell_type": "code",
   "execution_count": 12,
   "metadata": {},
   "outputs": [],
   "source": [
    "is_sample = True\n",
    "num_folds = 5\n",
    "args = {'clf__criterion':('mse','friedman_mse','mae','poisson'),\n",
    "         'clf__splitter':('best','random'),\n",
    "         'clf__min_samples_split':(2,5,10,15,20,25,30,35,40,45,50,55,60,65,70,75,80,85,90,95,100),\n",
    "         'clf__min_samples_leaf':(1,2,3,5,10,15,20,25,30,35,40,45,50,55,60,65,70,75,80,85,90,95,100),\n",
    "         'clf__max_features':('sqrt','log2'),\n",
    "         'clf__random_state':([7]),\n",
    "         'clf__min_impurity_decrease':(0,0.1,0.2,0.3,0.4,0.5,0.6,0.7,0.8,0.9,1.0)}"
   ]
  },
  {
   "cell_type": "code",
   "execution_count": 13,
   "metadata": {},
   "outputs": [
    {
     "name": "stdout",
     "output_type": "stream",
     "text": [
      "\n",
      "\n",
      "Running cross fold validation for Decision Tree with _chi2 dataset\n",
      "Fitting 5 folds for each of 85008 candidates, totalling 425040 fits\n"
     ]
    },
    {
     "name": "stderr",
     "output_type": "stream",
     "text": [
      "[Parallel(n_jobs=6)]: Using backend LokyBackend with 6 concurrent workers.\n",
      "[Parallel(n_jobs=6)]: Done 100 tasks      | elapsed:    0.2s\n",
      "[Parallel(n_jobs=6)]: Done 4468 tasks      | elapsed:    4.3s\n",
      "[Parallel(n_jobs=6)]: Done 12468 tasks      | elapsed:    9.8s\n",
      "[Parallel(n_jobs=6)]: Done 23668 tasks      | elapsed:   17.0s\n",
      "[Parallel(n_jobs=6)]: Done 38068 tasks      | elapsed:   25.8s\n",
      "[Parallel(n_jobs=6)]: Done 55668 tasks      | elapsed:   37.7s\n",
      "[Parallel(n_jobs=6)]: Done 76468 tasks      | elapsed:   51.5s\n",
      "[Parallel(n_jobs=6)]: Done 100468 tasks      | elapsed:  1.1min\n",
      "[Parallel(n_jobs=6)]: Done 149172 tasks      | elapsed:  1.8min\n",
      "[Parallel(n_jobs=6)]: Done 209972 tasks      | elapsed:  2.6min\n",
      "[Parallel(n_jobs=6)]: Done 214430 tasks      | elapsed:  5.9min\n",
      "[Parallel(n_jobs=6)]: Done 215580 tasks      | elapsed:  7.4min\n",
      "[Parallel(n_jobs=6)]: Done 216830 tasks      | elapsed:  8.3min\n",
      "[Parallel(n_jobs=6)]: Done 218180 tasks      | elapsed:  9.4min\n",
      "[Parallel(n_jobs=6)]: Done 219630 tasks      | elapsed: 10.6min\n",
      "[Parallel(n_jobs=6)]: Done 221180 tasks      | elapsed: 11.8min\n",
      "[Parallel(n_jobs=6)]: Done 222830 tasks      | elapsed: 12.7min\n",
      "[Parallel(n_jobs=6)]: Done 224580 tasks      | elapsed: 13.8min\n",
      "[Parallel(n_jobs=6)]: Done 226430 tasks      | elapsed: 14.8min\n",
      "[Parallel(n_jobs=6)]: Done 228380 tasks      | elapsed: 16.0min\n",
      "[Parallel(n_jobs=6)]: Done 230430 tasks      | elapsed: 17.2min\n",
      "[Parallel(n_jobs=6)]: Done 232580 tasks      | elapsed: 18.3min\n",
      "[Parallel(n_jobs=6)]: Done 234830 tasks      | elapsed: 19.4min\n",
      "[Parallel(n_jobs=6)]: Done 237180 tasks      | elapsed: 20.6min\n",
      "[Parallel(n_jobs=6)]: Done 239630 tasks      | elapsed: 21.8min\n",
      "[Parallel(n_jobs=6)]: Done 242180 tasks      | elapsed: 23.1min\n",
      "[Parallel(n_jobs=6)]: Done 244830 tasks      | elapsed: 24.5min\n",
      "[Parallel(n_jobs=6)]: Done 247580 tasks      | elapsed: 25.8min\n",
      "[Parallel(n_jobs=6)]: Done 250430 tasks      | elapsed: 27.4min\n",
      "[Parallel(n_jobs=6)]: Done 253380 tasks      | elapsed: 28.9min\n",
      "[Parallel(n_jobs=6)]: Done 256430 tasks      | elapsed: 30.4min\n",
      "[Parallel(n_jobs=6)]: Done 259580 tasks      | elapsed: 32.1min\n",
      "[Parallel(n_jobs=6)]: Done 262830 tasks      | elapsed: 33.8min\n",
      "[Parallel(n_jobs=6)]: Done 266180 tasks      | elapsed: 36.4min\n",
      "[Parallel(n_jobs=6)]: Done 269630 tasks      | elapsed: 41.4min\n",
      "[Parallel(n_jobs=6)]: Done 273180 tasks      | elapsed: 44.5min\n",
      "[Parallel(n_jobs=6)]: Done 276830 tasks      | elapsed: 47.0min\n",
      "[Parallel(n_jobs=6)]: Done 280580 tasks      | elapsed: 49.3min\n",
      "[Parallel(n_jobs=6)]: Done 284430 tasks      | elapsed: 51.8min\n",
      "[Parallel(n_jobs=6)]: Done 288380 tasks      | elapsed: 54.0min\n",
      "[Parallel(n_jobs=6)]: Done 292430 tasks      | elapsed: 56.1min\n",
      "[Parallel(n_jobs=6)]: Done 296580 tasks      | elapsed: 58.3min\n",
      "[Parallel(n_jobs=6)]: Done 300830 tasks      | elapsed: 60.4min\n",
      "[Parallel(n_jobs=6)]: Done 305180 tasks      | elapsed: 62.7min\n",
      "[Parallel(n_jobs=6)]: Done 309630 tasks      | elapsed: 64.9min\n",
      "[Parallel(n_jobs=6)]: Done 314180 tasks      | elapsed: 67.2min\n",
      "[Parallel(n_jobs=6)]: Done 318992 tasks      | elapsed: 69.6min\n",
      "[Parallel(n_jobs=6)]: Done 425040 out of 425040 | elapsed: 70.5min finished\n"
     ]
    },
    {
     "name": "stdout",
     "output_type": "stream",
     "text": [
      "\n",
      "Best score for Decision Tree with _chi2 dataset: 0.7264193436761917\n",
      "\n",
      "Best hyperparameters for Decision Tree with _chi2 dataset:\n",
      "memory : None\n",
      "steps : [('clf', DecisionTreeRegressor(criterion='friedman_mse', max_features='sqrt',\n",
      "                      min_impurity_decrease=0.9, min_samples_split=40,\n",
      "                      random_state=7, splitter='random'))]\n",
      "verbose : False\n",
      "clf : DecisionTreeRegressor(criterion='friedman_mse', max_features='sqrt',\n",
      "                      min_impurity_decrease=0.9, min_samples_split=40,\n",
      "                      random_state=7, splitter='random')\n",
      "clf__ccp_alpha : 0.0\n",
      "clf__criterion : friedman_mse\n",
      "clf__max_depth : None\n",
      "clf__max_features : sqrt\n",
      "clf__max_leaf_nodes : None\n",
      "clf__min_impurity_decrease : 0.9\n",
      "clf__min_impurity_split : None\n",
      "clf__min_samples_leaf : 1\n",
      "clf__min_samples_split : 40\n",
      "clf__min_weight_fraction_leaf : 0.0\n",
      "clf__presort : deprecated\n",
      "clf__random_state : 7\n",
      "clf__splitter : random\n",
      "\n",
      "Prediction scores for Decision Tree using _chi2 :\n",
      "Mean Squared error: 5.945830683561426\n",
      "Mean Absolute error: 1.5111815233498125\n",
      "R^2: 0.6949642963713647\n"
     ]
    }
   ],
   "source": [
    "chi2_model, chi2_train_score, chi2_mse, chi2_mae, chi2_r2 = get_best_model(sel_methods[1], args, num_folds, is_sample)"
   ]
  },
  {
   "cell_type": "code",
   "execution_count": 10,
   "metadata": {},
   "outputs": [],
   "source": [
    "# fine tuning of all numeric hyperparameters, all others kept at full range\n",
    "is_sample = True\n",
    "num_folds = 5\n",
    "args = {'clf__criterion':('mse','friedman_mse','mae','poisson'),\n",
    "         'clf__splitter':('best','random'),\n",
    "         'clf__min_samples_split':(35,36,37,38,39,40,41,42,43,44,45),\n",
    "         'clf__min_samples_leaf':(1,2,3,4,5,6,7,8,9,10),\n",
    "         'clf__max_features':('sqrt','log2'),\n",
    "         'clf__random_state':([7]),\n",
    "         'clf__min_impurity_decrease':(0.7,0.75,0.8,0.85,0.9,0.95,1.0)}"
   ]
  },
  {
   "cell_type": "code",
   "execution_count": 11,
   "metadata": {},
   "outputs": [
    {
     "name": "stdout",
     "output_type": "stream",
     "text": [
      "\n",
      "\n",
      "Running cross fold validation for Decision Tree with _chi2 dataset\n",
      "Fitting 5 folds for each of 12320 candidates, totalling 61600 fits\n"
     ]
    },
    {
     "name": "stderr",
     "output_type": "stream",
     "text": [
      "[Parallel(n_jobs=6)]: Using backend LokyBackend with 6 concurrent workers.\n",
      "[Parallel(n_jobs=6)]: Done  40 tasks      | elapsed:    1.3s\n",
      "[Parallel(n_jobs=6)]: Done 6668 tasks      | elapsed:    6.2s\n",
      "[Parallel(n_jobs=6)]: Done 22668 tasks      | elapsed:   20.0s\n",
      "[Parallel(n_jobs=6)]: Done 32174 tasks      | elapsed:  1.1min\n",
      "[Parallel(n_jobs=6)]: Done 32624 tasks      | elapsed:  1.4min\n",
      "[Parallel(n_jobs=6)]: Done 33174 tasks      | elapsed:  1.6min\n",
      "[Parallel(n_jobs=6)]: Done 33824 tasks      | elapsed:  2.0min\n",
      "[Parallel(n_jobs=6)]: Done 34574 tasks      | elapsed:  2.3min\n",
      "[Parallel(n_jobs=6)]: Done 35424 tasks      | elapsed:  2.7min\n",
      "[Parallel(n_jobs=6)]: Done 36374 tasks      | elapsed:  3.2min\n",
      "[Parallel(n_jobs=6)]: Done 37424 tasks      | elapsed:  3.7min\n",
      "[Parallel(n_jobs=6)]: Done 38574 tasks      | elapsed:  4.3min\n",
      "[Parallel(n_jobs=6)]: Done 39824 tasks      | elapsed:  4.9min\n",
      "[Parallel(n_jobs=6)]: Done 41174 tasks      | elapsed:  5.5min\n",
      "[Parallel(n_jobs=6)]: Done 42624 tasks      | elapsed:  6.2min\n",
      "[Parallel(n_jobs=6)]: Done 44174 tasks      | elapsed:  7.0min\n",
      "[Parallel(n_jobs=6)]: Done 45824 tasks      | elapsed:  7.8min\n"
     ]
    },
    {
     "name": "stdout",
     "output_type": "stream",
     "text": [
      "\n",
      "Best score for Decision Tree with _chi2 dataset: 0.7264193436761917\n",
      "\n",
      "Best hyperparameters for Decision Tree with _chi2 dataset:\n",
      "memory : None\n",
      "steps : [('clf', DecisionTreeRegressor(criterion='friedman_mse', max_features='sqrt',\n",
      "                      min_impurity_decrease=0.9, min_samples_split=40,\n",
      "                      random_state=7, splitter='random'))]\n",
      "verbose : False\n",
      "clf : DecisionTreeRegressor(criterion='friedman_mse', max_features='sqrt',\n",
      "                      min_impurity_decrease=0.9, min_samples_split=40,\n",
      "                      random_state=7, splitter='random')\n",
      "clf__ccp_alpha : 0.0\n",
      "clf__criterion : friedman_mse\n",
      "clf__max_depth : None\n",
      "clf__max_features : sqrt\n",
      "clf__max_leaf_nodes : None\n",
      "clf__min_impurity_decrease : 0.9\n",
      "clf__min_impurity_split : None\n",
      "clf__min_samples_leaf : 1\n",
      "clf__min_samples_split : 40\n",
      "clf__min_weight_fraction_leaf : 0.0\n",
      "clf__presort : deprecated\n",
      "clf__random_state : 7\n",
      "clf__splitter : random\n",
      "\n",
      "Prediction scores for Decision Tree using _chi2 :\n",
      "Mean Squared error: 5.945830683561426\n",
      "Mean Absolute error: 1.5111815233498125\n",
      "R^2: 0.6949642963713647\n"
     ]
    },
    {
     "name": "stderr",
     "output_type": "stream",
     "text": [
      "[Parallel(n_jobs=6)]: Done 61600 out of 61600 | elapsed:  8.1min finished\n"
     ]
    }
   ],
   "source": [
    "chi2_model, chi2_train_score, chi2_mse, chi2_mae, chi2_r2 = get_best_model(sel_methods[1], args, num_folds, is_sample)"
   ]
  },
  {
   "cell_type": "code",
   "execution_count": null,
   "metadata": {},
   "outputs": [],
   "source": [
    "# identical parameters selected, 10-fold validation to confirm\n",
    "is_sample = False\n",
    "num_folds = 10\n",
    "args = {'clf__criterion':('mse','friedman_mse','mae','poisson'),\n",
    "         'clf__splitter':('best','random'),\n",
    "         'clf__min_samples_split':(38,39,40,41,42),\n",
    "         'clf__min_samples_leaf':(1,2,3,4,5),\n",
    "         'clf__max_features':('sqrt','log2'),\n",
    "         'clf__random_state':([7]),\n",
    "         'clf__min_impurity_decrease':(0.85,0.86,0.87,0.89,0.9,0.91,0.92,0.93,0.94,0.95)}"
   ]
  },
  {
   "cell_type": "code",
   "execution_count": null,
   "metadata": {},
   "outputs": [],
   "source": [
    "chi2_model, chi2_train_score, chi2_mse, chi2_mae, chi2_r2 = get_best_model(sel_methods[1], args, num_folds, is_sample)"
   ]
  },
  {
   "cell_type": "markdown",
   "metadata": {},
   "source": [
    "<h3>AdaBoost feature selected dataset<h3>"
   ]
  },
  {
   "cell_type": "code",
   "execution_count": 14,
   "metadata": {},
   "outputs": [],
   "source": [
    "is_sample = True\n",
    "num_folds = 5\n",
    "args = {'clf__criterion':('mse','friedman_mse','mae','poisson'),\n",
    "         'clf__splitter':('best','random'),\n",
    "         'clf__min_samples_split':(2,5,10,15,20,25,30,35,40,45,50,55,60,65,70,75,80,85,90,95,100),\n",
    "         'clf__min_samples_leaf':(1,2,3,5,10,15,20,25,30,35,40,45,50,55,60,65,70,75,80,85,90,95,100),\n",
    "         'clf__max_features':('sqrt','log2'),\n",
    "         'clf__random_state':([7]),\n",
    "         'clf__min_impurity_decrease':(0,0.1,0.2,0.3,0.4,0.5,0.6,0.7,0.8,0.9,1.0)}"
   ]
  },
  {
   "cell_type": "code",
   "execution_count": 15,
   "metadata": {},
   "outputs": [
    {
     "name": "stdout",
     "output_type": "stream",
     "text": [
      "\n",
      "\n",
      "Running cross fold validation for Decision Tree with _adaboost dataset\n",
      "Fitting 5 folds for each of 85008 candidates, totalling 425040 fits\n"
     ]
    },
    {
     "name": "stderr",
     "output_type": "stream",
     "text": [
      "[Parallel(n_jobs=6)]: Using backend LokyBackend with 6 concurrent workers.\n",
      "[Parallel(n_jobs=6)]: Done 100 tasks      | elapsed:    0.2s\n",
      "[Parallel(n_jobs=6)]: Done 2420 tasks      | elapsed:    3.7s\n",
      "[Parallel(n_jobs=6)]: Done 7668 tasks      | elapsed:    9.3s\n",
      "[Parallel(n_jobs=6)]: Done 18868 tasks      | elapsed:   19.1s\n",
      "[Parallel(n_jobs=6)]: Done 33268 tasks      | elapsed:   30.8s\n",
      "[Parallel(n_jobs=6)]: Done 50868 tasks      | elapsed:   45.0s\n",
      "[Parallel(n_jobs=6)]: Done 71668 tasks      | elapsed:  1.1min\n",
      "[Parallel(n_jobs=6)]: Done 95668 tasks      | elapsed:  1.4min\n",
      "[Parallel(n_jobs=6)]: Done 122868 tasks      | elapsed:  1.9min\n",
      "[Parallel(n_jobs=6)]: Done 153268 tasks      | elapsed:  2.6min\n",
      "[Parallel(n_jobs=6)]: Done 186868 tasks      | elapsed:  3.3min\n",
      "[Parallel(n_jobs=6)]: Done 213288 tasks      | elapsed:  5.5min\n",
      "[Parallel(n_jobs=6)]: Done 214538 tasks      | elapsed:  7.9min\n",
      "[Parallel(n_jobs=6)]: Done 215888 tasks      | elapsed: 10.2min\n",
      "[Parallel(n_jobs=6)]: Done 217338 tasks      | elapsed: 12.6min\n",
      "[Parallel(n_jobs=6)]: Done 218888 tasks      | elapsed: 14.7min\n",
      "[Parallel(n_jobs=6)]: Done 220538 tasks      | elapsed: 16.8min\n",
      "[Parallel(n_jobs=6)]: Done 222288 tasks      | elapsed: 19.0min\n",
      "[Parallel(n_jobs=6)]: Done 224138 tasks      | elapsed: 20.6min\n",
      "[Parallel(n_jobs=6)]: Done 226088 tasks      | elapsed: 22.2min\n",
      "[Parallel(n_jobs=6)]: Done 228138 tasks      | elapsed: 23.7min\n",
      "[Parallel(n_jobs=6)]: Done 230288 tasks      | elapsed: 25.1min\n",
      "[Parallel(n_jobs=6)]: Done 232538 tasks      | elapsed: 26.4min\n",
      "[Parallel(n_jobs=6)]: Done 234888 tasks      | elapsed: 27.3min\n",
      "[Parallel(n_jobs=6)]: Done 237338 tasks      | elapsed: 28.3min\n",
      "[Parallel(n_jobs=6)]: Done 239888 tasks      | elapsed: 29.3min\n",
      "[Parallel(n_jobs=6)]: Done 242538 tasks      | elapsed: 30.4min\n",
      "[Parallel(n_jobs=6)]: Done 245288 tasks      | elapsed: 31.4min\n",
      "[Parallel(n_jobs=6)]: Done 248138 tasks      | elapsed: 32.6min\n",
      "[Parallel(n_jobs=6)]: Done 251088 tasks      | elapsed: 33.7min\n",
      "[Parallel(n_jobs=6)]: Done 254138 tasks      | elapsed: 34.9min\n",
      "[Parallel(n_jobs=6)]: Done 257288 tasks      | elapsed: 36.1min\n",
      "[Parallel(n_jobs=6)]: Done 260538 tasks      | elapsed: 37.4min\n",
      "[Parallel(n_jobs=6)]: Done 263888 tasks      | elapsed: 38.7min\n",
      "[Parallel(n_jobs=6)]: Done 267338 tasks      | elapsed: 42.7min\n",
      "[Parallel(n_jobs=6)]: Done 270888 tasks      | elapsed: 48.4min\n",
      "[Parallel(n_jobs=6)]: Done 274538 tasks      | elapsed: 52.9min\n",
      "[Parallel(n_jobs=6)]: Done 278288 tasks      | elapsed: 56.3min\n",
      "[Parallel(n_jobs=6)]: Done 282138 tasks      | elapsed: 59.2min\n",
      "[Parallel(n_jobs=6)]: Done 286088 tasks      | elapsed: 61.5min\n",
      "[Parallel(n_jobs=6)]: Done 290138 tasks      | elapsed: 63.0min\n",
      "[Parallel(n_jobs=6)]: Done 294288 tasks      | elapsed: 64.6min\n",
      "[Parallel(n_jobs=6)]: Done 298538 tasks      | elapsed: 66.3min\n",
      "[Parallel(n_jobs=6)]: Done 302888 tasks      | elapsed: 67.9min\n",
      "[Parallel(n_jobs=6)]: Done 307338 tasks      | elapsed: 69.7min\n",
      "[Parallel(n_jobs=6)]: Done 311888 tasks      | elapsed: 71.4min\n",
      "[Parallel(n_jobs=6)]: Done 316538 tasks      | elapsed: 73.2min\n",
      "[Parallel(n_jobs=6)]: Done 425040 out of 425040 | elapsed: 74.9min finished\n"
     ]
    },
    {
     "name": "stdout",
     "output_type": "stream",
     "text": [
      "\n",
      "Best score for Decision Tree with _adaboost dataset: 0.7137107458554487\n",
      "\n",
      "Best hyperparameters for Decision Tree with _adaboost dataset:\n",
      "memory : None\n",
      "steps : [('clf', DecisionTreeRegressor(criterion='friedman_mse', max_features='sqrt',\n",
      "                      min_impurity_decrease=0.2, min_samples_leaf=5,\n",
      "                      min_samples_split=35, random_state=7, splitter='random'))]\n",
      "verbose : False\n",
      "clf : DecisionTreeRegressor(criterion='friedman_mse', max_features='sqrt',\n",
      "                      min_impurity_decrease=0.2, min_samples_leaf=5,\n",
      "                      min_samples_split=35, random_state=7, splitter='random')\n",
      "clf__ccp_alpha : 0.0\n",
      "clf__criterion : friedman_mse\n",
      "clf__max_depth : None\n",
      "clf__max_features : sqrt\n",
      "clf__max_leaf_nodes : None\n",
      "clf__min_impurity_decrease : 0.2\n",
      "clf__min_impurity_split : None\n",
      "clf__min_samples_leaf : 5\n",
      "clf__min_samples_split : 35\n",
      "clf__min_weight_fraction_leaf : 0.0\n",
      "clf__presort : deprecated\n",
      "clf__random_state : 7\n",
      "clf__splitter : random\n",
      "\n",
      "Prediction scores for Decision Tree using _adaboost :\n",
      "Mean Squared error: 5.799139270004136\n",
      "Mean Absolute error: 1.5139475518521621\n",
      "R^2: 0.7024899258304136\n"
     ]
    }
   ],
   "source": [
    "ada_model, ada_train_score, ada_mse, ada_mae, ada_r2 = get_best_model(sel_methods[2], args, num_folds, is_sample)"
   ]
  },
  {
   "cell_type": "code",
   "execution_count": null,
   "metadata": {},
   "outputs": [],
   "source": [
    "# fine tuning of all numeric hyperparameters, all others kept at full range\n",
    "is_sample = True\n",
    "num_folds = 5\n",
    "args = {'clf__criterion':('mse','friedman_mse','mae','poisson'),\n",
    "         'clf__splitter':('best','random'),\n",
    "         'clf__min_samples_split':(30,31,32,33,34,35,36,37,38,39,40),\n",
    "         'clf__min_samples_leaf':(1,2,3,4,5,6,7,8,9,10),\n",
    "         'clf__max_features':('sqrt','log2'),\n",
    "         'clf__random_state':([7]),\n",
    "         'clf__min_impurity_decrease':(0,0.05,0.1,0.15,0.2,0.25,0.3,0.35,0.4)}"
   ]
  },
  {
   "cell_type": "code",
   "execution_count": null,
   "metadata": {},
   "outputs": [],
   "source": [
    "ada_model, ada_train_score, ada_mse, ada_mae, ada_r2 = get_best_model(sel_methods[2], args, num_folds, is_sample)"
   ]
  },
  {
   "cell_type": "code",
   "execution_count": null,
   "metadata": {},
   "outputs": [],
   "source": [
    "# identical parameters selceted, 10-fold validation to confirm\n",
    "is_sample = False\n",
    "num_folds = 10\n",
    "args = {'clf__criterion':('mse','friedman_mse','mae','poisson'),\n",
    "         'clf__splitter':('best','random'),\n",
    "         'clf__min_samples_split':(33,34,35,36,37),\n",
    "         'clf__min_samples_leaf':(3,4,5,6,7),\n",
    "         'clf__max_features':('sqrt','log2'),\n",
    "         'clf__random_state':([7]),\n",
    "         'clf__min_impurity_decrease':(0.16,0.17,0.18,0.19,0.2,0.21,0.22,0.23,0.24)}"
   ]
  },
  {
   "cell_type": "code",
   "execution_count": null,
   "metadata": {},
   "outputs": [],
   "source": [
    "ada_model, ada_train_score, ada_mse, ada_mae, ada_r2 = get_best_model(sel_methods[2], args, num_folds, is_sample)"
   ]
  },
  {
   "cell_type": "markdown",
   "metadata": {},
   "source": [
    "<h3>Equal business and crime feature selected dataset<h3>"
   ]
  },
  {
   "cell_type": "code",
   "execution_count": 16,
   "metadata": {},
   "outputs": [],
   "source": [
    "is_sample = True\n",
    "num_folds = 5\n",
    "args = {'clf__criterion':('mse','friedman_mse','mae','poisson'),\n",
    "         'clf__splitter':('best','random'),\n",
    "         'clf__min_samples_split':(2,5,10,15,20,25,30,35,40,45,50,55,60,65,70,75,80,85,90,95,100),\n",
    "         'clf__min_samples_leaf':(1,2,3,5,10,15,20,25,30,35,40,45,50,55,60,65,70,75,80,85,90,95,100),\n",
    "         'clf__max_features':('sqrt','log2'),\n",
    "         'clf__random_state':([7]),\n",
    "         'clf__min_impurity_decrease':(0,0.1,0.2,0.3,0.4,0.5,0.6,0.7,0.8,0.9,1.0)}"
   ]
  },
  {
   "cell_type": "code",
   "execution_count": 17,
   "metadata": {},
   "outputs": [
    {
     "name": "stdout",
     "output_type": "stream",
     "text": [
      "\n",
      "\n",
      "Running cross fold validation for Decision Tree with _equal_crime_and_business dataset\n",
      "Fitting 5 folds for each of 85008 candidates, totalling 425040 fits\n"
     ]
    },
    {
     "name": "stderr",
     "output_type": "stream",
     "text": [
      "[Parallel(n_jobs=6)]: Using backend LokyBackend with 6 concurrent workers.\n",
      "[Parallel(n_jobs=6)]: Done 100 tasks      | elapsed:    0.2s\n",
      "[Parallel(n_jobs=6)]: Done 4468 tasks      | elapsed:    5.1s\n",
      "[Parallel(n_jobs=6)]: Done 12468 tasks      | elapsed:   11.2s\n",
      "[Parallel(n_jobs=6)]: Done 23668 tasks      | elapsed:   19.7s\n",
      "[Parallel(n_jobs=6)]: Done 38068 tasks      | elapsed:   29.3s\n",
      "[Parallel(n_jobs=6)]: Done 55668 tasks      | elapsed:   42.2s\n",
      "[Parallel(n_jobs=6)]: Done 76468 tasks      | elapsed:   58.0s\n",
      "[Parallel(n_jobs=6)]: Done 100468 tasks      | elapsed:  1.2min\n",
      "[Parallel(n_jobs=6)]: Done 127668 tasks      | elapsed:  1.7min\n",
      "[Parallel(n_jobs=6)]: Done 158068 tasks      | elapsed:  2.2min\n",
      "[Parallel(n_jobs=6)]: Done 191668 tasks      | elapsed:  2.8min\n",
      "[Parallel(n_jobs=6)]: Done 213438 tasks      | elapsed:  5.1min\n",
      "[Parallel(n_jobs=6)]: Done 214688 tasks      | elapsed:  6.5min\n",
      "[Parallel(n_jobs=6)]: Done 216038 tasks      | elapsed:  7.9min\n",
      "[Parallel(n_jobs=6)]: Done 217488 tasks      | elapsed:  9.4min\n",
      "[Parallel(n_jobs=6)]: Done 219038 tasks      | elapsed: 10.7min\n",
      "[Parallel(n_jobs=6)]: Done 220688 tasks      | elapsed: 12.1min\n",
      "[Parallel(n_jobs=6)]: Done 222438 tasks      | elapsed: 13.5min\n",
      "[Parallel(n_jobs=6)]: Done 224288 tasks      | elapsed: 14.7min\n",
      "[Parallel(n_jobs=6)]: Done 226238 tasks      | elapsed: 15.8min\n",
      "[Parallel(n_jobs=6)]: Done 228288 tasks      | elapsed: 17.2min\n",
      "[Parallel(n_jobs=6)]: Done 230438 tasks      | elapsed: 18.5min\n",
      "[Parallel(n_jobs=6)]: Done 232688 tasks      | elapsed: 19.7min\n",
      "[Parallel(n_jobs=6)]: Done 242016 tasks      | elapsed: 22.8min\n",
      "[Parallel(n_jobs=6)]: Done 251816 tasks      | elapsed: 26.1min\n",
      "[Parallel(n_jobs=6)]: Done 262016 tasks      | elapsed: 29.5min\n",
      "[Parallel(n_jobs=6)]: Done 267432 tasks      | elapsed: 33.6min\n",
      "[Parallel(n_jobs=6)]: Done 270182 tasks      | elapsed: 36.5min\n",
      "[Parallel(n_jobs=6)]: Done 273032 tasks      | elapsed: 39.0min\n",
      "[Parallel(n_jobs=6)]: Done 275982 tasks      | elapsed: 41.4min\n",
      "[Parallel(n_jobs=6)]: Done 279032 tasks      | elapsed: 43.3min\n",
      "[Parallel(n_jobs=6)]: Done 282182 tasks      | elapsed: 45.3min\n",
      "[Parallel(n_jobs=6)]: Done 285432 tasks      | elapsed: 47.3min\n",
      "[Parallel(n_jobs=6)]: Done 297476 tasks      | elapsed: 51.3min\n",
      "[Parallel(n_jobs=6)]: Done 311276 tasks      | elapsed: 56.0min\n",
      "[Parallel(n_jobs=6)]: Done 425040 out of 425040 | elapsed: 59.3min finished\n"
     ]
    },
    {
     "name": "stdout",
     "output_type": "stream",
     "text": [
      "\n",
      "Best score for Decision Tree with _equal_crime_and_business dataset: 0.7049996252479721\n",
      "\n",
      "Best hyperparameters for Decision Tree with _equal_crime_and_business dataset:\n",
      "memory : None\n",
      "steps : [('clf', DecisionTreeRegressor(max_features='sqrt', min_impurity_decrease=0,\n",
      "                      min_samples_leaf=20, min_samples_split=85,\n",
      "                      random_state=7))]\n",
      "verbose : False\n",
      "clf : DecisionTreeRegressor(max_features='sqrt', min_impurity_decrease=0,\n",
      "                      min_samples_leaf=20, min_samples_split=85,\n",
      "                      random_state=7)\n",
      "clf__ccp_alpha : 0.0\n",
      "clf__criterion : mse\n",
      "clf__max_depth : None\n",
      "clf__max_features : sqrt\n",
      "clf__max_leaf_nodes : None\n",
      "clf__min_impurity_decrease : 0\n",
      "clf__min_impurity_split : None\n",
      "clf__min_samples_leaf : 20\n",
      "clf__min_samples_split : 85\n",
      "clf__min_weight_fraction_leaf : 0.0\n",
      "clf__presort : deprecated\n",
      "clf__random_state : 7\n",
      "clf__splitter : best\n",
      "\n",
      "Prediction scores for Decision Tree using _equal_crime_and_business :\n",
      "Mean Squared error: 5.881862685331064\n",
      "Mean Absolute error: 1.4998892848671987\n",
      "R^2: 0.6982460116418416\n"
     ]
    }
   ],
   "source": [
    "equal_model, equal_train_score, equal_mse, equal_mae, equal_r2 = get_best_model(sel_methods[3], args, num_folds, is_sample)"
   ]
  },
  {
   "cell_type": "code",
   "execution_count": 14,
   "metadata": {},
   "outputs": [],
   "source": [
    "# fine tuning of all numeric hyperparameters, all others kept at full range\n",
    "is_sample = True\n",
    "num_folds = 5\n",
    "args = {'clf__criterion':('mse','friedman_mse','mae','poisson'),\n",
    "         'clf__splitter':('best','random'),\n",
    "         'clf__min_samples_split':(80,81,82,83,84,85,86,87,88,89,90),\n",
    "         'clf__min_samples_leaf':(15,16,17,18,19,20,21,22,23,24,25),\n",
    "         'clf__max_features':('sqrt','log2'),\n",
    "         'clf__random_state':([7]),\n",
    "         'clf__min_impurity_decrease':(0,0.01,0.02,0.03,0.04,0.05,0.06,0.07,0.08,0.09,0.1,0.11,0.12,0.13,0.14,0.15)}"
   ]
  },
  {
   "cell_type": "code",
   "execution_count": 15,
   "metadata": {},
   "outputs": [
    {
     "name": "stdout",
     "output_type": "stream",
     "text": [
      "\n",
      "\n",
      "Running cross fold validation for Decision Tree with _equal_crime_and_business dataset\n",
      "Fitting 5 folds for each of 28160 candidates, totalling 140800 fits\n"
     ]
    },
    {
     "name": "stderr",
     "output_type": "stream",
     "text": [
      "[Parallel(n_jobs=6)]: Using backend LokyBackend with 6 concurrent workers.\n",
      "[Parallel(n_jobs=6)]: Done 100 tasks      | elapsed:    0.1s\n",
      "[Parallel(n_jobs=6)]: Done 4468 tasks      | elapsed:    4.0s\n",
      "[Parallel(n_jobs=6)]: Done 12468 tasks      | elapsed:   10.2s\n",
      "[Parallel(n_jobs=6)]: Done 23668 tasks      | elapsed:   19.2s\n",
      "[Parallel(n_jobs=6)]: Done 38068 tasks      | elapsed:   30.7s\n",
      "[Parallel(n_jobs=6)]: Done 55668 tasks      | elapsed:   48.1s\n",
      "[Parallel(n_jobs=6)]: Done 71024 tasks      | elapsed:  1.7min\n",
      "[Parallel(n_jobs=6)]: Done 71774 tasks      | elapsed:  2.5min\n",
      "[Parallel(n_jobs=6)]: Done 72624 tasks      | elapsed:  3.2min\n",
      "[Parallel(n_jobs=6)]: Done 73574 tasks      | elapsed:  4.0min\n",
      "[Parallel(n_jobs=6)]: Done 74624 tasks      | elapsed:  4.9min\n",
      "[Parallel(n_jobs=6)]: Done 75774 tasks      | elapsed:  5.9min\n",
      "[Parallel(n_jobs=6)]: Done 77024 tasks      | elapsed:  7.0min\n",
      "[Parallel(n_jobs=6)]: Done 78374 tasks      | elapsed:  8.1min\n",
      "[Parallel(n_jobs=6)]: Done 79824 tasks      | elapsed:  9.3min\n",
      "[Parallel(n_jobs=6)]: Done 81374 tasks      | elapsed: 10.6min\n",
      "[Parallel(n_jobs=6)]: Done 83024 tasks      | elapsed: 11.9min\n",
      "[Parallel(n_jobs=6)]: Done 84774 tasks      | elapsed: 13.3min\n",
      "[Parallel(n_jobs=6)]: Done 86624 tasks      | elapsed: 14.7min\n",
      "[Parallel(n_jobs=6)]: Done 88574 tasks      | elapsed: 16.4min\n",
      "[Parallel(n_jobs=6)]: Done 90624 tasks      | elapsed: 18.2min\n",
      "[Parallel(n_jobs=6)]: Done 92774 tasks      | elapsed: 20.1min\n",
      "[Parallel(n_jobs=6)]: Done 95024 tasks      | elapsed: 21.9min\n",
      "[Parallel(n_jobs=6)]: Done 97374 tasks      | elapsed: 23.9min\n",
      "[Parallel(n_jobs=6)]: Done 99824 tasks      | elapsed: 25.8min\n",
      "[Parallel(n_jobs=6)]: Done 102374 tasks      | elapsed: 27.9min\n",
      "[Parallel(n_jobs=6)]: Done 105024 tasks      | elapsed: 29.9min\n",
      "[Parallel(n_jobs=6)]: Done 140800 out of 140800 | elapsed: 30.6min finished\n"
     ]
    },
    {
     "name": "stdout",
     "output_type": "stream",
     "text": [
      "\n",
      "Best score for Decision Tree with _equal_crime_and_business dataset: 0.7073025252843951\n",
      "\n",
      "Best hyperparameters for Decision Tree with _equal_crime_and_business dataset:\n",
      "memory : None\n",
      "steps : [('clf', DecisionTreeRegressor(criterion='friedman_mse', max_features='sqrt',\n",
      "                      min_impurity_decrease=0.01, min_samples_leaf=20,\n",
      "                      min_samples_split=84, random_state=7))]\n",
      "verbose : False\n",
      "clf : DecisionTreeRegressor(criterion='friedman_mse', max_features='sqrt',\n",
      "                      min_impurity_decrease=0.01, min_samples_leaf=20,\n",
      "                      min_samples_split=84, random_state=7)\n",
      "clf__ccp_alpha : 0.0\n",
      "clf__criterion : friedman_mse\n",
      "clf__max_depth : None\n",
      "clf__max_features : sqrt\n",
      "clf__max_leaf_nodes : None\n",
      "clf__min_impurity_decrease : 0.01\n",
      "clf__min_impurity_split : None\n",
      "clf__min_samples_leaf : 20\n",
      "clf__min_samples_split : 84\n",
      "clf__min_weight_fraction_leaf : 0.0\n",
      "clf__presort : deprecated\n",
      "clf__random_state : 7\n",
      "clf__splitter : best\n",
      "\n",
      "Prediction scores for Decision Tree using _equal_crime_and_business :\n",
      "Mean Squared error: 5.932338820782252\n",
      "Mean Absolute error: 1.5022108539058165\n",
      "R^2: 0.6956564620375489\n"
     ]
    }
   ],
   "source": [
    "equal_model, equal_train_score, equal_mse, equal_mae, equal_r2 = get_best_model(sel_methods[3], args, num_folds, is_sample)"
   ]
  },
  {
   "cell_type": "code",
   "execution_count": null,
   "metadata": {},
   "outputs": [],
   "source": [
    "# slight variation in hyperparameters, 10 fold-validation to confirm\n",
    "is_sample = False\n",
    "num_folds = 10\n",
    "args = {'clf__criterion':('mse','friedman_mse','mae','poisson'),\n",
    "         'clf__splitter':('best','random'),\n",
    "         'clf__min_samples_split':(82,83,84,85,86),\n",
    "         'clf__min_samples_leaf':(18,19,20,21,22),\n",
    "         'clf__max_features':('sqrt','log2'),\n",
    "         'clf__random_state':([7]),\n",
    "         'clf__min_impurity_decrease':(0,0.01,0.02,0.03,0.04,0.05,0.06,0.07,0.08,0.09,0.1)}"
   ]
  },
  {
   "cell_type": "code",
   "execution_count": null,
   "metadata": {},
   "outputs": [],
   "source": [
    "equal_model, equal_train_score, equal_mse, equal_mae, equal_r2 = get_best_model(sel_methods[3], args, num_folds, is_sample)"
   ]
  },
  {
   "cell_type": "markdown",
   "metadata": {},
   "source": [
    "<h3>Business only feature selected dataset<h3>"
   ]
  },
  {
   "cell_type": "code",
   "execution_count": 18,
   "metadata": {},
   "outputs": [],
   "source": [
    "is_sample = True\n",
    "num_folds = 5\n",
    "args = {'clf__criterion':('mse','friedman_mse','mae','poisson'),\n",
    "         'clf__splitter':('best','random'),\n",
    "         'clf__min_samples_split':(2,5,10,15,20,25,30,35,40,45,50,55,60,65,70,75,80,85,90,95,100),\n",
    "         'clf__min_samples_leaf':(1,2,3,5,10,15,20,25,30,35,40,45,50,55,60,65,70,75,80,85,90,95,100),\n",
    "         'clf__max_features':('sqrt','log2'),\n",
    "         'clf__random_state':([7]),\n",
    "         'clf__min_impurity_decrease':(0,0.1,0.2,0.3,0.4,0.5,0.6,0.7,0.8,0.9,1.0)}"
   ]
  },
  {
   "cell_type": "code",
   "execution_count": 19,
   "metadata": {},
   "outputs": [
    {
     "name": "stdout",
     "output_type": "stream",
     "text": [
      "\n",
      "\n",
      "Running cross fold validation for Decision Tree with _all_business dataset\n",
      "Fitting 5 folds for each of 85008 candidates, totalling 425040 fits\n"
     ]
    },
    {
     "name": "stderr",
     "output_type": "stream",
     "text": [
      "[Parallel(n_jobs=6)]: Using backend LokyBackend with 6 concurrent workers.\n",
      "[Parallel(n_jobs=6)]: Done 100 tasks      | elapsed:    0.2s\n",
      "[Parallel(n_jobs=6)]: Done 4468 tasks      | elapsed:    4.5s\n",
      "[Parallel(n_jobs=6)]: Done 12468 tasks      | elapsed:   10.5s\n",
      "[Parallel(n_jobs=6)]: Done 23668 tasks      | elapsed:   18.1s\n",
      "[Parallel(n_jobs=6)]: Done 38068 tasks      | elapsed:   27.4s\n",
      "[Parallel(n_jobs=6)]: Done 55668 tasks      | elapsed:   39.4s\n",
      "[Parallel(n_jobs=6)]: Done 76468 tasks      | elapsed:   53.7s\n",
      "[Parallel(n_jobs=6)]: Done 100468 tasks      | elapsed:  1.1min\n",
      "[Parallel(n_jobs=6)]: Done 127668 tasks      | elapsed:  1.5min\n",
      "[Parallel(n_jobs=6)]: Done 158068 tasks      | elapsed:  2.0min\n",
      "[Parallel(n_jobs=6)]: Done 191668 tasks      | elapsed:  2.5min\n",
      "[Parallel(n_jobs=6)]: Done 213438 tasks      | elapsed:  4.9min\n",
      "[Parallel(n_jobs=6)]: Done 214688 tasks      | elapsed:  6.0min\n",
      "[Parallel(n_jobs=6)]: Done 216038 tasks      | elapsed:  7.2min\n",
      "[Parallel(n_jobs=6)]: Done 217488 tasks      | elapsed:  8.3min\n",
      "[Parallel(n_jobs=6)]: Done 219038 tasks      | elapsed:  9.2min\n",
      "[Parallel(n_jobs=6)]: Done 220688 tasks      | elapsed: 10.1min\n",
      "[Parallel(n_jobs=6)]: Done 222438 tasks      | elapsed: 11.0min\n",
      "[Parallel(n_jobs=6)]: Done 227996 tasks      | elapsed: 12.9min\n",
      "[Parallel(n_jobs=6)]: Done 235796 tasks      | elapsed: 15.5min\n",
      "[Parallel(n_jobs=6)]: Done 243996 tasks      | elapsed: 18.4min\n",
      "[Parallel(n_jobs=6)]: Done 252596 tasks      | elapsed: 21.4min\n",
      "[Parallel(n_jobs=6)]: Done 261596 tasks      | elapsed: 24.5min\n",
      "[Parallel(n_jobs=6)]: Done 267036 tasks      | elapsed: 28.4min\n",
      "[Parallel(n_jobs=6)]: Done 269486 tasks      | elapsed: 30.6min\n",
      "[Parallel(n_jobs=6)]: Done 272036 tasks      | elapsed: 32.4min\n",
      "[Parallel(n_jobs=6)]: Done 274686 tasks      | elapsed: 33.8min\n",
      "[Parallel(n_jobs=6)]: Done 278674 tasks      | elapsed: 35.3min\n",
      "[Parallel(n_jobs=6)]: Done 284374 tasks      | elapsed: 37.2min\n",
      "[Parallel(n_jobs=6)]: Done 290274 tasks      | elapsed: 39.3min\n",
      "[Parallel(n_jobs=6)]: Done 296374 tasks      | elapsed: 41.4min\n",
      "[Parallel(n_jobs=6)]: Done 302674 tasks      | elapsed: 43.5min\n",
      "[Parallel(n_jobs=6)]: Done 309174 tasks      | elapsed: 45.7min\n",
      "[Parallel(n_jobs=6)]: Done 315874 tasks      | elapsed: 48.1min\n",
      "[Parallel(n_jobs=6)]: Done 425040 out of 425040 | elapsed: 49.8min finished\n"
     ]
    },
    {
     "name": "stdout",
     "output_type": "stream",
     "text": [
      "\n",
      "Best score for Decision Tree with _all_business dataset: 0.5610770916295005\n",
      "\n",
      "Best hyperparameters for Decision Tree with _all_business dataset:\n",
      "memory : None\n",
      "steps : [('clf', DecisionTreeRegressor(criterion='friedman_mse', max_features='sqrt',\n",
      "                      min_impurity_decrease=0.4, min_samples_leaf=15,\n",
      "                      min_samples_split=60, random_state=7))]\n",
      "verbose : False\n",
      "clf : DecisionTreeRegressor(criterion='friedman_mse', max_features='sqrt',\n",
      "                      min_impurity_decrease=0.4, min_samples_leaf=15,\n",
      "                      min_samples_split=60, random_state=7)\n",
      "clf__ccp_alpha : 0.0\n",
      "clf__criterion : friedman_mse\n",
      "clf__max_depth : None\n",
      "clf__max_features : sqrt\n",
      "clf__max_leaf_nodes : None\n",
      "clf__min_impurity_decrease : 0.4\n",
      "clf__min_impurity_split : None\n",
      "clf__min_samples_leaf : 15\n",
      "clf__min_samples_split : 60\n",
      "clf__min_weight_fraction_leaf : 0.0\n",
      "clf__presort : deprecated\n",
      "clf__random_state : 7\n",
      "clf__splitter : best\n",
      "\n",
      "Prediction scores for Decision Tree using _all_business :\n",
      "Mean Squared error: 10.405714122352027\n",
      "Mean Absolute error: 1.822536463530672\n",
      "R^2: 0.4661613325374998\n"
     ]
    }
   ],
   "source": [
    "bus_model, bus_train_score, bus_mse, bus_mae, bus_r2 = get_best_model(sel_methods[4], args, num_folds, is_sample)"
   ]
  },
  {
   "cell_type": "code",
   "execution_count": 16,
   "metadata": {},
   "outputs": [],
   "source": [
    "# fine tuning of all numeric hyperparameters, all others kept at full range\n",
    "is_sample = True\n",
    "num_folds = 5\n",
    "args = {'clf__criterion':('mse','friedman_mse','mae','poisson'),\n",
    "         'clf__splitter':('best','random'),\n",
    "         'clf__min_samples_split':(55,56,57,58,59,60,61,62,63,64,65),\n",
    "         'clf__min_samples_leaf':(10,11,12,13,14,15,16,17,18,19,20),\n",
    "         'clf__max_features':('sqrt','log2'),\n",
    "         'clf__random_state':([7]),\n",
    "         'clf__min_impurity_decrease':(0.2,0.25,0.3,0.35,0.4,0.45,0.5,0.55,0.6)}"
   ]
  },
  {
   "cell_type": "code",
   "execution_count": 17,
   "metadata": {},
   "outputs": [
    {
     "name": "stdout",
     "output_type": "stream",
     "text": [
      "\n",
      "\n",
      "Running cross fold validation for Decision Tree with _all_business dataset\n",
      "Fitting 5 folds for each of 17424 candidates, totalling 87120 fits\n"
     ]
    },
    {
     "name": "stderr",
     "output_type": "stream",
     "text": [
      "[Parallel(n_jobs=6)]: Using backend LokyBackend with 6 concurrent workers.\n",
      "[Parallel(n_jobs=6)]: Done 100 tasks      | elapsed:    0.2s\n",
      "[Parallel(n_jobs=6)]: Done 8180 tasks      | elapsed:    5.7s\n",
      "[Parallel(n_jobs=6)]: Done 24180 tasks      | elapsed:   16.7s\n",
      "[Parallel(n_jobs=6)]: Done 44622 tasks      | elapsed:   55.2s\n",
      "[Parallel(n_jobs=6)]: Done 46298 tasks      | elapsed:  1.4min\n",
      "[Parallel(n_jobs=6)]: Done 48498 tasks      | elapsed:  2.2min\n",
      "[Parallel(n_jobs=6)]: Done 51098 tasks      | elapsed:  3.0min\n",
      "[Parallel(n_jobs=6)]: Done 54098 tasks      | elapsed:  4.0min\n",
      "[Parallel(n_jobs=6)]: Done 57498 tasks      | elapsed:  5.1min\n",
      "[Parallel(n_jobs=6)]: Done 61298 tasks      | elapsed:  6.3min\n",
      "[Parallel(n_jobs=6)]: Done 65654 tasks      | elapsed:  7.6min\n",
      "[Parallel(n_jobs=6)]: Done 87120 out of 87120 | elapsed:  7.8min finished\n"
     ]
    },
    {
     "name": "stdout",
     "output_type": "stream",
     "text": [
      "\n",
      "Best score for Decision Tree with _all_business dataset: 0.5610770916295005\n",
      "\n",
      "Best hyperparameters for Decision Tree with _all_business dataset:\n",
      "memory : None\n",
      "steps : [('clf', DecisionTreeRegressor(criterion='friedman_mse', max_features='sqrt',\n",
      "                      min_impurity_decrease=0.4, min_samples_leaf=15,\n",
      "                      min_samples_split=60, random_state=7))]\n",
      "verbose : False\n",
      "clf : DecisionTreeRegressor(criterion='friedman_mse', max_features='sqrt',\n",
      "                      min_impurity_decrease=0.4, min_samples_leaf=15,\n",
      "                      min_samples_split=60, random_state=7)\n",
      "clf__ccp_alpha : 0.0\n",
      "clf__criterion : friedman_mse\n",
      "clf__max_depth : None\n",
      "clf__max_features : sqrt\n",
      "clf__max_leaf_nodes : None\n",
      "clf__min_impurity_decrease : 0.4\n",
      "clf__min_impurity_split : None\n",
      "clf__min_samples_leaf : 15\n",
      "clf__min_samples_split : 60\n",
      "clf__min_weight_fraction_leaf : 0.0\n",
      "clf__presort : deprecated\n",
      "clf__random_state : 7\n",
      "clf__splitter : best\n",
      "\n",
      "Prediction scores for Decision Tree using _all_business :\n",
      "Mean Squared error: 10.405714122352027\n",
      "Mean Absolute error: 1.822536463530672\n",
      "R^2: 0.4661613325374998\n"
     ]
    }
   ],
   "source": [
    "bus_model, bus_train_score, bus_mse, bus_mae, bus_r2 = get_best_model(sel_methods[4], args, num_folds, is_sample)"
   ]
  },
  {
   "cell_type": "code",
   "execution_count": null,
   "metadata": {},
   "outputs": [],
   "source": [
    "# identical hyperparameters selected, 10-fold validation to confirm\n",
    "is_sample = False\n",
    "num_folds = 10\n",
    "args = {'clf__criterion':('mse','friedman_mse','mae','poisson'),\n",
    "         'clf__splitter':('best','random'),\n",
    "         'clf__min_samples_split':(58,59,60,61,62),\n",
    "         'clf__min_samples_leaf':(13,14,15,16,17),\n",
    "         'clf__max_features':('sqrt','log2'),\n",
    "         'clf__random_state':([7]),\n",
    "         'clf__min_impurity_decrease':(0.3,0.37,0.38,0.39,0.4,0.41,0.42,0.43,0.44)}"
   ]
  },
  {
   "cell_type": "code",
   "execution_count": null,
   "metadata": {},
   "outputs": [],
   "source": [
    "bus_model, bus_train_score, bus_mse, bus_mae, bus_r2 = get_best_model(sel_methods[4], args, num_folds, is_sample)"
   ]
  },
  {
   "cell_type": "code",
   "execution_count": 20,
   "metadata": {},
   "outputs": [],
   "source": [
    "#  argument for pruning\n",
    "#  'clf__ccp_alpha':(0,0.01,0.02,0.05,0.1,0.2,0.3,0.4,0.5),"
   ]
  }
 ],
 "metadata": {
  "kernelspec": {
   "display_name": "Python 3",
   "language": "python",
   "name": "python3"
  },
  "language_info": {
   "codemirror_mode": {
    "name": "ipython",
    "version": 3
   },
   "file_extension": ".py",
   "mimetype": "text/x-python",
   "name": "python",
   "nbconvert_exporter": "python",
   "pygments_lexer": "ipython3",
   "version": "3.9.0"
  }
 },
 "nbformat": 4,
 "nbformat_minor": 4
}
