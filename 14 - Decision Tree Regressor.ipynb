{
 "cells": [
  {
   "cell_type": "code",
   "execution_count": 44,
   "metadata": {},
   "outputs": [],
   "source": [
    "import numpy as np\n",
    "import pandas as pd\n",
    "import matplotlib.pyplot as plt\n",
    "%matplotlib inline\n",
    "import seaborn as sns\n",
    "import sklearn\n",
    "from sklearn.tree import DecisionTreeRegressor\n",
    "from sklearn.metrics import mean_squared_error, r2_score, mean_absolute_error\n",
    "from sklearn.pipeline import Pipeline\n",
    "from sklearn.model_selection import GridSearchCV\n",
    "import pickle"
   ]
  },
  {
   "cell_type": "code",
   "execution_count": 45,
   "metadata": {},
   "outputs": [],
   "source": [
    "y_test = pd.read_csv('y_test.csv')\n",
    "file = open(\"Selection Methods\",\"rb\")\n",
    "sel_methods = np.load(file)\n",
    "model_name = \"decision_tree\"\n",
    "display_name = \"Decision Tree\""
   ]
  },
  {
   "cell_type": "code",
   "execution_count": 46,
   "metadata": {},
   "outputs": [],
   "source": [
    "def get_best_model(method, args, _cv, is_sample):\n",
    "    sample_string = ''\n",
    "    if (is_sample):\n",
    "        sample_string = '_sample'\n",
    "    y_train = pd.read_csv('y_train'+ sample_string + '.csv')    \n",
    "    method_string = method\n",
    "    if (method == ''):\n",
    "        method_string = \"no feature selection\"\n",
    "    print('\\n\\nRunning cross fold validation for',display_name,'with',method_string,'dataset')\n",
    "    x_train = pd.read_csv('x_train' + method + sample_string + '.csv').values\n",
    "    x_test = pd.read_csv('x_test' + method + '.csv').values\n",
    "    pipe = Pipeline([('clf', DecisionTreeRegressor())])\n",
    "    grid = GridSearchCV(pipe, args, cv = _cv, verbose = 1, scoring = 'r2', n_jobs=6)\n",
    "    grid.fit(x_train, y_train.values.ravel())\n",
    "    print('\\nBest score for',display_name,'with',method_string,\"dataset:\",grid.best_score_)\n",
    "    best_args = grid.best_estimator_.get_params()\n",
    "    print('\\nBest hyperparameters for',display_name,'with',method_string,'dataset:')\n",
    "    for arg in best_args:\n",
    "        print(arg,\":\",best_args[arg])\n",
    "    y_test_predict = grid.predict(x_test)\n",
    "    mse = mean_squared_error(y_test,y_test_predict)\n",
    "    mae = mean_absolute_error(y_test,y_test_predict)\n",
    "    r2 = r2_score(y_test,y_test_predict)\n",
    "    print('\\nPrediction scores for',display_name,'using',method_string,':')\n",
    "    print('Mean Squared error:',mse)\n",
    "    print('Mean Absolute error:',mae)\n",
    "    print('R^2:',r2)\n",
    "    return grid.best_estimator_,grid.best_score_,mse,mae,r2"
   ]
  },
  {
   "cell_type": "code",
   "execution_count": null,
   "metadata": {},
   "outputs": [],
   "source": [
    "print(sel_methods)"
   ]
  },
  {
   "cell_type": "markdown",
   "metadata": {},
   "source": [
    "<h3>F-Regression feature selected dataset<h3>"
   ]
  },
  {
   "cell_type": "code",
   "execution_count": 49,
   "metadata": {},
   "outputs": [],
   "source": [
    "is_sample = True\n",
    "num_folds = 5\n",
    " args = {'clf__criterion':('mse','friedman_mse','mae','poisson'),\n",
    "         'clf__splitter':('best','random'),\n",
    "         'clf__min_samples_split':(2,5,10,15,20,25,30,35,40,45,50,55,60,65,70,75,80,85,90,95,100),\n",
    "         'clf__min_samples_leaf':(1,2,3,5,10,15,20,25,30,35,40,45,50,55,60,65,70,75,80,85,90,95,100),\n",
    "         'clf__max_features':('sqrt','log2'),\n",
    "         'clf__random_state':([7]),\n",
    "         'clf__min_impurity_decrease':(0,0.1,0.2,0.3,0.4,0.5,0.6,0.7,0.8,0.9,1.0)}"
   ]
  },
  {
   "cell_type": "code",
   "execution_count": null,
   "metadata": {},
   "outputs": [],
   "source": [
    "f_reg_model, f_reg_train_score, f_reg_mse, f_reg_mae, f_reg_r2 = get_best_model(sel_methods[0], args, num_folds, is_sample)"
   ]
  },
  {
   "cell_type": "markdown",
   "metadata": {},
   "source": [
    "<h3>Chi-Squared feature selected dataset<h3>"
   ]
  },
  {
   "cell_type": "code",
   "execution_count": null,
   "metadata": {},
   "outputs": [],
   "source": [
    "is_sample = True\n",
    "num_folds = 5\n",
    " args = {'clf__criterion':('mse','friedman_mse','mae','poisson'),\n",
    "         'clf__splitter':('best','random'),\n",
    "         'clf__min_samples_split':(2,5,10,15,20,25,30,35,40,45,50,55,60,65,70,75,80,85,90,95,100),\n",
    "         'clf__min_samples_leaf':(1,2,3,5,10,15,20,25,30,35,40,45,50,55,60,65,70,75,80,85,90,95,100),\n",
    "         'clf__max_features':('sqrt','log2'),\n",
    "         'clf__random_state':([7]),\n",
    "         'clf__min_impurity_decrease':(0,0.1,0.2,0.3,0.4,0.5,0.6,0.7,0.8,0.9,1.0)}"
   ]
  },
  {
   "cell_type": "code",
   "execution_count": null,
   "metadata": {},
   "outputs": [],
   "source": [
    "chi2_model, chi2_train_score, chi2_mse, chi2_mae, chi2_r2 = get_best_model(sel_methods[1], args, num_folds, is_sample)"
   ]
  },
  {
   "cell_type": "markdown",
   "metadata": {},
   "source": [
    "<h3>AdaBoost feature selected dataset<h3>"
   ]
  },
  {
   "cell_type": "code",
   "execution_count": null,
   "metadata": {},
   "outputs": [],
   "source": [
    "is_sample = True\n",
    "num_folds = 5\n",
    " args = {'clf__criterion':('mse','friedman_mse','mae','poisson'),\n",
    "         'clf__splitter':('best','random'),\n",
    "         'clf__min_samples_split':(2,5,10,15,20,25,30,35,40,45,50,55,60,65,70,75,80,85,90,95,100),\n",
    "         'clf__min_samples_leaf':(1,2,3,5,10,15,20,25,30,35,40,45,50,55,60,65,70,75,80,85,90,95,100),\n",
    "         'clf__max_features':('sqrt','log2'),\n",
    "         'clf__random_state':([7]),\n",
    "         'clf__min_impurity_decrease':(0,0.1,0.2,0.3,0.4,0.5,0.6,0.7,0.8,0.9,1.0)}"
   ]
  },
  {
   "cell_type": "code",
   "execution_count": 50,
   "metadata": {},
   "outputs": [
    {
     "name": "stdout",
     "output_type": "stream",
     "text": [
      "\n",
      "\n",
      "Running cross fold validation for decision tree with _mutual_info dataset\n",
      "Fitting 5 folds for each of 85008 candidates, totalling 425040 fits\n"
     ]
    },
    {
     "name": "stderr",
     "output_type": "stream",
     "text": [
      "[Parallel(n_jobs=6)]: Using backend LokyBackend with 6 concurrent workers.\n",
      "[Parallel(n_jobs=6)]: Done 100 tasks      | elapsed:    0.2s\n",
      "[Parallel(n_jobs=6)]: Done 2420 tasks      | elapsed:    3.7s\n",
      "[Parallel(n_jobs=6)]: Done 9780 tasks      | elapsed:   11.1s\n",
      "[Parallel(n_jobs=6)]: Done 32180 tasks      | elapsed:   28.1s\n",
      "[Parallel(n_jobs=6)]: Done 60980 tasks      | elapsed:   50.6s\n",
      "[Parallel(n_jobs=6)]: Done 96180 tasks      | elapsed:  1.3min\n",
      "[Parallel(n_jobs=6)]: Done 137780 tasks      | elapsed:  2.0min\n",
      "[Parallel(n_jobs=6)]: Done 185780 tasks      | elapsed:  2.9min\n",
      "[Parallel(n_jobs=6)]: Done 213804 tasks      | elapsed:  5.9min\n",
      "[Parallel(n_jobs=6)]: Done 214754 tasks      | elapsed:  7.6min\n",
      "[Parallel(n_jobs=6)]: Done 215804 tasks      | elapsed:  9.4min\n",
      "[Parallel(n_jobs=6)]: Done 216954 tasks      | elapsed: 11.3min\n",
      "[Parallel(n_jobs=6)]: Done 218204 tasks      | elapsed: 12.9min\n",
      "[Parallel(n_jobs=6)]: Done 219554 tasks      | elapsed: 14.5min\n",
      "[Parallel(n_jobs=6)]: Done 221004 tasks      | elapsed: 16.2min\n",
      "[Parallel(n_jobs=6)]: Done 222554 tasks      | elapsed: 17.9min\n",
      "[Parallel(n_jobs=6)]: Done 224204 tasks      | elapsed: 19.2min\n",
      "[Parallel(n_jobs=6)]: Done 225954 tasks      | elapsed: 20.7min\n",
      "[Parallel(n_jobs=6)]: Done 227804 tasks      | elapsed: 22.1min\n",
      "[Parallel(n_jobs=6)]: Done 229754 tasks      | elapsed: 23.5min\n",
      "[Parallel(n_jobs=6)]: Done 231804 tasks      | elapsed: 24.9min\n",
      "[Parallel(n_jobs=6)]: Done 233954 tasks      | elapsed: 25.7min\n",
      "[Parallel(n_jobs=6)]: Done 236204 tasks      | elapsed: 26.7min\n",
      "[Parallel(n_jobs=6)]: Done 238554 tasks      | elapsed: 27.7min\n",
      "[Parallel(n_jobs=6)]: Done 241004 tasks      | elapsed: 28.6min\n",
      "[Parallel(n_jobs=6)]: Done 243554 tasks      | elapsed: 29.7min\n",
      "[Parallel(n_jobs=6)]: Done 246204 tasks      | elapsed: 30.7min\n",
      "[Parallel(n_jobs=6)]: Done 248954 tasks      | elapsed: 31.7min\n",
      "[Parallel(n_jobs=6)]: Done 251804 tasks      | elapsed: 32.9min\n",
      "[Parallel(n_jobs=6)]: Done 254754 tasks      | elapsed: 34.0min\n",
      "[Parallel(n_jobs=6)]: Done 257804 tasks      | elapsed: 35.2min\n",
      "[Parallel(n_jobs=6)]: Done 260954 tasks      | elapsed: 36.4min\n",
      "[Parallel(n_jobs=6)]: Done 264204 tasks      | elapsed: 37.7min\n",
      "[Parallel(n_jobs=6)]: Done 267554 tasks      | elapsed: 41.8min\n",
      "[Parallel(n_jobs=6)]: Done 271004 tasks      | elapsed: 47.4min\n",
      "[Parallel(n_jobs=6)]: Done 274554 tasks      | elapsed: 51.5min\n",
      "[Parallel(n_jobs=6)]: Done 278204 tasks      | elapsed: 54.8min\n",
      "[Parallel(n_jobs=6)]: Done 281954 tasks      | elapsed: 57.7min\n",
      "[Parallel(n_jobs=6)]: Done 285804 tasks      | elapsed: 60.0min\n",
      "[Parallel(n_jobs=6)]: Done 289754 tasks      | elapsed: 61.6min\n",
      "[Parallel(n_jobs=6)]: Done 293804 tasks      | elapsed: 63.2min\n",
      "[Parallel(n_jobs=6)]: Done 297954 tasks      | elapsed: 64.9min\n",
      "[Parallel(n_jobs=6)]: Done 302204 tasks      | elapsed: 66.6min\n",
      "[Parallel(n_jobs=6)]: Done 306554 tasks      | elapsed: 68.3min\n",
      "[Parallel(n_jobs=6)]: Done 311004 tasks      | elapsed: 70.1min\n",
      "[Parallel(n_jobs=6)]: Done 315554 tasks      | elapsed: 71.9min\n",
      "[Parallel(n_jobs=6)]: Done 425040 out of 425040 | elapsed: 74.0min finished\n"
     ]
    },
    {
     "name": "stdout",
     "output_type": "stream",
     "text": [
      "\n",
      "Best score for decision tree with _mutual_info dataset: 0.7274892860218688\n",
      "\n",
      "Best hyperparameters for decision tree with _mutual_info dataset:\n",
      "memory : None\n",
      "steps : [('clf', DecisionTreeRegressor(criterion='friedman_mse', max_features='sqrt',\n",
      "                      min_impurity_decrease=0.1, min_samples_leaf=35,\n",
      "                      min_samples_split=95, random_state=7))]\n",
      "verbose : False\n",
      "clf : DecisionTreeRegressor(criterion='friedman_mse', max_features='sqrt',\n",
      "                      min_impurity_decrease=0.1, min_samples_leaf=35,\n",
      "                      min_samples_split=95, random_state=7)\n",
      "clf__ccp_alpha : 0.0\n",
      "clf__criterion : friedman_mse\n",
      "clf__max_depth : None\n",
      "clf__max_features : sqrt\n",
      "clf__max_leaf_nodes : None\n",
      "clf__min_impurity_decrease : 0.1\n",
      "clf__min_impurity_split : None\n",
      "clf__min_samples_leaf : 35\n",
      "clf__min_samples_split : 95\n",
      "clf__min_weight_fraction_leaf : 0.0\n",
      "clf__presort : deprecated\n",
      "clf__random_state : 7\n",
      "clf__splitter : best\n",
      "\n",
      "Prediction scores for Decision Tree using _mutual_info :\n",
      "Mean Squared error: 5.613410810998628\n",
      "Mean Absolute error: 1.4803180141734718\n",
      "R^2: 0.7120182515079744\n"
     ]
    }
   ],
   "source": [
    "ada_model, ada_train_score, ada_mse, ada_mae, ada_r2 = get_best_model(sel_methods[2], args, num_folds, is_sample)"
   ]
  },
  {
   "cell_type": "markdown",
   "metadata": {},
   "source": [
    "<h3>Equal business and crime feature selected dataset<h3>"
   ]
  },
  {
   "cell_type": "code",
   "execution_count": null,
   "metadata": {},
   "outputs": [],
   "source": [
    "is_sample = True\n",
    "num_folds = 5\n",
    " args = {'clf__criterion':('mse','friedman_mse','mae','poisson'),\n",
    "         'clf__splitter':('best','random'),\n",
    "         'clf__min_samples_split':(2,5,10,15,20,25,30,35,40,45,50,55,60,65,70,75,80,85,90,95,100),\n",
    "         'clf__min_samples_leaf':(1,2,3,5,10,15,20,25,30,35,40,45,50,55,60,65,70,75,80,85,90,95,100),\n",
    "         'clf__max_features':('sqrt','log2'),\n",
    "         'clf__random_state':([7]),\n",
    "         'clf__min_impurity_decrease':(0,0.1,0.2,0.3,0.4,0.5,0.6,0.7,0.8,0.9,1.0)}"
   ]
  },
  {
   "cell_type": "code",
   "execution_count": null,
   "metadata": {},
   "outputs": [
    {
     "name": "stderr",
     "output_type": "stream",
     "text": [
      "exception calling callback for <Future at 0x173165fe490 state=finished returned list>\n",
      "Traceback (most recent call last):\n",
      "  File \"c:\\users\\chris\\appdata\\local\\programs\\python\\python39\\lib\\site-packages\\joblib\\externals\\loky\\_base.py\", line 625, in _invoke_callbacks\n",
      "    callback(self)\n",
      "  File \"c:\\users\\chris\\appdata\\local\\programs\\python\\python39\\lib\\site-packages\\joblib\\parallel.py\", line 366, in __call__\n",
      "    self.parallel.dispatch_next()\n",
      "  File \"c:\\users\\chris\\appdata\\local\\programs\\python\\python39\\lib\\site-packages\\joblib\\parallel.py\", line 799, in dispatch_next\n",
      "    if not self.dispatch_one_batch(self._original_iterator):\n",
      "  File \"c:\\users\\chris\\appdata\\local\\programs\\python\\python39\\lib\\site-packages\\joblib\\parallel.py\", line 866, in dispatch_one_batch\n",
      "    self._dispatch(tasks)\n",
      "  File \"c:\\users\\chris\\appdata\\local\\programs\\python\\python39\\lib\\site-packages\\joblib\\parallel.py\", line 784, in _dispatch\n",
      "    job = self._backend.apply_async(batch, callback=cb)\n",
      "  File \"c:\\users\\chris\\appdata\\local\\programs\\python\\python39\\lib\\site-packages\\joblib\\_parallel_backends.py\", line 531, in apply_async\n",
      "    future = self._workers.submit(SafeFunction(func))\n",
      "AttributeError: 'NoneType' object has no attribute 'submit'\n",
      "exception calling callback for <Future at 0x17316940b20 state=finished returned list>\n",
      "Traceback (most recent call last):\n",
      "  File \"c:\\users\\chris\\appdata\\local\\programs\\python\\python39\\lib\\site-packages\\joblib\\externals\\loky\\_base.py\", line 625, in _invoke_callbacks\n",
      "    callback(self)\n",
      "  File \"c:\\users\\chris\\appdata\\local\\programs\\python\\python39\\lib\\site-packages\\joblib\\parallel.py\", line 366, in __call__\n",
      "    self.parallel.dispatch_next()\n",
      "  File \"c:\\users\\chris\\appdata\\local\\programs\\python\\python39\\lib\\site-packages\\joblib\\parallel.py\", line 799, in dispatch_next\n",
      "    if not self.dispatch_one_batch(self._original_iterator):\n",
      "  File \"c:\\users\\chris\\appdata\\local\\programs\\python\\python39\\lib\\site-packages\\joblib\\parallel.py\", line 866, in dispatch_one_batch\n",
      "    self._dispatch(tasks)\n",
      "  File \"c:\\users\\chris\\appdata\\local\\programs\\python\\python39\\lib\\site-packages\\joblib\\parallel.py\", line 784, in _dispatch\n",
      "    job = self._backend.apply_async(batch, callback=cb)\n",
      "  File \"c:\\users\\chris\\appdata\\local\\programs\\python\\python39\\lib\\site-packages\\joblib\\_parallel_backends.py\", line 531, in apply_async\n",
      "    future = self._workers.submit(SafeFunction(func))\n",
      "AttributeError: 'NoneType' object has no attribute 'submit'\n",
      "exception calling callback for <Future at 0x1731a0e6820 state=finished returned list>\n",
      "Traceback (most recent call last):\n",
      "  File \"c:\\users\\chris\\appdata\\local\\programs\\python\\python39\\lib\\site-packages\\joblib\\externals\\loky\\_base.py\", line 625, in _invoke_callbacks\n",
      "    callback(self)\n",
      "  File \"c:\\users\\chris\\appdata\\local\\programs\\python\\python39\\lib\\site-packages\\joblib\\parallel.py\", line 366, in __call__\n",
      "    self.parallel.dispatch_next()\n",
      "  File \"c:\\users\\chris\\appdata\\local\\programs\\python\\python39\\lib\\site-packages\\joblib\\parallel.py\", line 799, in dispatch_next\n",
      "    if not self.dispatch_one_batch(self._original_iterator):\n",
      "  File \"c:\\users\\chris\\appdata\\local\\programs\\python\\python39\\lib\\site-packages\\joblib\\parallel.py\", line 866, in dispatch_one_batch\n",
      "    self._dispatch(tasks)\n",
      "  File \"c:\\users\\chris\\appdata\\local\\programs\\python\\python39\\lib\\site-packages\\joblib\\parallel.py\", line 784, in _dispatch\n",
      "    job = self._backend.apply_async(batch, callback=cb)\n",
      "  File \"c:\\users\\chris\\appdata\\local\\programs\\python\\python39\\lib\\site-packages\\joblib\\_parallel_backends.py\", line 531, in apply_async\n",
      "    future = self._workers.submit(SafeFunction(func))\n",
      "AttributeError: 'NoneType' object has no attribute 'submit'\n",
      "exception calling callback for <Future at 0x17319c5bcd0 state=finished returned list>\n",
      "Traceback (most recent call last):\n",
      "  File \"c:\\users\\chris\\appdata\\local\\programs\\python\\python39\\lib\\site-packages\\joblib\\externals\\loky\\_base.py\", line 625, in _invoke_callbacks\n",
      "    callback(self)\n",
      "  File \"c:\\users\\chris\\appdata\\local\\programs\\python\\python39\\lib\\site-packages\\joblib\\parallel.py\", line 366, in __call__\n",
      "    self.parallel.dispatch_next()\n",
      "  File \"c:\\users\\chris\\appdata\\local\\programs\\python\\python39\\lib\\site-packages\\joblib\\parallel.py\", line 799, in dispatch_next\n",
      "    if not self.dispatch_one_batch(self._original_iterator):\n",
      "  File \"c:\\users\\chris\\appdata\\local\\programs\\python\\python39\\lib\\site-packages\\joblib\\parallel.py\", line 866, in dispatch_one_batch\n",
      "    self._dispatch(tasks)\n",
      "  File \"c:\\users\\chris\\appdata\\local\\programs\\python\\python39\\lib\\site-packages\\joblib\\parallel.py\", line 784, in _dispatch\n",
      "    job = self._backend.apply_async(batch, callback=cb)\n",
      "  File \"c:\\users\\chris\\appdata\\local\\programs\\python\\python39\\lib\\site-packages\\joblib\\_parallel_backends.py\", line 531, in apply_async\n",
      "    future = self._workers.submit(SafeFunction(func))\n",
      "AttributeError: 'NoneType' object has no attribute 'submit'\n",
      "exception calling callback for <Future at 0x173161b4c40 state=finished returned list>\n",
      "Traceback (most recent call last):\n",
      "  File \"c:\\users\\chris\\appdata\\local\\programs\\python\\python39\\lib\\site-packages\\joblib\\externals\\loky\\_base.py\", line 625, in _invoke_callbacks\n",
      "    callback(self)\n",
      "  File \"c:\\users\\chris\\appdata\\local\\programs\\python\\python39\\lib\\site-packages\\joblib\\parallel.py\", line 366, in __call__\n",
      "    self.parallel.dispatch_next()\n",
      "  File \"c:\\users\\chris\\appdata\\local\\programs\\python\\python39\\lib\\site-packages\\joblib\\parallel.py\", line 799, in dispatch_next\n",
      "    if not self.dispatch_one_batch(self._original_iterator):\n",
      "  File \"c:\\users\\chris\\appdata\\local\\programs\\python\\python39\\lib\\site-packages\\joblib\\parallel.py\", line 866, in dispatch_one_batch\n",
      "    self._dispatch(tasks)\n",
      "  File \"c:\\users\\chris\\appdata\\local\\programs\\python\\python39\\lib\\site-packages\\joblib\\parallel.py\", line 784, in _dispatch\n",
      "    job = self._backend.apply_async(batch, callback=cb)\n",
      "  File \"c:\\users\\chris\\appdata\\local\\programs\\python\\python39\\lib\\site-packages\\joblib\\_parallel_backends.py\", line 531, in apply_async\n",
      "    future = self._workers.submit(SafeFunction(func))\n",
      "AttributeError: 'NoneType' object has no attribute 'submit'\n"
     ]
    }
   ],
   "source": [
    "equal_model, equal_train_score, equal_mse, equal_mae, equal_r2 = get_best_model(sel_methods[3], args, num_folds, is_sample)"
   ]
  },
  {
   "cell_type": "markdown",
   "metadata": {},
   "source": [
    "<h3>Business only feature selected dataset<h3>"
   ]
  },
  {
   "cell_type": "code",
   "execution_count": null,
   "metadata": {},
   "outputs": [],
   "source": [
    "is_sample = True\n",
    "num_folds = 5\n",
    " args = {'clf__criterion':('mse','friedman_mse','mae','poisson'),\n",
    "         'clf__splitter':('best','random'),\n",
    "         'clf__min_samples_split':(2,5,10,15,20,25,30,35,40,45,50,55,60,65,70,75,80,85,90,95,100),\n",
    "         'clf__min_samples_leaf':(1,2,3,5,10,15,20,25,30,35,40,45,50,55,60,65,70,75,80,85,90,95,100),\n",
    "         'clf__max_features':('sqrt','log2'),\n",
    "         'clf__random_state':([7]),\n",
    "         'clf__min_impurity_decrease':(0,0.1,0.2,0.3,0.4,0.5,0.6,0.7,0.8,0.9,1.0)}"
   ]
  },
  {
   "cell_type": "code",
   "execution_count": null,
   "metadata": {},
   "outputs": [],
   "source": [
    "bus_model, bus_train_score, bus_mse, bus_mae, bus_r2 = get_best_model(sel_methods[4], args, num_folds, is_sample)"
   ]
  },
  {
   "cell_type": "code",
   "execution_count": null,
   "metadata": {},
   "outputs": [],
   "source": [
    "#  argument for pruning\n",
    "#  'clf__ccp_alpha':(0,0.01,0.02,0.05,0.1,0.2,0.3,0.4,0.5),"
   ]
  }
 ],
 "metadata": {
  "kernelspec": {
   "display_name": "Python 3",
   "language": "python",
   "name": "python3"
  },
  "language_info": {
   "codemirror_mode": {
    "name": "ipython",
    "version": 3
   },
   "file_extension": ".py",
   "mimetype": "text/x-python",
   "name": "python",
   "nbconvert_exporter": "python",
   "pygments_lexer": "ipython3",
   "version": "3.9.0"
  }
 },
 "nbformat": 4,
 "nbformat_minor": 4
}
