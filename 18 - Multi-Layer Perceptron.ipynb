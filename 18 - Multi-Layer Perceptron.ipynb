{
 "cells": [
  {
   "cell_type": "code",
   "execution_count": 1,
   "metadata": {},
   "outputs": [],
   "source": [
    "import numpy as np\n",
    "from numpy import arange\n",
    "import pandas as pd\n",
    "import matplotlib.pyplot as plt\n",
    "%matplotlib inline\n",
    "import sklearn\n",
    "from sklearn.metrics import mean_squared_error, r2_score, mean_absolute_error\n",
    "from sklearn.pipeline import Pipeline\n",
    "from sklearn.model_selection import GridSearchCV\n",
    "import pickle"
   ]
  },
  {
   "cell_type": "code",
   "execution_count": 2,
   "metadata": {},
   "outputs": [],
   "source": [
    "from sklearn.neural_network import MLPRegressor"
   ]
  },
  {
   "cell_type": "code",
   "execution_count": 3,
   "metadata": {},
   "outputs": [],
   "source": [
    "model_name = \"multi_layer_perceptron\"\n",
    "display_name = \"Multi-Layer \\nPerceptron\""
   ]
  },
  {
   "cell_type": "code",
   "execution_count": 4,
   "metadata": {},
   "outputs": [],
   "source": [
    "y_test = pd.read_csv('y_test.csv')\n",
    "file = open(\"Selection Methods\",\"rb\")\n",
    "sel_methods = np.load(file)"
   ]
  },
  {
   "cell_type": "code",
   "execution_count": 5,
   "metadata": {},
   "outputs": [],
   "source": [
    "# train and test model\n",
    "def get_best_model(method, args, _cv, is_sample):\n",
    "    sample_string = ''\n",
    "    if (is_sample):\n",
    "        sample_string = '_sample'\n",
    "    y_train = pd.read_csv('y_train'+ sample_string + '.csv')    \n",
    "    method_string = method\n",
    "    if (method == ''):\n",
    "        method_string = \"no feature selection\"\n",
    "    print('\\n\\nRunning cross fold validation for',display_name,'with',method_string,'dataset')\n",
    "    x_train = pd.read_csv('x_train' + method + sample_string + '.csv').values\n",
    "    x_test = pd.read_csv('x_test' + method + '.csv').values\n",
    "    pipe = Pipeline([('clf', MLPRegressor())])\n",
    "    grid = GridSearchCV(pipe, args, cv = _cv, verbose = 1, scoring = 'r2', n_jobs=6)\n",
    "    grid.fit(x_train, y_train.values.ravel())\n",
    "    print('\\nBest score for',display_name,'with',method_string,\"dataset:\",grid.best_score_)\n",
    "    best_args = grid.best_estimator_.get_params()\n",
    "    print('\\nBest hyperparameters for',display_name,'with',method_string,'dataset:')\n",
    "    for arg in best_args:\n",
    "        print(arg,\":\",best_args[arg])\n",
    "    y_test_predict = grid.predict(x_test)\n",
    "    mse = mean_squared_error(y_test,y_test_predict)\n",
    "    mae = mean_absolute_error(y_test,y_test_predict)\n",
    "    r2 = r2_score(y_test,y_test_predict)\n",
    "    print('\\nPrediction scores for',display_name,'using',method_string,':')\n",
    "    print('Mean Squared error:',mse)\n",
    "    print('Mean Absolute error:',mae)\n",
    "    print('R^2:',r2)\n",
    "    return grid.best_estimator_,grid.best_score_,mse,mae,r2"
   ]
  },
  {
   "cell_type": "code",
   "execution_count": 6,
   "metadata": {},
   "outputs": [],
   "source": [
    "# save model\n",
    "def save_model(model,method):\n",
    "    with open('CrimeGUI/Models/'+model_name+method,'wb') as file:\n",
    "        pickle.dump(model,file)"
   ]
  },
  {
   "cell_type": "markdown",
   "metadata": {},
   "source": [
    "<h3>F-Regression feature selected dataset<h3>"
   ]
  },
  {
   "cell_type": "code",
   "execution_count": 28,
   "metadata": {},
   "outputs": [],
   "source": [
    "is_sample = True\n",
    "num_folds = 5\n",
    "args = {'clf__activation':('identity','logistic','tanh','relu'),\n",
    "        'clf__alpha':(0.000001,0.00001,0.0001,0.001,0.01,0.1),\n",
    "        'clf__batch_size':(arange(100, 300, 100)),\n",
    "        'clf__hidden_layer_sizes':((100,),(200,),(300,)),\n",
    "        'clf__learning_rate':('constant', 'invscaling', 'adaptive'),\n",
    "        'clf__max_iter':(arange(100,300,100)),\n",
    "        'clf__momentum':(arange(0.7,0.9,0.1)),\n",
    "        'clf__power_t':(0.001,0.01,0.1),\n",
    "        'clf__random_state':([7]),\n",
    "        'clf__solver':('lbfgs','logistic','adam'),\n",
    "        'clf__tol':(0.0001,0.001,0.01)\n",
    "       }"
   ]
  },
  {
   "cell_type": "code",
   "execution_count": 29,
   "metadata": {
    "scrolled": false
   },
   "outputs": [
    {
     "name": "stdout",
     "output_type": "stream",
     "text": [
      "\n",
      "\n",
      "Running cross fold validation for Multi-Layer \n",
      "Perceptron with _f_regression dataset\n",
      "Fitting 5 folds for each of 69984 candidates, totalling 349920 fits\n"
     ]
    },
    {
     "name": "stderr",
     "output_type": "stream",
     "text": [
      "[Parallel(n_jobs=6)]: Using backend LokyBackend with 6 concurrent workers.\n",
      "[Parallel(n_jobs=6)]: Done  38 tasks      | elapsed:    4.3s\n",
      "[Parallel(n_jobs=6)]: Done 212 tasks      | elapsed:   17.8s\n",
      "[Parallel(n_jobs=6)]: Done 519 tasks      | elapsed:   43.3s\n",
      "[Parallel(n_jobs=6)]: Done 967 tasks      | elapsed:  1.3min\n",
      "[Parallel(n_jobs=6)]: Done 1556 tasks      | elapsed:  2.1min\n",
      "[Parallel(n_jobs=6)]: Done 2270 tasks      | elapsed:  3.1min\n",
      "[Parallel(n_jobs=6)]: Done 3021 tasks      | elapsed:  4.4min\n",
      "[Parallel(n_jobs=6)]: Done 3836 tasks      | elapsed:  5.9min\n",
      "[Parallel(n_jobs=6)]: Done 4758 tasks      | elapsed:  7.6min\n",
      "[Parallel(n_jobs=6)]: Done 5708 tasks      | elapsed: 10.4min\n",
      "[Parallel(n_jobs=6)]: Done 6758 tasks      | elapsed: 13.7min\n",
      "[Parallel(n_jobs=6)]: Done 8023 tasks      | elapsed: 16.2min\n",
      "[Parallel(n_jobs=6)]: Done 9572 tasks      | elapsed: 18.1min\n",
      "[Parallel(n_jobs=6)]: Done 11133 tasks      | elapsed: 21.1min\n",
      "[Parallel(n_jobs=6)]: Done 12696 tasks      | elapsed: 24.9min\n",
      "[Parallel(n_jobs=6)]: Done 14306 tasks      | elapsed: 29.8min\n",
      "[Parallel(n_jobs=6)]: Done 16334 tasks      | elapsed: 33.0min\n",
      "[Parallel(n_jobs=6)]: Done 18390 tasks      | elapsed: 36.3min\n",
      "[Parallel(n_jobs=6)]: Done 20348 tasks      | elapsed: 40.9min\n",
      "[Parallel(n_jobs=6)]: Done 22442 tasks      | elapsed: 46.1min\n",
      "[Parallel(n_jobs=6)]: Done 24864 tasks      | elapsed: 49.6min\n",
      "[Parallel(n_jobs=6)]: Done 27254 tasks      | elapsed: 54.7min\n",
      "[Parallel(n_jobs=6)]: Done 29699 tasks      | elapsed: 61.2min\n",
      "[Parallel(n_jobs=6)]: Done 32490 tasks      | elapsed: 65.3min\n",
      "[Parallel(n_jobs=6)]: Done 35144 tasks      | elapsed: 71.3min\n",
      "[Parallel(n_jobs=6)]: Done 38102 tasks      | elapsed: 77.2min\n",
      "[Parallel(n_jobs=6)]: Done 41118 tasks      | elapsed: 82.5min\n",
      "[Parallel(n_jobs=6)]: Done 43988 tasks      | elapsed: 90.5min\n",
      "[Parallel(n_jobs=6)]: Done 47264 tasks      | elapsed: 95.4min\n",
      "[Parallel(n_jobs=6)]: Done 50430 tasks      | elapsed: 103.2min\n",
      "[Parallel(n_jobs=6)]: Done 53925 tasks      | elapsed: 108.9min\n",
      "[Parallel(n_jobs=6)]: Done 57296 tasks      | elapsed: 117.5min\n",
      "[Parallel(n_jobs=6)]: Done 61008 tasks      | elapsed: 124.9min\n",
      "[Parallel(n_jobs=6)]: Done 64478 tasks      | elapsed: 133.4min\n",
      "[Parallel(n_jobs=6)]: Done 68462 tasks      | elapsed: 141.2min\n",
      "[Parallel(n_jobs=6)]: Done 72216 tasks      | elapsed: 151.0min\n",
      "[Parallel(n_jobs=6)]: Done 76394 tasks      | elapsed: 158.9min\n",
      "[Parallel(n_jobs=6)]: Done 80443 tasks      | elapsed: 169.6min\n",
      "[Parallel(n_jobs=6)]: Done 84918 tasks      | elapsed: 176.9min\n",
      "[Parallel(n_jobs=6)]: Done 88922 tasks      | elapsed: 194.5min\n",
      "[Parallel(n_jobs=6)]: Done 92972 tasks      | elapsed: 239.8min\n",
      "[Parallel(n_jobs=6)]: Done 97122 tasks      | elapsed: 286.1min\n",
      "[Parallel(n_jobs=6)]: Done 101372 tasks      | elapsed: 344.3min\n",
      "[Parallel(n_jobs=6)]: Done 105722 tasks      | elapsed: 385.4min\n",
      "[Parallel(n_jobs=6)]: Done 110172 tasks      | elapsed: 444.5min\n",
      "[Parallel(n_jobs=6)]: Done 114722 tasks      | elapsed: 489.4min\n",
      "[Parallel(n_jobs=6)]: Done 119372 tasks      | elapsed: 542.5min\n",
      "[Parallel(n_jobs=6)]: Done 124122 tasks      | elapsed: 607.3min\n",
      "[Parallel(n_jobs=6)]: Done 128972 tasks      | elapsed: 652.0min\n",
      "[Parallel(n_jobs=6)]: Done 133922 tasks      | elapsed: 709.2min\n",
      "[Parallel(n_jobs=6)]: Done 138972 tasks      | elapsed: 777.3min\n",
      "[Parallel(n_jobs=6)]: Done 144122 tasks      | elapsed: 830.9min\n",
      "[Parallel(n_jobs=6)]: Done 149372 tasks      | elapsed: 891.2min\n",
      "[Parallel(n_jobs=6)]: Done 154722 tasks      | elapsed: 966.2min\n",
      "[Parallel(n_jobs=6)]: Done 160172 tasks      | elapsed: 1040.7min\n",
      "[Parallel(n_jobs=6)]: Done 165722 tasks      | elapsed: 1106.0min\n",
      "[Parallel(n_jobs=6)]: Done 171372 tasks      | elapsed: 1180.0min\n",
      "[Parallel(n_jobs=6)]: Done 177122 tasks      | elapsed: 1261.1min\n",
      "[Parallel(n_jobs=6)]: Done 182972 tasks      | elapsed: 1342.1min\n",
      "[Parallel(n_jobs=6)]: Done 188922 tasks      | elapsed: 1423.1min\n",
      "[Parallel(n_jobs=6)]: Done 194972 tasks      | elapsed: 1498.3min\n",
      "[Parallel(n_jobs=6)]: Done 201122 tasks      | elapsed: 1574.4min\n",
      "[Parallel(n_jobs=6)]: Done 207372 tasks      | elapsed: 1659.7min\n",
      "[Parallel(n_jobs=6)]: Done 213722 tasks      | elapsed: 1737.9min\n",
      "[Parallel(n_jobs=6)]: Done 220172 tasks      | elapsed: 1823.8min\n",
      "[Parallel(n_jobs=6)]: Done 226722 tasks      | elapsed: 1909.2min\n",
      "[Parallel(n_jobs=6)]: Done 233372 tasks      | elapsed: 1999.7min\n",
      "[Parallel(n_jobs=6)]: Done 240122 tasks      | elapsed: 2078.7min\n",
      "[Parallel(n_jobs=6)]: Done 246972 tasks      | elapsed: 2163.7min\n",
      "[Parallel(n_jobs=6)]: Done 253922 tasks      | elapsed: 2248.3min\n",
      "[Parallel(n_jobs=6)]: Done 260972 tasks      | elapsed: 2339.3min\n",
      "[Parallel(n_jobs=6)]: Done 268122 tasks      | elapsed: 2436.3min\n",
      "[Parallel(n_jobs=6)]: Done 275372 tasks      | elapsed: 2528.9min\n",
      "[Parallel(n_jobs=6)]: Done 282722 tasks      | elapsed: 2626.7min\n",
      "[Parallel(n_jobs=6)]: Done 290172 tasks      | elapsed: 2722.6min\n",
      "[Parallel(n_jobs=6)]: Done 297722 tasks      | elapsed: 2821.4min\n",
      "[Parallel(n_jobs=6)]: Done 305372 tasks      | elapsed: 2926.4min\n",
      "[Parallel(n_jobs=6)]: Done 313122 tasks      | elapsed: 3032.7min\n",
      "[Parallel(n_jobs=6)]: Done 320972 tasks      | elapsed: 3137.1min\n",
      "[Parallel(n_jobs=6)]: Done 328922 tasks      | elapsed: 3229.6min\n",
      "[Parallel(n_jobs=6)]: Done 336972 tasks      | elapsed: 3324.9min\n",
      "[Parallel(n_jobs=6)]: Done 345122 tasks      | elapsed: 3412.0min\n",
      "[Parallel(n_jobs=6)]: Done 349920 out of 349920 | elapsed: 3478.2min finished\n"
     ]
    },
    {
     "name": "stdout",
     "output_type": "stream",
     "text": [
      "\n",
      "Best score for Multi-Layer \n",
      "Perceptron with _f_regression dataset: 0.7533626543777094\n",
      "\n",
      "Best hyperparameters for Multi-Layer \n",
      "Perceptron with _f_regression dataset:\n",
      "memory : None\n",
      "steps : [('clf', MLPRegressor(activation='logistic', alpha=0.1, batch_size=100,\n",
      "             hidden_layer_sizes=(200,), max_iter=100, momentum=0.7,\n",
      "             power_t=0.001, random_state=7, solver='lbfgs', tol=0.01))]\n",
      "verbose : False\n",
      "clf : MLPRegressor(activation='logistic', alpha=0.1, batch_size=100,\n",
      "             hidden_layer_sizes=(200,), max_iter=100, momentum=0.7,\n",
      "             power_t=0.001, random_state=7, solver='lbfgs', tol=0.01)\n",
      "clf__activation : logistic\n",
      "clf__alpha : 0.1\n",
      "clf__batch_size : 100\n",
      "clf__beta_1 : 0.9\n",
      "clf__beta_2 : 0.999\n",
      "clf__early_stopping : False\n",
      "clf__epsilon : 1e-08\n",
      "clf__hidden_layer_sizes : (200,)\n",
      "clf__learning_rate : constant\n",
      "clf__learning_rate_init : 0.001\n",
      "clf__max_fun : 15000\n",
      "clf__max_iter : 100\n",
      "clf__momentum : 0.7\n",
      "clf__n_iter_no_change : 10\n",
      "clf__nesterovs_momentum : True\n",
      "clf__power_t : 0.001\n",
      "clf__random_state : 7\n",
      "clf__shuffle : True\n",
      "clf__solver : lbfgs\n",
      "clf__tol : 0.01\n",
      "clf__validation_fraction : 0.1\n",
      "clf__verbose : False\n",
      "clf__warm_start : False\n",
      "\n",
      "Prediction scores for Multi-Layer \n",
      "Perceptron using _f_regression :\n",
      "Mean Squared error: 4.835528992568463\n",
      "Mean Absolute error: 1.3943543932974019\n",
      "R^2: 0.7519254975183235\n"
     ]
    }
   ],
   "source": [
    "f_reg_model, f_reg_train_score, f_reg_mse, f_reg_mae, f_reg_r2 = get_best_model(sel_methods[0], args, num_folds, is_sample)"
   ]
  },
  {
   "cell_type": "code",
   "execution_count": 14,
   "metadata": {},
   "outputs": [],
   "source": [
    "# further hyperparameter tuning\n",
    "is_sample = True\n",
    "num_folds = 5\n",
    "args = {'clf__activation':('identity','logistic','tanh','relu'),\n",
    "        'clf__alpha':(0.01,0.05,0.1),\n",
    "        'clf__batch_size':(arange(100, 300, 100)),\n",
    "        'clf__hidden_layer_sizes':((100,),(200,),(300,)),\n",
    "        'clf__learning_rate':('constant', 'invscaling', 'adaptive'),\n",
    "        'clf__max_iter':(arange(100,300,100)),\n",
    "        'clf__momentum':(arange(0.3,0.7,0.1)),\n",
    "        'clf__power_t':(0.001,0.005,0.01),\n",
    "        'clf__random_state':([7]),\n",
    "        'clf__solver':('lbfgs','logistic','adam'),\n",
    "        'clf__tol':(0.005,0.01)\n",
    "       }"
   ]
  },
  {
   "cell_type": "code",
   "execution_count": 15,
   "metadata": {},
   "outputs": [
    {
     "name": "stdout",
     "output_type": "stream",
     "text": [
      "\n",
      "\n",
      "Running cross fold validation for Multi-Layer \n",
      "Perceptron with _f_regression dataset\n",
      "Fitting 5 folds for each of 31104 candidates, totalling 155520 fits\n"
     ]
    },
    {
     "name": "stderr",
     "output_type": "stream",
     "text": [
      "[Parallel(n_jobs=6)]: Using backend LokyBackend with 6 concurrent workers.\n",
      "[Parallel(n_jobs=6)]: Done  46 tasks      | elapsed:    1.8s\n",
      "[Parallel(n_jobs=6)]: Done 346 tasks      | elapsed:   13.3s\n",
      "[Parallel(n_jobs=6)]: Done 846 tasks      | elapsed:   32.8s\n",
      "[Parallel(n_jobs=6)]: Done 1546 tasks      | elapsed:  1.0min\n",
      "[Parallel(n_jobs=6)]: Done 2446 tasks      | elapsed:  1.7min\n",
      "[Parallel(n_jobs=6)]: Done 3180 tasks      | elapsed:  2.5min\n",
      "[Parallel(n_jobs=6)]: Done 3830 tasks      | elapsed:  3.2min\n",
      "[Parallel(n_jobs=6)]: Done 4580 tasks      | elapsed:  4.2min\n",
      "[Parallel(n_jobs=6)]: Done 5430 tasks      | elapsed:  5.7min\n",
      "[Parallel(n_jobs=6)]: Done 6380 tasks      | elapsed:  7.3min\n",
      "[Parallel(n_jobs=6)]: Done 8320 tasks      | elapsed:  8.5min\n",
      "[Parallel(n_jobs=6)]: Done 10620 tasks      | elapsed: 10.6min\n",
      "[Parallel(n_jobs=6)]: Done 11984 tasks      | elapsed: 12.7min\n",
      "[Parallel(n_jobs=6)]: Done 13648 tasks      | elapsed: 14.7min\n",
      "[Parallel(n_jobs=6)]: Done 16548 tasks      | elapsed: 17.1min\n",
      "[Parallel(n_jobs=6)]: Done 18488 tasks      | elapsed: 19.9min\n",
      "[Parallel(n_jobs=6)]: Done 20776 tasks      | elapsed: 22.3min\n",
      "[Parallel(n_jobs=6)]: Done 24042 tasks      | elapsed: 25.2min\n",
      "[Parallel(n_jobs=6)]: Done 25892 tasks      | elapsed: 28.3min\n",
      "[Parallel(n_jobs=6)]: Done 29674 tasks      | elapsed: 31.4min\n",
      "[Parallel(n_jobs=6)]: Done 32028 tasks      | elapsed: 35.2min\n",
      "[Parallel(n_jobs=6)]: Done 35896 tasks      | elapsed: 38.4min\n",
      "[Parallel(n_jobs=6)]: Done 38582 tasks      | elapsed: 42.2min\n",
      "[Parallel(n_jobs=6)]: Done 40932 tasks      | elapsed: 48.9min\n",
      "[Parallel(n_jobs=6)]: Done 43382 tasks      | elapsed: 59.3min\n",
      "[Parallel(n_jobs=6)]: Done 45932 tasks      | elapsed: 73.6min\n",
      "[Parallel(n_jobs=6)]: Done 48582 tasks      | elapsed: 82.4min\n",
      "[Parallel(n_jobs=6)]: Done 51332 tasks      | elapsed: 97.7min\n",
      "[Parallel(n_jobs=6)]: Done 54182 tasks      | elapsed: 108.4min\n",
      "[Parallel(n_jobs=6)]: Done 57132 tasks      | elapsed: 124.3min\n",
      "[Parallel(n_jobs=6)]: Done 60182 tasks      | elapsed: 138.2min\n",
      "[Parallel(n_jobs=6)]: Done 63332 tasks      | elapsed: 153.2min\n",
      "[Parallel(n_jobs=6)]: Done 66582 tasks      | elapsed: 169.0min\n",
      "[Parallel(n_jobs=6)]: Done 69932 tasks      | elapsed: 186.5min\n",
      "[Parallel(n_jobs=6)]: Done 73382 tasks      | elapsed: 202.6min\n",
      "[Parallel(n_jobs=6)]: Done 76932 tasks      | elapsed: 222.0min\n",
      "[Parallel(n_jobs=6)]: Done 80582 tasks      | elapsed: 234.7min\n",
      "[Parallel(n_jobs=6)]: Done 84332 tasks      | elapsed: 248.0min\n",
      "[Parallel(n_jobs=6)]: Done 88182 tasks      | elapsed: 257.3min\n",
      "[Parallel(n_jobs=6)]: Done 92132 tasks      | elapsed: 269.2min\n",
      "[Parallel(n_jobs=6)]: Done 96182 tasks      | elapsed: 281.8min\n",
      "[Parallel(n_jobs=6)]: Done 100332 tasks      | elapsed: 292.6min\n",
      "[Parallel(n_jobs=6)]: Done 104582 tasks      | elapsed: 305.8min\n",
      "[Parallel(n_jobs=6)]: Done 108932 tasks      | elapsed: 318.9min\n",
      "[Parallel(n_jobs=6)]: Done 113382 tasks      | elapsed: 331.0min\n",
      "[Parallel(n_jobs=6)]: Done 117932 tasks      | elapsed: 345.7min\n",
      "[Parallel(n_jobs=6)]: Done 122582 tasks      | elapsed: 367.8min\n",
      "[Parallel(n_jobs=6)]: Done 127332 tasks      | elapsed: 386.5min\n",
      "[Parallel(n_jobs=6)]: Done 132182 tasks      | elapsed: 406.7min\n",
      "[Parallel(n_jobs=6)]: Done 137132 tasks      | elapsed: 428.8min\n",
      "[Parallel(n_jobs=6)]: Done 142182 tasks      | elapsed: 451.9min\n",
      "[Parallel(n_jobs=6)]: Done 147332 tasks      | elapsed: 476.6min\n",
      "[Parallel(n_jobs=6)]: Done 152582 tasks      | elapsed: 499.3min\n",
      "[Parallel(n_jobs=6)]: Done 155520 out of 155520 | elapsed: 514.7min finished\n"
     ]
    },
    {
     "name": "stdout",
     "output_type": "stream",
     "text": [
      "\n",
      "Best score for Multi-Layer \n",
      "Perceptron with _f_regression dataset: 0.7533695309449954\n",
      "\n",
      "Best hyperparameters for Multi-Layer \n",
      "Perceptron with _f_regression dataset:\n",
      "memory : None\n",
      "steps : [('clf', MLPRegressor(activation='logistic', alpha=0.05, batch_size=100,\n",
      "             hidden_layer_sizes=(300,), max_iter=100, momentum=0.3,\n",
      "             power_t=0.001, random_state=7, solver='lbfgs', tol=0.01))]\n",
      "verbose : False\n",
      "clf : MLPRegressor(activation='logistic', alpha=0.05, batch_size=100,\n",
      "             hidden_layer_sizes=(300,), max_iter=100, momentum=0.3,\n",
      "             power_t=0.001, random_state=7, solver='lbfgs', tol=0.01)\n",
      "clf__activation : logistic\n",
      "clf__alpha : 0.05\n",
      "clf__batch_size : 100\n",
      "clf__beta_1 : 0.9\n",
      "clf__beta_2 : 0.999\n",
      "clf__early_stopping : False\n",
      "clf__epsilon : 1e-08\n",
      "clf__hidden_layer_sizes : (300,)\n",
      "clf__learning_rate : constant\n",
      "clf__learning_rate_init : 0.001\n",
      "clf__max_fun : 15000\n",
      "clf__max_iter : 100\n",
      "clf__momentum : 0.3\n",
      "clf__n_iter_no_change : 10\n",
      "clf__nesterovs_momentum : True\n",
      "clf__power_t : 0.001\n",
      "clf__random_state : 7\n",
      "clf__shuffle : True\n",
      "clf__solver : lbfgs\n",
      "clf__tol : 0.01\n",
      "clf__validation_fraction : 0.1\n",
      "clf__verbose : False\n",
      "clf__warm_start : False\n",
      "\n",
      "Prediction scores for Multi-Layer \n",
      "Perceptron using _f_regression :\n",
      "Mean Squared error: 4.82642608619939\n",
      "Mean Absolute error: 1.3883856292404415\n",
      "R^2: 0.7523924989512827\n"
     ]
    }
   ],
   "source": [
    "f_reg_model, f_reg_train_score, f_reg_mse, f_reg_mae, f_reg_r2 = get_best_model(sel_methods[0], args, num_folds, is_sample)"
   ]
  },
  {
   "cell_type": "code",
   "execution_count": 13,
   "metadata": {},
   "outputs": [],
   "source": [
    "#logistic, constant and lbfgs producing best results for dataset, locked these in and continue to tune continuous values\n",
    "is_sample = True\n",
    "num_folds = 5\n",
    "args = {'clf__activation':(['logistic']),\n",
    "        'clf__alpha':(arange(0.01,0.09,0.1)),\n",
    "        'clf__batch_size':(arange(50, 400, 50)),\n",
    "        'clf__hidden_layer_sizes':((100,),(200,),(300,)),\n",
    "        'clf__learning_rate':(['constant']),\n",
    "        'clf__max_iter':(arange(100,400,100)),\n",
    "        'clf__momentum':(arange(0.1,0.9,0.1)),\n",
    "        'clf__power_t':(arange(0.001,0.009,0.001)),\n",
    "        'clf__random_state':([7]),\n",
    "        'clf__solver':(['lbfgs']),\n",
    "        'clf__tol':(0.005,0.01,0.02,0.03)\n",
    "       }"
   ]
  },
  {
   "cell_type": "code",
   "execution_count": 14,
   "metadata": {},
   "outputs": [
    {
     "name": "stdout",
     "output_type": "stream",
     "text": [
      "\n",
      "\n",
      "Running cross fold validation for Multi-Layer \n",
      "Perceptron with _f_regression dataset\n",
      "Fitting 5 folds for each of 16128 candidates, totalling 80640 fits\n"
     ]
    },
    {
     "name": "stderr",
     "output_type": "stream",
     "text": [
      "[Parallel(n_jobs=6)]: Using backend LokyBackend with 6 concurrent workers.\n",
      "[Parallel(n_jobs=6)]: Done  38 tasks      | elapsed:   10.4s\n",
      "[Parallel(n_jobs=6)]: Done 188 tasks      | elapsed:   45.5s\n",
      "[Parallel(n_jobs=6)]: Done 438 tasks      | elapsed:  1.7min\n",
      "[Parallel(n_jobs=6)]: Done 788 tasks      | elapsed:  3.1min\n",
      "[Parallel(n_jobs=6)]: Done 1238 tasks      | elapsed:  4.8min\n",
      "[Parallel(n_jobs=6)]: Done 1788 tasks      | elapsed:  6.9min\n",
      "[Parallel(n_jobs=6)]: Done 2438 tasks      | elapsed:  9.5min\n",
      "[Parallel(n_jobs=6)]: Done 3188 tasks      | elapsed: 12.4min\n",
      "[Parallel(n_jobs=6)]: Done 4038 tasks      | elapsed: 15.8min\n",
      "[Parallel(n_jobs=6)]: Done 4988 tasks      | elapsed: 20.2min\n",
      "[Parallel(n_jobs=6)]: Done 6038 tasks      | elapsed: 24.9min\n",
      "[Parallel(n_jobs=6)]: Done 7188 tasks      | elapsed: 30.1min\n",
      "[Parallel(n_jobs=6)]: Done 8438 tasks      | elapsed: 38.9min\n",
      "[Parallel(n_jobs=6)]: Done 9788 tasks      | elapsed: 50.4min\n",
      "[Parallel(n_jobs=6)]: Done 11238 tasks      | elapsed: 62.9min\n",
      "[Parallel(n_jobs=6)]: Done 12788 tasks      | elapsed: 70.7min\n",
      "[Parallel(n_jobs=6)]: Done 14438 tasks      | elapsed: 77.3min\n",
      "[Parallel(n_jobs=6)]: Done 16188 tasks      | elapsed: 84.9min\n",
      "[Parallel(n_jobs=6)]: Done 18038 tasks      | elapsed: 93.7min\n",
      "[Parallel(n_jobs=6)]: Done 19988 tasks      | elapsed: 106.5min\n",
      "[Parallel(n_jobs=6)]: Done 22038 tasks      | elapsed: 125.4min\n",
      "[Parallel(n_jobs=6)]: Done 24188 tasks      | elapsed: 139.4min\n",
      "[Parallel(n_jobs=6)]: Done 26438 tasks      | elapsed: 148.2min\n",
      "[Parallel(n_jobs=6)]: Done 28788 tasks      | elapsed: 158.8min\n",
      "[Parallel(n_jobs=6)]: Done 31238 tasks      | elapsed: 172.6min\n",
      "[Parallel(n_jobs=6)]: Done 33788 tasks      | elapsed: 195.8min\n",
      "[Parallel(n_jobs=6)]: Done 36438 tasks      | elapsed: 210.4min\n",
      "[Parallel(n_jobs=6)]: Done 39188 tasks      | elapsed: 222.0min\n",
      "[Parallel(n_jobs=6)]: Done 42038 tasks      | elapsed: 235.5min\n",
      "[Parallel(n_jobs=6)]: Done 44988 tasks      | elapsed: 261.5min\n",
      "[Parallel(n_jobs=6)]: Done 48038 tasks      | elapsed: 279.4min\n",
      "[Parallel(n_jobs=6)]: Done 51188 tasks      | elapsed: 292.9min\n",
      "[Parallel(n_jobs=6)]: Done 54438 tasks      | elapsed: 311.1min\n",
      "[Parallel(n_jobs=6)]: Done 57788 tasks      | elapsed: 340.8min\n",
      "[Parallel(n_jobs=6)]: Done 61238 tasks      | elapsed: 354.8min\n",
      "[Parallel(n_jobs=6)]: Done 64788 tasks      | elapsed: 371.5min\n",
      "[Parallel(n_jobs=6)]: Done 68438 tasks      | elapsed: 403.2min\n",
      "[Parallel(n_jobs=6)]: Done 72188 tasks      | elapsed: 422.4min\n",
      "[Parallel(n_jobs=6)]: Done 76038 tasks      | elapsed: 441.0min\n",
      "[Parallel(n_jobs=6)]: Done 79988 tasks      | elapsed: 474.2min\n",
      "[Parallel(n_jobs=6)]: Done 80640 out of 80640 | elapsed: 480.0min finished\n"
     ]
    },
    {
     "name": "stdout",
     "output_type": "stream",
     "text": [
      "\n",
      "Best score for Multi-Layer \n",
      "Perceptron with _f_regression dataset: 0.7530230936340118\n",
      "\n",
      "Best hyperparameters for Multi-Layer \n",
      "Perceptron with _f_regression dataset:\n",
      "memory : None\n",
      "steps : [('clf', MLPRegressor(activation='logistic', alpha=0.01, batch_size=50,\n",
      "             hidden_layer_sizes=(200,), max_iter=100, momentum=0.1,\n",
      "             power_t=0.001, random_state=7, solver='lbfgs', tol=0.005))]\n",
      "verbose : False\n",
      "clf : MLPRegressor(activation='logistic', alpha=0.01, batch_size=50,\n",
      "             hidden_layer_sizes=(200,), max_iter=100, momentum=0.1,\n",
      "             power_t=0.001, random_state=7, solver='lbfgs', tol=0.005)\n",
      "clf__activation : logistic\n",
      "clf__alpha : 0.01\n",
      "clf__batch_size : 50\n",
      "clf__beta_1 : 0.9\n",
      "clf__beta_2 : 0.999\n",
      "clf__early_stopping : False\n",
      "clf__epsilon : 1e-08\n",
      "clf__hidden_layer_sizes : (200,)\n",
      "clf__learning_rate : constant\n",
      "clf__learning_rate_init : 0.001\n",
      "clf__max_fun : 15000\n",
      "clf__max_iter : 100\n",
      "clf__momentum : 0.1\n",
      "clf__n_iter_no_change : 10\n",
      "clf__nesterovs_momentum : True\n",
      "clf__power_t : 0.001\n",
      "clf__random_state : 7\n",
      "clf__shuffle : True\n",
      "clf__solver : lbfgs\n",
      "clf__tol : 0.005\n",
      "clf__validation_fraction : 0.1\n",
      "clf__verbose : False\n",
      "clf__warm_start : False\n",
      "\n",
      "Prediction scores for Multi-Layer \n",
      "Perceptron using _f_regression :\n",
      "Mean Squared error: 4.836147301337155\n",
      "Mean Absolute error: 1.3948203924522706\n",
      "R^2: 0.7518937767613165\n"
     ]
    }
   ],
   "source": [
    "f_reg_model, f_reg_train_score, f_reg_mse, f_reg_mae, f_reg_r2 = get_best_model(sel_methods[0], args, num_folds, is_sample)"
   ]
  },
  {
   "cell_type": "code",
   "execution_count": 12,
   "metadata": {},
   "outputs": [],
   "source": [
    "# further hyperparameter tuning\n",
    "is_sample = True\n",
    "num_folds = 5\n",
    "args = {'clf__activation':(['logistic']),\n",
    "        'clf__alpha':(arange(0.005,0.01,0.001)),\n",
    "        'clf__batch_size':(arange(30, 70, 10)),\n",
    "        'clf__hidden_layer_sizes':((150,),(200,),(250,)),\n",
    "        'clf__learning_rate':(['constant']),\n",
    "        'clf__max_iter':(arange(50,150,50)),\n",
    "        'clf__momentum':(arange(0.05,0.1,0.01)),\n",
    "        'clf__power_t':(arange(0.001,0.003,0.001)),\n",
    "        'clf__random_state':([7]),\n",
    "        'clf__solver':(['lbfgs']),\n",
    "        'clf__tol':(0.004,0.005,0.006)\n",
    "       }"
   ]
  },
  {
   "cell_type": "code",
   "execution_count": 13,
   "metadata": {},
   "outputs": [
    {
     "name": "stdout",
     "output_type": "stream",
     "text": [
      "\n",
      "\n",
      "Running cross fold validation for Multi-Layer \n",
      "Perceptron with _f_regression dataset\n",
      "Fitting 5 folds for each of 3600 candidates, totalling 18000 fits\n"
     ]
    },
    {
     "name": "stderr",
     "output_type": "stream",
     "text": [
      "[Parallel(n_jobs=6)]: Using backend LokyBackend with 6 concurrent workers.\n",
      "[Parallel(n_jobs=6)]: Done  38 tasks      | elapsed:   15.2s\n",
      "[Parallel(n_jobs=6)]: Done 188 tasks      | elapsed:  1.2min\n",
      "[Parallel(n_jobs=6)]: Done 438 tasks      | elapsed:  2.8min\n",
      "[Parallel(n_jobs=6)]: Done 788 tasks      | elapsed:  6.5min\n",
      "[Parallel(n_jobs=6)]: Done 1238 tasks      | elapsed: 10.2min\n",
      "[Parallel(n_jobs=6)]: Done 1788 tasks      | elapsed: 16.1min\n",
      "[Parallel(n_jobs=6)]: Done 2438 tasks      | elapsed: 20.6min\n",
      "[Parallel(n_jobs=6)]: Done 3188 tasks      | elapsed: 27.4min\n",
      "[Parallel(n_jobs=6)]: Done 4038 tasks      | elapsed: 35.3min\n",
      "[Parallel(n_jobs=6)]: Done 4988 tasks      | elapsed: 43.5min\n",
      "[Parallel(n_jobs=6)]: Done 6038 tasks      | elapsed: 52.7min\n",
      "[Parallel(n_jobs=6)]: Done 7188 tasks      | elapsed: 64.1min\n",
      "[Parallel(n_jobs=6)]: Done 8438 tasks      | elapsed: 74.2min\n",
      "[Parallel(n_jobs=6)]: Done 9788 tasks      | elapsed: 86.3min\n",
      "[Parallel(n_jobs=6)]: Done 11238 tasks      | elapsed: 98.3min\n",
      "[Parallel(n_jobs=6)]: Done 12788 tasks      | elapsed: 112.3min\n",
      "[Parallel(n_jobs=6)]: Done 14438 tasks      | elapsed: 126.5min\n",
      "[Parallel(n_jobs=6)]: Done 16188 tasks      | elapsed: 141.2min\n",
      "[Parallel(n_jobs=6)]: Done 18000 out of 18000 | elapsed: 156.5min finished\n"
     ]
    },
    {
     "name": "stdout",
     "output_type": "stream",
     "text": [
      "\n",
      "Best score for Multi-Layer \n",
      "Perceptron with _f_regression dataset: 0.7530240091381551\n",
      "\n",
      "Best hyperparameters for Multi-Layer \n",
      "Perceptron with _f_regression dataset:\n",
      "memory : None\n",
      "steps : [('clf', MLPRegressor(activation='logistic', alpha=0.005, batch_size=30,\n",
      "             hidden_layer_sizes=(200,), max_iter=50, momentum=0.05,\n",
      "             power_t=0.001, random_state=7, solver='lbfgs', tol=0.005))]\n",
      "verbose : False\n",
      "clf : MLPRegressor(activation='logistic', alpha=0.005, batch_size=30,\n",
      "             hidden_layer_sizes=(200,), max_iter=50, momentum=0.05,\n",
      "             power_t=0.001, random_state=7, solver='lbfgs', tol=0.005)\n",
      "clf__activation : logistic\n",
      "clf__alpha : 0.005\n",
      "clf__batch_size : 30\n",
      "clf__beta_1 : 0.9\n",
      "clf__beta_2 : 0.999\n",
      "clf__early_stopping : False\n",
      "clf__epsilon : 1e-08\n",
      "clf__hidden_layer_sizes : (200,)\n",
      "clf__learning_rate : constant\n",
      "clf__learning_rate_init : 0.001\n",
      "clf__max_fun : 15000\n",
      "clf__max_iter : 50\n",
      "clf__momentum : 0.05\n",
      "clf__n_iter_no_change : 10\n",
      "clf__nesterovs_momentum : True\n",
      "clf__power_t : 0.001\n",
      "clf__random_state : 7\n",
      "clf__shuffle : True\n",
      "clf__solver : lbfgs\n",
      "clf__tol : 0.005\n",
      "clf__validation_fraction : 0.1\n",
      "clf__verbose : False\n",
      "clf__warm_start : False\n",
      "\n",
      "Prediction scores for Multi-Layer \n",
      "Perceptron using _f_regression :\n",
      "Mean Squared error: 4.8361608540411885\n",
      "Mean Absolute error: 1.3947798084420295\n",
      "R^2: 0.7518930814743447\n"
     ]
    }
   ],
   "source": [
    "f_reg_model, f_reg_train_score, f_reg_mse, f_reg_mae, f_reg_r2 = get_best_model(sel_methods[0], args, num_folds, is_sample)"
   ]
  },
  {
   "cell_type": "code",
   "execution_count": 30,
   "metadata": {},
   "outputs": [],
   "source": [
    "# further hyperparameter tuning\n",
    "is_sample = True\n",
    "num_folds = 10\n",
    "args = {'clf__activation':(['logistic']),\n",
    "        'clf__alpha':(arange(0.001,0.006,0.001)),\n",
    "        'clf__batch_size':(arange(10, 40, 10)),\n",
    "        'clf__hidden_layer_sizes':((175,),(200,),(225,)),\n",
    "        'clf__learning_rate':(['constant']),\n",
    "        'clf__max_iter':(arange(20,60,10)),\n",
    "        'clf__momentum':(arange(0.01,0.06,0.01)),\n",
    "        'clf__power_t':(arange(0.001,0.003,0.001)),\n",
    "        'clf__random_state':([7]),\n",
    "        'clf__solver':(['lbfgs']),\n",
    "        'clf__tol':(0.004,0.005,0.006)\n",
    "       }"
   ]
  },
  {
   "cell_type": "code",
   "execution_count": 31,
   "metadata": {
    "scrolled": false
   },
   "outputs": [
    {
     "name": "stdout",
     "output_type": "stream",
     "text": [
      "\n",
      "\n",
      "Running cross fold validation for Multi-Layer \n",
      "Perceptron with _f_regression dataset\n",
      "Fitting 10 folds for each of 5400 candidates, totalling 54000 fits\n"
     ]
    },
    {
     "name": "stderr",
     "output_type": "stream",
     "text": [
      "[Parallel(n_jobs=6)]: Using backend LokyBackend with 6 concurrent workers.\n",
      "[Parallel(n_jobs=6)]: Done  38 tasks      | elapsed:   25.7s\n",
      "[Parallel(n_jobs=6)]: Done 188 tasks      | elapsed:  1.9min\n",
      "[Parallel(n_jobs=6)]: Done 438 tasks      | elapsed:  4.3min\n",
      "[Parallel(n_jobs=6)]: Done 788 tasks      | elapsed:  7.9min\n",
      "[Parallel(n_jobs=6)]: Done 1238 tasks      | elapsed: 12.5min\n",
      "[Parallel(n_jobs=6)]: Done 1788 tasks      | elapsed: 17.5min\n",
      "[Parallel(n_jobs=6)]: Done 2438 tasks      | elapsed: 23.7min\n",
      "[Parallel(n_jobs=6)]: Done 3188 tasks      | elapsed: 33.2min\n",
      "[Parallel(n_jobs=6)]: Done 4038 tasks      | elapsed: 42.8min\n",
      "[Parallel(n_jobs=6)]: Done 4988 tasks      | elapsed: 52.3min\n",
      "[Parallel(n_jobs=6)]: Done 6038 tasks      | elapsed: 62.2min\n",
      "[Parallel(n_jobs=6)]: Done 7188 tasks      | elapsed: 76.6min\n",
      "[Parallel(n_jobs=6)]: Done 8438 tasks      | elapsed: 88.5min\n",
      "[Parallel(n_jobs=6)]: Done 9788 tasks      | elapsed: 101.8min\n",
      "[Parallel(n_jobs=6)]: Done 11238 tasks      | elapsed: 118.7min\n",
      "[Parallel(n_jobs=6)]: Done 12788 tasks      | elapsed: 133.4min\n",
      "[Parallel(n_jobs=6)]: Done 14438 tasks      | elapsed: 153.0min\n",
      "[Parallel(n_jobs=6)]: Done 16188 tasks      | elapsed: 168.8min\n",
      "[Parallel(n_jobs=6)]: Done 18038 tasks      | elapsed: 189.0min\n",
      "[Parallel(n_jobs=6)]: Done 19988 tasks      | elapsed: 207.7min\n",
      "[Parallel(n_jobs=6)]: Done 22038 tasks      | elapsed: 232.0min\n",
      "[Parallel(n_jobs=6)]: Done 24188 tasks      | elapsed: 255.0min\n",
      "[Parallel(n_jobs=6)]: Done 26438 tasks      | elapsed: 283.1min\n",
      "[Parallel(n_jobs=6)]: Done 28788 tasks      | elapsed: 309.2min\n",
      "[Parallel(n_jobs=6)]: Done 31238 tasks      | elapsed: 333.2min\n",
      "[Parallel(n_jobs=6)]: Done 33788 tasks      | elapsed: 362.5min\n",
      "[Parallel(n_jobs=6)]: Done 36438 tasks      | elapsed: 391.8min\n",
      "[Parallel(n_jobs=6)]: Done 39188 tasks      | elapsed: 421.1min\n",
      "[Parallel(n_jobs=6)]: Done 42038 tasks      | elapsed: 450.4min\n",
      "[Parallel(n_jobs=6)]: Done 44988 tasks      | elapsed: 478.5min\n",
      "[Parallel(n_jobs=6)]: Done 48038 tasks      | elapsed: 507.0min\n",
      "[Parallel(n_jobs=6)]: Done 51188 tasks      | elapsed: 535.6min\n",
      "[Parallel(n_jobs=6)]: Done 54000 out of 54000 | elapsed: 561.5min finished\n"
     ]
    },
    {
     "name": "stdout",
     "output_type": "stream",
     "text": [
      "\n",
      "Best score for Multi-Layer \n",
      "Perceptron with _f_regression dataset: 0.7517462832687578\n",
      "\n",
      "Best hyperparameters for Multi-Layer \n",
      "Perceptron with _f_regression dataset:\n",
      "memory : None\n",
      "steps : [('clf', MLPRegressor(activation='logistic', alpha=0.005, batch_size=10,\n",
      "             hidden_layer_sizes=(200,), max_iter=20, momentum=0.01,\n",
      "             power_t=0.001, random_state=7, solver='lbfgs', tol=0.005))]\n",
      "verbose : False\n",
      "clf : MLPRegressor(activation='logistic', alpha=0.005, batch_size=10,\n",
      "             hidden_layer_sizes=(200,), max_iter=20, momentum=0.01,\n",
      "             power_t=0.001, random_state=7, solver='lbfgs', tol=0.005)\n",
      "clf__activation : logistic\n",
      "clf__alpha : 0.005\n",
      "clf__batch_size : 10\n",
      "clf__beta_1 : 0.9\n",
      "clf__beta_2 : 0.999\n",
      "clf__early_stopping : False\n",
      "clf__epsilon : 1e-08\n",
      "clf__hidden_layer_sizes : (200,)\n",
      "clf__learning_rate : constant\n",
      "clf__learning_rate_init : 0.001\n",
      "clf__max_fun : 15000\n",
      "clf__max_iter : 20\n",
      "clf__momentum : 0.01\n",
      "clf__n_iter_no_change : 10\n",
      "clf__nesterovs_momentum : True\n",
      "clf__power_t : 0.001\n",
      "clf__random_state : 7\n",
      "clf__shuffle : True\n",
      "clf__solver : lbfgs\n",
      "clf__tol : 0.005\n",
      "clf__validation_fraction : 0.1\n",
      "clf__verbose : False\n",
      "clf__warm_start : False\n",
      "\n",
      "Prediction scores for Multi-Layer \n",
      "Perceptron using _f_regression :\n",
      "Mean Squared error: 4.8361608540411885\n",
      "Mean Absolute error: 1.3947798084420295\n",
      "R^2: 0.7518930814743447\n"
     ]
    }
   ],
   "source": [
    "f_reg_model, f_reg_train_score, f_reg_mse, f_reg_mae, f_reg_r2 = get_best_model(sel_methods[0], args, num_folds, is_sample)"
   ]
  },
  {
   "cell_type": "code",
   "execution_count": 26,
   "metadata": {},
   "outputs": [],
   "source": [
    "#further tuning on 10 fold validation\n",
    "is_sample = False\n",
    "num_folds = 10\n",
    "args = {'clf__activation':(['logistic']),\n",
    "        'clf__alpha':(arange(0.001,0.006,0.001)),\n",
    "        'clf__batch_size':(arange(5, 15, 5)),\n",
    "        'clf__hidden_layer_sizes':((175,),(200,),(225,)),\n",
    "        'clf__learning_rate':(['constant']),\n",
    "        'clf__max_iter':(arange(5,25,5)),\n",
    "        'clf__momentum':(arange(0.001,0.011,0.001)),\n",
    "        'clf__power_t':(arange(0.001,0.003,0.001)),\n",
    "        'clf__random_state':([7]),\n",
    "        'clf__solver':(['lbfgs']),\n",
    "        'clf__tol':(0.004,0.005,0.006)\n",
    "       }"
   ]
  },
  {
   "cell_type": "code",
   "execution_count": 27,
   "metadata": {},
   "outputs": [
    {
     "name": "stdout",
     "output_type": "stream",
     "text": [
      "\n",
      "\n",
      "Running cross fold validation for Multi-Layer \n",
      "Perceptron with _f_regression dataset\n",
      "Fitting 10 folds for each of 7200 candidates, totalling 72000 fits\n"
     ]
    },
    {
     "name": "stderr",
     "output_type": "stream",
     "text": [
      "[Parallel(n_jobs=6)]: Using backend LokyBackend with 6 concurrent workers.\n",
      "[Parallel(n_jobs=6)]: Done  38 tasks      | elapsed:   37.9s\n",
      "[Parallel(n_jobs=6)]: Done 188 tasks      | elapsed:  2.9min\n",
      "[Parallel(n_jobs=6)]: Done 438 tasks      | elapsed:  6.6min\n",
      "[Parallel(n_jobs=6)]: Done 788 tasks      | elapsed: 14.9min\n",
      "[Parallel(n_jobs=6)]: Done 1238 tasks      | elapsed: 24.7min\n",
      "[Parallel(n_jobs=6)]: Done 1788 tasks      | elapsed: 39.2min\n",
      "[Parallel(n_jobs=6)]: Done 2438 tasks      | elapsed: 58.2min\n",
      "[Parallel(n_jobs=6)]: Done 3188 tasks      | elapsed: 69.8min\n",
      "[Parallel(n_jobs=6)]: Done 4038 tasks      | elapsed: 88.9min\n",
      "[Parallel(n_jobs=6)]: Done 4988 tasks      | elapsed: 114.7min\n",
      "[Parallel(n_jobs=6)]: Done 6038 tasks      | elapsed: 136.5min\n",
      "[Parallel(n_jobs=6)]: Done 7188 tasks      | elapsed: 174.6min\n",
      "[Parallel(n_jobs=6)]: Done 8438 tasks      | elapsed: 196.9min\n",
      "[Parallel(n_jobs=6)]: Done 9788 tasks      | elapsed: 231.5min\n",
      "[Parallel(n_jobs=6)]: Done 11238 tasks      | elapsed: 260.9min\n",
      "[Parallel(n_jobs=6)]: Done 12788 tasks      | elapsed: 297.6min\n",
      "[Parallel(n_jobs=6)]: Done 14438 tasks      | elapsed: 349.4min\n",
      "[Parallel(n_jobs=6)]: Done 16188 tasks      | elapsed: 385.2min\n",
      "[Parallel(n_jobs=6)]: Done 18038 tasks      | elapsed: 425.2min\n",
      "[Parallel(n_jobs=6)]: Done 19988 tasks      | elapsed: 472.2min\n",
      "[Parallel(n_jobs=6)]: Done 22038 tasks      | elapsed: 527.3min\n",
      "[Parallel(n_jobs=6)]: Done 24188 tasks      | elapsed: 577.8min\n",
      "[Parallel(n_jobs=6)]: Done 26438 tasks      | elapsed: 628.8min\n",
      "[Parallel(n_jobs=6)]: Done 28788 tasks      | elapsed: 689.6min\n",
      "[Parallel(n_jobs=6)]: Done 31238 tasks      | elapsed: 745.3min\n",
      "[Parallel(n_jobs=6)]: Done 33788 tasks      | elapsed: 800.6min\n",
      "[Parallel(n_jobs=6)]: Done 36438 tasks      | elapsed: 865.5min\n",
      "[Parallel(n_jobs=6)]: Done 39188 tasks      | elapsed: 924.1min\n",
      "[Parallel(n_jobs=6)]: Done 42038 tasks      | elapsed: 988.0min\n",
      "[Parallel(n_jobs=6)]: Done 44988 tasks      | elapsed: 1060.2min\n",
      "[Parallel(n_jobs=6)]: Done 48038 tasks      | elapsed: 1130.8min\n",
      "[Parallel(n_jobs=6)]: Done 51188 tasks      | elapsed: 1202.8min\n",
      "[Parallel(n_jobs=6)]: Done 54438 tasks      | elapsed: 1273.8min\n",
      "[Parallel(n_jobs=6)]: Done 57788 tasks      | elapsed: 1358.5min\n",
      "[Parallel(n_jobs=6)]: Done 61238 tasks      | elapsed: 1430.7min\n",
      "[Parallel(n_jobs=6)]: Done 64788 tasks      | elapsed: 1527.0min\n",
      "[Parallel(n_jobs=6)]: Done 68438 tasks      | elapsed: 1603.7min\n",
      "[Parallel(n_jobs=6)]: Done 72000 out of 72000 | elapsed: 1700.1min finished\n"
     ]
    },
    {
     "name": "stdout",
     "output_type": "stream",
     "text": [
      "\n",
      "Best score for Multi-Layer \n",
      "Perceptron with _f_regression dataset: 0.7437062501204444\n",
      "\n",
      "Best hyperparameters for Multi-Layer \n",
      "Perceptron with _f_regression dataset:\n",
      "memory : None\n",
      "steps : [('clf', MLPRegressor(activation='logistic', alpha=0.003, batch_size=5,\n",
      "             hidden_layer_sizes=(175,), max_iter=20, momentum=0.001,\n",
      "             power_t=0.001, random_state=7, solver='lbfgs', tol=0.005))]\n",
      "verbose : False\n",
      "clf : MLPRegressor(activation='logistic', alpha=0.003, batch_size=5,\n",
      "             hidden_layer_sizes=(175,), max_iter=20, momentum=0.001,\n",
      "             power_t=0.001, random_state=7, solver='lbfgs', tol=0.005)\n",
      "clf__activation : logistic\n",
      "clf__alpha : 0.003\n",
      "clf__batch_size : 5\n",
      "clf__beta_1 : 0.9\n",
      "clf__beta_2 : 0.999\n",
      "clf__early_stopping : False\n",
      "clf__epsilon : 1e-08\n",
      "clf__hidden_layer_sizes : (175,)\n",
      "clf__learning_rate : constant\n",
      "clf__learning_rate_init : 0.001\n",
      "clf__max_fun : 15000\n",
      "clf__max_iter : 20\n",
      "clf__momentum : 0.001\n",
      "clf__n_iter_no_change : 10\n",
      "clf__nesterovs_momentum : True\n",
      "clf__power_t : 0.001\n",
      "clf__random_state : 7\n",
      "clf__shuffle : True\n",
      "clf__solver : lbfgs\n",
      "clf__tol : 0.005\n",
      "clf__validation_fraction : 0.1\n",
      "clf__verbose : False\n",
      "clf__warm_start : False\n",
      "\n",
      "Prediction scores for Multi-Layer \n",
      "Perceptron using _f_regression :\n",
      "Mean Squared error: 4.829492500271861\n",
      "Mean Absolute error: 1.3826761858023062\n",
      "R^2: 0.7522351843851617\n"
     ]
    },
    {
     "name": "stderr",
     "output_type": "stream",
     "text": [
      "c:\\users\\chris\\appdata\\local\\programs\\python\\python39\\lib\\site-packages\\sklearn\\neural_network\\_multilayer_perceptron.py:471: ConvergenceWarning: lbfgs failed to converge (status=1):\n",
      "STOP: TOTAL NO. of ITERATIONS REACHED LIMIT.\n",
      "\n",
      "Increase the number of iterations (max_iter) or scale the data as shown in:\n",
      "    https://scikit-learn.org/stable/modules/preprocessing.html\n",
      "  self.n_iter_ = _check_optimize_result(\"lbfgs\", opt_res, self.max_iter)\n"
     ]
    }
   ],
   "source": [
    "f_reg_model, f_reg_train_score, f_reg_mse, f_reg_mae, f_reg_r2 = get_best_model(sel_methods[0], args, num_folds, is_sample)"
   ]
  },
  {
   "cell_type": "code",
   "execution_count": 36,
   "metadata": {},
   "outputs": [],
   "source": [
    "#further tuning on 10 fold validation\n",
    "is_sample = False\n",
    "num_folds = 10\n",
    "args = {'clf__activation':(['logistic']),\n",
    "        'clf__alpha':(arange(0.001,0.004,0.001)),\n",
    "        'clf__batch_size':(arange(5, 10, 5)),\n",
    "        'clf__hidden_layer_sizes':((150,),(175,),(200,)),\n",
    "        'clf__learning_rate':(['constant']),\n",
    "        'clf__max_iter':(arange(15,25,5)),\n",
    "        'clf__momentum':(arange(0.001,0.003,0.001)),\n",
    "        'clf__power_t':(arange(0.001,0.003,0.001)),\n",
    "        'clf__random_state':([7]),\n",
    "        'clf__solver':(['lbfgs']),\n",
    "        'clf__tol':(0.004,0.005,0.006)\n",
    "       }"
   ]
  },
  {
   "cell_type": "code",
   "execution_count": 37,
   "metadata": {
    "scrolled": false
   },
   "outputs": [
    {
     "name": "stdout",
     "output_type": "stream",
     "text": [
      "\n",
      "\n",
      "Running cross fold validation for Multi-Layer \n",
      "Perceptron with _f_regression dataset\n",
      "Fitting 10 folds for each of 216 candidates, totalling 2160 fits\n"
     ]
    },
    {
     "name": "stderr",
     "output_type": "stream",
     "text": [
      "[Parallel(n_jobs=6)]: Using backend LokyBackend with 6 concurrent workers.\n",
      "[Parallel(n_jobs=6)]: Done  38 tasks      | elapsed:   52.5s\n",
      "[Parallel(n_jobs=6)]: Done 188 tasks      | elapsed:  4.3min\n",
      "[Parallel(n_jobs=6)]: Done 438 tasks      | elapsed: 11.1min\n",
      "[Parallel(n_jobs=6)]: Done 788 tasks      | elapsed: 20.5min\n",
      "[Parallel(n_jobs=6)]: Done 1238 tasks      | elapsed: 32.2min\n",
      "[Parallel(n_jobs=6)]: Done 1788 tasks      | elapsed: 46.2min\n",
      "[Parallel(n_jobs=6)]: Done 2160 out of 2160 | elapsed: 57.0min finished\n"
     ]
    },
    {
     "name": "stdout",
     "output_type": "stream",
     "text": [
      "\n",
      "Best score for Multi-Layer \n",
      "Perceptron with _f_regression dataset: 0.7437062501204444\n",
      "\n",
      "Best hyperparameters for Multi-Layer \n",
      "Perceptron with _f_regression dataset:\n",
      "memory : None\n",
      "steps : [('clf', MLPRegressor(activation='logistic', alpha=0.003, batch_size=5,\n",
      "             hidden_layer_sizes=(175,), max_iter=20, momentum=0.001,\n",
      "             power_t=0.001, random_state=7, solver='lbfgs', tol=0.005))]\n",
      "verbose : False\n",
      "clf : MLPRegressor(activation='logistic', alpha=0.003, batch_size=5,\n",
      "             hidden_layer_sizes=(175,), max_iter=20, momentum=0.001,\n",
      "             power_t=0.001, random_state=7, solver='lbfgs', tol=0.005)\n",
      "clf__activation : logistic\n",
      "clf__alpha : 0.003\n",
      "clf__batch_size : 5\n",
      "clf__beta_1 : 0.9\n",
      "clf__beta_2 : 0.999\n",
      "clf__early_stopping : False\n",
      "clf__epsilon : 1e-08\n",
      "clf__hidden_layer_sizes : (175,)\n",
      "clf__learning_rate : constant\n",
      "clf__learning_rate_init : 0.001\n",
      "clf__max_fun : 15000\n",
      "clf__max_iter : 20\n",
      "clf__momentum : 0.001\n",
      "clf__n_iter_no_change : 10\n",
      "clf__nesterovs_momentum : True\n",
      "clf__power_t : 0.001\n",
      "clf__random_state : 7\n",
      "clf__shuffle : True\n",
      "clf__solver : lbfgs\n",
      "clf__tol : 0.005\n",
      "clf__validation_fraction : 0.1\n",
      "clf__verbose : False\n",
      "clf__warm_start : False\n",
      "\n",
      "Prediction scores for Multi-Layer \n",
      "Perceptron using _f_regression :\n",
      "Mean Squared error: 4.829492500271861\n",
      "Mean Absolute error: 1.3826761858023062\n",
      "R^2: 0.7522351843851617\n"
     ]
    },
    {
     "name": "stderr",
     "output_type": "stream",
     "text": [
      "c:\\users\\chris\\appdata\\local\\programs\\python\\python39\\lib\\site-packages\\sklearn\\neural_network\\_multilayer_perceptron.py:471: ConvergenceWarning: lbfgs failed to converge (status=1):\n",
      "STOP: TOTAL NO. of ITERATIONS REACHED LIMIT.\n",
      "\n",
      "Increase the number of iterations (max_iter) or scale the data as shown in:\n",
      "    https://scikit-learn.org/stable/modules/preprocessing.html\n",
      "  self.n_iter_ = _check_optimize_result(\"lbfgs\", opt_res, self.max_iter)\n"
     ]
    }
   ],
   "source": [
    "f_reg_model, f_reg_train_score, f_reg_mse, f_reg_mae, f_reg_r2 = get_best_model(sel_methods[0], args, num_folds, is_sample)"
   ]
  },
  {
   "cell_type": "code",
   "execution_count": 8,
   "metadata": {},
   "outputs": [],
   "source": [
    "#final hyperparameters\n",
    "is_sample = False\n",
    "num_folds = 10\n",
    "args = {'clf__activation':(['logistic']),\n",
    "        'clf__alpha':([0.003]),\n",
    "        'clf__batch_size':([5]),\n",
    "        'clf__hidden_layer_sizes':([175]),\n",
    "        'clf__learning_rate':(['constant']),\n",
    "        'clf__max_iter':([20]),\n",
    "        'clf__momentum':([0.001]),\n",
    "        'clf__power_t':([0.001]),\n",
    "        'clf__random_state':([7]),\n",
    "        'clf__solver':(['lbfgs']),\n",
    "        'clf__tol':([0.005])\n",
    "       }"
   ]
  },
  {
   "cell_type": "code",
   "execution_count": 9,
   "metadata": {},
   "outputs": [
    {
     "name": "stdout",
     "output_type": "stream",
     "text": [
      "\n",
      "\n",
      "Running cross fold validation for Multi-Layer \n",
      "Perceptron with _f_regression dataset\n",
      "Fitting 10 folds for each of 1 candidates, totalling 10 fits\n"
     ]
    },
    {
     "name": "stderr",
     "output_type": "stream",
     "text": [
      "[Parallel(n_jobs=6)]: Using backend LokyBackend with 6 concurrent workers.\n",
      "[Parallel(n_jobs=6)]: Done  10 out of  10 | elapsed:   20.7s remaining:    0.0s\n",
      "[Parallel(n_jobs=6)]: Done  10 out of  10 | elapsed:   20.7s finished\n"
     ]
    },
    {
     "name": "stdout",
     "output_type": "stream",
     "text": [
      "\n",
      "Best score for Multi-Layer \n",
      "Perceptron with _f_regression dataset: 0.7437062501204444\n",
      "\n",
      "Best hyperparameters for Multi-Layer \n",
      "Perceptron with _f_regression dataset:\n",
      "memory : None\n",
      "steps : [('clf', MLPRegressor(activation='logistic', alpha=0.003, batch_size=5,\n",
      "             hidden_layer_sizes=175, max_iter=20, momentum=0.001, power_t=0.001,\n",
      "             random_state=7, solver='lbfgs', tol=0.005))]\n",
      "verbose : False\n",
      "clf : MLPRegressor(activation='logistic', alpha=0.003, batch_size=5,\n",
      "             hidden_layer_sizes=175, max_iter=20, momentum=0.001, power_t=0.001,\n",
      "             random_state=7, solver='lbfgs', tol=0.005)\n",
      "clf__activation : logistic\n",
      "clf__alpha : 0.003\n",
      "clf__batch_size : 5\n",
      "clf__beta_1 : 0.9\n",
      "clf__beta_2 : 0.999\n",
      "clf__early_stopping : False\n",
      "clf__epsilon : 1e-08\n",
      "clf__hidden_layer_sizes : 175\n",
      "clf__learning_rate : constant\n",
      "clf__learning_rate_init : 0.001\n",
      "clf__max_fun : 15000\n",
      "clf__max_iter : 20\n",
      "clf__momentum : 0.001\n",
      "clf__n_iter_no_change : 10\n",
      "clf__nesterovs_momentum : True\n",
      "clf__power_t : 0.001\n",
      "clf__random_state : 7\n",
      "clf__shuffle : True\n",
      "clf__solver : lbfgs\n",
      "clf__tol : 0.005\n",
      "clf__validation_fraction : 0.1\n",
      "clf__verbose : False\n",
      "clf__warm_start : False\n",
      "\n",
      "Prediction scores for Multi-Layer \n",
      "Perceptron using _f_regression :\n",
      "Mean Squared error: 4.829492500271861\n",
      "Mean Absolute error: 1.3826761858023062\n",
      "R^2: 0.7522351843851617\n"
     ]
    },
    {
     "name": "stderr",
     "output_type": "stream",
     "text": [
      "c:\\users\\chris\\appdata\\local\\programs\\python\\python39\\lib\\site-packages\\sklearn\\neural_network\\_multilayer_perceptron.py:471: ConvergenceWarning: lbfgs failed to converge (status=1):\n",
      "STOP: TOTAL NO. of ITERATIONS REACHED LIMIT.\n",
      "\n",
      "Increase the number of iterations (max_iter) or scale the data as shown in:\n",
      "    https://scikit-learn.org/stable/modules/preprocessing.html\n",
      "  self.n_iter_ = _check_optimize_result(\"lbfgs\", opt_res, self.max_iter)\n"
     ]
    }
   ],
   "source": [
    "f_reg_model, f_reg_train_score, f_reg_mse, f_reg_mae, f_reg_r2 = get_best_model(sel_methods[0], args, num_folds, is_sample)"
   ]
  },
  {
   "cell_type": "code",
   "execution_count": 12,
   "metadata": {},
   "outputs": [],
   "source": [
    "save_model(f_reg_model,sel_methods[0])"
   ]
  },
  {
   "cell_type": "markdown",
   "metadata": {},
   "source": [
    "<h3>Chi-Squared feature selected dataset<h3>"
   ]
  },
  {
   "cell_type": "code",
   "execution_count": 8,
   "metadata": {},
   "outputs": [],
   "source": [
    "# folds reduced to 3 for initial exploration due to excessive processing time\n",
    "is_sample = True\n",
    "num_folds = 3\n",
    "args = {'clf__activation':('identity','logistic','tanh','relu'),\n",
    "        'clf__alpha':(0.000001,0.00001,0.0001,0.001,0.01,0.1),\n",
    "        'clf__batch_size':(arange(100, 300, 100)),\n",
    "        'clf__hidden_layer_sizes':((100,),(200,),(300,)),\n",
    "        'clf__learning_rate':('constant', 'invscaling', 'adaptive'),\n",
    "        'clf__max_iter':(arange(100,300,100)),\n",
    "        'clf__momentum':(arange(0.7,0.9,0.1)),\n",
    "        'clf__power_t':(0.001,0.01,0.1),\n",
    "        'clf__random_state':([7]),\n",
    "        'clf__solver':('lbfgs','logistic','adam'),\n",
    "        'clf__tol':(0.0001,0.001,0.01)\n",
    "       }"
   ]
  },
  {
   "cell_type": "code",
   "execution_count": 9,
   "metadata": {
    "scrolled": false
   },
   "outputs": [
    {
     "name": "stdout",
     "output_type": "stream",
     "text": [
      "\n",
      "\n",
      "Running cross fold validation for Multi-Layer \n",
      "Perceptron with _chi2 dataset\n",
      "Fitting 3 folds for each of 69984 candidates, totalling 209952 fits\n"
     ]
    },
    {
     "name": "stderr",
     "output_type": "stream",
     "text": [
      "[Parallel(n_jobs=6)]: Using backend LokyBackend with 6 concurrent workers.\n",
      "[Parallel(n_jobs=6)]: Done  38 tasks      | elapsed:    5.1s\n",
      "[Parallel(n_jobs=6)]: Done 188 tasks      | elapsed:   21.5s\n",
      "[Parallel(n_jobs=6)]: Done 438 tasks      | elapsed:   48.4s\n",
      "[Parallel(n_jobs=6)]: Done 788 tasks      | elapsed:  1.4min\n",
      "[Parallel(n_jobs=6)]: Done 1238 tasks      | elapsed:  2.2min\n",
      "[Parallel(n_jobs=6)]: Done 1788 tasks      | elapsed:  3.5min\n",
      "[Parallel(n_jobs=6)]: Done 2438 tasks      | elapsed:  5.1min\n",
      "[Parallel(n_jobs=6)]: Done 3188 tasks      | elapsed:  7.0min\n",
      "[Parallel(n_jobs=6)]: Done 4038 tasks      | elapsed:  9.4min\n",
      "[Parallel(n_jobs=6)]: Done 4988 tasks      | elapsed: 11.3min\n",
      "[Parallel(n_jobs=6)]: Done 6038 tasks      | elapsed: 13.0min\n",
      "[Parallel(n_jobs=6)]: Done 7188 tasks      | elapsed: 15.8min\n",
      "[Parallel(n_jobs=6)]: Done 8438 tasks      | elapsed: 19.9min\n",
      "[Parallel(n_jobs=6)]: Done 9788 tasks      | elapsed: 22.5min\n",
      "[Parallel(n_jobs=6)]: Done 11238 tasks      | elapsed: 25.8min\n",
      "[Parallel(n_jobs=6)]: Done 12788 tasks      | elapsed: 30.9min\n",
      "[Parallel(n_jobs=6)]: Done 14438 tasks      | elapsed: 34.4min\n",
      "[Parallel(n_jobs=6)]: Done 16188 tasks      | elapsed: 39.7min\n",
      "[Parallel(n_jobs=6)]: Done 18038 tasks      | elapsed: 46.2min\n",
      "[Parallel(n_jobs=6)]: Done 19988 tasks      | elapsed: 50.8min\n",
      "[Parallel(n_jobs=6)]: Done 22038 tasks      | elapsed: 57.8min\n",
      "[Parallel(n_jobs=6)]: Done 24188 tasks      | elapsed: 62.7min\n",
      "[Parallel(n_jobs=6)]: Done 26438 tasks      | elapsed: 69.6min\n",
      "[Parallel(n_jobs=6)]: Done 28788 tasks      | elapsed: 74.0min\n",
      "[Parallel(n_jobs=6)]: Done 31238 tasks      | elapsed: 80.8min\n",
      "[Parallel(n_jobs=6)]: Done 33788 tasks      | elapsed: 87.2min\n",
      "[Parallel(n_jobs=6)]: Done 36438 tasks      | elapsed: 94.1min\n",
      "[Parallel(n_jobs=6)]: Done 39188 tasks      | elapsed: 102.4min\n",
      "[Parallel(n_jobs=6)]: Done 42038 tasks      | elapsed: 109.1min\n",
      "[Parallel(n_jobs=6)]: Done 44988 tasks      | elapsed: 117.7min\n",
      "[Parallel(n_jobs=6)]: Done 48038 tasks      | elapsed: 127.8min\n",
      "[Parallel(n_jobs=6)]: Done 51188 tasks      | elapsed: 135.6min\n",
      "[Parallel(n_jobs=6)]: Done 54438 tasks      | elapsed: 158.0min\n",
      "[Parallel(n_jobs=6)]: Done 57788 tasks      | elapsed: 202.0min\n",
      "[Parallel(n_jobs=6)]: Done 61238 tasks      | elapsed: 251.7min\n",
      "[Parallel(n_jobs=6)]: Done 64788 tasks      | elapsed: 289.8min\n",
      "[Parallel(n_jobs=6)]: Done 68438 tasks      | elapsed: 333.1min\n",
      "[Parallel(n_jobs=6)]: Done 72188 tasks      | elapsed: 384.5min\n",
      "[Parallel(n_jobs=6)]: Done 76038 tasks      | elapsed: 432.2min\n",
      "[Parallel(n_jobs=6)]: Done 79988 tasks      | elapsed: 484.2min\n",
      "[Parallel(n_jobs=6)]: Done 84038 tasks      | elapsed: 530.7min\n",
      "[Parallel(n_jobs=6)]: Done 88188 tasks      | elapsed: 581.1min\n",
      "[Parallel(n_jobs=6)]: Done 92438 tasks      | elapsed: 633.0min\n",
      "[Parallel(n_jobs=6)]: Done 96788 tasks      | elapsed: 685.1min\n",
      "[Parallel(n_jobs=6)]: Done 101238 tasks      | elapsed: 739.3min\n",
      "[Parallel(n_jobs=6)]: Done 105788 tasks      | elapsed: 793.5min\n",
      "[Parallel(n_jobs=6)]: Done 110438 tasks      | elapsed: 840.0min\n",
      "[Parallel(n_jobs=6)]: Done 115188 tasks      | elapsed: 889.6min\n",
      "[Parallel(n_jobs=6)]: Done 120038 tasks      | elapsed: 939.7min\n",
      "[Parallel(n_jobs=6)]: Done 124988 tasks      | elapsed: 992.5min\n",
      "[Parallel(n_jobs=6)]: Done 130038 tasks      | elapsed: 1046.0min\n",
      "[Parallel(n_jobs=6)]: Done 135188 tasks      | elapsed: 1103.5min\n",
      "[Parallel(n_jobs=6)]: Done 140438 tasks      | elapsed: 1158.9min\n",
      "[Parallel(n_jobs=6)]: Done 145788 tasks      | elapsed: 1209.2min\n",
      "[Parallel(n_jobs=6)]: Done 151238 tasks      | elapsed: 1268.2min\n",
      "[Parallel(n_jobs=6)]: Done 156788 tasks      | elapsed: 1340.8min\n",
      "[Parallel(n_jobs=6)]: Done 162438 tasks      | elapsed: 1410.7min\n",
      "[Parallel(n_jobs=6)]: Done 168188 tasks      | elapsed: 1477.0min\n",
      "[Parallel(n_jobs=6)]: Done 174038 tasks      | elapsed: 1549.9min\n",
      "[Parallel(n_jobs=6)]: Done 179988 tasks      | elapsed: 1624.3min\n",
      "[Parallel(n_jobs=6)]: Done 186038 tasks      | elapsed: 1696.3min\n",
      "[Parallel(n_jobs=6)]: Done 192188 tasks      | elapsed: 1775.7min\n",
      "[Parallel(n_jobs=6)]: Done 198438 tasks      | elapsed: 1847.7min\n",
      "[Parallel(n_jobs=6)]: Done 204788 tasks      | elapsed: 1927.0min\n",
      "[Parallel(n_jobs=6)]: Done 209952 out of 209952 | elapsed: 1990.7min finished\n"
     ]
    },
    {
     "name": "stdout",
     "output_type": "stream",
     "text": [
      "\n",
      "Best score for Multi-Layer \n",
      "Perceptron with _chi2 dataset: 0.7466949779592725\n",
      "\n",
      "Best hyperparameters for Multi-Layer \n",
      "Perceptron with _chi2 dataset:\n",
      "memory : None\n",
      "steps : [('clf', MLPRegressor(alpha=1e-05, batch_size=100, hidden_layer_sizes=(200,),\n",
      "             momentum=0.7, power_t=0.001, random_state=7))]\n",
      "verbose : False\n",
      "clf : MLPRegressor(alpha=1e-05, batch_size=100, hidden_layer_sizes=(200,),\n",
      "             momentum=0.7, power_t=0.001, random_state=7)\n",
      "clf__activation : relu\n",
      "clf__alpha : 1e-05\n",
      "clf__batch_size : 100\n",
      "clf__beta_1 : 0.9\n",
      "clf__beta_2 : 0.999\n",
      "clf__early_stopping : False\n",
      "clf__epsilon : 1e-08\n",
      "clf__hidden_layer_sizes : (200,)\n",
      "clf__learning_rate : constant\n",
      "clf__learning_rate_init : 0.001\n",
      "clf__max_fun : 15000\n",
      "clf__max_iter : 200\n",
      "clf__momentum : 0.7\n",
      "clf__n_iter_no_change : 10\n",
      "clf__nesterovs_momentum : True\n",
      "clf__power_t : 0.001\n",
      "clf__random_state : 7\n",
      "clf__shuffle : True\n",
      "clf__solver : adam\n",
      "clf__tol : 0.0001\n",
      "clf__validation_fraction : 0.1\n",
      "clf__verbose : False\n",
      "clf__warm_start : False\n",
      "\n",
      "Prediction scores for Multi-Layer \n",
      "Perceptron using _chi2 :\n",
      "Mean Squared error: 5.149742709602428\n",
      "Mean Absolute error: 1.4427634437777215\n",
      "R^2: 0.7358055628336353\n"
     ]
    }
   ],
   "source": [
    "chi2_model, chi2_train_score, chi2_mse, chi2_mae, chi2_r2 = get_best_model(sel_methods[1], args, num_folds, is_sample)"
   ]
  },
  {
   "cell_type": "code",
   "execution_count": 15,
   "metadata": {},
   "outputs": [],
   "source": [
    "# folds reduced to 3 for initial exploration due to excessive processing time\n",
    "is_sample = True\n",
    "num_folds = 3\n",
    "args = {'clf__activation':('identity','logistic','tanh','relu'),\n",
    "        'clf__alpha':(0.000001,0.00001),\n",
    "        'clf__batch_size':(arange(100, 300, 100)),\n",
    "        'clf__hidden_layer_sizes':((100,),(200,),(300,)),\n",
    "        'clf__learning_rate':('constant', 'invscaling', 'adaptive'),\n",
    "        'clf__max_iter':(arange(100,300,100)),\n",
    "        'clf__momentum':(arange(0.3,0.7,0.1)),\n",
    "        'clf__power_t':(0.001,0.002,0.003),\n",
    "        'clf__random_state':([7]),\n",
    "        'clf__solver':('lbfgs','logistic','adam'),\n",
    "        'clf__tol':(arange(0.0001,0.0003,0.0001))\n",
    "       }"
   ]
  },
  {
   "cell_type": "code",
   "execution_count": 16,
   "metadata": {},
   "outputs": [
    {
     "name": "stdout",
     "output_type": "stream",
     "text": [
      "\n",
      "\n",
      "Running cross fold validation for Multi-Layer \n",
      "Perceptron with _chi2 dataset\n",
      "Fitting 3 folds for each of 20736 candidates, totalling 62208 fits\n"
     ]
    },
    {
     "name": "stderr",
     "output_type": "stream",
     "text": [
      "[Parallel(n_jobs=6)]: Using backend LokyBackend with 6 concurrent workers.\n",
      "[Parallel(n_jobs=6)]: Done  38 tasks      | elapsed:    4.7s\n",
      "[Parallel(n_jobs=6)]: Done 188 tasks      | elapsed:   21.3s\n",
      "[Parallel(n_jobs=6)]: Done 438 tasks      | elapsed:   50.0s\n",
      "[Parallel(n_jobs=6)]: Done 788 tasks      | elapsed:  1.5min\n",
      "[Parallel(n_jobs=6)]: Done 1238 tasks      | elapsed:  2.3min\n",
      "[Parallel(n_jobs=6)]: Done 1788 tasks      | elapsed:  3.8min\n",
      "[Parallel(n_jobs=6)]: Done 2438 tasks      | elapsed:  5.5min\n",
      "[Parallel(n_jobs=6)]: Done 3188 tasks      | elapsed:  8.3min\n",
      "[Parallel(n_jobs=6)]: Done 4038 tasks      | elapsed: 11.3min\n",
      "[Parallel(n_jobs=6)]: Done 4988 tasks      | elapsed: 13.1min\n",
      "[Parallel(n_jobs=6)]: Done 6038 tasks      | elapsed: 16.1min\n",
      "[Parallel(n_jobs=6)]: Done 7188 tasks      | elapsed: 20.6min\n",
      "[Parallel(n_jobs=6)]: Done 8438 tasks      | elapsed: 24.5min\n",
      "[Parallel(n_jobs=6)]: Done 9788 tasks      | elapsed: 27.6min\n",
      "[Parallel(n_jobs=6)]: Done 11238 tasks      | elapsed: 32.6min\n",
      "[Parallel(n_jobs=6)]: Done 12788 tasks      | elapsed: 36.4min\n",
      "[Parallel(n_jobs=6)]: Done 14438 tasks      | elapsed: 41.5min\n",
      "[Parallel(n_jobs=6)]: Done 16188 tasks      | elapsed: 51.4min\n",
      "[Parallel(n_jobs=6)]: Done 18038 tasks      | elapsed: 75.3min\n",
      "[Parallel(n_jobs=6)]: Done 19988 tasks      | elapsed: 110.7min\n",
      "[Parallel(n_jobs=6)]: Done 22038 tasks      | elapsed: 141.3min\n",
      "[Parallel(n_jobs=6)]: Done 24188 tasks      | elapsed: 180.3min\n",
      "[Parallel(n_jobs=6)]: Done 26438 tasks      | elapsed: 214.5min\n",
      "[Parallel(n_jobs=6)]: Done 28788 tasks      | elapsed: 246.9min\n",
      "[Parallel(n_jobs=6)]: Done 31238 tasks      | elapsed: 296.0min\n",
      "[Parallel(n_jobs=6)]: Done 33788 tasks      | elapsed: 325.3min\n",
      "[Parallel(n_jobs=6)]: Done 36438 tasks      | elapsed: 361.9min\n",
      "[Parallel(n_jobs=6)]: Done 39188 tasks      | elapsed: 409.4min\n",
      "[Parallel(n_jobs=6)]: Done 42038 tasks      | elapsed: 445.6min\n",
      "[Parallel(n_jobs=6)]: Done 44988 tasks      | elapsed: 484.5min\n",
      "[Parallel(n_jobs=6)]: Done 48038 tasks      | elapsed: 531.5min\n",
      "[Parallel(n_jobs=6)]: Done 51188 tasks      | elapsed: 582.6min\n",
      "[Parallel(n_jobs=6)]: Done 54438 tasks      | elapsed: 639.6min\n",
      "[Parallel(n_jobs=6)]: Done 57788 tasks      | elapsed: 688.0min\n",
      "[Parallel(n_jobs=6)]: Done 61238 tasks      | elapsed: 737.9min\n",
      "[Parallel(n_jobs=6)]: Done 62208 out of 62208 | elapsed: 760.5min finished\n"
     ]
    },
    {
     "name": "stdout",
     "output_type": "stream",
     "text": [
      "\n",
      "Best score for Multi-Layer \n",
      "Perceptron with _chi2 dataset: 0.7466949779592725\n",
      "\n",
      "Best hyperparameters for Multi-Layer \n",
      "Perceptron with _chi2 dataset:\n",
      "memory : None\n",
      "steps : [('clf', MLPRegressor(alpha=1e-05, batch_size=100, hidden_layer_sizes=(200,),\n",
      "             momentum=0.3, power_t=0.001, random_state=7))]\n",
      "verbose : False\n",
      "clf : MLPRegressor(alpha=1e-05, batch_size=100, hidden_layer_sizes=(200,),\n",
      "             momentum=0.3, power_t=0.001, random_state=7)\n",
      "clf__activation : relu\n",
      "clf__alpha : 1e-05\n",
      "clf__batch_size : 100\n",
      "clf__beta_1 : 0.9\n",
      "clf__beta_2 : 0.999\n",
      "clf__early_stopping : False\n",
      "clf__epsilon : 1e-08\n",
      "clf__hidden_layer_sizes : (200,)\n",
      "clf__learning_rate : constant\n",
      "clf__learning_rate_init : 0.001\n",
      "clf__max_fun : 15000\n",
      "clf__max_iter : 200\n",
      "clf__momentum : 0.3\n",
      "clf__n_iter_no_change : 10\n",
      "clf__nesterovs_momentum : True\n",
      "clf__power_t : 0.001\n",
      "clf__random_state : 7\n",
      "clf__shuffle : True\n",
      "clf__solver : adam\n",
      "clf__tol : 0.0001\n",
      "clf__validation_fraction : 0.1\n",
      "clf__verbose : False\n",
      "clf__warm_start : False\n",
      "\n",
      "Prediction scores for Multi-Layer \n",
      "Perceptron using _chi2 :\n",
      "Mean Squared error: 5.149742709602428\n",
      "Mean Absolute error: 1.4427634437777215\n",
      "R^2: 0.7358055628336353\n"
     ]
    }
   ],
   "source": [
    "chi2_model, chi2_train_score, chi2_mse, chi2_mae, chi2_r2 = get_best_model(sel_methods[1], args, num_folds, is_sample)"
   ]
  },
  {
   "cell_type": "code",
   "execution_count": 16,
   "metadata": {},
   "outputs": [],
   "source": [
    "# further hyperparameter tuning\n",
    "is_sample = True\n",
    "num_folds = 5\n",
    "args = {'clf__activation':(['relu']),\n",
    "        'clf__alpha':(0.00001,0.00002,0.00003),\n",
    "        'clf__batch_size':(arange(50, 150, 25)),\n",
    "        'clf__hidden_layer_sizes':((150,),(200,),(250,)),\n",
    "        'clf__learning_rate':(['constant']),\n",
    "        'clf__max_iter':(arange(150,250,25)),\n",
    "        'clf__momentum':(arange(0.1,0.4,0.1)),\n",
    "        'clf__power_t':(0.001,0.002,0.003),\n",
    "        'clf__random_state':([7]),\n",
    "        'clf__solver':(['adam']),\n",
    "        'clf__tol':(arange(0.0001,0.0003,0.0001))\n",
    "       }"
   ]
  },
  {
   "cell_type": "code",
   "execution_count": 17,
   "metadata": {},
   "outputs": [
    {
     "name": "stdout",
     "output_type": "stream",
     "text": [
      "\n",
      "\n",
      "Running cross fold validation for Multi-Layer \n",
      "Perceptron with _chi2 dataset\n",
      "Fitting 5 folds for each of 3456 candidates, totalling 17280 fits\n"
     ]
    },
    {
     "name": "stderr",
     "output_type": "stream",
     "text": [
      "[Parallel(n_jobs=6)]: Using backend LokyBackend with 6 concurrent workers.\n",
      "[Parallel(n_jobs=6)]: Done  38 tasks      | elapsed:  1.2min\n",
      "[Parallel(n_jobs=6)]: Done 188 tasks      | elapsed:  5.8min\n",
      "[Parallel(n_jobs=6)]: Done 438 tasks      | elapsed: 13.9min\n",
      "[Parallel(n_jobs=6)]: Done 788 tasks      | elapsed: 24.5min\n",
      "[Parallel(n_jobs=6)]: Done 1238 tasks      | elapsed: 36.4min\n",
      "[Parallel(n_jobs=6)]: Done 1788 tasks      | elapsed: 51.6min\n",
      "[Parallel(n_jobs=6)]: Done 2438 tasks      | elapsed: 70.9min\n",
      "[Parallel(n_jobs=6)]: Done 3188 tasks      | elapsed: 90.6min\n",
      "[Parallel(n_jobs=6)]: Done 4038 tasks      | elapsed: 112.8min\n",
      "[Parallel(n_jobs=6)]: Done 4988 tasks      | elapsed: 139.3min\n",
      "[Parallel(n_jobs=6)]: Done 6038 tasks      | elapsed: 170.4min\n",
      "[Parallel(n_jobs=6)]: Done 7188 tasks      | elapsed: 200.2min\n",
      "[Parallel(n_jobs=6)]: Done 8438 tasks      | elapsed: 231.4min\n",
      "[Parallel(n_jobs=6)]: Done 9788 tasks      | elapsed: 267.7min\n",
      "[Parallel(n_jobs=6)]: Done 11238 tasks      | elapsed: 307.3min\n",
      "[Parallel(n_jobs=6)]: Done 12788 tasks      | elapsed: 350.8min\n",
      "[Parallel(n_jobs=6)]: Done 14438 tasks      | elapsed: 396.3min\n",
      "[Parallel(n_jobs=6)]: Done 16188 tasks      | elapsed: 446.8min\n",
      "[Parallel(n_jobs=6)]: Done 17280 out of 17280 | elapsed: 476.7min finished\n"
     ]
    },
    {
     "name": "stdout",
     "output_type": "stream",
     "text": [
      "\n",
      "Best score for Multi-Layer \n",
      "Perceptron with _chi2 dataset: 0.747420823791542\n",
      "\n",
      "Best hyperparameters for Multi-Layer \n",
      "Perceptron with _chi2 dataset:\n",
      "memory : None\n",
      "steps : [('clf', MLPRegressor(alpha=1e-05, batch_size=75, hidden_layer_sizes=(200,),\n",
      "             max_iter=150, momentum=0.1, power_t=0.001, random_state=7))]\n",
      "verbose : False\n",
      "clf : MLPRegressor(alpha=1e-05, batch_size=75, hidden_layer_sizes=(200,),\n",
      "             max_iter=150, momentum=0.1, power_t=0.001, random_state=7)\n",
      "clf__activation : relu\n",
      "clf__alpha : 1e-05\n",
      "clf__batch_size : 75\n",
      "clf__beta_1 : 0.9\n",
      "clf__beta_2 : 0.999\n",
      "clf__early_stopping : False\n",
      "clf__epsilon : 1e-08\n",
      "clf__hidden_layer_sizes : (200,)\n",
      "clf__learning_rate : constant\n",
      "clf__learning_rate_init : 0.001\n",
      "clf__max_fun : 15000\n",
      "clf__max_iter : 150\n",
      "clf__momentum : 0.1\n",
      "clf__n_iter_no_change : 10\n",
      "clf__nesterovs_momentum : True\n",
      "clf__power_t : 0.001\n",
      "clf__random_state : 7\n",
      "clf__shuffle : True\n",
      "clf__solver : adam\n",
      "clf__tol : 0.0001\n",
      "clf__validation_fraction : 0.1\n",
      "clf__verbose : False\n",
      "clf__warm_start : False\n",
      "\n",
      "Prediction scores for Multi-Layer \n",
      "Perceptron using _chi2 :\n",
      "Mean Squared error: 5.122558358237128\n",
      "Mean Absolute error: 1.4364430444710141\n",
      "R^2: 0.7372001867621856\n"
     ]
    }
   ],
   "source": [
    "chi2_model, chi2_train_score, chi2_mse, chi2_mae, chi2_r2 = get_best_model(sel_methods[1], args, num_folds, is_sample)"
   ]
  },
  {
   "cell_type": "code",
   "execution_count": 9,
   "metadata": {},
   "outputs": [],
   "source": [
    "# further hyperparameter tuning\n",
    "is_sample = True\n",
    "num_folds = 10\n",
    "args = {'clf__activation':(['relu']),\n",
    "        'clf__alpha':(0.00001,0.00002,0.00003),\n",
    "        'clf__batch_size':(arange(65, 85, 5)),\n",
    "        'clf__hidden_layer_sizes':((175,),(200,),(225,)),\n",
    "        'clf__learning_rate':(['constant']),\n",
    "        'clf__max_iter':(arange(50,200,50)),\n",
    "        'clf__momentum':(arange(0.05,0.11,0.01)),\n",
    "        'clf__power_t':(0.001,0.002,0.003),\n",
    "        'clf__random_state':([7]),\n",
    "        'clf__solver':(['adam']),\n",
    "        'clf__tol':(arange(0.0001,0.0003,0.0001))\n",
    "       }"
   ]
  },
  {
   "cell_type": "code",
   "execution_count": 10,
   "metadata": {
    "scrolled": false
   },
   "outputs": [
    {
     "name": "stdout",
     "output_type": "stream",
     "text": [
      "\n",
      "\n",
      "Running cross fold validation for Multi-Layer \n",
      "Perceptron with _chi2 dataset\n",
      "Fitting 10 folds for each of 3888 candidates, totalling 38880 fits\n"
     ]
    },
    {
     "name": "stderr",
     "output_type": "stream",
     "text": [
      "[Parallel(n_jobs=6)]: Using backend LokyBackend with 6 concurrent workers.\n",
      "[Parallel(n_jobs=6)]: Done  38 tasks      | elapsed:   36.9s\n",
      "[Parallel(n_jobs=6)]: Done 188 tasks      | elapsed:  2.7min\n",
      "[Parallel(n_jobs=6)]: Done 438 tasks      | elapsed:  7.0min\n",
      "[Parallel(n_jobs=6)]: Done 788 tasks      | elapsed: 15.9min\n",
      "[Parallel(n_jobs=6)]: Done 1238 tasks      | elapsed: 25.9min\n",
      "[Parallel(n_jobs=6)]: Done 1788 tasks      | elapsed: 37.3min\n",
      "[Parallel(n_jobs=6)]: Done 2438 tasks      | elapsed: 52.5min\n",
      "[Parallel(n_jobs=6)]: Done 3188 tasks      | elapsed: 75.3min\n",
      "[Parallel(n_jobs=6)]: Done 4038 tasks      | elapsed: 93.7min\n",
      "[Parallel(n_jobs=6)]: Done 4988 tasks      | elapsed: 115.6min\n",
      "[Parallel(n_jobs=6)]: Done 6038 tasks      | elapsed: 140.3min\n",
      "[Parallel(n_jobs=6)]: Done 7188 tasks      | elapsed: 164.6min\n",
      "[Parallel(n_jobs=6)]: Done 8438 tasks      | elapsed: 192.0min\n",
      "[Parallel(n_jobs=6)]: Done 9788 tasks      | elapsed: 224.0min\n",
      "[Parallel(n_jobs=6)]: Done 11238 tasks      | elapsed: 254.6min\n",
      "[Parallel(n_jobs=6)]: Done 12788 tasks      | elapsed: 298.2min\n",
      "[Parallel(n_jobs=6)]: Done 14438 tasks      | elapsed: 333.9min\n",
      "[Parallel(n_jobs=6)]: Done 16188 tasks      | elapsed: 379.3min\n",
      "[Parallel(n_jobs=6)]: Done 18038 tasks      | elapsed: 417.8min\n",
      "[Parallel(n_jobs=6)]: Done 19988 tasks      | elapsed: 460.0min\n",
      "[Parallel(n_jobs=6)]: Done 22038 tasks      | elapsed: 504.4min\n",
      "[Parallel(n_jobs=6)]: Done 24188 tasks      | elapsed: 551.6min\n",
      "[Parallel(n_jobs=6)]: Done 26438 tasks      | elapsed: 603.5min\n",
      "[Parallel(n_jobs=6)]: Done 28788 tasks      | elapsed: 657.2min\n",
      "[Parallel(n_jobs=6)]: Done 31238 tasks      | elapsed: 712.2min\n",
      "[Parallel(n_jobs=6)]: Done 33788 tasks      | elapsed: 766.0min\n",
      "[Parallel(n_jobs=6)]: Done 36438 tasks      | elapsed: 825.8min\n",
      "[Parallel(n_jobs=6)]: Done 38880 out of 38880 | elapsed: 882.6min finished\n"
     ]
    },
    {
     "name": "stdout",
     "output_type": "stream",
     "text": [
      "\n",
      "Best score for Multi-Layer \n",
      "Perceptron with _chi2 dataset: 0.7466440100711442\n",
      "\n",
      "Best hyperparameters for Multi-Layer \n",
      "Perceptron with _chi2 dataset:\n",
      "memory : None\n",
      "steps : [('clf', MLPRegressor(alpha=1e-05, batch_size=75, hidden_layer_sizes=(175,),\n",
      "             max_iter=150, momentum=0.05, power_t=0.001, random_state=7))]\n",
      "verbose : False\n",
      "clf : MLPRegressor(alpha=1e-05, batch_size=75, hidden_layer_sizes=(175,),\n",
      "             max_iter=150, momentum=0.05, power_t=0.001, random_state=7)\n",
      "clf__activation : relu\n",
      "clf__alpha : 1e-05\n",
      "clf__batch_size : 75\n",
      "clf__beta_1 : 0.9\n",
      "clf__beta_2 : 0.999\n",
      "clf__early_stopping : False\n",
      "clf__epsilon : 1e-08\n",
      "clf__hidden_layer_sizes : (175,)\n",
      "clf__learning_rate : constant\n",
      "clf__learning_rate_init : 0.001\n",
      "clf__max_fun : 15000\n",
      "clf__max_iter : 150\n",
      "clf__momentum : 0.05\n",
      "clf__n_iter_no_change : 10\n",
      "clf__nesterovs_momentum : True\n",
      "clf__power_t : 0.001\n",
      "clf__random_state : 7\n",
      "clf__shuffle : True\n",
      "clf__solver : adam\n",
      "clf__tol : 0.0001\n",
      "clf__validation_fraction : 0.1\n",
      "clf__verbose : False\n",
      "clf__warm_start : False\n",
      "\n",
      "Prediction scores for Multi-Layer \n",
      "Perceptron using _chi2 :\n",
      "Mean Squared error: 5.151476765038124\n",
      "Mean Absolute error: 1.4044119876627024\n",
      "R^2: 0.7357166015348515\n"
     ]
    }
   ],
   "source": [
    "chi2_model, chi2_train_score, chi2_mse, chi2_mae, chi2_r2 = get_best_model(sel_methods[1], args, num_folds, is_sample)"
   ]
  },
  {
   "cell_type": "code",
   "execution_count": 28,
   "metadata": {},
   "outputs": [],
   "source": [
    "# further hyperparameter tuning\n",
    "is_sample = True\n",
    "num_folds = 10\n",
    "args = {'clf__activation':(['relu']),\n",
    "        'clf__alpha':([0.00001]),\n",
    "        'clf__batch_size':(arange(70, 80, 5)),\n",
    "        'clf__hidden_layer_sizes':((170,),(175,),(180,)),\n",
    "        'clf__learning_rate':(['constant']),\n",
    "        'clf__max_iter':(arange(125,175,25)),\n",
    "        'clf__momentum':(arange(0.02,0.06,0.01)),\n",
    "        'clf__power_t':([0.001]),\n",
    "        'clf__random_state':([7]),\n",
    "        'clf__solver':(['adam']),\n",
    "        'clf__tol':([0.0001])\n",
    "       }"
   ]
  },
  {
   "cell_type": "code",
   "execution_count": 29,
   "metadata": {},
   "outputs": [
    {
     "name": "stderr",
     "output_type": "stream",
     "text": [
      "[Parallel(n_jobs=6)]: Using backend LokyBackend with 6 concurrent workers.\n"
     ]
    },
    {
     "name": "stdout",
     "output_type": "stream",
     "text": [
      "\n",
      "\n",
      "Running cross fold validation for Multi-Layer \n",
      "Perceptron with _chi2 dataset\n",
      "Fitting 10 folds for each of 48 candidates, totalling 480 fits\n"
     ]
    },
    {
     "name": "stderr",
     "output_type": "stream",
     "text": [
      "[Parallel(n_jobs=6)]: Done  38 tasks      | elapsed:   49.4s\n",
      "[Parallel(n_jobs=6)]: Done 188 tasks      | elapsed:  4.5min\n",
      "[Parallel(n_jobs=6)]: Done 438 tasks      | elapsed: 10.5min\n",
      "[Parallel(n_jobs=6)]: Done 480 out of 480 | elapsed: 11.6min finished\n"
     ]
    },
    {
     "name": "stdout",
     "output_type": "stream",
     "text": [
      "\n",
      "Best score for Multi-Layer \n",
      "Perceptron with _chi2 dataset: 0.7468575066215807\n",
      "\n",
      "Best hyperparameters for Multi-Layer \n",
      "Perceptron with _chi2 dataset:\n",
      "memory : None\n",
      "steps : [('clf', MLPRegressor(alpha=1e-05, batch_size=75, hidden_layer_sizes=(175,),\n",
      "             max_iter=125, momentum=0.02, power_t=0.001, random_state=7))]\n",
      "verbose : False\n",
      "clf : MLPRegressor(alpha=1e-05, batch_size=75, hidden_layer_sizes=(175,),\n",
      "             max_iter=125, momentum=0.02, power_t=0.001, random_state=7)\n",
      "clf__activation : relu\n",
      "clf__alpha : 1e-05\n",
      "clf__batch_size : 75\n",
      "clf__beta_1 : 0.9\n",
      "clf__beta_2 : 0.999\n",
      "clf__early_stopping : False\n",
      "clf__epsilon : 1e-08\n",
      "clf__hidden_layer_sizes : (175,)\n",
      "clf__learning_rate : constant\n",
      "clf__learning_rate_init : 0.001\n",
      "clf__max_fun : 15000\n",
      "clf__max_iter : 125\n",
      "clf__momentum : 0.02\n",
      "clf__n_iter_no_change : 10\n",
      "clf__nesterovs_momentum : True\n",
      "clf__power_t : 0.001\n",
      "clf__random_state : 7\n",
      "clf__shuffle : True\n",
      "clf__solver : adam\n",
      "clf__tol : 0.0001\n",
      "clf__validation_fraction : 0.1\n",
      "clf__verbose : False\n",
      "clf__warm_start : False\n",
      "\n",
      "Prediction scores for Multi-Layer \n",
      "Perceptron using _chi2 :\n",
      "Mean Squared error: 5.151476765038124\n",
      "Mean Absolute error: 1.4044119876627024\n",
      "R^2: 0.7357166015348515\n"
     ]
    }
   ],
   "source": [
    "chi2_model, chi2_train_score, chi2_mse, chi2_mae, chi2_r2 = get_best_model(sel_methods[1], args, num_folds, is_sample)"
   ]
  },
  {
   "cell_type": "code",
   "execution_count": 38,
   "metadata": {},
   "outputs": [],
   "source": [
    "# further hyperparameter tuning\n",
    "is_sample = False\n",
    "num_folds = 10\n",
    "args = {'clf__activation':(['relu']),\n",
    "        'clf__alpha':([0.00001]),\n",
    "        'clf__batch_size':(arange(70, 80, 5)),\n",
    "        'clf__hidden_layer_sizes':((170,),(175,),(180,)),\n",
    "        'clf__learning_rate':(['constant']),\n",
    "        'clf__max_iter':(arange(125,175,25)),\n",
    "        'clf__momentum':(arange(0.01,0.05,0.01)),\n",
    "        'clf__power_t':([0.001]),\n",
    "        'clf__random_state':([7]),\n",
    "        'clf__solver':(['adam']),\n",
    "        'clf__tol':([0.0001])\n",
    "       }"
   ]
  },
  {
   "cell_type": "code",
   "execution_count": 39,
   "metadata": {},
   "outputs": [
    {
     "name": "stdout",
     "output_type": "stream",
     "text": [
      "\n",
      "\n",
      "Running cross fold validation for Multi-Layer \n",
      "Perceptron with _chi2 dataset\n",
      "Fitting 10 folds for each of 48 candidates, totalling 480 fits\n"
     ]
    },
    {
     "name": "stderr",
     "output_type": "stream",
     "text": [
      "[Parallel(n_jobs=6)]: Using backend LokyBackend with 6 concurrent workers.\n",
      "[Parallel(n_jobs=6)]: Done  38 tasks      | elapsed:  4.9min\n",
      "[Parallel(n_jobs=6)]: Done 188 tasks      | elapsed: 21.1min\n",
      "[Parallel(n_jobs=6)]: Done 438 tasks      | elapsed: 47.9min\n",
      "[Parallel(n_jobs=6)]: Done 480 out of 480 | elapsed: 52.2min finished\n"
     ]
    },
    {
     "name": "stdout",
     "output_type": "stream",
     "text": [
      "\n",
      "Best score for Multi-Layer \n",
      "Perceptron with _chi2 dataset: 0.7348444217122291\n",
      "\n",
      "Best hyperparameters for Multi-Layer \n",
      "Perceptron with _chi2 dataset:\n",
      "memory : None\n",
      "steps : [('clf', MLPRegressor(alpha=1e-05, batch_size=75, hidden_layer_sizes=(170,),\n",
      "             max_iter=125, momentum=0.01, power_t=0.001, random_state=7))]\n",
      "verbose : False\n",
      "clf : MLPRegressor(alpha=1e-05, batch_size=75, hidden_layer_sizes=(170,),\n",
      "             max_iter=125, momentum=0.01, power_t=0.001, random_state=7)\n",
      "clf__activation : relu\n",
      "clf__alpha : 1e-05\n",
      "clf__batch_size : 75\n",
      "clf__beta_1 : 0.9\n",
      "clf__beta_2 : 0.999\n",
      "clf__early_stopping : False\n",
      "clf__epsilon : 1e-08\n",
      "clf__hidden_layer_sizes : (170,)\n",
      "clf__learning_rate : constant\n",
      "clf__learning_rate_init : 0.001\n",
      "clf__max_fun : 15000\n",
      "clf__max_iter : 125\n",
      "clf__momentum : 0.01\n",
      "clf__n_iter_no_change : 10\n",
      "clf__nesterovs_momentum : True\n",
      "clf__power_t : 0.001\n",
      "clf__random_state : 7\n",
      "clf__shuffle : True\n",
      "clf__solver : adam\n",
      "clf__tol : 0.0001\n",
      "clf__validation_fraction : 0.1\n",
      "clf__verbose : False\n",
      "clf__warm_start : False\n",
      "\n",
      "Prediction scores for Multi-Layer \n",
      "Perceptron using _chi2 :\n",
      "Mean Squared error: 5.028096261159869\n",
      "Mean Absolute error: 1.390588032364841\n",
      "R^2: 0.7420463241283002\n"
     ]
    },
    {
     "name": "stderr",
     "output_type": "stream",
     "text": [
      "c:\\users\\chris\\appdata\\local\\programs\\python\\python39\\lib\\site-packages\\sklearn\\neural_network\\_multilayer_perceptron.py:582: ConvergenceWarning: Stochastic Optimizer: Maximum iterations (125) reached and the optimization hasn't converged yet.\n",
      "  warnings.warn(\n"
     ]
    }
   ],
   "source": [
    "chi2_model, chi2_train_score, chi2_mse, chi2_mae, chi2_r2 = get_best_model(sel_methods[1], args, num_folds, is_sample)"
   ]
  },
  {
   "cell_type": "code",
   "execution_count": 54,
   "metadata": {},
   "outputs": [],
   "source": [
    "# further hyperparameter tuning\n",
    "is_sample = False\n",
    "num_folds = 10\n",
    "args = {'clf__activation':(['relu']),\n",
    "        'clf__alpha':([0.00001]),\n",
    "        'clf__batch_size':(arange(70, 80, 5)),\n",
    "        'clf__hidden_layer_sizes':((150,),(160,),(170,),(180,),(190,)),\n",
    "        'clf__learning_rate':(['constant']),\n",
    "        'clf__max_iter':(arange(75,175,25)),\n",
    "        'clf__momentum':(arange(0.001,0.01,0.001)),\n",
    "        'clf__power_t':([0.001]),\n",
    "        'clf__random_state':([7]),\n",
    "        'clf__solver':(['adam']),\n",
    "        'clf__tol':([0.0001])\n",
    "       }"
   ]
  },
  {
   "cell_type": "code",
   "execution_count": 55,
   "metadata": {
    "scrolled": false
   },
   "outputs": [
    {
     "name": "stdout",
     "output_type": "stream",
     "text": [
      "\n",
      "\n",
      "Running cross fold validation for Multi-Layer \n",
      "Perceptron with _chi2 dataset\n",
      "Fitting 10 folds for each of 360 candidates, totalling 3600 fits\n"
     ]
    },
    {
     "name": "stderr",
     "output_type": "stream",
     "text": [
      "[Parallel(n_jobs=6)]: Using backend LokyBackend with 6 concurrent workers.\n",
      "[Parallel(n_jobs=6)]: Done  38 tasks      | elapsed:  2.9min\n",
      "[Parallel(n_jobs=6)]: Done 188 tasks      | elapsed: 14.7min\n",
      "[Parallel(n_jobs=6)]: Done 438 tasks      | elapsed: 34.0min\n",
      "[Parallel(n_jobs=6)]: Done 788 tasks      | elapsed: 63.8min\n",
      "[Parallel(n_jobs=6)]: Done 1238 tasks      | elapsed: 109.6min\n",
      "[Parallel(n_jobs=6)]: Done 1788 tasks      | elapsed: 168.5min\n",
      "[Parallel(n_jobs=6)]: Done 2438 tasks      | elapsed: 223.7min\n",
      "[Parallel(n_jobs=6)]: Done 3188 tasks      | elapsed: 295.3min\n",
      "[Parallel(n_jobs=6)]: Done 3600 out of 3600 | elapsed: 338.3min finished\n"
     ]
    },
    {
     "name": "stdout",
     "output_type": "stream",
     "text": [
      "\n",
      "Best score for Multi-Layer \n",
      "Perceptron with _chi2 dataset: 0.7352390287367413\n",
      "\n",
      "Best hyperparameters for Multi-Layer \n",
      "Perceptron with _chi2 dataset:\n",
      "memory : None\n",
      "steps : [('clf', MLPRegressor(alpha=1e-05, batch_size=75, hidden_layer_sizes=(170,), max_iter=75,\n",
      "             momentum=0.001, power_t=0.001, random_state=7))]\n",
      "verbose : False\n",
      "clf : MLPRegressor(alpha=1e-05, batch_size=75, hidden_layer_sizes=(170,), max_iter=75,\n",
      "             momentum=0.001, power_t=0.001, random_state=7)\n",
      "clf__activation : relu\n",
      "clf__alpha : 1e-05\n",
      "clf__batch_size : 75\n",
      "clf__beta_1 : 0.9\n",
      "clf__beta_2 : 0.999\n",
      "clf__early_stopping : False\n",
      "clf__epsilon : 1e-08\n",
      "clf__hidden_layer_sizes : (170,)\n",
      "clf__learning_rate : constant\n",
      "clf__learning_rate_init : 0.001\n",
      "clf__max_fun : 15000\n",
      "clf__max_iter : 75\n",
      "clf__momentum : 0.001\n",
      "clf__n_iter_no_change : 10\n",
      "clf__nesterovs_momentum : True\n",
      "clf__power_t : 0.001\n",
      "clf__random_state : 7\n",
      "clf__shuffle : True\n",
      "clf__solver : adam\n",
      "clf__tol : 0.0001\n",
      "clf__validation_fraction : 0.1\n",
      "clf__verbose : False\n",
      "clf__warm_start : False\n",
      "\n",
      "Prediction scores for Multi-Layer \n",
      "Perceptron using _chi2 :\n",
      "Mean Squared error: 5.040947261847318\n",
      "Mean Absolute error: 1.4072637216391695\n",
      "R^2: 0.7413870362599346\n"
     ]
    },
    {
     "name": "stderr",
     "output_type": "stream",
     "text": [
      "c:\\users\\chris\\appdata\\local\\programs\\python\\python39\\lib\\site-packages\\sklearn\\neural_network\\_multilayer_perceptron.py:582: ConvergenceWarning: Stochastic Optimizer: Maximum iterations (75) reached and the optimization hasn't converged yet.\n",
      "  warnings.warn(\n"
     ]
    }
   ],
   "source": [
    "chi2_model, chi2_train_score, chi2_mse, chi2_mae, chi2_r2 = get_best_model(sel_methods[1], args, num_folds, is_sample)"
   ]
  },
  {
   "cell_type": "code",
   "execution_count": 10,
   "metadata": {},
   "outputs": [],
   "source": [
    "# further hyperparameter tuning\n",
    "is_sample = False\n",
    "num_folds = 10\n",
    "args = {'clf__activation':(['relu']),\n",
    "        'clf__alpha':([0.00001]),\n",
    "        'clf__batch_size':([75]),\n",
    "        'clf__hidden_layer_sizes':([170]),\n",
    "        'clf__learning_rate':(['constant']),\n",
    "        'clf__max_iter':([75]),\n",
    "        'clf__momentum':([0.001]),\n",
    "        'clf__power_t':([0.001]),\n",
    "        'clf__random_state':([7]),\n",
    "        'clf__solver':(['adam']),\n",
    "        'clf__tol':([0.0001])\n",
    "       }"
   ]
  },
  {
   "cell_type": "code",
   "execution_count": 11,
   "metadata": {},
   "outputs": [
    {
     "name": "stdout",
     "output_type": "stream",
     "text": [
      "\n",
      "\n",
      "Running cross fold validation for Multi-Layer \n",
      "Perceptron with _chi2 dataset\n",
      "Fitting 10 folds for each of 1 candidates, totalling 10 fits\n"
     ]
    },
    {
     "name": "stderr",
     "output_type": "stream",
     "text": [
      "[Parallel(n_jobs=6)]: Using backend LokyBackend with 6 concurrent workers.\n",
      "[Parallel(n_jobs=6)]: Done  10 out of  10 | elapsed:   53.8s remaining:    0.0s\n",
      "[Parallel(n_jobs=6)]: Done  10 out of  10 | elapsed:   53.8s finished\n"
     ]
    },
    {
     "name": "stdout",
     "output_type": "stream",
     "text": [
      "\n",
      "Best score for Multi-Layer \n",
      "Perceptron with _chi2 dataset: 0.7352390287367413\n",
      "\n",
      "Best hyperparameters for Multi-Layer \n",
      "Perceptron with _chi2 dataset:\n",
      "memory : None\n",
      "steps : [('clf', MLPRegressor(alpha=1e-05, batch_size=75, hidden_layer_sizes=170, max_iter=75,\n",
      "             momentum=0.001, power_t=0.001, random_state=7))]\n",
      "verbose : False\n",
      "clf : MLPRegressor(alpha=1e-05, batch_size=75, hidden_layer_sizes=170, max_iter=75,\n",
      "             momentum=0.001, power_t=0.001, random_state=7)\n",
      "clf__activation : relu\n",
      "clf__alpha : 1e-05\n",
      "clf__batch_size : 75\n",
      "clf__beta_1 : 0.9\n",
      "clf__beta_2 : 0.999\n",
      "clf__early_stopping : False\n",
      "clf__epsilon : 1e-08\n",
      "clf__hidden_layer_sizes : 170\n",
      "clf__learning_rate : constant\n",
      "clf__learning_rate_init : 0.001\n",
      "clf__max_fun : 15000\n",
      "clf__max_iter : 75\n",
      "clf__momentum : 0.001\n",
      "clf__n_iter_no_change : 10\n",
      "clf__nesterovs_momentum : True\n",
      "clf__power_t : 0.001\n",
      "clf__random_state : 7\n",
      "clf__shuffle : True\n",
      "clf__solver : adam\n",
      "clf__tol : 0.0001\n",
      "clf__validation_fraction : 0.1\n",
      "clf__verbose : False\n",
      "clf__warm_start : False\n",
      "\n",
      "Prediction scores for Multi-Layer \n",
      "Perceptron using _chi2 :\n",
      "Mean Squared error: 5.040947261847318\n",
      "Mean Absolute error: 1.4072637216391695\n",
      "R^2: 0.7413870362599346\n"
     ]
    },
    {
     "name": "stderr",
     "output_type": "stream",
     "text": [
      "c:\\users\\chris\\appdata\\local\\programs\\python\\python39\\lib\\site-packages\\sklearn\\neural_network\\_multilayer_perceptron.py:582: ConvergenceWarning: Stochastic Optimizer: Maximum iterations (75) reached and the optimization hasn't converged yet.\n",
      "  warnings.warn(\n"
     ]
    }
   ],
   "source": [
    "chi2_model, chi2_train_score, chi2_mse, chi2_mae, chi2_r2 = get_best_model(sel_methods[1], args, num_folds, is_sample)"
   ]
  },
  {
   "cell_type": "code",
   "execution_count": 23,
   "metadata": {},
   "outputs": [],
   "source": [
    "# Hyperparameters stabalising and accuracy dropping slightly, model saved to avoid overfitting\n",
    "save_model(chi2_model,sel_methods[1])"
   ]
  },
  {
   "cell_type": "markdown",
   "metadata": {},
   "source": [
    "<h3>AdaBoost feature selected dataset<h3>"
   ]
  },
  {
   "cell_type": "code",
   "execution_count": 8,
   "metadata": {},
   "outputs": [],
   "source": [
    "is_sample = True\n",
    "num_folds = 3\n",
    "args = {'clf__activation':('identity','logistic','tanh','relu'),\n",
    "        'clf__alpha':(0.000001,0.00001,0.0001,0.001,0.01,0.1),\n",
    "        'clf__batch_size':(arange(100, 300, 100)),\n",
    "        'clf__hidden_layer_sizes':((100,),(200,),(300,)),\n",
    "        'clf__learning_rate':('constant', 'invscaling', 'adaptive'),\n",
    "        'clf__max_iter':(arange(100,300,100)),\n",
    "        'clf__momentum':(arange(0.7,0.9,0.1)),\n",
    "        'clf__power_t':(0.001,0.01,0.1),\n",
    "        'clf__random_state':([7]),\n",
    "        'clf__solver':('lbfgs','logistic','adam'),\n",
    "        'clf__tol':(0.0001,0.001,0.01)\n",
    "       }"
   ]
  },
  {
   "cell_type": "code",
   "execution_count": 9,
   "metadata": {
    "scrolled": false
   },
   "outputs": [
    {
     "name": "stdout",
     "output_type": "stream",
     "text": [
      "\n",
      "\n",
      "Running cross fold validation for Multi-Layer \n",
      "Perceptron with _adaboost dataset\n",
      "Fitting 3 folds for each of 69984 candidates, totalling 209952 fits\n"
     ]
    },
    {
     "name": "stderr",
     "output_type": "stream",
     "text": [
      "[Parallel(n_jobs=6)]: Using backend LokyBackend with 6 concurrent workers.\n",
      "[Parallel(n_jobs=6)]: Done  38 tasks      | elapsed:    5.9s\n",
      "[Parallel(n_jobs=6)]: Done 188 tasks      | elapsed:   24.7s\n",
      "[Parallel(n_jobs=6)]: Done 438 tasks      | elapsed:   53.7s\n",
      "[Parallel(n_jobs=6)]: Done 788 tasks      | elapsed:  1.5min\n",
      "[Parallel(n_jobs=6)]: Done 1238 tasks      | elapsed:  2.4min\n",
      "[Parallel(n_jobs=6)]: Done 1788 tasks      | elapsed:  3.7min\n",
      "[Parallel(n_jobs=6)]: Done 2438 tasks      | elapsed:  5.5min\n",
      "[Parallel(n_jobs=6)]: Done 3188 tasks      | elapsed:  7.9min\n",
      "[Parallel(n_jobs=6)]: Done 4038 tasks      | elapsed: 11.3min\n",
      "[Parallel(n_jobs=6)]: Done 4988 tasks      | elapsed: 13.5min\n",
      "[Parallel(n_jobs=6)]: Done 6038 tasks      | elapsed: 15.4min\n",
      "[Parallel(n_jobs=6)]: Done 7188 tasks      | elapsed: 18.6min\n",
      "[Parallel(n_jobs=6)]: Done 8438 tasks      | elapsed: 23.9min\n",
      "[Parallel(n_jobs=6)]: Done 9788 tasks      | elapsed: 27.2min\n",
      "[Parallel(n_jobs=6)]: Done 11238 tasks      | elapsed: 30.9min\n",
      "[Parallel(n_jobs=6)]: Done 12788 tasks      | elapsed: 36.8min\n",
      "[Parallel(n_jobs=6)]: Done 14438 tasks      | elapsed: 40.5min\n",
      "[Parallel(n_jobs=6)]: Done 16188 tasks      | elapsed: 45.7min\n",
      "[Parallel(n_jobs=6)]: Done 18038 tasks      | elapsed: 51.9min\n",
      "[Parallel(n_jobs=6)]: Done 19988 tasks      | elapsed: 55.9min\n",
      "[Parallel(n_jobs=6)]: Done 22038 tasks      | elapsed: 62.2min\n",
      "[Parallel(n_jobs=6)]: Done 24188 tasks      | elapsed: 66.2min\n",
      "[Parallel(n_jobs=6)]: Done 26438 tasks      | elapsed: 73.5min\n",
      "[Parallel(n_jobs=6)]: Done 28788 tasks      | elapsed: 78.0min\n",
      "[Parallel(n_jobs=6)]: Done 31238 tasks      | elapsed: 84.4min\n",
      "[Parallel(n_jobs=6)]: Done 33788 tasks      | elapsed: 90.5min\n",
      "[Parallel(n_jobs=6)]: Done 36438 tasks      | elapsed: 97.8min\n",
      "[Parallel(n_jobs=6)]: Done 39188 tasks      | elapsed: 105.9min\n",
      "[Parallel(n_jobs=6)]: Done 42038 tasks      | elapsed: 112.0min\n",
      "[Parallel(n_jobs=6)]: Done 44988 tasks      | elapsed: 120.5min\n",
      "[Parallel(n_jobs=6)]: Done 48038 tasks      | elapsed: 129.8min\n",
      "[Parallel(n_jobs=6)]: Done 51188 tasks      | elapsed: 136.9min\n",
      "[Parallel(n_jobs=6)]: Done 54438 tasks      | elapsed: 157.6min\n",
      "[Parallel(n_jobs=6)]: Done 57788 tasks      | elapsed: 196.9min\n",
      "[Parallel(n_jobs=6)]: Done 61238 tasks      | elapsed: 245.6min\n",
      "[Parallel(n_jobs=6)]: Done 64788 tasks      | elapsed: 285.0min\n",
      "[Parallel(n_jobs=6)]: Done 68438 tasks      | elapsed: 328.2min\n",
      "[Parallel(n_jobs=6)]: Done 72188 tasks      | elapsed: 379.0min\n",
      "[Parallel(n_jobs=6)]: Done 76038 tasks      | elapsed: 426.2min\n",
      "[Parallel(n_jobs=6)]: Done 79988 tasks      | elapsed: 476.4min\n",
      "[Parallel(n_jobs=6)]: Done 84038 tasks      | elapsed: 521.6min\n",
      "[Parallel(n_jobs=6)]: Done 88188 tasks      | elapsed: 569.3min\n",
      "[Parallel(n_jobs=6)]: Done 92438 tasks      | elapsed: 615.8min\n",
      "[Parallel(n_jobs=6)]: Done 96788 tasks      | elapsed: 666.0min\n",
      "[Parallel(n_jobs=6)]: Done 101238 tasks      | elapsed: 718.7min\n",
      "[Parallel(n_jobs=6)]: Done 105788 tasks      | elapsed: 769.4min\n",
      "[Parallel(n_jobs=6)]: Done 110438 tasks      | elapsed: 820.7min\n",
      "[Parallel(n_jobs=6)]: Done 115188 tasks      | elapsed: 876.2min\n",
      "[Parallel(n_jobs=6)]: Done 120038 tasks      | elapsed: 931.4min\n",
      "[Parallel(n_jobs=6)]: Done 124988 tasks      | elapsed: 992.0min\n",
      "[Parallel(n_jobs=6)]: Done 130038 tasks      | elapsed: 1052.6min\n",
      "[Parallel(n_jobs=6)]: Done 135188 tasks      | elapsed: 1118.2min\n",
      "[Parallel(n_jobs=6)]: Done 140438 tasks      | elapsed: 1182.1min\n",
      "[Parallel(n_jobs=6)]: Done 145788 tasks      | elapsed: 1238.9min\n",
      "[Parallel(n_jobs=6)]: Done 151238 tasks      | elapsed: 1304.8min\n",
      "[Parallel(n_jobs=6)]: Done 156788 tasks      | elapsed: 1376.6min\n",
      "[Parallel(n_jobs=6)]: Done 162438 tasks      | elapsed: 1447.2min\n",
      "[Parallel(n_jobs=6)]: Done 168188 tasks      | elapsed: 1515.2min\n",
      "[Parallel(n_jobs=6)]: Done 174038 tasks      | elapsed: 1592.9min\n",
      "[Parallel(n_jobs=6)]: Done 179988 tasks      | elapsed: 1667.6min\n",
      "[Parallel(n_jobs=6)]: Done 186038 tasks      | elapsed: 1739.2min\n",
      "[Parallel(n_jobs=6)]: Done 192188 tasks      | elapsed: 1822.6min\n",
      "[Parallel(n_jobs=6)]: Done 198438 tasks      | elapsed: 1897.1min\n",
      "[Parallel(n_jobs=6)]: Done 204788 tasks      | elapsed: 1980.6min\n",
      "[Parallel(n_jobs=6)]: Done 209952 out of 209952 | elapsed: 2048.2min finished\n"
     ]
    },
    {
     "name": "stdout",
     "output_type": "stream",
     "text": [
      "\n",
      "Best score for Multi-Layer \n",
      "Perceptron with _adaboost dataset: 0.7531055438512761\n",
      "\n",
      "Best hyperparameters for Multi-Layer \n",
      "Perceptron with _adaboost dataset:\n",
      "memory : None\n",
      "steps : [('clf', MLPRegressor(alpha=0.1, batch_size=100, momentum=0.7, power_t=0.001,\n",
      "             random_state=7))]\n",
      "verbose : False\n",
      "clf : MLPRegressor(alpha=0.1, batch_size=100, momentum=0.7, power_t=0.001,\n",
      "             random_state=7)\n",
      "clf__activation : relu\n",
      "clf__alpha : 0.1\n",
      "clf__batch_size : 100\n",
      "clf__beta_1 : 0.9\n",
      "clf__beta_2 : 0.999\n",
      "clf__early_stopping : False\n",
      "clf__epsilon : 1e-08\n",
      "clf__hidden_layer_sizes : (100,)\n",
      "clf__learning_rate : constant\n",
      "clf__learning_rate_init : 0.001\n",
      "clf__max_fun : 15000\n",
      "clf__max_iter : 200\n",
      "clf__momentum : 0.7\n",
      "clf__n_iter_no_change : 10\n",
      "clf__nesterovs_momentum : True\n",
      "clf__power_t : 0.001\n",
      "clf__random_state : 7\n",
      "clf__shuffle : True\n",
      "clf__solver : adam\n",
      "clf__tol : 0.0001\n",
      "clf__validation_fraction : 0.1\n",
      "clf__verbose : False\n",
      "clf__warm_start : False\n",
      "\n",
      "Prediction scores for Multi-Layer \n",
      "Perceptron using _adaboost :\n",
      "Mean Squared error: 4.922399606608189\n",
      "Mean Absolute error: 1.4124864677443123\n",
      "R^2: 0.7474688218596102\n"
     ]
    }
   ],
   "source": [
    "ada_model, ada_train_score, ada_mse, ada_mae, ada_r2 = get_best_model(sel_methods[2], args, num_folds, is_sample)"
   ]
  },
  {
   "cell_type": "code",
   "execution_count": 17,
   "metadata": {},
   "outputs": [],
   "source": [
    "#futher hyperparameter tuning\n",
    "is_sample = True\n",
    "num_folds = 3\n",
    "args = {'clf__activation':('identity','logistic','tanh','relu'),\n",
    "        'clf__alpha':(0.05,0.1,0.2,0.3),\n",
    "        'clf__batch_size':(arange(100, 300, 100)),\n",
    "        'clf__hidden_layer_sizes':((100,),(200,),(300,)),\n",
    "        'clf__learning_rate':('constant', 'invscaling', 'adaptive'),\n",
    "        'clf__max_iter':(arange(100,300,100)),\n",
    "        'clf__momentum':(arange(0.3,0.8,0.1)),\n",
    "        'clf__power_t':(0.001,0.002,0.003),\n",
    "        'clf__random_state':([7]),\n",
    "        'clf__solver':('lbfgs','logistic','adam'),\n",
    "        'clf__tol':(0.0001,0.0002,0.0003)\n",
    "       }"
   ]
  },
  {
   "cell_type": "code",
   "execution_count": 18,
   "metadata": {
    "scrolled": false
   },
   "outputs": [
    {
     "name": "stdout",
     "output_type": "stream",
     "text": [
      "\n",
      "\n",
      "Running cross fold validation for Multi-Layer \n",
      "Perceptron with _adaboost dataset\n",
      "Fitting 3 folds for each of 77760 candidates, totalling 233280 fits\n"
     ]
    },
    {
     "name": "stderr",
     "output_type": "stream",
     "text": [
      "[Parallel(n_jobs=6)]: Using backend LokyBackend with 6 concurrent workers.\n",
      "[Parallel(n_jobs=6)]: Done  38 tasks      | elapsed:    4.5s\n",
      "[Parallel(n_jobs=6)]: Done 188 tasks      | elapsed:   23.5s\n",
      "[Parallel(n_jobs=6)]: Done 438 tasks      | elapsed:   53.8s\n",
      "[Parallel(n_jobs=6)]: Done 788 tasks      | elapsed:  1.6min\n",
      "[Parallel(n_jobs=6)]: Done 1238 tasks      | elapsed:  2.5min\n",
      "[Parallel(n_jobs=6)]: Done 1788 tasks      | elapsed:  3.6min\n",
      "[Parallel(n_jobs=6)]: Done 2438 tasks      | elapsed:  5.0min\n",
      "[Parallel(n_jobs=6)]: Done 3188 tasks      | elapsed:  7.3min\n",
      "[Parallel(n_jobs=6)]: Done 4038 tasks      | elapsed:  9.9min\n",
      "[Parallel(n_jobs=6)]: Done 4988 tasks      | elapsed: 13.0min\n",
      "[Parallel(n_jobs=6)]: Done 6038 tasks      | elapsed: 18.1min\n",
      "[Parallel(n_jobs=6)]: Done 7188 tasks      | elapsed: 23.6min\n",
      "[Parallel(n_jobs=6)]: Done 8438 tasks      | elapsed: 26.3min\n",
      "[Parallel(n_jobs=6)]: Done 9788 tasks      | elapsed: 29.1min\n",
      "[Parallel(n_jobs=6)]: Done 11238 tasks      | elapsed: 33.9min\n",
      "[Parallel(n_jobs=6)]: Done 12788 tasks      | elapsed: 40.4min\n",
      "[Parallel(n_jobs=6)]: Done 14438 tasks      | elapsed: 50.1min\n",
      "[Parallel(n_jobs=6)]: Done 16188 tasks      | elapsed: 54.8min\n",
      "[Parallel(n_jobs=6)]: Done 18038 tasks      | elapsed: 61.3min\n",
      "[Parallel(n_jobs=6)]: Done 19988 tasks      | elapsed: 71.1min\n",
      "[Parallel(n_jobs=6)]: Done 22038 tasks      | elapsed: 83.1min\n",
      "[Parallel(n_jobs=6)]: Done 24188 tasks      | elapsed: 88.0min\n",
      "[Parallel(n_jobs=6)]: Done 26438 tasks      | elapsed: 97.2min\n",
      "[Parallel(n_jobs=6)]: Done 28788 tasks      | elapsed: 112.8min\n",
      "[Parallel(n_jobs=6)]: Done 31238 tasks      | elapsed: 120.6min\n",
      "[Parallel(n_jobs=6)]: Done 33788 tasks      | elapsed: 130.6min\n",
      "[Parallel(n_jobs=6)]: Done 36438 tasks      | elapsed: 148.6min\n",
      "[Parallel(n_jobs=6)]: Done 39188 tasks      | elapsed: 156.6min\n",
      "[Parallel(n_jobs=6)]: Done 42038 tasks      | elapsed: 172.5min\n",
      "[Parallel(n_jobs=6)]: Done 44988 tasks      | elapsed: 188.8min\n",
      "[Parallel(n_jobs=6)]: Done 48038 tasks      | elapsed: 200.8min\n",
      "[Parallel(n_jobs=6)]: Done 51188 tasks      | elapsed: 216.9min\n",
      "[Parallel(n_jobs=6)]: Done 54438 tasks      | elapsed: 225.9min\n",
      "[Parallel(n_jobs=6)]: Done 57788 tasks      | elapsed: 244.4min\n",
      "[Parallel(n_jobs=6)]: Done 61238 tasks      | elapsed: 279.4min\n",
      "[Parallel(n_jobs=6)]: Done 64788 tasks      | elapsed: 357.8min\n",
      "[Parallel(n_jobs=6)]: Done 68438 tasks      | elapsed: 405.7min\n",
      "[Parallel(n_jobs=6)]: Done 72188 tasks      | elapsed: 487.5min\n",
      "[Parallel(n_jobs=6)]: Done 76038 tasks      | elapsed: 543.3min\n",
      "[Parallel(n_jobs=6)]: Done 79988 tasks      | elapsed: 631.0min\n",
      "[Parallel(n_jobs=6)]: Done 84038 tasks      | elapsed: 685.6min\n",
      "[Parallel(n_jobs=6)]: Done 88188 tasks      | elapsed: 776.2min\n",
      "[Parallel(n_jobs=6)]: Done 92438 tasks      | elapsed: 841.4min\n",
      "[Parallel(n_jobs=6)]: Done 96788 tasks      | elapsed: 920.9min\n",
      "[Parallel(n_jobs=6)]: Done 101238 tasks      | elapsed: 1013.9min\n",
      "[Parallel(n_jobs=6)]: Done 105788 tasks      | elapsed: 1078.9min\n",
      "[Parallel(n_jobs=6)]: Done 110438 tasks      | elapsed: 1169.3min\n",
      "[Parallel(n_jobs=6)]: Done 115188 tasks      | elapsed: 1249.3min\n",
      "[Parallel(n_jobs=6)]: Done 120038 tasks      | elapsed: 1323.3min\n",
      "[Parallel(n_jobs=6)]: Done 124988 tasks      | elapsed: 1407.4min\n",
      "[Parallel(n_jobs=6)]: Done 130038 tasks      | elapsed: 1485.4min\n",
      "[Parallel(n_jobs=6)]: Done 135188 tasks      | elapsed: 1566.8min\n",
      "[Parallel(n_jobs=6)]: Done 140438 tasks      | elapsed: 1654.9min\n",
      "[Parallel(n_jobs=6)]: Done 145788 tasks      | elapsed: 1766.6min\n",
      "[Parallel(n_jobs=6)]: Done 151238 tasks      | elapsed: 1842.7min\n",
      "[Parallel(n_jobs=6)]: Done 156788 tasks      | elapsed: 1930.6min\n",
      "[Parallel(n_jobs=6)]: Done 162438 tasks      | elapsed: 2035.0min\n",
      "[Parallel(n_jobs=6)]: Done 168188 tasks      | elapsed: 2134.0min\n",
      "[Parallel(n_jobs=6)]: Done 174038 tasks      | elapsed: 2233.0min\n",
      "[Parallel(n_jobs=6)]: Done 179988 tasks      | elapsed: 2324.6min\n",
      "[Parallel(n_jobs=6)]: Done 186038 tasks      | elapsed: 2417.4min\n",
      "[Parallel(n_jobs=6)]: Done 192188 tasks      | elapsed: 2519.2min\n",
      "[Parallel(n_jobs=6)]: Done 198438 tasks      | elapsed: 2619.3min\n",
      "[Parallel(n_jobs=6)]: Done 204788 tasks      | elapsed: 2722.1min\n",
      "[Parallel(n_jobs=6)]: Done 211238 tasks      | elapsed: 2821.2min\n",
      "[Parallel(n_jobs=6)]: Done 217788 tasks      | elapsed: 2914.5min\n",
      "[Parallel(n_jobs=6)]: Done 224438 tasks      | elapsed: 3013.4min\n",
      "[Parallel(n_jobs=6)]: Done 231188 tasks      | elapsed: 3120.0min\n",
      "[Parallel(n_jobs=6)]: Done 233280 out of 233280 | elapsed: 3168.4min finished\n"
     ]
    },
    {
     "name": "stdout",
     "output_type": "stream",
     "text": [
      "\n",
      "Best score for Multi-Layer \n",
      "Perceptron with _adaboost dataset: 0.7531055438512761\n",
      "\n",
      "Best hyperparameters for Multi-Layer \n",
      "Perceptron with _adaboost dataset:\n",
      "memory : None\n",
      "steps : [('clf', MLPRegressor(alpha=0.1, batch_size=100, momentum=0.3, power_t=0.001,\n",
      "             random_state=7))]\n",
      "verbose : False\n",
      "clf : MLPRegressor(alpha=0.1, batch_size=100, momentum=0.3, power_t=0.001,\n",
      "             random_state=7)\n",
      "clf__activation : relu\n",
      "clf__alpha : 0.1\n",
      "clf__batch_size : 100\n",
      "clf__beta_1 : 0.9\n",
      "clf__beta_2 : 0.999\n",
      "clf__early_stopping : False\n",
      "clf__epsilon : 1e-08\n",
      "clf__hidden_layer_sizes : (100,)\n",
      "clf__learning_rate : constant\n",
      "clf__learning_rate_init : 0.001\n",
      "clf__max_fun : 15000\n",
      "clf__max_iter : 200\n",
      "clf__momentum : 0.3\n",
      "clf__n_iter_no_change : 10\n",
      "clf__nesterovs_momentum : True\n",
      "clf__power_t : 0.001\n",
      "clf__random_state : 7\n",
      "clf__shuffle : True\n",
      "clf__solver : adam\n",
      "clf__tol : 0.0001\n",
      "clf__validation_fraction : 0.1\n",
      "clf__verbose : False\n",
      "clf__warm_start : False\n",
      "\n",
      "Prediction scores for Multi-Layer \n",
      "Perceptron using _adaboost :\n",
      "Mean Squared error: 4.922399606608189\n",
      "Mean Absolute error: 1.4124864677443123\n",
      "R^2: 0.7474688218596102\n"
     ]
    }
   ],
   "source": [
    "ada_model, ada_train_score, ada_mse, ada_mae, ada_r2 = get_best_model(sel_methods[2], args, num_folds, is_sample)"
   ]
  },
  {
   "cell_type": "code",
   "execution_count": 20,
   "metadata": {},
   "outputs": [],
   "source": [
    "#futher hyperparameter tuning\n",
    "is_sample = True\n",
    "num_folds = 5\n",
    "args = {'clf__activation':(['relu']),\n",
    "        'clf__alpha':(arange(0.05,0.15,0.01)),\n",
    "        'clf__batch_size':(arange(50, 150, 25)),\n",
    "        'clf__hidden_layer_sizes':((50,),(100,),(150,)),\n",
    "        'clf__learning_rate':(['constant']),\n",
    "        'clf__max_iter':(arange(150,250,50)),\n",
    "        'clf__momentum':(arange(0.1,0.4,0.1)),\n",
    "        'clf__power_t':(0.0005,0.001,0.002),\n",
    "        'clf__random_state':([7]),\n",
    "        'clf__solver':(['adam']),\n",
    "        'clf__tol':(0.0001,0.0002,0.0003)\n",
    "       }"
   ]
  },
  {
   "cell_type": "code",
   "execution_count": 21,
   "metadata": {},
   "outputs": [
    {
     "name": "stdout",
     "output_type": "stream",
     "text": [
      "\n",
      "\n",
      "Running cross fold validation for Multi-Layer \n",
      "Perceptron with _adaboost dataset\n",
      "Fitting 5 folds for each of 8640 candidates, totalling 43200 fits\n"
     ]
    },
    {
     "name": "stderr",
     "output_type": "stream",
     "text": [
      "[Parallel(n_jobs=6)]: Using backend LokyBackend with 6 concurrent workers.\n",
      "[Parallel(n_jobs=6)]: Done  38 tasks      | elapsed:   43.6s\n",
      "[Parallel(n_jobs=6)]: Done 188 tasks      | elapsed:  3.4min\n",
      "[Parallel(n_jobs=6)]: Done 438 tasks      | elapsed:  8.5min\n",
      "[Parallel(n_jobs=6)]: Done 788 tasks      | elapsed: 18.1min\n",
      "[Parallel(n_jobs=6)]: Done 1238 tasks      | elapsed: 29.3min\n",
      "[Parallel(n_jobs=6)]: Done 1788 tasks      | elapsed: 40.2min\n",
      "[Parallel(n_jobs=6)]: Done 2438 tasks      | elapsed: 51.2min\n",
      "[Parallel(n_jobs=6)]: Done 3188 tasks      | elapsed: 64.6min\n",
      "[Parallel(n_jobs=6)]: Done 4038 tasks      | elapsed: 78.5min\n",
      "[Parallel(n_jobs=6)]: Done 4988 tasks      | elapsed: 98.8min\n",
      "[Parallel(n_jobs=6)]: Done 6038 tasks      | elapsed: 119.3min\n",
      "[Parallel(n_jobs=6)]: Done 7188 tasks      | elapsed: 139.3min\n",
      "[Parallel(n_jobs=6)]: Done 8438 tasks      | elapsed: 160.7min\n",
      "[Parallel(n_jobs=6)]: Done 9788 tasks      | elapsed: 191.5min\n",
      "[Parallel(n_jobs=6)]: Done 11238 tasks      | elapsed: 215.6min\n",
      "[Parallel(n_jobs=6)]: Done 12788 tasks      | elapsed: 241.6min\n",
      "[Parallel(n_jobs=6)]: Done 14438 tasks      | elapsed: 272.8min\n",
      "[Parallel(n_jobs=6)]: Done 16188 tasks      | elapsed: 303.9min\n",
      "[Parallel(n_jobs=6)]: Done 18038 tasks      | elapsed: 337.2min\n",
      "[Parallel(n_jobs=6)]: Done 19988 tasks      | elapsed: 371.2min\n",
      "[Parallel(n_jobs=6)]: Done 22038 tasks      | elapsed: 406.4min\n",
      "[Parallel(n_jobs=6)]: Done 24188 tasks      | elapsed: 445.6min\n",
      "[Parallel(n_jobs=6)]: Done 26438 tasks      | elapsed: 484.8min\n",
      "[Parallel(n_jobs=6)]: Done 28788 tasks      | elapsed: 527.0min\n",
      "[Parallel(n_jobs=6)]: Done 31238 tasks      | elapsed: 570.2min\n",
      "[Parallel(n_jobs=6)]: Done 33788 tasks      | elapsed: 610.9min\n",
      "[Parallel(n_jobs=6)]: Done 36438 tasks      | elapsed: 657.9min\n",
      "[Parallel(n_jobs=6)]: Done 39188 tasks      | elapsed: 703.2min\n",
      "[Parallel(n_jobs=6)]: Done 42038 tasks      | elapsed: 759.3min\n",
      "[Parallel(n_jobs=6)]: Done 43200 out of 43200 | elapsed: 782.8min finished\n"
     ]
    },
    {
     "name": "stdout",
     "output_type": "stream",
     "text": [
      "\n",
      "Best score for Multi-Layer \n",
      "Perceptron with _adaboost dataset: 0.7532392185634029\n",
      "\n",
      "Best hyperparameters for Multi-Layer \n",
      "Perceptron with _adaboost dataset:\n",
      "memory : None\n",
      "steps : [('clf', MLPRegressor(alpha=0.07, batch_size=50, max_iter=150, momentum=0.1,\n",
      "             power_t=0.0005, random_state=7))]\n",
      "verbose : False\n",
      "clf : MLPRegressor(alpha=0.07, batch_size=50, max_iter=150, momentum=0.1,\n",
      "             power_t=0.0005, random_state=7)\n",
      "clf__activation : relu\n",
      "clf__alpha : 0.07\n",
      "clf__batch_size : 50\n",
      "clf__beta_1 : 0.9\n",
      "clf__beta_2 : 0.999\n",
      "clf__early_stopping : False\n",
      "clf__epsilon : 1e-08\n",
      "clf__hidden_layer_sizes : (100,)\n",
      "clf__learning_rate : constant\n",
      "clf__learning_rate_init : 0.001\n",
      "clf__max_fun : 15000\n",
      "clf__max_iter : 150\n",
      "clf__momentum : 0.1\n",
      "clf__n_iter_no_change : 10\n",
      "clf__nesterovs_momentum : True\n",
      "clf__power_t : 0.0005\n",
      "clf__random_state : 7\n",
      "clf__shuffle : True\n",
      "clf__solver : adam\n",
      "clf__tol : 0.0001\n",
      "clf__validation_fraction : 0.1\n",
      "clf__verbose : False\n",
      "clf__warm_start : False\n",
      "\n",
      "Prediction scores for Multi-Layer \n",
      "Perceptron using _adaboost :\n",
      "Mean Squared error: 4.946726949843769\n",
      "Mean Absolute error: 1.35989568117057\n",
      "R^2: 0.7462207694584886\n"
     ]
    }
   ],
   "source": [
    "ada_model, ada_train_score, ada_mse, ada_mae, ada_r2 = get_best_model(sel_methods[2], args, num_folds, is_sample)"
   ]
  },
  {
   "cell_type": "code",
   "execution_count": 10,
   "metadata": {},
   "outputs": [],
   "source": [
    "#futher hyperparameter tuning\n",
    "is_sample = True\n",
    "num_folds = 5\n",
    "args = {'clf__activation':(['relu']),\n",
    "        'clf__alpha':(arange(0.05,0.09,0.01)),\n",
    "        'clf__batch_size':(arange(40, 60, 10)),\n",
    "        'clf__hidden_layer_sizes':((75,),(100,),(125,)),\n",
    "        'clf__learning_rate':(['constant']),\n",
    "        'clf__max_iter':(arange(100,200,50)),\n",
    "        'clf__momentum':(arange(0.07,0.11,0.01)),\n",
    "        'clf__power_t':(0.0003,0.0007,0.0001),\n",
    "        'clf__random_state':([7]),\n",
    "        'clf__solver':(['adam']),\n",
    "        'clf__tol':(0.0001,0.0002)\n",
    "       }"
   ]
  },
  {
   "cell_type": "code",
   "execution_count": 11,
   "metadata": {
    "scrolled": false
   },
   "outputs": [
    {
     "name": "stdout",
     "output_type": "stream",
     "text": [
      "\n",
      "\n",
      "Running cross fold validation for Multi-Layer \n",
      "Perceptron with _adaboost dataset\n",
      "Fitting 5 folds for each of 1152 candidates, totalling 5760 fits\n"
     ]
    },
    {
     "name": "stderr",
     "output_type": "stream",
     "text": [
      "[Parallel(n_jobs=6)]: Using backend LokyBackend with 6 concurrent workers.\n",
      "[Parallel(n_jobs=6)]: Done  38 tasks      | elapsed:   49.4s\n",
      "[Parallel(n_jobs=6)]: Done 188 tasks      | elapsed:  3.8min\n",
      "[Parallel(n_jobs=6)]: Done 438 tasks      | elapsed: 10.0min\n",
      "[Parallel(n_jobs=6)]: Done 788 tasks      | elapsed: 17.5min\n",
      "[Parallel(n_jobs=6)]: Done 1238 tasks      | elapsed: 27.1min\n",
      "[Parallel(n_jobs=6)]: Done 1788 tasks      | elapsed: 38.2min\n",
      "[Parallel(n_jobs=6)]: Done 2438 tasks      | elapsed: 52.5min\n",
      "[Parallel(n_jobs=6)]: Done 3188 tasks      | elapsed: 67.9min\n",
      "[Parallel(n_jobs=6)]: Done 4038 tasks      | elapsed: 86.4min\n",
      "[Parallel(n_jobs=6)]: Done 4988 tasks      | elapsed: 106.2min\n",
      "[Parallel(n_jobs=6)]: Done 5760 out of 5760 | elapsed: 121.5min finished\n"
     ]
    },
    {
     "name": "stdout",
     "output_type": "stream",
     "text": [
      "\n",
      "Best score for Multi-Layer \n",
      "Perceptron with _adaboost dataset: 0.7537826689906509\n",
      "\n",
      "Best hyperparameters for Multi-Layer \n",
      "Perceptron with _adaboost dataset:\n",
      "memory : None\n",
      "steps : [('clf', MLPRegressor(alpha=0.07, batch_size=50, max_iter=100, momentum=0.07,\n",
      "             power_t=0.0003, random_state=7))]\n",
      "verbose : False\n",
      "clf : MLPRegressor(alpha=0.07, batch_size=50, max_iter=100, momentum=0.07,\n",
      "             power_t=0.0003, random_state=7)\n",
      "clf__activation : relu\n",
      "clf__alpha : 0.07\n",
      "clf__batch_size : 50\n",
      "clf__beta_1 : 0.9\n",
      "clf__beta_2 : 0.999\n",
      "clf__early_stopping : False\n",
      "clf__epsilon : 1e-08\n",
      "clf__hidden_layer_sizes : (100,)\n",
      "clf__learning_rate : constant\n",
      "clf__learning_rate_init : 0.001\n",
      "clf__max_fun : 15000\n",
      "clf__max_iter : 100\n",
      "clf__momentum : 0.07\n",
      "clf__n_iter_no_change : 10\n",
      "clf__nesterovs_momentum : True\n",
      "clf__power_t : 0.0003\n",
      "clf__random_state : 7\n",
      "clf__shuffle : True\n",
      "clf__solver : adam\n",
      "clf__tol : 0.0001\n",
      "clf__validation_fraction : 0.1\n",
      "clf__verbose : False\n",
      "clf__warm_start : False\n",
      "\n",
      "Prediction scores for Multi-Layer \n",
      "Perceptron using _adaboost :\n",
      "Mean Squared error: 4.946726949843769\n",
      "Mean Absolute error: 1.35989568117057\n",
      "R^2: 0.7462207694584886\n"
     ]
    }
   ],
   "source": [
    "ada_model, ada_train_score, ada_mse, ada_mae, ada_r2 = get_best_model(sel_methods[2], args, num_folds, is_sample)"
   ]
  },
  {
   "cell_type": "code",
   "execution_count": 30,
   "metadata": {},
   "outputs": [],
   "source": [
    "#futher hyperparameter tuning\n",
    "is_sample = False\n",
    "num_folds = 10\n",
    "args = {'clf__activation':(['relu']),\n",
    "        'clf__alpha':(arange(0.05,0.09,0.01)),\n",
    "        'clf__batch_size':(arange(40, 60, 10)),\n",
    "        'clf__hidden_layer_sizes':((75,),(100,),(125,)),\n",
    "        'clf__learning_rate':(['constant']),\n",
    "        'clf__max_iter':(arange(75,125,25)),\n",
    "        'clf__momentum':(arange(0.02,0.06,0.01)),\n",
    "        'clf__power_t':(arange(0.0001,0.0004,0.0001)),\n",
    "        'clf__random_state':([7]),\n",
    "        'clf__solver':(['adam']),\n",
    "        'clf__tol':(0.0001,0.0002)\n",
    "       }"
   ]
  },
  {
   "cell_type": "code",
   "execution_count": 31,
   "metadata": {},
   "outputs": [
    {
     "name": "stdout",
     "output_type": "stream",
     "text": [
      "\n",
      "\n",
      "Running cross fold validation for Multi-Layer \n",
      "Perceptron with _adaboost dataset\n",
      "Fitting 10 folds for each of 1152 candidates, totalling 11520 fits\n"
     ]
    },
    {
     "name": "stderr",
     "output_type": "stream",
     "text": [
      "[Parallel(n_jobs=6)]: Using backend LokyBackend with 6 concurrent workers.\n",
      "[Parallel(n_jobs=6)]: Done  38 tasks      | elapsed:  2.4min\n",
      "[Parallel(n_jobs=6)]: Done 188 tasks      | elapsed: 11.2min\n",
      "[Parallel(n_jobs=6)]: Done 438 tasks      | elapsed: 26.0min\n",
      "[Parallel(n_jobs=6)]: Done 788 tasks      | elapsed: 45.5min\n",
      "[Parallel(n_jobs=6)]: Done 1238 tasks      | elapsed: 76.1min\n",
      "[Parallel(n_jobs=6)]: Done 1788 tasks      | elapsed: 107.8min\n",
      "[Parallel(n_jobs=6)]: Done 2438 tasks      | elapsed: 141.2min\n",
      "[Parallel(n_jobs=6)]: Done 3188 tasks      | elapsed: 192.5min\n",
      "[Parallel(n_jobs=6)]: Done 4038 tasks      | elapsed: 242.6min\n",
      "[Parallel(n_jobs=6)]: Done 4988 tasks      | elapsed: 292.4min\n",
      "[Parallel(n_jobs=6)]: Done 6038 tasks      | elapsed: 354.2min\n",
      "[Parallel(n_jobs=6)]: Done 7188 tasks      | elapsed: 423.5min\n",
      "[Parallel(n_jobs=6)]: Done 8438 tasks      | elapsed: 487.3min\n",
      "[Parallel(n_jobs=6)]: Done 9788 tasks      | elapsed: 564.7min\n",
      "[Parallel(n_jobs=6)]: Done 11238 tasks      | elapsed: 639.7min\n",
      "[Parallel(n_jobs=6)]: Done 11520 out of 11520 | elapsed: 658.8min finished\n"
     ]
    },
    {
     "name": "stdout",
     "output_type": "stream",
     "text": [
      "\n",
      "Best score for Multi-Layer \n",
      "Perceptron with _adaboost dataset: 0.743109117622246\n",
      "\n",
      "Best hyperparameters for Multi-Layer \n",
      "Perceptron with _adaboost dataset:\n",
      "memory : None\n",
      "steps : [('clf', MLPRegressor(alpha=0.05, batch_size=50, hidden_layer_sizes=(125,), max_iter=75,\n",
      "             momentum=0.02, power_t=0.0001, random_state=7))]\n",
      "verbose : False\n",
      "clf : MLPRegressor(alpha=0.05, batch_size=50, hidden_layer_sizes=(125,), max_iter=75,\n",
      "             momentum=0.02, power_t=0.0001, random_state=7)\n",
      "clf__activation : relu\n",
      "clf__alpha : 0.05\n",
      "clf__batch_size : 50\n",
      "clf__beta_1 : 0.9\n",
      "clf__beta_2 : 0.999\n",
      "clf__early_stopping : False\n",
      "clf__epsilon : 1e-08\n",
      "clf__hidden_layer_sizes : (125,)\n",
      "clf__learning_rate : constant\n",
      "clf__learning_rate_init : 0.001\n",
      "clf__max_fun : 15000\n",
      "clf__max_iter : 75\n",
      "clf__momentum : 0.02\n",
      "clf__n_iter_no_change : 10\n",
      "clf__nesterovs_momentum : True\n",
      "clf__power_t : 0.0001\n",
      "clf__random_state : 7\n",
      "clf__shuffle : True\n",
      "clf__solver : adam\n",
      "clf__tol : 0.0001\n",
      "clf__validation_fraction : 0.1\n",
      "clf__verbose : False\n",
      "clf__warm_start : False\n",
      "\n",
      "Prediction scores for Multi-Layer \n",
      "Perceptron using _adaboost :\n",
      "Mean Squared error: 4.945255676999495\n",
      "Mean Absolute error: 1.3670315437802125\n",
      "R^2: 0.7462962493655306\n"
     ]
    }
   ],
   "source": [
    "ada_model, ada_train_score, ada_mse, ada_mae, ada_r2 = get_best_model(sel_methods[2], args, num_folds, is_sample)"
   ]
  },
  {
   "cell_type": "code",
   "execution_count": 40,
   "metadata": {},
   "outputs": [],
   "source": [
    "#futher hyperparameter tuning\n",
    "is_sample = False\n",
    "num_folds = 10\n",
    "args = {'clf__activation':(['relu']),\n",
    "        'clf__alpha':(arange(0.01,0.06,0.01)),\n",
    "        'clf__batch_size':(arange(40, 60, 10)),\n",
    "        'clf__hidden_layer_sizes':((100,),(125,),(150,)),\n",
    "        'clf__learning_rate':(['constant']),\n",
    "        'clf__max_iter':(arange(50,100,25)),\n",
    "        'clf__momentum':(arange(0.02,0.06,0.01)),\n",
    "        'clf__power_t':(arange(0.0001,0.0003,0.0001)),\n",
    "        'clf__random_state':([7]),\n",
    "        'clf__solver':(['adam']),\n",
    "        'clf__tol':([0.0001])\n",
    "       }"
   ]
  },
  {
   "cell_type": "code",
   "execution_count": 41,
   "metadata": {},
   "outputs": [
    {
     "name": "stdout",
     "output_type": "stream",
     "text": [
      "\n",
      "\n",
      "Running cross fold validation for Multi-Layer \n",
      "Perceptron with _adaboost dataset\n",
      "Fitting 10 folds for each of 480 candidates, totalling 4800 fits\n"
     ]
    },
    {
     "name": "stderr",
     "output_type": "stream",
     "text": [
      "[Parallel(n_jobs=6)]: Using backend LokyBackend with 6 concurrent workers.\n",
      "[Parallel(n_jobs=6)]: Done  38 tasks      | elapsed:  2.9min\n",
      "[Parallel(n_jobs=6)]: Done 188 tasks      | elapsed: 15.4min\n",
      "[Parallel(n_jobs=6)]: Done 438 tasks      | elapsed: 42.1min\n",
      "[Parallel(n_jobs=6)]: Done 788 tasks      | elapsed: 73.8min\n",
      "[Parallel(n_jobs=6)]: Done 1238 tasks      | elapsed: 107.1min\n",
      "[Parallel(n_jobs=6)]: Done 1788 tasks      | elapsed: 144.8min\n",
      "[Parallel(n_jobs=6)]: Done 2438 tasks      | elapsed: 191.0min\n",
      "[Parallel(n_jobs=6)]: Done 3188 tasks      | elapsed: 236.6min\n",
      "[Parallel(n_jobs=6)]: Done 4038 tasks      | elapsed: 288.2min\n",
      "[Parallel(n_jobs=6)]: Done 4800 out of 4800 | elapsed: 335.8min finished\n"
     ]
    },
    {
     "name": "stdout",
     "output_type": "stream",
     "text": [
      "\n",
      "Best score for Multi-Layer \n",
      "Perceptron with _adaboost dataset: 0.7434711908258655\n",
      "\n",
      "Best hyperparameters for Multi-Layer \n",
      "Perceptron with _adaboost dataset:\n",
      "memory : None\n",
      "steps : [('clf', MLPRegressor(alpha=0.01, batch_size=50, max_iter=75, momentum=0.02,\n",
      "             power_t=0.0001, random_state=7))]\n",
      "verbose : False\n",
      "clf : MLPRegressor(alpha=0.01, batch_size=50, max_iter=75, momentum=0.02,\n",
      "             power_t=0.0001, random_state=7)\n",
      "clf__activation : relu\n",
      "clf__alpha : 0.01\n",
      "clf__batch_size : 50\n",
      "clf__beta_1 : 0.9\n",
      "clf__beta_2 : 0.999\n",
      "clf__early_stopping : False\n",
      "clf__epsilon : 1e-08\n",
      "clf__hidden_layer_sizes : (100,)\n",
      "clf__learning_rate : constant\n",
      "clf__learning_rate_init : 0.001\n",
      "clf__max_fun : 15000\n",
      "clf__max_iter : 75\n",
      "clf__momentum : 0.02\n",
      "clf__n_iter_no_change : 10\n",
      "clf__nesterovs_momentum : True\n",
      "clf__power_t : 0.0001\n",
      "clf__random_state : 7\n",
      "clf__shuffle : True\n",
      "clf__solver : adam\n",
      "clf__tol : 0.0001\n",
      "clf__validation_fraction : 0.1\n",
      "clf__verbose : False\n",
      "clf__warm_start : False\n",
      "\n",
      "Prediction scores for Multi-Layer \n",
      "Perceptron using _adaboost :\n",
      "Mean Squared error: 4.882632785595427\n",
      "Mean Absolute error: 1.4035734551968018\n",
      "R^2: 0.7495089573552673\n"
     ]
    },
    {
     "name": "stderr",
     "output_type": "stream",
     "text": [
      "c:\\users\\chris\\appdata\\local\\programs\\python\\python39\\lib\\site-packages\\sklearn\\neural_network\\_multilayer_perceptron.py:582: ConvergenceWarning: Stochastic Optimizer: Maximum iterations (75) reached and the optimization hasn't converged yet.\n",
      "  warnings.warn(\n"
     ]
    }
   ],
   "source": [
    "ada_model, ada_train_score, ada_mse, ada_mae, ada_r2 = get_best_model(sel_methods[2], args, num_folds, is_sample)"
   ]
  },
  {
   "cell_type": "code",
   "execution_count": 8,
   "metadata": {},
   "outputs": [],
   "source": [
    "#futher hyperparameter tuning\n",
    "is_sample = False\n",
    "num_folds = 10\n",
    "args = {'clf__activation':(['relu']),\n",
    "        'clf__alpha':(arange(0.01,0.04,0.01)),\n",
    "        'clf__batch_size':(arange(40, 60, 10)),\n",
    "        'clf__hidden_layer_sizes':((100,),(125,),(150,)),\n",
    "        'clf__learning_rate':(['constant']),\n",
    "        'clf__max_iter':(arange(50,100,25)),\n",
    "        'clf__momentum':(arange(0.01,0.05,0.01)),\n",
    "        'clf__power_t':(arange(0.0001,0.0003,0.0001)),\n",
    "        'clf__random_state':([7]),\n",
    "        'clf__solver':(['adam']),\n",
    "        'clf__tol':([0.0001])\n",
    "       }"
   ]
  },
  {
   "cell_type": "code",
   "execution_count": 9,
   "metadata": {
    "scrolled": false
   },
   "outputs": [
    {
     "name": "stdout",
     "output_type": "stream",
     "text": [
      "\n",
      "\n",
      "Running cross fold validation for Multi-Layer \n",
      "Perceptron with _adaboost dataset\n",
      "Fitting 10 folds for each of 288 candidates, totalling 2880 fits\n"
     ]
    },
    {
     "name": "stderr",
     "output_type": "stream",
     "text": [
      "[Parallel(n_jobs=6)]: Using backend LokyBackend with 6 concurrent workers.\n",
      "[Parallel(n_jobs=6)]: Done  38 tasks      | elapsed:  2.9min\n",
      "[Parallel(n_jobs=6)]: Done 188 tasks      | elapsed: 15.0min\n",
      "[Parallel(n_jobs=6)]: Done 438 tasks      | elapsed: 41.4min\n",
      "[Parallel(n_jobs=6)]: Done 788 tasks      | elapsed: 72.0min\n",
      "[Parallel(n_jobs=6)]: Done 1238 tasks      | elapsed: 105.1min\n",
      "[Parallel(n_jobs=6)]: Done 1788 tasks      | elapsed: 142.2min\n",
      "[Parallel(n_jobs=6)]: Done 2438 tasks      | elapsed: 185.8min\n",
      "[Parallel(n_jobs=6)]: Done 2880 out of 2880 | elapsed: 213.1min finished\n"
     ]
    },
    {
     "name": "stdout",
     "output_type": "stream",
     "text": [
      "\n",
      "Best score for Multi-Layer \n",
      "Perceptron with _adaboost dataset: 0.7434711908258655\n",
      "\n",
      "Best hyperparameters for Multi-Layer \n",
      "Perceptron with _adaboost dataset:\n",
      "memory : None\n",
      "steps : [('clf', MLPRegressor(alpha=0.01, batch_size=50, max_iter=75, momentum=0.01,\n",
      "             power_t=0.0001, random_state=7))]\n",
      "verbose : False\n",
      "clf : MLPRegressor(alpha=0.01, batch_size=50, max_iter=75, momentum=0.01,\n",
      "             power_t=0.0001, random_state=7)\n",
      "clf__activation : relu\n",
      "clf__alpha : 0.01\n",
      "clf__batch_size : 50\n",
      "clf__beta_1 : 0.9\n",
      "clf__beta_2 : 0.999\n",
      "clf__early_stopping : False\n",
      "clf__epsilon : 1e-08\n",
      "clf__hidden_layer_sizes : (100,)\n",
      "clf__learning_rate : constant\n",
      "clf__learning_rate_init : 0.001\n",
      "clf__max_fun : 15000\n",
      "clf__max_iter : 75\n",
      "clf__momentum : 0.01\n",
      "clf__n_iter_no_change : 10\n",
      "clf__nesterovs_momentum : True\n",
      "clf__power_t : 0.0001\n",
      "clf__random_state : 7\n",
      "clf__shuffle : True\n",
      "clf__solver : adam\n",
      "clf__tol : 0.0001\n",
      "clf__validation_fraction : 0.1\n",
      "clf__verbose : False\n",
      "clf__warm_start : False\n",
      "\n",
      "Prediction scores for Multi-Layer \n",
      "Perceptron using _adaboost :\n",
      "Mean Squared error: 4.882632785595427\n",
      "Mean Absolute error: 1.4035734551968018\n",
      "R^2: 0.7495089573552673\n"
     ]
    },
    {
     "name": "stderr",
     "output_type": "stream",
     "text": [
      "c:\\users\\chris\\appdata\\local\\programs\\python\\python39\\lib\\site-packages\\sklearn\\neural_network\\_multilayer_perceptron.py:582: ConvergenceWarning: Stochastic Optimizer: Maximum iterations (75) reached and the optimization hasn't converged yet.\n",
      "  warnings.warn(\n"
     ]
    }
   ],
   "source": [
    "ada_model, ada_train_score, ada_mse, ada_mae, ada_r2 = get_best_model(sel_methods[2], args, num_folds, is_sample)"
   ]
  },
  {
   "cell_type": "code",
   "execution_count": 24,
   "metadata": {},
   "outputs": [],
   "source": [
    "#futher hyperparameter tuning\n",
    "is_sample = False\n",
    "num_folds = 10\n",
    "args = {'clf__activation':(['relu']),\n",
    "        'clf__alpha':([0.01]),\n",
    "        'clf__batch_size':([50]),\n",
    "        'clf__hidden_layer_sizes':([100]),\n",
    "        'clf__learning_rate':(['constant']),\n",
    "        'clf__max_iter':([75]),\n",
    "        'clf__momentum':([0.01]),\n",
    "        'clf__power_t':([0.0001]),\n",
    "        'clf__random_state':([7]),\n",
    "        'clf__solver':(['adam']),\n",
    "        'clf__tol':([0.0001])\n",
    "       }"
   ]
  },
  {
   "cell_type": "code",
   "execution_count": 25,
   "metadata": {},
   "outputs": [
    {
     "name": "stderr",
     "output_type": "stream",
     "text": [
      "[Parallel(n_jobs=6)]: Using backend LokyBackend with 6 concurrent workers.\n"
     ]
    },
    {
     "name": "stdout",
     "output_type": "stream",
     "text": [
      "\n",
      "\n",
      "Running cross fold validation for Multi-Layer \n",
      "Perceptron with _adaboost dataset\n",
      "Fitting 10 folds for each of 1 candidates, totalling 10 fits\n"
     ]
    },
    {
     "name": "stderr",
     "output_type": "stream",
     "text": [
      "[Parallel(n_jobs=6)]: Done  10 out of  10 | elapsed:  1.2min remaining:    0.0s\n",
      "[Parallel(n_jobs=6)]: Done  10 out of  10 | elapsed:  1.2min finished\n"
     ]
    },
    {
     "name": "stdout",
     "output_type": "stream",
     "text": [
      "\n",
      "Best score for Multi-Layer \n",
      "Perceptron with _adaboost dataset: 0.7434711908258655\n",
      "\n",
      "Best hyperparameters for Multi-Layer \n",
      "Perceptron with _adaboost dataset:\n",
      "memory : None\n",
      "steps : [('clf', MLPRegressor(alpha=0.01, batch_size=50, hidden_layer_sizes=100, max_iter=75,\n",
      "             momentum=0.01, power_t=0.0001, random_state=7))]\n",
      "verbose : False\n",
      "clf : MLPRegressor(alpha=0.01, batch_size=50, hidden_layer_sizes=100, max_iter=75,\n",
      "             momentum=0.01, power_t=0.0001, random_state=7)\n",
      "clf__activation : relu\n",
      "clf__alpha : 0.01\n",
      "clf__batch_size : 50\n",
      "clf__beta_1 : 0.9\n",
      "clf__beta_2 : 0.999\n",
      "clf__early_stopping : False\n",
      "clf__epsilon : 1e-08\n",
      "clf__hidden_layer_sizes : 100\n",
      "clf__learning_rate : constant\n",
      "clf__learning_rate_init : 0.001\n",
      "clf__max_fun : 15000\n",
      "clf__max_iter : 75\n",
      "clf__momentum : 0.01\n",
      "clf__n_iter_no_change : 10\n",
      "clf__nesterovs_momentum : True\n",
      "clf__power_t : 0.0001\n",
      "clf__random_state : 7\n",
      "clf__shuffle : True\n",
      "clf__solver : adam\n",
      "clf__tol : 0.0001\n",
      "clf__validation_fraction : 0.1\n",
      "clf__verbose : False\n",
      "clf__warm_start : False\n",
      "\n",
      "Prediction scores for Multi-Layer \n",
      "Perceptron using _adaboost :\n",
      "Mean Squared error: 4.882632785595427\n",
      "Mean Absolute error: 1.4035734551968018\n",
      "R^2: 0.7495089573552673\n"
     ]
    },
    {
     "name": "stderr",
     "output_type": "stream",
     "text": [
      "c:\\users\\chris\\appdata\\local\\programs\\python\\python39\\lib\\site-packages\\sklearn\\neural_network\\_multilayer_perceptron.py:582: ConvergenceWarning: Stochastic Optimizer: Maximum iterations (75) reached and the optimization hasn't converged yet.\n",
      "  warnings.warn(\n"
     ]
    }
   ],
   "source": [
    "ada_model, ada_train_score, ada_mse, ada_mae, ada_r2 = get_best_model(sel_methods[2], args, num_folds, is_sample)"
   ]
  },
  {
   "cell_type": "code",
   "execution_count": 28,
   "metadata": {},
   "outputs": [],
   "source": [
    "# hyperparameters stabalised, model saved\n",
    "save_model(ada_model,sel_methods[2])"
   ]
  },
  {
   "cell_type": "markdown",
   "metadata": {},
   "source": [
    "<h3>Equal business and crime feature selected dataset<h3>"
   ]
  },
  {
   "cell_type": "code",
   "execution_count": 10,
   "metadata": {},
   "outputs": [],
   "source": [
    "is_sample = True\n",
    "num_folds = 3\n",
    "args = {'clf__activation':('identity','logistic','tanh','relu'),\n",
    "        'clf__alpha':(0.000001,0.00001,0.0001,0.001,0.01,0.1),\n",
    "        'clf__batch_size':(arange(100, 300, 100)),\n",
    "        'clf__hidden_layer_sizes':((100,),(200,),(300,)),\n",
    "        'clf__learning_rate':('constant', 'invscaling', 'adaptive'),\n",
    "        'clf__max_iter':(arange(100,300,100)),\n",
    "        'clf__momentum':(arange(0.7,0.9,0.1)),\n",
    "        'clf__power_t':(0.001,0.01,0.1),\n",
    "        'clf__random_state':([7]),\n",
    "        'clf__solver':('lbfgs','logistic','adam'),\n",
    "        'clf__tol':(0.0001,0.001,0.01)\n",
    "       }"
   ]
  },
  {
   "cell_type": "code",
   "execution_count": 11,
   "metadata": {
    "scrolled": false
   },
   "outputs": [
    {
     "name": "stdout",
     "output_type": "stream",
     "text": [
      "\n",
      "\n",
      "Running cross fold validation for Multi-Layer \n",
      "Perceptron with _equal_crime_and_business dataset\n",
      "Fitting 3 folds for each of 69984 candidates, totalling 209952 fits\n"
     ]
    },
    {
     "name": "stderr",
     "output_type": "stream",
     "text": [
      "[Parallel(n_jobs=6)]: Using backend LokyBackend with 6 concurrent workers.\n",
      "[Parallel(n_jobs=6)]: Done  38 tasks      | elapsed:    3.8s\n",
      "[Parallel(n_jobs=6)]: Done 188 tasks      | elapsed:   20.4s\n",
      "[Parallel(n_jobs=6)]: Done 438 tasks      | elapsed:   46.3s\n",
      "[Parallel(n_jobs=6)]: Done 788 tasks      | elapsed:  1.4min\n",
      "[Parallel(n_jobs=6)]: Done 1238 tasks      | elapsed:  2.2min\n",
      "[Parallel(n_jobs=6)]: Done 1788 tasks      | elapsed:  3.4min\n",
      "[Parallel(n_jobs=6)]: Done 2438 tasks      | elapsed:  5.3min\n",
      "[Parallel(n_jobs=6)]: Done 3188 tasks      | elapsed:  7.7min\n",
      "[Parallel(n_jobs=6)]: Done 4038 tasks      | elapsed: 10.6min\n",
      "[Parallel(n_jobs=6)]: Done 4988 tasks      | elapsed: 12.8min\n",
      "[Parallel(n_jobs=6)]: Done 6038 tasks      | elapsed: 15.0min\n",
      "[Parallel(n_jobs=6)]: Done 7188 tasks      | elapsed: 18.5min\n",
      "[Parallel(n_jobs=6)]: Done 8438 tasks      | elapsed: 23.7min\n",
      "[Parallel(n_jobs=6)]: Done 9788 tasks      | elapsed: 27.1min\n",
      "[Parallel(n_jobs=6)]: Done 11238 tasks      | elapsed: 30.7min\n",
      "[Parallel(n_jobs=6)]: Done 12788 tasks      | elapsed: 35.8min\n",
      "[Parallel(n_jobs=6)]: Done 14438 tasks      | elapsed: 38.9min\n",
      "[Parallel(n_jobs=6)]: Done 16188 tasks      | elapsed: 43.8min\n",
      "[Parallel(n_jobs=6)]: Done 18038 tasks      | elapsed: 49.9min\n",
      "[Parallel(n_jobs=6)]: Done 19988 tasks      | elapsed: 54.1min\n",
      "[Parallel(n_jobs=6)]: Done 22038 tasks      | elapsed: 60.3min\n",
      "[Parallel(n_jobs=6)]: Done 24188 tasks      | elapsed: 64.7min\n",
      "[Parallel(n_jobs=6)]: Done 26438 tasks      | elapsed: 72.5min\n",
      "[Parallel(n_jobs=6)]: Done 28788 tasks      | elapsed: 77.5min\n",
      "[Parallel(n_jobs=6)]: Done 31238 tasks      | elapsed: 84.4min\n",
      "[Parallel(n_jobs=6)]: Done 33788 tasks      | elapsed: 91.2min\n",
      "[Parallel(n_jobs=6)]: Done 36438 tasks      | elapsed: 98.2min\n",
      "[Parallel(n_jobs=6)]: Done 39188 tasks      | elapsed: 106.8min\n",
      "[Parallel(n_jobs=6)]: Done 42038 tasks      | elapsed: 113.8min\n",
      "[Parallel(n_jobs=6)]: Done 44988 tasks      | elapsed: 122.7min\n",
      "[Parallel(n_jobs=6)]: Done 48038 tasks      | elapsed: 133.0min\n",
      "[Parallel(n_jobs=6)]: Done 51188 tasks      | elapsed: 140.6min\n",
      "[Parallel(n_jobs=6)]: Done 54438 tasks      | elapsed: 163.3min\n",
      "[Parallel(n_jobs=6)]: Done 57788 tasks      | elapsed: 205.1min\n",
      "[Parallel(n_jobs=6)]: Done 61238 tasks      | elapsed: 252.7min\n",
      "[Parallel(n_jobs=6)]: Done 64788 tasks      | elapsed: 291.6min\n",
      "[Parallel(n_jobs=6)]: Done 68438 tasks      | elapsed: 333.0min\n",
      "[Parallel(n_jobs=6)]: Done 72188 tasks      | elapsed: 378.6min\n",
      "[Parallel(n_jobs=6)]: Done 76038 tasks      | elapsed: 425.7min\n",
      "[Parallel(n_jobs=6)]: Done 79988 tasks      | elapsed: 477.6min\n",
      "[Parallel(n_jobs=6)]: Done 84038 tasks      | elapsed: 527.8min\n",
      "[Parallel(n_jobs=6)]: Done 88188 tasks      | elapsed: 580.7min\n",
      "[Parallel(n_jobs=6)]: Done 92438 tasks      | elapsed: 637.1min\n",
      "[Parallel(n_jobs=6)]: Done 96788 tasks      | elapsed: 695.5min\n",
      "[Parallel(n_jobs=6)]: Done 101238 tasks      | elapsed: 753.0min\n",
      "[Parallel(n_jobs=6)]: Done 105788 tasks      | elapsed: 810.8min\n",
      "[Parallel(n_jobs=6)]: Done 110438 tasks      | elapsed: 864.3min\n",
      "[Parallel(n_jobs=6)]: Done 115188 tasks      | elapsed: 920.3min\n",
      "[Parallel(n_jobs=6)]: Done 120038 tasks      | elapsed: 975.9min\n",
      "[Parallel(n_jobs=6)]: Done 124988 tasks      | elapsed: 1037.7min\n",
      "[Parallel(n_jobs=6)]: Done 130038 tasks      | elapsed: 1101.0min\n",
      "[Parallel(n_jobs=6)]: Done 135188 tasks      | elapsed: 1166.4min\n",
      "[Parallel(n_jobs=6)]: Done 140438 tasks      | elapsed: 1230.2min\n",
      "[Parallel(n_jobs=6)]: Done 145788 tasks      | elapsed: 1287.1min\n",
      "[Parallel(n_jobs=6)]: Done 151238 tasks      | elapsed: 1353.6min\n",
      "[Parallel(n_jobs=6)]: Done 156788 tasks      | elapsed: 1425.0min\n",
      "[Parallel(n_jobs=6)]: Done 162438 tasks      | elapsed: 1499.3min\n",
      "[Parallel(n_jobs=6)]: Done 168188 tasks      | elapsed: 1570.2min\n",
      "[Parallel(n_jobs=6)]: Done 174038 tasks      | elapsed: 1648.3min\n",
      "[Parallel(n_jobs=6)]: Done 179988 tasks      | elapsed: 1725.3min\n",
      "[Parallel(n_jobs=6)]: Done 186038 tasks      | elapsed: 1797.5min\n",
      "[Parallel(n_jobs=6)]: Done 192188 tasks      | elapsed: 1879.1min\n",
      "[Parallel(n_jobs=6)]: Done 198438 tasks      | elapsed: 1950.9min\n",
      "[Parallel(n_jobs=6)]: Done 204788 tasks      | elapsed: 2033.7min\n",
      "[Parallel(n_jobs=6)]: Done 209952 out of 209952 | elapsed: 2102.8min finished\n"
     ]
    },
    {
     "name": "stdout",
     "output_type": "stream",
     "text": [
      "\n",
      "Best score for Multi-Layer \n",
      "Perceptron with _equal_crime_and_business dataset: 0.7414148711830992\n",
      "\n",
      "Best hyperparameters for Multi-Layer \n",
      "Perceptron with _equal_crime_and_business dataset:\n",
      "memory : None\n",
      "steps : [('clf', MLPRegressor(activation='logistic', batch_size=100, max_iter=100, momentum=0.7,\n",
      "             power_t=0.001, random_state=7, solver='lbfgs'))]\n",
      "verbose : False\n",
      "clf : MLPRegressor(activation='logistic', batch_size=100, max_iter=100, momentum=0.7,\n",
      "             power_t=0.001, random_state=7, solver='lbfgs')\n",
      "clf__activation : logistic\n",
      "clf__alpha : 0.0001\n",
      "clf__batch_size : 100\n",
      "clf__beta_1 : 0.9\n",
      "clf__beta_2 : 0.999\n",
      "clf__early_stopping : False\n",
      "clf__epsilon : 1e-08\n",
      "clf__hidden_layer_sizes : (100,)\n",
      "clf__learning_rate : constant\n",
      "clf__learning_rate_init : 0.001\n",
      "clf__max_fun : 15000\n",
      "clf__max_iter : 100\n",
      "clf__momentum : 0.7\n",
      "clf__n_iter_no_change : 10\n",
      "clf__nesterovs_momentum : True\n",
      "clf__power_t : 0.001\n",
      "clf__random_state : 7\n",
      "clf__shuffle : True\n",
      "clf__solver : lbfgs\n",
      "clf__tol : 0.0001\n",
      "clf__validation_fraction : 0.1\n",
      "clf__verbose : False\n",
      "clf__warm_start : False\n",
      "\n",
      "Prediction scores for Multi-Layer \n",
      "Perceptron using _equal_crime_and_business :\n",
      "Mean Squared error: 5.037521085267287\n",
      "Mean Absolute error: 1.4208156607144091\n",
      "R^2: 0.7415628075254593\n"
     ]
    },
    {
     "name": "stderr",
     "output_type": "stream",
     "text": [
      "c:\\users\\chris\\appdata\\local\\programs\\python\\python39\\lib\\site-packages\\sklearn\\neural_network\\_multilayer_perceptron.py:471: ConvergenceWarning: lbfgs failed to converge (status=1):\n",
      "STOP: TOTAL NO. of ITERATIONS REACHED LIMIT.\n",
      "\n",
      "Increase the number of iterations (max_iter) or scale the data as shown in:\n",
      "    https://scikit-learn.org/stable/modules/preprocessing.html\n",
      "  self.n_iter_ = _check_optimize_result(\"lbfgs\", opt_res, self.max_iter)\n"
     ]
    }
   ],
   "source": [
    "equal_model, equal_train_score, equal_mse, equal_mae, equal_r2 = get_best_model(sel_methods[3], args, num_folds, is_sample)"
   ]
  },
  {
   "cell_type": "code",
   "execution_count": 8,
   "metadata": {},
   "outputs": [],
   "source": [
    "#futher hyperparameter tuning\n",
    "is_sample = True\n",
    "num_folds = 3\n",
    "args = {'clf__activation':('identity','logistic','tanh','relu'),\n",
    "        'clf__alpha':(0.0001,0.0002,0.0003),\n",
    "        'clf__batch_size':(arange(50, 150, 50)),\n",
    "        'clf__hidden_layer_sizes':((50,),(100,),(150,)),\n",
    "        'clf__learning_rate':('constant', 'invscaling', 'adaptive'),\n",
    "        'clf__max_iter':(arange(50,150,50)),\n",
    "        'clf__momentum':(arange(0.4,0.7,0.1)),\n",
    "        'clf__power_t':(0.001,0.002),\n",
    "        'clf__random_state':([7]),\n",
    "        'clf__solver':('lbfgs','logistic','adam'),\n",
    "        'clf__tol':(0.001,0.002)\n",
    "       }"
   ]
  },
  {
   "cell_type": "code",
   "execution_count": 9,
   "metadata": {},
   "outputs": [
    {
     "name": "stdout",
     "output_type": "stream",
     "text": [
      "\n",
      "\n",
      "Running cross fold validation for Multi-Layer \n",
      "Perceptron with _equal_crime_and_business dataset\n",
      "Fitting 3 folds for each of 15552 candidates, totalling 46656 fits\n"
     ]
    },
    {
     "name": "stderr",
     "output_type": "stream",
     "text": [
      "[Parallel(n_jobs=6)]: Using backend LokyBackend with 6 concurrent workers.\n",
      "[Parallel(n_jobs=6)]: Done  38 tasks      | elapsed:    5.1s\n",
      "[Parallel(n_jobs=6)]: Done 188 tasks      | elapsed:   20.5s\n",
      "[Parallel(n_jobs=6)]: Done 438 tasks      | elapsed:   46.8s\n",
      "[Parallel(n_jobs=6)]: Done 788 tasks      | elapsed:  1.4min\n",
      "[Parallel(n_jobs=6)]: Done 1238 tasks      | elapsed:  2.1min\n",
      "[Parallel(n_jobs=6)]: Done 1788 tasks      | elapsed:  3.3min\n",
      "[Parallel(n_jobs=6)]: Done 2438 tasks      | elapsed:  4.2min\n",
      "[Parallel(n_jobs=6)]: Done 3188 tasks      | elapsed:  5.3min\n",
      "[Parallel(n_jobs=6)]: Done 4038 tasks      | elapsed:  7.0min\n",
      "[Parallel(n_jobs=6)]: Done 4988 tasks      | elapsed:  8.6min\n",
      "[Parallel(n_jobs=6)]: Done 6038 tasks      | elapsed: 10.7min\n",
      "[Parallel(n_jobs=6)]: Done 7188 tasks      | elapsed: 12.4min\n",
      "[Parallel(n_jobs=6)]: Done 8438 tasks      | elapsed: 15.0min\n",
      "[Parallel(n_jobs=6)]: Done 9788 tasks      | elapsed: 18.2min\n",
      "[Parallel(n_jobs=6)]: Done 11238 tasks      | elapsed: 20.6min\n",
      "[Parallel(n_jobs=6)]: Done 12788 tasks      | elapsed: 27.6min\n",
      "[Parallel(n_jobs=6)]: Done 14438 tasks      | elapsed: 37.4min\n",
      "[Parallel(n_jobs=6)]: Done 16188 tasks      | elapsed: 48.2min\n",
      "[Parallel(n_jobs=6)]: Done 18038 tasks      | elapsed: 59.6min\n",
      "[Parallel(n_jobs=6)]: Done 19988 tasks      | elapsed: 69.7min\n",
      "[Parallel(n_jobs=6)]: Done 22038 tasks      | elapsed: 82.6min\n",
      "[Parallel(n_jobs=6)]: Done 24188 tasks      | elapsed: 95.1min\n",
      "[Parallel(n_jobs=6)]: Done 26438 tasks      | elapsed: 107.1min\n",
      "[Parallel(n_jobs=6)]: Done 28788 tasks      | elapsed: 120.3min\n",
      "[Parallel(n_jobs=6)]: Done 31238 tasks      | elapsed: 133.5min\n",
      "[Parallel(n_jobs=6)]: Done 33788 tasks      | elapsed: 147.0min\n",
      "[Parallel(n_jobs=6)]: Done 36438 tasks      | elapsed: 163.1min\n",
      "[Parallel(n_jobs=6)]: Done 39188 tasks      | elapsed: 180.5min\n",
      "[Parallel(n_jobs=6)]: Done 42038 tasks      | elapsed: 197.6min\n",
      "[Parallel(n_jobs=6)]: Done 44988 tasks      | elapsed: 217.3min\n",
      "[Parallel(n_jobs=6)]: Done 46656 out of 46656 | elapsed: 226.5min finished\n"
     ]
    },
    {
     "name": "stdout",
     "output_type": "stream",
     "text": [
      "\n",
      "Best score for Multi-Layer \n",
      "Perceptron with _equal_crime_and_business dataset: 0.7414148711830992\n",
      "\n",
      "Best hyperparameters for Multi-Layer \n",
      "Perceptron with _equal_crime_and_business dataset:\n",
      "memory : None\n",
      "steps : [('clf', MLPRegressor(activation='logistic', batch_size=50, max_iter=100, momentum=0.4,\n",
      "             power_t=0.001, random_state=7, solver='lbfgs', tol=0.001))]\n",
      "verbose : False\n",
      "clf : MLPRegressor(activation='logistic', batch_size=50, max_iter=100, momentum=0.4,\n",
      "             power_t=0.001, random_state=7, solver='lbfgs', tol=0.001)\n",
      "clf__activation : logistic\n",
      "clf__alpha : 0.0001\n",
      "clf__batch_size : 50\n",
      "clf__beta_1 : 0.9\n",
      "clf__beta_2 : 0.999\n",
      "clf__early_stopping : False\n",
      "clf__epsilon : 1e-08\n",
      "clf__hidden_layer_sizes : (100,)\n",
      "clf__learning_rate : constant\n",
      "clf__learning_rate_init : 0.001\n",
      "clf__max_fun : 15000\n",
      "clf__max_iter : 100\n",
      "clf__momentum : 0.4\n",
      "clf__n_iter_no_change : 10\n",
      "clf__nesterovs_momentum : True\n",
      "clf__power_t : 0.001\n",
      "clf__random_state : 7\n",
      "clf__shuffle : True\n",
      "clf__solver : lbfgs\n",
      "clf__tol : 0.001\n",
      "clf__validation_fraction : 0.1\n",
      "clf__verbose : False\n",
      "clf__warm_start : False\n",
      "\n",
      "Prediction scores for Multi-Layer \n",
      "Perceptron using _equal_crime_and_business :\n",
      "Mean Squared error: 5.037521085267287\n",
      "Mean Absolute error: 1.4208156607144091\n",
      "R^2: 0.7415628075254593\n"
     ]
    },
    {
     "name": "stderr",
     "output_type": "stream",
     "text": [
      "c:\\users\\chris\\appdata\\local\\programs\\python\\python39\\lib\\site-packages\\sklearn\\neural_network\\_multilayer_perceptron.py:471: ConvergenceWarning: lbfgs failed to converge (status=1):\n",
      "STOP: TOTAL NO. of ITERATIONS REACHED LIMIT.\n",
      "\n",
      "Increase the number of iterations (max_iter) or scale the data as shown in:\n",
      "    https://scikit-learn.org/stable/modules/preprocessing.html\n",
      "  self.n_iter_ = _check_optimize_result(\"lbfgs\", opt_res, self.max_iter)\n"
     ]
    }
   ],
   "source": [
    "equal_model, equal_train_score, equal_mse, equal_mae, equal_r2 = get_best_model(sel_methods[3], args, num_folds, is_sample)"
   ]
  },
  {
   "cell_type": "code",
   "execution_count": 24,
   "metadata": {},
   "outputs": [],
   "source": [
    "#futher hyperparameter tuning\n",
    "is_sample = True\n",
    "num_folds = 5\n",
    "args = {'clf__activation':(['logistic']),\n",
    "        'clf__alpha':(0.0001,0.0002,0.0003),\n",
    "        'clf__batch_size':(arange(50, 100, 25)),\n",
    "        'clf__hidden_layer_sizes':((75,),(100,),(125,)),\n",
    "        'clf__learning_rate':(['constant']),\n",
    "        'clf__max_iter':(arange(50,150,50)),\n",
    "        'clf__momentum':(arange(0.1,0.6,0.1)),\n",
    "        'clf__power_t':(0.001,0.002),\n",
    "        'clf__random_state':([7]),\n",
    "        'clf__solver':(['lbfgs']),\n",
    "        'clf__tol':(0.0005,0.001,0.002)\n",
    "       }"
   ]
  },
  {
   "cell_type": "code",
   "execution_count": 25,
   "metadata": {
    "scrolled": false
   },
   "outputs": [
    {
     "name": "stdout",
     "output_type": "stream",
     "text": [
      "\n",
      "\n",
      "Running cross fold validation for Multi-Layer \n",
      "Perceptron with _equal_crime_and_business dataset\n",
      "Fitting 5 folds for each of 1080 candidates, totalling 5400 fits\n"
     ]
    },
    {
     "name": "stderr",
     "output_type": "stream",
     "text": [
      "[Parallel(n_jobs=6)]: Using backend LokyBackend with 6 concurrent workers.\n",
      "[Parallel(n_jobs=6)]: Done  38 tasks      | elapsed:   18.0s\n",
      "[Parallel(n_jobs=6)]: Done 188 tasks      | elapsed:  1.5min\n",
      "[Parallel(n_jobs=6)]: Done 438 tasks      | elapsed:  4.0min\n",
      "[Parallel(n_jobs=6)]: Done 788 tasks      | elapsed:  8.5min\n",
      "[Parallel(n_jobs=6)]: Done 1238 tasks      | elapsed: 14.1min\n",
      "[Parallel(n_jobs=6)]: Done 1788 tasks      | elapsed: 22.7min\n",
      "[Parallel(n_jobs=6)]: Done 2438 tasks      | elapsed: 30.9min\n",
      "[Parallel(n_jobs=6)]: Done 3188 tasks      | elapsed: 40.8min\n",
      "[Parallel(n_jobs=6)]: Done 4038 tasks      | elapsed: 52.2min\n",
      "[Parallel(n_jobs=6)]: Done 4988 tasks      | elapsed: 65.6min\n",
      "[Parallel(n_jobs=6)]: Done 5400 out of 5400 | elapsed: 72.5min finished\n"
     ]
    },
    {
     "name": "stdout",
     "output_type": "stream",
     "text": [
      "\n",
      "Best score for Multi-Layer \n",
      "Perceptron with _equal_crime_and_business dataset: 0.7417138155924298\n",
      "\n",
      "Best hyperparameters for Multi-Layer \n",
      "Perceptron with _equal_crime_and_business dataset:\n",
      "memory : None\n",
      "steps : [('clf', MLPRegressor(activation='logistic', alpha=0.0003, batch_size=50, max_iter=100,\n",
      "             momentum=0.1, power_t=0.001, random_state=7, solver='lbfgs',\n",
      "             tol=0.002))]\n",
      "verbose : False\n",
      "clf : MLPRegressor(activation='logistic', alpha=0.0003, batch_size=50, max_iter=100,\n",
      "             momentum=0.1, power_t=0.001, random_state=7, solver='lbfgs',\n",
      "             tol=0.002)\n",
      "clf__activation : logistic\n",
      "clf__alpha : 0.0003\n",
      "clf__batch_size : 50\n",
      "clf__beta_1 : 0.9\n",
      "clf__beta_2 : 0.999\n",
      "clf__early_stopping : False\n",
      "clf__epsilon : 1e-08\n",
      "clf__hidden_layer_sizes : (100,)\n",
      "clf__learning_rate : constant\n",
      "clf__learning_rate_init : 0.001\n",
      "clf__max_fun : 15000\n",
      "clf__max_iter : 100\n",
      "clf__momentum : 0.1\n",
      "clf__n_iter_no_change : 10\n",
      "clf__nesterovs_momentum : True\n",
      "clf__power_t : 0.001\n",
      "clf__random_state : 7\n",
      "clf__shuffle : True\n",
      "clf__solver : lbfgs\n",
      "clf__tol : 0.002\n",
      "clf__validation_fraction : 0.1\n",
      "clf__verbose : False\n",
      "clf__warm_start : False\n",
      "\n",
      "Prediction scores for Multi-Layer \n",
      "Perceptron using _equal_crime_and_business :\n",
      "Mean Squared error: 5.04202945495439\n",
      "Mean Absolute error: 1.4137926166392256\n",
      "R^2: 0.7413315170981141\n"
     ]
    },
    {
     "name": "stderr",
     "output_type": "stream",
     "text": [
      "c:\\users\\chris\\appdata\\local\\programs\\python\\python39\\lib\\site-packages\\sklearn\\neural_network\\_multilayer_perceptron.py:471: ConvergenceWarning: lbfgs failed to converge (status=1):\n",
      "STOP: TOTAL NO. of ITERATIONS REACHED LIMIT.\n",
      "\n",
      "Increase the number of iterations (max_iter) or scale the data as shown in:\n",
      "    https://scikit-learn.org/stable/modules/preprocessing.html\n",
      "  self.n_iter_ = _check_optimize_result(\"lbfgs\", opt_res, self.max_iter)\n"
     ]
    }
   ],
   "source": [
    "equal_model, equal_train_score, equal_mse, equal_mae, equal_r2 = get_best_model(sel_methods[3], args, num_folds, is_sample)"
   ]
  },
  {
   "cell_type": "markdown",
   "metadata": {},
   "source": [
    "<h3> Retrain on revised dataset <h3>"
   ]
  },
  {
   "cell_type": "code",
   "execution_count": 18,
   "metadata": {},
   "outputs": [],
   "source": [
    "def get_best_model_revised(method, args, _cv, is_sample):\n",
    "    sample_string = ''\n",
    "    if (is_sample):\n",
    "        sample_string = '_sample'\n",
    "    y_train = pd.read_csv('y_train'+ sample_string + '_revised.csv')    \n",
    "    method_string = method\n",
    "    if (method == ''):\n",
    "        method_string = \"no feature selection\"\n",
    "    print('\\n\\nRunning cross fold validation for',display_name,'with',method_string,'dataset')\n",
    "    x_train = pd.read_csv('x_train' + method + sample_string + '_revised.csv').values\n",
    "    x_test = pd.read_csv('x_test' + method + '_revised.csv').values\n",
    "    pipe = Pipeline([('clf', MLPRegressor())])\n",
    "    grid = GridSearchCV(pipe, args, cv = _cv, verbose = 1, scoring = 'r2', n_jobs=6)\n",
    "    grid.fit(x_train, y_train.values.ravel())\n",
    "    print('\\nBest score for',display_name,'with',method_string,\"dataset:\",grid.best_score_)\n",
    "    best_args = grid.best_estimator_.get_params()\n",
    "    print('\\nBest hyperparameters for',display_name,'with',method_string,'dataset:')\n",
    "    for arg in best_args:\n",
    "        print(arg,\":\",best_args[arg])\n",
    "    y_test_predict = grid.predict(x_test)\n",
    "    mse = mean_squared_error(y_test,y_test_predict)\n",
    "    mae = mean_absolute_error(y_test,y_test_predict)\n",
    "    r2 = r2_score(y_test,y_test_predict)\n",
    "    print('\\nPrediction scores for',display_name,'using',method_string,':')\n",
    "    print('Mean Squared error:',mse)\n",
    "    print('Mean Absolute error:',mae)\n",
    "    print('R^2:',r2)\n",
    "    return grid.best_estimator_,grid.best_score_,mse,mae,r2"
   ]
  },
  {
   "cell_type": "code",
   "execution_count": 11,
   "metadata": {},
   "outputs": [],
   "source": [
    "#futher hyperparameter tuning\n",
    "is_sample = True\n",
    "num_folds = 5\n",
    "args = {'clf__activation':(['logistic']),\n",
    "        'clf__alpha':(0.0001,0.0002,0.0003),\n",
    "        'clf__batch_size':(arange(50, 100, 25)),\n",
    "        'clf__hidden_layer_sizes':((75,),(100,),(125,)),\n",
    "        'clf__learning_rate':(['constant']),\n",
    "        'clf__max_iter':(arange(50,150,50)),\n",
    "        'clf__momentum':(arange(0.1,0.6,0.1)),\n",
    "        'clf__power_t':(0.001,0.002),\n",
    "        'clf__random_state':([7]),\n",
    "        'clf__solver':(['lbfgs']),\n",
    "        'clf__tol':(0.0005,0.001,0.002)\n",
    "       }"
   ]
  },
  {
   "cell_type": "code",
   "execution_count": 12,
   "metadata": {},
   "outputs": [
    {
     "name": "stdout",
     "output_type": "stream",
     "text": [
      "\n",
      "\n",
      "Running cross fold validation for Multi-Layer \n",
      "Perceptron with _equal_crime_and_business dataset\n",
      "Fitting 5 folds for each of 1080 candidates, totalling 5400 fits\n"
     ]
    },
    {
     "name": "stderr",
     "output_type": "stream",
     "text": [
      "[Parallel(n_jobs=6)]: Using backend LokyBackend with 6 concurrent workers.\n",
      "[Parallel(n_jobs=6)]: Done  38 tasks      | elapsed:   16.4s\n",
      "[Parallel(n_jobs=6)]: Done 188 tasks      | elapsed:  1.4min\n",
      "[Parallel(n_jobs=6)]: Done 438 tasks      | elapsed:  3.7min\n",
      "[Parallel(n_jobs=6)]: Done 788 tasks      | elapsed:  8.2min\n",
      "[Parallel(n_jobs=6)]: Done 1238 tasks      | elapsed: 13.0min\n",
      "[Parallel(n_jobs=6)]: Done 1788 tasks      | elapsed: 19.9min\n",
      "[Parallel(n_jobs=6)]: Done 2438 tasks      | elapsed: 26.4min\n",
      "[Parallel(n_jobs=6)]: Done 3188 tasks      | elapsed: 34.4min\n",
      "[Parallel(n_jobs=6)]: Done 4038 tasks      | elapsed: 43.7min\n",
      "[Parallel(n_jobs=6)]: Done 4988 tasks      | elapsed: 54.6min\n",
      "[Parallel(n_jobs=6)]: Done 5400 out of 5400 | elapsed: 60.3min finished\n"
     ]
    },
    {
     "name": "stdout",
     "output_type": "stream",
     "text": [
      "\n",
      "Best score for Multi-Layer \n",
      "Perceptron with _equal_crime_and_business dataset: 0.7422793327280195\n",
      "\n",
      "Best hyperparameters for Multi-Layer \n",
      "Perceptron with _equal_crime_and_business dataset:\n",
      "memory : None\n",
      "steps : [('clf', MLPRegressor(activation='logistic', batch_size=50, max_iter=100, momentum=0.1,\n",
      "             power_t=0.001, random_state=7, solver='lbfgs', tol=0.0005))]\n",
      "verbose : False\n",
      "clf : MLPRegressor(activation='logistic', batch_size=50, max_iter=100, momentum=0.1,\n",
      "             power_t=0.001, random_state=7, solver='lbfgs', tol=0.0005)\n",
      "clf__activation : logistic\n",
      "clf__alpha : 0.0001\n",
      "clf__batch_size : 50\n",
      "clf__beta_1 : 0.9\n",
      "clf__beta_2 : 0.999\n",
      "clf__early_stopping : False\n",
      "clf__epsilon : 1e-08\n",
      "clf__hidden_layer_sizes : (100,)\n",
      "clf__learning_rate : constant\n",
      "clf__learning_rate_init : 0.001\n",
      "clf__max_fun : 15000\n",
      "clf__max_iter : 100\n",
      "clf__momentum : 0.1\n",
      "clf__n_iter_no_change : 10\n",
      "clf__nesterovs_momentum : True\n",
      "clf__power_t : 0.001\n",
      "clf__random_state : 7\n",
      "clf__shuffle : True\n",
      "clf__solver : lbfgs\n",
      "clf__tol : 0.0005\n",
      "clf__validation_fraction : 0.1\n",
      "clf__verbose : False\n",
      "clf__warm_start : False\n",
      "\n",
      "Prediction scores for Multi-Layer \n",
      "Perceptron using _equal_crime_and_business :\n",
      "Mean Squared error: 5.043678320104259\n",
      "Mean Absolute error: 1.4151449573592536\n",
      "R^2: 0.7412469262700285\n"
     ]
    },
    {
     "name": "stderr",
     "output_type": "stream",
     "text": [
      "c:\\users\\chris\\appdata\\local\\programs\\python\\python39\\lib\\site-packages\\sklearn\\neural_network\\_multilayer_perceptron.py:471: ConvergenceWarning: lbfgs failed to converge (status=1):\n",
      "STOP: TOTAL NO. of ITERATIONS REACHED LIMIT.\n",
      "\n",
      "Increase the number of iterations (max_iter) or scale the data as shown in:\n",
      "    https://scikit-learn.org/stable/modules/preprocessing.html\n",
      "  self.n_iter_ = _check_optimize_result(\"lbfgs\", opt_res, self.max_iter)\n"
     ]
    }
   ],
   "source": [
    "equal_model, equal_train_score, equal_mse, equal_mae, equal_r2 = get_best_model_revised(sel_methods[3], args, num_folds, is_sample)"
   ]
  },
  {
   "cell_type": "code",
   "execution_count": 32,
   "metadata": {},
   "outputs": [],
   "source": [
    "#futher hyperparameter tuning\n",
    "is_sample = False\n",
    "num_folds = 10\n",
    "args = {'clf__activation':(['logistic']),\n",
    "        'clf__alpha':(0.0001,0.0002,0.0003),\n",
    "        'clf__batch_size':(arange(25, 75, 25)),\n",
    "        'clf__hidden_layer_sizes':((75,),(100,),(125,)),\n",
    "        'clf__learning_rate':(['constant']),\n",
    "        'clf__max_iter':(arange(75,125,25)),\n",
    "        'clf__momentum':(arange(0.1,0.3,0.1)),\n",
    "        'clf__power_t':(0.001,0.002),\n",
    "        'clf__random_state':([7]),\n",
    "        'clf__solver':(['lbfgs']),\n",
    "        'clf__tol':(0.0005,0.001)\n",
    "       }"
   ]
  },
  {
   "cell_type": "code",
   "execution_count": 33,
   "metadata": {},
   "outputs": [
    {
     "name": "stdout",
     "output_type": "stream",
     "text": [
      "\n",
      "\n",
      "Running cross fold validation for Multi-Layer \n",
      "Perceptron with _equal_crime_and_business dataset\n",
      "Fitting 10 folds for each of 288 candidates, totalling 2880 fits\n"
     ]
    },
    {
     "name": "stderr",
     "output_type": "stream",
     "text": [
      "[Parallel(n_jobs=6)]: Using backend LokyBackend with 6 concurrent workers.\n",
      "[Parallel(n_jobs=6)]: Done  38 tasks      | elapsed:  1.6min\n",
      "[Parallel(n_jobs=6)]: Done 188 tasks      | elapsed:  8.9min\n",
      "[Parallel(n_jobs=6)]: Done 438 tasks      | elapsed: 25.3min\n",
      "[Parallel(n_jobs=6)]: Done 788 tasks      | elapsed: 44.8min\n",
      "[Parallel(n_jobs=6)]: Done 1238 tasks      | elapsed: 71.5min\n",
      "[Parallel(n_jobs=6)]: Done 1788 tasks      | elapsed: 104.8min\n",
      "[Parallel(n_jobs=6)]: Done 2438 tasks      | elapsed: 145.3min\n",
      "[Parallel(n_jobs=6)]: Done 2880 out of 2880 | elapsed: 172.9min finished\n"
     ]
    },
    {
     "name": "stdout",
     "output_type": "stream",
     "text": [
      "\n",
      "Best score for Multi-Layer \n",
      "Perceptron with _equal_crime_and_business dataset: 0.7349072078250235\n",
      "\n",
      "Best hyperparameters for Multi-Layer \n",
      "Perceptron with _equal_crime_and_business dataset:\n",
      "memory : None\n",
      "steps : [('clf', MLPRegressor(activation='logistic', alpha=0.0002, batch_size=25,\n",
      "             hidden_layer_sizes=(75,), max_iter=100, momentum=0.1,\n",
      "             power_t=0.001, random_state=7, solver='lbfgs', tol=0.0005))]\n",
      "verbose : False\n",
      "clf : MLPRegressor(activation='logistic', alpha=0.0002, batch_size=25,\n",
      "             hidden_layer_sizes=(75,), max_iter=100, momentum=0.1,\n",
      "             power_t=0.001, random_state=7, solver='lbfgs', tol=0.0005)\n",
      "clf__activation : logistic\n",
      "clf__alpha : 0.0002\n",
      "clf__batch_size : 25\n",
      "clf__beta_1 : 0.9\n",
      "clf__beta_2 : 0.999\n",
      "clf__early_stopping : False\n",
      "clf__epsilon : 1e-08\n",
      "clf__hidden_layer_sizes : (75,)\n",
      "clf__learning_rate : constant\n",
      "clf__learning_rate_init : 0.001\n",
      "clf__max_fun : 15000\n",
      "clf__max_iter : 100\n",
      "clf__momentum : 0.1\n",
      "clf__n_iter_no_change : 10\n",
      "clf__nesterovs_momentum : True\n",
      "clf__power_t : 0.001\n",
      "clf__random_state : 7\n",
      "clf__shuffle : True\n",
      "clf__solver : lbfgs\n",
      "clf__tol : 0.0005\n",
      "clf__validation_fraction : 0.1\n",
      "clf__verbose : False\n",
      "clf__warm_start : False\n",
      "\n",
      "Prediction scores for Multi-Layer \n",
      "Perceptron using _equal_crime_and_business :\n",
      "Mean Squared error: 4.9826207806288245\n",
      "Mean Absolute error: 1.4078061292888642\n",
      "R^2: 0.7443793278648494\n"
     ]
    },
    {
     "name": "stderr",
     "output_type": "stream",
     "text": [
      "c:\\users\\chris\\appdata\\local\\programs\\python\\python39\\lib\\site-packages\\sklearn\\neural_network\\_multilayer_perceptron.py:471: ConvergenceWarning: lbfgs failed to converge (status=1):\n",
      "STOP: TOTAL NO. of ITERATIONS REACHED LIMIT.\n",
      "\n",
      "Increase the number of iterations (max_iter) or scale the data as shown in:\n",
      "    https://scikit-learn.org/stable/modules/preprocessing.html\n",
      "  self.n_iter_ = _check_optimize_result(\"lbfgs\", opt_res, self.max_iter)\n"
     ]
    }
   ],
   "source": [
    "equal_model, equal_train_score, equal_mse, equal_mae, equal_r2 = get_best_model_revised(sel_methods[3], args, num_folds, is_sample)"
   ]
  },
  {
   "cell_type": "code",
   "execution_count": 42,
   "metadata": {},
   "outputs": [],
   "source": [
    "#futher hyperparameter tuning\n",
    "is_sample = False\n",
    "num_folds = 10\n",
    "args = {'clf__activation':(['logistic']),\n",
    "        'clf__alpha':(0.0001,0.0002,0.0003),\n",
    "        'clf__batch_size':(arange(10, 30, 5)),\n",
    "        'clf__hidden_layer_sizes':((50,),(175,),(100,)),\n",
    "        'clf__learning_rate':(['constant']),\n",
    "        'clf__max_iter':(arange(75,125,25)),\n",
    "        'clf__momentum':(arange(0.1,0.3,0.1)),\n",
    "        'clf__power_t':(0.001,0.002),\n",
    "        'clf__random_state':([7]),\n",
    "        'clf__solver':(['lbfgs']),\n",
    "        'clf__tol':(0.0005,0.001)\n",
    "       }"
   ]
  },
  {
   "cell_type": "code",
   "execution_count": 43,
   "metadata": {
    "scrolled": false
   },
   "outputs": [
    {
     "name": "stdout",
     "output_type": "stream",
     "text": [
      "\n",
      "\n",
      "Running cross fold validation for Multi-Layer \n",
      "Perceptron with _equal_crime_and_business dataset\n",
      "Fitting 10 folds for each of 576 candidates, totalling 5760 fits\n"
     ]
    },
    {
     "name": "stderr",
     "output_type": "stream",
     "text": [
      "[Parallel(n_jobs=6)]: Using backend LokyBackend with 6 concurrent workers.\n",
      "[Parallel(n_jobs=6)]: Done  38 tasks      | elapsed:  1.1min\n",
      "[Parallel(n_jobs=6)]: Done 188 tasks      | elapsed:  7.8min\n",
      "[Parallel(n_jobs=6)]: Done 438 tasks      | elapsed: 29.9min\n",
      "[Parallel(n_jobs=6)]: Done 788 tasks      | elapsed: 55.6min\n",
      "[Parallel(n_jobs=6)]: Done 1238 tasks      | elapsed: 86.0min\n",
      "[Parallel(n_jobs=6)]: Done 1788 tasks      | elapsed: 123.9min\n",
      "[Parallel(n_jobs=6)]: Done 2438 tasks      | elapsed: 164.7min\n",
      "[Parallel(n_jobs=6)]: Done 3188 tasks      | elapsed: 221.8min\n",
      "[Parallel(n_jobs=6)]: Done 4038 tasks      | elapsed: 277.7min\n",
      "[Parallel(n_jobs=6)]: Done 4988 tasks      | elapsed: 345.4min\n",
      "[Parallel(n_jobs=6)]: Done 5760 out of 5760 | elapsed: 404.9min finished\n"
     ]
    },
    {
     "name": "stdout",
     "output_type": "stream",
     "text": [
      "\n",
      "Best score for Multi-Layer \n",
      "Perceptron with _equal_crime_and_business dataset: 0.7351704092879979\n",
      "\n",
      "Best hyperparameters for Multi-Layer \n",
      "Perceptron with _equal_crime_and_business dataset:\n",
      "memory : None\n",
      "steps : [('clf', MLPRegressor(activation='logistic', alpha=0.0003, batch_size=10,\n",
      "             hidden_layer_sizes=(50,), max_iter=100, momentum=0.1,\n",
      "             power_t=0.001, random_state=7, solver='lbfgs', tol=0.0005))]\n",
      "verbose : False\n",
      "clf : MLPRegressor(activation='logistic', alpha=0.0003, batch_size=10,\n",
      "             hidden_layer_sizes=(50,), max_iter=100, momentum=0.1,\n",
      "             power_t=0.001, random_state=7, solver='lbfgs', tol=0.0005)\n",
      "clf__activation : logistic\n",
      "clf__alpha : 0.0003\n",
      "clf__batch_size : 10\n",
      "clf__beta_1 : 0.9\n",
      "clf__beta_2 : 0.999\n",
      "clf__early_stopping : False\n",
      "clf__epsilon : 1e-08\n",
      "clf__hidden_layer_sizes : (50,)\n",
      "clf__learning_rate : constant\n",
      "clf__learning_rate_init : 0.001\n",
      "clf__max_fun : 15000\n",
      "clf__max_iter : 100\n",
      "clf__momentum : 0.1\n",
      "clf__n_iter_no_change : 10\n",
      "clf__nesterovs_momentum : True\n",
      "clf__power_t : 0.001\n",
      "clf__random_state : 7\n",
      "clf__shuffle : True\n",
      "clf__solver : lbfgs\n",
      "clf__tol : 0.0005\n",
      "clf__validation_fraction : 0.1\n",
      "clf__verbose : False\n",
      "clf__warm_start : False\n",
      "\n",
      "Prediction scores for Multi-Layer \n",
      "Perceptron using _equal_crime_and_business :\n",
      "Mean Squared error: 5.006963703562319\n",
      "Mean Absolute error: 1.4098130818452705\n",
      "R^2: 0.7431304761869962\n"
     ]
    },
    {
     "name": "stderr",
     "output_type": "stream",
     "text": [
      "c:\\users\\chris\\appdata\\local\\programs\\python\\python39\\lib\\site-packages\\sklearn\\neural_network\\_multilayer_perceptron.py:471: ConvergenceWarning: lbfgs failed to converge (status=1):\n",
      "STOP: TOTAL NO. of ITERATIONS REACHED LIMIT.\n",
      "\n",
      "Increase the number of iterations (max_iter) or scale the data as shown in:\n",
      "    https://scikit-learn.org/stable/modules/preprocessing.html\n",
      "  self.n_iter_ = _check_optimize_result(\"lbfgs\", opt_res, self.max_iter)\n"
     ]
    }
   ],
   "source": [
    "equal_model, equal_train_score, equal_mse, equal_mae, equal_r2 = get_best_model_revised(sel_methods[3], args, num_folds, is_sample)"
   ]
  },
  {
   "cell_type": "code",
   "execution_count": 19,
   "metadata": {},
   "outputs": [],
   "source": [
    "#futher hyperparameter tuning\n",
    "is_sample = False\n",
    "num_folds = 10\n",
    "args = {'clf__activation':(['logistic']),\n",
    "        'clf__alpha':([0.0003]),\n",
    "        'clf__batch_size':([10]),\n",
    "        'clf__hidden_layer_sizes':([50]),\n",
    "        'clf__learning_rate':(['constant']),\n",
    "        'clf__max_iter':([100]),\n",
    "        'clf__momentum':([0.1]),\n",
    "        'clf__power_t':([0.001]),\n",
    "        'clf__random_state':([7]),\n",
    "        'clf__solver':(['lbfgs']),\n",
    "        'clf__tol':([0.0005])\n",
    "       }"
   ]
  },
  {
   "cell_type": "code",
   "execution_count": 20,
   "metadata": {},
   "outputs": [
    {
     "name": "stdout",
     "output_type": "stream",
     "text": [
      "\n",
      "\n",
      "Running cross fold validation for Multi-Layer \n",
      "Perceptron with _equal_crime_and_business dataset\n",
      "Fitting 10 folds for each of 1 candidates, totalling 10 fits\n"
     ]
    },
    {
     "name": "stderr",
     "output_type": "stream",
     "text": [
      "[Parallel(n_jobs=6)]: Using backend LokyBackend with 6 concurrent workers.\n",
      "[Parallel(n_jobs=6)]: Done  10 out of  10 | elapsed:   22.4s remaining:    0.0s\n",
      "[Parallel(n_jobs=6)]: Done  10 out of  10 | elapsed:   22.4s finished\n"
     ]
    },
    {
     "name": "stdout",
     "output_type": "stream",
     "text": [
      "\n",
      "Best score for Multi-Layer \n",
      "Perceptron with _equal_crime_and_business dataset: 0.7351704092879979\n",
      "\n",
      "Best hyperparameters for Multi-Layer \n",
      "Perceptron with _equal_crime_and_business dataset:\n",
      "memory : None\n",
      "steps : [('clf', MLPRegressor(activation='logistic', alpha=0.0003, batch_size=10,\n",
      "             hidden_layer_sizes=50, max_iter=100, momentum=0.1, power_t=0.001,\n",
      "             random_state=7, solver='lbfgs', tol=0.0005))]\n",
      "verbose : False\n",
      "clf : MLPRegressor(activation='logistic', alpha=0.0003, batch_size=10,\n",
      "             hidden_layer_sizes=50, max_iter=100, momentum=0.1, power_t=0.001,\n",
      "             random_state=7, solver='lbfgs', tol=0.0005)\n",
      "clf__activation : logistic\n",
      "clf__alpha : 0.0003\n",
      "clf__batch_size : 10\n",
      "clf__beta_1 : 0.9\n",
      "clf__beta_2 : 0.999\n",
      "clf__early_stopping : False\n",
      "clf__epsilon : 1e-08\n",
      "clf__hidden_layer_sizes : 50\n",
      "clf__learning_rate : constant\n",
      "clf__learning_rate_init : 0.001\n",
      "clf__max_fun : 15000\n",
      "clf__max_iter : 100\n",
      "clf__momentum : 0.1\n",
      "clf__n_iter_no_change : 10\n",
      "clf__nesterovs_momentum : True\n",
      "clf__power_t : 0.001\n",
      "clf__random_state : 7\n",
      "clf__shuffle : True\n",
      "clf__solver : lbfgs\n",
      "clf__tol : 0.0005\n",
      "clf__validation_fraction : 0.1\n",
      "clf__verbose : False\n",
      "clf__warm_start : False\n",
      "\n",
      "Prediction scores for Multi-Layer \n",
      "Perceptron using _equal_crime_and_business :\n",
      "Mean Squared error: 5.006963703562319\n",
      "Mean Absolute error: 1.4098130818452705\n",
      "R^2: 0.7431304761869962\n"
     ]
    },
    {
     "name": "stderr",
     "output_type": "stream",
     "text": [
      "c:\\users\\chris\\appdata\\local\\programs\\python\\python39\\lib\\site-packages\\sklearn\\neural_network\\_multilayer_perceptron.py:471: ConvergenceWarning: lbfgs failed to converge (status=1):\n",
      "STOP: TOTAL NO. of ITERATIONS REACHED LIMIT.\n",
      "\n",
      "Increase the number of iterations (max_iter) or scale the data as shown in:\n",
      "    https://scikit-learn.org/stable/modules/preprocessing.html\n",
      "  self.n_iter_ = _check_optimize_result(\"lbfgs\", opt_res, self.max_iter)\n"
     ]
    }
   ],
   "source": [
    "equal_model, equal_train_score, equal_mse, equal_mae, equal_r2 = get_best_model_revised(sel_methods[3], args, num_folds, is_sample)"
   ]
  },
  {
   "cell_type": "code",
   "execution_count": 26,
   "metadata": {},
   "outputs": [],
   "source": [
    "# slight score reduction, model save to prevent overfitting from further training\n",
    "save_model(equal_model,sel_methods[3])"
   ]
  },
  {
   "cell_type": "markdown",
   "metadata": {},
   "source": [
    "<h3>Business only feature selected dataset<h3>"
   ]
  },
  {
   "cell_type": "code",
   "execution_count": 12,
   "metadata": {},
   "outputs": [],
   "source": [
    "#futher hyperparameter tuning\n",
    "is_sample = True\n",
    "num_folds = 3\n",
    "args = {'clf__activation':('identity','logistic','tanh','relu'),\n",
    "        'clf__alpha':(0.000001,0.00001,0.0001,0.001,0.01,0.1),\n",
    "        'clf__batch_size':(arange(100, 300, 100)),\n",
    "        'clf__hidden_layer_sizes':((100,),(200,),(300,)),\n",
    "        'clf__learning_rate':('constant', 'invscaling', 'adaptive'),\n",
    "        'clf__max_iter':(arange(100,300,100)),\n",
    "        'clf__momentum':(arange(0.7,0.9,0.1)),\n",
    "        'clf__power_t':(0.001,0.01,0.1),\n",
    "        'clf__random_state':([7]),\n",
    "        'clf__solver':('lbfgs','logistic','adam'),\n",
    "        'clf__tol':(0.0001,0.001,0.01)\n",
    "       }"
   ]
  },
  {
   "cell_type": "code",
   "execution_count": 13,
   "metadata": {
    "scrolled": false
   },
   "outputs": [
    {
     "name": "stdout",
     "output_type": "stream",
     "text": [
      "\n",
      "\n",
      "Running cross fold validation for Multi-Layer \n",
      "Perceptron with _all_business dataset\n",
      "Fitting 3 folds for each of 69984 candidates, totalling 209952 fits\n"
     ]
    },
    {
     "name": "stderr",
     "output_type": "stream",
     "text": [
      "[Parallel(n_jobs=6)]: Using backend LokyBackend with 6 concurrent workers.\n",
      "[Parallel(n_jobs=6)]: Done  38 tasks      | elapsed:    6.4s\n",
      "[Parallel(n_jobs=6)]: Done 188 tasks      | elapsed:   31.7s\n",
      "[Parallel(n_jobs=6)]: Done 438 tasks      | elapsed:  1.4min\n",
      "[Parallel(n_jobs=6)]: Done 788 tasks      | elapsed:  2.4min\n",
      "[Parallel(n_jobs=6)]: Done 1238 tasks      | elapsed:  3.8min\n",
      "[Parallel(n_jobs=6)]: Done 1788 tasks      | elapsed:  6.1min\n",
      "[Parallel(n_jobs=6)]: Done 2438 tasks      | elapsed:  9.2min\n",
      "[Parallel(n_jobs=6)]: Done 3188 tasks      | elapsed: 13.2min\n",
      "[Parallel(n_jobs=6)]: Done 4038 tasks      | elapsed: 18.5min\n",
      "[Parallel(n_jobs=6)]: Done 4988 tasks      | elapsed: 22.3min\n",
      "[Parallel(n_jobs=6)]: Done 6038 tasks      | elapsed: 25.6min\n",
      "[Parallel(n_jobs=6)]: Done 7188 tasks      | elapsed: 31.2min\n",
      "[Parallel(n_jobs=6)]: Done 8438 tasks      | elapsed: 39.5min\n",
      "[Parallel(n_jobs=6)]: Done 9788 tasks      | elapsed: 44.9min\n",
      "[Parallel(n_jobs=6)]: Done 11238 tasks      | elapsed: 51.4min\n",
      "[Parallel(n_jobs=6)]: Done 12788 tasks      | elapsed: 60.6min\n",
      "[Parallel(n_jobs=6)]: Done 14438 tasks      | elapsed: 66.4min\n",
      "[Parallel(n_jobs=6)]: Done 16188 tasks      | elapsed: 75.1min\n",
      "[Parallel(n_jobs=6)]: Done 18038 tasks      | elapsed: 85.9min\n",
      "[Parallel(n_jobs=6)]: Done 19988 tasks      | elapsed: 94.0min\n",
      "[Parallel(n_jobs=6)]: Done 22038 tasks      | elapsed: 106.3min\n",
      "[Parallel(n_jobs=6)]: Done 24188 tasks      | elapsed: 114.1min\n",
      "[Parallel(n_jobs=6)]: Done 26438 tasks      | elapsed: 127.8min\n",
      "[Parallel(n_jobs=6)]: Done 28788 tasks      | elapsed: 137.2min\n",
      "[Parallel(n_jobs=6)]: Done 31238 tasks      | elapsed: 150.6min\n",
      "[Parallel(n_jobs=6)]: Done 33788 tasks      | elapsed: 162.0min\n",
      "[Parallel(n_jobs=6)]: Done 36438 tasks      | elapsed: 175.1min\n",
      "[Parallel(n_jobs=6)]: Done 39188 tasks      | elapsed: 189.4min\n",
      "[Parallel(n_jobs=6)]: Done 42038 tasks      | elapsed: 199.5min\n",
      "[Parallel(n_jobs=6)]: Done 44988 tasks      | elapsed: 214.7min\n",
      "[Parallel(n_jobs=6)]: Done 48038 tasks      | elapsed: 229.5min\n",
      "[Parallel(n_jobs=6)]: Done 51188 tasks      | elapsed: 243.0min\n",
      "[Parallel(n_jobs=6)]: Done 54438 tasks      | elapsed: 273.5min\n",
      "[Parallel(n_jobs=6)]: Done 57788 tasks      | elapsed: 327.6min\n",
      "[Parallel(n_jobs=6)]: Done 61238 tasks      | elapsed: 383.0min\n",
      "[Parallel(n_jobs=6)]: Done 64788 tasks      | elapsed: 426.5min\n",
      "[Parallel(n_jobs=6)]: Done 68438 tasks      | elapsed: 473.4min\n",
      "[Parallel(n_jobs=6)]: Done 72188 tasks      | elapsed: 527.1min\n",
      "[Parallel(n_jobs=6)]: Done 76038 tasks      | elapsed: 578.6min\n",
      "[Parallel(n_jobs=6)]: Done 79988 tasks      | elapsed: 634.7min\n",
      "[Parallel(n_jobs=6)]: Done 84038 tasks      | elapsed: 690.9min\n",
      "[Parallel(n_jobs=6)]: Done 88188 tasks      | elapsed: 754.8min\n",
      "[Parallel(n_jobs=6)]: Done 92438 tasks      | elapsed: 808.5min\n",
      "[Parallel(n_jobs=6)]: Done 96788 tasks      | elapsed: 865.8min\n",
      "[Parallel(n_jobs=6)]: Done 101238 tasks      | elapsed: 925.5min\n",
      "[Parallel(n_jobs=6)]: Done 105788 tasks      | elapsed: 982.4min\n",
      "[Parallel(n_jobs=6)]: Done 110438 tasks      | elapsed: 1046.5min\n",
      "[Parallel(n_jobs=6)]: Done 115188 tasks      | elapsed: 1112.8min\n",
      "[Parallel(n_jobs=6)]: Done 120038 tasks      | elapsed: 1178.8min\n",
      "[Parallel(n_jobs=6)]: Done 124988 tasks      | elapsed: 1247.5min\n",
      "[Parallel(n_jobs=6)]: Done 130038 tasks      | elapsed: 1317.5min\n",
      "[Parallel(n_jobs=6)]: Done 135188 tasks      | elapsed: 1395.5min\n",
      "[Parallel(n_jobs=6)]: Done 140438 tasks      | elapsed: 1468.5min\n",
      "[Parallel(n_jobs=6)]: Done 145788 tasks      | elapsed: 1537.3min\n",
      "[Parallel(n_jobs=6)]: Done 151238 tasks      | elapsed: 1620.8min\n",
      "[Parallel(n_jobs=6)]: Done 156788 tasks      | elapsed: 1698.0min\n",
      "[Parallel(n_jobs=6)]: Done 162438 tasks      | elapsed: 1796.1min\n",
      "[Parallel(n_jobs=6)]: Done 168188 tasks      | elapsed: 1885.9min\n",
      "[Parallel(n_jobs=6)]: Done 174038 tasks      | elapsed: 1994.2min\n",
      "[Parallel(n_jobs=6)]: Done 179988 tasks      | elapsed: 2106.1min\n",
      "[Parallel(n_jobs=6)]: Done 186038 tasks      | elapsed: 2198.3min\n",
      "[Parallel(n_jobs=6)]: Done 192188 tasks      | elapsed: 2309.7min\n",
      "[Parallel(n_jobs=6)]: Done 198438 tasks      | elapsed: 2408.8min\n",
      "[Parallel(n_jobs=6)]: Done 204788 tasks      | elapsed: 2514.6min\n",
      "[Parallel(n_jobs=6)]: Done 209952 out of 209952 | elapsed: 2601.1min finished\n"
     ]
    },
    {
     "name": "stdout",
     "output_type": "stream",
     "text": [
      "\n",
      "Best score for Multi-Layer \n",
      "Perceptron with _all_business dataset: 0.5200704955823617\n",
      "\n",
      "Best hyperparameters for Multi-Layer \n",
      "Perceptron with _all_business dataset:\n",
      "memory : None\n",
      "steps : [('clf', MLPRegressor(activation='logistic', alpha=0.01, batch_size=100, momentum=0.7,\n",
      "             power_t=0.001, random_state=7, solver='lbfgs'))]\n",
      "verbose : False\n",
      "clf : MLPRegressor(activation='logistic', alpha=0.01, batch_size=100, momentum=0.7,\n",
      "             power_t=0.001, random_state=7, solver='lbfgs')\n",
      "clf__activation : logistic\n",
      "clf__alpha : 0.01\n",
      "clf__batch_size : 100\n",
      "clf__beta_1 : 0.9\n",
      "clf__beta_2 : 0.999\n",
      "clf__early_stopping : False\n",
      "clf__epsilon : 1e-08\n",
      "clf__hidden_layer_sizes : (100,)\n",
      "clf__learning_rate : constant\n",
      "clf__learning_rate_init : 0.001\n",
      "clf__max_fun : 15000\n",
      "clf__max_iter : 200\n",
      "clf__momentum : 0.7\n",
      "clf__n_iter_no_change : 10\n",
      "clf__nesterovs_momentum : True\n",
      "clf__power_t : 0.001\n",
      "clf__random_state : 7\n",
      "clf__shuffle : True\n",
      "clf__solver : lbfgs\n",
      "clf__tol : 0.0001\n",
      "clf__validation_fraction : 0.1\n",
      "clf__verbose : False\n",
      "clf__warm_start : False\n",
      "\n",
      "Prediction scores for Multi-Layer \n",
      "Perceptron using _all_business :\n",
      "Mean Squared error: 8.847515139701052\n",
      "Mean Absolute error: 1.7564692747937156\n",
      "R^2: 0.5461007637729794\n"
     ]
    },
    {
     "name": "stderr",
     "output_type": "stream",
     "text": [
      "c:\\users\\chris\\appdata\\local\\programs\\python\\python39\\lib\\site-packages\\sklearn\\neural_network\\_multilayer_perceptron.py:471: ConvergenceWarning: lbfgs failed to converge (status=1):\n",
      "STOP: TOTAL NO. of ITERATIONS REACHED LIMIT.\n",
      "\n",
      "Increase the number of iterations (max_iter) or scale the data as shown in:\n",
      "    https://scikit-learn.org/stable/modules/preprocessing.html\n",
      "  self.n_iter_ = _check_optimize_result(\"lbfgs\", opt_res, self.max_iter)\n"
     ]
    }
   ],
   "source": [
    "bus_model, bus_train_score, bus_mse, bus_mae, bus_r2 = get_best_model(sel_methods[4], args, num_folds, is_sample)"
   ]
  },
  {
   "cell_type": "code",
   "execution_count": 10,
   "metadata": {},
   "outputs": [],
   "source": [
    "#futher hyperparameter tuning\n",
    "is_sample = True\n",
    "num_folds = 3\n",
    "args = {'clf__activation':('identity','logistic','tanh','relu'),\n",
    "        'clf__alpha':(0.01,0.02,0.03),\n",
    "        'clf__batch_size':(arange(100, 300, 100)),\n",
    "        'clf__hidden_layer_sizes':((100,),(200,),(300,)),\n",
    "        'clf__learning_rate':('constant', 'invscaling', 'adaptive'),\n",
    "        'clf__max_iter':(arange(100,300,100)),\n",
    "        'clf__momentum':(arange(0.3,0.7,0.1)),\n",
    "        'clf__power_t':(0.001,0.002,0.003),\n",
    "        'clf__random_state':([7]),\n",
    "        'clf__solver':('lbfgs','logistic','adam'),\n",
    "        'clf__tol':(0.0001,0.0002,0.0003)\n",
    "       }"
   ]
  },
  {
   "cell_type": "code",
   "execution_count": 11,
   "metadata": {
    "scrolled": false
   },
   "outputs": [
    {
     "name": "stdout",
     "output_type": "stream",
     "text": [
      "\n",
      "\n",
      "Running cross fold validation for Multi-Layer \n",
      "Perceptron with _all_business dataset\n",
      "Fitting 3 folds for each of 46656 candidates, totalling 139968 fits\n"
     ]
    },
    {
     "name": "stderr",
     "output_type": "stream",
     "text": [
      "[Parallel(n_jobs=6)]: Using backend LokyBackend with 6 concurrent workers.\n",
      "[Parallel(n_jobs=6)]: Done  38 tasks      | elapsed:   11.1s\n",
      "[Parallel(n_jobs=6)]: Done 188 tasks      | elapsed:   51.9s\n",
      "[Parallel(n_jobs=6)]: Done 438 tasks      | elapsed:  2.0min\n",
      "[Parallel(n_jobs=6)]: Done 788 tasks      | elapsed:  3.6min\n",
      "[Parallel(n_jobs=6)]: Done 1238 tasks      | elapsed:  5.6min\n",
      "[Parallel(n_jobs=6)]: Done 1788 tasks      | elapsed:  7.9min\n",
      "[Parallel(n_jobs=6)]: Done 2438 tasks      | elapsed: 12.3min\n",
      "[Parallel(n_jobs=6)]: Done 3188 tasks      | elapsed: 18.8min\n",
      "[Parallel(n_jobs=6)]: Done 4038 tasks      | elapsed: 25.5min\n",
      "[Parallel(n_jobs=6)]: Done 4988 tasks      | elapsed: 34.1min\n",
      "[Parallel(n_jobs=6)]: Done 6038 tasks      | elapsed: 42.4min\n",
      "[Parallel(n_jobs=6)]: Done 7188 tasks      | elapsed: 46.7min\n",
      "[Parallel(n_jobs=6)]: Done 8438 tasks      | elapsed: 53.5min\n",
      "[Parallel(n_jobs=6)]: Done 9788 tasks      | elapsed: 63.1min\n",
      "[Parallel(n_jobs=6)]: Done 11238 tasks      | elapsed: 78.8min\n",
      "[Parallel(n_jobs=6)]: Done 12788 tasks      | elapsed: 88.3min\n",
      "[Parallel(n_jobs=6)]: Done 14438 tasks      | elapsed: 97.7min\n",
      "[Parallel(n_jobs=6)]: Done 16188 tasks      | elapsed: 111.3min\n",
      "[Parallel(n_jobs=6)]: Done 18038 tasks      | elapsed: 124.6min\n",
      "[Parallel(n_jobs=6)]: Done 19988 tasks      | elapsed: 134.0min\n",
      "[Parallel(n_jobs=6)]: Done 22038 tasks      | elapsed: 151.1min\n",
      "[Parallel(n_jobs=6)]: Done 24188 tasks      | elapsed: 167.9min\n",
      "[Parallel(n_jobs=6)]: Done 26438 tasks      | elapsed: 180.1min\n",
      "[Parallel(n_jobs=6)]: Done 28788 tasks      | elapsed: 199.2min\n",
      "[Parallel(n_jobs=6)]: Done 31238 tasks      | elapsed: 211.2min\n",
      "[Parallel(n_jobs=6)]: Done 33788 tasks      | elapsed: 234.7min\n",
      "[Parallel(n_jobs=6)]: Done 36438 tasks      | elapsed: 262.0min\n",
      "[Parallel(n_jobs=6)]: Done 39188 tasks      | elapsed: 303.1min\n",
      "[Parallel(n_jobs=6)]: Done 42038 tasks      | elapsed: 350.7min\n",
      "[Parallel(n_jobs=6)]: Done 44988 tasks      | elapsed: 393.8min\n",
      "[Parallel(n_jobs=6)]: Done 48038 tasks      | elapsed: 449.5min\n",
      "[Parallel(n_jobs=6)]: Done 51188 tasks      | elapsed: 496.6min\n",
      "[Parallel(n_jobs=6)]: Done 54438 tasks      | elapsed: 540.2min\n",
      "[Parallel(n_jobs=6)]: Done 57788 tasks      | elapsed: 603.2min\n",
      "[Parallel(n_jobs=6)]: Done 61238 tasks      | elapsed: 644.2min\n",
      "[Parallel(n_jobs=6)]: Done 64788 tasks      | elapsed: 705.3min\n",
      "[Parallel(n_jobs=6)]: Done 68438 tasks      | elapsed: 753.8min\n",
      "[Parallel(n_jobs=6)]: Done 72188 tasks      | elapsed: 813.1min\n",
      "[Parallel(n_jobs=6)]: Done 76038 tasks      | elapsed: 899.3min\n",
      "[Parallel(n_jobs=6)]: Done 79988 tasks      | elapsed: 961.0min\n",
      "[Parallel(n_jobs=6)]: Done 84038 tasks      | elapsed: 1052.1min\n",
      "[Parallel(n_jobs=6)]: Done 88188 tasks      | elapsed: 1147.7min\n",
      "[Parallel(n_jobs=6)]: Done 92438 tasks      | elapsed: 1230.2min\n",
      "[Parallel(n_jobs=6)]: Done 96788 tasks      | elapsed: 1307.3min\n",
      "[Parallel(n_jobs=6)]: Done 101238 tasks      | elapsed: 1393.3min\n",
      "[Parallel(n_jobs=6)]: Done 105788 tasks      | elapsed: 1495.6min\n",
      "[Parallel(n_jobs=6)]: Done 110438 tasks      | elapsed: 1593.1min\n",
      "[Parallel(n_jobs=6)]: Done 115188 tasks      | elapsed: 1681.9min\n",
      "[Parallel(n_jobs=6)]: Done 120038 tasks      | elapsed: 1778.9min\n",
      "[Parallel(n_jobs=6)]: Done 124988 tasks      | elapsed: 1874.0min\n",
      "[Parallel(n_jobs=6)]: Done 130038 tasks      | elapsed: 1967.5min\n",
      "[Parallel(n_jobs=6)]: Done 135188 tasks      | elapsed: 2066.9min\n",
      "[Parallel(n_jobs=6)]: Done 139968 out of 139968 | elapsed: 2166.5min finished\n"
     ]
    },
    {
     "name": "stdout",
     "output_type": "stream",
     "text": [
      "\n",
      "Best score for Multi-Layer \n",
      "Perceptron with _all_business dataset: 0.5200704955823617\n",
      "\n",
      "Best hyperparameters for Multi-Layer \n",
      "Perceptron with _all_business dataset:\n",
      "memory : None\n",
      "steps : [('clf', MLPRegressor(activation='logistic', alpha=0.01, batch_size=100, momentum=0.3,\n",
      "             power_t=0.001, random_state=7, solver='lbfgs'))]\n",
      "verbose : False\n",
      "clf : MLPRegressor(activation='logistic', alpha=0.01, batch_size=100, momentum=0.3,\n",
      "             power_t=0.001, random_state=7, solver='lbfgs')\n",
      "clf__activation : logistic\n",
      "clf__alpha : 0.01\n",
      "clf__batch_size : 100\n",
      "clf__beta_1 : 0.9\n",
      "clf__beta_2 : 0.999\n",
      "clf__early_stopping : False\n",
      "clf__epsilon : 1e-08\n",
      "clf__hidden_layer_sizes : (100,)\n",
      "clf__learning_rate : constant\n",
      "clf__learning_rate_init : 0.001\n",
      "clf__max_fun : 15000\n",
      "clf__max_iter : 200\n",
      "clf__momentum : 0.3\n",
      "clf__n_iter_no_change : 10\n",
      "clf__nesterovs_momentum : True\n",
      "clf__power_t : 0.001\n",
      "clf__random_state : 7\n",
      "clf__shuffle : True\n",
      "clf__solver : lbfgs\n",
      "clf__tol : 0.0001\n",
      "clf__validation_fraction : 0.1\n",
      "clf__verbose : False\n",
      "clf__warm_start : False\n",
      "\n",
      "Prediction scores for Multi-Layer \n",
      "Perceptron using _all_business :\n",
      "Mean Squared error: 8.847515139701052\n",
      "Mean Absolute error: 1.7564692747937156\n",
      "R^2: 0.5461007637729794\n"
     ]
    },
    {
     "name": "stderr",
     "output_type": "stream",
     "text": [
      "c:\\users\\chris\\appdata\\local\\programs\\python\\python39\\lib\\site-packages\\sklearn\\neural_network\\_multilayer_perceptron.py:471: ConvergenceWarning: lbfgs failed to converge (status=1):\n",
      "STOP: TOTAL NO. of ITERATIONS REACHED LIMIT.\n",
      "\n",
      "Increase the number of iterations (max_iter) or scale the data as shown in:\n",
      "    https://scikit-learn.org/stable/modules/preprocessing.html\n",
      "  self.n_iter_ = _check_optimize_result(\"lbfgs\", opt_res, self.max_iter)\n"
     ]
    }
   ],
   "source": [
    "bus_model, bus_train_score, bus_mse, bus_mae, bus_r2 = get_best_model(sel_methods[4], args, num_folds, is_sample)"
   ]
  },
  {
   "cell_type": "code",
   "execution_count": 26,
   "metadata": {},
   "outputs": [],
   "source": [
    "#futher hyperparameter tuning\n",
    "is_sample = True\n",
    "num_folds = 5\n",
    "args = {'clf__activation':(['logistic']),\n",
    "        'clf__alpha':(0.005,0.01,0.02),\n",
    "        'clf__batch_size':(arange(50, 150, 50)),\n",
    "        'clf__hidden_layer_sizes':((50,),(100,),(150,)),\n",
    "        'clf__learning_rate':(['constant']),\n",
    "        'clf__max_iter':(arange(150,250,50)),\n",
    "        'clf__momentum':(arange(0.1,0.5,0.1)),\n",
    "        'clf__power_t':(0.0005,0.001,0.002),\n",
    "        'clf__random_state':([7]),\n",
    "        'clf__solver':(['lbfgs']),\n",
    "        'clf__tol':(0.0001,0.0002,0.0003)\n",
    "       }"
   ]
  },
  {
   "cell_type": "code",
   "execution_count": 27,
   "metadata": {},
   "outputs": [
    {
     "name": "stdout",
     "output_type": "stream",
     "text": [
      "\n",
      "\n",
      "Running cross fold validation for Multi-Layer \n",
      "Perceptron with _all_business dataset\n",
      "Fitting 5 folds for each of 1296 candidates, totalling 6480 fits\n"
     ]
    },
    {
     "name": "stderr",
     "output_type": "stream",
     "text": [
      "[Parallel(n_jobs=6)]: Using backend LokyBackend with 6 concurrent workers.\n",
      "[Parallel(n_jobs=6)]: Done  38 tasks      | elapsed:   36.1s\n",
      "[Parallel(n_jobs=6)]: Done 188 tasks      | elapsed:  2.8min\n",
      "[Parallel(n_jobs=6)]: Done 438 tasks      | elapsed:  8.7min\n",
      "[Parallel(n_jobs=6)]: Done 788 tasks      | elapsed: 21.2min\n",
      "[Parallel(n_jobs=6)]: Done 1238 tasks      | elapsed: 38.0min\n",
      "[Parallel(n_jobs=6)]: Done 1788 tasks      | elapsed: 52.2min\n",
      "[Parallel(n_jobs=6)]: Done 2438 tasks      | elapsed: 73.3min\n",
      "[Parallel(n_jobs=6)]: Done 3188 tasks      | elapsed: 97.0min\n",
      "[Parallel(n_jobs=6)]: Done 4038 tasks      | elapsed: 121.7min\n",
      "[Parallel(n_jobs=6)]: Done 4988 tasks      | elapsed: 152.7min\n",
      "[Parallel(n_jobs=6)]: Done 6038 tasks      | elapsed: 186.6min\n",
      "[Parallel(n_jobs=6)]: Done 6480 out of 6480 | elapsed: 206.9min finished\n"
     ]
    },
    {
     "name": "stdout",
     "output_type": "stream",
     "text": [
      "\n",
      "Best score for Multi-Layer \n",
      "Perceptron with _all_business dataset: 0.5244281560174778\n",
      "\n",
      "Best hyperparameters for Multi-Layer \n",
      "Perceptron with _all_business dataset:\n",
      "memory : None\n",
      "steps : [('clf', MLPRegressor(activation='logistic', alpha=0.005, batch_size=50,\n",
      "             hidden_layer_sizes=(50,), max_iter=150, momentum=0.1,\n",
      "             power_t=0.0005, random_state=7, solver='lbfgs'))]\n",
      "verbose : False\n",
      "clf : MLPRegressor(activation='logistic', alpha=0.005, batch_size=50,\n",
      "             hidden_layer_sizes=(50,), max_iter=150, momentum=0.1,\n",
      "             power_t=0.0005, random_state=7, solver='lbfgs')\n",
      "clf__activation : logistic\n",
      "clf__alpha : 0.005\n",
      "clf__batch_size : 50\n",
      "clf__beta_1 : 0.9\n",
      "clf__beta_2 : 0.999\n",
      "clf__early_stopping : False\n",
      "clf__epsilon : 1e-08\n",
      "clf__hidden_layer_sizes : (50,)\n",
      "clf__learning_rate : constant\n",
      "clf__learning_rate_init : 0.001\n",
      "clf__max_fun : 15000\n",
      "clf__max_iter : 150\n",
      "clf__momentum : 0.1\n",
      "clf__n_iter_no_change : 10\n",
      "clf__nesterovs_momentum : True\n",
      "clf__power_t : 0.0005\n",
      "clf__random_state : 7\n",
      "clf__shuffle : True\n",
      "clf__solver : lbfgs\n",
      "clf__tol : 0.0001\n",
      "clf__validation_fraction : 0.1\n",
      "clf__verbose : False\n",
      "clf__warm_start : False\n",
      "\n",
      "Prediction scores for Multi-Layer \n",
      "Perceptron using _all_business :\n",
      "Mean Squared error: 8.809711046082187\n",
      "Mean Absolute error: 1.7516190971410057\n",
      "R^2: 0.5480402065372941\n"
     ]
    },
    {
     "name": "stderr",
     "output_type": "stream",
     "text": [
      "c:\\users\\chris\\appdata\\local\\programs\\python\\python39\\lib\\site-packages\\sklearn\\neural_network\\_multilayer_perceptron.py:471: ConvergenceWarning: lbfgs failed to converge (status=1):\n",
      "STOP: TOTAL NO. of ITERATIONS REACHED LIMIT.\n",
      "\n",
      "Increase the number of iterations (max_iter) or scale the data as shown in:\n",
      "    https://scikit-learn.org/stable/modules/preprocessing.html\n",
      "  self.n_iter_ = _check_optimize_result(\"lbfgs\", opt_res, self.max_iter)\n"
     ]
    }
   ],
   "source": [
    "bus_model, bus_train_score, bus_mse, bus_mae, bus_r2 = get_best_model(sel_methods[4], args, num_folds, is_sample)"
   ]
  },
  {
   "cell_type": "markdown",
   "metadata": {},
   "source": [
    "<h3> Retrain on revised dataset <h3>"
   ]
  },
  {
   "cell_type": "code",
   "execution_count": 13,
   "metadata": {},
   "outputs": [],
   "source": [
    "is_sample = True\n",
    "num_folds = 5\n",
    "args = {'clf__activation':(['logistic']),\n",
    "        'clf__alpha':(0.001,0.007,0.001),\n",
    "        'clf__batch_size':(arange(20, 70, 10)),\n",
    "        'clf__hidden_layer_sizes':((30,),(50,),(70,)),\n",
    "        'clf__learning_rate':(['constant']),\n",
    "        'clf__max_iter':(arange(50,200,50)),\n",
    "        'clf__momentum':(arange(0.05,0.12,0.01)),\n",
    "        'clf__power_t':(0.0001,0.0007,0.0001),\n",
    "        'clf__random_state':([7]),\n",
    "        'clf__solver':(['lbfgs']),\n",
    "        'clf__tol':(0.0001,0.0002,0.0003)\n",
    "       }"
   ]
  },
  {
   "cell_type": "code",
   "execution_count": 14,
   "metadata": {},
   "outputs": [
    {
     "name": "stdout",
     "output_type": "stream",
     "text": [
      "\n",
      "\n",
      "Running cross fold validation for Multi-Layer \n",
      "Perceptron with _all_business dataset\n",
      "Fitting 5 folds for each of 8505 candidates, totalling 42525 fits\n"
     ]
    },
    {
     "name": "stderr",
     "output_type": "stream",
     "text": [
      "[Parallel(n_jobs=6)]: Using backend LokyBackend with 6 concurrent workers.\n",
      "[Parallel(n_jobs=6)]: Done  38 tasks      | elapsed:    5.6s\n",
      "[Parallel(n_jobs=6)]: Done 188 tasks      | elapsed:   26.1s\n",
      "[Parallel(n_jobs=6)]: Done 438 tasks      | elapsed:  1.3min\n",
      "[Parallel(n_jobs=6)]: Done 788 tasks      | elapsed:  3.1min\n",
      "[Parallel(n_jobs=6)]: Done 1238 tasks      | elapsed:  5.4min\n",
      "[Parallel(n_jobs=6)]: Done 1788 tasks      | elapsed: 10.2min\n",
      "[Parallel(n_jobs=6)]: Done 2438 tasks      | elapsed: 15.8min\n",
      "[Parallel(n_jobs=6)]: Done 3188 tasks      | elapsed: 22.5min\n",
      "[Parallel(n_jobs=6)]: Done 4038 tasks      | elapsed: 26.8min\n",
      "[Parallel(n_jobs=6)]: Done 4988 tasks      | elapsed: 34.5min\n",
      "[Parallel(n_jobs=6)]: Done 6038 tasks      | elapsed: 44.1min\n",
      "[Parallel(n_jobs=6)]: Done 7188 tasks      | elapsed: 50.6min\n",
      "[Parallel(n_jobs=6)]: Done 8438 tasks      | elapsed: 63.7min\n",
      "[Parallel(n_jobs=6)]: Done 9788 tasks      | elapsed: 70.3min\n",
      "[Parallel(n_jobs=6)]: Done 11238 tasks      | elapsed: 84.7min\n",
      "[Parallel(n_jobs=6)]: Done 12788 tasks      | elapsed: 93.1min\n",
      "[Parallel(n_jobs=6)]: Done 14438 tasks      | elapsed: 108.4min\n",
      "[Parallel(n_jobs=6)]: Done 16188 tasks      | elapsed: 119.9min\n",
      "[Parallel(n_jobs=6)]: Done 18038 tasks      | elapsed: 134.1min\n",
      "[Parallel(n_jobs=6)]: Done 19988 tasks      | elapsed: 151.6min\n",
      "[Parallel(n_jobs=6)]: Done 22038 tasks      | elapsed: 164.4min\n",
      "[Parallel(n_jobs=6)]: Done 24188 tasks      | elapsed: 180.4min\n",
      "[Parallel(n_jobs=6)]: Done 26438 tasks      | elapsed: 198.8min\n",
      "[Parallel(n_jobs=6)]: Done 28788 tasks      | elapsed: 217.8min\n",
      "[Parallel(n_jobs=6)]: Done 31238 tasks      | elapsed: 238.1min\n",
      "[Parallel(n_jobs=6)]: Done 33788 tasks      | elapsed: 255.9min\n",
      "[Parallel(n_jobs=6)]: Done 36438 tasks      | elapsed: 274.8min\n",
      "[Parallel(n_jobs=6)]: Done 39188 tasks      | elapsed: 295.2min\n",
      "[Parallel(n_jobs=6)]: Done 42038 tasks      | elapsed: 316.7min\n",
      "[Parallel(n_jobs=6)]: Done 42525 out of 42525 | elapsed: 323.4min finished\n"
     ]
    },
    {
     "name": "stdout",
     "output_type": "stream",
     "text": [
      "\n",
      "Best score for Multi-Layer \n",
      "Perceptron with _all_business dataset: 0.5379133351354367\n",
      "\n",
      "Best hyperparameters for Multi-Layer \n",
      "Perceptron with _all_business dataset:\n",
      "memory : None\n",
      "steps : [('clf', MLPRegressor(activation='logistic', alpha=0.001, batch_size=20,\n",
      "             hidden_layer_sizes=(30,), max_iter=150, momentum=0.05,\n",
      "             power_t=0.0001, random_state=7, solver='lbfgs'))]\n",
      "verbose : False\n",
      "clf : MLPRegressor(activation='logistic', alpha=0.001, batch_size=20,\n",
      "             hidden_layer_sizes=(30,), max_iter=150, momentum=0.05,\n",
      "             power_t=0.0001, random_state=7, solver='lbfgs')\n",
      "clf__activation : logistic\n",
      "clf__alpha : 0.001\n",
      "clf__batch_size : 20\n",
      "clf__beta_1 : 0.9\n",
      "clf__beta_2 : 0.999\n",
      "clf__early_stopping : False\n",
      "clf__epsilon : 1e-08\n",
      "clf__hidden_layer_sizes : (30,)\n",
      "clf__learning_rate : constant\n",
      "clf__learning_rate_init : 0.001\n",
      "clf__max_fun : 15000\n",
      "clf__max_iter : 150\n",
      "clf__momentum : 0.05\n",
      "clf__n_iter_no_change : 10\n",
      "clf__nesterovs_momentum : True\n",
      "clf__power_t : 0.0001\n",
      "clf__random_state : 7\n",
      "clf__shuffle : True\n",
      "clf__solver : lbfgs\n",
      "clf__tol : 0.0001\n",
      "clf__validation_fraction : 0.1\n",
      "clf__verbose : False\n",
      "clf__warm_start : False\n",
      "\n",
      "Prediction scores for Multi-Layer \n",
      "Perceptron using _all_business :\n",
      "Mean Squared error: 8.653550077099093\n",
      "Mean Absolute error: 1.7386067555127491\n",
      "R^2: 0.5560516474255766\n"
     ]
    },
    {
     "name": "stderr",
     "output_type": "stream",
     "text": [
      "c:\\users\\chris\\appdata\\local\\programs\\python\\python39\\lib\\site-packages\\sklearn\\neural_network\\_multilayer_perceptron.py:471: ConvergenceWarning: lbfgs failed to converge (status=1):\n",
      "STOP: TOTAL NO. of ITERATIONS REACHED LIMIT.\n",
      "\n",
      "Increase the number of iterations (max_iter) or scale the data as shown in:\n",
      "    https://scikit-learn.org/stable/modules/preprocessing.html\n",
      "  self.n_iter_ = _check_optimize_result(\"lbfgs\", opt_res, self.max_iter)\n"
     ]
    }
   ],
   "source": [
    "bus_model, bus_train_score, bus_mse, bus_mae, bus_r2 = get_best_model_revised(sel_methods[4], args, num_folds, is_sample)"
   ]
  },
  {
   "cell_type": "code",
   "execution_count": 34,
   "metadata": {},
   "outputs": [],
   "source": [
    "#futher hyperparameter tuning\n",
    "is_sample = False\n",
    "num_folds = 10\n",
    "args = {'clf__activation':(['logistic']),\n",
    "        'clf__alpha':(0.001,0.004,0.001),\n",
    "        'clf__batch_size':(arange(10, 30, 10)),\n",
    "        'clf__hidden_layer_sizes':((20,),(30,),(40,)),\n",
    "        'clf__learning_rate':(['constant']),\n",
    "        'clf__max_iter':(arange(125,175,25)),\n",
    "        'clf__momentum':(arange(0.01,0.06,0.01)),\n",
    "        'clf__power_t':(arange(0.0001,0.0004,0.0001)),\n",
    "        'clf__random_state':([7]),\n",
    "        'clf__solver':(['lbfgs']),\n",
    "        'clf__tol':(0.0001,0.0002,0.0003)\n",
    "       }"
   ]
  },
  {
   "cell_type": "code",
   "execution_count": 35,
   "metadata": {},
   "outputs": [
    {
     "name": "stdout",
     "output_type": "stream",
     "text": [
      "\n",
      "\n",
      "Running cross fold validation for Multi-Layer \n",
      "Perceptron with _all_business dataset\n",
      "Fitting 10 folds for each of 1620 candidates, totalling 16200 fits\n"
     ]
    },
    {
     "name": "stderr",
     "output_type": "stream",
     "text": [
      "[Parallel(n_jobs=6)]: Using backend LokyBackend with 6 concurrent workers.\n",
      "[Parallel(n_jobs=6)]: Done  38 tasks      | elapsed:   43.6s\n",
      "[Parallel(n_jobs=6)]: Done 188 tasks      | elapsed:  3.3min\n",
      "[Parallel(n_jobs=6)]: Done 438 tasks      | elapsed:  7.7min\n",
      "[Parallel(n_jobs=6)]: Done 788 tasks      | elapsed: 14.8min\n",
      "[Parallel(n_jobs=6)]: Done 1238 tasks      | elapsed: 26.1min\n",
      "[Parallel(n_jobs=6)]: Done 1788 tasks      | elapsed: 42.8min\n",
      "[Parallel(n_jobs=6)]: Done 2438 tasks      | elapsed: 66.0min\n",
      "[Parallel(n_jobs=6)]: Done 3188 tasks      | elapsed: 85.0min\n",
      "[Parallel(n_jobs=6)]: Done 4038 tasks      | elapsed: 105.1min\n",
      "[Parallel(n_jobs=6)]: Done 4988 tasks      | elapsed: 136.2min\n",
      "[Parallel(n_jobs=6)]: Done 6038 tasks      | elapsed: 164.2min\n",
      "[Parallel(n_jobs=6)]: Done 7188 tasks      | elapsed: 195.0min\n",
      "[Parallel(n_jobs=6)]: Done 8438 tasks      | elapsed: 234.0min\n",
      "[Parallel(n_jobs=6)]: Done 9788 tasks      | elapsed: 267.5min\n",
      "[Parallel(n_jobs=6)]: Done 11238 tasks      | elapsed: 312.0min\n",
      "[Parallel(n_jobs=6)]: Done 12788 tasks      | elapsed: 355.2min\n",
      "[Parallel(n_jobs=6)]: Done 14438 tasks      | elapsed: 401.0min\n",
      "[Parallel(n_jobs=6)]: Done 16188 tasks      | elapsed: 461.3min\n",
      "[Parallel(n_jobs=6)]: Done 16200 out of 16200 | elapsed: 461.7min finished\n"
     ]
    },
    {
     "name": "stdout",
     "output_type": "stream",
     "text": [
      "\n",
      "Best score for Multi-Layer \n",
      "Perceptron with _all_business dataset: 0.5517490777968008\n",
      "\n",
      "Best hyperparameters for Multi-Layer \n",
      "Perceptron with _all_business dataset:\n",
      "memory : None\n",
      "steps : [('clf', MLPRegressor(activation='logistic', alpha=0.004, batch_size=10,\n",
      "             hidden_layer_sizes=(40,), max_iter=150, momentum=0.01,\n",
      "             power_t=0.0001, random_state=7, solver='lbfgs'))]\n",
      "verbose : False\n",
      "clf : MLPRegressor(activation='logistic', alpha=0.004, batch_size=10,\n",
      "             hidden_layer_sizes=(40,), max_iter=150, momentum=0.01,\n",
      "             power_t=0.0001, random_state=7, solver='lbfgs')\n",
      "clf__activation : logistic\n",
      "clf__alpha : 0.004\n",
      "clf__batch_size : 10\n",
      "clf__beta_1 : 0.9\n",
      "clf__beta_2 : 0.999\n",
      "clf__early_stopping : False\n",
      "clf__epsilon : 1e-08\n",
      "clf__hidden_layer_sizes : (40,)\n",
      "clf__learning_rate : constant\n",
      "clf__learning_rate_init : 0.001\n",
      "clf__max_fun : 15000\n",
      "clf__max_iter : 150\n",
      "clf__momentum : 0.01\n",
      "clf__n_iter_no_change : 10\n",
      "clf__nesterovs_momentum : True\n",
      "clf__power_t : 0.0001\n",
      "clf__random_state : 7\n",
      "clf__shuffle : True\n",
      "clf__solver : lbfgs\n",
      "clf__tol : 0.0001\n",
      "clf__validation_fraction : 0.1\n",
      "clf__verbose : False\n",
      "clf__warm_start : False\n",
      "\n",
      "Prediction scores for Multi-Layer \n",
      "Perceptron using _all_business :\n",
      "Mean Squared error: 8.35665190225529\n",
      "Mean Absolute error: 1.7202105580370373\n",
      "R^2: 0.5712832523079561\n"
     ]
    },
    {
     "name": "stderr",
     "output_type": "stream",
     "text": [
      "c:\\users\\chris\\appdata\\local\\programs\\python\\python39\\lib\\site-packages\\sklearn\\neural_network\\_multilayer_perceptron.py:471: ConvergenceWarning: lbfgs failed to converge (status=1):\n",
      "STOP: TOTAL NO. of ITERATIONS REACHED LIMIT.\n",
      "\n",
      "Increase the number of iterations (max_iter) or scale the data as shown in:\n",
      "    https://scikit-learn.org/stable/modules/preprocessing.html\n",
      "  self.n_iter_ = _check_optimize_result(\"lbfgs\", opt_res, self.max_iter)\n"
     ]
    }
   ],
   "source": [
    "bus_model, bus_train_score, bus_mse, bus_mae, bus_r2 = get_best_model_revised(sel_methods[4], args, num_folds, is_sample)"
   ]
  },
  {
   "cell_type": "code",
   "execution_count": 49,
   "metadata": {},
   "outputs": [],
   "source": [
    "#futher hyperparameter tuning\n",
    "is_sample = False\n",
    "num_folds = 10\n",
    "args = {'clf__activation':(['logistic']),\n",
    "        'clf__alpha':(0.001,0.006,0.001),\n",
    "        'clf__batch_size':(arange(5, 20, 5)),\n",
    "        'clf__hidden_layer_sizes':((20,),(30,),(40,),(50,),(60,)),\n",
    "        'clf__learning_rate':(['constant']),\n",
    "        'clf__max_iter':(arange(125,175,25)),\n",
    "        'clf__momentum':(arange(0.01,0.03,0.01)),\n",
    "        'clf__power_t':(arange(0.0001,0.0003,0.0001)),\n",
    "        'clf__random_state':([7]),\n",
    "        'clf__solver':(['lbfgs']),\n",
    "        'clf__tol':([0.0001])\n",
    "       }"
   ]
  },
  {
   "cell_type": "code",
   "execution_count": 50,
   "metadata": {
    "scrolled": false
   },
   "outputs": [
    {
     "name": "stdout",
     "output_type": "stream",
     "text": [
      "\n",
      "\n",
      "Running cross fold validation for Multi-Layer \n",
      "Perceptron with _all_business dataset\n",
      "Fitting 10 folds for each of 360 candidates, totalling 3600 fits\n"
     ]
    },
    {
     "name": "stderr",
     "output_type": "stream",
     "text": [
      "[Parallel(n_jobs=6)]: Using backend LokyBackend with 6 concurrent workers.\n",
      "[Parallel(n_jobs=6)]: Done  38 tasks      | elapsed:   45.8s\n",
      "[Parallel(n_jobs=6)]: Done 188 tasks      | elapsed:  5.1min\n",
      "[Parallel(n_jobs=6)]: Done 438 tasks      | elapsed: 16.9min\n",
      "[Parallel(n_jobs=6)]: Done 788 tasks      | elapsed: 31.5min\n",
      "[Parallel(n_jobs=6)]: Done 1238 tasks      | elapsed: 49.9min\n",
      "[Parallel(n_jobs=6)]: Done 1788 tasks      | elapsed: 70.5min\n",
      "[Parallel(n_jobs=6)]: Done 2438 tasks      | elapsed: 99.2min\n",
      "[Parallel(n_jobs=6)]: Done 3188 tasks      | elapsed: 130.9min\n",
      "[Parallel(n_jobs=6)]: Done 3600 out of 3600 | elapsed: 147.6min finished\n"
     ]
    },
    {
     "name": "stdout",
     "output_type": "stream",
     "text": [
      "\n",
      "Best score for Multi-Layer \n",
      "Perceptron with _all_business dataset: 0.5509371192221354\n",
      "\n",
      "Best hyperparameters for Multi-Layer \n",
      "Perceptron with _all_business dataset:\n",
      "memory : None\n",
      "steps : [('clf', MLPRegressor(activation='logistic', alpha=0.001, batch_size=5,\n",
      "             hidden_layer_sizes=(40,), max_iter=150, momentum=0.01,\n",
      "             power_t=0.0001, random_state=7, solver='lbfgs'))]\n",
      "verbose : False\n",
      "clf : MLPRegressor(activation='logistic', alpha=0.001, batch_size=5,\n",
      "             hidden_layer_sizes=(40,), max_iter=150, momentum=0.01,\n",
      "             power_t=0.0001, random_state=7, solver='lbfgs')\n",
      "clf__activation : logistic\n",
      "clf__alpha : 0.001\n",
      "clf__batch_size : 5\n",
      "clf__beta_1 : 0.9\n",
      "clf__beta_2 : 0.999\n",
      "clf__early_stopping : False\n",
      "clf__epsilon : 1e-08\n",
      "clf__hidden_layer_sizes : (40,)\n",
      "clf__learning_rate : constant\n",
      "clf__learning_rate_init : 0.001\n",
      "clf__max_fun : 15000\n",
      "clf__max_iter : 150\n",
      "clf__momentum : 0.01\n",
      "clf__n_iter_no_change : 10\n",
      "clf__nesterovs_momentum : True\n",
      "clf__power_t : 0.0001\n",
      "clf__random_state : 7\n",
      "clf__shuffle : True\n",
      "clf__solver : lbfgs\n",
      "clf__tol : 0.0001\n",
      "clf__validation_fraction : 0.1\n",
      "clf__verbose : False\n",
      "clf__warm_start : False\n",
      "\n",
      "Prediction scores for Multi-Layer \n",
      "Perceptron using _all_business :\n",
      "Mean Squared error: 8.567842806269907\n",
      "Mean Absolute error: 1.716764007643806\n",
      "R^2: 0.5604486407230398\n"
     ]
    },
    {
     "name": "stderr",
     "output_type": "stream",
     "text": [
      "c:\\users\\chris\\appdata\\local\\programs\\python\\python39\\lib\\site-packages\\sklearn\\neural_network\\_multilayer_perceptron.py:471: ConvergenceWarning: lbfgs failed to converge (status=1):\n",
      "STOP: TOTAL NO. of ITERATIONS REACHED LIMIT.\n",
      "\n",
      "Increase the number of iterations (max_iter) or scale the data as shown in:\n",
      "    https://scikit-learn.org/stable/modules/preprocessing.html\n",
      "  self.n_iter_ = _check_optimize_result(\"lbfgs\", opt_res, self.max_iter)\n"
     ]
    }
   ],
   "source": [
    "bus_model, bus_train_score, bus_mse, bus_mae, bus_r2 = get_best_model_revised(sel_methods[4], args, num_folds, is_sample)"
   ]
  },
  {
   "cell_type": "code",
   "execution_count": 21,
   "metadata": {},
   "outputs": [],
   "source": [
    "#futher hyperparameter tuning\n",
    "is_sample = False\n",
    "num_folds = 10\n",
    "args = {'clf__activation':(['logistic']),\n",
    "        'clf__alpha':([0.001]),\n",
    "        'clf__batch_size':([5]),\n",
    "        'clf__hidden_layer_sizes':([40]),\n",
    "        'clf__learning_rate':(['constant']),\n",
    "        'clf__max_iter':([150]),\n",
    "        'clf__momentum':([0.01]),\n",
    "        'clf__power_t':([0.0001]),\n",
    "        'clf__random_state':([7]),\n",
    "        'clf__solver':(['lbfgs']),\n",
    "        'clf__tol':([0.0001])\n",
    "       }"
   ]
  },
  {
   "cell_type": "code",
   "execution_count": 22,
   "metadata": {},
   "outputs": [
    {
     "name": "stdout",
     "output_type": "stream",
     "text": [
      "\n",
      "\n",
      "Running cross fold validation for Multi-Layer \n",
      "Perceptron with _all_business dataset\n",
      "Fitting 10 folds for each of 1 candidates, totalling 10 fits\n"
     ]
    },
    {
     "name": "stderr",
     "output_type": "stream",
     "text": [
      "[Parallel(n_jobs=6)]: Using backend LokyBackend with 6 concurrent workers.\n",
      "[Parallel(n_jobs=6)]: Done  10 out of  10 | elapsed:   26.1s remaining:    0.0s\n",
      "[Parallel(n_jobs=6)]: Done  10 out of  10 | elapsed:   26.1s finished\n"
     ]
    },
    {
     "name": "stdout",
     "output_type": "stream",
     "text": [
      "\n",
      "Best score for Multi-Layer \n",
      "Perceptron with _all_business dataset: 0.5509371192221354\n",
      "\n",
      "Best hyperparameters for Multi-Layer \n",
      "Perceptron with _all_business dataset:\n",
      "memory : None\n",
      "steps : [('clf', MLPRegressor(activation='logistic', alpha=0.001, batch_size=5,\n",
      "             hidden_layer_sizes=40, max_iter=150, momentum=0.01, power_t=0.0001,\n",
      "             random_state=7, solver='lbfgs'))]\n",
      "verbose : False\n",
      "clf : MLPRegressor(activation='logistic', alpha=0.001, batch_size=5,\n",
      "             hidden_layer_sizes=40, max_iter=150, momentum=0.01, power_t=0.0001,\n",
      "             random_state=7, solver='lbfgs')\n",
      "clf__activation : logistic\n",
      "clf__alpha : 0.001\n",
      "clf__batch_size : 5\n",
      "clf__beta_1 : 0.9\n",
      "clf__beta_2 : 0.999\n",
      "clf__early_stopping : False\n",
      "clf__epsilon : 1e-08\n",
      "clf__hidden_layer_sizes : 40\n",
      "clf__learning_rate : constant\n",
      "clf__learning_rate_init : 0.001\n",
      "clf__max_fun : 15000\n",
      "clf__max_iter : 150\n",
      "clf__momentum : 0.01\n",
      "clf__n_iter_no_change : 10\n",
      "clf__nesterovs_momentum : True\n",
      "clf__power_t : 0.0001\n",
      "clf__random_state : 7\n",
      "clf__shuffle : True\n",
      "clf__solver : lbfgs\n",
      "clf__tol : 0.0001\n",
      "clf__validation_fraction : 0.1\n",
      "clf__verbose : False\n",
      "clf__warm_start : False\n",
      "\n",
      "Prediction scores for Multi-Layer \n",
      "Perceptron using _all_business :\n",
      "Mean Squared error: 8.567842806269907\n",
      "Mean Absolute error: 1.716764007643806\n",
      "R^2: 0.5604486407230398\n"
     ]
    },
    {
     "name": "stderr",
     "output_type": "stream",
     "text": [
      "c:\\users\\chris\\appdata\\local\\programs\\python\\python39\\lib\\site-packages\\sklearn\\neural_network\\_multilayer_perceptron.py:471: ConvergenceWarning: lbfgs failed to converge (status=1):\n",
      "STOP: TOTAL NO. of ITERATIONS REACHED LIMIT.\n",
      "\n",
      "Increase the number of iterations (max_iter) or scale the data as shown in:\n",
      "    https://scikit-learn.org/stable/modules/preprocessing.html\n",
      "  self.n_iter_ = _check_optimize_result(\"lbfgs\", opt_res, self.max_iter)\n"
     ]
    }
   ],
   "source": [
    "bus_model, bus_train_score, bus_mse, bus_mae, bus_r2 = get_best_model_revised(sel_methods[4], args, num_folds, is_sample)"
   ]
  },
  {
   "cell_type": "code",
   "execution_count": 27,
   "metadata": {},
   "outputs": [],
   "source": [
    "# score beginning to drop, model saved to prevent overfitting\n",
    "save_model(bus_model,sel_methods[4])"
   ]
  },
  {
   "cell_type": "markdown",
   "metadata": {},
   "source": [
    "<h3>Visualise scores<h3>"
   ]
  },
  {
   "cell_type": "code",
   "execution_count": 34,
   "metadata": {},
   "outputs": [],
   "source": [
    "training_scores = [f_reg_train_score, chi2_train_score, ada_train_score, equal_train_score, bus_train_score]\n",
    "mse_scores = [f_reg_mse, chi2_mse, ada_mse, equal_mse, bus_mse]\n",
    "mae_scores = [f_reg_mae, chi2_mae, ada_mae, equal_mae, bus_mae]\n",
    "r2_scores = [f_reg_r2, chi2_r2, ada_r2, equal_r2, bus_r2]\n",
    "datasets = [\"F-Regression\",\"Chi-Squared\",\"AdaBoost\",\"Equal Business\\nand Crime\",\"All Business\"]\n",
    "y_select = np.arange(len(datasets))"
   ]
  },
  {
   "cell_type": "code",
   "execution_count": 36,
   "metadata": {
    "scrolled": false
   },
   "outputs": [
    {
     "data": {
      "text/plain": [
       "<BarContainer object of 5 artists>"
      ]
     },
     "execution_count": 36,
     "metadata": {},
     "output_type": "execute_result"
    },
    {
     "data": {
      "image/png": "[encoded data removed]",
      "text/plain": [
       "<Figure size 720x720 with 1 Axes>"
      ]
     },
     "metadata": {
      "needs_background": "light"
     },
     "output_type": "display_data"
    }
   ],
   "source": [
    "plt.figure(figsize = (10,10))\n",
    "plt.xticks(y_select,datasets)\n",
    "plt.title(display_name + \" training score\")\n",
    "plt.xlabel(\"Dataset\")\n",
    "plt.ylabel(\"Training score (r-squared)\")\n",
    "plt.bar(y_select, training_scores)"
   ]
  },
  {
   "cell_type": "code",
   "execution_count": 37,
   "metadata": {},
   "outputs": [
    {
     "data": {
      "text/plain": [
       "<BarContainer object of 5 artists>"
      ]
     },
     "execution_count": 37,
     "metadata": {},
     "output_type": "execute_result"
    },
    {
     "data": {
      "image/png": "[encoded data removed]",
      "text/plain": [
       "<Figure size 720x720 with 1 Axes>"
      ]
     },
     "metadata": {
      "needs_background": "light"
     },
     "output_type": "display_data"
    }
   ],
   "source": [
    "plt.figure(figsize = (10,10))\n",
    "plt.xticks(y_select,datasets)\n",
    "plt.title(display_name + \" testing mean-squared error\")\n",
    "plt.xlabel(\"Dataset\")\n",
    "plt.ylabel(\"Mean-squared error\")\n",
    "plt.bar(y_select, mse_scores)"
   ]
  },
  {
   "cell_type": "code",
   "execution_count": 38,
   "metadata": {},
   "outputs": [
    {
     "data": {
      "text/plain": [
       "<BarContainer object of 5 artists>"
      ]
     },
     "execution_count": 38,
     "metadata": {},
     "output_type": "execute_result"
    },
    {
     "data": {
      "image/png": "[encoded data removed]",
      "text/plain": [
       "<Figure size 720x720 with 1 Axes>"
      ]
     },
     "metadata": {
      "needs_background": "light"
     },
     "output_type": "display_data"
    }
   ],
   "source": [
    "plt.figure(figsize = (10,10))\n",
    "plt.xticks(y_select,datasets)\n",
    "plt.title(display_name + \" testing mean-absolute error\")\n",
    "plt.xlabel(\"Dataset\")\n",
    "plt.ylabel(\"Mean absolute error\")\n",
    "plt.bar(y_select, mae_scores)"
   ]
  },
  {
   "cell_type": "code",
   "execution_count": 39,
   "metadata": {},
   "outputs": [
    {
     "data": {
      "text/plain": [
       "<BarContainer object of 5 artists>"
      ]
     },
     "execution_count": 39,
     "metadata": {},
     "output_type": "execute_result"
    },
    {
     "data": {
      "image/png": "[encoded data removed]",
      "text/plain": [
       "<Figure size 720x720 with 1 Axes>"
      ]
     },
     "metadata": {
      "needs_background": "light"
     },
     "output_type": "display_data"
    }
   ],
   "source": [
    "plt.figure(figsize = (10,10))\n",
    "plt.xticks(y_select,datasets)\n",
    "plt.title(display_name + \" testing r-squared scores\")\n",
    "plt.xlabel(\"Dataset\")\n",
    "plt.ylabel(\"R-Squared Score\")\n",
    "plt.bar(y_select, r2_scores)"
   ]
  },
  {
   "cell_type": "code",
   "execution_count": null,
   "metadata": {},
   "outputs": [],
   "source": []
  }
 ],
 "metadata": {
  "kernelspec": {
   "display_name": "Python 3",
   "language": "python",
   "name": "python3"
  },
  "language_info": {
   "codemirror_mode": {
    "name": "ipython",
    "version": 3
   },
   "file_extension": ".py",
   "mimetype": "text/x-python",
   "name": "python",
   "nbconvert_exporter": "python",
   "pygments_lexer": "ipython3",
   "version": "3.9.0"
  }
 },
 "nbformat": 4,
 "nbformat_minor": 4
}
