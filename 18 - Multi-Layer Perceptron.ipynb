{
 "cells": [
  {
   "cell_type": "code",
   "execution_count": 1,
   "metadata": {},
   "outputs": [],
   "source": [
    "import numpy as np\n",
    "from numpy import arange\n",
    "import pandas as pd\n",
    "import matplotlib.pyplot as plt\n",
    "%matplotlib inline\n",
    "import sklearn\n",
    "from sklearn.metrics import mean_squared_error, r2_score, mean_absolute_error\n",
    "from sklearn.pipeline import Pipeline\n",
    "from sklearn.model_selection import GridSearchCV\n",
    "import pickle"
   ]
  },
  {
   "cell_type": "code",
   "execution_count": 2,
   "metadata": {},
   "outputs": [],
   "source": [
    "from sklearn.neural_network import MLPRegressor"
   ]
  },
  {
   "cell_type": "code",
   "execution_count": 3,
   "metadata": {},
   "outputs": [],
   "source": [
    "model_name = \"multi_layer_perceptron\"\n",
    "display_name = \"Multi-Layer \\nPerceptron\""
   ]
  },
  {
   "cell_type": "code",
   "execution_count": 4,
   "metadata": {},
   "outputs": [],
   "source": [
    "y_test = pd.read_csv('y_test.csv')\n",
    "file = open(\"Selection Methods\",\"rb\")\n",
    "sel_methods = np.load(file)"
   ]
  },
  {
   "cell_type": "code",
   "execution_count": 5,
   "metadata": {},
   "outputs": [],
   "source": [
    "def get_best_model(method, args, _cv, is_sample):\n",
    "    sample_string = ''\n",
    "    if (is_sample):\n",
    "        sample_string = '_sample'\n",
    "    y_train = pd.read_csv('y_train'+ sample_string + '.csv')    \n",
    "    method_string = method\n",
    "    if (method == ''):\n",
    "        method_string = \"no feature selection\"\n",
    "    print('\\n\\nRunning cross fold validation for',display_name,'with',method_string,'dataset')\n",
    "    x_train = pd.read_csv('x_train' + method + sample_string + '.csv').values\n",
    "    x_test = pd.read_csv('x_test' + method + '.csv').values\n",
    "    pipe = Pipeline([('clf', MLPRegressor())])\n",
    "    grid = GridSearchCV(pipe, args, cv = _cv, verbose = 1, scoring = 'r2', n_jobs=6)\n",
    "    grid.fit(x_train, y_train.values.ravel())\n",
    "    print('\\nBest score for',display_name,'with',method_string,\"dataset:\",grid.best_score_)\n",
    "    best_args = grid.best_estimator_.get_params()\n",
    "    print('\\nBest hyperparameters for',display_name,'with',method_string,'dataset:')\n",
    "    for arg in best_args:\n",
    "        print(arg,\":\",best_args[arg])\n",
    "    y_test_predict = grid.predict(x_test)\n",
    "    mse = mean_squared_error(y_test,y_test_predict)\n",
    "    mae = mean_absolute_error(y_test,y_test_predict)\n",
    "    r2 = r2_score(y_test,y_test_predict)\n",
    "    print('\\nPrediction scores for',display_name,'using',method_string,':')\n",
    "    print('Mean Squared error:',mse)\n",
    "    print('Mean Absolute error:',mae)\n",
    "    print('R^2:',r2)\n",
    "    return grid.best_estimator_,grid.best_score_,mse,mae,r2"
   ]
  },
  {
   "cell_type": "code",
   "execution_count": 6,
   "metadata": {},
   "outputs": [],
   "source": [
    "def save_model(model,method):\n",
    "    with open('CrimeGUI/Models/'+model_name+method,'wb') as file:\n",
    "        pickle.dump(model,file)"
   ]
  },
  {
   "cell_type": "code",
   "execution_count": 7,
   "metadata": {},
   "outputs": [
    {
     "name": "stdout",
     "output_type": "stream",
     "text": [
      "['_f_regression' '_chi2' '_adaboost' '_equal_crime_and_business'\n",
      " '_all_business']\n"
     ]
    }
   ],
   "source": [
    "print(sel_methods)"
   ]
  },
  {
   "cell_type": "markdown",
   "metadata": {},
   "source": [
    "<h3>F-Regression feature selected dataset<h3>"
   ]
  },
  {
   "cell_type": "code",
   "execution_count": 28,
   "metadata": {},
   "outputs": [],
   "source": [
    "is_sample = True\n",
    "num_folds = 5\n",
    "args = {'clf__activation':('identity','logistic','tanh','relu'),\n",
    "        'clf__alpha':(0.000001,0.00001,0.0001,0.001,0.01,0.1),\n",
    "        'clf__batch_size':(arange(100, 300, 100)),\n",
    "        'clf__hidden_layer_sizes':((100,),(200,),(300,)),\n",
    "        'clf__learning_rate':('constant', 'invscaling', 'adaptive'),\n",
    "        'clf__max_iter':(arange(100,300,100)),\n",
    "        'clf__momentum':(arange(0.7,0.9,0.1)),\n",
    "        'clf__power_t':(0.001,0.01,0.1),\n",
    "        'clf__random_state':([7]),\n",
    "        'clf__solver':('lbfgs','logistic','adam'),\n",
    "        'clf__tol':(0.0001,0.001,0.01)\n",
    "       }"
   ]
  },
  {
   "cell_type": "code",
   "execution_count": 29,
   "metadata": {
    "scrolled": false
   },
   "outputs": [
    {
     "name": "stdout",
     "output_type": "stream",
     "text": [
      "\n",
      "\n",
      "Running cross fold validation for Multi-Layer \n",
      "Perceptron with _f_regression dataset\n",
      "Fitting 5 folds for each of 69984 candidates, totalling 349920 fits\n"
     ]
    },
    {
     "name": "stderr",
     "output_type": "stream",
     "text": [
      "[Parallel(n_jobs=6)]: Using backend LokyBackend with 6 concurrent workers.\n",
      "[Parallel(n_jobs=6)]: Done  38 tasks      | elapsed:    4.3s\n",
      "[Parallel(n_jobs=6)]: Done 212 tasks      | elapsed:   17.8s\n",
      "[Parallel(n_jobs=6)]: Done 519 tasks      | elapsed:   43.3s\n",
      "[Parallel(n_jobs=6)]: Done 967 tasks      | elapsed:  1.3min\n",
      "[Parallel(n_jobs=6)]: Done 1556 tasks      | elapsed:  2.1min\n",
      "[Parallel(n_jobs=6)]: Done 2270 tasks      | elapsed:  3.1min\n",
      "[Parallel(n_jobs=6)]: Done 3021 tasks      | elapsed:  4.4min\n",
      "[Parallel(n_jobs=6)]: Done 3836 tasks      | elapsed:  5.9min\n",
      "[Parallel(n_jobs=6)]: Done 4758 tasks      | elapsed:  7.6min\n",
      "[Parallel(n_jobs=6)]: Done 5708 tasks      | elapsed: 10.4min\n",
      "[Parallel(n_jobs=6)]: Done 6758 tasks      | elapsed: 13.7min\n",
      "[Parallel(n_jobs=6)]: Done 8023 tasks      | elapsed: 16.2min\n",
      "[Parallel(n_jobs=6)]: Done 9572 tasks      | elapsed: 18.1min\n",
      "[Parallel(n_jobs=6)]: Done 11133 tasks      | elapsed: 21.1min\n",
      "[Parallel(n_jobs=6)]: Done 12696 tasks      | elapsed: 24.9min\n",
      "[Parallel(n_jobs=6)]: Done 14306 tasks      | elapsed: 29.8min\n",
      "[Parallel(n_jobs=6)]: Done 16334 tasks      | elapsed: 33.0min\n",
      "[Parallel(n_jobs=6)]: Done 18390 tasks      | elapsed: 36.3min\n",
      "[Parallel(n_jobs=6)]: Done 20348 tasks      | elapsed: 40.9min\n",
      "[Parallel(n_jobs=6)]: Done 22442 tasks      | elapsed: 46.1min\n",
      "[Parallel(n_jobs=6)]: Done 24864 tasks      | elapsed: 49.6min\n",
      "[Parallel(n_jobs=6)]: Done 27254 tasks      | elapsed: 54.7min\n",
      "[Parallel(n_jobs=6)]: Done 29699 tasks      | elapsed: 61.2min\n",
      "[Parallel(n_jobs=6)]: Done 32490 tasks      | elapsed: 65.3min\n",
      "[Parallel(n_jobs=6)]: Done 35144 tasks      | elapsed: 71.3min\n",
      "[Parallel(n_jobs=6)]: Done 38102 tasks      | elapsed: 77.2min\n",
      "[Parallel(n_jobs=6)]: Done 41118 tasks      | elapsed: 82.5min\n",
      "[Parallel(n_jobs=6)]: Done 43988 tasks      | elapsed: 90.5min\n",
      "[Parallel(n_jobs=6)]: Done 47264 tasks      | elapsed: 95.4min\n",
      "[Parallel(n_jobs=6)]: Done 50430 tasks      | elapsed: 103.2min\n",
      "[Parallel(n_jobs=6)]: Done 53925 tasks      | elapsed: 108.9min\n",
      "[Parallel(n_jobs=6)]: Done 57296 tasks      | elapsed: 117.5min\n",
      "[Parallel(n_jobs=6)]: Done 61008 tasks      | elapsed: 124.9min\n",
      "[Parallel(n_jobs=6)]: Done 64478 tasks      | elapsed: 133.4min\n",
      "[Parallel(n_jobs=6)]: Done 68462 tasks      | elapsed: 141.2min\n",
      "[Parallel(n_jobs=6)]: Done 72216 tasks      | elapsed: 151.0min\n",
      "[Parallel(n_jobs=6)]: Done 76394 tasks      | elapsed: 158.9min\n",
      "[Parallel(n_jobs=6)]: Done 80443 tasks      | elapsed: 169.6min\n",
      "[Parallel(n_jobs=6)]: Done 84918 tasks      | elapsed: 176.9min\n",
      "[Parallel(n_jobs=6)]: Done 88922 tasks      | elapsed: 194.5min\n",
      "[Parallel(n_jobs=6)]: Done 92972 tasks      | elapsed: 239.8min\n",
      "[Parallel(n_jobs=6)]: Done 97122 tasks      | elapsed: 286.1min\n",
      "[Parallel(n_jobs=6)]: Done 101372 tasks      | elapsed: 344.3min\n",
      "[Parallel(n_jobs=6)]: Done 105722 tasks      | elapsed: 385.4min\n",
      "[Parallel(n_jobs=6)]: Done 110172 tasks      | elapsed: 444.5min\n",
      "[Parallel(n_jobs=6)]: Done 114722 tasks      | elapsed: 489.4min\n",
      "[Parallel(n_jobs=6)]: Done 119372 tasks      | elapsed: 542.5min\n",
      "[Parallel(n_jobs=6)]: Done 124122 tasks      | elapsed: 607.3min\n",
      "[Parallel(n_jobs=6)]: Done 128972 tasks      | elapsed: 652.0min\n",
      "[Parallel(n_jobs=6)]: Done 133922 tasks      | elapsed: 709.2min\n",
      "[Parallel(n_jobs=6)]: Done 138972 tasks      | elapsed: 777.3min\n",
      "[Parallel(n_jobs=6)]: Done 144122 tasks      | elapsed: 830.9min\n",
      "[Parallel(n_jobs=6)]: Done 149372 tasks      | elapsed: 891.2min\n",
      "[Parallel(n_jobs=6)]: Done 154722 tasks      | elapsed: 966.2min\n",
      "[Parallel(n_jobs=6)]: Done 160172 tasks      | elapsed: 1040.7min\n",
      "[Parallel(n_jobs=6)]: Done 165722 tasks      | elapsed: 1106.0min\n",
      "[Parallel(n_jobs=6)]: Done 171372 tasks      | elapsed: 1180.0min\n",
      "[Parallel(n_jobs=6)]: Done 177122 tasks      | elapsed: 1261.1min\n",
      "[Parallel(n_jobs=6)]: Done 182972 tasks      | elapsed: 1342.1min\n",
      "[Parallel(n_jobs=6)]: Done 188922 tasks      | elapsed: 1423.1min\n",
      "[Parallel(n_jobs=6)]: Done 194972 tasks      | elapsed: 1498.3min\n",
      "[Parallel(n_jobs=6)]: Done 201122 tasks      | elapsed: 1574.4min\n",
      "[Parallel(n_jobs=6)]: Done 207372 tasks      | elapsed: 1659.7min\n",
      "[Parallel(n_jobs=6)]: Done 213722 tasks      | elapsed: 1737.9min\n",
      "[Parallel(n_jobs=6)]: Done 220172 tasks      | elapsed: 1823.8min\n",
      "[Parallel(n_jobs=6)]: Done 226722 tasks      | elapsed: 1909.2min\n",
      "[Parallel(n_jobs=6)]: Done 233372 tasks      | elapsed: 1999.7min\n",
      "[Parallel(n_jobs=6)]: Done 240122 tasks      | elapsed: 2078.7min\n",
      "[Parallel(n_jobs=6)]: Done 246972 tasks      | elapsed: 2163.7min\n",
      "[Parallel(n_jobs=6)]: Done 253922 tasks      | elapsed: 2248.3min\n",
      "[Parallel(n_jobs=6)]: Done 260972 tasks      | elapsed: 2339.3min\n",
      "[Parallel(n_jobs=6)]: Done 268122 tasks      | elapsed: 2436.3min\n",
      "[Parallel(n_jobs=6)]: Done 275372 tasks      | elapsed: 2528.9min\n",
      "[Parallel(n_jobs=6)]: Done 282722 tasks      | elapsed: 2626.7min\n",
      "[Parallel(n_jobs=6)]: Done 290172 tasks      | elapsed: 2722.6min\n",
      "[Parallel(n_jobs=6)]: Done 297722 tasks      | elapsed: 2821.4min\n",
      "[Parallel(n_jobs=6)]: Done 305372 tasks      | elapsed: 2926.4min\n",
      "[Parallel(n_jobs=6)]: Done 313122 tasks      | elapsed: 3032.7min\n",
      "[Parallel(n_jobs=6)]: Done 320972 tasks      | elapsed: 3137.1min\n",
      "[Parallel(n_jobs=6)]: Done 328922 tasks      | elapsed: 3229.6min\n",
      "[Parallel(n_jobs=6)]: Done 336972 tasks      | elapsed: 3324.9min\n",
      "[Parallel(n_jobs=6)]: Done 345122 tasks      | elapsed: 3412.0min\n",
      "[Parallel(n_jobs=6)]: Done 349920 out of 349920 | elapsed: 3478.2min finished\n"
     ]
    },
    {
     "name": "stdout",
     "output_type": "stream",
     "text": [
      "\n",
      "Best score for Multi-Layer \n",
      "Perceptron with _f_regression dataset: 0.7533626543777094\n",
      "\n",
      "Best hyperparameters for Multi-Layer \n",
      "Perceptron with _f_regression dataset:\n",
      "memory : None\n",
      "steps : [('clf', MLPRegressor(activation='logistic', alpha=0.1, batch_size=100,\n",
      "             hidden_layer_sizes=(200,), max_iter=100, momentum=0.7,\n",
      "             power_t=0.001, random_state=7, solver='lbfgs', tol=0.01))]\n",
      "verbose : False\n",
      "clf : MLPRegressor(activation='logistic', alpha=0.1, batch_size=100,\n",
      "             hidden_layer_sizes=(200,), max_iter=100, momentum=0.7,\n",
      "             power_t=0.001, random_state=7, solver='lbfgs', tol=0.01)\n",
      "clf__activation : logistic\n",
      "clf__alpha : 0.1\n",
      "clf__batch_size : 100\n",
      "clf__beta_1 : 0.9\n",
      "clf__beta_2 : 0.999\n",
      "clf__early_stopping : False\n",
      "clf__epsilon : 1e-08\n",
      "clf__hidden_layer_sizes : (200,)\n",
      "clf__learning_rate : constant\n",
      "clf__learning_rate_init : 0.001\n",
      "clf__max_fun : 15000\n",
      "clf__max_iter : 100\n",
      "clf__momentum : 0.7\n",
      "clf__n_iter_no_change : 10\n",
      "clf__nesterovs_momentum : True\n",
      "clf__power_t : 0.001\n",
      "clf__random_state : 7\n",
      "clf__shuffle : True\n",
      "clf__solver : lbfgs\n",
      "clf__tol : 0.01\n",
      "clf__validation_fraction : 0.1\n",
      "clf__verbose : False\n",
      "clf__warm_start : False\n",
      "\n",
      "Prediction scores for Multi-Layer \n",
      "Perceptron using _f_regression :\n",
      "Mean Squared error: 4.835528992568463\n",
      "Mean Absolute error: 1.3943543932974019\n",
      "R^2: 0.7519254975183235\n"
     ]
    }
   ],
   "source": [
    "f_reg_model, f_reg_train_score, f_reg_mse, f_reg_mae, f_reg_r2 = get_best_model(sel_methods[0], args, num_folds, is_sample)"
   ]
  },
  {
   "cell_type": "code",
   "execution_count": null,
   "metadata": {},
   "outputs": [],
   "source": []
  },
  {
   "cell_type": "code",
   "execution_count": null,
   "metadata": {},
   "outputs": [],
   "source": []
  },
  {
   "cell_type": "code",
   "execution_count": null,
   "metadata": {},
   "outputs": [],
   "source": []
  },
  {
   "cell_type": "code",
   "execution_count": null,
   "metadata": {},
   "outputs": [],
   "source": []
  },
  {
   "cell_type": "code",
   "execution_count": null,
   "metadata": {},
   "outputs": [],
   "source": []
  },
  {
   "cell_type": "code",
   "execution_count": null,
   "metadata": {},
   "outputs": [],
   "source": []
  },
  {
   "cell_type": "code",
   "execution_count": null,
   "metadata": {},
   "outputs": [],
   "source": []
  },
  {
   "cell_type": "code",
   "execution_count": null,
   "metadata": {},
   "outputs": [],
   "source": [
    "save_model(f_reg_model,sel_methods[0])"
   ]
  },
  {
   "cell_type": "markdown",
   "metadata": {},
   "source": [
    "<h3>Chi-Squared feature selected dataset<h3>"
   ]
  },
  {
   "cell_type": "code",
   "execution_count": 8,
   "metadata": {},
   "outputs": [],
   "source": [
    "# folds reduced to 3 for initial exploration due to excessive processing time\n",
    "is_sample = True\n",
    "num_folds = 3\n",
    "args = {'clf__activation':('identity','logistic','tanh','relu'),\n",
    "        'clf__alpha':(0.000001,0.00001,0.0001,0.001,0.01,0.1),\n",
    "        'clf__batch_size':(arange(100, 300, 100)),\n",
    "        'clf__hidden_layer_sizes':((100,),(200,),(300,)),\n",
    "        'clf__learning_rate':('constant', 'invscaling', 'adaptive'),\n",
    "        'clf__max_iter':(arange(100,300,100)),\n",
    "        'clf__momentum':(arange(0.7,0.9,0.1)),\n",
    "        'clf__power_t':(0.001,0.01,0.1),\n",
    "        'clf__random_state':([7]),\n",
    "        'clf__solver':('lbfgs','logistic','adam'),\n",
    "        'clf__tol':(0.0001,0.001,0.01)\n",
    "       }"
   ]
  },
  {
   "cell_type": "code",
   "execution_count": 9,
   "metadata": {
    "scrolled": false
   },
   "outputs": [
    {
     "name": "stdout",
     "output_type": "stream",
     "text": [
      "\n",
      "\n",
      "Running cross fold validation for Multi-Layer \n",
      "Perceptron with _chi2 dataset\n",
      "Fitting 3 folds for each of 69984 candidates, totalling 209952 fits\n"
     ]
    },
    {
     "name": "stderr",
     "output_type": "stream",
     "text": [
      "[Parallel(n_jobs=6)]: Using backend LokyBackend with 6 concurrent workers.\n",
      "[Parallel(n_jobs=6)]: Done  38 tasks      | elapsed:    5.1s\n",
      "[Parallel(n_jobs=6)]: Done 188 tasks      | elapsed:   21.5s\n",
      "[Parallel(n_jobs=6)]: Done 438 tasks      | elapsed:   48.4s\n",
      "[Parallel(n_jobs=6)]: Done 788 tasks      | elapsed:  1.4min\n",
      "[Parallel(n_jobs=6)]: Done 1238 tasks      | elapsed:  2.2min\n",
      "[Parallel(n_jobs=6)]: Done 1788 tasks      | elapsed:  3.5min\n",
      "[Parallel(n_jobs=6)]: Done 2438 tasks      | elapsed:  5.1min\n",
      "[Parallel(n_jobs=6)]: Done 3188 tasks      | elapsed:  7.0min\n",
      "[Parallel(n_jobs=6)]: Done 4038 tasks      | elapsed:  9.4min\n",
      "[Parallel(n_jobs=6)]: Done 4988 tasks      | elapsed: 11.3min\n",
      "[Parallel(n_jobs=6)]: Done 6038 tasks      | elapsed: 13.0min\n",
      "[Parallel(n_jobs=6)]: Done 7188 tasks      | elapsed: 15.8min\n",
      "[Parallel(n_jobs=6)]: Done 8438 tasks      | elapsed: 19.9min\n",
      "[Parallel(n_jobs=6)]: Done 9788 tasks      | elapsed: 22.5min\n",
      "[Parallel(n_jobs=6)]: Done 11238 tasks      | elapsed: 25.8min\n",
      "[Parallel(n_jobs=6)]: Done 12788 tasks      | elapsed: 30.9min\n",
      "[Parallel(n_jobs=6)]: Done 14438 tasks      | elapsed: 34.4min\n",
      "[Parallel(n_jobs=6)]: Done 16188 tasks      | elapsed: 39.7min\n",
      "[Parallel(n_jobs=6)]: Done 18038 tasks      | elapsed: 46.2min\n",
      "[Parallel(n_jobs=6)]: Done 19988 tasks      | elapsed: 50.8min\n",
      "[Parallel(n_jobs=6)]: Done 22038 tasks      | elapsed: 57.8min\n",
      "[Parallel(n_jobs=6)]: Done 24188 tasks      | elapsed: 62.7min\n",
      "[Parallel(n_jobs=6)]: Done 26438 tasks      | elapsed: 69.6min\n",
      "[Parallel(n_jobs=6)]: Done 28788 tasks      | elapsed: 74.0min\n",
      "[Parallel(n_jobs=6)]: Done 31238 tasks      | elapsed: 80.8min\n",
      "[Parallel(n_jobs=6)]: Done 33788 tasks      | elapsed: 87.2min\n",
      "[Parallel(n_jobs=6)]: Done 36438 tasks      | elapsed: 94.1min\n",
      "[Parallel(n_jobs=6)]: Done 39188 tasks      | elapsed: 102.4min\n",
      "[Parallel(n_jobs=6)]: Done 42038 tasks      | elapsed: 109.1min\n",
      "[Parallel(n_jobs=6)]: Done 44988 tasks      | elapsed: 117.7min\n",
      "[Parallel(n_jobs=6)]: Done 48038 tasks      | elapsed: 127.8min\n",
      "[Parallel(n_jobs=6)]: Done 51188 tasks      | elapsed: 135.6min\n",
      "[Parallel(n_jobs=6)]: Done 54438 tasks      | elapsed: 158.0min\n",
      "[Parallel(n_jobs=6)]: Done 57788 tasks      | elapsed: 202.0min\n",
      "[Parallel(n_jobs=6)]: Done 61238 tasks      | elapsed: 251.7min\n",
      "[Parallel(n_jobs=6)]: Done 64788 tasks      | elapsed: 289.8min\n",
      "[Parallel(n_jobs=6)]: Done 68438 tasks      | elapsed: 333.1min\n",
      "[Parallel(n_jobs=6)]: Done 72188 tasks      | elapsed: 384.5min\n",
      "[Parallel(n_jobs=6)]: Done 76038 tasks      | elapsed: 432.2min\n",
      "[Parallel(n_jobs=6)]: Done 79988 tasks      | elapsed: 484.2min\n",
      "[Parallel(n_jobs=6)]: Done 84038 tasks      | elapsed: 530.7min\n",
      "[Parallel(n_jobs=6)]: Done 88188 tasks      | elapsed: 581.1min\n",
      "[Parallel(n_jobs=6)]: Done 92438 tasks      | elapsed: 633.0min\n",
      "[Parallel(n_jobs=6)]: Done 96788 tasks      | elapsed: 685.1min\n",
      "[Parallel(n_jobs=6)]: Done 101238 tasks      | elapsed: 739.3min\n",
      "[Parallel(n_jobs=6)]: Done 105788 tasks      | elapsed: 793.5min\n",
      "[Parallel(n_jobs=6)]: Done 110438 tasks      | elapsed: 840.0min\n",
      "[Parallel(n_jobs=6)]: Done 115188 tasks      | elapsed: 889.6min\n",
      "[Parallel(n_jobs=6)]: Done 120038 tasks      | elapsed: 939.7min\n",
      "[Parallel(n_jobs=6)]: Done 124988 tasks      | elapsed: 992.5min\n",
      "[Parallel(n_jobs=6)]: Done 130038 tasks      | elapsed: 1046.0min\n",
      "[Parallel(n_jobs=6)]: Done 135188 tasks      | elapsed: 1103.5min\n",
      "[Parallel(n_jobs=6)]: Done 140438 tasks      | elapsed: 1158.9min\n",
      "[Parallel(n_jobs=6)]: Done 145788 tasks      | elapsed: 1209.2min\n",
      "[Parallel(n_jobs=6)]: Done 151238 tasks      | elapsed: 1268.2min\n",
      "[Parallel(n_jobs=6)]: Done 156788 tasks      | elapsed: 1340.8min\n",
      "[Parallel(n_jobs=6)]: Done 162438 tasks      | elapsed: 1410.7min\n",
      "[Parallel(n_jobs=6)]: Done 168188 tasks      | elapsed: 1477.0min\n",
      "[Parallel(n_jobs=6)]: Done 174038 tasks      | elapsed: 1549.9min\n",
      "[Parallel(n_jobs=6)]: Done 179988 tasks      | elapsed: 1624.3min\n",
      "[Parallel(n_jobs=6)]: Done 186038 tasks      | elapsed: 1696.3min\n",
      "[Parallel(n_jobs=6)]: Done 192188 tasks      | elapsed: 1775.7min\n",
      "[Parallel(n_jobs=6)]: Done 198438 tasks      | elapsed: 1847.7min\n",
      "[Parallel(n_jobs=6)]: Done 204788 tasks      | elapsed: 1927.0min\n",
      "[Parallel(n_jobs=6)]: Done 209952 out of 209952 | elapsed: 1990.7min finished\n"
     ]
    },
    {
     "name": "stdout",
     "output_type": "stream",
     "text": [
      "\n",
      "Best score for Multi-Layer \n",
      "Perceptron with _chi2 dataset: 0.7466949779592725\n",
      "\n",
      "Best hyperparameters for Multi-Layer \n",
      "Perceptron with _chi2 dataset:\n",
      "memory : None\n",
      "steps : [('clf', MLPRegressor(alpha=1e-05, batch_size=100, hidden_layer_sizes=(200,),\n",
      "             momentum=0.7, power_t=0.001, random_state=7))]\n",
      "verbose : False\n",
      "clf : MLPRegressor(alpha=1e-05, batch_size=100, hidden_layer_sizes=(200,),\n",
      "             momentum=0.7, power_t=0.001, random_state=7)\n",
      "clf__activation : relu\n",
      "clf__alpha : 1e-05\n",
      "clf__batch_size : 100\n",
      "clf__beta_1 : 0.9\n",
      "clf__beta_2 : 0.999\n",
      "clf__early_stopping : False\n",
      "clf__epsilon : 1e-08\n",
      "clf__hidden_layer_sizes : (200,)\n",
      "clf__learning_rate : constant\n",
      "clf__learning_rate_init : 0.001\n",
      "clf__max_fun : 15000\n",
      "clf__max_iter : 200\n",
      "clf__momentum : 0.7\n",
      "clf__n_iter_no_change : 10\n",
      "clf__nesterovs_momentum : True\n",
      "clf__power_t : 0.001\n",
      "clf__random_state : 7\n",
      "clf__shuffle : True\n",
      "clf__solver : adam\n",
      "clf__tol : 0.0001\n",
      "clf__validation_fraction : 0.1\n",
      "clf__verbose : False\n",
      "clf__warm_start : False\n",
      "\n",
      "Prediction scores for Multi-Layer \n",
      "Perceptron using _chi2 :\n",
      "Mean Squared error: 5.149742709602428\n",
      "Mean Absolute error: 1.4427634437777215\n",
      "R^2: 0.7358055628336353\n"
     ]
    }
   ],
   "source": [
    "chi2_model, chi2_train_score, chi2_mse, chi2_mae, chi2_r2 = get_best_model(sel_methods[1], args, num_folds, is_sample)"
   ]
  },
  {
   "cell_type": "code",
   "execution_count": null,
   "metadata": {},
   "outputs": [],
   "source": []
  },
  {
   "cell_type": "code",
   "execution_count": null,
   "metadata": {},
   "outputs": [],
   "source": []
  },
  {
   "cell_type": "code",
   "execution_count": null,
   "metadata": {},
   "outputs": [],
   "source": []
  },
  {
   "cell_type": "code",
   "execution_count": null,
   "metadata": {},
   "outputs": [],
   "source": []
  },
  {
   "cell_type": "code",
   "execution_count": null,
   "metadata": {},
   "outputs": [],
   "source": []
  },
  {
   "cell_type": "code",
   "execution_count": null,
   "metadata": {},
   "outputs": [],
   "source": []
  },
  {
   "cell_type": "code",
   "execution_count": null,
   "metadata": {},
   "outputs": [],
   "source": [
    "save_model(chi2_model,sel_methods[1])"
   ]
  },
  {
   "cell_type": "markdown",
   "metadata": {},
   "source": [
    "<h3>AdaBoost feature selected dataset<h3>"
   ]
  },
  {
   "cell_type": "code",
   "execution_count": 8,
   "metadata": {},
   "outputs": [],
   "source": [
    "is_sample = True\n",
    "num_folds = 3\n",
    "args = {'clf__activation':('identity','logistic','tanh','relu'),\n",
    "        'clf__alpha':(0.000001,0.00001,0.0001,0.001,0.01,0.1),\n",
    "        'clf__batch_size':(arange(100, 300, 100)),\n",
    "        'clf__hidden_layer_sizes':((100,),(200,),(300,)),\n",
    "        'clf__learning_rate':('constant', 'invscaling', 'adaptive'),\n",
    "        'clf__max_iter':(arange(100,300,100)),\n",
    "        'clf__momentum':(arange(0.7,0.9,0.1)),\n",
    "        'clf__power_t':(0.001,0.01,0.1),\n",
    "        'clf__random_state':([7]),\n",
    "        'clf__solver':('lbfgs','logistic','adam'),\n",
    "        'clf__tol':(0.0001,0.001,0.01)\n",
    "       }"
   ]
  },
  {
   "cell_type": "code",
   "execution_count": 9,
   "metadata": {
    "scrolled": false
   },
   "outputs": [
    {
     "name": "stdout",
     "output_type": "stream",
     "text": [
      "\n",
      "\n",
      "Running cross fold validation for Multi-Layer \n",
      "Perceptron with _adaboost dataset\n",
      "Fitting 3 folds for each of 69984 candidates, totalling 209952 fits\n"
     ]
    },
    {
     "name": "stderr",
     "output_type": "stream",
     "text": [
      "[Parallel(n_jobs=6)]: Using backend LokyBackend with 6 concurrent workers.\n",
      "[Parallel(n_jobs=6)]: Done  38 tasks      | elapsed:    5.9s\n",
      "[Parallel(n_jobs=6)]: Done 188 tasks      | elapsed:   24.7s\n",
      "[Parallel(n_jobs=6)]: Done 438 tasks      | elapsed:   53.7s\n",
      "[Parallel(n_jobs=6)]: Done 788 tasks      | elapsed:  1.5min\n",
      "[Parallel(n_jobs=6)]: Done 1238 tasks      | elapsed:  2.4min\n",
      "[Parallel(n_jobs=6)]: Done 1788 tasks      | elapsed:  3.7min\n",
      "[Parallel(n_jobs=6)]: Done 2438 tasks      | elapsed:  5.5min\n",
      "[Parallel(n_jobs=6)]: Done 3188 tasks      | elapsed:  7.9min\n",
      "[Parallel(n_jobs=6)]: Done 4038 tasks      | elapsed: 11.3min\n",
      "[Parallel(n_jobs=6)]: Done 4988 tasks      | elapsed: 13.5min\n",
      "[Parallel(n_jobs=6)]: Done 6038 tasks      | elapsed: 15.4min\n",
      "[Parallel(n_jobs=6)]: Done 7188 tasks      | elapsed: 18.6min\n",
      "[Parallel(n_jobs=6)]: Done 8438 tasks      | elapsed: 23.9min\n",
      "[Parallel(n_jobs=6)]: Done 9788 tasks      | elapsed: 27.2min\n",
      "[Parallel(n_jobs=6)]: Done 11238 tasks      | elapsed: 30.9min\n",
      "[Parallel(n_jobs=6)]: Done 12788 tasks      | elapsed: 36.8min\n",
      "[Parallel(n_jobs=6)]: Done 14438 tasks      | elapsed: 40.5min\n",
      "[Parallel(n_jobs=6)]: Done 16188 tasks      | elapsed: 45.7min\n",
      "[Parallel(n_jobs=6)]: Done 18038 tasks      | elapsed: 51.9min\n",
      "[Parallel(n_jobs=6)]: Done 19988 tasks      | elapsed: 55.9min\n",
      "[Parallel(n_jobs=6)]: Done 22038 tasks      | elapsed: 62.2min\n",
      "[Parallel(n_jobs=6)]: Done 24188 tasks      | elapsed: 66.2min\n",
      "[Parallel(n_jobs=6)]: Done 26438 tasks      | elapsed: 73.5min\n",
      "[Parallel(n_jobs=6)]: Done 28788 tasks      | elapsed: 78.0min\n",
      "[Parallel(n_jobs=6)]: Done 31238 tasks      | elapsed: 84.4min\n",
      "[Parallel(n_jobs=6)]: Done 33788 tasks      | elapsed: 90.5min\n",
      "[Parallel(n_jobs=6)]: Done 36438 tasks      | elapsed: 97.8min\n",
      "[Parallel(n_jobs=6)]: Done 39188 tasks      | elapsed: 105.9min\n",
      "[Parallel(n_jobs=6)]: Done 42038 tasks      | elapsed: 112.0min\n",
      "[Parallel(n_jobs=6)]: Done 44988 tasks      | elapsed: 120.5min\n",
      "[Parallel(n_jobs=6)]: Done 48038 tasks      | elapsed: 129.8min\n",
      "[Parallel(n_jobs=6)]: Done 51188 tasks      | elapsed: 136.9min\n",
      "[Parallel(n_jobs=6)]: Done 54438 tasks      | elapsed: 157.6min\n",
      "[Parallel(n_jobs=6)]: Done 57788 tasks      | elapsed: 196.9min\n",
      "[Parallel(n_jobs=6)]: Done 61238 tasks      | elapsed: 245.6min\n",
      "[Parallel(n_jobs=6)]: Done 64788 tasks      | elapsed: 285.0min\n",
      "[Parallel(n_jobs=6)]: Done 68438 tasks      | elapsed: 328.2min\n",
      "[Parallel(n_jobs=6)]: Done 72188 tasks      | elapsed: 379.0min\n",
      "[Parallel(n_jobs=6)]: Done 76038 tasks      | elapsed: 426.2min\n",
      "[Parallel(n_jobs=6)]: Done 79988 tasks      | elapsed: 476.4min\n",
      "[Parallel(n_jobs=6)]: Done 84038 tasks      | elapsed: 521.6min\n",
      "[Parallel(n_jobs=6)]: Done 88188 tasks      | elapsed: 569.3min\n",
      "[Parallel(n_jobs=6)]: Done 92438 tasks      | elapsed: 615.8min\n",
      "[Parallel(n_jobs=6)]: Done 96788 tasks      | elapsed: 666.0min\n",
      "[Parallel(n_jobs=6)]: Done 101238 tasks      | elapsed: 718.7min\n",
      "[Parallel(n_jobs=6)]: Done 105788 tasks      | elapsed: 769.4min\n",
      "[Parallel(n_jobs=6)]: Done 110438 tasks      | elapsed: 820.7min\n",
      "[Parallel(n_jobs=6)]: Done 115188 tasks      | elapsed: 876.2min\n",
      "[Parallel(n_jobs=6)]: Done 120038 tasks      | elapsed: 931.4min\n",
      "[Parallel(n_jobs=6)]: Done 124988 tasks      | elapsed: 992.0min\n",
      "[Parallel(n_jobs=6)]: Done 130038 tasks      | elapsed: 1052.6min\n",
      "[Parallel(n_jobs=6)]: Done 135188 tasks      | elapsed: 1118.2min\n",
      "[Parallel(n_jobs=6)]: Done 140438 tasks      | elapsed: 1182.1min\n",
      "[Parallel(n_jobs=6)]: Done 145788 tasks      | elapsed: 1238.9min\n",
      "[Parallel(n_jobs=6)]: Done 151238 tasks      | elapsed: 1304.8min\n",
      "[Parallel(n_jobs=6)]: Done 156788 tasks      | elapsed: 1376.6min\n",
      "[Parallel(n_jobs=6)]: Done 162438 tasks      | elapsed: 1447.2min\n",
      "[Parallel(n_jobs=6)]: Done 168188 tasks      | elapsed: 1515.2min\n",
      "[Parallel(n_jobs=6)]: Done 174038 tasks      | elapsed: 1592.9min\n",
      "[Parallel(n_jobs=6)]: Done 179988 tasks      | elapsed: 1667.6min\n",
      "[Parallel(n_jobs=6)]: Done 186038 tasks      | elapsed: 1739.2min\n",
      "[Parallel(n_jobs=6)]: Done 192188 tasks      | elapsed: 1822.6min\n",
      "[Parallel(n_jobs=6)]: Done 198438 tasks      | elapsed: 1897.1min\n",
      "[Parallel(n_jobs=6)]: Done 204788 tasks      | elapsed: 1980.6min\n",
      "[Parallel(n_jobs=6)]: Done 209952 out of 209952 | elapsed: 2048.2min finished\n"
     ]
    },
    {
     "name": "stdout",
     "output_type": "stream",
     "text": [
      "\n",
      "Best score for Multi-Layer \n",
      "Perceptron with _adaboost dataset: 0.7531055438512761\n",
      "\n",
      "Best hyperparameters for Multi-Layer \n",
      "Perceptron with _adaboost dataset:\n",
      "memory : None\n",
      "steps : [('clf', MLPRegressor(alpha=0.1, batch_size=100, momentum=0.7, power_t=0.001,\n",
      "             random_state=7))]\n",
      "verbose : False\n",
      "clf : MLPRegressor(alpha=0.1, batch_size=100, momentum=0.7, power_t=0.001,\n",
      "             random_state=7)\n",
      "clf__activation : relu\n",
      "clf__alpha : 0.1\n",
      "clf__batch_size : 100\n",
      "clf__beta_1 : 0.9\n",
      "clf__beta_2 : 0.999\n",
      "clf__early_stopping : False\n",
      "clf__epsilon : 1e-08\n",
      "clf__hidden_layer_sizes : (100,)\n",
      "clf__learning_rate : constant\n",
      "clf__learning_rate_init : 0.001\n",
      "clf__max_fun : 15000\n",
      "clf__max_iter : 200\n",
      "clf__momentum : 0.7\n",
      "clf__n_iter_no_change : 10\n",
      "clf__nesterovs_momentum : True\n",
      "clf__power_t : 0.001\n",
      "clf__random_state : 7\n",
      "clf__shuffle : True\n",
      "clf__solver : adam\n",
      "clf__tol : 0.0001\n",
      "clf__validation_fraction : 0.1\n",
      "clf__verbose : False\n",
      "clf__warm_start : False\n",
      "\n",
      "Prediction scores for Multi-Layer \n",
      "Perceptron using _adaboost :\n",
      "Mean Squared error: 4.922399606608189\n",
      "Mean Absolute error: 1.4124864677443123\n",
      "R^2: 0.7474688218596102\n"
     ]
    }
   ],
   "source": [
    "ada_model, ada_train_score, ada_mse, ada_mae, ada_r2 = get_best_model(sel_methods[2], args, num_folds, is_sample)"
   ]
  },
  {
   "cell_type": "code",
   "execution_count": null,
   "metadata": {},
   "outputs": [],
   "source": []
  },
  {
   "cell_type": "code",
   "execution_count": null,
   "metadata": {},
   "outputs": [],
   "source": []
  },
  {
   "cell_type": "code",
   "execution_count": null,
   "metadata": {},
   "outputs": [],
   "source": []
  },
  {
   "cell_type": "code",
   "execution_count": null,
   "metadata": {},
   "outputs": [],
   "source": []
  },
  {
   "cell_type": "code",
   "execution_count": null,
   "metadata": {},
   "outputs": [],
   "source": []
  },
  {
   "cell_type": "code",
   "execution_count": null,
   "metadata": {},
   "outputs": [],
   "source": []
  },
  {
   "cell_type": "code",
   "execution_count": null,
   "metadata": {},
   "outputs": [],
   "source": [
    "save_model(ada_model,sel_methods[2])"
   ]
  },
  {
   "cell_type": "markdown",
   "metadata": {},
   "source": [
    "<h3>Equal business and crime feature selected dataset<h3>"
   ]
  },
  {
   "cell_type": "code",
   "execution_count": 10,
   "metadata": {},
   "outputs": [],
   "source": [
    "is_sample = True\n",
    "num_folds = 3\n",
    "args = {'clf__activation':('identity','logistic','tanh','relu'),\n",
    "        'clf__alpha':(0.000001,0.00001,0.0001,0.001,0.01,0.1),\n",
    "        'clf__batch_size':(arange(100, 300, 100)),\n",
    "        'clf__hidden_layer_sizes':((100,),(200,),(300,)),\n",
    "        'clf__learning_rate':('constant', 'invscaling', 'adaptive'),\n",
    "        'clf__max_iter':(arange(100,300,100)),\n",
    "        'clf__momentum':(arange(0.7,0.9,0.1)),\n",
    "        'clf__power_t':(0.001,0.01,0.1),\n",
    "        'clf__random_state':([7]),\n",
    "        'clf__solver':('lbfgs','logistic','adam'),\n",
    "        'clf__tol':(0.0001,0.001,0.01)\n",
    "       }"
   ]
  },
  {
   "cell_type": "code",
   "execution_count": null,
   "metadata": {},
   "outputs": [
    {
     "name": "stdout",
     "output_type": "stream",
     "text": [
      "\n",
      "\n",
      "Running cross fold validation for Multi-Layer \n",
      "Perceptron with _equal_crime_and_business dataset\n",
      "Fitting 3 folds for each of 69984 candidates, totalling 209952 fits\n"
     ]
    },
    {
     "name": "stderr",
     "output_type": "stream",
     "text": [
      "[Parallel(n_jobs=6)]: Using backend LokyBackend with 6 concurrent workers.\n",
      "[Parallel(n_jobs=6)]: Done  38 tasks      | elapsed:    3.8s\n",
      "[Parallel(n_jobs=6)]: Done 188 tasks      | elapsed:   20.4s\n",
      "[Parallel(n_jobs=6)]: Done 438 tasks      | elapsed:   46.3s\n",
      "[Parallel(n_jobs=6)]: Done 788 tasks      | elapsed:  1.4min\n",
      "[Parallel(n_jobs=6)]: Done 1238 tasks      | elapsed:  2.2min\n",
      "[Parallel(n_jobs=6)]: Done 1788 tasks      | elapsed:  3.4min\n",
      "[Parallel(n_jobs=6)]: Done 2438 tasks      | elapsed:  5.3min\n",
      "[Parallel(n_jobs=6)]: Done 3188 tasks      | elapsed:  7.7min\n",
      "[Parallel(n_jobs=6)]: Done 4038 tasks      | elapsed: 10.6min\n",
      "[Parallel(n_jobs=6)]: Done 4988 tasks      | elapsed: 12.8min\n",
      "[Parallel(n_jobs=6)]: Done 6038 tasks      | elapsed: 15.0min\n",
      "[Parallel(n_jobs=6)]: Done 7188 tasks      | elapsed: 18.5min\n",
      "[Parallel(n_jobs=6)]: Done 8438 tasks      | elapsed: 23.7min\n",
      "[Parallel(n_jobs=6)]: Done 9788 tasks      | elapsed: 27.1min\n",
      "[Parallel(n_jobs=6)]: Done 11238 tasks      | elapsed: 30.7min\n",
      "[Parallel(n_jobs=6)]: Done 12788 tasks      | elapsed: 35.8min\n",
      "[Parallel(n_jobs=6)]: Done 14438 tasks      | elapsed: 38.9min\n",
      "[Parallel(n_jobs=6)]: Done 16188 tasks      | elapsed: 43.8min\n",
      "[Parallel(n_jobs=6)]: Done 18038 tasks      | elapsed: 49.9min\n",
      "[Parallel(n_jobs=6)]: Done 19988 tasks      | elapsed: 54.1min\n",
      "[Parallel(n_jobs=6)]: Done 22038 tasks      | elapsed: 60.3min\n",
      "[Parallel(n_jobs=6)]: Done 24188 tasks      | elapsed: 64.7min\n",
      "[Parallel(n_jobs=6)]: Done 26438 tasks      | elapsed: 72.5min\n",
      "[Parallel(n_jobs=6)]: Done 28788 tasks      | elapsed: 77.5min\n",
      "[Parallel(n_jobs=6)]: Done 31238 tasks      | elapsed: 84.4min\n",
      "[Parallel(n_jobs=6)]: Done 33788 tasks      | elapsed: 91.2min\n",
      "[Parallel(n_jobs=6)]: Done 36438 tasks      | elapsed: 98.2min\n",
      "[Parallel(n_jobs=6)]: Done 39188 tasks      | elapsed: 106.8min\n",
      "[Parallel(n_jobs=6)]: Done 42038 tasks      | elapsed: 113.8min\n",
      "[Parallel(n_jobs=6)]: Done 44988 tasks      | elapsed: 122.7min\n",
      "[Parallel(n_jobs=6)]: Done 48038 tasks      | elapsed: 133.0min\n",
      "[Parallel(n_jobs=6)]: Done 51188 tasks      | elapsed: 140.6min\n",
      "[Parallel(n_jobs=6)]: Done 54438 tasks      | elapsed: 163.3min\n",
      "[Parallel(n_jobs=6)]: Done 57788 tasks      | elapsed: 205.1min\n",
      "[Parallel(n_jobs=6)]: Done 61238 tasks      | elapsed: 252.7min\n",
      "[Parallel(n_jobs=6)]: Done 64788 tasks      | elapsed: 291.6min\n",
      "[Parallel(n_jobs=6)]: Done 68438 tasks      | elapsed: 333.0min\n",
      "[Parallel(n_jobs=6)]: Done 72188 tasks      | elapsed: 378.6min\n",
      "[Parallel(n_jobs=6)]: Done 76038 tasks      | elapsed: 425.7min\n",
      "[Parallel(n_jobs=6)]: Done 79988 tasks      | elapsed: 477.6min\n",
      "[Parallel(n_jobs=6)]: Done 84038 tasks      | elapsed: 527.8min\n",
      "[Parallel(n_jobs=6)]: Done 88188 tasks      | elapsed: 580.7min\n",
      "[Parallel(n_jobs=6)]: Done 92438 tasks      | elapsed: 637.1min\n",
      "[Parallel(n_jobs=6)]: Done 96788 tasks      | elapsed: 695.5min\n",
      "[Parallel(n_jobs=6)]: Done 101238 tasks      | elapsed: 753.0min\n",
      "[Parallel(n_jobs=6)]: Done 105788 tasks      | elapsed: 810.8min\n",
      "[Parallel(n_jobs=6)]: Done 110438 tasks      | elapsed: 864.3min\n",
      "[Parallel(n_jobs=6)]: Done 115188 tasks      | elapsed: 920.3min\n",
      "[Parallel(n_jobs=6)]: Done 120038 tasks      | elapsed: 975.9min\n",
      "[Parallel(n_jobs=6)]: Done 124988 tasks      | elapsed: 1037.7min\n",
      "[Parallel(n_jobs=6)]: Done 130038 tasks      | elapsed: 1101.0min\n",
      "[Parallel(n_jobs=6)]: Done 135188 tasks      | elapsed: 1166.4min\n",
      "[Parallel(n_jobs=6)]: Done 140438 tasks      | elapsed: 1230.2min\n"
     ]
    }
   ],
   "source": [
    "equal_model, equal_train_score, equal_mse, equal_mae, equal_r2 = get_best_model(sel_methods[3], args, num_folds, is_sample)"
   ]
  },
  {
   "cell_type": "code",
   "execution_count": null,
   "metadata": {},
   "outputs": [],
   "source": []
  },
  {
   "cell_type": "code",
   "execution_count": null,
   "metadata": {},
   "outputs": [],
   "source": []
  },
  {
   "cell_type": "code",
   "execution_count": null,
   "metadata": {},
   "outputs": [],
   "source": []
  },
  {
   "cell_type": "code",
   "execution_count": null,
   "metadata": {},
   "outputs": [],
   "source": []
  },
  {
   "cell_type": "code",
   "execution_count": null,
   "metadata": {},
   "outputs": [],
   "source": []
  },
  {
   "cell_type": "code",
   "execution_count": null,
   "metadata": {},
   "outputs": [],
   "source": []
  },
  {
   "cell_type": "code",
   "execution_count": null,
   "metadata": {},
   "outputs": [],
   "source": [
    "save_model(equal_model,sel_methods[3])"
   ]
  },
  {
   "cell_type": "markdown",
   "metadata": {},
   "source": [
    "<h3>Business only feature selected dataset<h3>"
   ]
  },
  {
   "cell_type": "code",
   "execution_count": null,
   "metadata": {},
   "outputs": [],
   "source": [
    "is_sample = True\n",
    "num_folds = 3\n",
    "args = {'clf__activation':('identity','logistic','tanh','relu'),\n",
    "        'clf__alpha':(0.000001,0.00001,0.0001,0.001,0.01,0.1),\n",
    "        'clf__batch_size':(arange(100, 300, 100)),\n",
    "        'clf__hidden_layer_sizes':((100,),(200,),(300,)),\n",
    "        'clf__learning_rate':('constant', 'invscaling', 'adaptive'),\n",
    "        'clf__max_iter':(arange(100,300,100)),\n",
    "        'clf__momentum':(arange(0.7,0.9,0.1)),\n",
    "        'clf__power_t':(0.001,0.01,0.1),\n",
    "        'clf__random_state':([7]),\n",
    "        'clf__solver':('lbfgs','logistic','adam'),\n",
    "        'clf__tol':(0.0001,0.001,0.01)\n",
    "       }"
   ]
  },
  {
   "cell_type": "code",
   "execution_count": null,
   "metadata": {},
   "outputs": [],
   "source": [
    "bus_model, bus_train_score, bus_mse, bus_mae, bus_r2 = get_best_model(sel_methods[4], args, num_folds, is_sample)"
   ]
  },
  {
   "cell_type": "code",
   "execution_count": null,
   "metadata": {},
   "outputs": [],
   "source": []
  },
  {
   "cell_type": "code",
   "execution_count": null,
   "metadata": {},
   "outputs": [],
   "source": []
  },
  {
   "cell_type": "code",
   "execution_count": null,
   "metadata": {},
   "outputs": [],
   "source": []
  },
  {
   "cell_type": "code",
   "execution_count": null,
   "metadata": {},
   "outputs": [],
   "source": []
  },
  {
   "cell_type": "code",
   "execution_count": null,
   "metadata": {},
   "outputs": [],
   "source": []
  },
  {
   "cell_type": "code",
   "execution_count": null,
   "metadata": {},
   "outputs": [],
   "source": []
  },
  {
   "cell_type": "code",
   "execution_count": null,
   "metadata": {},
   "outputs": [],
   "source": [
    "save_model(bus_model,sel_methods[4])"
   ]
  },
  {
   "cell_type": "markdown",
   "metadata": {},
   "source": [
    "<h3>Visualise scores<h3>"
   ]
  },
  {
   "cell_type": "code",
   "execution_count": null,
   "metadata": {},
   "outputs": [],
   "source": [
    "training_scores = [f_reg_train_score, chi2_train_score, ada_train_score, equal_train_score, bus_train_score]\n",
    "mse_scores = [f_reg_mse, chi2_mse, ada_mse, equal_mse, bus_mse]\n",
    "mae_scores = [f_reg_mae, chi2_mae, ada_mae, equal_mae, bus_mae]\n",
    "r2_scores = [f_reg_r2, chi2_r2, ada_r2, equal_r2, bus_r2]\n",
    "datasets = [\"F-Regression\",\"Chi-Squared\",\"AdaBoost\",\"Equal Business\\nand Crime\",\"All Business\"]\n",
    "y_select = np.arange(len(datasets))"
   ]
  },
  {
   "cell_type": "code",
   "execution_count": null,
   "metadata": {
    "scrolled": true
   },
   "outputs": [],
   "source": [
    "plt.figure(figsize = (10,10))\n",
    "plt.xticks(y_select,datasets)\n",
    "plt.title(display_name + \" tree training score\")\n",
    "plt.xlabel(\"Dataset\")\n",
    "plt.ylabel(\"Training score (r-squared)\")\n",
    "plt.bar(y_select, training_scores)"
   ]
  },
  {
   "cell_type": "code",
   "execution_count": null,
   "metadata": {},
   "outputs": [],
   "source": [
    "plt.figure(figsize = (10,10))\n",
    "plt.xticks(y_select,datasets)\n",
    "plt.title(display_name + \" testing mean-squared error\")\n",
    "plt.xlabel(\"Dataset\")\n",
    "plt.ylabel(\"Mean-squared error\")\n",
    "plt.bar(y_select, mse_scores)"
   ]
  },
  {
   "cell_type": "code",
   "execution_count": null,
   "metadata": {},
   "outputs": [],
   "source": [
    "plt.figure(figsize = (10,10))\n",
    "plt.xticks(y_select,datasets)\n",
    "plt.title(display_name + \" testing mean-absolute error\")\n",
    "plt.xlabel(\"Dataset\")\n",
    "plt.ylabel(\"Mean absolute error\")\n",
    "plt.bar(y_select, mae_scores)"
   ]
  },
  {
   "cell_type": "code",
   "execution_count": null,
   "metadata": {},
   "outputs": [],
   "source": [
    "plt.figure(figsize = (10,10))\n",
    "plt.xticks(y_select,datasets)\n",
    "plt.title(display_name + \" testing r-squared scores\")\n",
    "plt.xlabel(\"Dataset\")\n",
    "plt.ylabel(\"R-Squared Score\")\n",
    "plt.bar(y_select, r2_scores)"
   ]
  }
 ],
 "metadata": {
  "kernelspec": {
   "display_name": "Python 3",
   "language": "python",
   "name": "python3"
  },
  "language_info": {
   "codemirror_mode": {
    "name": "ipython",
    "version": 3
   },
   "file_extension": ".py",
   "mimetype": "text/x-python",
   "name": "python",
   "nbconvert_exporter": "python",
   "pygments_lexer": "ipython3",
   "version": "3.9.0"
  }
 },
 "nbformat": 4,
 "nbformat_minor": 4
}
