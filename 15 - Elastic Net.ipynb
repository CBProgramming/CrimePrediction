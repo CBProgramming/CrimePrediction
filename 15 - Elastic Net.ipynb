{
 "cells": [
  {
   "cell_type": "code",
   "execution_count": 1,
   "metadata": {},
   "outputs": [],
   "source": [
    "import numpy as np\n",
    "import pandas as pd\n",
    "import matplotlib.pyplot as plt\n",
    "%matplotlib inline\n",
    "import sklearn\n",
    "from sklearn.metrics import mean_squared_error, r2_score, mean_absolute_error\n",
    "from sklearn.pipeline import Pipeline\n",
    "from sklearn.model_selection import GridSearchCV\n",
    "import pickle"
   ]
  },
  {
   "cell_type": "code",
   "execution_count": 2,
   "metadata": {},
   "outputs": [],
   "source": [
    "from sklearn.linear_model import ElasticNet"
   ]
  },
  {
   "cell_type": "code",
   "execution_count": 3,
   "metadata": {},
   "outputs": [],
   "source": [
    "model_name = \"elastic_net\"\n",
    "display_name = \"Elastic Net\""
   ]
  },
  {
   "cell_type": "code",
   "execution_count": 4,
   "metadata": {},
   "outputs": [],
   "source": [
    "y_test = pd.read_csv('y_test.csv')\n",
    "file = open(\"Selection Methods\",\"rb\")\n",
    "sel_methods = np.load(file)"
   ]
  },
  {
   "cell_type": "code",
   "execution_count": 5,
   "metadata": {},
   "outputs": [],
   "source": [
    "def get_best_model(method, args, _cv, is_sample):\n",
    "    sample_string = ''\n",
    "    if (is_sample):\n",
    "        sample_string = '_sample'\n",
    "    y_train = pd.read_csv('y_train'+ sample_string + '.csv')    \n",
    "    method_string = method\n",
    "    if (method == ''):\n",
    "        method_string = \"no feature selection\"\n",
    "    print('\\n\\nRunning cross fold validation for',display_name,'with',method_string,'dataset')\n",
    "    x_train = pd.read_csv('x_train' + method + sample_string + '.csv').values\n",
    "    x_test = pd.read_csv('x_test' + method + '.csv').values\n",
    "    pipe = Pipeline([('clf', ElasticNet())])\n",
    "    grid = GridSearchCV(pipe, args, cv = _cv, verbose = 1, scoring = 'r2', n_jobs=6)\n",
    "    grid.fit(x_train, y_train.values.ravel())\n",
    "    print('\\nBest score for',display_name,'with',method_string,\"dataset:\",grid.best_score_)\n",
    "    best_args = grid.best_estimator_.get_params()\n",
    "    print('\\nBest hyperparameters for',display_name,'with',method_string,'dataset:')\n",
    "    for arg in best_args:\n",
    "        print(arg,\":\",best_args[arg])\n",
    "    y_test_predict = grid.predict(x_test)\n",
    "    mse = mean_squared_error(y_test,y_test_predict)\n",
    "    mae = mean_absolute_error(y_test,y_test_predict)\n",
    "    r2 = r2_score(y_test,y_test_predict)\n",
    "    print('\\nPrediction scores for',display_name,'using',method_string,':')\n",
    "    print('Mean Squared error:',mse)\n",
    "    print('Mean Absolute error:',mae)\n",
    "    print('R^2:',r2)\n",
    "    return grid.best_estimator_,grid.best_score_,mse,mae,r2"
   ]
  },
  {
   "cell_type": "code",
   "execution_count": 6,
   "metadata": {},
   "outputs": [],
   "source": [
    "def save_model(model,method):\n",
    "    with open('CrimeGUI/Models/decision_tree'+method,'wb') as file:\n",
    "        pickle.dump(model,file)"
   ]
  },
  {
   "cell_type": "code",
   "execution_count": 7,
   "metadata": {},
   "outputs": [
    {
     "name": "stdout",
     "output_type": "stream",
     "text": [
      "['_f_regression' '_chi2' '_adaboost' '_equal_crime_and_business'\n",
      " '_all_business']\n"
     ]
    }
   ],
   "source": [
    "print(sel_methods)"
   ]
  },
  {
   "cell_type": "markdown",
   "metadata": {},
   "source": [
    "<h3>F-Regression feature selected dataset<h3>"
   ]
  },
  {
   "cell_type": "code",
   "execution_count": 12,
   "metadata": {},
   "outputs": [],
   "source": [
    "is_sample = False\n",
    "num_folds = 10\n",
    "args = {'clf__alpha':(0.1,0.2,0.3,0.4,0.5,0.6,0.7,0.8,0.9,1,1.1,1.2,1.3,1.4,1.5,1.6,1.7,1.8,1.9,2),\n",
    "        'clf__copy_X':(True,False),\n",
    "        'clf__fit_intercept':(True,False),\n",
    "        'clf__normalize':(True,False),\n",
    "        'clf__positive':(True,False),\n",
    "        'clf__selection':('cyclic','random'),\n",
    "        'clf__l1_ratio':(0.1,0.2,0.3,0.4,0.5,0.6,0.7,0.8,0.9),\n",
    "        'clf__random_state':([7]),\n",
    "        'clf__tol':(0.001, 0.005,0.01,0.02,0.04,0.06,0.08,0.1,0.2,0.3,0.4,0.5,0.6,0.7,0.8,0.9,1)}"
   ]
  },
  {
   "cell_type": "code",
   "execution_count": 13,
   "metadata": {},
   "outputs": [
    {
     "name": "stdout",
     "output_type": "stream",
     "text": [
      "\n",
      "\n",
      "Running cross fold validation for Elastic Net with _f_regression dataset\n",
      "Fitting 10 folds for each of 97920 candidates, totalling 979200 fits\n"
     ]
    },
    {
     "name": "stderr",
     "output_type": "stream",
     "text": [
      "[Parallel(n_jobs=6)]: Using backend LokyBackend with 6 concurrent workers.\n",
      "[Parallel(n_jobs=6)]: Done  40 tasks      | elapsed:    1.4s\n",
      "[Parallel(n_jobs=6)]: Done 1132 tasks      | elapsed:    7.0s\n",
      "[Parallel(n_jobs=6)]: Done 3132 tasks      | elapsed:   16.5s\n",
      "[Parallel(n_jobs=6)]: Done 5932 tasks      | elapsed:   29.4s\n",
      "[Parallel(n_jobs=6)]: Done 9532 tasks      | elapsed:   46.2s\n",
      "[Parallel(n_jobs=6)]: Done 13932 tasks      | elapsed:  1.1min\n",
      "[Parallel(n_jobs=6)]: Done 19132 tasks      | elapsed:  1.5min\n",
      "[Parallel(n_jobs=6)]: Done 25132 tasks      | elapsed:  2.0min\n",
      "[Parallel(n_jobs=6)]: Done 31932 tasks      | elapsed:  2.6min\n",
      "[Parallel(n_jobs=6)]: Done 39532 tasks      | elapsed:  3.1min\n",
      "[Parallel(n_jobs=6)]: Done 47932 tasks      | elapsed:  3.7min\n",
      "[Parallel(n_jobs=6)]: Done 57132 tasks      | elapsed:  4.4min\n",
      "[Parallel(n_jobs=6)]: Done 67132 tasks      | elapsed:  5.3min\n",
      "[Parallel(n_jobs=6)]: Done 77932 tasks      | elapsed:  6.2min\n",
      "[Parallel(n_jobs=6)]: Done 89532 tasks      | elapsed:  7.1min\n",
      "[Parallel(n_jobs=6)]: Done 101932 tasks      | elapsed:  8.1min\n",
      "[Parallel(n_jobs=6)]: Done 115132 tasks      | elapsed:  9.1min\n",
      "[Parallel(n_jobs=6)]: Done 129132 tasks      | elapsed: 10.2min\n",
      "[Parallel(n_jobs=6)]: Done 143932 tasks      | elapsed: 11.3min\n",
      "[Parallel(n_jobs=6)]: Done 159532 tasks      | elapsed: 12.5min\n",
      "[Parallel(n_jobs=6)]: Done 175932 tasks      | elapsed: 13.8min\n",
      "[Parallel(n_jobs=6)]: Done 193132 tasks      | elapsed: 15.0min\n",
      "[Parallel(n_jobs=6)]: Done 211132 tasks      | elapsed: 16.5min\n",
      "[Parallel(n_jobs=6)]: Done 229932 tasks      | elapsed: 18.0min\n",
      "[Parallel(n_jobs=6)]: Done 249532 tasks      | elapsed: 19.4min\n",
      "[Parallel(n_jobs=6)]: Done 269932 tasks      | elapsed: 21.0min\n",
      "[Parallel(n_jobs=6)]: Done 291132 tasks      | elapsed: 22.5min\n",
      "[Parallel(n_jobs=6)]: Done 313132 tasks      | elapsed: 24.2min\n",
      "[Parallel(n_jobs=6)]: Done 335932 tasks      | elapsed: 25.9min\n",
      "[Parallel(n_jobs=6)]: Done 359532 tasks      | elapsed: 27.6min\n",
      "[Parallel(n_jobs=6)]: Done 383932 tasks      | elapsed: 29.5min\n",
      "[Parallel(n_jobs=6)]: Done 409132 tasks      | elapsed: 31.3min\n",
      "[Parallel(n_jobs=6)]: Done 435132 tasks      | elapsed: 33.3min\n",
      "[Parallel(n_jobs=6)]: Done 461932 tasks      | elapsed: 35.3min\n",
      "[Parallel(n_jobs=6)]: Done 489532 tasks      | elapsed: 37.4min\n",
      "[Parallel(n_jobs=6)]: Done 517932 tasks      | elapsed: 39.7min\n",
      "[Parallel(n_jobs=6)]: Done 547132 tasks      | elapsed: 41.9min\n",
      "[Parallel(n_jobs=6)]: Done 577132 tasks      | elapsed: 44.3min\n",
      "[Parallel(n_jobs=6)]: Done 607932 tasks      | elapsed: 46.7min\n",
      "[Parallel(n_jobs=6)]: Done 639532 tasks      | elapsed: 49.1min\n",
      "[Parallel(n_jobs=6)]: Done 671932 tasks      | elapsed: 51.6min\n",
      "[Parallel(n_jobs=6)]: Done 705132 tasks      | elapsed: 54.0min\n",
      "[Parallel(n_jobs=6)]: Done 739132 tasks      | elapsed: 56.5min\n",
      "[Parallel(n_jobs=6)]: Done 773932 tasks      | elapsed: 59.1min\n",
      "[Parallel(n_jobs=6)]: Done 809532 tasks      | elapsed: 61.7min\n",
      "[Parallel(n_jobs=6)]: Done 845932 tasks      | elapsed: 64.4min\n",
      "[Parallel(n_jobs=6)]: Done 883132 tasks      | elapsed: 67.2min\n",
      "[Parallel(n_jobs=6)]: Done 921132 tasks      | elapsed: 70.0min\n",
      "[Parallel(n_jobs=6)]: Done 959932 tasks      | elapsed: 72.9min\n",
      "[Parallel(n_jobs=6)]: Done 979200 out of 979200 | elapsed: 74.2min finished\n"
     ]
    },
    {
     "name": "stdout",
     "output_type": "stream",
     "text": [
      "\n",
      "Best score for Elastic Net with _f_regression dataset: 0.5614682772686381\n",
      "\n",
      "Best hyperparameters for Elastic Net with _f_regression dataset:\n",
      "memory : None\n",
      "steps : [('clf', ElasticNet(alpha=0.1, fit_intercept=False, l1_ratio=0.9, normalize=True,\n",
      "           positive=True, random_state=7, selection='random', tol=0.9))]\n",
      "verbose : False\n",
      "clf : ElasticNet(alpha=0.1, fit_intercept=False, l1_ratio=0.9, normalize=True,\n",
      "           positive=True, random_state=7, selection='random', tol=0.9)\n",
      "clf__alpha : 0.1\n",
      "clf__copy_X : True\n",
      "clf__fit_intercept : False\n",
      "clf__l1_ratio : 0.9\n",
      "clf__max_iter : 1000\n",
      "clf__normalize : True\n",
      "clf__positive : True\n",
      "clf__precompute : False\n",
      "clf__random_state : 7\n",
      "clf__selection : random\n",
      "clf__tol : 0.9\n",
      "clf__warm_start : False\n",
      "\n",
      "Prediction scores for Elastic Net using _f_regression :\n",
      "Mean Squared error: 8.488073356509641\n",
      "Mean Absolute error: 1.540361034917549\n",
      "R^2: 0.5645410092297589\n"
     ]
    }
   ],
   "source": [
    "f_reg_model, f_reg_train_score, f_reg_mse, f_reg_mae, f_reg_r2 = get_best_model(sel_methods[0], args, num_folds, is_sample)"
   ]
  },
  {
   "cell_type": "code",
   "execution_count": 7,
   "metadata": {},
   "outputs": [],
   "source": []
  },
  {
   "cell_type": "code",
   "execution_count": null,
   "metadata": {},
   "outputs": [],
   "source": []
  },
  {
   "cell_type": "code",
   "execution_count": null,
   "metadata": {},
   "outputs": [],
   "source": []
  },
  {
   "cell_type": "code",
   "execution_count": null,
   "metadata": {},
   "outputs": [],
   "source": []
  },
  {
   "cell_type": "code",
   "execution_count": null,
   "metadata": {},
   "outputs": [],
   "source": []
  },
  {
   "cell_type": "code",
   "execution_count": null,
   "metadata": {},
   "outputs": [],
   "source": []
  },
  {
   "cell_type": "code",
   "execution_count": null,
   "metadata": {},
   "outputs": [],
   "source": []
  },
  {
   "cell_type": "code",
   "execution_count": 61,
   "metadata": {},
   "outputs": [],
   "source": [
    "save_model(f_reg_model,sel_methods[0])"
   ]
  },
  {
   "cell_type": "markdown",
   "metadata": {},
   "source": [
    "<h3>Chi-Squared feature selected dataset<h3>"
   ]
  },
  {
   "cell_type": "code",
   "execution_count": 14,
   "metadata": {},
   "outputs": [],
   "source": [
    "is_sample = False\n",
    "num_folds = 10\n",
    "args = {'clf__alpha':(0.1,0.2,0.3,0.4,0.5,0.6,0.7,0.8,0.9,1,1.1,1.2,1.3,1.4,1.5,1.6,1.7,1.8,1.9,2),\n",
    "        'clf__copy_X':(True,False),\n",
    "        'clf__fit_intercept':(True,False),\n",
    "        'clf__normalize':(True,False),\n",
    "        'clf__positive':(True,False),\n",
    "        'clf__selection':('cyclic','random'),\n",
    "        'clf__l1_ratio':(0.1,0.2,0.3,0.4,0.5,0.6,0.7,0.8,0.9),\n",
    "        'clf__random_state':([7]),\n",
    "        'clf__tol':(0.001, 0.005,0.01,0.02,0.04,0.06,0.08,0.1,0.2,0.3,0.4,0.5,0.6,0.7,0.8,0.9,1)}"
   ]
  },
  {
   "cell_type": "code",
   "execution_count": 15,
   "metadata": {},
   "outputs": [
    {
     "name": "stdout",
     "output_type": "stream",
     "text": [
      "\n",
      "\n",
      "Running cross fold validation for Elastic Net with _chi2 dataset\n",
      "Fitting 10 folds for each of 97920 candidates, totalling 979200 fits\n"
     ]
    },
    {
     "name": "stderr",
     "output_type": "stream",
     "text": [
      "[Parallel(n_jobs=6)]: Using backend LokyBackend with 6 concurrent workers.\n",
      "[Parallel(n_jobs=6)]: Done 100 tasks      | elapsed:    0.7s\n",
      "[Parallel(n_jobs=6)]: Done 1300 tasks      | elapsed:    6.9s\n",
      "[Parallel(n_jobs=6)]: Done 3300 tasks      | elapsed:   16.5s\n",
      "[Parallel(n_jobs=6)]: Done 6100 tasks      | elapsed:   29.8s\n",
      "[Parallel(n_jobs=6)]: Done 9700 tasks      | elapsed:   47.1s\n",
      "[Parallel(n_jobs=6)]: Done 14100 tasks      | elapsed:  1.1min\n",
      "[Parallel(n_jobs=6)]: Done 19300 tasks      | elapsed:  1.6min\n",
      "[Parallel(n_jobs=6)]: Done 25300 tasks      | elapsed:  2.0min\n",
      "[Parallel(n_jobs=6)]: Done 32100 tasks      | elapsed:  2.6min\n",
      "[Parallel(n_jobs=6)]: Done 39700 tasks      | elapsed:  3.2min\n",
      "[Parallel(n_jobs=6)]: Done 48100 tasks      | elapsed:  3.7min\n",
      "[Parallel(n_jobs=6)]: Done 57300 tasks      | elapsed:  4.4min\n",
      "[Parallel(n_jobs=6)]: Done 67300 tasks      | elapsed:  5.2min\n",
      "[Parallel(n_jobs=6)]: Done 78100 tasks      | elapsed:  6.0min\n",
      "[Parallel(n_jobs=6)]: Done 89700 tasks      | elapsed:  6.9min\n",
      "[Parallel(n_jobs=6)]: Done 102100 tasks      | elapsed:  7.8min\n",
      "[Parallel(n_jobs=6)]: Done 115300 tasks      | elapsed:  8.8min\n",
      "[Parallel(n_jobs=6)]: Done 129300 tasks      | elapsed:  9.9min\n",
      "[Parallel(n_jobs=6)]: Done 144100 tasks      | elapsed: 11.0min\n",
      "[Parallel(n_jobs=6)]: Done 159700 tasks      | elapsed: 12.2min\n",
      "[Parallel(n_jobs=6)]: Done 176100 tasks      | elapsed: 13.5min\n",
      "[Parallel(n_jobs=6)]: Done 193300 tasks      | elapsed: 14.7min\n",
      "[Parallel(n_jobs=6)]: Done 211300 tasks      | elapsed: 16.1min\n",
      "[Parallel(n_jobs=6)]: Done 230100 tasks      | elapsed: 17.5min\n",
      "[Parallel(n_jobs=6)]: Done 249700 tasks      | elapsed: 18.9min\n",
      "[Parallel(n_jobs=6)]: Done 270100 tasks      | elapsed: 20.4min\n",
      "[Parallel(n_jobs=6)]: Done 291300 tasks      | elapsed: 21.9min\n",
      "[Parallel(n_jobs=6)]: Done 313300 tasks      | elapsed: 23.6min\n",
      "[Parallel(n_jobs=6)]: Done 336100 tasks      | elapsed: 25.3min\n",
      "[Parallel(n_jobs=6)]: Done 359700 tasks      | elapsed: 27.0min\n",
      "[Parallel(n_jobs=6)]: Done 384100 tasks      | elapsed: 28.8min\n",
      "[Parallel(n_jobs=6)]: Done 409300 tasks      | elapsed: 30.6min\n",
      "[Parallel(n_jobs=6)]: Done 435300 tasks      | elapsed: 32.6min\n",
      "[Parallel(n_jobs=6)]: Done 462100 tasks      | elapsed: 34.5min\n",
      "[Parallel(n_jobs=6)]: Done 489700 tasks      | elapsed: 36.5min\n",
      "[Parallel(n_jobs=6)]: Done 518100 tasks      | elapsed: 38.6min\n",
      "[Parallel(n_jobs=6)]: Done 547300 tasks      | elapsed: 40.8min\n",
      "[Parallel(n_jobs=6)]: Done 577300 tasks      | elapsed: 43.1min\n",
      "[Parallel(n_jobs=6)]: Done 608100 tasks      | elapsed: 45.4min\n",
      "[Parallel(n_jobs=6)]: Done 639700 tasks      | elapsed: 47.7min\n",
      "[Parallel(n_jobs=6)]: Done 672100 tasks      | elapsed: 50.2min\n",
      "[Parallel(n_jobs=6)]: Done 705300 tasks      | elapsed: 52.7min\n",
      "[Parallel(n_jobs=6)]: Done 739300 tasks      | elapsed: 55.2min\n",
      "[Parallel(n_jobs=6)]: Done 774100 tasks      | elapsed: 57.9min\n",
      "[Parallel(n_jobs=6)]: Done 809700 tasks      | elapsed: 60.5min\n",
      "[Parallel(n_jobs=6)]: Done 846100 tasks      | elapsed: 63.3min\n",
      "[Parallel(n_jobs=6)]: Done 883300 tasks      | elapsed: 66.0min\n",
      "[Parallel(n_jobs=6)]: Done 921300 tasks      | elapsed: 68.9min\n",
      "[Parallel(n_jobs=6)]: Done 960100 tasks      | elapsed: 71.7min\n",
      "[Parallel(n_jobs=6)]: Done 979189 out of 979200 | elapsed: 73.0min remaining:    0.0s\n",
      "[Parallel(n_jobs=6)]: Done 979200 out of 979200 | elapsed: 73.0min finished\n"
     ]
    },
    {
     "name": "stdout",
     "output_type": "stream",
     "text": [
      "\n",
      "Best score for Elastic Net with _chi2 dataset: 0.5162854607402666\n",
      "\n",
      "Best hyperparameters for Elastic Net with _chi2 dataset:\n",
      "memory : None\n",
      "steps : [('clf', ElasticNet(alpha=0.1, fit_intercept=False, l1_ratio=0.9, normalize=True,\n",
      "           positive=True, random_state=7, tol=0.6))]\n",
      "verbose : False\n",
      "clf : ElasticNet(alpha=0.1, fit_intercept=False, l1_ratio=0.9, normalize=True,\n",
      "           positive=True, random_state=7, tol=0.6)\n",
      "clf__alpha : 0.1\n",
      "clf__copy_X : True\n",
      "clf__fit_intercept : False\n",
      "clf__l1_ratio : 0.9\n",
      "clf__max_iter : 1000\n",
      "clf__normalize : True\n",
      "clf__positive : True\n",
      "clf__precompute : False\n",
      "clf__random_state : 7\n",
      "clf__selection : cyclic\n",
      "clf__tol : 0.6\n",
      "clf__warm_start : False\n",
      "\n",
      "Prediction scores for Elastic Net using _chi2 :\n",
      "Mean Squared error: 9.34086411453992\n",
      "Mean Absolute error: 1.6182698690898771\n",
      "R^2: 0.5207907508103667\n"
     ]
    }
   ],
   "source": [
    "chi2_model, chi2_train_score, chi2_mse, chi2_mae, chi2_r2 = get_best_model(sel_methods[1], args, num_folds, is_sample)"
   ]
  },
  {
   "cell_type": "code",
   "execution_count": null,
   "metadata": {},
   "outputs": [],
   "source": []
  },
  {
   "cell_type": "code",
   "execution_count": null,
   "metadata": {},
   "outputs": [],
   "source": []
  },
  {
   "cell_type": "code",
   "execution_count": null,
   "metadata": {},
   "outputs": [],
   "source": []
  },
  {
   "cell_type": "code",
   "execution_count": null,
   "metadata": {},
   "outputs": [],
   "source": []
  },
  {
   "cell_type": "code",
   "execution_count": null,
   "metadata": {},
   "outputs": [],
   "source": []
  },
  {
   "cell_type": "code",
   "execution_count": null,
   "metadata": {},
   "outputs": [],
   "source": []
  },
  {
   "cell_type": "code",
   "execution_count": 62,
   "metadata": {},
   "outputs": [],
   "source": [
    "save_model(chi2_model,sel_methods[1])"
   ]
  },
  {
   "cell_type": "markdown",
   "metadata": {},
   "source": [
    "<h3>AdaBoost feature selected dataset<h3>"
   ]
  },
  {
   "cell_type": "code",
   "execution_count": 16,
   "metadata": {},
   "outputs": [],
   "source": [
    "is_sample = False\n",
    "num_folds = 10\n",
    "args = {'clf__alpha':(0.1,0.2,0.3,0.4,0.5,0.6,0.7,0.8,0.9,1,1.1,1.2,1.3,1.4,1.5,1.6,1.7,1.8,1.9,2),\n",
    "        'clf__copy_X':(True,False),\n",
    "        'clf__fit_intercept':(True,False),\n",
    "        'clf__normalize':(True,False),\n",
    "        'clf__positive':(True,False),\n",
    "        'clf__selection':('cyclic','random'),\n",
    "        'clf__l1_ratio':(0.1,0.2,0.3,0.4,0.5,0.6,0.7,0.8,0.9),\n",
    "        'clf__random_state':([7]),\n",
    "        'clf__tol':(0.001, 0.005,0.01,0.02,0.04,0.06,0.08,0.1,0.2,0.3,0.4,0.5,0.6,0.7,0.8,0.9,1)}"
   ]
  },
  {
   "cell_type": "code",
   "execution_count": null,
   "metadata": {},
   "outputs": [
    {
     "name": "stdout",
     "output_type": "stream",
     "text": [
      "\n",
      "\n",
      "Running cross fold validation for Elastic Net with _adaboost dataset\n",
      "Fitting 10 folds for each of 97920 candidates, totalling 979200 fits\n"
     ]
    },
    {
     "name": "stderr",
     "output_type": "stream",
     "text": [
      "[Parallel(n_jobs=6)]: Using backend LokyBackend with 6 concurrent workers.\n",
      "[Parallel(n_jobs=6)]: Done 100 tasks      | elapsed:    0.6s\n",
      "[Parallel(n_jobs=6)]: Done 1300 tasks      | elapsed:    6.3s\n",
      "[Parallel(n_jobs=6)]: Done 3300 tasks      | elapsed:   15.8s\n",
      "[Parallel(n_jobs=6)]: Done 6100 tasks      | elapsed:   29.7s\n",
      "[Parallel(n_jobs=6)]: Done 9700 tasks      | elapsed:   47.7s\n",
      "[Parallel(n_jobs=6)]: Done 14100 tasks      | elapsed:  1.2min\n",
      "[Parallel(n_jobs=6)]: Done 19300 tasks      | elapsed:  1.6min\n",
      "[Parallel(n_jobs=6)]: Done 25300 tasks      | elapsed:  2.1min\n",
      "[Parallel(n_jobs=6)]: Done 32100 tasks      | elapsed:  2.7min\n",
      "[Parallel(n_jobs=6)]: Done 39700 tasks      | elapsed:  3.3min\n",
      "[Parallel(n_jobs=6)]: Done 48100 tasks      | elapsed:  3.9min\n",
      "[Parallel(n_jobs=6)]: Done 57300 tasks      | elapsed:  4.7min\n",
      "[Parallel(n_jobs=6)]: Done 67300 tasks      | elapsed:  5.5min\n",
      "[Parallel(n_jobs=6)]: Done 78100 tasks      | elapsed:  6.4min\n",
      "[Parallel(n_jobs=6)]: Done 89700 tasks      | elapsed:  7.4min\n",
      "[Parallel(n_jobs=6)]: Done 102100 tasks      | elapsed:  8.3min\n",
      "[Parallel(n_jobs=6)]: Done 115300 tasks      | elapsed:  9.4min\n",
      "[Parallel(n_jobs=6)]: Done 129300 tasks      | elapsed: 10.5min\n",
      "[Parallel(n_jobs=6)]: Done 144100 tasks      | elapsed: 11.7min\n",
      "[Parallel(n_jobs=6)]: Done 159700 tasks      | elapsed: 12.9min\n",
      "[Parallel(n_jobs=6)]: Done 176100 tasks      | elapsed: 14.2min\n",
      "[Parallel(n_jobs=6)]: Done 193300 tasks      | elapsed: 15.5min\n",
      "[Parallel(n_jobs=6)]: Done 211300 tasks      | elapsed: 16.9min\n",
      "[Parallel(n_jobs=6)]: Done 230100 tasks      | elapsed: 18.4min\n",
      "[Parallel(n_jobs=6)]: Done 249700 tasks      | elapsed: 19.9min\n",
      "[Parallel(n_jobs=6)]: Done 270100 tasks      | elapsed: 21.5min\n",
      "[Parallel(n_jobs=6)]: Done 291300 tasks      | elapsed: 23.1min\n",
      "[Parallel(n_jobs=6)]: Done 313300 tasks      | elapsed: 24.8min\n",
      "[Parallel(n_jobs=6)]: Done 336100 tasks      | elapsed: 26.6min\n",
      "[Parallel(n_jobs=6)]: Done 359700 tasks      | elapsed: 28.3min\n",
      "[Parallel(n_jobs=6)]: Done 384100 tasks      | elapsed: 30.1min\n",
      "[Parallel(n_jobs=6)]: Done 409300 tasks      | elapsed: 32.0min\n",
      "[Parallel(n_jobs=6)]: Done 435300 tasks      | elapsed: 33.9min\n",
      "[Parallel(n_jobs=6)]: Done 462100 tasks      | elapsed: 35.9min\n",
      "[Parallel(n_jobs=6)]: Done 489700 tasks      | elapsed: 38.0min\n",
      "[Parallel(n_jobs=6)]: Done 518100 tasks      | elapsed: 40.2min\n",
      "[Parallel(n_jobs=6)]: Done 547300 tasks      | elapsed: 42.4min\n",
      "[Parallel(n_jobs=6)]: Done 577300 tasks      | elapsed: 44.7min\n",
      "[Parallel(n_jobs=6)]: Done 608100 tasks      | elapsed: 47.1min\n",
      "[Parallel(n_jobs=6)]: Done 639700 tasks      | elapsed: 49.5min\n",
      "[Parallel(n_jobs=6)]: Done 672100 tasks      | elapsed: 52.0min\n",
      "[Parallel(n_jobs=6)]: Done 705300 tasks      | elapsed: 54.4min\n",
      "[Parallel(n_jobs=6)]: Done 739300 tasks      | elapsed: 57.0min\n",
      "[Parallel(n_jobs=6)]: Done 774100 tasks      | elapsed: 59.6min\n",
      "[Parallel(n_jobs=6)]: Done 809700 tasks      | elapsed: 62.3min\n",
      "[Parallel(n_jobs=6)]: Done 846100 tasks      | elapsed: 65.0min\n",
      "[Parallel(n_jobs=6)]: Done 883300 tasks      | elapsed: 67.8min\n"
     ]
    }
   ],
   "source": [
    "ada_model, ada_train_score, ada_mse, ada_mae, ada_r2 = get_best_model(sel_methods[2], args, num_folds, is_sample)"
   ]
  },
  {
   "cell_type": "code",
   "execution_count": null,
   "metadata": {},
   "outputs": [],
   "source": []
  },
  {
   "cell_type": "code",
   "execution_count": null,
   "metadata": {},
   "outputs": [],
   "source": []
  },
  {
   "cell_type": "code",
   "execution_count": null,
   "metadata": {},
   "outputs": [],
   "source": []
  },
  {
   "cell_type": "code",
   "execution_count": null,
   "metadata": {},
   "outputs": [],
   "source": []
  },
  {
   "cell_type": "code",
   "execution_count": null,
   "metadata": {},
   "outputs": [],
   "source": []
  },
  {
   "cell_type": "code",
   "execution_count": null,
   "metadata": {},
   "outputs": [],
   "source": []
  },
  {
   "cell_type": "code",
   "execution_count": 63,
   "metadata": {},
   "outputs": [],
   "source": [
    "save_model(ada_model,sel_methods[2])"
   ]
  },
  {
   "cell_type": "markdown",
   "metadata": {},
   "source": [
    "<h3>Equal business and crime feature selected dataset<h3>"
   ]
  },
  {
   "cell_type": "code",
   "execution_count": null,
   "metadata": {},
   "outputs": [],
   "source": [
    "is_sample = False\n",
    "num_folds = 10\n",
    "args = {'clf__alpha':(0.1,0.2,0.3,0.4,0.5,0.6,0.7,0.8,0.9,1,1.1,1.2,1.3,1.4,1.5,1.6,1.7,1.8,1.9,2),\n",
    "        'clf__copy_X':(True,False),\n",
    "        'clf__fit_intercept':(True,False),\n",
    "        'clf__normalize':(True,False),\n",
    "        'clf__positive':(True,False),\n",
    "        'clf__selection':('cyclic','random'),\n",
    "        'clf__l1_ratio':(0.1,0.2,0.3,0.4,0.5,0.6,0.7,0.8,0.9),\n",
    "        'clf__random_state':([7]),\n",
    "        'clf__tol':(0.001, 0.005,0.01,0.02,0.04,0.06,0.08,0.1,0.2,0.3,0.4,0.5,0.6,0.7,0.8,0.9,1)}"
   ]
  },
  {
   "cell_type": "code",
   "execution_count": null,
   "metadata": {},
   "outputs": [],
   "source": [
    "equal_model, equal_train_score, equal_mse, equal_mae, equal_r2 = get_best_model(sel_methods[3], args, num_folds, is_sample)"
   ]
  },
  {
   "cell_type": "code",
   "execution_count": null,
   "metadata": {},
   "outputs": [],
   "source": []
  },
  {
   "cell_type": "code",
   "execution_count": null,
   "metadata": {},
   "outputs": [],
   "source": []
  },
  {
   "cell_type": "code",
   "execution_count": null,
   "metadata": {},
   "outputs": [],
   "source": []
  },
  {
   "cell_type": "code",
   "execution_count": null,
   "metadata": {},
   "outputs": [],
   "source": []
  },
  {
   "cell_type": "code",
   "execution_count": null,
   "metadata": {},
   "outputs": [],
   "source": []
  },
  {
   "cell_type": "code",
   "execution_count": null,
   "metadata": {},
   "outputs": [],
   "source": []
  },
  {
   "cell_type": "code",
   "execution_count": 64,
   "metadata": {},
   "outputs": [],
   "source": [
    "save_model(equal_model,sel_methods[3])"
   ]
  },
  {
   "cell_type": "markdown",
   "metadata": {},
   "source": [
    "<h3>Business only feature selected dataset<h3>"
   ]
  },
  {
   "cell_type": "code",
   "execution_count": null,
   "metadata": {},
   "outputs": [],
   "source": [
    "is_sample = False\n",
    "num_folds = 10\n",
    "args = {'clf__alpha':(0.1,0.2,0.3,0.4,0.5,0.6,0.7,0.8,0.9,1,1.1,1.2,1.3,1.4,1.5,1.6,1.7,1.8,1.9,2),\n",
    "        'clf__copy_X':(True,False),\n",
    "        'clf__fit_intercept':(True,False),\n",
    "        'clf__normalize':(True,False),\n",
    "        'clf__positive':(True,False),\n",
    "        'clf__selection':('cyclic','random'),\n",
    "        'clf__l1_ratio':(0.1,0.2,0.3,0.4,0.5,0.6,0.7,0.8,0.9),\n",
    "        'clf__random_state':([7]),\n",
    "        'clf__tol':(0.001, 0.005,0.01,0.02,0.04,0.06,0.08,0.1,0.2,0.3,0.4,0.5,0.6,0.7,0.8,0.9,1)}"
   ]
  },
  {
   "cell_type": "code",
   "execution_count": null,
   "metadata": {},
   "outputs": [],
   "source": [
    "bus_model, bus_train_score, bus_mse, bus_mae, bus_r2 = get_best_model(sel_methods[4], args, num_folds, is_sample)"
   ]
  },
  {
   "cell_type": "code",
   "execution_count": null,
   "metadata": {},
   "outputs": [],
   "source": []
  },
  {
   "cell_type": "code",
   "execution_count": null,
   "metadata": {},
   "outputs": [],
   "source": []
  },
  {
   "cell_type": "code",
   "execution_count": null,
   "metadata": {},
   "outputs": [],
   "source": []
  },
  {
   "cell_type": "code",
   "execution_count": null,
   "metadata": {},
   "outputs": [],
   "source": []
  },
  {
   "cell_type": "code",
   "execution_count": null,
   "metadata": {},
   "outputs": [],
   "source": []
  },
  {
   "cell_type": "code",
   "execution_count": null,
   "metadata": {},
   "outputs": [],
   "source": []
  },
  {
   "cell_type": "code",
   "execution_count": 65,
   "metadata": {},
   "outputs": [],
   "source": [
    "save_model(bus_model,sel_methods[4])"
   ]
  },
  {
   "cell_type": "markdown",
   "metadata": {},
   "source": [
    "<h3>Visualise scores<h3>"
   ]
  },
  {
   "cell_type": "code",
   "execution_count": 70,
   "metadata": {},
   "outputs": [],
   "source": [
    "training_scores = [f_reg_train_score, chi2_train_score, ada_train_score, equal_train_score, bus_train_score]\n",
    "mse_scores = [f_reg_mse, chi2_mse, ada_mse, equal_mse, bus_mse]\n",
    "mae_scores = [f_reg_mae, chi2_mae, ada_mae, equal_mae, bus_mae]\n",
    "r2_scores = [f_reg_r2, chi2_r2, ada_r2, equal_r2, bus_r2]\n",
    "datasets = [\"F-Regression\",\"Chi-Squared\",\"AdaBoost\",\"Equal Business\\nand Crime\",\"All Business\"]\n",
    "y_select = np.arange(len(datasets))"
   ]
  },
  {
   "cell_type": "code",
   "execution_count": 10,
   "metadata": {
    "scrolled": true
   },
   "outputs": [
    {
     "ename": "NameError",
     "evalue": "name 'plt' is not defined",
     "output_type": "error",
     "traceback": [
      "\u001b[1;31m---------------------------------------------------------------------------\u001b[0m",
      "\u001b[1;31mNameError\u001b[0m                                 Traceback (most recent call last)",
      "\u001b[1;32m<ipython-input-10-b81721c760ea>\u001b[0m in \u001b[0;36m<module>\u001b[1;34m\u001b[0m\n\u001b[1;32m----> 1\u001b[1;33m \u001b[0mplt\u001b[0m\u001b[1;33m.\u001b[0m\u001b[0mfigure\u001b[0m\u001b[1;33m(\u001b[0m\u001b[0mfigsize\u001b[0m \u001b[1;33m=\u001b[0m \u001b[1;33m(\u001b[0m\u001b[1;36m10\u001b[0m\u001b[1;33m,\u001b[0m\u001b[1;36m10\u001b[0m\u001b[1;33m)\u001b[0m\u001b[1;33m)\u001b[0m\u001b[1;33m\u001b[0m\u001b[1;33m\u001b[0m\u001b[0m\n\u001b[0m\u001b[0;32m      2\u001b[0m \u001b[0mplt\u001b[0m\u001b[1;33m.\u001b[0m\u001b[0mxticks\u001b[0m\u001b[1;33m(\u001b[0m\u001b[0my_select\u001b[0m\u001b[1;33m,\u001b[0m\u001b[0mdatasets\u001b[0m\u001b[1;33m)\u001b[0m\u001b[1;33m\u001b[0m\u001b[1;33m\u001b[0m\u001b[0m\n\u001b[0;32m      3\u001b[0m \u001b[0mplt\u001b[0m\u001b[1;33m.\u001b[0m\u001b[0mtitle\u001b[0m\u001b[1;33m(\u001b[0m\u001b[1;34m\"Decision tree training score\"\u001b[0m\u001b[1;33m)\u001b[0m\u001b[1;33m\u001b[0m\u001b[1;33m\u001b[0m\u001b[0m\n\u001b[0;32m      4\u001b[0m \u001b[0mplt\u001b[0m\u001b[1;33m.\u001b[0m\u001b[0mxlabel\u001b[0m\u001b[1;33m(\u001b[0m\u001b[1;34m\"Dataset\"\u001b[0m\u001b[1;33m)\u001b[0m\u001b[1;33m\u001b[0m\u001b[1;33m\u001b[0m\u001b[0m\n\u001b[0;32m      5\u001b[0m \u001b[0mplt\u001b[0m\u001b[1;33m.\u001b[0m\u001b[0mylabel\u001b[0m\u001b[1;33m(\u001b[0m\u001b[1;34m\"Training score (r-squared)\"\u001b[0m\u001b[1;33m)\u001b[0m\u001b[1;33m\u001b[0m\u001b[1;33m\u001b[0m\u001b[0m\n",
      "\u001b[1;31mNameError\u001b[0m: name 'plt' is not defined"
     ]
    }
   ],
   "source": [
    "plt.figure(figsize = (10,10))\n",
    "plt.xticks(y_select,datasets)\n",
    "plt.title(\"Decision tree training score\")\n",
    "plt.xlabel(\"Dataset\")\n",
    "plt.ylabel(\"Training score (r-squared)\")\n",
    "plt.bar(y_select, training_scores)"
   ]
  },
  {
   "cell_type": "code",
   "execution_count": 11,
   "metadata": {},
   "outputs": [
    {
     "ename": "NameError",
     "evalue": "name 'plt' is not defined",
     "output_type": "error",
     "traceback": [
      "\u001b[1;31m---------------------------------------------------------------------------\u001b[0m",
      "\u001b[1;31mNameError\u001b[0m                                 Traceback (most recent call last)",
      "\u001b[1;32m<ipython-input-11-66508d61f5b0>\u001b[0m in \u001b[0;36m<module>\u001b[1;34m\u001b[0m\n\u001b[1;32m----> 1\u001b[1;33m \u001b[0mplt\u001b[0m\u001b[1;33m.\u001b[0m\u001b[0mfigure\u001b[0m\u001b[1;33m(\u001b[0m\u001b[0mfigsize\u001b[0m \u001b[1;33m=\u001b[0m \u001b[1;33m(\u001b[0m\u001b[1;36m10\u001b[0m\u001b[1;33m,\u001b[0m\u001b[1;36m10\u001b[0m\u001b[1;33m)\u001b[0m\u001b[1;33m)\u001b[0m\u001b[1;33m\u001b[0m\u001b[1;33m\u001b[0m\u001b[0m\n\u001b[0m\u001b[0;32m      2\u001b[0m \u001b[0mplt\u001b[0m\u001b[1;33m.\u001b[0m\u001b[0mxticks\u001b[0m\u001b[1;33m(\u001b[0m\u001b[0my_select\u001b[0m\u001b[1;33m,\u001b[0m\u001b[0mdatasets\u001b[0m\u001b[1;33m)\u001b[0m\u001b[1;33m\u001b[0m\u001b[1;33m\u001b[0m\u001b[0m\n\u001b[0;32m      3\u001b[0m \u001b[0mplt\u001b[0m\u001b[1;33m.\u001b[0m\u001b[0mtitle\u001b[0m\u001b[1;33m(\u001b[0m\u001b[1;34m\"Decision tree testing mean-squared error\"\u001b[0m\u001b[1;33m)\u001b[0m\u001b[1;33m\u001b[0m\u001b[1;33m\u001b[0m\u001b[0m\n\u001b[0;32m      4\u001b[0m \u001b[0mplt\u001b[0m\u001b[1;33m.\u001b[0m\u001b[0mxlabel\u001b[0m\u001b[1;33m(\u001b[0m\u001b[1;34m\"Dataset\"\u001b[0m\u001b[1;33m)\u001b[0m\u001b[1;33m\u001b[0m\u001b[1;33m\u001b[0m\u001b[0m\n\u001b[0;32m      5\u001b[0m \u001b[0mplt\u001b[0m\u001b[1;33m.\u001b[0m\u001b[0mylabel\u001b[0m\u001b[1;33m(\u001b[0m\u001b[1;34m\"Mean-squared error\"\u001b[0m\u001b[1;33m)\u001b[0m\u001b[1;33m\u001b[0m\u001b[1;33m\u001b[0m\u001b[0m\n",
      "\u001b[1;31mNameError\u001b[0m: name 'plt' is not defined"
     ]
    }
   ],
   "source": [
    "plt.figure(figsize = (10,10))\n",
    "plt.xticks(y_select,datasets)\n",
    "plt.title(\"Decision tree testing mean-squared error\")\n",
    "plt.xlabel(\"Dataset\")\n",
    "plt.ylabel(\"Mean-squared error\")\n",
    "plt.bar(y_select, mse_scores)"
   ]
  },
  {
   "cell_type": "code",
   "execution_count": 12,
   "metadata": {},
   "outputs": [
    {
     "ename": "NameError",
     "evalue": "name 'plt' is not defined",
     "output_type": "error",
     "traceback": [
      "\u001b[1;31m---------------------------------------------------------------------------\u001b[0m",
      "\u001b[1;31mNameError\u001b[0m                                 Traceback (most recent call last)",
      "\u001b[1;32m<ipython-input-12-850f28f3b4ee>\u001b[0m in \u001b[0;36m<module>\u001b[1;34m\u001b[0m\n\u001b[1;32m----> 1\u001b[1;33m \u001b[0mplt\u001b[0m\u001b[1;33m.\u001b[0m\u001b[0mfigure\u001b[0m\u001b[1;33m(\u001b[0m\u001b[0mfigsize\u001b[0m \u001b[1;33m=\u001b[0m \u001b[1;33m(\u001b[0m\u001b[1;36m10\u001b[0m\u001b[1;33m,\u001b[0m\u001b[1;36m10\u001b[0m\u001b[1;33m)\u001b[0m\u001b[1;33m)\u001b[0m\u001b[1;33m\u001b[0m\u001b[1;33m\u001b[0m\u001b[0m\n\u001b[0m\u001b[0;32m      2\u001b[0m \u001b[0mplt\u001b[0m\u001b[1;33m.\u001b[0m\u001b[0mxticks\u001b[0m\u001b[1;33m(\u001b[0m\u001b[0my_select\u001b[0m\u001b[1;33m,\u001b[0m\u001b[0mdatasets\u001b[0m\u001b[1;33m)\u001b[0m\u001b[1;33m\u001b[0m\u001b[1;33m\u001b[0m\u001b[0m\n\u001b[0;32m      3\u001b[0m \u001b[0mplt\u001b[0m\u001b[1;33m.\u001b[0m\u001b[0mtitle\u001b[0m\u001b[1;33m(\u001b[0m\u001b[1;34m\"Decision tree testing mean-absolute error\"\u001b[0m\u001b[1;33m)\u001b[0m\u001b[1;33m\u001b[0m\u001b[1;33m\u001b[0m\u001b[0m\n\u001b[0;32m      4\u001b[0m \u001b[0mplt\u001b[0m\u001b[1;33m.\u001b[0m\u001b[0mxlabel\u001b[0m\u001b[1;33m(\u001b[0m\u001b[1;34m\"Dataset\"\u001b[0m\u001b[1;33m)\u001b[0m\u001b[1;33m\u001b[0m\u001b[1;33m\u001b[0m\u001b[0m\n\u001b[0;32m      5\u001b[0m \u001b[0mplt\u001b[0m\u001b[1;33m.\u001b[0m\u001b[0mylabel\u001b[0m\u001b[1;33m(\u001b[0m\u001b[1;34m\"Mean absolute error\"\u001b[0m\u001b[1;33m)\u001b[0m\u001b[1;33m\u001b[0m\u001b[1;33m\u001b[0m\u001b[0m\n",
      "\u001b[1;31mNameError\u001b[0m: name 'plt' is not defined"
     ]
    }
   ],
   "source": [
    "plt.figure(figsize = (10,10))\n",
    "plt.xticks(y_select,datasets)\n",
    "plt.title(\"Decision tree testing mean-absolute error\")\n",
    "plt.xlabel(\"Dataset\")\n",
    "plt.ylabel(\"Mean absolute error\")\n",
    "plt.bar(y_select, mae_scores)"
   ]
  },
  {
   "cell_type": "code",
   "execution_count": 13,
   "metadata": {},
   "outputs": [
    {
     "ename": "NameError",
     "evalue": "name 'plt' is not defined",
     "output_type": "error",
     "traceback": [
      "\u001b[1;31m---------------------------------------------------------------------------\u001b[0m",
      "\u001b[1;31mNameError\u001b[0m                                 Traceback (most recent call last)",
      "\u001b[1;32m<ipython-input-13-9a1d9bae6a4e>\u001b[0m in \u001b[0;36m<module>\u001b[1;34m\u001b[0m\n\u001b[1;32m----> 1\u001b[1;33m \u001b[0mplt\u001b[0m\u001b[1;33m.\u001b[0m\u001b[0mfigure\u001b[0m\u001b[1;33m(\u001b[0m\u001b[0mfigsize\u001b[0m \u001b[1;33m=\u001b[0m \u001b[1;33m(\u001b[0m\u001b[1;36m10\u001b[0m\u001b[1;33m,\u001b[0m\u001b[1;36m10\u001b[0m\u001b[1;33m)\u001b[0m\u001b[1;33m)\u001b[0m\u001b[1;33m\u001b[0m\u001b[1;33m\u001b[0m\u001b[0m\n\u001b[0m\u001b[0;32m      2\u001b[0m \u001b[0mplt\u001b[0m\u001b[1;33m.\u001b[0m\u001b[0mxticks\u001b[0m\u001b[1;33m(\u001b[0m\u001b[0my_select\u001b[0m\u001b[1;33m,\u001b[0m\u001b[0mdatasets\u001b[0m\u001b[1;33m)\u001b[0m\u001b[1;33m\u001b[0m\u001b[1;33m\u001b[0m\u001b[0m\n\u001b[0;32m      3\u001b[0m \u001b[0mplt\u001b[0m\u001b[1;33m.\u001b[0m\u001b[0mtitle\u001b[0m\u001b[1;33m(\u001b[0m\u001b[1;34m\"Decision tree testing r-squared scores\"\u001b[0m\u001b[1;33m)\u001b[0m\u001b[1;33m\u001b[0m\u001b[1;33m\u001b[0m\u001b[0m\n\u001b[0;32m      4\u001b[0m \u001b[0mplt\u001b[0m\u001b[1;33m.\u001b[0m\u001b[0mxlabel\u001b[0m\u001b[1;33m(\u001b[0m\u001b[1;34m\"Dataset\"\u001b[0m\u001b[1;33m)\u001b[0m\u001b[1;33m\u001b[0m\u001b[1;33m\u001b[0m\u001b[0m\n\u001b[0;32m      5\u001b[0m \u001b[0mplt\u001b[0m\u001b[1;33m.\u001b[0m\u001b[0mylabel\u001b[0m\u001b[1;33m(\u001b[0m\u001b[1;34m\"R-Squared Score\"\u001b[0m\u001b[1;33m)\u001b[0m\u001b[1;33m\u001b[0m\u001b[1;33m\u001b[0m\u001b[0m\n",
      "\u001b[1;31mNameError\u001b[0m: name 'plt' is not defined"
     ]
    }
   ],
   "source": [
    "plt.figure(figsize = (10,10))\n",
    "plt.xticks(y_select,datasets)\n",
    "plt.title(\"Decision tree testing r-squared scores\")\n",
    "plt.xlabel(\"Dataset\")\n",
    "plt.ylabel(\"R-Squared Score\")\n",
    "plt.bar(y_select, r2_scores)"
   ]
  }
 ],
 "metadata": {
  "kernelspec": {
   "display_name": "Python 3",
   "language": "python",
   "name": "python3"
  },
  "language_info": {
   "codemirror_mode": {
    "name": "ipython",
    "version": 3
   },
   "file_extension": ".py",
   "mimetype": "text/x-python",
   "name": "python",
   "nbconvert_exporter": "python",
   "pygments_lexer": "ipython3",
   "version": "3.9.0"
  }
 },
 "nbformat": 4,
 "nbformat_minor": 4
}
