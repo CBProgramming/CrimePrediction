{
 "cells": [
  {
   "cell_type": "code",
   "execution_count": 1,
   "metadata": {},
   "outputs": [],
   "source": [
    "import numpy as np\n",
    "from numpy import arange\n",
    "import pandas as pd\n",
    "import matplotlib.pyplot as plt\n",
    "%matplotlib inline\n",
    "import sklearn\n",
    "from sklearn.metrics import mean_squared_error, r2_score, mean_absolute_error\n",
    "from sklearn.pipeline import Pipeline\n",
    "from sklearn.model_selection import GridSearchCV\n",
    "import pickle"
   ]
  },
  {
   "cell_type": "code",
   "execution_count": 2,
   "metadata": {},
   "outputs": [],
   "source": [
    "from sklearn.linear_model import ElasticNet"
   ]
  },
  {
   "cell_type": "code",
   "execution_count": 3,
   "metadata": {},
   "outputs": [],
   "source": [
    "model_name = \"elastic_net\"\n",
    "display_name = \"Elastic Net\""
   ]
  },
  {
   "cell_type": "code",
   "execution_count": 4,
   "metadata": {},
   "outputs": [],
   "source": [
    "y_test = pd.read_csv('y_test.csv')\n",
    "file = open(\"Selection Methods\",\"rb\")\n",
    "sel_methods = np.load(file)"
   ]
  },
  {
   "cell_type": "code",
   "execution_count": 5,
   "metadata": {},
   "outputs": [],
   "source": [
    "# train and test model\n",
    "def get_best_model(method, args, _cv, is_sample):\n",
    "    sample_string = ''\n",
    "    if (is_sample):\n",
    "        sample_string = '_sample'\n",
    "    y_train = pd.read_csv('y_train'+ sample_string + '.csv')    \n",
    "    method_string = method\n",
    "    if (method == ''):\n",
    "        method_string = \"no feature selection\"\n",
    "    print('\\n\\nRunning cross fold validation for',display_name,'with',method_string,'dataset')\n",
    "    x_train = pd.read_csv('x_train' + method + sample_string + '.csv').values\n",
    "    x_test = pd.read_csv('x_test' + method + '.csv').values\n",
    "    pipe = Pipeline([('clf', ElasticNet())])\n",
    "    grid = GridSearchCV(pipe, args, cv = _cv, verbose = 1, scoring = 'r2', n_jobs=6)\n",
    "    grid.fit(x_train, y_train.values.ravel())\n",
    "    print('\\nBest score for',display_name,'with',method_string,\"dataset:\",grid.best_score_)\n",
    "    best_args = grid.best_estimator_.get_params()\n",
    "    print('\\nBest hyperparameters for',display_name,'with',method_string,'dataset:')\n",
    "    for arg in best_args:\n",
    "        print(arg,\":\",best_args[arg])\n",
    "    y_test_predict = grid.predict(x_test)\n",
    "    mse = mean_squared_error(y_test,y_test_predict)\n",
    "    mae = mean_absolute_error(y_test,y_test_predict)\n",
    "    r2 = r2_score(y_test,y_test_predict)\n",
    "    print('\\nPrediction scores for',display_name,'using',method_string,':')\n",
    "    print('Mean Squared error:',mse)\n",
    "    print('Mean Absolute error:',mae)\n",
    "    print('R^2:',r2)\n",
    "    return grid.best_estimator_,grid.best_score_,mse,mae,r2"
   ]
  },
  {
   "cell_type": "code",
   "execution_count": 6,
   "metadata": {},
   "outputs": [],
   "source": [
    "# save model\n",
    "def save_model(model,method):\n",
    "    with open('CrimeGUI/Models/'+model_name+method,'wb') as file:\n",
    "        pickle.dump(model,file)"
   ]
  },
  {
   "cell_type": "markdown",
   "metadata": {},
   "source": [
    "<h3>F-Regression feature selected dataset<h3>"
   ]
  },
  {
   "cell_type": "code",
   "execution_count": 12,
   "metadata": {},
   "outputs": [],
   "source": [
    "is_sample = False\n",
    "num_folds = 10\n",
    "args = {'clf__alpha':(0.1,0.2,0.3,0.4,0.5,0.6,0.7,0.8,0.9,1,1.1,1.2,1.3,1.4,1.5,1.6,1.7,1.8,1.9,2),\n",
    "        'clf__copy_X':(True,False),\n",
    "        'clf__fit_intercept':(True,False),\n",
    "        'clf__normalize':(True,False),\n",
    "        'clf__positive':(True,False),\n",
    "        'clf__selection':('cyclic','random'),\n",
    "        'clf__l1_ratio':(0.1,0.2,0.3,0.4,0.5,0.6,0.7,0.8,0.9),\n",
    "        'clf__random_state':([7]),\n",
    "        'clf__tol':(0.001, 0.005,0.01,0.02,0.04,0.06,0.08,0.1,0.2,0.3,0.4,0.5,0.6,0.7,0.8,0.9,1)}"
   ]
  },
  {
   "cell_type": "code",
   "execution_count": 13,
   "metadata": {},
   "outputs": [
    {
     "name": "stdout",
     "output_type": "stream",
     "text": [
      "\n",
      "\n",
      "Running cross fold validation for Elastic Net with _f_regression dataset\n",
      "Fitting 10 folds for each of 97920 candidates, totalling 979200 fits\n"
     ]
    },
    {
     "name": "stderr",
     "output_type": "stream",
     "text": [
      "[Parallel(n_jobs=6)]: Using backend LokyBackend with 6 concurrent workers.\n",
      "[Parallel(n_jobs=6)]: Done  40 tasks      | elapsed:    1.4s\n",
      "[Parallel(n_jobs=6)]: Done 1132 tasks      | elapsed:    7.0s\n",
      "[Parallel(n_jobs=6)]: Done 3132 tasks      | elapsed:   16.5s\n",
      "[Parallel(n_jobs=6)]: Done 5932 tasks      | elapsed:   29.4s\n",
      "[Parallel(n_jobs=6)]: Done 9532 tasks      | elapsed:   46.2s\n",
      "[Parallel(n_jobs=6)]: Done 13932 tasks      | elapsed:  1.1min\n",
      "[Parallel(n_jobs=6)]: Done 19132 tasks      | elapsed:  1.5min\n",
      "[Parallel(n_jobs=6)]: Done 25132 tasks      | elapsed:  2.0min\n",
      "[Parallel(n_jobs=6)]: Done 31932 tasks      | elapsed:  2.6min\n",
      "[Parallel(n_jobs=6)]: Done 39532 tasks      | elapsed:  3.1min\n",
      "[Parallel(n_jobs=6)]: Done 47932 tasks      | elapsed:  3.7min\n",
      "[Parallel(n_jobs=6)]: Done 57132 tasks      | elapsed:  4.4min\n",
      "[Parallel(n_jobs=6)]: Done 67132 tasks      | elapsed:  5.3min\n",
      "[Parallel(n_jobs=6)]: Done 77932 tasks      | elapsed:  6.2min\n",
      "[Parallel(n_jobs=6)]: Done 89532 tasks      | elapsed:  7.1min\n",
      "[Parallel(n_jobs=6)]: Done 101932 tasks      | elapsed:  8.1min\n",
      "[Parallel(n_jobs=6)]: Done 115132 tasks      | elapsed:  9.1min\n",
      "[Parallel(n_jobs=6)]: Done 129132 tasks      | elapsed: 10.2min\n",
      "[Parallel(n_jobs=6)]: Done 143932 tasks      | elapsed: 11.3min\n",
      "[Parallel(n_jobs=6)]: Done 159532 tasks      | elapsed: 12.5min\n",
      "[Parallel(n_jobs=6)]: Done 175932 tasks      | elapsed: 13.8min\n",
      "[Parallel(n_jobs=6)]: Done 193132 tasks      | elapsed: 15.0min\n",
      "[Parallel(n_jobs=6)]: Done 211132 tasks      | elapsed: 16.5min\n",
      "[Parallel(n_jobs=6)]: Done 229932 tasks      | elapsed: 18.0min\n",
      "[Parallel(n_jobs=6)]: Done 249532 tasks      | elapsed: 19.4min\n",
      "[Parallel(n_jobs=6)]: Done 269932 tasks      | elapsed: 21.0min\n",
      "[Parallel(n_jobs=6)]: Done 291132 tasks      | elapsed: 22.5min\n",
      "[Parallel(n_jobs=6)]: Done 313132 tasks      | elapsed: 24.2min\n",
      "[Parallel(n_jobs=6)]: Done 335932 tasks      | elapsed: 25.9min\n",
      "[Parallel(n_jobs=6)]: Done 359532 tasks      | elapsed: 27.6min\n",
      "[Parallel(n_jobs=6)]: Done 383932 tasks      | elapsed: 29.5min\n",
      "[Parallel(n_jobs=6)]: Done 409132 tasks      | elapsed: 31.3min\n",
      "[Parallel(n_jobs=6)]: Done 435132 tasks      | elapsed: 33.3min\n",
      "[Parallel(n_jobs=6)]: Done 461932 tasks      | elapsed: 35.3min\n",
      "[Parallel(n_jobs=6)]: Done 489532 tasks      | elapsed: 37.4min\n",
      "[Parallel(n_jobs=6)]: Done 517932 tasks      | elapsed: 39.7min\n",
      "[Parallel(n_jobs=6)]: Done 547132 tasks      | elapsed: 41.9min\n",
      "[Parallel(n_jobs=6)]: Done 577132 tasks      | elapsed: 44.3min\n",
      "[Parallel(n_jobs=6)]: Done 607932 tasks      | elapsed: 46.7min\n",
      "[Parallel(n_jobs=6)]: Done 639532 tasks      | elapsed: 49.1min\n",
      "[Parallel(n_jobs=6)]: Done 671932 tasks      | elapsed: 51.6min\n",
      "[Parallel(n_jobs=6)]: Done 705132 tasks      | elapsed: 54.0min\n",
      "[Parallel(n_jobs=6)]: Done 739132 tasks      | elapsed: 56.5min\n",
      "[Parallel(n_jobs=6)]: Done 773932 tasks      | elapsed: 59.1min\n",
      "[Parallel(n_jobs=6)]: Done 809532 tasks      | elapsed: 61.7min\n",
      "[Parallel(n_jobs=6)]: Done 845932 tasks      | elapsed: 64.4min\n",
      "[Parallel(n_jobs=6)]: Done 883132 tasks      | elapsed: 67.2min\n",
      "[Parallel(n_jobs=6)]: Done 921132 tasks      | elapsed: 70.0min\n",
      "[Parallel(n_jobs=6)]: Done 959932 tasks      | elapsed: 72.9min\n",
      "[Parallel(n_jobs=6)]: Done 979200 out of 979200 | elapsed: 74.2min finished\n"
     ]
    },
    {
     "name": "stdout",
     "output_type": "stream",
     "text": [
      "\n",
      "Best score for Elastic Net with _f_regression dataset: 0.5614682772686381\n",
      "\n",
      "Best hyperparameters for Elastic Net with _f_regression dataset:\n",
      "memory : None\n",
      "steps : [('clf', ElasticNet(alpha=0.1, fit_intercept=False, l1_ratio=0.9, normalize=True,\n",
      "           positive=True, random_state=7, selection='random', tol=0.9))]\n",
      "verbose : False\n",
      "clf : ElasticNet(alpha=0.1, fit_intercept=False, l1_ratio=0.9, normalize=True,\n",
      "           positive=True, random_state=7, selection='random', tol=0.9)\n",
      "clf__alpha : 0.1\n",
      "clf__copy_X : True\n",
      "clf__fit_intercept : False\n",
      "clf__l1_ratio : 0.9\n",
      "clf__max_iter : 1000\n",
      "clf__normalize : True\n",
      "clf__positive : True\n",
      "clf__precompute : False\n",
      "clf__random_state : 7\n",
      "clf__selection : random\n",
      "clf__tol : 0.9\n",
      "clf__warm_start : False\n",
      "\n",
      "Prediction scores for Elastic Net using _f_regression :\n",
      "Mean Squared error: 8.488073356509641\n",
      "Mean Absolute error: 1.540361034917549\n",
      "R^2: 0.5645410092297589\n"
     ]
    }
   ],
   "source": [
    "f_reg_model, f_reg_train_score, f_reg_mse, f_reg_mae, f_reg_r2 = get_best_model(sel_methods[0], args, num_folds, is_sample)"
   ]
  },
  {
   "cell_type": "code",
   "execution_count": 25,
   "metadata": {},
   "outputs": [],
   "source": [
    "#poor accuracy, extended parameters\n",
    "is_sample = False\n",
    "num_folds = 10\n",
    "args = {'clf__alpha':(0.00001, 0.0001, 0.001, 0.001, 0.01, 0.0, 1.0, 10.0, 100.0),\n",
    "        'clf__copy_X':(True,False),\n",
    "        'clf__fit_intercept':(True,False),\n",
    "        'clf__normalize':(True,False),\n",
    "        'clf__positive':(True,False),\n",
    "        'clf__selection':('cyclic','random'),\n",
    "        'clf__l1_ratio':(arange(0, 5, 0.2)),\n",
    "        'clf__random_state':([7]),\n",
    "        'clf__tol':(0.1, 0.3, 0.5, 0.7, 1)}"
   ]
  },
  {
   "cell_type": "code",
   "execution_count": 26,
   "metadata": {},
   "outputs": [
    {
     "name": "stdout",
     "output_type": "stream",
     "text": [
      "\n",
      "\n",
      "Running cross fold validation for Elastic Net with _f_regression dataset\n",
      "Fitting 10 folds for each of 36000 candidates, totalling 360000 fits\n"
     ]
    },
    {
     "name": "stderr",
     "output_type": "stream",
     "text": [
      "[Parallel(n_jobs=6)]: Using backend LokyBackend with 6 concurrent workers.\n",
      "[Parallel(n_jobs=6)]: Done  40 tasks      | elapsed:    2.1s\n",
      "[Parallel(n_jobs=6)]: Done 389 tasks      | elapsed:   15.4s\n",
      "[Parallel(n_jobs=6)]: Done 1356 tasks      | elapsed:   22.2s\n",
      "[Parallel(n_jobs=6)]: Done 2756 tasks      | elapsed:   31.0s\n",
      "[Parallel(n_jobs=6)]: Done 4454 tasks      | elapsed:   47.7s\n",
      "[Parallel(n_jobs=6)]: Done 6282 tasks      | elapsed:  1.9min\n",
      "[Parallel(n_jobs=6)]: Done 8051 tasks      | elapsed:  4.2min\n",
      "[Parallel(n_jobs=6)]: Done 9715 tasks      | elapsed:  7.3min\n",
      "[Parallel(n_jobs=6)]: Done 15618 tasks      | elapsed:  8.1min\n",
      "[Parallel(n_jobs=6)]: Done 21434 tasks      | elapsed:  8.8min\n",
      "[Parallel(n_jobs=6)]: Done 25276 tasks      | elapsed:  9.6min\n",
      "[Parallel(n_jobs=6)]: Done 28278 tasks      | elapsed: 13.2min\n",
      "[Parallel(n_jobs=6)]: Done 33970 tasks      | elapsed: 16.3min\n",
      "[Parallel(n_jobs=6)]: Done 42344 tasks      | elapsed: 17.2min\n",
      "[Parallel(n_jobs=6)]: Done 45252 tasks      | elapsed: 21.8min\n",
      "[Parallel(n_jobs=6)]: Done 49796 tasks      | elapsed: 24.7min\n",
      "[Parallel(n_jobs=6)]: Done 56396 tasks      | elapsed: 25.3min\n",
      "[Parallel(n_jobs=6)]: Done 62865 tasks      | elapsed: 26.6min\n",
      "[Parallel(n_jobs=6)]: Done 66613 tasks      | elapsed: 33.2min\n",
      "[Parallel(n_jobs=6)]: Done 77128 tasks      | elapsed: 34.4min\n",
      "[Parallel(n_jobs=6)]: Done 86046 tasks      | elapsed: 36.8min\n",
      "[Parallel(n_jobs=6)]: Done 94570 tasks      | elapsed: 40.2min\n",
      "[Parallel(n_jobs=6)]: Done 100658 tasks      | elapsed: 45.3min\n",
      "[Parallel(n_jobs=6)]: Done 109938 tasks      | elapsed: 49.8min\n",
      "[Parallel(n_jobs=6)]: Done 119409 tasks      | elapsed: 54.1min\n",
      "[Parallel(n_jobs=6)]: Done 128078 tasks      | elapsed: 58.1min\n",
      "[Parallel(n_jobs=6)]: Done 137502 tasks      | elapsed: 61.9min\n",
      "[Parallel(n_jobs=6)]: Done 146435 tasks      | elapsed: 67.2min\n",
      "[Parallel(n_jobs=6)]: Done 157688 tasks      | elapsed: 71.9min\n",
      "[Parallel(n_jobs=6)]: Done 165558 tasks      | elapsed: 80.3min\n",
      "[Parallel(n_jobs=6)]: Done 173354 tasks      | elapsed: 90.1min\n",
      "[Parallel(n_jobs=6)]: Done 176504 tasks      | elapsed: 100.5min\n",
      "[Parallel(n_jobs=6)]: Done 179754 tasks      | elapsed: 111.4min\n",
      "[Parallel(n_jobs=6)]: Done 188041 tasks      | elapsed: 121.6min\n",
      "[Parallel(n_jobs=6)]: Done 195200 tasks      | elapsed: 133.3min\n",
      "[Parallel(n_jobs=6)]: Done 198750 tasks      | elapsed: 144.6min\n",
      "[Parallel(n_jobs=6)]: Done 205003 tasks      | elapsed: 151.7min\n",
      "[Parallel(n_jobs=6)]: Done 216116 tasks      | elapsed: 154.8min\n",
      "[Parallel(n_jobs=6)]: Done 226401 tasks      | elapsed: 158.4min\n",
      "[Parallel(n_jobs=6)]: Done 246484 tasks      | elapsed: 162.1min\n",
      "[Parallel(n_jobs=6)]: Done 273304 tasks      | elapsed: 165.9min\n",
      "[Parallel(n_jobs=6)]: Done 301152 tasks      | elapsed: 169.8min\n",
      "[Parallel(n_jobs=6)]: Done 330168 tasks      | elapsed: 173.5min\n",
      "[Parallel(n_jobs=6)]: Done 360000 out of 360000 | elapsed: 177.3min finished\n",
      "c:\\users\\chris\\appdata\\local\\programs\\python\\python39\\lib\\site-packages\\sklearn\\model_selection\\_search.py:813: RuntimeWarning: invalid value encountered in subtract\n",
      "  array_stds = np.sqrt(np.average((array -\n",
      "c:\\users\\chris\\appdata\\local\\programs\\python\\python39\\lib\\site-packages\\sklearn\\model_selection\\_search.py:813: RuntimeWarning: overflow encountered in square\n",
      "  array_stds = np.sqrt(np.average((array -\n"
     ]
    },
    {
     "name": "stdout",
     "output_type": "stream",
     "text": [
      "\n",
      "Best score for Elastic Net with _f_regression dataset: 0.7440300478556641\n",
      "\n",
      "Best hyperparameters for Elastic Net with _f_regression dataset:\n",
      "memory : None\n",
      "steps : [('clf', ElasticNet(alpha=0.0001, l1_ratio=0.0, random_state=7, tol=0.1))]\n",
      "verbose : False\n",
      "clf : ElasticNet(alpha=0.0001, l1_ratio=0.0, random_state=7, tol=0.1)\n",
      "clf__alpha : 0.0001\n",
      "clf__copy_X : True\n",
      "clf__fit_intercept : True\n",
      "clf__l1_ratio : 0.0\n",
      "clf__max_iter : 1000\n",
      "clf__normalize : False\n",
      "clf__positive : False\n",
      "clf__precompute : False\n",
      "clf__random_state : 7\n",
      "clf__selection : cyclic\n",
      "clf__tol : 0.1\n",
      "clf__warm_start : False\n",
      "\n",
      "Prediction scores for Elastic Net using _f_regression :\n",
      "Mean Squared error: 4.841407678763893\n",
      "Mean Absolute error: 1.3794726052389663\n",
      "R^2: 0.7516239064916915\n"
     ]
    },
    {
     "name": "stderr",
     "output_type": "stream",
     "text": [
      "c:\\users\\chris\\appdata\\local\\programs\\python\\python39\\lib\\site-packages\\sklearn\\linear_model\\_coordinate_descent.py:529: ConvergenceWarning: Objective did not converge. You might want to increase the number of iterations. Duality gap: 110758.68175381658, tolerance: 85840.63711908861\n",
      "  model = cd_fast.enet_coordinate_descent(\n"
     ]
    }
   ],
   "source": [
    "f_reg_model, f_reg_train_score, f_reg_mse, f_reg_mae, f_reg_r2 = get_best_model(sel_methods[0], args, num_folds, is_sample)"
   ]
  },
  {
   "cell_type": "code",
   "execution_count": 8,
   "metadata": {},
   "outputs": [],
   "source": [
    "#fine tuning of parameters parameters\n",
    "is_sample = False\n",
    "num_folds = 10\n",
    "args = {'clf__alpha':(0.00005, 0.0001, 0.00015, 0.0002, 0.00025),\n",
    "        'clf__copy_X':(True,False),\n",
    "        'clf__fit_intercept':(True,False),\n",
    "        'clf__normalize':(True,False),\n",
    "        'clf__positive':(True,False),\n",
    "        'clf__selection':('cyclic','random'),\n",
    "        'clf__l1_ratio':(arange(0, 0.2, 0.05)),\n",
    "        'clf__random_state':([7]),\n",
    "        'clf__tol':(0.05,0.06,0.07,0.08,0.09,0.1,0.11,0.12,0.13,0.14,0.14)}"
   ]
  },
  {
   "cell_type": "code",
   "execution_count": 9,
   "metadata": {
    "scrolled": false
   },
   "outputs": [
    {
     "name": "stdout",
     "output_type": "stream",
     "text": [
      "\n",
      "\n",
      "Running cross fold validation for Elastic Net with _f_regression dataset\n",
      "Fitting 10 folds for each of 7040 candidates, totalling 70400 fits\n"
     ]
    },
    {
     "name": "stderr",
     "output_type": "stream",
     "text": [
      "[Parallel(n_jobs=6)]: Using backend LokyBackend with 6 concurrent workers.\n",
      "[Parallel(n_jobs=6)]: Done  43 tasks      | elapsed:    1.8s\n",
      "[Parallel(n_jobs=6)]: Done 296 tasks      | elapsed:   30.7s\n",
      "[Parallel(n_jobs=6)]: Done 630 tasks      | elapsed:  1.2min\n",
      "[Parallel(n_jobs=6)]: Done 1526 tasks      | elapsed:  1.9min\n",
      "[Parallel(n_jobs=6)]: Done 3326 tasks      | elapsed:  2.2min\n",
      "[Parallel(n_jobs=6)]: Done 4542 tasks      | elapsed:  3.3min\n",
      "[Parallel(n_jobs=6)]: Done 7142 tasks      | elapsed:  3.8min\n",
      "[Parallel(n_jobs=6)]: Done 8912 tasks      | elapsed:  5.7min\n",
      "[Parallel(n_jobs=6)]: Done 11748 tasks      | elapsed:  7.0min\n",
      "[Parallel(n_jobs=6)]: Done 14618 tasks      | elapsed:  8.5min\n",
      "[Parallel(n_jobs=6)]: Done 18031 tasks      | elapsed: 10.1min\n",
      "[Parallel(n_jobs=6)]: Done 21576 tasks      | elapsed: 12.1min\n",
      "[Parallel(n_jobs=6)]: Done 25460 tasks      | elapsed: 14.1min\n",
      "[Parallel(n_jobs=6)]: Done 29242 tasks      | elapsed: 16.8min\n",
      "[Parallel(n_jobs=6)]: Done 35520 tasks      | elapsed: 19.5min\n",
      "[Parallel(n_jobs=6)]: Done 42339 tasks      | elapsed: 22.9min\n",
      "[Parallel(n_jobs=6)]: Done 47858 tasks      | elapsed: 26.2min\n",
      "[Parallel(n_jobs=6)]: Done 52812 tasks      | elapsed: 29.1min\n",
      "[Parallel(n_jobs=6)]: Done 57850 tasks      | elapsed: 32.8min\n",
      "[Parallel(n_jobs=6)]: Done 64196 tasks      | elapsed: 36.9min\n",
      "[Parallel(n_jobs=6)]: Done 70400 out of 70400 | elapsed: 38.9min finished\n"
     ]
    },
    {
     "name": "stdout",
     "output_type": "stream",
     "text": [
      "\n",
      "Best score for Elastic Net with _f_regression dataset: 0.7440699158288866\n",
      "\n",
      "Best hyperparameters for Elastic Net with _f_regression dataset:\n",
      "memory : None\n",
      "steps : [('clf', ElasticNet(alpha=0.00025, l1_ratio=0.0, random_state=7, tol=0.13))]\n",
      "verbose : False\n",
      "clf : ElasticNet(alpha=0.00025, l1_ratio=0.0, random_state=7, tol=0.13)\n",
      "clf__alpha : 0.00025\n",
      "clf__copy_X : True\n",
      "clf__fit_intercept : True\n",
      "clf__l1_ratio : 0.0\n",
      "clf__max_iter : 1000\n",
      "clf__normalize : False\n",
      "clf__positive : False\n",
      "clf__precompute : False\n",
      "clf__random_state : 7\n",
      "clf__selection : cyclic\n",
      "clf__tol : 0.13\n",
      "clf__warm_start : False\n",
      "\n",
      "Prediction scores for Elastic Net using _f_regression :\n",
      "Mean Squared error: 4.841623587093962\n",
      "Mean Absolute error: 1.3804843913274787\n",
      "R^2: 0.7516128298645747\n"
     ]
    },
    {
     "name": "stderr",
     "output_type": "stream",
     "text": [
      "c:\\users\\chris\\appdata\\local\\programs\\python\\python39\\lib\\site-packages\\sklearn\\linear_model\\_coordinate_descent.py:529: ConvergenceWarning: Objective did not converge. You might want to increase the number of iterations. Duality gap: 112417.50344139934, tolerance: 111592.8282548152\n",
      "  model = cd_fast.enet_coordinate_descent(\n"
     ]
    }
   ],
   "source": [
    "f_reg_model, f_reg_train_score, f_reg_mse, f_reg_mae, f_reg_r2 = get_best_model(sel_methods[0], args, num_folds, is_sample)"
   ]
  },
  {
   "cell_type": "code",
   "execution_count": 8,
   "metadata": {},
   "outputs": [],
   "source": [
    "# minor decrease in test accuracy, model saved to prevent overfitting\n",
    "is_sample = False\n",
    "num_folds = 10\n",
    "args = {'clf__alpha':([0.00025]),\n",
    "        'clf__copy_X':([True]),\n",
    "        'clf__fit_intercept':([True]),\n",
    "        'clf__normalize':([False]),\n",
    "        'clf__positive':([False]),\n",
    "        'clf__selection':(['cyclic']),\n",
    "        'clf__l1_ratio':([0.0]),\n",
    "        'clf__random_state':([7]),\n",
    "        'clf__tol':([0.13])}"
   ]
  },
  {
   "cell_type": "code",
   "execution_count": 9,
   "metadata": {},
   "outputs": [
    {
     "name": "stdout",
     "output_type": "stream",
     "text": [
      "\n",
      "\n",
      "Running cross fold validation for Elastic Net with _f_regression dataset\n",
      "Fitting 10 folds for each of 1 candidates, totalling 10 fits\n"
     ]
    },
    {
     "name": "stderr",
     "output_type": "stream",
     "text": [
      "[Parallel(n_jobs=6)]: Using backend LokyBackend with 6 concurrent workers.\n",
      "[Parallel(n_jobs=6)]: Done  10 out of  10 | elapsed:    4.0s remaining:    0.0s\n",
      "[Parallel(n_jobs=6)]: Done  10 out of  10 | elapsed:    4.0s finished\n"
     ]
    },
    {
     "name": "stdout",
     "output_type": "stream",
     "text": [
      "\n",
      "Best score for Elastic Net with _f_regression dataset: 0.7440699158288866\n",
      "\n",
      "Best hyperparameters for Elastic Net with _f_regression dataset:\n",
      "memory : None\n",
      "steps : [('clf', ElasticNet(alpha=0.00025, l1_ratio=0.0, random_state=7, tol=0.13))]\n",
      "verbose : False\n",
      "clf : ElasticNet(alpha=0.00025, l1_ratio=0.0, random_state=7, tol=0.13)\n",
      "clf__alpha : 0.00025\n",
      "clf__copy_X : True\n",
      "clf__fit_intercept : True\n",
      "clf__l1_ratio : 0.0\n",
      "clf__max_iter : 1000\n",
      "clf__normalize : False\n",
      "clf__positive : False\n",
      "clf__precompute : False\n",
      "clf__random_state : 7\n",
      "clf__selection : cyclic\n",
      "clf__tol : 0.13\n",
      "clf__warm_start : False\n",
      "\n",
      "Prediction scores for Elastic Net using _f_regression :\n",
      "Mean Squared error: 4.841623587093962\n",
      "Mean Absolute error: 1.3804843913274787\n",
      "R^2: 0.7516128298645747\n"
     ]
    },
    {
     "name": "stderr",
     "output_type": "stream",
     "text": [
      "c:\\users\\chris\\appdata\\local\\programs\\python\\python39\\lib\\site-packages\\sklearn\\linear_model\\_coordinate_descent.py:529: ConvergenceWarning: Objective did not converge. You might want to increase the number of iterations. Duality gap: 112417.50344139934, tolerance: 111592.8282548152\n",
      "  model = cd_fast.enet_coordinate_descent(\n"
     ]
    }
   ],
   "source": [
    "f_reg_model, f_reg_train_score, f_reg_mse, f_reg_mae, f_reg_r2 = get_best_model(sel_methods[0], args, num_folds, is_sample)"
   ]
  },
  {
   "cell_type": "code",
   "execution_count": 10,
   "metadata": {},
   "outputs": [],
   "source": [
    "save_model(f_reg_model,sel_methods[0])"
   ]
  },
  {
   "cell_type": "markdown",
   "metadata": {},
   "source": [
    "<h3>Chi-Squared feature selected dataset<h3>"
   ]
  },
  {
   "cell_type": "code",
   "execution_count": 14,
   "metadata": {},
   "outputs": [],
   "source": [
    "is_sample = False\n",
    "num_folds = 10\n",
    "args = {'clf__alpha':(0.1,0.2,0.3,0.4,0.5,0.6,0.7,0.8,0.9,1,1.1,1.2,1.3,1.4,1.5,1.6,1.7,1.8,1.9,2),\n",
    "        'clf__copy_X':(True,False),\n",
    "        'clf__fit_intercept':(True,False),\n",
    "        'clf__normalize':(True,False),\n",
    "        'clf__positive':(True,False),\n",
    "        'clf__selection':('cyclic','random'),\n",
    "        'clf__l1_ratio':(0.1,0.2,0.3,0.4,0.5,0.6,0.7,0.8,0.9),\n",
    "        'clf__random_state':([7]),\n",
    "        'clf__tol':(0.001, 0.005,0.01,0.02,0.04,0.06,0.08,0.1,0.2,0.3,0.4,0.5,0.6,0.7,0.8,0.9,1)}"
   ]
  },
  {
   "cell_type": "code",
   "execution_count": 15,
   "metadata": {},
   "outputs": [
    {
     "name": "stdout",
     "output_type": "stream",
     "text": [
      "\n",
      "\n",
      "Running cross fold validation for Elastic Net with _chi2 dataset\n",
      "Fitting 10 folds for each of 97920 candidates, totalling 979200 fits\n"
     ]
    },
    {
     "name": "stderr",
     "output_type": "stream",
     "text": [
      "[Parallel(n_jobs=6)]: Using backend LokyBackend with 6 concurrent workers.\n",
      "[Parallel(n_jobs=6)]: Done 100 tasks      | elapsed:    0.7s\n",
      "[Parallel(n_jobs=6)]: Done 1300 tasks      | elapsed:    6.9s\n",
      "[Parallel(n_jobs=6)]: Done 3300 tasks      | elapsed:   16.5s\n",
      "[Parallel(n_jobs=6)]: Done 6100 tasks      | elapsed:   29.8s\n",
      "[Parallel(n_jobs=6)]: Done 9700 tasks      | elapsed:   47.1s\n",
      "[Parallel(n_jobs=6)]: Done 14100 tasks      | elapsed:  1.1min\n",
      "[Parallel(n_jobs=6)]: Done 19300 tasks      | elapsed:  1.6min\n",
      "[Parallel(n_jobs=6)]: Done 25300 tasks      | elapsed:  2.0min\n",
      "[Parallel(n_jobs=6)]: Done 32100 tasks      | elapsed:  2.6min\n",
      "[Parallel(n_jobs=6)]: Done 39700 tasks      | elapsed:  3.2min\n",
      "[Parallel(n_jobs=6)]: Done 48100 tasks      | elapsed:  3.7min\n",
      "[Parallel(n_jobs=6)]: Done 57300 tasks      | elapsed:  4.4min\n",
      "[Parallel(n_jobs=6)]: Done 67300 tasks      | elapsed:  5.2min\n",
      "[Parallel(n_jobs=6)]: Done 78100 tasks      | elapsed:  6.0min\n",
      "[Parallel(n_jobs=6)]: Done 89700 tasks      | elapsed:  6.9min\n",
      "[Parallel(n_jobs=6)]: Done 102100 tasks      | elapsed:  7.8min\n",
      "[Parallel(n_jobs=6)]: Done 115300 tasks      | elapsed:  8.8min\n",
      "[Parallel(n_jobs=6)]: Done 129300 tasks      | elapsed:  9.9min\n",
      "[Parallel(n_jobs=6)]: Done 144100 tasks      | elapsed: 11.0min\n",
      "[Parallel(n_jobs=6)]: Done 159700 tasks      | elapsed: 12.2min\n",
      "[Parallel(n_jobs=6)]: Done 176100 tasks      | elapsed: 13.5min\n",
      "[Parallel(n_jobs=6)]: Done 193300 tasks      | elapsed: 14.7min\n",
      "[Parallel(n_jobs=6)]: Done 211300 tasks      | elapsed: 16.1min\n",
      "[Parallel(n_jobs=6)]: Done 230100 tasks      | elapsed: 17.5min\n",
      "[Parallel(n_jobs=6)]: Done 249700 tasks      | elapsed: 18.9min\n",
      "[Parallel(n_jobs=6)]: Done 270100 tasks      | elapsed: 20.4min\n",
      "[Parallel(n_jobs=6)]: Done 291300 tasks      | elapsed: 21.9min\n",
      "[Parallel(n_jobs=6)]: Done 313300 tasks      | elapsed: 23.6min\n",
      "[Parallel(n_jobs=6)]: Done 336100 tasks      | elapsed: 25.3min\n",
      "[Parallel(n_jobs=6)]: Done 359700 tasks      | elapsed: 27.0min\n",
      "[Parallel(n_jobs=6)]: Done 384100 tasks      | elapsed: 28.8min\n",
      "[Parallel(n_jobs=6)]: Done 409300 tasks      | elapsed: 30.6min\n",
      "[Parallel(n_jobs=6)]: Done 435300 tasks      | elapsed: 32.6min\n",
      "[Parallel(n_jobs=6)]: Done 462100 tasks      | elapsed: 34.5min\n",
      "[Parallel(n_jobs=6)]: Done 489700 tasks      | elapsed: 36.5min\n",
      "[Parallel(n_jobs=6)]: Done 518100 tasks      | elapsed: 38.6min\n",
      "[Parallel(n_jobs=6)]: Done 547300 tasks      | elapsed: 40.8min\n",
      "[Parallel(n_jobs=6)]: Done 577300 tasks      | elapsed: 43.1min\n",
      "[Parallel(n_jobs=6)]: Done 608100 tasks      | elapsed: 45.4min\n",
      "[Parallel(n_jobs=6)]: Done 639700 tasks      | elapsed: 47.7min\n",
      "[Parallel(n_jobs=6)]: Done 672100 tasks      | elapsed: 50.2min\n",
      "[Parallel(n_jobs=6)]: Done 705300 tasks      | elapsed: 52.7min\n",
      "[Parallel(n_jobs=6)]: Done 739300 tasks      | elapsed: 55.2min\n",
      "[Parallel(n_jobs=6)]: Done 774100 tasks      | elapsed: 57.9min\n",
      "[Parallel(n_jobs=6)]: Done 809700 tasks      | elapsed: 60.5min\n",
      "[Parallel(n_jobs=6)]: Done 846100 tasks      | elapsed: 63.3min\n",
      "[Parallel(n_jobs=6)]: Done 883300 tasks      | elapsed: 66.0min\n",
      "[Parallel(n_jobs=6)]: Done 921300 tasks      | elapsed: 68.9min\n",
      "[Parallel(n_jobs=6)]: Done 960100 tasks      | elapsed: 71.7min\n",
      "[Parallel(n_jobs=6)]: Done 979189 out of 979200 | elapsed: 73.0min remaining:    0.0s\n",
      "[Parallel(n_jobs=6)]: Done 979200 out of 979200 | elapsed: 73.0min finished\n"
     ]
    },
    {
     "name": "stdout",
     "output_type": "stream",
     "text": [
      "\n",
      "Best score for Elastic Net with _chi2 dataset: 0.5162854607402666\n",
      "\n",
      "Best hyperparameters for Elastic Net with _chi2 dataset:\n",
      "memory : None\n",
      "steps : [('clf', ElasticNet(alpha=0.1, fit_intercept=False, l1_ratio=0.9, normalize=True,\n",
      "           positive=True, random_state=7, tol=0.6))]\n",
      "verbose : False\n",
      "clf : ElasticNet(alpha=0.1, fit_intercept=False, l1_ratio=0.9, normalize=True,\n",
      "           positive=True, random_state=7, tol=0.6)\n",
      "clf__alpha : 0.1\n",
      "clf__copy_X : True\n",
      "clf__fit_intercept : False\n",
      "clf__l1_ratio : 0.9\n",
      "clf__max_iter : 1000\n",
      "clf__normalize : True\n",
      "clf__positive : True\n",
      "clf__precompute : False\n",
      "clf__random_state : 7\n",
      "clf__selection : cyclic\n",
      "clf__tol : 0.6\n",
      "clf__warm_start : False\n",
      "\n",
      "Prediction scores for Elastic Net using _chi2 :\n",
      "Mean Squared error: 9.34086411453992\n",
      "Mean Absolute error: 1.6182698690898771\n",
      "R^2: 0.5207907508103667\n"
     ]
    }
   ],
   "source": [
    "chi2_model, chi2_train_score, chi2_mse, chi2_mae, chi2_r2 = get_best_model(sel_methods[1], args, num_folds, is_sample)"
   ]
  },
  {
   "cell_type": "code",
   "execution_count": 27,
   "metadata": {},
   "outputs": [],
   "source": [
    "#poor accuracy, extended parameters\n",
    "is_sample = False\n",
    "num_folds = 10\n",
    "args = {'clf__alpha':(0.00001, 0.0001, 0.001, 0.001, 0.01, 0.0, 1.0, 10.0, 100.0),\n",
    "        'clf__copy_X':(True,False),\n",
    "        'clf__fit_intercept':(True,False),\n",
    "        'clf__normalize':(True,False),\n",
    "        'clf__positive':(True,False),\n",
    "        'clf__selection':('cyclic','random'),\n",
    "        'clf__l1_ratio':(arange(0, 5, 0.2)),\n",
    "        'clf__random_state':([7]),\n",
    "        'clf__tol':(0.1, 0.3, 0.5, 0.7, 1)}"
   ]
  },
  {
   "cell_type": "code",
   "execution_count": 28,
   "metadata": {},
   "outputs": [
    {
     "name": "stderr",
     "output_type": "stream",
     "text": [
      "[Parallel(n_jobs=6)]: Using backend LokyBackend with 6 concurrent workers.\n"
     ]
    },
    {
     "name": "stdout",
     "output_type": "stream",
     "text": [
      "\n",
      "\n",
      "Running cross fold validation for Elastic Net with _chi2 dataset\n",
      "Fitting 10 folds for each of 36000 candidates, totalling 360000 fits\n"
     ]
    },
    {
     "name": "stderr",
     "output_type": "stream",
     "text": [
      "[Parallel(n_jobs=6)]: Done 100 tasks      | elapsed:    0.7s\n",
      "[Parallel(n_jobs=6)]: Done 706 tasks      | elapsed:   12.9s\n",
      "[Parallel(n_jobs=6)]: Done 1710 tasks      | elapsed:   18.7s\n",
      "[Parallel(n_jobs=6)]: Done 3110 tasks      | elapsed:   26.0s\n",
      "[Parallel(n_jobs=6)]: Done 4984 tasks      | elapsed:   50.5s\n",
      "[Parallel(n_jobs=6)]: Done 6606 tasks      | elapsed:  1.9min\n",
      "[Parallel(n_jobs=6)]: Done 8084 tasks      | elapsed:  3.9min\n",
      "[Parallel(n_jobs=6)]: Done 9443 tasks      | elapsed:  6.3min\n",
      "[Parallel(n_jobs=6)]: Done 12174 tasks      | elapsed:  7.3min\n",
      "[Parallel(n_jobs=6)]: Done 15974 tasks      | elapsed:  7.7min\n",
      "[Parallel(n_jobs=6)]: Done 20174 tasks      | elapsed:  8.1min\n",
      "[Parallel(n_jobs=6)]: Done 24528 tasks      | elapsed:  8.7min\n",
      "[Parallel(n_jobs=6)]: Done 28184 tasks      | elapsed: 12.2min\n",
      "[Parallel(n_jobs=6)]: Done 32872 tasks      | elapsed: 15.4min\n",
      "[Parallel(n_jobs=6)]: Done 42748 tasks      | elapsed: 16.6min\n",
      "[Parallel(n_jobs=6)]: Done 46886 tasks      | elapsed: 20.6min\n",
      "[Parallel(n_jobs=6)]: Done 56008 tasks      | elapsed: 21.5min\n",
      "[Parallel(n_jobs=6)]: Done 64224 tasks      | elapsed: 25.3min\n",
      "[Parallel(n_jobs=6)]: Done 71076 tasks      | elapsed: 27.1min\n",
      "[Parallel(n_jobs=6)]: Done 82984 tasks      | elapsed: 28.4min\n",
      "[Parallel(n_jobs=6)]: Done 91902 tasks      | elapsed: 31.1min\n",
      "[Parallel(n_jobs=6)]: Done 99356 tasks      | elapsed: 33.2min\n",
      "[Parallel(n_jobs=6)]: Done 108438 tasks      | elapsed: 35.6min\n",
      "[Parallel(n_jobs=6)]: Done 118700 tasks      | elapsed: 38.8min\n",
      "[Parallel(n_jobs=6)]: Done 128120 tasks      | elapsed: 41.4min\n",
      "[Parallel(n_jobs=6)]: Done 137762 tasks      | elapsed: 44.3min\n",
      "[Parallel(n_jobs=6)]: Done 147582 tasks      | elapsed: 47.3min\n",
      "[Parallel(n_jobs=6)]: Done 159184 tasks      | elapsed: 51.0min\n",
      "[Parallel(n_jobs=6)]: Done 168262 tasks      | elapsed: 57.3min\n",
      "[Parallel(n_jobs=6)]: Done 176568 tasks      | elapsed: 66.0min\n",
      "[Parallel(n_jobs=6)]: Done 183356 tasks      | elapsed: 73.3min\n",
      "[Parallel(n_jobs=6)]: Done 192490 tasks      | elapsed: 82.1min\n",
      "[Parallel(n_jobs=6)]: Done 199434 tasks      | elapsed: 91.8min\n",
      "[Parallel(n_jobs=6)]: Done 206372 tasks      | elapsed: 97.2min\n",
      "[Parallel(n_jobs=6)]: Done 214008 tasks      | elapsed: 101.2min\n",
      "[Parallel(n_jobs=6)]: Done 222546 tasks      | elapsed: 105.7min\n",
      "[Parallel(n_jobs=6)]: Done 231994 tasks      | elapsed: 110.2min\n",
      "[Parallel(n_jobs=6)]: Done 243706 tasks      | elapsed: 115.3min\n",
      "[Parallel(n_jobs=6)]: Done 270366 tasks      | elapsed: 119.2min\n",
      "[Parallel(n_jobs=6)]: Done 298360 tasks      | elapsed: 122.5min\n",
      "[Parallel(n_jobs=6)]: Done 325732 tasks      | elapsed: 126.4min\n",
      "[Parallel(n_jobs=6)]: Done 353448 tasks      | elapsed: 130.4min\n",
      "[Parallel(n_jobs=6)]: Done 360000 out of 360000 | elapsed: 130.8min finished\n",
      "c:\\users\\chris\\appdata\\local\\programs\\python\\python39\\lib\\site-packages\\sklearn\\model_selection\\_search.py:813: RuntimeWarning: invalid value encountered in subtract\n",
      "  array_stds = np.sqrt(np.average((array -\n",
      "c:\\users\\chris\\appdata\\local\\programs\\python\\python39\\lib\\site-packages\\sklearn\\model_selection\\_search.py:813: RuntimeWarning: overflow encountered in square\n",
      "  array_stds = np.sqrt(np.average((array -\n",
      "c:\\users\\chris\\appdata\\local\\programs\\python\\python39\\lib\\site-packages\\sklearn\\pipeline.py:335: UserWarning: With alpha=0, this algorithm does not converge well. You are advised to use the LinearRegression estimator\n",
      "  self._final_estimator.fit(Xt, y, **fit_params_last_step)\n",
      "c:\\users\\chris\\appdata\\local\\programs\\python\\python39\\lib\\site-packages\\sklearn\\linear_model\\_coordinate_descent.py:529: UserWarning: Coordinate descent with no regularization may lead to unexpected results and is discouraged.\n",
      "  model = cd_fast.enet_coordinate_descent(\n"
     ]
    },
    {
     "name": "stdout",
     "output_type": "stream",
     "text": [
      "\n",
      "Best score for Elastic Net with _chi2 dataset: 0.7277697244837357\n",
      "\n",
      "Best hyperparameters for Elastic Net with _chi2 dataset:\n",
      "memory : None\n",
      "steps : [('clf', ElasticNet(alpha=0.0, l1_ratio=0.0, positive=True, random_state=7,\n",
      "           selection='random', tol=0.1))]\n",
      "verbose : False\n",
      "clf : ElasticNet(alpha=0.0, l1_ratio=0.0, positive=True, random_state=7,\n",
      "           selection='random', tol=0.1)\n",
      "clf__alpha : 0.0\n",
      "clf__copy_X : True\n",
      "clf__fit_intercept : True\n",
      "clf__l1_ratio : 0.0\n",
      "clf__max_iter : 1000\n",
      "clf__normalize : False\n",
      "clf__positive : True\n",
      "clf__precompute : False\n",
      "clf__random_state : 7\n",
      "clf__selection : random\n",
      "clf__tol : 0.1\n",
      "clf__warm_start : False\n",
      "\n",
      "Prediction scores for Elastic Net using _chi2 :\n",
      "Mean Squared error: 5.254872539600692\n",
      "Mean Absolute error: 1.4527229130594046\n",
      "R^2: 0.7304121445927596\n"
     ]
    }
   ],
   "source": [
    "chi2_model, chi2_train_score, chi2_mse, chi2_mae, chi2_r2 = get_best_model(sel_methods[1], args, num_folds, is_sample)"
   ]
  },
  {
   "cell_type": "code",
   "execution_count": 11,
   "metadata": {},
   "outputs": [],
   "source": [
    "#fine tuning of parameters parameters\n",
    "is_sample = False\n",
    "num_folds = 10\n",
    "args = {'clf__alpha':(0,0.000001,0.000002,0.000003,0.000004,0.000005),\n",
    "        'clf__copy_X':(True,False),\n",
    "        'clf__fit_intercept':(True,False),\n",
    "        'clf__normalize':(True,False),\n",
    "        'clf__positive':(True,False),\n",
    "        'clf__selection':('cyclic','random'),\n",
    "        'clf__l1_ratio':(0,0.000001,0.000002,0.000003,0.000004,0.000005),\n",
    "        'clf__random_state':([7]),\n",
    "        'clf__tol':(0.07,0.08,0.09,0.1,0.11,0.12)}"
   ]
  },
  {
   "cell_type": "code",
   "execution_count": 12,
   "metadata": {
    "scrolled": false
   },
   "outputs": [
    {
     "name": "stderr",
     "output_type": "stream",
     "text": [
      "[Parallel(n_jobs=6)]: Using backend LokyBackend with 6 concurrent workers.\n"
     ]
    },
    {
     "name": "stdout",
     "output_type": "stream",
     "text": [
      "\n",
      "\n",
      "Running cross fold validation for Elastic Net with _chi2 dataset\n",
      "Fitting 10 folds for each of 6912 candidates, totalling 69120 fits\n"
     ]
    },
    {
     "name": "stderr",
     "output_type": "stream",
     "text": [
      "[Parallel(n_jobs=6)]: Done  92 tasks      | elapsed:    0.7s\n",
      "[Parallel(n_jobs=6)]: Done 380 tasks      | elapsed:   39.3s\n",
      "[Parallel(n_jobs=6)]: Done 768 tasks      | elapsed:  1.6min\n",
      "[Parallel(n_jobs=6)]: Done 1418 tasks      | elapsed:  3.0min\n",
      "[Parallel(n_jobs=6)]: Done 2174 tasks      | elapsed:  4.8min\n",
      "[Parallel(n_jobs=6)]: Done 3114 tasks      | elapsed:  6.8min\n",
      "[Parallel(n_jobs=6)]: Done 4388 tasks      | elapsed:  8.7min\n",
      "[Parallel(n_jobs=6)]: Done 5906 tasks      | elapsed: 11.1min\n",
      "[Parallel(n_jobs=6)]: Done 7398 tasks      | elapsed: 14.8min\n",
      "[Parallel(n_jobs=6)]: Done 9080 tasks      | elapsed: 18.4min\n",
      "[Parallel(n_jobs=6)]: Done 11180 tasks      | elapsed: 21.7min\n",
      "[Parallel(n_jobs=6)]: Done 14466 tasks      | elapsed: 24.0min\n",
      "[Parallel(n_jobs=6)]: Done 17846 tasks      | elapsed: 26.3min\n",
      "[Parallel(n_jobs=6)]: Done 22766 tasks      | elapsed: 28.3min\n",
      "[Parallel(n_jobs=6)]: Done 27402 tasks      | elapsed: 31.1min\n",
      "[Parallel(n_jobs=6)]: Done 32516 tasks      | elapsed: 34.3min\n",
      "[Parallel(n_jobs=6)]: Done 37997 tasks      | elapsed: 37.6min\n",
      "[Parallel(n_jobs=6)]: Done 43722 tasks      | elapsed: 41.0min\n",
      "[Parallel(n_jobs=6)]: Done 50012 tasks      | elapsed: 44.5min\n",
      "[Parallel(n_jobs=6)]: Done 56708 tasks      | elapsed: 48.1min\n",
      "[Parallel(n_jobs=6)]: Done 63606 tasks      | elapsed: 52.4min\n",
      "[Parallel(n_jobs=6)]: Done 69120 out of 69120 | elapsed: 55.1min finished\n",
      "c:\\users\\chris\\appdata\\local\\programs\\python\\python39\\lib\\site-packages\\sklearn\\pipeline.py:335: UserWarning: With alpha=0, this algorithm does not converge well. You are advised to use the LinearRegression estimator\n",
      "  self._final_estimator.fit(Xt, y, **fit_params_last_step)\n",
      "c:\\users\\chris\\appdata\\local\\programs\\python\\python39\\lib\\site-packages\\sklearn\\linear_model\\_coordinate_descent.py:529: UserWarning: Coordinate descent with no regularization may lead to unexpected results and is discouraged.\n",
      "  model = cd_fast.enet_coordinate_descent(\n"
     ]
    },
    {
     "name": "stdout",
     "output_type": "stream",
     "text": [
      "\n",
      "Best score for Elastic Net with _chi2 dataset: 0.7277697244837357\n",
      "\n",
      "Best hyperparameters for Elastic Net with _chi2 dataset:\n",
      "memory : None\n",
      "steps : [('clf', ElasticNet(alpha=0, l1_ratio=0, positive=True, random_state=7,\n",
      "           selection='random', tol=0.07))]\n",
      "verbose : False\n",
      "clf : ElasticNet(alpha=0, l1_ratio=0, positive=True, random_state=7,\n",
      "           selection='random', tol=0.07)\n",
      "clf__alpha : 0\n",
      "clf__copy_X : True\n",
      "clf__fit_intercept : True\n",
      "clf__l1_ratio : 0\n",
      "clf__max_iter : 1000\n",
      "clf__normalize : False\n",
      "clf__positive : True\n",
      "clf__precompute : False\n",
      "clf__random_state : 7\n",
      "clf__selection : random\n",
      "clf__tol : 0.07\n",
      "clf__warm_start : False\n",
      "\n",
      "Prediction scores for Elastic Net using _chi2 :\n",
      "Mean Squared error: 5.254872539600692\n",
      "Mean Absolute error: 1.4527229130594046\n",
      "R^2: 0.7304121445927596\n"
     ]
    }
   ],
   "source": [
    "chi2_model, chi2_train_score, chi2_mse, chi2_mae, chi2_r2 = get_best_model(sel_methods[1], args, num_folds, is_sample)"
   ]
  },
  {
   "cell_type": "code",
   "execution_count": 11,
   "metadata": {},
   "outputs": [],
   "source": [
    "# hyperparameters shifted slightly but accuracies unchanged, model saved\n",
    "is_sample = False\n",
    "num_folds = 10\n",
    "args = {'clf__alpha':([0]),\n",
    "        'clf__copy_X':([True]),\n",
    "        'clf__fit_intercept':([True]),\n",
    "        'clf__normalize':([False]),\n",
    "        'clf__positive':([True]),\n",
    "        'clf__selection':(['random']),\n",
    "        'clf__l1_ratio':([0]),\n",
    "        'clf__random_state':([7]),\n",
    "        'clf__tol':([0.07])}"
   ]
  },
  {
   "cell_type": "code",
   "execution_count": 12,
   "metadata": {},
   "outputs": [
    {
     "name": "stdout",
     "output_type": "stream",
     "text": [
      "\n",
      "\n",
      "Running cross fold validation for Elastic Net with _chi2 dataset\n",
      "Fitting 10 folds for each of 1 candidates, totalling 10 fits\n"
     ]
    },
    {
     "name": "stderr",
     "output_type": "stream",
     "text": [
      "[Parallel(n_jobs=6)]: Using backend LokyBackend with 6 concurrent workers.\n",
      "[Parallel(n_jobs=6)]: Done  10 out of  10 | elapsed:    0.1s remaining:    0.0s\n",
      "[Parallel(n_jobs=6)]: Done  10 out of  10 | elapsed:    0.1s finished\n",
      "c:\\users\\chris\\appdata\\local\\programs\\python\\python39\\lib\\site-packages\\sklearn\\pipeline.py:335: UserWarning: With alpha=0, this algorithm does not converge well. You are advised to use the LinearRegression estimator\n",
      "  self._final_estimator.fit(Xt, y, **fit_params_last_step)\n",
      "c:\\users\\chris\\appdata\\local\\programs\\python\\python39\\lib\\site-packages\\sklearn\\linear_model\\_coordinate_descent.py:529: UserWarning: Coordinate descent with no regularization may lead to unexpected results and is discouraged.\n",
      "  model = cd_fast.enet_coordinate_descent(\n"
     ]
    },
    {
     "name": "stdout",
     "output_type": "stream",
     "text": [
      "\n",
      "Best score for Elastic Net with _chi2 dataset: 0.7277697244837357\n",
      "\n",
      "Best hyperparameters for Elastic Net with _chi2 dataset:\n",
      "memory : None\n",
      "steps : [('clf', ElasticNet(alpha=0, l1_ratio=0, positive=True, random_state=7,\n",
      "           selection='random', tol=0.07))]\n",
      "verbose : False\n",
      "clf : ElasticNet(alpha=0, l1_ratio=0, positive=True, random_state=7,\n",
      "           selection='random', tol=0.07)\n",
      "clf__alpha : 0\n",
      "clf__copy_X : True\n",
      "clf__fit_intercept : True\n",
      "clf__l1_ratio : 0\n",
      "clf__max_iter : 1000\n",
      "clf__normalize : False\n",
      "clf__positive : True\n",
      "clf__precompute : False\n",
      "clf__random_state : 7\n",
      "clf__selection : random\n",
      "clf__tol : 0.07\n",
      "clf__warm_start : False\n",
      "\n",
      "Prediction scores for Elastic Net using _chi2 :\n",
      "Mean Squared error: 5.254872539600692\n",
      "Mean Absolute error: 1.4527229130594046\n",
      "R^2: 0.7304121445927596\n"
     ]
    }
   ],
   "source": [
    "chi2_model, chi2_train_score, chi2_mse, chi2_mae, chi2_r2 = get_best_model(sel_methods[1], args, num_folds, is_sample)"
   ]
  },
  {
   "cell_type": "code",
   "execution_count": 13,
   "metadata": {},
   "outputs": [],
   "source": [
    "save_model(chi2_model,sel_methods[1])"
   ]
  },
  {
   "cell_type": "markdown",
   "metadata": {},
   "source": [
    "<h3>AdaBoost feature selected dataset<h3>"
   ]
  },
  {
   "cell_type": "code",
   "execution_count": 29,
   "metadata": {},
   "outputs": [],
   "source": [
    "is_sample = False\n",
    "num_folds = 10\n",
    "args = {'clf__alpha':(0.00001, 0.0001, 0.001, 0.001, 0.01, 0.0, 1.0, 10.0, 100.0),\n",
    "        'clf__copy_X':(True,False),\n",
    "        'clf__fit_intercept':(True,False),\n",
    "        'clf__normalize':(True,False),\n",
    "        'clf__positive':(True,False),\n",
    "        'clf__selection':('cyclic','random'),\n",
    "        'clf__l1_ratio':(arange(0, 5, 0.2)),\n",
    "        'clf__random_state':([7]),\n",
    "        'clf__tol':(0.1, 0.3, 0.5, 0.7, 1)}"
   ]
  },
  {
   "cell_type": "code",
   "execution_count": 30,
   "metadata": {},
   "outputs": [
    {
     "name": "stdout",
     "output_type": "stream",
     "text": [
      "\n",
      "\n",
      "Running cross fold validation for Elastic Net with _adaboost dataset\n",
      "Fitting 10 folds for each of 36000 candidates, totalling 360000 fits\n"
     ]
    },
    {
     "name": "stderr",
     "output_type": "stream",
     "text": [
      "[Parallel(n_jobs=6)]: Using backend LokyBackend with 6 concurrent workers.\n",
      "[Parallel(n_jobs=6)]: Done 108 tasks      | elapsed:    1.4s\n",
      "[Parallel(n_jobs=6)]: Done 706 tasks      | elapsed:   14.1s\n",
      "[Parallel(n_jobs=6)]: Done 1710 tasks      | elapsed:   20.2s\n",
      "[Parallel(n_jobs=6)]: Done 3110 tasks      | elapsed:   28.5s\n",
      "[Parallel(n_jobs=6)]: Done 4984 tasks      | elapsed:   53.4s\n",
      "[Parallel(n_jobs=6)]: Done 6576 tasks      | elapsed:  2.0min\n",
      "[Parallel(n_jobs=6)]: Done 8108 tasks      | elapsed:  4.2min\n",
      "[Parallel(n_jobs=6)]: Done 9568 tasks      | elapsed:  6.6min\n",
      "[Parallel(n_jobs=6)]: Done 15216 tasks      | elapsed:  7.7min\n",
      "[Parallel(n_jobs=6)]: Done 21494 tasks      | elapsed:  8.4min\n",
      "[Parallel(n_jobs=6)]: Done 25642 tasks      | elapsed:  9.2min\n",
      "[Parallel(n_jobs=6)]: Done 28449 tasks      | elapsed: 12.7min\n",
      "[Parallel(n_jobs=6)]: Done 33520 tasks      | elapsed: 15.6min\n",
      "[Parallel(n_jobs=6)]: Done 42200 tasks      | elapsed: 16.4min\n",
      "[Parallel(n_jobs=6)]: Done 45314 tasks      | elapsed: 21.4min\n",
      "[Parallel(n_jobs=6)]: Done 51938 tasks      | elapsed: 23.4min\n",
      "[Parallel(n_jobs=6)]: Done 58538 tasks      | elapsed: 24.0min\n",
      "[Parallel(n_jobs=6)]: Done 64218 tasks      | elapsed: 27.6min\n",
      "[Parallel(n_jobs=6)]: Done 71578 tasks      | elapsed: 31.5min\n",
      "[Parallel(n_jobs=6)]: Done 83666 tasks      | elapsed: 33.4min\n",
      "[Parallel(n_jobs=6)]: Done 91254 tasks      | elapsed: 36.4min\n",
      "[Parallel(n_jobs=6)]: Done 98778 tasks      | elapsed: 39.2min\n",
      "[Parallel(n_jobs=6)]: Done 108202 tasks      | elapsed: 43.2min\n",
      "[Parallel(n_jobs=6)]: Done 117918 tasks      | elapsed: 46.8min\n",
      "[Parallel(n_jobs=6)]: Done 127872 tasks      | elapsed: 51.5min\n",
      "[Parallel(n_jobs=6)]: Done 138502 tasks      | elapsed: 55.9min\n",
      "[Parallel(n_jobs=6)]: Done 149203 tasks      | elapsed: 61.1min\n",
      "[Parallel(n_jobs=6)]: Done 159968 tasks      | elapsed: 66.1min\n",
      "[Parallel(n_jobs=6)]: Done 169130 tasks      | elapsed: 73.5min\n",
      "[Parallel(n_jobs=6)]: Done 176432 tasks      | elapsed: 81.4min\n",
      "[Parallel(n_jobs=6)]: Done 183200 tasks      | elapsed: 89.8min\n",
      "[Parallel(n_jobs=6)]: Done 192968 tasks      | elapsed: 98.8min\n",
      "[Parallel(n_jobs=6)]: Done 199062 tasks      | elapsed: 108.4min\n",
      "[Parallel(n_jobs=6)]: Done 205490 tasks      | elapsed: 114.2min\n",
      "[Parallel(n_jobs=6)]: Done 220664 tasks      | elapsed: 117.7min\n",
      "[Parallel(n_jobs=6)]: Done 228840 tasks      | elapsed: 121.9min\n",
      "[Parallel(n_jobs=6)]: Done 251380 tasks      | elapsed: 125.2min\n",
      "[Parallel(n_jobs=6)]: Done 277714 tasks      | elapsed: 128.2min\n",
      "[Parallel(n_jobs=6)]: Done 303366 tasks      | elapsed: 131.9min\n",
      "[Parallel(n_jobs=6)]: Done 330364 tasks      | elapsed: 135.7min\n",
      "[Parallel(n_jobs=6)]: Done 358786 tasks      | elapsed: 139.0min\n",
      "[Parallel(n_jobs=6)]: Done 360000 out of 360000 | elapsed: 139.1min finished\n",
      "c:\\users\\chris\\appdata\\local\\programs\\python\\python39\\lib\\site-packages\\sklearn\\model_selection\\_search.py:813: RuntimeWarning: invalid value encountered in subtract\n",
      "  array_stds = np.sqrt(np.average((array -\n",
      "c:\\users\\chris\\appdata\\local\\programs\\python\\python39\\lib\\site-packages\\sklearn\\model_selection\\_search.py:813: RuntimeWarning: overflow encountered in square\n",
      "  array_stds = np.sqrt(np.average((array -\n"
     ]
    },
    {
     "name": "stdout",
     "output_type": "stream",
     "text": [
      "\n",
      "Best score for Elastic Net with _adaboost dataset: 0.741238992188728\n",
      "\n",
      "Best hyperparameters for Elastic Net with _adaboost dataset:\n",
      "memory : None\n",
      "steps : [('clf', ElasticNet(alpha=0.0001, l1_ratio=1.6, random_state=7, tol=0.1))]\n",
      "verbose : False\n",
      "clf : ElasticNet(alpha=0.0001, l1_ratio=1.6, random_state=7, tol=0.1)\n",
      "clf__alpha : 0.0001\n",
      "clf__copy_X : True\n",
      "clf__fit_intercept : True\n",
      "clf__l1_ratio : 1.6\n",
      "clf__max_iter : 1000\n",
      "clf__normalize : False\n",
      "clf__positive : False\n",
      "clf__precompute : False\n",
      "clf__random_state : 7\n",
      "clf__selection : cyclic\n",
      "clf__tol : 0.1\n",
      "clf__warm_start : False\n",
      "\n",
      "Prediction scores for Elastic Net using _adaboost :\n",
      "Mean Squared error: 4.970311483209978\n",
      "Mean Absolute error: 1.3915036639775946\n",
      "R^2: 0.7450108250263331\n"
     ]
    }
   ],
   "source": [
    "ada_model, ada_train_score, ada_mse, ada_mae, ada_r2 = get_best_model(sel_methods[2], args, num_folds, is_sample)"
   ]
  },
  {
   "cell_type": "code",
   "execution_count": 15,
   "metadata": {},
   "outputs": [],
   "source": [
    "# further hyperparameter exploration\n",
    "is_sample = False\n",
    "num_folds = 10\n",
    "args = {'clf__alpha':(0.00001, 0.0001, 0.001, 0.001, 0.01),\n",
    "        'clf__copy_X':(True,False),\n",
    "        'clf__fit_intercept':(True,False),\n",
    "        'clf__normalize':(True,False),\n",
    "        'clf__positive':(True,False),\n",
    "        'clf__selection':('cyclic','random'),\n",
    "        'clf__l1_ratio':(arange(0, 3, 0.2)),\n",
    "        'clf__random_state':([7]),\n",
    "        'clf__tol':(0.05,0.06,0.07,0.08,0.09,0.1,0.11,1.12,1.13,1.14,1.15)}"
   ]
  },
  {
   "cell_type": "code",
   "execution_count": 16,
   "metadata": {},
   "outputs": [
    {
     "name": "stdout",
     "output_type": "stream",
     "text": [
      "\n",
      "\n",
      "Running cross fold validation for Elastic Net with _adaboost dataset\n",
      "Fitting 10 folds for each of 26400 candidates, totalling 264000 fits\n"
     ]
    },
    {
     "name": "stderr",
     "output_type": "stream",
     "text": [
      "[Parallel(n_jobs=6)]: Using backend LokyBackend with 6 concurrent workers.\n",
      "[Parallel(n_jobs=6)]: Done  92 tasks      | elapsed:    2.5s\n",
      "[Parallel(n_jobs=6)]: Done 356 tasks      | elapsed:   35.4s\n",
      "[Parallel(n_jobs=6)]: Done 864 tasks      | elapsed:  1.4min\n",
      "[Parallel(n_jobs=6)]: Done 2222 tasks      | elapsed:  1.6min\n",
      "[Parallel(n_jobs=6)]: Done 4022 tasks      | elapsed:  1.8min\n",
      "[Parallel(n_jobs=6)]: Done 6222 tasks      | elapsed:  2.2min\n",
      "[Parallel(n_jobs=6)]: Done 8752 tasks      | elapsed:  2.7min\n",
      "[Parallel(n_jobs=6)]: Done 10928 tasks      | elapsed:  4.0min\n",
      "[Parallel(n_jobs=6)]: Done 13254 tasks      | elapsed:  5.2min\n",
      "[Parallel(n_jobs=6)]: Done 16508 tasks      | elapsed:  6.6min\n",
      "[Parallel(n_jobs=6)]: Done 20708 tasks      | elapsed:  7.2min\n",
      "[Parallel(n_jobs=6)]: Done 25308 tasks      | elapsed:  7.9min\n",
      "[Parallel(n_jobs=6)]: Done 29414 tasks      | elapsed:  9.8min\n",
      "[Parallel(n_jobs=6)]: Done 34694 tasks      | elapsed: 10.7min\n",
      "[Parallel(n_jobs=6)]: Done 39015 tasks      | elapsed: 12.9min\n",
      "[Parallel(n_jobs=6)]: Done 48010 tasks      | elapsed: 15.2min\n",
      "[Parallel(n_jobs=6)]: Done 56150 tasks      | elapsed: 17.6min\n",
      "[Parallel(n_jobs=6)]: Done 60726 tasks      | elapsed: 21.4min\n",
      "[Parallel(n_jobs=6)]: Done 63856 tasks      | elapsed: 27.1min\n",
      "[Parallel(n_jobs=6)]: Done 72022 tasks      | elapsed: 31.5min\n",
      "[Parallel(n_jobs=6)]: Done 80214 tasks      | elapsed: 34.0min\n",
      "[Parallel(n_jobs=6)]: Done 86600 tasks      | elapsed: 37.7min\n",
      "[Parallel(n_jobs=6)]: Done 90860 tasks      | elapsed: 44.4min\n",
      "[Parallel(n_jobs=6)]: Done 102486 tasks      | elapsed: 48.7min\n",
      "[Parallel(n_jobs=6)]: Done 113420 tasks      | elapsed: 53.0min\n",
      "[Parallel(n_jobs=6)]: Done 124376 tasks      | elapsed: 56.0min\n",
      "[Parallel(n_jobs=6)]: Done 135582 tasks      | elapsed: 59.8min\n",
      "[Parallel(n_jobs=6)]: Done 147046 tasks      | elapsed: 64.7min\n",
      "[Parallel(n_jobs=6)]: Done 161150 tasks      | elapsed: 68.8min\n",
      "[Parallel(n_jobs=6)]: Done 172278 tasks      | elapsed: 73.3min\n",
      "[Parallel(n_jobs=6)]: Done 184754 tasks      | elapsed: 76.3min\n",
      "[Parallel(n_jobs=6)]: Done 195335 tasks      | elapsed: 80.6min\n",
      "[Parallel(n_jobs=6)]: Done 211200 tasks      | elapsed: 85.4min\n",
      "[Parallel(n_jobs=6)]: Done 224684 tasks      | elapsed: 92.7min\n",
      "[Parallel(n_jobs=6)]: Done 234050 tasks      | elapsed: 100.4min\n",
      "[Parallel(n_jobs=6)]: Done 245505 tasks      | elapsed: 108.2min\n",
      "[Parallel(n_jobs=6)]: Done 258608 tasks      | elapsed: 116.7min\n",
      "[Parallel(n_jobs=6)]: Done 264000 out of 264000 | elapsed: 122.5min finished\n",
      "c:\\users\\chris\\appdata\\local\\programs\\python\\python39\\lib\\site-packages\\sklearn\\model_selection\\_search.py:813: RuntimeWarning: invalid value encountered in subtract\n",
      "  array_stds = np.sqrt(np.average((array -\n",
      "c:\\users\\chris\\appdata\\local\\programs\\python\\python39\\lib\\site-packages\\sklearn\\model_selection\\_search.py:813: RuntimeWarning: overflow encountered in square\n",
      "  array_stds = np.sqrt(np.average((array -\n",
      "c:\\users\\chris\\appdata\\local\\programs\\python\\python39\\lib\\site-packages\\numpy\\core\\_methods.py:160: RuntimeWarning: overflow encountered in reduce\n",
      "  ret = umr_sum(arr, axis, dtype, out, keepdims)\n"
     ]
    },
    {
     "name": "stdout",
     "output_type": "stream",
     "text": [
      "\n",
      "Best score for Elastic Net with _adaboost dataset: 0.7413227312940383\n",
      "\n",
      "Best hyperparameters for Elastic Net with _adaboost dataset:\n",
      "memory : None\n",
      "steps : [('clf', ElasticNet(alpha=0.0001, l1_ratio=1.6, random_state=7, selection='random',\n",
      "           tol=0.05))]\n",
      "verbose : False\n",
      "clf : ElasticNet(alpha=0.0001, l1_ratio=1.6, random_state=7, selection='random',\n",
      "           tol=0.05)\n",
      "clf__alpha : 0.0001\n",
      "clf__copy_X : True\n",
      "clf__fit_intercept : True\n",
      "clf__l1_ratio : 1.6\n",
      "clf__max_iter : 1000\n",
      "clf__normalize : False\n",
      "clf__positive : False\n",
      "clf__precompute : False\n",
      "clf__random_state : 7\n",
      "clf__selection : random\n",
      "clf__tol : 0.05\n",
      "clf__warm_start : False\n",
      "\n",
      "Prediction scores for Elastic Net using _adaboost :\n",
      "Mean Squared error: 4.9653582802656375\n",
      "Mean Absolute error: 1.3900598348458246\n",
      "R^2: 0.7452649364912828\n"
     ]
    }
   ],
   "source": [
    "ada_model, ada_train_score, ada_mse, ada_mae, ada_r2 = get_best_model(sel_methods[2], args, num_folds, is_sample)"
   ]
  },
  {
   "cell_type": "code",
   "execution_count": 14,
   "metadata": {},
   "outputs": [],
   "source": [
    "# further hyperparameter exploration\n",
    "is_sample = False\n",
    "num_folds = 10\n",
    "args = {'clf__alpha':(arange(0.00006, 0.00014, 0.00001)),\n",
    "        'clf__copy_X':(True,False),\n",
    "        'clf__fit_intercept':(True,False),\n",
    "        'clf__normalize':(True,False),\n",
    "        'clf__positive':(True,False),\n",
    "        'clf__selection':('cyclic','random'),\n",
    "        'clf__l1_ratio':(arange(1, 2, 0.05)),\n",
    "        'clf__random_state':([7]),\n",
    "        'clf__tol':(arange(0.01, 0.05, 0.01))}"
   ]
  },
  {
   "cell_type": "code",
   "execution_count": 15,
   "metadata": {
    "scrolled": false
   },
   "outputs": [
    {
     "name": "stdout",
     "output_type": "stream",
     "text": [
      "\n",
      "\n",
      "Running cross fold validation for Elastic Net with _adaboost dataset\n",
      "Fitting 10 folds for each of 20480 candidates, totalling 204800 fits\n"
     ]
    },
    {
     "name": "stderr",
     "output_type": "stream",
     "text": [
      "[Parallel(n_jobs=6)]: Using backend LokyBackend with 6 concurrent workers.\n",
      "[Parallel(n_jobs=6)]: Done  64 tasks      | elapsed:    0.6s\n",
      "[Parallel(n_jobs=6)]: Done 644 tasks      | elapsed:    7.5s\n",
      "[Parallel(n_jobs=6)]: Done 1194 tasks      | elapsed:   32.3s\n",
      "[Parallel(n_jobs=6)]: Done 2024 tasks      | elapsed:  1.2min\n",
      "[Parallel(n_jobs=6)]: Done 2972 tasks      | elapsed:  2.4min\n",
      "[Parallel(n_jobs=6)]: Done 3846 tasks      | elapsed:  4.0min\n",
      "[Parallel(n_jobs=6)]: Done 4892 tasks      | elapsed:  6.0min\n",
      "[Parallel(n_jobs=6)]: Done 6056 tasks      | elapsed:  7.9min\n",
      "[Parallel(n_jobs=6)]: Done 8964 tasks      | elapsed:  9.2min\n",
      "[Parallel(n_jobs=6)]: Done 12698 tasks      | elapsed: 10.2min\n",
      "[Parallel(n_jobs=6)]: Done 15314 tasks      | elapsed: 12.0min\n",
      "[Parallel(n_jobs=6)]: Done 17268 tasks      | elapsed: 15.6min\n",
      "[Parallel(n_jobs=6)]: Done 19352 tasks      | elapsed: 19.6min\n",
      "[Parallel(n_jobs=6)]: Done 24752 tasks      | elapsed: 21.2min\n",
      "[Parallel(n_jobs=6)]: Done 28344 tasks      | elapsed: 24.3min\n",
      "[Parallel(n_jobs=6)]: Done 30854 tasks      | elapsed: 29.6min\n",
      "[Parallel(n_jobs=6)]: Done 35654 tasks      | elapsed: 32.8min\n",
      "[Parallel(n_jobs=6)]: Done 40956 tasks      | elapsed: 35.8min\n",
      "[Parallel(n_jobs=6)]: Done 43922 tasks      | elapsed: 42.2min\n",
      "[Parallel(n_jobs=6)]: Done 50324 tasks      | elapsed: 45.5min\n",
      "[Parallel(n_jobs=6)]: Done 54906 tasks      | elapsed: 50.7min\n",
      "[Parallel(n_jobs=6)]: Done 59456 tasks      | elapsed: 56.5min\n",
      "[Parallel(n_jobs=6)]: Done 66452 tasks      | elapsed: 60.4min\n",
      "[Parallel(n_jobs=6)]: Done 70242 tasks      | elapsed: 68.4min\n",
      "[Parallel(n_jobs=6)]: Done 78554 tasks      | elapsed: 71.7min\n",
      "[Parallel(n_jobs=6)]: Done 82664 tasks      | elapsed: 80.1min\n",
      "[Parallel(n_jobs=6)]: Done 91110 tasks      | elapsed: 83.8min\n",
      "[Parallel(n_jobs=6)]: Done 95606 tasks      | elapsed: 92.4min\n",
      "[Parallel(n_jobs=6)]: Done 104510 tasks      | elapsed: 96.9min\n",
      "[Parallel(n_jobs=6)]: Done 109968 tasks      | elapsed: 105.4min\n",
      "[Parallel(n_jobs=6)]: Done 118318 tasks      | elapsed: 110.9min\n",
      "[Parallel(n_jobs=6)]: Done 126116 tasks      | elapsed: 117.9min\n",
      "[Parallel(n_jobs=6)]: Done 132696 tasks      | elapsed: 125.4min\n",
      "[Parallel(n_jobs=6)]: Done 142478 tasks      | elapsed: 131.1min\n",
      "[Parallel(n_jobs=6)]: Done 149102 tasks      | elapsed: 139.9min\n",
      "[Parallel(n_jobs=6)]: Done 157914 tasks      | elapsed: 147.7min\n",
      "[Parallel(n_jobs=6)]: Done 167930 tasks      | elapsed: 153.9min\n",
      "[Parallel(n_jobs=6)]: Done 175676 tasks      | elapsed: 163.5min\n",
      "[Parallel(n_jobs=6)]: Done 184392 tasks      | elapsed: 172.7min\n",
      "[Parallel(n_jobs=6)]: Done 195002 tasks      | elapsed: 180.6min\n",
      "[Parallel(n_jobs=6)]: Done 204800 out of 204800 | elapsed: 187.8min finished\n",
      "c:\\users\\chris\\appdata\\local\\programs\\python\\python39\\lib\\site-packages\\sklearn\\model_selection\\_search.py:813: RuntimeWarning: invalid value encountered in subtract\n",
      "  array_stds = np.sqrt(np.average((array -\n",
      "c:\\users\\chris\\appdata\\local\\programs\\python\\python39\\lib\\site-packages\\sklearn\\model_selection\\_search.py:813: RuntimeWarning: overflow encountered in square\n",
      "  array_stds = np.sqrt(np.average((array -\n"
     ]
    },
    {
     "name": "stdout",
     "output_type": "stream",
     "text": [
      "\n",
      "Best score for Elastic Net with _adaboost dataset: 0.7413672411662648\n",
      "\n",
      "Best hyperparameters for Elastic Net with _adaboost dataset:\n",
      "memory : None\n",
      "steps : [('clf', ElasticNet(alpha=8.000000000000002e-05, l1_ratio=1.7500000000000007,\n",
      "           positive=True, random_state=7, selection='random', tol=0.03))]\n",
      "verbose : False\n",
      "clf : ElasticNet(alpha=8.000000000000002e-05, l1_ratio=1.7500000000000007,\n",
      "           positive=True, random_state=7, selection='random', tol=0.03)\n",
      "clf__alpha : 8.000000000000002e-05\n",
      "clf__copy_X : True\n",
      "clf__fit_intercept : True\n",
      "clf__l1_ratio : 1.7500000000000007\n",
      "clf__max_iter : 1000\n",
      "clf__normalize : False\n",
      "clf__positive : True\n",
      "clf__precompute : False\n",
      "clf__random_state : 7\n",
      "clf__selection : random\n",
      "clf__tol : 0.03\n",
      "clf__warm_start : False\n",
      "\n",
      "Prediction scores for Elastic Net using _adaboost :\n",
      "Mean Squared error: 4.9653308339031375\n",
      "Mean Absolute error: 1.3900396283735803\n",
      "R^2: 0.7452663445570253\n"
     ]
    }
   ],
   "source": [
    "ada_model, ada_train_score, ada_mse, ada_mae, ada_r2 = get_best_model(sel_methods[2], args, num_folds, is_sample)"
   ]
  },
  {
   "cell_type": "code",
   "execution_count": 14,
   "metadata": {},
   "outputs": [],
   "source": [
    "# no further increase in test accuracy, model saved\n",
    "is_sample = False\n",
    "num_folds = 10\n",
    "args = {'clf__alpha':([0.00008]),\n",
    "        'clf__copy_X':([True]),\n",
    "        'clf__fit_intercept':([True]),\n",
    "        'clf__normalize':([False]),\n",
    "        'clf__positive':([True]),\n",
    "        'clf__selection':(['random']),\n",
    "        'clf__l1_ratio':([1.75]),\n",
    "        'clf__random_state':([7]),\n",
    "        'clf__tol':([0.03])}"
   ]
  },
  {
   "cell_type": "code",
   "execution_count": 15,
   "metadata": {},
   "outputs": [
    {
     "name": "stdout",
     "output_type": "stream",
     "text": [
      "\n",
      "\n",
      "Running cross fold validation for Elastic Net with _adaboost dataset\n",
      "Fitting 10 folds for each of 1 candidates, totalling 10 fits\n"
     ]
    },
    {
     "name": "stderr",
     "output_type": "stream",
     "text": [
      "[Parallel(n_jobs=6)]: Using backend LokyBackend with 6 concurrent workers.\n",
      "[Parallel(n_jobs=6)]: Done  10 out of  10 | elapsed:    0.0s remaining:    0.0s\n",
      "[Parallel(n_jobs=6)]: Done  10 out of  10 | elapsed:    0.0s finished\n"
     ]
    },
    {
     "name": "stdout",
     "output_type": "stream",
     "text": [
      "\n",
      "Best score for Elastic Net with _adaboost dataset: 0.7413672411662648\n",
      "\n",
      "Best hyperparameters for Elastic Net with _adaboost dataset:\n",
      "memory : None\n",
      "steps : [('clf', ElasticNet(alpha=8e-05, l1_ratio=1.75, positive=True, random_state=7,\n",
      "           selection='random', tol=0.03))]\n",
      "verbose : False\n",
      "clf : ElasticNet(alpha=8e-05, l1_ratio=1.75, positive=True, random_state=7,\n",
      "           selection='random', tol=0.03)\n",
      "clf__alpha : 8e-05\n",
      "clf__copy_X : True\n",
      "clf__fit_intercept : True\n",
      "clf__l1_ratio : 1.75\n",
      "clf__max_iter : 1000\n",
      "clf__normalize : False\n",
      "clf__positive : True\n",
      "clf__precompute : False\n",
      "clf__random_state : 7\n",
      "clf__selection : random\n",
      "clf__tol : 0.03\n",
      "clf__warm_start : False\n",
      "\n",
      "Prediction scores for Elastic Net using _adaboost :\n",
      "Mean Squared error: 4.9653308339031375\n",
      "Mean Absolute error: 1.390039628373581\n",
      "R^2: 0.7452663445570253\n"
     ]
    }
   ],
   "source": [
    "ada_model, ada_train_score, ada_mse, ada_mae, ada_r2 = get_best_model(sel_methods[2], args, num_folds, is_sample)"
   ]
  },
  {
   "cell_type": "code",
   "execution_count": 16,
   "metadata": {},
   "outputs": [],
   "source": [
    "save_model(ada_model,sel_methods[2])"
   ]
  },
  {
   "cell_type": "markdown",
   "metadata": {},
   "source": [
    "<h3>Equal business and crime feature selected dataset<h3>"
   ]
  },
  {
   "cell_type": "code",
   "execution_count": 31,
   "metadata": {},
   "outputs": [],
   "source": [
    "is_sample = False\n",
    "num_folds = 10\n",
    "args = {'clf__alpha':(0.00001, 0.0001, 0.001, 0.001, 0.01, 0.0, 1.0, 10.0, 100.0),\n",
    "        'clf__copy_X':(True,False),\n",
    "        'clf__fit_intercept':(True,False),\n",
    "        'clf__normalize':(True,False),\n",
    "        'clf__positive':(True,False),\n",
    "        'clf__selection':('cyclic','random'),\n",
    "        'clf__l1_ratio':(arange(0, 5, 0.2)),\n",
    "        'clf__random_state':([7]),\n",
    "        'clf__tol':(0.1, 0.3, 0.5, 0.7, 1)}"
   ]
  },
  {
   "cell_type": "code",
   "execution_count": 32,
   "metadata": {},
   "outputs": [
    {
     "name": "stdout",
     "output_type": "stream",
     "text": [
      "\n",
      "\n",
      "Running cross fold validation for Elastic Net with _equal_crime_and_business dataset\n",
      "Fitting 10 folds for each of 36000 candidates, totalling 360000 fits\n"
     ]
    },
    {
     "name": "stderr",
     "output_type": "stream",
     "text": [
      "[Parallel(n_jobs=6)]: Using backend LokyBackend with 6 concurrent workers.\n",
      "[Parallel(n_jobs=6)]: Done 107 tasks      | elapsed:    1.0s\n",
      "[Parallel(n_jobs=6)]: Done 742 tasks      | elapsed:   13.4s\n",
      "[Parallel(n_jobs=6)]: Done 1746 tasks      | elapsed:   19.2s\n",
      "[Parallel(n_jobs=6)]: Done 3146 tasks      | elapsed:   26.7s\n",
      "[Parallel(n_jobs=6)]: Done 4846 tasks      | elapsed:   43.1s\n",
      "[Parallel(n_jobs=6)]: Done 6661 tasks      | elapsed:  1.7min\n",
      "[Parallel(n_jobs=6)]: Done 8210 tasks      | elapsed:  4.0min\n",
      "[Parallel(n_jobs=6)]: Done 9824 tasks      | elapsed:  6.7min\n",
      "[Parallel(n_jobs=6)]: Done 15570 tasks      | elapsed:  7.3min\n",
      "[Parallel(n_jobs=6)]: Done 21656 tasks      | elapsed:  8.0min\n",
      "[Parallel(n_jobs=6)]: Done 25804 tasks      | elapsed:  8.9min\n",
      "[Parallel(n_jobs=6)]: Done 28902 tasks      | elapsed: 12.7min\n",
      "[Parallel(n_jobs=6)]: Done 35446 tasks      | elapsed: 15.0min\n",
      "[Parallel(n_jobs=6)]: Done 42992 tasks      | elapsed: 16.5min\n",
      "[Parallel(n_jobs=6)]: Done 47106 tasks      | elapsed: 20.6min\n",
      "[Parallel(n_jobs=6)]: Done 55288 tasks      | elapsed: 22.3min\n",
      "[Parallel(n_jobs=6)]: Done 61718 tasks      | elapsed: 24.5min\n",
      "[Parallel(n_jobs=6)]: Done 66138 tasks      | elapsed: 29.4min\n",
      "[Parallel(n_jobs=6)]: Done 74716 tasks      | elapsed: 31.1min\n",
      "[Parallel(n_jobs=6)]: Done 82106 tasks      | elapsed: 33.5min\n",
      "[Parallel(n_jobs=6)]: Done 89228 tasks      | elapsed: 37.0min\n",
      "[Parallel(n_jobs=6)]: Done 95828 tasks      | elapsed: 40.4min\n",
      "[Parallel(n_jobs=6)]: Done 102603 tasks      | elapsed: 44.0min\n",
      "[Parallel(n_jobs=6)]: Done 110040 tasks      | elapsed: 47.9min\n",
      "[Parallel(n_jobs=6)]: Done 118234 tasks      | elapsed: 51.9min\n",
      "[Parallel(n_jobs=6)]: Done 127064 tasks      | elapsed: 56.1min\n",
      "[Parallel(n_jobs=6)]: Done 135641 tasks      | elapsed: 60.8min\n",
      "[Parallel(n_jobs=6)]: Done 144248 tasks      | elapsed: 65.2min\n",
      "[Parallel(n_jobs=6)]: Done 154753 tasks      | elapsed: 70.3min\n",
      "[Parallel(n_jobs=6)]: Done 163528 tasks      | elapsed: 75.8min\n",
      "[Parallel(n_jobs=6)]: Done 172376 tasks      | elapsed: 83.6min\n",
      "[Parallel(n_jobs=6)]: Done 179426 tasks      | elapsed: 92.0min\n",
      "[Parallel(n_jobs=6)]: Done 189138 tasks      | elapsed: 100.9min\n",
      "[Parallel(n_jobs=6)]: Done 198210 tasks      | elapsed: 108.8min\n",
      "[Parallel(n_jobs=6)]: Done 204650 tasks      | elapsed: 115.7min\n",
      "[Parallel(n_jobs=6)]: Done 213210 tasks      | elapsed: 120.1min\n",
      "[Parallel(n_jobs=6)]: Done 222282 tasks      | elapsed: 124.5min\n",
      "[Parallel(n_jobs=6)]: Done 231236 tasks      | elapsed: 129.1min\n",
      "[Parallel(n_jobs=6)]: Done 242406 tasks      | elapsed: 134.1min\n",
      "[Parallel(n_jobs=6)]: Done 270226 tasks      | elapsed: 137.8min\n",
      "[Parallel(n_jobs=6)]: Done 298198 tasks      | elapsed: 141.4min\n",
      "[Parallel(n_jobs=6)]: Done 327048 tasks      | elapsed: 145.3min\n",
      "[Parallel(n_jobs=6)]: Done 356236 tasks      | elapsed: 149.2min\n",
      "[Parallel(n_jobs=6)]: Done 360000 out of 360000 | elapsed: 149.4min finished\n",
      "c:\\users\\chris\\appdata\\local\\programs\\python\\python39\\lib\\site-packages\\sklearn\\model_selection\\_search.py:813: RuntimeWarning: invalid value encountered in subtract\n",
      "  array_stds = np.sqrt(np.average((array -\n",
      "c:\\users\\chris\\appdata\\local\\programs\\python\\python39\\lib\\site-packages\\sklearn\\model_selection\\_search.py:813: RuntimeWarning: overflow encountered in square\n",
      "  array_stds = np.sqrt(np.average((array -\n"
     ]
    },
    {
     "name": "stdout",
     "output_type": "stream",
     "text": [
      "\n",
      "Best score for Elastic Net with _equal_crime_and_business dataset: 0.7285933940724345\n",
      "\n",
      "Best hyperparameters for Elastic Net with _equal_crime_and_business dataset:\n",
      "memory : None\n",
      "steps : [('clf', ElasticNet(alpha=0.0001, l1_ratio=0.2, random_state=7, tol=0.1))]\n",
      "verbose : False\n",
      "clf : ElasticNet(alpha=0.0001, l1_ratio=0.2, random_state=7, tol=0.1)\n",
      "clf__alpha : 0.0001\n",
      "clf__copy_X : True\n",
      "clf__fit_intercept : True\n",
      "clf__l1_ratio : 0.2\n",
      "clf__max_iter : 1000\n",
      "clf__normalize : False\n",
      "clf__positive : False\n",
      "clf__precompute : False\n",
      "clf__random_state : 7\n",
      "clf__selection : cyclic\n",
      "clf__tol : 0.1\n",
      "clf__warm_start : False\n",
      "\n",
      "Prediction scores for Elastic Net using _equal_crime_and_business :\n",
      "Mean Squared error: 5.134702114199955\n",
      "Mean Absolute error: 1.4190462571665026\n",
      "R^2: 0.7365771822835924\n"
     ]
    }
   ],
   "source": [
    "equal_model, equal_train_score, equal_mse, equal_mae, equal_r2 = get_best_model(sel_methods[3], args, num_folds, is_sample)"
   ]
  },
  {
   "cell_type": "code",
   "execution_count": 17,
   "metadata": {},
   "outputs": [],
   "source": [
    "# fine tunining\n",
    "is_sample = False\n",
    "num_folds = 10\n",
    "args = {'clf__alpha':(arange(0.00007,0.00013,0.00001)),\n",
    "        'clf__copy_X':(True,False),\n",
    "        'clf__fit_intercept':(True,False),\n",
    "        'clf__normalize':(True,False),\n",
    "        'clf__positive':(True,False),\n",
    "        'clf__selection':('cyclic','random'),\n",
    "        'clf__l1_ratio':(arange(0.15, 0.25, 0.01)),\n",
    "        'clf__random_state':([7]),\n",
    "        'clf__tol':(arange(0.05,0.15, 0.01))}"
   ]
  },
  {
   "cell_type": "code",
   "execution_count": 18,
   "metadata": {
    "scrolled": false
   },
   "outputs": [
    {
     "name": "stdout",
     "output_type": "stream",
     "text": [
      "\n",
      "\n",
      "Running cross fold validation for Elastic Net with _equal_crime_and_business dataset\n",
      "Fitting 10 folds for each of 19200 candidates, totalling 192000 fits\n"
     ]
    },
    {
     "name": "stderr",
     "output_type": "stream",
     "text": [
      "[Parallel(n_jobs=6)]: Using backend LokyBackend with 6 concurrent workers.\n",
      "[Parallel(n_jobs=6)]: Done  92 tasks      | elapsed:    0.6s\n",
      "[Parallel(n_jobs=6)]: Done 692 tasks      | elapsed:    5.2s\n",
      "[Parallel(n_jobs=6)]: Done 1692 tasks      | elapsed:   12.9s\n",
      "[Parallel(n_jobs=6)]: Done 3092 tasks      | elapsed:   23.9s\n",
      "[Parallel(n_jobs=6)]: Done 4892 tasks      | elapsed:   37.6s\n",
      "[Parallel(n_jobs=6)]: Done 7092 tasks      | elapsed:   54.3s\n",
      "[Parallel(n_jobs=6)]: Done 9692 tasks      | elapsed:  1.3min\n",
      "[Parallel(n_jobs=6)]: Done 12692 tasks      | elapsed:  1.7min\n",
      "[Parallel(n_jobs=6)]: Done 16092 tasks      | elapsed:  2.2min\n",
      "[Parallel(n_jobs=6)]: Done 19892 tasks      | elapsed:  2.7min\n",
      "[Parallel(n_jobs=6)]: Done 24092 tasks      | elapsed:  3.2min\n",
      "[Parallel(n_jobs=6)]: Done 28692 tasks      | elapsed:  3.8min\n",
      "[Parallel(n_jobs=6)]: Done 33692 tasks      | elapsed:  4.5min\n",
      "[Parallel(n_jobs=6)]: Done 39092 tasks      | elapsed:  5.2min\n",
      "[Parallel(n_jobs=6)]: Done 44892 tasks      | elapsed:  6.0min\n",
      "[Parallel(n_jobs=6)]: Done 51092 tasks      | elapsed:  6.9min\n",
      "[Parallel(n_jobs=6)]: Done 57692 tasks      | elapsed:  7.6min\n",
      "[Parallel(n_jobs=6)]: Done 64692 tasks      | elapsed:  8.5min\n",
      "[Parallel(n_jobs=6)]: Done 72092 tasks      | elapsed:  9.5min\n",
      "[Parallel(n_jobs=6)]: Done 79892 tasks      | elapsed: 10.6min\n",
      "[Parallel(n_jobs=6)]: Done 88092 tasks      | elapsed: 11.6min\n",
      "[Parallel(n_jobs=6)]: Done 96692 tasks      | elapsed: 12.7min\n",
      "[Parallel(n_jobs=6)]: Done 105692 tasks      | elapsed: 13.9min\n",
      "[Parallel(n_jobs=6)]: Done 115092 tasks      | elapsed: 15.1min\n",
      "[Parallel(n_jobs=6)]: Done 124892 tasks      | elapsed: 16.3min\n",
      "[Parallel(n_jobs=6)]: Done 135092 tasks      | elapsed: 17.5min\n",
      "[Parallel(n_jobs=6)]: Done 145692 tasks      | elapsed: 19.1min\n",
      "[Parallel(n_jobs=6)]: Done 156692 tasks      | elapsed: 20.5min\n",
      "[Parallel(n_jobs=6)]: Done 168092 tasks      | elapsed: 21.8min\n",
      "[Parallel(n_jobs=6)]: Done 179892 tasks      | elapsed: 23.3min\n",
      "[Parallel(n_jobs=6)]: Done 191989 out of 192000 | elapsed: 24.9min remaining:    0.0s\n",
      "[Parallel(n_jobs=6)]: Done 192000 out of 192000 | elapsed: 24.9min finished\n"
     ]
    },
    {
     "name": "stdout",
     "output_type": "stream",
     "text": [
      "\n",
      "Best score for Elastic Net with _equal_crime_and_business dataset: 0.7285988903182528\n",
      "\n",
      "Best hyperparameters for Elastic Net with _equal_crime_and_business dataset:\n",
      "memory : None\n",
      "steps : [('clf', ElasticNet(alpha=9.999999999999999e-05, l1_ratio=0.23000000000000007,\n",
      "           random_state=7, tol=0.05))]\n",
      "verbose : False\n",
      "clf : ElasticNet(alpha=9.999999999999999e-05, l1_ratio=0.23000000000000007,\n",
      "           random_state=7, tol=0.05)\n",
      "clf__alpha : 9.999999999999999e-05\n",
      "clf__copy_X : True\n",
      "clf__fit_intercept : True\n",
      "clf__l1_ratio : 0.23000000000000007\n",
      "clf__max_iter : 1000\n",
      "clf__normalize : False\n",
      "clf__positive : False\n",
      "clf__precompute : False\n",
      "clf__random_state : 7\n",
      "clf__selection : cyclic\n",
      "clf__tol : 0.05\n",
      "clf__warm_start : False\n",
      "\n",
      "Prediction scores for Elastic Net using _equal_crime_and_business :\n",
      "Mean Squared error: 5.133886261429526\n",
      "Mean Absolute error: 1.419038847656369\n",
      "R^2: 0.7366190375326114\n"
     ]
    }
   ],
   "source": [
    "equal_model, equal_train_score, equal_mse, equal_mae, equal_r2 = get_best_model(sel_methods[3], args, num_folds, is_sample)"
   ]
  },
  {
   "cell_type": "markdown",
   "metadata": {},
   "source": [
    "<h3> Retrain on revised dataset <h3>"
   ]
  },
  {
   "cell_type": "code",
   "execution_count": 17,
   "metadata": {},
   "outputs": [],
   "source": [
    "def get_best_model_revised(method, args, _cv, is_sample):\n",
    "    sample_string = ''\n",
    "    if (is_sample):\n",
    "        sample_string = '_sample'\n",
    "    y_train = pd.read_csv('y_train'+ sample_string + '_revised.csv')    \n",
    "    method_string = method\n",
    "    if (method == ''):\n",
    "        method_string = \"no feature selection\"\n",
    "    print('\\n\\nRunning cross fold validation for',display_name,'with',method_string,'dataset')\n",
    "    x_train = pd.read_csv('x_train' + method + sample_string + '_revised.csv').values\n",
    "    x_test = pd.read_csv('x_test' + method + '_revised.csv').values\n",
    "    pipe = Pipeline([('clf', ElasticNet())])\n",
    "    grid = GridSearchCV(pipe, args, cv = _cv, verbose = 1, scoring = 'r2', n_jobs=6)\n",
    "    grid.fit(x_train, y_train.values.ravel())\n",
    "    print('\\nBest score for',display_name,'with',method_string,\"dataset:\",grid.best_score_)\n",
    "    best_args = grid.best_estimator_.get_params()\n",
    "    print('\\nBest hyperparameters for',display_name,'with',method_string,'dataset:')\n",
    "    for arg in best_args:\n",
    "        print(arg,\":\",best_args[arg])\n",
    "    y_test_predict = grid.predict(x_test)\n",
    "    mse = mean_squared_error(y_test,y_test_predict)\n",
    "    mae = mean_absolute_error(y_test,y_test_predict)\n",
    "    r2 = r2_score(y_test,y_test_predict)\n",
    "    print('\\nPrediction scores for',display_name,'using',method_string,':')\n",
    "    print('Mean Squared error:',mse)\n",
    "    print('Mean Absolute error:',mae)\n",
    "    print('R^2:',r2)\n",
    "    return grid.best_estimator_,grid.best_score_,mse,mae,r2"
   ]
  },
  {
   "cell_type": "code",
   "execution_count": 18,
   "metadata": {},
   "outputs": [],
   "source": [
    "is_sample = False\n",
    "num_folds = 10\n",
    "args = {'clf__alpha':(0.00001, 0.0001, 0.001, 0.001, 0.01, 0.0, 1.0, 10.0, 100.0),\n",
    "        'clf__copy_X':(True,False),\n",
    "        'clf__fit_intercept':(True,False),\n",
    "        'clf__normalize':(True,False),\n",
    "        'clf__positive':(True,False),\n",
    "        'clf__selection':('cyclic','random'),\n",
    "        'clf__l1_ratio':(arange(0, 5, 0.2)),\n",
    "        'clf__random_state':([7]),\n",
    "        'clf__tol':(0.1, 0.3, 0.5, 0.7, 1)}"
   ]
  },
  {
   "cell_type": "code",
   "execution_count": 19,
   "metadata": {},
   "outputs": [
    {
     "name": "stdout",
     "output_type": "stream",
     "text": [
      "\n",
      "\n",
      "Running cross fold validation for Elastic Net with _equal_crime_and_business dataset\n",
      "Fitting 10 folds for each of 36000 candidates, totalling 360000 fits\n"
     ]
    },
    {
     "name": "stderr",
     "output_type": "stream",
     "text": [
      "[Parallel(n_jobs=6)]: Using backend LokyBackend with 6 concurrent workers.\n",
      "[Parallel(n_jobs=6)]: Done  92 tasks      | elapsed:    0.7s\n",
      "[Parallel(n_jobs=6)]: Done 396 tasks      | elapsed:   13.5s\n",
      "[Parallel(n_jobs=6)]: Done 1878 tasks      | elapsed:   22.9s\n",
      "[Parallel(n_jobs=6)]: Done 4594 tasks      | elapsed:   46.7s\n",
      "[Parallel(n_jobs=6)]: Done 6022 tasks      | elapsed:  1.5min\n",
      "[Parallel(n_jobs=6)]: Done 7338 tasks      | elapsed:  3.1min\n",
      "[Parallel(n_jobs=6)]: Done 8534 tasks      | elapsed:  5.5min\n",
      "[Parallel(n_jobs=6)]: Done 9806 tasks      | elapsed:  8.2min\n",
      "[Parallel(n_jobs=6)]: Done 14568 tasks      | elapsed:  8.8min\n",
      "[Parallel(n_jobs=6)]: Done 20906 tasks      | elapsed:  9.6min\n",
      "[Parallel(n_jobs=6)]: Done 24758 tasks      | elapsed: 10.2min\n",
      "[Parallel(n_jobs=6)]: Done 27828 tasks      | elapsed: 13.4min\n",
      "[Parallel(n_jobs=6)]: Done 30868 tasks      | elapsed: 17.2min\n",
      "[Parallel(n_jobs=6)]: Done 40474 tasks      | elapsed: 18.2min\n",
      "[Parallel(n_jobs=6)]: Done 45057 tasks      | elapsed: 23.0min\n",
      "[Parallel(n_jobs=6)]: Done 50318 tasks      | elapsed: 24.7min\n",
      "[Parallel(n_jobs=6)]: Done 59222 tasks      | elapsed: 26.6min\n",
      "[Parallel(n_jobs=6)]: Done 64578 tasks      | elapsed: 31.2min\n",
      "[Parallel(n_jobs=6)]: Done 72922 tasks      | elapsed: 33.8min\n",
      "[Parallel(n_jobs=6)]: Done 82240 tasks      | elapsed: 36.4min\n",
      "[Parallel(n_jobs=6)]: Done 90006 tasks      | elapsed: 40.3min\n",
      "[Parallel(n_jobs=6)]: Done 97565 tasks      | elapsed: 43.8min\n",
      "[Parallel(n_jobs=6)]: Done 105740 tasks      | elapsed: 47.9min\n",
      "[Parallel(n_jobs=6)]: Done 114162 tasks      | elapsed: 51.8min\n",
      "[Parallel(n_jobs=6)]: Done 120377 tasks      | elapsed: 56.4min\n",
      "[Parallel(n_jobs=6)]: Done 129599 tasks      | elapsed: 60.1min\n",
      "[Parallel(n_jobs=6)]: Done 138177 tasks      | elapsed: 64.7min\n",
      "[Parallel(n_jobs=6)]: Done 148370 tasks      | elapsed: 69.7min\n",
      "[Parallel(n_jobs=6)]: Done 157696 tasks      | elapsed: 74.5min\n",
      "[Parallel(n_jobs=6)]: Done 167520 tasks      | elapsed: 80.4min\n",
      "[Parallel(n_jobs=6)]: Done 175967 tasks      | elapsed: 88.7min\n",
      "[Parallel(n_jobs=6)]: Done 183590 tasks      | elapsed: 97.4min\n",
      "[Parallel(n_jobs=6)]: Done 193542 tasks      | elapsed: 107.0min\n",
      "[Parallel(n_jobs=6)]: Done 200056 tasks      | elapsed: 115.7min\n",
      "[Parallel(n_jobs=6)]: Done 208550 tasks      | elapsed: 119.9min\n",
      "[Parallel(n_jobs=6)]: Done 218394 tasks      | elapsed: 124.6min\n",
      "[Parallel(n_jobs=6)]: Done 227720 tasks      | elapsed: 129.0min\n",
      "[Parallel(n_jobs=6)]: Done 237286 tasks      | elapsed: 133.6min\n",
      "[Parallel(n_jobs=6)]: Done 260188 tasks      | elapsed: 137.7min\n",
      "[Parallel(n_jobs=6)]: Done 286834 tasks      | elapsed: 141.0min\n",
      "[Parallel(n_jobs=6)]: Done 314770 tasks      | elapsed: 144.8min\n",
      "[Parallel(n_jobs=6)]: Done 343272 tasks      | elapsed: 148.5min\n",
      "[Parallel(n_jobs=6)]: Done 359989 out of 360000 | elapsed: 150.2min remaining:    0.2s\n",
      "[Parallel(n_jobs=6)]: Done 360000 out of 360000 | elapsed: 150.2min finished\n",
      "c:\\users\\chris\\appdata\\local\\programs\\python\\python39\\lib\\site-packages\\sklearn\\model_selection\\_search.py:813: RuntimeWarning: invalid value encountered in subtract\n",
      "  array_stds = np.sqrt(np.average((array -\n",
      "c:\\users\\chris\\appdata\\local\\programs\\python\\python39\\lib\\site-packages\\sklearn\\model_selection\\_search.py:813: RuntimeWarning: overflow encountered in square\n",
      "  array_stds = np.sqrt(np.average((array -\n"
     ]
    },
    {
     "name": "stdout",
     "output_type": "stream",
     "text": [
      "\n",
      "Best score for Elastic Net with _equal_crime_and_business dataset: 0.728729741190176\n",
      "\n",
      "Best hyperparameters for Elastic Net with _equal_crime_and_business dataset:\n",
      "memory : None\n",
      "steps : [('clf', ElasticNet(alpha=0.0001, l1_ratio=0.2, random_state=7, tol=0.1))]\n",
      "verbose : False\n",
      "clf : ElasticNet(alpha=0.0001, l1_ratio=0.2, random_state=7, tol=0.1)\n",
      "clf__alpha : 0.0001\n",
      "clf__copy_X : True\n",
      "clf__fit_intercept : True\n",
      "clf__l1_ratio : 0.2\n",
      "clf__max_iter : 1000\n",
      "clf__normalize : False\n",
      "clf__positive : False\n",
      "clf__precompute : False\n",
      "clf__random_state : 7\n",
      "clf__selection : cyclic\n",
      "clf__tol : 0.1\n",
      "clf__warm_start : False\n",
      "\n",
      "Prediction scores for Elastic Net using _equal_crime_and_business :\n",
      "Mean Squared error: 5.132941896326872\n",
      "Mean Absolute error: 1.4189512800362023\n",
      "R^2: 0.7366674857796102\n"
     ]
    }
   ],
   "source": [
    "equal_model, equal_train_score, equal_mse, equal_mae, equal_r2 = get_best_model_revised(sel_methods[3], args, num_folds, is_sample)"
   ]
  },
  {
   "cell_type": "code",
   "execution_count": 22,
   "metadata": {},
   "outputs": [],
   "source": [
    "# further hyperparameter tuning\n",
    "is_sample = False\n",
    "num_folds = 10\n",
    "args = {'clf__alpha':(0.00005, 0.0001, 0.0002, 0.0003, 0.0004, 0.0005),\n",
    "        'clf__copy_X':(True,False),\n",
    "        'clf__fit_intercept':(True,False),\n",
    "        'clf__normalize':(True,False),\n",
    "        'clf__positive':(True,False),\n",
    "        'clf__selection':('cyclic','random'),\n",
    "        'clf__l1_ratio':(arange(0, 2, 0.1)),\n",
    "        'clf__random_state':([7]),\n",
    "        'clf__tol':(0.07, 0.08,0.09,0.1,0.11,0.12,0.13)}"
   ]
  },
  {
   "cell_type": "code",
   "execution_count": 23,
   "metadata": {},
   "outputs": [
    {
     "name": "stdout",
     "output_type": "stream",
     "text": [
      "\n",
      "\n",
      "Running cross fold validation for Elastic Net with _equal_crime_and_business dataset\n",
      "Fitting 10 folds for each of 26880 candidates, totalling 268800 fits\n"
     ]
    },
    {
     "name": "stderr",
     "output_type": "stream",
     "text": [
      "[Parallel(n_jobs=6)]: Using backend LokyBackend with 6 concurrent workers.\n",
      "[Parallel(n_jobs=6)]: Done  38 tasks      | elapsed:    9.6s\n",
      "[Parallel(n_jobs=6)]: Done 206 tasks      | elapsed:   36.1s\n",
      "[Parallel(n_jobs=6)]: Done 558 tasks      | elapsed:  1.5min\n",
      "[Parallel(n_jobs=6)]: Done 1844 tasks      | elapsed:  1.6min\n",
      "[Parallel(n_jobs=6)]: Done 3644 tasks      | elapsed:  1.8min\n",
      "[Parallel(n_jobs=6)]: Done 5844 tasks      | elapsed:  2.1min\n",
      "[Parallel(n_jobs=6)]: Done 7906 tasks      | elapsed:  2.8min\n",
      "[Parallel(n_jobs=6)]: Done 9746 tasks      | elapsed:  5.4min\n",
      "[Parallel(n_jobs=6)]: Done 11442 tasks      | elapsed:  7.7min\n",
      "[Parallel(n_jobs=6)]: Done 14996 tasks      | elapsed:  8.5min\n",
      "[Parallel(n_jobs=6)]: Done 19196 tasks      | elapsed:  9.0min\n",
      "[Parallel(n_jobs=6)]: Done 22938 tasks      | elapsed: 10.6min\n",
      "[Parallel(n_jobs=6)]: Done 27734 tasks      | elapsed: 11.2min\n",
      "[Parallel(n_jobs=6)]: Done 31816 tasks      | elapsed: 14.0min\n",
      "[Parallel(n_jobs=6)]: Done 36804 tasks      | elapsed: 17.6min\n",
      "[Parallel(n_jobs=6)]: Done 46022 tasks      | elapsed: 19.8min\n",
      "[Parallel(n_jobs=6)]: Done 51934 tasks      | elapsed: 21.0min\n",
      "[Parallel(n_jobs=6)]: Done 55722 tasks      | elapsed: 26.9min\n",
      "[Parallel(n_jobs=6)]: Done 67448 tasks      | elapsed: 29.4min\n",
      "[Parallel(n_jobs=6)]: Done 74204 tasks      | elapsed: 31.4min\n",
      "[Parallel(n_jobs=6)]: Done 78618 tasks      | elapsed: 37.6min\n",
      "[Parallel(n_jobs=6)]: Done 86720 tasks      | elapsed: 38.8min\n",
      "[Parallel(n_jobs=6)]: Done 94664 tasks      | elapsed: 41.0min\n",
      "[Parallel(n_jobs=6)]: Done 99954 tasks      | elapsed: 47.8min\n",
      "[Parallel(n_jobs=6)]: Done 113102 tasks      | elapsed: 52.1min\n",
      "[Parallel(n_jobs=6)]: Done 121106 tasks      | elapsed: 56.7min\n",
      "[Parallel(n_jobs=6)]: Done 133326 tasks      | elapsed: 61.9min\n",
      "[Parallel(n_jobs=6)]: Done 143654 tasks      | elapsed: 69.6min\n",
      "[Parallel(n_jobs=6)]: Done 153488 tasks      | elapsed: 72.1min\n",
      "[Parallel(n_jobs=6)]: Done 164739 tasks      | elapsed: 78.1min\n",
      "[Parallel(n_jobs=6)]: Done 173972 tasks      | elapsed: 83.1min\n",
      "[Parallel(n_jobs=6)]: Done 184862 tasks      | elapsed: 86.4min\n",
      "[Parallel(n_jobs=6)]: Done 196326 tasks      | elapsed: 94.0min\n",
      "[Parallel(n_jobs=6)]: Done 209624 tasks      | elapsed: 101.6min\n",
      "[Parallel(n_jobs=6)]: Done 223793 tasks      | elapsed: 107.9min\n",
      "[Parallel(n_jobs=6)]: Done 233433 tasks      | elapsed: 115.2min\n",
      "[Parallel(n_jobs=6)]: Done 247942 tasks      | elapsed: 122.9min\n",
      "[Parallel(n_jobs=6)]: Done 264646 tasks      | elapsed: 131.0min\n",
      "[Parallel(n_jobs=6)]: Done 268800 out of 268800 | elapsed: 134.2min finished\n",
      "c:\\users\\chris\\appdata\\local\\programs\\python\\python39\\lib\\site-packages\\sklearn\\model_selection\\_search.py:813: RuntimeWarning: invalid value encountered in subtract\n",
      "  array_stds = np.sqrt(np.average((array -\n",
      "c:\\users\\chris\\appdata\\local\\programs\\python\\python39\\lib\\site-packages\\sklearn\\model_selection\\_search.py:813: RuntimeWarning: overflow encountered in square\n",
      "  array_stds = np.sqrt(np.average((array -\n",
      "c:\\users\\chris\\appdata\\local\\programs\\python\\python39\\lib\\site-packages\\numpy\\core\\_methods.py:160: RuntimeWarning: overflow encountered in reduce\n",
      "  ret = umr_sum(arr, axis, dtype, out, keepdims)\n"
     ]
    },
    {
     "name": "stdout",
     "output_type": "stream",
     "text": [
      "\n",
      "Best score for Elastic Net with _equal_crime_and_business dataset: 0.7287324310078286\n",
      "\n",
      "Best hyperparameters for Elastic Net with _equal_crime_and_business dataset:\n",
      "memory : None\n",
      "steps : [('clf', ElasticNet(alpha=0.0001, l1_ratio=0.2, random_state=7, tol=0.11))]\n",
      "verbose : False\n",
      "clf : ElasticNet(alpha=0.0001, l1_ratio=0.2, random_state=7, tol=0.11)\n",
      "clf__alpha : 0.0001\n",
      "clf__copy_X : True\n",
      "clf__fit_intercept : True\n",
      "clf__l1_ratio : 0.2\n",
      "clf__max_iter : 1000\n",
      "clf__normalize : False\n",
      "clf__positive : False\n",
      "clf__precompute : False\n",
      "clf__random_state : 7\n",
      "clf__selection : cyclic\n",
      "clf__tol : 0.11\n",
      "clf__warm_start : False\n",
      "\n",
      "Prediction scores for Elastic Net using _equal_crime_and_business :\n",
      "Mean Squared error: 5.133662817429689\n",
      "Mean Absolute error: 1.41901729163855\n",
      "R^2: 0.7366305007580779\n"
     ]
    }
   ],
   "source": [
    "equal_model, equal_train_score, equal_mse, equal_mae, equal_r2 = get_best_model_revised(sel_methods[3], args, num_folds, is_sample)"
   ]
  },
  {
   "cell_type": "code",
   "execution_count": 26,
   "metadata": {},
   "outputs": [],
   "source": [
    "# hyperparameters stabalised and minor drop in score, model saved to avoid overfitting\n",
    "save_model(equal_model,sel_methods[3])"
   ]
  },
  {
   "cell_type": "markdown",
   "metadata": {},
   "source": [
    "<h3>Business only feature selected dataset<h3>"
   ]
  },
  {
   "cell_type": "code",
   "execution_count": 37,
   "metadata": {},
   "outputs": [],
   "source": [
    "# Business ony produces error on default params therefore reduced set used\n",
    "is_sample = False\n",
    "num_folds = 10\n",
    "args = {'clf__alpha':(0.001, 0.01, 0.0, 1.0),\n",
    "        'clf__copy_X':(True,False),\n",
    "        'clf__fit_intercept':(True,False),\n",
    "        'clf__normalize':(True,False),\n",
    "        'clf__positive':(True,False),\n",
    "        'clf__selection':('cyclic','random'),\n",
    "        'clf__l1_ratio':(arange(0.1, 1, 0.1)),\n",
    "        'clf__random_state':([7]),\n",
    "        'clf__tol':(0.1, 0.5, 1)}"
   ]
  },
  {
   "cell_type": "code",
   "execution_count": 38,
   "metadata": {},
   "outputs": [
    {
     "name": "stdout",
     "output_type": "stream",
     "text": [
      "\n",
      "\n",
      "Running cross fold validation for Elastic Net with _all_business dataset\n",
      "Fitting 10 folds for each of 3456 candidates, totalling 34560 fits\n"
     ]
    },
    {
     "name": "stderr",
     "output_type": "stream",
     "text": [
      "[Parallel(n_jobs=6)]: Using backend LokyBackend with 6 concurrent workers.\n",
      "[Parallel(n_jobs=6)]: Done  40 tasks      | elapsed:    1.5s\n",
      "[Parallel(n_jobs=6)]: Done 1132 tasks      | elapsed:    7.1s\n",
      "[Parallel(n_jobs=6)]: Done 3132 tasks      | elapsed:   17.0s\n",
      "[Parallel(n_jobs=6)]: Done 5932 tasks      | elapsed:   31.5s\n",
      "[Parallel(n_jobs=6)]: Done 9532 tasks      | elapsed:   49.3s\n",
      "[Parallel(n_jobs=6)]: Done 13932 tasks      | elapsed:  1.2min\n",
      "[Parallel(n_jobs=6)]: Done 17846 tasks      | elapsed:  2.0min\n",
      "[Parallel(n_jobs=6)]: Done 19112 tasks      | elapsed:  3.1min\n",
      "[Parallel(n_jobs=6)]: Done 20922 tasks      | elapsed:  4.5min\n",
      "[Parallel(n_jobs=6)]: Done 22745 tasks      | elapsed:  6.0min\n",
      "[Parallel(n_jobs=6)]: Done 24703 tasks      | elapsed:  7.7min\n",
      "[Parallel(n_jobs=6)]: Done 28182 tasks      | elapsed:  8.8min\n",
      "[Parallel(n_jobs=6)]: Done 33622 tasks      | elapsed:  9.3min\n",
      "[Parallel(n_jobs=6)]: Done 34560 out of 34560 | elapsed:  9.3min finished\n",
      "c:\\users\\chris\\appdata\\local\\programs\\python\\python39\\lib\\site-packages\\sklearn\\pipeline.py:335: UserWarning: With alpha=0, this algorithm does not converge well. You are advised to use the LinearRegression estimator\n",
      "  self._final_estimator.fit(Xt, y, **fit_params_last_step)\n",
      "c:\\users\\chris\\appdata\\local\\programs\\python\\python39\\lib\\site-packages\\sklearn\\linear_model\\_coordinate_descent.py:529: UserWarning: Coordinate descent with no regularization may lead to unexpected results and is discouraged.\n",
      "  model = cd_fast.enet_coordinate_descent(\n"
     ]
    },
    {
     "name": "stdout",
     "output_type": "stream",
     "text": [
      "\n",
      "Best score for Elastic Net with _all_business dataset: 0.44996200683603715\n",
      "\n",
      "Best hyperparameters for Elastic Net with _all_business dataset:\n",
      "memory : None\n",
      "steps : [('clf', ElasticNet(alpha=0.0, l1_ratio=0.1, normalize=True, random_state=7,\n",
      "           selection='random', tol=0.1))]\n",
      "verbose : False\n",
      "clf : ElasticNet(alpha=0.0, l1_ratio=0.1, normalize=True, random_state=7,\n",
      "           selection='random', tol=0.1)\n",
      "clf__alpha : 0.0\n",
      "clf__copy_X : True\n",
      "clf__fit_intercept : True\n",
      "clf__l1_ratio : 0.1\n",
      "clf__max_iter : 1000\n",
      "clf__normalize : True\n",
      "clf__positive : False\n",
      "clf__precompute : False\n",
      "clf__random_state : 7\n",
      "clf__selection : random\n",
      "clf__tol : 0.1\n",
      "clf__warm_start : False\n",
      "\n",
      "Prediction scores for Elastic Net using _all_business :\n",
      "Mean Squared error: 10.68578982118223\n",
      "Mean Absolute error: 1.8508237579583582\n",
      "R^2: 0.45179276195271134\n"
     ]
    },
    {
     "name": "stderr",
     "output_type": "stream",
     "text": [
      "c:\\users\\chris\\appdata\\local\\programs\\python\\python39\\lib\\site-packages\\sklearn\\linear_model\\_coordinate_descent.py:529: ConvergenceWarning: Objective did not converge. You might want to increase the number of iterations. Duality gap: 233057.88432637145, tolerance: 85840.63711908861\n",
      "  model = cd_fast.enet_coordinate_descent(\n"
     ]
    }
   ],
   "source": [
    "bus_model, bus_train_score, bus_mse, bus_mae, bus_r2 = get_best_model(sel_methods[4], args, num_folds, is_sample)"
   ]
  },
  {
   "cell_type": "code",
   "execution_count": 20,
   "metadata": {},
   "outputs": [],
   "source": [
    "# further hyperparameter exploration\n",
    "is_sample = False\n",
    "num_folds = 10\n",
    "args = {'clf__alpha':(0,0.0001,0.00001),\n",
    "        'clf__copy_X':(True,False),\n",
    "        'clf__fit_intercept':(True,False),\n",
    "        'clf__normalize':(True,False),\n",
    "        'clf__positive':(True,False),\n",
    "        'clf__selection':('cyclic','random'),\n",
    "        'clf__l1_ratio':(arange(0.01,0.1, 0.01)),\n",
    "        'clf__random_state':([7]),\n",
    "        'clf__tol':(arange(0.01,0.1, 0.01))}"
   ]
  },
  {
   "cell_type": "code",
   "execution_count": 21,
   "metadata": {
    "scrolled": false
   },
   "outputs": [
    {
     "name": "stdout",
     "output_type": "stream",
     "text": [
      "\n",
      "\n",
      "Running cross fold validation for Elastic Net with _all_business dataset\n",
      "Fitting 10 folds for each of 7776 candidates, totalling 77760 fits\n"
     ]
    },
    {
     "name": "stderr",
     "output_type": "stream",
     "text": [
      "[Parallel(n_jobs=6)]: Using backend LokyBackend with 6 concurrent workers.\n",
      "[Parallel(n_jobs=6)]: Done  92 tasks      | elapsed:    2.8s\n",
      "[Parallel(n_jobs=6)]: Done 362 tasks      | elapsed:   52.3s\n",
      "[Parallel(n_jobs=6)]: Done 714 tasks      | elapsed:  1.7min\n",
      "[Parallel(n_jobs=6)]: Done 1154 tasks      | elapsed:  2.6min\n",
      "[Parallel(n_jobs=6)]: Done 1790 tasks      | elapsed:  4.4min\n",
      "[Parallel(n_jobs=6)]: Done 2490 tasks      | elapsed:  6.2min\n",
      "[Parallel(n_jobs=6)]: Done 3326 tasks      | elapsed:  8.2min\n",
      "[Parallel(n_jobs=6)]: Done 4274 tasks      | elapsed: 10.6min\n",
      "[Parallel(n_jobs=6)]: Done 5364 tasks      | elapsed: 13.2min\n",
      "[Parallel(n_jobs=6)]: Done 6793 tasks      | elapsed: 16.3min\n",
      "[Parallel(n_jobs=6)]: Done 8927 tasks      | elapsed: 20.8min\n",
      "[Parallel(n_jobs=6)]: Done 10950 tasks      | elapsed: 24.7min\n",
      "[Parallel(n_jobs=6)]: Done 13358 tasks      | elapsed: 29.9min\n",
      "[Parallel(n_jobs=6)]: Done 15232 tasks      | elapsed: 34.0min\n",
      "[Parallel(n_jobs=6)]: Done 17208 tasks      | elapsed: 38.5min\n",
      "[Parallel(n_jobs=6)]: Done 19172 tasks      | elapsed: 42.9min\n",
      "[Parallel(n_jobs=6)]: Done 22613 tasks      | elapsed: 50.3min\n",
      "[Parallel(n_jobs=6)]: Done 27186 tasks      | elapsed: 57.3min\n",
      "[Parallel(n_jobs=6)]: Done 41986 tasks      | elapsed: 58.9min\n",
      "[Parallel(n_jobs=6)]: Done 57586 tasks      | elapsed: 60.7min\n",
      "[Parallel(n_jobs=6)]: Done 73986 tasks      | elapsed: 63.1min\n",
      "[Parallel(n_jobs=6)]: Done 77760 out of 77760 | elapsed: 63.6min finished\n"
     ]
    },
    {
     "name": "stdout",
     "output_type": "stream",
     "text": [
      "\n",
      "Best score for Elastic Net with _all_business dataset: 0.4515622115296572\n",
      "\n",
      "Best hyperparameters for Elastic Net with _all_business dataset:\n",
      "memory : None\n",
      "steps : [('clf', ElasticNet(alpha=1e-05, l1_ratio=0.01, random_state=7, tol=0.05))]\n",
      "verbose : False\n",
      "clf : ElasticNet(alpha=1e-05, l1_ratio=0.01, random_state=7, tol=0.05)\n",
      "clf__alpha : 1e-05\n",
      "clf__copy_X : True\n",
      "clf__fit_intercept : True\n",
      "clf__l1_ratio : 0.01\n",
      "clf__max_iter : 1000\n",
      "clf__normalize : False\n",
      "clf__positive : False\n",
      "clf__precompute : False\n",
      "clf__random_state : 7\n",
      "clf__selection : cyclic\n",
      "clf__tol : 0.05\n",
      "clf__warm_start : False\n",
      "\n",
      "Prediction scores for Elastic Net using _all_business :\n",
      "Mean Squared error: 10.579741544347113\n",
      "Mean Absolute error: 1.849052222868961\n",
      "R^2: 0.45723329876995356\n"
     ]
    }
   ],
   "source": [
    "bus_model, bus_train_score, bus_mse, bus_mae, bus_r2 = get_best_model(sel_methods[4], args, num_folds, is_sample)"
   ]
  },
  {
   "cell_type": "markdown",
   "metadata": {},
   "source": [
    "<h3> Retrain on revised dataset <h3>"
   ]
  },
  {
   "cell_type": "code",
   "execution_count": 20,
   "metadata": {},
   "outputs": [],
   "source": [
    "# Business only produces error on default params therefore reduced set used\n",
    "is_sample = False\n",
    "num_folds = 10\n",
    "args = {'clf__alpha':(0.001, 0.01, 0.0, 1.0),\n",
    "        'clf__copy_X':(True,False),\n",
    "        'clf__fit_intercept':(True,False),\n",
    "        'clf__normalize':(True,False),\n",
    "        'clf__positive':(True,False),\n",
    "        'clf__selection':('cyclic','random'),\n",
    "        'clf__l1_ratio':(arange(0.1, 1, 0.1)),\n",
    "        'clf__random_state':([7]),\n",
    "        'clf__tol':(0.1, 0.5, 1)}"
   ]
  },
  {
   "cell_type": "code",
   "execution_count": 21,
   "metadata": {},
   "outputs": [
    {
     "name": "stdout",
     "output_type": "stream",
     "text": [
      "\n",
      "\n",
      "Running cross fold validation for Elastic Net with _all_business dataset\n",
      "Fitting 10 folds for each of 3456 candidates, totalling 34560 fits\n"
     ]
    },
    {
     "name": "stderr",
     "output_type": "stream",
     "text": [
      "[Parallel(n_jobs=6)]: Using backend LokyBackend with 6 concurrent workers.\n",
      "[Parallel(n_jobs=6)]: Done 100 tasks      | elapsed:    0.5s\n",
      "[Parallel(n_jobs=6)]: Done 1300 tasks      | elapsed:    5.9s\n",
      "[Parallel(n_jobs=6)]: Done 3300 tasks      | elapsed:   14.8s\n",
      "[Parallel(n_jobs=6)]: Done 6100 tasks      | elapsed:   27.2s\n",
      "[Parallel(n_jobs=6)]: Done 9700 tasks      | elapsed:   42.2s\n",
      "[Parallel(n_jobs=6)]: Done 14100 tasks      | elapsed:  1.0min\n",
      "[Parallel(n_jobs=6)]: Done 17885 tasks      | elapsed:  1.7min\n",
      "[Parallel(n_jobs=6)]: Done 19487 tasks      | elapsed:  3.0min\n",
      "[Parallel(n_jobs=6)]: Done 21208 tasks      | elapsed:  4.4min\n",
      "[Parallel(n_jobs=6)]: Done 23164 tasks      | elapsed:  6.1min\n",
      "[Parallel(n_jobs=6)]: Done 25112 tasks      | elapsed:  7.6min\n",
      "[Parallel(n_jobs=6)]: Done 31962 tasks      | elapsed:  8.7min\n",
      "[Parallel(n_jobs=6)]: Done 34560 out of 34560 | elapsed:  8.9min finished\n",
      "c:\\users\\chris\\appdata\\local\\programs\\python\\python39\\lib\\site-packages\\sklearn\\pipeline.py:335: UserWarning: With alpha=0, this algorithm does not converge well. You are advised to use the LinearRegression estimator\n",
      "  self._final_estimator.fit(Xt, y, **fit_params_last_step)\n",
      "c:\\users\\chris\\appdata\\local\\programs\\python\\python39\\lib\\site-packages\\sklearn\\linear_model\\_coordinate_descent.py:529: UserWarning: Coordinate descent with no regularization may lead to unexpected results and is discouraged.\n",
      "  model = cd_fast.enet_coordinate_descent(\n"
     ]
    },
    {
     "name": "stdout",
     "output_type": "stream",
     "text": [
      "\n",
      "Best score for Elastic Net with _all_business dataset: 0.450458856203377\n",
      "\n",
      "Best hyperparameters for Elastic Net with _all_business dataset:\n",
      "memory : None\n",
      "steps : [('clf', ElasticNet(alpha=0.0, l1_ratio=0.1, normalize=True, positive=True,\n",
      "           random_state=7, tol=0.5))]\n",
      "verbose : False\n",
      "clf : ElasticNet(alpha=0.0, l1_ratio=0.1, normalize=True, positive=True,\n",
      "           random_state=7, tol=0.5)\n",
      "clf__alpha : 0.0\n",
      "clf__copy_X : True\n",
      "clf__fit_intercept : True\n",
      "clf__l1_ratio : 0.1\n",
      "clf__max_iter : 1000\n",
      "clf__normalize : True\n",
      "clf__positive : True\n",
      "clf__precompute : False\n",
      "clf__random_state : 7\n",
      "clf__selection : cyclic\n",
      "clf__tol : 0.5\n",
      "clf__warm_start : False\n",
      "\n",
      "Prediction scores for Elastic Net using _all_business :\n",
      "Mean Squared error: 10.690453996939063\n",
      "Mean Absolute error: 1.8446010103031958\n",
      "R^2: 0.45155347829168035\n"
     ]
    }
   ],
   "source": [
    "bus_model, bus_train_score, bus_mse, bus_mae, bus_r2 = get_best_model_revised(sel_methods[4], args, num_folds, is_sample)"
   ]
  },
  {
   "cell_type": "code",
   "execution_count": 24,
   "metadata": {},
   "outputs": [],
   "source": [
    "# further hyperparameter tuning\n",
    "is_sample = False\n",
    "num_folds = 10\n",
    "args = {'clf__alpha':(0.00001,0.0001),\n",
    "        'clf__copy_X':(True,False),\n",
    "        'clf__fit_intercept':(True,False),\n",
    "        'clf__normalize':(True,False),\n",
    "        'clf__positive':(True,False),\n",
    "        'clf__selection':('cyclic','random'),\n",
    "        'clf__l1_ratio':(arange(0.05, 0.15, 0.01)),\n",
    "        'clf__random_state':([7]),\n",
    "        'clf__tol':(0.4, 0.9, 0.1)}"
   ]
  },
  {
   "cell_type": "code",
   "execution_count": 25,
   "metadata": {
    "scrolled": false
   },
   "outputs": [
    {
     "name": "stdout",
     "output_type": "stream",
     "text": [
      "\n",
      "\n",
      "Running cross fold validation for Elastic Net with _all_business dataset\n",
      "Fitting 10 folds for each of 1920 candidates, totalling 19200 fits\n"
     ]
    },
    {
     "name": "stderr",
     "output_type": "stream",
     "text": [
      "[Parallel(n_jobs=6)]: Using backend LokyBackend with 6 concurrent workers.\n",
      "[Parallel(n_jobs=6)]: Done 100 tasks      | elapsed:    0.6s\n",
      "[Parallel(n_jobs=6)]: Done 1300 tasks      | elapsed:    7.1s\n",
      "[Parallel(n_jobs=6)]: Done 3300 tasks      | elapsed:   18.1s\n",
      "[Parallel(n_jobs=6)]: Done 6100 tasks      | elapsed:   33.2s\n",
      "[Parallel(n_jobs=6)]: Done 9700 tasks      | elapsed:   51.5s\n",
      "[Parallel(n_jobs=6)]: Done 14100 tasks      | elapsed:  1.2min\n",
      "[Parallel(n_jobs=6)]: Done 19200 out of 19200 | elapsed:  1.7min finished\n"
     ]
    },
    {
     "name": "stdout",
     "output_type": "stream",
     "text": [
      "\n",
      "Best score for Elastic Net with _all_business dataset: 0.4506050242009437\n",
      "\n",
      "Best hyperparameters for Elastic Net with _all_business dataset:\n",
      "memory : None\n",
      "steps : [('clf', ElasticNet(alpha=1e-05, l1_ratio=0.05, random_state=7, selection='random',\n",
      "           tol=0.1))]\n",
      "verbose : False\n",
      "clf : ElasticNet(alpha=1e-05, l1_ratio=0.05, random_state=7, selection='random',\n",
      "           tol=0.1)\n",
      "clf__alpha : 1e-05\n",
      "clf__copy_X : True\n",
      "clf__fit_intercept : True\n",
      "clf__l1_ratio : 0.05\n",
      "clf__max_iter : 1000\n",
      "clf__normalize : False\n",
      "clf__positive : False\n",
      "clf__precompute : False\n",
      "clf__random_state : 7\n",
      "clf__selection : random\n",
      "clf__tol : 0.1\n",
      "clf__warm_start : False\n",
      "\n",
      "Prediction scores for Elastic Net using _all_business :\n",
      "Mean Squared error: 10.633165347611973\n",
      "Mean Absolute error: 1.854219166772906\n",
      "R^2: 0.45449252657398964\n"
     ]
    }
   ],
   "source": [
    "bus_model, bus_train_score, bus_mse, bus_mae, bus_r2 = get_best_model_revised(sel_methods[4], args, num_folds, is_sample)"
   ]
  },
  {
   "cell_type": "code",
   "execution_count": 27,
   "metadata": {},
   "outputs": [],
   "source": [
    "# further hyperparameter tuning\n",
    "is_sample = False\n",
    "num_folds = 10\n",
    "args = {'clf__alpha':(0.00001,0.0001),\n",
    "        'clf__copy_X':(True,False),\n",
    "        'clf__fit_intercept':(True,False),\n",
    "        'clf__normalize':(True,False),\n",
    "        'clf__positive':(True,False),\n",
    "        'clf__selection':('cyclic','random'),\n",
    "        'clf__l1_ratio':(arange(0.01, 0.15, 0.01)),\n",
    "        'clf__random_state':([7]),\n",
    "        'clf__tol':(arange(0.4, 0.9, 0.1))}"
   ]
  },
  {
   "cell_type": "code",
   "execution_count": 28,
   "metadata": {},
   "outputs": [
    {
     "name": "stdout",
     "output_type": "stream",
     "text": [
      "\n",
      "\n",
      "Running cross fold validation for Elastic Net with _all_business dataset\n",
      "Fitting 10 folds for each of 4480 candidates, totalling 44800 fits\n"
     ]
    },
    {
     "name": "stderr",
     "output_type": "stream",
     "text": [
      "[Parallel(n_jobs=6)]: Using backend LokyBackend with 6 concurrent workers.\n",
      "[Parallel(n_jobs=6)]: Done 100 tasks      | elapsed:    0.6s\n",
      "[Parallel(n_jobs=6)]: Done 1300 tasks      | elapsed:    6.1s\n",
      "[Parallel(n_jobs=6)]: Done 3300 tasks      | elapsed:   15.0s\n",
      "[Parallel(n_jobs=6)]: Done 6100 tasks      | elapsed:   28.0s\n",
      "[Parallel(n_jobs=6)]: Done 9700 tasks      | elapsed:   47.2s\n",
      "[Parallel(n_jobs=6)]: Done 14100 tasks      | elapsed:  1.2min\n",
      "[Parallel(n_jobs=6)]: Done 19300 tasks      | elapsed:  1.5min\n",
      "[Parallel(n_jobs=6)]: Done 25300 tasks      | elapsed:  2.0min\n",
      "[Parallel(n_jobs=6)]: Done 32100 tasks      | elapsed:  2.5min\n",
      "[Parallel(n_jobs=6)]: Done 39700 tasks      | elapsed:  3.0min\n",
      "[Parallel(n_jobs=6)]: Done 44800 out of 44800 | elapsed:  3.3min finished\n"
     ]
    },
    {
     "name": "stdout",
     "output_type": "stream",
     "text": [
      "\n",
      "Best score for Elastic Net with _all_business dataset: 0.4503913516209181\n",
      "\n",
      "Best hyperparameters for Elastic Net with _all_business dataset:\n",
      "memory : None\n",
      "steps : [('clf', ElasticNet(alpha=1e-05, l1_ratio=0.01, random_state=7, tol=0.4))]\n",
      "verbose : False\n",
      "clf : ElasticNet(alpha=1e-05, l1_ratio=0.01, random_state=7, tol=0.4)\n",
      "clf__alpha : 1e-05\n",
      "clf__copy_X : True\n",
      "clf__fit_intercept : True\n",
      "clf__l1_ratio : 0.01\n",
      "clf__max_iter : 1000\n",
      "clf__normalize : False\n",
      "clf__positive : False\n",
      "clf__precompute : False\n",
      "clf__random_state : 7\n",
      "clf__selection : cyclic\n",
      "clf__tol : 0.4\n",
      "clf__warm_start : False\n",
      "\n",
      "Prediction scores for Elastic Net using _all_business :\n",
      "Mean Squared error: 10.640872261313252\n",
      "Mean Absolute error: 1.8436115672060271\n",
      "R^2: 0.4540971429903007\n"
     ]
    }
   ],
   "source": [
    "bus_model, bus_train_score, bus_mse, bus_mae, bus_r2 = get_best_model_revised(sel_methods[4], args, num_folds, is_sample)"
   ]
  },
  {
   "cell_type": "code",
   "execution_count": 29,
   "metadata": {},
   "outputs": [],
   "source": [
    "# further hyperparameter tuning\n",
    "is_sample = False\n",
    "num_folds = 10\n",
    "args = {'clf__alpha':(0.00001,0.00002,0.00003,0.00004,0.00005),\n",
    "        'clf__copy_X':(True,False),\n",
    "        'clf__fit_intercept':(True,False),\n",
    "        'clf__normalize':(True,False),\n",
    "        'clf__positive':(True,False),\n",
    "        'clf__selection':('cyclic','random'),\n",
    "        'clf__l1_ratio':(arange(0.01, 0.15, 0.01)),\n",
    "        'clf__random_state':([7]),\n",
    "        'clf__tol':(arange(0.1, 0.9, 0.1))}"
   ]
  },
  {
   "cell_type": "code",
   "execution_count": 30,
   "metadata": {
    "scrolled": false
   },
   "outputs": [
    {
     "name": "stdout",
     "output_type": "stream",
     "text": [
      "\n",
      "\n",
      "Running cross fold validation for Elastic Net with _all_business dataset\n",
      "Fitting 10 folds for each of 17920 candidates, totalling 179200 fits\n"
     ]
    },
    {
     "name": "stderr",
     "output_type": "stream",
     "text": [
      "[Parallel(n_jobs=6)]: Using backend LokyBackend with 6 concurrent workers.\n",
      "[Parallel(n_jobs=6)]: Done 100 tasks      | elapsed:    0.7s\n",
      "[Parallel(n_jobs=6)]: Done 1300 tasks      | elapsed:    7.4s\n",
      "[Parallel(n_jobs=6)]: Done 3300 tasks      | elapsed:   18.5s\n",
      "[Parallel(n_jobs=6)]: Done 6100 tasks      | elapsed:   33.1s\n",
      "[Parallel(n_jobs=6)]: Done 9700 tasks      | elapsed:   51.5s\n",
      "[Parallel(n_jobs=6)]: Done 14100 tasks      | elapsed:  1.2min\n",
      "[Parallel(n_jobs=6)]: Done 19300 tasks      | elapsed:  1.7min\n",
      "[Parallel(n_jobs=6)]: Done 25300 tasks      | elapsed:  2.2min\n",
      "[Parallel(n_jobs=6)]: Done 32100 tasks      | elapsed:  2.8min\n",
      "[Parallel(n_jobs=6)]: Done 39700 tasks      | elapsed:  3.4min\n",
      "[Parallel(n_jobs=6)]: Done 48100 tasks      | elapsed:  4.1min\n",
      "[Parallel(n_jobs=6)]: Done 57300 tasks      | elapsed:  4.9min\n",
      "[Parallel(n_jobs=6)]: Done 67300 tasks      | elapsed:  5.7min\n",
      "[Parallel(n_jobs=6)]: Done 78100 tasks      | elapsed:  6.5min\n",
      "[Parallel(n_jobs=6)]: Done 89700 tasks      | elapsed:  7.5min\n",
      "[Parallel(n_jobs=6)]: Done 102100 tasks      | elapsed:  8.5min\n",
      "[Parallel(n_jobs=6)]: Done 115300 tasks      | elapsed:  9.5min\n",
      "[Parallel(n_jobs=6)]: Done 129300 tasks      | elapsed: 10.7min\n",
      "[Parallel(n_jobs=6)]: Done 144100 tasks      | elapsed: 11.8min\n",
      "[Parallel(n_jobs=6)]: Done 159700 tasks      | elapsed: 13.1min\n",
      "[Parallel(n_jobs=6)]: Done 176100 tasks      | elapsed: 14.4min\n",
      "[Parallel(n_jobs=6)]: Done 179200 out of 179200 | elapsed: 14.6min finished\n"
     ]
    },
    {
     "name": "stdout",
     "output_type": "stream",
     "text": [
      "\n",
      "Best score for Elastic Net with _all_business dataset: 0.45089681526573455\n",
      "\n",
      "Best hyperparameters for Elastic Net with _all_business dataset:\n",
      "memory : None\n",
      "steps : [('clf', ElasticNet(alpha=4e-05, l1_ratio=0.14, random_state=7, selection='random',\n",
      "           tol=0.2))]\n",
      "verbose : False\n",
      "clf : ElasticNet(alpha=4e-05, l1_ratio=0.14, random_state=7, selection='random',\n",
      "           tol=0.2)\n",
      "clf__alpha : 4e-05\n",
      "clf__copy_X : True\n",
      "clf__fit_intercept : True\n",
      "clf__l1_ratio : 0.14\n",
      "clf__max_iter : 1000\n",
      "clf__normalize : False\n",
      "clf__positive : False\n",
      "clf__precompute : False\n",
      "clf__random_state : 7\n",
      "clf__selection : random\n",
      "clf__tol : 0.2\n",
      "clf__warm_start : False\n",
      "\n",
      "Prediction scores for Elastic Net using _all_business :\n",
      "Mean Squared error: 10.594948398961588\n",
      "Mean Absolute error: 1.8527056150164438\n",
      "R^2: 0.45645314981446294\n"
     ]
    }
   ],
   "source": [
    "bus_model, bus_train_score, bus_mse, bus_mae, bus_r2 = get_best_model_revised(sel_methods[4], args, num_folds, is_sample)"
   ]
  },
  {
   "cell_type": "code",
   "execution_count": 31,
   "metadata": {},
   "outputs": [],
   "source": [
    "# little increase in scores, seems model is perhaps not applicable to dataset, model saved\n",
    "save_model(bus_model,sel_methods[4])"
   ]
  },
  {
   "cell_type": "markdown",
   "metadata": {},
   "source": [
    "<h3>Visualise scores<h3>"
   ]
  },
  {
   "cell_type": "code",
   "execution_count": 32,
   "metadata": {},
   "outputs": [],
   "source": [
    "training_scores = [f_reg_train_score, chi2_train_score, ada_train_score, equal_train_score, bus_train_score]\n",
    "mse_scores = [f_reg_mse, chi2_mse, ada_mse, equal_mse, bus_mse]\n",
    "mae_scores = [f_reg_mae, chi2_mae, ada_mae, equal_mae, bus_mae]\n",
    "r2_scores = [f_reg_r2, chi2_r2, ada_r2, equal_r2, bus_r2]\n",
    "datasets = [\"F-Regression\",\"Chi-Squared\",\"AdaBoost\",\"Equal Business\\nand Crime\",\"All Business\"]\n",
    "y_select = np.arange(len(datasets))"
   ]
  },
  {
   "cell_type": "code",
   "execution_count": 33,
   "metadata": {
    "scrolled": false
   },
   "outputs": [
    {
     "data": {
      "text/plain": [
       "<BarContainer object of 5 artists>"
      ]
     },
     "execution_count": 33,
     "metadata": {},
     "output_type": "execute_result"
    },
    {
     "data": {
      "image/png": "[encoded data removed]",
      "text/plain": [
       "<Figure size 720x720 with 1 Axes>"
      ]
     },
     "metadata": {
      "needs_background": "light"
     },
     "output_type": "display_data"
    }
   ],
   "source": [
    "plt.figure(figsize = (10,10))\n",
    "plt.xticks(y_select,datasets)\n",
    "plt.title(display_name + \" training score\")\n",
    "plt.xlabel(\"Dataset\")\n",
    "plt.ylabel(\"Training score (r-squared)\")\n",
    "plt.bar(y_select, training_scores)"
   ]
  },
  {
   "cell_type": "code",
   "execution_count": 34,
   "metadata": {},
   "outputs": [
    {
     "data": {
      "text/plain": [
       "<BarContainer object of 5 artists>"
      ]
     },
     "execution_count": 34,
     "metadata": {},
     "output_type": "execute_result"
    },
    {
     "data": {
      "image/png": "[encoded data removed]",
      "text/plain": [
       "<Figure size 720x720 with 1 Axes>"
      ]
     },
     "metadata": {
      "needs_background": "light"
     },
     "output_type": "display_data"
    }
   ],
   "source": [
    "plt.figure(figsize = (10,10))\n",
    "plt.xticks(y_select,datasets)\n",
    "plt.title(display_name + \" testing mean-squared error\")\n",
    "plt.xlabel(\"Dataset\")\n",
    "plt.ylabel(\"Mean-squared error\")\n",
    "plt.bar(y_select, mse_scores)"
   ]
  },
  {
   "cell_type": "code",
   "execution_count": 35,
   "metadata": {},
   "outputs": [
    {
     "data": {
      "text/plain": [
       "<BarContainer object of 5 artists>"
      ]
     },
     "execution_count": 35,
     "metadata": {},
     "output_type": "execute_result"
    },
    {
     "data": {
      "image/png": "[encoded data removed]",
      "text/plain": [
       "<Figure size 720x720 with 1 Axes>"
      ]
     },
     "metadata": {
      "needs_background": "light"
     },
     "output_type": "display_data"
    }
   ],
   "source": [
    "plt.figure(figsize = (10,10))\n",
    "plt.xticks(y_select,datasets)\n",
    "plt.title(display_name + \" testing mean-absolute error\")\n",
    "plt.xlabel(\"Dataset\")\n",
    "plt.ylabel(\"Mean absolute error\")\n",
    "plt.bar(y_select, mae_scores)"
   ]
  },
  {
   "cell_type": "code",
   "execution_count": 36,
   "metadata": {},
   "outputs": [
    {
     "data": {
      "text/plain": [
       "<BarContainer object of 5 artists>"
      ]
     },
     "execution_count": 36,
     "metadata": {},
     "output_type": "execute_result"
    },
    {
     "data": {
      "image/png": "[encoded data removed]",
      "text/plain": [
       "<Figure size 720x720 with 1 Axes>"
      ]
     },
     "metadata": {
      "needs_background": "light"
     },
     "output_type": "display_data"
    }
   ],
   "source": [
    "plt.figure(figsize = (10,10))\n",
    "plt.xticks(y_select,datasets)\n",
    "plt.title(display_name + \" testing r-squared scores\")\n",
    "plt.xlabel(\"Dataset\")\n",
    "plt.ylabel(\"R-Squared Score\")\n",
    "plt.bar(y_select, r2_scores)"
   ]
  },
  {
   "cell_type": "code",
   "execution_count": null,
   "metadata": {},
   "outputs": [],
   "source": []
  }
 ],
 "metadata": {
  "kernelspec": {
   "display_name": "Python 3",
   "language": "python",
   "name": "python3"
  },
  "language_info": {
   "codemirror_mode": {
    "name": "ipython",
    "version": 3
   },
   "file_extension": ".py",
   "mimetype": "text/x-python",
   "name": "python",
   "nbconvert_exporter": "python",
   "pygments_lexer": "ipython3",
   "version": "3.9.0"
  }
 },
 "nbformat": 4,
 "nbformat_minor": 4
}
