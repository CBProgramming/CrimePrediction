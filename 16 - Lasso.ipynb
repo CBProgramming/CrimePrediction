{
 "cells": [
  {
   "cell_type": "code",
   "execution_count": 8,
   "metadata": {},
   "outputs": [],
   "source": [
    "import numpy as np\n",
    "from numpy import arange\n",
    "import pandas as pd\n",
    "import matplotlib.pyplot as plt\n",
    "%matplotlib inline\n",
    "import sklearn\n",
    "from sklearn.metrics import mean_squared_error, r2_score, mean_absolute_error\n",
    "from sklearn.pipeline import Pipeline\n",
    "from sklearn.model_selection import GridSearchCV\n",
    "import pickle"
   ]
  },
  {
   "cell_type": "code",
   "execution_count": 9,
   "metadata": {},
   "outputs": [],
   "source": [
    "from sklearn.linear_model import Lasso"
   ]
  },
  {
   "cell_type": "code",
   "execution_count": 10,
   "metadata": {},
   "outputs": [],
   "source": [
    "model_name = \"lasso\"\n",
    "display_name = \"Lasso\""
   ]
  },
  {
   "cell_type": "code",
   "execution_count": 11,
   "metadata": {},
   "outputs": [],
   "source": [
    "y_test = pd.read_csv('y_test.csv')\n",
    "file = open(\"Selection Methods\",\"rb\")\n",
    "sel_methods = np.load(file)"
   ]
  },
  {
   "cell_type": "code",
   "execution_count": 12,
   "metadata": {},
   "outputs": [],
   "source": [
    "def get_best_model(method, args, _cv, is_sample):\n",
    "    sample_string = ''\n",
    "    if (is_sample):\n",
    "        sample_string = '_sample'\n",
    "    y_train = pd.read_csv('y_train'+ sample_string + '.csv')    \n",
    "    method_string = method\n",
    "    if (method == ''):\n",
    "        method_string = \"no feature selection\"\n",
    "    print('\\n\\nRunning cross fold validation for',display_name,'with',method_string,'dataset')\n",
    "    x_train = pd.read_csv('x_train' + method + sample_string + '.csv').values\n",
    "    x_test = pd.read_csv('x_test' + method + '.csv').values\n",
    "    pipe = Pipeline([('clf', Lasso())])\n",
    "    grid = GridSearchCV(pipe, args, cv = _cv, verbose = 1, scoring = 'r2', n_jobs=6)\n",
    "    grid.fit(x_train, y_train.values.ravel())\n",
    "    print('\\nBest score for',display_name,'with',method_string,\"dataset:\",grid.best_score_)\n",
    "    best_args = grid.best_estimator_.get_params()\n",
    "    print('\\nBest hyperparameters for',display_name,'with',method_string,'dataset:')\n",
    "    for arg in best_args:\n",
    "        print(arg,\":\",best_args[arg])\n",
    "    y_test_predict = grid.predict(x_test)\n",
    "    mse = mean_squared_error(y_test,y_test_predict)\n",
    "    mae = mean_absolute_error(y_test,y_test_predict)\n",
    "    r2 = r2_score(y_test,y_test_predict)\n",
    "    print('\\nPrediction scores for',display_name,'using',method_string,':')\n",
    "    print('Mean Squared error:',mse)\n",
    "    print('Mean Absolute error:',mae)\n",
    "    print('R^2:',r2)\n",
    "    return grid.best_estimator_,grid.best_score_,mse,mae,r2"
   ]
  },
  {
   "cell_type": "code",
   "execution_count": 13,
   "metadata": {},
   "outputs": [],
   "source": [
    "def save_model(model,method):\n",
    "    with open('CrimeGUI/Models/'+model_name+method,'wb') as file:\n",
    "        pickle.dump(model,file)"
   ]
  },
  {
   "cell_type": "code",
   "execution_count": 14,
   "metadata": {},
   "outputs": [
    {
     "name": "stdout",
     "output_type": "stream",
     "text": [
      "['_f_regression' '_chi2' '_adaboost' '_equal_crime_and_business'\n",
      " '_all_business']\n"
     ]
    }
   ],
   "source": [
    "print(sel_methods)"
   ]
  },
  {
   "cell_type": "markdown",
   "metadata": {},
   "source": [
    "<h3>F-Regression feature selected dataset<h3>"
   ]
  },
  {
   "cell_type": "code",
   "execution_count": 17,
   "metadata": {},
   "outputs": [],
   "source": [
    "is_sample = False\n",
    "num_folds = 10\n",
    "args = {'clf__alpha':(arange(0,2,0.1)),\n",
    "        'clf__copy_X':(True,False),\n",
    "        'clf__fit_intercept':(True,False),\n",
    "        'clf__normalize':(True,False),\n",
    "        'clf__positive':(True,False),\n",
    "        'clf__selection':('cyclic','random'),\n",
    "        'clf__random_state':([7]),\n",
    "        'clf__tol':(arange(0,2,0.1))}"
   ]
  },
  {
   "cell_type": "code",
   "execution_count": 18,
   "metadata": {},
   "outputs": [
    {
     "name": "stdout",
     "output_type": "stream",
     "text": [
      "\n",
      "\n",
      "Running cross fold validation for Lasso with _f_regression dataset\n",
      "Fitting 10 folds for each of 12800 candidates, totalling 128000 fits\n"
     ]
    },
    {
     "name": "stderr",
     "output_type": "stream",
     "text": [
      "[Parallel(n_jobs=6)]: Using backend LokyBackend with 6 concurrent workers.\n",
      "[Parallel(n_jobs=6)]: Done  38 tasks      | elapsed:    3.0s\n",
      "[Parallel(n_jobs=6)]: Done 497 tasks      | elapsed:   10.0s\n",
      "[Parallel(n_jobs=6)]: Done 1560 tasks      | elapsed:   27.7s\n",
      "[Parallel(n_jobs=6)]: Done 3064 tasks      | elapsed:   47.5s\n",
      "[Parallel(n_jobs=6)]: Done 5030 tasks      | elapsed:  1.3min\n",
      "[Parallel(n_jobs=6)]: Done 7452 tasks      | elapsed:  1.9min\n",
      "[Parallel(n_jobs=6)]: Done 10108 tasks      | elapsed:  2.4min\n",
      "[Parallel(n_jobs=6)]: Done 13424 tasks      | elapsed:  3.1min\n",
      "[Parallel(n_jobs=6)]: Done 18210 tasks      | elapsed:  3.8min\n",
      "[Parallel(n_jobs=6)]: Done 23414 tasks      | elapsed:  4.8min\n",
      "[Parallel(n_jobs=6)]: Done 29092 tasks      | elapsed:  5.9min\n",
      "[Parallel(n_jobs=6)]: Done 34101 tasks      | elapsed:  7.1min\n",
      "[Parallel(n_jobs=6)]: Done 39610 tasks      | elapsed:  8.3min\n",
      "[Parallel(n_jobs=6)]: Done 45266 tasks      | elapsed:  9.7min\n",
      "[Parallel(n_jobs=6)]: Done 51782 tasks      | elapsed: 11.1min\n",
      "[Parallel(n_jobs=6)]: Done 59140 tasks      | elapsed: 12.7min\n",
      "[Parallel(n_jobs=6)]: Done 66113 tasks      | elapsed: 14.3min\n",
      "[Parallel(n_jobs=6)]: Done 73280 tasks      | elapsed: 16.0min\n",
      "[Parallel(n_jobs=6)]: Done 80798 tasks      | elapsed: 17.8min\n",
      "[Parallel(n_jobs=6)]: Done 89776 tasks      | elapsed: 19.7min\n",
      "[Parallel(n_jobs=6)]: Done 99186 tasks      | elapsed: 21.8min\n",
      "[Parallel(n_jobs=6)]: Done 108336 tasks      | elapsed: 23.9min\n",
      "[Parallel(n_jobs=6)]: Done 118894 tasks      | elapsed: 26.3min\n",
      "[Parallel(n_jobs=6)]: Done 128000 out of 128000 | elapsed: 28.4min finished\n",
      "c:\\users\\chris\\appdata\\local\\programs\\python\\python39\\lib\\site-packages\\sklearn\\pipeline.py:335: UserWarning: With alpha=0, this algorithm does not converge well. You are advised to use the LinearRegression estimator\n",
      "  self._final_estimator.fit(Xt, y, **fit_params_last_step)\n",
      "c:\\users\\chris\\appdata\\local\\programs\\python\\python39\\lib\\site-packages\\sklearn\\linear_model\\_coordinate_descent.py:529: UserWarning: Coordinate descent with no regularization may lead to unexpected results and is discouraged.\n",
      "  model = cd_fast.enet_coordinate_descent(\n"
     ]
    },
    {
     "name": "stdout",
     "output_type": "stream",
     "text": [
      "\n",
      "Best score for Lasso with _f_regression dataset: 0.7439901710700152\n",
      "\n",
      "Best hyperparameters for Lasso with _f_regression dataset:\n",
      "memory : None\n",
      "steps : [('clf', Lasso(alpha=0.0, normalize=True, positive=True, random_state=7, tol=0.0))]\n",
      "verbose : False\n",
      "clf : Lasso(alpha=0.0, normalize=True, positive=True, random_state=7, tol=0.0)\n",
      "clf__alpha : 0.0\n",
      "clf__copy_X : True\n",
      "clf__fit_intercept : True\n",
      "clf__max_iter : 1000\n",
      "clf__normalize : True\n",
      "clf__positive : True\n",
      "clf__precompute : False\n",
      "clf__random_state : 7\n",
      "clf__selection : cyclic\n",
      "clf__tol : 0.0\n",
      "clf__warm_start : False\n",
      "\n",
      "Prediction scores for Lasso using _f_regression :\n",
      "Mean Squared error: 4.8428290529327205\n",
      "Mean Absolute error: 1.3789992709632761\n",
      "R^2: 0.7515509865091387\n"
     ]
    },
    {
     "name": "stderr",
     "output_type": "stream",
     "text": [
      "c:\\users\\chris\\appdata\\local\\programs\\python\\python39\\lib\\site-packages\\sklearn\\linear_model\\_coordinate_descent.py:529: ConvergenceWarning: Objective did not converge. You might want to increase the number of iterations. Duality gap: 109628.69280115896, tolerance: 0.0\n",
      "  model = cd_fast.enet_coordinate_descent(\n"
     ]
    }
   ],
   "source": [
    "f_reg_model, f_reg_train_score, f_reg_mse, f_reg_mae, f_reg_r2 = get_best_model(sel_methods[0], args, num_folds, is_sample)"
   ]
  },
  {
   "cell_type": "code",
   "execution_count": 15,
   "metadata": {},
   "outputs": [],
   "source": [
    "#smaller alpha and tol range explored\n",
    "is_sample = False\n",
    "num_folds = 10\n",
    "args = {'clf__alpha':(arange(0,0.5,0.05)),\n",
    "        'clf__copy_X':(True,False),\n",
    "        'clf__fit_intercept':(True,False),\n",
    "        'clf__normalize':(True,False),\n",
    "        'clf__positive':(True,False),\n",
    "        'clf__selection':('cyclic','random'),\n",
    "        'clf__random_state':([7]),\n",
    "        'clf__tol':(arange(0,0.5,0.05))}"
   ]
  },
  {
   "cell_type": "code",
   "execution_count": 16,
   "metadata": {},
   "outputs": [
    {
     "name": "stdout",
     "output_type": "stream",
     "text": [
      "\n",
      "\n",
      "Running cross fold validation for Lasso with _f_regression dataset\n",
      "Fitting 10 folds for each of 3200 candidates, totalling 32000 fits\n"
     ]
    },
    {
     "name": "stderr",
     "output_type": "stream",
     "text": [
      "[Parallel(n_jobs=6)]: Using backend LokyBackend with 6 concurrent workers.\n",
      "[Parallel(n_jobs=6)]: Done  38 tasks      | elapsed:    3.3s\n",
      "[Parallel(n_jobs=6)]: Done 472 tasks      | elapsed:   21.3s\n",
      "[Parallel(n_jobs=6)]: Done 1105 tasks      | elapsed:   47.1s\n",
      "[Parallel(n_jobs=6)]: Done 1940 tasks      | elapsed:  1.4min\n",
      "[Parallel(n_jobs=6)]: Done 2962 tasks      | elapsed:  2.1min\n",
      "[Parallel(n_jobs=6)]: Done 4740 tasks      | elapsed:  2.8min\n",
      "[Parallel(n_jobs=6)]: Done 7221 tasks      | elapsed:  3.6min\n",
      "[Parallel(n_jobs=6)]: Done 9704 tasks      | elapsed:  4.4min\n",
      "[Parallel(n_jobs=6)]: Done 12966 tasks      | elapsed:  5.5min\n",
      "[Parallel(n_jobs=6)]: Done 16634 tasks      | elapsed:  6.6min\n",
      "[Parallel(n_jobs=6)]: Done 21466 tasks      | elapsed:  8.0min\n",
      "[Parallel(n_jobs=6)]: Done 25086 tasks      | elapsed:  9.2min\n",
      "[Parallel(n_jobs=6)]: Done 29144 tasks      | elapsed: 10.8min\n",
      "[Parallel(n_jobs=6)]: Done 32000 out of 32000 | elapsed: 11.9min finished\n",
      "c:\\users\\chris\\appdata\\local\\programs\\python\\python39\\lib\\site-packages\\sklearn\\pipeline.py:335: UserWarning: With alpha=0, this algorithm does not converge well. You are advised to use the LinearRegression estimator\n",
      "  self._final_estimator.fit(Xt, y, **fit_params_last_step)\n",
      "c:\\users\\chris\\appdata\\local\\programs\\python\\python39\\lib\\site-packages\\sklearn\\linear_model\\_coordinate_descent.py:529: UserWarning: Coordinate descent with no regularization may lead to unexpected results and is discouraged.\n",
      "  model = cd_fast.enet_coordinate_descent(\n"
     ]
    },
    {
     "name": "stdout",
     "output_type": "stream",
     "text": [
      "\n",
      "Best score for Lasso with _f_regression dataset: 0.7439901710700152\n",
      "\n",
      "Best hyperparameters for Lasso with _f_regression dataset:\n",
      "memory : None\n",
      "steps : [('clf', Lasso(alpha=0.0, normalize=True, positive=True, random_state=7, tol=0.0))]\n",
      "verbose : False\n",
      "clf : Lasso(alpha=0.0, normalize=True, positive=True, random_state=7, tol=0.0)\n",
      "clf__alpha : 0.0\n",
      "clf__copy_X : True\n",
      "clf__fit_intercept : True\n",
      "clf__max_iter : 1000\n",
      "clf__normalize : True\n",
      "clf__positive : True\n",
      "clf__precompute : False\n",
      "clf__random_state : 7\n",
      "clf__selection : cyclic\n",
      "clf__tol : 0.0\n",
      "clf__warm_start : False\n",
      "\n",
      "Prediction scores for Lasso using _f_regression :\n",
      "Mean Squared error: 4.8428290529327205\n",
      "Mean Absolute error: 1.3789992709632761\n",
      "R^2: 0.7515509865091387\n"
     ]
    },
    {
     "name": "stderr",
     "output_type": "stream",
     "text": [
      "c:\\users\\chris\\appdata\\local\\programs\\python\\python39\\lib\\site-packages\\sklearn\\linear_model\\_coordinate_descent.py:529: ConvergenceWarning: Objective did not converge. You might want to increase the number of iterations. Duality gap: 109628.69280115896, tolerance: 0.0\n",
      "  model = cd_fast.enet_coordinate_descent(\n"
     ]
    }
   ],
   "source": [
    "f_reg_model, f_reg_train_score, f_reg_mse, f_reg_mae, f_reg_r2 = get_best_model(sel_methods[0], args, num_folds, is_sample)"
   ]
  },
  {
   "cell_type": "code",
   "execution_count": 17,
   "metadata": {},
   "outputs": [],
   "source": [
    "# parameters stable, model saved\n",
    "save_model(f_reg_model,sel_methods[0])"
   ]
  },
  {
   "cell_type": "markdown",
   "metadata": {},
   "source": [
    "<h3>Chi-Squared feature selected dataset<h3>"
   ]
  },
  {
   "cell_type": "code",
   "execution_count": 19,
   "metadata": {},
   "outputs": [],
   "source": [
    "is_sample = False\n",
    "num_folds = 10\n",
    "args = {'clf__alpha':(arange(0,2,0.1)),\n",
    "        'clf__copy_X':(True,False),\n",
    "        'clf__fit_intercept':(True,False),\n",
    "        'clf__normalize':(True,False),\n",
    "        'clf__positive':(True,False),\n",
    "        'clf__selection':('cyclic','random'),\n",
    "        'clf__random_state':([7]),\n",
    "        'clf__tol':(arange(0,2,0.1))}"
   ]
  },
  {
   "cell_type": "code",
   "execution_count": 20,
   "metadata": {},
   "outputs": [
    {
     "name": "stdout",
     "output_type": "stream",
     "text": [
      "\n",
      "\n",
      "Running cross fold validation for Lasso with _chi2 dataset\n",
      "Fitting 10 folds for each of 12800 candidates, totalling 128000 fits\n"
     ]
    },
    {
     "name": "stderr",
     "output_type": "stream",
     "text": [
      "[Parallel(n_jobs=6)]: Using backend LokyBackend with 6 concurrent workers.\n",
      "[Parallel(n_jobs=6)]: Done  44 tasks      | elapsed:    1.6s\n",
      "[Parallel(n_jobs=6)]: Done 556 tasks      | elapsed:    9.2s\n",
      "[Parallel(n_jobs=6)]: Done 1326 tasks      | elapsed:   23.4s\n",
      "[Parallel(n_jobs=6)]: Done 2963 tasks      | elapsed:   52.8s\n",
      "[Parallel(n_jobs=6)]: Done 4631 tasks      | elapsed:  1.4min\n",
      "[Parallel(n_jobs=6)]: Done 6847 tasks      | elapsed:  2.0min\n",
      "[Parallel(n_jobs=6)]: Done 9386 tasks      | elapsed:  2.5min\n",
      "[Parallel(n_jobs=6)]: Done 13138 tasks      | elapsed:  3.1min\n",
      "[Parallel(n_jobs=6)]: Done 17970 tasks      | elapsed:  3.9min\n",
      "[Parallel(n_jobs=6)]: Done 22972 tasks      | elapsed:  4.7min\n",
      "[Parallel(n_jobs=6)]: Done 28294 tasks      | elapsed:  5.5min\n",
      "[Parallel(n_jobs=6)]: Done 35232 tasks      | elapsed:  6.6min\n",
      "[Parallel(n_jobs=6)]: Done 42686 tasks      | elapsed:  8.0min\n",
      "[Parallel(n_jobs=6)]: Done 49466 tasks      | elapsed:  9.4min\n",
      "[Parallel(n_jobs=6)]: Done 55644 tasks      | elapsed: 10.8min\n",
      "[Parallel(n_jobs=6)]: Done 62288 tasks      | elapsed: 12.4min\n",
      "[Parallel(n_jobs=6)]: Done 69306 tasks      | elapsed: 14.1min\n",
      "[Parallel(n_jobs=6)]: Done 76950 tasks      | elapsed: 15.8min\n",
      "[Parallel(n_jobs=6)]: Done 84916 tasks      | elapsed: 17.6min\n",
      "[Parallel(n_jobs=6)]: Done 92698 tasks      | elapsed: 19.5min\n",
      "[Parallel(n_jobs=6)]: Done 101598 tasks      | elapsed: 21.6min\n",
      "[Parallel(n_jobs=6)]: Done 111256 tasks      | elapsed: 23.8min\n",
      "[Parallel(n_jobs=6)]: Done 121028 tasks      | elapsed: 26.1min\n",
      "[Parallel(n_jobs=6)]: Done 127989 out of 128000 | elapsed: 27.7min remaining:    0.0s\n",
      "[Parallel(n_jobs=6)]: Done 128000 out of 128000 | elapsed: 27.7min finished\n",
      "c:\\users\\chris\\appdata\\local\\programs\\python\\python39\\lib\\site-packages\\sklearn\\pipeline.py:335: UserWarning: With alpha=0, this algorithm does not converge well. You are advised to use the LinearRegression estimator\n",
      "  self._final_estimator.fit(Xt, y, **fit_params_last_step)\n",
      "c:\\users\\chris\\appdata\\local\\programs\\python\\python39\\lib\\site-packages\\sklearn\\linear_model\\_coordinate_descent.py:529: UserWarning: Coordinate descent with no regularization may lead to unexpected results and is discouraged.\n",
      "  model = cd_fast.enet_coordinate_descent(\n"
     ]
    },
    {
     "name": "stdout",
     "output_type": "stream",
     "text": [
      "\n",
      "Best score for Lasso with _chi2 dataset: 0.7277697244837357\n",
      "\n",
      "Best hyperparameters for Lasso with _chi2 dataset:\n",
      "memory : None\n",
      "steps : [('clf', Lasso(alpha=0.0, positive=True, random_state=7, selection='random', tol=0.1))]\n",
      "verbose : False\n",
      "clf : Lasso(alpha=0.0, positive=True, random_state=7, selection='random', tol=0.1)\n",
      "clf__alpha : 0.0\n",
      "clf__copy_X : True\n",
      "clf__fit_intercept : True\n",
      "clf__max_iter : 1000\n",
      "clf__normalize : False\n",
      "clf__positive : True\n",
      "clf__precompute : False\n",
      "clf__random_state : 7\n",
      "clf__selection : random\n",
      "clf__tol : 0.1\n",
      "clf__warm_start : False\n",
      "\n",
      "Prediction scores for Lasso using _chi2 :\n",
      "Mean Squared error: 5.254872539600692\n",
      "Mean Absolute error: 1.4527229130594046\n",
      "R^2: 0.7304121445927596\n"
     ]
    }
   ],
   "source": [
    "chi2_model, chi2_train_score, chi2_mse, chi2_mae, chi2_r2 = get_best_model(sel_methods[1], args, num_folds, is_sample)"
   ]
  },
  {
   "cell_type": "code",
   "execution_count": 18,
   "metadata": {},
   "outputs": [],
   "source": [
    "#alpha and tol range fine tuned\n",
    "is_sample = False\n",
    "num_folds = 10\n",
    "args = {'clf__alpha':(arange(0,0.5,0.05)),\n",
    "        'clf__copy_X':(True,False),\n",
    "        'clf__fit_intercept':(True,False),\n",
    "        'clf__normalize':(True,False),\n",
    "        'clf__positive':(True,False),\n",
    "        'clf__selection':('cyclic','random'),\n",
    "        'clf__random_state':([7]),\n",
    "        'clf__tol':(arange(0.05,0.15,0.05))}"
   ]
  },
  {
   "cell_type": "code",
   "execution_count": 19,
   "metadata": {},
   "outputs": [
    {
     "name": "stderr",
     "output_type": "stream",
     "text": [
      "[Parallel(n_jobs=6)]: Using backend LokyBackend with 6 concurrent workers.\n"
     ]
    },
    {
     "name": "stdout",
     "output_type": "stream",
     "text": [
      "\n",
      "\n",
      "Running cross fold validation for Lasso with _chi2 dataset\n",
      "Fitting 10 folds for each of 640 candidates, totalling 6400 fits\n"
     ]
    },
    {
     "name": "stderr",
     "output_type": "stream",
     "text": [
      "[Parallel(n_jobs=6)]: Done  92 tasks      | elapsed:    7.4s\n",
      "[Parallel(n_jobs=6)]: Done 254 tasks      | elapsed:   31.1s\n",
      "[Parallel(n_jobs=6)]: Done 522 tasks      | elapsed:  1.1min\n",
      "[Parallel(n_jobs=6)]: Done 1466 tasks      | elapsed:  1.4min\n",
      "[Parallel(n_jobs=6)]: Done 4690 tasks      | elapsed:  1.7min\n",
      "[Parallel(n_jobs=6)]: Done 6400 out of 6400 | elapsed:  1.8min finished\n",
      "c:\\users\\chris\\appdata\\local\\programs\\python\\python39\\lib\\site-packages\\sklearn\\pipeline.py:335: UserWarning: With alpha=0, this algorithm does not converge well. You are advised to use the LinearRegression estimator\n",
      "  self._final_estimator.fit(Xt, y, **fit_params_last_step)\n",
      "c:\\users\\chris\\appdata\\local\\programs\\python\\python39\\lib\\site-packages\\sklearn\\linear_model\\_coordinate_descent.py:529: UserWarning: Coordinate descent with no regularization may lead to unexpected results and is discouraged.\n",
      "  model = cd_fast.enet_coordinate_descent(\n"
     ]
    },
    {
     "name": "stdout",
     "output_type": "stream",
     "text": [
      "\n",
      "Best score for Lasso with _chi2 dataset: 0.7277697244837357\n",
      "\n",
      "Best hyperparameters for Lasso with _chi2 dataset:\n",
      "memory : None\n",
      "steps : [('clf', Lasso(alpha=0.0, positive=True, random_state=7, selection='random', tol=0.05))]\n",
      "verbose : False\n",
      "clf : Lasso(alpha=0.0, positive=True, random_state=7, selection='random', tol=0.05)\n",
      "clf__alpha : 0.0\n",
      "clf__copy_X : True\n",
      "clf__fit_intercept : True\n",
      "clf__max_iter : 1000\n",
      "clf__normalize : False\n",
      "clf__positive : True\n",
      "clf__precompute : False\n",
      "clf__random_state : 7\n",
      "clf__selection : random\n",
      "clf__tol : 0.05\n",
      "clf__warm_start : False\n",
      "\n",
      "Prediction scores for Lasso using _chi2 :\n",
      "Mean Squared error: 5.254872539600692\n",
      "Mean Absolute error: 1.4527229130594046\n",
      "R^2: 0.7304121445927596\n"
     ]
    }
   ],
   "source": [
    "chi2_model, chi2_train_score, chi2_mse, chi2_mae, chi2_r2 = get_best_model(sel_methods[1], args, num_folds, is_sample)"
   ]
  },
  {
   "cell_type": "code",
   "execution_count": 20,
   "metadata": {},
   "outputs": [],
   "source": [
    "# tol changed but scores identical, model saved\n",
    "save_model(chi2_model,sel_methods[1])"
   ]
  },
  {
   "cell_type": "markdown",
   "metadata": {},
   "source": [
    "<h3>AdaBoost feature selected dataset<h3>"
   ]
  },
  {
   "cell_type": "code",
   "execution_count": 21,
   "metadata": {},
   "outputs": [],
   "source": [
    "is_sample = False\n",
    "num_folds = 10\n",
    "args = {'clf__alpha':(arange(0,2,0.1)),\n",
    "        'clf__copy_X':(True,False),\n",
    "        'clf__fit_intercept':(True,False),\n",
    "        'clf__normalize':(True,False),\n",
    "        'clf__positive':(True,False),\n",
    "        'clf__selection':('cyclic','random'),\n",
    "        'clf__random_state':([7]),\n",
    "        'clf__tol':(arange(0,2,0.1))}"
   ]
  },
  {
   "cell_type": "code",
   "execution_count": 22,
   "metadata": {},
   "outputs": [
    {
     "name": "stdout",
     "output_type": "stream",
     "text": [
      "\n",
      "\n",
      "Running cross fold validation for Lasso with _adaboost dataset\n",
      "Fitting 10 folds for each of 12800 candidates, totalling 128000 fits\n"
     ]
    },
    {
     "name": "stderr",
     "output_type": "stream",
     "text": [
      "[Parallel(n_jobs=6)]: Using backend LokyBackend with 6 concurrent workers.\n",
      "[Parallel(n_jobs=6)]: Done  38 tasks      | elapsed:    2.1s\n",
      "[Parallel(n_jobs=6)]: Done 730 tasks      | elapsed:   14.0s\n",
      "[Parallel(n_jobs=6)]: Done 1554 tasks      | elapsed:   28.5s\n",
      "[Parallel(n_jobs=6)]: Done 2834 tasks      | elapsed:   44.2s\n",
      "[Parallel(n_jobs=6)]: Done 4511 tasks      | elapsed:  1.2min\n",
      "[Parallel(n_jobs=6)]: Done 6816 tasks      | elapsed:  1.7min\n",
      "[Parallel(n_jobs=6)]: Done 9470 tasks      | elapsed:  2.2min\n",
      "[Parallel(n_jobs=6)]: Done 12470 tasks      | elapsed:  2.7min\n",
      "[Parallel(n_jobs=6)]: Done 17058 tasks      | elapsed:  3.5min\n",
      "[Parallel(n_jobs=6)]: Done 21982 tasks      | elapsed:  4.2min\n",
      "[Parallel(n_jobs=6)]: Done 27520 tasks      | elapsed:  5.1min\n",
      "[Parallel(n_jobs=6)]: Done 35022 tasks      | elapsed:  6.2min\n",
      "[Parallel(n_jobs=6)]: Done 42328 tasks      | elapsed:  7.5min\n",
      "[Parallel(n_jobs=6)]: Done 49300 tasks      | elapsed:  8.8min\n",
      "[Parallel(n_jobs=6)]: Done 55604 tasks      | elapsed: 10.3min\n",
      "[Parallel(n_jobs=6)]: Done 62458 tasks      | elapsed: 11.8min\n",
      "[Parallel(n_jobs=6)]: Done 69808 tasks      | elapsed: 13.5min\n",
      "[Parallel(n_jobs=6)]: Done 77568 tasks      | elapsed: 15.2min\n",
      "[Parallel(n_jobs=6)]: Done 85887 tasks      | elapsed: 17.1min\n",
      "[Parallel(n_jobs=6)]: Done 94576 tasks      | elapsed: 19.1min\n",
      "[Parallel(n_jobs=6)]: Done 103428 tasks      | elapsed: 21.0min\n",
      "[Parallel(n_jobs=6)]: Done 113144 tasks      | elapsed: 23.2min\n",
      "[Parallel(n_jobs=6)]: Done 123020 tasks      | elapsed: 25.5min\n",
      "[Parallel(n_jobs=6)]: Done 128000 out of 128000 | elapsed: 26.5min finished\n",
      "c:\\users\\chris\\appdata\\local\\programs\\python\\python39\\lib\\site-packages\\sklearn\\pipeline.py:335: UserWarning: With alpha=0, this algorithm does not converge well. You are advised to use the LinearRegression estimator\n",
      "  self._final_estimator.fit(Xt, y, **fit_params_last_step)\n",
      "c:\\users\\chris\\appdata\\local\\programs\\python\\python39\\lib\\site-packages\\sklearn\\linear_model\\_coordinate_descent.py:529: UserWarning: Coordinate descent with no regularization may lead to unexpected results and is discouraged.\n",
      "  model = cd_fast.enet_coordinate_descent(\n"
     ]
    },
    {
     "name": "stdout",
     "output_type": "stream",
     "text": [
      "\n",
      "Best score for Lasso with _adaboost dataset: 0.7411286342077107\n",
      "\n",
      "Best hyperparameters for Lasso with _adaboost dataset:\n",
      "memory : None\n",
      "steps : [('clf', Lasso(alpha=0.0, normalize=True, positive=True, random_state=7, tol=0.0))]\n",
      "verbose : False\n",
      "clf : Lasso(alpha=0.0, normalize=True, positive=True, random_state=7, tol=0.0)\n",
      "clf__alpha : 0.0\n",
      "clf__copy_X : True\n",
      "clf__fit_intercept : True\n",
      "clf__max_iter : 1000\n",
      "clf__normalize : True\n",
      "clf__positive : True\n",
      "clf__precompute : False\n",
      "clf__random_state : 7\n",
      "clf__selection : cyclic\n",
      "clf__tol : 0.0\n",
      "clf__warm_start : False\n",
      "\n",
      "Prediction scores for Lasso using _adaboost :\n",
      "Mean Squared error: 4.964940484500637\n",
      "Mean Absolute error: 1.3904605888362902\n",
      "R^2: 0.7452863704391922\n"
     ]
    },
    {
     "name": "stderr",
     "output_type": "stream",
     "text": [
      "c:\\users\\chris\\appdata\\local\\programs\\python\\python39\\lib\\site-packages\\sklearn\\linear_model\\_coordinate_descent.py:529: ConvergenceWarning: Objective did not converge. You might want to increase the number of iterations. Duality gap: 110829.66175698182, tolerance: 0.0\n",
      "  model = cd_fast.enet_coordinate_descent(\n"
     ]
    }
   ],
   "source": [
    "ada_model, ada_train_score, ada_mse, ada_mae, ada_r2 = get_best_model(sel_methods[2], args, num_folds, is_sample)"
   ]
  },
  {
   "cell_type": "code",
   "execution_count": 21,
   "metadata": {},
   "outputs": [],
   "source": [
    "#smaller alpha and tol range explored\n",
    "is_sample = False\n",
    "num_folds = 10\n",
    "args = {'clf__alpha':(arange(0,0.5,0.05)),\n",
    "        'clf__copy_X':(True,False),\n",
    "        'clf__fit_intercept':(True,False),\n",
    "        'clf__normalize':(True,False),\n",
    "        'clf__positive':(True,False),\n",
    "        'clf__selection':('cyclic','random'),\n",
    "        'clf__random_state':([7]),\n",
    "        'clf__tol':(arange(0,0.5,0.05))}"
   ]
  },
  {
   "cell_type": "code",
   "execution_count": 22,
   "metadata": {},
   "outputs": [
    {
     "name": "stdout",
     "output_type": "stream",
     "text": [
      "\n",
      "\n",
      "Running cross fold validation for Lasso with _adaboost dataset\n",
      "Fitting 10 folds for each of 3200 candidates, totalling 32000 fits\n"
     ]
    },
    {
     "name": "stderr",
     "output_type": "stream",
     "text": [
      "[Parallel(n_jobs=6)]: Using backend LokyBackend with 6 concurrent workers.\n",
      "[Parallel(n_jobs=6)]: Done  38 tasks      | elapsed:    2.2s\n",
      "[Parallel(n_jobs=6)]: Done 362 tasks      | elapsed:   16.5s\n",
      "[Parallel(n_jobs=6)]: Done 876 tasks      | elapsed:   36.4s\n",
      "[Parallel(n_jobs=6)]: Done 1948 tasks      | elapsed:  1.3min\n",
      "[Parallel(n_jobs=6)]: Done 2980 tasks      | elapsed:  1.9min\n",
      "[Parallel(n_jobs=6)]: Done 4566 tasks      | elapsed:  2.5min\n",
      "[Parallel(n_jobs=6)]: Done 6838 tasks      | elapsed:  3.3min\n",
      "[Parallel(n_jobs=6)]: Done 9845 tasks      | elapsed:  4.3min\n",
      "[Parallel(n_jobs=6)]: Done 13236 tasks      | elapsed:  5.1min\n",
      "[Parallel(n_jobs=6)]: Done 17426 tasks      | elapsed:  6.2min\n",
      "[Parallel(n_jobs=6)]: Done 22029 tasks      | elapsed:  7.5min\n",
      "[Parallel(n_jobs=6)]: Done 27336 tasks      | elapsed:  8.7min\n",
      "[Parallel(n_jobs=6)]: Done 31826 tasks      | elapsed: 10.1min\n",
      "[Parallel(n_jobs=6)]: Done 32000 out of 32000 | elapsed: 10.1min finished\n",
      "c:\\users\\chris\\appdata\\local\\programs\\python\\python39\\lib\\site-packages\\sklearn\\pipeline.py:335: UserWarning: With alpha=0, this algorithm does not converge well. You are advised to use the LinearRegression estimator\n",
      "  self._final_estimator.fit(Xt, y, **fit_params_last_step)\n",
      "c:\\users\\chris\\appdata\\local\\programs\\python\\python39\\lib\\site-packages\\sklearn\\linear_model\\_coordinate_descent.py:529: UserWarning: Coordinate descent with no regularization may lead to unexpected results and is discouraged.\n",
      "  model = cd_fast.enet_coordinate_descent(\n"
     ]
    },
    {
     "name": "stdout",
     "output_type": "stream",
     "text": [
      "\n",
      "Best score for Lasso with _adaboost dataset: 0.7411612980848017\n",
      "\n",
      "Best hyperparameters for Lasso with _adaboost dataset:\n",
      "memory : None\n",
      "steps : [('clf', Lasso(alpha=0.0, positive=True, random_state=7, tol=0.05))]\n",
      "verbose : False\n",
      "clf : Lasso(alpha=0.0, positive=True, random_state=7, tol=0.05)\n",
      "clf__alpha : 0.0\n",
      "clf__copy_X : True\n",
      "clf__fit_intercept : True\n",
      "clf__max_iter : 1000\n",
      "clf__normalize : False\n",
      "clf__positive : True\n",
      "clf__precompute : False\n",
      "clf__random_state : 7\n",
      "clf__selection : cyclic\n",
      "clf__tol : 0.05\n",
      "clf__warm_start : False\n",
      "\n",
      "Prediction scores for Lasso using _adaboost :\n",
      "Mean Squared error: 4.965708684857781\n",
      "Mean Absolute error: 1.3902107858304404\n",
      "R^2: 0.7452469598759017\n"
     ]
    }
   ],
   "source": [
    "ada_model, ada_train_score, ada_mse, ada_mae, ada_r2 = get_best_model(sel_methods[2], args, num_folds, is_sample)"
   ]
  },
  {
   "cell_type": "code",
   "execution_count": 23,
   "metadata": {},
   "outputs": [],
   "source": [
    "#highest tol selected, explored further\n",
    "is_sample = False\n",
    "num_folds = 10\n",
    "args = {'clf__alpha':(arange(0,0.5,0.1)),\n",
    "        'clf__copy_X':(True,False),\n",
    "        'clf__fit_intercept':(True,False),\n",
    "        'clf__normalize':(True,False),\n",
    "        'clf__positive':(True,False),\n",
    "        'clf__selection':('cyclic','random'),\n",
    "        'clf__random_state':([7]),\n",
    "        'clf__tol':(arange(0,1,0.05))}"
   ]
  },
  {
   "cell_type": "code",
   "execution_count": 24,
   "metadata": {},
   "outputs": [
    {
     "name": "stdout",
     "output_type": "stream",
     "text": [
      "\n",
      "\n",
      "Running cross fold validation for Lasso with _adaboost dataset\n",
      "Fitting 10 folds for each of 3200 candidates, totalling 32000 fits\n"
     ]
    },
    {
     "name": "stderr",
     "output_type": "stream",
     "text": [
      "[Parallel(n_jobs=6)]: Using backend LokyBackend with 6 concurrent workers.\n",
      "[Parallel(n_jobs=6)]: Done  38 tasks      | elapsed:    2.3s\n",
      "[Parallel(n_jobs=6)]: Done 641 tasks      | elapsed:   18.5s\n",
      "[Parallel(n_jobs=6)]: Done 1443 tasks      | elapsed:   40.7s\n",
      "[Parallel(n_jobs=6)]: Done 2654 tasks      | elapsed:  1.1min\n",
      "[Parallel(n_jobs=6)]: Done 3740 tasks      | elapsed:  1.5min\n",
      "[Parallel(n_jobs=6)]: Done 5718 tasks      | elapsed:  2.4min\n",
      "[Parallel(n_jobs=6)]: Done 7806 tasks      | elapsed:  3.1min\n",
      "[Parallel(n_jobs=6)]: Done 11012 tasks      | elapsed:  3.7min\n",
      "[Parallel(n_jobs=6)]: Done 14676 tasks      | elapsed:  4.4min\n",
      "[Parallel(n_jobs=6)]: Done 18650 tasks      | elapsed:  5.1min\n",
      "[Parallel(n_jobs=6)]: Done 22986 tasks      | elapsed:  5.8min\n",
      "[Parallel(n_jobs=6)]: Done 28854 tasks      | elapsed:  6.7min\n",
      "[Parallel(n_jobs=6)]: Done 32000 out of 32000 | elapsed:  7.2min finished\n",
      "c:\\users\\chris\\appdata\\local\\programs\\python\\python39\\lib\\site-packages\\sklearn\\pipeline.py:335: UserWarning: With alpha=0, this algorithm does not converge well. You are advised to use the LinearRegression estimator\n",
      "  self._final_estimator.fit(Xt, y, **fit_params_last_step)\n",
      "c:\\users\\chris\\appdata\\local\\programs\\python\\python39\\lib\\site-packages\\sklearn\\linear_model\\_coordinate_descent.py:529: UserWarning: Coordinate descent with no regularization may lead to unexpected results and is discouraged.\n",
      "  model = cd_fast.enet_coordinate_descent(\n"
     ]
    },
    {
     "name": "stdout",
     "output_type": "stream",
     "text": [
      "\n",
      "Best score for Lasso with _adaboost dataset: 0.7411612980848017\n",
      "\n",
      "Best hyperparameters for Lasso with _adaboost dataset:\n",
      "memory : None\n",
      "steps : [('clf', Lasso(alpha=0.0, positive=True, random_state=7, tol=0.05))]\n",
      "verbose : False\n",
      "clf : Lasso(alpha=0.0, positive=True, random_state=7, tol=0.05)\n",
      "clf__alpha : 0.0\n",
      "clf__copy_X : True\n",
      "clf__fit_intercept : True\n",
      "clf__max_iter : 1000\n",
      "clf__normalize : False\n",
      "clf__positive : True\n",
      "clf__precompute : False\n",
      "clf__random_state : 7\n",
      "clf__selection : cyclic\n",
      "clf__tol : 0.05\n",
      "clf__warm_start : False\n",
      "\n",
      "Prediction scores for Lasso using _adaboost :\n",
      "Mean Squared error: 4.965708684857781\n",
      "Mean Absolute error: 1.3902107858304404\n",
      "R^2: 0.7452469598759017\n"
     ]
    }
   ],
   "source": [
    "ada_model, ada_train_score, ada_mse, ada_mae, ada_r2 = get_best_model(sel_methods[2], args, num_folds, is_sample)"
   ]
  },
  {
   "cell_type": "code",
   "execution_count": 25,
   "metadata": {},
   "outputs": [],
   "source": [
    "# parameters stable, model saved\n",
    "save_model(ada_model,sel_methods[2])"
   ]
  },
  {
   "cell_type": "markdown",
   "metadata": {},
   "source": [
    "<h3>Equal business and crime feature selected dataset<h3>"
   ]
  },
  {
   "cell_type": "code",
   "execution_count": 23,
   "metadata": {},
   "outputs": [],
   "source": [
    "is_sample = False\n",
    "num_folds = 10\n",
    "args = {'clf__alpha':(arange(0,2,0.1)),\n",
    "        'clf__copy_X':(True,False),\n",
    "        'clf__fit_intercept':(True,False),\n",
    "        'clf__normalize':(True,False),\n",
    "        'clf__positive':(True,False),\n",
    "        'clf__selection':('cyclic','random'),\n",
    "        'clf__random_state':([7]),\n",
    "        'clf__tol':(arange(0,2,0.1))}"
   ]
  },
  {
   "cell_type": "code",
   "execution_count": 24,
   "metadata": {},
   "outputs": [
    {
     "name": "stderr",
     "output_type": "stream",
     "text": [
      "[Parallel(n_jobs=6)]: Using backend LokyBackend with 6 concurrent workers.\n"
     ]
    },
    {
     "name": "stdout",
     "output_type": "stream",
     "text": [
      "\n",
      "\n",
      "Running cross fold validation for Lasso with _equal_crime_and_business dataset\n",
      "Fitting 10 folds for each of 12800 candidates, totalling 128000 fits\n"
     ]
    },
    {
     "name": "stderr",
     "output_type": "stream",
     "text": [
      "[Parallel(n_jobs=6)]: Done  38 tasks      | elapsed:    2.1s\n",
      "[Parallel(n_jobs=6)]: Done 724 tasks      | elapsed:   13.1s\n",
      "[Parallel(n_jobs=6)]: Done 1702 tasks      | elapsed:   29.8s\n",
      "[Parallel(n_jobs=6)]: Done 3047 tasks      | elapsed:   54.0s\n",
      "[Parallel(n_jobs=6)]: Done 4786 tasks      | elapsed:  1.4min\n",
      "[Parallel(n_jobs=6)]: Done 7020 tasks      | elapsed:  2.0min\n",
      "[Parallel(n_jobs=6)]: Done 9542 tasks      | elapsed:  2.4min\n",
      "[Parallel(n_jobs=6)]: Done 13942 tasks      | elapsed:  3.2min\n",
      "[Parallel(n_jobs=6)]: Done 17208 tasks      | elapsed:  3.8min\n",
      "[Parallel(n_jobs=6)]: Done 21856 tasks      | elapsed:  4.5min\n",
      "[Parallel(n_jobs=6)]: Done 28792 tasks      | elapsed:  5.5min\n",
      "[Parallel(n_jobs=6)]: Done 34686 tasks      | elapsed:  6.4min\n",
      "[Parallel(n_jobs=6)]: Done 40942 tasks      | elapsed:  7.6min\n",
      "[Parallel(n_jobs=6)]: Done 48208 tasks      | elapsed:  8.9min\n",
      "[Parallel(n_jobs=6)]: Done 54594 tasks      | elapsed: 10.3min\n",
      "[Parallel(n_jobs=6)]: Done 61556 tasks      | elapsed: 11.9min\n",
      "[Parallel(n_jobs=6)]: Done 68948 tasks      | elapsed: 13.6min\n",
      "[Parallel(n_jobs=6)]: Done 76554 tasks      | elapsed: 15.3min\n",
      "[Parallel(n_jobs=6)]: Done 84970 tasks      | elapsed: 17.2min\n",
      "[Parallel(n_jobs=6)]: Done 93080 tasks      | elapsed: 19.1min\n",
      "[Parallel(n_jobs=6)]: Done 102196 tasks      | elapsed: 21.2min\n",
      "[Parallel(n_jobs=6)]: Done 111730 tasks      | elapsed: 23.3min\n",
      "[Parallel(n_jobs=6)]: Done 121570 tasks      | elapsed: 25.5min\n",
      "[Parallel(n_jobs=6)]: Done 127989 out of 128000 | elapsed: 26.9min remaining:    0.0s\n",
      "[Parallel(n_jobs=6)]: Done 128000 out of 128000 | elapsed: 26.9min finished\n",
      "c:\\users\\chris\\appdata\\local\\programs\\python\\python39\\lib\\site-packages\\sklearn\\pipeline.py:335: UserWarning: With alpha=0, this algorithm does not converge well. You are advised to use the LinearRegression estimator\n",
      "  self._final_estimator.fit(Xt, y, **fit_params_last_step)\n",
      "c:\\users\\chris\\appdata\\local\\programs\\python\\python39\\lib\\site-packages\\sklearn\\linear_model\\_coordinate_descent.py:529: UserWarning: Coordinate descent with no regularization may lead to unexpected results and is discouraged.\n",
      "  model = cd_fast.enet_coordinate_descent(\n"
     ]
    },
    {
     "name": "stdout",
     "output_type": "stream",
     "text": [
      "\n",
      "Best score for Lasso with _equal_crime_and_business dataset: 0.7284944980291057\n",
      "\n",
      "Best hyperparameters for Lasso with _equal_crime_and_business dataset:\n",
      "memory : None\n",
      "steps : [('clf', Lasso(alpha=0.0, normalize=True, random_state=7, tol=0.0))]\n",
      "verbose : False\n",
      "clf : Lasso(alpha=0.0, normalize=True, random_state=7, tol=0.0)\n",
      "clf__alpha : 0.0\n",
      "clf__copy_X : True\n",
      "clf__fit_intercept : True\n",
      "clf__max_iter : 1000\n",
      "clf__normalize : True\n",
      "clf__positive : False\n",
      "clf__precompute : False\n",
      "clf__random_state : 7\n",
      "clf__selection : cyclic\n",
      "clf__tol : 0.0\n",
      "clf__warm_start : False\n",
      "\n",
      "Prediction scores for Lasso using _equal_crime_and_business :\n",
      "Mean Squared error: 5.135861372359901\n",
      "Mean Absolute error: 1.4188595307686909\n",
      "R^2: 0.7365177094954614\n"
     ]
    },
    {
     "name": "stderr",
     "output_type": "stream",
     "text": [
      "c:\\users\\chris\\appdata\\local\\programs\\python\\python39\\lib\\site-packages\\sklearn\\linear_model\\_coordinate_descent.py:529: ConvergenceWarning: Objective did not converge. You might want to increase the number of iterations. Duality gap: 116118.26944246335, tolerance: 0.0\n",
      "  model = cd_fast.enet_coordinate_descent(\n"
     ]
    }
   ],
   "source": [
    "equal_model, equal_train_score, equal_mse, equal_mae, equal_r2 = get_best_model(sel_methods[3], args, num_folds, is_sample)"
   ]
  },
  {
   "cell_type": "code",
   "execution_count": 26,
   "metadata": {},
   "outputs": [],
   "source": [
    "#smaller alpha and tol range explored\n",
    "is_sample = False\n",
    "num_folds = 10\n",
    "args = {'clf__alpha':(arange(0,0.5,0.05)),\n",
    "        'clf__copy_X':(True,False),\n",
    "        'clf__fit_intercept':(True,False),\n",
    "        'clf__normalize':(True,False),\n",
    "        'clf__positive':(True,False),\n",
    "        'clf__selection':('cyclic','random'),\n",
    "        'clf__random_state':([7]),\n",
    "        'clf__tol':(arange(0,0.5,0.05))}"
   ]
  },
  {
   "cell_type": "code",
   "execution_count": 27,
   "metadata": {},
   "outputs": [
    {
     "name": "stdout",
     "output_type": "stream",
     "text": [
      "\n",
      "\n",
      "Running cross fold validation for Lasso with _equal_crime_and_business dataset\n",
      "Fitting 10 folds for each of 3200 candidates, totalling 32000 fits\n"
     ]
    },
    {
     "name": "stderr",
     "output_type": "stream",
     "text": [
      "[Parallel(n_jobs=6)]: Using backend LokyBackend with 6 concurrent workers.\n",
      "[Parallel(n_jobs=6)]: Done  38 tasks      | elapsed:    2.4s\n",
      "[Parallel(n_jobs=6)]: Done 460 tasks      | elapsed:   22.3s\n",
      "[Parallel(n_jobs=6)]: Done 1131 tasks      | elapsed:   56.7s\n",
      "[Parallel(n_jobs=6)]: Done 1889 tasks      | elapsed:  1.5min\n",
      "[Parallel(n_jobs=6)]: Done 2952 tasks      | elapsed:  2.3min\n",
      "[Parallel(n_jobs=6)]: Done 5094 tasks      | elapsed:  3.1min\n",
      "[Parallel(n_jobs=6)]: Done 7610 tasks      | elapsed:  3.8min\n",
      "[Parallel(n_jobs=6)]: Done 10049 tasks      | elapsed:  4.6min\n",
      "[Parallel(n_jobs=6)]: Done 13644 tasks      | elapsed:  5.5min\n",
      "[Parallel(n_jobs=6)]: Done 17620 tasks      | elapsed:  6.5min\n",
      "[Parallel(n_jobs=6)]: Done 21892 tasks      | elapsed:  7.6min\n",
      "[Parallel(n_jobs=6)]: Done 27132 tasks      | elapsed:  8.9min\n",
      "[Parallel(n_jobs=6)]: Done 32000 out of 32000 | elapsed: 10.4min finished\n",
      "c:\\users\\chris\\appdata\\local\\programs\\python\\python39\\lib\\site-packages\\sklearn\\pipeline.py:335: UserWarning: With alpha=0, this algorithm does not converge well. You are advised to use the LinearRegression estimator\n",
      "  self._final_estimator.fit(Xt, y, **fit_params_last_step)\n",
      "c:\\users\\chris\\appdata\\local\\programs\\python\\python39\\lib\\site-packages\\sklearn\\linear_model\\_coordinate_descent.py:529: UserWarning: Coordinate descent with no regularization may lead to unexpected results and is discouraged.\n",
      "  model = cd_fast.enet_coordinate_descent(\n"
     ]
    },
    {
     "name": "stdout",
     "output_type": "stream",
     "text": [
      "\n",
      "Best score for Lasso with _equal_crime_and_business dataset: 0.7284944980291057\n",
      "\n",
      "Best hyperparameters for Lasso with _equal_crime_and_business dataset:\n",
      "memory : None\n",
      "steps : [('clf', Lasso(alpha=0.0, normalize=True, random_state=7, tol=0.0))]\n",
      "verbose : False\n",
      "clf : Lasso(alpha=0.0, normalize=True, random_state=7, tol=0.0)\n",
      "clf__alpha : 0.0\n",
      "clf__copy_X : True\n",
      "clf__fit_intercept : True\n",
      "clf__max_iter : 1000\n",
      "clf__normalize : True\n",
      "clf__positive : False\n",
      "clf__precompute : False\n",
      "clf__random_state : 7\n",
      "clf__selection : cyclic\n",
      "clf__tol : 0.0\n",
      "clf__warm_start : False\n",
      "\n",
      "Prediction scores for Lasso using _equal_crime_and_business :\n",
      "Mean Squared error: 5.135861372359901\n",
      "Mean Absolute error: 1.4188595307686909\n",
      "R^2: 0.7365177094954614\n"
     ]
    },
    {
     "name": "stderr",
     "output_type": "stream",
     "text": [
      "c:\\users\\chris\\appdata\\local\\programs\\python\\python39\\lib\\site-packages\\sklearn\\linear_model\\_coordinate_descent.py:529: ConvergenceWarning: Objective did not converge. You might want to increase the number of iterations. Duality gap: 116118.26944246335, tolerance: 0.0\n",
      "  model = cd_fast.enet_coordinate_descent(\n"
     ]
    }
   ],
   "source": [
    "equal_model, equal_train_score, equal_mse, equal_mae, equal_r2 = get_best_model(sel_methods[3], args, num_folds, is_sample)"
   ]
  },
  {
   "cell_type": "code",
   "execution_count": 28,
   "metadata": {},
   "outputs": [],
   "source": [
    "# parameters stable, model saved\n",
    "save_model(equal_model,sel_methods[3])"
   ]
  },
  {
   "cell_type": "markdown",
   "metadata": {},
   "source": [
    "<h3>Business only feature selected dataset<h3>"
   ]
  },
  {
   "cell_type": "code",
   "execution_count": 25,
   "metadata": {},
   "outputs": [],
   "source": [
    "is_sample = False\n",
    "num_folds = 10\n",
    "args = {'clf__alpha':(arange(0,2,0.1)),\n",
    "        'clf__copy_X':(True,False),\n",
    "        'clf__fit_intercept':(True,False),\n",
    "        'clf__normalize':(True,False),\n",
    "        'clf__positive':(True,False),\n",
    "        'clf__selection':('cyclic','random'),\n",
    "        'clf__random_state':([7]),\n",
    "        'clf__tol':(arange(0,2,0.1))}"
   ]
  },
  {
   "cell_type": "code",
   "execution_count": 26,
   "metadata": {},
   "outputs": [
    {
     "name": "stdout",
     "output_type": "stream",
     "text": [
      "\n",
      "\n",
      "Running cross fold validation for Lasso with _all_business dataset\n",
      "Fitting 10 folds for each of 12800 candidates, totalling 128000 fits\n"
     ]
    },
    {
     "name": "stderr",
     "output_type": "stream",
     "text": [
      "[Parallel(n_jobs=6)]: Using backend LokyBackend with 6 concurrent workers.\n",
      "[Parallel(n_jobs=6)]: Done  38 tasks      | elapsed:    1.6s\n",
      "[Parallel(n_jobs=6)]: Done 668 tasks      | elapsed:   16.6s\n",
      "[Parallel(n_jobs=6)]: Done 1290 tasks      | elapsed:   29.4s\n",
      "[Parallel(n_jobs=6)]: Done 2530 tasks      | elapsed:   56.6s\n",
      "[Parallel(n_jobs=6)]: Done 4079 tasks      | elapsed:  1.7min\n",
      "[Parallel(n_jobs=6)]: Done 6087 tasks      | elapsed:  2.5min\n",
      "[Parallel(n_jobs=6)]: Done 9454 tasks      | elapsed:  3.2min\n",
      "[Parallel(n_jobs=6)]: Done 12832 tasks      | elapsed:  3.7min\n",
      "[Parallel(n_jobs=6)]: Done 16370 tasks      | elapsed:  4.3min\n",
      "[Parallel(n_jobs=6)]: Done 21596 tasks      | elapsed:  5.2min\n",
      "[Parallel(n_jobs=6)]: Done 27172 tasks      | elapsed:  6.1min\n",
      "[Parallel(n_jobs=6)]: Done 33570 tasks      | elapsed:  7.1min\n",
      "[Parallel(n_jobs=6)]: Done 41230 tasks      | elapsed:  8.4min\n",
      "[Parallel(n_jobs=6)]: Done 48448 tasks      | elapsed:  9.8min\n",
      "[Parallel(n_jobs=6)]: Done 54150 tasks      | elapsed: 11.1min\n",
      "[Parallel(n_jobs=6)]: Done 61319 tasks      | elapsed: 12.6min\n",
      "[Parallel(n_jobs=6)]: Done 68512 tasks      | elapsed: 14.2min\n",
      "[Parallel(n_jobs=6)]: Done 76046 tasks      | elapsed: 15.9min\n",
      "[Parallel(n_jobs=6)]: Done 84070 tasks      | elapsed: 17.7min\n",
      "[Parallel(n_jobs=6)]: Done 92736 tasks      | elapsed: 19.6min\n",
      "[Parallel(n_jobs=6)]: Done 102372 tasks      | elapsed: 21.7min\n",
      "[Parallel(n_jobs=6)]: Done 111518 tasks      | elapsed: 23.7min\n",
      "[Parallel(n_jobs=6)]: Done 121826 tasks      | elapsed: 26.0min\n",
      "[Parallel(n_jobs=6)]: Done 128000 out of 128000 | elapsed: 27.4min finished\n",
      "c:\\users\\chris\\appdata\\local\\programs\\python\\python39\\lib\\site-packages\\sklearn\\pipeline.py:335: UserWarning: With alpha=0, this algorithm does not converge well. You are advised to use the LinearRegression estimator\n",
      "  self._final_estimator.fit(Xt, y, **fit_params_last_step)\n",
      "c:\\users\\chris\\appdata\\local\\programs\\python\\python39\\lib\\site-packages\\sklearn\\linear_model\\_coordinate_descent.py:529: UserWarning: Coordinate descent with no regularization may lead to unexpected results and is discouraged.\n",
      "  model = cd_fast.enet_coordinate_descent(\n"
     ]
    },
    {
     "name": "stdout",
     "output_type": "stream",
     "text": [
      "\n",
      "Best score for Lasso with _all_business dataset: 0.44996200683603715\n",
      "\n",
      "Best hyperparameters for Lasso with _all_business dataset:\n",
      "memory : None\n",
      "steps : [('clf', Lasso(alpha=0.0, normalize=True, random_state=7, selection='random', tol=0.0))]\n",
      "verbose : False\n",
      "clf : Lasso(alpha=0.0, normalize=True, random_state=7, selection='random', tol=0.0)\n",
      "clf__alpha : 0.0\n",
      "clf__copy_X : True\n",
      "clf__fit_intercept : True\n",
      "clf__max_iter : 1000\n",
      "clf__normalize : True\n",
      "clf__positive : False\n",
      "clf__precompute : False\n",
      "clf__random_state : 7\n",
      "clf__selection : random\n",
      "clf__tol : 0.0\n",
      "clf__warm_start : False\n",
      "\n",
      "Prediction scores for Lasso using _all_business :\n",
      "Mean Squared error: 10.68578982118223\n",
      "Mean Absolute error: 1.8508237579583582\n",
      "R^2: 0.45179276195271134\n"
     ]
    },
    {
     "name": "stderr",
     "output_type": "stream",
     "text": [
      "c:\\users\\chris\\appdata\\local\\programs\\python\\python39\\lib\\site-packages\\sklearn\\linear_model\\_coordinate_descent.py:529: ConvergenceWarning: Objective did not converge. You might want to increase the number of iterations. Duality gap: 233057.88432637145, tolerance: 0.0\n",
      "  model = cd_fast.enet_coordinate_descent(\n"
     ]
    }
   ],
   "source": [
    "bus_model, bus_train_score, bus_mse, bus_mae, bus_r2 = get_best_model(sel_methods[4], args, num_folds, is_sample)"
   ]
  },
  {
   "cell_type": "code",
   "execution_count": 29,
   "metadata": {},
   "outputs": [],
   "source": [
    "#smaller alpha and tol range explored\n",
    "is_sample = False\n",
    "num_folds = 10\n",
    "args = {'clf__alpha':(arange(0,0.5,0.05)),\n",
    "        'clf__copy_X':(True,False),\n",
    "        'clf__fit_intercept':(True,False),\n",
    "        'clf__normalize':(True,False),\n",
    "        'clf__positive':(True,False),\n",
    "        'clf__selection':('cyclic','random'),\n",
    "        'clf__random_state':([7]),\n",
    "        'clf__tol':(arange(0,0.5,0.05))}"
   ]
  },
  {
   "cell_type": "code",
   "execution_count": 30,
   "metadata": {},
   "outputs": [
    {
     "name": "stderr",
     "output_type": "stream",
     "text": [
      "[Parallel(n_jobs=6)]: Using backend LokyBackend with 6 concurrent workers.\n"
     ]
    },
    {
     "name": "stdout",
     "output_type": "stream",
     "text": [
      "\n",
      "\n",
      "Running cross fold validation for Lasso with _all_business dataset\n",
      "Fitting 10 folds for each of 3200 candidates, totalling 32000 fits\n"
     ]
    },
    {
     "name": "stderr",
     "output_type": "stream",
     "text": [
      "[Parallel(n_jobs=6)]: Done  38 tasks      | elapsed:    1.9s\n",
      "[Parallel(n_jobs=6)]: Done 356 tasks      | elapsed:   33.7s\n",
      "[Parallel(n_jobs=6)]: Done 732 tasks      | elapsed:  1.0min\n",
      "[Parallel(n_jobs=6)]: Done 1528 tasks      | elapsed:  2.0min\n",
      "[Parallel(n_jobs=6)]: Done 2448 tasks      | elapsed:  3.2min\n",
      "[Parallel(n_jobs=6)]: Done 4308 tasks      | elapsed:  4.4min\n",
      "[Parallel(n_jobs=6)]: Done 7094 tasks      | elapsed:  5.1min\n",
      "[Parallel(n_jobs=6)]: Done 10046 tasks      | elapsed:  5.9min\n",
      "[Parallel(n_jobs=6)]: Done 13500 tasks      | elapsed:  6.7min\n",
      "[Parallel(n_jobs=6)]: Done 17944 tasks      | elapsed:  7.9min\n",
      "[Parallel(n_jobs=6)]: Done 21886 tasks      | elapsed:  8.9min\n",
      "[Parallel(n_jobs=6)]: Done 26490 tasks      | elapsed: 10.0min\n",
      "[Parallel(n_jobs=6)]: Done 31970 tasks      | elapsed: 11.4min\n",
      "[Parallel(n_jobs=6)]: Done 32000 out of 32000 | elapsed: 11.4min finished\n",
      "c:\\users\\chris\\appdata\\local\\programs\\python\\python39\\lib\\site-packages\\sklearn\\pipeline.py:335: UserWarning: With alpha=0, this algorithm does not converge well. You are advised to use the LinearRegression estimator\n",
      "  self._final_estimator.fit(Xt, y, **fit_params_last_step)\n",
      "c:\\users\\chris\\appdata\\local\\programs\\python\\python39\\lib\\site-packages\\sklearn\\linear_model\\_coordinate_descent.py:529: UserWarning: Coordinate descent with no regularization may lead to unexpected results and is discouraged.\n",
      "  model = cd_fast.enet_coordinate_descent(\n"
     ]
    },
    {
     "name": "stdout",
     "output_type": "stream",
     "text": [
      "\n",
      "Best score for Lasso with _all_business dataset: 0.44996200683603715\n",
      "\n",
      "Best hyperparameters for Lasso with _all_business dataset:\n",
      "memory : None\n",
      "steps : [('clf', Lasso(alpha=0.0, normalize=True, random_state=7, selection='random', tol=0.0))]\n",
      "verbose : False\n",
      "clf : Lasso(alpha=0.0, normalize=True, random_state=7, selection='random', tol=0.0)\n",
      "clf__alpha : 0.0\n",
      "clf__copy_X : True\n",
      "clf__fit_intercept : True\n",
      "clf__max_iter : 1000\n",
      "clf__normalize : True\n",
      "clf__positive : False\n",
      "clf__precompute : False\n",
      "clf__random_state : 7\n",
      "clf__selection : random\n",
      "clf__tol : 0.0\n",
      "clf__warm_start : False\n",
      "\n",
      "Prediction scores for Lasso using _all_business :\n",
      "Mean Squared error: 10.68578982118223\n",
      "Mean Absolute error: 1.8508237579583582\n",
      "R^2: 0.45179276195271134\n"
     ]
    },
    {
     "name": "stderr",
     "output_type": "stream",
     "text": [
      "c:\\users\\chris\\appdata\\local\\programs\\python\\python39\\lib\\site-packages\\sklearn\\linear_model\\_coordinate_descent.py:529: ConvergenceWarning: Objective did not converge. You might want to increase the number of iterations. Duality gap: 233057.88432637145, tolerance: 0.0\n",
      "  model = cd_fast.enet_coordinate_descent(\n"
     ]
    }
   ],
   "source": [
    "bus_model, bus_train_score, bus_mse, bus_mae, bus_r2 = get_best_model(sel_methods[4], args, num_folds, is_sample)"
   ]
  },
  {
   "cell_type": "code",
   "execution_count": 31,
   "metadata": {},
   "outputs": [],
   "source": [
    "# parameters stable, model saved\n",
    "save_model(bus_model,sel_methods[4])"
   ]
  },
  {
   "cell_type": "markdown",
   "metadata": {},
   "source": [
    "<h3>Visualise scores<h3>"
   ]
  },
  {
   "cell_type": "code",
   "execution_count": 32,
   "metadata": {},
   "outputs": [],
   "source": [
    "training_scores = [f_reg_train_score, chi2_train_score, ada_train_score, equal_train_score, bus_train_score]\n",
    "mse_scores = [f_reg_mse, chi2_mse, ada_mse, equal_mse, bus_mse]\n",
    "mae_scores = [f_reg_mae, chi2_mae, ada_mae, equal_mae, bus_mae]\n",
    "r2_scores = [f_reg_r2, chi2_r2, ada_r2, equal_r2, bus_r2]\n",
    "datasets = [\"F-Regression\",\"Chi-Squared\",\"AdaBoost\",\"Equal Business\\nand Crime\",\"All Business\"]\n",
    "y_select = np.arange(len(datasets))"
   ]
  },
  {
   "cell_type": "code",
   "execution_count": 37,
   "metadata": {
    "scrolled": false
   },
   "outputs": [
    {
     "data": {
      "text/plain": [
       "<BarContainer object of 5 artists>"
      ]
     },
     "execution_count": 37,
     "metadata": {},
     "output_type": "execute_result"
    },
    {
     "data": {
      "image/png": "[encoded data removed]",
      "text/plain": [
       "<Figure size 720x720 with 1 Axes>"
      ]
     },
     "metadata": {
      "needs_background": "light"
     },
     "output_type": "display_data"
    }
   ],
   "source": [
    "plt.figure(figsize = (10,10))\n",
    "plt.xticks(y_select,datasets)\n",
    "plt.title(display_name + \" training score\")\n",
    "plt.xlabel(\"Dataset\")\n",
    "plt.ylabel(\"Training score (r-squared)\")\n",
    "plt.bar(y_select, training_scores)"
   ]
  },
  {
   "cell_type": "code",
   "execution_count": 38,
   "metadata": {},
   "outputs": [
    {
     "data": {
      "text/plain": [
       "<BarContainer object of 5 artists>"
      ]
     },
     "execution_count": 38,
     "metadata": {},
     "output_type": "execute_result"
    },
    {
     "data": {
      "image/png": "[encoded data removed]",
      "text/plain": [
       "<Figure size 720x720 with 1 Axes>"
      ]
     },
     "metadata": {
      "needs_background": "light"
     },
     "output_type": "display_data"
    }
   ],
   "source": [
    "plt.figure(figsize = (10,10))\n",
    "plt.xticks(y_select,datasets)\n",
    "plt.title(display_name + \" testing mean-squared error\")\n",
    "plt.xlabel(\"Dataset\")\n",
    "plt.ylabel(\"Mean-squared error\")\n",
    "plt.bar(y_select, mse_scores)"
   ]
  },
  {
   "cell_type": "code",
   "execution_count": 39,
   "metadata": {},
   "outputs": [
    {
     "data": {
      "text/plain": [
       "<BarContainer object of 5 artists>"
      ]
     },
     "execution_count": 39,
     "metadata": {},
     "output_type": "execute_result"
    },
    {
     "data": {
      "image/png": "[encoded data removed]",
      "text/plain": [
       "<Figure size 720x720 with 1 Axes>"
      ]
     },
     "metadata": {
      "needs_background": "light"
     },
     "output_type": "display_data"
    }
   ],
   "source": [
    "plt.figure(figsize = (10,10))\n",
    "plt.xticks(y_select,datasets)\n",
    "plt.title(display_name + \" testing mean-absolute error\")\n",
    "plt.xlabel(\"Dataset\")\n",
    "plt.ylabel(\"Mean absolute error\")\n",
    "plt.bar(y_select, mae_scores)"
   ]
  },
  {
   "cell_type": "code",
   "execution_count": 40,
   "metadata": {},
   "outputs": [
    {
     "data": {
      "text/plain": [
       "<BarContainer object of 5 artists>"
      ]
     },
     "execution_count": 40,
     "metadata": {},
     "output_type": "execute_result"
    },
    {
     "data": {
      "image/png": "[encoded data removed]",
      "text/plain": [
       "<Figure size 720x720 with 1 Axes>"
      ]
     },
     "metadata": {
      "needs_background": "light"
     },
     "output_type": "display_data"
    }
   ],
   "source": [
    "plt.figure(figsize = (10,10))\n",
    "plt.xticks(y_select,datasets)\n",
    "plt.title(display_name + \" testing r-squared scores\")\n",
    "plt.xlabel(\"Dataset\")\n",
    "plt.ylabel(\"R-Squared Score\")\n",
    "plt.bar(y_select, r2_scores)"
   ]
  },
  {
   "cell_type": "code",
   "execution_count": null,
   "metadata": {},
   "outputs": [],
   "source": []
  }
 ],
 "metadata": {
  "kernelspec": {
   "display_name": "Python 3",
   "language": "python",
   "name": "python3"
  },
  "language_info": {
   "codemirror_mode": {
    "name": "ipython",
    "version": 3
   },
   "file_extension": ".py",
   "mimetype": "text/x-python",
   "name": "python",
   "nbconvert_exporter": "python",
   "pygments_lexer": "ipython3",
   "version": "3.9.0"
  }
 },
 "nbformat": 4,
 "nbformat_minor": 4
}
