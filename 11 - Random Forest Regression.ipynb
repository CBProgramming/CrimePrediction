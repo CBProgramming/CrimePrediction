{
 "cells": [
  {
   "cell_type": "code",
   "execution_count": 25,
   "metadata": {},
   "outputs": [],
   "source": [
    "import numpy as np\n",
    "import pandas as pd\n",
    "import matplotlib.pyplot as plt\n",
    "%matplotlib inline\n",
    "import seaborn as sns\n",
    "import sklearn\n",
    "from sklearn.ensemble import RandomForestRegressor\n",
    "from sklearn.metrics import mean_squared_error, r2_score, mean_absolute_error\n",
    "from sklearn.model_selection import cross_val_score\n",
    "from sklearn.pipeline import make_pipeline"
   ]
  },
  {
   "cell_type": "code",
   "execution_count": 26,
   "metadata": {},
   "outputs": [],
   "source": [
    "y_train = pd.read_csv('y_train.csv')\n",
    "y_test = pd.read_csv('y_test.csv')\n",
    "file = open(\"Selection Methods\",\"rb\")\n",
    "sel_methods = np.load(file)"
   ]
  },
  {
   "cell_type": "code",
   "execution_count": 27,
   "metadata": {},
   "outputs": [],
   "source": [
    "def random_forest(method):\n",
    "    method_string = method\n",
    "    if (method == ''):\n",
    "        method_string = \"no feature selection\"\n",
    "    x_train = pd.read_csv('x_train' + method + '.csv').values\n",
    "    x_test = pd.read_csv('x_test' + method + '.csv').values\n",
    "    forest = RandomForestRegressor(n_estimators=500, criterion='mse', random_state=13, n_jobs=1)\n",
    "    forest.fit(x_train, y_train.values.ravel())\n",
    "    y_train_prediction = forest.predict(x_train)\n",
    "    y_test_prediction = forest.predict(x_test)\n",
    "    print(\"\\n\\nResults for Random Forest Regressor on\",method_string,\"data\")\n",
    "    print(\"\\nMean Squared error\")\n",
    "    print(\"Train:\",mean_squared_error(y_train,y_train_prediction))\n",
    "    print(\"Test:\",mean_squared_error(y_test,y_test_prediction))\n",
    "    print(\"\\nMean Absolute error\")\n",
    "    print(\"Train:\",mean_absolute_error(y_train,y_train_prediction))\n",
    "    print(\"Test:\",mean_absolute_error(y_test,y_test_prediction))\n",
    "    print(\"\\nR^2\")\n",
    "    print(\"Train:\",r2_score(y_train,y_train_prediction))\n",
    "    print(\"Test:\",r2_score(y_test,y_test_prediction))"
   ]
  },
  {
   "cell_type": "code",
   "execution_count": 28,
   "metadata": {},
   "outputs": [],
   "source": [
    "#The full data set appears to generate better results than any of the feature selected sets"
   ]
  },
  {
   "cell_type": "code",
   "execution_count": 29,
   "metadata": {},
   "outputs": [
    {
     "name": "stdout",
     "output_type": "stream",
     "text": [
      "\n",
      "\n",
      "Results for Random Forest Regressor on no feature selection data\n",
      "\n",
      "Mean Squared error\n",
      "Train: 0.670349552873071\n",
      "Test: 4.687199571243687\n",
      "\n",
      "Mean Absolute error\n",
      "Train: 0.5104909474622876\n",
      "Test: 1.370880189915308\n",
      "\n",
      "R^2\n",
      "Train: 0.9657369893567976\n",
      "Test: 0.7595351607951005\n",
      "\n",
      "\n",
      "Results for Random Forest Regressor on _f_regression data\n",
      "\n",
      "Mean Squared error\n",
      "Train: 0.8148255366428317\n",
      "Test: 4.983933916019172\n",
      "\n",
      "Mean Absolute error\n",
      "Train: 0.5980170453336584\n",
      "Test: 1.4310714436314256\n",
      "\n",
      "R^2\n",
      "Train: 0.9583525103959714\n",
      "Test: 0.7443119607972231\n",
      "\n",
      "\n",
      "Results for Random Forest Regressor on _chi2 data\n",
      "\n",
      "Mean Squared error\n",
      "Train: 0.7177195243833939\n",
      "Test: 5.0480450027701105\n",
      "\n",
      "Mean Absolute error\n",
      "Train: 0.5382471357184387\n",
      "Test: 1.3877181358940358\n",
      "\n",
      "R^2\n",
      "Train: 0.9633158080028753\n",
      "Test: 0.7410229047345376\n",
      "\n",
      "\n",
      "Results for Random Forest Regressor on _mutual_info data\n",
      "\n",
      "Mean Squared error\n",
      "Train: 0.7182549251866022\n",
      "Test: 5.064574375511041\n",
      "\n",
      "Mean Absolute error\n",
      "Train: 0.5389378955809506\n",
      "Test: 1.3890684843521097\n",
      "\n",
      "R^2\n",
      "Train: 0.9632884425137211\n",
      "Test: 0.7401749073540353\n",
      "\n",
      "\n",
      "Results for Random Forest Regressor on _equal_crime_and_business data\n",
      "\n",
      "Mean Squared error\n",
      "Train: 0.7556525192915812\n",
      "Test: 5.115815989328004\n",
      "\n",
      "Mean Absolute error\n",
      "Train: 0.55673355432415\n",
      "Test: 1.433346631800744\n",
      "\n",
      "R^2\n",
      "Train: 0.9613769708652994\n",
      "Test: 0.7375460868312884\n",
      "\n",
      "\n",
      "Results for Random Forest Regressor on _all_business data\n",
      "\n",
      "Mean Squared error\n",
      "Train: 1.2589943858489714\n",
      "Test: 5.6497224392558065\n",
      "\n",
      "Mean Absolute error\n",
      "Train: 0.7336713817419747\n",
      "Test: 1.4723508288835336\n",
      "\n",
      "R^2\n",
      "Train: 0.9356500830690593\n",
      "Test: 0.7101553758788461\n"
     ]
    }
   ],
   "source": [
    "for method in sel_methods:\n",
    "    random_forest(method)"
   ]
  },
  {
   "cell_type": "code",
   "execution_count": 30,
   "metadata": {},
   "outputs": [],
   "source": [
    "#Validate with k-fold cross validation (k=10)"
   ]
  },
  {
   "cell_type": "code",
   "execution_count": 31,
   "metadata": {},
   "outputs": [],
   "source": [
    "def crossfold_validation(method):\n",
    "    method_string = method\n",
    "    if (method == ''):\n",
    "        method_string = \"no feature selection\"\n",
    "    x_train = pd.read_csv('x_train' + method + '.csv').values\n",
    "    x_test = pd.read_csv('x_test' + method + '.csv').values\n",
    "    pipe = make_pipeline(RandomForestRegressor(n_estimators=500, criterion='mse', random_state=13, n_jobs=1))\n",
    "    pipe.fit(x_train, y_train.values.ravel())\n",
    "    scores = cross_val_score(estimator = pipe, X = x_train, y = y_train.values.ravel(), cv = 10)\n",
    "    print('\\nCrossfold validation scores for random forest using',method_string,'data:\\n',scores)"
   ]
  },
  {
   "cell_type": "code",
   "execution_count": 32,
   "metadata": {},
   "outputs": [
    {
     "name": "stdout",
     "output_type": "stream",
     "text": [
      "\n",
      "Crossfold validation scores for random forest using no feature selection data:\n",
      " [0.76596307 0.74086619 0.74361372 0.75857373 0.75145467 0.7385967\n",
      " 0.71617983 0.74483093 0.75417892 0.73856684]\n",
      "\n",
      "Crossfold validation scores for random forest using _f_regression data:\n",
      " [0.74688858 0.73014377 0.7275608  0.74403924 0.73235992 0.73128291\n",
      " 0.70124738 0.72891171 0.74440241 0.72475993]\n",
      "\n",
      "Crossfold validation scores for random forest using _chi2 data:\n",
      " [0.74825182 0.74166207 0.72821358 0.74606755 0.73805507 0.73347264\n",
      " 0.70732424 0.73479055 0.74650456 0.7376267 ]\n",
      "\n",
      "Crossfold validation scores for random forest using _mutual_info data:\n",
      " [0.75231631 0.74709773 0.72972416 0.74502389 0.7386253  0.73271906\n",
      " 0.70768336 0.73417898 0.73655907 0.73735986]\n",
      "\n",
      "Crossfold validation scores for random forest using _equal_crime_and_business data:\n",
      " [0.74238381 0.74659778 0.71142167 0.7343563  0.73533209 0.72491051\n",
      " 0.7033421  0.72407431 0.72245512 0.72652156]\n",
      "\n",
      "Crossfold validation scores for random forest using _all_business data:\n",
      " [0.70462038 0.68879074 0.6803256  0.69191515 0.68112434 0.68512513\n",
      " 0.68188286 0.68129962 0.68374175 0.68508762]\n"
     ]
    }
   ],
   "source": [
    "for method in sel_methods:\n",
    "    crossfold_validation(method)"
   ]
  }
 ],
 "metadata": {
  "kernelspec": {
   "display_name": "Python 3",
   "language": "python",
   "name": "python3"
  },
  "language_info": {
   "codemirror_mode": {
    "name": "ipython",
    "version": 3
   },
   "file_extension": ".py",
   "mimetype": "text/x-python",
   "name": "python",
   "nbconvert_exporter": "python",
   "pygments_lexer": "ipython3",
   "version": "3.9.0"
  }
 },
 "nbformat": 4,
 "nbformat_minor": 4
}
