{
 "cells": [
  {
   "cell_type": "code",
   "execution_count": 76,
   "metadata": {},
   "outputs": [],
   "source": [
    "import numpy as np\n",
    "import pandas as pd\n",
    "import matplotlib.pyplot as plt\n",
    "%matplotlib inline\n",
    "import seaborn as sns\n",
    "import sklearn\n",
    "from sklearn.ensemble import RandomForestRegressor\n",
    "from sklearn.metrics import mean_squared_error, r2_score"
   ]
  },
  {
   "cell_type": "code",
   "execution_count": 77,
   "metadata": {},
   "outputs": [],
   "source": [
    "y_train = pd.read_csv('y_train.csv')\n",
    "y_test = pd.read_csv('y_test.csv')\n",
    "file = open(\"Selection Methods\",\"rb\")\n",
    "sel_methods = np.load(file)"
   ]
  },
  {
   "cell_type": "code",
   "execution_count": 78,
   "metadata": {},
   "outputs": [],
   "source": [
    "def random_forest(filename):\n",
    "    x_train = pd.read_csv('x_train' + filename + '.csv').values\n",
    "    x_test = pd.read_csv('x_test' + filename + '.csv').values\n",
    "    forest = RandomForestRegressor(n_estimators=500, criterion='mse', random_state=13, n_jobs=1)\n",
    "    forest.fit(x_train, y_train.values.ravel())\n",
    "    y_train_prediction = forest.predict(x_train)\n",
    "    y_test_prediction = forest.predict(x_test)\n",
    "    print(\"\\n\\nResults for Random Forest Regressor on\",filename,\"data\")\n",
    "    print(\"\\nMean Squared error\")\n",
    "    print(\"Train:\",mean_squared_error(y_train,y_train_prediction))\n",
    "    print(\"Test:\",mean_squared_error(y_test,y_test_prediction))\n",
    "    print(\"\\nR^2\")\n",
    "    print(\"Train:\",r2_score(y_train,y_train_prediction))\n",
    "    print(\"Test:\",r2_score(y_test,y_test_prediction))"
   ]
  },
  {
   "cell_type": "code",
   "execution_count": null,
   "metadata": {},
   "outputs": [],
   "source": [
    "#The full data set appears to generate better results than any of the feature selected sets"
   ]
  },
  {
   "cell_type": "code",
   "execution_count": 79,
   "metadata": {},
   "outputs": [
    {
     "name": "stdout",
     "output_type": "stream",
     "text": [
      "\n",
      "\n",
      "Results for Random Forest Regressor on  data\n",
      "\n",
      "Mean Squared error\n",
      "Train: 0.670349552873071\n",
      "Test: 4.687199571243687\n",
      "\n",
      "R^2\n",
      "Train: 0.9657369893567976\n",
      "Test: 0.7595351607951005\n",
      "\n",
      "\n",
      "Results for Random Forest Regressor on _f_regression data\n",
      "\n",
      "Mean Squared error\n",
      "Train: 0.8148255366428317\n",
      "Test: 4.983933916019172\n",
      "\n",
      "R^2\n",
      "Train: 0.9583525103959714\n",
      "Test: 0.7443119607972231\n",
      "\n",
      "\n",
      "Results for Random Forest Regressor on _chi2 data\n",
      "\n",
      "Mean Squared error\n",
      "Train: 0.7177195243833939\n",
      "Test: 5.0480450027701105\n",
      "\n",
      "R^2\n",
      "Train: 0.9633158080028753\n",
      "Test: 0.7410229047345376\n",
      "\n",
      "\n",
      "Results for Random Forest Regressor on _mutual_info data\n",
      "\n",
      "Mean Squared error\n",
      "Train: 0.7182549251866022\n",
      "Test: 5.064574375511041\n",
      "\n",
      "R^2\n",
      "Train: 0.9632884425137211\n",
      "Test: 0.7401749073540353\n",
      "\n",
      "\n",
      "Results for Random Forest Regressor on _extra_trees data\n",
      "\n",
      "Mean Squared error\n",
      "Train: 0.7191692663820872\n",
      "Test: 4.901343570361395\n",
      "\n",
      "R^2\n",
      "Train: 0.9632417085642792\n",
      "Test: 0.7485490481852484\n",
      "\n",
      "\n",
      "Results for Random Forest Regressor on _equal_crime_and_business data\n",
      "\n",
      "Mean Squared error\n",
      "Train: 0.7556525192915812\n",
      "Test: 5.115815989328004\n",
      "\n",
      "R^2\n",
      "Train: 0.9613769708652994\n",
      "Test: 0.7375460868312884\n",
      "\n",
      "\n",
      "Results for Random Forest Regressor on _all_business data\n",
      "\n",
      "Mean Squared error\n",
      "Train: 1.2589943858489714\n",
      "Test: 5.6497224392558065\n",
      "\n",
      "R^2\n",
      "Train: 0.9356500830690593\n",
      "Test: 0.7101553758788461\n"
     ]
    }
   ],
   "source": [
    "for method in sel_methods:\n",
    "    random_forest(method)"
   ]
  }
 ],
 "metadata": {
  "kernelspec": {
   "display_name": "Python 3",
   "language": "python",
   "name": "python3"
  },
  "language_info": {
   "codemirror_mode": {
    "name": "ipython",
    "version": 3
   },
   "file_extension": ".py",
   "mimetype": "text/x-python",
   "name": "python",
   "nbconvert_exporter": "python",
   "pygments_lexer": "ipython3",
   "version": "3.9.0"
  }
 },
 "nbformat": 4,
 "nbformat_minor": 4
}
