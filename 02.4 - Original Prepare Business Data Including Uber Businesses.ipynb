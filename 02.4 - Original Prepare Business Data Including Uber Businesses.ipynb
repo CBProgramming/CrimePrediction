{
 "cells": [
  {
   "cell_type": "code",
   "execution_count": 3,
   "metadata": {},
   "outputs": [],
   "source": [
    "import pandas as pd\n",
    "import numpy as np\n",
    "import math\n",
    "import re\n",
    "from geopy.extra.rate_limiter import RateLimiter\n",
    "from geopy.geocoders import Nominatim\n",
    "from datetime import date, datetime, timedelta\n",
    "from shapely.geometry import Point, Polygon\n",
    "import copy\n",
    "import matplotlib.pyplot as plt\n",
    "%matplotlib inline"
   ]
  },
  {
   "cell_type": "code",
   "execution_count": 265,
   "metadata": {},
   "outputs": [],
   "source": [
    "# open neighbourhood data file\n",
    "def open_neighborhoods():\n",
    "    df = pd.read_csv('SF_neighborhoods.csv')\n",
    "    return df"
   ]
  },
  {
   "cell_type": "code",
   "execution_count": 266,
   "metadata": {},
   "outputs": [],
   "source": [
    "# get list of neighbourhoods from neighbourhood datafile\n",
    "def get_neighborhoods(df):\n",
    "    neighborhoods = []\n",
    "    num_neighborhoods = len(df.index)\n",
    "    for x in range(0,num_neighborhoods):\n",
    "        neighborhoods.append(df.iloc[x,2])\n",
    "    return neighborhoods"
   ]
  },
  {
   "cell_type": "code",
   "execution_count": 267,
   "metadata": {},
   "outputs": [],
   "source": [
    "# generate list of polygons representing each neighbourhood\n",
    "def generate_neighborhood_polygons(df):\n",
    "    neighborhoods = []\n",
    "    num_neighborhoods = len(df.index)\n",
    "    for x in range(0,num_neighborhoods):\n",
    "        raw_polygon_data = df.iloc[x,1]\n",
    "        neighborhood_polygon = generate_polygon(raw_polygon_data)\n",
    "        neighborhood_name = df.iloc[x,2]\n",
    "        neighborhood_tuple = (neighborhood_polygon,neighborhood_name)\n",
    "        neighborhoods.append(neighborhood_tuple)\n",
    "    return neighborhoods"
   ]
  },
  {
   "cell_type": "code",
   "execution_count": 268,
   "metadata": {},
   "outputs": [],
   "source": [
    "# generate a polygon\n",
    "def generate_polygon(raw_polygon_data):\n",
    "    raw_polygon_data = raw_polygon_data[16:-3]\n",
    "    coords = ''\n",
    "    coords_list = []\n",
    "    for char in raw_polygon_data:\n",
    "        if char == ' ' or char == ',':\n",
    "            if coords != '':\n",
    "                coords_list.append(float(coords))\n",
    "            coords = ''\n",
    "        else:\n",
    "            coords = coords+char\n",
    "    coords_list.append(float(coords))\n",
    "    x = 0\n",
    "    tuple_list = []\n",
    "    while x < len(coords_list):\n",
    "        next_tuple = (coords_list[x+1],coords_list[x])\n",
    "        tuple_list.append(next_tuple)\n",
    "        x+=2\n",
    "    polygon = Polygon(tuple_list)\n",
    "    return polygon"
   ]
  },
  {
   "cell_type": "code",
   "execution_count": 269,
   "metadata": {},
   "outputs": [],
   "source": [
    "# open original business data file\n",
    "def open_businesses():\n",
    "    df = pd.read_csv('SF_registered_business_locations.csv')\n",
    "    return df"
   ]
  },
  {
   "cell_type": "code",
   "execution_count": 270,
   "metadata": {},
   "outputs": [],
   "source": [
    "# drop columns deemed unecessary from business data file\n",
    "def drop_unnecessary_columns(df):\n",
    "    df = df.drop(columns=['Analysis Neighborhoods','Current Supervisor Districts',\n",
    "                          'Current Police Districts','SF Find Neighborhoods','Neighborhoods',\n",
    "                          'LIC Code Description','LIC Code','Transient Occupancy Tax','Parking Tax',\n",
    "                          'NAICS Code','Mail State','Mail City','Location Id','Business Account Number',\n",
    "                          'Business Start Date','Business End Date','Ownership Name','Street Address',\n",
    "                          'City','State','Source Zipcode','Mail Address','Mail Zipcode',\n",
    "                          'Supervisor District','Business Corridor','NAICS Code Description'])\n",
    "    return df"
   ]
  },
  {
   "cell_type": "code",
   "execution_count": 271,
   "metadata": {},
   "outputs": [],
   "source": [
    "# drop end dates before 1/1/2017\n",
    "def drop_end_dates_before_sfpd_dataset(df):\n",
    "    # give none closed businesses an arbitray future closure date\n",
    "    df['Location End Date'] = df['Location End Date'].fillna('01/01/2030')\n",
    "    #convert all date strings to datetime\n",
    "    df['Location End Date'] = pd.to_datetime(df['Location End Date'])\n",
    "    df = df[~(df['Location End Date'] < '2018-01-01')]\n",
    "    return df"
   ]
  },
  {
   "cell_type": "code",
   "execution_count": 272,
   "metadata": {},
   "outputs": [],
   "source": [
    "# remove businesses without GPS coordinates and place other businesses inside a naeighbourhood polygon using GPS coordinates\n",
    "def determine_neighborhood_by_geolocation(df, neighborhood_polygons,neighborhoods):\n",
    "    #replace blank gps coords with arbitrary point a significant distance from san francisco, in the ocean\n",
    "    df['Business Location'] = df['Business Location'].fillna('POINT (-120.0 30.00)')\n",
    "    df['Business Location'] = df['Business Location'].str[7:-1]\n",
    "    df[['Longitude','Latitude']] = df['Business Location'].str.split(\" \", expand = True)\n",
    "    df = convert_gps_to_neighborhood(df,neighborhood_polygons,neighborhoods)\n",
    "    return df"
   ]
  },
  {
   "cell_type": "code",
   "execution_count": 273,
   "metadata": {},
   "outputs": [],
   "source": [
    "# place businesses inside a naeighbourhood polygon using GPS coordinates\n",
    "def convert_gps_to_neighborhood(df,neighborhood_polygons,neighborhoods):\n",
    "    df['Neighborhood'] = np.nan\n",
    "    num_records = len(df.index)\n",
    "    for business_num in range(0,num_records):\n",
    "        df.iloc[business_num,7] = ''\n",
    "        if df.iloc[business_num,4] == '-120.0 30.00':\n",
    "            for neighborhood in neighborhoods:\n",
    "                if df.iloc[business_num,3] == neighborhood:\n",
    "                    df.iloc[business_num,7] = neighborhood\n",
    "            if df.iloc[business_num,7] == '':\n",
    "                df.iloc[business_num,7] = 'no gps'     \n",
    "        else:\n",
    "            shortest_distance = 999999999\n",
    "            closest_neighborhood = ''\n",
    "            latitude = float(df.iloc[business_num,6])\n",
    "            longitude = float(df.iloc[business_num,5])\n",
    "            point = Point(latitude,longitude)\n",
    "            for poly_tuple in neighborhood_polygons:\n",
    "                if poly_tuple[0].contains(point) or poly_tuple[0].touches(point):\n",
    "                    df.iloc[business_num,7] = poly_tuple[1]\n",
    "                    break\n",
    "                else:\n",
    "                    distance_to_neighborhood = point.distance(poly_tuple[0])\n",
    "                    if distance_to_neighborhood < shortest_distance:\n",
    "                        shortest_distance = distance_to_neighborhood\n",
    "                        closest_neighborhood = poly_tuple[1]\n",
    "            if df.iloc[business_num,7] == '':\n",
    "                #if less than half a mile from a neighborhood polygon and sufficiently north to be san francisco\n",
    "                if shortest_distance < 0.018 and latitude > 37.709126:\n",
    "                    df.iloc[business_num,7] = closest_neighborhood\n",
    "    df.reset_index(drop=True, inplace=True)\n",
    "    df = df[df.Neighborhood != '']\n",
    "    df = df[df.Neighborhood != 'no gps']\n",
    "    return df"
   ]
  },
  {
   "cell_type": "code",
   "execution_count": 274,
   "metadata": {},
   "outputs": [],
   "source": [
    "# remove additional uneccessary columns\n",
    "def cleanup_columns(df):\n",
    "    df = df.drop(columns=['Neighborhoods - Analysis Boundaries','Business Location',\n",
    "                          'Longitude','Latitude'])\n",
    "    return df"
   ]
  },
  {
   "cell_type": "code",
   "execution_count": 275,
   "metadata": {},
   "outputs": [],
   "source": [
    "# determine number of business closures per day per neighbourhood\n",
    "def get_closures_per_day_per_neighborhood(closures):\n",
    "    closures['Closures'] = 1\n",
    "    closures['Location End Date'] = pd.to_datetime(closures['Location End Date'])\n",
    "    closures = closures[closures['Location End Date'].dt.year < 2021]\n",
    "    closures = closures.groupby(['Location End Date','Neighborhood']).count()\n",
    "    closures = closures.drop(columns=[ 'DBA Name','Location Start Date'])\n",
    "    closures = closures.reset_index()\n",
    "    return closures"
   ]
  },
  {
   "cell_type": "code",
   "execution_count": 276,
   "metadata": {},
   "outputs": [],
   "source": [
    "# add rows for neighbourhoods which had zero business closures in a given day\n",
    "def add_zero_closure_neighborhoods(closures, neighborhoods):\n",
    "    new_rows = pd.DataFrame()\n",
    "    num_records = len(closures.index)\n",
    "    current_date = closures.iloc[0,0]\n",
    "    zero_closure_neighborhoods = copy.deepcopy(neighborhoods)\n",
    "    for record in range(0,num_records):\n",
    "        while closures.iloc[record,0] != current_date:\n",
    "            for neighborhood in zero_closure_neighborhoods:\n",
    "                new_row = {'Location End Date' : current_date,\n",
    "                                   'Neighborhood' : neighborhood,\n",
    "                                   'Closures' : 0}\n",
    "                new_rows = new_rows.append(new_row,ignore_index=True)\n",
    "            current_date = current_date + timedelta(days=1)\n",
    "        if closures.iloc[record,0] == current_date:\n",
    "            zero_closure_neighborhoods.remove(closures.iloc[record,1])\n",
    "            if record != num_records-1:\n",
    "                if closures.iloc[record+1,0] != current_date:\n",
    "                    for neighborhood in zero_closure_neighborhoods:\n",
    "                        new_row = {'Location End Date' : current_date,\n",
    "                                   'Neighborhood' : neighborhood,\n",
    "                                   'Closures' : 0}\n",
    "                        new_rows = new_rows.append(new_row,ignore_index=True)\n",
    "                    zero_closure_neighborhoods = copy.deepcopy(neighborhoods)\n",
    "                    current_date = current_date + timedelta(days=1)\n",
    "        if current_date == date (2020,11,12):\n",
    "            break\n",
    "    for neighborhood in zero_closure_neighborhoods:\n",
    "        new_row = {'Location End Date' : current_date,\n",
    "                    'Neighborhood' : neighborhood,\n",
    "                    'Closures' : 0}\n",
    "        new_rows = new_rows.append(new_row,ignore_index=True)\n",
    "    frames = [closures,new_rows]\n",
    "    new_record = pd.concat(frames)\n",
    "    new_record = new_record.sort_values(['Location End Date','Neighborhood'])\n",
    "    return new_record"
   ]
  },
  {
   "cell_type": "code",
   "execution_count": 277,
   "metadata": {},
   "outputs": [],
   "source": [
    "# shift closures by a number of days in order to create historic data\n",
    "def shift_closures(closures,num_days):\n",
    "    transitional_data = closures.shift(periods=(117*num_days))\n",
    "    transitional_data = transitional_data['Closures']\n",
    "    return transitional_data"
   ]
  },
  {
   "cell_type": "code",
   "execution_count": 278,
   "metadata": {},
   "outputs": [],
   "source": [
    "# generate the last 14 days business closures\n",
    "def get_last_14_days_closures(closures):\n",
    "    transitional_data = closures.shift(periods=(117*7))\n",
    "    transitional_data = transitional_data['Last 7 days closures']\n",
    "    return transitional_data"
   ]
  },
  {
   "cell_type": "code",
   "execution_count": 279,
   "metadata": {},
   "outputs": [],
   "source": [
    "# generate the last 28 days business closures\n",
    "def get_last_28_days_closures(closures):\n",
    "    transitional_data = closures.shift(periods=(117*14))\n",
    "    transitional_data = transitional_data['Last 14 days closures']\n",
    "    return transitional_data"
   ]
  },
  {
   "cell_type": "code",
   "execution_count": 280,
   "metadata": {},
   "outputs": [],
   "source": [
    "# generate historic business closure data\n",
    "def generate_new_closure_date_data(closures):\n",
    "    closures['Closures 1 day ago'] = shift_closures(closures,1)\n",
    "    closures['Closures 2 days ago'] = shift_closures(closures,2)\n",
    "    closures['Closures 3 days ago'] = shift_closures(closures,3)\n",
    "    closures['Closures 4 days ago'] = shift_closures(closures,4)\n",
    "    closures['Closures 5 days ago'] = shift_closures(closures,5)\n",
    "    closures['Closures 6 days ago'] = shift_closures(closures,6)\n",
    "    closures['Closures 7 days ago'] = shift_closures(closures,7)\n",
    "    closures['Closures 14 days ago'] = shift_closures(closures,14)\n",
    "    closures['Closures 30 days ago'] = shift_closures(closures,30)\n",
    "    closures['Closures 365 days ago'] = shift_closures(closures,365)\n",
    "    closures['Last 7 days closures'] = (closures['Closures 1 day ago']\n",
    "                                        + closures['Closures 2 days ago']\n",
    "                                        + closures['Closures 3 days ago']\n",
    "                                        + closures['Closures 4 days ago']\n",
    "                                        + closures['Closures 5 days ago']\n",
    "                                        + closures['Closures 6 days ago']\n",
    "                                        + closures['Closures 7 days ago'])\n",
    "    closures['Last 14 days closures'] = (closures['Last 7 days closures']\n",
    "                                         + get_last_14_days_closures(closures))\n",
    "    closures['Last 28 days closures'] = (closures['Last 14 days closures']\n",
    "                                         + get_last_28_days_closures(closures))\n",
    "    closures = closures.dropna()\n",
    "    closures = closures[closures['Location End Date'] >= '01-01-2019']\n",
    "    closures = closures[closures['Location End Date'] <= '11-11-2020']\n",
    "    #closures = closures[closures[pd.to_datetime(closures['Location End Date'])] < date (2020,11,12)] #final date of SFPD data\n",
    "    return closures"
   ]
  },
  {
   "cell_type": "code",
   "execution_count": 281,
   "metadata": {},
   "outputs": [],
   "source": [
    "# determine the number of business openings per neighbourhood\n",
    "def get_openings_per_day_per_neighborhood(openings):\n",
    "    openings['Openings'] = 1\n",
    "    openings['Location Start Date'] = pd.to_datetime(openings['Location Start Date'])\n",
    "    openings = openings[openings['Location Start Date'].dt.year > 2018]\n",
    "    openings = openings.groupby(['Location Start Date','Neighborhood']).count()\n",
    "    openings = openings.drop(columns=[ 'DBA Name','Location End Date'])\n",
    "    openings = openings.reset_index()\n",
    "    return openings"
   ]
  },
  {
   "cell_type": "code",
   "execution_count": 282,
   "metadata": {},
   "outputs": [],
   "source": [
    "# add rows for any neighbourhood with zero business openings on a given day\n",
    "def add_zero_opening_neighborhoods(openings, neighborhoods):\n",
    "    new_rows = pd.DataFrame()\n",
    "    num_records = len(openings.index)\n",
    "    current_date = openings.iloc[0,0]\n",
    "    zero_opening_neighborhoods = copy.deepcopy(neighborhoods)\n",
    "    for record in range(0,num_records):\n",
    "        while openings.iloc[record,0] != current_date:\n",
    "            for neighborhood in zero_opening_neighborhoods:\n",
    "                new_row = {'Location Start Date' : current_date,\n",
    "                                   'Neighborhood' : neighborhood,\n",
    "                                   'Openings' : 0}\n",
    "                new_rows = new_rows.append(new_row,ignore_index=True)\n",
    "            current_date = current_date + timedelta(days=1)\n",
    "        if openings.iloc[record,0] == current_date:\n",
    "            zero_opening_neighborhoods.remove(openings.iloc[record,1])\n",
    "            if record != num_records-1:\n",
    "                if openings.iloc[record+1,0] != current_date:\n",
    "                    for neighborhood in zero_opening_neighborhoods:\n",
    "                        new_row = {'Location Start Date' : current_date,\n",
    "                                   'Neighborhood' : neighborhood,\n",
    "                                   'Openings' : 0}\n",
    "                        new_rows = new_rows.append(new_row,ignore_index=True)\n",
    "                    zero_opening_neighborhoods = copy.deepcopy(neighborhoods)\n",
    "                    current_date = current_date + timedelta(days=1)\n",
    "        if current_date == date (2020,11,12):\n",
    "            break\n",
    "    for neighborhood in zero_opening_neighborhoods:\n",
    "        new_row = {'Location Start Date' : current_date,\n",
    "                    'Neighborhood' : neighborhood,\n",
    "                    'Openings' : 0}\n",
    "        new_rows = new_rows.append(new_row,ignore_index=True)\n",
    "    frames = [openings,new_rows]\n",
    "    new_record = pd.concat(frames)\n",
    "    new_record = new_record.sort_values(['Location Start Date','Neighborhood'])\n",
    "    return new_record"
   ]
  },
  {
   "cell_type": "code",
   "execution_count": 283,
   "metadata": {},
   "outputs": [],
   "source": [
    "# shift business openings by a number of days to create hitoric data\n",
    "def shift_openings(openings,num_days):\n",
    "    transitional_data = openings.shift(periods=(117*num_days))\n",
    "    transitional_data = transitional_data['Openings']\n",
    "    return transitional_data"
   ]
  },
  {
   "cell_type": "code",
   "execution_count": 284,
   "metadata": {},
   "outputs": [],
   "source": [
    "# generate the last 14 days business openings data\n",
    "def get_last_14_days_openings(openings):\n",
    "    transitional_data = openings.shift(periods=(117*7))\n",
    "    transitional_data = transitional_data['Last 7 days openings']\n",
    "    return transitional_data"
   ]
  },
  {
   "cell_type": "code",
   "execution_count": 285,
   "metadata": {},
   "outputs": [],
   "source": [
    "# generate the last 28 days business openings data\n",
    "def get_last_28_days_openings(openings):\n",
    "    transitional_data = openings.shift(periods=(117*14))\n",
    "    transitional_data = transitional_data['Last 14 days openings']\n",
    "    return transitional_data"
   ]
  },
  {
   "cell_type": "code",
   "execution_count": 286,
   "metadata": {},
   "outputs": [],
   "source": [
    "# generate historic business openings data\n",
    "def generate_new_opening_date_data(openings):\n",
    "    openings['Openings 1 day ago'] = shift_openings(openings,1)\n",
    "    openings['Openings 2 days ago'] = shift_openings(openings,2)\n",
    "    openings['Openings 3 days ago'] = shift_openings(openings,3)\n",
    "    openings['Openings 4 days ago'] = shift_openings(openings,4)\n",
    "    openings['Openings 5 days ago'] = shift_openings(openings,5)\n",
    "    openings['Openings 6 days ago'] = shift_openings(openings,6)\n",
    "    openings['Openings 7 days ago'] = shift_openings(openings,7)\n",
    "    openings['Openings 14 days ago'] = shift_openings(openings,14)\n",
    "    openings['Openings 30 days ago'] = shift_openings(openings,30)\n",
    "    openings['Openings 365 days ago'] = shift_openings(openings,365)\n",
    "    openings['Last 7 days openings'] = (openings['Openings 1 day ago']\n",
    "                                        + openings['Openings 2 days ago']\n",
    "                                        + openings['Openings 3 days ago']\n",
    "                                        + openings['Openings 4 days ago']\n",
    "                                        + openings['Openings 5 days ago']\n",
    "                                        + openings['Openings 6 days ago']\n",
    "                                        + openings['Openings 7 days ago'])\n",
    "    openings['Last 14 days openings'] = (openings['Last 7 days openings']\n",
    "                                         + get_last_14_days_openings(openings))\n",
    "    openings['Last 28 days openings'] = (openings['Last 14 days openings']\n",
    "                                         + get_last_28_days_openings(openings))\n",
    "    openings = openings.dropna()\n",
    "    openings = openings[openings['Location Start Date'] >= '01-01-2019']\n",
    "    openings = openings[openings['Location Start Date'] <= '11-11-2020']\n",
    "    #openings = openings[openings[pd.to_datetime(openings['Location Start Date'])] < date (2020,11,12)] #final date of SFPD data\n",
    "    return openings"
   ]
  },
  {
   "cell_type": "code",
   "execution_count": 287,
   "metadata": {},
   "outputs": [],
   "source": [
    "# generate data placing each open business in each date in which it was trading\n",
    "def generate_dates_for_each_business(df):\n",
    "    df['Date'] = np.nan\n",
    "    df['Date']= pd.to_datetime(df['Date'])\n",
    "    df['Location Start Date']= pd.to_datetime(df['Location Start Date'])\n",
    "    df['Location End Date']= pd.to_datetime(df['Location End Date'])\n",
    "    new_df = pd.DataFrame()\n",
    "    final_df = pd.DataFrame()\n",
    "    num_records = len(df.index)\n",
    "    current_date = datetime(2018, 1, 1) #one year prior to beginning of SFPD data\n",
    "    end_date = datetime(2020, 11, 11) #final date of SFPD data\n",
    "    delta = timedelta(days = 1)\n",
    "    while current_date <= end_date:\n",
    "        num_records = len(df.index)\n",
    "        new_df = (df.loc[(df['Location Start Date'] <= current_date) & (current_date < df['Location End Date'])])\n",
    "        new_df['Date'] = current_date\n",
    "        final_df = pd.concat((new_df,final_df))\n",
    "        current_date += delta\n",
    "    final_df['Number of businesses'] = 1\n",
    "    final_df = final_df.groupby(['Date','Neighborhood']).count()\n",
    "    final_df = final_df.drop(columns=[ 'DBA Name','Location Start Date',\n",
    "                           'Location End Date'])\n",
    "    return final_df"
   ]
  },
  {
   "cell_type": "code",
   "execution_count": 288,
   "metadata": {},
   "outputs": [],
   "source": [
    "# shift open businesses by a number of days to create historic data\n",
    "def shift_days(df,num_days):\n",
    "    transitional_data = df.shift(periods=(117*num_days))\n",
    "    transitional_data = transitional_data['Number of businesses']\n",
    "    return transitional_data"
   ]
  },
  {
   "cell_type": "code",
   "execution_count": 289,
   "metadata": {},
   "outputs": [],
   "source": [
    "# determine last 14 days open businesses\n",
    "def get_last_14_days(df):\n",
    "    transitional_data = df.shift(periods=(117*7))\n",
    "    transitional_data = transitional_data['Last 7 days']\n",
    "    return transitional_data"
   ]
  },
  {
   "cell_type": "code",
   "execution_count": 290,
   "metadata": {},
   "outputs": [],
   "source": [
    "# determine last 28 days open businesses\n",
    "def get_last_28_days(df):\n",
    "    transitional_data = df.shift(periods=(117*14))\n",
    "    transitional_data = transitional_data['Last 14 days']\n",
    "    return transitional_data"
   ]
  },
  {
   "cell_type": "code",
   "execution_count": 291,
   "metadata": {},
   "outputs": [],
   "source": [
    "# generate historic open business data\n",
    "def generate_new_date_data(df):\n",
    "    df['Businesses 1 day ago'] = shift_days(df,1)\n",
    "    df['Businesses 2 days ago'] = shift_days(df,2)\n",
    "    df['Businesses 3 days ago'] = shift_days(df,3)\n",
    "    df['Businesses 4 days ago'] = shift_days(df,4)\n",
    "    df['Businesses 5 days ago'] = shift_days(df,5)\n",
    "    df['Businesses 6 days ago'] = shift_days(df,6)\n",
    "    df['Businesses 7 days ago'] = shift_days(df,7)\n",
    "    df['Businesses 14 days ago'] = shift_days(df,14)\n",
    "    df['Businesses 30 days ago'] = shift_days(df,30)\n",
    "    df['Businesses 365 days ago'] = shift_days(df,365)\n",
    "    df = df.dropna()\n",
    "    return df"
   ]
  },
  {
   "cell_type": "code",
   "execution_count": 292,
   "metadata": {},
   "outputs": [],
   "source": [
    "df = open_neighborhoods()"
   ]
  },
  {
   "cell_type": "code",
   "execution_count": 293,
   "metadata": {},
   "outputs": [],
   "source": [
    "neighborhoods = get_neighborhoods(df)"
   ]
  },
  {
   "cell_type": "code",
   "execution_count": 294,
   "metadata": {},
   "outputs": [],
   "source": [
    "neighborhood_polygons = generate_neighborhood_polygons(df)"
   ]
  },
  {
   "cell_type": "code",
   "execution_count": 295,
   "metadata": {},
   "outputs": [
    {
     "name": "stderr",
     "output_type": "stream",
     "text": [
      "c:\\users\\chris\\appdata\\local\\programs\\python\\python39\\lib\\site-packages\\IPython\\core\\interactiveshell.py:3338: DtypeWarning: Columns (14) have mixed types.Specify dtype option on import or set low_memory=False.\n",
      "  if (await self.run_code(code, result,  async_=asy)):\n"
     ]
    }
   ],
   "source": [
    "df = open_businesses()"
   ]
  },
  {
   "cell_type": "code",
   "execution_count": 296,
   "metadata": {},
   "outputs": [],
   "source": [
    "df = drop_unnecessary_columns(df)"
   ]
  },
  {
   "cell_type": "code",
   "execution_count": 297,
   "metadata": {},
   "outputs": [],
   "source": [
    "df = drop_end_dates_before_sfpd_dataset(df)"
   ]
  },
  {
   "cell_type": "code",
   "execution_count": 298,
   "metadata": {},
   "outputs": [],
   "source": [
    "df = determine_neighborhood_by_geolocation(df, neighborhood_polygons,neighborhoods)"
   ]
  },
  {
   "cell_type": "code",
   "execution_count": 299,
   "metadata": {},
   "outputs": [],
   "source": [
    "df = cleanup_columns(df)"
   ]
  },
  {
   "cell_type": "code",
   "execution_count": 300,
   "metadata": {},
   "outputs": [],
   "source": [
    "df.to_csv('cleaned_businesses_original.csv', index = False)"
   ]
  },
  {
   "cell_type": "code",
   "execution_count": 301,
   "metadata": {},
   "outputs": [],
   "source": [
    "closures = get_closures_per_day_per_neighborhood(df)"
   ]
  },
  {
   "cell_type": "code",
   "execution_count": 302,
   "metadata": {},
   "outputs": [],
   "source": [
    "closures = add_zero_closure_neighborhoods(closures,neighborhoods)"
   ]
  },
  {
   "cell_type": "code",
   "execution_count": 303,
   "metadata": {},
   "outputs": [],
   "source": [
    "closures = generate_new_closure_date_data(closures)"
   ]
  },
  {
   "cell_type": "code",
   "execution_count": 304,
   "metadata": {},
   "outputs": [],
   "source": [
    "closures.to_csv('businesses_closures_original.csv', index = False)"
   ]
  },
  {
   "cell_type": "code",
   "execution_count": 305,
   "metadata": {},
   "outputs": [],
   "source": [
    "df = pd.read_csv('cleaned_businesses_original.csv')"
   ]
  },
  {
   "cell_type": "code",
   "execution_count": 306,
   "metadata": {},
   "outputs": [],
   "source": [
    "openings = get_openings_per_day_per_neighborhood(df)"
   ]
  },
  {
   "cell_type": "code",
   "execution_count": 307,
   "metadata": {},
   "outputs": [],
   "source": [
    "openings = add_zero_opening_neighborhoods(openings,neighborhoods)"
   ]
  },
  {
   "cell_type": "code",
   "execution_count": 308,
   "metadata": {},
   "outputs": [],
   "source": [
    "openings = generate_new_opening_date_data(openings)"
   ]
  },
  {
   "cell_type": "code",
   "execution_count": 309,
   "metadata": {},
   "outputs": [],
   "source": [
    "openings.to_csv('businesses_openings_original.csv', index = False)"
   ]
  },
  {
   "cell_type": "code",
   "execution_count": 310,
   "metadata": {},
   "outputs": [],
   "source": [
    "df = pd.read_csv('cleaned_businesses_original.csv')"
   ]
  },
  {
   "cell_type": "code",
   "execution_count": 311,
   "metadata": {},
   "outputs": [
    {
     "name": "stderr",
     "output_type": "stream",
     "text": [
      "<ipython-input-287-6f05a4428685>:16: SettingWithCopyWarning: \n",
      "A value is trying to be set on a copy of a slice from a DataFrame.\n",
      "Try using .loc[row_indexer,col_indexer] = value instead\n",
      "\n",
      "See the caveats in the documentation: https://pandas.pydata.org/pandas-docs/stable/user_guide/indexing.html#returning-a-view-versus-a-copy\n",
      "  new_df['Date'] = current_date\n"
     ]
    }
   ],
   "source": [
    "df = generate_dates_for_each_business(df)"
   ]
  },
  {
   "cell_type": "code",
   "execution_count": 312,
   "metadata": {},
   "outputs": [],
   "source": [
    "df = generate_new_date_data(df)"
   ]
  },
  {
   "cell_type": "code",
   "execution_count": 313,
   "metadata": {},
   "outputs": [],
   "source": [
    "df.to_csv('businesses_preprocessed_original.csv', index = True)"
   ]
  },
  {
   "cell_type": "markdown",
   "metadata": {},
   "source": [
    "<h3> Visualise open businesses <h3>"
   ]
  },
  {
   "cell_type": "code",
   "execution_count": 314,
   "metadata": {},
   "outputs": [],
   "source": [
    "df = pd.read_csv('businesses_preprocessed_original.csv')\n",
    "df['Date'] = pd.to_datetime(df['Date'])"
   ]
  },
  {
   "cell_type": "code",
   "execution_count": 315,
   "metadata": {
    "scrolled": false
   },
   "outputs": [
    {
     "data": {
      "image/png": "[encoded data removed]",
      "text/plain": [
       "<Figure size 1152x576 with 1 Axes>"
      ]
     },
     "metadata": {
      "needs_background": "light"
     },
     "output_type": "display_data"
    }
   ],
   "source": [
    "x = df['Date'].tolist()\n",
    "y = df['Number of businesses'].tolist()\n",
    "plt.figure(figsize = (16,8))\n",
    "plt.grid(True)\n",
    "plt.title('Active businesses per date')\n",
    "plt.xlabel('Date')\n",
    "plt.ylabel('Businesses')\n",
    "plt.ylim(8250, 9250)\n",
    "plt.fill_between(x, y, interpolate=False)\n",
    "plt.plot(x,y);"
   ]
  },
  {
   "cell_type": "markdown",
   "metadata": {},
   "source": [
    "<h3> Visualise business closures <h3>"
   ]
  },
  {
   "cell_type": "code",
   "execution_count": 316,
   "metadata": {},
   "outputs": [],
   "source": [
    "df = pd.read_csv('businesses_closures_original.csv')\n",
    "df['Location End Date'] = pd.to_datetime(df['Location End Date'])"
   ]
  },
  {
   "cell_type": "code",
   "execution_count": 318,
   "metadata": {},
   "outputs": [
    {
     "data": {
      "image/png": "[encoded data removed]",
      "text/plain": [
       "<Figure size 1152x576 with 1 Axes>"
      ]
     },
     "metadata": {
      "needs_background": "light"
     },
     "output_type": "display_data"
    }
   ],
   "source": [
    "x = df['Location End Date'].tolist()\n",
    "y = df['Closures'].tolist()\n",
    "plt.figure(figsize = (16,8))\n",
    "plt.grid(True)\n",
    "plt.title('Business closures per date')\n",
    "plt.xlabel('Date')\n",
    "plt.ylabel('Closures')\n",
    "plt.plot(x,y);"
   ]
  },
  {
   "cell_type": "markdown",
   "metadata": {},
   "source": [
    "<h3> Visualise business openings <h3>"
   ]
  },
  {
   "cell_type": "code",
   "execution_count": 4,
   "metadata": {},
   "outputs": [],
   "source": [
    "df = pd.read_csv('businesses_openings_original.csv')\n",
    "df['Location Start Date'] = pd.to_datetime(df['Location Start Date'])"
   ]
  },
  {
   "cell_type": "code",
   "execution_count": 5,
   "metadata": {},
   "outputs": [
    {
     "data": {
      "image/png": "[encoded data removed]",
      "text/plain": [
       "<Figure size 1152x576 with 1 Axes>"
      ]
     },
     "metadata": {
      "needs_background": "light"
     },
     "output_type": "display_data"
    }
   ],
   "source": [
    "x = df['Location Start Date'].tolist()\n",
    "y = df['Openings'].tolist()\n",
    "plt.figure(figsize = (16,8))\n",
    "plt.title('Business openings per date')\n",
    "plt.xlabel('Date')\n",
    "plt.ylabel('Openings')\n",
    "plt.fill_between(x, y, interpolate=True)\n",
    "plt.plot(x,y);"
   ]
  },
  {
   "cell_type": "code",
   "execution_count": null,
   "metadata": {},
   "outputs": [],
   "source": []
  }
 ],
 "metadata": {
  "kernelspec": {
   "display_name": "Python 3",
   "language": "python",
   "name": "python3"
  },
  "language_info": {
   "codemirror_mode": {
    "name": "ipython",
    "version": 3
   },
   "file_extension": ".py",
   "mimetype": "text/x-python",
   "name": "python",
   "nbconvert_exporter": "python",
   "pygments_lexer": "ipython3",
   "version": "3.9.0"
  }
 },
 "nbformat": 4,
 "nbformat_minor": 4
}
