{
 "cells": [
  {
   "cell_type": "code",
   "execution_count": 110,
   "metadata": {},
   "outputs": [],
   "source": [
    "import pandas as pd\n",
    "import numpy as np\n",
    "import matplotlib.pyplot as plt\n",
    "from sklearn.feature_selection import SelectKBest, f_regression, chi2, mutual_info_regression, RFECV\n",
    "from sklearn.tree import DecisionTreeRegressor\n",
    "from sklearn.ensemble import RandomForestRegressor, AdaBoostRegressor, ExtraTreesRegressor\n",
    "from sklearn.model_selection import train_test_split"
   ]
  },
  {
   "cell_type": "markdown",
   "metadata": {},
   "source": [
    "<h3> Open tuning test data and split to test and train <h3>"
   ]
  },
  {
   "cell_type": "code",
   "execution_count": 111,
   "metadata": {},
   "outputs": [],
   "source": [
    "df = pd.read_csv('tuning_test_data.csv')"
   ]
  },
  {
   "cell_type": "code",
   "execution_count": 112,
   "metadata": {},
   "outputs": [],
   "source": [
    "y = df[['Todays Reports']]\n",
    "x = df.drop('Todays Reports',axis=1)"
   ]
  },
  {
   "cell_type": "code",
   "execution_count": 113,
   "metadata": {},
   "outputs": [],
   "source": [
    "x_train, x_test, y_train, y_test = train_test_split(x, y, test_size = 0.25, random_state = 0)\n",
    "x_sample, x_remainder, y_sample, y_remainder = train_test_split(x_train, y_train, test_size = 0.75, random_state = 0)"
   ]
  },
  {
   "cell_type": "code",
   "execution_count": 114,
   "metadata": {},
   "outputs": [],
   "source": [
    "y_train.to_csv('y_train_tuning_tests.csv', index = False)\n",
    "y_test.to_csv('y_test_tuning_tests.csv', index = False)\n",
    "y_sample.to_csv('y_train_tuning_tests_sample.csv', index = False)"
   ]
  },
  {
   "cell_type": "markdown",
   "metadata": {},
   "source": [
    "<h3> Create feature selected datasets from tuning test data <h3>"
   ]
  },
  {
   "cell_type": "code",
   "execution_count": 115,
   "metadata": {},
   "outputs": [],
   "source": [
    "top_10_f_regression = ['Reports 1 day ago', 'Reports 2 days ago', 'Reports 3 days ago',\n",
    "                       'Reports 4 days ago', 'Reports 5 days ago', 'Reports 6 days ago',\n",
    "                      'Reports 7 days ago','Reports 14 days ago','Reports 30 days ago','Reports 365 days ago']\n",
    "x_train_selected = x_train[top_10_f_regression]\n",
    "x_train_selected.to_csv('x_train_tuning_tests_f_regression.csv', index = False)\n",
    "x_test_selected = x_test[top_10_f_regression]\n",
    "x_test_selected.to_csv('x_test_tuning_tests_f_regression.csv', index = False)\n",
    "x_sample_selected = x_sample[top_10_f_regression]\n",
    "x_sample_selected.to_csv('x_train_tuning_tests_f_regression_sample.csv', index = False)"
   ]
  },
  {
   "cell_type": "code",
   "execution_count": 116,
   "metadata": {},
   "outputs": [],
   "source": [
    "top_10_chi2 = ['South of Market', 'Mission', 'Tenderloin', 'Number of businesses', \n",
    "               'Downtown / Union Square', 'Civic Center', 'Reports 365 days ago',\n",
    "               'Reports 1 day ago','Reports 2 days ago','Reports 14 days ago']\n",
    "x_train_selected = x_train[top_10_chi2]\n",
    "x_train_selected.to_csv('x_train_tuning_tests_chi2.csv', index = False)\n",
    "x_test_selected = x_test[top_10_chi2]\n",
    "x_test_selected.to_csv('x_test_tuning_tests_chi2.csv', index = False)\n",
    "x_sample_selected = x_sample[top_10_chi2]\n",
    "x_sample_selected.to_csv('x_train_tuning_tests_chi2_sample.csv', index = False)"
   ]
  },
  {
   "cell_type": "code",
   "execution_count": 117,
   "metadata": {},
   "outputs": [],
   "source": [
    "top_10_ada = ['Reports 365 days ago', 'Reports 1 day ago', 'Reports 14 days ago', 'Reports 3 days ago', \n",
    "               'Reports 2 days ago', 'Reports 7 days ago', 'Number of businesses',\n",
    "               'Reports 4 days ago','Reports 5 days ago','Closures 365 days ago']\n",
    "x_train_selected = x_train[top_10_ada]\n",
    "x_train_selected.to_csv('x_train_tuning_tests_adaboost.csv', index = False)\n",
    "x_test_selected = x_test[top_10_ada]\n",
    "x_test_selected.to_csv('x_test_tuning_tests_adaboost.csv', index = False)\n",
    "x_sample_selected = x_sample[top_10_ada]\n",
    "x_sample_selected.to_csv('x_train_tuning_tests_adaboost_sample.csv', index = False)"
   ]
  },
  {
   "cell_type": "code",
   "execution_count": 118,
   "metadata": {},
   "outputs": [],
   "source": [
    "top_5_business_features = ['Number of businesses', 'Last 28 days closures', 'Last 7 days openings',\n",
    "                          'Last 14 days closures', 'Last 7 days closures']\n",
    "top_5_crime_features = ['Reports 1 day ago', 'Reports 2 days ago', 'Reports 4 days ago', \n",
    "                        'Reports 30 days ago', 'Reports 7 days ago']\n",
    "top_10 = np.concatenate((top_5_business_features,top_5_crime_features))\n",
    "x_train_selected = x_train[top_10]\n",
    "x_train_selected.to_csv('x_train_tuning_tests_equal_crime_and_business.csv', index = False)\n",
    "x_test_selected = x_test[top_10]\n",
    "x_test_selected.to_csv('x_test_tuning_tests_equal_crime_and_business.csv', index = False)\n",
    "x_sample_selected = x_sample[top_10]\n",
    "x_sample_selected.to_csv('x_train_tuning_tests_equal_crime_and_business_sample.csv', index = False)"
   ]
  },
  {
   "cell_type": "code",
   "execution_count": 119,
   "metadata": {},
   "outputs": [],
   "source": [
    "additional_5_business_features = ['Number of openings','Openings 4 days ago','Openings 1 day ago', \n",
    "                                  'Openings 7 days ago', 'Openings 2 days ago']\n",
    "top_10 = np.concatenate((top_5_business_features,additional_5_business_features))\n",
    "x_train_selected = x_train[top_10]\n",
    "x_train_selected.to_csv('x_train_tuning_tests_all_business.csv', index = False)\n",
    "x_test_selected = x_test[top_10]\n",
    "x_test_selected.to_csv('x_test_tuning_tests_all_business.csv', index = False)\n",
    "x_sample_selected = x_sample[top_10]\n",
    "x_sample_selected.to_csv('x_train_tuning_tests_all_business_sample.csv', index = False)"
   ]
  },
  {
   "cell_type": "markdown",
   "metadata": {},
   "source": [
    "<h3> Tests to confirm correct dataset generation<h3>"
   ]
  },
  {
   "cell_type": "code",
   "execution_count": 120,
   "metadata": {},
   "outputs": [],
   "source": [
    "expected_num_rows_test = 205\n",
    "expected_num_rows_train = 614\n",
    "expected_num_rows_sample = 153"
   ]
  },
  {
   "cell_type": "code",
   "execution_count": 121,
   "metadata": {},
   "outputs": [],
   "source": [
    "def test_dataset(dataset_name,expected_num_records,expected_columns,zeros_possible):\n",
    "    alt_expected = 1\n",
    "    if zeros_possible:\n",
    "        alt_expected = 0\n",
    "    df = pd.read_csv(dataset_name)\n",
    "    assert expected_num_records == len(df), \"Expected \" + str(expected_num_records) + \" records but got \" + str(len(df))\n",
    "    print(\"Number of records in dataset is as expected.\")\n",
    "    actual_columns = df.columns\n",
    "    for i in range(len(expected_columns)):\n",
    "        assert expected_columns[i] == actual_columns[i], \"Expected column \" + expected_columns[i] + \" but got \" + actual_columns[i]\n",
    "    print(\"Column names of dataset are as expected.\")\n",
    "    for record_num in range(0,len(df.index)):\n",
    "        j = 0\n",
    "        while j < len(expected_columns) - 1:\n",
    "            actual = df[expected_columns[j]].iloc[record_num]\n",
    "            expected = 1\n",
    "            assert actual == expected or actual == alt_expected, \"Value on row \" + str(record_num) + \" for \" + str(expected_columns[j]) + \" column is \" + str(actual) + \" but \" + str(expected) + \" expected\"\n",
    "            j += 1\n",
    "    print(\"All values in dataset are as expected.\")\n",
    "    print(\"\\nAll tests completed successfully.\")"
   ]
  },
  {
   "cell_type": "markdown",
   "metadata": {},
   "source": [
    "<h4> Test f regression datasets <h4>"
   ]
  },
  {
   "cell_type": "code",
   "execution_count": 122,
   "metadata": {},
   "outputs": [],
   "source": [
    "f_reg_expected_columns = ['Reports 1 day ago', 'Reports 2 days ago', 'Reports 3 days ago',\n",
    "                       'Reports 4 days ago', 'Reports 5 days ago', 'Reports 6 days ago',\n",
    "                      'Reports 7 days ago','Reports 14 days ago','Reports 30 days ago','Reports 365 days ago']"
   ]
  },
  {
   "cell_type": "code",
   "execution_count": 123,
   "metadata": {},
   "outputs": [
    {
     "name": "stdout",
     "output_type": "stream",
     "text": [
      "Number of records in dataset is as expected.\n",
      "Column names of dataset are as expected.\n",
      "All values in dataset are as expected.\n",
      "\n",
      "All tests completed successfully.\n"
     ]
    }
   ],
   "source": [
    "test_dataset('x_train_tuning_tests_f_regression.csv',expected_num_rows_train,f_reg_expected_columns,zeros_possible = False)"
   ]
  },
  {
   "cell_type": "code",
   "execution_count": 124,
   "metadata": {
    "scrolled": true
   },
   "outputs": [
    {
     "name": "stdout",
     "output_type": "stream",
     "text": [
      "Number of records in dataset is as expected.\n",
      "Column names of dataset are as expected.\n",
      "All values in dataset are as expected.\n",
      "\n",
      "All tests completed successfully.\n"
     ]
    }
   ],
   "source": [
    "test_dataset('x_test_tuning_tests_f_regression.csv',expected_num_rows_test,f_reg_expected_columns,zeros_possible = False)"
   ]
  },
  {
   "cell_type": "code",
   "execution_count": 125,
   "metadata": {
    "scrolled": true
   },
   "outputs": [
    {
     "name": "stdout",
     "output_type": "stream",
     "text": [
      "Number of records in dataset is as expected.\n",
      "Column names of dataset are as expected.\n",
      "All values in dataset are as expected.\n",
      "\n",
      "All tests completed successfully.\n"
     ]
    }
   ],
   "source": [
    "test_dataset('x_train_tuning_tests_f_regression_sample.csv',expected_num_rows_sample,f_reg_expected_columns,\n",
    "             zeros_possible = False)"
   ]
  },
  {
   "cell_type": "markdown",
   "metadata": {},
   "source": [
    "<h4> Test chi2 datasets <h4>"
   ]
  },
  {
   "cell_type": "code",
   "execution_count": 126,
   "metadata": {},
   "outputs": [],
   "source": [
    "chi_2_expected_columns = ['South of Market', 'Mission', 'Tenderloin', 'Number of businesses', \n",
    "               'Downtown / Union Square', 'Civic Center', 'Reports 365 days ago',\n",
    "               'Reports 1 day ago','Reports 2 days ago','Reports 14 days ago']"
   ]
  },
  {
   "cell_type": "code",
   "execution_count": 127,
   "metadata": {},
   "outputs": [
    {
     "name": "stdout",
     "output_type": "stream",
     "text": [
      "Number of records in dataset is as expected.\n",
      "Column names of dataset are as expected.\n",
      "All values in dataset are as expected.\n",
      "\n",
      "All tests completed successfully.\n"
     ]
    }
   ],
   "source": [
    "test_dataset('x_train_tuning_tests_chi2.csv',expected_num_rows_train,chi_2_expected_columns,zeros_possible = True)"
   ]
  },
  {
   "cell_type": "code",
   "execution_count": 128,
   "metadata": {
    "scrolled": true
   },
   "outputs": [
    {
     "name": "stdout",
     "output_type": "stream",
     "text": [
      "Number of records in dataset is as expected.\n",
      "Column names of dataset are as expected.\n",
      "All values in dataset are as expected.\n",
      "\n",
      "All tests completed successfully.\n"
     ]
    }
   ],
   "source": [
    "test_dataset('x_test_tuning_tests_chi2.csv',expected_num_rows_test,chi_2_expected_columns,zeros_possible = True)"
   ]
  },
  {
   "cell_type": "code",
   "execution_count": 129,
   "metadata": {
    "scrolled": true
   },
   "outputs": [
    {
     "name": "stdout",
     "output_type": "stream",
     "text": [
      "Number of records in dataset is as expected.\n",
      "Column names of dataset are as expected.\n",
      "All values in dataset are as expected.\n",
      "\n",
      "All tests completed successfully.\n"
     ]
    }
   ],
   "source": [
    "test_dataset('x_train_tuning_tests_chi2_sample.csv',expected_num_rows_sample,chi_2_expected_columns,zeros_possible = True)"
   ]
  },
  {
   "cell_type": "markdown",
   "metadata": {},
   "source": [
    "<h4> Test adaboost datasets <h4>"
   ]
  },
  {
   "cell_type": "code",
   "execution_count": 130,
   "metadata": {},
   "outputs": [],
   "source": [
    "adaboost_expected_columns = ['Reports 365 days ago', 'Reports 1 day ago', 'Reports 14 days ago', 'Reports 3 days ago', \n",
    "               'Reports 2 days ago', 'Reports 7 days ago', 'Number of businesses',\n",
    "               'Reports 4 days ago','Reports 5 days ago','Closures 365 days ago']"
   ]
  },
  {
   "cell_type": "code",
   "execution_count": 131,
   "metadata": {},
   "outputs": [
    {
     "name": "stdout",
     "output_type": "stream",
     "text": [
      "Number of records in dataset is as expected.\n",
      "Column names of dataset are as expected.\n",
      "All values in dataset are as expected.\n",
      "\n",
      "All tests completed successfully.\n"
     ]
    }
   ],
   "source": [
    "test_dataset('x_train_tuning_tests_adaboost.csv',expected_num_rows_train,adaboost_expected_columns,zeros_possible = False)"
   ]
  },
  {
   "cell_type": "code",
   "execution_count": 132,
   "metadata": {
    "scrolled": true
   },
   "outputs": [
    {
     "name": "stdout",
     "output_type": "stream",
     "text": [
      "Number of records in dataset is as expected.\n",
      "Column names of dataset are as expected.\n",
      "All values in dataset are as expected.\n",
      "\n",
      "All tests completed successfully.\n"
     ]
    }
   ],
   "source": [
    "test_dataset('x_test_tuning_tests_adaboost.csv',expected_num_rows_test,adaboost_expected_columns,zeros_possible = False)"
   ]
  },
  {
   "cell_type": "code",
   "execution_count": 133,
   "metadata": {
    "scrolled": true
   },
   "outputs": [
    {
     "name": "stdout",
     "output_type": "stream",
     "text": [
      "Number of records in dataset is as expected.\n",
      "Column names of dataset are as expected.\n",
      "All values in dataset are as expected.\n",
      "\n",
      "All tests completed successfully.\n"
     ]
    }
   ],
   "source": [
    "test_dataset('x_train_tuning_tests_adaboost_sample.csv',expected_num_rows_sample,adaboost_expected_columns,\n",
    "             zeros_possible = False)"
   ]
  },
  {
   "cell_type": "markdown",
   "metadata": {},
   "source": [
    "<h4> Test equal crime and business datasets <h4>"
   ]
  },
  {
   "cell_type": "code",
   "execution_count": 134,
   "metadata": {},
   "outputs": [],
   "source": [
    "equal_expected_columns = ['Number of businesses', 'Last 28 days closures', 'Last 7 days openings',\n",
    "                          'Last 14 days closures', 'Last 7 days closures', 'Reports 1 day ago', 'Reports 2 days ago', \n",
    "                          'Reports 4 days ago', 'Reports 30 days ago', 'Reports 7 days ago']"
   ]
  },
  {
   "cell_type": "code",
   "execution_count": 135,
   "metadata": {},
   "outputs": [
    {
     "name": "stdout",
     "output_type": "stream",
     "text": [
      "Number of records in dataset is as expected.\n",
      "Column names of dataset are as expected.\n",
      "All values in dataset are as expected.\n",
      "\n",
      "All tests completed successfully.\n"
     ]
    }
   ],
   "source": [
    "test_dataset('x_train_tuning_tests_equal_crime_and_business.csv',expected_num_rows_train,equal_expected_columns,\n",
    "             zeros_possible = False)"
   ]
  },
  {
   "cell_type": "code",
   "execution_count": 136,
   "metadata": {
    "scrolled": true
   },
   "outputs": [
    {
     "name": "stdout",
     "output_type": "stream",
     "text": [
      "Number of records in dataset is as expected.\n",
      "Column names of dataset are as expected.\n",
      "All values in dataset are as expected.\n",
      "\n",
      "All tests completed successfully.\n"
     ]
    }
   ],
   "source": [
    "test_dataset('x_test_tuning_tests_equal_crime_and_business.csv',expected_num_rows_test,equal_expected_columns,\n",
    "             zeros_possible = False)"
   ]
  },
  {
   "cell_type": "code",
   "execution_count": 137,
   "metadata": {
    "scrolled": true
   },
   "outputs": [
    {
     "name": "stdout",
     "output_type": "stream",
     "text": [
      "Number of records in dataset is as expected.\n",
      "Column names of dataset are as expected.\n",
      "All values in dataset are as expected.\n",
      "\n",
      "All tests completed successfully.\n"
     ]
    }
   ],
   "source": [
    "test_dataset('x_train_tuning_tests_equal_crime_and_business_sample.csv',expected_num_rows_sample,equal_expected_columns,\n",
    "             zeros_possible = False)"
   ]
  },
  {
   "cell_type": "markdown",
   "metadata": {},
   "source": [
    "<h4> Test all business datasets <h4>"
   ]
  },
  {
   "cell_type": "code",
   "execution_count": 138,
   "metadata": {},
   "outputs": [],
   "source": [
    "business_expected_columns = ['Number of businesses', 'Last 28 days closures', 'Last 7 days openings',\n",
    "                          'Last 14 days closures', 'Last 7 days closures','Number of openings','Openings 4 days ago',\n",
    "                             'Openings 1 day ago', 'Openings 7 days ago', 'Openings 2 days ago']"
   ]
  },
  {
   "cell_type": "code",
   "execution_count": 139,
   "metadata": {},
   "outputs": [
    {
     "name": "stdout",
     "output_type": "stream",
     "text": [
      "Number of records in dataset is as expected.\n",
      "Column names of dataset are as expected.\n",
      "All values in dataset are as expected.\n",
      "\n",
      "All tests completed successfully.\n"
     ]
    }
   ],
   "source": [
    "test_dataset('x_train_tuning_tests_all_business.csv',expected_num_rows_train,business_expected_columns,\n",
    "             zeros_possible = False)"
   ]
  },
  {
   "cell_type": "code",
   "execution_count": 140,
   "metadata": {
    "scrolled": true
   },
   "outputs": [
    {
     "name": "stdout",
     "output_type": "stream",
     "text": [
      "Number of records in dataset is as expected.\n",
      "Column names of dataset are as expected.\n",
      "All values in dataset are as expected.\n",
      "\n",
      "All tests completed successfully.\n"
     ]
    }
   ],
   "source": [
    "test_dataset('x_test_tuning_tests_all_business.csv',expected_num_rows_test,business_expected_columns,\n",
    "             zeros_possible = False)"
   ]
  },
  {
   "cell_type": "code",
   "execution_count": 141,
   "metadata": {
    "scrolled": true
   },
   "outputs": [
    {
     "name": "stdout",
     "output_type": "stream",
     "text": [
      "Number of records in dataset is as expected.\n",
      "Column names of dataset are as expected.\n",
      "All values in dataset are as expected.\n",
      "\n",
      "All tests completed successfully.\n"
     ]
    }
   ],
   "source": [
    "test_dataset('x_train_tuning_tests_all_business_sample.csv',expected_num_rows_sample,business_expected_columns,\n",
    "             zeros_possible = False)"
   ]
  },
  {
   "cell_type": "markdown",
   "metadata": {},
   "source": [
    "<h4> Test y datasets <h4>"
   ]
  },
  {
   "cell_type": "code",
   "execution_count": 142,
   "metadata": {},
   "outputs": [],
   "source": [
    "y_expected_columns = ['Todays Reports']"
   ]
  },
  {
   "cell_type": "code",
   "execution_count": 143,
   "metadata": {},
   "outputs": [
    {
     "name": "stdout",
     "output_type": "stream",
     "text": [
      "Number of records in dataset is as expected.\n",
      "Column names of dataset are as expected.\n",
      "All values in dataset are as expected.\n",
      "\n",
      "All tests completed successfully.\n"
     ]
    }
   ],
   "source": [
    "test_dataset('y_train_tuning_tests.csv',expected_num_rows_train,y_expected_columns, zeros_possible = False)"
   ]
  },
  {
   "cell_type": "code",
   "execution_count": 144,
   "metadata": {},
   "outputs": [
    {
     "name": "stdout",
     "output_type": "stream",
     "text": [
      "Number of records in dataset is as expected.\n",
      "Column names of dataset are as expected.\n",
      "All values in dataset are as expected.\n",
      "\n",
      "All tests completed successfully.\n"
     ]
    }
   ],
   "source": [
    "test_dataset('y_test_tuning_tests.csv',expected_num_rows_test,y_expected_columns, zeros_possible = False)"
   ]
  },
  {
   "cell_type": "code",
   "execution_count": 145,
   "metadata": {},
   "outputs": [
    {
     "name": "stdout",
     "output_type": "stream",
     "text": [
      "Number of records in dataset is as expected.\n",
      "Column names of dataset are as expected.\n",
      "All values in dataset are as expected.\n",
      "\n",
      "All tests completed successfully.\n"
     ]
    }
   ],
   "source": [
    "test_dataset('y_train_tuning_tests_sample.csv',expected_num_rows_sample,y_expected_columns, zeros_possible = False)"
   ]
  }
 ],
 "metadata": {
  "kernelspec": {
   "display_name": "Python 3",
   "language": "python",
   "name": "python3"
  },
  "language_info": {
   "codemirror_mode": {
    "name": "ipython",
    "version": 3
   },
   "file_extension": ".py",
   "mimetype": "text/x-python",
   "name": "python",
   "nbconvert_exporter": "python",
   "pygments_lexer": "ipython3",
   "version": "3.9.0"
  }
 },
 "nbformat": 4,
 "nbformat_minor": 4
}
