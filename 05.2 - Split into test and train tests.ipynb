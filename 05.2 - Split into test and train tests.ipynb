{
 "cells": [
  {
   "cell_type": "code",
   "execution_count": 124,
   "metadata": {},
   "outputs": [],
   "source": [
    "import pandas as pd\n",
    "import numpy as np"
   ]
  },
  {
   "cell_type": "code",
   "execution_count": 125,
   "metadata": {},
   "outputs": [],
   "source": [
    "# load all files to be tested\n",
    "y_train = pd.read_csv('y_train.csv')\n",
    "x_train = pd.read_csv('x_train.csv')\n",
    "y_test = pd.read_csv('y_test.csv')\n",
    "x_test = pd.read_csv('x_test.csv')\n",
    "y_train_sample = pd.read_csv('y_train_sample.csv')\n",
    "x_train_sample = pd.read_csv('x_train_sample.csv')\n",
    "y_train_revised = pd.read_csv('y_train_revised.csv')\n",
    "x_train_revised = pd.read_csv('x_train_revised.csv')\n",
    "y_test_revised = pd.read_csv('y_test_revised.csv')\n",
    "x_test_revised = pd.read_csv('x_test_revised.csv')\n",
    "y_train_sample_revised = pd.read_csv('y_train_sample_revised.csv')\n",
    "x_train_sample_revised = pd.read_csv('x_train_sample_revised.csv')"
   ]
  },
  {
   "cell_type": "code",
   "execution_count": 126,
   "metadata": {},
   "outputs": [],
   "source": [
    "# expected values\n",
    "train_expected_length = 43875\n",
    "test_expected_length = 14625\n",
    "sample_expected_length = 10968\n",
    "expected_x_columns = ['Reports 1 day ago','Reports 2 days ago','Reports 3 days ago','Reports 4 days ago','Reports 5 days ago',\n",
    "                    'Reports 6 days ago','Reports 7 days ago','Reports 14 days ago','Reports 30 days ago',\n",
    "                    'Reports 365 days ago','Last 7 days reports','Last 14 days reports','Last 28 days reports',\n",
    "                    'Number of businesses','Businesses 1 day ago','Businesses 2 days ago','Businesses 3 days ago',\n",
    "                    'Businesses 4 days ago','Businesses 5 days ago','Businesses 6 days ago','Businesses 7 days ago',\n",
    "                    'Businesses 14 days ago','Businesses 30 days ago','Businesses 365 days ago','Number of closures',\n",
    "                    'Closures 1 day ago','Closures 2 days ago','Closures 3 days ago','Closures 4 days ago',\n",
    "                    'Closures 5 days ago','Closures 6 days ago','Closures 7 days ago','Closures 14 days ago',\n",
    "                    'Closures 30 days ago','Closures 365 days ago','Last 7 days closures','Last 14 days closures',\n",
    "                    'Last 28 days closures','Number of openings','Openings 1 day ago','Openings 2 days ago',\n",
    "                    'Openings 3 days ago','Openings 4 days ago','Openings 5 days ago','Openings 6 days ago',\n",
    "                    'Openings 7 days ago','Openings 14 days ago','Openings 30 days ago','Openings 365 days ago',\n",
    "                    'Last 7 days openings','Last 14 days openings','Last 28 days openings','Alamo Square','Anza Vista',\n",
    "                    'Apparel City','Aquatic Park / Ft. Mason','Balboa Terrace','Bayview','Bernal Heights','Bret Harte',\n",
    "                    'Buena Vista','Candlestick Point SRA','Castro','Cathedral Hill','Cayuga','Central Waterfront','Chinatown',\n",
    "                    'Civic Center','Clarendon Heights','Cole Valley','Corona Heights','Cow Hollow','Crocker Amazon',\n",
    "                    'Diamond Heights','Dogpatch','Dolores Heights','Downtown / Union Square','Duboce Triangle','Eureka Valley',\n",
    "                    'Excelsior','Fairmount','Financial District','Fishermans Wharf','Forest Hill','Forest Knolls','Glen Park',\n",
    "                    'Golden Gate Heights','Golden Gate Park','Haight Ashbury','Hayes Valley','Holly Park','Hunters Point',\n",
    "                    'India Basin','Ingleside','Ingleside Terraces','Inner Richmond','Inner Sunset','Japantown','Laguna Honda',\n",
    "                    'Lake Street','Lakeshore','Laurel Heights / Jordan Park','Lincoln Park / Ft. Miley','Little Hollywood',\n",
    "                    'Lone Mountain','Lower Haight','Lower Nob Hill','Lower Pacific Heights','Marina','McLaren Park',\n",
    "                    'Merced Heights','Merced Manor','Midtown Terrace','Mint Hill','Miraloma Park','Mission','Mission Bay',\n",
    "                    'Mission Dolores','Mission Terrace','Monterey Heights','Mt. Davidson Manor','Nob Hill','Noe Valley',\n",
    "                    'North Beach','Northern Waterfront','Oceanview','Outer Mission','Outer Richmond','Outer Sunset',\n",
    "                    'Pacific Heights','Panhandle','Parkmerced','Parkside','Parnassus Heights','Peralta Heights',\n",
    "                    'Polk Gulch','Portola','Potrero Hill','Presidio Heights','Presidio National Park','Presidio Terrace',\n",
    "                    'Produce Market','Rincon Hill','Russian Hill','Seacliff','Sherwood Forest','Showplace Square',\n",
    "                    'Silver Terrace','South Beach','South of Market','St. Francis Wood','St. Marys Park','Stonestown',\n",
    "                    'Sunnydale','Sunnyside','Sutro Heights','Telegraph Hill','Tenderloin','Treasure Island','Union Street',\n",
    "                    'University Mound','Upper Market','Visitacion Valley','West Portal','Western Addition',\n",
    "                    'Westwood Highlands','Westwood Park','Yerba Buena Island','Friday','Saturday','Sunday','Thursday',\n",
    "                    'Tuesday','Wednesday']\n",
    "expected_y_columns = ['Todays Reports']"
   ]
  },
  {
   "cell_type": "code",
   "execution_count": 129,
   "metadata": {},
   "outputs": [],
   "source": [
    "# method for testing datasets\n",
    "def test_dataset(df, expected_length, expected_columns):\n",
    "    assert len(df) == expected_length, \"Dataset length not as expected\"\n",
    "    for col in df.columns:\n",
    "        assert col in expected_columns, \"Column \" + str(col) + \" in df but not expected.\"\n",
    "    for col in expected_columns:\n",
    "        assert col in df.columns, \"Column \" + str(col) + \" expected but not found\"\n",
    "    for record_num in range(0,len(df.index)):\n",
    "        j = 0\n",
    "        while j < len(expected_columns):\n",
    "            assert df[expected_columns[j]].iloc[record_num] != np.nan, \"no value for \" + expected_columns[j]\n",
    "            j += 1\n",
    "    print(\"All tests passed successfully.\")"
   ]
  },
  {
   "cell_type": "markdown",
   "metadata": {},
   "source": [
    "<h4> Testing starts here <h4>"
   ]
  },
  {
   "cell_type": "code",
   "execution_count": 130,
   "metadata": {},
   "outputs": [
    {
     "name": "stdout",
     "output_type": "stream",
     "text": [
      "All tests passed successfully.\n"
     ]
    }
   ],
   "source": [
    "test_dataset(y_train, train_expected_length, expected_y_columns)"
   ]
  },
  {
   "cell_type": "code",
   "execution_count": 131,
   "metadata": {},
   "outputs": [
    {
     "name": "stdout",
     "output_type": "stream",
     "text": [
      "All tests passed successfully.\n"
     ]
    }
   ],
   "source": [
    "test_dataset(x_train, train_expected_length, expected_x_columns)"
   ]
  },
  {
   "cell_type": "code",
   "execution_count": 132,
   "metadata": {},
   "outputs": [
    {
     "name": "stdout",
     "output_type": "stream",
     "text": [
      "All tests passed successfully.\n"
     ]
    }
   ],
   "source": [
    "test_dataset(y_test, test_expected_length, expected_y_columns)"
   ]
  },
  {
   "cell_type": "code",
   "execution_count": 133,
   "metadata": {},
   "outputs": [
    {
     "name": "stdout",
     "output_type": "stream",
     "text": [
      "All tests passed successfully.\n"
     ]
    }
   ],
   "source": [
    "test_dataset(x_test, test_expected_length, expected_x_columns)"
   ]
  },
  {
   "cell_type": "code",
   "execution_count": 134,
   "metadata": {},
   "outputs": [
    {
     "name": "stdout",
     "output_type": "stream",
     "text": [
      "All tests passed successfully.\n"
     ]
    }
   ],
   "source": [
    "test_dataset(y_train_sample, sample_expected_length, expected_y_columns)"
   ]
  },
  {
   "cell_type": "code",
   "execution_count": 135,
   "metadata": {
    "scrolled": true
   },
   "outputs": [
    {
     "name": "stdout",
     "output_type": "stream",
     "text": [
      "All tests passed successfully.\n"
     ]
    }
   ],
   "source": [
    "test_dataset(x_train_sample, sample_expected_length, expected_x_columns)"
   ]
  },
  {
   "cell_type": "code",
   "execution_count": 136,
   "metadata": {},
   "outputs": [],
   "source": [
    "#revised dataset retained Date and Neighborhood for testing and manipulation purposes\n",
    "expected_x_columns.append('Date')\n",
    "expected_x_columns.append('Neighborhood')"
   ]
  },
  {
   "cell_type": "code",
   "execution_count": 137,
   "metadata": {},
   "outputs": [
    {
     "name": "stdout",
     "output_type": "stream",
     "text": [
      "All tests passed successfully.\n"
     ]
    }
   ],
   "source": [
    "test_dataset(y_train_revised, train_expected_length, expected_y_columns)"
   ]
  },
  {
   "cell_type": "code",
   "execution_count": 138,
   "metadata": {},
   "outputs": [
    {
     "name": "stdout",
     "output_type": "stream",
     "text": [
      "All tests passed successfully.\n"
     ]
    }
   ],
   "source": [
    "test_dataset(x_train_revised, train_expected_length, expected_x_columns)"
   ]
  },
  {
   "cell_type": "code",
   "execution_count": 139,
   "metadata": {},
   "outputs": [
    {
     "name": "stdout",
     "output_type": "stream",
     "text": [
      "All tests passed successfully.\n"
     ]
    }
   ],
   "source": [
    "test_dataset(y_test_revised, test_expected_length, expected_y_columns)"
   ]
  },
  {
   "cell_type": "code",
   "execution_count": 140,
   "metadata": {},
   "outputs": [
    {
     "name": "stdout",
     "output_type": "stream",
     "text": [
      "All tests passed successfully.\n"
     ]
    }
   ],
   "source": [
    "test_dataset(x_test_revised, test_expected_length, expected_x_columns)"
   ]
  },
  {
   "cell_type": "code",
   "execution_count": 141,
   "metadata": {},
   "outputs": [
    {
     "name": "stdout",
     "output_type": "stream",
     "text": [
      "All tests passed successfully.\n"
     ]
    }
   ],
   "source": [
    "test_dataset(y_train_sample_revised, sample_expected_length, expected_y_columns)"
   ]
  },
  {
   "cell_type": "code",
   "execution_count": 142,
   "metadata": {},
   "outputs": [
    {
     "name": "stdout",
     "output_type": "stream",
     "text": [
      "All tests passed successfully.\n"
     ]
    }
   ],
   "source": [
    "test_dataset(x_train_sample_revised, sample_expected_length, expected_x_columns)"
   ]
  }
 ],
 "metadata": {
  "kernelspec": {
   "display_name": "Python 3",
   "language": "python",
   "name": "python3"
  },
  "language_info": {
   "codemirror_mode": {
    "name": "ipython",
    "version": 3
   },
   "file_extension": ".py",
   "mimetype": "text/x-python",
   "name": "python",
   "nbconvert_exporter": "python",
   "pygments_lexer": "ipython3",
   "version": "3.9.0"
  }
 },
 "nbformat": 4,
 "nbformat_minor": 4
}
