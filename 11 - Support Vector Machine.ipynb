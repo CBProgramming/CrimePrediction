{
 "cells": [
  {
   "cell_type": "code",
   "execution_count": 1,
   "metadata": {},
   "outputs": [],
   "source": [
    "import numpy as np\n",
    "import pandas as pd\n",
    "import matplotlib.pyplot as plt\n",
    "%matplotlib inline\n",
    "import seaborn as sns\n",
    "import sklearn\n",
    "from sklearn import svm\n",
    "from sklearn.metrics import mean_squared_error, r2_score, mean_absolute_error\n",
    "from sklearn.pipeline import Pipeline\n",
    "from sklearn.model_selection import GridSearchCV\n",
    "import pickle"
   ]
  },
  {
   "cell_type": "code",
   "execution_count": 2,
   "metadata": {},
   "outputs": [],
   "source": [
    "y_test = pd.read_csv('y_test.csv')\n",
    "file = open(\"Selection Methods\",\"rb\")\n",
    "sel_methods = np.load(file)"
   ]
  },
  {
   "cell_type": "code",
   "execution_count": 3,
   "metadata": {},
   "outputs": [],
   "source": [
    "# train and test model\n",
    "def support_vec(method, args, _cv, is_sample):\n",
    "    sample_string = ''\n",
    "    if (is_sample):\n",
    "        sample_string = '_sample'\n",
    "    y_train = pd.read_csv('y_train'+ sample_string + '.csv')    \n",
    "    method_string = method\n",
    "    if (method == ''):\n",
    "        method_string = \"no feature selection\"\n",
    "    print('\\n\\nRunning cross fold validation for SVM with',method_string)\n",
    "    x_train = pd.read_csv('x_train' + method + sample_string + '.csv').values\n",
    "    x_test = pd.read_csv('x_test' + method + '.csv').values\n",
    "    pipe = Pipeline([('clf', svm.SVR())])\n",
    "    svm_grid = GridSearchCV(pipe, args, cv = _cv, verbose = 1, scoring = 'r2', n_jobs=6)\n",
    "    svm_grid.fit(x_train, y_train.values.ravel())\n",
    "    print('\\nBest score for SVM with',method_string,\":\",svm_grid.best_score_)\n",
    "    best_args = svm_grid.best_estimator_.get_params()\n",
    "    print('\\nBest score for SVM with',method_string,':')\n",
    "    for arg in best_args:\n",
    "        print(arg,\":\",best_args[arg])\n",
    "    y_test_predict = svm_grid.predict(x_test)\n",
    "    mse = mean_squared_error(y_test,y_test_predict)\n",
    "    mae = mean_absolute_error(y_test,y_test_predict)\n",
    "    r2 = r2_score(y_test,y_test_predict)\n",
    "    print('\\nPrediction scores for SVM using',method_string,':')\n",
    "    print('Mean Squared error:',mse)\n",
    "    print('Mean Absolute error:',mae)\n",
    "    print('R^2:',r2)\n",
    "    return best_args, svm_grid.best_score_,mse,mae,r2"
   ]
  },
  {
   "cell_type": "code",
   "execution_count": 4,
   "metadata": {},
   "outputs": [],
   "source": [
    "# save model\n",
    "def support_vec_save_model(method, args, _cv, is_sample):\n",
    "    sample_string = ''\n",
    "    if (is_sample):\n",
    "        sample_string = '_sample'\n",
    "    y_train = pd.read_csv('y_train'+ sample_string + '.csv')    \n",
    "    method_string = method\n",
    "    if (method == ''):\n",
    "        method_string = \"no feature selection\"\n",
    "    x_train = pd.read_csv('x_train' + method + sample_string + '.csv').values\n",
    "    x_test = pd.read_csv('x_test' + method + '.csv').values\n",
    "    pipe = Pipeline([('clf', svm.SVR())])\n",
    "    svm_grid = GridSearchCV(pipe, args, cv = _cv, verbose = 1, scoring = 'r2', n_jobs=6)\n",
    "    svm_grid.fit(x_train, y_train.values.ravel())\n",
    "    best_args = svm_grid.best_estimator_.get_params()\n",
    "    for arg in best_args:\n",
    "        print(arg,\":\",best_args[arg])\n",
    "    y_test_predict = svm_grid.predict(x_test)\n",
    "    mse = mean_squared_error(y_test,y_test_predict)\n",
    "    mae = mean_absolute_error(y_test,y_test_predict)\n",
    "    r2 = r2_score(y_test,y_test_predict)\n",
    "    with open('CrimeGUI/Models/svm'+method,'wb') as file:\n",
    "        pickle.dump(svm_grid.best_estimator_,file)\n",
    "    return best_args, svm_grid.best_score_,mse,mae,r2"
   ]
  },
  {
   "cell_type": "markdown",
   "metadata": {},
   "source": [
    "<h3>F-Regression feature selected dataset<h3>"
   ]
  },
  {
   "cell_type": "code",
   "execution_count": 9,
   "metadata": {},
   "outputs": [],
   "source": [
    "# exploratory hyperparameters set"
   ]
  },
  {
   "cell_type": "code",
   "execution_count": 10,
   "metadata": {},
   "outputs": [],
   "source": [
    "args = {'clf__C':(0.01,0.5,1,1.5,2,2.5,3,4,5,6,7,8,9,10),\n",
    "           'clf__degree':(1,2,3,4,5),\n",
    "           'clf__gamma':('auto',0.01,0.1, 0.2, 0.3, 0.4, 0.5, 0.6, 0.7, 0.8, 0.9, 1),\n",
    "           'clf__kernel':('linear','poly','rbf','sigmoid')}"
   ]
  },
  {
   "cell_type": "code",
   "execution_count": 11,
   "metadata": {},
   "outputs": [
    {
     "name": "stdout",
     "output_type": "stream",
     "text": [
      "\n",
      "\n",
      "Running cross fold validation for SVM with _f_regression\n",
      "Fitting 5 folds for each of 3360 candidates, totalling 16800 fits\n"
     ]
    },
    {
     "name": "stderr",
     "output_type": "stream",
     "text": [
      "[Parallel(n_jobs=6)]: Using backend LokyBackend with 6 concurrent workers.\n",
      "[Parallel(n_jobs=6)]: Done  38 tasks      | elapsed:   20.5s\n",
      "[Parallel(n_jobs=6)]: Done 188 tasks      | elapsed:  1.5min\n",
      "[Parallel(n_jobs=6)]: Done 438 tasks      | elapsed:  3.5min\n",
      "[Parallel(n_jobs=6)]: Done 788 tasks      | elapsed:  6.1min\n",
      "[Parallel(n_jobs=6)]: Done 1238 tasks      | elapsed:  9.7min\n",
      "[Parallel(n_jobs=6)]: Done 1788 tasks      | elapsed: 14.0min\n",
      "[Parallel(n_jobs=6)]: Done 2438 tasks      | elapsed: 19.0min\n",
      "[Parallel(n_jobs=6)]: Done 3188 tasks      | elapsed: 24.7min\n",
      "[Parallel(n_jobs=6)]: Done 4038 tasks      | elapsed: 31.4min\n",
      "[Parallel(n_jobs=6)]: Done 4988 tasks      | elapsed: 38.7min\n",
      "[Parallel(n_jobs=6)]: Done 6038 tasks      | elapsed: 46.7min\n",
      "[Parallel(n_jobs=6)]: Done 7188 tasks      | elapsed: 55.8min\n",
      "[Parallel(n_jobs=6)]: Done 8438 tasks      | elapsed: 66.1min\n",
      "[Parallel(n_jobs=6)]: Done 9788 tasks      | elapsed: 77.6min\n",
      "[Parallel(n_jobs=6)]: Done 11238 tasks      | elapsed: 89.3min\n",
      "[Parallel(n_jobs=6)]: Done 12788 tasks      | elapsed: 101.9min\n",
      "[Parallel(n_jobs=6)]: Done 14438 tasks      | elapsed: 115.8min\n",
      "[Parallel(n_jobs=6)]: Done 16188 tasks      | elapsed: 130.8min\n",
      "[Parallel(n_jobs=6)]: Done 16800 out of 16800 | elapsed: 136.1min finished\n"
     ]
    },
    {
     "name": "stdout",
     "output_type": "stream",
     "text": [
      "\n",
      "Best score for SVM with _f_regression : 0.7465188614504423\n",
      "\n",
      "Best score for SVM with _f_regression :\n",
      "memory : None\n",
      "steps : [('clf', SVR(C=10, degree=1, gamma=0.3))]\n",
      "verbose : False\n",
      "clf : SVR(C=10, degree=1, gamma=0.3)\n",
      "clf__C : 10\n",
      "clf__cache_size : 200\n",
      "clf__coef0 : 0.0\n",
      "clf__degree : 1\n",
      "clf__epsilon : 0.1\n",
      "clf__gamma : 0.3\n",
      "clf__kernel : rbf\n",
      "clf__max_iter : -1\n",
      "clf__shrinking : True\n",
      "clf__tol : 0.001\n",
      "clf__verbose : False\n",
      "\n",
      "Prediction scores for SVM using _f_regression :\n",
      "Mean Squared error: 4.997956016935091\n",
      "Mean Absolute error: 1.3366867110288125\n",
      "R^2: 0.7435925926135536\n"
     ]
    },
    {
     "data": {
      "text/plain": [
       "({'memory': None,\n",
       "  'steps': [('clf', SVR(C=10, degree=1, gamma=0.3))],\n",
       "  'verbose': False,\n",
       "  'clf': SVR(C=10, degree=1, gamma=0.3),\n",
       "  'clf__C': 10,\n",
       "  'clf__cache_size': 200,\n",
       "  'clf__coef0': 0.0,\n",
       "  'clf__degree': 1,\n",
       "  'clf__epsilon': 0.1,\n",
       "  'clf__gamma': 0.3,\n",
       "  'clf__kernel': 'rbf',\n",
       "  'clf__max_iter': -1,\n",
       "  'clf__shrinking': True,\n",
       "  'clf__tol': 0.001,\n",
       "  'clf__verbose': False},\n",
       " 0.7465188614504423,\n",
       " 4.997956016935091,\n",
       " 1.3366867110288125,\n",
       " 0.7435925926135536)"
      ]
     },
     "execution_count": 11,
     "metadata": {},
     "output_type": "execute_result"
    }
   ],
   "source": [
    "is_sample = True\n",
    "num_folds = 5\n",
    "support_vec(sel_methods[0], args, num_folds, is_sample)"
   ]
  },
  {
   "cell_type": "code",
   "execution_count": 22,
   "metadata": {},
   "outputs": [],
   "source": [
    "# Optimal c determined as 10 (the final parameter of the range supplied)\n",
    "# Further parameters of c require exploration to ensure optimal c\n",
    "#Remaining hyperparameters set to optimal for quicker results"
   ]
  },
  {
   "cell_type": "code",
   "execution_count": 23,
   "metadata": {},
   "outputs": [],
   "source": [
    "args = {'clf__C':(10,20,30,40,50,60,70,80,90,100),\n",
    "           'clf__degree':([1]),\n",
    "           'clf__gamma':([0.3]),\n",
    "           'clf__kernel':(['rbf'])}"
   ]
  },
  {
   "cell_type": "code",
   "execution_count": 24,
   "metadata": {},
   "outputs": [
    {
     "name": "stdout",
     "output_type": "stream",
     "text": [
      "\n",
      "\n",
      "Running cross fold validation for SVM with _f_regression\n",
      "Fitting 5 folds for each of 10 candidates, totalling 50 fits\n"
     ]
    },
    {
     "name": "stderr",
     "output_type": "stream",
     "text": [
      "[Parallel(n_jobs=6)]: Using backend LokyBackend with 6 concurrent workers.\n",
      "[Parallel(n_jobs=6)]: Done  38 tasks      | elapsed:   22.7s\n",
      "[Parallel(n_jobs=6)]: Done  50 out of  50 | elapsed:   29.0s finished\n"
     ]
    },
    {
     "name": "stdout",
     "output_type": "stream",
     "text": [
      "\n",
      "Best score for SVM with _f_regression : 0.746527900097748\n",
      "\n",
      "Best score for SVM with _f_regression :\n",
      "memory : None\n",
      "steps : [('clf', SVR(C=20, degree=1, gamma=0.3))]\n",
      "verbose : False\n",
      "clf : SVR(C=20, degree=1, gamma=0.3)\n",
      "clf__C : 20\n",
      "clf__cache_size : 200\n",
      "clf__coef0 : 0.0\n",
      "clf__degree : 1\n",
      "clf__epsilon : 0.1\n",
      "clf__gamma : 0.3\n",
      "clf__kernel : rbf\n",
      "clf__max_iter : -1\n",
      "clf__shrinking : True\n",
      "clf__tol : 0.001\n",
      "clf__verbose : False\n",
      "\n",
      "Prediction scores for SVM using _f_regression :\n",
      "Mean Squared error: 5.001849246603076\n",
      "Mean Absolute error: 1.337356609309337\n",
      "R^2: 0.7433928603785869\n"
     ]
    },
    {
     "data": {
      "text/plain": [
       "({'memory': None,\n",
       "  'steps': [('clf', SVR(C=20, degree=1, gamma=0.3))],\n",
       "  'verbose': False,\n",
       "  'clf': SVR(C=20, degree=1, gamma=0.3),\n",
       "  'clf__C': 20,\n",
       "  'clf__cache_size': 200,\n",
       "  'clf__coef0': 0.0,\n",
       "  'clf__degree': 1,\n",
       "  'clf__epsilon': 0.1,\n",
       "  'clf__gamma': 0.3,\n",
       "  'clf__kernel': 'rbf',\n",
       "  'clf__max_iter': -1,\n",
       "  'clf__shrinking': True,\n",
       "  'clf__tol': 0.001,\n",
       "  'clf__verbose': False},\n",
       " 0.746527900097748,\n",
       " 5.001849246603076,\n",
       " 1.337356609309337,\n",
       " 0.7433928603785869)"
      ]
     },
     "execution_count": 24,
     "metadata": {},
     "output_type": "execute_result"
    }
   ],
   "source": [
    "is_sample = True\n",
    "num_folds = 5\n",
    "support_vec(sel_methods[0], args, num_folds, is_sample)"
   ]
  },
  {
   "cell_type": "code",
   "execution_count": 25,
   "metadata": {},
   "outputs": [],
   "source": [
    "# Best c found to be 20.  It stands to reason the best c will be between 11 and 29 with all\n",
    "# hyperparameters attempted again.  New c range defined in previous args and cross validation ran again"
   ]
  },
  {
   "cell_type": "code",
   "execution_count": 26,
   "metadata": {},
   "outputs": [],
   "source": [
    "is_sample = True\n",
    "num_folds = 5\n",
    "args = {'clf__C':(11,12,13,14,15,16,17,18,19,20,21,22,23,24,25,26,27,28,29),\n",
    "           'clf__degree':(1,2,3,4,5),\n",
    "           'clf__gamma':('auto',0.01,0.1, 0.2, 0.3, 0.4, 0.5, 0.6, 0.7, 0.8, 0.9, 1),\n",
    "           'clf__kernel':('linear','poly','rbf','sigmoid')}"
   ]
  },
  {
   "cell_type": "code",
   "execution_count": 27,
   "metadata": {},
   "outputs": [
    {
     "name": "stdout",
     "output_type": "stream",
     "text": [
      "\n",
      "\n",
      "Running cross fold validation for SVM with _f_regression\n",
      "Fitting 5 folds for each of 4560 candidates, totalling 22800 fits\n"
     ]
    },
    {
     "name": "stderr",
     "output_type": "stream",
     "text": [
      "[Parallel(n_jobs=6)]: Using backend LokyBackend with 6 concurrent workers.\n",
      "[Parallel(n_jobs=6)]: Done  38 tasks      | elapsed:   18.1s\n",
      "[Parallel(n_jobs=6)]: Done 188 tasks      | elapsed:  1.4min\n",
      "[Parallel(n_jobs=6)]: Done 438 tasks      | elapsed:  3.4min\n",
      "[Parallel(n_jobs=6)]: Done 788 tasks      | elapsed:  6.1min\n",
      "[Parallel(n_jobs=6)]: Done 1238 tasks      | elapsed:  9.6min\n",
      "[Parallel(n_jobs=6)]: Done 1788 tasks      | elapsed: 13.9min\n",
      "[Parallel(n_jobs=6)]: Done 2438 tasks      | elapsed: 19.0min\n",
      "[Parallel(n_jobs=6)]: Done 3188 tasks      | elapsed: 24.8min\n",
      "[Parallel(n_jobs=6)]: Done 4038 tasks      | elapsed: 31.5min\n",
      "[Parallel(n_jobs=6)]: Done 4988 tasks      | elapsed: 38.9min\n",
      "[Parallel(n_jobs=6)]: Done 6038 tasks      | elapsed: 47.1min\n",
      "[Parallel(n_jobs=6)]: Done 7188 tasks      | elapsed: 56.0min\n",
      "[Parallel(n_jobs=6)]: Done 8438 tasks      | elapsed: 65.9min\n",
      "[Parallel(n_jobs=6)]: Done 9788 tasks      | elapsed: 76.4min\n",
      "[Parallel(n_jobs=6)]: Done 11238 tasks      | elapsed: 87.9min\n",
      "[Parallel(n_jobs=6)]: Done 12788 tasks      | elapsed: 100.1min\n",
      "[Parallel(n_jobs=6)]: Done 14438 tasks      | elapsed: 113.2min\n",
      "[Parallel(n_jobs=6)]: Done 16188 tasks      | elapsed: 127.0min\n",
      "[Parallel(n_jobs=6)]: Done 18038 tasks      | elapsed: 142.0min\n",
      "[Parallel(n_jobs=6)]: Done 19988 tasks      | elapsed: 157.6min\n",
      "[Parallel(n_jobs=6)]: Done 22038 tasks      | elapsed: 174.1min\n",
      "[Parallel(n_jobs=6)]: Done 22800 out of 22800 | elapsed: 180.2min finished\n"
     ]
    },
    {
     "name": "stdout",
     "output_type": "stream",
     "text": [
      "\n",
      "Best score for SVM with _f_regression : 0.7469172548014833\n",
      "\n",
      "Best score for SVM with _f_regression :\n",
      "memory : None\n",
      "steps : [('clf', SVR(C=24, degree=1, gamma=0.2))]\n",
      "verbose : False\n",
      "clf : SVR(C=24, degree=1, gamma=0.2)\n",
      "clf__C : 24\n",
      "clf__cache_size : 200\n",
      "clf__coef0 : 0.0\n",
      "clf__degree : 1\n",
      "clf__epsilon : 0.1\n",
      "clf__gamma : 0.2\n",
      "clf__kernel : rbf\n",
      "clf__max_iter : -1\n",
      "clf__shrinking : True\n",
      "clf__tol : 0.001\n",
      "clf__verbose : False\n",
      "\n",
      "Prediction scores for SVM using _f_regression :\n",
      "Mean Squared error: 5.000350182963164\n",
      "Mean Absolute error: 1.3375286598503773\n",
      "R^2: 0.7434697660216367\n"
     ]
    },
    {
     "data": {
      "text/plain": [
       "({'memory': None,\n",
       "  'steps': [('clf', SVR(C=24, degree=1, gamma=0.2))],\n",
       "  'verbose': False,\n",
       "  'clf': SVR(C=24, degree=1, gamma=0.2),\n",
       "  'clf__C': 24,\n",
       "  'clf__cache_size': 200,\n",
       "  'clf__coef0': 0.0,\n",
       "  'clf__degree': 1,\n",
       "  'clf__epsilon': 0.1,\n",
       "  'clf__gamma': 0.2,\n",
       "  'clf__kernel': 'rbf',\n",
       "  'clf__max_iter': -1,\n",
       "  'clf__shrinking': True,\n",
       "  'clf__tol': 0.001,\n",
       "  'clf__verbose': False},\n",
       " 0.7469172548014833,\n",
       " 5.000350182963164,\n",
       " 1.3375286598503773,\n",
       " 0.7434697660216367)"
      ]
     },
     "execution_count": 27,
     "metadata": {},
     "output_type": "execute_result"
    }
   ],
   "source": [
    "support_vec(sel_methods[0], args, num_folds, is_sample)"
   ]
  },
  {
   "cell_type": "code",
   "execution_count": 28,
   "metadata": {},
   "outputs": [],
   "source": [
    "# Fine tuned arguments used to determine final hyperparameters, full training dataset used and cv = 10\n",
    "# degree set to 1 and kernel rbf as these perfomed best in all SVM sample testing\n",
    "# gamma range explored to another decimal place, minor c variance in case gamma changes it\n",
    "is_sample = False\n",
    "num_folds = 10\n",
    "args = {'clf__C':(22,23,24,25,26),\n",
    "           'clf__degree':([1]),\n",
    "           'clf__gamma':('auto',0.15,0.16,0.17,0.18,0.19,0.2,0.21,0.22,0.23,0.24,0.25),\n",
    "           'clf__kernel':(['rbf'])}"
   ]
  },
  {
   "cell_type": "code",
   "execution_count": 29,
   "metadata": {},
   "outputs": [
    {
     "name": "stdout",
     "output_type": "stream",
     "text": [
      "\n",
      "\n",
      "Running cross fold validation for SVM with _f_regression\n",
      "Fitting 10 folds for each of 60 candidates, totalling 600 fits\n"
     ]
    },
    {
     "name": "stderr",
     "output_type": "stream",
     "text": [
      "[Parallel(n_jobs=6)]: Using backend LokyBackend with 6 concurrent workers.\n",
      "[Parallel(n_jobs=6)]: Done  38 tasks      | elapsed:  9.6min\n",
      "[Parallel(n_jobs=6)]: Done 188 tasks      | elapsed: 43.6min\n",
      "[Parallel(n_jobs=6)]: Done 438 tasks      | elapsed: 99.5min\n",
      "[Parallel(n_jobs=6)]: Done 600 out of 600 | elapsed: 136.2min finished\n"
     ]
    },
    {
     "name": "stdout",
     "output_type": "stream",
     "text": [
      "\n",
      "Best score for SVM with _f_regression : 0.7374096951243551\n",
      "\n",
      "Best score for SVM with _f_regression :\n",
      "memory : None\n",
      "steps : [('clf', SVR(C=26, degree=1, gamma=0.15))]\n",
      "verbose : False\n",
      "clf : SVR(C=26, degree=1, gamma=0.15)\n",
      "clf__C : 26\n",
      "clf__cache_size : 200\n",
      "clf__coef0 : 0.0\n",
      "clf__degree : 1\n",
      "clf__epsilon : 0.1\n",
      "clf__gamma : 0.15\n",
      "clf__kernel : rbf\n",
      "clf__max_iter : -1\n",
      "clf__shrinking : True\n",
      "clf__tol : 0.001\n",
      "clf__verbose : False\n",
      "\n",
      "Prediction scores for SVM using _f_regression :\n",
      "Mean Squared error: 4.981780364733107\n",
      "Mean Absolute error: 1.3335570026079564\n",
      "R^2: 0.7444224432624673\n"
     ]
    }
   ],
   "source": [
    "f_reg_best_args, f_reg_train_score, f_reg_mse, f_reg_mae, f_reg_r2 = support_vec(sel_methods[0], args, num_folds, is_sample)"
   ]
  },
  {
   "cell_type": "code",
   "execution_count": 38,
   "metadata": {},
   "outputs": [],
   "source": [
    "# Lowest gamma and highest c selected, further tuning of both\n",
    "is_sample = False\n",
    "num_folds = 10\n",
    "args = {'clf__C':(24,25,26,27,28,29,30),\n",
    "           'clf__degree':([1]),\n",
    "           'clf__gamma':('auto',0.09,0.1,0.11,0.12,0.13,0.14,0.15,0.16,0.17,0.18,0.19,0.2,0.21,0.22,0.23,0.24,0.25),\n",
    "           'clf__kernel':(['rbf'])}"
   ]
  },
  {
   "cell_type": "code",
   "execution_count": 39,
   "metadata": {},
   "outputs": [
    {
     "name": "stdout",
     "output_type": "stream",
     "text": [
      "\n",
      "\n",
      "Running cross fold validation for SVM with _f_regression\n",
      "Fitting 10 folds for each of 126 candidates, totalling 1260 fits\n"
     ]
    },
    {
     "name": "stderr",
     "output_type": "stream",
     "text": [
      "[Parallel(n_jobs=6)]: Using backend LokyBackend with 6 concurrent workers.\n",
      "[Parallel(n_jobs=6)]: Done  38 tasks      | elapsed: 10.0min\n",
      "[Parallel(n_jobs=6)]: Done 188 tasks      | elapsed: 45.5min\n",
      "[Parallel(n_jobs=6)]: Done 438 tasks      | elapsed: 106.2min\n",
      "[Parallel(n_jobs=6)]: Done 788 tasks      | elapsed: 190.3min\n",
      "[Parallel(n_jobs=6)]: Done 1238 tasks      | elapsed: 308.0min\n",
      "[Parallel(n_jobs=6)]: Done 1260 out of 1260 | elapsed: 313.2min finished\n"
     ]
    },
    {
     "name": "stdout",
     "output_type": "stream",
     "text": [
      "\n",
      "Best score for SVM with _f_regression : 0.7374184226253806\n",
      "\n",
      "Best score for SVM with _f_regression :\n",
      "memory : None\n",
      "steps : [('clf', SVR(C=29, degree=1, gamma=0.15))]\n",
      "verbose : False\n",
      "clf : SVR(C=29, degree=1, gamma=0.15)\n",
      "clf__C : 29\n",
      "clf__cache_size : 200\n",
      "clf__coef0 : 0.0\n",
      "clf__degree : 1\n",
      "clf__epsilon : 0.1\n",
      "clf__gamma : 0.15\n",
      "clf__kernel : rbf\n",
      "clf__max_iter : -1\n",
      "clf__shrinking : True\n",
      "clf__tol : 0.001\n",
      "clf__verbose : False\n",
      "\n",
      "Prediction scores for SVM using _f_regression :\n",
      "Mean Squared error: 4.982240358282327\n",
      "Mean Absolute error: 1.3335595889963732\n",
      "R^2: 0.7443988444646847\n"
     ]
    }
   ],
   "source": [
    "f_reg_best_args, f_reg_train_score, f_reg_mse, f_reg_mae, f_reg_r2 = support_vec(sel_methods[0], args, num_folds, is_sample)"
   ]
  },
  {
   "cell_type": "code",
   "execution_count": 28,
   "metadata": {},
   "outputs": [
    {
     "name": "stdout",
     "output_type": "stream",
     "text": [
      "Fitting 10 folds for each of 1 candidates, totalling 10 fits\n"
     ]
    },
    {
     "name": "stderr",
     "output_type": "stream",
     "text": [
      "[Parallel(n_jobs=6)]: Using backend LokyBackend with 6 concurrent workers.\n",
      "[Parallel(n_jobs=6)]: Done  10 out of  10 | elapsed:  2.4min remaining:    0.0s\n",
      "[Parallel(n_jobs=6)]: Done  10 out of  10 | elapsed:  2.4min finished\n"
     ]
    },
    {
     "name": "stdout",
     "output_type": "stream",
     "text": [
      "memory : None\n",
      "steps : [('clf', SVR(C=29, degree=1, gamma=0.15))]\n",
      "verbose : False\n",
      "clf : SVR(C=29, degree=1, gamma=0.15)\n",
      "clf__C : 29\n",
      "clf__cache_size : 200\n",
      "clf__coef0 : 0.0\n",
      "clf__degree : 1\n",
      "clf__epsilon : 0.1\n",
      "clf__gamma : 0.15\n",
      "clf__kernel : rbf\n",
      "clf__max_iter : -1\n",
      "clf__shrinking : True\n",
      "clf__tol : 0.001\n",
      "clf__verbose : False\n"
     ]
    }
   ],
   "source": [
    "# save model\n",
    "is_sample = False\n",
    "num_folds = 10\n",
    "args = {'clf__C':([29]),\n",
    "           'clf__degree':([1]),\n",
    "           'clf__gamma':([0.15]),\n",
    "           'clf__kernel':(['rbf'])}\n",
    "f_reg_best_args, f_reg_train_score, f_reg_mse, f_reg_mae, f_reg_r2 = support_vec_save_model(\n",
    "    sel_methods[0], args, num_folds, is_sample)"
   ]
  },
  {
   "cell_type": "markdown",
   "metadata": {},
   "source": [
    "<h3>Chi-Squared feature selected dataset<h3>"
   ]
  },
  {
   "cell_type": "code",
   "execution_count": 12,
   "metadata": {},
   "outputs": [],
   "source": [
    "is_sample = True\n",
    "num_folds = 5\n",
    "args = {'clf__C':(11,12,13,14,15,16,17,18,19,20,21,22,23,24,25,26,27,28,29),\n",
    "           'clf__degree':(1,2,3,4,5),\n",
    "           'clf__gamma':('auto',0.01,0.1, 0.2, 0.3, 0.4, 0.5, 0.6, 0.7, 0.8, 0.9, 1),\n",
    "           'clf__kernel':('linear','poly','rbf','sigmoid')}"
   ]
  },
  {
   "cell_type": "code",
   "execution_count": 13,
   "metadata": {},
   "outputs": [
    {
     "name": "stdout",
     "output_type": "stream",
     "text": [
      "\n",
      "\n",
      "Running cross fold validation for SVM with _chi2\n",
      "Fitting 5 folds for each of 4560 candidates, totalling 22800 fits\n"
     ]
    },
    {
     "name": "stderr",
     "output_type": "stream",
     "text": [
      "[Parallel(n_jobs=6)]: Using backend LokyBackend with 6 concurrent workers.\n",
      "[Parallel(n_jobs=6)]: Done  38 tasks      | elapsed:   21.5s\n",
      "[Parallel(n_jobs=6)]: Done 188 tasks      | elapsed:  1.8min\n",
      "[Parallel(n_jobs=6)]: Done 438 tasks      | elapsed:  4.2min\n",
      "[Parallel(n_jobs=6)]: Done 788 tasks      | elapsed:  7.3min\n",
      "[Parallel(n_jobs=6)]: Done 1238 tasks      | elapsed: 11.6min\n",
      "[Parallel(n_jobs=6)]: Done 1788 tasks      | elapsed: 16.9min\n",
      "[Parallel(n_jobs=6)]: Done 2438 tasks      | elapsed: 22.9min\n",
      "[Parallel(n_jobs=6)]: Done 3188 tasks      | elapsed: 29.6min\n",
      "[Parallel(n_jobs=6)]: Done 4038 tasks      | elapsed: 37.3min\n",
      "[Parallel(n_jobs=6)]: Done 4988 tasks      | elapsed: 45.8min\n",
      "[Parallel(n_jobs=6)]: Done 6038 tasks      | elapsed: 55.6min\n",
      "[Parallel(n_jobs=6)]: Done 7188 tasks      | elapsed: 66.1min\n",
      "[Parallel(n_jobs=6)]: Done 8438 tasks      | elapsed: 77.4min\n",
      "[Parallel(n_jobs=6)]: Done 9788 tasks      | elapsed: 89.4min\n",
      "[Parallel(n_jobs=6)]: Done 11238 tasks      | elapsed: 102.5min\n",
      "[Parallel(n_jobs=6)]: Done 12788 tasks      | elapsed: 116.7min\n",
      "[Parallel(n_jobs=6)]: Done 14438 tasks      | elapsed: 132.0min\n",
      "[Parallel(n_jobs=6)]: Done 16188 tasks      | elapsed: 147.7min\n",
      "[Parallel(n_jobs=6)]: Done 18038 tasks      | elapsed: 164.3min\n",
      "[Parallel(n_jobs=6)]: Done 19988 tasks      | elapsed: 181.8min\n",
      "[Parallel(n_jobs=6)]: Done 22038 tasks      | elapsed: 201.1min\n",
      "[Parallel(n_jobs=6)]: Done 22800 out of 22800 | elapsed: 208.1min finished\n"
     ]
    },
    {
     "name": "stdout",
     "output_type": "stream",
     "text": [
      "\n",
      "Best score for SVM with _chi2 : 0.73684493877563\n",
      "\n",
      "Best score for SVM with _chi2 :\n",
      "memory : None\n",
      "steps : [('clf', SVR(C=16, degree=1, gamma=0.3))]\n",
      "verbose : False\n",
      "clf : SVR(C=16, degree=1, gamma=0.3)\n",
      "clf__C : 16\n",
      "clf__cache_size : 200\n",
      "clf__coef0 : 0.0\n",
      "clf__degree : 1\n",
      "clf__epsilon : 0.1\n",
      "clf__gamma : 0.3\n",
      "clf__kernel : rbf\n",
      "clf__max_iter : -1\n",
      "clf__shrinking : True\n",
      "clf__tol : 0.001\n",
      "clf__verbose : False\n",
      "\n",
      "Prediction scores for SVM using _chi2 :\n",
      "Mean Squared error: 5.329514995094013\n",
      "Mean Absolute error: 1.3735301409165281\n",
      "R^2: 0.7265828034722794\n"
     ]
    },
    {
     "data": {
      "text/plain": [
       "({'memory': None,\n",
       "  'steps': [('clf', SVR(C=16, degree=1, gamma=0.3))],\n",
       "  'verbose': False,\n",
       "  'clf': SVR(C=16, degree=1, gamma=0.3),\n",
       "  'clf__C': 16,\n",
       "  'clf__cache_size': 200,\n",
       "  'clf__coef0': 0.0,\n",
       "  'clf__degree': 1,\n",
       "  'clf__epsilon': 0.1,\n",
       "  'clf__gamma': 0.3,\n",
       "  'clf__kernel': 'rbf',\n",
       "  'clf__max_iter': -1,\n",
       "  'clf__shrinking': True,\n",
       "  'clf__tol': 0.001,\n",
       "  'clf__verbose': False},\n",
       " 0.73684493877563,\n",
       " 5.329514995094013,\n",
       " 1.3735301409165281,\n",
       " 0.7265828034722794)"
      ]
     },
     "execution_count": 13,
     "metadata": {},
     "output_type": "execute_result"
    }
   ],
   "source": [
    "support_vec(sel_methods[1], args, num_folds, is_sample)"
   ]
  },
  {
   "cell_type": "code",
   "execution_count": 30,
   "metadata": {},
   "outputs": [],
   "source": [
    "# Fine tuned arguments used to determine final hyperparameters, full training dataset used and cv = 10\n",
    "# degree set to 1 and kernel rbf as these perfomed best in all SVM sample testing\n",
    "# gamma range explored to another decimal place, minor c variance in case gamma changes it\n",
    "is_sample = False\n",
    "num_folds = 10\n",
    "args = {'clf__C':(14,15,16,17,18),\n",
    "           'clf__degree':([1]),\n",
    "           'clf__gamma':(0.25,0.26,0.27,0.28,0.29,0.3,0.31,0.32,0.33,0.34,0.35),\n",
    "           'clf__kernel':(['rbf'])}"
   ]
  },
  {
   "cell_type": "code",
   "execution_count": 31,
   "metadata": {},
   "outputs": [
    {
     "name": "stdout",
     "output_type": "stream",
     "text": [
      "\n",
      "\n",
      "Running cross fold validation for SVM with _chi2\n",
      "Fitting 10 folds for each of 55 candidates, totalling 550 fits\n"
     ]
    },
    {
     "name": "stderr",
     "output_type": "stream",
     "text": [
      "[Parallel(n_jobs=6)]: Using backend LokyBackend with 6 concurrent workers.\n",
      "[Parallel(n_jobs=6)]: Done  38 tasks      | elapsed: 12.3min\n",
      "[Parallel(n_jobs=6)]: Done 188 tasks      | elapsed: 54.7min\n",
      "[Parallel(n_jobs=6)]: Done 438 tasks      | elapsed: 127.3min\n",
      "[Parallel(n_jobs=6)]: Done 550 out of 550 | elapsed: 156.8min finished\n"
     ]
    },
    {
     "name": "stdout",
     "output_type": "stream",
     "text": [
      "\n",
      "Best score for SVM with _chi2 : 0.7244781432990505\n",
      "\n",
      "Best score for SVM with _chi2 :\n",
      "memory : None\n",
      "steps : [('clf', SVR(C=17, degree=1, gamma=0.25))]\n",
      "verbose : False\n",
      "clf : SVR(C=17, degree=1, gamma=0.25)\n",
      "clf__C : 17\n",
      "clf__cache_size : 200\n",
      "clf__coef0 : 0.0\n",
      "clf__degree : 1\n",
      "clf__epsilon : 0.1\n",
      "clf__gamma : 0.25\n",
      "clf__kernel : rbf\n",
      "clf__max_iter : -1\n",
      "clf__shrinking : True\n",
      "clf__tol : 0.001\n",
      "clf__verbose : False\n",
      "\n",
      "Prediction scores for SVM using _chi2 :\n",
      "Mean Squared error: 5.292926597023438\n",
      "Mean Absolute error: 1.3669777593653234\n",
      "R^2: 0.728459878071958\n"
     ]
    }
   ],
   "source": [
    "chi2_best_args, chi2_train_score, chi2_mse, chi2_mae, chi2_r2 = support_vec(sel_methods[1], args, num_folds, is_sample)"
   ]
  },
  {
   "cell_type": "code",
   "execution_count": 40,
   "metadata": {},
   "outputs": [],
   "source": [
    "# Lowest gamma selected, further tuning of gamma\n",
    "is_sample = False\n",
    "num_folds = 10\n",
    "args = {'clf__C':(14,15,16,17,18,19),\n",
    "           'clf__degree':([1]),\n",
    "           'clf__gamma':(0.21,0.22,0.23,0.24,0.25,0.26,0.27,),\n",
    "           'clf__kernel':(['rbf'])}"
   ]
  },
  {
   "cell_type": "code",
   "execution_count": 41,
   "metadata": {},
   "outputs": [
    {
     "name": "stdout",
     "output_type": "stream",
     "text": [
      "\n",
      "\n",
      "Running cross fold validation for SVM with _chi2\n",
      "Fitting 10 folds for each of 42 candidates, totalling 420 fits\n"
     ]
    },
    {
     "name": "stderr",
     "output_type": "stream",
     "text": [
      "[Parallel(n_jobs=6)]: Using backend LokyBackend with 6 concurrent workers.\n",
      "[Parallel(n_jobs=6)]: Done  38 tasks      | elapsed: 12.1min\n",
      "[Parallel(n_jobs=6)]: Done 188 tasks      | elapsed: 54.8min\n",
      "[Parallel(n_jobs=6)]: Done 420 out of 420 | elapsed: 119.1min finished\n"
     ]
    },
    {
     "name": "stdout",
     "output_type": "stream",
     "text": [
      "\n",
      "Best score for SVM with _chi2 : 0.7245127244346607\n",
      "\n",
      "Best score for SVM with _chi2 :\n",
      "memory : None\n",
      "steps : [('clf', SVR(C=19, degree=1, gamma=0.22))]\n",
      "verbose : False\n",
      "clf : SVR(C=19, degree=1, gamma=0.22)\n",
      "clf__C : 19\n",
      "clf__cache_size : 200\n",
      "clf__coef0 : 0.0\n",
      "clf__degree : 1\n",
      "clf__epsilon : 0.1\n",
      "clf__gamma : 0.22\n",
      "clf__kernel : rbf\n",
      "clf__max_iter : -1\n",
      "clf__shrinking : True\n",
      "clf__tol : 0.001\n",
      "clf__verbose : False\n",
      "\n",
      "Prediction scores for SVM using _chi2 :\n",
      "Mean Squared error: 5.295705300723949\n",
      "Mean Absolute error: 1.3671123247497843\n",
      "R^2: 0.7283173237538869\n"
     ]
    }
   ],
   "source": [
    "chi2_best_args, chi2_train_score, chi2_mse, chi2_mae, chi2_r2 = support_vec(sel_methods[1], args, num_folds, is_sample)"
   ]
  },
  {
   "cell_type": "code",
   "execution_count": 29,
   "metadata": {},
   "outputs": [
    {
     "name": "stdout",
     "output_type": "stream",
     "text": [
      "Fitting 10 folds for each of 1 candidates, totalling 10 fits\n"
     ]
    },
    {
     "name": "stderr",
     "output_type": "stream",
     "text": [
      "[Parallel(n_jobs=6)]: Using backend LokyBackend with 6 concurrent workers.\n",
      "[Parallel(n_jobs=6)]: Done  10 out of  10 | elapsed:  2.6min remaining:    0.0s\n",
      "[Parallel(n_jobs=6)]: Done  10 out of  10 | elapsed:  2.6min finished\n"
     ]
    },
    {
     "name": "stdout",
     "output_type": "stream",
     "text": [
      "memory : None\n",
      "steps : [('clf', SVR(C=19, degree=1, gamma=0.22))]\n",
      "verbose : False\n",
      "clf : SVR(C=19, degree=1, gamma=0.22)\n",
      "clf__C : 19\n",
      "clf__cache_size : 200\n",
      "clf__coef0 : 0.0\n",
      "clf__degree : 1\n",
      "clf__epsilon : 0.1\n",
      "clf__gamma : 0.22\n",
      "clf__kernel : rbf\n",
      "clf__max_iter : -1\n",
      "clf__shrinking : True\n",
      "clf__tol : 0.001\n",
      "clf__verbose : False\n"
     ]
    }
   ],
   "source": [
    "# save model\n",
    "is_sample = False\n",
    "num_folds = 10\n",
    "args = {'clf__C':([19]),\n",
    "           'clf__degree':([1]),\n",
    "           'clf__gamma':([0.22]),\n",
    "           'clf__kernel':(['rbf'])}\n",
    "chi2_best_args, chi2_train_score, chi2_mse, chi2_mae, chi2_r2 = support_vec_save_model(\n",
    "    sel_methods[1], args, num_folds, is_sample)"
   ]
  },
  {
   "cell_type": "markdown",
   "metadata": {},
   "source": [
    "<h3>AdaBoost feature selected dataset<h3>"
   ]
  },
  {
   "cell_type": "code",
   "execution_count": 16,
   "metadata": {},
   "outputs": [],
   "source": [
    "is_sample = True\n",
    "num_folds = 5\n",
    "args = {'clf__C':(11,12,13,14,15,16,17,18,19,20,21,22,23,24,25,26,27,28,29),\n",
    "           'clf__degree':(1,2,3,4,5),\n",
    "           'clf__gamma':('auto',0.01,0.1, 0.2, 0.3, 0.4, 0.5, 0.6, 0.7, 0.8, 0.9, 1),\n",
    "           'clf__kernel':('linear','poly','rbf','sigmoid')}"
   ]
  },
  {
   "cell_type": "code",
   "execution_count": 17,
   "metadata": {},
   "outputs": [
    {
     "name": "stdout",
     "output_type": "stream",
     "text": [
      "\n",
      "\n",
      "Running cross fold validation for SVM with _adaboost\n",
      "Fitting 5 folds for each of 4560 candidates, totalling 22800 fits\n"
     ]
    },
    {
     "name": "stderr",
     "output_type": "stream",
     "text": [
      "[Parallel(n_jobs=6)]: Using backend LokyBackend with 6 concurrent workers.\n",
      "[Parallel(n_jobs=6)]: Done  38 tasks      | elapsed:   21.6s\n",
      "[Parallel(n_jobs=6)]: Done 188 tasks      | elapsed:  1.6min\n",
      "[Parallel(n_jobs=6)]: Done 438 tasks      | elapsed:  3.7min\n",
      "[Parallel(n_jobs=6)]: Done 788 tasks      | elapsed:  6.8min\n",
      "[Parallel(n_jobs=6)]: Done 1238 tasks      | elapsed: 10.5min\n",
      "[Parallel(n_jobs=6)]: Done 1788 tasks      | elapsed: 15.4min\n",
      "[Parallel(n_jobs=6)]: Done 2438 tasks      | elapsed: 22.0min\n",
      "[Parallel(n_jobs=6)]: Done 3188 tasks      | elapsed: 29.7min\n",
      "[Parallel(n_jobs=6)]: Done 4038 tasks      | elapsed: 38.6min\n",
      "[Parallel(n_jobs=6)]: Done 4988 tasks      | elapsed: 47.8min\n",
      "[Parallel(n_jobs=6)]: Done 6038 tasks      | elapsed: 57.2min\n",
      "[Parallel(n_jobs=6)]: Done 7188 tasks      | elapsed: 66.7min\n",
      "[Parallel(n_jobs=6)]: Done 8438 tasks      | elapsed: 77.0min\n",
      "[Parallel(n_jobs=6)]: Done 9788 tasks      | elapsed: 88.0min\n",
      "[Parallel(n_jobs=6)]: Done 11238 tasks      | elapsed: 99.9min\n",
      "[Parallel(n_jobs=6)]: Done 12788 tasks      | elapsed: 112.6min\n",
      "[Parallel(n_jobs=6)]: Done 14438 tasks      | elapsed: 126.2min\n",
      "[Parallel(n_jobs=6)]: Done 16188 tasks      | elapsed: 140.9min\n",
      "[Parallel(n_jobs=6)]: Done 18038 tasks      | elapsed: 157.3min\n",
      "[Parallel(n_jobs=6)]: Done 19988 tasks      | elapsed: 173.5min\n",
      "[Parallel(n_jobs=6)]: Done 22038 tasks      | elapsed: 191.2min\n",
      "[Parallel(n_jobs=6)]: Done 22800 out of 22800 | elapsed: 198.3min finished\n"
     ]
    },
    {
     "name": "stdout",
     "output_type": "stream",
     "text": [
      "\n",
      "Best score for SVM with _adaboost : 0.7469343691503707\n",
      "\n",
      "Best score for SVM with _adaboost :\n",
      "memory : None\n",
      "steps : [('clf', SVR(C=27, degree=1, gamma=0.7))]\n",
      "verbose : False\n",
      "clf : SVR(C=27, degree=1, gamma=0.7)\n",
      "clf__C : 27\n",
      "clf__cache_size : 200\n",
      "clf__coef0 : 0.0\n",
      "clf__degree : 1\n",
      "clf__epsilon : 0.1\n",
      "clf__gamma : 0.7\n",
      "clf__kernel : rbf\n",
      "clf__max_iter : -1\n",
      "clf__shrinking : True\n",
      "clf__tol : 0.001\n",
      "clf__verbose : False\n",
      "\n",
      "Prediction scores for SVM using _adaboost :\n",
      "Mean Squared error: 5.0686631708515435\n",
      "Mean Absolute error: 1.3440948074772878\n",
      "R^2: 0.7399651421201998\n"
     ]
    },
    {
     "data": {
      "text/plain": [
       "({'memory': None,\n",
       "  'steps': [('clf', SVR(C=27, degree=1, gamma=0.7))],\n",
       "  'verbose': False,\n",
       "  'clf': SVR(C=27, degree=1, gamma=0.7),\n",
       "  'clf__C': 27,\n",
       "  'clf__cache_size': 200,\n",
       "  'clf__coef0': 0.0,\n",
       "  'clf__degree': 1,\n",
       "  'clf__epsilon': 0.1,\n",
       "  'clf__gamma': 0.7,\n",
       "  'clf__kernel': 'rbf',\n",
       "  'clf__max_iter': -1,\n",
       "  'clf__shrinking': True,\n",
       "  'clf__tol': 0.001,\n",
       "  'clf__verbose': False},\n",
       " 0.7469343691503707,\n",
       " 5.0686631708515435,\n",
       " 1.3440948074772878,\n",
       " 0.7399651421201998)"
      ]
     },
     "execution_count": 17,
     "metadata": {},
     "output_type": "execute_result"
    }
   ],
   "source": [
    "support_vec(sel_methods[2], args, num_folds, is_sample)"
   ]
  },
  {
   "cell_type": "code",
   "execution_count": 32,
   "metadata": {},
   "outputs": [],
   "source": [
    "# Fine tuned arguments used to determine final hyperparameters, full training dataset used and cv = 10\n",
    "# degree set to 1 and kernel rbf as these perfomed best in all SVM sample testing\n",
    "# gamma range explored to another decimal place, minor c variance in case gamma changes it\n",
    "is_sample = False\n",
    "num_folds = 10\n",
    "args = {'clf__C':(25,26,27,28,29),\n",
    "           'clf__degree':([1]),\n",
    "           'clf__gamma':(0.65,0.66,0.67,0.68,0.69,0.7,0.71,0.72,0.73,0.74,0.75),\n",
    "           'clf__kernel':(['rbf'])}"
   ]
  },
  {
   "cell_type": "code",
   "execution_count": 33,
   "metadata": {},
   "outputs": [
    {
     "name": "stdout",
     "output_type": "stream",
     "text": [
      "\n",
      "\n",
      "Running cross fold validation for SVM with _adaboost\n",
      "Fitting 10 folds for each of 55 candidates, totalling 550 fits\n"
     ]
    },
    {
     "name": "stderr",
     "output_type": "stream",
     "text": [
      "[Parallel(n_jobs=6)]: Using backend LokyBackend with 6 concurrent workers.\n",
      "[Parallel(n_jobs=6)]: Done  38 tasks      | elapsed: 10.7min\n",
      "[Parallel(n_jobs=6)]: Done 188 tasks      | elapsed: 48.2min\n",
      "[Parallel(n_jobs=6)]: Done 438 tasks      | elapsed: 111.2min\n",
      "[Parallel(n_jobs=6)]: Done 550 out of 550 | elapsed: 138.5min finished\n"
     ]
    },
    {
     "name": "stdout",
     "output_type": "stream",
     "text": [
      "\n",
      "Best score for SVM with _adaboost : 0.7351183327931379\n",
      "\n",
      "Best score for SVM with _adaboost :\n",
      "memory : None\n",
      "steps : [('clf', SVR(C=25, degree=1, gamma=0.65))]\n",
      "verbose : False\n",
      "clf : SVR(C=25, degree=1, gamma=0.65)\n",
      "clf__C : 25\n",
      "clf__cache_size : 200\n",
      "clf__coef0 : 0.0\n",
      "clf__degree : 1\n",
      "clf__epsilon : 0.1\n",
      "clf__gamma : 0.65\n",
      "clf__kernel : rbf\n",
      "clf__max_iter : -1\n",
      "clf__shrinking : True\n",
      "clf__tol : 0.001\n",
      "clf__verbose : False\n",
      "\n",
      "Prediction scores for SVM using _adaboost :\n",
      "Mean Squared error: 5.049075945992113\n",
      "Mean Absolute error: 1.3389508832510622\n",
      "R^2: 0.7409700148175753\n"
     ]
    }
   ],
   "source": [
    "ada_best_args, ada_train_score, ada_mse, ada_mae, ada_r2 = support_vec(sel_methods[2], args, num_folds, is_sample)"
   ]
  },
  {
   "cell_type": "code",
   "execution_count": 43,
   "metadata": {},
   "outputs": [],
   "source": [
    "# Training accuracy dropped with little gain on test set\n",
    "# Lowest gamma range used, lower gamma explored\n",
    "is_sample = False\n",
    "num_folds = 10\n",
    "args = {'clf__C':(22,23,22,25,26,27,28),\n",
    "           'clf__degree':([1]),\n",
    "           'clf__gamma':(0.6,0.61,0.62,0.63,0.64,0.65,0.66,0.67,0.68,0.69,0.7),\n",
    "           'clf__kernel':(['rbf'])}"
   ]
  },
  {
   "cell_type": "code",
   "execution_count": 44,
   "metadata": {},
   "outputs": [
    {
     "name": "stdout",
     "output_type": "stream",
     "text": [
      "\n",
      "\n",
      "Running cross fold validation for SVM with _adaboost\n",
      "Fitting 10 folds for each of 77 candidates, totalling 770 fits\n"
     ]
    },
    {
     "name": "stderr",
     "output_type": "stream",
     "text": [
      "[Parallel(n_jobs=6)]: Using backend LokyBackend with 6 concurrent workers.\n",
      "[Parallel(n_jobs=6)]: Done  38 tasks      | elapsed: 10.2min\n",
      "[Parallel(n_jobs=6)]: Done 188 tasks      | elapsed: 46.1min\n",
      "[Parallel(n_jobs=6)]: Done 438 tasks      | elapsed: 105.6min\n",
      "[Parallel(n_jobs=6)]: Done 770 out of 770 | elapsed: 185.7min finished\n"
     ]
    },
    {
     "name": "stdout",
     "output_type": "stream",
     "text": [
      "\n",
      "Best score for SVM with _adaboost : 0.7353971456266457\n",
      "\n",
      "Best score for SVM with _adaboost :\n",
      "memory : None\n",
      "steps : [('clf', SVR(C=22, degree=1, gamma=0.6))]\n",
      "verbose : False\n",
      "clf : SVR(C=22, degree=1, gamma=0.6)\n",
      "clf__C : 22\n",
      "clf__cache_size : 200\n",
      "clf__coef0 : 0.0\n",
      "clf__degree : 1\n",
      "clf__epsilon : 0.1\n",
      "clf__gamma : 0.6\n",
      "clf__kernel : rbf\n",
      "clf__max_iter : -1\n",
      "clf__shrinking : True\n",
      "clf__tol : 0.001\n",
      "clf__verbose : False\n",
      "\n",
      "Prediction scores for SVM using _adaboost :\n",
      "Mean Squared error: 5.047232177450469\n",
      "Mean Absolute error: 1.3386405976658138\n",
      "R^2: 0.7410646046679026\n"
     ]
    }
   ],
   "source": [
    "ada_best_args, ada_train_score, ada_mse, ada_mae, ada_r2 = support_vec(sel_methods[2], args, num_folds, is_sample)"
   ]
  },
  {
   "cell_type": "code",
   "execution_count": 30,
   "metadata": {},
   "outputs": [
    {
     "name": "stdout",
     "output_type": "stream",
     "text": [
      "Fitting 10 folds for each of 1 candidates, totalling 10 fits\n"
     ]
    },
    {
     "name": "stderr",
     "output_type": "stream",
     "text": [
      "[Parallel(n_jobs=6)]: Using backend LokyBackend with 6 concurrent workers.\n",
      "[Parallel(n_jobs=6)]: Done  10 out of  10 | elapsed:  2.4min remaining:    0.0s\n",
      "[Parallel(n_jobs=6)]: Done  10 out of  10 | elapsed:  2.4min finished\n"
     ]
    },
    {
     "name": "stdout",
     "output_type": "stream",
     "text": [
      "memory : None\n",
      "steps : [('clf', SVR(C=22, degree=1, gamma=0.6))]\n",
      "verbose : False\n",
      "clf : SVR(C=22, degree=1, gamma=0.6)\n",
      "clf__C : 22\n",
      "clf__cache_size : 200\n",
      "clf__coef0 : 0.0\n",
      "clf__degree : 1\n",
      "clf__epsilon : 0.1\n",
      "clf__gamma : 0.6\n",
      "clf__kernel : rbf\n",
      "clf__max_iter : -1\n",
      "clf__shrinking : True\n",
      "clf__tol : 0.001\n",
      "clf__verbose : False\n"
     ]
    }
   ],
   "source": [
    "# save model\n",
    "is_sample = False\n",
    "num_folds = 10\n",
    "args = {'clf__C':([22]),\n",
    "           'clf__degree':([1]),\n",
    "           'clf__gamma':([0.6]),\n",
    "           'clf__kernel':(['rbf'])}\n",
    "ada_best_args, ada_train_score, ada_mse, ada_mae, ada_r2 = support_vec_save_model(\n",
    "    sel_methods[2], args, num_folds, is_sample)"
   ]
  },
  {
   "cell_type": "markdown",
   "metadata": {},
   "source": [
    "<h3>Equal business and crime feature selected dataset<h3>"
   ]
  },
  {
   "cell_type": "code",
   "execution_count": 18,
   "metadata": {},
   "outputs": [],
   "source": [
    "is_sample = True\n",
    "num_folds = 5\n",
    "args = {'clf__C':(11,12,13,14,15,16,17,18,19,20,21,22,23,24,25,26,27,28,29),\n",
    "           'clf__degree':(1,2,3,4,5),\n",
    "           'clf__gamma':('auto',0.01,0.1, 0.2, 0.3, 0.4, 0.5, 0.6, 0.7, 0.8, 0.9, 1),\n",
    "           'clf__kernel':('linear','poly','rbf','sigmoid')}"
   ]
  },
  {
   "cell_type": "code",
   "execution_count": 19,
   "metadata": {},
   "outputs": [
    {
     "name": "stdout",
     "output_type": "stream",
     "text": [
      "\n",
      "\n",
      "Running cross fold validation for SVM with _equal_crime_and_business\n",
      "Fitting 5 folds for each of 4560 candidates, totalling 22800 fits\n"
     ]
    },
    {
     "name": "stderr",
     "output_type": "stream",
     "text": [
      "[Parallel(n_jobs=6)]: Using backend LokyBackend with 6 concurrent workers.\n",
      "[Parallel(n_jobs=6)]: Done  38 tasks      | elapsed:   20.8s\n",
      "[Parallel(n_jobs=6)]: Done 188 tasks      | elapsed:  1.6min\n",
      "[Parallel(n_jobs=6)]: Done 438 tasks      | elapsed:  4.0min\n",
      "[Parallel(n_jobs=6)]: Done 788 tasks      | elapsed:  7.1min\n",
      "[Parallel(n_jobs=6)]: Done 1238 tasks      | elapsed: 11.2min\n",
      "[Parallel(n_jobs=6)]: Done 1788 tasks      | elapsed: 16.1min\n",
      "[Parallel(n_jobs=6)]: Done 2438 tasks      | elapsed: 22.0min\n",
      "[Parallel(n_jobs=6)]: Done 3188 tasks      | elapsed: 28.6min\n",
      "[Parallel(n_jobs=6)]: Done 4038 tasks      | elapsed: 36.1min\n",
      "[Parallel(n_jobs=6)]: Done 4988 tasks      | elapsed: 44.0min\n",
      "[Parallel(n_jobs=6)]: Done 6038 tasks      | elapsed: 52.6min\n",
      "[Parallel(n_jobs=6)]: Done 7188 tasks      | elapsed: 62.2min\n",
      "[Parallel(n_jobs=6)]: Done 8438 tasks      | elapsed: 72.7min\n",
      "[Parallel(n_jobs=6)]: Done 9788 tasks      | elapsed: 83.9min\n",
      "[Parallel(n_jobs=6)]: Done 11238 tasks      | elapsed: 96.1min\n",
      "[Parallel(n_jobs=6)]: Done 12788 tasks      | elapsed: 109.1min\n",
      "[Parallel(n_jobs=6)]: Done 14438 tasks      | elapsed: 122.9min\n",
      "[Parallel(n_jobs=6)]: Done 16188 tasks      | elapsed: 137.7min\n",
      "[Parallel(n_jobs=6)]: Done 18038 tasks      | elapsed: 153.4min\n",
      "[Parallel(n_jobs=6)]: Done 19988 tasks      | elapsed: 170.0min\n",
      "[Parallel(n_jobs=6)]: Done 22038 tasks      | elapsed: 187.0min\n",
      "[Parallel(n_jobs=6)]: Done 22800 out of 22800 | elapsed: 193.3min finished\n"
     ]
    },
    {
     "name": "stdout",
     "output_type": "stream",
     "text": [
      "\n",
      "Best score for SVM with _equal_crime_and_business : 0.7309807389993858\n",
      "\n",
      "Best score for SVM with _equal_crime_and_business :\n",
      "memory : None\n",
      "steps : [('clf', SVR(C=14, degree=1, gamma=1))]\n",
      "verbose : False\n",
      "clf : SVR(C=14, degree=1, gamma=1)\n",
      "clf__C : 14\n",
      "clf__cache_size : 200\n",
      "clf__coef0 : 0.0\n",
      "clf__degree : 1\n",
      "clf__epsilon : 0.1\n",
      "clf__gamma : 1\n",
      "clf__kernel : rbf\n",
      "clf__max_iter : -1\n",
      "clf__shrinking : True\n",
      "clf__tol : 0.001\n",
      "clf__verbose : False\n",
      "\n",
      "Prediction scores for SVM using _equal_crime_and_business :\n",
      "Mean Squared error: 5.299125781314615\n",
      "Mean Absolute error: 1.3668889925648309\n",
      "R^2: 0.7281418447065932\n"
     ]
    },
    {
     "data": {
      "text/plain": [
       "({'memory': None,\n",
       "  'steps': [('clf', SVR(C=14, degree=1, gamma=1))],\n",
       "  'verbose': False,\n",
       "  'clf': SVR(C=14, degree=1, gamma=1),\n",
       "  'clf__C': 14,\n",
       "  'clf__cache_size': 200,\n",
       "  'clf__coef0': 0.0,\n",
       "  'clf__degree': 1,\n",
       "  'clf__epsilon': 0.1,\n",
       "  'clf__gamma': 1,\n",
       "  'clf__kernel': 'rbf',\n",
       "  'clf__max_iter': -1,\n",
       "  'clf__shrinking': True,\n",
       "  'clf__tol': 0.001,\n",
       "  'clf__verbose': False},\n",
       " 0.7309807389993858,\n",
       " 5.299125781314615,\n",
       " 1.3668889925648309,\n",
       " 0.7281418447065932)"
      ]
     },
     "execution_count": 19,
     "metadata": {},
     "output_type": "execute_result"
    }
   ],
   "source": [
    "support_vec(sel_methods[3], args, num_folds, is_sample)"
   ]
  },
  {
   "cell_type": "code",
   "execution_count": 34,
   "metadata": {},
   "outputs": [],
   "source": [
    "# Max gamma selected from range therefore further exploration required\n",
    "# Gamma range entended, degree and kernel set to 1 and rbf and c narrowed somewhat\n",
    "is_sample = True\n",
    "num_folds = 5\n",
    "args = {'clf__C':(11,12,13,14,15,16,17,18,19,20),\n",
    "           'clf__degree':([1]),\n",
    "           'clf__gamma':('auto',1,2,3,4,5,6,7,8,9,10,15,20,25,30),\n",
    "           'clf__kernel':(['rbf'])}"
   ]
  },
  {
   "cell_type": "code",
   "execution_count": 35,
   "metadata": {},
   "outputs": [
    {
     "name": "stdout",
     "output_type": "stream",
     "text": [
      "\n",
      "\n",
      "Running cross fold validation for SVM with _equal_crime_and_business\n",
      "Fitting 5 folds for each of 150 candidates, totalling 750 fits\n"
     ]
    },
    {
     "name": "stderr",
     "output_type": "stream",
     "text": [
      "[Parallel(n_jobs=6)]: Using backend LokyBackend with 6 concurrent workers.\n",
      "[Parallel(n_jobs=6)]: Done  38 tasks      | elapsed:   23.9s\n",
      "[Parallel(n_jobs=6)]: Done 188 tasks      | elapsed:  1.9min\n",
      "[Parallel(n_jobs=6)]: Done 438 tasks      | elapsed:  4.6min\n",
      "[Parallel(n_jobs=6)]: Done 750 out of 750 | elapsed:  8.0min finished\n"
     ]
    },
    {
     "name": "stdout",
     "output_type": "stream",
     "text": [
      "\n",
      "Best score for SVM with _equal_crime_and_business : 0.7309807389993858\n",
      "\n",
      "Best score for SVM with _equal_crime_and_business :\n",
      "memory : None\n",
      "steps : [('clf', SVR(C=14, degree=1, gamma=1))]\n",
      "verbose : False\n",
      "clf : SVR(C=14, degree=1, gamma=1)\n",
      "clf__C : 14\n",
      "clf__cache_size : 200\n",
      "clf__coef0 : 0.0\n",
      "clf__degree : 1\n",
      "clf__epsilon : 0.1\n",
      "clf__gamma : 1\n",
      "clf__kernel : rbf\n",
      "clf__max_iter : -1\n",
      "clf__shrinking : True\n",
      "clf__tol : 0.001\n",
      "clf__verbose : False\n",
      "\n",
      "Prediction scores for SVM using _equal_crime_and_business :\n",
      "Mean Squared error: 5.299125781314615\n",
      "Mean Absolute error: 1.3668889925648309\n",
      "R^2: 0.7281418447065932\n"
     ]
    }
   ],
   "source": [
    "equal_best_args, equal_train_score, equal_mse, equal_mae, equal_r2 = support_vec(sel_methods[3], args, num_folds, is_sample)"
   ]
  },
  {
   "cell_type": "code",
   "execution_count": 47,
   "metadata": {},
   "outputs": [],
   "source": [
    "# Identical c and gamma, 10 fold validation to confirm\n",
    "is_sample = False\n",
    "num_folds = 10\n",
    "args = {'clf__C':(11,12,13,14,15,16,17,18,19,20),\n",
    "           'clf__degree':([1]),\n",
    "           'clf__gamma':('auto',1,2,3,4,5,6,7,8,9,10,15,20,25,30),\n",
    "           'clf__kernel':(['rbf'])}"
   ]
  },
  {
   "cell_type": "code",
   "execution_count": 48,
   "metadata": {
    "scrolled": false
   },
   "outputs": [
    {
     "name": "stdout",
     "output_type": "stream",
     "text": [
      "\n",
      "\n",
      "Running cross fold validation for SVM with _equal_crime_and_business\n",
      "Fitting 10 folds for each of 150 candidates, totalling 1500 fits\n"
     ]
    },
    {
     "name": "stderr",
     "output_type": "stream",
     "text": [
      "[Parallel(n_jobs=6)]: Using backend LokyBackend with 6 concurrent workers.\n",
      "[Parallel(n_jobs=6)]: Done  38 tasks      | elapsed:  9.7min\n",
      "[Parallel(n_jobs=6)]: Done 188 tasks      | elapsed: 45.9min\n",
      "[Parallel(n_jobs=6)]: Done 438 tasks      | elapsed: 108.0min\n",
      "[Parallel(n_jobs=6)]: Done 788 tasks      | elapsed: 195.6min\n",
      "[Parallel(n_jobs=6)]: Done 1238 tasks      | elapsed: 311.0min\n",
      "[Parallel(n_jobs=6)]: Done 1500 out of 1500 | elapsed: 379.9min finished\n"
     ]
    },
    {
     "name": "stdout",
     "output_type": "stream",
     "text": [
      "\n",
      "Best score for SVM with _equal_crime_and_business : 0.7258499383649648\n",
      "\n",
      "Best score for SVM with _equal_crime_and_business :\n",
      "memory : None\n",
      "steps : [('clf', SVR(C=11, degree=1, gamma=1))]\n",
      "verbose : False\n",
      "clf : SVR(C=11, degree=1, gamma=1)\n",
      "clf__C : 11\n",
      "clf__cache_size : 200\n",
      "clf__coef0 : 0.0\n",
      "clf__degree : 1\n",
      "clf__epsilon : 0.1\n",
      "clf__gamma : 1\n",
      "clf__kernel : rbf\n",
      "clf__max_iter : -1\n",
      "clf__shrinking : True\n",
      "clf__tol : 0.001\n",
      "clf__verbose : False\n",
      "\n",
      "Prediction scores for SVM using _equal_crime_and_business :\n",
      "Mean Squared error: 5.238130036713643\n",
      "Mean Absolute error: 1.3605291511960949\n",
      "R^2: 0.731271076072725\n"
     ]
    }
   ],
   "source": [
    "equal_best_args, equal_train_score, equal_mse, equal_mae, equal_r2 = support_vec(sel_methods[3], args, num_folds, is_sample)"
   ]
  },
  {
   "cell_type": "markdown",
   "metadata": {},
   "source": [
    "<h3> Retrain on revised dataset <h3>"
   ]
  },
  {
   "cell_type": "code",
   "execution_count": 5,
   "metadata": {},
   "outputs": [],
   "source": [
    "# test and train method which uses the revised dataset\n",
    "def support_vec_revised(method, args, _cv, is_sample):\n",
    "    sample_string = ''\n",
    "    if (is_sample):\n",
    "        sample_string = '_sample'\n",
    "    y_train = pd.read_csv('y_train'+ sample_string + '_revised.csv')    \n",
    "    method_string = method\n",
    "    if (method == ''):\n",
    "        method_string = \"no feature selection\"\n",
    "    print('\\n\\nRunning cross fold validation for SVM with',method_string)\n",
    "    x_train = pd.read_csv('x_train' + method + sample_string + '_revised.csv').values\n",
    "    x_test = pd.read_csv('x_test' + method + '_revised.csv').values\n",
    "    pipe = Pipeline([('clf', svm.SVR())])\n",
    "    svm_grid = GridSearchCV(pipe, args, cv = _cv, verbose = 1, scoring = 'r2', n_jobs=6)\n",
    "    svm_grid.fit(x_train, y_train.values.ravel())\n",
    "    print('\\nBest score for SVM with',method_string,\":\",svm_grid.best_score_)\n",
    "    best_args = svm_grid.best_estimator_.get_params()\n",
    "    print('\\nBest score for SVM with',method_string,':')\n",
    "    for arg in best_args:\n",
    "        print(arg,\":\",best_args[arg])\n",
    "    y_test_predict = svm_grid.predict(x_test)\n",
    "    mse = mean_squared_error(y_test,y_test_predict)\n",
    "    mae = mean_absolute_error(y_test,y_test_predict)\n",
    "    r2 = r2_score(y_test,y_test_predict)\n",
    "    print('\\nPrediction scores for SVM using',method_string,':')\n",
    "    print('Mean Squared error:',mse)\n",
    "    print('Mean Absolute error:',mae)\n",
    "    print('R^2:',r2)\n",
    "    return best_args, svm_grid.best_score_,mse,mae,r2"
   ]
  },
  {
   "cell_type": "code",
   "execution_count": 15,
   "metadata": {},
   "outputs": [],
   "source": [
    "is_sample = True\n",
    "num_folds = 5\n",
    "args = {'clf__C':(11,12,13,14,15,16,17,18,19,20,21,22,23,24,25,26,27,28,29),\n",
    "           'clf__degree':(1,2,3,4,5),\n",
    "           'clf__gamma':('auto',0.01,0.1, 0.2, 0.3, 0.4, 0.5, 0.6, 0.7, 0.8, 0.9, 1),\n",
    "           'clf__kernel':('linear','poly','rbf','sigmoid')}"
   ]
  },
  {
   "cell_type": "code",
   "execution_count": 16,
   "metadata": {},
   "outputs": [
    {
     "name": "stdout",
     "output_type": "stream",
     "text": [
      "\n",
      "\n",
      "Running cross fold validation for SVM with _equal_crime_and_business\n",
      "Fitting 5 folds for each of 4560 candidates, totalling 22800 fits\n"
     ]
    },
    {
     "name": "stderr",
     "output_type": "stream",
     "text": [
      "[Parallel(n_jobs=6)]: Using backend LokyBackend with 6 concurrent workers.\n",
      "[Parallel(n_jobs=6)]: Done  38 tasks      | elapsed:   20.1s\n",
      "[Parallel(n_jobs=6)]: Done 188 tasks      | elapsed:  1.5min\n",
      "[Parallel(n_jobs=6)]: Done 438 tasks      | elapsed:  3.5min\n",
      "[Parallel(n_jobs=6)]: Done 788 tasks      | elapsed:  6.2min\n",
      "[Parallel(n_jobs=6)]: Done 1238 tasks      | elapsed:  9.8min\n",
      "[Parallel(n_jobs=6)]: Done 1788 tasks      | elapsed: 14.3min\n",
      "[Parallel(n_jobs=6)]: Done 2438 tasks      | elapsed: 19.7min\n",
      "[Parallel(n_jobs=6)]: Done 3188 tasks      | elapsed: 25.6min\n",
      "[Parallel(n_jobs=6)]: Done 4038 tasks      | elapsed: 32.7min\n",
      "[Parallel(n_jobs=6)]: Done 4988 tasks      | elapsed: 40.3min\n",
      "[Parallel(n_jobs=6)]: Done 6038 tasks      | elapsed: 48.9min\n",
      "[Parallel(n_jobs=6)]: Done 7188 tasks      | elapsed: 58.5min\n",
      "[Parallel(n_jobs=6)]: Done 8438 tasks      | elapsed: 68.3min\n",
      "[Parallel(n_jobs=6)]: Done 9788 tasks      | elapsed: 78.6min\n",
      "[Parallel(n_jobs=6)]: Done 11238 tasks      | elapsed: 90.5min\n",
      "[Parallel(n_jobs=6)]: Done 12788 tasks      | elapsed: 102.8min\n",
      "[Parallel(n_jobs=6)]: Done 14438 tasks      | elapsed: 115.5min\n",
      "[Parallel(n_jobs=6)]: Done 16188 tasks      | elapsed: 128.9min\n",
      "[Parallel(n_jobs=6)]: Done 18038 tasks      | elapsed: 143.2min\n",
      "[Parallel(n_jobs=6)]: Done 19988 tasks      | elapsed: 158.1min\n",
      "[Parallel(n_jobs=6)]: Done 22038 tasks      | elapsed: 174.0min\n",
      "[Parallel(n_jobs=6)]: Done 22800 out of 22800 | elapsed: 179.9min finished\n"
     ]
    },
    {
     "name": "stdout",
     "output_type": "stream",
     "text": [
      "\n",
      "Best score for SVM with _equal_crime_and_business : 0.7311490536736256\n",
      "\n",
      "Best score for SVM with _equal_crime_and_business :\n",
      "memory : None\n",
      "steps : [('clf', SVR(C=18, degree=1, gamma=0.7))]\n",
      "verbose : False\n",
      "clf : SVR(C=18, degree=1, gamma=0.7)\n",
      "clf__C : 18\n",
      "clf__cache_size : 200\n",
      "clf__coef0 : 0.0\n",
      "clf__degree : 1\n",
      "clf__epsilon : 0.1\n",
      "clf__gamma : 0.7\n",
      "clf__kernel : rbf\n",
      "clf__max_iter : -1\n",
      "clf__shrinking : True\n",
      "clf__tol : 0.001\n",
      "clf__verbose : False\n",
      "\n",
      "Prediction scores for SVM using _equal_crime_and_business :\n",
      "Mean Squared error: 5.2836948305182885\n",
      "Mean Absolute error: 1.3655537843221592\n",
      "R^2: 0.728933490346088\n"
     ]
    }
   ],
   "source": [
    "equal_best_args, equal_train_score, equal_mse, equal_mae, equal_r2 = support_vec_revised(sel_methods[3], args, num_folds, is_sample)"
   ]
  },
  {
   "cell_type": "code",
   "execution_count": 20,
   "metadata": {},
   "outputs": [],
   "source": [
    "# explore hyperparameters further\n",
    "is_sample = True\n",
    "num_folds = 10\n",
    "args = {'clf__C':(15,16,17,18,19,20,21),\n",
    "           'clf__degree':(1,2,3),\n",
    "           'clf__gamma':('auto', 0.5, 0.6, 0.7, 0.8, 0.9),\n",
    "           'clf__kernel':(['rbf'])}"
   ]
  },
  {
   "cell_type": "code",
   "execution_count": 21,
   "metadata": {},
   "outputs": [
    {
     "name": "stdout",
     "output_type": "stream",
     "text": [
      "\n",
      "\n",
      "Running cross fold validation for SVM with _equal_crime_and_business\n",
      "Fitting 10 folds for each of 126 candidates, totalling 1260 fits\n"
     ]
    },
    {
     "name": "stderr",
     "output_type": "stream",
     "text": [
      "[Parallel(n_jobs=6)]: Using backend LokyBackend with 6 concurrent workers.\n",
      "[Parallel(n_jobs=6)]: Done  38 tasks      | elapsed:   29.4s\n",
      "[Parallel(n_jobs=6)]: Done 188 tasks      | elapsed:  2.1min\n",
      "[Parallel(n_jobs=6)]: Done 438 tasks      | elapsed:  4.9min\n",
      "[Parallel(n_jobs=6)]: Done 788 tasks      | elapsed:  8.8min\n",
      "[Parallel(n_jobs=6)]: Done 1238 tasks      | elapsed: 13.8min\n",
      "[Parallel(n_jobs=6)]: Done 1260 out of 1260 | elapsed: 14.0min finished\n"
     ]
    },
    {
     "name": "stdout",
     "output_type": "stream",
     "text": [
      "\n",
      "Best score for SVM with _equal_crime_and_business : 0.7323513078174153\n",
      "\n",
      "Best score for SVM with _equal_crime_and_business :\n",
      "memory : None\n",
      "steps : [('clf', SVR(C=19, degree=1, gamma=0.9))]\n",
      "verbose : False\n",
      "clf : SVR(C=19, degree=1, gamma=0.9)\n",
      "clf__C : 19\n",
      "clf__cache_size : 200\n",
      "clf__coef0 : 0.0\n",
      "clf__degree : 1\n",
      "clf__epsilon : 0.1\n",
      "clf__gamma : 0.9\n",
      "clf__kernel : rbf\n",
      "clf__max_iter : -1\n",
      "clf__shrinking : True\n",
      "clf__tol : 0.001\n",
      "clf__verbose : False\n",
      "\n",
      "Prediction scores for SVM using _equal_crime_and_business :\n",
      "Mean Squared error: 5.306180087400236\n",
      "Mean Absolute error: 1.367457248746083\n",
      "R^2: 0.7277799414949211\n"
     ]
    }
   ],
   "source": [
    "equal_best_args, equal_train_score, equal_mse, equal_mae, equal_r2 = support_vec_revised(sel_methods[3], args, num_folds, is_sample)"
   ]
  },
  {
   "cell_type": "code",
   "execution_count": 24,
   "metadata": {},
   "outputs": [],
   "source": [
    "# gamma fine tuned further\n",
    "is_sample = True\n",
    "num_folds = 10\n",
    "args = {'clf__C':(15,16,17,18,19,20,21),\n",
    "           'clf__degree':(1,2),\n",
    "           'clf__gamma':('auto', 0.8, 0.9,1,1.1,1.2,1.3,1.4,1.5),\n",
    "           'clf__kernel':(['rbf'])}"
   ]
  },
  {
   "cell_type": "code",
   "execution_count": 25,
   "metadata": {
    "scrolled": false
   },
   "outputs": [
    {
     "name": "stdout",
     "output_type": "stream",
     "text": [
      "\n",
      "\n",
      "Running cross fold validation for SVM with _equal_crime_and_business\n",
      "Fitting 10 folds for each of 126 candidates, totalling 1260 fits\n"
     ]
    },
    {
     "name": "stderr",
     "output_type": "stream",
     "text": [
      "[Parallel(n_jobs=6)]: Using backend LokyBackend with 6 concurrent workers.\n",
      "[Parallel(n_jobs=6)]: Done  38 tasks      | elapsed:   26.6s\n",
      "[Parallel(n_jobs=6)]: Done 188 tasks      | elapsed:  2.1min\n",
      "[Parallel(n_jobs=6)]: Done 438 tasks      | elapsed:  4.8min\n",
      "[Parallel(n_jobs=6)]: Done 788 tasks      | elapsed:  8.7min\n",
      "[Parallel(n_jobs=6)]: Done 1238 tasks      | elapsed: 13.6min\n",
      "[Parallel(n_jobs=6)]: Done 1260 out of 1260 | elapsed: 13.8min finished\n"
     ]
    },
    {
     "name": "stdout",
     "output_type": "stream",
     "text": [
      "\n",
      "Best score for SVM with _equal_crime_and_business : 0.7324356685566066\n",
      "\n",
      "Best score for SVM with _equal_crime_and_business :\n",
      "memory : None\n",
      "steps : [('clf', SVR(C=17, degree=1, gamma=1))]\n",
      "verbose : False\n",
      "clf : SVR(C=17, degree=1, gamma=1)\n",
      "clf__C : 17\n",
      "clf__cache_size : 200\n",
      "clf__coef0 : 0.0\n",
      "clf__degree : 1\n",
      "clf__epsilon : 0.1\n",
      "clf__gamma : 1\n",
      "clf__kernel : rbf\n",
      "clf__max_iter : -1\n",
      "clf__shrinking : True\n",
      "clf__tol : 0.001\n",
      "clf__verbose : False\n",
      "\n",
      "Prediction scores for SVM using _equal_crime_and_business :\n",
      "Mean Squared error: 5.31131723113556\n",
      "Mean Absolute error: 1.3678134755786855\n",
      "R^2: 0.7275163934160498\n"
     ]
    }
   ],
   "source": [
    "equal_best_args, equal_train_score, equal_mse, equal_mae, equal_r2 = support_vec_revised(sel_methods[3], args, num_folds, is_sample)"
   ]
  },
  {
   "cell_type": "code",
   "execution_count": 33,
   "metadata": {},
   "outputs": [],
   "source": [
    "# method for saving model using revised dataset\n",
    "def support_vec_save_model_revised(method, args, _cv, is_sample):\n",
    "    sample_string = ''\n",
    "    if (is_sample):\n",
    "        sample_string = '_sample'\n",
    "    y_train = pd.read_csv('y_train'+ sample_string + '_revised.csv')    \n",
    "    method_string = method\n",
    "    if (method == ''):\n",
    "        method_string = \"no feature selection\"\n",
    "    x_train = pd.read_csv('x_train' + method + sample_string + '_revised.csv').values\n",
    "    x_test = pd.read_csv('x_test' + method + '_revised.csv').values\n",
    "    pipe = Pipeline([('clf', svm.SVR())])\n",
    "    svm_grid = GridSearchCV(pipe, args, cv = _cv, verbose = 1, scoring = 'r2', n_jobs=6)\n",
    "    svm_grid.fit(x_train, y_train.values.ravel())\n",
    "    best_args = svm_grid.best_estimator_.get_params()\n",
    "    for arg in best_args:\n",
    "        print(arg,\":\",best_args[arg])\n",
    "    y_test_predict = svm_grid.predict(x_test)\n",
    "    mse = mean_squared_error(y_test,y_test_predict)\n",
    "    mae = mean_absolute_error(y_test,y_test_predict)\n",
    "    r2 = r2_score(y_test,y_test_predict)\n",
    "    with open('CrimeGUI/Models/svm'+method,'wb') as file:\n",
    "        pickle.dump(svm_grid.best_estimator_,file)\n",
    "    return best_args, svm_grid.best_score_,mse,mae,r2"
   ]
  },
  {
   "cell_type": "code",
   "execution_count": 34,
   "metadata": {},
   "outputs": [
    {
     "name": "stdout",
     "output_type": "stream",
     "text": [
      "Fitting 10 folds for each of 1 candidates, totalling 10 fits\n"
     ]
    },
    {
     "name": "stderr",
     "output_type": "stream",
     "text": [
      "[Parallel(n_jobs=6)]: Using backend LokyBackend with 6 concurrent workers.\n",
      "[Parallel(n_jobs=6)]: Done  10 out of  10 | elapsed:  2.4min remaining:    0.0s\n",
      "[Parallel(n_jobs=6)]: Done  10 out of  10 | elapsed:  2.4min finished\n"
     ]
    },
    {
     "name": "stdout",
     "output_type": "stream",
     "text": [
      "memory : None\n",
      "steps : [('clf', SVR(C=17, degree=1, gamma=1))]\n",
      "verbose : False\n",
      "clf : SVR(C=17, degree=1, gamma=1)\n",
      "clf__C : 17\n",
      "clf__cache_size : 200\n",
      "clf__coef0 : 0.0\n",
      "clf__degree : 1\n",
      "clf__epsilon : 0.1\n",
      "clf__gamma : 1\n",
      "clf__kernel : rbf\n",
      "clf__max_iter : -1\n",
      "clf__shrinking : True\n",
      "clf__tol : 0.001\n",
      "clf__verbose : False\n"
     ]
    }
   ],
   "source": [
    "# save model\n",
    "is_sample = False\n",
    "num_folds = 10\n",
    "args = {'clf__C':([17]),\n",
    "           'clf__degree':([1]),\n",
    "           'clf__gamma':([1]),\n",
    "           'clf__kernel':(['rbf'])}\n",
    "equal_best_args, equal_train_score, equal_mse, equal_mae, equal_r2 = support_vec_save_model_revised(\n",
    "    sel_methods[3], args, num_folds, is_sample)"
   ]
  },
  {
   "cell_type": "markdown",
   "metadata": {},
   "source": [
    "<h3>All business feature selected dataset<h3>"
   ]
  },
  {
   "cell_type": "code",
   "execution_count": 20,
   "metadata": {},
   "outputs": [],
   "source": [
    "is_sample = True\n",
    "num_folds = 5\n",
    "args = {'clf__C':(11,12,13,14,15,16,17,18,19,20,21,22,23,24,25,26,27,28,29),\n",
    "           'clf__degree':(1,2,3,4,5),\n",
    "           'clf__gamma':('auto',0.01,0.1, 0.2, 0.3, 0.4, 0.5, 0.6, 0.7, 0.8, 0.9, 1),\n",
    "           'clf__kernel':('linear','poly','rbf','sigmoid')}"
   ]
  },
  {
   "cell_type": "code",
   "execution_count": 21,
   "metadata": {},
   "outputs": [
    {
     "name": "stdout",
     "output_type": "stream",
     "text": [
      "\n",
      "\n",
      "Running cross fold validation for SVM with _all_business\n",
      "Fitting 5 folds for each of 4560 candidates, totalling 22800 fits\n"
     ]
    },
    {
     "name": "stderr",
     "output_type": "stream",
     "text": [
      "[Parallel(n_jobs=6)]: Using backend LokyBackend with 6 concurrent workers.\n",
      "[Parallel(n_jobs=6)]: Done  38 tasks      | elapsed:   19.5s\n",
      "[Parallel(n_jobs=6)]: Done 188 tasks      | elapsed:  1.5min\n",
      "[Parallel(n_jobs=6)]: Done 438 tasks      | elapsed:  3.7min\n",
      "[Parallel(n_jobs=6)]: Done 788 tasks      | elapsed:  6.7min\n",
      "[Parallel(n_jobs=6)]: Done 1238 tasks      | elapsed: 10.6min\n",
      "[Parallel(n_jobs=6)]: Done 1788 tasks      | elapsed: 15.2min\n",
      "[Parallel(n_jobs=6)]: Done 2438 tasks      | elapsed: 20.8min\n",
      "[Parallel(n_jobs=6)]: Done 3188 tasks      | elapsed: 27.2min\n",
      "[Parallel(n_jobs=6)]: Done 4038 tasks      | elapsed: 34.5min\n",
      "[Parallel(n_jobs=6)]: Done 4988 tasks      | elapsed: 42.7min\n",
      "[Parallel(n_jobs=6)]: Done 6038 tasks      | elapsed: 51.8min\n",
      "[Parallel(n_jobs=6)]: Done 7188 tasks      | elapsed: 61.8min\n",
      "[Parallel(n_jobs=6)]: Done 8438 tasks      | elapsed: 72.7min\n",
      "[Parallel(n_jobs=6)]: Done 9788 tasks      | elapsed: 84.4min\n",
      "[Parallel(n_jobs=6)]: Done 11238 tasks      | elapsed: 97.0min\n",
      "[Parallel(n_jobs=6)]: Done 12788 tasks      | elapsed: 110.5min\n",
      "[Parallel(n_jobs=6)]: Done 14438 tasks      | elapsed: 125.0min\n",
      "[Parallel(n_jobs=6)]: Done 16188 tasks      | elapsed: 140.3min\n",
      "[Parallel(n_jobs=6)]: Done 18038 tasks      | elapsed: 156.7min\n",
      "[Parallel(n_jobs=6)]: Done 19988 tasks      | elapsed: 174.0min\n",
      "[Parallel(n_jobs=6)]: Done 22038 tasks      | elapsed: 192.3min\n",
      "[Parallel(n_jobs=6)]: Done 22800 out of 22800 | elapsed: 199.1min finished\n"
     ]
    },
    {
     "name": "stdout",
     "output_type": "stream",
     "text": [
      "\n",
      "Best score for SVM with _all_business : 0.45714616000241326\n",
      "\n",
      "Best score for SVM with _all_business :\n",
      "memory : None\n",
      "steps : [('clf', SVR(C=29, degree=1, gamma=1))]\n",
      "verbose : False\n",
      "clf : SVR(C=29, degree=1, gamma=1)\n",
      "clf__C : 29\n",
      "clf__cache_size : 200\n",
      "clf__coef0 : 0.0\n",
      "clf__degree : 1\n",
      "clf__epsilon : 0.1\n",
      "clf__gamma : 1\n",
      "clf__kernel : rbf\n",
      "clf__max_iter : -1\n",
      "clf__shrinking : True\n",
      "clf__tol : 0.001\n",
      "clf__verbose : False\n",
      "\n",
      "Prediction scores for SVM using _all_business :\n",
      "Mean Squared error: 10.278743860862496\n",
      "Mean Absolute error: 1.709541718505771\n",
      "R^2: 0.47267521850476246\n"
     ]
    },
    {
     "data": {
      "text/plain": [
       "({'memory': None,\n",
       "  'steps': [('clf', SVR(C=29, degree=1, gamma=1))],\n",
       "  'verbose': False,\n",
       "  'clf': SVR(C=29, degree=1, gamma=1),\n",
       "  'clf__C': 29,\n",
       "  'clf__cache_size': 200,\n",
       "  'clf__coef0': 0.0,\n",
       "  'clf__degree': 1,\n",
       "  'clf__epsilon': 0.1,\n",
       "  'clf__gamma': 1,\n",
       "  'clf__kernel': 'rbf',\n",
       "  'clf__max_iter': -1,\n",
       "  'clf__shrinking': True,\n",
       "  'clf__tol': 0.001,\n",
       "  'clf__verbose': False},\n",
       " 0.45714616000241326,\n",
       " 10.278743860862496,\n",
       " 1.709541718505771,\n",
       " 0.47267521850476246)"
      ]
     },
     "execution_count": 21,
     "metadata": {},
     "output_type": "execute_result"
    }
   ],
   "source": [
    "support_vec(sel_methods[4], args, num_folds, is_sample)"
   ]
  },
  {
   "cell_type": "code",
   "execution_count": 36,
   "metadata": {},
   "outputs": [],
   "source": [
    "# Max c and gamma selected from range therefore further exploration required\n",
    "# Degree and kernel set to 1 and rbf\n",
    "is_sample = True\n",
    "num_folds = 5\n",
    "args = {'clf__C':(29,30,31,32,33,34,35,40,45,50,55,60,65,70),\n",
    "           'clf__degree':([1]),\n",
    "           'clf__gamma':('auto',1,2,3,4,5,6,7,8,9,10,15,20,25,30),\n",
    "           'clf__kernel':(['rbf'])}"
   ]
  },
  {
   "cell_type": "code",
   "execution_count": 37,
   "metadata": {},
   "outputs": [
    {
     "name": "stdout",
     "output_type": "stream",
     "text": [
      "\n",
      "\n",
      "Running cross fold validation for SVM with _all_business\n",
      "Fitting 5 folds for each of 210 candidates, totalling 1050 fits\n"
     ]
    },
    {
     "name": "stderr",
     "output_type": "stream",
     "text": [
      "[Parallel(n_jobs=6)]: Using backend LokyBackend with 6 concurrent workers.\n",
      "[Parallel(n_jobs=6)]: Done  38 tasks      | elapsed:   26.2s\n",
      "[Parallel(n_jobs=6)]: Done 188 tasks      | elapsed:  2.0min\n",
      "[Parallel(n_jobs=6)]: Done 438 tasks      | elapsed:  4.7min\n",
      "[Parallel(n_jobs=6)]: Done 788 tasks      | elapsed:  8.5min\n",
      "[Parallel(n_jobs=6)]: Done 1050 out of 1050 | elapsed: 11.6min finished\n"
     ]
    },
    {
     "name": "stdout",
     "output_type": "stream",
     "text": [
      "\n",
      "Best score for SVM with _all_business : 0.5102364355648122\n",
      "\n",
      "Best score for SVM with _all_business :\n",
      "memory : None\n",
      "steps : [('clf', SVR(C=29, degree=1, gamma=30))]\n",
      "verbose : False\n",
      "clf : SVR(C=29, degree=1, gamma=30)\n",
      "clf__C : 29\n",
      "clf__cache_size : 200\n",
      "clf__coef0 : 0.0\n",
      "clf__degree : 1\n",
      "clf__epsilon : 0.1\n",
      "clf__gamma : 30\n",
      "clf__kernel : rbf\n",
      "clf__max_iter : -1\n",
      "clf__shrinking : True\n",
      "clf__tol : 0.001\n",
      "clf__verbose : False\n",
      "\n",
      "Prediction scores for SVM using _all_business :\n",
      "Mean Squared error: 9.147343403932124\n",
      "Mean Absolute error: 1.6315447221667472\n",
      "R^2: 0.5307188381153359\n"
     ]
    }
   ],
   "source": [
    "bus_best_args, bus_train_score, bus_mse, bus_mae, bus_r2 = support_vec(sel_methods[4], args, num_folds, is_sample)"
   ]
  },
  {
   "cell_type": "code",
   "execution_count": 45,
   "metadata": {},
   "outputs": [],
   "source": [
    "# C selections remained same, max gamma chosen again, max gamma range extended further\n",
    "# Degree and kernel set to 1 and rbf\n",
    "is_sample = True\n",
    "num_folds = 5\n",
    "args = {'clf__C':(27,28,29,30,31),\n",
    "           'clf__degree':([1]),\n",
    "           'clf__gamma':('auto',25,30,35,40,45,50,60,70,80,90,100),\n",
    "           'clf__kernel':(['rbf'])}"
   ]
  },
  {
   "cell_type": "code",
   "execution_count": 46,
   "metadata": {},
   "outputs": [
    {
     "name": "stdout",
     "output_type": "stream",
     "text": [
      "\n",
      "\n",
      "Running cross fold validation for SVM with _all_business\n",
      "Fitting 5 folds for each of 60 candidates, totalling 300 fits\n"
     ]
    },
    {
     "name": "stderr",
     "output_type": "stream",
     "text": [
      "[Parallel(n_jobs=6)]: Using backend LokyBackend with 6 concurrent workers.\n",
      "[Parallel(n_jobs=6)]: Done  38 tasks      | elapsed:   27.0s\n",
      "[Parallel(n_jobs=6)]: Done 188 tasks      | elapsed:  2.2min\n",
      "[Parallel(n_jobs=6)]: Done 300 out of 300 | elapsed:  3.4min finished\n"
     ]
    },
    {
     "name": "stdout",
     "output_type": "stream",
     "text": [
      "\n",
      "Best score for SVM with _all_business : 0.524463120299917\n",
      "\n",
      "Best score for SVM with _all_business :\n",
      "memory : None\n",
      "steps : [('clf', SVR(C=27, degree=1, gamma=100))]\n",
      "verbose : False\n",
      "clf : SVR(C=27, degree=1, gamma=100)\n",
      "clf__C : 27\n",
      "clf__cache_size : 200\n",
      "clf__coef0 : 0.0\n",
      "clf__degree : 1\n",
      "clf__epsilon : 0.1\n",
      "clf__gamma : 100\n",
      "clf__kernel : rbf\n",
      "clf__max_iter : -1\n",
      "clf__shrinking : True\n",
      "clf__tol : 0.001\n",
      "clf__verbose : False\n",
      "\n",
      "Prediction scores for SVM using _all_business :\n",
      "Mean Squared error: 9.272104208042249\n",
      "Mean Absolute error: 1.6405573645297156\n",
      "R^2: 0.5243183027330853\n"
     ]
    }
   ],
   "source": [
    "bus_best_args, bus_train_score, bus_mse, bus_mae, bus_r2 = support_vec(sel_methods[4], args, num_folds, is_sample)"
   ]
  },
  {
   "cell_type": "code",
   "execution_count": 49,
   "metadata": {},
   "outputs": [],
   "source": [
    "# C and gamma continue to vary but accuracy gain is minimal\n",
    "# 10 fold validation to select most accurate\n",
    "is_sample = False\n",
    "num_folds = 10\n",
    "args = {'clf__C':(26,27,28,29,30,31,32),\n",
    "           'clf__degree':([1]),\n",
    "           'clf__gamma':('auto',30,40,50,60,70,80,90,100),\n",
    "           'clf__kernel':(['rbf'])}"
   ]
  },
  {
   "cell_type": "code",
   "execution_count": 50,
   "metadata": {},
   "outputs": [
    {
     "name": "stdout",
     "output_type": "stream",
     "text": [
      "\n",
      "\n",
      "Running cross fold validation for SVM with _all_business\n",
      "Fitting 10 folds for each of 63 candidates, totalling 630 fits\n"
     ]
    },
    {
     "name": "stderr",
     "output_type": "stream",
     "text": [
      "[Parallel(n_jobs=6)]: Using backend LokyBackend with 6 concurrent workers.\n",
      "[Parallel(n_jobs=6)]: Done  38 tasks      | elapsed: 11.3min\n",
      "[Parallel(n_jobs=6)]: Done 188 tasks      | elapsed: 54.8min\n",
      "[Parallel(n_jobs=6)]: Done 438 tasks      | elapsed: 128.3min\n",
      "[Parallel(n_jobs=6)]: Done 630 out of 630 | elapsed: 190.0min finished\n"
     ]
    },
    {
     "name": "stdout",
     "output_type": "stream",
     "text": [
      "\n",
      "Best score for SVM with _all_business : 0.5530674369081444\n",
      "\n",
      "Best score for SVM with _all_business :\n",
      "memory : None\n",
      "steps : [('clf', SVR(C=30, degree=1, gamma=100))]\n",
      "verbose : False\n",
      "clf : SVR(C=30, degree=1, gamma=100)\n",
      "clf__C : 30\n",
      "clf__cache_size : 200\n",
      "clf__coef0 : 0.0\n",
      "clf__degree : 1\n",
      "clf__epsilon : 0.1\n",
      "clf__gamma : 100\n",
      "clf__kernel : rbf\n",
      "clf__max_iter : -1\n",
      "clf__shrinking : True\n",
      "clf__tol : 0.001\n",
      "clf__verbose : False\n",
      "\n",
      "Prediction scores for SVM using _all_business :\n",
      "Mean Squared error: 8.711871518311668\n",
      "Mean Absolute error: 1.6030613847950792\n",
      "R^2: 0.5530596143853321\n"
     ]
    }
   ],
   "source": [
    "bus_best_args, bus_train_score, bus_mse, bus_mae, bus_r2 = support_vec(sel_methods[4], args, num_folds, is_sample)"
   ]
  },
  {
   "cell_type": "code",
   "execution_count": 102,
   "metadata": {
    "scrolled": false
   },
   "outputs": [
    {
     "name": "stdout",
     "output_type": "stream",
     "text": [
      "Fitting 10 folds for each of 1 candidates, totalling 10 fits\n"
     ]
    },
    {
     "name": "stderr",
     "output_type": "stream",
     "text": [
      "[Parallel(n_jobs=6)]: Using backend LokyBackend with 6 concurrent workers.\n",
      "[Parallel(n_jobs=6)]: Done  10 out of  10 | elapsed:  3.4min remaining:    0.0s\n",
      "[Parallel(n_jobs=6)]: Done  10 out of  10 | elapsed:  3.4min finished\n"
     ]
    },
    {
     "name": "stdout",
     "output_type": "stream",
     "text": [
      "memory : None\n",
      "steps : [('clf', SVR(C=30, degree=1, gamma=100))]\n",
      "verbose : False\n",
      "clf : SVR(C=30, degree=1, gamma=100)\n",
      "clf__C : 30\n",
      "clf__cache_size : 200\n",
      "clf__coef0 : 0.0\n",
      "clf__degree : 1\n",
      "clf__epsilon : 0.1\n",
      "clf__gamma : 100\n",
      "clf__kernel : rbf\n",
      "clf__max_iter : -1\n",
      "clf__shrinking : True\n",
      "clf__tol : 0.001\n",
      "clf__verbose : False\n"
     ]
    }
   ],
   "source": [
    "# save model\n",
    "is_sample = False\n",
    "num_folds = 10\n",
    "args = {'clf__C':([30]),\n",
    "           'clf__degree':([1]),\n",
    "           'clf__gamma':([100]),\n",
    "           'clf__kernel':(['rbf'])}\n",
    "bus_best_args, bus_train_score, bus_mse, bus_mae, bus_r2 = support_vec_save_model(\n",
    "    sel_methods[4], args, num_folds, is_sample)"
   ]
  },
  {
   "cell_type": "markdown",
   "metadata": {},
   "source": [
    "<h3> Retrain on revised dataset <h3>"
   ]
  },
  {
   "cell_type": "code",
   "execution_count": 17,
   "metadata": {},
   "outputs": [],
   "source": [
    "is_sample = True\n",
    "num_folds = 5\n",
    "args = {'clf__C':(11,12,13,14,15,16,17,18,19,20,21,22,23,24,25,26,27,28,29),\n",
    "           'clf__degree':(1,2,3,4,5),\n",
    "           'clf__gamma':('auto',0.01,0.1, 0.2, 0.3, 0.4, 0.5, 0.6, 0.7, 0.8, 0.9, 1),\n",
    "           'clf__kernel':('linear','poly','rbf','sigmoid')}"
   ]
  },
  {
   "cell_type": "code",
   "execution_count": 18,
   "metadata": {},
   "outputs": [
    {
     "name": "stdout",
     "output_type": "stream",
     "text": [
      "\n",
      "\n",
      "Running cross fold validation for SVM with _all_business\n",
      "Fitting 5 folds for each of 4560 candidates, totalling 22800 fits\n"
     ]
    },
    {
     "name": "stderr",
     "output_type": "stream",
     "text": [
      "[Parallel(n_jobs=6)]: Using backend LokyBackend with 6 concurrent workers.\n",
      "[Parallel(n_jobs=6)]: Done  38 tasks      | elapsed:   18.5s\n",
      "[Parallel(n_jobs=6)]: Done 188 tasks      | elapsed:  1.4min\n",
      "[Parallel(n_jobs=6)]: Done 438 tasks      | elapsed:  3.5min\n",
      "[Parallel(n_jobs=6)]: Done 788 tasks      | elapsed:  6.2min\n",
      "[Parallel(n_jobs=6)]: Done 1238 tasks      | elapsed:  9.9min\n",
      "[Parallel(n_jobs=6)]: Done 1788 tasks      | elapsed: 14.2min\n",
      "[Parallel(n_jobs=6)]: Done 2438 tasks      | elapsed: 19.5min\n",
      "[Parallel(n_jobs=6)]: Done 3188 tasks      | elapsed: 25.5min\n",
      "[Parallel(n_jobs=6)]: Done 4038 tasks      | elapsed: 32.5min\n",
      "[Parallel(n_jobs=6)]: Done 4988 tasks      | elapsed: 40.3min\n",
      "[Parallel(n_jobs=6)]: Done 6038 tasks      | elapsed: 49.1min\n",
      "[Parallel(n_jobs=6)]: Done 7188 tasks      | elapsed: 58.9min\n",
      "[Parallel(n_jobs=6)]: Done 8438 tasks      | elapsed: 69.6min\n",
      "[Parallel(n_jobs=6)]: Done 9788 tasks      | elapsed: 80.9min\n",
      "[Parallel(n_jobs=6)]: Done 11238 tasks      | elapsed: 93.2min\n",
      "[Parallel(n_jobs=6)]: Done 12788 tasks      | elapsed: 106.5min\n",
      "[Parallel(n_jobs=6)]: Done 14438 tasks      | elapsed: 120.4min\n",
      "[Parallel(n_jobs=6)]: Done 16188 tasks      | elapsed: 135.1min\n",
      "[Parallel(n_jobs=6)]: Done 18038 tasks      | elapsed: 150.7min\n",
      "[Parallel(n_jobs=6)]: Done 19988 tasks      | elapsed: 167.1min\n",
      "[Parallel(n_jobs=6)]: Done 22038 tasks      | elapsed: 184.5min\n",
      "[Parallel(n_jobs=6)]: Done 22800 out of 22800 | elapsed: 191.0min finished\n"
     ]
    },
    {
     "name": "stdout",
     "output_type": "stream",
     "text": [
      "\n",
      "Best score for SVM with _all_business : 0.4638343590960245\n",
      "\n",
      "Best score for SVM with _all_business :\n",
      "memory : None\n",
      "steps : [('clf', SVR(C=29, degree=1, gamma=1))]\n",
      "verbose : False\n",
      "clf : SVR(C=29, degree=1, gamma=1)\n",
      "clf__C : 29\n",
      "clf__cache_size : 200\n",
      "clf__coef0 : 0.0\n",
      "clf__degree : 1\n",
      "clf__epsilon : 0.1\n",
      "clf__gamma : 1\n",
      "clf__kernel : rbf\n",
      "clf__max_iter : -1\n",
      "clf__shrinking : True\n",
      "clf__tol : 0.001\n",
      "clf__verbose : False\n",
      "\n",
      "Prediction scores for SVM using _all_business :\n",
      "Mean Squared error: 10.301782437155536\n",
      "Mean Absolute error: 1.710376619772282\n",
      "R^2: 0.47149328301010085\n"
     ]
    }
   ],
   "source": [
    "bus_best_args, bus_train_score, bus_mse, bus_mae, bus_r2 = support_vec_revised(sel_methods[4], args, num_folds, is_sample)"
   ]
  },
  {
   "cell_type": "code",
   "execution_count": 22,
   "metadata": {},
   "outputs": [],
   "source": [
    "# Max c and gamma selected from range therefore further exploration required\n",
    "# Degree and kernel set to 1 and rbf\n",
    "is_sample = True\n",
    "num_folds = 5\n",
    "args = {'clf__C':(29,30,31,32,33,34,35,40,45,50,55,60,65,70),\n",
    "           'clf__degree':([1]),\n",
    "           'clf__gamma':('auto',1,2,3,4,5,6,7,8,9,10,15,20,25,30),\n",
    "           'clf__kernel':(['rbf'])}"
   ]
  },
  {
   "cell_type": "code",
   "execution_count": 23,
   "metadata": {},
   "outputs": [
    {
     "name": "stdout",
     "output_type": "stream",
     "text": [
      "\n",
      "\n",
      "Running cross fold validation for SVM with _all_business\n",
      "Fitting 5 folds for each of 210 candidates, totalling 1050 fits\n"
     ]
    },
    {
     "name": "stderr",
     "output_type": "stream",
     "text": [
      "[Parallel(n_jobs=6)]: Using backend LokyBackend with 6 concurrent workers.\n",
      "[Parallel(n_jobs=6)]: Done  38 tasks      | elapsed:   25.7s\n",
      "[Parallel(n_jobs=6)]: Done 188 tasks      | elapsed:  1.9min\n",
      "[Parallel(n_jobs=6)]: Done 438 tasks      | elapsed:  4.4min\n",
      "[Parallel(n_jobs=6)]: Done 788 tasks      | elapsed:  7.9min\n",
      "[Parallel(n_jobs=6)]: Done 1050 out of 1050 | elapsed: 10.6min finished\n"
     ]
    },
    {
     "name": "stdout",
     "output_type": "stream",
     "text": [
      "\n",
      "Best score for SVM with _all_business : 0.5078487312410337\n",
      "\n",
      "Best score for SVM with _all_business :\n",
      "memory : None\n",
      "steps : [('clf', SVR(C=29, degree=1, gamma=15))]\n",
      "verbose : False\n",
      "clf : SVR(C=29, degree=1, gamma=15)\n",
      "clf__C : 29\n",
      "clf__cache_size : 200\n",
      "clf__coef0 : 0.0\n",
      "clf__degree : 1\n",
      "clf__epsilon : 0.1\n",
      "clf__gamma : 15\n",
      "clf__kernel : rbf\n",
      "clf__max_iter : -1\n",
      "clf__shrinking : True\n",
      "clf__tol : 0.001\n",
      "clf__verbose : False\n",
      "\n",
      "Prediction scores for SVM using _all_business :\n",
      "Mean Squared error: 9.010868659694252\n",
      "Mean Absolute error: 1.6265138863921589\n",
      "R^2: 0.5377203273691811\n"
     ]
    }
   ],
   "source": [
    "bus_best_args, bus_train_score, bus_mse, bus_mae, bus_r2 = support_vec_revised(sel_methods[4], args, num_folds, is_sample)"
   ]
  },
  {
   "cell_type": "code",
   "execution_count": 31,
   "metadata": {},
   "outputs": [],
   "source": [
    "#Parameters stabalising, 10 fold validation to confirm\n",
    "is_sample = True\n",
    "num_folds = 10\n",
    "args = {'clf__C':(25,26,27,28,29,30,31,32,33,34),\n",
    "           'clf__degree':([1]),\n",
    "           'clf__gamma':('auto',11,12,13,14,15,16,17,18,19),\n",
    "           'clf__kernel':(['rbf'])}"
   ]
  },
  {
   "cell_type": "code",
   "execution_count": 32,
   "metadata": {},
   "outputs": [
    {
     "name": "stdout",
     "output_type": "stream",
     "text": [
      "\n",
      "\n",
      "Running cross fold validation for SVM with _all_business\n",
      "Fitting 10 folds for each of 100 candidates, totalling 1000 fits\n"
     ]
    },
    {
     "name": "stderr",
     "output_type": "stream",
     "text": [
      "[Parallel(n_jobs=6)]: Using backend LokyBackend with 6 concurrent workers.\n",
      "[Parallel(n_jobs=6)]: Done  38 tasks      | elapsed:   28.7s\n",
      "[Parallel(n_jobs=6)]: Done 188 tasks      | elapsed:  2.2min\n",
      "[Parallel(n_jobs=6)]: Done 438 tasks      | elapsed:  5.1min\n",
      "[Parallel(n_jobs=6)]: Done 788 tasks      | elapsed:  9.2min\n",
      "[Parallel(n_jobs=6)]: Done 1000 out of 1000 | elapsed: 11.7min finished\n"
     ]
    },
    {
     "name": "stdout",
     "output_type": "stream",
     "text": [
      "\n",
      "Best score for SVM with _all_business : 0.508965928342995\n",
      "\n",
      "Best score for SVM with _all_business :\n",
      "memory : None\n",
      "steps : [('clf', SVR(C=25, degree=1, gamma=19))]\n",
      "verbose : False\n",
      "clf : SVR(C=25, degree=1, gamma=19)\n",
      "clf__C : 25\n",
      "clf__cache_size : 200\n",
      "clf__coef0 : 0.0\n",
      "clf__degree : 1\n",
      "clf__epsilon : 0.1\n",
      "clf__gamma : 19\n",
      "clf__kernel : rbf\n",
      "clf__max_iter : -1\n",
      "clf__shrinking : True\n",
      "clf__tol : 0.001\n",
      "clf__verbose : False\n",
      "\n",
      "Prediction scores for SVM using _all_business :\n",
      "Mean Squared error: 8.980419470590482\n",
      "Mean Absolute error: 1.626669576591667\n",
      "R^2: 0.5392824454847993\n"
     ]
    }
   ],
   "source": [
    "bus_best_args, bus_train_score, bus_mse, bus_mae, bus_r2 = support_vec_revised(sel_methods[4], args, num_folds, is_sample)"
   ]
  },
  {
   "cell_type": "code",
   "execution_count": 35,
   "metadata": {},
   "outputs": [],
   "source": [
    "#Parameters stabalising, 10 fold validation to confirm\n",
    "is_sample = True\n",
    "num_folds = 10\n",
    "args = {'clf__C':(21,22,23,24,25,26,27,28,29),\n",
    "           'clf__degree':([1]),\n",
    "           'clf__gamma':('auto',16,17,18,19,20,21,22,23,24),\n",
    "           'clf__kernel':(['rbf'])}"
   ]
  },
  {
   "cell_type": "code",
   "execution_count": 36,
   "metadata": {},
   "outputs": [
    {
     "name": "stdout",
     "output_type": "stream",
     "text": [
      "\n",
      "\n",
      "Running cross fold validation for SVM with _all_business\n",
      "Fitting 10 folds for each of 90 candidates, totalling 900 fits\n"
     ]
    },
    {
     "name": "stderr",
     "output_type": "stream",
     "text": [
      "[Parallel(n_jobs=6)]: Using backend LokyBackend with 6 concurrent workers.\n",
      "[Parallel(n_jobs=6)]: Done  38 tasks      | elapsed:   28.6s\n",
      "[Parallel(n_jobs=6)]: Done 188 tasks      | elapsed:  2.2min\n",
      "[Parallel(n_jobs=6)]: Done 438 tasks      | elapsed:  5.1min\n",
      "[Parallel(n_jobs=6)]: Done 788 tasks      | elapsed:  9.2min\n",
      "[Parallel(n_jobs=6)]: Done 900 out of 900 | elapsed: 10.6min finished\n"
     ]
    },
    {
     "name": "stdout",
     "output_type": "stream",
     "text": [
      "\n",
      "Best score for SVM with _all_business : 0.510618208278001\n",
      "\n",
      "Best score for SVM with _all_business :\n",
      "memory : None\n",
      "steps : [('clf', SVR(C=22, degree=1, gamma=24))]\n",
      "verbose : False\n",
      "clf : SVR(C=22, degree=1, gamma=24)\n",
      "clf__C : 22\n",
      "clf__cache_size : 200\n",
      "clf__coef0 : 0.0\n",
      "clf__degree : 1\n",
      "clf__epsilon : 0.1\n",
      "clf__gamma : 24\n",
      "clf__kernel : rbf\n",
      "clf__max_iter : -1\n",
      "clf__shrinking : True\n",
      "clf__tol : 0.001\n",
      "clf__verbose : False\n",
      "\n",
      "Prediction scores for SVM using _all_business :\n",
      "Mean Squared error: 8.950371927035237\n",
      "Mean Absolute error: 1.6258486672937034\n",
      "R^2: 0.5408239581982417\n"
     ]
    }
   ],
   "source": [
    "bus_best_args, bus_train_score, bus_mse, bus_mae, bus_r2 = support_vec_revised(sel_methods[4], args, num_folds, is_sample)"
   ]
  },
  {
   "cell_type": "code",
   "execution_count": 37,
   "metadata": {},
   "outputs": [],
   "source": [
    "#Parameters stabalising, 10 fold validation to confirm\n",
    "is_sample = True\n",
    "num_folds = 10\n",
    "args = {'clf__C':(18,19,20,21,22,23,24),\n",
    "           'clf__degree':([1]),\n",
    "           'clf__gamma':('auto',21,22,23,24,25,26,27,28,29),\n",
    "           'clf__kernel':(['rbf'])}"
   ]
  },
  {
   "cell_type": "code",
   "execution_count": 38,
   "metadata": {},
   "outputs": [
    {
     "name": "stdout",
     "output_type": "stream",
     "text": [
      "\n",
      "\n",
      "Running cross fold validation for SVM with _all_business\n",
      "Fitting 10 folds for each of 70 candidates, totalling 700 fits\n"
     ]
    },
    {
     "name": "stderr",
     "output_type": "stream",
     "text": [
      "[Parallel(n_jobs=6)]: Using backend LokyBackend with 6 concurrent workers.\n",
      "[Parallel(n_jobs=6)]: Done  38 tasks      | elapsed:   30.5s\n",
      "[Parallel(n_jobs=6)]: Done 188 tasks      | elapsed:  2.4min\n",
      "[Parallel(n_jobs=6)]: Done 438 tasks      | elapsed:  5.3min\n",
      "[Parallel(n_jobs=6)]: Done 700 out of 700 | elapsed:  8.4min finished\n"
     ]
    },
    {
     "name": "stdout",
     "output_type": "stream",
     "text": [
      "\n",
      "Best score for SVM with _all_business : 0.5119157182416817\n",
      "\n",
      "Best score for SVM with _all_business :\n",
      "memory : None\n",
      "steps : [('clf', SVR(C=20, degree=1, gamma=29))]\n",
      "verbose : False\n",
      "clf : SVR(C=20, degree=1, gamma=29)\n",
      "clf__C : 20\n",
      "clf__cache_size : 200\n",
      "clf__coef0 : 0.0\n",
      "clf__degree : 1\n",
      "clf__epsilon : 0.1\n",
      "clf__gamma : 29\n",
      "clf__kernel : rbf\n",
      "clf__max_iter : -1\n",
      "clf__shrinking : True\n",
      "clf__tol : 0.001\n",
      "clf__verbose : False\n",
      "\n",
      "Prediction scores for SVM using _all_business :\n",
      "Mean Squared error: 8.918239821742533\n",
      "Mean Absolute error: 1.623897798458933\n",
      "R^2: 0.5424724140438022\n"
     ]
    }
   ],
   "source": [
    "bus_best_args, bus_train_score, bus_mse, bus_mae, bus_r2 = support_vec_revised(sel_methods[4], args, num_folds, is_sample)"
   ]
  },
  {
   "cell_type": "code",
   "execution_count": 39,
   "metadata": {},
   "outputs": [],
   "source": [
    "#Parameters stabalising, 10 fold validation to confirm\n",
    "is_sample = True\n",
    "num_folds = 10\n",
    "args = {'clf__C':(16,17,18,19,20,21,22,23,24),\n",
    "           'clf__degree':([1]),\n",
    "           'clf__gamma':('auto',25,26,27,28,29,30,31,32,33,34),\n",
    "           'clf__kernel':(['rbf'])}"
   ]
  },
  {
   "cell_type": "code",
   "execution_count": 40,
   "metadata": {},
   "outputs": [
    {
     "name": "stdout",
     "output_type": "stream",
     "text": [
      "\n",
      "\n",
      "Running cross fold validation for SVM with _all_business\n",
      "Fitting 10 folds for each of 99 candidates, totalling 990 fits\n"
     ]
    },
    {
     "name": "stderr",
     "output_type": "stream",
     "text": [
      "[Parallel(n_jobs=6)]: Using backend LokyBackend with 6 concurrent workers.\n",
      "[Parallel(n_jobs=6)]: Done  38 tasks      | elapsed:   28.6s\n",
      "[Parallel(n_jobs=6)]: Done 188 tasks      | elapsed:  2.2min\n",
      "[Parallel(n_jobs=6)]: Done 438 tasks      | elapsed:  5.2min\n",
      "[Parallel(n_jobs=6)]: Done 788 tasks      | elapsed:  9.6min\n",
      "[Parallel(n_jobs=6)]: Done 990 out of 990 | elapsed: 12.1min finished\n"
     ]
    },
    {
     "name": "stdout",
     "output_type": "stream",
     "text": [
      "\n",
      "Best score for SVM with _all_business : 0.5132975641084361\n",
      "\n",
      "Best score for SVM with _all_business :\n",
      "memory : None\n",
      "steps : [('clf', SVR(C=18, degree=1, gamma=34))]\n",
      "verbose : False\n",
      "clf : SVR(C=18, degree=1, gamma=34)\n",
      "clf__C : 18\n",
      "clf__cache_size : 200\n",
      "clf__coef0 : 0.0\n",
      "clf__degree : 1\n",
      "clf__epsilon : 0.1\n",
      "clf__gamma : 34\n",
      "clf__kernel : rbf\n",
      "clf__max_iter : -1\n",
      "clf__shrinking : True\n",
      "clf__tol : 0.001\n",
      "clf__verbose : False\n",
      "\n",
      "Prediction scores for SVM using _all_business :\n",
      "Mean Squared error: 8.892413297902143\n",
      "Mean Absolute error: 1.6224551810402685\n",
      "R^2: 0.5437973780885597\n"
     ]
    }
   ],
   "source": [
    "bus_best_args, bus_train_score, bus_mse, bus_mae, bus_r2 = support_vec_revised(sel_methods[4], args, num_folds, is_sample)"
   ]
  },
  {
   "cell_type": "code",
   "execution_count": 41,
   "metadata": {},
   "outputs": [
    {
     "name": "stdout",
     "output_type": "stream",
     "text": [
      "Fitting 10 folds for each of 1 candidates, totalling 10 fits\n"
     ]
    },
    {
     "name": "stderr",
     "output_type": "stream",
     "text": [
      "[Parallel(n_jobs=6)]: Using backend LokyBackend with 6 concurrent workers.\n",
      "[Parallel(n_jobs=6)]: Done  10 out of  10 | elapsed:  2.7min remaining:    0.0s\n",
      "[Parallel(n_jobs=6)]: Done  10 out of  10 | elapsed:  2.7min finished\n"
     ]
    },
    {
     "name": "stdout",
     "output_type": "stream",
     "text": [
      "memory : None\n",
      "steps : [('clf', SVR(C=18, degree=1, gamma=34))]\n",
      "verbose : False\n",
      "clf : SVR(C=18, degree=1, gamma=34)\n",
      "clf__C : 18\n",
      "clf__cache_size : 200\n",
      "clf__coef0 : 0.0\n",
      "clf__degree : 1\n",
      "clf__epsilon : 0.1\n",
      "clf__gamma : 34\n",
      "clf__kernel : rbf\n",
      "clf__max_iter : -1\n",
      "clf__shrinking : True\n",
      "clf__tol : 0.001\n",
      "clf__verbose : False\n"
     ]
    }
   ],
   "source": [
    "# save model\n",
    "is_sample = False\n",
    "num_folds = 10\n",
    "args = {'clf__C':([18]),\n",
    "           'clf__degree':([1]),\n",
    "           'clf__gamma':([34]),\n",
    "           'clf__kernel':(['rbf'])}\n",
    "bus_best_args, bus_train_score, bus_mse, bus_mae, bus_r2 = support_vec_save_model_revised(\n",
    "    sel_methods[4], args, num_folds, is_sample)"
   ]
  },
  {
   "cell_type": "markdown",
   "metadata": {},
   "source": [
    "<h3>Visualise scores<h3>"
   ]
  },
  {
   "cell_type": "code",
   "execution_count": 42,
   "metadata": {},
   "outputs": [],
   "source": [
    "training_scores = [f_reg_train_score, chi2_train_score, ada_train_score, equal_train_score, bus_train_score]\n",
    "mse_scores = [f_reg_mse, chi2_mse, ada_mse, equal_mse, bus_mse]\n",
    "mae_scores = [f_reg_mae, chi2_mae, ada_mae, equal_mae, bus_mae]\n",
    "r2_scores = [f_reg_r2, chi2_r2, ada_r2, equal_r2, bus_r2]"
   ]
  },
  {
   "cell_type": "code",
   "execution_count": 43,
   "metadata": {},
   "outputs": [],
   "source": [
    "datasets = [\"F-Regression\",\"Chi-Squared\",\"AdaBoost\",\"Equal Business\\nand Crime\",\"All Business\"]"
   ]
  },
  {
   "cell_type": "code",
   "execution_count": 44,
   "metadata": {},
   "outputs": [],
   "source": [
    "y_select = np.arange(len(datasets))"
   ]
  },
  {
   "cell_type": "code",
   "execution_count": 45,
   "metadata": {},
   "outputs": [
    {
     "data": {
      "text/plain": [
       "<BarContainer object of 5 artists>"
      ]
     },
     "execution_count": 45,
     "metadata": {},
     "output_type": "execute_result"
    },
    {
     "data": {
      "image/png": "[encoded data removed]",
      "text/plain": [
       "<Figure size 720x720 with 1 Axes>"
      ]
     },
     "metadata": {
      "needs_background": "light"
     },
     "output_type": "display_data"
    }
   ],
   "source": [
    "plt.figure(figsize = (10,10))\n",
    "plt.xticks(y_select,datasets)\n",
    "plt.title(\"SVM training score\")\n",
    "plt.xlabel(\"Dataset\")\n",
    "plt.ylabel(\"Training score (r-squared)\")\n",
    "plt.bar(y_select, training_scores)"
   ]
  },
  {
   "cell_type": "code",
   "execution_count": 46,
   "metadata": {},
   "outputs": [
    {
     "data": {
      "text/plain": [
       "<BarContainer object of 5 artists>"
      ]
     },
     "execution_count": 46,
     "metadata": {},
     "output_type": "execute_result"
    },
    {
     "data": {
      "image/png": "[encoded data removed]",
      "text/plain": [
       "<Figure size 720x720 with 1 Axes>"
      ]
     },
     "metadata": {
      "needs_background": "light"
     },
     "output_type": "display_data"
    }
   ],
   "source": [
    "plt.figure(figsize = (10,10))\n",
    "plt.xticks(y_select,datasets)\n",
    "plt.xlabel(\"Dataset\")\n",
    "plt.ylabel(\"Mean-squared error\")\n",
    "plt.title(\"SVM testing mean-squared error\")\n",
    "plt.bar(y_select, mse_scores)"
   ]
  },
  {
   "cell_type": "code",
   "execution_count": 47,
   "metadata": {},
   "outputs": [
    {
     "data": {
      "text/plain": [
       "<BarContainer object of 5 artists>"
      ]
     },
     "execution_count": 47,
     "metadata": {},
     "output_type": "execute_result"
    },
    {
     "data": {
      "image/png": "[encoded data removed]",
      "text/plain": [
       "<Figure size 720x720 with 1 Axes>"
      ]
     },
     "metadata": {
      "needs_background": "light"
     },
     "output_type": "display_data"
    }
   ],
   "source": [
    "plt.figure(figsize = (10,10))\n",
    "plt.xticks(y_select,datasets)\n",
    "plt.xlabel(\"Dataset\")\n",
    "plt.ylabel(\"Mean absolute error\")\n",
    "plt.title(\"SVM testing mean-absolute error\")\n",
    "plt.bar(y_select, mae_scores)"
   ]
  },
  {
   "cell_type": "code",
   "execution_count": 48,
   "metadata": {},
   "outputs": [
    {
     "data": {
      "text/plain": [
       "<BarContainer object of 5 artists>"
      ]
     },
     "execution_count": 48,
     "metadata": {},
     "output_type": "execute_result"
    },
    {
     "data": {
      "image/png": "[encoded data removed]",
      "text/plain": [
       "<Figure size 720x720 with 1 Axes>"
      ]
     },
     "metadata": {
      "needs_background": "light"
     },
     "output_type": "display_data"
    }
   ],
   "source": [
    "plt.figure(figsize = (10,10))\n",
    "plt.xticks(y_select,datasets)\n",
    "plt.xlabel(\"Dataset\")\n",
    "plt.ylabel(\"R-Squared Score\")\n",
    "plt.title(\"SVM testing r-squared scores\")\n",
    "plt.bar(y_select, r2_scores)"
   ]
  },
  {
   "cell_type": "code",
   "execution_count": null,
   "metadata": {},
   "outputs": [],
   "source": [
    "# f-regression dataset appears to perform best with SVM, closeley followed by Adaboost\n",
    "# All business dataset does not produce accurate results"
   ]
  }
 ],
 "metadata": {
  "kernelspec": {
   "display_name": "Python 3",
   "language": "python",
   "name": "python3"
  },
  "language_info": {
   "codemirror_mode": {
    "name": "ipython",
    "version": 3
   },
   "file_extension": ".py",
   "mimetype": "text/x-python",
   "name": "python",
   "nbconvert_exporter": "python",
   "pygments_lexer": "ipython3",
   "version": "3.9.0"
  }
 },
 "nbformat": 4,
 "nbformat_minor": 4
}
