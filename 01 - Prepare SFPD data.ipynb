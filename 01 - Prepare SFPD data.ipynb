{
 "cells": [
  {
   "cell_type": "code",
   "execution_count": 1,
   "metadata": {},
   "outputs": [],
   "source": [
    "import pandas as pd\n",
    "import math\n",
    "import numpy as np\n",
    "from shapely.geometry import Point, Polygon\n",
    "import copy\n",
    "import time"
   ]
  },
  {
   "cell_type": "code",
   "execution_count": 2,
   "metadata": {},
   "outputs": [],
   "source": [
    "def open_neighborhoods():\n",
    "    df = pd.read_csv('SF_neighborhoods.csv')\n",
    "    print(\"Neighborhoods dataset opened.\")\n",
    "    return df"
   ]
  },
  {
   "cell_type": "code",
   "execution_count": 3,
   "metadata": {},
   "outputs": [],
   "source": [
    "def get_neighborhoods(df):\n",
    "    neighborhoods = []\n",
    "    num_neighborhoods = len(df.index)\n",
    "    for x in range(0,num_neighborhoods):\n",
    "        neighborhoods.append(df.iloc[x,2])\n",
    "    return neighborhoods"
   ]
  },
  {
   "cell_type": "code",
   "execution_count": 4,
   "metadata": {},
   "outputs": [],
   "source": [
    "def generate_neighborhood_polygons(df):\n",
    "    neighborhoods = []\n",
    "    num_neighborhoods = len(df.index)\n",
    "    for x in range(0,num_neighborhoods):\n",
    "        raw_polygon_data = df.iloc[x,1]\n",
    "        neighborhood_polygon = generate_polygon(raw_polygon_data)\n",
    "        neighborhood_name = df.iloc[x,2]\n",
    "        neighborhood_tuple = (neighborhood_polygon,neighborhood_name)\n",
    "        neighborhoods.append(neighborhood_tuple)\n",
    "    return neighborhoods"
   ]
  },
  {
   "cell_type": "code",
   "execution_count": 5,
   "metadata": {},
   "outputs": [],
   "source": [
    "def generate_polygon(raw_polygon_data):\n",
    "    raw_polygon_data = raw_polygon_data[16:-3]\n",
    "    coords = ''\n",
    "    coords_list = []\n",
    "    for char in raw_polygon_data:\n",
    "        if char == ' ' or char == ',':\n",
    "            if coords != '':\n",
    "                coords_list.append(float(coords))\n",
    "            coords = ''\n",
    "        else:\n",
    "            coords = coords+char\n",
    "    coords_list.append(float(coords))\n",
    "    x = 0\n",
    "    tuple_list = []\n",
    "    while x < len(coords_list):\n",
    "        next_tuple = (coords_list[x+1],coords_list[x])\n",
    "        tuple_list.append(next_tuple)\n",
    "        x+=2\n",
    "    polygon = Polygon(tuple_list)\n",
    "    return polygon"
   ]
  },
  {
   "cell_type": "code",
   "execution_count": 6,
   "metadata": {},
   "outputs": [],
   "source": [
    "def open_sfpd_data():\n",
    "    df = pd.read_csv('SFPD_original.csv')\n",
    "    print(\"SFPD criminal incident dataset opened.\")\n",
    "    return df"
   ]
  },
  {
   "cell_type": "code",
   "execution_count": 7,
   "metadata": {},
   "outputs": [],
   "source": [
    "def remove_uncategorised_incidents(df):\n",
    "    #identify total number of records and remove uncategorised crimes\n",
    "    total_records = len(df.index)\n",
    "    categorised_crimes = df['Incident Category'].count()\n",
    "    uncategorised_crimes = total_records - categorised_crimes\n",
    "    print(\"Total records:\",total_records)\n",
    "    print(\"Incidents Categorised:\",categorised_crimes)\n",
    "    print(\"Incidents Uncategorised:\",uncategorised_crimes)\n",
    "    if uncategorised_crimes != 0:\n",
    "        #drop blank incident categories and recheck values\n",
    "        df = df.dropna(subset=['Incident Category'])\n",
    "        df = remove_uncategorised_incidents(df)\n",
    "    return df"
   ]
  },
  {
   "cell_type": "code",
   "execution_count": 8,
   "metadata": {},
   "outputs": [],
   "source": [
    "def remove_rows_with_missing_values(df):\n",
    "    print(\"Removing rows with missing values...\")\n",
    "    num_rows = len(df.index)\n",
    "    df = df.dropna()\n",
    "    new_num_rows = len(df.index)\n",
    "    rows_removed = num_rows - new_num_rows\n",
    "    print(rows_removed,\"rows removed\")\n",
    "    print(new_num_rows,\"rows remaining\")\n",
    "    return df"
   ]
  },
  {
   "cell_type": "code",
   "execution_count": 9,
   "metadata": {},
   "outputs": [],
   "source": [
    "def reset_indexes(df):\n",
    "    return df.reset_index(drop=True, inplace=True)"
   ]
  },
  {
   "cell_type": "code",
   "execution_count": 10,
   "metadata": {},
   "outputs": [],
   "source": [
    "def drop_unnecessary_columns(df):\n",
    "    df = df.drop(columns=['Report Datetime','Row ID', 'Incident ID',\n",
    "                          'Incident Number','CAD Number','Report Type Code',\n",
    "                          'Report Type Description', 'Filed Online',\n",
    "                          'Incident Code','Incident Subcategory',\n",
    "                          'Incident Description', 'Resolution', 'Intersection',\n",
    "                          'CNN','Police District','Analysis Neighborhood',\n",
    "                          'Supervisor District', 'point', 'SF Find Neighborhoods',\n",
    "                          'Current Police Districts', 'Current Supervisor Districts',\n",
    "                          'Analysis Neighborhoods','HSOC Zones as of 2018-06-05',\n",
    "                          'OWED Public Spaces',\n",
    "                          'Central Market/Tenderloin Boundary Polygon - Updated',\n",
    "                          'Parks Alliance CPSI (27+TL sites)','ESNCAG - Boundary File',\n",
    "                          'Areas of Vulnerability, 2016'])\n",
    "    return df"
   ]
  },
  {
   "cell_type": "code",
   "execution_count": 11,
   "metadata": {},
   "outputs": [],
   "source": [
    "def remove_rows_of_non_crime(df):\n",
    "    print(\"Removing crimes categorised as:\")\n",
    "    df = df.loc[~df['Incident Category'].str.contains('Case Closure')]\n",
    "    df = df.loc[~df['Incident Category'].str.contains('Courtesy Report')]\n",
    "    df = df.loc[~df['Incident Category'].str.contains('Lost Property')]\n",
    "    df = df.loc[~df['Incident Category'].str.contains('Missing Person')]\n",
    "    df = df.loc[~df['Incident Category'].str.contains('Non-Criminal')]\n",
    "    df = df.loc[~df['Incident Category'].str.contains('Suicide')]\n",
    "    df = df.loc[~df['Incident Category'].str.contains('Vehicle Misplaced')]\n",
    "    df = df.loc[~df['Incident Category'].str.contains('Warrant')]\n",
    "    print(len(df.index),\"rows remaining\")\n",
    "    return df"
   ]
  },
  {
   "cell_type": "code",
   "execution_count": 12,
   "metadata": {},
   "outputs": [],
   "source": [
    "def remove_crime_prior_to_uber_legislation_change(df):\n",
    "    df['Incident Date'] = pd.to_datetime(df['Incident Date'])\n",
    "    df = df[~(df['Incident Date'] < '2018-07-01')]\n",
    "    return df"
   ]
  },
  {
   "cell_type": "code",
   "execution_count": 13,
   "metadata": {},
   "outputs": [],
   "source": [
    "def convert_gps_to_neighborhood(df,neighborhood_polygons):\n",
    "    df['Neighborhood'] = np.nan\n",
    "    num_records = len(df.index)\n",
    "    for incident_num in range(0,num_records):\n",
    "        df.iloc[incident_num,8] = ''\n",
    "        shortest_distance = 999999999\n",
    "        closest_neighborhood = ''\n",
    "        latitude = float(df.iloc[incident_num,6])\n",
    "        longitude = float(df.iloc[incident_num,7])\n",
    "        point = Point(latitude,longitude)\n",
    "        for poly_tuple in neighborhood_polygons:\n",
    "            if poly_tuple[0].contains(point) or poly_tuple[0].touches(point):\n",
    "                df.iloc[incident_num,8] = poly_tuple[1]\n",
    "                break\n",
    "            else:\n",
    "                distance_to_neighborhood = point.distance(poly_tuple[0])\n",
    "                if distance_to_neighborhood < shortest_distance:\n",
    "                    shortest_distance = distance_to_neighborhood\n",
    "                    closest_neighborhood = poly_tuple[1]\n",
    "        if df.iloc[incident_num,8] == '':\n",
    "            #place incident in closest neighborhood\n",
    "            df.iloc[incident_num,8] = closest_neighborhood\n",
    "            #shortest distance is over 1 mile away\n",
    "            if shortest_distance > 0.018:\n",
    "                print('WARNING!!! GPS coordinates for row',incident_num,'do not appear to be within 1 mile of a San Francisco Neighbourhood')\n",
    "    return df"
   ]
  },
  {
   "cell_type": "code",
   "execution_count": 14,
   "metadata": {},
   "outputs": [],
   "source": [
    "def remove_gps_coordinates(df):\n",
    "    df = df.drop(columns=['Latitude','Longitude'])\n",
    "    return df"
   ]
  },
  {
   "cell_type": "code",
   "execution_count": 15,
   "metadata": {},
   "outputs": [],
   "source": [
    "def get_reports_per_day_per_neighborhood(df):\n",
    "    df['Todays Reports'] = 1\n",
    "    df = df.groupby(['Incident Date','Incident Year', 'Neighborhood',\n",
    "                     'Incident Day of Week']).count()\n",
    "    df = df.drop(columns=[ 'Incident Datetime','Incident Time',\n",
    "                           'Incident Category'])\n",
    "    df = df.reset_index()\n",
    "    return df"
   ]
  },
  {
   "cell_type": "code",
   "execution_count": 16,
   "metadata": {},
   "outputs": [],
   "source": [
    "def check_for_missing_neighborhoods(df,neighborhoods):\n",
    "    new_rows = pd.DataFrame()\n",
    "    num_records = len(df.index)\n",
    "    current_date = df.iloc[0,0]\n",
    "    zero_crime_neighborhoods = copy.deepcopy(neighborhoods)\n",
    "    for record in range(0,num_records):\n",
    "        zero_crime_neighborhoods.remove(df.iloc[record,2])\n",
    "        if record != num_records-1:\n",
    "            if df.iloc[record+1,0] != current_date:\n",
    "                for neighborhood in zero_crime_neighborhoods:\n",
    "                    new_row = {'Incident Date' : current_date,\n",
    "                               'Incident Year' : df.iloc[record-1,1],\n",
    "                               'Neighborhood' : neighborhood,\n",
    "                               'Incident Day of Week' : df.iloc[record-1,3],\n",
    "                               'Todays Reports' : 0}\n",
    "                    new_rows = new_rows.append(new_row,ignore_index=True)\n",
    "                zero_crime_neighborhoods = copy.deepcopy(neighborhoods)\n",
    "                current_date = df.iloc[record+1,0]\n",
    "    for neighborhood in zero_crime_neighborhoods:\n",
    "        new_row = {'Incident Date' : current_date,\n",
    "                    'Incident Year' : df.iloc[len(df.index)-1,1],\n",
    "                    'Neighborhood' : neighborhood,\n",
    "                    'Incident Day of Week' : df.iloc[len(df.index)-1,3],\n",
    "                    'Todays Reports' : 0}\n",
    "        new_rows = new_rows.append(new_row,ignore_index=True)\n",
    "    frames = [df,new_rows]\n",
    "    new_record = pd.concat(frames)\n",
    "    new_record = new_record.sort_values(['Incident Date','Neighborhood'])\n",
    "    return new_record"
   ]
  },
  {
   "cell_type": "code",
   "execution_count": 17,
   "metadata": {},
   "outputs": [],
   "source": [
    "def shift_crimes(df,num_days):\n",
    "    transitional_data = df.shift(periods=(117*num_days))\n",
    "    transitional_data = transitional_data['Todays Reports']\n",
    "    return transitional_data"
   ]
  },
  {
   "cell_type": "code",
   "execution_count": 18,
   "metadata": {},
   "outputs": [],
   "source": [
    "def get_last_14_days(df):\n",
    "    transitional_data = df.shift(periods=(117*7))\n",
    "    transitional_data = transitional_data['Last 7 days reports']\n",
    "    return transitional_data"
   ]
  },
  {
   "cell_type": "code",
   "execution_count": 19,
   "metadata": {},
   "outputs": [],
   "source": [
    "def get_last_28_days(df):\n",
    "    transitional_data = df.shift(periods=(117*14))\n",
    "    transitional_data = transitional_data['Last 14 days reports']\n",
    "    return transitional_data"
   ]
  },
  {
   "cell_type": "code",
   "execution_count": 20,
   "metadata": {},
   "outputs": [],
   "source": [
    "def generate_new_date_data(df):\n",
    "    df['Reports 1 day ago'] = shift_crimes(df,1)\n",
    "    df['Reports 2 days ago'] = shift_crimes(df,2)\n",
    "    df['Reports 3 days ago'] = shift_crimes(df,3)\n",
    "    df['Reports 4 days ago'] = shift_crimes(df,4)\n",
    "    df['Reports 5 days ago'] = shift_crimes(df,5)\n",
    "    df['Reports 6 days ago'] = shift_crimes(df,6)\n",
    "    df['Reports 7 days ago'] = shift_crimes(df,7)\n",
    "    df['Reports 14 days ago'] = shift_crimes(df,14)\n",
    "    df['Reports 30 days ago'] = shift_crimes(df,30)\n",
    "    df['Reports 365 days ago'] = shift_crimes(df,365)\n",
    "    df['Last 7 days reports'] = (df['Reports 1 day ago'] + df['Reports 2 days ago'] + df['Reports 3 days ago']\n",
    "                         + df['Reports 4 days ago'] + df['Reports 5 days ago']\n",
    "                         + df['Reports 6 days ago'] + df['Reports 7 days ago'])\n",
    "    df['Last 14 days reports'] = (df['Last 7 days reports'] + get_last_14_days(df))\n",
    "\n",
    "    df['Last 28 days reports'] = (df['Last 14 days reports'] + get_last_28_days(df))\n",
    "    df = df.dropna()\n",
    "    return df"
   ]
  },
  {
   "cell_type": "code",
   "execution_count": 21,
   "metadata": {},
   "outputs": [
    {
     "name": "stdout",
     "output_type": "stream",
     "text": [
      "Neighborhoods dataset opened.\n"
     ]
    }
   ],
   "source": [
    "df = open_neighborhoods()"
   ]
  },
  {
   "cell_type": "code",
   "execution_count": 22,
   "metadata": {},
   "outputs": [],
   "source": [
    "neighborhoods = get_neighborhoods(df)"
   ]
  },
  {
   "cell_type": "code",
   "execution_count": 23,
   "metadata": {},
   "outputs": [],
   "source": [
    "neighborhood_polygons = generate_neighborhood_polygons(df)"
   ]
  },
  {
   "cell_type": "code",
   "execution_count": 24,
   "metadata": {},
   "outputs": [
    {
     "name": "stdout",
     "output_type": "stream",
     "text": [
      "SFPD criminal incident dataset opened.\n"
     ]
    }
   ],
   "source": [
    "df = open_sfpd_data()"
   ]
  },
  {
   "cell_type": "code",
   "execution_count": 25,
   "metadata": {},
   "outputs": [
    {
     "name": "stdout",
     "output_type": "stream",
     "text": [
      "Total records: 402706\n",
      "Incidents Categorised: 402426\n",
      "Incidents Uncategorised: 280\n",
      "Total records: 402426\n",
      "Incidents Categorised: 402426\n",
      "Incidents Uncategorised: 0\n"
     ]
    }
   ],
   "source": [
    "df = remove_uncategorised_incidents(df)"
   ]
  },
  {
   "cell_type": "code",
   "execution_count": 26,
   "metadata": {},
   "outputs": [],
   "source": [
    "df = drop_unnecessary_columns(df)"
   ]
  },
  {
   "cell_type": "code",
   "execution_count": 27,
   "metadata": {},
   "outputs": [
    {
     "name": "stdout",
     "output_type": "stream",
     "text": [
      "Removing rows with missing values...\n",
      "20753 rows removed\n",
      "381673 rows remaining\n"
     ]
    }
   ],
   "source": [
    "df = remove_rows_with_missing_values(df)"
   ]
  },
  {
   "cell_type": "code",
   "execution_count": 28,
   "metadata": {},
   "outputs": [
    {
     "name": "stdout",
     "output_type": "stream",
     "text": [
      "Removing crimes categorised as:\n",
      "320556 rows remaining\n"
     ]
    }
   ],
   "source": [
    "df = remove_rows_of_non_crime(df)"
   ]
  },
  {
   "cell_type": "code",
   "execution_count": 29,
   "metadata": {},
   "outputs": [],
   "source": [
    "df = remove_crime_prior_to_uber_legislation_change(df)"
   ]
  },
  {
   "cell_type": "code",
   "execution_count": 30,
   "metadata": {},
   "outputs": [],
   "source": [
    "df = convert_gps_to_neighborhood(df,neighborhood_polygons)"
   ]
  },
  {
   "cell_type": "code",
   "execution_count": 31,
   "metadata": {},
   "outputs": [],
   "source": [
    "df = remove_gps_coordinates(df)"
   ]
  },
  {
   "cell_type": "code",
   "execution_count": 32,
   "metadata": {},
   "outputs": [],
   "source": [
    "df = get_reports_per_day_per_neighborhood(df)"
   ]
  },
  {
   "cell_type": "code",
   "execution_count": 33,
   "metadata": {},
   "outputs": [],
   "source": [
    "df = check_for_missing_neighborhoods(df,neighborhoods)"
   ]
  },
  {
   "cell_type": "code",
   "execution_count": 34,
   "metadata": {},
   "outputs": [],
   "source": [
    "df = generate_new_date_data(df)"
   ]
  },
  {
   "cell_type": "code",
   "execution_count": 35,
   "metadata": {},
   "outputs": [],
   "source": [
    "reset_indexes(df)"
   ]
  },
  {
   "cell_type": "code",
   "execution_count": 36,
   "metadata": {},
   "outputs": [],
   "source": [
    "df.to_csv('SFPD_preprocessed.csv', index = False)"
   ]
  }
 ],
 "metadata": {
  "kernelspec": {
   "display_name": "Python 3",
   "language": "python",
   "name": "python3"
  },
  "language_info": {
   "codemirror_mode": {
    "name": "ipython",
    "version": 3
   },
   "file_extension": ".py",
   "mimetype": "text/x-python",
   "name": "python",
   "nbconvert_exporter": "python",
   "pygments_lexer": "ipython3",
   "version": "3.9.0"
  }
 },
 "nbformat": 4,
 "nbformat_minor": 4
}
