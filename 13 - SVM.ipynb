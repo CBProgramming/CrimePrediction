{
 "cells": [
  {
   "cell_type": "code",
   "execution_count": 27,
   "metadata": {},
   "outputs": [],
   "source": [
    "import numpy as np\n",
    "import pandas as pd\n",
    "import matplotlib.pyplot as plt\n",
    "%matplotlib inline\n",
    "import seaborn as sns\n",
    "import sklearn\n",
    "from sklearn import svm\n",
    "from sklearn.metrics import mean_squared_error, r2_score, mean_absolute_error\n",
    "from sklearn.pipeline import make_pipeline\n",
    "from sklearn.model_selection import cross_val_score"
   ]
  },
  {
   "cell_type": "code",
   "execution_count": 28,
   "metadata": {},
   "outputs": [],
   "source": [
    "y_train = pd.read_csv('y_train.csv')\n",
    "y_test = pd.read_csv('y_test.csv')\n",
    "file = open(\"Selection Methods\",\"rb\")\n",
    "sel_methods = np.load(file)"
   ]
  },
  {
   "cell_type": "code",
   "execution_count": 29,
   "metadata": {},
   "outputs": [],
   "source": [
    "def support_vec(method):\n",
    "    method_string = method\n",
    "    if (method == ''):\n",
    "        method_string = \"no feature selection\"\n",
    "    x_train = pd.read_csv('x_train' + method + '.csv').values\n",
    "    x_test = pd.read_csv('x_test' + method + '.csv').values\n",
    "    pipe = make_pipeline(svm.SVR(kernel='linear', C=1))\n",
    "    pipe.fit(x_train, y_train.values.ravel())\n",
    "    scores = cross_val_score(estimator = pipe, X = x_train, y = y_train.values.ravel(), cv = 10)\n",
    "    print('\\nScores for SVM using',method_string,'data:\\n',scores)"
   ]
  },
  {
   "cell_type": "code",
   "execution_count": 30,
   "metadata": {},
   "outputs": [
    {
     "name": "stdout",
     "output_type": "stream",
     "text": [
      "Scores for SVM using no data: [0.76044526 0.76017486 0.74254662 0.76533308 0.74529095 0.74317119\n",
      " 0.71736466 0.74373962 0.74948819 0.74005043]\n",
      "Scores for SVM using _f_regression data: [0.74540785 0.74740139 0.73330673 0.75138752 0.73396638 0.73852004\n",
      " 0.70770915 0.72904127 0.74046808 0.73089872]\n",
      "Scores for SVM using _chi2 data: [0.74288138 0.74713811 0.72981881 0.74821296 0.73323426 0.73515642\n",
      " 0.7072537  0.72812308 0.73818319 0.7291372 ]\n",
      "Scores for SVM using _mutual_info data: [0.74277951 0.74672313 0.72856139 0.74958549 0.73128673 0.73608767\n",
      " 0.70499167 0.72459097 0.73751814 0.72895218]\n",
      "Scores for SVM using _equal_crime_and_business data: [0.72590029 0.73460989 0.70970717 0.73301247 0.7223415  0.71432077\n",
      " 0.68949406 0.7134183  0.71871483 0.71300406]\n",
      "Scores for SVM using _all_business data: [0.40863331 0.43740202 0.39381522 0.44269627 0.43516399 0.44979225\n",
      " 0.41837317 0.41826512 0.4071166  0.44780494]\n"
     ]
    }
   ],
   "source": [
    "for method in sel_methods:\n",
    "    support_vec(method)"
   ]
  },
  {
   "cell_type": "code",
   "execution_count": null,
   "metadata": {},
   "outputs": [],
   "source": []
  }
 ],
 "metadata": {
  "kernelspec": {
   "display_name": "Python 3",
   "language": "python",
   "name": "python3"
  },
  "language_info": {
   "codemirror_mode": {
    "name": "ipython",
    "version": 3
   },
   "file_extension": ".py",
   "mimetype": "text/x-python",
   "name": "python",
   "nbconvert_exporter": "python",
   "pygments_lexer": "ipython3",
   "version": "3.9.0"
  }
 },
 "nbformat": 4,
 "nbformat_minor": 4
}
