{
 "cells": [
  {
   "cell_type": "code",
   "execution_count": 111,
   "metadata": {},
   "outputs": [],
   "source": [
    "import numpy as np\n",
    "import pandas as pd\n",
    "import matplotlib.pyplot as plt\n",
    "%matplotlib inline\n",
    "import seaborn as sns\n",
    "import sklearn\n",
    "from sklearn import svm\n",
    "from sklearn.metrics import mean_squared_error, r2_score, mean_absolute_error\n",
    "from sklearn.pipeline import Pipeline\n",
    "from sklearn.model_selection import GridSearchCV"
   ]
  },
  {
   "cell_type": "code",
   "execution_count": 112,
   "metadata": {},
   "outputs": [],
   "source": [
    "y_test = pd.read_csv('y_test.csv')\n",
    "file = open(\"Selection Methods\",\"rb\")\n",
    "sel_methods = np.load(file)"
   ]
  },
  {
   "cell_type": "code",
   "execution_count": 113,
   "metadata": {},
   "outputs": [],
   "source": [
    "def support_vec(method, args, _cv, is_sample):\n",
    "    sample_string = ''\n",
    "    if (is_sample):\n",
    "        sample_string = '_sample'\n",
    "    y_train = pd.read_csv('y_train'+ sample_string + '.csv')    \n",
    "    method_string = method\n",
    "    if (method == ''):\n",
    "        method_string = \"no feature selection\"\n",
    "    print('\\n\\nRunning cross fold validation for SVM with',method_string)\n",
    "    x_train = pd.read_csv('x_train' + method + sample_string + '.csv').values\n",
    "    x_test = pd.read_csv('x_test' + method + '.csv').values\n",
    "    pipe = Pipeline([('clf', svm.SVR())])\n",
    "    svm_grid = GridSearchCV(pipe, args, cv = _cv, verbose = 1, scoring = 'r2', n_jobs=6)\n",
    "    svm_grid.fit(x_train, y_train.values.ravel())\n",
    "    print('\\nBest score for SVM with',method_string,\":\",svm_grid.best_score_)\n",
    "    best_args = svm_grid.best_estimator_.get_params()\n",
    "    print('\\nBest score for SVM with',method_string,':')\n",
    "    for arg in best_args:\n",
    "        print(arg,\":\",best_args[arg])\n",
    "    y_test_predict = svm_grid.predict(x_test)\n",
    "    mse = mean_squared_error(y_test,y_test_predict)\n",
    "    mae = mean_absolute_error(y_test,y_test_predict)\n",
    "    r2 = r2_score(y_test,y_test_predict)\n",
    "    print('\\nPrediction scores for SVM using',method_string,':')\n",
    "    print('Mean Squared error:',mse)\n",
    "    print('Mean Absolute error:',mae)\n",
    "    print('R^2:',r2)\n",
    "    return best_args, svm_grid.best_score_,mse,mae,r2"
   ]
  },
  {
   "cell_type": "code",
   "execution_count": 114,
   "metadata": {},
   "outputs": [
    {
     "name": "stdout",
     "output_type": "stream",
     "text": [
      "['_f_regression' '_chi2' '_adaboost' '_equal_crime_and_business'\n",
      " '_all_business']\n"
     ]
    }
   ],
   "source": [
    "print(sel_methods)"
   ]
  },
  {
   "cell_type": "markdown",
   "metadata": {},
   "source": [
    "<h3>F-Regression feature selected dataset<h3>"
   ]
  },
  {
   "cell_type": "code",
   "execution_count": 115,
   "metadata": {},
   "outputs": [],
   "source": [
    "# exploratory hyperparameters set"
   ]
  },
  {
   "cell_type": "code",
   "execution_count": 116,
   "metadata": {},
   "outputs": [],
   "source": [
    "args = {'clf__C':(0.01,0.5,1,1.5,2,2.5,3,4,5,6,7,8,9,10),\n",
    "           'clf__degree':(1,2,3,4,5),\n",
    "           'clf__gamma':('auto',0.01,0.1, 0.2, 0.3, 0.4, 0.5, 0.6, 0.7, 0.8, 0.9, 1),\n",
    "           'clf__kernel':('linear','poly','rbf','sigmoid')}"
   ]
  },
  {
   "cell_type": "code",
   "execution_count": 117,
   "metadata": {},
   "outputs": [
    {
     "name": "stdout",
     "output_type": "stream",
     "text": [
      "\n",
      "\n",
      "Running cross fold validation for SVM with _f_regression\n",
      "Fitting 5 folds for each of 3360 candidates, totalling 16800 fits\n"
     ]
    },
    {
     "name": "stderr",
     "output_type": "stream",
     "text": [
      "[Parallel(n_jobs=6)]: Using backend LokyBackend with 6 concurrent workers.\n",
      "[Parallel(n_jobs=6)]: Done  38 tasks      | elapsed:   21.6s\n",
      "[Parallel(n_jobs=6)]: Done 188 tasks      | elapsed:  1.5min\n",
      "[Parallel(n_jobs=6)]: Done 438 tasks      | elapsed:  3.5min\n",
      "[Parallel(n_jobs=6)]: Done 788 tasks      | elapsed:  6.2min\n",
      "[Parallel(n_jobs=6)]: Done 1238 tasks      | elapsed:  9.8min\n",
      "[Parallel(n_jobs=6)]: Done 1788 tasks      | elapsed: 14.1min\n",
      "[Parallel(n_jobs=6)]: Done 2438 tasks      | elapsed: 19.2min\n",
      "[Parallel(n_jobs=6)]: Done 3188 tasks      | elapsed: 25.0min\n",
      "[Parallel(n_jobs=6)]: Done 4038 tasks      | elapsed: 31.3min\n",
      "[Parallel(n_jobs=6)]: Done 4988 tasks      | elapsed: 38.3min\n",
      "[Parallel(n_jobs=6)]: Done 6038 tasks      | elapsed: 46.4min\n",
      "[Parallel(n_jobs=6)]: Done 7188 tasks      | elapsed: 55.6min\n",
      "[Parallel(n_jobs=6)]: Done 8438 tasks      | elapsed: 65.3min\n",
      "[Parallel(n_jobs=6)]: Done 9788 tasks      | elapsed: 76.1min\n",
      "[Parallel(n_jobs=6)]: Done 11238 tasks      | elapsed: 88.1min\n",
      "[Parallel(n_jobs=6)]: Done 12788 tasks      | elapsed: 100.4min\n",
      "[Parallel(n_jobs=6)]: Done 14438 tasks      | elapsed: 113.2min\n",
      "[Parallel(n_jobs=6)]: Done 16188 tasks      | elapsed: 126.8min\n",
      "[Parallel(n_jobs=6)]: Done 16800 out of 16800 | elapsed: 131.6min finished\n"
     ]
    },
    {
     "name": "stdout",
     "output_type": "stream",
     "text": [
      "\n",
      "Best score for SVM with _f_regression : 0.7465188614504423\n",
      "\n",
      "Best score for SVM with _f_regression :\n",
      "memory : None\n",
      "steps : [('clf', SVR(C=10, degree=1, gamma=0.3))]\n",
      "verbose : False\n",
      "clf : SVR(C=10, degree=1, gamma=0.3)\n",
      "clf__C : 10\n",
      "clf__cache_size : 200\n",
      "clf__coef0 : 0.0\n",
      "clf__degree : 1\n",
      "clf__epsilon : 0.1\n",
      "clf__gamma : 0.3\n",
      "clf__kernel : rbf\n",
      "clf__max_iter : -1\n",
      "clf__shrinking : True\n",
      "clf__tol : 0.001\n",
      "clf__verbose : False\n",
      "\n",
      "Prediction scores for SVM using _f_regression :\n",
      "Mean Squared error: 4.997956016935091\n",
      "Mean Absolute error: 1.3366867110288125\n",
      "R^2: 0.7435925926135536\n"
     ]
    },
    {
     "data": {
      "text/plain": [
       "({'memory': None,\n",
       "  'steps': [('clf', SVR(C=10, degree=1, gamma=0.3))],\n",
       "  'verbose': False,\n",
       "  'clf': SVR(C=10, degree=1, gamma=0.3),\n",
       "  'clf__C': 10,\n",
       "  'clf__cache_size': 200,\n",
       "  'clf__coef0': 0.0,\n",
       "  'clf__degree': 1,\n",
       "  'clf__epsilon': 0.1,\n",
       "  'clf__gamma': 0.3,\n",
       "  'clf__kernel': 'rbf',\n",
       "  'clf__max_iter': -1,\n",
       "  'clf__shrinking': True,\n",
       "  'clf__tol': 0.001,\n",
       "  'clf__verbose': False},\n",
       " 0.7465188614504423,\n",
       " 4.997956016935091,\n",
       " 1.3366867110288125,\n",
       " 0.7435925926135536)"
      ]
     },
     "execution_count": 117,
     "metadata": {},
     "output_type": "execute_result"
    }
   ],
   "source": [
    "is_sample = True\n",
    "num_folds = 5\n",
    "support_vec(sel_methods[0], args, num_folds, is_sample)"
   ]
  },
  {
   "cell_type": "code",
   "execution_count": 94,
   "metadata": {},
   "outputs": [],
   "source": [
    "# Optimal c determined as 10 (the final parameter of the range supplied)\n",
    "# Further parameters of c require exploration to ensure optimal c\n",
    "#Remaining hyperparameters set to optimal for quicker results"
   ]
  },
  {
   "cell_type": "code",
   "execution_count": 126,
   "metadata": {},
   "outputs": [],
   "source": [
    "args = {'clf__C':(10,20,30,40,50,60,70,80,90,100),\n",
    "           'clf__degree':([1]),\n",
    "           'clf__gamma':([0.3]),\n",
    "           'clf__kernel':(['rbf'])}"
   ]
  },
  {
   "cell_type": "code",
   "execution_count": 127,
   "metadata": {},
   "outputs": [
    {
     "name": "stdout",
     "output_type": "stream",
     "text": [
      "\n",
      "\n",
      "Running cross fold validation for SVM with _f_regression\n",
      "Fitting 5 folds for each of 10 candidates, totalling 50 fits\n"
     ]
    },
    {
     "name": "stderr",
     "output_type": "stream",
     "text": [
      "[Parallel(n_jobs=6)]: Using backend LokyBackend with 6 concurrent workers.\n",
      "[Parallel(n_jobs=6)]: Done  38 tasks      | elapsed:   23.7s\n",
      "[Parallel(n_jobs=6)]: Done  50 out of  50 | elapsed:   29.8s finished\n"
     ]
    },
    {
     "name": "stdout",
     "output_type": "stream",
     "text": [
      "\n",
      "Best score for SVM with _f_regression : 0.746527900097748\n",
      "\n",
      "Best score for SVM with _f_regression :\n",
      "memory : None\n",
      "steps : [('clf', SVR(C=20, degree=1, gamma=0.3))]\n",
      "verbose : False\n",
      "clf : SVR(C=20, degree=1, gamma=0.3)\n",
      "clf__C : 20\n",
      "clf__cache_size : 200\n",
      "clf__coef0 : 0.0\n",
      "clf__degree : 1\n",
      "clf__epsilon : 0.1\n",
      "clf__gamma : 0.3\n",
      "clf__kernel : rbf\n",
      "clf__max_iter : -1\n",
      "clf__shrinking : True\n",
      "clf__tol : 0.001\n",
      "clf__verbose : False\n",
      "\n",
      "Prediction scores for SVM using _f_regression :\n",
      "Mean Squared error: 5.001849246603076\n",
      "Mean Absolute error: 1.337356609309337\n",
      "R^2: 0.7433928603785869\n"
     ]
    },
    {
     "data": {
      "text/plain": [
       "({'memory': None,\n",
       "  'steps': [('clf', SVR(C=20, degree=1, gamma=0.3))],\n",
       "  'verbose': False,\n",
       "  'clf': SVR(C=20, degree=1, gamma=0.3),\n",
       "  'clf__C': 20,\n",
       "  'clf__cache_size': 200,\n",
       "  'clf__coef0': 0.0,\n",
       "  'clf__degree': 1,\n",
       "  'clf__epsilon': 0.1,\n",
       "  'clf__gamma': 0.3,\n",
       "  'clf__kernel': 'rbf',\n",
       "  'clf__max_iter': -1,\n",
       "  'clf__shrinking': True,\n",
       "  'clf__tol': 0.001,\n",
       "  'clf__verbose': False},\n",
       " 0.746527900097748,\n",
       " 5.001849246603076,\n",
       " 1.337356609309337,\n",
       " 0.7433928603785869)"
      ]
     },
     "execution_count": 127,
     "metadata": {},
     "output_type": "execute_result"
    }
   ],
   "source": [
    "is_sample = True\n",
    "num_folds = 5\n",
    "support_vec(sel_methods[0], args, num_folds, is_sample)"
   ]
  },
  {
   "cell_type": "code",
   "execution_count": 97,
   "metadata": {},
   "outputs": [],
   "source": [
    "# Best c found to be 20.  It stands to reason the best c will be between 11 and 29 with all\n",
    "# hyperparameters attempted again.  New c range defined in previous args and cross validation ran again"
   ]
  },
  {
   "cell_type": "code",
   "execution_count": 128,
   "metadata": {},
   "outputs": [],
   "source": [
    "is_sample = True\n",
    "num_folds = 5\n",
    "args = {'clf__C':(11,12,13,14,15,16,17,18,19,20,21,22,23,24,25,26,27,28,29),\n",
    "           'clf__degree':(1,2,3,4,5),\n",
    "           'clf__gamma':('auto',0.01,0.1, 0.2, 0.3, 0.4, 0.5, 0.6, 0.7, 0.8, 0.9, 1),\n",
    "           'clf__kernel':('linear','poly','rbf','sigmoid')}"
   ]
  },
  {
   "cell_type": "code",
   "execution_count": 129,
   "metadata": {},
   "outputs": [
    {
     "name": "stdout",
     "output_type": "stream",
     "text": [
      "\n",
      "\n",
      "Running cross fold validation for SVM with _f_regression\n",
      "Fitting 5 folds for each of 4560 candidates, totalling 22800 fits\n"
     ]
    },
    {
     "name": "stderr",
     "output_type": "stream",
     "text": [
      "[Parallel(n_jobs=6)]: Using backend LokyBackend with 6 concurrent workers.\n",
      "[Parallel(n_jobs=6)]: Done  38 tasks      | elapsed:   18.7s\n",
      "[Parallel(n_jobs=6)]: Done 188 tasks      | elapsed:  1.5min\n",
      "[Parallel(n_jobs=6)]: Done 438 tasks      | elapsed:  3.8min\n",
      "[Parallel(n_jobs=6)]: Done 788 tasks      | elapsed:  7.0min\n",
      "[Parallel(n_jobs=6)]: Done 1238 tasks      | elapsed: 11.1min\n",
      "[Parallel(n_jobs=6)]: Done 1788 tasks      | elapsed: 16.6min\n",
      "[Parallel(n_jobs=6)]: Done 2438 tasks      | elapsed: 22.7min\n",
      "[Parallel(n_jobs=6)]: Done 3188 tasks      | elapsed: 29.5min\n",
      "[Parallel(n_jobs=6)]: Done 4038 tasks      | elapsed: 37.7min\n",
      "[Parallel(n_jobs=6)]: Done 4988 tasks      | elapsed: 46.6min\n",
      "[Parallel(n_jobs=6)]: Done 6038 tasks      | elapsed: 55.3min\n",
      "[Parallel(n_jobs=6)]: Done 7188 tasks      | elapsed: 64.9min\n",
      "[Parallel(n_jobs=6)]: Done 8438 tasks      | elapsed: 75.4min\n"
     ]
    },
    {
     "ename": "KeyboardInterrupt",
     "evalue": "",
     "output_type": "error",
     "traceback": [
      "\u001b[1;31m---------------------------------------------------------------------------\u001b[0m",
      "\u001b[1;31mKeyboardInterrupt\u001b[0m                         Traceback (most recent call last)",
      "\u001b[1;32m<ipython-input-129-63f73a9d32ee>\u001b[0m in \u001b[0;36m<module>\u001b[1;34m\u001b[0m\n\u001b[1;32m----> 1\u001b[1;33m \u001b[0msupport_vec\u001b[0m\u001b[1;33m(\u001b[0m\u001b[0msel_methods\u001b[0m\u001b[1;33m[\u001b[0m\u001b[1;36m0\u001b[0m\u001b[1;33m]\u001b[0m\u001b[1;33m,\u001b[0m \u001b[0margs\u001b[0m\u001b[1;33m,\u001b[0m \u001b[0mnum_folds\u001b[0m\u001b[1;33m,\u001b[0m \u001b[0mis_sample\u001b[0m\u001b[1;33m)\u001b[0m\u001b[1;33m\u001b[0m\u001b[1;33m\u001b[0m\u001b[0m\n\u001b[0m",
      "\u001b[1;32m<ipython-input-113-2648ff5217b7>\u001b[0m in \u001b[0;36msupport_vec\u001b[1;34m(method, args, _cv, is_sample)\u001b[0m\n\u001b[0;32m     12\u001b[0m     \u001b[0mpipe\u001b[0m \u001b[1;33m=\u001b[0m \u001b[0mPipeline\u001b[0m\u001b[1;33m(\u001b[0m\u001b[1;33m[\u001b[0m\u001b[1;33m(\u001b[0m\u001b[1;34m'clf'\u001b[0m\u001b[1;33m,\u001b[0m \u001b[0msvm\u001b[0m\u001b[1;33m.\u001b[0m\u001b[0mSVR\u001b[0m\u001b[1;33m(\u001b[0m\u001b[1;33m)\u001b[0m\u001b[1;33m)\u001b[0m\u001b[1;33m]\u001b[0m\u001b[1;33m)\u001b[0m\u001b[1;33m\u001b[0m\u001b[1;33m\u001b[0m\u001b[0m\n\u001b[0;32m     13\u001b[0m     \u001b[0msvm_grid\u001b[0m \u001b[1;33m=\u001b[0m \u001b[0mGridSearchCV\u001b[0m\u001b[1;33m(\u001b[0m\u001b[0mpipe\u001b[0m\u001b[1;33m,\u001b[0m \u001b[0margs\u001b[0m\u001b[1;33m,\u001b[0m \u001b[0mcv\u001b[0m \u001b[1;33m=\u001b[0m \u001b[0m_cv\u001b[0m\u001b[1;33m,\u001b[0m \u001b[0mverbose\u001b[0m \u001b[1;33m=\u001b[0m \u001b[1;36m1\u001b[0m\u001b[1;33m,\u001b[0m \u001b[0mscoring\u001b[0m \u001b[1;33m=\u001b[0m \u001b[1;34m'r2'\u001b[0m\u001b[1;33m,\u001b[0m \u001b[0mn_jobs\u001b[0m\u001b[1;33m=\u001b[0m\u001b[1;36m6\u001b[0m\u001b[1;33m)\u001b[0m\u001b[1;33m\u001b[0m\u001b[1;33m\u001b[0m\u001b[0m\n\u001b[1;32m---> 14\u001b[1;33m     \u001b[0msvm_grid\u001b[0m\u001b[1;33m.\u001b[0m\u001b[0mfit\u001b[0m\u001b[1;33m(\u001b[0m\u001b[0mx_train\u001b[0m\u001b[1;33m,\u001b[0m \u001b[0my_train\u001b[0m\u001b[1;33m.\u001b[0m\u001b[0mvalues\u001b[0m\u001b[1;33m.\u001b[0m\u001b[0mravel\u001b[0m\u001b[1;33m(\u001b[0m\u001b[1;33m)\u001b[0m\u001b[1;33m)\u001b[0m\u001b[1;33m\u001b[0m\u001b[1;33m\u001b[0m\u001b[0m\n\u001b[0m\u001b[0;32m     15\u001b[0m     \u001b[0mprint\u001b[0m\u001b[1;33m(\u001b[0m\u001b[1;34m'\\nBest score for SVM with'\u001b[0m\u001b[1;33m,\u001b[0m\u001b[0mmethod_string\u001b[0m\u001b[1;33m,\u001b[0m\u001b[1;34m\":\"\u001b[0m\u001b[1;33m,\u001b[0m\u001b[0msvm_grid\u001b[0m\u001b[1;33m.\u001b[0m\u001b[0mbest_score_\u001b[0m\u001b[1;33m)\u001b[0m\u001b[1;33m\u001b[0m\u001b[1;33m\u001b[0m\u001b[0m\n\u001b[0;32m     16\u001b[0m     \u001b[0mbest_args\u001b[0m \u001b[1;33m=\u001b[0m \u001b[0msvm_grid\u001b[0m\u001b[1;33m.\u001b[0m\u001b[0mbest_estimator_\u001b[0m\u001b[1;33m.\u001b[0m\u001b[0mget_params\u001b[0m\u001b[1;33m(\u001b[0m\u001b[1;33m)\u001b[0m\u001b[1;33m\u001b[0m\u001b[1;33m\u001b[0m\u001b[0m\n",
      "\u001b[1;32mc:\\users\\chris\\appdata\\local\\programs\\python\\python39\\lib\\site-packages\\sklearn\\utils\\validation.py\u001b[0m in \u001b[0;36minner_f\u001b[1;34m(*args, **kwargs)\u001b[0m\n\u001b[0;32m     70\u001b[0m                           FutureWarning)\n\u001b[0;32m     71\u001b[0m         \u001b[0mkwargs\u001b[0m\u001b[1;33m.\u001b[0m\u001b[0mupdate\u001b[0m\u001b[1;33m(\u001b[0m\u001b[1;33m{\u001b[0m\u001b[0mk\u001b[0m\u001b[1;33m:\u001b[0m \u001b[0marg\u001b[0m \u001b[1;32mfor\u001b[0m \u001b[0mk\u001b[0m\u001b[1;33m,\u001b[0m \u001b[0marg\u001b[0m \u001b[1;32min\u001b[0m \u001b[0mzip\u001b[0m\u001b[1;33m(\u001b[0m\u001b[0msig\u001b[0m\u001b[1;33m.\u001b[0m\u001b[0mparameters\u001b[0m\u001b[1;33m,\u001b[0m \u001b[0margs\u001b[0m\u001b[1;33m)\u001b[0m\u001b[1;33m}\u001b[0m\u001b[1;33m)\u001b[0m\u001b[1;33m\u001b[0m\u001b[1;33m\u001b[0m\u001b[0m\n\u001b[1;32m---> 72\u001b[1;33m         \u001b[1;32mreturn\u001b[0m \u001b[0mf\u001b[0m\u001b[1;33m(\u001b[0m\u001b[1;33m**\u001b[0m\u001b[0mkwargs\u001b[0m\u001b[1;33m)\u001b[0m\u001b[1;33m\u001b[0m\u001b[1;33m\u001b[0m\u001b[0m\n\u001b[0m\u001b[0;32m     73\u001b[0m     \u001b[1;32mreturn\u001b[0m \u001b[0minner_f\u001b[0m\u001b[1;33m\u001b[0m\u001b[1;33m\u001b[0m\u001b[0m\n\u001b[0;32m     74\u001b[0m \u001b[1;33m\u001b[0m\u001b[0m\n",
      "\u001b[1;32mc:\\users\\chris\\appdata\\local\\programs\\python\\python39\\lib\\site-packages\\sklearn\\model_selection\\_search.py\u001b[0m in \u001b[0;36mfit\u001b[1;34m(self, X, y, groups, **fit_params)\u001b[0m\n\u001b[0;32m    734\u001b[0m                 \u001b[1;32mreturn\u001b[0m \u001b[0mresults\u001b[0m\u001b[1;33m\u001b[0m\u001b[1;33m\u001b[0m\u001b[0m\n\u001b[0;32m    735\u001b[0m \u001b[1;33m\u001b[0m\u001b[0m\n\u001b[1;32m--> 736\u001b[1;33m             \u001b[0mself\u001b[0m\u001b[1;33m.\u001b[0m\u001b[0m_run_search\u001b[0m\u001b[1;33m(\u001b[0m\u001b[0mevaluate_candidates\u001b[0m\u001b[1;33m)\u001b[0m\u001b[1;33m\u001b[0m\u001b[1;33m\u001b[0m\u001b[0m\n\u001b[0m\u001b[0;32m    737\u001b[0m \u001b[1;33m\u001b[0m\u001b[0m\n\u001b[0;32m    738\u001b[0m         \u001b[1;31m# For multi-metric evaluation, store the best_index_, best_params_ and\u001b[0m\u001b[1;33m\u001b[0m\u001b[1;33m\u001b[0m\u001b[1;33m\u001b[0m\u001b[0m\n",
      "\u001b[1;32mc:\\users\\chris\\appdata\\local\\programs\\python\\python39\\lib\\site-packages\\sklearn\\model_selection\\_search.py\u001b[0m in \u001b[0;36m_run_search\u001b[1;34m(self, evaluate_candidates)\u001b[0m\n\u001b[0;32m   1186\u001b[0m     \u001b[1;32mdef\u001b[0m \u001b[0m_run_search\u001b[0m\u001b[1;33m(\u001b[0m\u001b[0mself\u001b[0m\u001b[1;33m,\u001b[0m \u001b[0mevaluate_candidates\u001b[0m\u001b[1;33m)\u001b[0m\u001b[1;33m:\u001b[0m\u001b[1;33m\u001b[0m\u001b[1;33m\u001b[0m\u001b[0m\n\u001b[0;32m   1187\u001b[0m         \u001b[1;34m\"\"\"Search all candidates in param_grid\"\"\"\u001b[0m\u001b[1;33m\u001b[0m\u001b[1;33m\u001b[0m\u001b[0m\n\u001b[1;32m-> 1188\u001b[1;33m         \u001b[0mevaluate_candidates\u001b[0m\u001b[1;33m(\u001b[0m\u001b[0mParameterGrid\u001b[0m\u001b[1;33m(\u001b[0m\u001b[0mself\u001b[0m\u001b[1;33m.\u001b[0m\u001b[0mparam_grid\u001b[0m\u001b[1;33m)\u001b[0m\u001b[1;33m)\u001b[0m\u001b[1;33m\u001b[0m\u001b[1;33m\u001b[0m\u001b[0m\n\u001b[0m\u001b[0;32m   1189\u001b[0m \u001b[1;33m\u001b[0m\u001b[0m\n\u001b[0;32m   1190\u001b[0m \u001b[1;33m\u001b[0m\u001b[0m\n",
      "\u001b[1;32mc:\\users\\chris\\appdata\\local\\programs\\python\\python39\\lib\\site-packages\\sklearn\\model_selection\\_search.py\u001b[0m in \u001b[0;36mevaluate_candidates\u001b[1;34m(candidate_params)\u001b[0m\n\u001b[0;32m    706\u001b[0m                               n_splits, n_candidates, n_candidates * n_splits))\n\u001b[0;32m    707\u001b[0m \u001b[1;33m\u001b[0m\u001b[0m\n\u001b[1;32m--> 708\u001b[1;33m                 out = parallel(delayed(_fit_and_score)(clone(base_estimator),\n\u001b[0m\u001b[0;32m    709\u001b[0m                                                        \u001b[0mX\u001b[0m\u001b[1;33m,\u001b[0m \u001b[0my\u001b[0m\u001b[1;33m,\u001b[0m\u001b[1;33m\u001b[0m\u001b[1;33m\u001b[0m\u001b[0m\n\u001b[0;32m    710\u001b[0m                                                        \u001b[0mtrain\u001b[0m\u001b[1;33m=\u001b[0m\u001b[0mtrain\u001b[0m\u001b[1;33m,\u001b[0m \u001b[0mtest\u001b[0m\u001b[1;33m=\u001b[0m\u001b[0mtest\u001b[0m\u001b[1;33m,\u001b[0m\u001b[1;33m\u001b[0m\u001b[1;33m\u001b[0m\u001b[0m\n",
      "\u001b[1;32mc:\\users\\chris\\appdata\\local\\programs\\python\\python39\\lib\\site-packages\\joblib\\parallel.py\u001b[0m in \u001b[0;36m__call__\u001b[1;34m(self, iterable)\u001b[0m\n\u001b[0;32m   1059\u001b[0m \u001b[1;33m\u001b[0m\u001b[0m\n\u001b[0;32m   1060\u001b[0m             \u001b[1;32mwith\u001b[0m \u001b[0mself\u001b[0m\u001b[1;33m.\u001b[0m\u001b[0m_backend\u001b[0m\u001b[1;33m.\u001b[0m\u001b[0mretrieval_context\u001b[0m\u001b[1;33m(\u001b[0m\u001b[1;33m)\u001b[0m\u001b[1;33m:\u001b[0m\u001b[1;33m\u001b[0m\u001b[1;33m\u001b[0m\u001b[0m\n\u001b[1;32m-> 1061\u001b[1;33m                 \u001b[0mself\u001b[0m\u001b[1;33m.\u001b[0m\u001b[0mretrieve\u001b[0m\u001b[1;33m(\u001b[0m\u001b[1;33m)\u001b[0m\u001b[1;33m\u001b[0m\u001b[1;33m\u001b[0m\u001b[0m\n\u001b[0m\u001b[0;32m   1062\u001b[0m             \u001b[1;31m# Make sure that we get a last message telling us we are done\u001b[0m\u001b[1;33m\u001b[0m\u001b[1;33m\u001b[0m\u001b[1;33m\u001b[0m\u001b[0m\n\u001b[0;32m   1063\u001b[0m             \u001b[0melapsed_time\u001b[0m \u001b[1;33m=\u001b[0m \u001b[0mtime\u001b[0m\u001b[1;33m.\u001b[0m\u001b[0mtime\u001b[0m\u001b[1;33m(\u001b[0m\u001b[1;33m)\u001b[0m \u001b[1;33m-\u001b[0m \u001b[0mself\u001b[0m\u001b[1;33m.\u001b[0m\u001b[0m_start_time\u001b[0m\u001b[1;33m\u001b[0m\u001b[1;33m\u001b[0m\u001b[0m\n",
      "\u001b[1;32mc:\\users\\chris\\appdata\\local\\programs\\python\\python39\\lib\\site-packages\\joblib\\parallel.py\u001b[0m in \u001b[0;36mretrieve\u001b[1;34m(self)\u001b[0m\n\u001b[0;32m    938\u001b[0m             \u001b[1;32mtry\u001b[0m\u001b[1;33m:\u001b[0m\u001b[1;33m\u001b[0m\u001b[1;33m\u001b[0m\u001b[0m\n\u001b[0;32m    939\u001b[0m                 \u001b[1;32mif\u001b[0m \u001b[0mgetattr\u001b[0m\u001b[1;33m(\u001b[0m\u001b[0mself\u001b[0m\u001b[1;33m.\u001b[0m\u001b[0m_backend\u001b[0m\u001b[1;33m,\u001b[0m \u001b[1;34m'supports_timeout'\u001b[0m\u001b[1;33m,\u001b[0m \u001b[1;32mFalse\u001b[0m\u001b[1;33m)\u001b[0m\u001b[1;33m:\u001b[0m\u001b[1;33m\u001b[0m\u001b[1;33m\u001b[0m\u001b[0m\n\u001b[1;32m--> 940\u001b[1;33m                     \u001b[0mself\u001b[0m\u001b[1;33m.\u001b[0m\u001b[0m_output\u001b[0m\u001b[1;33m.\u001b[0m\u001b[0mextend\u001b[0m\u001b[1;33m(\u001b[0m\u001b[0mjob\u001b[0m\u001b[1;33m.\u001b[0m\u001b[0mget\u001b[0m\u001b[1;33m(\u001b[0m\u001b[0mtimeout\u001b[0m\u001b[1;33m=\u001b[0m\u001b[0mself\u001b[0m\u001b[1;33m.\u001b[0m\u001b[0mtimeout\u001b[0m\u001b[1;33m)\u001b[0m\u001b[1;33m)\u001b[0m\u001b[1;33m\u001b[0m\u001b[1;33m\u001b[0m\u001b[0m\n\u001b[0m\u001b[0;32m    941\u001b[0m                 \u001b[1;32melse\u001b[0m\u001b[1;33m:\u001b[0m\u001b[1;33m\u001b[0m\u001b[1;33m\u001b[0m\u001b[0m\n\u001b[0;32m    942\u001b[0m                     \u001b[0mself\u001b[0m\u001b[1;33m.\u001b[0m\u001b[0m_output\u001b[0m\u001b[1;33m.\u001b[0m\u001b[0mextend\u001b[0m\u001b[1;33m(\u001b[0m\u001b[0mjob\u001b[0m\u001b[1;33m.\u001b[0m\u001b[0mget\u001b[0m\u001b[1;33m(\u001b[0m\u001b[1;33m)\u001b[0m\u001b[1;33m)\u001b[0m\u001b[1;33m\u001b[0m\u001b[1;33m\u001b[0m\u001b[0m\n",
      "\u001b[1;32mc:\\users\\chris\\appdata\\local\\programs\\python\\python39\\lib\\site-packages\\joblib\\_parallel_backends.py\u001b[0m in \u001b[0;36mwrap_future_result\u001b[1;34m(future, timeout)\u001b[0m\n\u001b[0;32m    540\u001b[0m         AsyncResults.get from multiprocessing.\"\"\"\n\u001b[0;32m    541\u001b[0m         \u001b[1;32mtry\u001b[0m\u001b[1;33m:\u001b[0m\u001b[1;33m\u001b[0m\u001b[1;33m\u001b[0m\u001b[0m\n\u001b[1;32m--> 542\u001b[1;33m             \u001b[1;32mreturn\u001b[0m \u001b[0mfuture\u001b[0m\u001b[1;33m.\u001b[0m\u001b[0mresult\u001b[0m\u001b[1;33m(\u001b[0m\u001b[0mtimeout\u001b[0m\u001b[1;33m=\u001b[0m\u001b[0mtimeout\u001b[0m\u001b[1;33m)\u001b[0m\u001b[1;33m\u001b[0m\u001b[1;33m\u001b[0m\u001b[0m\n\u001b[0m\u001b[0;32m    543\u001b[0m         \u001b[1;32mexcept\u001b[0m \u001b[0mCfTimeoutError\u001b[0m \u001b[1;32mas\u001b[0m \u001b[0me\u001b[0m\u001b[1;33m:\u001b[0m\u001b[1;33m\u001b[0m\u001b[1;33m\u001b[0m\u001b[0m\n\u001b[0;32m    544\u001b[0m             \u001b[1;32mraise\u001b[0m \u001b[0mTimeoutError\u001b[0m \u001b[1;32mfrom\u001b[0m \u001b[0me\u001b[0m\u001b[1;33m\u001b[0m\u001b[1;33m\u001b[0m\u001b[0m\n",
      "\u001b[1;32mc:\\users\\chris\\appdata\\local\\programs\\python\\python39\\lib\\concurrent\\futures\\_base.py\u001b[0m in \u001b[0;36mresult\u001b[1;34m(self, timeout)\u001b[0m\n\u001b[0;32m    433\u001b[0m                 \u001b[1;32mreturn\u001b[0m \u001b[0mself\u001b[0m\u001b[1;33m.\u001b[0m\u001b[0m__get_result\u001b[0m\u001b[1;33m(\u001b[0m\u001b[1;33m)\u001b[0m\u001b[1;33m\u001b[0m\u001b[1;33m\u001b[0m\u001b[0m\n\u001b[0;32m    434\u001b[0m \u001b[1;33m\u001b[0m\u001b[0m\n\u001b[1;32m--> 435\u001b[1;33m             \u001b[0mself\u001b[0m\u001b[1;33m.\u001b[0m\u001b[0m_condition\u001b[0m\u001b[1;33m.\u001b[0m\u001b[0mwait\u001b[0m\u001b[1;33m(\u001b[0m\u001b[0mtimeout\u001b[0m\u001b[1;33m)\u001b[0m\u001b[1;33m\u001b[0m\u001b[1;33m\u001b[0m\u001b[0m\n\u001b[0m\u001b[0;32m    436\u001b[0m \u001b[1;33m\u001b[0m\u001b[0m\n\u001b[0;32m    437\u001b[0m             \u001b[1;32mif\u001b[0m \u001b[0mself\u001b[0m\u001b[1;33m.\u001b[0m\u001b[0m_state\u001b[0m \u001b[1;32min\u001b[0m \u001b[1;33m[\u001b[0m\u001b[0mCANCELLED\u001b[0m\u001b[1;33m,\u001b[0m \u001b[0mCANCELLED_AND_NOTIFIED\u001b[0m\u001b[1;33m]\u001b[0m\u001b[1;33m:\u001b[0m\u001b[1;33m\u001b[0m\u001b[1;33m\u001b[0m\u001b[0m\n",
      "\u001b[1;32mc:\\users\\chris\\appdata\\local\\programs\\python\\python39\\lib\\threading.py\u001b[0m in \u001b[0;36mwait\u001b[1;34m(self, timeout)\u001b[0m\n\u001b[0;32m    310\u001b[0m         \u001b[1;32mtry\u001b[0m\u001b[1;33m:\u001b[0m    \u001b[1;31m# restore state no matter what (e.g., KeyboardInterrupt)\u001b[0m\u001b[1;33m\u001b[0m\u001b[1;33m\u001b[0m\u001b[0m\n\u001b[0;32m    311\u001b[0m             \u001b[1;32mif\u001b[0m \u001b[0mtimeout\u001b[0m \u001b[1;32mis\u001b[0m \u001b[1;32mNone\u001b[0m\u001b[1;33m:\u001b[0m\u001b[1;33m\u001b[0m\u001b[1;33m\u001b[0m\u001b[0m\n\u001b[1;32m--> 312\u001b[1;33m                 \u001b[0mwaiter\u001b[0m\u001b[1;33m.\u001b[0m\u001b[0macquire\u001b[0m\u001b[1;33m(\u001b[0m\u001b[1;33m)\u001b[0m\u001b[1;33m\u001b[0m\u001b[1;33m\u001b[0m\u001b[0m\n\u001b[0m\u001b[0;32m    313\u001b[0m                 \u001b[0mgotit\u001b[0m \u001b[1;33m=\u001b[0m \u001b[1;32mTrue\u001b[0m\u001b[1;33m\u001b[0m\u001b[1;33m\u001b[0m\u001b[0m\n\u001b[0;32m    314\u001b[0m             \u001b[1;32melse\u001b[0m\u001b[1;33m:\u001b[0m\u001b[1;33m\u001b[0m\u001b[1;33m\u001b[0m\u001b[0m\n",
      "\u001b[1;31mKeyboardInterrupt\u001b[0m: "
     ]
    }
   ],
   "source": [
    "support_vec(sel_methods[0], args, num_folds, is_sample)"
   ]
  },
  {
   "cell_type": "code",
   "execution_count": null,
   "metadata": {},
   "outputs": [],
   "source": [
    "# Fine tuned arguments used to determine final hyperparameters, full training dataset used and cv = 10\n",
    "# degree set to 1 and kernel rbf as these perfomed best in all SVM sample testing\n",
    "# gamma range explored to another decimal place, minor c variance in case gamma changes it\n",
    "is_sample = False\n",
    "num_folds = 10\n",
    "args = {'clf__C':(22,23,24,25,26),\n",
    "           'clf__degree':([1]),\n",
    "           'clf__gamma':('auto',0.15,0.16,0.17,0.18,0.19,0.2,0.21,0.22,0.23,0.24,0.25),\n",
    "           'clf__kernel':(['rbf'])}"
   ]
  },
  {
   "cell_type": "code",
   "execution_count": null,
   "metadata": {},
   "outputs": [],
   "source": [
    "f_reg_best_args, f_reg_train_score, f_reg_mse, f_reg_mae, f_reg_r2 = support_vec(sel_methods[0], args, num_folds, is_sample)"
   ]
  },
  {
   "cell_type": "markdown",
   "metadata": {},
   "source": [
    "<h3>Chi-Squared feature selected dataset<h3>"
   ]
  },
  {
   "cell_type": "code",
   "execution_count": 118,
   "metadata": {},
   "outputs": [],
   "source": [
    "is_sample = True\n",
    "num_folds = 5\n",
    "args = {'clf__C':(11,12,13,14,15,16,17,18,19,20,21,22,23,24,25,26,27,28,29),\n",
    "           'clf__degree':(1,2,3,4,5),\n",
    "           'clf__gamma':('auto',0.01,0.1, 0.2, 0.3, 0.4, 0.5, 0.6, 0.7, 0.8, 0.9, 1),\n",
    "           'clf__kernel':('linear','poly','rbf','sigmoid')}"
   ]
  },
  {
   "cell_type": "code",
   "execution_count": 119,
   "metadata": {},
   "outputs": [
    {
     "name": "stdout",
     "output_type": "stream",
     "text": [
      "\n",
      "\n",
      "Running cross fold validation for SVM with _chi2\n",
      "Fitting 5 folds for each of 4560 candidates, totalling 22800 fits\n"
     ]
    },
    {
     "name": "stderr",
     "output_type": "stream",
     "text": [
      "[Parallel(n_jobs=6)]: Using backend LokyBackend with 6 concurrent workers.\n",
      "[Parallel(n_jobs=6)]: Done  38 tasks      | elapsed:   18.8s\n",
      "[Parallel(n_jobs=6)]: Done 188 tasks      | elapsed:  1.5min\n",
      "[Parallel(n_jobs=6)]: Done 438 tasks      | elapsed:  3.5min\n",
      "[Parallel(n_jobs=6)]: Done 788 tasks      | elapsed:  6.4min\n",
      "[Parallel(n_jobs=6)]: Done 1238 tasks      | elapsed: 10.0min\n",
      "[Parallel(n_jobs=6)]: Done 1788 tasks      | elapsed: 14.5min\n",
      "[Parallel(n_jobs=6)]: Done 2438 tasks      | elapsed: 19.8min\n",
      "[Parallel(n_jobs=6)]: Done 3188 tasks      | elapsed: 25.9min\n",
      "[Parallel(n_jobs=6)]: Done 4038 tasks      | elapsed: 32.8min\n",
      "[Parallel(n_jobs=6)]: Done 4988 tasks      | elapsed: 40.5min\n",
      "[Parallel(n_jobs=6)]: Done 6038 tasks      | elapsed: 49.2min\n",
      "[Parallel(n_jobs=6)]: Done 7188 tasks      | elapsed: 58.6min\n",
      "[Parallel(n_jobs=6)]: Done 8438 tasks      | elapsed: 68.8min\n",
      "[Parallel(n_jobs=6)]: Done 9788 tasks      | elapsed: 79.9min\n",
      "[Parallel(n_jobs=6)]: Done 11238 tasks      | elapsed: 91.8min\n",
      "[Parallel(n_jobs=6)]: Done 12788 tasks      | elapsed: 104.6min\n",
      "[Parallel(n_jobs=6)]: Done 14438 tasks      | elapsed: 118.5min\n",
      "[Parallel(n_jobs=6)]: Done 16188 tasks      | elapsed: 133.2min\n",
      "[Parallel(n_jobs=6)]: Done 18038 tasks      | elapsed: 148.9min\n",
      "[Parallel(n_jobs=6)]: Done 19988 tasks      | elapsed: 165.3min\n",
      "[Parallel(n_jobs=6)]: Done 22038 tasks      | elapsed: 182.7min\n",
      "[Parallel(n_jobs=6)]: Done 22800 out of 22800 | elapsed: 189.2min finished\n"
     ]
    },
    {
     "name": "stdout",
     "output_type": "stream",
     "text": [
      "\n",
      "Best score for SVM with _chi2 : 0.745518865197516\n",
      "\n",
      "Best score for SVM with _chi2 :\n",
      "memory : None\n",
      "steps : [('clf', SVR(C=23, degree=1, gamma='auto'))]\n",
      "verbose : False\n",
      "clf : SVR(C=23, degree=1, gamma='auto')\n",
      "clf__C : 23\n",
      "clf__cache_size : 200\n",
      "clf__coef0 : 0.0\n",
      "clf__degree : 1\n",
      "clf__epsilon : 0.1\n",
      "clf__gamma : auto\n",
      "clf__kernel : rbf\n",
      "clf__max_iter : -1\n",
      "clf__shrinking : True\n",
      "clf__tol : 0.001\n",
      "clf__verbose : False\n",
      "\n",
      "Prediction scores for SVM using _chi2 :\n",
      "Mean Squared error: 5.036382799671845\n",
      "Mean Absolute error: 1.342463797953253\n",
      "R^2: 0.74162120436957\n"
     ]
    },
    {
     "data": {
      "text/plain": [
       "({'memory': None,\n",
       "  'steps': [('clf', SVR(C=23, degree=1, gamma='auto'))],\n",
       "  'verbose': False,\n",
       "  'clf': SVR(C=23, degree=1, gamma='auto'),\n",
       "  'clf__C': 23,\n",
       "  'clf__cache_size': 200,\n",
       "  'clf__coef0': 0.0,\n",
       "  'clf__degree': 1,\n",
       "  'clf__epsilon': 0.1,\n",
       "  'clf__gamma': 'auto',\n",
       "  'clf__kernel': 'rbf',\n",
       "  'clf__max_iter': -1,\n",
       "  'clf__shrinking': True,\n",
       "  'clf__tol': 0.001,\n",
       "  'clf__verbose': False},\n",
       " 0.745518865197516,\n",
       " 5.036382799671845,\n",
       " 1.342463797953253,\n",
       " 0.74162120436957)"
      ]
     },
     "execution_count": 119,
     "metadata": {},
     "output_type": "execute_result"
    }
   ],
   "source": [
    "support_vec(sel_methods[1], args, num_folds, is_sample)"
   ]
  },
  {
   "cell_type": "code",
   "execution_count": null,
   "metadata": {},
   "outputs": [],
   "source": [
    "# Degree set to 1 and kernel rbf as these perfomed best in all SVM sample testing\n",
    "# gamma as best gamma is auto, all tuning parameters remain, moderate range of c used in case gamma affects it\n",
    "# 10 fold cross-validation ran to confirm\n",
    "is_sample = False\n",
    "num_folds = 10\n",
    "args = {'clf__C':(21,22,23,24,25),\n",
    "           'clf__degree':([1]),\n",
    "           'clf__gamma':('auto',0.01,0.1, 0.2, 0.3, 0.4, 0.5, 0.6, 0.7, 0.8, 0.9, 1),\n",
    "           'clf__kernel':(['rbf'])}"
   ]
  },
  {
   "cell_type": "code",
   "execution_count": null,
   "metadata": {},
   "outputs": [],
   "source": [
    "chi2_best_args, chi2_train_score, chi2_mse, chi2_mae, chi2_r2 = support_vec(sel_methods[1], args, num_folds, is_sample)"
   ]
  },
  {
   "cell_type": "markdown",
   "metadata": {},
   "source": [
    "<h3>AdaBoost feature selected dataset<h3>"
   ]
  },
  {
   "cell_type": "code",
   "execution_count": 120,
   "metadata": {},
   "outputs": [],
   "source": [
    "is_sample = True\n",
    "num_folds = 5\n",
    "args = {'clf__C':(11,12,13,14,15,16,17,18,19,20,21,22,23,24,25,26,27,28,29),\n",
    "           'clf__degree':(1,2,3,4,5),\n",
    "           'clf__gamma':('auto',0.01,0.1, 0.2, 0.3, 0.4, 0.5, 0.6, 0.7, 0.8, 0.9, 1),\n",
    "           'clf__kernel':('linear','poly','rbf','sigmoid')}"
   ]
  },
  {
   "cell_type": "code",
   "execution_count": 121,
   "metadata": {},
   "outputs": [
    {
     "name": "stdout",
     "output_type": "stream",
     "text": [
      "\n",
      "\n",
      "Running cross fold validation for SVM with _adaboost\n",
      "Fitting 5 folds for each of 4560 candidates, totalling 22800 fits\n"
     ]
    },
    {
     "name": "stderr",
     "output_type": "stream",
     "text": [
      "[Parallel(n_jobs=6)]: Using backend LokyBackend with 6 concurrent workers.\n",
      "[Parallel(n_jobs=6)]: Done  38 tasks      | elapsed:   18.6s\n",
      "[Parallel(n_jobs=6)]: Done 188 tasks      | elapsed:  1.5min\n",
      "[Parallel(n_jobs=6)]: Done 438 tasks      | elapsed:  3.5min\n",
      "[Parallel(n_jobs=6)]: Done 788 tasks      | elapsed:  6.3min\n",
      "[Parallel(n_jobs=6)]: Done 1238 tasks      | elapsed: 10.0min\n",
      "[Parallel(n_jobs=6)]: Done 1788 tasks      | elapsed: 14.4min\n",
      "[Parallel(n_jobs=6)]: Done 2438 tasks      | elapsed: 19.7min\n",
      "[Parallel(n_jobs=6)]: Done 3188 tasks      | elapsed: 25.7min\n",
      "[Parallel(n_jobs=6)]: Done 4038 tasks      | elapsed: 32.5min\n",
      "[Parallel(n_jobs=6)]: Done 4988 tasks      | elapsed: 40.1min\n",
      "[Parallel(n_jobs=6)]: Done 6038 tasks      | elapsed: 48.6min\n",
      "[Parallel(n_jobs=6)]: Done 7188 tasks      | elapsed: 58.1min\n",
      "[Parallel(n_jobs=6)]: Done 8438 tasks      | elapsed: 68.0min\n",
      "[Parallel(n_jobs=6)]: Done 9788 tasks      | elapsed: 78.6min\n",
      "[Parallel(n_jobs=6)]: Done 11238 tasks      | elapsed: 90.2min\n",
      "[Parallel(n_jobs=6)]: Done 12788 tasks      | elapsed: 102.5min\n",
      "[Parallel(n_jobs=6)]: Done 14438 tasks      | elapsed: 115.6min\n",
      "[Parallel(n_jobs=6)]: Done 16188 tasks      | elapsed: 129.6min\n",
      "[Parallel(n_jobs=6)]: Done 18038 tasks      | elapsed: 144.4min\n",
      "[Parallel(n_jobs=6)]: Done 19988 tasks      | elapsed: 160.1min\n",
      "[Parallel(n_jobs=6)]: Done 22038 tasks      | elapsed: 176.6min\n",
      "[Parallel(n_jobs=6)]: Done 22800 out of 22800 | elapsed: 182.8min finished\n"
     ]
    },
    {
     "name": "stdout",
     "output_type": "stream",
     "text": [
      "\n",
      "Best score for SVM with _adaboost : 0.7437728466614654\n",
      "\n",
      "Best score for SVM with _adaboost :\n",
      "memory : None\n",
      "steps : [('clf', SVR(C=14, degree=1, gamma=0.2))]\n",
      "verbose : False\n",
      "clf : SVR(C=14, degree=1, gamma=0.2)\n",
      "clf__C : 14\n",
      "clf__cache_size : 200\n",
      "clf__coef0 : 0.0\n",
      "clf__degree : 1\n",
      "clf__epsilon : 0.1\n",
      "clf__gamma : 0.2\n",
      "clf__kernel : rbf\n",
      "clf__max_iter : -1\n",
      "clf__shrinking : True\n",
      "clf__tol : 0.001\n",
      "clf__verbose : False\n",
      "\n",
      "Prediction scores for SVM using _adaboost :\n",
      "Mean Squared error: 5.047681002527233\n",
      "Mean Absolute error: 1.342480649989959\n",
      "R^2: 0.7410415788401614\n"
     ]
    },
    {
     "data": {
      "text/plain": [
       "({'memory': None,\n",
       "  'steps': [('clf', SVR(C=14, degree=1, gamma=0.2))],\n",
       "  'verbose': False,\n",
       "  'clf': SVR(C=14, degree=1, gamma=0.2),\n",
       "  'clf__C': 14,\n",
       "  'clf__cache_size': 200,\n",
       "  'clf__coef0': 0.0,\n",
       "  'clf__degree': 1,\n",
       "  'clf__epsilon': 0.1,\n",
       "  'clf__gamma': 0.2,\n",
       "  'clf__kernel': 'rbf',\n",
       "  'clf__max_iter': -1,\n",
       "  'clf__shrinking': True,\n",
       "  'clf__tol': 0.001,\n",
       "  'clf__verbose': False},\n",
       " 0.7437728466614654,\n",
       " 5.047681002527233,\n",
       " 1.342480649989959,\n",
       " 0.7410415788401614)"
      ]
     },
     "execution_count": 121,
     "metadata": {},
     "output_type": "execute_result"
    }
   ],
   "source": [
    "support_vec(sel_methods[2], args, num_folds, is_sample)"
   ]
  },
  {
   "cell_type": "code",
   "execution_count": null,
   "metadata": {},
   "outputs": [],
   "source": [
    "# Fine tuned arguments used to determine final hyperparameters, full training dataset used and cv = 10\n",
    "# degree set to 1 and kernel rbf as these perfomed best in all SVM sample testing\n",
    "# gamma range explored to another decimal place, minor c variance in case gamma changes it\n",
    "is_sample = False\n",
    "num_folds = 10\n",
    "args = {'clf__C':(12,13,14,15,16),\n",
    "           'clf__degree':([1]),\n",
    "           'clf__gamma':('auto',0.15,0.16,0.17,0.18,0.19,0.2,0.21,0.22,0.23,0.24,0.25),\n",
    "           'clf__kernel':(['rbf'])}"
   ]
  },
  {
   "cell_type": "code",
   "execution_count": null,
   "metadata": {},
   "outputs": [],
   "source": [
    "extra_best_args, extra_train_score, extra_mse, extra_mae, extra_r2 = support_vec(sel_methods[2], args, num_folds, is_sample)"
   ]
  },
  {
   "cell_type": "markdown",
   "metadata": {},
   "source": [
    "<h3>Equal business and crime feature selected dataset<h3>"
   ]
  },
  {
   "cell_type": "code",
   "execution_count": 122,
   "metadata": {},
   "outputs": [],
   "source": [
    "is_sample = True\n",
    "num_folds = 5\n",
    "args = {'clf__C':(11,12,13,14,15,16,17,18,19,20,21,22,23,24,25,26,27,28,29),\n",
    "           'clf__degree':(1,2,3,4,5),\n",
    "           'clf__gamma':('auto',0.01,0.1, 0.2, 0.3, 0.4, 0.5, 0.6, 0.7, 0.8, 0.9, 1),\n",
    "           'clf__kernel':('linear','poly','rbf','sigmoid')}"
   ]
  },
  {
   "cell_type": "code",
   "execution_count": 123,
   "metadata": {},
   "outputs": [
    {
     "name": "stdout",
     "output_type": "stream",
     "text": [
      "\n",
      "\n",
      "Running cross fold validation for SVM with _equal_crime_and_business\n",
      "Fitting 5 folds for each of 4560 candidates, totalling 22800 fits\n"
     ]
    },
    {
     "name": "stderr",
     "output_type": "stream",
     "text": [
      "[Parallel(n_jobs=6)]: Using backend LokyBackend with 6 concurrent workers.\n",
      "[Parallel(n_jobs=6)]: Done  38 tasks      | elapsed:   18.1s\n",
      "[Parallel(n_jobs=6)]: Done 188 tasks      | elapsed:  1.5min\n",
      "[Parallel(n_jobs=6)]: Done 438 tasks      | elapsed:  3.5min\n",
      "[Parallel(n_jobs=6)]: Done 788 tasks      | elapsed:  6.2min\n",
      "[Parallel(n_jobs=6)]: Done 1238 tasks      | elapsed:  9.9min\n",
      "[Parallel(n_jobs=6)]: Done 1788 tasks      | elapsed: 14.2min\n",
      "[Parallel(n_jobs=6)]: Done 2438 tasks      | elapsed: 19.4min\n",
      "[Parallel(n_jobs=6)]: Done 3188 tasks      | elapsed: 25.4min\n",
      "[Parallel(n_jobs=6)]: Done 4038 tasks      | elapsed: 32.2min\n",
      "[Parallel(n_jobs=6)]: Done 4988 tasks      | elapsed: 39.8min\n",
      "[Parallel(n_jobs=6)]: Done 6038 tasks      | elapsed: 48.2min\n",
      "[Parallel(n_jobs=6)]: Done 7188 tasks      | elapsed: 57.5min\n",
      "[Parallel(n_jobs=6)]: Done 8438 tasks      | elapsed: 67.5min\n",
      "[Parallel(n_jobs=6)]: Done 9788 tasks      | elapsed: 78.4min\n",
      "[Parallel(n_jobs=6)]: Done 11238 tasks      | elapsed: 90.2min\n",
      "[Parallel(n_jobs=6)]: Done 12788 tasks      | elapsed: 102.7min\n",
      "[Parallel(n_jobs=6)]: Done 14438 tasks      | elapsed: 116.2min\n",
      "[Parallel(n_jobs=6)]: Done 16188 tasks      | elapsed: 130.4min\n",
      "[Parallel(n_jobs=6)]: Done 18038 tasks      | elapsed: 145.5min\n",
      "[Parallel(n_jobs=6)]: Done 19988 tasks      | elapsed: 161.5min\n",
      "[Parallel(n_jobs=6)]: Done 22038 tasks      | elapsed: 178.3min\n",
      "[Parallel(n_jobs=6)]: Done 22800 out of 22800 | elapsed: 184.6min finished\n"
     ]
    },
    {
     "name": "stdout",
     "output_type": "stream",
     "text": [
      "\n",
      "Best score for SVM with _equal_crime_and_business : 0.7408737223136326\n",
      "\n",
      "Best score for SVM with _equal_crime_and_business :\n",
      "memory : None\n",
      "steps : [('clf', SVR(C=18, degree=1, gamma=1))]\n",
      "verbose : False\n",
      "clf : SVR(C=18, degree=1, gamma=1)\n",
      "clf__C : 18\n",
      "clf__cache_size : 200\n",
      "clf__coef0 : 0.0\n",
      "clf__degree : 1\n",
      "clf__epsilon : 0.1\n",
      "clf__gamma : 1\n",
      "clf__kernel : rbf\n",
      "clf__max_iter : -1\n",
      "clf__shrinking : True\n",
      "clf__tol : 0.001\n",
      "clf__verbose : False\n",
      "\n",
      "Prediction scores for SVM using _equal_crime_and_business :\n",
      "Mean Squared error: 5.309108875068977\n",
      "Mean Absolute error: 1.367210699212776\n",
      "R^2: 0.7276296875010118\n"
     ]
    },
    {
     "data": {
      "text/plain": [
       "({'memory': None,\n",
       "  'steps': [('clf', SVR(C=18, degree=1, gamma=1))],\n",
       "  'verbose': False,\n",
       "  'clf': SVR(C=18, degree=1, gamma=1),\n",
       "  'clf__C': 18,\n",
       "  'clf__cache_size': 200,\n",
       "  'clf__coef0': 0.0,\n",
       "  'clf__degree': 1,\n",
       "  'clf__epsilon': 0.1,\n",
       "  'clf__gamma': 1,\n",
       "  'clf__kernel': 'rbf',\n",
       "  'clf__max_iter': -1,\n",
       "  'clf__shrinking': True,\n",
       "  'clf__tol': 0.001,\n",
       "  'clf__verbose': False},\n",
       " 0.7408737223136326,\n",
       " 5.309108875068977,\n",
       " 1.367210699212776,\n",
       " 0.7276296875010118)"
      ]
     },
     "execution_count": 123,
     "metadata": {},
     "output_type": "execute_result"
    }
   ],
   "source": [
    "support_vec(sel_methods[3], args, num_folds, is_sample)"
   ]
  },
  {
   "cell_type": "code",
   "execution_count": null,
   "metadata": {},
   "outputs": [],
   "source": [
    "# Fine tuned arguments used to determine final hyperparameters, full training dataset used and cv = 10\n",
    "# degree set to 1 and kernel rbf as these perfomed best in all SVM sample testing\n",
    "# gamma range explored to another decimal place, minor c variance in case gamma changes it\n",
    "is_sample = False\n",
    "num_folds = 10\n",
    "args = {'clf__C':(10,11,12,13,14),\n",
    "           'clf__degree':([1]),\n",
    "           'clf__gamma':('auto',0.25,0.26,0.27,0.28,0.29,0.3,0.31,0.32,0.33,0.34,0.35),\n",
    "           'clf__kernel':(['rbf'])}"
   ]
  },
  {
   "cell_type": "code",
   "execution_count": null,
   "metadata": {},
   "outputs": [],
   "source": [
    "equal_best_args, equal_train_score, equal_mse, equal_mae, equal_r2 = support_vec(sel_methods[3], args, num_folds, is_sample)"
   ]
  },
  {
   "cell_type": "markdown",
   "metadata": {},
   "source": [
    "<h3>All business feature selected dataset<h3>"
   ]
  },
  {
   "cell_type": "code",
   "execution_count": 124,
   "metadata": {},
   "outputs": [],
   "source": [
    "is_sample = True\n",
    "num_folds = 5\n",
    "args = {'clf__C':(11,12,13,14,15,16,17,18,19,20,21,22,23,24,25,26,27,28,29),\n",
    "           'clf__degree':(1,2,3,4,5),\n",
    "           'clf__gamma':('auto',0.01,0.1, 0.2, 0.3, 0.4, 0.5, 0.6, 0.7, 0.8, 0.9, 1),\n",
    "           'clf__kernel':('linear','poly','rbf','sigmoid')}"
   ]
  },
  {
   "cell_type": "code",
   "execution_count": 125,
   "metadata": {},
   "outputs": [
    {
     "name": "stdout",
     "output_type": "stream",
     "text": [
      "\n",
      "\n",
      "Running cross fold validation for SVM with _all_business\n",
      "Fitting 5 folds for each of 4560 candidates, totalling 22800 fits\n"
     ]
    },
    {
     "name": "stderr",
     "output_type": "stream",
     "text": [
      "[Parallel(n_jobs=6)]: Using backend LokyBackend with 6 concurrent workers.\n",
      "[Parallel(n_jobs=6)]: Done  38 tasks      | elapsed:   20.0s\n",
      "[Parallel(n_jobs=6)]: Done 188 tasks      | elapsed:  1.6min\n",
      "[Parallel(n_jobs=6)]: Done 438 tasks      | elapsed:  3.7min\n",
      "[Parallel(n_jobs=6)]: Done 788 tasks      | elapsed:  6.7min\n",
      "[Parallel(n_jobs=6)]: Done 1238 tasks      | elapsed: 10.6min\n",
      "[Parallel(n_jobs=6)]: Done 1788 tasks      | elapsed: 15.2min\n",
      "[Parallel(n_jobs=6)]: Done 2438 tasks      | elapsed: 20.9min\n",
      "[Parallel(n_jobs=6)]: Done 3188 tasks      | elapsed: 27.3min\n",
      "[Parallel(n_jobs=6)]: Done 4038 tasks      | elapsed: 34.6min\n",
      "[Parallel(n_jobs=6)]: Done 4988 tasks      | elapsed: 42.8min\n",
      "[Parallel(n_jobs=6)]: Done 6038 tasks      | elapsed: 52.2min\n",
      "[Parallel(n_jobs=6)]: Done 7188 tasks      | elapsed: 62.1min\n",
      "[Parallel(n_jobs=6)]: Done 8438 tasks      | elapsed: 73.1min\n",
      "[Parallel(n_jobs=6)]: Done 9788 tasks      | elapsed: 84.8min\n",
      "[Parallel(n_jobs=6)]: Done 11238 tasks      | elapsed: 97.5min\n",
      "[Parallel(n_jobs=6)]: Done 12788 tasks      | elapsed: 111.1min\n",
      "[Parallel(n_jobs=6)]: Done 14438 tasks      | elapsed: 125.7min\n",
      "[Parallel(n_jobs=6)]: Done 16188 tasks      | elapsed: 141.0min\n",
      "[Parallel(n_jobs=6)]: Done 18038 tasks      | elapsed: 157.4min\n",
      "[Parallel(n_jobs=6)]: Done 19988 tasks      | elapsed: 174.7min\n",
      "[Parallel(n_jobs=6)]: Done 22038 tasks      | elapsed: 193.3min\n",
      "[Parallel(n_jobs=6)]: Done 22800 out of 22800 | elapsed: 200.1min finished\n"
     ]
    },
    {
     "name": "stdout",
     "output_type": "stream",
     "text": [
      "\n",
      "Best score for SVM with _all_business : 0.5276407815228918\n",
      "\n",
      "Best score for SVM with _all_business :\n",
      "memory : None\n",
      "steps : [('clf', SVR(C=29, degree=1, gamma=1))]\n",
      "verbose : False\n",
      "clf : SVR(C=29, degree=1, gamma=1)\n",
      "clf__C : 29\n",
      "clf__cache_size : 200\n",
      "clf__coef0 : 0.0\n",
      "clf__degree : 1\n",
      "clf__epsilon : 0.1\n",
      "clf__gamma : 1\n",
      "clf__kernel : rbf\n",
      "clf__max_iter : -1\n",
      "clf__shrinking : True\n",
      "clf__tol : 0.001\n",
      "clf__verbose : False\n",
      "\n",
      "Prediction scores for SVM using _all_business :\n",
      "Mean Squared error: 9.187937634552277\n",
      "Mean Absolute error: 1.6419215737017538\n",
      "R^2: 0.5286362544765659\n"
     ]
    },
    {
     "data": {
      "text/plain": [
       "({'memory': None,\n",
       "  'steps': [('clf', SVR(C=29, degree=1, gamma=1))],\n",
       "  'verbose': False,\n",
       "  'clf': SVR(C=29, degree=1, gamma=1),\n",
       "  'clf__C': 29,\n",
       "  'clf__cache_size': 200,\n",
       "  'clf__coef0': 0.0,\n",
       "  'clf__degree': 1,\n",
       "  'clf__epsilon': 0.1,\n",
       "  'clf__gamma': 1,\n",
       "  'clf__kernel': 'rbf',\n",
       "  'clf__max_iter': -1,\n",
       "  'clf__shrinking': True,\n",
       "  'clf__tol': 0.001,\n",
       "  'clf__verbose': False},\n",
       " 0.5276407815228918,\n",
       " 9.187937634552277,\n",
       " 1.6419215737017538,\n",
       " 0.5286362544765659)"
      ]
     },
     "execution_count": 125,
     "metadata": {},
     "output_type": "execute_result"
    }
   ],
   "source": [
    "support_vec(sel_methods[4], args, num_folds, is_sample)"
   ]
  },
  {
   "cell_type": "code",
   "execution_count": null,
   "metadata": {},
   "outputs": [],
   "source": [
    "# Fine tuned arguments used to determine final hyperparameters, full training dataset used and cv = 10\n",
    "# degree set to 1 and kernel rbf as these perfomed best in all SVM sample testing\n",
    "# gamma range explored further as max gamma selected by algorithm, minor c variance in case gamma changes it\n",
    "is_sample = False\n",
    "num_folds = 10\n",
    "args = {'clf__C':(25,26,27,28,29,30,31,32,33),\n",
    "           'clf__degree':([1]),\n",
    "           'clf__gamma':('auto',1,1.5,2,2.5,3,3.5,4,4.5,5),\n",
    "           'clf__kernel':(['rbf'])}"
   ]
  },
  {
   "cell_type": "code",
   "execution_count": null,
   "metadata": {},
   "outputs": [],
   "source": [
    "bus_best_args, bus_train_score, bus_mse, bus_mae, bus_r2 = support_vec(sel_methods[4], args, num_folds, is_sample)"
   ]
  },
  {
   "cell_type": "code",
   "execution_count": null,
   "metadata": {},
   "outputs": [],
   "source": []
  }
 ],
 "metadata": {
  "kernelspec": {
   "display_name": "Python 3",
   "language": "python",
   "name": "python3"
  },
  "language_info": {
   "codemirror_mode": {
    "name": "ipython",
    "version": 3
   },
   "file_extension": ".py",
   "mimetype": "text/x-python",
   "name": "python",
   "nbconvert_exporter": "python",
   "pygments_lexer": "ipython3",
   "version": "3.9.0"
  }
 },
 "nbformat": 4,
 "nbformat_minor": 4
}
