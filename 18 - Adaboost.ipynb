{
 "cells": [
  {
   "cell_type": "code",
   "execution_count": 16,
   "metadata": {},
   "outputs": [],
   "source": [
    "import numpy as np\n",
    "import pandas as pd\n",
    "import matplotlib.pyplot as plt\n",
    "%matplotlib inline\n",
    "import seaborn as sns\n",
    "import sklearn\n",
    "from sklearn.ensemble import AdaBoostRegressor\n",
    "from sklearn.tree import DecisionTreeRegressor\n",
    "from sklearn.metrics import mean_squared_error, r2_score, mean_absolute_error\n",
    "from sklearn.model_selection import cross_val_score\n",
    "from sklearn.pipeline import make_pipeline"
   ]
  },
  {
   "cell_type": "code",
   "execution_count": 17,
   "metadata": {},
   "outputs": [],
   "source": [
    "y_train = pd.read_csv('y_train.csv')\n",
    "y_test = pd.read_csv('y_test.csv')\n",
    "file = open(\"Selection Methods\",\"rb\")\n",
    "sel_methods = np.load(file)"
   ]
  },
  {
   "cell_type": "code",
   "execution_count": 18,
   "metadata": {},
   "outputs": [],
   "source": [
    "def ada_boost(method):\n",
    "    method_string = method\n",
    "    if (method == ''):\n",
    "        method_string = \"no feature selection\"\n",
    "    x_train = pd.read_csv('x_train' + method + '.csv').values\n",
    "    x_test = pd.read_csv('x_test' + method + '.csv').values\n",
    "    adaBoost = AdaBoostRegressor(\n",
    "        DecisionTreeRegressor(),\n",
    "                              n_estimators=500,\n",
    "                              random_state=13)\n",
    "    adaBoost.fit(x_train, y_train.values.ravel())\n",
    "    y_train_prediction = adaBoost.predict(x_train)\n",
    "    y_test_prediction = adaBoost.predict(x_test)\n",
    "    print(\"\\n\\nResults for Random Forest Regressor on\",method_string,\"data\")\n",
    "    print(\"\\nMean Squared error\")\n",
    "    print(\"Train:\",mean_squared_error(y_train,y_train_prediction))\n",
    "    print(\"Test:\",mean_squared_error(y_test,y_test_prediction))\n",
    "    print(\"\\nMean Absolute error\")\n",
    "    print(\"Train:\",mean_absolute_error(y_train,y_train_prediction))\n",
    "    print(\"Test:\",mean_absolute_error(y_test,y_test_prediction))\n",
    "    print(\"\\nR^2\")\n",
    "    print(\"Train:\",r2_score(y_train,y_train_prediction))\n",
    "    print(\"Test:\",r2_score(y_test,y_test_prediction))"
   ]
  },
  {
   "cell_type": "code",
   "execution_count": 19,
   "metadata": {},
   "outputs": [],
   "source": [
    "#AdaBoost performs worse than Random Forest Regression but again better without feature selection"
   ]
  },
  {
   "cell_type": "code",
   "execution_count": 20,
   "metadata": {},
   "outputs": [
    {
     "name": "stdout",
     "output_type": "stream",
     "text": [
      "\n",
      "\n",
      "Results for Random Forest Regressor on no feature selection data\n",
      "\n",
      "Mean Squared error\n",
      "Train: 0.04885030065594285\n",
      "Test: 4.829698790384481\n",
      "\n",
      "Mean Absolute error\n",
      "Train: 0.04436900367893235\n",
      "Test: 1.3390484587929388\n",
      "\n",
      "R^2\n",
      "Train: 0.9975031558324688\n",
      "Test: 0.7522246011962006\n",
      "\n",
      "\n",
      "Results for Random Forest Regressor on _f_regression data\n",
      "\n",
      "Mean Squared error\n",
      "Train: 6.732291870471436\n",
      "Test: 10.499761208734137\n",
      "\n",
      "Mean Absolute error\n",
      "Train: 2.029319623213205\n",
      "Test: 2.6420795537332493\n",
      "\n",
      "R^2\n",
      "Train: 0.6558980504686271\n",
      "Test: 0.4613364862383773\n",
      "\n",
      "\n",
      "Results for Random Forest Regressor on _chi2 data\n",
      "\n",
      "Mean Squared error\n",
      "Train: 1.3490908718603294\n",
      "Test: 6.4879449288919515\n",
      "\n",
      "Mean Absolute error\n",
      "Train: 0.7516810147456674\n",
      "Test: 1.8414800235945201\n",
      "\n",
      "R^2\n",
      "Train: 0.9310450574583287\n",
      "Test: 0.6671525053749123\n",
      "\n",
      "\n",
      "Results for Random Forest Regressor on _mutual_info data\n",
      "\n",
      "Mean Squared error\n",
      "Train: 1.6241140595804355\n",
      "Test: 5.430080715602524\n",
      "\n",
      "Mean Absolute error\n",
      "Train: 0.9223060147417261\n",
      "Test: 1.5532288926069562\n",
      "\n",
      "R^2\n",
      "Train: 0.9169880294979241\n",
      "Test: 0.7214235352473961\n",
      "\n",
      "\n",
      "Results for Random Forest Regressor on _equal_crime_and_business data\n",
      "\n",
      "Mean Squared error\n",
      "Train: 2.9044308023960514\n",
      "Test: 7.0938137407585895\n",
      "\n",
      "Mean Absolute error\n",
      "Train: 1.2547374546122987\n",
      "Test: 1.9951171510242085\n",
      "\n",
      "R^2\n",
      "Train: 0.851548280940252\n",
      "Test: 0.6360699486776054\n",
      "\n",
      "\n",
      "Results for Random Forest Regressor on _all_business data\n",
      "\n",
      "Mean Squared error\n",
      "Train: 7.943511425923268\n",
      "Test: 11.253587906238698\n",
      "\n",
      "Mean Absolute error\n",
      "Train: 2.270364748394066\n",
      "Test: 2.684920116116617\n",
      "\n",
      "R^2\n",
      "Train: 0.5939900081020217\n",
      "Test: 0.4226633269566834\n"
     ]
    }
   ],
   "source": [
    "for method in sel_methods:\n",
    "    ada_boost(method)"
   ]
  },
  {
   "cell_type": "code",
   "execution_count": 21,
   "metadata": {},
   "outputs": [],
   "source": [
    "def crossfold_validation(method):\n",
    "    method_string = method\n",
    "    if (method == ''):\n",
    "        method_string = \"no feature selection\"\n",
    "    x_train = pd.read_csv('x_train' + method + '.csv').values\n",
    "    x_test = pd.read_csv('x_test' + method + '.csv').values\n",
    "    pipe = make_pipeline(AdaBoostRegressor(DecisionTreeRegressor(),\n",
    "                                           n_estimators=500,\n",
    "                                           random_state=13))\n",
    "    pipe.fit(x_train, y_train.values.ravel())\n",
    "    scores = cross_val_score(estimator = pipe, X = x_train, y = y_train.values.ravel(), cv = 10)\n",
    "    print('\\nCrossfold validation scores for adaboost using',method_string,'data:\\n',scores)"
   ]
  },
  {
   "cell_type": "code",
   "execution_count": 22,
   "metadata": {},
   "outputs": [
    {
     "name": "stdout",
     "output_type": "stream",
     "text": [
      "\n",
      "Crossfold validation scores for adaboost using no feature selection data:\n",
      " [0.75868326 0.75280385 0.73665439 0.75179852 0.73953363 0.7336269\n",
      " 0.71328283 0.73988349 0.74180575 0.73185222]\n",
      "\n",
      "Crossfold validation scores for adaboost using _f_regression data:\n",
      " [0.45990836 0.40551138 0.61362183 0.48663225 0.47630154 0.53170096\n",
      " 0.42258429 0.43192838 0.52793785 0.34308824]\n",
      "\n",
      "Crossfold validation scores for adaboost using _chi2 data:\n",
      " [0.70278466 0.71016459 0.67573405 0.71140753 0.69636485 0.68554142\n",
      " 0.66262191 0.67820139 0.69318952 0.68798441]\n",
      "\n",
      "Crossfold validation scores for adaboost using _mutual_info data:\n",
      " [0.72021073 0.7062409  0.67587381 0.70626968 0.70451284 0.69306877\n",
      " 0.66044799 0.68944198 0.69547119 0.69742664]\n",
      "\n",
      "Crossfold validation scores for adaboost using _equal_crime_and_business data:\n",
      " [0.64960854 0.63902124 0.65763407 0.63942307 0.6996477  0.66521315\n",
      " 0.63531116 0.62644559 0.65802243 0.64197403]\n",
      "\n",
      "Crossfold validation scores for adaboost using _all_business data:\n",
      " [ 4.38458361e-01  4.25651868e-01  6.33130144e-01  3.46267540e-01\n",
      "  4.31243112e-01  4.60508243e-01  4.03045551e-01  2.43050653e-01\n",
      " -2.50709168e-04  3.65500558e-01]\n"
     ]
    }
   ],
   "source": [
    "for method in sel_methods:\n",
    "    crossfold_validation(method)"
   ]
  },
  {
   "cell_type": "code",
   "execution_count": null,
   "metadata": {},
   "outputs": [],
   "source": []
  }
 ],
 "metadata": {
  "kernelspec": {
   "display_name": "Python 3",
   "language": "python",
   "name": "python3"
  },
  "language_info": {
   "codemirror_mode": {
    "name": "ipython",
    "version": 3
   },
   "file_extension": ".py",
   "mimetype": "text/x-python",
   "name": "python",
   "nbconvert_exporter": "python",
   "pygments_lexer": "ipython3",
   "version": "3.9.0"
  }
 },
 "nbformat": 4,
 "nbformat_minor": 4
}
