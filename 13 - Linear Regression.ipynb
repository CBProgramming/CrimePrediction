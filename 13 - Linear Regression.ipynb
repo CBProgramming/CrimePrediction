{
 "cells": [
  {
   "cell_type": "code",
   "execution_count": 32,
   "metadata": {},
   "outputs": [],
   "source": [
    "import numpy as np\n",
    "import pandas as pd\n",
    "import matplotlib.pyplot as plt\n",
    "%matplotlib inline\n",
    "import seaborn as sns\n",
    "from sklearn.linear_model import LinearRegression\n",
    "from sklearn.metrics import mean_squared_error, r2_score, mean_absolute_error\n",
    "from sklearn.pipeline import Pipeline\n",
    "from sklearn.model_selection import GridSearchCV\n",
    "import pickle"
   ]
  },
  {
   "cell_type": "code",
   "execution_count": 33,
   "metadata": {},
   "outputs": [],
   "source": [
    "y_test = pd.read_csv('y_test.csv')\n",
    "file = open(\"Selection Methods\",\"rb\")\n",
    "sel_methods = np.load(file)\n",
    "model_name = \"linear_regression\"\n",
    "display_name = \"Linear Regression\""
   ]
  },
  {
   "cell_type": "code",
   "execution_count": 34,
   "metadata": {},
   "outputs": [],
   "source": [
    "def get_best_model(method, args, _cv, is_sample):\n",
    "    sample_string = ''\n",
    "    if (is_sample):\n",
    "        sample_string = '_sample'\n",
    "    y_train = pd.read_csv('y_train'+ sample_string + '.csv')    \n",
    "    method_string = method\n",
    "    if (method == ''):\n",
    "        method_string = \"no feature selection\"\n",
    "    print('\\n\\nRunning cross fold validation for',display_name,'with',method_string,'dataset')\n",
    "    x_train = pd.read_csv('x_train' + method + sample_string + '.csv').values\n",
    "    x_test = pd.read_csv('x_test' + method + '.csv').values\n",
    "    pipe = Pipeline([('clf', LinearRegression())])\n",
    "    grid = GridSearchCV(pipe, args, cv = _cv, verbose = 1, scoring = 'r2', n_jobs=6)\n",
    "    grid.fit(x_train, y_train.values.ravel())\n",
    "    print('\\nBest score for',display_name,'with',method_string,\"dataset:\",grid.best_score_)\n",
    "    best_args = grid.best_estimator_.get_params()\n",
    "    print('\\nBest hyperparameters for',display_name,'with',method_string,'dataset:')\n",
    "    for arg in best_args:\n",
    "        print(arg,\":\",best_args[arg])\n",
    "    y_test_predict = grid.predict(x_test)\n",
    "    mse = mean_squared_error(y_test,y_test_predict)\n",
    "    mae = mean_absolute_error(y_test,y_test_predict)\n",
    "    r2 = r2_score(y_test,y_test_predict)\n",
    "    print('\\nPrediction scores for',display_name,'using',method_string,'dataset:')\n",
    "    print('Mean Squared error:',mse)\n",
    "    print('Mean Absolute error:',mae)\n",
    "    print('R^2:',r2)\n",
    "    return grid.best_estimator_,grid.best_score_,mse,mae,r2"
   ]
  },
  {
   "cell_type": "code",
   "execution_count": 35,
   "metadata": {},
   "outputs": [],
   "source": [
    "def save_model(model,method):\n",
    "    with open('CrimeGUI/Models/' + model_name + method,'wb') as file:\n",
    "        pickle.dump(model,file)"
   ]
  },
  {
   "cell_type": "markdown",
   "metadata": {},
   "source": [
    "<h3> Linear Regression with F-Regression Dataset <h3>"
   ]
  },
  {
   "cell_type": "code",
   "execution_count": 36,
   "metadata": {},
   "outputs": [],
   "source": [
    "# can go straight into full training dataset due to speed of algorithm\n",
    "is_sample = False\n",
    "num_folds = 10\n",
    "args = {}"
   ]
  },
  {
   "cell_type": "code",
   "execution_count": 37,
   "metadata": {},
   "outputs": [
    {
     "name": "stdout",
     "output_type": "stream",
     "text": [
      "\n",
      "\n",
      "Running cross fold validation for Linear Regression with _f_regression dataset\n",
      "Fitting 10 folds for each of 1 candidates, totalling 10 fits\n"
     ]
    },
    {
     "name": "stderr",
     "output_type": "stream",
     "text": [
      "[Parallel(n_jobs=6)]: Using backend LokyBackend with 6 concurrent workers.\n"
     ]
    },
    {
     "name": "stdout",
     "output_type": "stream",
     "text": [
      "\n",
      "Best score for Linear Regression with _f_regression dataset: 0.7439901710700152\n",
      "\n",
      "Best hyperparameters for Linear Regression with _f_regression dataset:\n",
      "memory : None\n",
      "steps : [('clf', LinearRegression())]\n",
      "verbose : False\n",
      "clf : LinearRegression()\n",
      "clf__copy_X : True\n",
      "clf__fit_intercept : True\n",
      "clf__n_jobs : None\n",
      "clf__normalize : False\n",
      "\n",
      "Prediction scores for Linear Regression using _f_regression dataset:\n",
      "Mean Squared error: 4.84282905293272\n",
      "Mean Absolute error: 1.3789992709632717\n",
      "R^2: 0.7515509865091387\n"
     ]
    },
    {
     "name": "stderr",
     "output_type": "stream",
     "text": [
      "[Parallel(n_jobs=6)]: Done  10 out of  10 | elapsed:    2.8s remaining:    0.0s\n",
      "[Parallel(n_jobs=6)]: Done  10 out of  10 | elapsed:    2.8s finished\n"
     ]
    }
   ],
   "source": [
    "f_reg_model, f_reg_train_score, f_reg_mse, f_reg_mae, f_reg_r2 = get_best_model(sel_methods[0], args, num_folds, is_sample)"
   ]
  },
  {
   "cell_type": "code",
   "execution_count": 38,
   "metadata": {},
   "outputs": [],
   "source": [
    "# Hyperparameter tuning\n",
    "is_sample = False\n",
    "num_folds = 10\n",
    "args = {'clf__copy_X':(True,False),\n",
    "         'clf__fit_intercept':(True,False),\n",
    "         'clf__normalize':(True,False)}"
   ]
  },
  {
   "cell_type": "code",
   "execution_count": 39,
   "metadata": {},
   "outputs": [
    {
     "name": "stdout",
     "output_type": "stream",
     "text": [
      "\n",
      "\n",
      "Running cross fold validation for Linear Regression with _f_regression dataset\n",
      "Fitting 10 folds for each of 8 candidates, totalling 80 fits\n"
     ]
    },
    {
     "name": "stderr",
     "output_type": "stream",
     "text": [
      "[Parallel(n_jobs=6)]: Using backend LokyBackend with 6 concurrent workers.\n",
      "[Parallel(n_jobs=6)]: Done  68 tasks      | elapsed:    0.5s\n",
      "[Parallel(n_jobs=6)]: Done  80 out of  80 | elapsed:    0.6s finished\n"
     ]
    },
    {
     "name": "stdout",
     "output_type": "stream",
     "text": [
      "\n",
      "Best score for Linear Regression with _f_regression dataset: 0.7439901710700154\n",
      "\n",
      "Best hyperparameters for Linear Regression with _f_regression dataset:\n",
      "memory : None\n",
      "steps : [('clf', LinearRegression(normalize=True))]\n",
      "verbose : False\n",
      "clf : LinearRegression(normalize=True)\n",
      "clf__copy_X : True\n",
      "clf__fit_intercept : True\n",
      "clf__n_jobs : None\n",
      "clf__normalize : True\n",
      "\n",
      "Prediction scores for Linear Regression using _f_regression dataset:\n",
      "Mean Squared error: 4.842829052932722\n",
      "Mean Absolute error: 1.3789992709632786\n",
      "R^2: 0.7515509865091385\n"
     ]
    }
   ],
   "source": [
    "f_reg_model, f_reg_train_score, f_reg_mse, f_reg_mae, f_reg_r2 = get_best_model(sel_methods[0], args, num_folds, is_sample)"
   ]
  },
  {
   "cell_type": "code",
   "execution_count": 40,
   "metadata": {},
   "outputs": [],
   "source": [
    "# Accuracy unchanged, final model saved\n",
    "save_model(f_reg_model,sel_methods[0])"
   ]
  },
  {
   "cell_type": "markdown",
   "metadata": {},
   "source": [
    "<h3> Linear Regression with Chi-Squared Feature Selected Dataset <h3>"
   ]
  },
  {
   "cell_type": "code",
   "execution_count": 41,
   "metadata": {},
   "outputs": [],
   "source": [
    "# Final hyperparameter tuning as all hyperparameters are binary\n",
    "is_sample = False\n",
    "num_folds = 10\n",
    "args = {'clf__copy_X':(True,False),\n",
    "         'clf__fit_intercept':(True,False),\n",
    "         'clf__normalize':(True,False)}"
   ]
  },
  {
   "cell_type": "code",
   "execution_count": 42,
   "metadata": {},
   "outputs": [
    {
     "name": "stdout",
     "output_type": "stream",
     "text": [
      "\n",
      "\n",
      "Running cross fold validation for Linear Regression with _chi2 dataset\n",
      "Fitting 10 folds for each of 8 candidates, totalling 80 fits\n"
     ]
    },
    {
     "name": "stderr",
     "output_type": "stream",
     "text": [
      "[Parallel(n_jobs=6)]: Using backend LokyBackend with 6 concurrent workers.\n",
      "[Parallel(n_jobs=6)]: Done  68 tasks      | elapsed:    0.4s\n",
      "[Parallel(n_jobs=6)]: Done  80 out of  80 | elapsed:    0.5s finished\n"
     ]
    },
    {
     "name": "stdout",
     "output_type": "stream",
     "text": [
      "\n",
      "Best score for Linear Regression with _chi2 dataset: 0.7277523962423127\n",
      "\n",
      "Best hyperparameters for Linear Regression with _chi2 dataset:\n",
      "memory : None\n",
      "steps : [('clf', LinearRegression(normalize=True))]\n",
      "verbose : False\n",
      "clf : LinearRegression(normalize=True)\n",
      "clf__copy_X : True\n",
      "clf__fit_intercept : True\n",
      "clf__n_jobs : None\n",
      "clf__normalize : True\n",
      "\n",
      "Prediction scores for Linear Regression using _chi2 dataset:\n",
      "Mean Squared error: 5.254872532952907\n",
      "Mean Absolute error: 1.4527229062655547\n",
      "R^2: 0.7304121449338072\n"
     ]
    }
   ],
   "source": [
    "chi2_model, chi2_train_score, chi2_mse, chi2_mae, chi2_r2 = get_best_model(sel_methods[1], args, num_folds, is_sample)"
   ]
  },
  {
   "cell_type": "code",
   "execution_count": 43,
   "metadata": {},
   "outputs": [],
   "source": [
    "#Final model saved\n",
    "save_model(chi2_model,sel_methods[1])"
   ]
  },
  {
   "cell_type": "markdown",
   "metadata": {},
   "source": [
    "<h3> Linear Regression with AdaBoost Feature Selected Dataset <h3>"
   ]
  },
  {
   "cell_type": "code",
   "execution_count": 44,
   "metadata": {},
   "outputs": [],
   "source": [
    "# Final hyperparameter tuning as all hyperparameters are binary\n",
    "is_sample = False\n",
    "num_folds = 10\n",
    "args = {'clf__copy_X':(True,False),\n",
    "         'clf__fit_intercept':(True,False),\n",
    "         'clf__normalize':(True,False)}"
   ]
  },
  {
   "cell_type": "code",
   "execution_count": 45,
   "metadata": {},
   "outputs": [
    {
     "name": "stdout",
     "output_type": "stream",
     "text": [
      "\n",
      "\n",
      "Running cross fold validation for Linear Regression with _adaboost dataset\n",
      "Fitting 10 folds for each of 8 candidates, totalling 80 fits\n"
     ]
    },
    {
     "name": "stderr",
     "output_type": "stream",
     "text": [
      "[Parallel(n_jobs=6)]: Using backend LokyBackend with 6 concurrent workers.\n",
      "[Parallel(n_jobs=6)]: Done  65 tasks      | elapsed:    0.5s\n",
      "[Parallel(n_jobs=6)]: Done  80 out of  80 | elapsed:    0.6s finished\n"
     ]
    },
    {
     "name": "stdout",
     "output_type": "stream",
     "text": [
      "\n",
      "Best score for Linear Regression with _adaboost dataset: 0.7410811514845907\n",
      "\n",
      "Best hyperparameters for Linear Regression with _adaboost dataset:\n",
      "memory : None\n",
      "steps : [('clf', LinearRegression(normalize=True))]\n",
      "verbose : False\n",
      "clf : LinearRegression(normalize=True)\n",
      "clf__copy_X : True\n",
      "clf__fit_intercept : True\n",
      "clf__n_jobs : None\n",
      "clf__normalize : True\n",
      "\n",
      "Prediction scores for Linear Regression using _adaboost dataset:\n",
      "Mean Squared error: 4.964608128641909\n",
      "Mean Absolute error: 1.3904867078383014\n",
      "R^2: 0.745303421110262\n"
     ]
    }
   ],
   "source": [
    "ada_model, ada_train_score, ada_mse, ada_mae, ada_r2 = get_best_model(sel_methods[2], args, num_folds, is_sample)"
   ]
  },
  {
   "cell_type": "code",
   "execution_count": 46,
   "metadata": {},
   "outputs": [],
   "source": [
    "#Final model saved\n",
    "save_model(chi2_model,sel_methods[2])"
   ]
  },
  {
   "cell_type": "markdown",
   "metadata": {},
   "source": [
    "<h3> Linear Regression with Equal Business and Crime Incident Feature Selected Dataset <h3>"
   ]
  },
  {
   "cell_type": "code",
   "execution_count": 47,
   "metadata": {},
   "outputs": [],
   "source": [
    "# Final hyperparameter tuning as all hyperparameters are binary\n",
    "is_sample = False\n",
    "num_folds = 10\n",
    "args = {'clf__copy_X':(True,False),\n",
    "         'clf__fit_intercept':(True,False),\n",
    "         'clf__normalize':(True,False)}"
   ]
  },
  {
   "cell_type": "code",
   "execution_count": 48,
   "metadata": {
    "scrolled": false
   },
   "outputs": [
    {
     "name": "stdout",
     "output_type": "stream",
     "text": [
      "\n",
      "\n",
      "Running cross fold validation for Linear Regression with _equal_crime_and_business dataset\n",
      "Fitting 10 folds for each of 8 candidates, totalling 80 fits\n"
     ]
    },
    {
     "name": "stderr",
     "output_type": "stream",
     "text": [
      "[Parallel(n_jobs=6)]: Using backend LokyBackend with 6 concurrent workers.\n",
      "[Parallel(n_jobs=6)]: Done  68 tasks      | elapsed:    0.5s\n",
      "[Parallel(n_jobs=6)]: Done  80 out of  80 | elapsed:    0.6s finished\n"
     ]
    },
    {
     "name": "stdout",
     "output_type": "stream",
     "text": [
      "\n",
      "Best score for Linear Regression with _equal_crime_and_business dataset: 0.7284944980291057\n",
      "\n",
      "Best hyperparameters for Linear Regression with _equal_crime_and_business dataset:\n",
      "memory : None\n",
      "steps : [('clf', LinearRegression(normalize=True))]\n",
      "verbose : False\n",
      "clf : LinearRegression(normalize=True)\n",
      "clf__copy_X : True\n",
      "clf__fit_intercept : True\n",
      "clf__n_jobs : None\n",
      "clf__normalize : True\n",
      "\n",
      "Prediction scores for Linear Regression using _equal_crime_and_business dataset:\n",
      "Mean Squared error: 5.135861372359901\n",
      "Mean Absolute error: 1.4188595307686909\n",
      "R^2: 0.7365177094954614\n"
     ]
    }
   ],
   "source": [
    "equal_model, equal_train_score, equal_mse, equal_mae, equal_r2 = get_best_model(sel_methods[3], args, num_folds, is_sample)"
   ]
  },
  {
   "cell_type": "markdown",
   "metadata": {},
   "source": [
    "<h3> Retrain on revised dataset <h3>"
   ]
  },
  {
   "cell_type": "code",
   "execution_count": 49,
   "metadata": {},
   "outputs": [],
   "source": [
    "is_sample = False\n",
    "num_folds = 10\n",
    "args = {'clf__copy_X':(True,False),\n",
    "         'clf__fit_intercept':(True,False),\n",
    "         'clf__normalize':(True,False)}"
   ]
  },
  {
   "cell_type": "code",
   "execution_count": 50,
   "metadata": {},
   "outputs": [
    {
     "name": "stdout",
     "output_type": "stream",
     "text": [
      "\n",
      "\n",
      "Running cross fold validation for Linear Regression with _equal_crime_and_business_revised dataset\n",
      "Fitting 10 folds for each of 8 candidates, totalling 80 fits\n"
     ]
    },
    {
     "name": "stderr",
     "output_type": "stream",
     "text": [
      "[Parallel(n_jobs=6)]: Using backend LokyBackend with 6 concurrent workers.\n",
      "[Parallel(n_jobs=6)]: Done  68 tasks      | elapsed:    0.5s\n",
      "[Parallel(n_jobs=6)]: Done  80 out of  80 | elapsed:    0.6s finished\n"
     ]
    },
    {
     "name": "stdout",
     "output_type": "stream",
     "text": [
      "\n",
      "Best score for Linear Regression with _equal_crime_and_business_revised dataset: 0.7286556514747289\n",
      "\n",
      "Best hyperparameters for Linear Regression with _equal_crime_and_business_revised dataset:\n",
      "memory : None\n",
      "steps : [('clf', LinearRegression(normalize=True))]\n",
      "verbose : False\n",
      "clf : LinearRegression(normalize=True)\n",
      "clf__copy_X : True\n",
      "clf__fit_intercept : True\n",
      "clf__n_jobs : None\n",
      "clf__normalize : True\n",
      "\n",
      "Prediction scores for Linear Regression using _equal_crime_and_business_revised dataset:\n",
      "Mean Squared error: 5.134488653522186\n",
      "Mean Absolute error: 1.4188181598780056\n",
      "R^2: 0.7365881333401403\n"
     ]
    }
   ],
   "source": [
    "equal_model, equal_train_score, equal_mse, equal_mae, equal_r2 = get_best_model(sel_methods[3] + \"_revised\", args, num_folds, is_sample)"
   ]
  },
  {
   "cell_type": "code",
   "execution_count": 51,
   "metadata": {},
   "outputs": [],
   "source": [
    "#Final model saved\n",
    "save_model(chi2_model,sel_methods[3])"
   ]
  },
  {
   "cell_type": "markdown",
   "metadata": {},
   "source": [
    "<h3> Linear Regression with All Business Feature Selected Dataset <h3>"
   ]
  },
  {
   "cell_type": "code",
   "execution_count": 52,
   "metadata": {},
   "outputs": [],
   "source": [
    "# Final hyperparameter tuning as all hyperparameters are binary\n",
    "is_sample = False\n",
    "num_folds = 10\n",
    "args = {'clf__copy_X':(True,False),\n",
    "         'clf__fit_intercept':(True,False),\n",
    "         'clf__normalize':(True,False)}"
   ]
  },
  {
   "cell_type": "code",
   "execution_count": 53,
   "metadata": {
    "scrolled": false
   },
   "outputs": [
    {
     "name": "stdout",
     "output_type": "stream",
     "text": [
      "\n",
      "\n",
      "Running cross fold validation for Linear Regression with _all_business dataset\n",
      "Fitting 10 folds for each of 8 candidates, totalling 80 fits\n"
     ]
    },
    {
     "name": "stderr",
     "output_type": "stream",
     "text": [
      "[Parallel(n_jobs=6)]: Using backend LokyBackend with 6 concurrent workers.\n",
      "[Parallel(n_jobs=6)]: Done  68 tasks      | elapsed:    0.5s\n",
      "[Parallel(n_jobs=6)]: Done  80 out of  80 | elapsed:    0.6s finished\n"
     ]
    },
    {
     "name": "stdout",
     "output_type": "stream",
     "text": [
      "\n",
      "Best score for Linear Regression with _all_business dataset: 0.44996200683603743\n",
      "\n",
      "Best hyperparameters for Linear Regression with _all_business dataset:\n",
      "memory : None\n",
      "steps : [('clf', LinearRegression(normalize=True))]\n",
      "verbose : False\n",
      "clf : LinearRegression(normalize=True)\n",
      "clf__copy_X : True\n",
      "clf__fit_intercept : True\n",
      "clf__n_jobs : None\n",
      "clf__normalize : True\n",
      "\n",
      "Prediction scores for Linear Regression using _all_business dataset:\n",
      "Mean Squared error: 10.685789821182226\n",
      "Mean Absolute error: 1.8508237579583586\n",
      "R^2: 0.45179276195271156\n"
     ]
    }
   ],
   "source": [
    "bus_model, bus_train_score, bus_mse, bus_mae, bus_r2 = get_best_model(sel_methods[4], args, num_folds, is_sample)"
   ]
  },
  {
   "cell_type": "markdown",
   "metadata": {},
   "source": [
    "<h3> Retrain on revised dataset <h3>"
   ]
  },
  {
   "cell_type": "code",
   "execution_count": 54,
   "metadata": {},
   "outputs": [],
   "source": [
    "# Final hyperparameter tuning as all hyperparameters are binary\n",
    "is_sample = False\n",
    "num_folds = 10\n",
    "args = {'clf__copy_X':(True,False),\n",
    "         'clf__fit_intercept':(True,False),\n",
    "         'clf__normalize':(True,False)}"
   ]
  },
  {
   "cell_type": "code",
   "execution_count": 55,
   "metadata": {},
   "outputs": [
    {
     "name": "stdout",
     "output_type": "stream",
     "text": [
      "\n",
      "\n",
      "Running cross fold validation for Linear Regression with _all_business_revised dataset\n",
      "Fitting 10 folds for each of 8 candidates, totalling 80 fits\n"
     ]
    },
    {
     "name": "stderr",
     "output_type": "stream",
     "text": [
      "[Parallel(n_jobs=6)]: Using backend LokyBackend with 6 concurrent workers.\n",
      "[Parallel(n_jobs=6)]: Done  68 tasks      | elapsed:    0.5s\n",
      "[Parallel(n_jobs=6)]: Done  80 out of  80 | elapsed:    0.6s finished\n"
     ]
    },
    {
     "name": "stdout",
     "output_type": "stream",
     "text": [
      "\n",
      "Best score for Linear Regression with _all_business_revised dataset: 0.44969645031959826\n",
      "\n",
      "Best hyperparameters for Linear Regression with _all_business_revised dataset:\n",
      "memory : None\n",
      "steps : [('clf', LinearRegression())]\n",
      "verbose : False\n",
      "clf : LinearRegression()\n",
      "clf__copy_X : True\n",
      "clf__fit_intercept : True\n",
      "clf__n_jobs : None\n",
      "clf__normalize : False\n",
      "\n",
      "Prediction scores for Linear Regression using _all_business_revised dataset:\n",
      "Mean Squared error: 10.730811101246845\n",
      "Mean Absolute error: 1.8568413249581706\n",
      "R^2: 0.44948305981458303\n"
     ]
    }
   ],
   "source": [
    "bus_model, bus_train_score, bus_mse, bus_mae, bus_r2 = get_best_model(sel_methods[4] + \"_revised\", args, num_folds, is_sample)"
   ]
  },
  {
   "cell_type": "code",
   "execution_count": 56,
   "metadata": {},
   "outputs": [],
   "source": [
    "#Final model saved\n",
    "save_model(bus_model,sel_methods[4])"
   ]
  },
  {
   "cell_type": "markdown",
   "metadata": {},
   "source": [
    "<h3>Visualise scores<h3>"
   ]
  },
  {
   "cell_type": "code",
   "execution_count": 57,
   "metadata": {},
   "outputs": [],
   "source": [
    "training_scores = [f_reg_train_score, chi2_train_score, ada_train_score, equal_train_score, bus_train_score]\n",
    "mse_scores = [f_reg_mse, chi2_mse, ada_mse, equal_mse, bus_mse]\n",
    "mae_scores = [f_reg_mae, chi2_mae, ada_mae, equal_mae, bus_mae]\n",
    "r2_scores = [f_reg_r2, chi2_r2, ada_r2, equal_r2, bus_r2]\n",
    "datasets = [\"F-Regression\",\"Chi-Squared\",\"AdaBoost\",\"Equal Business\\nand Crime\",\"All Business\"]\n",
    "y_select = np.arange(len(datasets))"
   ]
  },
  {
   "cell_type": "code",
   "execution_count": 58,
   "metadata": {},
   "outputs": [
    {
     "data": {
      "text/plain": [
       "<BarContainer object of 5 artists>"
      ]
     },
     "execution_count": 58,
     "metadata": {},
     "output_type": "execute_result"
    },
    {
     "data": {
      "image/png": "[encoded data removed]",
      "text/plain": [
       "<Figure size 720x720 with 1 Axes>"
      ]
     },
     "metadata": {
      "needs_background": "light"
     },
     "output_type": "display_data"
    }
   ],
   "source": [
    "plt.figure(figsize = (10,10))\n",
    "plt.xticks(y_select,datasets)\n",
    "plt.title(display_name + \" training score\")\n",
    "plt.xlabel(\"Dataset\")\n",
    "plt.ylabel(\"Training score (r-squared)\")\n",
    "plt.bar(y_select, training_scores)"
   ]
  },
  {
   "cell_type": "code",
   "execution_count": 59,
   "metadata": {},
   "outputs": [
    {
     "data": {
      "text/plain": [
       "<BarContainer object of 5 artists>"
      ]
     },
     "execution_count": 59,
     "metadata": {},
     "output_type": "execute_result"
    },
    {
     "data": {
      "image/png": "[encoded data removed]",
      "text/plain": [
       "<Figure size 720x720 with 1 Axes>"
      ]
     },
     "metadata": {
      "needs_background": "light"
     },
     "output_type": "display_data"
    }
   ],
   "source": [
    "plt.figure(figsize = (10,10))\n",
    "plt.xticks(y_select,datasets)\n",
    "plt.title(display_name + \" testing mean-squared error\")\n",
    "plt.xlabel(\"Dataset\")\n",
    "plt.ylabel(\"Mean-squared error\")\n",
    "plt.bar(y_select, mse_scores)"
   ]
  },
  {
   "cell_type": "code",
   "execution_count": 60,
   "metadata": {},
   "outputs": [
    {
     "data": {
      "text/plain": [
       "<BarContainer object of 5 artists>"
      ]
     },
     "execution_count": 60,
     "metadata": {},
     "output_type": "execute_result"
    },
    {
     "data": {
      "image/png": "[encoded data removed]",
      "text/plain": [
       "<Figure size 720x720 with 1 Axes>"
      ]
     },
     "metadata": {
      "needs_background": "light"
     },
     "output_type": "display_data"
    }
   ],
   "source": [
    "plt.figure(figsize = (10,10))\n",
    "plt.xticks(y_select,datasets)\n",
    "plt.title(display_name + \" testing mean-absolute error\")\n",
    "plt.xlabel(\"Dataset\")\n",
    "plt.ylabel(\"Mean absolute error\")\n",
    "plt.bar(y_select, mae_scores)"
   ]
  },
  {
   "cell_type": "code",
   "execution_count": 61,
   "metadata": {},
   "outputs": [
    {
     "data": {
      "text/plain": [
       "<BarContainer object of 5 artists>"
      ]
     },
     "execution_count": 61,
     "metadata": {},
     "output_type": "execute_result"
    },
    {
     "data": {
      "image/png": "[encoded data removed]",
      "text/plain": [
       "<Figure size 720x720 with 1 Axes>"
      ]
     },
     "metadata": {
      "needs_background": "light"
     },
     "output_type": "display_data"
    }
   ],
   "source": [
    "plt.figure(figsize = (10,10))\n",
    "plt.xticks(y_select,datasets)\n",
    "plt.title(display_name + \" testing r-squared scores\")\n",
    "plt.xlabel(\"Dataset\")\n",
    "plt.ylabel(\"R-Squared Score\")\n",
    "plt.bar(y_select, r2_scores)"
   ]
  },
  {
   "cell_type": "code",
   "execution_count": 62,
   "metadata": {},
   "outputs": [],
   "source": [
    "# f-regression dataset predicts best, closely followed by Adaboost, all business performs worst"
   ]
  }
 ],
 "metadata": {
  "kernelspec": {
   "display_name": "Python 3",
   "language": "python",
   "name": "python3"
  },
  "language_info": {
   "codemirror_mode": {
    "name": "ipython",
    "version": 3
   },
   "file_extension": ".py",
   "mimetype": "text/x-python",
   "name": "python",
   "nbconvert_exporter": "python",
   "pygments_lexer": "ipython3",
   "version": "3.9.0"
  }
 },
 "nbformat": 4,
 "nbformat_minor": 4
}
