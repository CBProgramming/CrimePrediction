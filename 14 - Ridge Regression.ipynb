{
 "cells": [
  {
   "cell_type": "code",
   "execution_count": 30,
   "metadata": {},
   "outputs": [],
   "source": [
    "import numpy as np\n",
    "from numpy import arange\n",
    "import pandas as pd\n",
    "import matplotlib.pyplot as plt\n",
    "%matplotlib inline\n",
    "import sklearn\n",
    "from sklearn.metrics import mean_squared_error, r2_score, mean_absolute_error\n",
    "from sklearn.pipeline import Pipeline\n",
    "from sklearn.model_selection import GridSearchCV\n",
    "import pickle"
   ]
  },
  {
   "cell_type": "code",
   "execution_count": 7,
   "metadata": {},
   "outputs": [],
   "source": [
    "from sklearn.linear_model import Ridge"
   ]
  },
  {
   "cell_type": "code",
   "execution_count": 8,
   "metadata": {},
   "outputs": [],
   "source": [
    "model_name = \"ridge_regression\"\n",
    "display_name = \"Ridge Regression\""
   ]
  },
  {
   "cell_type": "code",
   "execution_count": 9,
   "metadata": {},
   "outputs": [],
   "source": [
    "y_test = pd.read_csv('y_test.csv')\n",
    "file = open(\"Selection Methods\",\"rb\")\n",
    "sel_methods = np.load(file)"
   ]
  },
  {
   "cell_type": "code",
   "execution_count": 10,
   "metadata": {},
   "outputs": [],
   "source": [
    "def get_best_model(method, args, _cv, is_sample):\n",
    "    sample_string = ''\n",
    "    if (is_sample):\n",
    "        sample_string = '_sample'\n",
    "    y_train = pd.read_csv('y_train'+ sample_string + '.csv')    \n",
    "    method_string = method\n",
    "    if (method == ''):\n",
    "        method_string = \"no feature selection\"\n",
    "    print('\\n\\nRunning cross fold validation for',display_name,'with',method_string,'dataset')\n",
    "    x_train = pd.read_csv('x_train' + method + sample_string + '.csv').values\n",
    "    x_test = pd.read_csv('x_test' + method + '.csv').values\n",
    "    pipe = Pipeline([('clf', Ridge())])\n",
    "    grid = GridSearchCV(pipe, args, cv = _cv, verbose = 1, scoring = 'r2', n_jobs=6)\n",
    "    grid.fit(x_train, y_train.values.ravel())\n",
    "    print('\\nBest score for',display_name,'with',method_string,\"dataset:\",grid.best_score_)\n",
    "    best_args = grid.best_estimator_.get_params()\n",
    "    print('\\nBest hyperparameters for',display_name,'with',method_string,'dataset:')\n",
    "    for arg in best_args:\n",
    "        print(arg,\":\",best_args[arg])\n",
    "    y_test_predict = grid.predict(x_test)\n",
    "    mse = mean_squared_error(y_test,y_test_predict)\n",
    "    mae = mean_absolute_error(y_test,y_test_predict)\n",
    "    r2 = r2_score(y_test,y_test_predict)\n",
    "    print('\\nPrediction scores for',display_name,'using',method_string,':')\n",
    "    print('Mean Squared error:',mse)\n",
    "    print('Mean Absolute error:',mae)\n",
    "    print('R^2:',r2)\n",
    "    return grid.best_estimator_,grid.best_score_,mse,mae,r2"
   ]
  },
  {
   "cell_type": "code",
   "execution_count": 11,
   "metadata": {},
   "outputs": [],
   "source": [
    "def save_model(model,method):\n",
    "    with open('CrimeGUI/Models/'+model_name+method,'wb') as file:\n",
    "        pickle.dump(model,file)"
   ]
  },
  {
   "cell_type": "code",
   "execution_count": 12,
   "metadata": {},
   "outputs": [
    {
     "name": "stdout",
     "output_type": "stream",
     "text": [
      "['_f_regression' '_chi2' '_adaboost' '_equal_crime_and_business'\n",
      " '_all_business']\n"
     ]
    }
   ],
   "source": [
    "print(sel_methods)"
   ]
  },
  {
   "cell_type": "markdown",
   "metadata": {},
   "source": [
    "<h3>F-Regression feature selected dataset<h3>"
   ]
  },
  {
   "cell_type": "code",
   "execution_count": 8,
   "metadata": {},
   "outputs": [],
   "source": [
    "is_sample = False\n",
    "num_folds = 10\n",
    "args = {}"
   ]
  },
  {
   "cell_type": "code",
   "execution_count": 9,
   "metadata": {},
   "outputs": [
    {
     "name": "stdout",
     "output_type": "stream",
     "text": [
      "\n",
      "\n",
      "Running cross fold validation for Ridge Regression with _f_regression dataset\n",
      "Fitting 10 folds for each of 1 candidates, totalling 10 fits\n"
     ]
    },
    {
     "name": "stderr",
     "output_type": "stream",
     "text": [
      "[Parallel(n_jobs=6)]: Using backend LokyBackend with 6 concurrent workers.\n"
     ]
    },
    {
     "name": "stdout",
     "output_type": "stream",
     "text": [
      "\n",
      "Best score for Ridge Regression with _f_regression dataset: 0.7440061247913899\n",
      "\n",
      "Best hyperparameters for Ridge Regression with _f_regression dataset:\n",
      "memory : None\n",
      "steps : [('clf', Ridge())]\n",
      "verbose : False\n",
      "clf : Ridge()\n",
      "clf__alpha : 1.0\n",
      "clf__copy_X : True\n",
      "clf__fit_intercept : True\n",
      "clf__max_iter : None\n",
      "clf__normalize : False\n",
      "clf__random_state : None\n",
      "clf__solver : auto\n",
      "clf__tol : 0.001\n",
      "\n",
      "Prediction scores for Ridge Regression using _f_regression :\n",
      "Mean Squared error: 4.842362147889453\n",
      "Mean Absolute error: 1.3790856484948688\n",
      "R^2: 0.751574939883525\n"
     ]
    },
    {
     "name": "stderr",
     "output_type": "stream",
     "text": [
      "[Parallel(n_jobs=6)]: Done  10 out of  10 | elapsed:    1.1s remaining:    0.0s\n",
      "[Parallel(n_jobs=6)]: Done  10 out of  10 | elapsed:    1.1s finished\n"
     ]
    }
   ],
   "source": [
    "f_reg_model, f_reg_train_score, f_reg_mse, f_reg_mae, f_reg_r2 = get_best_model(sel_methods[0], args, num_folds, is_sample)"
   ]
  },
  {
   "cell_type": "code",
   "execution_count": 10,
   "metadata": {},
   "outputs": [],
   "source": [
    "is_sample = False\n",
    "num_folds = 10\n",
    "args = {'clf__alpha':(0.1,0.2,0.3,0.4,0.5,0.6,0.7,0.8,0.9,1,1.1,1.2,1.3,1.4,1.5,1.6,1.7,1.8,1.9,2,\n",
    "                     2.1,2.2,2.3,2.4,2.5,2.6,2.7,2.8,2.9,3,3.1,3.2,3.3,3.4,3.5,3.6,3.7,3.8,3.9,4),\n",
    "        'clf__copy_X':(True,False),\n",
    "        'clf__fit_intercept':(True,False),\n",
    "        'clf__normalize':(True,False),\n",
    "        'clf__solver':('auto', 'svd', 'cholesky', 'lsqr', 'sparse_cg', 'sag', 'saga'),\n",
    "        'clf__random_state':([7]),\n",
    "        'clf__tol':(0.001, 0.002,0.003,0.004,0.005,0.006,0.007,0.008,0.009,0.01, 0.02,0.03,0.04,0.05,0.06,\n",
    "                    0.07,0.08,0.09,0.1,0.2,0.3,0.4,0.5,0.6,0.7,0.8,0.9,1)}"
   ]
  },
  {
   "cell_type": "code",
   "execution_count": 11,
   "metadata": {},
   "outputs": [
    {
     "name": "stdout",
     "output_type": "stream",
     "text": [
      "\n",
      "\n",
      "Running cross fold validation for Ridge Regression with _f_regression dataset\n",
      "Fitting 10 folds for each of 62720 candidates, totalling 627200 fits\n"
     ]
    },
    {
     "name": "stderr",
     "output_type": "stream",
     "text": [
      "[Parallel(n_jobs=6)]: Using backend LokyBackend with 6 concurrent workers.\n",
      "[Parallel(n_jobs=6)]: Done 100 tasks      | elapsed:    0.4s\n",
      "[Parallel(n_jobs=6)]: Done 1300 tasks      | elapsed:    6.1s\n",
      "[Parallel(n_jobs=6)]: Done 2832 tasks      | elapsed:   18.5s\n",
      "[Parallel(n_jobs=6)]: Done 5192 tasks      | elapsed:   36.2s\n",
      "[Parallel(n_jobs=6)]: Done 8834 tasks      | elapsed:  1.1min\n",
      "[Parallel(n_jobs=6)]: Done 13548 tasks      | elapsed:  1.8min\n",
      "[Parallel(n_jobs=6)]: Done 18044 tasks      | elapsed:  2.3min\n",
      "[Parallel(n_jobs=6)]: Done 23464 tasks      | elapsed:  3.2min\n",
      "[Parallel(n_jobs=6)]: Done 30720 tasks      | elapsed:  4.1min\n",
      "[Parallel(n_jobs=6)]: Done 37120 tasks      | elapsed:  5.2min\n",
      "[Parallel(n_jobs=6)]: Done 44918 tasks      | elapsed:  6.2min\n",
      "[Parallel(n_jobs=6)]: Done 52650 tasks      | elapsed:  7.3min\n",
      "[Parallel(n_jobs=6)]: Done 62378 tasks      | elapsed:  8.6min\n",
      "[Parallel(n_jobs=6)]: Done 72160 tasks      | elapsed:  9.8min\n",
      "[Parallel(n_jobs=6)]: Done 83550 tasks      | elapsed: 11.2min\n",
      "[Parallel(n_jobs=6)]: Done 96106 tasks      | elapsed: 12.7min\n",
      "[Parallel(n_jobs=6)]: Done 108200 tasks      | elapsed: 14.2min\n",
      "[Parallel(n_jobs=6)]: Done 121248 tasks      | elapsed: 15.8min\n",
      "[Parallel(n_jobs=6)]: Done 136028 tasks      | elapsed: 17.5min\n",
      "[Parallel(n_jobs=6)]: Done 152144 tasks      | elapsed: 19.4min\n",
      "[Parallel(n_jobs=6)]: Done 168468 tasks      | elapsed: 21.4min\n",
      "[Parallel(n_jobs=6)]: Done 184286 tasks      | elapsed: 23.2min\n",
      "[Parallel(n_jobs=6)]: Done 202856 tasks      | elapsed: 25.5min\n",
      "[Parallel(n_jobs=6)]: Done 221376 tasks      | elapsed: 27.7min\n",
      "[Parallel(n_jobs=6)]: Done 240934 tasks      | elapsed: 30.0min\n",
      "[Parallel(n_jobs=6)]: Done 261074 tasks      | elapsed: 32.3min\n",
      "[Parallel(n_jobs=6)]: Done 282564 tasks      | elapsed: 34.8min\n",
      "[Parallel(n_jobs=6)]: Done 303866 tasks      | elapsed: 37.3min\n",
      "[Parallel(n_jobs=6)]: Done 327082 tasks      | elapsed: 40.0min\n",
      "[Parallel(n_jobs=6)]: Done 349932 tasks      | elapsed: 42.5min\n",
      "[Parallel(n_jobs=6)]: Done 375434 tasks      | elapsed: 45.4min\n",
      "[Parallel(n_jobs=6)]: Done 399050 tasks      | elapsed: 48.1min\n",
      "[Parallel(n_jobs=6)]: Done 425574 tasks      | elapsed: 51.1min\n",
      "[Parallel(n_jobs=6)]: Done 451796 tasks      | elapsed: 54.1min\n",
      "[Parallel(n_jobs=6)]: Done 478844 tasks      | elapsed: 57.2min\n",
      "[Parallel(n_jobs=6)]: Done 507564 tasks      | elapsed: 60.5min\n",
      "[Parallel(n_jobs=6)]: Done 536356 tasks      | elapsed: 63.6min\n",
      "[Parallel(n_jobs=6)]: Done 564628 tasks      | elapsed: 66.9min\n",
      "[Parallel(n_jobs=6)]: Done 593610 tasks      | elapsed: 70.1min\n",
      "[Parallel(n_jobs=6)]: Done 623132 tasks      | elapsed: 73.4min\n",
      "[Parallel(n_jobs=6)]: Done 627189 out of 627200 | elapsed: 73.9min remaining:    0.0s\n",
      "[Parallel(n_jobs=6)]: Done 627200 out of 627200 | elapsed: 73.9min finished\n"
     ]
    },
    {
     "name": "stdout",
     "output_type": "stream",
     "text": [
      "\n",
      "Best score for Ridge Regression with _f_regression dataset: 0.7441120478633996\n",
      "\n",
      "Best hyperparameters for Ridge Regression with _f_regression dataset:\n",
      "memory : None\n",
      "steps : [('clf', Ridge(alpha=4, random_state=7, solver='saga', tol=0.09))]\n",
      "verbose : False\n",
      "clf : Ridge(alpha=4, random_state=7, solver='saga', tol=0.09)\n",
      "clf__alpha : 4\n",
      "clf__copy_X : True\n",
      "clf__fit_intercept : True\n",
      "clf__max_iter : None\n",
      "clf__normalize : False\n",
      "clf__random_state : 7\n",
      "clf__solver : saga\n",
      "clf__tol : 0.09\n",
      "\n",
      "Prediction scores for Ridge Regression using _f_regression :\n",
      "Mean Squared error: 4.834785382725304\n",
      "Mean Absolute error: 1.375431242708831\n",
      "R^2: 0.7519636465279076\n"
     ]
    }
   ],
   "source": [
    "f_reg_model, f_reg_train_score, f_reg_mse, f_reg_mae, f_reg_r2 = get_best_model(sel_methods[0], args, num_folds, is_sample)"
   ]
  },
  {
   "cell_type": "code",
   "execution_count": 8,
   "metadata": {},
   "outputs": [],
   "source": [
    "#highest alpha selected, explored further and broader\n",
    "is_sample = False\n",
    "num_folds = 10\n",
    "args = {'clf__alpha':(4,4.5,5,5.5,6,6.5,7,7.5,8,8.5,9,9.5,10),\n",
    "        'clf__copy_X':(True,False),\n",
    "        'clf__fit_intercept':(True,False),\n",
    "        'clf__normalize':(True,False),\n",
    "        'clf__solver':('auto', 'svd', 'cholesky', 'lsqr', 'sparse_cg', 'sag', 'saga'),\n",
    "        'clf__random_state':([7]),\n",
    "        'clf__tol':(0.001, 0.01, 0.02,0.03,0.04,0.05,0.06,\n",
    "                    0.07,0.08,0.09,0.1,0.2,0.3,0.4,0.5,0.6,0.7,0.8,0.9,1)}"
   ]
  },
  {
   "cell_type": "code",
   "execution_count": 9,
   "metadata": {},
   "outputs": [
    {
     "name": "stdout",
     "output_type": "stream",
     "text": [
      "\n",
      "\n",
      "Running cross fold validation for Ridge Regression with _f_regression dataset\n",
      "Fitting 10 folds for each of 14560 candidates, totalling 145600 fits\n"
     ]
    },
    {
     "name": "stderr",
     "output_type": "stream",
     "text": [
      "[Parallel(n_jobs=6)]: Using backend LokyBackend with 6 concurrent workers.\n",
      "[Parallel(n_jobs=6)]: Done  40 tasks      | elapsed:    1.4s\n",
      "[Parallel(n_jobs=6)]: Done 1132 tasks      | elapsed:    7.0s\n",
      "[Parallel(n_jobs=6)]: Done 3132 tasks      | elapsed:   20.2s\n",
      "[Parallel(n_jobs=6)]: Done 5932 tasks      | elapsed:   37.2s\n",
      "[Parallel(n_jobs=6)]: Done 9532 tasks      | elapsed:   57.1s\n",
      "[Parallel(n_jobs=6)]: Done 14196 tasks      | elapsed:  1.4min\n",
      "[Parallel(n_jobs=6)]: Done 19396 tasks      | elapsed:  1.9min\n",
      "[Parallel(n_jobs=6)]: Done 25588 tasks      | elapsed:  2.5min\n",
      "[Parallel(n_jobs=6)]: Done 32556 tasks      | elapsed:  3.2min\n",
      "[Parallel(n_jobs=6)]: Done 40492 tasks      | elapsed:  3.9min\n",
      "[Parallel(n_jobs=6)]: Done 49396 tasks      | elapsed:  4.8min\n",
      "[Parallel(n_jobs=6)]: Done 59100 tasks      | elapsed:  5.7min\n",
      "[Parallel(n_jobs=6)]: Done 69376 tasks      | elapsed:  6.6min\n",
      "[Parallel(n_jobs=6)]: Done 80644 tasks      | elapsed:  7.7min\n",
      "[Parallel(n_jobs=6)]: Done 92484 tasks      | elapsed:  8.8min\n",
      "[Parallel(n_jobs=6)]: Done 105124 tasks      | elapsed: 10.0min\n",
      "[Parallel(n_jobs=6)]: Done 119560 tasks      | elapsed: 11.3min\n",
      "[Parallel(n_jobs=6)]: Done 134928 tasks      | elapsed: 12.7min\n",
      "[Parallel(n_jobs=6)]: Done 145600 out of 145600 | elapsed: 13.7min finished\n"
     ]
    },
    {
     "name": "stdout",
     "output_type": "stream",
     "text": [
      "\n",
      "Best score for Ridge Regression with _f_regression dataset: 0.7441746210602058\n",
      "\n",
      "Best hyperparameters for Ridge Regression with _f_regression dataset:\n",
      "memory : None\n",
      "steps : [('clf', Ridge(alpha=10, random_state=7, solver='saga', tol=0.09))]\n",
      "verbose : False\n",
      "clf : Ridge(alpha=10, random_state=7, solver='saga', tol=0.09)\n",
      "clf__alpha : 10\n",
      "clf__copy_X : True\n",
      "clf__fit_intercept : True\n",
      "clf__max_iter : None\n",
      "clf__normalize : False\n",
      "clf__random_state : 7\n",
      "clf__solver : saga\n",
      "clf__tol : 0.09\n",
      "\n",
      "Prediction scores for Ridge Regression using _f_regression :\n",
      "Mean Squared error: 4.833691987980102\n",
      "Mean Absolute error: 1.3762805158442817\n",
      "R^2: 0.7520197403612502\n"
     ]
    }
   ],
   "source": [
    "f_reg_model, f_reg_train_score, f_reg_mse, f_reg_mae, f_reg_r2 = get_best_model(sel_methods[0], args, num_folds, is_sample)"
   ]
  },
  {
   "cell_type": "code",
   "execution_count": 18,
   "metadata": {},
   "outputs": [],
   "source": [
    "#highest alpha selected again, explored further and broader\n",
    "is_sample = False\n",
    "num_folds = 10\n",
    "args = {'clf__alpha':(10,12,14,16,18,20,25,30,35,40,45,50),\n",
    "        'clf__copy_X':(True,False),\n",
    "        'clf__fit_intercept':(True,False),\n",
    "        'clf__normalize':(True,False),\n",
    "        'clf__solver':('auto', 'svd', 'cholesky', 'lsqr', 'sparse_cg', 'sag', 'saga'),\n",
    "        'clf__random_state':([7]),\n",
    "        'clf__tol':(0.001, 0.01, 0.02,0.03,0.04,0.05,0.06,\n",
    "                    0.07,0.08,0.09,0.1,0.2,0.3,0.4,0.5,0.6,0.7,0.8,0.9,1)}"
   ]
  },
  {
   "cell_type": "code",
   "execution_count": 19,
   "metadata": {},
   "outputs": [
    {
     "name": "stdout",
     "output_type": "stream",
     "text": [
      "\n",
      "\n",
      "Running cross fold validation for Ridge Regression with _f_regression dataset\n",
      "Fitting 10 folds for each of 13440 candidates, totalling 134400 fits\n"
     ]
    },
    {
     "name": "stderr",
     "output_type": "stream",
     "text": [
      "[Parallel(n_jobs=6)]: Using backend LokyBackend with 6 concurrent workers.\n",
      "[Parallel(n_jobs=6)]: Done 100 tasks      | elapsed:    0.4s\n",
      "[Parallel(n_jobs=6)]: Done 1300 tasks      | elapsed:    8.5s\n",
      "[Parallel(n_jobs=6)]: Done 3300 tasks      | elapsed:   20.5s\n",
      "[Parallel(n_jobs=6)]: Done 6100 tasks      | elapsed:   37.6s\n",
      "[Parallel(n_jobs=6)]: Done 9700 tasks      | elapsed:   59.4s\n",
      "[Parallel(n_jobs=6)]: Done 14100 tasks      | elapsed:  1.5min\n",
      "[Parallel(n_jobs=6)]: Done 19300 tasks      | elapsed:  2.0min\n",
      "[Parallel(n_jobs=6)]: Done 26524 tasks      | elapsed:  2.7min\n",
      "[Parallel(n_jobs=6)]: Done 33324 tasks      | elapsed:  3.3min\n",
      "[Parallel(n_jobs=6)]: Done 40168 tasks      | elapsed:  4.1min\n",
      "[Parallel(n_jobs=6)]: Done 50188 tasks      | elapsed:  5.0min\n",
      "[Parallel(n_jobs=6)]: Done 59664 tasks      | elapsed:  5.9min\n",
      "[Parallel(n_jobs=6)]: Done 69664 tasks      | elapsed:  6.9min\n",
      "[Parallel(n_jobs=6)]: Done 80464 tasks      | elapsed:  8.1min\n",
      "[Parallel(n_jobs=6)]: Done 92976 tasks      | elapsed:  9.3min\n",
      "[Parallel(n_jobs=6)]: Done 106324 tasks      | elapsed: 10.6min\n",
      "[Parallel(n_jobs=6)]: Done 120436 tasks      | elapsed: 11.9min\n",
      "[Parallel(n_jobs=6)]: Done 134389 out of 134400 | elapsed: 13.3min remaining:    0.0s\n",
      "[Parallel(n_jobs=6)]: Done 134400 out of 134400 | elapsed: 13.3min finished\n"
     ]
    },
    {
     "name": "stdout",
     "output_type": "stream",
     "text": [
      "\n",
      "Best score for Ridge Regression with _f_regression dataset: 0.7441746210602058\n",
      "\n",
      "Best hyperparameters for Ridge Regression with _f_regression dataset:\n",
      "memory : None\n",
      "steps : [('clf', Ridge(alpha=10, random_state=7, solver='saga', tol=0.09))]\n",
      "verbose : False\n",
      "clf : Ridge(alpha=10, random_state=7, solver='saga', tol=0.09)\n",
      "clf__alpha : 10\n",
      "clf__copy_X : True\n",
      "clf__fit_intercept : True\n",
      "clf__max_iter : None\n",
      "clf__normalize : False\n",
      "clf__random_state : 7\n",
      "clf__solver : saga\n",
      "clf__tol : 0.09\n",
      "\n",
      "Prediction scores for Ridge Regression using _f_regression :\n",
      "Mean Squared error: 4.833691987980102\n",
      "Mean Absolute error: 1.3762805158442817\n",
      "R^2: 0.7520197403612502\n"
     ]
    }
   ],
   "source": [
    "f_reg_model, f_reg_train_score, f_reg_mse, f_reg_mae, f_reg_r2 = get_best_model(sel_methods[0], args, num_folds, is_sample)"
   ]
  },
  {
   "cell_type": "code",
   "execution_count": 27,
   "metadata": {},
   "outputs": [],
   "source": [
    "# alpha settled around 10, explored further\n",
    "is_sample = False\n",
    "num_folds = 10\n",
    "args = {'clf__alpha':(9.6,9.7,9.8,9.9,10,10.1,10.2,10.3,10.4,10.5,10.6,10.7,10.8,10.9,\n",
    "                      11,11.1,11.2,11.3,11.4,11.5,11.6,11.7,11.8,11.9),\n",
    "        'clf__copy_X':(True,False),\n",
    "        'clf__fit_intercept':(True,False),\n",
    "        'clf__normalize':(True,False),\n",
    "        'clf__solver':('auto', 'svd', 'cholesky', 'lsqr', 'sparse_cg', 'sag', 'saga'),\n",
    "        'clf__random_state':([7]),\n",
    "        'clf__tol':(0.001, 0.01, 0.02,0.03,0.04,0.05,0.06,\n",
    "                    0.07,0.08,0.09,0.1,0.2,0.3,0.4,0.5,0.6,0.7,0.8,0.9,1)}"
   ]
  },
  {
   "cell_type": "code",
   "execution_count": 28,
   "metadata": {},
   "outputs": [
    {
     "name": "stdout",
     "output_type": "stream",
     "text": [
      "\n",
      "\n",
      "Running cross fold validation for Ridge Regression with _f_regression dataset\n",
      "Fitting 10 folds for each of 26880 candidates, totalling 268800 fits\n"
     ]
    },
    {
     "name": "stderr",
     "output_type": "stream",
     "text": [
      "[Parallel(n_jobs=6)]: Using backend LokyBackend with 6 concurrent workers.\n",
      "[Parallel(n_jobs=6)]: Done 100 tasks      | elapsed:    0.4s\n",
      "[Parallel(n_jobs=6)]: Done 1780 tasks      | elapsed:    9.8s\n",
      "[Parallel(n_jobs=6)]: Done 3780 tasks      | elapsed:   19.5s\n",
      "[Parallel(n_jobs=6)]: Done 6580 tasks      | elapsed:   35.4s\n",
      "[Parallel(n_jobs=6)]: Done 11408 tasks      | elapsed:  1.0min\n",
      "[Parallel(n_jobs=6)]: Done 15504 tasks      | elapsed:  1.4min\n",
      "[Parallel(n_jobs=6)]: Done 21152 tasks      | elapsed:  2.0min\n",
      "[Parallel(n_jobs=6)]: Done 27616 tasks      | elapsed:  2.5min\n",
      "[Parallel(n_jobs=6)]: Done 35556 tasks      | elapsed:  3.3min\n",
      "[Parallel(n_jobs=6)]: Done 44036 tasks      | elapsed:  4.0min\n",
      "[Parallel(n_jobs=6)]: Done 53380 tasks      | elapsed:  4.9min\n",
      "[Parallel(n_jobs=6)]: Done 63012 tasks      | elapsed:  5.8min\n",
      "[Parallel(n_jobs=6)]: Done 73012 tasks      | elapsed:  6.7min\n",
      "[Parallel(n_jobs=6)]: Done 84532 tasks      | elapsed:  7.8min\n",
      "[Parallel(n_jobs=6)]: Done 96132 tasks      | elapsed:  8.9min\n",
      "[Parallel(n_jobs=6)]: Done 109096 tasks      | elapsed: 10.1min\n",
      "[Parallel(n_jobs=6)]: Done 123892 tasks      | elapsed: 11.4min\n",
      "[Parallel(n_jobs=6)]: Done 138996 tasks      | elapsed: 12.8min\n",
      "[Parallel(n_jobs=6)]: Done 156476 tasks      | elapsed: 14.4min\n",
      "[Parallel(n_jobs=6)]: Done 173212 tasks      | elapsed: 15.9min\n",
      "[Parallel(n_jobs=6)]: Done 190212 tasks      | elapsed: 17.5min\n",
      "[Parallel(n_jobs=6)]: Done 208324 tasks      | elapsed: 19.2min\n",
      "[Parallel(n_jobs=6)]: Done 228064 tasks      | elapsed: 21.1min\n",
      "[Parallel(n_jobs=6)]: Done 248004 tasks      | elapsed: 22.9min\n",
      "[Parallel(n_jobs=6)]: Done 268800 out of 268800 | elapsed: 24.8min finished\n"
     ]
    },
    {
     "name": "stdout",
     "output_type": "stream",
     "text": [
      "\n",
      "Best score for Ridge Regression with _f_regression dataset: 0.7441769019320252\n",
      "\n",
      "Best hyperparameters for Ridge Regression with _f_regression dataset:\n",
      "memory : None\n",
      "steps : [('clf', Ridge(alpha=10.7, random_state=7, solver='saga', tol=0.09))]\n",
      "verbose : False\n",
      "clf : Ridge(alpha=10.7, random_state=7, solver='saga', tol=0.09)\n",
      "clf__alpha : 10.7\n",
      "clf__copy_X : True\n",
      "clf__fit_intercept : True\n",
      "clf__max_iter : None\n",
      "clf__normalize : False\n",
      "clf__random_state : 7\n",
      "clf__solver : saga\n",
      "clf__tol : 0.09\n",
      "\n",
      "Prediction scores for Ridge Regression using _f_regression :\n",
      "Mean Squared error: 4.833673501504229\n",
      "Mean Absolute error: 1.376390855742041\n",
      "R^2: 0.7520206887628236\n"
     ]
    }
   ],
   "source": [
    "f_reg_model, f_reg_train_score, f_reg_mse, f_reg_mae, f_reg_r2 = get_best_model(sel_methods[0], args, num_folds, is_sample)"
   ]
  },
  {
   "cell_type": "code",
   "execution_count": 8,
   "metadata": {},
   "outputs": [],
   "source": [
    "# alpha explored to two decimal places\n",
    "is_sample = False\n",
    "num_folds = 10\n",
    "args = {'clf__alpha':(10.61,10.62,10.63,10.64,10.65,10.66,10.67,10.68,10.69,10.7,\n",
    "                      10.71,10.72,10.73,10.74,10.75,10.76,10.77,10.78,10.79),\n",
    "        'clf__copy_X':(True,False),\n",
    "        'clf__fit_intercept':(True,False),\n",
    "        'clf__normalize':(True,False),\n",
    "        'clf__solver':('auto', 'svd', 'cholesky', 'lsqr', 'sparse_cg', 'sag', 'saga'),\n",
    "        'clf__random_state':([7]),\n",
    "        'clf__tol':(0.001, 0.01, 0.02,0.03,0.04,0.05,0.06,0.07,0.08,0.09,0.1,0.2,0.3,0.4,0.5,0.6,0.7,0.8,0.9,1)}"
   ]
  },
  {
   "cell_type": "code",
   "execution_count": 9,
   "metadata": {
    "scrolled": false
   },
   "outputs": [
    {
     "name": "stdout",
     "output_type": "stream",
     "text": [
      "\n",
      "\n",
      "Running cross fold validation for Ridge Regression with _f_regression dataset\n",
      "Fitting 10 folds for each of 21280 candidates, totalling 212800 fits\n"
     ]
    },
    {
     "name": "stderr",
     "output_type": "stream",
     "text": [
      "[Parallel(n_jobs=6)]: Using backend LokyBackend with 6 concurrent workers.\n",
      "[Parallel(n_jobs=6)]: Done  40 tasks      | elapsed:    1.2s\n",
      "[Parallel(n_jobs=6)]: Done 1132 tasks      | elapsed:    6.6s\n",
      "[Parallel(n_jobs=6)]: Done 3132 tasks      | elapsed:   19.1s\n",
      "[Parallel(n_jobs=6)]: Done 5932 tasks      | elapsed:   34.5s\n",
      "[Parallel(n_jobs=6)]: Done 10028 tasks      | elapsed:   55.8s\n",
      "[Parallel(n_jobs=6)]: Done 15564 tasks      | elapsed:  1.4min\n",
      "[Parallel(n_jobs=6)]: Done 21644 tasks      | elapsed:  2.0min\n",
      "[Parallel(n_jobs=6)]: Done 28588 tasks      | elapsed:  2.6min\n",
      "[Parallel(n_jobs=6)]: Done 36948 tasks      | elapsed:  3.3min\n",
      "[Parallel(n_jobs=6)]: Done 44996 tasks      | elapsed:  4.1min\n",
      "[Parallel(n_jobs=6)]: Done 58612 tasks      | elapsed:  5.2min\n",
      "[Parallel(n_jobs=6)]: Done 69636 tasks      | elapsed:  6.2min\n",
      "[Parallel(n_jobs=6)]: Done 81460 tasks      | elapsed:  7.3min\n",
      "[Parallel(n_jobs=6)]: Done 93412 tasks      | elapsed:  8.3min\n",
      "[Parallel(n_jobs=6)]: Done 106164 tasks      | elapsed:  9.5min\n",
      "[Parallel(n_jobs=6)]: Done 119296 tasks      | elapsed: 10.6min\n",
      "[Parallel(n_jobs=6)]: Done 135268 tasks      | elapsed: 12.0min\n",
      "[Parallel(n_jobs=6)]: Done 150504 tasks      | elapsed: 13.3min\n",
      "[Parallel(n_jobs=6)]: Done 167928 tasks      | elapsed: 14.9min\n",
      "[Parallel(n_jobs=6)]: Done 184456 tasks      | elapsed: 16.6min\n",
      "[Parallel(n_jobs=6)]: Done 203736 tasks      | elapsed: 18.3min\n",
      "[Parallel(n_jobs=6)]: Done 212800 out of 212800 | elapsed: 19.2min finished\n"
     ]
    },
    {
     "name": "stdout",
     "output_type": "stream",
     "text": [
      "\n",
      "Best score for Ridge Regression with _f_regression dataset: 0.7441770810797713\n",
      "\n",
      "Best hyperparameters for Ridge Regression with _f_regression dataset:\n",
      "memory : None\n",
      "steps : [('clf', Ridge(alpha=10.77, random_state=7, solver='saga', tol=0.09))]\n",
      "verbose : False\n",
      "clf : Ridge(alpha=10.77, random_state=7, solver='saga', tol=0.09)\n",
      "clf__alpha : 10.77\n",
      "clf__copy_X : True\n",
      "clf__fit_intercept : True\n",
      "clf__max_iter : None\n",
      "clf__normalize : False\n",
      "clf__random_state : 7\n",
      "clf__solver : saga\n",
      "clf__tol : 0.09\n",
      "\n",
      "Prediction scores for Ridge Regression using _f_regression :\n",
      "Mean Squared error: 4.833672715491442\n",
      "Mean Absolute error: 1.376401941837922\n",
      "R^2: 0.7520207290872083\n"
     ]
    }
   ],
   "source": [
    "f_reg_model, f_reg_train_score, f_reg_mse, f_reg_mae, f_reg_r2 = get_best_model(sel_methods[0], args, num_folds, is_sample)"
   ]
  },
  {
   "cell_type": "code",
   "execution_count": 15,
   "metadata": {},
   "outputs": [],
   "source": [
    "# Parameters finalised, model saved\n",
    "is_sample = False\n",
    "num_folds = 10\n",
    "args = {'clf__alpha':([10.77]),\n",
    "        'clf__copy_X':([True]),\n",
    "        'clf__fit_intercept':([True]),\n",
    "        'clf__normalize':([False]),\n",
    "        'clf__solver':(['saga']),\n",
    "        'clf__random_state':([7]),\n",
    "        'clf__tol':([0.09])}"
   ]
  },
  {
   "cell_type": "code",
   "execution_count": 16,
   "metadata": {},
   "outputs": [
    {
     "name": "stdout",
     "output_type": "stream",
     "text": [
      "\n",
      "\n",
      "Running cross fold validation for Ridge Regression with _f_regression dataset\n",
      "Fitting 10 folds for each of 1 candidates, totalling 10 fits\n"
     ]
    },
    {
     "name": "stderr",
     "output_type": "stream",
     "text": [
      "[Parallel(n_jobs=6)]: Using backend LokyBackend with 6 concurrent workers.\n",
      "[Parallel(n_jobs=6)]: Done  10 out of  10 | elapsed:    1.1s remaining:    0.0s\n",
      "[Parallel(n_jobs=6)]: Done  10 out of  10 | elapsed:    1.1s finished\n"
     ]
    },
    {
     "name": "stdout",
     "output_type": "stream",
     "text": [
      "\n",
      "Best score for Ridge Regression with _f_regression dataset: 0.7441770810797713\n",
      "\n",
      "Best hyperparameters for Ridge Regression with _f_regression dataset:\n",
      "memory : None\n",
      "steps : [('clf', Ridge(alpha=10.77, random_state=7, solver='saga', tol=0.09))]\n",
      "verbose : False\n",
      "clf : Ridge(alpha=10.77, random_state=7, solver='saga', tol=0.09)\n",
      "clf__alpha : 10.77\n",
      "clf__copy_X : True\n",
      "clf__fit_intercept : True\n",
      "clf__max_iter : None\n",
      "clf__normalize : False\n",
      "clf__random_state : 7\n",
      "clf__solver : saga\n",
      "clf__tol : 0.09\n",
      "\n",
      "Prediction scores for Ridge Regression using _f_regression :\n",
      "Mean Squared error: 4.833672715491442\n",
      "Mean Absolute error: 1.376401941837922\n",
      "R^2: 0.7520207290872083\n"
     ]
    }
   ],
   "source": [
    "f_reg_model, f_reg_train_score, f_reg_mse, f_reg_mae, f_reg_r2 = get_best_model(sel_methods[0], args, num_folds, is_sample)"
   ]
  },
  {
   "cell_type": "code",
   "execution_count": 17,
   "metadata": {},
   "outputs": [],
   "source": [
    "save_model(f_reg_model,sel_methods[0])"
   ]
  },
  {
   "cell_type": "markdown",
   "metadata": {},
   "source": [
    "<h3>Chi-Squared feature selected dataset<h3>"
   ]
  },
  {
   "cell_type": "code",
   "execution_count": 12,
   "metadata": {},
   "outputs": [],
   "source": [
    "is_sample = False\n",
    "num_folds = 10\n",
    "args = {'clf__alpha':(0.1,0.2,0.3,0.4,0.5,0.6,0.7,0.8,0.9,1,1.1,1.2,1.3,1.4,1.5,1.6,1.7,1.8,1.9,2,\n",
    "                     2.1,2.2,2.3,2.4,2.5,2.6,2.7,2.8,2.9,3,3.1,3.2,3.3,3.4,3.5,3.6,3.7,3.8,3.9,4),\n",
    "        'clf__copy_X':(True,False),\n",
    "        'clf__fit_intercept':(True,False),\n",
    "        'clf__normalize':(True,False),\n",
    "        'clf__solver':('auto', 'svd', 'cholesky', 'lsqr', 'sparse_cg', 'sag', 'saga'),\n",
    "        'clf__random_state':([7]),\n",
    "        'clf__tol':(0.001, 0.002,0.003,0.004,0.005,0.006,0.007,0.008,0.009,0.01, 0.02,0.03,0.04,0.05,0.06,\n",
    "                    0.07,0.08,0.09,0.1,0.2,0.3,0.4,0.5,0.6,0.7,0.8,0.9,1)}"
   ]
  },
  {
   "cell_type": "code",
   "execution_count": 13,
   "metadata": {},
   "outputs": [
    {
     "name": "stdout",
     "output_type": "stream",
     "text": [
      "\n",
      "\n",
      "Running cross fold validation for Ridge Regression with _chi2 dataset\n",
      "Fitting 10 folds for each of 62720 candidates, totalling 627200 fits\n"
     ]
    },
    {
     "name": "stderr",
     "output_type": "stream",
     "text": [
      "[Parallel(n_jobs=6)]: Using backend LokyBackend with 6 concurrent workers.\n",
      "[Parallel(n_jobs=6)]: Done 100 tasks      | elapsed:    0.4s\n",
      "[Parallel(n_jobs=6)]: Done 1300 tasks      | elapsed:    6.1s\n",
      "[Parallel(n_jobs=6)]: Done 3504 tasks      | elapsed:   27.1s\n",
      "[Parallel(n_jobs=6)]: Done 5716 tasks      | elapsed:   48.0s\n",
      "[Parallel(n_jobs=6)]: Done 9556 tasks      | elapsed:  1.3min\n",
      "[Parallel(n_jobs=6)]: Done 13692 tasks      | elapsed:  1.9min\n",
      "[Parallel(n_jobs=6)]: Done 18466 tasks      | elapsed:  2.4min\n",
      "[Parallel(n_jobs=6)]: Done 24128 tasks      | elapsed:  3.3min\n",
      "[Parallel(n_jobs=6)]: Done 31278 tasks      | elapsed:  4.2min\n",
      "[Parallel(n_jobs=6)]: Done 37354 tasks      | elapsed:  5.1min\n",
      "[Parallel(n_jobs=6)]: Done 46160 tasks      | elapsed:  6.2min\n",
      "[Parallel(n_jobs=6)]: Done 54954 tasks      | elapsed:  7.5min\n",
      "[Parallel(n_jobs=6)]: Done 65582 tasks      | elapsed:  8.8min\n",
      "[Parallel(n_jobs=6)]: Done 76136 tasks      | elapsed: 10.3min\n",
      "[Parallel(n_jobs=6)]: Done 86322 tasks      | elapsed: 11.7min\n",
      "[Parallel(n_jobs=6)]: Done 98498 tasks      | elapsed: 13.2min\n",
      "[Parallel(n_jobs=6)]: Done 111676 tasks      | elapsed: 14.8min\n",
      "[Parallel(n_jobs=6)]: Done 125436 tasks      | elapsed: 16.6min\n",
      "[Parallel(n_jobs=6)]: Done 140426 tasks      | elapsed: 18.4min\n",
      "[Parallel(n_jobs=6)]: Done 155924 tasks      | elapsed: 20.4min\n",
      "[Parallel(n_jobs=6)]: Done 172458 tasks      | elapsed: 22.5min\n",
      "[Parallel(n_jobs=6)]: Done 188698 tasks      | elapsed: 24.6min\n",
      "[Parallel(n_jobs=6)]: Done 206200 tasks      | elapsed: 26.7min\n",
      "[Parallel(n_jobs=6)]: Done 225072 tasks      | elapsed: 29.1min\n",
      "[Parallel(n_jobs=6)]: Done 245210 tasks      | elapsed: 31.6min\n",
      "[Parallel(n_jobs=6)]: Done 266410 tasks      | elapsed: 34.2min\n",
      "[Parallel(n_jobs=6)]: Done 286830 tasks      | elapsed: 36.6min\n",
      "[Parallel(n_jobs=6)]: Done 308272 tasks      | elapsed: 39.2min\n",
      "[Parallel(n_jobs=6)]: Done 330586 tasks      | elapsed: 41.9min\n",
      "[Parallel(n_jobs=6)]: Done 352698 tasks      | elapsed: 44.7min\n",
      "[Parallel(n_jobs=6)]: Done 377332 tasks      | elapsed: 47.6min\n",
      "[Parallel(n_jobs=6)]: Done 403346 tasks      | elapsed: 50.7min\n",
      "[Parallel(n_jobs=6)]: Done 427104 tasks      | elapsed: 53.6min\n",
      "[Parallel(n_jobs=6)]: Done 454760 tasks      | elapsed: 56.9min\n",
      "[Parallel(n_jobs=6)]: Done 481652 tasks      | elapsed: 60.0min\n",
      "[Parallel(n_jobs=6)]: Done 509478 tasks      | elapsed: 63.3min\n",
      "[Parallel(n_jobs=6)]: Done 537542 tasks      | elapsed: 66.5min\n",
      "[Parallel(n_jobs=6)]: Done 566548 tasks      | elapsed: 69.8min\n",
      "[Parallel(n_jobs=6)]: Done 596742 tasks      | elapsed: 73.5min\n",
      "[Parallel(n_jobs=6)]: Done 627200 out of 627200 | elapsed: 77.2min finished\n"
     ]
    },
    {
     "name": "stdout",
     "output_type": "stream",
     "text": [
      "\n",
      "Best score for Ridge Regression with _chi2 dataset: 0.7280124450628319\n",
      "\n",
      "Best hyperparameters for Ridge Regression with _chi2 dataset:\n",
      "memory : None\n",
      "steps : [('clf', Ridge(alpha=1.3, random_state=7, solver='saga', tol=0.09))]\n",
      "verbose : False\n",
      "clf : Ridge(alpha=1.3, random_state=7, solver='saga', tol=0.09)\n",
      "clf__alpha : 1.3\n",
      "clf__copy_X : True\n",
      "clf__fit_intercept : True\n",
      "clf__max_iter : None\n",
      "clf__normalize : False\n",
      "clf__random_state : 7\n",
      "clf__solver : saga\n",
      "clf__tol : 0.09\n",
      "\n",
      "Prediction scores for Ridge Regression using _chi2 :\n",
      "Mean Squared error: 5.293382720017615\n",
      "Mean Absolute error: 1.4472685918055532\n",
      "R^2: 0.7284364778431465\n"
     ]
    }
   ],
   "source": [
    "chi2_model, chi2_train_score, chi2_mse, chi2_mae, chi2_r2 = get_best_model(sel_methods[1], args, num_folds, is_sample)"
   ]
  },
  {
   "cell_type": "code",
   "execution_count": 10,
   "metadata": {},
   "outputs": [],
   "source": [
    "# Parameters in expected range, alpha and tol tuned to two decimal places\n",
    "is_sample = False\n",
    "num_folds = 10\n",
    "args = {'clf__alpha':(1.21,1.22,1.23,1.24,1.25,1.26,1.27,1.28,12.9,1.3,1.31,1.32,1.33,1.34,1.35,1.36,1.37,1.38,1.39),\n",
    "        'clf__copy_X':(True,False),\n",
    "        'clf__fit_intercept':(True,False),\n",
    "        'clf__normalize':(True,False),\n",
    "        'clf__solver':('auto', 'svd', 'cholesky', 'lsqr', 'sparse_cg', 'sag', 'saga'),\n",
    "        'clf__random_state':([7]),\n",
    "        'clf__tol':(0.81,0.82,0.83,0.84,0.85,0.86,0.87,0.88,0.89,0.9,0.91,0.92,0.93,0.94,0.95,0.96,0.97,0.98,0.99)}"
   ]
  },
  {
   "cell_type": "code",
   "execution_count": 11,
   "metadata": {},
   "outputs": [
    {
     "name": "stdout",
     "output_type": "stream",
     "text": [
      "\n",
      "\n",
      "Running cross fold validation for Ridge Regression with _chi2 dataset\n",
      "Fitting 10 folds for each of 20216 candidates, totalling 202160 fits\n"
     ]
    },
    {
     "name": "stderr",
     "output_type": "stream",
     "text": [
      "[Parallel(n_jobs=6)]: Using backend LokyBackend with 6 concurrent workers.\n",
      "[Parallel(n_jobs=6)]: Done 100 tasks      | elapsed:    0.4s\n",
      "[Parallel(n_jobs=6)]: Done 1300 tasks      | elapsed:    7.1s\n",
      "[Parallel(n_jobs=6)]: Done 3300 tasks      | elapsed:   16.5s\n",
      "[Parallel(n_jobs=6)]: Done 6100 tasks      | elapsed:   29.7s\n",
      "[Parallel(n_jobs=6)]: Done 11156 tasks      | elapsed:   51.4s\n",
      "[Parallel(n_jobs=6)]: Done 19956 tasks      | elapsed:  1.5min\n",
      "[Parallel(n_jobs=6)]: Done 30356 tasks      | elapsed:  2.3min\n",
      "[Parallel(n_jobs=6)]: Done 42356 tasks      | elapsed:  3.2min\n",
      "[Parallel(n_jobs=6)]: Done 55956 tasks      | elapsed:  4.2min\n",
      "[Parallel(n_jobs=6)]: Done 71156 tasks      | elapsed:  5.4min\n",
      "[Parallel(n_jobs=6)]: Done 87956 tasks      | elapsed:  6.7min\n",
      "[Parallel(n_jobs=6)]: Done 106356 tasks      | elapsed:  8.1min\n",
      "[Parallel(n_jobs=6)]: Done 126356 tasks      | elapsed:  9.6min\n",
      "[Parallel(n_jobs=6)]: Done 147956 tasks      | elapsed: 11.2min\n",
      "[Parallel(n_jobs=6)]: Done 171156 tasks      | elapsed: 12.9min\n",
      "[Parallel(n_jobs=6)]: Done 195956 tasks      | elapsed: 14.9min\n",
      "[Parallel(n_jobs=6)]: Done 202160 out of 202160 | elapsed: 15.4min finished\n"
     ]
    },
    {
     "name": "stdout",
     "output_type": "stream",
     "text": [
      "\n",
      "Best score for Ridge Regression with _chi2 dataset: 0.7277537483389354\n",
      "\n",
      "Best hyperparameters for Ridge Regression with _chi2 dataset:\n",
      "memory : None\n",
      "steps : [('clf', Ridge(alpha=1.21, random_state=7, solver='svd', tol=0.81))]\n",
      "verbose : False\n",
      "clf : Ridge(alpha=1.21, random_state=7, solver='svd', tol=0.81)\n",
      "clf__alpha : 1.21\n",
      "clf__copy_X : True\n",
      "clf__fit_intercept : True\n",
      "clf__max_iter : None\n",
      "clf__normalize : False\n",
      "clf__random_state : 7\n",
      "clf__solver : svd\n",
      "clf__tol : 0.81\n",
      "\n",
      "Prediction scores for Ridge Regression using _chi2 :\n",
      "Mean Squared error: 5.25450030158521\n",
      "Mean Absolute error: 1.4530717523526167\n",
      "R^2: 0.7304312413163316\n"
     ]
    }
   ],
   "source": [
    "chi2_model, chi2_train_score, chi2_mse, chi2_mae, chi2_r2 = get_best_model(sel_methods[1], args, num_folds, is_sample)"
   ]
  },
  {
   "cell_type": "code",
   "execution_count": 11,
   "metadata": {},
   "outputs": [],
   "source": [
    "# Lowest alpha and tol selected, explored further\n",
    "is_sample = False\n",
    "num_folds = 10\n",
    "args = {'clf__alpha':(1.11,1.12,1.13,1.14,1.15,1.16,1.17,1.18,1.19,1.2,1.21,1.22,1.23,1.24,1.25,1.26,1.27,1.28,12.9,1.3),\n",
    "        'clf__copy_X':(True,False),\n",
    "        'clf__fit_intercept':(True,False),\n",
    "        'clf__normalize':(True,False),\n",
    "        'clf__solver':('auto', 'svd', 'cholesky', 'lsqr', 'sparse_cg', 'sag', 'saga'),\n",
    "        'clf__random_state':([7]),\n",
    "        'clf__tol':(0.71,0.72,0.73,0.74,0.75,0.76,0.77,0.78,0.79,0.8,0.81,0.82,0.83,0.84,0.85,0.86,0.87,0.88,0.89,0.9)}"
   ]
  },
  {
   "cell_type": "code",
   "execution_count": 12,
   "metadata": {
    "scrolled": false
   },
   "outputs": [
    {
     "name": "stdout",
     "output_type": "stream",
     "text": [
      "\n",
      "\n",
      "Running cross fold validation for Ridge Regression with _chi2 dataset\n",
      "Fitting 10 folds for each of 22400 candidates, totalling 224000 fits\n"
     ]
    },
    {
     "name": "stderr",
     "output_type": "stream",
     "text": [
      "[Parallel(n_jobs=6)]: Using backend LokyBackend with 6 concurrent workers.\n",
      "[Parallel(n_jobs=6)]: Done 100 tasks      | elapsed:    0.4s\n",
      "[Parallel(n_jobs=6)]: Done 1300 tasks      | elapsed:    7.4s\n",
      "[Parallel(n_jobs=6)]: Done 3300 tasks      | elapsed:   17.7s\n",
      "[Parallel(n_jobs=6)]: Done 6100 tasks      | elapsed:   29.8s\n",
      "[Parallel(n_jobs=6)]: Done 10724 tasks      | elapsed:   49.3s\n",
      "[Parallel(n_jobs=6)]: Done 19524 tasks      | elapsed:  1.5min\n",
      "[Parallel(n_jobs=6)]: Done 29924 tasks      | elapsed:  2.3min\n",
      "[Parallel(n_jobs=6)]: Done 41924 tasks      | elapsed:  3.2min\n",
      "[Parallel(n_jobs=6)]: Done 55524 tasks      | elapsed:  4.1min\n",
      "[Parallel(n_jobs=6)]: Done 70724 tasks      | elapsed:  5.3min\n",
      "[Parallel(n_jobs=6)]: Done 87524 tasks      | elapsed:  6.5min\n",
      "[Parallel(n_jobs=6)]: Done 105924 tasks      | elapsed:  7.9min\n",
      "[Parallel(n_jobs=6)]: Done 125924 tasks      | elapsed:  9.4min\n",
      "[Parallel(n_jobs=6)]: Done 147524 tasks      | elapsed: 10.9min\n",
      "[Parallel(n_jobs=6)]: Done 170724 tasks      | elapsed: 12.6min\n",
      "[Parallel(n_jobs=6)]: Done 195524 tasks      | elapsed: 14.3min\n",
      "[Parallel(n_jobs=6)]: Done 221924 tasks      | elapsed: 16.2min\n",
      "[Parallel(n_jobs=6)]: Done 224000 out of 224000 | elapsed: 16.3min finished\n"
     ]
    },
    {
     "name": "stdout",
     "output_type": "stream",
     "text": [
      "\n",
      "Best score for Ridge Regression with _chi2 dataset: 0.7277542805756234\n",
      "\n",
      "Best hyperparameters for Ridge Regression with _chi2 dataset:\n",
      "memory : None\n",
      "steps : [('clf', Ridge(alpha=1.11, random_state=7, solver='svd', tol=0.71))]\n",
      "verbose : False\n",
      "clf : Ridge(alpha=1.11, random_state=7, solver='svd', tol=0.71)\n",
      "clf__alpha : 1.11\n",
      "clf__copy_X : True\n",
      "clf__fit_intercept : True\n",
      "clf__max_iter : None\n",
      "clf__normalize : False\n",
      "clf__random_state : 7\n",
      "clf__solver : svd\n",
      "clf__tol : 0.71\n",
      "\n",
      "Prediction scores for Ridge Regression using _chi2 :\n",
      "Mean Squared error: 5.254519916894833\n",
      "Mean Absolute error: 1.4530417816905126\n",
      "R^2: 0.7304302350028169\n"
     ]
    }
   ],
   "source": [
    "chi2_model, chi2_train_score, chi2_mse, chi2_mae, chi2_r2 = get_best_model(sel_methods[1], args, num_folds, is_sample)"
   ]
  },
  {
   "cell_type": "code",
   "execution_count": 18,
   "metadata": {},
   "outputs": [],
   "source": [
    "# alpha and tol deviated however test and train accuracies are unchanged therefore model finalised \n",
    "# Lowest alpha and tol selected, explored further\n",
    "is_sample = False\n",
    "num_folds = 10\n",
    "args = {'clf__alpha':([1.11]),\n",
    "        'clf__copy_X':([True]),\n",
    "        'clf__fit_intercept':([True]),\n",
    "        'clf__normalize':([False]),\n",
    "        'clf__solver':(['svd']),\n",
    "        'clf__random_state':([7]),\n",
    "        'clf__tol':([0.71])}"
   ]
  },
  {
   "cell_type": "code",
   "execution_count": 19,
   "metadata": {},
   "outputs": [
    {
     "name": "stdout",
     "output_type": "stream",
     "text": [
      "\n",
      "\n",
      "Running cross fold validation for Ridge Regression with _chi2 dataset\n",
      "Fitting 10 folds for each of 1 candidates, totalling 10 fits\n"
     ]
    },
    {
     "name": "stderr",
     "output_type": "stream",
     "text": [
      "[Parallel(n_jobs=6)]: Using backend LokyBackend with 6 concurrent workers.\n",
      "[Parallel(n_jobs=6)]: Done  10 out of  10 | elapsed:    0.0s remaining:    0.0s\n",
      "[Parallel(n_jobs=6)]: Done  10 out of  10 | elapsed:    0.0s finished\n"
     ]
    },
    {
     "name": "stdout",
     "output_type": "stream",
     "text": [
      "\n",
      "Best score for Ridge Regression with _chi2 dataset: 0.7277542805756234\n",
      "\n",
      "Best hyperparameters for Ridge Regression with _chi2 dataset:\n",
      "memory : None\n",
      "steps : [('clf', Ridge(alpha=1.11, random_state=7, solver='svd', tol=0.71))]\n",
      "verbose : False\n",
      "clf : Ridge(alpha=1.11, random_state=7, solver='svd', tol=0.71)\n",
      "clf__alpha : 1.11\n",
      "clf__copy_X : True\n",
      "clf__fit_intercept : True\n",
      "clf__max_iter : None\n",
      "clf__normalize : False\n",
      "clf__random_state : 7\n",
      "clf__solver : svd\n",
      "clf__tol : 0.71\n",
      "\n",
      "Prediction scores for Ridge Regression using _chi2 :\n",
      "Mean Squared error: 5.254519916894833\n",
      "Mean Absolute error: 1.4530417816905126\n",
      "R^2: 0.7304302350028169\n"
     ]
    }
   ],
   "source": [
    "chi2_model, chi2_train_score, chi2_mse, chi2_mae, chi2_r2 = get_best_model(sel_methods[1], args, num_folds, is_sample)"
   ]
  },
  {
   "cell_type": "code",
   "execution_count": 20,
   "metadata": {},
   "outputs": [],
   "source": [
    "save_model(chi2_model,sel_methods[1])"
   ]
  },
  {
   "cell_type": "markdown",
   "metadata": {},
   "source": [
    "<h3>AdaBoost feature selected dataset<h3>"
   ]
  },
  {
   "cell_type": "code",
   "execution_count": 14,
   "metadata": {},
   "outputs": [],
   "source": [
    "is_sample = False\n",
    "num_folds = 10\n",
    "args = {'clf__alpha':(0.1,0.2,0.3,0.4,0.5,0.6,0.7,0.8,0.9,1,1.1,1.2,1.3,1.4,1.5,1.6,1.7,1.8,1.9,2,\n",
    "                     2.1,2.2,2.3,2.4,2.5,2.6,2.7,2.8,2.9,3,3.1,3.2,3.3,3.4,3.5,3.6,3.7,3.8,3.9,4),\n",
    "        'clf__copy_X':(True,False),\n",
    "        'clf__fit_intercept':(True,False),\n",
    "        'clf__normalize':(True,False),\n",
    "        'clf__solver':('auto', 'svd', 'cholesky', 'lsqr', 'sparse_cg', 'sag', 'saga'),\n",
    "        'clf__random_state':([7]),\n",
    "        'clf__tol':(0.001, 0.002,0.003,0.004,0.005,0.006,0.007,0.008,0.009,0.01, 0.02,0.03,0.04,0.05,0.06,\n",
    "                    0.07,0.08,0.09,0.1,0.2,0.3,0.4,0.5,0.6,0.7,0.8,0.9,1)}"
   ]
  },
  {
   "cell_type": "code",
   "execution_count": 15,
   "metadata": {},
   "outputs": [
    {
     "name": "stdout",
     "output_type": "stream",
     "text": [
      "\n",
      "\n",
      "Running cross fold validation for Ridge Regression with _adaboost dataset\n",
      "Fitting 10 folds for each of 62720 candidates, totalling 627200 fits\n"
     ]
    },
    {
     "name": "stderr",
     "output_type": "stream",
     "text": [
      "[Parallel(n_jobs=6)]: Using backend LokyBackend with 6 concurrent workers.\n",
      "[Parallel(n_jobs=6)]: Done 100 tasks      | elapsed:    0.4s\n",
      "[Parallel(n_jobs=6)]: Done 1300 tasks      | elapsed:    6.1s\n",
      "[Parallel(n_jobs=6)]: Done 2928 tasks      | elapsed:   19.6s\n",
      "[Parallel(n_jobs=6)]: Done 5616 tasks      | elapsed:   45.8s\n",
      "[Parallel(n_jobs=6)]: Done 8614 tasks      | elapsed:  1.1min\n",
      "[Parallel(n_jobs=6)]: Done 12030 tasks      | elapsed:  1.6min\n",
      "[Parallel(n_jobs=6)]: Done 17218 tasks      | elapsed:  2.3min\n",
      "[Parallel(n_jobs=6)]: Done 23164 tasks      | elapsed:  3.1min\n",
      "[Parallel(n_jobs=6)]: Done 29150 tasks      | elapsed:  3.9min\n",
      "[Parallel(n_jobs=6)]: Done 35504 tasks      | elapsed:  4.8min\n",
      "[Parallel(n_jobs=6)]: Done 43166 tasks      | elapsed:  5.9min\n",
      "[Parallel(n_jobs=6)]: Done 52398 tasks      | elapsed:  7.2min\n",
      "[Parallel(n_jobs=6)]: Done 61268 tasks      | elapsed:  8.3min\n",
      "[Parallel(n_jobs=6)]: Done 71530 tasks      | elapsed:  9.6min\n",
      "[Parallel(n_jobs=6)]: Done 81996 tasks      | elapsed: 11.0min\n",
      "[Parallel(n_jobs=6)]: Done 94052 tasks      | elapsed: 12.5min\n",
      "[Parallel(n_jobs=6)]: Done 107300 tasks      | elapsed: 14.1min\n",
      "[Parallel(n_jobs=6)]: Done 120198 tasks      | elapsed: 15.8min\n",
      "[Parallel(n_jobs=6)]: Done 133982 tasks      | elapsed: 17.5min\n",
      "[Parallel(n_jobs=6)]: Done 147992 tasks      | elapsed: 19.4min\n",
      "[Parallel(n_jobs=6)]: Done 164118 tasks      | elapsed: 21.3min\n",
      "[Parallel(n_jobs=6)]: Done 181682 tasks      | elapsed: 23.3min\n",
      "[Parallel(n_jobs=6)]: Done 199768 tasks      | elapsed: 25.4min\n",
      "[Parallel(n_jobs=6)]: Done 218580 tasks      | elapsed: 27.5min\n",
      "[Parallel(n_jobs=6)]: Done 237982 tasks      | elapsed: 29.7min\n",
      "[Parallel(n_jobs=6)]: Done 258734 tasks      | elapsed: 32.1min\n",
      "[Parallel(n_jobs=6)]: Done 280002 tasks      | elapsed: 34.5min\n",
      "[Parallel(n_jobs=6)]: Done 300868 tasks      | elapsed: 36.8min\n",
      "[Parallel(n_jobs=6)]: Done 325150 tasks      | elapsed: 39.6min\n",
      "[Parallel(n_jobs=6)]: Done 347202 tasks      | elapsed: 42.0min\n",
      "[Parallel(n_jobs=6)]: Done 371224 tasks      | elapsed: 44.7min\n",
      "[Parallel(n_jobs=6)]: Done 394750 tasks      | elapsed: 47.3min\n",
      "[Parallel(n_jobs=6)]: Done 421320 tasks      | elapsed: 50.3min\n",
      "[Parallel(n_jobs=6)]: Done 448430 tasks      | elapsed: 53.2min\n",
      "[Parallel(n_jobs=6)]: Done 476058 tasks      | elapsed: 56.3min\n",
      "[Parallel(n_jobs=6)]: Done 502608 tasks      | elapsed: 59.1min\n",
      "[Parallel(n_jobs=6)]: Done 531076 tasks      | elapsed: 62.3min\n",
      "[Parallel(n_jobs=6)]: Done 561056 tasks      | elapsed: 65.5min\n",
      "[Parallel(n_jobs=6)]: Done 592200 tasks      | elapsed: 68.9min\n",
      "[Parallel(n_jobs=6)]: Done 624746 tasks      | elapsed: 72.4min\n",
      "[Parallel(n_jobs=6)]: Done 627200 out of 627200 | elapsed: 72.7min finished\n"
     ]
    },
    {
     "name": "stdout",
     "output_type": "stream",
     "text": [
      "\n",
      "Best score for Ridge Regression with _adaboost dataset: 0.741285265369401\n",
      "\n",
      "Best hyperparameters for Ridge Regression with _adaboost dataset:\n",
      "memory : None\n",
      "steps : [('clf', Ridge(alpha=0.5, fit_intercept=False, normalize=True, random_state=7,\n",
      "      solver='sag', tol=0.06))]\n",
      "verbose : False\n",
      "clf : Ridge(alpha=0.5, fit_intercept=False, normalize=True, random_state=7,\n",
      "      solver='sag', tol=0.06)\n",
      "clf__alpha : 0.5\n",
      "clf__copy_X : True\n",
      "clf__fit_intercept : False\n",
      "clf__max_iter : None\n",
      "clf__normalize : True\n",
      "clf__random_state : 7\n",
      "clf__solver : sag\n",
      "clf__tol : 0.06\n",
      "\n",
      "Prediction scores for Ridge Regression using _adaboost :\n",
      "Mean Squared error: 4.9680391071612835\n",
      "Mean Absolute error: 1.3773327512732494\n",
      "R^2: 0.7451274034934662\n"
     ]
    }
   ],
   "source": [
    "ada_model, ada_train_score, ada_mse, ada_mae, ada_r2 = get_best_model(sel_methods[2], args, num_folds, is_sample)"
   ]
  },
  {
   "cell_type": "code",
   "execution_count": 14,
   "metadata": {},
   "outputs": [],
   "source": [
    "# Parameters in expected range, alpha and tol tuned to two decimal places\n",
    "is_sample = False\n",
    "num_folds = 10\n",
    "args = {'clf__alpha':(0.41,0.42,0.43,0.44,0.45,0.46,0.47,0.48,0.49,0.5,0.51,0.52,0.53,0.54,0.55,0.56,0.57,0.58,0.59),\n",
    "        'clf__copy_X':(True,False),\n",
    "        'clf__fit_intercept':(True,False),\n",
    "        'clf__normalize':(True,False),\n",
    "        'clf__solver':('auto', 'svd', 'cholesky', 'lsqr', 'sparse_cg', 'sag', 'saga'),\n",
    "        'clf__random_state':([7]),\n",
    "        'clf__tol':(0.01,0.02,0.03,0.04,0.05,0.06,0.07,0.08,0.09)}"
   ]
  },
  {
   "cell_type": "code",
   "execution_count": 15,
   "metadata": {
    "scrolled": false
   },
   "outputs": [
    {
     "name": "stdout",
     "output_type": "stream",
     "text": [
      "\n",
      "\n",
      "Running cross fold validation for Ridge Regression with _adaboost dataset\n",
      "Fitting 10 folds for each of 9576 candidates, totalling 95760 fits\n"
     ]
    },
    {
     "name": "stderr",
     "output_type": "stream",
     "text": [
      "[Parallel(n_jobs=6)]: Using backend LokyBackend with 6 concurrent workers.\n",
      "[Parallel(n_jobs=6)]: Done 100 tasks      | elapsed:    0.5s\n",
      "[Parallel(n_jobs=6)]: Done 1300 tasks      | elapsed:    9.0s\n",
      "[Parallel(n_jobs=6)]: Done 3054 tasks      | elapsed:   21.6s\n",
      "[Parallel(n_jobs=6)]: Done 5854 tasks      | elapsed:   40.6s\n",
      "[Parallel(n_jobs=6)]: Done 9208 tasks      | elapsed:  1.1min\n",
      "[Parallel(n_jobs=6)]: Done 13362 tasks      | elapsed:  1.6min\n",
      "[Parallel(n_jobs=6)]: Done 18274 tasks      | elapsed:  2.2min\n",
      "[Parallel(n_jobs=6)]: Done 23782 tasks      | elapsed:  2.8min\n",
      "[Parallel(n_jobs=6)]: Done 30594 tasks      | elapsed:  3.6min\n",
      "[Parallel(n_jobs=6)]: Done 37948 tasks      | elapsed:  4.5min\n",
      "[Parallel(n_jobs=6)]: Done 45856 tasks      | elapsed:  5.4min\n",
      "[Parallel(n_jobs=6)]: Done 54522 tasks      | elapsed:  6.5min\n",
      "[Parallel(n_jobs=6)]: Done 64192 tasks      | elapsed:  7.6min\n",
      "[Parallel(n_jobs=6)]: Done 74746 tasks      | elapsed:  8.8min\n",
      "[Parallel(n_jobs=6)]: Done 85812 tasks      | elapsed: 10.1min\n",
      "[Parallel(n_jobs=6)]: Done 95749 out of 95760 | elapsed: 11.3min remaining:    0.0s\n",
      "[Parallel(n_jobs=6)]: Done 95760 out of 95760 | elapsed: 11.3min finished\n"
     ]
    },
    {
     "name": "stdout",
     "output_type": "stream",
     "text": [
      "\n",
      "Best score for Ridge Regression with _adaboost dataset: 0.741285265369401\n",
      "\n",
      "Best hyperparameters for Ridge Regression with _adaboost dataset:\n",
      "memory : None\n",
      "steps : [('clf', Ridge(alpha=0.5, fit_intercept=False, normalize=True, random_state=7,\n",
      "      solver='sag', tol=0.06))]\n",
      "verbose : False\n",
      "clf : Ridge(alpha=0.5, fit_intercept=False, normalize=True, random_state=7,\n",
      "      solver='sag', tol=0.06)\n",
      "clf__alpha : 0.5\n",
      "clf__copy_X : True\n",
      "clf__fit_intercept : False\n",
      "clf__max_iter : None\n",
      "clf__normalize : True\n",
      "clf__random_state : 7\n",
      "clf__solver : sag\n",
      "clf__tol : 0.06\n",
      "\n",
      "Prediction scores for Ridge Regression using _adaboost :\n",
      "Mean Squared error: 4.9680391071612835\n",
      "Mean Absolute error: 1.3773327512732494\n",
      "R^2: 0.7451274034934662\n"
     ]
    }
   ],
   "source": [
    "ada_model, ada_train_score, ada_mse, ada_mae, ada_r2 = get_best_model(sel_methods[2], args, num_folds, is_sample)"
   ]
  },
  {
   "cell_type": "code",
   "execution_count": 21,
   "metadata": {},
   "outputs": [],
   "source": [
    "# Parameters stabablised, model saved\n",
    "is_sample = False\n",
    "num_folds = 10\n",
    "args = {'clf__alpha':([0.5]),\n",
    "        'clf__copy_X':([True]),\n",
    "        'clf__fit_intercept':([False]),\n",
    "        'clf__normalize':([True]),\n",
    "        'clf__solver':(['sag']),\n",
    "        'clf__random_state':([7]),\n",
    "        'clf__tol':([0.06])}"
   ]
  },
  {
   "cell_type": "code",
   "execution_count": 22,
   "metadata": {},
   "outputs": [
    {
     "name": "stdout",
     "output_type": "stream",
     "text": [
      "\n",
      "\n",
      "Running cross fold validation for Ridge Regression with _adaboost dataset\n",
      "Fitting 10 folds for each of 1 candidates, totalling 10 fits\n"
     ]
    },
    {
     "name": "stderr",
     "output_type": "stream",
     "text": [
      "[Parallel(n_jobs=6)]: Using backend LokyBackend with 6 concurrent workers.\n"
     ]
    },
    {
     "name": "stdout",
     "output_type": "stream",
     "text": [
      "\n",
      "Best score for Ridge Regression with _adaboost dataset: 0.741285265369401\n",
      "\n",
      "Best hyperparameters for Ridge Regression with _adaboost dataset:\n",
      "memory : None\n",
      "steps : [('clf', Ridge(alpha=0.5, fit_intercept=False, normalize=True, random_state=7,\n",
      "      solver='sag', tol=0.06))]\n",
      "verbose : False\n",
      "clf : Ridge(alpha=0.5, fit_intercept=False, normalize=True, random_state=7,\n",
      "      solver='sag', tol=0.06)\n",
      "clf__alpha : 0.5\n",
      "clf__copy_X : True\n",
      "clf__fit_intercept : False\n",
      "clf__max_iter : None\n",
      "clf__normalize : True\n",
      "clf__random_state : 7\n",
      "clf__solver : sag\n",
      "clf__tol : 0.06\n",
      "\n",
      "Prediction scores for Ridge Regression using _adaboost :\n",
      "Mean Squared error: 4.9680391071612835\n",
      "Mean Absolute error: 1.3773327512732494\n",
      "R^2: 0.7451274034934662\n"
     ]
    },
    {
     "name": "stderr",
     "output_type": "stream",
     "text": [
      "[Parallel(n_jobs=6)]: Done  10 out of  10 | elapsed:    0.2s remaining:    0.0s\n",
      "[Parallel(n_jobs=6)]: Done  10 out of  10 | elapsed:    0.2s finished\n"
     ]
    }
   ],
   "source": [
    "ada_model, ada_train_score, ada_mse, ada_mae, ada_r2 = get_best_model(sel_methods[2], args, num_folds, is_sample)"
   ]
  },
  {
   "cell_type": "code",
   "execution_count": 23,
   "metadata": {},
   "outputs": [],
   "source": [
    "save_model(ada_model,sel_methods[2])"
   ]
  },
  {
   "cell_type": "markdown",
   "metadata": {},
   "source": [
    "<h3>Equal business and crime feature selected dataset<h3>"
   ]
  },
  {
   "cell_type": "code",
   "execution_count": 16,
   "metadata": {},
   "outputs": [],
   "source": [
    "is_sample = False\n",
    "num_folds = 10\n",
    "args = {'clf__alpha':(0.1,0.2,0.3,0.4,0.5,0.6,0.7,0.8,0.9,1,1.1,1.2,1.3,1.4,1.5,1.6,1.7,1.8,1.9,2,\n",
    "                     2.1,2.2,2.3,2.4,2.5,2.6,2.7,2.8,2.9,3,3.1,3.2,3.3,3.4,3.5,3.6,3.7,3.8,3.9,4),\n",
    "        'clf__copy_X':(True,False),\n",
    "        'clf__fit_intercept':(True,False),\n",
    "        'clf__normalize':(True,False),\n",
    "        'clf__solver':('auto', 'svd', 'cholesky', 'lsqr', 'sparse_cg', 'sag', 'saga'),\n",
    "        'clf__random_state':([7]),\n",
    "        'clf__tol':(0.001, 0.002,0.003,0.004,0.005,0.006,0.007,0.008,0.009,0.01, 0.02,0.03,0.04,0.05,0.06,\n",
    "                    0.07,0.08,0.09,0.1,0.2,0.3,0.4,0.5,0.6,0.7,0.8,0.9,1)}"
   ]
  },
  {
   "cell_type": "code",
   "execution_count": 17,
   "metadata": {},
   "outputs": [
    {
     "name": "stdout",
     "output_type": "stream",
     "text": [
      "\n",
      "\n",
      "Running cross fold validation for Ridge Regression with _equal_crime_and_business dataset\n",
      "Fitting 10 folds for each of 62720 candidates, totalling 627200 fits\n"
     ]
    },
    {
     "name": "stderr",
     "output_type": "stream",
     "text": [
      "[Parallel(n_jobs=6)]: Using backend LokyBackend with 6 concurrent workers.\n",
      "[Parallel(n_jobs=6)]: Done 100 tasks      | elapsed:    0.4s\n",
      "[Parallel(n_jobs=6)]: Done 1300 tasks      | elapsed:    6.2s\n",
      "[Parallel(n_jobs=6)]: Done 2928 tasks      | elapsed:   18.7s\n",
      "[Parallel(n_jobs=6)]: Done 5716 tasks      | elapsed:   43.9s\n",
      "[Parallel(n_jobs=6)]: Done 9564 tasks      | elapsed:  1.2min\n",
      "[Parallel(n_jobs=6)]: Done 13710 tasks      | elapsed:  1.7min\n",
      "[Parallel(n_jobs=6)]: Done 18910 tasks      | elapsed:  2.2min\n",
      "[Parallel(n_jobs=6)]: Done 24500 tasks      | elapsed:  3.0min\n",
      "[Parallel(n_jobs=6)]: Done 31416 tasks      | elapsed:  3.8min\n",
      "[Parallel(n_jobs=6)]: Done 38926 tasks      | elapsed:  4.7min\n",
      "[Parallel(n_jobs=6)]: Done 47338 tasks      | elapsed:  5.7min\n",
      "[Parallel(n_jobs=6)]: Done 55986 tasks      | elapsed:  6.8min\n",
      "[Parallel(n_jobs=6)]: Done 65086 tasks      | elapsed:  7.8min\n",
      "[Parallel(n_jobs=6)]: Done 74696 tasks      | elapsed:  9.0min\n",
      "[Parallel(n_jobs=6)]: Done 86160 tasks      | elapsed: 10.4min\n",
      "[Parallel(n_jobs=6)]: Done 98152 tasks      | elapsed: 11.8min\n",
      "[Parallel(n_jobs=6)]: Done 110986 tasks      | elapsed: 13.2min\n",
      "[Parallel(n_jobs=6)]: Done 124908 tasks      | elapsed: 14.8min\n",
      "[Parallel(n_jobs=6)]: Done 139258 tasks      | elapsed: 16.5min\n",
      "[Parallel(n_jobs=6)]: Done 154346 tasks      | elapsed: 18.3min\n",
      "[Parallel(n_jobs=6)]: Done 170418 tasks      | elapsed: 20.1min\n",
      "[Parallel(n_jobs=6)]: Done 188050 tasks      | elapsed: 22.1min\n",
      "[Parallel(n_jobs=6)]: Done 206062 tasks      | elapsed: 24.1min\n",
      "[Parallel(n_jobs=6)]: Done 225152 tasks      | elapsed: 26.3min\n",
      "[Parallel(n_jobs=6)]: Done 244444 tasks      | elapsed: 28.4min\n",
      "[Parallel(n_jobs=6)]: Done 264596 tasks      | elapsed: 30.7min\n",
      "[Parallel(n_jobs=6)]: Done 284526 tasks      | elapsed: 32.9min\n",
      "[Parallel(n_jobs=6)]: Done 305514 tasks      | elapsed: 35.3min\n",
      "[Parallel(n_jobs=6)]: Done 327472 tasks      | elapsed: 37.7min\n",
      "[Parallel(n_jobs=6)]: Done 350898 tasks      | elapsed: 40.3min\n",
      "[Parallel(n_jobs=6)]: Done 375818 tasks      | elapsed: 42.9min\n",
      "[Parallel(n_jobs=6)]: Done 400730 tasks      | elapsed: 45.7min\n",
      "[Parallel(n_jobs=6)]: Done 426935 tasks      | elapsed: 48.5min\n",
      "[Parallel(n_jobs=6)]: Done 452456 tasks      | elapsed: 51.3min\n",
      "[Parallel(n_jobs=6)]: Done 477464 tasks      | elapsed: 54.0min\n",
      "[Parallel(n_jobs=6)]: Done 505294 tasks      | elapsed: 57.0min\n",
      "[Parallel(n_jobs=6)]: Done 535474 tasks      | elapsed: 60.2min\n",
      "[Parallel(n_jobs=6)]: Done 566224 tasks      | elapsed: 63.5min\n",
      "[Parallel(n_jobs=6)]: Done 597894 tasks      | elapsed: 66.9min\n",
      "[Parallel(n_jobs=6)]: Done 627200 out of 627200 | elapsed: 70.0min finished\n"
     ]
    },
    {
     "name": "stdout",
     "output_type": "stream",
     "text": [
      "\n",
      "Best score for Ridge Regression with _equal_crime_and_business dataset: 0.7287811394452313\n",
      "\n",
      "Best hyperparameters for Ridge Regression with _equal_crime_and_business dataset:\n",
      "memory : None\n",
      "steps : [('clf', Ridge(alpha=2, random_state=7, solver='saga', tol=0.05))]\n",
      "verbose : False\n",
      "clf : Ridge(alpha=2, random_state=7, solver='saga', tol=0.05)\n",
      "clf__alpha : 2\n",
      "clf__copy_X : True\n",
      "clf__fit_intercept : True\n",
      "clf__max_iter : None\n",
      "clf__normalize : False\n",
      "clf__random_state : 7\n",
      "clf__solver : saga\n",
      "clf__tol : 0.05\n",
      "\n",
      "Prediction scores for Ridge Regression using _equal_crime_and_business :\n",
      "Mean Squared error: 5.13039430901731\n",
      "Mean Absolute error: 1.4164940183566836\n",
      "R^2: 0.7367981832597243\n"
     ]
    }
   ],
   "source": [
    "equal_model, equal_train_score, equal_mse, equal_mae, equal_r2 = get_best_model(sel_methods[3], args, num_folds, is_sample)"
   ]
  },
  {
   "cell_type": "code",
   "execution_count": 17,
   "metadata": {},
   "outputs": [],
   "source": [
    "# Parameters in expected range, alpha and tol tuned to two decimal places\n",
    "is_sample = False\n",
    "num_folds = 10\n",
    "args = {'clf__alpha':(1.91,1.92,1.93,1.94,1.95,1.96,1.97,1.98,1.99,2,2.01,2.02,2.03,2.04,2.05,2.06,2.07,2.08,2.09),\n",
    "        'clf__copy_X':(True,False),\n",
    "        'clf__fit_intercept':(True,False),\n",
    "        'clf__normalize':(True,False),\n",
    "        'clf__solver':('auto', 'svd', 'cholesky', 'lsqr', 'sparse_cg', 'sag', 'saga'),\n",
    "        'clf__random_state':([7]),\n",
    "        'clf__tol':(0.01, 0.02,0.03,0.04,0.05,0.06,0.07,0.08,0.09,0.1)}"
   ]
  },
  {
   "cell_type": "code",
   "execution_count": 18,
   "metadata": {
    "scrolled": false
   },
   "outputs": [
    {
     "name": "stdout",
     "output_type": "stream",
     "text": [
      "\n",
      "\n",
      "Running cross fold validation for Ridge Regression with _equal_crime_and_business dataset\n",
      "Fitting 10 folds for each of 10640 candidates, totalling 106400 fits\n"
     ]
    },
    {
     "name": "stderr",
     "output_type": "stream",
     "text": [
      "[Parallel(n_jobs=6)]: Using backend LokyBackend with 6 concurrent workers.\n",
      "[Parallel(n_jobs=6)]: Done 100 tasks      | elapsed:    0.4s\n",
      "[Parallel(n_jobs=6)]: Done 1300 tasks      | elapsed:    8.0s\n",
      "[Parallel(n_jobs=6)]: Done 3300 tasks      | elapsed:   19.5s\n",
      "[Parallel(n_jobs=6)]: Done 6100 tasks      | elapsed:   36.8s\n",
      "[Parallel(n_jobs=6)]: Done 9700 tasks      | elapsed:  1.0min\n",
      "[Parallel(n_jobs=6)]: Done 14100 tasks      | elapsed:  1.5min\n",
      "[Parallel(n_jobs=6)]: Done 19300 tasks      | elapsed:  2.0min\n",
      "[Parallel(n_jobs=6)]: Done 25300 tasks      | elapsed:  2.6min\n",
      "[Parallel(n_jobs=6)]: Done 32100 tasks      | elapsed:  3.3min\n",
      "[Parallel(n_jobs=6)]: Done 39700 tasks      | elapsed:  4.1min\n",
      "[Parallel(n_jobs=6)]: Done 48100 tasks      | elapsed:  5.0min\n",
      "[Parallel(n_jobs=6)]: Done 57300 tasks      | elapsed:  6.0min\n",
      "[Parallel(n_jobs=6)]: Done 67300 tasks      | elapsed:  7.1min\n",
      "[Parallel(n_jobs=6)]: Done 78100 tasks      | elapsed:  8.2min\n",
      "[Parallel(n_jobs=6)]: Done 89700 tasks      | elapsed:  9.4min\n",
      "[Parallel(n_jobs=6)]: Done 102100 tasks      | elapsed: 10.7min\n",
      "[Parallel(n_jobs=6)]: Done 106400 out of 106400 | elapsed: 11.2min finished\n"
     ]
    },
    {
     "name": "stdout",
     "output_type": "stream",
     "text": [
      "\n",
      "Best score for Ridge Regression with _equal_crime_and_business dataset: 0.7287811394452313\n",
      "\n",
      "Best hyperparameters for Ridge Regression with _equal_crime_and_business dataset:\n",
      "memory : None\n",
      "steps : [('clf', Ridge(alpha=2, random_state=7, solver='saga', tol=0.05))]\n",
      "verbose : False\n",
      "clf : Ridge(alpha=2, random_state=7, solver='saga', tol=0.05)\n",
      "clf__alpha : 2\n",
      "clf__copy_X : True\n",
      "clf__fit_intercept : True\n",
      "clf__max_iter : None\n",
      "clf__normalize : False\n",
      "clf__random_state : 7\n",
      "clf__solver : saga\n",
      "clf__tol : 0.05\n",
      "\n",
      "Prediction scores for Ridge Regression using _equal_crime_and_business :\n",
      "Mean Squared error: 5.13039430901731\n",
      "Mean Absolute error: 1.4164940183566836\n",
      "R^2: 0.7367981832597243\n"
     ]
    }
   ],
   "source": [
    "equal_model, equal_train_score, equal_mse, equal_mae, equal_r2 = get_best_model(sel_methods[3], args, num_folds, is_sample)"
   ]
  },
  {
   "cell_type": "markdown",
   "metadata": {},
   "source": [
    "<h3> Retrain on revised dataset <h3>"
   ]
  },
  {
   "cell_type": "code",
   "execution_count": 24,
   "metadata": {},
   "outputs": [],
   "source": [
    "def get_best_model_revised(method, args, _cv, is_sample):\n",
    "    sample_string = ''\n",
    "    if (is_sample):\n",
    "        sample_string = '_sample'\n",
    "    y_train = pd.read_csv('y_train'+ sample_string + '_revised.csv')    \n",
    "    method_string = method\n",
    "    if (method == ''):\n",
    "        method_string = \"no feature selection\"\n",
    "    print('\\n\\nRunning cross fold validation for',display_name,'with',method_string,'dataset')\n",
    "    x_train = pd.read_csv('x_train' + method + sample_string + '_revised.csv').values\n",
    "    x_test = pd.read_csv('x_test' + method + '_revised.csv').values\n",
    "    pipe = Pipeline([('clf', Ridge())])\n",
    "    grid = GridSearchCV(pipe, args, cv = _cv, verbose = 1, scoring = 'r2', n_jobs=6)\n",
    "    grid.fit(x_train, y_train.values.ravel())\n",
    "    print('\\nBest score for',display_name,'with',method_string,\"dataset:\",grid.best_score_)\n",
    "    best_args = grid.best_estimator_.get_params()\n",
    "    print('\\nBest hyperparameters for',display_name,'with',method_string,'dataset:')\n",
    "    for arg in best_args:\n",
    "        print(arg,\":\",best_args[arg])\n",
    "    y_test_predict = grid.predict(x_test)\n",
    "    mse = mean_squared_error(y_test,y_test_predict)\n",
    "    mae = mean_absolute_error(y_test,y_test_predict)\n",
    "    r2 = r2_score(y_test,y_test_predict)\n",
    "    print('\\nPrediction scores for',display_name,'using',method_string,':')\n",
    "    print('Mean Squared error:',mse)\n",
    "    print('Mean Absolute error:',mae)\n",
    "    print('R^2:',r2)\n",
    "    return grid.best_estimator_,grid.best_score_,mse,mae,r2"
   ]
  },
  {
   "cell_type": "code",
   "execution_count": 25,
   "metadata": {},
   "outputs": [],
   "source": [
    "is_sample = False\n",
    "num_folds = 10\n",
    "args = {'clf__alpha':(0.1,0.2,0.3,0.4,0.5,0.6,0.7,0.8,0.9,1,1.1,1.2,1.3,1.4,1.5,1.6,1.7,1.8,1.9,2,\n",
    "                     2.1,2.2,2.3,2.4,2.5,2.6,2.7,2.8,2.9,3,3.1,3.2,3.3,3.4,3.5,3.6,3.7,3.8,3.9,4),\n",
    "        'clf__copy_X':(True,False),\n",
    "        'clf__fit_intercept':(True,False),\n",
    "        'clf__normalize':(True,False),\n",
    "        'clf__solver':('auto', 'svd', 'cholesky', 'lsqr', 'sparse_cg', 'sag', 'saga'),\n",
    "        'clf__random_state':([7]),\n",
    "        'clf__tol':(0.001, 0.002,0.003,0.004,0.005,0.006,0.007,0.008,0.009,0.01, 0.02,0.03,0.04,0.05,0.06,\n",
    "                    0.07,0.08,0.09,0.1,0.2,0.3,0.4,0.5,0.6,0.7,0.8,0.9,1)}"
   ]
  },
  {
   "cell_type": "code",
   "execution_count": 26,
   "metadata": {
    "scrolled": false
   },
   "outputs": [
    {
     "name": "stdout",
     "output_type": "stream",
     "text": [
      "\n",
      "\n",
      "Running cross fold validation for Ridge Regression with _equal_crime_and_business dataset\n",
      "Fitting 10 folds for each of 62720 candidates, totalling 627200 fits\n"
     ]
    },
    {
     "name": "stderr",
     "output_type": "stream",
     "text": [
      "[Parallel(n_jobs=6)]: Using backend LokyBackend with 6 concurrent workers.\n",
      "[Parallel(n_jobs=6)]: Done 100 tasks      | elapsed:    0.4s\n",
      "[Parallel(n_jobs=6)]: Done 1300 tasks      | elapsed:    6.2s\n",
      "[Parallel(n_jobs=6)]: Done 2544 tasks      | elapsed:   17.8s\n",
      "[Parallel(n_jobs=6)]: Done 4634 tasks      | elapsed:   35.0s\n",
      "[Parallel(n_jobs=6)]: Done 7910 tasks      | elapsed:  1.0min\n",
      "[Parallel(n_jobs=6)]: Done 12912 tasks      | elapsed:  1.6min\n",
      "[Parallel(n_jobs=6)]: Done 17860 tasks      | elapsed:  2.2min\n",
      "[Parallel(n_jobs=6)]: Done 23314 tasks      | elapsed:  3.0min\n",
      "[Parallel(n_jobs=6)]: Done 30726 tasks      | elapsed:  3.8min\n",
      "[Parallel(n_jobs=6)]: Done 37178 tasks      | elapsed:  4.7min\n",
      "[Parallel(n_jobs=6)]: Done 44944 tasks      | elapsed:  5.6min\n",
      "[Parallel(n_jobs=6)]: Done 52992 tasks      | elapsed:  6.6min\n",
      "[Parallel(n_jobs=6)]: Done 63496 tasks      | elapsed:  7.8min\n",
      "[Parallel(n_jobs=6)]: Done 73408 tasks      | elapsed:  9.0min\n",
      "[Parallel(n_jobs=6)]: Done 84126 tasks      | elapsed: 10.3min\n",
      "[Parallel(n_jobs=6)]: Done 96730 tasks      | elapsed: 11.7min\n",
      "[Parallel(n_jobs=6)]: Done 108578 tasks      | elapsed: 13.2min\n",
      "[Parallel(n_jobs=6)]: Done 122556 tasks      | elapsed: 14.8min\n",
      "[Parallel(n_jobs=6)]: Done 136012 tasks      | elapsed: 16.4min\n",
      "[Parallel(n_jobs=6)]: Done 150836 tasks      | elapsed: 18.2min\n",
      "[Parallel(n_jobs=6)]: Done 168192 tasks      | elapsed: 20.2min\n",
      "[Parallel(n_jobs=6)]: Done 184826 tasks      | elapsed: 22.2min\n",
      "[Parallel(n_jobs=6)]: Done 203592 tasks      | elapsed: 24.4min\n",
      "[Parallel(n_jobs=6)]: Done 220848 tasks      | elapsed: 26.3min\n",
      "[Parallel(n_jobs=6)]: Done 238994 tasks      | elapsed: 28.3min\n",
      "[Parallel(n_jobs=6)]: Done 260720 tasks      | elapsed: 30.6min\n",
      "[Parallel(n_jobs=6)]: Done 282360 tasks      | elapsed: 32.9min\n",
      "[Parallel(n_jobs=6)]: Done 305638 tasks      | elapsed: 35.4min\n",
      "[Parallel(n_jobs=6)]: Done 328790 tasks      | elapsed: 38.3min\n",
      "[Parallel(n_jobs=6)]: Done 352556 tasks      | elapsed: 40.9min\n",
      "[Parallel(n_jobs=6)]: Done 376246 tasks      | elapsed: 43.4min\n",
      "[Parallel(n_jobs=6)]: Done 401956 tasks      | elapsed: 46.2min\n",
      "[Parallel(n_jobs=6)]: Done 426930 tasks      | elapsed: 48.8min\n",
      "[Parallel(n_jobs=6)]: Done 454802 tasks      | elapsed: 51.8min\n",
      "[Parallel(n_jobs=6)]: Done 481940 tasks      | elapsed: 54.7min\n",
      "[Parallel(n_jobs=6)]: Done 510564 tasks      | elapsed: 57.7min\n",
      "[Parallel(n_jobs=6)]: Done 539044 tasks      | elapsed: 60.7min\n",
      "[Parallel(n_jobs=6)]: Done 570226 tasks      | elapsed: 63.9min\n",
      "[Parallel(n_jobs=6)]: Done 603540 tasks      | elapsed: 67.3min\n",
      "[Parallel(n_jobs=6)]: Done 627200 out of 627200 | elapsed: 69.6min finished\n"
     ]
    },
    {
     "name": "stdout",
     "output_type": "stream",
     "text": [
      "\n",
      "Best score for Ridge Regression with _equal_crime_and_business dataset: 0.7289130267113955\n",
      "\n",
      "Best hyperparameters for Ridge Regression with _equal_crime_and_business dataset:\n",
      "memory : None\n",
      "steps : [('clf', Ridge(alpha=3.3, random_state=7, solver='saga', tol=0.05))]\n",
      "verbose : False\n",
      "clf : Ridge(alpha=3.3, random_state=7, solver='saga', tol=0.05)\n",
      "clf__alpha : 3.3\n",
      "clf__copy_X : True\n",
      "clf__fit_intercept : True\n",
      "clf__max_iter : None\n",
      "clf__normalize : False\n",
      "clf__random_state : 7\n",
      "clf__solver : saga\n",
      "clf__tol : 0.05\n",
      "\n",
      "Prediction scores for Ridge Regression using _equal_crime_and_business :\n",
      "Mean Squared error: 5.127876935536402\n",
      "Mean Absolute error: 1.4164317050439221\n",
      "R^2: 0.7369273306962917\n"
     ]
    }
   ],
   "source": [
    "equal_model, equal_train_score, equal_mse, equal_mae, equal_r2 = get_best_model_revised(sel_methods[3], args, num_folds, is_sample)"
   ]
  },
  {
   "cell_type": "code",
   "execution_count": 32,
   "metadata": {},
   "outputs": [],
   "source": [
    "is_sample = False\n",
    "num_folds = 10\n",
    "args = {'clf__alpha':(arange(3.25,3.35,0.01)),\n",
    "        'clf__copy_X':(True,False),\n",
    "        'clf__fit_intercept':(True,False),\n",
    "        'clf__normalize':(True,False),\n",
    "        'clf__solver':('auto', 'svd', 'cholesky', 'lsqr', 'sparse_cg', 'sag', 'saga'),\n",
    "        'clf__random_state':([7]),\n",
    "        'clf__tol':(0.01, 0.02,0.03,0.04,0.05,0.06,0.07,0.08,0.09,0.1)}"
   ]
  },
  {
   "cell_type": "code",
   "execution_count": 33,
   "metadata": {},
   "outputs": [
    {
     "name": "stdout",
     "output_type": "stream",
     "text": [
      "\n",
      "\n",
      "Running cross fold validation for Ridge Regression with _equal_crime_and_business dataset\n",
      "Fitting 10 folds for each of 6160 candidates, totalling 61600 fits\n"
     ]
    },
    {
     "name": "stderr",
     "output_type": "stream",
     "text": [
      "[Parallel(n_jobs=6)]: Using backend LokyBackend with 6 concurrent workers.\n",
      "[Parallel(n_jobs=6)]: Done  40 tasks      | elapsed:    1.3s\n",
      "[Parallel(n_jobs=6)]: Done 1132 tasks      | elapsed:    7.3s\n",
      "[Parallel(n_jobs=6)]: Done 3132 tasks      | elapsed:   20.9s\n",
      "[Parallel(n_jobs=6)]: Done 5932 tasks      | elapsed:   36.7s\n",
      "[Parallel(n_jobs=6)]: Done 9532 tasks      | elapsed:   57.6s\n",
      "[Parallel(n_jobs=6)]: Done 13932 tasks      | elapsed:  1.4min\n",
      "[Parallel(n_jobs=6)]: Done 19132 tasks      | elapsed:  1.9min\n",
      "[Parallel(n_jobs=6)]: Done 25132 tasks      | elapsed:  2.5min\n",
      "[Parallel(n_jobs=6)]: Done 31932 tasks      | elapsed:  3.1min\n",
      "[Parallel(n_jobs=6)]: Done 39532 tasks      | elapsed:  3.9min\n",
      "[Parallel(n_jobs=6)]: Done 47932 tasks      | elapsed:  4.7min\n",
      "[Parallel(n_jobs=6)]: Done 57132 tasks      | elapsed:  5.5min\n",
      "[Parallel(n_jobs=6)]: Done 61589 out of 61600 | elapsed:  6.0min remaining:    0.0s\n",
      "[Parallel(n_jobs=6)]: Done 61600 out of 61600 | elapsed:  6.0min finished\n"
     ]
    },
    {
     "name": "stdout",
     "output_type": "stream",
     "text": [
      "\n",
      "Best score for Ridge Regression with _equal_crime_and_business dataset: 0.7289130267113955\n",
      "\n",
      "Best hyperparameters for Ridge Regression with _equal_crime_and_business dataset:\n",
      "memory : None\n",
      "steps : [('clf', Ridge(alpha=3.299999999999999, random_state=7, solver='saga', tol=0.05))]\n",
      "verbose : False\n",
      "clf : Ridge(alpha=3.299999999999999, random_state=7, solver='saga', tol=0.05)\n",
      "clf__alpha : 3.299999999999999\n",
      "clf__copy_X : True\n",
      "clf__fit_intercept : True\n",
      "clf__max_iter : None\n",
      "clf__normalize : False\n",
      "clf__random_state : 7\n",
      "clf__solver : saga\n",
      "clf__tol : 0.05\n",
      "\n",
      "Prediction scores for Ridge Regression using _equal_crime_and_business :\n",
      "Mean Squared error: 5.127876935536402\n",
      "Mean Absolute error: 1.4164317050439221\n",
      "R^2: 0.7369273306962917\n"
     ]
    }
   ],
   "source": [
    "equal_model, equal_train_score, equal_mse, equal_mae, equal_r2 = get_best_model_revised(sel_methods[3], args, num_folds, is_sample)"
   ]
  },
  {
   "cell_type": "code",
   "execution_count": 36,
   "metadata": {},
   "outputs": [],
   "source": [
    "# Hyperparameters stable, model pickled\n",
    "save_model(equal_model,sel_methods[3])"
   ]
  },
  {
   "cell_type": "markdown",
   "metadata": {},
   "source": [
    "<h3>Business only feature selected dataset<h3>"
   ]
  },
  {
   "cell_type": "code",
   "execution_count": 18,
   "metadata": {},
   "outputs": [],
   "source": [
    "is_sample = False\n",
    "num_folds = 10\n",
    "args = {'clf__alpha':(0.1,0.2,0.3,0.4,0.5,0.6,0.7,0.8,0.9,1,1.1,1.2,1.3,1.4,1.5,1.6,1.7,1.8,1.9,2,\n",
    "                     2.1,2.2,2.3,2.4,2.5,2.6,2.7,2.8,2.9,3,3.1,3.2,3.3,3.4,3.5,3.6,3.7,3.8,3.9,4),\n",
    "        'clf__copy_X':(True,False),\n",
    "        'clf__fit_intercept':(True,False),\n",
    "        'clf__normalize':(True,False),\n",
    "        'clf__solver':('auto', 'svd', 'cholesky', 'lsqr', 'sparse_cg', 'sag', 'saga'),\n",
    "        'clf__random_state':([7]),\n",
    "        'clf__tol':(0.001, 0.002,0.003,0.004,0.005,0.006,0.007,0.008,0.009,0.01, 0.02,0.03,0.04,0.05,0.06,\n",
    "                    0.07,0.08,0.09,0.1,0.2,0.3,0.4,0.5,0.6,0.7,0.8,0.9,1)}"
   ]
  },
  {
   "cell_type": "code",
   "execution_count": 19,
   "metadata": {},
   "outputs": [
    {
     "name": "stdout",
     "output_type": "stream",
     "text": [
      "\n",
      "\n",
      "Running cross fold validation for Ridge Regression with _all_business dataset\n",
      "Fitting 10 folds for each of 62720 candidates, totalling 627200 fits\n"
     ]
    },
    {
     "name": "stderr",
     "output_type": "stream",
     "text": [
      "[Parallel(n_jobs=6)]: Using backend LokyBackend with 6 concurrent workers.\n",
      "[Parallel(n_jobs=6)]: Done 100 tasks      | elapsed:    0.4s\n",
      "[Parallel(n_jobs=6)]: Done 1300 tasks      | elapsed:    6.1s\n",
      "[Parallel(n_jobs=6)]: Done 2928 tasks      | elapsed:   19.2s\n",
      "[Parallel(n_jobs=6)]: Done 5192 tasks      | elapsed:   40.3s\n",
      "[Parallel(n_jobs=6)]: Done 7682 tasks      | elapsed:  1.2min\n",
      "[Parallel(n_jobs=6)]: Done 11226 tasks      | elapsed:  1.6min\n",
      "[Parallel(n_jobs=6)]: Done 15530 tasks      | elapsed:  2.5min\n",
      "[Parallel(n_jobs=6)]: Done 19534 tasks      | elapsed:  3.1min\n",
      "[Parallel(n_jobs=6)]: Done 26826 tasks      | elapsed:  4.0min\n",
      "[Parallel(n_jobs=6)]: Done 33280 tasks      | elapsed:  5.1min\n",
      "[Parallel(n_jobs=6)]: Done 40882 tasks      | elapsed:  6.3min\n",
      "[Parallel(n_jobs=6)]: Done 49140 tasks      | elapsed:  7.5min\n",
      "[Parallel(n_jobs=6)]: Done 56836 tasks      | elapsed:  8.6min\n",
      "[Parallel(n_jobs=6)]: Done 66232 tasks      | elapsed:  9.9min\n",
      "[Parallel(n_jobs=6)]: Done 76476 tasks      | elapsed: 11.5min\n",
      "[Parallel(n_jobs=6)]: Done 87934 tasks      | elapsed: 13.1min\n",
      "[Parallel(n_jobs=6)]: Done 99628 tasks      | elapsed: 14.7min\n",
      "[Parallel(n_jobs=6)]: Done 113058 tasks      | elapsed: 16.5min\n",
      "[Parallel(n_jobs=6)]: Done 126898 tasks      | elapsed: 18.5min\n",
      "[Parallel(n_jobs=6)]: Done 141406 tasks      | elapsed: 20.5min\n",
      "[Parallel(n_jobs=6)]: Done 156744 tasks      | elapsed: 22.6min\n",
      "[Parallel(n_jobs=6)]: Done 172414 tasks      | elapsed: 24.7min\n",
      "[Parallel(n_jobs=6)]: Done 189940 tasks      | elapsed: 27.0min\n",
      "[Parallel(n_jobs=6)]: Done 207810 tasks      | elapsed: 29.3min\n",
      "[Parallel(n_jobs=6)]: Done 227290 tasks      | elapsed: 31.8min\n",
      "[Parallel(n_jobs=6)]: Done 246862 tasks      | elapsed: 34.3min\n",
      "[Parallel(n_jobs=6)]: Done 268346 tasks      | elapsed: 36.9min\n",
      "[Parallel(n_jobs=6)]: Done 289936 tasks      | elapsed: 39.6min\n",
      "[Parallel(n_jobs=6)]: Done 312704 tasks      | elapsed: 42.3min\n",
      "[Parallel(n_jobs=6)]: Done 334434 tasks      | elapsed: 45.0min\n",
      "[Parallel(n_jobs=6)]: Done 358594 tasks      | elapsed: 47.9min\n",
      "[Parallel(n_jobs=6)]: Done 383186 tasks      | elapsed: 50.8min\n",
      "[Parallel(n_jobs=6)]: Done 409740 tasks      | elapsed: 53.8min\n",
      "[Parallel(n_jobs=6)]: Done 435188 tasks      | elapsed: 56.8min\n",
      "[Parallel(n_jobs=6)]: Done 463436 tasks      | elapsed: 60.0min\n",
      "[Parallel(n_jobs=6)]: Done 491820 tasks      | elapsed: 63.2min\n",
      "[Parallel(n_jobs=6)]: Done 521048 tasks      | elapsed: 66.4min\n",
      "[Parallel(n_jobs=6)]: Done 549304 tasks      | elapsed: 69.5min\n",
      "[Parallel(n_jobs=6)]: Done 580302 tasks      | elapsed: 72.9min\n",
      "[Parallel(n_jobs=6)]: Done 612058 tasks      | elapsed: 76.4min\n",
      "[Parallel(n_jobs=6)]: Done 627189 out of 627200 | elapsed: 78.0min remaining:    0.0s\n",
      "[Parallel(n_jobs=6)]: Done 627200 out of 627200 | elapsed: 78.0min finished\n"
     ]
    },
    {
     "name": "stdout",
     "output_type": "stream",
     "text": [
      "\n",
      "Best score for Ridge Regression with _all_business dataset: 0.45213725011471845\n",
      "\n",
      "Best hyperparameters for Ridge Regression with _all_business dataset:\n",
      "memory : None\n",
      "steps : [('clf', Ridge(alpha=0.9, random_state=7, solver='sag', tol=0.05))]\n",
      "verbose : False\n",
      "clf : Ridge(alpha=0.9, random_state=7, solver='sag', tol=0.05)\n",
      "clf__alpha : 0.9\n",
      "clf__copy_X : True\n",
      "clf__fit_intercept : True\n",
      "clf__max_iter : None\n",
      "clf__normalize : False\n",
      "clf__random_state : 7\n",
      "clf__solver : sag\n",
      "clf__tol : 0.05\n",
      "\n",
      "Prediction scores for Ridge Regression using _all_business :\n",
      "Mean Squared error: 10.564771118612764\n",
      "Mean Absolute error: 1.8413850963687415\n",
      "R^2: 0.45800131834375724\n"
     ]
    }
   ],
   "source": [
    "bus_model, bus_train_score, bus_mse, bus_mae, bus_r2 = get_best_model(sel_methods[4], args, num_folds, is_sample)"
   ]
  },
  {
   "cell_type": "code",
   "execution_count": 20,
   "metadata": {},
   "outputs": [],
   "source": [
    "# Parameters in expected range, alpha and tol tuned to two decimal places\n",
    "is_sample = False\n",
    "num_folds = 10\n",
    "args = {'clf__alpha':(0.81,0.82,0.83,0.84,0.85,0.86,0.87,0.88,0.89,0.9,0.91,0.92,0.93,0.94,0.95,0.96,0.97,0.98,0.99),\n",
    "        'clf__copy_X':(True,False),\n",
    "        'clf__fit_intercept':(True,False),\n",
    "        'clf__normalize':(True,False),\n",
    "        'clf__solver':('auto', 'svd', 'cholesky', 'lsqr', 'sparse_cg', 'sag', 'saga'),\n",
    "        'clf__random_state':([7]),\n",
    "        'clf__tol':(0.01, 0.02,0.03,0.04,0.05,0.06,0.07,0.08,0.09,0.1)}"
   ]
  },
  {
   "cell_type": "code",
   "execution_count": 21,
   "metadata": {
    "scrolled": false
   },
   "outputs": [
    {
     "name": "stdout",
     "output_type": "stream",
     "text": [
      "\n",
      "\n",
      "Running cross fold validation for Ridge Regression with _all_business dataset\n",
      "Fitting 10 folds for each of 10640 candidates, totalling 106400 fits\n"
     ]
    },
    {
     "name": "stderr",
     "output_type": "stream",
     "text": [
      "[Parallel(n_jobs=6)]: Using backend LokyBackend with 6 concurrent workers.\n",
      "[Parallel(n_jobs=6)]: Done 100 tasks      | elapsed:    0.4s\n",
      "[Parallel(n_jobs=6)]: Done 1300 tasks      | elapsed:    8.4s\n",
      "[Parallel(n_jobs=6)]: Done 2962 tasks      | elapsed:   22.9s\n",
      "[Parallel(n_jobs=6)]: Done 5670 tasks      | elapsed:   43.6s\n",
      "[Parallel(n_jobs=6)]: Done 8454 tasks      | elapsed:  1.1min\n",
      "[Parallel(n_jobs=6)]: Done 12108 tasks      | elapsed:  1.6min\n",
      "[Parallel(n_jobs=6)]: Done 16248 tasks      | elapsed:  2.2min\n",
      "[Parallel(n_jobs=6)]: Done 20986 tasks      | elapsed:  2.8min\n",
      "[Parallel(n_jobs=6)]: Done 25758 tasks      | elapsed:  3.5min\n",
      "[Parallel(n_jobs=6)]: Done 32410 tasks      | elapsed:  4.4min\n",
      "[Parallel(n_jobs=6)]: Done 38768 tasks      | elapsed:  5.2min\n",
      "[Parallel(n_jobs=6)]: Done 47124 tasks      | elapsed:  6.3min\n",
      "[Parallel(n_jobs=6)]: Done 55064 tasks      | elapsed:  7.4min\n",
      "[Parallel(n_jobs=6)]: Done 63550 tasks      | elapsed:  8.6min\n",
      "[Parallel(n_jobs=6)]: Done 73380 tasks      | elapsed:  9.9min\n",
      "[Parallel(n_jobs=6)]: Done 85408 tasks      | elapsed: 11.4min\n",
      "[Parallel(n_jobs=6)]: Done 98260 tasks      | elapsed: 12.9min\n",
      "[Parallel(n_jobs=6)]: Done 106400 out of 106400 | elapsed: 13.9min finished\n"
     ]
    },
    {
     "name": "stdout",
     "output_type": "stream",
     "text": [
      "\n",
      "Best score for Ridge Regression with _all_business dataset: 0.4521378739224602\n",
      "\n",
      "Best hyperparameters for Ridge Regression with _all_business dataset:\n",
      "memory : None\n",
      "steps : [('clf', Ridge(alpha=0.93, random_state=7, solver='sag', tol=0.05))]\n",
      "verbose : False\n",
      "clf : Ridge(alpha=0.93, random_state=7, solver='sag', tol=0.05)\n",
      "clf__alpha : 0.93\n",
      "clf__copy_X : True\n",
      "clf__fit_intercept : True\n",
      "clf__max_iter : None\n",
      "clf__normalize : False\n",
      "clf__random_state : 7\n",
      "clf__solver : sag\n",
      "clf__tol : 0.05\n",
      "\n",
      "Prediction scores for Ridge Regression using _all_business :\n",
      "Mean Squared error: 10.56383375357707\n",
      "Mean Absolute error: 1.8414427038799475\n",
      "R^2: 0.45804940747014466\n"
     ]
    }
   ],
   "source": [
    "bus_model, bus_train_score, bus_mse, bus_mae, bus_r2 = get_best_model(sel_methods[4], args, num_folds, is_sample)"
   ]
  },
  {
   "cell_type": "markdown",
   "metadata": {},
   "source": [
    "<h3> Retrain on revised dataset <h3>"
   ]
  },
  {
   "cell_type": "code",
   "execution_count": 27,
   "metadata": {},
   "outputs": [],
   "source": [
    "is_sample = False\n",
    "num_folds = 10\n",
    "args = {'clf__alpha':(0.1,0.2,0.3,0.4,0.5,0.6,0.7,0.8,0.9,1,1.1,1.2,1.3,1.4,1.5,1.6,1.7,1.8,1.9,2,\n",
    "                     2.1,2.2,2.3,2.4,2.5,2.6,2.7,2.8,2.9,3,3.1,3.2,3.3,3.4,3.5,3.6,3.7,3.8,3.9,4),\n",
    "        'clf__copy_X':(True,False),\n",
    "        'clf__fit_intercept':(True,False),\n",
    "        'clf__normalize':(True,False),\n",
    "        'clf__solver':('auto', 'svd', 'cholesky', 'lsqr', 'sparse_cg', 'sag', 'saga'),\n",
    "        'clf__random_state':([7]),\n",
    "        'clf__tol':(0.001, 0.002,0.003,0.004,0.005,0.006,0.007,0.008,0.009,0.01, 0.02,0.03,0.04,0.05,0.06,\n",
    "                    0.07,0.08,0.09,0.1,0.2,0.3,0.4,0.5,0.6,0.7,0.8,0.9,1)}"
   ]
  },
  {
   "cell_type": "code",
   "execution_count": 28,
   "metadata": {},
   "outputs": [
    {
     "name": "stdout",
     "output_type": "stream",
     "text": [
      "\n",
      "\n",
      "Running cross fold validation for Ridge Regression with _all_business dataset\n",
      "Fitting 10 folds for each of 62720 candidates, totalling 627200 fits\n"
     ]
    },
    {
     "name": "stderr",
     "output_type": "stream",
     "text": [
      "[Parallel(n_jobs=6)]: Using backend LokyBackend with 6 concurrent workers.\n",
      "[Parallel(n_jobs=6)]: Done 100 tasks      | elapsed:    0.3s\n",
      "[Parallel(n_jobs=6)]: Done 1790 tasks      | elapsed:   13.2s\n",
      "[Parallel(n_jobs=6)]: Done 3766 tasks      | elapsed:   33.6s\n",
      "[Parallel(n_jobs=6)]: Done 6188 tasks      | elapsed:   57.0s\n",
      "[Parallel(n_jobs=6)]: Done 9758 tasks      | elapsed:  1.5min\n",
      "[Parallel(n_jobs=6)]: Done 13551 tasks      | elapsed:  2.1min\n",
      "[Parallel(n_jobs=6)]: Done 18130 tasks      | elapsed:  2.8min\n",
      "[Parallel(n_jobs=6)]: Done 23292 tasks      | elapsed:  3.7min\n",
      "[Parallel(n_jobs=6)]: Done 29652 tasks      | elapsed:  4.6min\n",
      "[Parallel(n_jobs=6)]: Done 36074 tasks      | elapsed:  5.5min\n",
      "[Parallel(n_jobs=6)]: Done 44000 tasks      | elapsed:  6.7min\n",
      "[Parallel(n_jobs=6)]: Done 51108 tasks      | elapsed:  7.8min\n",
      "[Parallel(n_jobs=6)]: Done 59768 tasks      | elapsed:  8.9min\n",
      "[Parallel(n_jobs=6)]: Done 70576 tasks      | elapsed: 10.6min\n",
      "[Parallel(n_jobs=6)]: Done 81904 tasks      | elapsed: 12.0min\n",
      "[Parallel(n_jobs=6)]: Done 92260 tasks      | elapsed: 13.5min\n",
      "[Parallel(n_jobs=6)]: Done 105050 tasks      | elapsed: 15.1min\n",
      "[Parallel(n_jobs=6)]: Done 117576 tasks      | elapsed: 16.9min\n",
      "[Parallel(n_jobs=6)]: Done 132680 tasks      | elapsed: 18.8min\n",
      "[Parallel(n_jobs=6)]: Done 148838 tasks      | elapsed: 21.0min\n",
      "[Parallel(n_jobs=6)]: Done 165048 tasks      | elapsed: 23.0min\n",
      "[Parallel(n_jobs=6)]: Done 182534 tasks      | elapsed: 25.1min\n",
      "[Parallel(n_jobs=6)]: Done 199834 tasks      | elapsed: 27.3min\n",
      "[Parallel(n_jobs=6)]: Done 219435 tasks      | elapsed: 29.6min\n",
      "[Parallel(n_jobs=6)]: Done 238722 tasks      | elapsed: 31.9min\n",
      "[Parallel(n_jobs=6)]: Done 258674 tasks      | elapsed: 34.3min\n",
      "[Parallel(n_jobs=6)]: Done 280344 tasks      | elapsed: 36.8min\n",
      "[Parallel(n_jobs=6)]: Done 301990 tasks      | elapsed: 39.3min\n",
      "[Parallel(n_jobs=6)]: Done 325030 tasks      | elapsed: 41.9min\n",
      "[Parallel(n_jobs=6)]: Done 350560 tasks      | elapsed: 44.8min\n",
      "[Parallel(n_jobs=6)]: Done 376348 tasks      | elapsed: 47.7min\n",
      "[Parallel(n_jobs=6)]: Done 401900 tasks      | elapsed: 50.5min\n",
      "[Parallel(n_jobs=6)]: Done 427314 tasks      | elapsed: 53.2min\n",
      "[Parallel(n_jobs=6)]: Done 456256 tasks      | elapsed: 56.3min\n",
      "[Parallel(n_jobs=6)]: Done 483620 tasks      | elapsed: 59.2min\n",
      "[Parallel(n_jobs=6)]: Done 512136 tasks      | elapsed: 62.2min\n",
      "[Parallel(n_jobs=6)]: Done 539018 tasks      | elapsed: 65.1min\n",
      "[Parallel(n_jobs=6)]: Done 570460 tasks      | elapsed: 68.3min\n",
      "[Parallel(n_jobs=6)]: Done 602574 tasks      | elapsed: 71.6min\n",
      "[Parallel(n_jobs=6)]: Done 627200 out of 627200 | elapsed: 74.1min finished\n"
     ]
    },
    {
     "name": "stdout",
     "output_type": "stream",
     "text": [
      "\n",
      "Best score for Ridge Regression with _all_business dataset: 0.45105517806450013\n",
      "\n",
      "Best hyperparameters for Ridge Regression with _all_business dataset:\n",
      "memory : None\n",
      "steps : [('clf', Ridge(alpha=1.2, random_state=7, solver='sag', tol=0.1))]\n",
      "verbose : False\n",
      "clf : Ridge(alpha=1.2, random_state=7, solver='sag', tol=0.1)\n",
      "clf__alpha : 1.2\n",
      "clf__copy_X : True\n",
      "clf__fit_intercept : True\n",
      "clf__max_iter : None\n",
      "clf__normalize : False\n",
      "clf__random_state : 7\n",
      "clf__solver : sag\n",
      "clf__tol : 0.1\n",
      "\n",
      "Prediction scores for Ridge Regression using _all_business :\n",
      "Mean Squared error: 10.59780585953644\n",
      "Mean Absolute error: 1.861412677127212\n",
      "R^2: 0.4563065550754888\n"
     ]
    }
   ],
   "source": [
    "bus_model, bus_train_score, bus_mse, bus_mae, bus_r2 = get_best_model_revised(sel_methods[4], args, num_folds, is_sample)"
   ]
  },
  {
   "cell_type": "code",
   "execution_count": 34,
   "metadata": {},
   "outputs": [],
   "source": [
    "is_sample = False\n",
    "num_folds = 10\n",
    "args = {'clf__alpha':(arange(1.15,1.25,0.01)),\n",
    "        'clf__copy_X':(True,False),\n",
    "        'clf__fit_intercept':(True,False),\n",
    "        'clf__normalize':(True,False),\n",
    "        'clf__solver':('auto', 'svd', 'cholesky', 'lsqr', 'sparse_cg', 'sag', 'saga'),\n",
    "        'clf__random_state':([7]),\n",
    "        'clf__tol':(0.005,0.006,0.007,0.008,0.009,0.01,0.011,0.012,0.013,0.014,0.015)}"
   ]
  },
  {
   "cell_type": "code",
   "execution_count": 35,
   "metadata": {},
   "outputs": [
    {
     "name": "stdout",
     "output_type": "stream",
     "text": [
      "\n",
      "\n",
      "Running cross fold validation for Ridge Regression with _all_business dataset\n",
      "Fitting 10 folds for each of 6776 candidates, totalling 67760 fits\n"
     ]
    },
    {
     "name": "stderr",
     "output_type": "stream",
     "text": [
      "[Parallel(n_jobs=6)]: Using backend LokyBackend with 6 concurrent workers.\n",
      "[Parallel(n_jobs=6)]: Done 100 tasks      | elapsed:    0.4s\n",
      "[Parallel(n_jobs=6)]: Done 1300 tasks      | elapsed:    7.8s\n",
      "[Parallel(n_jobs=6)]: Done 3002 tasks      | elapsed:   29.6s\n",
      "[Parallel(n_jobs=6)]: Done 5348 tasks      | elapsed:   51.9s\n",
      "[Parallel(n_jobs=6)]: Done 7808 tasks      | elapsed:  1.3min\n",
      "[Parallel(n_jobs=6)]: Done 11448 tasks      | elapsed:  1.9min\n",
      "[Parallel(n_jobs=6)]: Done 15498 tasks      | elapsed:  2.6min\n",
      "[Parallel(n_jobs=6)]: Done 20330 tasks      | elapsed:  3.3min\n",
      "[Parallel(n_jobs=6)]: Done 25890 tasks      | elapsed:  4.2min\n",
      "[Parallel(n_jobs=6)]: Done 32354 tasks      | elapsed:  5.3min\n",
      "[Parallel(n_jobs=6)]: Done 39104 tasks      | elapsed:  6.4min\n",
      "[Parallel(n_jobs=6)]: Done 47134 tasks      | elapsed:  7.7min\n",
      "[Parallel(n_jobs=6)]: Done 55530 tasks      | elapsed:  9.2min\n",
      "[Parallel(n_jobs=6)]: Done 64562 tasks      | elapsed: 10.6min\n",
      "[Parallel(n_jobs=6)]: Done 67760 out of 67760 | elapsed: 11.2min finished\n"
     ]
    },
    {
     "name": "stdout",
     "output_type": "stream",
     "text": [
      "\n",
      "Best score for Ridge Regression with _all_business dataset: 0.45097682853769294\n",
      "\n",
      "Best hyperparameters for Ridge Regression with _all_business dataset:\n",
      "memory : None\n",
      "steps : [('clf', Ridge(alpha=1.23, random_state=7, solver='sag', tol=0.01))]\n",
      "verbose : False\n",
      "clf : Ridge(alpha=1.23, random_state=7, solver='sag', tol=0.01)\n",
      "clf__alpha : 1.23\n",
      "clf__copy_X : True\n",
      "clf__fit_intercept : True\n",
      "clf__max_iter : None\n",
      "clf__normalize : False\n",
      "clf__random_state : 7\n",
      "clf__solver : sag\n",
      "clf__tol : 0.01\n",
      "\n",
      "Prediction scores for Ridge Regression using _all_business :\n",
      "Mean Squared error: 10.597233361145701\n",
      "Mean Absolute error: 1.8533565686503803\n",
      "R^2: 0.45633592564769976\n"
     ]
    }
   ],
   "source": [
    "bus_model, bus_train_score, bus_mse, bus_mae, bus_r2 = get_best_model_revised(sel_methods[4], args, num_folds, is_sample)"
   ]
  },
  {
   "cell_type": "code",
   "execution_count": 37,
   "metadata": {},
   "outputs": [],
   "source": [
    "# Hyperparameters stable, model pickled\n",
    "save_model(bus_model,sel_methods[4])"
   ]
  },
  {
   "cell_type": "markdown",
   "metadata": {},
   "source": [
    "<h3>Visualise scores<h3>"
   ]
  },
  {
   "cell_type": "code",
   "execution_count": 38,
   "metadata": {},
   "outputs": [],
   "source": [
    "training_scores = [f_reg_train_score, chi2_train_score, ada_train_score, equal_train_score, bus_train_score]\n",
    "mse_scores = [f_reg_mse, chi2_mse, ada_mse, equal_mse, bus_mse]\n",
    "mae_scores = [f_reg_mae, chi2_mae, ada_mae, equal_mae, bus_mae]\n",
    "r2_scores = [f_reg_r2, chi2_r2, ada_r2, equal_r2, bus_r2]\n",
    "datasets = [\"F-Regression\",\"Chi-Squared\",\"AdaBoost\",\"Equal Business\\nand Crime\",\"All Business\"]\n",
    "y_select = np.arange(len(datasets))"
   ]
  },
  {
   "cell_type": "code",
   "execution_count": 39,
   "metadata": {
    "scrolled": false
   },
   "outputs": [
    {
     "data": {
      "text/plain": [
       "<BarContainer object of 5 artists>"
      ]
     },
     "execution_count": 39,
     "metadata": {},
     "output_type": "execute_result"
    },
    {
     "data": {
      "image/png": "[encoded data removed]",
      "text/plain": [
       "<Figure size 720x720 with 1 Axes>"
      ]
     },
     "metadata": {
      "needs_background": "light"
     },
     "output_type": "display_data"
    }
   ],
   "source": [
    "plt.figure(figsize = (10,10))\n",
    "plt.xticks(y_select,datasets)\n",
    "plt.title(\"Ridge Regression training score\")\n",
    "plt.xlabel(\"Dataset\")\n",
    "plt.ylabel(\"Training score (r-squared)\")\n",
    "plt.bar(y_select, training_scores)"
   ]
  },
  {
   "cell_type": "code",
   "execution_count": 40,
   "metadata": {},
   "outputs": [
    {
     "data": {
      "text/plain": [
       "<BarContainer object of 5 artists>"
      ]
     },
     "execution_count": 40,
     "metadata": {},
     "output_type": "execute_result"
    },
    {
     "data": {
      "image/png": "[encoded data removed]",
      "text/plain": [
       "<Figure size 720x720 with 1 Axes>"
      ]
     },
     "metadata": {
      "needs_background": "light"
     },
     "output_type": "display_data"
    }
   ],
   "source": [
    "plt.figure(figsize = (10,10))\n",
    "plt.xticks(y_select,datasets)\n",
    "plt.title(\"Ridge Regression testing mean-squared error\")\n",
    "plt.xlabel(\"Dataset\")\n",
    "plt.ylabel(\"Mean-squared error\")\n",
    "plt.bar(y_select, mse_scores)"
   ]
  },
  {
   "cell_type": "code",
   "execution_count": 41,
   "metadata": {},
   "outputs": [
    {
     "data": {
      "text/plain": [
       "<BarContainer object of 5 artists>"
      ]
     },
     "execution_count": 41,
     "metadata": {},
     "output_type": "execute_result"
    },
    {
     "data": {
      "image/png": "[encoded data removed]",
      "text/plain": [
       "<Figure size 720x720 with 1 Axes>"
      ]
     },
     "metadata": {
      "needs_background": "light"
     },
     "output_type": "display_data"
    }
   ],
   "source": [
    "plt.figure(figsize = (10,10))\n",
    "plt.xticks(y_select,datasets)\n",
    "plt.title(\"Ridge Regression testing mean-absolute error\")\n",
    "plt.xlabel(\"Dataset\")\n",
    "plt.ylabel(\"Mean absolute error\")\n",
    "plt.bar(y_select, mae_scores)"
   ]
  },
  {
   "cell_type": "code",
   "execution_count": 42,
   "metadata": {},
   "outputs": [
    {
     "data": {
      "text/plain": [
       "<BarContainer object of 5 artists>"
      ]
     },
     "execution_count": 42,
     "metadata": {},
     "output_type": "execute_result"
    },
    {
     "data": {
      "image/png": "[encoded data removed]",
      "text/plain": [
       "<Figure size 720x720 with 1 Axes>"
      ]
     },
     "metadata": {
      "needs_background": "light"
     },
     "output_type": "display_data"
    }
   ],
   "source": [
    "plt.figure(figsize = (10,10))\n",
    "plt.xticks(y_select,datasets)\n",
    "plt.title(\"Ridge Regression testing r-squared scores\")\n",
    "plt.xlabel(\"Dataset\")\n",
    "plt.ylabel(\"R-Squared Score\")\n",
    "plt.bar(y_select, r2_scores)"
   ]
  },
  {
   "cell_type": "code",
   "execution_count": null,
   "metadata": {},
   "outputs": [],
   "source": [
    "# f-regression performing best in both train and test"
   ]
  }
 ],
 "metadata": {
  "kernelspec": {
   "display_name": "Python 3",
   "language": "python",
   "name": "python3"
  },
  "language_info": {
   "codemirror_mode": {
    "name": "ipython",
    "version": 3
   },
   "file_extension": ".py",
   "mimetype": "text/x-python",
   "name": "python",
   "nbconvert_exporter": "python",
   "pygments_lexer": "ipython3",
   "version": "3.9.0"
  }
 },
 "nbformat": 4,
 "nbformat_minor": 4
}
