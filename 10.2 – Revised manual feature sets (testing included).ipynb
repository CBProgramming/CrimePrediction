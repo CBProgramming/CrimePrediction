{
 "cells": [
  {
   "cell_type": "code",
   "execution_count": 1,
   "metadata": {},
   "outputs": [],
   "source": [
    "import pandas as pd\n",
    "import numpy as np\n",
    "import matplotlib.pyplot as plt\n",
    "from sklearn.feature_selection import SelectKBest, f_regression, chi2, mutual_info_regression, RFECV\n",
    "from sklearn.tree import DecisionTreeRegressor\n",
    "from sklearn.ensemble import RandomForestRegressor, AdaBoostRegressor, ExtraTreesRegressor"
   ]
  },
  {
   "cell_type": "code",
   "execution_count": 2,
   "metadata": {},
   "outputs": [],
   "source": [
    "x_train = pd.read_csv('x_train_revised.csv')\n",
    "y_train = pd.read_csv('y_train_revised.csv')\n",
    "x_test = pd.read_csv('x_test_revised.csv')\n",
    "x_sample = pd.read_csv('x_train_sample_revised.csv')"
   ]
  },
  {
   "cell_type": "code",
   "execution_count": 3,
   "metadata": {},
   "outputs": [],
   "source": [
    "y_train_array = y_train.astype(float).to_numpy()\n",
    "y_train_array_flat = []\n",
    "for sublist in y_train_array:\n",
    "    for crime_rate in sublist:\n",
    "        y_train_array_flat.append(crime_rate)"
   ]
  },
  {
   "cell_type": "code",
   "execution_count": 4,
   "metadata": {},
   "outputs": [],
   "source": [
    "top_5_business_features = ['Number of businesses', 'Last 28 days closures', 'Last 7 days openings',\n",
    "                          'Last 14 days closures', 'Last 7 days closures']\n",
    "top_5_crime_features = ['Reports 1 day ago', 'Reports 2 days ago', 'Reports 4 days ago', \n",
    "                        'Reports 30 days ago', 'Reports 7 days ago']\n",
    "top_10 = np.concatenate((top_5_business_features,top_5_crime_features))\n",
    "x_train_selected = x_train[top_10]\n",
    "x_train_selected.to_csv('x_train_equal_crime_and_business_revised.csv', index = False)\n",
    "x_test_selected = x_test[top_10]\n",
    "x_test_selected.to_csv('x_test_equal_crime_and_business_revised.csv', index = False)\n",
    "x_sample_selected = x_sample[top_10]\n",
    "x_sample_selected.to_csv('x_train_equal_crime_and_business_sample_revised.csv', index = False)"
   ]
  },
  {
   "cell_type": "code",
   "execution_count": 5,
   "metadata": {},
   "outputs": [],
   "source": [
    "additional_5_business_features = ['Number of openings','Openings 4 days ago','Openings 1 day ago', \n",
    "                                  'Openings 7 days ago', 'Openings 2 days ago']\n",
    "top_10 = np.concatenate((top_5_business_features,additional_5_business_features))\n",
    "x_train_selected = x_train[top_10]\n",
    "x_train_selected.to_csv('x_train_all_business_revised.csv', index = False)\n",
    "x_test_selected = x_test[top_10]\n",
    "x_test_selected.to_csv('x_test_all_business_revised.csv', index = False)\n",
    "x_sample_selected = x_sample[top_10]\n",
    "x_sample_selected.to_csv('x_train_all_business_sample_revised.csv', index = False)"
   ]
  },
  {
   "cell_type": "markdown",
   "metadata": {},
   "source": [
    "<h3>  Testing starts here <h3>"
   ]
  },
  {
   "cell_type": "code",
   "execution_count": 6,
   "metadata": {},
   "outputs": [],
   "source": [
    "x_train = pd.read_csv('x_train_revised.csv')\n",
    "x_test = pd.read_csv('x_test_revised.csv')\n",
    "x_sample = pd.read_csv('x_train_sample_revised.csv')"
   ]
  },
  {
   "cell_type": "code",
   "execution_count": 7,
   "metadata": {},
   "outputs": [],
   "source": [
    "expected_train_length = len(x_train)\n",
    "expected_test_length = len(x_test)\n",
    "expected_sample_length = len(x_sample)"
   ]
  },
  {
   "cell_type": "code",
   "execution_count": 8,
   "metadata": {},
   "outputs": [],
   "source": [
    "expected_equal_features = ['Number of businesses', 'Last 28 days closures', 'Last 7 days openings',\n",
    "                           'Last 14 days closures', 'Last 7 days closures', 'Reports 1 day ago', 'Reports 2 days ago', \n",
    "                           'Reports 4 days ago', 'Reports 30 days ago', 'Reports 7 days ago']\n",
    "expected_business_features = ['Number of businesses', 'Last 28 days closures', 'Last 7 days openings',\n",
    "                              'Last 14 days closures', 'Last 7 days closures', 'Number of openings',\n",
    "                              'Openings 4 days ago','Openings 1 day ago', 'Openings 7 days ago', 'Openings 2 days ago']"
   ]
  },
  {
   "cell_type": "code",
   "execution_count": 9,
   "metadata": {},
   "outputs": [],
   "source": [
    "def test_file(filename, expected_length, expected_features):\n",
    "    df = pd.read_csv(filename)\n",
    "    original_columns = df.columns\n",
    "    assert len(df) == expected_length, \"Length of dataset is different to expected\"\n",
    "    assert len(original_columns) == len(expected_features), \"Length of features is different to expected\"\n",
    "    for col in original_columns:\n",
    "        assert col in expected_features, \"Features not as expected.\"\n",
    "    for col in expected_features:\n",
    "        assert col in original_columns, \"Features not as expected!\"\n",
    "    print(\"All tests completed successfully\")"
   ]
  },
  {
   "cell_type": "code",
   "execution_count": 10,
   "metadata": {},
   "outputs": [
    {
     "name": "stdout",
     "output_type": "stream",
     "text": [
      "All tests completed successfully\n"
     ]
    }
   ],
   "source": [
    "filename = 'x_train_equal_crime_and_business_revised.csv'\n",
    "test_file(filename, expected_train_length, expected_equal_features)"
   ]
  },
  {
   "cell_type": "code",
   "execution_count": 11,
   "metadata": {},
   "outputs": [
    {
     "name": "stdout",
     "output_type": "stream",
     "text": [
      "All tests completed successfully\n"
     ]
    }
   ],
   "source": [
    "filename = 'x_test_equal_crime_and_business_revised.csv'\n",
    "test_file(filename, expected_test_length, expected_equal_features)"
   ]
  },
  {
   "cell_type": "code",
   "execution_count": 12,
   "metadata": {},
   "outputs": [
    {
     "name": "stdout",
     "output_type": "stream",
     "text": [
      "All tests completed successfully\n"
     ]
    }
   ],
   "source": [
    "filename = 'x_train_equal_crime_and_business_sample_revised.csv'\n",
    "test_file(filename, expected_sample_length, expected_equal_features)"
   ]
  },
  {
   "cell_type": "code",
   "execution_count": 13,
   "metadata": {},
   "outputs": [
    {
     "name": "stdout",
     "output_type": "stream",
     "text": [
      "All tests completed successfully\n"
     ]
    }
   ],
   "source": [
    "filename = 'x_train_all_business_revised.csv'\n",
    "test_file(filename, expected_train_length, expected_business_features)"
   ]
  },
  {
   "cell_type": "code",
   "execution_count": 14,
   "metadata": {},
   "outputs": [
    {
     "name": "stdout",
     "output_type": "stream",
     "text": [
      "All tests completed successfully\n"
     ]
    }
   ],
   "source": [
    "filename = 'x_test_all_business_revised.csv'\n",
    "test_file(filename, expected_test_length, expected_business_features)"
   ]
  },
  {
   "cell_type": "code",
   "execution_count": 15,
   "metadata": {},
   "outputs": [
    {
     "name": "stdout",
     "output_type": "stream",
     "text": [
      "All tests completed successfully\n"
     ]
    }
   ],
   "source": [
    "filename = 'x_train_all_business_sample_revised.csv'\n",
    "test_file(filename, expected_sample_length, expected_business_features)"
   ]
  }
 ],
 "metadata": {
  "kernelspec": {
   "display_name": "Python 3",
   "language": "python",
   "name": "python3"
  },
  "language_info": {
   "codemirror_mode": {
    "name": "ipython",
    "version": 3
   },
   "file_extension": ".py",
   "mimetype": "text/x-python",
   "name": "python",
   "nbconvert_exporter": "python",
   "pygments_lexer": "ipython3",
   "version": "3.9.0"
  }
 },
 "nbformat": 4,
 "nbformat_minor": 4
}
