{
 "cells": [
  {
   "cell_type": "code",
   "execution_count": 1,
   "metadata": {},
   "outputs": [],
   "source": [
    "import pandas as pd\n",
    "from datetime import date, datetime, timedelta"
   ]
  },
  {
   "cell_type": "code",
   "execution_count": 3,
   "metadata": {},
   "outputs": [],
   "source": [
    "df = pd.read_csv('businesses_closures.csv')\n",
    "neighbourhoods_df = pd.read_csv('SF_neighborhoods.csv')"
   ]
  },
  {
   "cell_type": "code",
   "execution_count": 4,
   "metadata": {},
   "outputs": [],
   "source": [
    "# intended values for dataset\n",
    "expected_neighborhoods = sorted(neighbourhoods_df['name'].tolist())\n",
    "expected_start_day = 1\n",
    "expected_start_month = 7\n",
    "expected_start_year = 2019\n",
    "expected_start_date = date (expected_start_year,expected_start_month,expected_start_day)\n",
    "expected_end_day = 11\n",
    "expected_end_month = 11\n",
    "expected_end_year = 2020\n",
    "expected_end_date = date (expected_end_year,expected_end_month,expected_end_day)\n",
    "num_neighbourhoods = 117\n",
    "date_delta = (expected_end_date - expected_start_date).days + 1\n",
    "expected_num_records = num_neighbourhoods * date_delta\n",
    "expected_columns = ['Location End Date','Neighborhood','Closures','Closures 1 day ago','Closures 2 days ago',\n",
    "                    'Closures 3 days ago','Closures 4 days ago','Closures 5 days ago','Closures 6 days ago',\n",
    "                    'Closures 7 days ago','Closures 14 days ago','Closures 30 days ago','Closures 365 days ago',\n",
    "                   'Last 7 days closures','Last 14 days closures','Last 28 days closures']"
   ]
  },
  {
   "cell_type": "code",
   "execution_count": 7,
   "metadata": {},
   "outputs": [],
   "source": [
    "df['Location End Date'] = pd.to_datetime(df['Location End Date'])\n",
    "first_date = df['Location End Date'].iloc[0]\n",
    "last_date = df['Location End Date'].iloc[-1]"
   ]
  },
  {
   "cell_type": "code",
   "execution_count": 8,
   "metadata": {},
   "outputs": [
    {
     "name": "stdout",
     "output_type": "stream",
     "text": [
      "First date of dataset is as expected.\n",
      "Last date of dataset is as expected.\n",
      "Number of records in dataset is as expected.\n",
      "Column names of dataset are as expected.\n",
      "All dates, years, neighbourhoods, days of week and values in dataset are as expected.\n",
      "\n",
      "All tests completed successfully.\n"
     ]
    }
   ],
   "source": [
    "assert expected_start_date == first_date, \"First date is \" + str(first_date) + \" but should be \" + str(expected_start_date)\n",
    "print(\"First date of dataset is as expected.\")\n",
    "assert expected_end_date == last_date, \"First date is \" + str(last_date) + \" but should be \" + str(expected_last_date)\n",
    "print(\"Last date of dataset is as expected.\")\n",
    "assert expected_num_records == len(df), \"Expected \" + str(expected_num_records) + \" records but got \" + str(len(df))\n",
    "print(\"Number of records in dataset is as expected.\")\n",
    "actual_columns = df.columns\n",
    "for i in range(len(expected_columns)):\n",
    "    assert expected_columns[i] == actual_columns[i], \"Expected column\" + expected_columns[i] + \" but got \" + actual_columns[i]\n",
    "print(\"Column names of dataset are as expected.\")\n",
    "current_expected_date = expected_start_date\n",
    "neighbourhood_count = 1\n",
    "for record_num in range(0,len(df.index)):\n",
    "    record_date = df['Location End Date'].iloc[record_num]\n",
    "    assert current_expected_date == record_date, (\"Expected date \" + str(current_expected_date) + \" on row \" + \n",
    "                                                  str(record_num) + \" but got \" + str(record_date))\n",
    "    expected_neighbourhood = expected_neighborhoods[neighbourhood_count-1]\n",
    "    actual_neighbourhood = df['Neighborhood'].iloc[record_num]\n",
    "    assert expected_neighbourhood == actual_neighbourhood, (\"Expected neighborhood \" + expected_neighbourhood + \" on row \" +\n",
    "                                                            str(record_num) + \" but got \" + actual_neighbourhood)\n",
    "    j = 2\n",
    "    while j < len(expected_columns):\n",
    "        assert df[expected_columns[j]].iloc[record_num] >= 0, \"Value for \" + expected_columns[j] + \" is less than 0\"\n",
    "        j += 1\n",
    "    if neighbourhood_count == num_neighbourhoods:\n",
    "        current_expected_date += timedelta(days=1)\n",
    "        neighbourhood_count = 0\n",
    "    neighbourhood_count += 1\n",
    "print(\"All dates, years, neighbourhoods, days of week and values in dataset are as expected.\")\n",
    "print(\"\\nAll tests completed successfully.\")"
   ]
  }
 ],
 "metadata": {
  "kernelspec": {
   "display_name": "Python 3",
   "language": "python",
   "name": "python3"
  },
  "language_info": {
   "codemirror_mode": {
    "name": "ipython",
    "version": 3
   },
   "file_extension": ".py",
   "mimetype": "text/x-python",
   "name": "python",
   "nbconvert_exporter": "python",
   "pygments_lexer": "ipython3",
   "version": "3.9.0"
  }
 },
 "nbformat": 4,
 "nbformat_minor": 4
}
