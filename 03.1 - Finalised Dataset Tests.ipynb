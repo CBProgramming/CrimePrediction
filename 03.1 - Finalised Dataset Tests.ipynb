{
 "cells": [
  {
   "cell_type": "code",
   "execution_count": 19,
   "metadata": {},
   "outputs": [],
   "source": [
    "import pandas as pd\n",
    "from datetime import date, datetime, timedelta"
   ]
  },
  {
   "cell_type": "code",
   "execution_count": 20,
   "metadata": {},
   "outputs": [],
   "source": [
    "df = pd.read_csv('finalised_data.csv')\n",
    "neighbourhoods_df = pd.read_csv('SF_neighborhoods.csv')"
   ]
  },
  {
   "cell_type": "code",
   "execution_count": 21,
   "metadata": {},
   "outputs": [],
   "source": [
    "# intended values for dataset\n",
    "days = [\"Monday\",\"Tuesday\",\"Wednesday\",\"Thursday\",\"Friday\",\"Saturday\",\"Sunday\"]\n",
    "expected_columns = ['Reports 1 day ago','Reports 2 days ago','Reports 3 days ago','Reports 4 days ago','Reports 5 days ago',\n",
    "                    'Reports 6 days ago','Reports 7 days ago','Reports 14 days ago','Reports 30 days ago',\n",
    "                    'Reports 365 days ago','Last 7 days reports','Last 14 days reports','Last 28 days reports',\n",
    "                    'Number of businesses','Businesses 1 day ago','Businesses 2 days ago','Businesses 3 days ago',\n",
    "                    'Businesses 4 days ago','Businesses 5 days ago','Businesses 6 days ago','Businesses 7 days ago',\n",
    "                    'Businesses 14 days ago','Businesses 30 days ago','Businesses 365 days ago','Number of closures',\n",
    "                    'Closures 1 day ago','Closures 2 days ago','Closures 3 days ago','Closures 4 days ago',\n",
    "                    'Closures 5 days ago','Closures 6 days ago','Closures 7 days ago','Closures 14 days ago',\n",
    "                    'Closures 30 days ago','Closures 365 days ago','Last 7 days closures','Last 14 days closures',\n",
    "                    'Last 28 days closures','Number of openings','Openings 1 day ago','Openings 2 days ago',\n",
    "                    'Openings 3 days ago','Openings 4 days ago','Openings 5 days ago','Openings 6 days ago',\n",
    "                    'Openings 7 days ago','Openings 14 days ago','Openings 30 days ago','Openings 365 days ago',\n",
    "                    'Last 7 days openings','Last 14 days openings','Last 28 days openings','Alamo Square','Anza Vista',\n",
    "                    'Apparel City','Aquatic Park / Ft. Mason','Balboa Terrace','Bayview','Bernal Heights','Bret Harte',\n",
    "                    'Buena Vista','Candlestick Point SRA','Castro','Cathedral Hill','Cayuga','Central Waterfront','Chinatown',\n",
    "                    'Civic Center','Clarendon Heights','Cole Valley','Corona Heights','Cow Hollow','Crocker Amazon',\n",
    "                    'Diamond Heights','Dogpatch','Dolores Heights','Downtown / Union Square','Duboce Triangle','Eureka Valley',\n",
    "                    'Excelsior','Fairmount','Financial District','Fishermans Wharf','Forest Hill','Forest Knolls','Glen Park',\n",
    "                    'Golden Gate Heights','Golden Gate Park','Haight Ashbury','Hayes Valley','Holly Park','Hunters Point',\n",
    "                    'India Basin','Ingleside','Ingleside Terraces','Inner Richmond','Inner Sunset','Japantown','Laguna Honda',\n",
    "                    'Lake Street','Lakeshore','Laurel Heights / Jordan Park','Lincoln Park / Ft. Miley','Little Hollywood',\n",
    "                    'Lone Mountain','Lower Haight','Lower Nob Hill','Lower Pacific Heights','Marina','McLaren Park',\n",
    "                    'Merced Heights','Merced Manor','Midtown Terrace','Mint Hill','Miraloma Park','Mission','Mission Bay',\n",
    "                    'Mission Dolores','Mission Terrace','Monterey Heights','Mt. Davidson Manor','Nob Hill','Noe Valley',\n",
    "                    'North Beach','Northern Waterfront','Oceanview','Outer Mission','Outer Richmond','Outer Sunset',\n",
    "                    'Pacific Heights','Panhandle','Parkmerced','Parkside','Parnassus Heights','Peralta Heights',\n",
    "                    'Polk Gulch','Portola','Potrero Hill','Presidio Heights','Presidio National Park','Presidio Terrace',\n",
    "                    'Produce Market','Rincon Hill','Russian Hill','Seacliff','Sherwood Forest','Showplace Square',\n",
    "                    'Silver Terrace','South Beach','South of Market','St. Francis Wood','St. Marys Park','Stonestown',\n",
    "                    'Sunnydale','Sunnyside','Sutro Heights','Telegraph Hill','Tenderloin','Treasure Island','Union Street',\n",
    "                    'University Mound','Upper Market','Visitacion Valley','West Portal','Western Addition',\n",
    "                    'Westwood Highlands','Westwood Park','Yerba Buena Island','Friday','Saturday','Sunday','Thursday',\n",
    "                    'Tuesday','Wednesday','Todays Reports']"
   ]
  },
  {
   "cell_type": "code",
   "execution_count": 23,
   "metadata": {},
   "outputs": [
    {
     "name": "stderr",
     "output_type": "stream",
     "text": [
      "<>:12: SyntaxWarning: assertion is always true, perhaps remove parentheses?\n",
      "<>:15: SyntaxWarning: assertion is always true, perhaps remove parentheses?\n",
      "<>:12: SyntaxWarning: assertion is always true, perhaps remove parentheses?\n",
      "<>:15: SyntaxWarning: assertion is always true, perhaps remove parentheses?\n",
      "<ipython-input-23-e202b8b2dbe6>:12: SyntaxWarning: assertion is always true, perhaps remove parentheses?\n",
      "  assert (df[expected_columns[j]].iloc[record_num] >= 0 and df[expected_columns[j]].iloc[record_num] <= 1,\n",
      "<ipython-input-23-e202b8b2dbe6>:15: SyntaxWarning: assertion is always true, perhaps remove parentheses?\n",
      "  assert (df['Todays Reports'].iloc[record_num] >= 0 , \"Value for Todays Reports is less than 0\")\n"
     ]
    },
    {
     "name": "stdout",
     "output_type": "stream",
     "text": [
      "Number of records in dataset is as expected.\n",
      "Column names of dataset are as expected.\n",
      "All values in dataset are as expected.\n",
      "\n",
      "All tests completed successfully.\n"
     ]
    }
   ],
   "source": [
    "sfpd_df = pd.read_csv('SFPD_preprocessed.csv')\n",
    "expected_num_records = len(sfpd_df)\n",
    "assert expected_num_records == len(df), \"Expected \" + str(expected_num_records) + \" records but got \" + str(len(df))\n",
    "print(\"Number of records in dataset is as expected.\")\n",
    "actual_columns = df.columns\n",
    "for i in range(len(expected_columns)):\n",
    "    assert expected_columns[i] == actual_columns[i], \"Expected column \" + expected_columns[i] + \" but got \" + actual_columns[i]\n",
    "print(\"Column names of dataset are as expected.\")\n",
    "for record_num in range(0,len(df.index)):\n",
    "    j = 0\n",
    "    while j < len(expected_columns) - 1:\n",
    "        assert (df[expected_columns[j]].iloc[record_num] >= 0 and df[expected_columns[j]].iloc[record_num] <= 1, \n",
    "                \"Value for \" + expected_columns[j] + \" is less than 0\")\n",
    "        j += 1\n",
    "    assert (df['Todays Reports'].iloc[record_num] >= 0 , \"Value for Todays Reports is less than 0\")\n",
    "print(\"All values in dataset are as expected.\")\n",
    "print(\"\\nAll tests completed successfully.\")"
   ]
  },
  {
   "cell_type": "code",
   "execution_count": null,
   "metadata": {},
   "outputs": [],
   "source": []
  }
 ],
 "metadata": {
  "kernelspec": {
   "display_name": "Python 3",
   "language": "python",
   "name": "python3"
  },
  "language_info": {
   "codemirror_mode": {
    "name": "ipython",
    "version": 3
   },
   "file_extension": ".py",
   "mimetype": "text/x-python",
   "name": "python",
   "nbconvert_exporter": "python",
   "pygments_lexer": "ipython3",
   "version": "3.9.0"
  }
 },
 "nbformat": 4,
 "nbformat_minor": 4
}
