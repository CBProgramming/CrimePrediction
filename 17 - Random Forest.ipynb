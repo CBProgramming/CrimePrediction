{
 "cells": [
  {
   "cell_type": "code",
   "execution_count": 1,
   "metadata": {},
   "outputs": [],
   "source": [
    "import numpy as np\n",
    "from numpy import arange\n",
    "import pandas as pd\n",
    "import matplotlib.pyplot as plt\n",
    "%matplotlib inline\n",
    "import sklearn\n",
    "from sklearn.metrics import mean_squared_error, r2_score, mean_absolute_error\n",
    "from sklearn.pipeline import Pipeline\n",
    "from sklearn.model_selection import GridSearchCV\n",
    "import pickle"
   ]
  },
  {
   "cell_type": "code",
   "execution_count": 2,
   "metadata": {},
   "outputs": [],
   "source": [
    "from sklearn.ensemble import RandomForestRegressor"
   ]
  },
  {
   "cell_type": "code",
   "execution_count": 3,
   "metadata": {},
   "outputs": [],
   "source": [
    "model_name = \"random_forest\"\n",
    "display_name = \"Random Forest\""
   ]
  },
  {
   "cell_type": "code",
   "execution_count": 4,
   "metadata": {},
   "outputs": [],
   "source": [
    "y_test = pd.read_csv('y_test.csv')\n",
    "file = open(\"Selection Methods\",\"rb\")\n",
    "sel_methods = np.load(file)"
   ]
  },
  {
   "cell_type": "code",
   "execution_count": 5,
   "metadata": {},
   "outputs": [],
   "source": [
    "def get_best_model(method, args, _cv, is_sample):\n",
    "    sample_string = ''\n",
    "    if (is_sample):\n",
    "        sample_string = '_sample'\n",
    "    y_train = pd.read_csv('y_train'+ sample_string + '.csv')    \n",
    "    method_string = method\n",
    "    if (method == ''):\n",
    "        method_string = \"no feature selection\"\n",
    "    print('\\n\\nRunning cross fold validation for',display_name,'with',method_string,'dataset')\n",
    "    x_train = pd.read_csv('x_train' + method + sample_string + '.csv').values\n",
    "    x_test = pd.read_csv('x_test' + method + '.csv').values\n",
    "    pipe = Pipeline([('clf', RandomForestRegressor())])\n",
    "    grid = GridSearchCV(pipe, args, cv = _cv, verbose = 1, scoring = 'r2', n_jobs=6)\n",
    "    grid.fit(x_train, y_train.values.ravel())\n",
    "    print('\\nBest score for',display_name,'with',method_string,\"dataset:\",grid.best_score_)\n",
    "    best_args = grid.best_estimator_.get_params()\n",
    "    print('\\nBest hyperparameters for',display_name,'with',method_string,'dataset:')\n",
    "    for arg in best_args:\n",
    "        print(arg,\":\",best_args[arg])\n",
    "    y_test_predict = grid.predict(x_test)\n",
    "    mse = mean_squared_error(y_test,y_test_predict)\n",
    "    mae = mean_absolute_error(y_test,y_test_predict)\n",
    "    r2 = r2_score(y_test,y_test_predict)\n",
    "    print('\\nPrediction scores for',display_name,'using',method_string,':')\n",
    "    print('Mean Squared error:',mse)\n",
    "    print('Mean Absolute error:',mae)\n",
    "    print('R^2:',r2)\n",
    "    return grid.best_estimator_,grid.best_score_,mse,mae,r2"
   ]
  },
  {
   "cell_type": "code",
   "execution_count": 6,
   "metadata": {},
   "outputs": [],
   "source": [
    "def save_model(model,method):\n",
    "    with open('CrimeGUI/Models/'+model_name+method,'wb') as file:\n",
    "        pickle.dump(model,file)"
   ]
  },
  {
   "cell_type": "code",
   "execution_count": 7,
   "metadata": {},
   "outputs": [
    {
     "name": "stdout",
     "output_type": "stream",
     "text": [
      "['_f_regression' '_chi2' '_adaboost' '_equal_crime_and_business'\n",
      " '_all_business']\n"
     ]
    }
   ],
   "source": [
    "print(sel_methods)"
   ]
  },
  {
   "cell_type": "markdown",
   "metadata": {},
   "source": [
    "<h3>F-Regression feature selected dataset<h3>"
   ]
  },
  {
   "cell_type": "code",
   "execution_count": 20,
   "metadata": {},
   "outputs": [],
   "source": [
    "is_sample = True\n",
    "num_folds = 5\n",
    "args = {'clf__criterion':('mse','mae'),\n",
    "        'clf__n_estimators':(100,200,300,500,1000),\n",
    "        'clf__min_samples_split':(2,5,10),\n",
    "        'clf__max_depth': (10,20,50,100,None),\n",
    "        'clf__min_samples_leaf':(1,2,5,10),\n",
    "        'clf__max_features':('sqrt','log2'),\n",
    "        'clf__random_state':([7])}"
   ]
  },
  {
   "cell_type": "code",
   "execution_count": 21,
   "metadata": {},
   "outputs": [
    {
     "name": "stdout",
     "output_type": "stream",
     "text": [
      "\n",
      "\n",
      "Running cross fold validation for Random Forest with _f_regression dataset\n",
      "Fitting 5 folds for each of 1200 candidates, totalling 6000 fits\n"
     ]
    },
    {
     "name": "stderr",
     "output_type": "stream",
     "text": [
      "[Parallel(n_jobs=6)]: Using backend LokyBackend with 6 concurrent workers.\n",
      "[Parallel(n_jobs=6)]: Done  38 tasks      | elapsed:   14.6s\n",
      "[Parallel(n_jobs=6)]: Done 188 tasks      | elapsed:  1.2min\n",
      "[Parallel(n_jobs=6)]: Done 438 tasks      | elapsed:  2.8min\n",
      "[Parallel(n_jobs=6)]: Done 788 tasks      | elapsed:  5.7min\n",
      "[Parallel(n_jobs=6)]: Done 1238 tasks      | elapsed:  9.6min\n",
      "[Parallel(n_jobs=6)]: Done 1788 tasks      | elapsed: 14.4min\n",
      "[Parallel(n_jobs=6)]: Done 2438 tasks      | elapsed: 20.4min\n",
      "[Parallel(n_jobs=6)]: Done 3188 tasks      | elapsed: 85.7min\n",
      "[Parallel(n_jobs=6)]: Done 4038 tasks      | elapsed: 375.6min\n",
      "[Parallel(n_jobs=6)]: Done 4988 tasks      | elapsed: 712.7min\n",
      "[Parallel(n_jobs=6)]: Done 6000 out of 6000 | elapsed: 1085.1min finished\n"
     ]
    },
    {
     "name": "stdout",
     "output_type": "stream",
     "text": [
      "\n",
      "Best score for Random Forest with _f_regression dataset: 0.7502999963419127\n",
      "\n",
      "Best hyperparameters for Random Forest with _f_regression dataset:\n",
      "memory : None\n",
      "steps : [('clf', RandomForestRegressor(max_depth=10, max_features='sqrt', min_samples_leaf=10,\n",
      "                      n_estimators=1000, random_state=7))]\n",
      "verbose : False\n",
      "clf : RandomForestRegressor(max_depth=10, max_features='sqrt', min_samples_leaf=10,\n",
      "                      n_estimators=1000, random_state=7)\n",
      "clf__bootstrap : True\n",
      "clf__ccp_alpha : 0.0\n",
      "clf__criterion : mse\n",
      "clf__max_depth : 10\n",
      "clf__max_features : sqrt\n",
      "clf__max_leaf_nodes : None\n",
      "clf__max_samples : None\n",
      "clf__min_impurity_decrease : 0.0\n",
      "clf__min_impurity_split : None\n",
      "clf__min_samples_leaf : 10\n",
      "clf__min_samples_split : 2\n",
      "clf__min_weight_fraction_leaf : 0.0\n",
      "clf__n_estimators : 1000\n",
      "clf__n_jobs : None\n",
      "clf__oob_score : False\n",
      "clf__random_state : 7\n",
      "clf__verbose : 0\n",
      "clf__warm_start : False\n",
      "\n",
      "Prediction scores for Random Forest using _f_regression :\n",
      "Mean Squared error: 4.885838366092844\n",
      "Mean Absolute error: 1.3976059205763423\n",
      "R^2: 0.7493445032100676\n"
     ]
    }
   ],
   "source": [
    "f_reg_model, f_reg_train_score, f_reg_mse, f_reg_mae, f_reg_r2 = get_best_model(sel_methods[0], args, num_folds, is_sample)"
   ]
  },
  {
   "cell_type": "code",
   "execution_count": 30,
   "metadata": {},
   "outputs": [],
   "source": [
    "is_sample = True\n",
    "num_folds = 5\n",
    "args = {'clf__criterion':('mse','mae'),\n",
    "        'clf__n_estimators':(800,1000),\n",
    "        'clf__min_samples_split':(2,4,6),\n",
    "        'clf__max_depth': (10,20),\n",
    "        'clf__min_samples_leaf':(5,10),\n",
    "        'clf__max_features':(['sqrt']),\n",
    "        'clf__random_state':([7]),\n",
    "        'clf__min_impurity_decrease':(arange(0,1,0.2)),\n",
    "        'clf__ccp_alpha':(arange(0,1,0.2))}"
   ]
  },
  {
   "cell_type": "code",
   "execution_count": 31,
   "metadata": {},
   "outputs": [
    {
     "name": "stdout",
     "output_type": "stream",
     "text": [
      "\n",
      "\n",
      "Running cross fold validation for Random Forest with _f_regression dataset\n",
      "Fitting 5 folds for each of 1200 candidates, totalling 6000 fits\n"
     ]
    },
    {
     "name": "stderr",
     "output_type": "stream",
     "text": [
      "[Parallel(n_jobs=6)]: Using backend LokyBackend with 6 concurrent workers.\n",
      "[Parallel(n_jobs=6)]: Done  38 tasks      | elapsed:   36.2s\n",
      "[Parallel(n_jobs=6)]: Done 188 tasks      | elapsed:  1.8min\n",
      "[Parallel(n_jobs=6)]: Done 438 tasks      | elapsed:  4.1min\n",
      "[Parallel(n_jobs=6)]: Done 788 tasks      | elapsed: 82.4min\n",
      "[Parallel(n_jobs=6)]: Done 1238 tasks      | elapsed: 200.9min\n",
      "[Parallel(n_jobs=6)]: Done 1788 tasks      | elapsed: 205.9min\n",
      "[Parallel(n_jobs=6)]: Done 2438 tasks      | elapsed: 409.9min\n",
      "[Parallel(n_jobs=6)]: Done 3188 tasks      | elapsed: 498.0min\n",
      "[Parallel(n_jobs=6)]: Done 4038 tasks      | elapsed: 630.9min\n",
      "[Parallel(n_jobs=6)]: Done 4988 tasks      | elapsed: 830.0min\n",
      "[Parallel(n_jobs=6)]: Done 6000 out of 6000 | elapsed: 1028.4min finished\n"
     ]
    },
    {
     "name": "stdout",
     "output_type": "stream",
     "text": [
      "\n",
      "Best score for Random Forest with _f_regression dataset: 0.7502999963419127\n",
      "\n",
      "Best hyperparameters for Random Forest with _f_regression dataset:\n",
      "memory : None\n",
      "steps : [('clf', RandomForestRegressor(max_depth=10, max_features='sqrt', min_samples_leaf=10,\n",
      "                      n_estimators=1000, random_state=7))]\n",
      "verbose : False\n",
      "clf : RandomForestRegressor(max_depth=10, max_features='sqrt', min_samples_leaf=10,\n",
      "                      n_estimators=1000, random_state=7)\n",
      "clf__bootstrap : True\n",
      "clf__ccp_alpha : 0.0\n",
      "clf__criterion : mse\n",
      "clf__max_depth : 10\n",
      "clf__max_features : sqrt\n",
      "clf__max_leaf_nodes : None\n",
      "clf__max_samples : None\n",
      "clf__min_impurity_decrease : 0.0\n",
      "clf__min_impurity_split : None\n",
      "clf__min_samples_leaf : 10\n",
      "clf__min_samples_split : 2\n",
      "clf__min_weight_fraction_leaf : 0.0\n",
      "clf__n_estimators : 1000\n",
      "clf__n_jobs : None\n",
      "clf__oob_score : False\n",
      "clf__random_state : 7\n",
      "clf__verbose : 0\n",
      "clf__warm_start : False\n",
      "\n",
      "Prediction scores for Random Forest using _f_regression :\n",
      "Mean Squared error: 4.885838366092844\n",
      "Mean Absolute error: 1.3976059205763423\n",
      "R^2: 0.7493445032100676\n"
     ]
    }
   ],
   "source": [
    "f_reg_model, f_reg_train_score, f_reg_mse, f_reg_mae, f_reg_r2 = get_best_model(sel_methods[0], args, num_folds, is_sample)"
   ]
  },
  {
   "cell_type": "code",
   "execution_count": 35,
   "metadata": {},
   "outputs": [],
   "source": [
    "is_sample = False\n",
    "num_folds = 10\n",
    "args = {'clf__criterion':(['mse']),\n",
    "        'clf__n_estimators':(1000,1500,2000,3000,4000,5000),\n",
    "        'clf__min_samples_split':([2]),\n",
    "        'clf__max_depth': ([10]),\n",
    "        'clf__min_samples_leaf':([10]),\n",
    "        'clf__max_features':(['sqrt']),\n",
    "        'clf__random_state':([7]),\n",
    "        'clf__min_impurity_decrease':([0]),\n",
    "        'clf__ccp_alpha':([0])}"
   ]
  },
  {
   "cell_type": "code",
   "execution_count": 36,
   "metadata": {},
   "outputs": [
    {
     "name": "stdout",
     "output_type": "stream",
     "text": [
      "\n",
      "\n",
      "Running cross fold validation for Random Forest with _f_regression dataset\n",
      "Fitting 10 folds for each of 6 candidates, totalling 60 fits\n"
     ]
    },
    {
     "name": "stderr",
     "output_type": "stream",
     "text": [
      "[Parallel(n_jobs=6)]: Using backend LokyBackend with 6 concurrent workers.\n",
      "[Parallel(n_jobs=6)]: Done  38 tasks      | elapsed:  5.8min\n",
      "[Parallel(n_jobs=6)]: Done  60 out of  60 | elapsed: 13.3min finished\n"
     ]
    },
    {
     "name": "stdout",
     "output_type": "stream",
     "text": [
      "\n",
      "Best score for Random Forest with _f_regression dataset: 0.7437620252713557\n",
      "\n",
      "Best hyperparameters for Random Forest with _f_regression dataset:\n",
      "memory : None\n",
      "steps : [('clf', RandomForestRegressor(ccp_alpha=0, max_depth=10, max_features='sqrt',\n",
      "                      min_impurity_decrease=0, min_samples_leaf=10,\n",
      "                      n_estimators=4000, random_state=7))]\n",
      "verbose : False\n",
      "clf : RandomForestRegressor(ccp_alpha=0, max_depth=10, max_features='sqrt',\n",
      "                      min_impurity_decrease=0, min_samples_leaf=10,\n",
      "                      n_estimators=4000, random_state=7)\n",
      "clf__bootstrap : True\n",
      "clf__ccp_alpha : 0\n",
      "clf__criterion : mse\n",
      "clf__max_depth : 10\n",
      "clf__max_features : sqrt\n",
      "clf__max_leaf_nodes : None\n",
      "clf__max_samples : None\n",
      "clf__min_impurity_decrease : 0\n",
      "clf__min_impurity_split : None\n",
      "clf__min_samples_leaf : 10\n",
      "clf__min_samples_split : 2\n",
      "clf__min_weight_fraction_leaf : 0.0\n",
      "clf__n_estimators : 4000\n",
      "clf__n_jobs : None\n",
      "clf__oob_score : False\n",
      "clf__random_state : 7\n",
      "clf__verbose : 0\n",
      "clf__warm_start : False\n",
      "\n",
      "Prediction scores for Random Forest using _f_regression :\n",
      "Mean Squared error: 4.798239590383241\n",
      "Mean Absolute error: 1.388326022338069\n",
      "R^2: 0.7538385353491699\n"
     ]
    }
   ],
   "source": [
    "f_reg_model, f_reg_train_score, f_reg_mse, f_reg_mae, f_reg_r2 = get_best_model(sel_methods[0], args, num_folds, is_sample)"
   ]
  },
  {
   "cell_type": "code",
   "execution_count": 38,
   "metadata": {},
   "outputs": [],
   "source": [
    "is_sample = False\n",
    "num_folds = 10\n",
    "args = {'clf__criterion':(['mse']),\n",
    "        'clf__n_estimators':(1000,1500,2000,3000,4000,5000),\n",
    "        'clf__min_samples_split':([2]),\n",
    "        'clf__max_depth': ([10]),\n",
    "        'clf__min_samples_leaf':([10]),\n",
    "        'clf__max_features':(['sqrt']),\n",
    "        'clf__random_state':([7]),\n",
    "        'clf__min_impurity_decrease':([0]),\n",
    "        'clf__ccp_alpha':([0])}"
   ]
  },
  {
   "cell_type": "code",
   "execution_count": 39,
   "metadata": {},
   "outputs": [
    {
     "name": "stdout",
     "output_type": "stream",
     "text": [
      "\n",
      "\n",
      "Running cross fold validation for Random Forest with _f_regression dataset\n",
      "Fitting 10 folds for each of 162 candidates, totalling 1620 fits\n"
     ]
    },
    {
     "name": "stderr",
     "output_type": "stream",
     "text": [
      "[Parallel(n_jobs=6)]: Using backend LokyBackend with 6 concurrent workers.\n",
      "[Parallel(n_jobs=6)]: Done  38 tasks      | elapsed: 10.6min\n",
      "[Parallel(n_jobs=6)]: Done 188 tasks      | elapsed: 51.7min\n",
      "[Parallel(n_jobs=6)]: Done 438 tasks      | elapsed: 118.6min\n",
      "[Parallel(n_jobs=6)]: Done 788 tasks      | elapsed: 241.4min\n",
      "[Parallel(n_jobs=6)]: Done 1238 tasks      | elapsed: 418.0min\n",
      "[Parallel(n_jobs=6)]: Done 1620 out of 1620 | elapsed: 579.1min finished\n"
     ]
    },
    {
     "name": "stdout",
     "output_type": "stream",
     "text": [
      "\n",
      "Best score for Random Forest with _f_regression dataset: 0.7437651175140028\n",
      "\n",
      "Best hyperparameters for Random Forest with _f_regression dataset:\n",
      "memory : None\n",
      "steps : [('clf', RandomForestRegressor(ccp_alpha=0, max_depth=10, max_features='sqrt',\n",
      "                      min_impurity_decrease=0, min_samples_leaf=10,\n",
      "                      n_estimators=4500, random_state=7))]\n",
      "verbose : False\n",
      "clf : RandomForestRegressor(ccp_alpha=0, max_depth=10, max_features='sqrt',\n",
      "                      min_impurity_decrease=0, min_samples_leaf=10,\n",
      "                      n_estimators=4500, random_state=7)\n",
      "clf__bootstrap : True\n",
      "clf__ccp_alpha : 0\n",
      "clf__criterion : mse\n",
      "clf__max_depth : 10\n",
      "clf__max_features : sqrt\n",
      "clf__max_leaf_nodes : None\n",
      "clf__max_samples : None\n",
      "clf__min_impurity_decrease : 0\n",
      "clf__min_impurity_split : None\n",
      "clf__min_samples_leaf : 10\n",
      "clf__min_samples_split : 2\n",
      "clf__min_weight_fraction_leaf : 0.0\n",
      "clf__n_estimators : 4500\n",
      "clf__n_jobs : None\n",
      "clf__oob_score : False\n",
      "clf__random_state : 7\n",
      "clf__verbose : 0\n",
      "clf__warm_start : False\n",
      "\n",
      "Prediction scores for Random Forest using _f_regression :\n",
      "Mean Squared error: 4.7982405428624615\n",
      "Mean Absolute error: 1.388384506774818\n",
      "R^2: 0.7538384864846487\n"
     ]
    }
   ],
   "source": [
    "f_reg_model, f_reg_train_score, f_reg_mse, f_reg_mae, f_reg_r2 = get_best_model(sel_methods[0], args, num_folds, is_sample)"
   ]
  },
  {
   "cell_type": "code",
   "execution_count": 10,
   "metadata": {},
   "outputs": [],
   "source": [
    "is_sample = False\n",
    "num_folds = 10\n",
    "args = {'clf__criterion':(['mse']),\n",
    "        'clf__n_estimators':([4500]),\n",
    "        'clf__min_samples_split':([2]),\n",
    "        'clf__max_depth': ([10]),\n",
    "        'clf__min_samples_leaf':([10]),\n",
    "        'clf__max_features':(['sqrt']),\n",
    "        'clf__random_state':([7]),\n",
    "        'clf__min_impurity_decrease':([0]),\n",
    "        'clf__ccp_alpha':([0])}"
   ]
  },
  {
   "cell_type": "code",
   "execution_count": 11,
   "metadata": {
    "scrolled": false
   },
   "outputs": [
    {
     "name": "stdout",
     "output_type": "stream",
     "text": [
      "\n",
      "\n",
      "Running cross fold validation for Random Forest with _f_regression dataset\n",
      "Fitting 10 folds for each of 1 candidates, totalling 10 fits\n"
     ]
    },
    {
     "name": "stderr",
     "output_type": "stream",
     "text": [
      "[Parallel(n_jobs=6)]: Using backend LokyBackend with 6 concurrent workers.\n",
      "[Parallel(n_jobs=6)]: Done  10 out of  10 | elapsed:  3.4min remaining:    0.0s\n",
      "[Parallel(n_jobs=6)]: Done  10 out of  10 | elapsed:  3.4min finished\n"
     ]
    },
    {
     "name": "stdout",
     "output_type": "stream",
     "text": [
      "\n",
      "Best score for Random Forest with _f_regression dataset: 0.7437651175140028\n",
      "\n",
      "Best hyperparameters for Random Forest with _f_regression dataset:\n",
      "memory : None\n",
      "steps : [('clf', RandomForestRegressor(ccp_alpha=0, max_depth=10, max_features='sqrt',\n",
      "                      min_impurity_decrease=0, min_samples_leaf=10,\n",
      "                      n_estimators=4500, random_state=7))]\n",
      "verbose : False\n",
      "clf : RandomForestRegressor(ccp_alpha=0, max_depth=10, max_features='sqrt',\n",
      "                      min_impurity_decrease=0, min_samples_leaf=10,\n",
      "                      n_estimators=4500, random_state=7)\n",
      "clf__bootstrap : True\n",
      "clf__ccp_alpha : 0\n",
      "clf__criterion : mse\n",
      "clf__max_depth : 10\n",
      "clf__max_features : sqrt\n",
      "clf__max_leaf_nodes : None\n",
      "clf__max_samples : None\n",
      "clf__min_impurity_decrease : 0\n",
      "clf__min_impurity_split : None\n",
      "clf__min_samples_leaf : 10\n",
      "clf__min_samples_split : 2\n",
      "clf__min_weight_fraction_leaf : 0.0\n",
      "clf__n_estimators : 4500\n",
      "clf__n_jobs : None\n",
      "clf__oob_score : False\n",
      "clf__random_state : 7\n",
      "clf__verbose : 0\n",
      "clf__warm_start : False\n",
      "\n",
      "Prediction scores for Random Forest using _f_regression :\n",
      "Mean Squared error: 4.7982405428624615\n",
      "Mean Absolute error: 1.388384506774818\n",
      "R^2: 0.7538384864846487\n"
     ]
    }
   ],
   "source": [
    "f_reg_model, f_reg_train_score, f_reg_mse, f_reg_mae, f_reg_r2 = get_best_model(sel_methods[0], args, num_folds, is_sample)"
   ]
  },
  {
   "cell_type": "code",
   "execution_count": 31,
   "metadata": {},
   "outputs": [],
   "source": [
    "#alpha and impurity dont affect outcome, attempt to fine tune other hyperparameters\n",
    "is_sample = False\n",
    "num_folds = 10\n",
    "args = {'clf__criterion':(['mse']),\n",
    "        'clf__n_estimators':(4300,4400,4500,4600,4700),\n",
    "        'clf__min_samples_split':(2,3,4,5),\n",
    "        'clf__max_depth': (8,9,10,11,12),\n",
    "        'clf__min_samples_leaf':(8,9,10,11,12),\n",
    "        'clf__max_features':(['sqrt']),\n",
    "        'clf__random_state':([7])}"
   ]
  },
  {
   "cell_type": "code",
   "execution_count": 32,
   "metadata": {},
   "outputs": [
    {
     "name": "stdout",
     "output_type": "stream",
     "text": [
      "\n",
      "\n",
      "Running cross fold validation for Random Forest with _f_regression dataset\n",
      "Fitting 10 folds for each of 500 candidates, totalling 5000 fits\n"
     ]
    },
    {
     "name": "stderr",
     "output_type": "stream",
     "text": [
      "[Parallel(n_jobs=6)]: Using backend LokyBackend with 6 concurrent workers.\n",
      "[Parallel(n_jobs=6)]: Done  38 tasks      | elapsed: 12.3min\n",
      "[Parallel(n_jobs=6)]: Done 188 tasks      | elapsed: 60.7min\n",
      "[Parallel(n_jobs=6)]: Done 438 tasks      | elapsed: 141.1min\n",
      "[Parallel(n_jobs=6)]: Done 788 tasks      | elapsed: 253.5min\n",
      "[Parallel(n_jobs=6)]: Done 1238 tasks      | elapsed: 388.8min\n",
      "[Parallel(n_jobs=6)]: Done 1788 tasks      | elapsed: 551.7min\n",
      "[Parallel(n_jobs=6)]: Done 2438 tasks      | elapsed: 744.7min\n",
      "[Parallel(n_jobs=6)]: Done 3188 tasks      | elapsed: 973.0min\n",
      "[Parallel(n_jobs=6)]: Done 4038 tasks      | elapsed: 1267.2min\n",
      "[Parallel(n_jobs=6)]: Done 4988 tasks      | elapsed: 1619.2min\n",
      "[Parallel(n_jobs=6)]: Done 5000 out of 5000 | elapsed: 1623.5min finished\n"
     ]
    },
    {
     "name": "stdout",
     "output_type": "stream",
     "text": [
      "\n",
      "Best score for Random Forest with _f_regression dataset: 0.7439499152766238\n",
      "\n",
      "Best hyperparameters for Random Forest with _f_regression dataset:\n",
      "memory : None\n",
      "steps : [('clf', RandomForestRegressor(max_depth=11, max_features='sqrt', min_samples_leaf=12,\n",
      "                      n_estimators=4700, random_state=7))]\n",
      "verbose : False\n",
      "clf : RandomForestRegressor(max_depth=11, max_features='sqrt', min_samples_leaf=12,\n",
      "                      n_estimators=4700, random_state=7)\n",
      "clf__bootstrap : True\n",
      "clf__ccp_alpha : 0.0\n",
      "clf__criterion : mse\n",
      "clf__max_depth : 11\n",
      "clf__max_features : sqrt\n",
      "clf__max_leaf_nodes : None\n",
      "clf__max_samples : None\n",
      "clf__min_impurity_decrease : 0.0\n",
      "clf__min_impurity_split : None\n",
      "clf__min_samples_leaf : 12\n",
      "clf__min_samples_split : 2\n",
      "clf__min_weight_fraction_leaf : 0.0\n",
      "clf__n_estimators : 4700\n",
      "clf__n_jobs : None\n",
      "clf__oob_score : False\n",
      "clf__random_state : 7\n",
      "clf__verbose : 0\n",
      "clf__warm_start : False\n",
      "\n",
      "Prediction scores for Random Forest using _f_regression :\n",
      "Mean Squared error: 4.7938614405629325\n",
      "Mean Absolute error: 1.3856977472681424\n",
      "R^2: 0.754063145177822\n"
     ]
    }
   ],
   "source": [
    "f_reg_model, f_reg_train_score, f_reg_mse, f_reg_mae, f_reg_r2 = get_best_model(sel_methods[0], args, num_folds, is_sample)"
   ]
  },
  {
   "cell_type": "code",
   "execution_count": 12,
   "metadata": {},
   "outputs": [],
   "source": [
    "# parameters stable, model saved\n",
    "save_model(f_reg_model,sel_methods[0])"
   ]
  },
  {
   "cell_type": "markdown",
   "metadata": {},
   "source": [
    "<h3>Chi-Squared feature selected dataset<h3>"
   ]
  },
  {
   "cell_type": "code",
   "execution_count": 10,
   "metadata": {},
   "outputs": [],
   "source": [
    "is_sample = True\n",
    "num_folds = 5\n",
    "args = {'clf__criterion':('mse','mae'),\n",
    "        'clf__n_estimators':(100,500,1000),\n",
    "        'clf__min_samples_split':(2,5,10),\n",
    "        'clf__max_depth': (10,20,30),\n",
    "        'clf__min_samples_leaf':(2,5,10),\n",
    "        'clf__max_features':('sqrt','log2'),\n",
    "        'clf__random_state':([7])}"
   ]
  },
  {
   "cell_type": "code",
   "execution_count": 11,
   "metadata": {},
   "outputs": [
    {
     "name": "stdout",
     "output_type": "stream",
     "text": [
      "\n",
      "\n",
      "Running cross fold validation for Random Forest with _chi2 dataset\n",
      "Fitting 5 folds for each of 324 candidates, totalling 1620 fits\n"
     ]
    },
    {
     "name": "stderr",
     "output_type": "stream",
     "text": [
      "[Parallel(n_jobs=6)]: Using backend LokyBackend with 6 concurrent workers.\n",
      "[Parallel(n_jobs=6)]: Done  38 tasks      | elapsed:   18.3s\n",
      "[Parallel(n_jobs=6)]: Done 188 tasks      | elapsed:  1.5min\n",
      "[Parallel(n_jobs=6)]: Done 438 tasks      | elapsed:  4.0min\n",
      "[Parallel(n_jobs=6)]: Done 788 tasks      | elapsed:  7.5min\n",
      "[Parallel(n_jobs=6)]: Done 1238 tasks      | elapsed: 143.2min\n",
      "[Parallel(n_jobs=6)]: Done 1620 out of 1620 | elapsed: 269.4min finished\n"
     ]
    },
    {
     "name": "stdout",
     "output_type": "stream",
     "text": [
      "\n",
      "Best score for Random Forest with _chi2 dataset: 0.7478509410708918\n",
      "\n",
      "Best hyperparameters for Random Forest with _chi2 dataset:\n",
      "memory : None\n",
      "steps : [('clf', RandomForestRegressor(max_depth=10, max_features='sqrt', min_samples_leaf=2,\n",
      "                      min_samples_split=10, n_estimators=1000, random_state=7))]\n",
      "verbose : False\n",
      "clf : RandomForestRegressor(max_depth=10, max_features='sqrt', min_samples_leaf=2,\n",
      "                      min_samples_split=10, n_estimators=1000, random_state=7)\n",
      "clf__bootstrap : True\n",
      "clf__ccp_alpha : 0.0\n",
      "clf__criterion : mse\n",
      "clf__max_depth : 10\n",
      "clf__max_features : sqrt\n",
      "clf__max_leaf_nodes : None\n",
      "clf__max_samples : None\n",
      "clf__min_impurity_decrease : 0.0\n",
      "clf__min_impurity_split : None\n",
      "clf__min_samples_leaf : 2\n",
      "clf__min_samples_split : 10\n",
      "clf__min_weight_fraction_leaf : 0.0\n",
      "clf__n_estimators : 1000\n",
      "clf__n_jobs : None\n",
      "clf__oob_score : False\n",
      "clf__random_state : 7\n",
      "clf__verbose : 0\n",
      "clf__warm_start : False\n",
      "\n",
      "Prediction scores for Random Forest using _chi2 :\n",
      "Mean Squared error: 5.0740391293978\n",
      "Mean Absolute error: 1.425403843647832\n",
      "R^2: 0.7396893422555367\n"
     ]
    }
   ],
   "source": [
    "chi2_model, chi2_train_score, chi2_mse, chi2_mae, chi2_r2 = get_best_model(sel_methods[1], args, num_folds, is_sample)"
   ]
  },
  {
   "cell_type": "code",
   "execution_count": 8,
   "metadata": {},
   "outputs": [],
   "source": [
    "is_sample = True\n",
    "num_folds = 5\n",
    "args = {'clf__criterion':('mse','mae'),\n",
    "        'clf__n_estimators':(1000,1500,2000,3000,4000,5000),\n",
    "        'clf__min_samples_split':(5,10,20),\n",
    "        'clf__max_depth': (5,10,20),\n",
    "        'clf__min_samples_leaf':(2,5),\n",
    "        'clf__max_features':(['sqrt']),\n",
    "        'clf__random_state':([7])}"
   ]
  },
  {
   "cell_type": "code",
   "execution_count": 9,
   "metadata": {},
   "outputs": [
    {
     "name": "stdout",
     "output_type": "stream",
     "text": [
      "\n",
      "\n",
      "Running cross fold validation for Random Forest with _chi2 dataset\n",
      "Fitting 5 folds for each of 216 candidates, totalling 1080 fits\n"
     ]
    },
    {
     "name": "stderr",
     "output_type": "stream",
     "text": [
      "[Parallel(n_jobs=6)]: Using backend LokyBackend with 6 concurrent workers.\n",
      "[Parallel(n_jobs=6)]: Done  38 tasks      | elapsed:   52.1s\n",
      "[Parallel(n_jobs=6)]: Done 188 tasks      | elapsed:  4.5min\n",
      "[Parallel(n_jobs=6)]: Done 438 tasks      | elapsed: 14.7min\n",
      "[Parallel(n_jobs=6)]: Done 788 tasks      | elapsed: 374.7min\n",
      "[Parallel(n_jobs=6)]: Done 1080 out of 1080 | elapsed: 900.8min finished\n"
     ]
    },
    {
     "name": "stdout",
     "output_type": "stream",
     "text": [
      "\n",
      "Best score for Random Forest with _chi2 dataset: 0.748091631387157\n",
      "\n",
      "Best hyperparameters for Random Forest with _chi2 dataset:\n",
      "memory : None\n",
      "steps : [('clf', RandomForestRegressor(max_depth=10, max_features='sqrt', min_samples_leaf=2,\n",
      "                      min_samples_split=20, n_estimators=4000, random_state=7))]\n",
      "verbose : False\n",
      "clf : RandomForestRegressor(max_depth=10, max_features='sqrt', min_samples_leaf=2,\n",
      "                      min_samples_split=20, n_estimators=4000, random_state=7)\n",
      "clf__bootstrap : True\n",
      "clf__ccp_alpha : 0.0\n",
      "clf__criterion : mse\n",
      "clf__max_depth : 10\n",
      "clf__max_features : sqrt\n",
      "clf__max_leaf_nodes : None\n",
      "clf__max_samples : None\n",
      "clf__min_impurity_decrease : 0.0\n",
      "clf__min_impurity_split : None\n",
      "clf__min_samples_leaf : 2\n",
      "clf__min_samples_split : 20\n",
      "clf__min_weight_fraction_leaf : 0.0\n",
      "clf__n_estimators : 4000\n",
      "clf__n_jobs : None\n",
      "clf__oob_score : False\n",
      "clf__random_state : 7\n",
      "clf__verbose : 0\n",
      "clf__warm_start : False\n",
      "\n",
      "Prediction scores for Random Forest using _chi2 :\n",
      "Mean Squared error: 5.061939534681655\n",
      "Mean Absolute error: 1.4240582906759018\n",
      "R^2: 0.7403100811538146\n"
     ]
    }
   ],
   "source": [
    "chi2_model, chi2_train_score, chi2_mse, chi2_mae, chi2_r2 = get_best_model(sel_methods[1], args, num_folds, is_sample)"
   ]
  },
  {
   "cell_type": "code",
   "execution_count": 15,
   "metadata": {},
   "outputs": [],
   "source": [
    "#explore impurity decrease and alpha\n",
    "is_sample = False\n",
    "num_folds = 5\n",
    "args = {'clf__criterion':(['mse']),\n",
    "        'clf__n_estimators':(3500,4000,4500),\n",
    "        'clf__min_samples_split':([20]),\n",
    "        'clf__max_depth': ([10]),\n",
    "        'clf__min_samples_leaf':(2,5),\n",
    "        'clf__max_features':(['sqrt']),\n",
    "        'clf__random_state':([7]),\n",
    "        'clf__min_impurity_decrease':(arange(0,1,0.2)),\n",
    "        'clf__ccp_alpha':(arange(0,1,0.2))}"
   ]
  },
  {
   "cell_type": "code",
   "execution_count": 16,
   "metadata": {},
   "outputs": [
    {
     "name": "stdout",
     "output_type": "stream",
     "text": [
      "\n",
      "\n",
      "Running cross fold validation for Random Forest with _chi2 dataset\n",
      "Fitting 5 folds for each of 150 candidates, totalling 750 fits\n"
     ]
    },
    {
     "name": "stderr",
     "output_type": "stream",
     "text": [
      "[Parallel(n_jobs=6)]: Using backend LokyBackend with 6 concurrent workers.\n",
      "[Parallel(n_jobs=6)]: Done  38 tasks      | elapsed:  7.9min\n",
      "[Parallel(n_jobs=6)]: Done 188 tasks      | elapsed: 27.1min\n",
      "[Parallel(n_jobs=6)]: Done 438 tasks      | elapsed: 59.6min\n",
      "[Parallel(n_jobs=6)]: Done 750 out of 750 | elapsed: 102.7min finished\n"
     ]
    },
    {
     "name": "stdout",
     "output_type": "stream",
     "text": [
      "\n",
      "Best score for Random Forest with _chi2 dataset: 0.7388470622613086\n",
      "\n",
      "Best hyperparameters for Random Forest with _chi2 dataset:\n",
      "memory : None\n",
      "steps : [('clf', RandomForestRegressor(max_depth=10, max_features='sqrt', min_samples_leaf=5,\n",
      "                      min_samples_split=20, n_estimators=4000, random_state=7))]\n",
      "verbose : False\n",
      "clf : RandomForestRegressor(max_depth=10, max_features='sqrt', min_samples_leaf=5,\n",
      "                      min_samples_split=20, n_estimators=4000, random_state=7)\n",
      "clf__bootstrap : True\n",
      "clf__ccp_alpha : 0.0\n",
      "clf__criterion : mse\n",
      "clf__max_depth : 10\n",
      "clf__max_features : sqrt\n",
      "clf__max_leaf_nodes : None\n",
      "clf__max_samples : None\n",
      "clf__min_impurity_decrease : 0.0\n",
      "clf__min_impurity_split : None\n",
      "clf__min_samples_leaf : 5\n",
      "clf__min_samples_split : 20\n",
      "clf__min_weight_fraction_leaf : 0.0\n",
      "clf__n_estimators : 4000\n",
      "clf__n_jobs : None\n",
      "clf__oob_score : False\n",
      "clf__random_state : 7\n",
      "clf__verbose : 0\n",
      "clf__warm_start : False\n",
      "\n",
      "Prediction scores for Random Forest using _chi2 :\n",
      "Mean Squared error: 4.911368578260646\n",
      "Mean Absolute error: 1.407860626861064\n",
      "R^2: 0.7480347406811876\n"
     ]
    }
   ],
   "source": [
    "chi2_model, chi2_train_score, chi2_mse, chi2_mae, chi2_r2 = get_best_model(sel_methods[1], args, num_folds, is_sample)"
   ]
  },
  {
   "cell_type": "code",
   "execution_count": 33,
   "metadata": {},
   "outputs": [],
   "source": [
    "#alpha and impurity dont affect outcome, attempt to fine tune other hyperparameters\n",
    "is_sample = False\n",
    "num_folds = 10\n",
    "args = {'clf__criterion':(['mse']),\n",
    "        'clf__n_estimators':(3800,3900,4000,4100,4200),\n",
    "        'clf__min_samples_split':(18,19,20,21,22),\n",
    "        'clf__max_depth': (8,9,10,11,12),\n",
    "        'clf__min_samples_leaf':(3,4,5,6,7),\n",
    "        'clf__max_features':(['sqrt']),\n",
    "        'clf__random_state':([7])}"
   ]
  },
  {
   "cell_type": "code",
   "execution_count": null,
   "metadata": {},
   "outputs": [
    {
     "name": "stdout",
     "output_type": "stream",
     "text": [
      "\n",
      "\n",
      "Running cross fold validation for Random Forest with _chi2 dataset\n",
      "Fitting 10 folds for each of 625 candidates, totalling 6250 fits\n"
     ]
    },
    {
     "name": "stderr",
     "output_type": "stream",
     "text": [
      "[Parallel(n_jobs=6)]: Using backend LokyBackend with 6 concurrent workers.\n",
      "[Parallel(n_jobs=6)]: Done  38 tasks      | elapsed: 10.4min\n",
      "[Parallel(n_jobs=6)]: Done 188 tasks      | elapsed: 44.8min\n",
      "[Parallel(n_jobs=6)]: Done 438 tasks      | elapsed: 104.7min\n",
      "[Parallel(n_jobs=6)]: Done 788 tasks      | elapsed: 184.0min\n",
      "[Parallel(n_jobs=6)]: Done 1238 tasks      | elapsed: 279.8min\n",
      "[Parallel(n_jobs=6)]: Done 1788 tasks      | elapsed: 403.4min\n",
      "[Parallel(n_jobs=6)]: Done 2438 tasks      | elapsed: 546.3min\n",
      "[Parallel(n_jobs=6)]: Done 3188 tasks      | elapsed: 720.8min\n",
      "[Parallel(n_jobs=6)]: Done 4038 tasks      | elapsed: 926.6min\n",
      "[Parallel(n_jobs=6)]: Done 4988 tasks      | elapsed: 1175.7min\n"
     ]
    }
   ],
   "source": [
    "chi2_model, chi2_train_score, chi2_mse, chi2_mae, chi2_r2 = get_best_model(sel_methods[1], args, num_folds, is_sample)"
   ]
  },
  {
   "cell_type": "code",
   "execution_count": 62,
   "metadata": {},
   "outputs": [],
   "source": [
    "save_model(chi2_model,sel_methods[1])"
   ]
  },
  {
   "cell_type": "markdown",
   "metadata": {},
   "source": [
    "<h3>AdaBoost feature selected dataset<h3>"
   ]
  },
  {
   "cell_type": "code",
   "execution_count": 12,
   "metadata": {},
   "outputs": [],
   "source": [
    "is_sample = True\n",
    "num_folds = 5\n",
    "args = {'clf__criterion':('mse','mae'),\n",
    "        'clf__n_estimators':(100,500,1000),\n",
    "        'clf__min_samples_split':(2,5,10),\n",
    "        'clf__max_depth': (10,20,30),\n",
    "        'clf__min_samples_leaf':(2,5,10),\n",
    "        'clf__max_features':('sqrt','log2'),\n",
    "        'clf__random_state':([7])}"
   ]
  },
  {
   "cell_type": "code",
   "execution_count": 13,
   "metadata": {},
   "outputs": [
    {
     "name": "stdout",
     "output_type": "stream",
     "text": [
      "\n",
      "\n",
      "Running cross fold validation for Random Forest with _adaboost dataset\n",
      "Fitting 5 folds for each of 324 candidates, totalling 1620 fits\n"
     ]
    },
    {
     "name": "stderr",
     "output_type": "stream",
     "text": [
      "[Parallel(n_jobs=6)]: Using backend LokyBackend with 6 concurrent workers.\n",
      "[Parallel(n_jobs=6)]: Done  38 tasks      | elapsed:   18.7s\n",
      "[Parallel(n_jobs=6)]: Done 188 tasks      | elapsed:  1.6min\n",
      "[Parallel(n_jobs=6)]: Done 438 tasks      | elapsed:  4.2min\n",
      "[Parallel(n_jobs=6)]: Done 788 tasks      | elapsed:  8.0min\n",
      "[Parallel(n_jobs=6)]: Done 1238 tasks      | elapsed: 188.3min\n",
      "[Parallel(n_jobs=6)]: Done 1620 out of 1620 | elapsed: 360.6min finished\n"
     ]
    },
    {
     "name": "stdout",
     "output_type": "stream",
     "text": [
      "\n",
      "Best score for Random Forest with _adaboost dataset: 0.7534699077776505\n",
      "\n",
      "Best hyperparameters for Random Forest with _adaboost dataset:\n",
      "memory : None\n",
      "steps : [('clf', RandomForestRegressor(max_depth=20, max_features='sqrt', min_samples_leaf=10,\n",
      "                      random_state=7))]\n",
      "verbose : False\n",
      "clf : RandomForestRegressor(max_depth=20, max_features='sqrt', min_samples_leaf=10,\n",
      "                      random_state=7)\n",
      "clf__bootstrap : True\n",
      "clf__ccp_alpha : 0.0\n",
      "clf__criterion : mse\n",
      "clf__max_depth : 20\n",
      "clf__max_features : sqrt\n",
      "clf__max_leaf_nodes : None\n",
      "clf__max_samples : None\n",
      "clf__min_impurity_decrease : 0.0\n",
      "clf__min_impurity_split : None\n",
      "clf__min_samples_leaf : 10\n",
      "clf__min_samples_split : 2\n",
      "clf__min_weight_fraction_leaf : 0.0\n",
      "clf__n_estimators : 100\n",
      "clf__n_jobs : None\n",
      "clf__oob_score : False\n",
      "clf__random_state : 7\n",
      "clf__verbose : 0\n",
      "clf__warm_start : False\n",
      "\n",
      "Prediction scores for Random Forest using _adaboost :\n",
      "Mean Squared error: 4.92464308363576\n",
      "Mean Absolute error: 1.3942635864105912\n",
      "R^2: 0.7473537259831715\n"
     ]
    }
   ],
   "source": [
    "ada_model, ada_train_score, ada_mse, ada_mae, ada_r2 = get_best_model(sel_methods[2], args, num_folds, is_sample)"
   ]
  },
  {
   "cell_type": "code",
   "execution_count": 8,
   "metadata": {},
   "outputs": [],
   "source": [
    "is_sample = True\n",
    "num_folds = 5\n",
    "args = {'clf__criterion':('mse','mae'),\n",
    "        'clf__n_estimators':(50,100,150),\n",
    "        'clf__min_samples_split':(2,5,10),\n",
    "        'clf__max_depth': (10,20,30),\n",
    "        'clf__min_samples_leaf':(2,5,10,20),\n",
    "        'clf__max_features':('sqrt','log2'),\n",
    "        'clf__random_state':([7])}"
   ]
  },
  {
   "cell_type": "code",
   "execution_count": 9,
   "metadata": {},
   "outputs": [
    {
     "name": "stdout",
     "output_type": "stream",
     "text": [
      "\n",
      "\n",
      "Running cross fold validation for Random Forest with _adaboost dataset\n",
      "Fitting 5 folds for each of 432 candidates, totalling 2160 fits\n"
     ]
    },
    {
     "name": "stderr",
     "output_type": "stream",
     "text": [
      "[Parallel(n_jobs=6)]: Using backend LokyBackend with 6 concurrent workers.\n",
      "[Parallel(n_jobs=6)]: Done  38 tasks      | elapsed:    5.1s\n",
      "[Parallel(n_jobs=6)]: Done 188 tasks      | elapsed:   19.4s\n",
      "[Parallel(n_jobs=6)]: Done 438 tasks      | elapsed:   46.7s\n",
      "[Parallel(n_jobs=6)]: Done 788 tasks      | elapsed:  1.5min\n",
      "[Parallel(n_jobs=6)]: Done 1238 tasks      | elapsed: 14.9min\n",
      "[Parallel(n_jobs=6)]: Done 1788 tasks      | elapsed: 60.7min\n",
      "[Parallel(n_jobs=6)]: Done 2160 out of 2160 | elapsed: 91.2min finished\n"
     ]
    },
    {
     "name": "stdout",
     "output_type": "stream",
     "text": [
      "\n",
      "Best score for Random Forest with _adaboost dataset: 0.7536951351693331\n",
      "\n",
      "Best hyperparameters for Random Forest with _adaboost dataset:\n",
      "memory : None\n",
      "steps : [('clf', RandomForestRegressor(max_depth=10, max_features='sqrt', min_samples_leaf=10,\n",
      "                      n_estimators=150, random_state=7))]\n",
      "verbose : False\n",
      "clf : RandomForestRegressor(max_depth=10, max_features='sqrt', min_samples_leaf=10,\n",
      "                      n_estimators=150, random_state=7)\n",
      "clf__bootstrap : True\n",
      "clf__ccp_alpha : 0.0\n",
      "clf__criterion : mse\n",
      "clf__max_depth : 10\n",
      "clf__max_features : sqrt\n",
      "clf__max_leaf_nodes : None\n",
      "clf__max_samples : None\n",
      "clf__min_impurity_decrease : 0.0\n",
      "clf__min_impurity_split : None\n",
      "clf__min_samples_leaf : 10\n",
      "clf__min_samples_split : 2\n",
      "clf__min_weight_fraction_leaf : 0.0\n",
      "clf__n_estimators : 150\n",
      "clf__n_jobs : None\n",
      "clf__oob_score : False\n",
      "clf__random_state : 7\n",
      "clf__verbose : 0\n",
      "clf__warm_start : False\n",
      "\n",
      "Prediction scores for Random Forest using _adaboost :\n",
      "Mean Squared error: 4.913666041164316\n",
      "Mean Absolute error: 1.3968537523177502\n",
      "R^2: 0.7479168751968375\n"
     ]
    }
   ],
   "source": [
    "ada_model, ada_train_score, ada_mse, ada_mae, ada_r2 = get_best_model(sel_methods[2], args, num_folds, is_sample)"
   ]
  },
  {
   "cell_type": "code",
   "execution_count": 17,
   "metadata": {},
   "outputs": [],
   "source": [
    "#explore impurity decrease and alpha\n",
    "is_sample = True\n",
    "num_folds = 5\n",
    "args = {'clf__criterion':(['mse']),\n",
    "        'clf__n_estimators':(150,200),\n",
    "        'clf__min_samples_split':(2,5),\n",
    "        'clf__max_depth': (10,20),\n",
    "        'clf__min_samples_leaf':(5,10,20),\n",
    "        'clf__max_features':(['sqrt']),\n",
    "        'clf__random_state':([7]),\n",
    "        'clf__min_impurity_decrease':(arange(0,1,0.2)),\n",
    "        'clf__ccp_alpha':(arange(0,1,0.2))}"
   ]
  },
  {
   "cell_type": "code",
   "execution_count": 18,
   "metadata": {},
   "outputs": [
    {
     "name": "stdout",
     "output_type": "stream",
     "text": [
      "\n",
      "\n",
      "Running cross fold validation for Random Forest with _adaboost dataset\n",
      "Fitting 5 folds for each of 600 candidates, totalling 3000 fits\n"
     ]
    },
    {
     "name": "stderr",
     "output_type": "stream",
     "text": [
      "[Parallel(n_jobs=6)]: Using backend LokyBackend with 6 concurrent workers.\n",
      "[Parallel(n_jobs=6)]: Done  38 tasks      | elapsed:    6.9s\n",
      "[Parallel(n_jobs=6)]: Done 188 tasks      | elapsed:   22.1s\n",
      "[Parallel(n_jobs=6)]: Done 438 tasks      | elapsed:   51.8s\n",
      "[Parallel(n_jobs=6)]: Done 788 tasks      | elapsed:  1.5min\n",
      "[Parallel(n_jobs=6)]: Done 1238 tasks      | elapsed:  2.3min\n",
      "[Parallel(n_jobs=6)]: Done 1788 tasks      | elapsed:  3.3min\n",
      "[Parallel(n_jobs=6)]: Done 2438 tasks      | elapsed:  4.5min\n",
      "[Parallel(n_jobs=6)]: Done 3000 out of 3000 | elapsed:  5.5min finished\n"
     ]
    },
    {
     "name": "stdout",
     "output_type": "stream",
     "text": [
      "\n",
      "Best score for Random Forest with _adaboost dataset: 0.7536951351693331\n",
      "\n",
      "Best hyperparameters for Random Forest with _adaboost dataset:\n",
      "memory : None\n",
      "steps : [('clf', RandomForestRegressor(max_depth=10, max_features='sqrt', min_samples_leaf=10,\n",
      "                      n_estimators=150, random_state=7))]\n",
      "verbose : False\n",
      "clf : RandomForestRegressor(max_depth=10, max_features='sqrt', min_samples_leaf=10,\n",
      "                      n_estimators=150, random_state=7)\n",
      "clf__bootstrap : True\n",
      "clf__ccp_alpha : 0.0\n",
      "clf__criterion : mse\n",
      "clf__max_depth : 10\n",
      "clf__max_features : sqrt\n",
      "clf__max_leaf_nodes : None\n",
      "clf__max_samples : None\n",
      "clf__min_impurity_decrease : 0.0\n",
      "clf__min_impurity_split : None\n",
      "clf__min_samples_leaf : 10\n",
      "clf__min_samples_split : 2\n",
      "clf__min_weight_fraction_leaf : 0.0\n",
      "clf__n_estimators : 150\n",
      "clf__n_jobs : None\n",
      "clf__oob_score : False\n",
      "clf__random_state : 7\n",
      "clf__verbose : 0\n",
      "clf__warm_start : False\n",
      "\n",
      "Prediction scores for Random Forest using _adaboost :\n",
      "Mean Squared error: 4.913666041164316\n",
      "Mean Absolute error: 1.3968537523177502\n",
      "R^2: 0.7479168751968375\n"
     ]
    }
   ],
   "source": [
    "ada_model, ada_train_score, ada_mse, ada_mae, ada_r2 = get_best_model(sel_methods[2], args, num_folds, is_sample)"
   ]
  },
  {
   "cell_type": "code",
   "execution_count": null,
   "metadata": {},
   "outputs": [],
   "source": [
    "#alpha and impurity dont affect outcome, attempt to fine tune other hyperparameters\n",
    "is_sample = False\n",
    "num_folds = 10\n",
    "args = {'clf__criterion':(['mse']),\n",
    "        'clf__n_estimators':(130,140,150,160,170),\n",
    "        'clf__min_samples_split':(2,3,4,5),\n",
    "        'clf__max_depth': (8,9,10,11,12),\n",
    "        'clf__min_samples_leaf':(8,9,10,11,12),\n",
    "        'clf__max_features':(['sqrt']),\n",
    "        'clf__random_state':([7])}"
   ]
  },
  {
   "cell_type": "code",
   "execution_count": null,
   "metadata": {},
   "outputs": [],
   "source": [
    "ada_model, ada_train_score, ada_mse, ada_mae, ada_r2 = get_best_model(sel_methods[2], args, num_folds, is_sample)"
   ]
  },
  {
   "cell_type": "code",
   "execution_count": null,
   "metadata": {},
   "outputs": [],
   "source": []
  },
  {
   "cell_type": "code",
   "execution_count": null,
   "metadata": {},
   "outputs": [],
   "source": []
  },
  {
   "cell_type": "code",
   "execution_count": 63,
   "metadata": {},
   "outputs": [],
   "source": [
    "save_model(ada_model,sel_methods[2])"
   ]
  },
  {
   "cell_type": "markdown",
   "metadata": {},
   "source": [
    "<h3>Equal business and crime feature selected dataset<h3>"
   ]
  },
  {
   "cell_type": "code",
   "execution_count": 14,
   "metadata": {},
   "outputs": [],
   "source": [
    "is_sample = True\n",
    "num_folds = 5\n",
    "args = {'clf__criterion':('mse','mae'),\n",
    "        'clf__n_estimators':(100,500,1000),\n",
    "        'clf__min_samples_split':(2,5,10),\n",
    "        'clf__max_depth': (10,20,30),\n",
    "        'clf__min_samples_leaf':(2,5,10),\n",
    "        'clf__max_features':('sqrt','log2'),\n",
    "        'clf__random_state':([7])}"
   ]
  },
  {
   "cell_type": "code",
   "execution_count": 15,
   "metadata": {},
   "outputs": [
    {
     "name": "stdout",
     "output_type": "stream",
     "text": [
      "\n",
      "\n",
      "Running cross fold validation for Random Forest with _equal_crime_and_business dataset\n",
      "Fitting 5 folds for each of 324 candidates, totalling 1620 fits\n"
     ]
    },
    {
     "name": "stderr",
     "output_type": "stream",
     "text": [
      "[Parallel(n_jobs=6)]: Using backend LokyBackend with 6 concurrent workers.\n",
      "[Parallel(n_jobs=6)]: Done  38 tasks      | elapsed:   19.8s\n",
      "[Parallel(n_jobs=6)]: Done 188 tasks      | elapsed:  1.6min\n",
      "[Parallel(n_jobs=6)]: Done 438 tasks      | elapsed:  4.3min\n",
      "[Parallel(n_jobs=6)]: Done 788 tasks      | elapsed:  8.3min\n",
      "[Parallel(n_jobs=6)]: Done 1238 tasks      | elapsed: 200.8min\n",
      "[Parallel(n_jobs=6)]: Done 1620 out of 1620 | elapsed: 386.1min finished\n"
     ]
    },
    {
     "name": "stdout",
     "output_type": "stream",
     "text": [
      "\n",
      "Best score for Random Forest with _equal_crime_and_business dataset: 0.7445835567793088\n",
      "\n",
      "Best hyperparameters for Random Forest with _equal_crime_and_business dataset:\n",
      "memory : None\n",
      "steps : [('clf', RandomForestRegressor(max_depth=10, max_features='sqrt', min_samples_leaf=10,\n",
      "                      n_estimators=500, random_state=7))]\n",
      "verbose : False\n",
      "clf : RandomForestRegressor(max_depth=10, max_features='sqrt', min_samples_leaf=10,\n",
      "                      n_estimators=500, random_state=7)\n",
      "clf__bootstrap : True\n",
      "clf__ccp_alpha : 0.0\n",
      "clf__criterion : mse\n",
      "clf__max_depth : 10\n",
      "clf__max_features : sqrt\n",
      "clf__max_leaf_nodes : None\n",
      "clf__max_samples : None\n",
      "clf__min_impurity_decrease : 0.0\n",
      "clf__min_impurity_split : None\n",
      "clf__min_samples_leaf : 10\n",
      "clf__min_samples_split : 2\n",
      "clf__min_weight_fraction_leaf : 0.0\n",
      "clf__n_estimators : 500\n",
      "clf__n_jobs : None\n",
      "clf__oob_score : False\n",
      "clf__random_state : 7\n",
      "clf__verbose : 0\n",
      "clf__warm_start : False\n",
      "\n",
      "Prediction scores for Random Forest using _equal_crime_and_business :\n",
      "Mean Squared error: 4.980095444334913\n",
      "Mean Absolute error: 1.414365723940434\n",
      "R^2: 0.7445088838132623\n"
     ]
    }
   ],
   "source": [
    "equal_model, equal_train_score, equal_mse, equal_mae, equal_r2 = get_best_model(sel_methods[3], args, num_folds, is_sample)"
   ]
  },
  {
   "cell_type": "code",
   "execution_count": 19,
   "metadata": {},
   "outputs": [],
   "source": [
    "#explore impurity decrease and alpha\n",
    "is_sample = True\n",
    "num_folds = 5\n",
    "args = {'clf__criterion':(['mse']),\n",
    "        'clf__n_estimators':(400,500,600),\n",
    "        'clf__min_samples_split':(2,5),\n",
    "        'clf__max_depth': (10,20),\n",
    "        'clf__min_samples_leaf':(10,20),\n",
    "        'clf__max_features':(['sqrt']),\n",
    "        'clf__random_state':([7]),\n",
    "        'clf__min_impurity_decrease':(arange(0,1,0.2)),\n",
    "        'clf__ccp_alpha':(arange(0,1,0.2))}"
   ]
  },
  {
   "cell_type": "code",
   "execution_count": 20,
   "metadata": {},
   "outputs": [
    {
     "name": "stdout",
     "output_type": "stream",
     "text": [
      "\n",
      "\n",
      "Running cross fold validation for Random Forest with _equal_crime_and_business dataset\n",
      "Fitting 5 folds for each of 600 candidates, totalling 3000 fits\n"
     ]
    },
    {
     "name": "stderr",
     "output_type": "stream",
     "text": [
      "[Parallel(n_jobs=6)]: Using backend LokyBackend with 6 concurrent workers.\n",
      "[Parallel(n_jobs=6)]: Done  38 tasks      | elapsed:   18.8s\n",
      "[Parallel(n_jobs=6)]: Done 188 tasks      | elapsed:  1.0min\n",
      "[Parallel(n_jobs=6)]: Done 438 tasks      | elapsed:  2.4min\n",
      "[Parallel(n_jobs=6)]: Done 788 tasks      | elapsed:  4.1min\n",
      "[Parallel(n_jobs=6)]: Done 1238 tasks      | elapsed:  6.4min\n",
      "[Parallel(n_jobs=6)]: Done 1788 tasks      | elapsed:  9.2min\n",
      "[Parallel(n_jobs=6)]: Done 2438 tasks      | elapsed: 12.6min\n",
      "[Parallel(n_jobs=6)]: Done 3000 out of 3000 | elapsed: 15.4min finished\n"
     ]
    },
    {
     "name": "stdout",
     "output_type": "stream",
     "text": [
      "\n",
      "Best score for Random Forest with _equal_crime_and_business dataset: 0.7446844125063732\n",
      "\n",
      "Best hyperparameters for Random Forest with _equal_crime_and_business dataset:\n",
      "memory : None\n",
      "steps : [('clf', RandomForestRegressor(max_depth=10, max_features='sqrt', min_samples_leaf=10,\n",
      "                      n_estimators=600, random_state=7))]\n",
      "verbose : False\n",
      "clf : RandomForestRegressor(max_depth=10, max_features='sqrt', min_samples_leaf=10,\n",
      "                      n_estimators=600, random_state=7)\n",
      "clf__bootstrap : True\n",
      "clf__ccp_alpha : 0.0\n",
      "clf__criterion : mse\n",
      "clf__max_depth : 10\n",
      "clf__max_features : sqrt\n",
      "clf__max_leaf_nodes : None\n",
      "clf__max_samples : None\n",
      "clf__min_impurity_decrease : 0.0\n",
      "clf__min_impurity_split : None\n",
      "clf__min_samples_leaf : 10\n",
      "clf__min_samples_split : 2\n",
      "clf__min_weight_fraction_leaf : 0.0\n",
      "clf__n_estimators : 600\n",
      "clf__n_jobs : None\n",
      "clf__oob_score : False\n",
      "clf__random_state : 7\n",
      "clf__verbose : 0\n",
      "clf__warm_start : False\n",
      "\n",
      "Prediction scores for Random Forest using _equal_crime_and_business :\n",
      "Mean Squared error: 4.9790767212003395\n",
      "Mean Absolute error: 1.4143439500312733\n",
      "R^2: 0.7445611468097545\n"
     ]
    }
   ],
   "source": [
    "equal_model, equal_train_score, equal_mse, equal_mae, equal_r2 = get_best_model(sel_methods[3], args, num_folds, is_sample)"
   ]
  },
  {
   "cell_type": "code",
   "execution_count": null,
   "metadata": {},
   "outputs": [],
   "source": [
    "#alpha and impurity dont affect outcome, attempt to fine tune other hyperparameters\n",
    "is_sample = False\n",
    "num_folds = 10\n",
    "args = {'clf__criterion':(['mse']),\n",
    "        'clf__n_estimators':(600,700,800),\n",
    "        'clf__min_samples_split':(2,3,4,5),\n",
    "        'clf__max_depth': (8,9,10,11,12),\n",
    "        'clf__min_samples_leaf':(8,9,10,11,12),\n",
    "        'clf__max_features':(['sqrt']),\n",
    "        'clf__random_state':([7])}"
   ]
  },
  {
   "cell_type": "code",
   "execution_count": null,
   "metadata": {},
   "outputs": [],
   "source": [
    "equal_model, equal_train_score, equal_mse, equal_mae, equal_r2 = get_best_model(sel_methods[3], args, num_folds, is_sample)"
   ]
  },
  {
   "cell_type": "code",
   "execution_count": null,
   "metadata": {},
   "outputs": [],
   "source": []
  },
  {
   "cell_type": "code",
   "execution_count": null,
   "metadata": {},
   "outputs": [],
   "source": []
  },
  {
   "cell_type": "code",
   "execution_count": 64,
   "metadata": {},
   "outputs": [],
   "source": [
    "save_model(equal_model,sel_methods[3])"
   ]
  },
  {
   "cell_type": "markdown",
   "metadata": {},
   "source": [
    "<h3>Business only feature selected dataset<h3>"
   ]
  },
  {
   "cell_type": "code",
   "execution_count": 9,
   "metadata": {},
   "outputs": [],
   "source": [
    "is_sample = True\n",
    "num_folds = 5\n",
    "args = {'clf__criterion':('mse','mae'),\n",
    "        'clf__n_estimators':(100,500,1000),\n",
    "        'clf__min_samples_split':(2,5,10),\n",
    "        'clf__max_depth': (10,20,30),\n",
    "        'clf__min_samples_leaf':(2,5,10),\n",
    "        'clf__max_features':('sqrt','log2'),\n",
    "        'clf__random_state':([7])}"
   ]
  },
  {
   "cell_type": "code",
   "execution_count": 10,
   "metadata": {},
   "outputs": [
    {
     "name": "stdout",
     "output_type": "stream",
     "text": [
      "\n",
      "\n",
      "Running cross fold validation for Random Forest with _all_business dataset\n",
      "Fitting 5 folds for each of 324 candidates, totalling 1620 fits\n"
     ]
    },
    {
     "name": "stderr",
     "output_type": "stream",
     "text": [
      "[Parallel(n_jobs=6)]: Using backend LokyBackend with 6 concurrent workers.\n",
      "[Parallel(n_jobs=6)]: Done  38 tasks      | elapsed:   19.5s\n",
      "[Parallel(n_jobs=6)]: Done 188 tasks      | elapsed:  1.5min\n",
      "[Parallel(n_jobs=6)]: Done 438 tasks      | elapsed:  3.9min\n",
      "[Parallel(n_jobs=6)]: Done 788 tasks      | elapsed:  7.4min\n",
      "[Parallel(n_jobs=6)]: Done 1238 tasks      | elapsed: 168.1min\n",
      "[Parallel(n_jobs=6)]: Done 1620 out of 1620 | elapsed: 320.7min finished\n"
     ]
    },
    {
     "name": "stdout",
     "output_type": "stream",
     "text": [
      "\n",
      "Best score for Random Forest with _all_business dataset: 0.6399794950677886\n",
      "\n",
      "Best hyperparameters for Random Forest with _all_business dataset:\n",
      "memory : None\n",
      "steps : [('clf', RandomForestRegressor(max_depth=20, max_features='sqrt', min_samples_leaf=2,\n",
      "                      min_samples_split=5, n_estimators=1000, random_state=7))]\n",
      "verbose : False\n",
      "clf : RandomForestRegressor(max_depth=20, max_features='sqrt', min_samples_leaf=2,\n",
      "                      min_samples_split=5, n_estimators=1000, random_state=7)\n",
      "clf__bootstrap : True\n",
      "clf__ccp_alpha : 0.0\n",
      "clf__criterion : mse\n",
      "clf__max_depth : 20\n",
      "clf__max_features : sqrt\n",
      "clf__max_leaf_nodes : None\n",
      "clf__max_samples : None\n",
      "clf__min_impurity_decrease : 0.0\n",
      "clf__min_impurity_split : None\n",
      "clf__min_samples_leaf : 2\n",
      "clf__min_samples_split : 5\n",
      "clf__min_weight_fraction_leaf : 0.0\n",
      "clf__n_estimators : 1000\n",
      "clf__n_jobs : None\n",
      "clf__oob_score : False\n",
      "clf__random_state : 7\n",
      "clf__verbose : 0\n",
      "clf__warm_start : False\n",
      "\n",
      "Prediction scores for Random Forest using _all_business :\n",
      "Mean Squared error: 6.777336459818609\n",
      "Mean Absolute error: 1.5899655366823306\n",
      "R^2: 0.6523060097448844\n"
     ]
    }
   ],
   "source": [
    "bus_model, bus_train_score, bus_mse, bus_mae, bus_r2 = get_best_model(sel_methods[4], args, num_folds, is_sample)"
   ]
  },
  {
   "cell_type": "code",
   "execution_count": 24,
   "metadata": {},
   "outputs": [],
   "source": [
    "is_sample = True\n",
    "num_folds = 5\n",
    "args = {'clf__criterion':(['mse']),\n",
    "        'clf__n_estimators':(1000,1500,2000,2500),\n",
    "        'clf__min_samples_split':(2,5,10),\n",
    "        'clf__max_depth': (10,20,30),\n",
    "        'clf__min_samples_leaf':(2,5,10),\n",
    "        'clf__max_features':(['sqrt']),\n",
    "        'clf__random_state':([7])}"
   ]
  },
  {
   "cell_type": "code",
   "execution_count": 25,
   "metadata": {},
   "outputs": [
    {
     "name": "stdout",
     "output_type": "stream",
     "text": [
      "\n",
      "\n",
      "Running cross fold validation for Random Forest with _all_business dataset\n",
      "Fitting 5 folds for each of 108 candidates, totalling 540 fits\n"
     ]
    },
    {
     "name": "stderr",
     "output_type": "stream",
     "text": [
      "[Parallel(n_jobs=6)]: Using backend LokyBackend with 6 concurrent workers.\n",
      "[Parallel(n_jobs=6)]: Done  38 tasks      | elapsed:  1.0min\n",
      "[Parallel(n_jobs=6)]: Done 188 tasks      | elapsed:  4.6min\n",
      "[Parallel(n_jobs=6)]: Done 438 tasks      | elapsed: 13.2min\n",
      "[Parallel(n_jobs=6)]: Done 540 out of 540 | elapsed: 16.4min finished\n"
     ]
    },
    {
     "name": "stdout",
     "output_type": "stream",
     "text": [
      "\n",
      "Best score for Random Forest with _all_business dataset: 0.6402218891338787\n",
      "\n",
      "Best hyperparameters for Random Forest with _all_business dataset:\n",
      "memory : None\n",
      "steps : [('clf', RandomForestRegressor(max_depth=20, max_features='sqrt', min_samples_leaf=2,\n",
      "                      n_estimators=2000, random_state=7))]\n",
      "verbose : False\n",
      "clf : RandomForestRegressor(max_depth=20, max_features='sqrt', min_samples_leaf=2,\n",
      "                      n_estimators=2000, random_state=7)\n",
      "clf__bootstrap : True\n",
      "clf__ccp_alpha : 0.0\n",
      "clf__criterion : mse\n",
      "clf__max_depth : 20\n",
      "clf__max_features : sqrt\n",
      "clf__max_leaf_nodes : None\n",
      "clf__max_samples : None\n",
      "clf__min_impurity_decrease : 0.0\n",
      "clf__min_impurity_split : None\n",
      "clf__min_samples_leaf : 2\n",
      "clf__min_samples_split : 2\n",
      "clf__min_weight_fraction_leaf : 0.0\n",
      "clf__n_estimators : 2000\n",
      "clf__n_jobs : None\n",
      "clf__oob_score : False\n",
      "clf__random_state : 7\n",
      "clf__verbose : 0\n",
      "clf__warm_start : False\n",
      "\n",
      "Prediction scores for Random Forest using _all_business :\n",
      "Mean Squared error: 6.742075937800399\n",
      "Mean Absolute error: 1.5864267050697596\n",
      "R^2: 0.6541149610448052\n"
     ]
    }
   ],
   "source": [
    "bus_model, bus_train_score, bus_mse, bus_mae, bus_r2 = get_best_model(sel_methods[4], args, num_folds, is_sample)"
   ]
  },
  {
   "cell_type": "code",
   "execution_count": null,
   "metadata": {},
   "outputs": [],
   "source": [
    "# explore alpha and min impurity\n",
    "is_sample = True\n",
    "num_folds = 5\n",
    "args = {'clf__criterion':(['mse']),\n",
    "        'clf__n_estimators':(1500,2000,2500),\n",
    "        'clf__min_samples_split':(2,5),\n",
    "        'clf__max_depth': (10,20,30),\n",
    "        'clf__min_samples_leaf':(2,5),\n",
    "        'clf__max_features':(['sqrt']),\n",
    "        'clf__random_state':([7]),\n",
    "        'clf__min_impurity_decrease':(arange(0,1,0.2)),\n",
    "        'clf__ccp_alpha':(arange(0,1,0.2))}"
   ]
  },
  {
   "cell_type": "code",
   "execution_count": null,
   "metadata": {},
   "outputs": [],
   "source": [
    "bus_model, bus_train_score, bus_mse, bus_mae, bus_r2 = get_best_model(sel_methods[4], args, num_folds, is_sample)"
   ]
  },
  {
   "cell_type": "code",
   "execution_count": null,
   "metadata": {},
   "outputs": [],
   "source": []
  },
  {
   "cell_type": "code",
   "execution_count": null,
   "metadata": {},
   "outputs": [],
   "source": []
  },
  {
   "cell_type": "code",
   "execution_count": 65,
   "metadata": {},
   "outputs": [],
   "source": [
    "save_model(bus_model,sel_methods[4])"
   ]
  },
  {
   "cell_type": "markdown",
   "metadata": {},
   "source": [
    "<h3>Visualise scores<h3>"
   ]
  },
  {
   "cell_type": "code",
   "execution_count": 70,
   "metadata": {},
   "outputs": [],
   "source": [
    "training_scores = [f_reg_train_score, chi2_train_score, ada_train_score, equal_train_score, bus_train_score]\n",
    "mse_scores = [f_reg_mse, chi2_mse, ada_mse, equal_mse, bus_mse]\n",
    "mae_scores = [f_reg_mae, chi2_mae, ada_mae, equal_mae, bus_mae]\n",
    "r2_scores = [f_reg_r2, chi2_r2, ada_r2, equal_r2, bus_r2]\n",
    "datasets = [\"F-Regression\",\"Chi-Squared\",\"AdaBoost\",\"Equal Business\\nand Crime\",\"All Business\"]\n",
    "y_select = np.arange(len(datasets))"
   ]
  },
  {
   "cell_type": "code",
   "execution_count": 10,
   "metadata": {
    "scrolled": true
   },
   "outputs": [
    {
     "ename": "NameError",
     "evalue": "name 'plt' is not defined",
     "output_type": "error",
     "traceback": [
      "\u001b[1;31m---------------------------------------------------------------------------\u001b[0m",
      "\u001b[1;31mNameError\u001b[0m                                 Traceback (most recent call last)",
      "\u001b[1;32m<ipython-input-10-b81721c760ea>\u001b[0m in \u001b[0;36m<module>\u001b[1;34m\u001b[0m\n\u001b[1;32m----> 1\u001b[1;33m \u001b[0mplt\u001b[0m\u001b[1;33m.\u001b[0m\u001b[0mfigure\u001b[0m\u001b[1;33m(\u001b[0m\u001b[0mfigsize\u001b[0m \u001b[1;33m=\u001b[0m \u001b[1;33m(\u001b[0m\u001b[1;36m10\u001b[0m\u001b[1;33m,\u001b[0m\u001b[1;36m10\u001b[0m\u001b[1;33m)\u001b[0m\u001b[1;33m)\u001b[0m\u001b[1;33m\u001b[0m\u001b[1;33m\u001b[0m\u001b[0m\n\u001b[0m\u001b[0;32m      2\u001b[0m \u001b[0mplt\u001b[0m\u001b[1;33m.\u001b[0m\u001b[0mxticks\u001b[0m\u001b[1;33m(\u001b[0m\u001b[0my_select\u001b[0m\u001b[1;33m,\u001b[0m\u001b[0mdatasets\u001b[0m\u001b[1;33m)\u001b[0m\u001b[1;33m\u001b[0m\u001b[1;33m\u001b[0m\u001b[0m\n\u001b[0;32m      3\u001b[0m \u001b[0mplt\u001b[0m\u001b[1;33m.\u001b[0m\u001b[0mtitle\u001b[0m\u001b[1;33m(\u001b[0m\u001b[1;34m\"Decision tree training score\"\u001b[0m\u001b[1;33m)\u001b[0m\u001b[1;33m\u001b[0m\u001b[1;33m\u001b[0m\u001b[0m\n\u001b[0;32m      4\u001b[0m \u001b[0mplt\u001b[0m\u001b[1;33m.\u001b[0m\u001b[0mxlabel\u001b[0m\u001b[1;33m(\u001b[0m\u001b[1;34m\"Dataset\"\u001b[0m\u001b[1;33m)\u001b[0m\u001b[1;33m\u001b[0m\u001b[1;33m\u001b[0m\u001b[0m\n\u001b[0;32m      5\u001b[0m \u001b[0mplt\u001b[0m\u001b[1;33m.\u001b[0m\u001b[0mylabel\u001b[0m\u001b[1;33m(\u001b[0m\u001b[1;34m\"Training score (r-squared)\"\u001b[0m\u001b[1;33m)\u001b[0m\u001b[1;33m\u001b[0m\u001b[1;33m\u001b[0m\u001b[0m\n",
      "\u001b[1;31mNameError\u001b[0m: name 'plt' is not defined"
     ]
    }
   ],
   "source": [
    "plt.figure(figsize = (10,10))\n",
    "plt.xticks(y_select,datasets)\n",
    "plt.title(display_name + \" training score\")\n",
    "plt.xlabel(\"Dataset\")\n",
    "plt.ylabel(\"Training score (r-squared)\")\n",
    "plt.bar(y_select, training_scores)"
   ]
  },
  {
   "cell_type": "code",
   "execution_count": 11,
   "metadata": {},
   "outputs": [
    {
     "ename": "NameError",
     "evalue": "name 'plt' is not defined",
     "output_type": "error",
     "traceback": [
      "\u001b[1;31m---------------------------------------------------------------------------\u001b[0m",
      "\u001b[1;31mNameError\u001b[0m                                 Traceback (most recent call last)",
      "\u001b[1;32m<ipython-input-11-66508d61f5b0>\u001b[0m in \u001b[0;36m<module>\u001b[1;34m\u001b[0m\n\u001b[1;32m----> 1\u001b[1;33m \u001b[0mplt\u001b[0m\u001b[1;33m.\u001b[0m\u001b[0mfigure\u001b[0m\u001b[1;33m(\u001b[0m\u001b[0mfigsize\u001b[0m \u001b[1;33m=\u001b[0m \u001b[1;33m(\u001b[0m\u001b[1;36m10\u001b[0m\u001b[1;33m,\u001b[0m\u001b[1;36m10\u001b[0m\u001b[1;33m)\u001b[0m\u001b[1;33m)\u001b[0m\u001b[1;33m\u001b[0m\u001b[1;33m\u001b[0m\u001b[0m\n\u001b[0m\u001b[0;32m      2\u001b[0m \u001b[0mplt\u001b[0m\u001b[1;33m.\u001b[0m\u001b[0mxticks\u001b[0m\u001b[1;33m(\u001b[0m\u001b[0my_select\u001b[0m\u001b[1;33m,\u001b[0m\u001b[0mdatasets\u001b[0m\u001b[1;33m)\u001b[0m\u001b[1;33m\u001b[0m\u001b[1;33m\u001b[0m\u001b[0m\n\u001b[0;32m      3\u001b[0m \u001b[0mplt\u001b[0m\u001b[1;33m.\u001b[0m\u001b[0mtitle\u001b[0m\u001b[1;33m(\u001b[0m\u001b[1;34m\"Decision tree testing mean-squared error\"\u001b[0m\u001b[1;33m)\u001b[0m\u001b[1;33m\u001b[0m\u001b[1;33m\u001b[0m\u001b[0m\n\u001b[0;32m      4\u001b[0m \u001b[0mplt\u001b[0m\u001b[1;33m.\u001b[0m\u001b[0mxlabel\u001b[0m\u001b[1;33m(\u001b[0m\u001b[1;34m\"Dataset\"\u001b[0m\u001b[1;33m)\u001b[0m\u001b[1;33m\u001b[0m\u001b[1;33m\u001b[0m\u001b[0m\n\u001b[0;32m      5\u001b[0m \u001b[0mplt\u001b[0m\u001b[1;33m.\u001b[0m\u001b[0mylabel\u001b[0m\u001b[1;33m(\u001b[0m\u001b[1;34m\"Mean-squared error\"\u001b[0m\u001b[1;33m)\u001b[0m\u001b[1;33m\u001b[0m\u001b[1;33m\u001b[0m\u001b[0m\n",
      "\u001b[1;31mNameError\u001b[0m: name 'plt' is not defined"
     ]
    }
   ],
   "source": [
    "plt.figure(figsize = (10,10))\n",
    "plt.xticks(y_select,datasets)\n",
    "plt.title(display_name + \" testing mean-squared error\")\n",
    "plt.xlabel(\"Dataset\")\n",
    "plt.ylabel(\"Mean-squared error\")\n",
    "plt.bar(y_select, mse_scores)"
   ]
  },
  {
   "cell_type": "code",
   "execution_count": 12,
   "metadata": {},
   "outputs": [
    {
     "ename": "NameError",
     "evalue": "name 'plt' is not defined",
     "output_type": "error",
     "traceback": [
      "\u001b[1;31m---------------------------------------------------------------------------\u001b[0m",
      "\u001b[1;31mNameError\u001b[0m                                 Traceback (most recent call last)",
      "\u001b[1;32m<ipython-input-12-850f28f3b4ee>\u001b[0m in \u001b[0;36m<module>\u001b[1;34m\u001b[0m\n\u001b[1;32m----> 1\u001b[1;33m \u001b[0mplt\u001b[0m\u001b[1;33m.\u001b[0m\u001b[0mfigure\u001b[0m\u001b[1;33m(\u001b[0m\u001b[0mfigsize\u001b[0m \u001b[1;33m=\u001b[0m \u001b[1;33m(\u001b[0m\u001b[1;36m10\u001b[0m\u001b[1;33m,\u001b[0m\u001b[1;36m10\u001b[0m\u001b[1;33m)\u001b[0m\u001b[1;33m)\u001b[0m\u001b[1;33m\u001b[0m\u001b[1;33m\u001b[0m\u001b[0m\n\u001b[0m\u001b[0;32m      2\u001b[0m \u001b[0mplt\u001b[0m\u001b[1;33m.\u001b[0m\u001b[0mxticks\u001b[0m\u001b[1;33m(\u001b[0m\u001b[0my_select\u001b[0m\u001b[1;33m,\u001b[0m\u001b[0mdatasets\u001b[0m\u001b[1;33m)\u001b[0m\u001b[1;33m\u001b[0m\u001b[1;33m\u001b[0m\u001b[0m\n\u001b[0;32m      3\u001b[0m \u001b[0mplt\u001b[0m\u001b[1;33m.\u001b[0m\u001b[0mtitle\u001b[0m\u001b[1;33m(\u001b[0m\u001b[1;34m\"Decision tree testing mean-absolute error\"\u001b[0m\u001b[1;33m)\u001b[0m\u001b[1;33m\u001b[0m\u001b[1;33m\u001b[0m\u001b[0m\n\u001b[0;32m      4\u001b[0m \u001b[0mplt\u001b[0m\u001b[1;33m.\u001b[0m\u001b[0mxlabel\u001b[0m\u001b[1;33m(\u001b[0m\u001b[1;34m\"Dataset\"\u001b[0m\u001b[1;33m)\u001b[0m\u001b[1;33m\u001b[0m\u001b[1;33m\u001b[0m\u001b[0m\n\u001b[0;32m      5\u001b[0m \u001b[0mplt\u001b[0m\u001b[1;33m.\u001b[0m\u001b[0mylabel\u001b[0m\u001b[1;33m(\u001b[0m\u001b[1;34m\"Mean absolute error\"\u001b[0m\u001b[1;33m)\u001b[0m\u001b[1;33m\u001b[0m\u001b[1;33m\u001b[0m\u001b[0m\n",
      "\u001b[1;31mNameError\u001b[0m: name 'plt' is not defined"
     ]
    }
   ],
   "source": [
    "plt.figure(figsize = (10,10))\n",
    "plt.xticks(y_select,datasets)\n",
    "plt.title(display_name + \" testing mean-absolute error\")\n",
    "plt.xlabel(\"Dataset\")\n",
    "plt.ylabel(\"Mean absolute error\")\n",
    "plt.bar(y_select, mae_scores)"
   ]
  },
  {
   "cell_type": "code",
   "execution_count": 13,
   "metadata": {},
   "outputs": [
    {
     "ename": "NameError",
     "evalue": "name 'plt' is not defined",
     "output_type": "error",
     "traceback": [
      "\u001b[1;31m---------------------------------------------------------------------------\u001b[0m",
      "\u001b[1;31mNameError\u001b[0m                                 Traceback (most recent call last)",
      "\u001b[1;32m<ipython-input-13-9a1d9bae6a4e>\u001b[0m in \u001b[0;36m<module>\u001b[1;34m\u001b[0m\n\u001b[1;32m----> 1\u001b[1;33m \u001b[0mplt\u001b[0m\u001b[1;33m.\u001b[0m\u001b[0mfigure\u001b[0m\u001b[1;33m(\u001b[0m\u001b[0mfigsize\u001b[0m \u001b[1;33m=\u001b[0m \u001b[1;33m(\u001b[0m\u001b[1;36m10\u001b[0m\u001b[1;33m,\u001b[0m\u001b[1;36m10\u001b[0m\u001b[1;33m)\u001b[0m\u001b[1;33m)\u001b[0m\u001b[1;33m\u001b[0m\u001b[1;33m\u001b[0m\u001b[0m\n\u001b[0m\u001b[0;32m      2\u001b[0m \u001b[0mplt\u001b[0m\u001b[1;33m.\u001b[0m\u001b[0mxticks\u001b[0m\u001b[1;33m(\u001b[0m\u001b[0my_select\u001b[0m\u001b[1;33m,\u001b[0m\u001b[0mdatasets\u001b[0m\u001b[1;33m)\u001b[0m\u001b[1;33m\u001b[0m\u001b[1;33m\u001b[0m\u001b[0m\n\u001b[0;32m      3\u001b[0m \u001b[0mplt\u001b[0m\u001b[1;33m.\u001b[0m\u001b[0mtitle\u001b[0m\u001b[1;33m(\u001b[0m\u001b[1;34m\"Decision tree testing r-squared scores\"\u001b[0m\u001b[1;33m)\u001b[0m\u001b[1;33m\u001b[0m\u001b[1;33m\u001b[0m\u001b[0m\n\u001b[0;32m      4\u001b[0m \u001b[0mplt\u001b[0m\u001b[1;33m.\u001b[0m\u001b[0mxlabel\u001b[0m\u001b[1;33m(\u001b[0m\u001b[1;34m\"Dataset\"\u001b[0m\u001b[1;33m)\u001b[0m\u001b[1;33m\u001b[0m\u001b[1;33m\u001b[0m\u001b[0m\n\u001b[0;32m      5\u001b[0m \u001b[0mplt\u001b[0m\u001b[1;33m.\u001b[0m\u001b[0mylabel\u001b[0m\u001b[1;33m(\u001b[0m\u001b[1;34m\"R-Squared Score\"\u001b[0m\u001b[1;33m)\u001b[0m\u001b[1;33m\u001b[0m\u001b[1;33m\u001b[0m\u001b[0m\n",
      "\u001b[1;31mNameError\u001b[0m: name 'plt' is not defined"
     ]
    }
   ],
   "source": [
    "plt.figure(figsize = (10,10))\n",
    "plt.xticks(y_select,datasets)\n",
    "plt.title(display_name + \" testing r-squared scores\")\n",
    "plt.xlabel(\"Dataset\")\n",
    "plt.ylabel(\"R-Squared Score\")\n",
    "plt.bar(y_select, r2_scores)"
   ]
  }
 ],
 "metadata": {
  "kernelspec": {
   "display_name": "Python 3",
   "language": "python",
   "name": "python3"
  },
  "language_info": {
   "codemirror_mode": {
    "name": "ipython",
    "version": 3
   },
   "file_extension": ".py",
   "mimetype": "text/x-python",
   "name": "python",
   "nbconvert_exporter": "python",
   "pygments_lexer": "ipython3",
   "version": "3.9.0"
  }
 },
 "nbformat": 4,
 "nbformat_minor": 4
}
