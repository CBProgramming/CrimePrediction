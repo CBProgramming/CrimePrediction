{
 "cells": [
  {
   "cell_type": "code",
   "execution_count": 1,
   "metadata": {},
   "outputs": [],
   "source": [
    "import numpy as np\n",
    "from numpy import arange\n",
    "import pandas as pd\n",
    "import matplotlib.pyplot as plt\n",
    "%matplotlib inline\n",
    "import sklearn\n",
    "from sklearn.metrics import mean_squared_error, r2_score, mean_absolute_error\n",
    "from sklearn.pipeline import Pipeline\n",
    "from sklearn.model_selection import GridSearchCV\n",
    "import pickle"
   ]
  },
  {
   "cell_type": "code",
   "execution_count": 2,
   "metadata": {},
   "outputs": [],
   "source": [
    "from sklearn.ensemble import RandomForestRegressor"
   ]
  },
  {
   "cell_type": "code",
   "execution_count": 3,
   "metadata": {},
   "outputs": [],
   "source": [
    "model_name = \"random_forest\"\n",
    "display_name = \"Random Forest\""
   ]
  },
  {
   "cell_type": "code",
   "execution_count": 4,
   "metadata": {},
   "outputs": [],
   "source": [
    "y_test = pd.read_csv('y_test.csv')\n",
    "file = open(\"Selection Methods\",\"rb\")\n",
    "sel_methods = np.load(file)"
   ]
  },
  {
   "cell_type": "code",
   "execution_count": 5,
   "metadata": {},
   "outputs": [],
   "source": [
    "def get_best_model(method, args, _cv, is_sample):\n",
    "    sample_string = ''\n",
    "    if (is_sample):\n",
    "        sample_string = '_sample'\n",
    "    y_train = pd.read_csv('y_train'+ sample_string + '.csv')    \n",
    "    method_string = method\n",
    "    if (method == ''):\n",
    "        method_string = \"no feature selection\"\n",
    "    print('\\n\\nRunning cross fold validation for',display_name,'with',method_string,'dataset')\n",
    "    x_train = pd.read_csv('x_train' + method + sample_string + '.csv').values\n",
    "    x_test = pd.read_csv('x_test' + method + '.csv').values\n",
    "    pipe = Pipeline([('clf', RandomForestRegressor())])\n",
    "    grid = GridSearchCV(pipe, args, cv = _cv, verbose = 1, scoring = 'r2', n_jobs=6)\n",
    "    grid.fit(x_train, y_train.values.ravel())\n",
    "    print('\\nBest score for',display_name,'with',method_string,\"dataset:\",grid.best_score_)\n",
    "    best_args = grid.best_estimator_.get_params()\n",
    "    print('\\nBest hyperparameters for',display_name,'with',method_string,'dataset:')\n",
    "    for arg in best_args:\n",
    "        print(arg,\":\",best_args[arg])\n",
    "    y_test_predict = grid.predict(x_test)\n",
    "    mse = mean_squared_error(y_test,y_test_predict)\n",
    "    mae = mean_absolute_error(y_test,y_test_predict)\n",
    "    r2 = r2_score(y_test,y_test_predict)\n",
    "    print('\\nPrediction scores for',display_name,'using',method_string,':')\n",
    "    print('Mean Squared error:',mse)\n",
    "    print('Mean Absolute error:',mae)\n",
    "    print('R^2:',r2)\n",
    "    return grid.best_estimator_,grid.best_score_,mse,mae,r2"
   ]
  },
  {
   "cell_type": "code",
   "execution_count": 6,
   "metadata": {},
   "outputs": [],
   "source": [
    "def save_model(model,method):\n",
    "    with open('CrimeGUI/Models/'+model_name+method,'wb') as file:\n",
    "        pickle.dump(model,file)"
   ]
  },
  {
   "cell_type": "code",
   "execution_count": 7,
   "metadata": {},
   "outputs": [
    {
     "name": "stdout",
     "output_type": "stream",
     "text": [
      "['_f_regression' '_chi2' '_adaboost' '_equal_crime_and_business'\n",
      " '_all_business']\n"
     ]
    }
   ],
   "source": [
    "print(sel_methods)"
   ]
  },
  {
   "cell_type": "markdown",
   "metadata": {},
   "source": [
    "<h3>F-Regression feature selected dataset<h3>"
   ]
  },
  {
   "cell_type": "code",
   "execution_count": 20,
   "metadata": {},
   "outputs": [],
   "source": [
    "is_sample = True\n",
    "num_folds = 5\n",
    "args = {'clf__criterion':('mse','mae'),\n",
    "        'clf__n_estimators':(100,200,300,500,1000),\n",
    "        'clf__min_samples_split':(2,5,10),\n",
    "        'clf__max_depth': (10,20,50,100,None),\n",
    "        'clf__min_samples_leaf':(1,2,5,10),\n",
    "        'clf__max_features':('sqrt','log2'),\n",
    "        'clf__random_state':([7])}"
   ]
  },
  {
   "cell_type": "code",
   "execution_count": 21,
   "metadata": {},
   "outputs": [
    {
     "name": "stdout",
     "output_type": "stream",
     "text": [
      "\n",
      "\n",
      "Running cross fold validation for Random Forest with _f_regression dataset\n",
      "Fitting 5 folds for each of 1200 candidates, totalling 6000 fits\n"
     ]
    },
    {
     "name": "stderr",
     "output_type": "stream",
     "text": [
      "[Parallel(n_jobs=6)]: Using backend LokyBackend with 6 concurrent workers.\n",
      "[Parallel(n_jobs=6)]: Done  38 tasks      | elapsed:   14.6s\n",
      "[Parallel(n_jobs=6)]: Done 188 tasks      | elapsed:  1.2min\n",
      "[Parallel(n_jobs=6)]: Done 438 tasks      | elapsed:  2.8min\n",
      "[Parallel(n_jobs=6)]: Done 788 tasks      | elapsed:  5.7min\n",
      "[Parallel(n_jobs=6)]: Done 1238 tasks      | elapsed:  9.6min\n",
      "[Parallel(n_jobs=6)]: Done 1788 tasks      | elapsed: 14.4min\n",
      "[Parallel(n_jobs=6)]: Done 2438 tasks      | elapsed: 20.4min\n",
      "[Parallel(n_jobs=6)]: Done 3188 tasks      | elapsed: 85.7min\n",
      "[Parallel(n_jobs=6)]: Done 4038 tasks      | elapsed: 375.6min\n",
      "[Parallel(n_jobs=6)]: Done 4988 tasks      | elapsed: 712.7min\n",
      "[Parallel(n_jobs=6)]: Done 6000 out of 6000 | elapsed: 1085.1min finished\n"
     ]
    },
    {
     "name": "stdout",
     "output_type": "stream",
     "text": [
      "\n",
      "Best score for Random Forest with _f_regression dataset: 0.7502999963419127\n",
      "\n",
      "Best hyperparameters for Random Forest with _f_regression dataset:\n",
      "memory : None\n",
      "steps : [('clf', RandomForestRegressor(max_depth=10, max_features='sqrt', min_samples_leaf=10,\n",
      "                      n_estimators=1000, random_state=7))]\n",
      "verbose : False\n",
      "clf : RandomForestRegressor(max_depth=10, max_features='sqrt', min_samples_leaf=10,\n",
      "                      n_estimators=1000, random_state=7)\n",
      "clf__bootstrap : True\n",
      "clf__ccp_alpha : 0.0\n",
      "clf__criterion : mse\n",
      "clf__max_depth : 10\n",
      "clf__max_features : sqrt\n",
      "clf__max_leaf_nodes : None\n",
      "clf__max_samples : None\n",
      "clf__min_impurity_decrease : 0.0\n",
      "clf__min_impurity_split : None\n",
      "clf__min_samples_leaf : 10\n",
      "clf__min_samples_split : 2\n",
      "clf__min_weight_fraction_leaf : 0.0\n",
      "clf__n_estimators : 1000\n",
      "clf__n_jobs : None\n",
      "clf__oob_score : False\n",
      "clf__random_state : 7\n",
      "clf__verbose : 0\n",
      "clf__warm_start : False\n",
      "\n",
      "Prediction scores for Random Forest using _f_regression :\n",
      "Mean Squared error: 4.885838366092844\n",
      "Mean Absolute error: 1.3976059205763423\n",
      "R^2: 0.7493445032100676\n"
     ]
    }
   ],
   "source": [
    "f_reg_model, f_reg_train_score, f_reg_mse, f_reg_mae, f_reg_r2 = get_best_model(sel_methods[0], args, num_folds, is_sample)"
   ]
  },
  {
   "cell_type": "code",
   "execution_count": 30,
   "metadata": {},
   "outputs": [],
   "source": [
    "is_sample = True\n",
    "num_folds = 5\n",
    "args = {'clf__criterion':('mse','mae'),\n",
    "        'clf__n_estimators':(800,1000),\n",
    "        'clf__min_samples_split':(2,4,6),\n",
    "        'clf__max_depth': (10,20),\n",
    "        'clf__min_samples_leaf':(5,10),\n",
    "        'clf__max_features':(['sqrt']),\n",
    "        'clf__random_state':([7]),\n",
    "        'clf__min_impurity_decrease':(arange(0,1,0.2)),\n",
    "        'clf__ccp_alpha':(arange(0,1,0.2))}"
   ]
  },
  {
   "cell_type": "code",
   "execution_count": 31,
   "metadata": {},
   "outputs": [
    {
     "name": "stdout",
     "output_type": "stream",
     "text": [
      "\n",
      "\n",
      "Running cross fold validation for Random Forest with _f_regression dataset\n",
      "Fitting 5 folds for each of 1200 candidates, totalling 6000 fits\n"
     ]
    },
    {
     "name": "stderr",
     "output_type": "stream",
     "text": [
      "[Parallel(n_jobs=6)]: Using backend LokyBackend with 6 concurrent workers.\n",
      "[Parallel(n_jobs=6)]: Done  38 tasks      | elapsed:   36.2s\n",
      "[Parallel(n_jobs=6)]: Done 188 tasks      | elapsed:  1.8min\n",
      "[Parallel(n_jobs=6)]: Done 438 tasks      | elapsed:  4.1min\n",
      "[Parallel(n_jobs=6)]: Done 788 tasks      | elapsed: 82.4min\n",
      "[Parallel(n_jobs=6)]: Done 1238 tasks      | elapsed: 200.9min\n",
      "[Parallel(n_jobs=6)]: Done 1788 tasks      | elapsed: 205.9min\n",
      "[Parallel(n_jobs=6)]: Done 2438 tasks      | elapsed: 409.9min\n",
      "[Parallel(n_jobs=6)]: Done 3188 tasks      | elapsed: 498.0min\n",
      "[Parallel(n_jobs=6)]: Done 4038 tasks      | elapsed: 630.9min\n",
      "[Parallel(n_jobs=6)]: Done 4988 tasks      | elapsed: 830.0min\n",
      "[Parallel(n_jobs=6)]: Done 6000 out of 6000 | elapsed: 1028.4min finished\n"
     ]
    },
    {
     "name": "stdout",
     "output_type": "stream",
     "text": [
      "\n",
      "Best score for Random Forest with _f_regression dataset: 0.7502999963419127\n",
      "\n",
      "Best hyperparameters for Random Forest with _f_regression dataset:\n",
      "memory : None\n",
      "steps : [('clf', RandomForestRegressor(max_depth=10, max_features='sqrt', min_samples_leaf=10,\n",
      "                      n_estimators=1000, random_state=7))]\n",
      "verbose : False\n",
      "clf : RandomForestRegressor(max_depth=10, max_features='sqrt', min_samples_leaf=10,\n",
      "                      n_estimators=1000, random_state=7)\n",
      "clf__bootstrap : True\n",
      "clf__ccp_alpha : 0.0\n",
      "clf__criterion : mse\n",
      "clf__max_depth : 10\n",
      "clf__max_features : sqrt\n",
      "clf__max_leaf_nodes : None\n",
      "clf__max_samples : None\n",
      "clf__min_impurity_decrease : 0.0\n",
      "clf__min_impurity_split : None\n",
      "clf__min_samples_leaf : 10\n",
      "clf__min_samples_split : 2\n",
      "clf__min_weight_fraction_leaf : 0.0\n",
      "clf__n_estimators : 1000\n",
      "clf__n_jobs : None\n",
      "clf__oob_score : False\n",
      "clf__random_state : 7\n",
      "clf__verbose : 0\n",
      "clf__warm_start : False\n",
      "\n",
      "Prediction scores for Random Forest using _f_regression :\n",
      "Mean Squared error: 4.885838366092844\n",
      "Mean Absolute error: 1.3976059205763423\n",
      "R^2: 0.7493445032100676\n"
     ]
    }
   ],
   "source": [
    "f_reg_model, f_reg_train_score, f_reg_mse, f_reg_mae, f_reg_r2 = get_best_model(sel_methods[0], args, num_folds, is_sample)"
   ]
  },
  {
   "cell_type": "code",
   "execution_count": 35,
   "metadata": {},
   "outputs": [],
   "source": [
    "is_sample = False\n",
    "num_folds = 10\n",
    "args = {'clf__criterion':(['mse']),\n",
    "        'clf__n_estimators':(1000,1500,2000,3000,4000,5000),\n",
    "        'clf__min_samples_split':([2]),\n",
    "        'clf__max_depth': ([10]),\n",
    "        'clf__min_samples_leaf':([10]),\n",
    "        'clf__max_features':(['sqrt']),\n",
    "        'clf__random_state':([7]),\n",
    "        'clf__min_impurity_decrease':([0]),\n",
    "        'clf__ccp_alpha':([0])}"
   ]
  },
  {
   "cell_type": "code",
   "execution_count": 36,
   "metadata": {},
   "outputs": [
    {
     "name": "stdout",
     "output_type": "stream",
     "text": [
      "\n",
      "\n",
      "Running cross fold validation for Random Forest with _f_regression dataset\n",
      "Fitting 10 folds for each of 6 candidates, totalling 60 fits\n"
     ]
    },
    {
     "name": "stderr",
     "output_type": "stream",
     "text": [
      "[Parallel(n_jobs=6)]: Using backend LokyBackend with 6 concurrent workers.\n",
      "[Parallel(n_jobs=6)]: Done  38 tasks      | elapsed:  5.8min\n",
      "[Parallel(n_jobs=6)]: Done  60 out of  60 | elapsed: 13.3min finished\n"
     ]
    },
    {
     "name": "stdout",
     "output_type": "stream",
     "text": [
      "\n",
      "Best score for Random Forest with _f_regression dataset: 0.7437620252713557\n",
      "\n",
      "Best hyperparameters for Random Forest with _f_regression dataset:\n",
      "memory : None\n",
      "steps : [('clf', RandomForestRegressor(ccp_alpha=0, max_depth=10, max_features='sqrt',\n",
      "                      min_impurity_decrease=0, min_samples_leaf=10,\n",
      "                      n_estimators=4000, random_state=7))]\n",
      "verbose : False\n",
      "clf : RandomForestRegressor(ccp_alpha=0, max_depth=10, max_features='sqrt',\n",
      "                      min_impurity_decrease=0, min_samples_leaf=10,\n",
      "                      n_estimators=4000, random_state=7)\n",
      "clf__bootstrap : True\n",
      "clf__ccp_alpha : 0\n",
      "clf__criterion : mse\n",
      "clf__max_depth : 10\n",
      "clf__max_features : sqrt\n",
      "clf__max_leaf_nodes : None\n",
      "clf__max_samples : None\n",
      "clf__min_impurity_decrease : 0\n",
      "clf__min_impurity_split : None\n",
      "clf__min_samples_leaf : 10\n",
      "clf__min_samples_split : 2\n",
      "clf__min_weight_fraction_leaf : 0.0\n",
      "clf__n_estimators : 4000\n",
      "clf__n_jobs : None\n",
      "clf__oob_score : False\n",
      "clf__random_state : 7\n",
      "clf__verbose : 0\n",
      "clf__warm_start : False\n",
      "\n",
      "Prediction scores for Random Forest using _f_regression :\n",
      "Mean Squared error: 4.798239590383241\n",
      "Mean Absolute error: 1.388326022338069\n",
      "R^2: 0.7538385353491699\n"
     ]
    }
   ],
   "source": [
    "f_reg_model, f_reg_train_score, f_reg_mse, f_reg_mae, f_reg_r2 = get_best_model(sel_methods[0], args, num_folds, is_sample)"
   ]
  },
  {
   "cell_type": "code",
   "execution_count": 38,
   "metadata": {},
   "outputs": [],
   "source": [
    "is_sample = False\n",
    "num_folds = 10\n",
    "args = {'clf__criterion':(['mse']),\n",
    "        'clf__n_estimators':(1000,1500,2000,3000,4000,5000),\n",
    "        'clf__min_samples_split':([2]),\n",
    "        'clf__max_depth': ([10]),\n",
    "        'clf__min_samples_leaf':([10]),\n",
    "        'clf__max_features':(['sqrt']),\n",
    "        'clf__random_state':([7]),\n",
    "        'clf__min_impurity_decrease':([0]),\n",
    "        'clf__ccp_alpha':([0])}"
   ]
  },
  {
   "cell_type": "code",
   "execution_count": 39,
   "metadata": {},
   "outputs": [
    {
     "name": "stdout",
     "output_type": "stream",
     "text": [
      "\n",
      "\n",
      "Running cross fold validation for Random Forest with _f_regression dataset\n",
      "Fitting 10 folds for each of 162 candidates, totalling 1620 fits\n"
     ]
    },
    {
     "name": "stderr",
     "output_type": "stream",
     "text": [
      "[Parallel(n_jobs=6)]: Using backend LokyBackend with 6 concurrent workers.\n",
      "[Parallel(n_jobs=6)]: Done  38 tasks      | elapsed: 10.6min\n",
      "[Parallel(n_jobs=6)]: Done 188 tasks      | elapsed: 51.7min\n",
      "[Parallel(n_jobs=6)]: Done 438 tasks      | elapsed: 118.6min\n",
      "[Parallel(n_jobs=6)]: Done 788 tasks      | elapsed: 241.4min\n",
      "[Parallel(n_jobs=6)]: Done 1238 tasks      | elapsed: 418.0min\n",
      "[Parallel(n_jobs=6)]: Done 1620 out of 1620 | elapsed: 579.1min finished\n"
     ]
    },
    {
     "name": "stdout",
     "output_type": "stream",
     "text": [
      "\n",
      "Best score for Random Forest with _f_regression dataset: 0.7437651175140028\n",
      "\n",
      "Best hyperparameters for Random Forest with _f_regression dataset:\n",
      "memory : None\n",
      "steps : [('clf', RandomForestRegressor(ccp_alpha=0, max_depth=10, max_features='sqrt',\n",
      "                      min_impurity_decrease=0, min_samples_leaf=10,\n",
      "                      n_estimators=4500, random_state=7))]\n",
      "verbose : False\n",
      "clf : RandomForestRegressor(ccp_alpha=0, max_depth=10, max_features='sqrt',\n",
      "                      min_impurity_decrease=0, min_samples_leaf=10,\n",
      "                      n_estimators=4500, random_state=7)\n",
      "clf__bootstrap : True\n",
      "clf__ccp_alpha : 0\n",
      "clf__criterion : mse\n",
      "clf__max_depth : 10\n",
      "clf__max_features : sqrt\n",
      "clf__max_leaf_nodes : None\n",
      "clf__max_samples : None\n",
      "clf__min_impurity_decrease : 0\n",
      "clf__min_impurity_split : None\n",
      "clf__min_samples_leaf : 10\n",
      "clf__min_samples_split : 2\n",
      "clf__min_weight_fraction_leaf : 0.0\n",
      "clf__n_estimators : 4500\n",
      "clf__n_jobs : None\n",
      "clf__oob_score : False\n",
      "clf__random_state : 7\n",
      "clf__verbose : 0\n",
      "clf__warm_start : False\n",
      "\n",
      "Prediction scores for Random Forest using _f_regression :\n",
      "Mean Squared error: 4.7982405428624615\n",
      "Mean Absolute error: 1.388384506774818\n",
      "R^2: 0.7538384864846487\n"
     ]
    }
   ],
   "source": [
    "f_reg_model, f_reg_train_score, f_reg_mse, f_reg_mae, f_reg_r2 = get_best_model(sel_methods[0], args, num_folds, is_sample)"
   ]
  },
  {
   "cell_type": "code",
   "execution_count": 10,
   "metadata": {},
   "outputs": [],
   "source": [
    "is_sample = False\n",
    "num_folds = 10\n",
    "args = {'clf__criterion':(['mse']),\n",
    "        'clf__n_estimators':([4500]),\n",
    "        'clf__min_samples_split':([2]),\n",
    "        'clf__max_depth': ([10]),\n",
    "        'clf__min_samples_leaf':([10]),\n",
    "        'clf__max_features':(['sqrt']),\n",
    "        'clf__random_state':([7]),\n",
    "        'clf__min_impurity_decrease':([0]),\n",
    "        'clf__ccp_alpha':([0])}"
   ]
  },
  {
   "cell_type": "code",
   "execution_count": 11,
   "metadata": {
    "scrolled": false
   },
   "outputs": [
    {
     "name": "stdout",
     "output_type": "stream",
     "text": [
      "\n",
      "\n",
      "Running cross fold validation for Random Forest with _f_regression dataset\n",
      "Fitting 10 folds for each of 1 candidates, totalling 10 fits\n"
     ]
    },
    {
     "name": "stderr",
     "output_type": "stream",
     "text": [
      "[Parallel(n_jobs=6)]: Using backend LokyBackend with 6 concurrent workers.\n",
      "[Parallel(n_jobs=6)]: Done  10 out of  10 | elapsed:  3.4min remaining:    0.0s\n",
      "[Parallel(n_jobs=6)]: Done  10 out of  10 | elapsed:  3.4min finished\n"
     ]
    },
    {
     "name": "stdout",
     "output_type": "stream",
     "text": [
      "\n",
      "Best score for Random Forest with _f_regression dataset: 0.7437651175140028\n",
      "\n",
      "Best hyperparameters for Random Forest with _f_regression dataset:\n",
      "memory : None\n",
      "steps : [('clf', RandomForestRegressor(ccp_alpha=0, max_depth=10, max_features='sqrt',\n",
      "                      min_impurity_decrease=0, min_samples_leaf=10,\n",
      "                      n_estimators=4500, random_state=7))]\n",
      "verbose : False\n",
      "clf : RandomForestRegressor(ccp_alpha=0, max_depth=10, max_features='sqrt',\n",
      "                      min_impurity_decrease=0, min_samples_leaf=10,\n",
      "                      n_estimators=4500, random_state=7)\n",
      "clf__bootstrap : True\n",
      "clf__ccp_alpha : 0\n",
      "clf__criterion : mse\n",
      "clf__max_depth : 10\n",
      "clf__max_features : sqrt\n",
      "clf__max_leaf_nodes : None\n",
      "clf__max_samples : None\n",
      "clf__min_impurity_decrease : 0\n",
      "clf__min_impurity_split : None\n",
      "clf__min_samples_leaf : 10\n",
      "clf__min_samples_split : 2\n",
      "clf__min_weight_fraction_leaf : 0.0\n",
      "clf__n_estimators : 4500\n",
      "clf__n_jobs : None\n",
      "clf__oob_score : False\n",
      "clf__random_state : 7\n",
      "clf__verbose : 0\n",
      "clf__warm_start : False\n",
      "\n",
      "Prediction scores for Random Forest using _f_regression :\n",
      "Mean Squared error: 4.7982405428624615\n",
      "Mean Absolute error: 1.388384506774818\n",
      "R^2: 0.7538384864846487\n"
     ]
    }
   ],
   "source": [
    "f_reg_model, f_reg_train_score, f_reg_mse, f_reg_mae, f_reg_r2 = get_best_model(sel_methods[0], args, num_folds, is_sample)"
   ]
  },
  {
   "cell_type": "code",
   "execution_count": 31,
   "metadata": {},
   "outputs": [],
   "source": [
    "#alpha and impurity dont affect outcome, attempt to fine tune other hyperparameters\n",
    "is_sample = False\n",
    "num_folds = 10\n",
    "args = {'clf__criterion':(['mse']),\n",
    "        'clf__n_estimators':(4300,4400,4500,4600,4700),\n",
    "        'clf__min_samples_split':(2,3,4,5),\n",
    "        'clf__max_depth': (8,9,10,11,12),\n",
    "        'clf__min_samples_leaf':(8,9,10,11,12),\n",
    "        'clf__max_features':(['sqrt']),\n",
    "        'clf__random_state':([7])}"
   ]
  },
  {
   "cell_type": "code",
   "execution_count": 32,
   "metadata": {},
   "outputs": [
    {
     "name": "stdout",
     "output_type": "stream",
     "text": [
      "\n",
      "\n",
      "Running cross fold validation for Random Forest with _f_regression dataset\n",
      "Fitting 10 folds for each of 500 candidates, totalling 5000 fits\n"
     ]
    },
    {
     "name": "stderr",
     "output_type": "stream",
     "text": [
      "[Parallel(n_jobs=6)]: Using backend LokyBackend with 6 concurrent workers.\n",
      "[Parallel(n_jobs=6)]: Done  38 tasks      | elapsed: 12.3min\n",
      "[Parallel(n_jobs=6)]: Done 188 tasks      | elapsed: 60.7min\n",
      "[Parallel(n_jobs=6)]: Done 438 tasks      | elapsed: 141.1min\n",
      "[Parallel(n_jobs=6)]: Done 788 tasks      | elapsed: 253.5min\n",
      "[Parallel(n_jobs=6)]: Done 1238 tasks      | elapsed: 388.8min\n",
      "[Parallel(n_jobs=6)]: Done 1788 tasks      | elapsed: 551.7min\n",
      "[Parallel(n_jobs=6)]: Done 2438 tasks      | elapsed: 744.7min\n",
      "[Parallel(n_jobs=6)]: Done 3188 tasks      | elapsed: 973.0min\n",
      "[Parallel(n_jobs=6)]: Done 4038 tasks      | elapsed: 1267.2min\n",
      "[Parallel(n_jobs=6)]: Done 4988 tasks      | elapsed: 1619.2min\n",
      "[Parallel(n_jobs=6)]: Done 5000 out of 5000 | elapsed: 1623.5min finished\n"
     ]
    },
    {
     "name": "stdout",
     "output_type": "stream",
     "text": [
      "\n",
      "Best score for Random Forest with _f_regression dataset: 0.7439499152766238\n",
      "\n",
      "Best hyperparameters for Random Forest with _f_regression dataset:\n",
      "memory : None\n",
      "steps : [('clf', RandomForestRegressor(max_depth=11, max_features='sqrt', min_samples_leaf=12,\n",
      "                      n_estimators=4700, random_state=7))]\n",
      "verbose : False\n",
      "clf : RandomForestRegressor(max_depth=11, max_features='sqrt', min_samples_leaf=12,\n",
      "                      n_estimators=4700, random_state=7)\n",
      "clf__bootstrap : True\n",
      "clf__ccp_alpha : 0.0\n",
      "clf__criterion : mse\n",
      "clf__max_depth : 11\n",
      "clf__max_features : sqrt\n",
      "clf__max_leaf_nodes : None\n",
      "clf__max_samples : None\n",
      "clf__min_impurity_decrease : 0.0\n",
      "clf__min_impurity_split : None\n",
      "clf__min_samples_leaf : 12\n",
      "clf__min_samples_split : 2\n",
      "clf__min_weight_fraction_leaf : 0.0\n",
      "clf__n_estimators : 4700\n",
      "clf__n_jobs : None\n",
      "clf__oob_score : False\n",
      "clf__random_state : 7\n",
      "clf__verbose : 0\n",
      "clf__warm_start : False\n",
      "\n",
      "Prediction scores for Random Forest using _f_regression :\n",
      "Mean Squared error: 4.7938614405629325\n",
      "Mean Absolute error: 1.3856977472681424\n",
      "R^2: 0.754063145177822\n"
     ]
    }
   ],
   "source": [
    "f_reg_model, f_reg_train_score, f_reg_mse, f_reg_mae, f_reg_r2 = get_best_model(sel_methods[0], args, num_folds, is_sample)"
   ]
  },
  {
   "cell_type": "code",
   "execution_count": 41,
   "metadata": {},
   "outputs": [],
   "source": [
    "#finer tuning of hyperparameters\n",
    "is_sample = False\n",
    "num_folds = 10\n",
    "args = {'clf__criterion':(['mse']),\n",
    "        'clf__n_estimators':(4650,4700,4750),\n",
    "        'clf__min_samples_split':(2,3),\n",
    "        'clf__max_depth': (11,12,13,14),\n",
    "        'clf__min_samples_leaf':(12,13,14,15),\n",
    "        'clf__max_features':(['sqrt']),\n",
    "        'clf__random_state':([7])}"
   ]
  },
  {
   "cell_type": "code",
   "execution_count": 42,
   "metadata": {
    "scrolled": false
   },
   "outputs": [
    {
     "name": "stdout",
     "output_type": "stream",
     "text": [
      "\n",
      "\n",
      "Running cross fold validation for Random Forest with _f_regression dataset\n",
      "Fitting 10 folds for each of 96 candidates, totalling 960 fits\n"
     ]
    },
    {
     "name": "stderr",
     "output_type": "stream",
     "text": [
      "[Parallel(n_jobs=6)]: Using backend LokyBackend with 6 concurrent workers.\n",
      "[Parallel(n_jobs=6)]: Done  38 tasks      | elapsed: 13.8min\n",
      "[Parallel(n_jobs=6)]: Done 188 tasks      | elapsed: 63.9min\n",
      "[Parallel(n_jobs=6)]: Done 438 tasks      | elapsed: 149.3min\n",
      "[Parallel(n_jobs=6)]: Done 788 tasks      | elapsed: 276.0min\n",
      "[Parallel(n_jobs=6)]: Done 960 out of 960 | elapsed: 338.1min finished\n"
     ]
    },
    {
     "name": "stdout",
     "output_type": "stream",
     "text": [
      "\n",
      "Best score for Random Forest with _f_regression dataset: 0.7439499152766238\n",
      "\n",
      "Best hyperparameters for Random Forest with _f_regression dataset:\n",
      "memory : None\n",
      "steps : [('clf', RandomForestRegressor(max_depth=11, max_features='sqrt', min_samples_leaf=12,\n",
      "                      n_estimators=4700, random_state=7))]\n",
      "verbose : False\n",
      "clf : RandomForestRegressor(max_depth=11, max_features='sqrt', min_samples_leaf=12,\n",
      "                      n_estimators=4700, random_state=7)\n",
      "clf__bootstrap : True\n",
      "clf__ccp_alpha : 0.0\n",
      "clf__criterion : mse\n",
      "clf__max_depth : 11\n",
      "clf__max_features : sqrt\n",
      "clf__max_leaf_nodes : None\n",
      "clf__max_samples : None\n",
      "clf__min_impurity_decrease : 0.0\n",
      "clf__min_impurity_split : None\n",
      "clf__min_samples_leaf : 12\n",
      "clf__min_samples_split : 2\n",
      "clf__min_weight_fraction_leaf : 0.0\n",
      "clf__n_estimators : 4700\n",
      "clf__n_jobs : None\n",
      "clf__oob_score : False\n",
      "clf__random_state : 7\n",
      "clf__verbose : 0\n",
      "clf__warm_start : False\n",
      "\n",
      "Prediction scores for Random Forest using _f_regression :\n",
      "Mean Squared error: 4.7938614405629325\n",
      "Mean Absolute error: 1.3856977472681424\n",
      "R^2: 0.754063145177822\n"
     ]
    }
   ],
   "source": [
    "f_reg_model, f_reg_train_score, f_reg_mse, f_reg_mae, f_reg_r2 = get_best_model(sel_methods[0], args, num_folds, is_sample)"
   ]
  },
  {
   "cell_type": "code",
   "execution_count": 22,
   "metadata": {},
   "outputs": [],
   "source": [
    "# parameters stable, model saved\n",
    "is_sample = False\n",
    "num_folds = 10\n",
    "args = {'clf__criterion':(['mse']),\n",
    "        'clf__n_estimators':([4700]),\n",
    "        'clf__min_samples_split':([2]),\n",
    "        'clf__max_depth': ([11]),\n",
    "        'clf__min_samples_leaf':([12]),\n",
    "        'clf__max_features':(['sqrt']),\n",
    "        'clf__random_state':([7])}"
   ]
  },
  {
   "cell_type": "code",
   "execution_count": 23,
   "metadata": {},
   "outputs": [
    {
     "name": "stdout",
     "output_type": "stream",
     "text": [
      "\n",
      "\n",
      "Running cross fold validation for Random Forest with _f_regression dataset\n",
      "Fitting 10 folds for each of 1 candidates, totalling 10 fits\n"
     ]
    },
    {
     "name": "stderr",
     "output_type": "stream",
     "text": [
      "[Parallel(n_jobs=6)]: Using backend LokyBackend with 6 concurrent workers.\n",
      "[Parallel(n_jobs=6)]: Done  10 out of  10 | elapsed:  3.8min remaining:    0.0s\n",
      "[Parallel(n_jobs=6)]: Done  10 out of  10 | elapsed:  3.8min finished\n"
     ]
    },
    {
     "name": "stdout",
     "output_type": "stream",
     "text": [
      "\n",
      "Best score for Random Forest with _f_regression dataset: 0.7439499152766238\n",
      "\n",
      "Best hyperparameters for Random Forest with _f_regression dataset:\n",
      "memory : None\n",
      "steps : [('clf', RandomForestRegressor(max_depth=11, max_features='sqrt', min_samples_leaf=12,\n",
      "                      n_estimators=4700, random_state=7))]\n",
      "verbose : False\n",
      "clf : RandomForestRegressor(max_depth=11, max_features='sqrt', min_samples_leaf=12,\n",
      "                      n_estimators=4700, random_state=7)\n",
      "clf__bootstrap : True\n",
      "clf__ccp_alpha : 0.0\n",
      "clf__criterion : mse\n",
      "clf__max_depth : 11\n",
      "clf__max_features : sqrt\n",
      "clf__max_leaf_nodes : None\n",
      "clf__max_samples : None\n",
      "clf__min_impurity_decrease : 0.0\n",
      "clf__min_impurity_split : None\n",
      "clf__min_samples_leaf : 12\n",
      "clf__min_samples_split : 2\n",
      "clf__min_weight_fraction_leaf : 0.0\n",
      "clf__n_estimators : 4700\n",
      "clf__n_jobs : None\n",
      "clf__oob_score : False\n",
      "clf__random_state : 7\n",
      "clf__verbose : 0\n",
      "clf__warm_start : False\n",
      "\n",
      "Prediction scores for Random Forest using _f_regression :\n",
      "Mean Squared error: 4.7938614405629325\n",
      "Mean Absolute error: 1.3856977472681424\n",
      "R^2: 0.754063145177822\n"
     ]
    }
   ],
   "source": [
    "f_reg_model, f_reg_train_score, f_reg_mse, f_reg_mae, f_reg_r2 = get_best_model(sel_methods[0], args, num_folds, is_sample)"
   ]
  },
  {
   "cell_type": "code",
   "execution_count": 24,
   "metadata": {},
   "outputs": [],
   "source": [
    "save_model(f_reg_model,sel_methods[0])"
   ]
  },
  {
   "cell_type": "markdown",
   "metadata": {},
   "source": [
    "<h3>Chi-Squared feature selected dataset<h3>"
   ]
  },
  {
   "cell_type": "code",
   "execution_count": 10,
   "metadata": {},
   "outputs": [],
   "source": [
    "is_sample = True\n",
    "num_folds = 5\n",
    "args = {'clf__criterion':('mse','mae'),\n",
    "        'clf__n_estimators':(100,500,1000),\n",
    "        'clf__min_samples_split':(2,5,10),\n",
    "        'clf__max_depth': (10,20,30),\n",
    "        'clf__min_samples_leaf':(2,5,10),\n",
    "        'clf__max_features':('sqrt','log2'),\n",
    "        'clf__random_state':([7])}"
   ]
  },
  {
   "cell_type": "code",
   "execution_count": 11,
   "metadata": {},
   "outputs": [
    {
     "name": "stdout",
     "output_type": "stream",
     "text": [
      "\n",
      "\n",
      "Running cross fold validation for Random Forest with _chi2 dataset\n",
      "Fitting 5 folds for each of 324 candidates, totalling 1620 fits\n"
     ]
    },
    {
     "name": "stderr",
     "output_type": "stream",
     "text": [
      "[Parallel(n_jobs=6)]: Using backend LokyBackend with 6 concurrent workers.\n",
      "[Parallel(n_jobs=6)]: Done  38 tasks      | elapsed:   18.3s\n",
      "[Parallel(n_jobs=6)]: Done 188 tasks      | elapsed:  1.5min\n",
      "[Parallel(n_jobs=6)]: Done 438 tasks      | elapsed:  4.0min\n",
      "[Parallel(n_jobs=6)]: Done 788 tasks      | elapsed:  7.5min\n",
      "[Parallel(n_jobs=6)]: Done 1238 tasks      | elapsed: 143.2min\n",
      "[Parallel(n_jobs=6)]: Done 1620 out of 1620 | elapsed: 269.4min finished\n"
     ]
    },
    {
     "name": "stdout",
     "output_type": "stream",
     "text": [
      "\n",
      "Best score for Random Forest with _chi2 dataset: 0.7478509410708918\n",
      "\n",
      "Best hyperparameters for Random Forest with _chi2 dataset:\n",
      "memory : None\n",
      "steps : [('clf', RandomForestRegressor(max_depth=10, max_features='sqrt', min_samples_leaf=2,\n",
      "                      min_samples_split=10, n_estimators=1000, random_state=7))]\n",
      "verbose : False\n",
      "clf : RandomForestRegressor(max_depth=10, max_features='sqrt', min_samples_leaf=2,\n",
      "                      min_samples_split=10, n_estimators=1000, random_state=7)\n",
      "clf__bootstrap : True\n",
      "clf__ccp_alpha : 0.0\n",
      "clf__criterion : mse\n",
      "clf__max_depth : 10\n",
      "clf__max_features : sqrt\n",
      "clf__max_leaf_nodes : None\n",
      "clf__max_samples : None\n",
      "clf__min_impurity_decrease : 0.0\n",
      "clf__min_impurity_split : None\n",
      "clf__min_samples_leaf : 2\n",
      "clf__min_samples_split : 10\n",
      "clf__min_weight_fraction_leaf : 0.0\n",
      "clf__n_estimators : 1000\n",
      "clf__n_jobs : None\n",
      "clf__oob_score : False\n",
      "clf__random_state : 7\n",
      "clf__verbose : 0\n",
      "clf__warm_start : False\n",
      "\n",
      "Prediction scores for Random Forest using _chi2 :\n",
      "Mean Squared error: 5.0740391293978\n",
      "Mean Absolute error: 1.425403843647832\n",
      "R^2: 0.7396893422555367\n"
     ]
    }
   ],
   "source": [
    "chi2_model, chi2_train_score, chi2_mse, chi2_mae, chi2_r2 = get_best_model(sel_methods[1], args, num_folds, is_sample)"
   ]
  },
  {
   "cell_type": "code",
   "execution_count": 8,
   "metadata": {},
   "outputs": [],
   "source": [
    "is_sample = True\n",
    "num_folds = 5\n",
    "args = {'clf__criterion':('mse','mae'),\n",
    "        'clf__n_estimators':(1000,1500,2000,3000,4000,5000),\n",
    "        'clf__min_samples_split':(5,10,20),\n",
    "        'clf__max_depth': (5,10,20),\n",
    "        'clf__min_samples_leaf':(2,5),\n",
    "        'clf__max_features':(['sqrt']),\n",
    "        'clf__random_state':([7])}"
   ]
  },
  {
   "cell_type": "code",
   "execution_count": 9,
   "metadata": {},
   "outputs": [
    {
     "name": "stdout",
     "output_type": "stream",
     "text": [
      "\n",
      "\n",
      "Running cross fold validation for Random Forest with _chi2 dataset\n",
      "Fitting 5 folds for each of 216 candidates, totalling 1080 fits\n"
     ]
    },
    {
     "name": "stderr",
     "output_type": "stream",
     "text": [
      "[Parallel(n_jobs=6)]: Using backend LokyBackend with 6 concurrent workers.\n",
      "[Parallel(n_jobs=6)]: Done  38 tasks      | elapsed:   52.1s\n",
      "[Parallel(n_jobs=6)]: Done 188 tasks      | elapsed:  4.5min\n",
      "[Parallel(n_jobs=6)]: Done 438 tasks      | elapsed: 14.7min\n",
      "[Parallel(n_jobs=6)]: Done 788 tasks      | elapsed: 374.7min\n",
      "[Parallel(n_jobs=6)]: Done 1080 out of 1080 | elapsed: 900.8min finished\n"
     ]
    },
    {
     "name": "stdout",
     "output_type": "stream",
     "text": [
      "\n",
      "Best score for Random Forest with _chi2 dataset: 0.748091631387157\n",
      "\n",
      "Best hyperparameters for Random Forest with _chi2 dataset:\n",
      "memory : None\n",
      "steps : [('clf', RandomForestRegressor(max_depth=10, max_features='sqrt', min_samples_leaf=2,\n",
      "                      min_samples_split=20, n_estimators=4000, random_state=7))]\n",
      "verbose : False\n",
      "clf : RandomForestRegressor(max_depth=10, max_features='sqrt', min_samples_leaf=2,\n",
      "                      min_samples_split=20, n_estimators=4000, random_state=7)\n",
      "clf__bootstrap : True\n",
      "clf__ccp_alpha : 0.0\n",
      "clf__criterion : mse\n",
      "clf__max_depth : 10\n",
      "clf__max_features : sqrt\n",
      "clf__max_leaf_nodes : None\n",
      "clf__max_samples : None\n",
      "clf__min_impurity_decrease : 0.0\n",
      "clf__min_impurity_split : None\n",
      "clf__min_samples_leaf : 2\n",
      "clf__min_samples_split : 20\n",
      "clf__min_weight_fraction_leaf : 0.0\n",
      "clf__n_estimators : 4000\n",
      "clf__n_jobs : None\n",
      "clf__oob_score : False\n",
      "clf__random_state : 7\n",
      "clf__verbose : 0\n",
      "clf__warm_start : False\n",
      "\n",
      "Prediction scores for Random Forest using _chi2 :\n",
      "Mean Squared error: 5.061939534681655\n",
      "Mean Absolute error: 1.4240582906759018\n",
      "R^2: 0.7403100811538146\n"
     ]
    }
   ],
   "source": [
    "chi2_model, chi2_train_score, chi2_mse, chi2_mae, chi2_r2 = get_best_model(sel_methods[1], args, num_folds, is_sample)"
   ]
  },
  {
   "cell_type": "code",
   "execution_count": 15,
   "metadata": {},
   "outputs": [],
   "source": [
    "#explore impurity decrease and alpha\n",
    "is_sample = False\n",
    "num_folds = 5\n",
    "args = {'clf__criterion':(['mse']),\n",
    "        'clf__n_estimators':(3500,4000,4500),\n",
    "        'clf__min_samples_split':([20]),\n",
    "        'clf__max_depth': ([10]),\n",
    "        'clf__min_samples_leaf':(2,5),\n",
    "        'clf__max_features':(['sqrt']),\n",
    "        'clf__random_state':([7]),\n",
    "        'clf__min_impurity_decrease':(arange(0,1,0.2)),\n",
    "        'clf__ccp_alpha':(arange(0,1,0.2))}"
   ]
  },
  {
   "cell_type": "code",
   "execution_count": 16,
   "metadata": {},
   "outputs": [
    {
     "name": "stdout",
     "output_type": "stream",
     "text": [
      "\n",
      "\n",
      "Running cross fold validation for Random Forest with _chi2 dataset\n",
      "Fitting 5 folds for each of 150 candidates, totalling 750 fits\n"
     ]
    },
    {
     "name": "stderr",
     "output_type": "stream",
     "text": [
      "[Parallel(n_jobs=6)]: Using backend LokyBackend with 6 concurrent workers.\n",
      "[Parallel(n_jobs=6)]: Done  38 tasks      | elapsed:  7.9min\n",
      "[Parallel(n_jobs=6)]: Done 188 tasks      | elapsed: 27.1min\n",
      "[Parallel(n_jobs=6)]: Done 438 tasks      | elapsed: 59.6min\n",
      "[Parallel(n_jobs=6)]: Done 750 out of 750 | elapsed: 102.7min finished\n"
     ]
    },
    {
     "name": "stdout",
     "output_type": "stream",
     "text": [
      "\n",
      "Best score for Random Forest with _chi2 dataset: 0.7388470622613086\n",
      "\n",
      "Best hyperparameters for Random Forest with _chi2 dataset:\n",
      "memory : None\n",
      "steps : [('clf', RandomForestRegressor(max_depth=10, max_features='sqrt', min_samples_leaf=5,\n",
      "                      min_samples_split=20, n_estimators=4000, random_state=7))]\n",
      "verbose : False\n",
      "clf : RandomForestRegressor(max_depth=10, max_features='sqrt', min_samples_leaf=5,\n",
      "                      min_samples_split=20, n_estimators=4000, random_state=7)\n",
      "clf__bootstrap : True\n",
      "clf__ccp_alpha : 0.0\n",
      "clf__criterion : mse\n",
      "clf__max_depth : 10\n",
      "clf__max_features : sqrt\n",
      "clf__max_leaf_nodes : None\n",
      "clf__max_samples : None\n",
      "clf__min_impurity_decrease : 0.0\n",
      "clf__min_impurity_split : None\n",
      "clf__min_samples_leaf : 5\n",
      "clf__min_samples_split : 20\n",
      "clf__min_weight_fraction_leaf : 0.0\n",
      "clf__n_estimators : 4000\n",
      "clf__n_jobs : None\n",
      "clf__oob_score : False\n",
      "clf__random_state : 7\n",
      "clf__verbose : 0\n",
      "clf__warm_start : False\n",
      "\n",
      "Prediction scores for Random Forest using _chi2 :\n",
      "Mean Squared error: 4.911368578260646\n",
      "Mean Absolute error: 1.407860626861064\n",
      "R^2: 0.7480347406811876\n"
     ]
    }
   ],
   "source": [
    "chi2_model, chi2_train_score, chi2_mse, chi2_mae, chi2_r2 = get_best_model(sel_methods[1], args, num_folds, is_sample)"
   ]
  },
  {
   "cell_type": "code",
   "execution_count": 33,
   "metadata": {},
   "outputs": [],
   "source": [
    "#alpha and impurity dont affect outcome, attempt to fine tune other hyperparameters\n",
    "is_sample = False\n",
    "num_folds = 10\n",
    "args = {'clf__criterion':(['mse']),\n",
    "        'clf__n_estimators':(3800,3900,4000,4100,4200),\n",
    "        'clf__min_samples_split':(18,19,20,21,22),\n",
    "        'clf__max_depth': (8,9,10,11,12),\n",
    "        'clf__min_samples_leaf':(3,4,5,6,7),\n",
    "        'clf__max_features':(['sqrt']),\n",
    "        'clf__random_state':([7])}"
   ]
  },
  {
   "cell_type": "code",
   "execution_count": 34,
   "metadata": {
    "scrolled": false
   },
   "outputs": [
    {
     "name": "stdout",
     "output_type": "stream",
     "text": [
      "\n",
      "\n",
      "Running cross fold validation for Random Forest with _chi2 dataset\n",
      "Fitting 10 folds for each of 625 candidates, totalling 6250 fits\n"
     ]
    },
    {
     "name": "stderr",
     "output_type": "stream",
     "text": [
      "[Parallel(n_jobs=6)]: Using backend LokyBackend with 6 concurrent workers.\n",
      "[Parallel(n_jobs=6)]: Done  38 tasks      | elapsed: 10.4min\n",
      "[Parallel(n_jobs=6)]: Done 188 tasks      | elapsed: 44.8min\n",
      "[Parallel(n_jobs=6)]: Done 438 tasks      | elapsed: 104.7min\n",
      "[Parallel(n_jobs=6)]: Done 788 tasks      | elapsed: 184.0min\n",
      "[Parallel(n_jobs=6)]: Done 1238 tasks      | elapsed: 279.8min\n",
      "[Parallel(n_jobs=6)]: Done 1788 tasks      | elapsed: 403.4min\n",
      "[Parallel(n_jobs=6)]: Done 2438 tasks      | elapsed: 546.3min\n",
      "[Parallel(n_jobs=6)]: Done 3188 tasks      | elapsed: 720.8min\n",
      "[Parallel(n_jobs=6)]: Done 4038 tasks      | elapsed: 926.6min\n",
      "[Parallel(n_jobs=6)]: Done 4988 tasks      | elapsed: 1175.7min\n",
      "[Parallel(n_jobs=6)]: Done 6038 tasks      | elapsed: 1469.9min\n",
      "[Parallel(n_jobs=6)]: Done 6250 out of 6250 | elapsed: 1527.5min finished\n"
     ]
    },
    {
     "name": "stdout",
     "output_type": "stream",
     "text": [
      "\n",
      "Best score for Random Forest with _chi2 dataset: 0.740039790321543\n",
      "\n",
      "Best hyperparameters for Random Forest with _chi2 dataset:\n",
      "memory : None\n",
      "steps : [('clf', RandomForestRegressor(max_depth=12, max_features='sqrt', min_samples_leaf=3,\n",
      "                      min_samples_split=21, n_estimators=4000, random_state=7))]\n",
      "verbose : False\n",
      "clf : RandomForestRegressor(max_depth=12, max_features='sqrt', min_samples_leaf=3,\n",
      "                      min_samples_split=21, n_estimators=4000, random_state=7)\n",
      "clf__bootstrap : True\n",
      "clf__ccp_alpha : 0.0\n",
      "clf__criterion : mse\n",
      "clf__max_depth : 12\n",
      "clf__max_features : sqrt\n",
      "clf__max_leaf_nodes : None\n",
      "clf__max_samples : None\n",
      "clf__min_impurity_decrease : 0.0\n",
      "clf__min_impurity_split : None\n",
      "clf__min_samples_leaf : 3\n",
      "clf__min_samples_split : 21\n",
      "clf__min_weight_fraction_leaf : 0.0\n",
      "clf__n_estimators : 4000\n",
      "clf__n_jobs : None\n",
      "clf__oob_score : False\n",
      "clf__random_state : 7\n",
      "clf__verbose : 0\n",
      "clf__warm_start : False\n",
      "\n",
      "Prediction scores for Random Forest using _chi2 :\n",
      "Mean Squared error: 4.904302574208434\n",
      "Mean Absolute error: 1.4032692620873453\n",
      "R^2: 0.7483972440272495\n"
     ]
    }
   ],
   "source": [
    "chi2_model, chi2_train_score, chi2_mse, chi2_mae, chi2_r2 = get_best_model(sel_methods[1], args, num_folds, is_sample)"
   ]
  },
  {
   "cell_type": "code",
   "execution_count": 43,
   "metadata": {},
   "outputs": [],
   "source": [
    "#fine tuning of hyperparameters\n",
    "is_sample = False\n",
    "num_folds = 10\n",
    "args = {'clf__criterion':(['mse']),\n",
    "        'clf__n_estimators':(3950,4000,4050,4100),\n",
    "        'clf__min_samples_split':(21,22,23),\n",
    "        'clf__max_depth': (12,13,14),\n",
    "        'clf__min_samples_leaf':(2,3,4),\n",
    "        'clf__max_features':(['sqrt']),\n",
    "        'clf__random_state':([7])}"
   ]
  },
  {
   "cell_type": "code",
   "execution_count": 44,
   "metadata": {
    "scrolled": false
   },
   "outputs": [
    {
     "name": "stdout",
     "output_type": "stream",
     "text": [
      "\n",
      "\n",
      "Running cross fold validation for Random Forest with _chi2 dataset\n",
      "Fitting 10 folds for each of 108 candidates, totalling 1080 fits\n"
     ]
    },
    {
     "name": "stderr",
     "output_type": "stream",
     "text": [
      "[Parallel(n_jobs=6)]: Using backend LokyBackend with 6 concurrent workers.\n",
      "[Parallel(n_jobs=6)]: Done  38 tasks      | elapsed: 11.0min\n",
      "[Parallel(n_jobs=6)]: Done 188 tasks      | elapsed: 49.9min\n",
      "[Parallel(n_jobs=6)]: Done 438 tasks      | elapsed: 115.0min\n",
      "[Parallel(n_jobs=6)]: Done 788 tasks      | elapsed: 224.3min\n",
      "[Parallel(n_jobs=6)]: Done 1080 out of 1080 | elapsed: 313.6min finished\n"
     ]
    },
    {
     "name": "stdout",
     "output_type": "stream",
     "text": [
      "\n",
      "Best score for Random Forest with _chi2 dataset: 0.740039790321543\n",
      "\n",
      "Best hyperparameters for Random Forest with _chi2 dataset:\n",
      "memory : None\n",
      "steps : [('clf', RandomForestRegressor(max_depth=12, max_features='sqrt', min_samples_leaf=3,\n",
      "                      min_samples_split=21, n_estimators=4000, random_state=7))]\n",
      "verbose : False\n",
      "clf : RandomForestRegressor(max_depth=12, max_features='sqrt', min_samples_leaf=3,\n",
      "                      min_samples_split=21, n_estimators=4000, random_state=7)\n",
      "clf__bootstrap : True\n",
      "clf__ccp_alpha : 0.0\n",
      "clf__criterion : mse\n",
      "clf__max_depth : 12\n",
      "clf__max_features : sqrt\n",
      "clf__max_leaf_nodes : None\n",
      "clf__max_samples : None\n",
      "clf__min_impurity_decrease : 0.0\n",
      "clf__min_impurity_split : None\n",
      "clf__min_samples_leaf : 3\n",
      "clf__min_samples_split : 21\n",
      "clf__min_weight_fraction_leaf : 0.0\n",
      "clf__n_estimators : 4000\n",
      "clf__n_jobs : None\n",
      "clf__oob_score : False\n",
      "clf__random_state : 7\n",
      "clf__verbose : 0\n",
      "clf__warm_start : False\n",
      "\n",
      "Prediction scores for Random Forest using _chi2 :\n",
      "Mean Squared error: 4.904302574208434\n",
      "Mean Absolute error: 1.4032692620873453\n",
      "R^2: 0.7483972440272495\n"
     ]
    }
   ],
   "source": [
    "chi2_model, chi2_train_score, chi2_mse, chi2_mae, chi2_r2 = get_best_model(sel_methods[1], args, num_folds, is_sample)"
   ]
  },
  {
   "cell_type": "code",
   "execution_count": 25,
   "metadata": {},
   "outputs": [],
   "source": [
    "#parameters stabalised, model saved\n",
    "is_sample = False\n",
    "num_folds = 10\n",
    "args = {'clf__criterion':(['mse']),\n",
    "        'clf__n_estimators':([4000]),\n",
    "        'clf__min_samples_split':([21]),\n",
    "        'clf__max_depth': ([12]),\n",
    "        'clf__min_samples_leaf':([3]),\n",
    "        'clf__max_features':(['sqrt']),\n",
    "        'clf__random_state':([7])}"
   ]
  },
  {
   "cell_type": "code",
   "execution_count": 26,
   "metadata": {},
   "outputs": [
    {
     "name": "stdout",
     "output_type": "stream",
     "text": [
      "\n",
      "\n",
      "Running cross fold validation for Random Forest with _chi2 dataset\n",
      "Fitting 10 folds for each of 1 candidates, totalling 10 fits\n"
     ]
    },
    {
     "name": "stderr",
     "output_type": "stream",
     "text": [
      "[Parallel(n_jobs=6)]: Using backend LokyBackend with 6 concurrent workers.\n",
      "[Parallel(n_jobs=6)]: Done  10 out of  10 | elapsed:  3.1min remaining:    0.0s\n",
      "[Parallel(n_jobs=6)]: Done  10 out of  10 | elapsed:  3.1min finished\n"
     ]
    },
    {
     "name": "stdout",
     "output_type": "stream",
     "text": [
      "\n",
      "Best score for Random Forest with _chi2 dataset: 0.740039790321543\n",
      "\n",
      "Best hyperparameters for Random Forest with _chi2 dataset:\n",
      "memory : None\n",
      "steps : [('clf', RandomForestRegressor(max_depth=12, max_features='sqrt', min_samples_leaf=3,\n",
      "                      min_samples_split=21, n_estimators=4000, random_state=7))]\n",
      "verbose : False\n",
      "clf : RandomForestRegressor(max_depth=12, max_features='sqrt', min_samples_leaf=3,\n",
      "                      min_samples_split=21, n_estimators=4000, random_state=7)\n",
      "clf__bootstrap : True\n",
      "clf__ccp_alpha : 0.0\n",
      "clf__criterion : mse\n",
      "clf__max_depth : 12\n",
      "clf__max_features : sqrt\n",
      "clf__max_leaf_nodes : None\n",
      "clf__max_samples : None\n",
      "clf__min_impurity_decrease : 0.0\n",
      "clf__min_impurity_split : None\n",
      "clf__min_samples_leaf : 3\n",
      "clf__min_samples_split : 21\n",
      "clf__min_weight_fraction_leaf : 0.0\n",
      "clf__n_estimators : 4000\n",
      "clf__n_jobs : None\n",
      "clf__oob_score : False\n",
      "clf__random_state : 7\n",
      "clf__verbose : 0\n",
      "clf__warm_start : False\n",
      "\n",
      "Prediction scores for Random Forest using _chi2 :\n",
      "Mean Squared error: 4.904302574208434\n",
      "Mean Absolute error: 1.4032692620873453\n",
      "R^2: 0.7483972440272495\n"
     ]
    }
   ],
   "source": [
    "chi2_model, chi2_train_score, chi2_mse, chi2_mae, chi2_r2 = get_best_model(sel_methods[1], args, num_folds, is_sample)"
   ]
  },
  {
   "cell_type": "code",
   "execution_count": 27,
   "metadata": {},
   "outputs": [],
   "source": [
    "save_model(chi2_model,sel_methods[1])"
   ]
  },
  {
   "cell_type": "markdown",
   "metadata": {},
   "source": [
    "<h3>AdaBoost feature selected dataset<h3>"
   ]
  },
  {
   "cell_type": "code",
   "execution_count": 12,
   "metadata": {},
   "outputs": [],
   "source": [
    "is_sample = True\n",
    "num_folds = 5\n",
    "args = {'clf__criterion':('mse','mae'),\n",
    "        'clf__n_estimators':(100,500,1000),\n",
    "        'clf__min_samples_split':(2,5,10),\n",
    "        'clf__max_depth': (10,20,30),\n",
    "        'clf__min_samples_leaf':(2,5,10),\n",
    "        'clf__max_features':('sqrt','log2'),\n",
    "        'clf__random_state':([7])}"
   ]
  },
  {
   "cell_type": "code",
   "execution_count": 13,
   "metadata": {},
   "outputs": [
    {
     "name": "stdout",
     "output_type": "stream",
     "text": [
      "\n",
      "\n",
      "Running cross fold validation for Random Forest with _adaboost dataset\n",
      "Fitting 5 folds for each of 324 candidates, totalling 1620 fits\n"
     ]
    },
    {
     "name": "stderr",
     "output_type": "stream",
     "text": [
      "[Parallel(n_jobs=6)]: Using backend LokyBackend with 6 concurrent workers.\n",
      "[Parallel(n_jobs=6)]: Done  38 tasks      | elapsed:   18.7s\n",
      "[Parallel(n_jobs=6)]: Done 188 tasks      | elapsed:  1.6min\n",
      "[Parallel(n_jobs=6)]: Done 438 tasks      | elapsed:  4.2min\n",
      "[Parallel(n_jobs=6)]: Done 788 tasks      | elapsed:  8.0min\n",
      "[Parallel(n_jobs=6)]: Done 1238 tasks      | elapsed: 188.3min\n",
      "[Parallel(n_jobs=6)]: Done 1620 out of 1620 | elapsed: 360.6min finished\n"
     ]
    },
    {
     "name": "stdout",
     "output_type": "stream",
     "text": [
      "\n",
      "Best score for Random Forest with _adaboost dataset: 0.7534699077776505\n",
      "\n",
      "Best hyperparameters for Random Forest with _adaboost dataset:\n",
      "memory : None\n",
      "steps : [('clf', RandomForestRegressor(max_depth=20, max_features='sqrt', min_samples_leaf=10,\n",
      "                      random_state=7))]\n",
      "verbose : False\n",
      "clf : RandomForestRegressor(max_depth=20, max_features='sqrt', min_samples_leaf=10,\n",
      "                      random_state=7)\n",
      "clf__bootstrap : True\n",
      "clf__ccp_alpha : 0.0\n",
      "clf__criterion : mse\n",
      "clf__max_depth : 20\n",
      "clf__max_features : sqrt\n",
      "clf__max_leaf_nodes : None\n",
      "clf__max_samples : None\n",
      "clf__min_impurity_decrease : 0.0\n",
      "clf__min_impurity_split : None\n",
      "clf__min_samples_leaf : 10\n",
      "clf__min_samples_split : 2\n",
      "clf__min_weight_fraction_leaf : 0.0\n",
      "clf__n_estimators : 100\n",
      "clf__n_jobs : None\n",
      "clf__oob_score : False\n",
      "clf__random_state : 7\n",
      "clf__verbose : 0\n",
      "clf__warm_start : False\n",
      "\n",
      "Prediction scores for Random Forest using _adaboost :\n",
      "Mean Squared error: 4.92464308363576\n",
      "Mean Absolute error: 1.3942635864105912\n",
      "R^2: 0.7473537259831715\n"
     ]
    }
   ],
   "source": [
    "ada_model, ada_train_score, ada_mse, ada_mae, ada_r2 = get_best_model(sel_methods[2], args, num_folds, is_sample)"
   ]
  },
  {
   "cell_type": "code",
   "execution_count": 8,
   "metadata": {},
   "outputs": [],
   "source": [
    "is_sample = True\n",
    "num_folds = 5\n",
    "args = {'clf__criterion':('mse','mae'),\n",
    "        'clf__n_estimators':(50,100,150),\n",
    "        'clf__min_samples_split':(2,5,10),\n",
    "        'clf__max_depth': (10,20,30),\n",
    "        'clf__min_samples_leaf':(2,5,10,20),\n",
    "        'clf__max_features':('sqrt','log2'),\n",
    "        'clf__random_state':([7])}"
   ]
  },
  {
   "cell_type": "code",
   "execution_count": 9,
   "metadata": {},
   "outputs": [
    {
     "name": "stdout",
     "output_type": "stream",
     "text": [
      "\n",
      "\n",
      "Running cross fold validation for Random Forest with _adaboost dataset\n",
      "Fitting 5 folds for each of 432 candidates, totalling 2160 fits\n"
     ]
    },
    {
     "name": "stderr",
     "output_type": "stream",
     "text": [
      "[Parallel(n_jobs=6)]: Using backend LokyBackend with 6 concurrent workers.\n",
      "[Parallel(n_jobs=6)]: Done  38 tasks      | elapsed:    5.1s\n",
      "[Parallel(n_jobs=6)]: Done 188 tasks      | elapsed:   19.4s\n",
      "[Parallel(n_jobs=6)]: Done 438 tasks      | elapsed:   46.7s\n",
      "[Parallel(n_jobs=6)]: Done 788 tasks      | elapsed:  1.5min\n",
      "[Parallel(n_jobs=6)]: Done 1238 tasks      | elapsed: 14.9min\n",
      "[Parallel(n_jobs=6)]: Done 1788 tasks      | elapsed: 60.7min\n",
      "[Parallel(n_jobs=6)]: Done 2160 out of 2160 | elapsed: 91.2min finished\n"
     ]
    },
    {
     "name": "stdout",
     "output_type": "stream",
     "text": [
      "\n",
      "Best score for Random Forest with _adaboost dataset: 0.7536951351693331\n",
      "\n",
      "Best hyperparameters for Random Forest with _adaboost dataset:\n",
      "memory : None\n",
      "steps : [('clf', RandomForestRegressor(max_depth=10, max_features='sqrt', min_samples_leaf=10,\n",
      "                      n_estimators=150, random_state=7))]\n",
      "verbose : False\n",
      "clf : RandomForestRegressor(max_depth=10, max_features='sqrt', min_samples_leaf=10,\n",
      "                      n_estimators=150, random_state=7)\n",
      "clf__bootstrap : True\n",
      "clf__ccp_alpha : 0.0\n",
      "clf__criterion : mse\n",
      "clf__max_depth : 10\n",
      "clf__max_features : sqrt\n",
      "clf__max_leaf_nodes : None\n",
      "clf__max_samples : None\n",
      "clf__min_impurity_decrease : 0.0\n",
      "clf__min_impurity_split : None\n",
      "clf__min_samples_leaf : 10\n",
      "clf__min_samples_split : 2\n",
      "clf__min_weight_fraction_leaf : 0.0\n",
      "clf__n_estimators : 150\n",
      "clf__n_jobs : None\n",
      "clf__oob_score : False\n",
      "clf__random_state : 7\n",
      "clf__verbose : 0\n",
      "clf__warm_start : False\n",
      "\n",
      "Prediction scores for Random Forest using _adaboost :\n",
      "Mean Squared error: 4.913666041164316\n",
      "Mean Absolute error: 1.3968537523177502\n",
      "R^2: 0.7479168751968375\n"
     ]
    }
   ],
   "source": [
    "ada_model, ada_train_score, ada_mse, ada_mae, ada_r2 = get_best_model(sel_methods[2], args, num_folds, is_sample)"
   ]
  },
  {
   "cell_type": "code",
   "execution_count": 17,
   "metadata": {},
   "outputs": [],
   "source": [
    "#explore impurity decrease and alpha\n",
    "is_sample = True\n",
    "num_folds = 5\n",
    "args = {'clf__criterion':(['mse']),\n",
    "        'clf__n_estimators':(150,200),\n",
    "        'clf__min_samples_split':(2,5),\n",
    "        'clf__max_depth': (10,20),\n",
    "        'clf__min_samples_leaf':(5,10,20),\n",
    "        'clf__max_features':(['sqrt']),\n",
    "        'clf__random_state':([7]),\n",
    "        'clf__min_impurity_decrease':(arange(0,1,0.2)),\n",
    "        'clf__ccp_alpha':(arange(0,1,0.2))}"
   ]
  },
  {
   "cell_type": "code",
   "execution_count": 18,
   "metadata": {},
   "outputs": [
    {
     "name": "stdout",
     "output_type": "stream",
     "text": [
      "\n",
      "\n",
      "Running cross fold validation for Random Forest with _adaboost dataset\n",
      "Fitting 5 folds for each of 600 candidates, totalling 3000 fits\n"
     ]
    },
    {
     "name": "stderr",
     "output_type": "stream",
     "text": [
      "[Parallel(n_jobs=6)]: Using backend LokyBackend with 6 concurrent workers.\n",
      "[Parallel(n_jobs=6)]: Done  38 tasks      | elapsed:    6.9s\n",
      "[Parallel(n_jobs=6)]: Done 188 tasks      | elapsed:   22.1s\n",
      "[Parallel(n_jobs=6)]: Done 438 tasks      | elapsed:   51.8s\n",
      "[Parallel(n_jobs=6)]: Done 788 tasks      | elapsed:  1.5min\n",
      "[Parallel(n_jobs=6)]: Done 1238 tasks      | elapsed:  2.3min\n",
      "[Parallel(n_jobs=6)]: Done 1788 tasks      | elapsed:  3.3min\n",
      "[Parallel(n_jobs=6)]: Done 2438 tasks      | elapsed:  4.5min\n",
      "[Parallel(n_jobs=6)]: Done 3000 out of 3000 | elapsed:  5.5min finished\n"
     ]
    },
    {
     "name": "stdout",
     "output_type": "stream",
     "text": [
      "\n",
      "Best score for Random Forest with _adaboost dataset: 0.7536951351693331\n",
      "\n",
      "Best hyperparameters for Random Forest with _adaboost dataset:\n",
      "memory : None\n",
      "steps : [('clf', RandomForestRegressor(max_depth=10, max_features='sqrt', min_samples_leaf=10,\n",
      "                      n_estimators=150, random_state=7))]\n",
      "verbose : False\n",
      "clf : RandomForestRegressor(max_depth=10, max_features='sqrt', min_samples_leaf=10,\n",
      "                      n_estimators=150, random_state=7)\n",
      "clf__bootstrap : True\n",
      "clf__ccp_alpha : 0.0\n",
      "clf__criterion : mse\n",
      "clf__max_depth : 10\n",
      "clf__max_features : sqrt\n",
      "clf__max_leaf_nodes : None\n",
      "clf__max_samples : None\n",
      "clf__min_impurity_decrease : 0.0\n",
      "clf__min_impurity_split : None\n",
      "clf__min_samples_leaf : 10\n",
      "clf__min_samples_split : 2\n",
      "clf__min_weight_fraction_leaf : 0.0\n",
      "clf__n_estimators : 150\n",
      "clf__n_jobs : None\n",
      "clf__oob_score : False\n",
      "clf__random_state : 7\n",
      "clf__verbose : 0\n",
      "clf__warm_start : False\n",
      "\n",
      "Prediction scores for Random Forest using _adaboost :\n",
      "Mean Squared error: 4.913666041164316\n",
      "Mean Absolute error: 1.3968537523177502\n",
      "R^2: 0.7479168751968375\n"
     ]
    }
   ],
   "source": [
    "ada_model, ada_train_score, ada_mse, ada_mae, ada_r2 = get_best_model(sel_methods[2], args, num_folds, is_sample)"
   ]
  },
  {
   "cell_type": "code",
   "execution_count": 35,
   "metadata": {},
   "outputs": [],
   "source": [
    "#alpha and impurity dont affect outcome, attempt to fine tune other hyperparameters\n",
    "is_sample = False\n",
    "num_folds = 10\n",
    "args = {'clf__criterion':(['mse']),\n",
    "        'clf__n_estimators':(130,140,150,160,170),\n",
    "        'clf__min_samples_split':(2,3,4,5),\n",
    "        'clf__max_depth': (8,9,10,11,12),\n",
    "        'clf__min_samples_leaf':(8,9,10,11,12),\n",
    "        'clf__max_features':(['sqrt']),\n",
    "        'clf__random_state':([7])}"
   ]
  },
  {
   "cell_type": "code",
   "execution_count": 36,
   "metadata": {},
   "outputs": [
    {
     "name": "stdout",
     "output_type": "stream",
     "text": [
      "\n",
      "\n",
      "Running cross fold validation for Random Forest with _adaboost dataset\n",
      "Fitting 10 folds for each of 500 candidates, totalling 5000 fits\n"
     ]
    },
    {
     "name": "stderr",
     "output_type": "stream",
     "text": [
      "[Parallel(n_jobs=6)]: Using backend LokyBackend with 6 concurrent workers.\n",
      "[Parallel(n_jobs=6)]: Done  38 tasks      | elapsed:   28.5s\n",
      "[Parallel(n_jobs=6)]: Done 188 tasks      | elapsed:  2.1min\n",
      "[Parallel(n_jobs=6)]: Done 438 tasks      | elapsed:  4.6min\n",
      "[Parallel(n_jobs=6)]: Done 788 tasks      | elapsed:  8.2min\n",
      "[Parallel(n_jobs=6)]: Done 1238 tasks      | elapsed: 13.0min\n",
      "[Parallel(n_jobs=6)]: Done 1788 tasks      | elapsed: 19.0min\n",
      "[Parallel(n_jobs=6)]: Done 2438 tasks      | elapsed: 26.3min\n",
      "[Parallel(n_jobs=6)]: Done 3188 tasks      | elapsed: 35.1min\n",
      "[Parallel(n_jobs=6)]: Done 4038 tasks      | elapsed: 45.4min\n",
      "[Parallel(n_jobs=6)]: Done 4988 tasks      | elapsed: 57.3min\n",
      "[Parallel(n_jobs=6)]: Done 5000 out of 5000 | elapsed: 57.5min finished\n"
     ]
    },
    {
     "name": "stdout",
     "output_type": "stream",
     "text": [
      "\n",
      "Best score for Random Forest with _adaboost dataset: 0.7456802428990673\n",
      "\n",
      "Best hyperparameters for Random Forest with _adaboost dataset:\n",
      "memory : None\n",
      "steps : [('clf', RandomForestRegressor(max_depth=11, max_features='sqrt', min_samples_leaf=9,\n",
      "                      n_estimators=170, random_state=7))]\n",
      "verbose : False\n",
      "clf : RandomForestRegressor(max_depth=11, max_features='sqrt', min_samples_leaf=9,\n",
      "                      n_estimators=170, random_state=7)\n",
      "clf__bootstrap : True\n",
      "clf__ccp_alpha : 0.0\n",
      "clf__criterion : mse\n",
      "clf__max_depth : 11\n",
      "clf__max_features : sqrt\n",
      "clf__max_leaf_nodes : None\n",
      "clf__max_samples : None\n",
      "clf__min_impurity_decrease : 0.0\n",
      "clf__min_impurity_split : None\n",
      "clf__min_samples_leaf : 9\n",
      "clf__min_samples_split : 2\n",
      "clf__min_weight_fraction_leaf : 0.0\n",
      "clf__n_estimators : 170\n",
      "clf__n_jobs : None\n",
      "clf__oob_score : False\n",
      "clf__random_state : 7\n",
      "clf__verbose : 0\n",
      "clf__warm_start : False\n",
      "\n",
      "Prediction scores for Random Forest using _adaboost :\n",
      "Mean Squared error: 4.788526091075516\n",
      "Mean Absolute error: 1.3839769029981872\n",
      "R^2: 0.7543368616981222\n"
     ]
    }
   ],
   "source": [
    "ada_model, ada_train_score, ada_mse, ada_mae, ada_r2 = get_best_model(sel_methods[2], args, num_folds, is_sample)"
   ]
  },
  {
   "cell_type": "code",
   "execution_count": 45,
   "metadata": {},
   "outputs": [],
   "source": [
    "#fine tuning of hyperparameters\n",
    "is_sample = False\n",
    "num_folds = 10\n",
    "args = {'clf__criterion':(['mse']),\n",
    "        'clf__n_estimators':(165,170,175,180,185),\n",
    "        'clf__min_samples_split':(2,3,4),\n",
    "        'clf__max_depth': (10,11,12,13),\n",
    "        'clf__min_samples_leaf':(7,8,9,10,11),\n",
    "        'clf__max_features':(['sqrt']),\n",
    "        'clf__random_state':([7])}"
   ]
  },
  {
   "cell_type": "code",
   "execution_count": 46,
   "metadata": {
    "scrolled": false
   },
   "outputs": [
    {
     "name": "stdout",
     "output_type": "stream",
     "text": [
      "\n",
      "\n",
      "Running cross fold validation for Random Forest with _adaboost dataset\n",
      "Fitting 10 folds for each of 300 candidates, totalling 3000 fits\n"
     ]
    },
    {
     "name": "stderr",
     "output_type": "stream",
     "text": [
      "[Parallel(n_jobs=6)]: Using backend LokyBackend with 6 concurrent workers.\n",
      "[Parallel(n_jobs=6)]: Done  38 tasks      | elapsed:   37.2s\n",
      "[Parallel(n_jobs=6)]: Done 188 tasks      | elapsed:  2.9min\n",
      "[Parallel(n_jobs=6)]: Done 438 tasks      | elapsed:  6.6min\n",
      "[Parallel(n_jobs=6)]: Done 788 tasks      | elapsed: 11.7min\n",
      "[Parallel(n_jobs=6)]: Done 1238 tasks      | elapsed: 18.5min\n",
      "[Parallel(n_jobs=6)]: Done 1788 tasks      | elapsed: 27.3min\n",
      "[Parallel(n_jobs=6)]: Done 2438 tasks      | elapsed: 38.2min\n",
      "[Parallel(n_jobs=6)]: Done 3000 out of 3000 | elapsed: 47.7min finished\n"
     ]
    },
    {
     "name": "stdout",
     "output_type": "stream",
     "text": [
      "\n",
      "Best score for Random Forest with _adaboost dataset: 0.746065624980193\n",
      "\n",
      "Best hyperparameters for Random Forest with _adaboost dataset:\n",
      "memory : None\n",
      "steps : [('clf', RandomForestRegressor(max_depth=13, max_features='sqrt', min_samples_leaf=9,\n",
      "                      n_estimators=175, random_state=7))]\n",
      "verbose : False\n",
      "clf : RandomForestRegressor(max_depth=13, max_features='sqrt', min_samples_leaf=9,\n",
      "                      n_estimators=175, random_state=7)\n",
      "clf__bootstrap : True\n",
      "clf__ccp_alpha : 0.0\n",
      "clf__criterion : mse\n",
      "clf__max_depth : 13\n",
      "clf__max_features : sqrt\n",
      "clf__max_leaf_nodes : None\n",
      "clf__max_samples : None\n",
      "clf__min_impurity_decrease : 0.0\n",
      "clf__min_impurity_split : None\n",
      "clf__min_samples_leaf : 9\n",
      "clf__min_samples_split : 2\n",
      "clf__min_weight_fraction_leaf : 0.0\n",
      "clf__n_estimators : 175\n",
      "clf__n_jobs : None\n",
      "clf__oob_score : False\n",
      "clf__random_state : 7\n",
      "clf__verbose : 0\n",
      "clf__warm_start : False\n",
      "\n",
      "Prediction scores for Random Forest using _adaboost :\n",
      "Mean Squared error: 4.779151958233372\n",
      "Mean Absolute error: 1.3802082165112193\n",
      "R^2: 0.754817777714671\n"
     ]
    }
   ],
   "source": [
    "ada_model, ada_train_score, ada_mse, ada_mae, ada_r2 = get_best_model(sel_methods[2], args, num_folds, is_sample)"
   ]
  },
  {
   "cell_type": "code",
   "execution_count": 51,
   "metadata": {},
   "outputs": [],
   "source": [
    "# further fine tuning of hyperparameters\n",
    "is_sample = False\n",
    "num_folds = 10\n",
    "args = {'clf__criterion':(['mse']),\n",
    "        'clf__n_estimators':(171,172,173,174,175,176,177,178,179),\n",
    "        'clf__min_samples_split':(2,3,4),\n",
    "        'clf__max_depth': (13,14,15,16),\n",
    "        'clf__min_samples_leaf':(7,8,9,10,11),\n",
    "        'clf__max_features':(['sqrt']),\n",
    "        'clf__random_state':([7])}"
   ]
  },
  {
   "cell_type": "code",
   "execution_count": 52,
   "metadata": {
    "scrolled": false
   },
   "outputs": [
    {
     "name": "stdout",
     "output_type": "stream",
     "text": [
      "\n",
      "\n",
      "Running cross fold validation for Random Forest with _adaboost dataset\n",
      "Fitting 10 folds for each of 540 candidates, totalling 5400 fits\n"
     ]
    },
    {
     "name": "stderr",
     "output_type": "stream",
     "text": [
      "[Parallel(n_jobs=6)]: Using backend LokyBackend with 6 concurrent workers.\n",
      "[Parallel(n_jobs=6)]: Done  38 tasks      | elapsed:   44.5s\n",
      "[Parallel(n_jobs=6)]: Done 188 tasks      | elapsed:  3.2min\n",
      "[Parallel(n_jobs=6)]: Done 438 tasks      | elapsed:  7.2min\n",
      "[Parallel(n_jobs=6)]: Done 788 tasks      | elapsed: 12.7min\n",
      "[Parallel(n_jobs=6)]: Done 1238 tasks      | elapsed: 19.8min\n",
      "[Parallel(n_jobs=6)]: Done 1788 tasks      | elapsed: 28.8min\n",
      "[Parallel(n_jobs=6)]: Done 2438 tasks      | elapsed: 39.4min\n",
      "[Parallel(n_jobs=6)]: Done 3188 tasks      | elapsed: 51.8min\n",
      "[Parallel(n_jobs=6)]: Done 4038 tasks      | elapsed: 66.0min\n",
      "[Parallel(n_jobs=6)]: Done 4988 tasks      | elapsed: 82.2min\n",
      "[Parallel(n_jobs=6)]: Done 5400 out of 5400 | elapsed: 89.2min finished\n"
     ]
    },
    {
     "name": "stdout",
     "output_type": "stream",
     "text": [
      "\n",
      "Best score for Random Forest with _adaboost dataset: 0.746065624980193\n",
      "\n",
      "Best hyperparameters for Random Forest with _adaboost dataset:\n",
      "memory : None\n",
      "steps : [('clf', RandomForestRegressor(max_depth=13, max_features='sqrt', min_samples_leaf=9,\n",
      "                      n_estimators=175, random_state=7))]\n",
      "verbose : False\n",
      "clf : RandomForestRegressor(max_depth=13, max_features='sqrt', min_samples_leaf=9,\n",
      "                      n_estimators=175, random_state=7)\n",
      "clf__bootstrap : True\n",
      "clf__ccp_alpha : 0.0\n",
      "clf__criterion : mse\n",
      "clf__max_depth : 13\n",
      "clf__max_features : sqrt\n",
      "clf__max_leaf_nodes : None\n",
      "clf__max_samples : None\n",
      "clf__min_impurity_decrease : 0.0\n",
      "clf__min_impurity_split : None\n",
      "clf__min_samples_leaf : 9\n",
      "clf__min_samples_split : 2\n",
      "clf__min_weight_fraction_leaf : 0.0\n",
      "clf__n_estimators : 175\n",
      "clf__n_jobs : None\n",
      "clf__oob_score : False\n",
      "clf__random_state : 7\n",
      "clf__verbose : 0\n",
      "clf__warm_start : False\n",
      "\n",
      "Prediction scores for Random Forest using _adaboost :\n",
      "Mean Squared error: 4.779151958233372\n",
      "Mean Absolute error: 1.3802082165112193\n",
      "R^2: 0.754817777714671\n"
     ]
    }
   ],
   "source": [
    "ada_model, ada_train_score, ada_mse, ada_mae, ada_r2 = get_best_model(sel_methods[2], args, num_folds, is_sample)"
   ]
  },
  {
   "cell_type": "code",
   "execution_count": 28,
   "metadata": {},
   "outputs": [],
   "source": [
    "#hyperparameters stable, model saved\n",
    "is_sample = False\n",
    "num_folds = 10\n",
    "args = {'clf__criterion':(['mse']),\n",
    "        'clf__n_estimators':([175]),\n",
    "        'clf__min_samples_split':([2]),\n",
    "        'clf__max_depth': ([13]),\n",
    "        'clf__min_samples_leaf':([9]),\n",
    "        'clf__max_features':(['sqrt']),\n",
    "        'clf__random_state':([7])}"
   ]
  },
  {
   "cell_type": "code",
   "execution_count": 29,
   "metadata": {},
   "outputs": [
    {
     "name": "stdout",
     "output_type": "stream",
     "text": [
      "\n",
      "\n",
      "Running cross fold validation for Random Forest with _adaboost dataset\n",
      "Fitting 10 folds for each of 1 candidates, totalling 10 fits\n"
     ]
    },
    {
     "name": "stderr",
     "output_type": "stream",
     "text": [
      "[Parallel(n_jobs=6)]: Using backend LokyBackend with 6 concurrent workers.\n",
      "[Parallel(n_jobs=6)]: Done  10 out of  10 | elapsed:   10.6s remaining:    0.0s\n",
      "[Parallel(n_jobs=6)]: Done  10 out of  10 | elapsed:   10.6s finished\n"
     ]
    },
    {
     "name": "stdout",
     "output_type": "stream",
     "text": [
      "\n",
      "Best score for Random Forest with _adaboost dataset: 0.746065624980193\n",
      "\n",
      "Best hyperparameters for Random Forest with _adaboost dataset:\n",
      "memory : None\n",
      "steps : [('clf', RandomForestRegressor(max_depth=13, max_features='sqrt', min_samples_leaf=9,\n",
      "                      n_estimators=175, random_state=7))]\n",
      "verbose : False\n",
      "clf : RandomForestRegressor(max_depth=13, max_features='sqrt', min_samples_leaf=9,\n",
      "                      n_estimators=175, random_state=7)\n",
      "clf__bootstrap : True\n",
      "clf__ccp_alpha : 0.0\n",
      "clf__criterion : mse\n",
      "clf__max_depth : 13\n",
      "clf__max_features : sqrt\n",
      "clf__max_leaf_nodes : None\n",
      "clf__max_samples : None\n",
      "clf__min_impurity_decrease : 0.0\n",
      "clf__min_impurity_split : None\n",
      "clf__min_samples_leaf : 9\n",
      "clf__min_samples_split : 2\n",
      "clf__min_weight_fraction_leaf : 0.0\n",
      "clf__n_estimators : 175\n",
      "clf__n_jobs : None\n",
      "clf__oob_score : False\n",
      "clf__random_state : 7\n",
      "clf__verbose : 0\n",
      "clf__warm_start : False\n",
      "\n",
      "Prediction scores for Random Forest using _adaboost :\n",
      "Mean Squared error: 4.779151958233372\n",
      "Mean Absolute error: 1.3802082165112193\n",
      "R^2: 0.754817777714671\n"
     ]
    }
   ],
   "source": [
    "ada_model, ada_train_score, ada_mse, ada_mae, ada_r2 = get_best_model(sel_methods[2], args, num_folds, is_sample)"
   ]
  },
  {
   "cell_type": "code",
   "execution_count": 30,
   "metadata": {},
   "outputs": [],
   "source": [
    "save_model(ada_model,sel_methods[2])"
   ]
  },
  {
   "cell_type": "markdown",
   "metadata": {},
   "source": [
    "<h3>Equal business and crime feature selected dataset<h3>"
   ]
  },
  {
   "cell_type": "code",
   "execution_count": 14,
   "metadata": {},
   "outputs": [],
   "source": [
    "is_sample = True\n",
    "num_folds = 5\n",
    "args = {'clf__criterion':('mse','mae'),\n",
    "        'clf__n_estimators':(100,500,1000),\n",
    "        'clf__min_samples_split':(2,5,10),\n",
    "        'clf__max_depth': (10,20,30),\n",
    "        'clf__min_samples_leaf':(2,5,10),\n",
    "        'clf__max_features':('sqrt','log2'),\n",
    "        'clf__random_state':([7])}"
   ]
  },
  {
   "cell_type": "code",
   "execution_count": 15,
   "metadata": {},
   "outputs": [
    {
     "name": "stdout",
     "output_type": "stream",
     "text": [
      "\n",
      "\n",
      "Running cross fold validation for Random Forest with _equal_crime_and_business dataset\n",
      "Fitting 5 folds for each of 324 candidates, totalling 1620 fits\n"
     ]
    },
    {
     "name": "stderr",
     "output_type": "stream",
     "text": [
      "[Parallel(n_jobs=6)]: Using backend LokyBackend with 6 concurrent workers.\n",
      "[Parallel(n_jobs=6)]: Done  38 tasks      | elapsed:   19.8s\n",
      "[Parallel(n_jobs=6)]: Done 188 tasks      | elapsed:  1.6min\n",
      "[Parallel(n_jobs=6)]: Done 438 tasks      | elapsed:  4.3min\n",
      "[Parallel(n_jobs=6)]: Done 788 tasks      | elapsed:  8.3min\n",
      "[Parallel(n_jobs=6)]: Done 1238 tasks      | elapsed: 200.8min\n",
      "[Parallel(n_jobs=6)]: Done 1620 out of 1620 | elapsed: 386.1min finished\n"
     ]
    },
    {
     "name": "stdout",
     "output_type": "stream",
     "text": [
      "\n",
      "Best score for Random Forest with _equal_crime_and_business dataset: 0.7445835567793088\n",
      "\n",
      "Best hyperparameters for Random Forest with _equal_crime_and_business dataset:\n",
      "memory : None\n",
      "steps : [('clf', RandomForestRegressor(max_depth=10, max_features='sqrt', min_samples_leaf=10,\n",
      "                      n_estimators=500, random_state=7))]\n",
      "verbose : False\n",
      "clf : RandomForestRegressor(max_depth=10, max_features='sqrt', min_samples_leaf=10,\n",
      "                      n_estimators=500, random_state=7)\n",
      "clf__bootstrap : True\n",
      "clf__ccp_alpha : 0.0\n",
      "clf__criterion : mse\n",
      "clf__max_depth : 10\n",
      "clf__max_features : sqrt\n",
      "clf__max_leaf_nodes : None\n",
      "clf__max_samples : None\n",
      "clf__min_impurity_decrease : 0.0\n",
      "clf__min_impurity_split : None\n",
      "clf__min_samples_leaf : 10\n",
      "clf__min_samples_split : 2\n",
      "clf__min_weight_fraction_leaf : 0.0\n",
      "clf__n_estimators : 500\n",
      "clf__n_jobs : None\n",
      "clf__oob_score : False\n",
      "clf__random_state : 7\n",
      "clf__verbose : 0\n",
      "clf__warm_start : False\n",
      "\n",
      "Prediction scores for Random Forest using _equal_crime_and_business :\n",
      "Mean Squared error: 4.980095444334913\n",
      "Mean Absolute error: 1.414365723940434\n",
      "R^2: 0.7445088838132623\n"
     ]
    }
   ],
   "source": [
    "equal_model, equal_train_score, equal_mse, equal_mae, equal_r2 = get_best_model(sel_methods[3], args, num_folds, is_sample)"
   ]
  },
  {
   "cell_type": "code",
   "execution_count": 19,
   "metadata": {},
   "outputs": [],
   "source": [
    "#explore impurity decrease and alpha\n",
    "is_sample = True\n",
    "num_folds = 5\n",
    "args = {'clf__criterion':(['mse']),\n",
    "        'clf__n_estimators':(400,500,600),\n",
    "        'clf__min_samples_split':(2,5),\n",
    "        'clf__max_depth': (10,20),\n",
    "        'clf__min_samples_leaf':(10,20),\n",
    "        'clf__max_features':(['sqrt']),\n",
    "        'clf__random_state':([7]),\n",
    "        'clf__min_impurity_decrease':(arange(0,1,0.2)),\n",
    "        'clf__ccp_alpha':(arange(0,1,0.2))}"
   ]
  },
  {
   "cell_type": "code",
   "execution_count": 20,
   "metadata": {},
   "outputs": [
    {
     "name": "stdout",
     "output_type": "stream",
     "text": [
      "\n",
      "\n",
      "Running cross fold validation for Random Forest with _equal_crime_and_business dataset\n",
      "Fitting 5 folds for each of 600 candidates, totalling 3000 fits\n"
     ]
    },
    {
     "name": "stderr",
     "output_type": "stream",
     "text": [
      "[Parallel(n_jobs=6)]: Using backend LokyBackend with 6 concurrent workers.\n",
      "[Parallel(n_jobs=6)]: Done  38 tasks      | elapsed:   18.8s\n",
      "[Parallel(n_jobs=6)]: Done 188 tasks      | elapsed:  1.0min\n",
      "[Parallel(n_jobs=6)]: Done 438 tasks      | elapsed:  2.4min\n",
      "[Parallel(n_jobs=6)]: Done 788 tasks      | elapsed:  4.1min\n",
      "[Parallel(n_jobs=6)]: Done 1238 tasks      | elapsed:  6.4min\n",
      "[Parallel(n_jobs=6)]: Done 1788 tasks      | elapsed:  9.2min\n",
      "[Parallel(n_jobs=6)]: Done 2438 tasks      | elapsed: 12.6min\n",
      "[Parallel(n_jobs=6)]: Done 3000 out of 3000 | elapsed: 15.4min finished\n"
     ]
    },
    {
     "name": "stdout",
     "output_type": "stream",
     "text": [
      "\n",
      "Best score for Random Forest with _equal_crime_and_business dataset: 0.7446844125063732\n",
      "\n",
      "Best hyperparameters for Random Forest with _equal_crime_and_business dataset:\n",
      "memory : None\n",
      "steps : [('clf', RandomForestRegressor(max_depth=10, max_features='sqrt', min_samples_leaf=10,\n",
      "                      n_estimators=600, random_state=7))]\n",
      "verbose : False\n",
      "clf : RandomForestRegressor(max_depth=10, max_features='sqrt', min_samples_leaf=10,\n",
      "                      n_estimators=600, random_state=7)\n",
      "clf__bootstrap : True\n",
      "clf__ccp_alpha : 0.0\n",
      "clf__criterion : mse\n",
      "clf__max_depth : 10\n",
      "clf__max_features : sqrt\n",
      "clf__max_leaf_nodes : None\n",
      "clf__max_samples : None\n",
      "clf__min_impurity_decrease : 0.0\n",
      "clf__min_impurity_split : None\n",
      "clf__min_samples_leaf : 10\n",
      "clf__min_samples_split : 2\n",
      "clf__min_weight_fraction_leaf : 0.0\n",
      "clf__n_estimators : 600\n",
      "clf__n_jobs : None\n",
      "clf__oob_score : False\n",
      "clf__random_state : 7\n",
      "clf__verbose : 0\n",
      "clf__warm_start : False\n",
      "\n",
      "Prediction scores for Random Forest using _equal_crime_and_business :\n",
      "Mean Squared error: 4.9790767212003395\n",
      "Mean Absolute error: 1.4143439500312733\n",
      "R^2: 0.7445611468097545\n"
     ]
    }
   ],
   "source": [
    "equal_model, equal_train_score, equal_mse, equal_mae, equal_r2 = get_best_model(sel_methods[3], args, num_folds, is_sample)"
   ]
  },
  {
   "cell_type": "code",
   "execution_count": 37,
   "metadata": {},
   "outputs": [],
   "source": [
    "#alpha and impurity dont affect outcome, attempt to fine tune other hyperparameters\n",
    "is_sample = False\n",
    "num_folds = 10\n",
    "args = {'clf__criterion':(['mse']),\n",
    "        'clf__n_estimators':(600,700,800),\n",
    "        'clf__min_samples_split':(2,3,4,5),\n",
    "        'clf__max_depth': (8,9,10,11,12),\n",
    "        'clf__min_samples_leaf':(8,9,10,11,12),\n",
    "        'clf__max_features':(['sqrt']),\n",
    "        'clf__random_state':([7])}"
   ]
  },
  {
   "cell_type": "code",
   "execution_count": 38,
   "metadata": {
    "scrolled": false
   },
   "outputs": [
    {
     "name": "stdout",
     "output_type": "stream",
     "text": [
      "\n",
      "\n",
      "Running cross fold validation for Random Forest with _equal_crime_and_business dataset\n",
      "Fitting 10 folds for each of 300 candidates, totalling 3000 fits\n"
     ]
    },
    {
     "name": "stderr",
     "output_type": "stream",
     "text": [
      "[Parallel(n_jobs=6)]: Using backend LokyBackend with 6 concurrent workers.\n",
      "[Parallel(n_jobs=6)]: Done  38 tasks      | elapsed:  1.9min\n",
      "[Parallel(n_jobs=6)]: Done 188 tasks      | elapsed:  9.1min\n",
      "[Parallel(n_jobs=6)]: Done 438 tasks      | elapsed: 21.7min\n",
      "[Parallel(n_jobs=6)]: Done 788 tasks      | elapsed: 41.1min\n",
      "[Parallel(n_jobs=6)]: Done 1238 tasks      | elapsed: 65.8min\n",
      "[Parallel(n_jobs=6)]: Done 1788 tasks      | elapsed: 96.5min\n",
      "[Parallel(n_jobs=6)]: Done 2438 tasks      | elapsed: 133.5min\n",
      "[Parallel(n_jobs=6)]: Done 3000 out of 3000 | elapsed: 167.4min finished\n"
     ]
    },
    {
     "name": "stdout",
     "output_type": "stream",
     "text": [
      "\n",
      "Best score for Random Forest with _equal_crime_and_business dataset: 0.7392438369753024\n",
      "\n",
      "Best hyperparameters for Random Forest with _equal_crime_and_business dataset:\n",
      "memory : None\n",
      "steps : [('clf', RandomForestRegressor(max_depth=12, max_features='sqrt', min_samples_leaf=12,\n",
      "                      n_estimators=600, random_state=7))]\n",
      "verbose : False\n",
      "clf : RandomForestRegressor(max_depth=12, max_features='sqrt', min_samples_leaf=12,\n",
      "                      n_estimators=600, random_state=7)\n",
      "clf__bootstrap : True\n",
      "clf__ccp_alpha : 0.0\n",
      "clf__criterion : mse\n",
      "clf__max_depth : 12\n",
      "clf__max_features : sqrt\n",
      "clf__max_leaf_nodes : None\n",
      "clf__max_samples : None\n",
      "clf__min_impurity_decrease : 0.0\n",
      "clf__min_impurity_split : None\n",
      "clf__min_samples_leaf : 12\n",
      "clf__min_samples_split : 2\n",
      "clf__min_weight_fraction_leaf : 0.0\n",
      "clf__n_estimators : 600\n",
      "clf__n_jobs : None\n",
      "clf__oob_score : False\n",
      "clf__random_state : 7\n",
      "clf__verbose : 0\n",
      "clf__warm_start : False\n",
      "\n",
      "Prediction scores for Random Forest using _equal_crime_and_business :\n",
      "Mean Squared error: 4.852577163220166\n",
      "Mean Absolute error: 1.3923245233176431\n",
      "R^2: 0.751050884532\n"
     ]
    }
   ],
   "source": [
    "equal_model, equal_train_score, equal_mse, equal_mae, equal_r2 = get_best_model(sel_methods[3], args, num_folds, is_sample)"
   ]
  },
  {
   "cell_type": "markdown",
   "metadata": {},
   "source": [
    "<h3> Retrain on revised dataset <h3>"
   ]
  },
  {
   "cell_type": "code",
   "execution_count": 8,
   "metadata": {},
   "outputs": [],
   "source": [
    "def get_best_model_revised(method, args, _cv, is_sample):\n",
    "    sample_string = ''\n",
    "    if (is_sample):\n",
    "        sample_string = '_sample'\n",
    "    y_train = pd.read_csv('y_train'+ sample_string + '_revised.csv')    \n",
    "    method_string = method\n",
    "    if (method == ''):\n",
    "        method_string = \"no feature selection\"\n",
    "    print('\\n\\nRunning cross fold validation for',display_name,'with',method_string,'dataset')\n",
    "    x_train = pd.read_csv('x_train' + method + sample_string + '_revised.csv').values\n",
    "    x_test = pd.read_csv('x_test' + method + '_revised.csv').values\n",
    "    pipe = Pipeline([('clf', RandomForestRegressor())])\n",
    "    grid = GridSearchCV(pipe, args, cv = _cv, verbose = 1, scoring = 'r2', n_jobs=6)\n",
    "    grid.fit(x_train, y_train.values.ravel())\n",
    "    print('\\nBest score for',display_name,'with',method_string,\"dataset:\",grid.best_score_)\n",
    "    best_args = grid.best_estimator_.get_params()\n",
    "    print('\\nBest hyperparameters for',display_name,'with',method_string,'dataset:')\n",
    "    for arg in best_args:\n",
    "        print(arg,\":\",best_args[arg])\n",
    "    y_test_predict = grid.predict(x_test)\n",
    "    mse = mean_squared_error(y_test,y_test_predict)\n",
    "    mae = mean_absolute_error(y_test,y_test_predict)\n",
    "    r2 = r2_score(y_test,y_test_predict)\n",
    "    print('\\nPrediction scores for',display_name,'using',method_string,':')\n",
    "    print('Mean Squared error:',mse)\n",
    "    print('Mean Absolute error:',mae)\n",
    "    print('R^2:',r2)\n",
    "    return grid.best_estimator_,grid.best_score_,mse,mae,r2"
   ]
  },
  {
   "cell_type": "code",
   "execution_count": 9,
   "metadata": {},
   "outputs": [],
   "source": [
    "is_sample = True\n",
    "num_folds = 5\n",
    "args = {'clf__criterion':('mse','mae'),\n",
    "        'clf__n_estimators':(100,500,1000),\n",
    "        'clf__min_samples_split':(2,5,10),\n",
    "        'clf__max_depth': (10,20,30),\n",
    "        'clf__min_samples_leaf':(2,5,10),\n",
    "        'clf__max_features':('sqrt','log2'),\n",
    "        'clf__random_state':([7])}"
   ]
  },
  {
   "cell_type": "code",
   "execution_count": 10,
   "metadata": {},
   "outputs": [
    {
     "name": "stdout",
     "output_type": "stream",
     "text": [
      "\n",
      "\n",
      "Running cross fold validation for Random Forest with _equal_crime_and_business dataset\n",
      "Fitting 5 folds for each of 324 candidates, totalling 1620 fits\n"
     ]
    },
    {
     "name": "stderr",
     "output_type": "stream",
     "text": [
      "[Parallel(n_jobs=6)]: Using backend LokyBackend with 6 concurrent workers.\n",
      "[Parallel(n_jobs=6)]: Done  38 tasks      | elapsed:   20.8s\n",
      "[Parallel(n_jobs=6)]: Done 188 tasks      | elapsed:  1.7min\n",
      "[Parallel(n_jobs=6)]: Done 438 tasks      | elapsed:  4.4min\n",
      "[Parallel(n_jobs=6)]: Done 788 tasks      | elapsed:  8.6min\n",
      "[Parallel(n_jobs=6)]: Done 1238 tasks      | elapsed: 199.2min\n",
      "[Parallel(n_jobs=6)]: Done 1620 out of 1620 | elapsed: 380.1min finished\n"
     ]
    },
    {
     "name": "stdout",
     "output_type": "stream",
     "text": [
      "\n",
      "Best score for Random Forest with _equal_crime_and_business dataset: 0.7468240926603764\n",
      "\n",
      "Best hyperparameters for Random Forest with _equal_crime_and_business dataset:\n",
      "memory : None\n",
      "steps : [('clf', RandomForestRegressor(max_depth=10, max_features='sqrt', min_samples_leaf=5,\n",
      "                      n_estimators=500, random_state=7))]\n",
      "verbose : False\n",
      "clf : RandomForestRegressor(max_depth=10, max_features='sqrt', min_samples_leaf=5,\n",
      "                      n_estimators=500, random_state=7)\n",
      "clf__bootstrap : True\n",
      "clf__ccp_alpha : 0.0\n",
      "clf__criterion : mse\n",
      "clf__max_depth : 10\n",
      "clf__max_features : sqrt\n",
      "clf__max_leaf_nodes : None\n",
      "clf__max_samples : None\n",
      "clf__min_impurity_decrease : 0.0\n",
      "clf__min_impurity_split : None\n",
      "clf__min_samples_leaf : 5\n",
      "clf__min_samples_split : 2\n",
      "clf__min_weight_fraction_leaf : 0.0\n",
      "clf__n_estimators : 500\n",
      "clf__n_jobs : None\n",
      "clf__oob_score : False\n",
      "clf__random_state : 7\n",
      "clf__verbose : 0\n",
      "clf__warm_start : False\n",
      "\n",
      "Prediction scores for Random Forest using _equal_crime_and_business :\n",
      "Mean Squared error: 4.981084925894483\n",
      "Mean Absolute error: 1.4129846001611859\n",
      "R^2: 0.7444581209813195\n"
     ]
    }
   ],
   "source": [
    "equal_model, equal_train_score, equal_mse, equal_mae, equal_r2 = get_best_model_revised(sel_methods[3], args, num_folds, is_sample)"
   ]
  },
  {
   "cell_type": "code",
   "execution_count": 9,
   "metadata": {},
   "outputs": [],
   "source": [
    "#explore impurity decrease and alpha\n",
    "is_sample = True\n",
    "num_folds = 5\n",
    "args = {'clf__criterion':(['mse']),\n",
    "        'clf__n_estimators':(400,500,600),\n",
    "        'clf__min_samples_split':(2,5),\n",
    "        'clf__max_depth': (5,10,20),\n",
    "        'clf__min_samples_leaf':(5,10),\n",
    "        'clf__max_features':(['sqrt']),\n",
    "        'clf__random_state':([7]),\n",
    "        'clf__min_impurity_decrease':(arange(0,1,0.2)),\n",
    "        'clf__ccp_alpha':(arange(0,1,0.2))}"
   ]
  },
  {
   "cell_type": "code",
   "execution_count": 10,
   "metadata": {},
   "outputs": [
    {
     "name": "stdout",
     "output_type": "stream",
     "text": [
      "\n",
      "\n",
      "Running cross fold validation for Random Forest with _equal_crime_and_business dataset\n",
      "Fitting 5 folds for each of 900 candidates, totalling 4500 fits\n"
     ]
    },
    {
     "name": "stderr",
     "output_type": "stream",
     "text": [
      "[Parallel(n_jobs=6)]: Using backend LokyBackend with 6 concurrent workers.\n",
      "[Parallel(n_jobs=6)]: Done  38 tasks      | elapsed:   13.4s\n",
      "[Parallel(n_jobs=6)]: Done 188 tasks      | elapsed:   54.2s\n",
      "[Parallel(n_jobs=6)]: Done 438 tasks      | elapsed:  2.2min\n",
      "[Parallel(n_jobs=6)]: Done 788 tasks      | elapsed:  4.0min\n",
      "[Parallel(n_jobs=6)]: Done 1238 tasks      | elapsed:  6.1min\n",
      "[Parallel(n_jobs=6)]: Done 1788 tasks      | elapsed:  8.9min\n",
      "[Parallel(n_jobs=6)]: Done 2438 tasks      | elapsed: 12.2min\n",
      "[Parallel(n_jobs=6)]: Done 3188 tasks      | elapsed: 15.8min\n",
      "[Parallel(n_jobs=6)]: Done 4038 tasks      | elapsed: 20.8min\n",
      "[Parallel(n_jobs=6)]: Done 4500 out of 4500 | elapsed: 23.4min finished\n"
     ]
    },
    {
     "name": "stdout",
     "output_type": "stream",
     "text": [
      "\n",
      "Best score for Random Forest with _equal_crime_and_business dataset: 0.7470246029219256\n",
      "\n",
      "Best hyperparameters for Random Forest with _equal_crime_and_business dataset:\n",
      "memory : None\n",
      "steps : [('clf', RandomForestRegressor(max_depth=10, max_features='sqrt', min_samples_leaf=5,\n",
      "                      n_estimators=400, random_state=7))]\n",
      "verbose : False\n",
      "clf : RandomForestRegressor(max_depth=10, max_features='sqrt', min_samples_leaf=5,\n",
      "                      n_estimators=400, random_state=7)\n",
      "clf__bootstrap : True\n",
      "clf__ccp_alpha : 0.0\n",
      "clf__criterion : mse\n",
      "clf__max_depth : 10\n",
      "clf__max_features : sqrt\n",
      "clf__max_leaf_nodes : None\n",
      "clf__max_samples : None\n",
      "clf__min_impurity_decrease : 0.0\n",
      "clf__min_impurity_split : None\n",
      "clf__min_samples_leaf : 5\n",
      "clf__min_samples_split : 2\n",
      "clf__min_weight_fraction_leaf : 0.0\n",
      "clf__n_estimators : 400\n",
      "clf__n_jobs : None\n",
      "clf__oob_score : False\n",
      "clf__random_state : 7\n",
      "clf__verbose : 0\n",
      "clf__warm_start : False\n",
      "\n",
      "Prediction scores for Random Forest using _equal_crime_and_business :\n",
      "Mean Squared error: 4.980371745464145\n",
      "Mean Absolute error: 1.4128891600595388\n",
      "R^2: 0.7444947088873598\n"
     ]
    }
   ],
   "source": [
    "equal_model, equal_train_score, equal_mse, equal_mae, equal_r2 = get_best_model_revised(sel_methods[3], args, num_folds, is_sample)"
   ]
  },
  {
   "cell_type": "code",
   "execution_count": 13,
   "metadata": {},
   "outputs": [],
   "source": [
    "#explore impurity decrease and alpha\n",
    "is_sample = False\n",
    "num_folds = 10\n",
    "args = {'clf__criterion':(['mse']),\n",
    "        'clf__n_estimators':(300,400,500,600),\n",
    "        'clf__min_samples_split':(2,5,10),\n",
    "        'clf__max_depth': (5,10,15,20),\n",
    "        'clf__min_samples_leaf':(2,5,10),\n",
    "        'clf__max_features':(['sqrt']),\n",
    "        'clf__random_state':([7]),\n",
    "        'clf__min_impurity_decrease':(arange(0,1,0.2)),\n",
    "        'clf__ccp_alpha':(arange(0,1,0.2))}"
   ]
  },
  {
   "cell_type": "code",
   "execution_count": 14,
   "metadata": {},
   "outputs": [
    {
     "name": "stdout",
     "output_type": "stream",
     "text": [
      "\n",
      "\n",
      "Running cross fold validation for Random Forest with _equal_crime_and_business dataset\n",
      "Fitting 10 folds for each of 3600 candidates, totalling 36000 fits\n"
     ]
    },
    {
     "name": "stderr",
     "output_type": "stream",
     "text": [
      "[Parallel(n_jobs=6)]: Using backend LokyBackend with 6 concurrent workers.\n",
      "[Parallel(n_jobs=6)]: Done  38 tasks      | elapsed:   54.6s\n",
      "[Parallel(n_jobs=6)]: Done 188 tasks      | elapsed:  4.3min\n",
      "[Parallel(n_jobs=6)]: Done 438 tasks      | elapsed: 10.1min\n",
      "[Parallel(n_jobs=6)]: Done 788 tasks      | elapsed: 17.2min\n",
      "[Parallel(n_jobs=6)]: Done 1238 tasks      | elapsed: 25.2min\n",
      "[Parallel(n_jobs=6)]: Done 1788 tasks      | elapsed: 34.3min\n",
      "[Parallel(n_jobs=6)]: Done 2438 tasks      | elapsed: 52.8min\n",
      "[Parallel(n_jobs=6)]: Done 3188 tasks      | elapsed: 65.9min\n",
      "[Parallel(n_jobs=6)]: Done 4038 tasks      | elapsed: 90.1min\n",
      "[Parallel(n_jobs=6)]: Done 4988 tasks      | elapsed: 107.4min\n",
      "[Parallel(n_jobs=6)]: Done 6038 tasks      | elapsed: 137.3min\n",
      "[Parallel(n_jobs=6)]: Done 7188 tasks      | elapsed: 157.2min\n",
      "[Parallel(n_jobs=6)]: Done 8438 tasks      | elapsed: 182.4min\n",
      "[Parallel(n_jobs=6)]: Done 9788 tasks      | elapsed: 212.2min\n",
      "[Parallel(n_jobs=6)]: Done 11238 tasks      | elapsed: 249.3min\n",
      "[Parallel(n_jobs=6)]: Done 12788 tasks      | elapsed: 296.3min\n",
      "[Parallel(n_jobs=6)]: Done 14438 tasks      | elapsed: 331.7min\n",
      "[Parallel(n_jobs=6)]: Done 16188 tasks      | elapsed: 364.0min\n",
      "[Parallel(n_jobs=6)]: Done 18038 tasks      | elapsed: 404.7min\n",
      "[Parallel(n_jobs=6)]: Done 19988 tasks      | elapsed: 469.2min\n",
      "[Parallel(n_jobs=6)]: Done 22038 tasks      | elapsed: 513.6min\n",
      "[Parallel(n_jobs=6)]: Done 24188 tasks      | elapsed: 557.7min\n",
      "[Parallel(n_jobs=6)]: Done 26438 tasks      | elapsed: 609.1min\n",
      "[Parallel(n_jobs=6)]: Done 28788 tasks      | elapsed: 675.9min\n",
      "[Parallel(n_jobs=6)]: Done 31238 tasks      | elapsed: 730.7min\n",
      "[Parallel(n_jobs=6)]: Done 33788 tasks      | elapsed: 788.9min\n",
      "[Parallel(n_jobs=6)]: Done 36000 out of 36000 | elapsed: 856.0min finished\n"
     ]
    },
    {
     "name": "stdout",
     "output_type": "stream",
     "text": [
      "\n",
      "Best score for Random Forest with _equal_crime_and_business dataset: 0.7403187119035906\n",
      "\n",
      "Best hyperparameters for Random Forest with _equal_crime_and_business dataset:\n",
      "memory : None\n",
      "steps : [('clf', RandomForestRegressor(max_depth=15, max_features='sqrt', min_samples_leaf=10,\n",
      "                      n_estimators=500, random_state=7))]\n",
      "verbose : False\n",
      "clf : RandomForestRegressor(max_depth=15, max_features='sqrt', min_samples_leaf=10,\n",
      "                      n_estimators=500, random_state=7)\n",
      "clf__bootstrap : True\n",
      "clf__ccp_alpha : 0.0\n",
      "clf__criterion : mse\n",
      "clf__max_depth : 15\n",
      "clf__max_features : sqrt\n",
      "clf__max_leaf_nodes : None\n",
      "clf__max_samples : None\n",
      "clf__min_impurity_decrease : 0.0\n",
      "clf__min_impurity_split : None\n",
      "clf__min_samples_leaf : 10\n",
      "clf__min_samples_split : 2\n",
      "clf__min_weight_fraction_leaf : 0.0\n",
      "clf__n_estimators : 500\n",
      "clf__n_jobs : None\n",
      "clf__oob_score : False\n",
      "clf__random_state : 7\n",
      "clf__verbose : 0\n",
      "clf__warm_start : False\n",
      "\n",
      "Prediction scores for Random Forest using _equal_crime_and_business :\n",
      "Mean Squared error: 4.859196629361998\n",
      "Mean Absolute error: 1.389976309485292\n",
      "R^2: 0.7507112896764314\n"
     ]
    }
   ],
   "source": [
    "equal_model, equal_train_score, equal_mse, equal_mae, equal_r2 = get_best_model_revised(sel_methods[3], args, num_folds, is_sample)"
   ]
  },
  {
   "cell_type": "code",
   "execution_count": null,
   "metadata": {},
   "outputs": [],
   "source": [
    "#explore impurity decrease and alpha\n",
    "is_sample = False\n",
    "num_folds = 10\n",
    "args = {'clf__criterion':(['mse']),\n",
    "        'clf__n_estimators':(3450,500,550),\n",
    "        'clf__min_samples_split':(2,5),\n",
    "        'clf__max_depth': (10,15,20),\n",
    "        'clf__min_samples_leaf':(5,10,15),\n",
    "        'clf__max_features':(['sqrt']),\n",
    "        'clf__random_state':([7]),\n",
    "        'clf__min_impurity_decrease':(arange(0,0.5,0.25)),\n",
    "        'clf__ccp_alpha':(arange(0,0.5,0.25))}"
   ]
  },
  {
   "cell_type": "code",
   "execution_count": null,
   "metadata": {},
   "outputs": [],
   "source": [
    "equal_model, equal_train_score, equal_mse, equal_mae, equal_r2 = get_best_model_revised(sel_methods[3], args, num_folds, is_sample)"
   ]
  },
  {
   "cell_type": "code",
   "execution_count": null,
   "metadata": {},
   "outputs": [],
   "source": []
  },
  {
   "cell_type": "code",
   "execution_count": 47,
   "metadata": {},
   "outputs": [],
   "source": [
    "# hyperparameters stable, model saved\n",
    "save_model(equal_model,sel_methods[3])"
   ]
  },
  {
   "cell_type": "markdown",
   "metadata": {},
   "source": [
    "<h3>Business only feature selected dataset<h3>"
   ]
  },
  {
   "cell_type": "code",
   "execution_count": 9,
   "metadata": {},
   "outputs": [],
   "source": [
    "is_sample = True\n",
    "num_folds = 5\n",
    "args = {'clf__criterion':('mse','mae'),\n",
    "        'clf__n_estimators':(100,500,1000),\n",
    "        'clf__min_samples_split':(2,5,10),\n",
    "        'clf__max_depth': (10,20,30),\n",
    "        'clf__min_samples_leaf':(2,5,10),\n",
    "        'clf__max_features':('sqrt','log2'),\n",
    "        'clf__random_state':([7])}"
   ]
  },
  {
   "cell_type": "code",
   "execution_count": 10,
   "metadata": {},
   "outputs": [
    {
     "name": "stdout",
     "output_type": "stream",
     "text": [
      "\n",
      "\n",
      "Running cross fold validation for Random Forest with _all_business dataset\n",
      "Fitting 5 folds for each of 324 candidates, totalling 1620 fits\n"
     ]
    },
    {
     "name": "stderr",
     "output_type": "stream",
     "text": [
      "[Parallel(n_jobs=6)]: Using backend LokyBackend with 6 concurrent workers.\n",
      "[Parallel(n_jobs=6)]: Done  38 tasks      | elapsed:   19.5s\n",
      "[Parallel(n_jobs=6)]: Done 188 tasks      | elapsed:  1.5min\n",
      "[Parallel(n_jobs=6)]: Done 438 tasks      | elapsed:  3.9min\n",
      "[Parallel(n_jobs=6)]: Done 788 tasks      | elapsed:  7.4min\n",
      "[Parallel(n_jobs=6)]: Done 1238 tasks      | elapsed: 168.1min\n",
      "[Parallel(n_jobs=6)]: Done 1620 out of 1620 | elapsed: 320.7min finished\n"
     ]
    },
    {
     "name": "stdout",
     "output_type": "stream",
     "text": [
      "\n",
      "Best score for Random Forest with _all_business dataset: 0.6399794950677886\n",
      "\n",
      "Best hyperparameters for Random Forest with _all_business dataset:\n",
      "memory : None\n",
      "steps : [('clf', RandomForestRegressor(max_depth=20, max_features='sqrt', min_samples_leaf=2,\n",
      "                      min_samples_split=5, n_estimators=1000, random_state=7))]\n",
      "verbose : False\n",
      "clf : RandomForestRegressor(max_depth=20, max_features='sqrt', min_samples_leaf=2,\n",
      "                      min_samples_split=5, n_estimators=1000, random_state=7)\n",
      "clf__bootstrap : True\n",
      "clf__ccp_alpha : 0.0\n",
      "clf__criterion : mse\n",
      "clf__max_depth : 20\n",
      "clf__max_features : sqrt\n",
      "clf__max_leaf_nodes : None\n",
      "clf__max_samples : None\n",
      "clf__min_impurity_decrease : 0.0\n",
      "clf__min_impurity_split : None\n",
      "clf__min_samples_leaf : 2\n",
      "clf__min_samples_split : 5\n",
      "clf__min_weight_fraction_leaf : 0.0\n",
      "clf__n_estimators : 1000\n",
      "clf__n_jobs : None\n",
      "clf__oob_score : False\n",
      "clf__random_state : 7\n",
      "clf__verbose : 0\n",
      "clf__warm_start : False\n",
      "\n",
      "Prediction scores for Random Forest using _all_business :\n",
      "Mean Squared error: 6.777336459818609\n",
      "Mean Absolute error: 1.5899655366823306\n",
      "R^2: 0.6523060097448844\n"
     ]
    }
   ],
   "source": [
    "bus_model, bus_train_score, bus_mse, bus_mae, bus_r2 = get_best_model(sel_methods[4], args, num_folds, is_sample)"
   ]
  },
  {
   "cell_type": "code",
   "execution_count": 24,
   "metadata": {},
   "outputs": [],
   "source": [
    "is_sample = True\n",
    "num_folds = 5\n",
    "args = {'clf__criterion':(['mse']),\n",
    "        'clf__n_estimators':(1000,1500,2000,2500),\n",
    "        'clf__min_samples_split':(2,5,10),\n",
    "        'clf__max_depth': (10,20,30),\n",
    "        'clf__min_samples_leaf':(2,5,10),\n",
    "        'clf__max_features':(['sqrt']),\n",
    "        'clf__random_state':([7])}"
   ]
  },
  {
   "cell_type": "code",
   "execution_count": 25,
   "metadata": {},
   "outputs": [
    {
     "name": "stdout",
     "output_type": "stream",
     "text": [
      "\n",
      "\n",
      "Running cross fold validation for Random Forest with _all_business dataset\n",
      "Fitting 5 folds for each of 108 candidates, totalling 540 fits\n"
     ]
    },
    {
     "name": "stderr",
     "output_type": "stream",
     "text": [
      "[Parallel(n_jobs=6)]: Using backend LokyBackend with 6 concurrent workers.\n",
      "[Parallel(n_jobs=6)]: Done  38 tasks      | elapsed:  1.0min\n",
      "[Parallel(n_jobs=6)]: Done 188 tasks      | elapsed:  4.6min\n",
      "[Parallel(n_jobs=6)]: Done 438 tasks      | elapsed: 13.2min\n",
      "[Parallel(n_jobs=6)]: Done 540 out of 540 | elapsed: 16.4min finished\n"
     ]
    },
    {
     "name": "stdout",
     "output_type": "stream",
     "text": [
      "\n",
      "Best score for Random Forest with _all_business dataset: 0.6402218891338787\n",
      "\n",
      "Best hyperparameters for Random Forest with _all_business dataset:\n",
      "memory : None\n",
      "steps : [('clf', RandomForestRegressor(max_depth=20, max_features='sqrt', min_samples_leaf=2,\n",
      "                      n_estimators=2000, random_state=7))]\n",
      "verbose : False\n",
      "clf : RandomForestRegressor(max_depth=20, max_features='sqrt', min_samples_leaf=2,\n",
      "                      n_estimators=2000, random_state=7)\n",
      "clf__bootstrap : True\n",
      "clf__ccp_alpha : 0.0\n",
      "clf__criterion : mse\n",
      "clf__max_depth : 20\n",
      "clf__max_features : sqrt\n",
      "clf__max_leaf_nodes : None\n",
      "clf__max_samples : None\n",
      "clf__min_impurity_decrease : 0.0\n",
      "clf__min_impurity_split : None\n",
      "clf__min_samples_leaf : 2\n",
      "clf__min_samples_split : 2\n",
      "clf__min_weight_fraction_leaf : 0.0\n",
      "clf__n_estimators : 2000\n",
      "clf__n_jobs : None\n",
      "clf__oob_score : False\n",
      "clf__random_state : 7\n",
      "clf__verbose : 0\n",
      "clf__warm_start : False\n",
      "\n",
      "Prediction scores for Random Forest using _all_business :\n",
      "Mean Squared error: 6.742075937800399\n",
      "Mean Absolute error: 1.5864267050697596\n",
      "R^2: 0.6541149610448052\n"
     ]
    }
   ],
   "source": [
    "bus_model, bus_train_score, bus_mse, bus_mae, bus_r2 = get_best_model(sel_methods[4], args, num_folds, is_sample)"
   ]
  },
  {
   "cell_type": "code",
   "execution_count": 39,
   "metadata": {},
   "outputs": [],
   "source": [
    "# explore alpha and min impurity\n",
    "is_sample = True\n",
    "num_folds = 5\n",
    "args = {'clf__criterion':(['mse']),\n",
    "        'clf__n_estimators':(1500,2000,2500),\n",
    "        'clf__min_samples_split':(2,5),\n",
    "        'clf__max_depth': (10,20,30),\n",
    "        'clf__min_samples_leaf':(2,5),\n",
    "        'clf__max_features':(['sqrt']),\n",
    "        'clf__random_state':([7]),\n",
    "        'clf__min_impurity_decrease':(arange(0,1,0.2)),\n",
    "        'clf__ccp_alpha':(arange(0,1,0.2))}"
   ]
  },
  {
   "cell_type": "code",
   "execution_count": 40,
   "metadata": {
    "scrolled": false
   },
   "outputs": [
    {
     "name": "stdout",
     "output_type": "stream",
     "text": [
      "\n",
      "\n",
      "Running cross fold validation for Random Forest with _all_business dataset\n",
      "Fitting 5 folds for each of 900 candidates, totalling 4500 fits\n"
     ]
    },
    {
     "name": "stderr",
     "output_type": "stream",
     "text": [
      "[Parallel(n_jobs=6)]: Using backend LokyBackend with 6 concurrent workers.\n",
      "[Parallel(n_jobs=6)]: Done  38 tasks      | elapsed:  1.1min\n",
      "[Parallel(n_jobs=6)]: Done 188 tasks      | elapsed:  3.6min\n",
      "[Parallel(n_jobs=6)]: Done 438 tasks      | elapsed:  8.7min\n",
      "[Parallel(n_jobs=6)]: Done 788 tasks      | elapsed: 15.3min\n",
      "[Parallel(n_jobs=6)]: Done 1238 tasks      | elapsed: 24.1min\n",
      "[Parallel(n_jobs=6)]: Done 1788 tasks      | elapsed: 35.3min\n",
      "[Parallel(n_jobs=6)]: Done 2438 tasks      | elapsed: 49.5min\n",
      "[Parallel(n_jobs=6)]: Done 3188 tasks      | elapsed: 63.9min\n",
      "[Parallel(n_jobs=6)]: Done 4038 tasks      | elapsed: 81.4min\n",
      "[Parallel(n_jobs=6)]: Done 4500 out of 4500 | elapsed: 90.4min finished\n"
     ]
    },
    {
     "name": "stdout",
     "output_type": "stream",
     "text": [
      "\n",
      "Best score for Random Forest with _all_business dataset: 0.6402218891338787\n",
      "\n",
      "Best hyperparameters for Random Forest with _all_business dataset:\n",
      "memory : None\n",
      "steps : [('clf', RandomForestRegressor(max_depth=20, max_features='sqrt', min_samples_leaf=2,\n",
      "                      n_estimators=2000, random_state=7))]\n",
      "verbose : False\n",
      "clf : RandomForestRegressor(max_depth=20, max_features='sqrt', min_samples_leaf=2,\n",
      "                      n_estimators=2000, random_state=7)\n",
      "clf__bootstrap : True\n",
      "clf__ccp_alpha : 0.0\n",
      "clf__criterion : mse\n",
      "clf__max_depth : 20\n",
      "clf__max_features : sqrt\n",
      "clf__max_leaf_nodes : None\n",
      "clf__max_samples : None\n",
      "clf__min_impurity_decrease : 0.0\n",
      "clf__min_impurity_split : None\n",
      "clf__min_samples_leaf : 2\n",
      "clf__min_samples_split : 2\n",
      "clf__min_weight_fraction_leaf : 0.0\n",
      "clf__n_estimators : 2000\n",
      "clf__n_jobs : None\n",
      "clf__oob_score : False\n",
      "clf__random_state : 7\n",
      "clf__verbose : 0\n",
      "clf__warm_start : False\n",
      "\n",
      "Prediction scores for Random Forest using _all_business :\n",
      "Mean Squared error: 6.742075937800399\n",
      "Mean Absolute error: 1.5864267050697596\n",
      "R^2: 0.6541149610448052\n"
     ]
    }
   ],
   "source": [
    "bus_model, bus_train_score, bus_mse, bus_mae, bus_r2 = get_best_model(sel_methods[4], args, num_folds, is_sample)"
   ]
  },
  {
   "cell_type": "markdown",
   "metadata": {},
   "source": [
    "<h3> Retrain on revised dataset <h3>"
   ]
  },
  {
   "cell_type": "code",
   "execution_count": 11,
   "metadata": {},
   "outputs": [],
   "source": [
    "is_sample = True\n",
    "num_folds = 5\n",
    "args = {'clf__criterion':('mse','mae'),\n",
    "        'clf__n_estimators':(100,500,1000),\n",
    "        'clf__min_samples_split':(2,5,10),\n",
    "        'clf__max_depth': (10,20,30),\n",
    "        'clf__min_samples_leaf':(2,5,10),\n",
    "        'clf__max_features':('sqrt','log2'),\n",
    "        'clf__random_state':([7])}"
   ]
  },
  {
   "cell_type": "code",
   "execution_count": 12,
   "metadata": {},
   "outputs": [
    {
     "name": "stdout",
     "output_type": "stream",
     "text": [
      "\n",
      "\n",
      "Running cross fold validation for Random Forest with _all_business dataset\n",
      "Fitting 5 folds for each of 324 candidates, totalling 1620 fits\n"
     ]
    },
    {
     "name": "stderr",
     "output_type": "stream",
     "text": [
      "[Parallel(n_jobs=6)]: Using backend LokyBackend with 6 concurrent workers.\n",
      "[Parallel(n_jobs=6)]: Done  38 tasks      | elapsed:   15.9s\n",
      "[Parallel(n_jobs=6)]: Done 188 tasks      | elapsed:  1.4min\n",
      "[Parallel(n_jobs=6)]: Done 438 tasks      | elapsed:  3.6min\n",
      "[Parallel(n_jobs=6)]: Done 788 tasks      | elapsed:  7.1min\n",
      "[Parallel(n_jobs=6)]: Done 1238 tasks      | elapsed: 168.1min\n",
      "[Parallel(n_jobs=6)]: Done 1620 out of 1620 | elapsed: 321.4min finished\n"
     ]
    },
    {
     "name": "stdout",
     "output_type": "stream",
     "text": [
      "\n",
      "Best score for Random Forest with _all_business dataset: 0.6369288121238644\n",
      "\n",
      "Best hyperparameters for Random Forest with _all_business dataset:\n",
      "memory : None\n",
      "steps : [('clf', RandomForestRegressor(max_depth=20, max_features='sqrt', min_samples_leaf=2,\n",
      "                      n_estimators=1000, random_state=7))]\n",
      "verbose : False\n",
      "clf : RandomForestRegressor(max_depth=20, max_features='sqrt', min_samples_leaf=2,\n",
      "                      n_estimators=1000, random_state=7)\n",
      "clf__bootstrap : True\n",
      "clf__ccp_alpha : 0.0\n",
      "clf__criterion : mse\n",
      "clf__max_depth : 20\n",
      "clf__max_features : sqrt\n",
      "clf__max_leaf_nodes : None\n",
      "clf__max_samples : None\n",
      "clf__min_impurity_decrease : 0.0\n",
      "clf__min_impurity_split : None\n",
      "clf__min_samples_leaf : 2\n",
      "clf__min_samples_split : 2\n",
      "clf__min_weight_fraction_leaf : 0.0\n",
      "clf__n_estimators : 1000\n",
      "clf__n_jobs : None\n",
      "clf__oob_score : False\n",
      "clf__random_state : 7\n",
      "clf__verbose : 0\n",
      "clf__warm_start : False\n",
      "\n",
      "Prediction scores for Random Forest using _all_business :\n",
      "Mean Squared error: 6.793774923719258\n",
      "Mean Absolute error: 1.597623641719871\n",
      "R^2: 0.6514626762109559\n"
     ]
    }
   ],
   "source": [
    "bus_model, bus_train_score, bus_mse, bus_mae, bus_r2 = get_best_model_revised(sel_methods[4], args, num_folds, is_sample)"
   ]
  },
  {
   "cell_type": "code",
   "execution_count": 11,
   "metadata": {},
   "outputs": [],
   "source": [
    "is_sample = True\n",
    "num_folds = 5\n",
    "args = {'clf__criterion':(['mse']),\n",
    "        'clf__n_estimators':(1000,1500,2000,2500),\n",
    "        'clf__min_samples_split':(2,5,10),\n",
    "        'clf__max_depth': (10,20,30),\n",
    "        'clf__min_samples_leaf':(2,5,10),\n",
    "        'clf__max_features':(['sqrt']),\n",
    "        'clf__random_state':([7])}"
   ]
  },
  {
   "cell_type": "code",
   "execution_count": 12,
   "metadata": {},
   "outputs": [
    {
     "name": "stdout",
     "output_type": "stream",
     "text": [
      "\n",
      "\n",
      "Running cross fold validation for Random Forest with _all_business dataset\n",
      "Fitting 5 folds for each of 108 candidates, totalling 540 fits\n"
     ]
    },
    {
     "name": "stderr",
     "output_type": "stream",
     "text": [
      "[Parallel(n_jobs=6)]: Using backend LokyBackend with 6 concurrent workers.\n",
      "[Parallel(n_jobs=6)]: Done  38 tasks      | elapsed:  1.0min\n",
      "[Parallel(n_jobs=6)]: Done 188 tasks      | elapsed:  4.9min\n",
      "[Parallel(n_jobs=6)]: Done 438 tasks      | elapsed: 13.5min\n",
      "[Parallel(n_jobs=6)]: Done 540 out of 540 | elapsed: 16.5min finished\n"
     ]
    },
    {
     "name": "stdout",
     "output_type": "stream",
     "text": [
      "\n",
      "Best score for Random Forest with _all_business dataset: 0.6370238031933219\n",
      "\n",
      "Best hyperparameters for Random Forest with _all_business dataset:\n",
      "memory : None\n",
      "steps : [('clf', RandomForestRegressor(max_depth=20, max_features='sqrt', min_samples_leaf=2,\n",
      "                      n_estimators=2000, random_state=7))]\n",
      "verbose : False\n",
      "clf : RandomForestRegressor(max_depth=20, max_features='sqrt', min_samples_leaf=2,\n",
      "                      n_estimators=2000, random_state=7)\n",
      "clf__bootstrap : True\n",
      "clf__ccp_alpha : 0.0\n",
      "clf__criterion : mse\n",
      "clf__max_depth : 20\n",
      "clf__max_features : sqrt\n",
      "clf__max_leaf_nodes : None\n",
      "clf__max_samples : None\n",
      "clf__min_impurity_decrease : 0.0\n",
      "clf__min_impurity_split : None\n",
      "clf__min_samples_leaf : 2\n",
      "clf__min_samples_split : 2\n",
      "clf__min_weight_fraction_leaf : 0.0\n",
      "clf__n_estimators : 2000\n",
      "clf__n_jobs : None\n",
      "clf__oob_score : False\n",
      "clf__random_state : 7\n",
      "clf__verbose : 0\n",
      "clf__warm_start : False\n",
      "\n",
      "Prediction scores for Random Forest using _all_business :\n",
      "Mean Squared error: 6.785883601193135\n",
      "Mean Absolute error: 1.5961722319955136\n",
      "R^2: 0.6518675204198519\n"
     ]
    }
   ],
   "source": [
    "bus_model, bus_train_score, bus_mse, bus_mae, bus_r2 = get_best_model_revised(sel_methods[4], args, num_folds, is_sample)"
   ]
  },
  {
   "cell_type": "code",
   "execution_count": 15,
   "metadata": {},
   "outputs": [],
   "source": [
    "is_sample = False\n",
    "num_folds = 10\n",
    "args = {'clf__criterion':(['mse']),\n",
    "        'clf__n_estimators':(1000,1500,2000,2500),\n",
    "        'clf__min_samples_split':(2,5,10),\n",
    "        'clf__max_depth': (10,20,30),\n",
    "        'clf__min_samples_leaf':(2,5,10),\n",
    "        'clf__max_features':(['sqrt']),\n",
    "        'clf__random_state':([7])}"
   ]
  },
  {
   "cell_type": "code",
   "execution_count": 17,
   "metadata": {},
   "outputs": [
    {
     "name": "stdout",
     "output_type": "stream",
     "text": [
      "\n",
      "\n",
      "Running cross fold validation for Random Forest with _all_business dataset\n",
      "Fitting 10 folds for each of 108 candidates, totalling 1080 fits\n"
     ]
    },
    {
     "name": "stderr",
     "output_type": "stream",
     "text": [
      "[Parallel(n_jobs=6)]: Using backend LokyBackend with 6 concurrent workers.\n",
      "[Parallel(n_jobs=6)]: Done  38 tasks      | elapsed:  4.4min\n",
      "[Parallel(n_jobs=6)]: Done 188 tasks      | elapsed: 20.4min\n",
      "[Parallel(n_jobs=6)]: Done 438 tasks      | elapsed: 52.6min\n",
      "[Parallel(n_jobs=6)]: Done 788 tasks      | elapsed: 107.0min\n",
      "[Parallel(n_jobs=6)]: Done 1080 out of 1080 | elapsed: 153.0min finished\n"
     ]
    },
    {
     "name": "stdout",
     "output_type": "stream",
     "text": [
      "\n",
      "Best score for Random Forest with _all_business dataset: 0.6842027125874001\n",
      "\n",
      "Best hyperparameters for Random Forest with _all_business dataset:\n",
      "memory : None\n",
      "steps : [('clf', RandomForestRegressor(max_depth=20, max_features='sqrt', min_samples_leaf=2,\n",
      "                      n_estimators=2000, random_state=7))]\n",
      "verbose : False\n",
      "clf : RandomForestRegressor(max_depth=20, max_features='sqrt', min_samples_leaf=2,\n",
      "                      n_estimators=2000, random_state=7)\n",
      "clf__bootstrap : True\n",
      "clf__ccp_alpha : 0.0\n",
      "clf__criterion : mse\n",
      "clf__max_depth : 20\n",
      "clf__max_features : sqrt\n",
      "clf__max_leaf_nodes : None\n",
      "clf__max_samples : None\n",
      "clf__min_impurity_decrease : 0.0\n",
      "clf__min_impurity_split : None\n",
      "clf__min_samples_leaf : 2\n",
      "clf__min_samples_split : 2\n",
      "clf__min_weight_fraction_leaf : 0.0\n",
      "clf__n_estimators : 2000\n",
      "clf__n_jobs : None\n",
      "clf__oob_score : False\n",
      "clf__random_state : 7\n",
      "clf__verbose : 0\n",
      "clf__warm_start : False\n",
      "\n",
      "Prediction scores for Random Forest using _all_business :\n",
      "Mean Squared error: 5.993185856613002\n",
      "Mean Absolute error: 1.4991432030102378\n",
      "R^2: 0.6925348597962231\n"
     ]
    }
   ],
   "source": [
    "bus_model, bus_train_score, bus_mse, bus_mae, bus_r2 = get_best_model_revised(sel_methods[4], args, num_folds, is_sample)"
   ]
  },
  {
   "cell_type": "code",
   "execution_count": 18,
   "metadata": {},
   "outputs": [],
   "source": [
    "is_sample = False\n",
    "num_folds = 10\n",
    "args = {'clf__criterion':(['mse']),\n",
    "        'clf__n_estimators':(1750,2000,2250),\n",
    "        'clf__min_samples_split':(2,5),\n",
    "        'clf__max_depth': (15,20,25),\n",
    "        'clf__min_samples_leaf':(2,5),\n",
    "        'clf__max_features':(['sqrt']),\n",
    "        'clf__random_state':([7])}"
   ]
  },
  {
   "cell_type": "code",
   "execution_count": 19,
   "metadata": {},
   "outputs": [
    {
     "name": "stdout",
     "output_type": "stream",
     "text": [
      "\n",
      "\n",
      "Running cross fold validation for Random Forest with _all_business dataset\n",
      "Fitting 10 folds for each of 36 candidates, totalling 360 fits\n"
     ]
    },
    {
     "name": "stderr",
     "output_type": "stream",
     "text": [
      "[Parallel(n_jobs=6)]: Using backend LokyBackend with 6 concurrent workers.\n",
      "[Parallel(n_jobs=6)]: Done  38 tasks      | elapsed:  6.6min\n",
      "[Parallel(n_jobs=6)]: Done 188 tasks      | elapsed: 32.7min\n",
      "[Parallel(n_jobs=6)]: Done 360 out of 360 | elapsed: 65.5min finished\n"
     ]
    },
    {
     "name": "stdout",
     "output_type": "stream",
     "text": [
      "\n",
      "Best score for Random Forest with _all_business dataset: 0.6842027125874001\n",
      "\n",
      "Best hyperparameters for Random Forest with _all_business dataset:\n",
      "memory : None\n",
      "steps : [('clf', RandomForestRegressor(max_depth=20, max_features='sqrt', min_samples_leaf=2,\n",
      "                      n_estimators=2000, random_state=7))]\n",
      "verbose : False\n",
      "clf : RandomForestRegressor(max_depth=20, max_features='sqrt', min_samples_leaf=2,\n",
      "                      n_estimators=2000, random_state=7)\n",
      "clf__bootstrap : True\n",
      "clf__ccp_alpha : 0.0\n",
      "clf__criterion : mse\n",
      "clf__max_depth : 20\n",
      "clf__max_features : sqrt\n",
      "clf__max_leaf_nodes : None\n",
      "clf__max_samples : None\n",
      "clf__min_impurity_decrease : 0.0\n",
      "clf__min_impurity_split : None\n",
      "clf__min_samples_leaf : 2\n",
      "clf__min_samples_split : 2\n",
      "clf__min_weight_fraction_leaf : 0.0\n",
      "clf__n_estimators : 2000\n",
      "clf__n_jobs : None\n",
      "clf__oob_score : False\n",
      "clf__random_state : 7\n",
      "clf__verbose : 0\n",
      "clf__warm_start : False\n",
      "\n",
      "Prediction scores for Random Forest using _all_business :\n",
      "Mean Squared error: 5.993185856613002\n",
      "Mean Absolute error: 1.4991432030102378\n",
      "R^2: 0.6925348597962231\n"
     ]
    }
   ],
   "source": [
    "bus_model, bus_train_score, bus_mse, bus_mae, bus_r2 = get_best_model_revised(sel_methods[4], args, num_folds, is_sample)"
   ]
  },
  {
   "cell_type": "code",
   "execution_count": 20,
   "metadata": {},
   "outputs": [],
   "source": [
    "#hyperparameters stable model saved\n",
    "save_model(bus_model,sel_methods[4])"
   ]
  },
  {
   "cell_type": "markdown",
   "metadata": {},
   "source": [
    "<h3>Visualise scores<h3>"
   ]
  },
  {
   "cell_type": "code",
   "execution_count": 31,
   "metadata": {},
   "outputs": [],
   "source": [
    "training_scores = [f_reg_train_score, chi2_train_score, ada_train_score, equal_train_score, bus_train_score]\n",
    "mse_scores = [f_reg_mse, chi2_mse, ada_mse, equal_mse, bus_mse]\n",
    "mae_scores = [f_reg_mae, chi2_mae, ada_mae, equal_mae, bus_mae]\n",
    "r2_scores = [f_reg_r2, chi2_r2, ada_r2, equal_r2, bus_r2]\n",
    "datasets = [\"F-Regression\",\"Chi-Squared\",\"AdaBoost\",\"Equal Business\\nand Crime\",\"All Business\"]\n",
    "y_select = np.arange(len(datasets))"
   ]
  },
  {
   "cell_type": "code",
   "execution_count": 32,
   "metadata": {
    "scrolled": false
   },
   "outputs": [
    {
     "data": {
      "text/plain": [
       "<BarContainer object of 5 artists>"
      ]
     },
     "execution_count": 32,
     "metadata": {},
     "output_type": "execute_result"
    },
    {
     "data": {
      "image/png": "[encoded data removed]",
      "text/plain": [
       "<Figure size 720x720 with 1 Axes>"
      ]
     },
     "metadata": {
      "needs_background": "light"
     },
     "output_type": "display_data"
    }
   ],
   "source": [
    "plt.figure(figsize = (10,10))\n",
    "plt.xticks(y_select,datasets)\n",
    "plt.title(display_name + \" training score\")\n",
    "plt.xlabel(\"Dataset\")\n",
    "plt.ylabel(\"Training score (r-squared)\")\n",
    "plt.bar(y_select, training_scores)"
   ]
  },
  {
   "cell_type": "code",
   "execution_count": 33,
   "metadata": {},
   "outputs": [
    {
     "data": {
      "text/plain": [
       "<BarContainer object of 5 artists>"
      ]
     },
     "execution_count": 33,
     "metadata": {},
     "output_type": "execute_result"
    },
    {
     "data": {
      "image/png": "[encoded data removed]",
      "text/plain": [
       "<Figure size 720x720 with 1 Axes>"
      ]
     },
     "metadata": {
      "needs_background": "light"
     },
     "output_type": "display_data"
    }
   ],
   "source": [
    "plt.figure(figsize = (10,10))\n",
    "plt.xticks(y_select,datasets)\n",
    "plt.title(display_name + \" testing mean-squared error\")\n",
    "plt.xlabel(\"Dataset\")\n",
    "plt.ylabel(\"Mean-squared error\")\n",
    "plt.bar(y_select, mse_scores)"
   ]
  },
  {
   "cell_type": "code",
   "execution_count": 34,
   "metadata": {},
   "outputs": [
    {
     "data": {
      "text/plain": [
       "<BarContainer object of 5 artists>"
      ]
     },
     "execution_count": 34,
     "metadata": {},
     "output_type": "execute_result"
    },
    {
     "data": {
      "image/png": "[encoded data removed]",
      "text/plain": [
       "<Figure size 720x720 with 1 Axes>"
      ]
     },
     "metadata": {
      "needs_background": "light"
     },
     "output_type": "display_data"
    }
   ],
   "source": [
    "plt.figure(figsize = (10,10))\n",
    "plt.xticks(y_select,datasets)\n",
    "plt.title(display_name + \" testing mean-absolute error\")\n",
    "plt.xlabel(\"Dataset\")\n",
    "plt.ylabel(\"Mean absolute error\")\n",
    "plt.bar(y_select, mae_scores)"
   ]
  },
  {
   "cell_type": "code",
   "execution_count": 35,
   "metadata": {},
   "outputs": [
    {
     "data": {
      "text/plain": [
       "<BarContainer object of 5 artists>"
      ]
     },
     "execution_count": 35,
     "metadata": {},
     "output_type": "execute_result"
    },
    {
     "data": {
      "image/png": "[encoded data removed]",
      "text/plain": [
       "<Figure size 720x720 with 1 Axes>"
      ]
     },
     "metadata": {
      "needs_background": "light"
     },
     "output_type": "display_data"
    }
   ],
   "source": [
    "plt.figure(figsize = (10,10))\n",
    "plt.xticks(y_select,datasets)\n",
    "plt.title(display_name + \" testing r-squared scores\")\n",
    "plt.xlabel(\"Dataset\")\n",
    "plt.ylabel(\"R-Squared Score\")\n",
    "plt.bar(y_select, r2_scores)"
   ]
  },
  {
   "cell_type": "code",
   "execution_count": null,
   "metadata": {},
   "outputs": [],
   "source": []
  }
 ],
 "metadata": {
  "kernelspec": {
   "display_name": "Python 3",
   "language": "python",
   "name": "python3"
  },
  "language_info": {
   "codemirror_mode": {
    "name": "ipython",
    "version": 3
   },
   "file_extension": ".py",
   "mimetype": "text/x-python",
   "name": "python",
   "nbconvert_exporter": "python",
   "pygments_lexer": "ipython3",
   "version": "3.9.0"
  }
 },
 "nbformat": 4,
 "nbformat_minor": 4
}
