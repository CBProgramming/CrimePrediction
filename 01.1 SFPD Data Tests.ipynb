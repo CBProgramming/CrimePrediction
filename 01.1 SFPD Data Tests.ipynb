{
 "cells": [
  {
   "cell_type": "code",
   "execution_count": 134,
   "metadata": {},
   "outputs": [],
   "source": [
    "import pandas as pd\n",
    "from datetime import date, datetime, timedelta"
   ]
  },
  {
   "cell_type": "code",
   "execution_count": 135,
   "metadata": {},
   "outputs": [],
   "source": [
    "df = pd.read_csv('SFPD_preprocessed.csv')\n",
    "neighbourhoods_df = pd.read_csv('SF_neighborhoods.csv')"
   ]
  },
  {
   "cell_type": "code",
   "execution_count": 136,
   "metadata": {},
   "outputs": [],
   "source": [
    "# intended values for dataset\n",
    "expected_neighborhoods = sorted(neighbourhoods_df['name'].tolist())\n",
    "expected_start_day = 1\n",
    "expected_start_month = 7\n",
    "expected_start_year = 2019\n",
    "expected_start_date = date (expected_start_year,expected_start_month,expected_start_day)\n",
    "expected_end_day = 11\n",
    "expected_end_month = 11\n",
    "expected_end_year = 2020\n",
    "expected_end_date = date (expected_end_year,expected_end_month,expected_end_day)\n",
    "num_neighbourhoods = 117\n",
    "date_delta = (expected_end_date - expected_start_date).days + 1\n",
    "expected_num_records = num_neighbourhoods * date_delta\n",
    "days = [\"Monday\",\"Tuesday\",\"Wednesday\",\"Thursday\",\"Friday\",\"Saturday\",\"Sunday\"]\n",
    "expected_columns = ['Incident Date','Incident Year','Neighborhood','Incident Day of Week','Todays Reports','Reports 1 day ago',\n",
    "                    'Reports 2 days ago','Reports 3 days ago','Reports 4 days ago','Reports 5 days ago','Reports 6 days ago',\n",
    "                    'Reports 7 days ago','Reports 14 days ago','Reports 30 days ago','Reports 365 days ago',\n",
    "                    'Last 7 days reports','Last 14 days reports','Last 28 days reports']"
   ]
  },
  {
   "cell_type": "code",
   "execution_count": 137,
   "metadata": {},
   "outputs": [],
   "source": [
    "df['Incident Date'] = pd.to_datetime(df['Incident Date'])\n",
    "first_date = df['Incident Date'].iloc[0]\n",
    "last_date = df['Incident Date'].iloc[-1]"
   ]
  },
  {
   "cell_type": "code",
   "execution_count": 138,
   "metadata": {},
   "outputs": [
    {
     "name": "stdout",
     "output_type": "stream",
     "text": [
      "First date of dataset is as expected.\n",
      "Last date of dataset is as expected.\n",
      "Number of records in dataset is as expected.\n",
      "Column names of dataset are as expected.\n",
      "All dates, years, neighbourhoods, days of week and values in dataset are as expected.\n",
      "\n",
      "All tests completed successfully.\n"
     ]
    }
   ],
   "source": [
    "# assert intended values are as expected\n",
    "assert expected_start_date == first_date, \"First date is \" + str(first_date) + \" but should be \" + str(expected_start_date)\n",
    "print(\"First date of dataset is as expected.\")\n",
    "assert expected_end_date == last_date, \"First date is \" + str(last_date) + \" but should be \" + str(expected_last_date)\n",
    "print(\"Last date of dataset is as expected.\")\n",
    "assert expected_num_records == len(df), \"Expected \" + str(expected_num_records) + \" records but got \" + str(len(df))\n",
    "print(\"Number of records in dataset is as expected.\")\n",
    "actual_columns = df.columns\n",
    "for i in range(len(expected_columns)):\n",
    "    assert expected_columns[i] == actual_columns[i], \"Expected column\" + expected_columns[i] + \" but got \" + actual_columns[i]\n",
    "print(\"Column names of dataset are as expected.\")\n",
    "current_expected_date = expected_start_date\n",
    "neighbourhood_count = 1\n",
    "for record_num in range(0,len(df.index)):\n",
    "    record_date = df['Incident Date'].iloc[record_num]\n",
    "    assert current_expected_date == record_date, (\"Expected date \" + str(current_expected_date) + \" on row \" + \n",
    "                                                  str(record_num) + \" but got \" + str(record_date))\n",
    "    expected_neighbourhood = expected_neighborhoods[neighbourhood_count-1]\n",
    "    actual_neighbourhood = df['Neighborhood'].iloc[record_num]\n",
    "    assert expected_neighbourhood == actual_neighbourhood, (\"Expected neighborhood \" + expected_neighbourhood + \" on row \" +\n",
    "                                                            str(record_num) + \" but got \" + actual_neighbourhood)\n",
    "    expected_year = current_expected_date.year\n",
    "    actual_year = df['Incident Year'].iloc[record_num]\n",
    "    assert expected_year == actual_year, (\"Expected year \" + expected_year + \" on row \" + str(record_num) + \" but got \" + \n",
    "                                          actual_year)\n",
    "    expected_day_of_week = days[current_expected_date.weekday()]\n",
    "    actual_day_of_week = df['Incident Day of Week'].iloc[record_num]\n",
    "    assert expected_day_of_week == actual_day_of_week, (\"Expected \" + expected_day_of_week + \" on row \" + str(record_num) + \n",
    "                                                        \" but got \" + actual_day_of_week)\n",
    "    j = 4\n",
    "    while j < len(expected_columns):\n",
    "        assert df[expected_columns[j]].iloc[record_num] >= 0, \"Value for \" + expected_columns[j] + \" is less than 0\"\n",
    "        j += 1\n",
    "    if neighbourhood_count == num_neighbourhoods:\n",
    "        current_expected_date += timedelta(days=1)\n",
    "        neighbourhood_count = 0\n",
    "    neighbourhood_count += 1\n",
    "print(\"All dates, years, neighbourhoods, days of week and values in dataset are as expected.\")\n",
    "print(\"\\nAll tests completed successfully.\")"
   ]
  },
  {
   "cell_type": "code",
   "execution_count": null,
   "metadata": {},
   "outputs": [],
   "source": []
  }
 ],
 "metadata": {
  "kernelspec": {
   "display_name": "Python 3",
   "language": "python",
   "name": "python3"
  },
  "language_info": {
   "codemirror_mode": {
    "name": "ipython",
    "version": 3
   },
   "file_extension": ".py",
   "mimetype": "text/x-python",
   "name": "python",
   "nbconvert_exporter": "python",
   "pygments_lexer": "ipython3",
   "version": "3.9.0"
  }
 },
 "nbformat": 4,
 "nbformat_minor": 4
}
