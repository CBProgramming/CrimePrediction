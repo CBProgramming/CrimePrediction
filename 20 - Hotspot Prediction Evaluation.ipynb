{
 "cells": [
  {
   "cell_type": "code",
   "execution_count": 783,
   "metadata": {},
   "outputs": [],
   "source": [
    "import pandas as pd\n",
    "from datetime import date, datetime, timedelta\n",
    "import pickle\n",
    "import numpy as np\n",
    "from math import sqrt\n",
    "import copy\n",
    "import matplotlib.pyplot as plt\n",
    "%matplotlib inline\n",
    "import math"
   ]
  },
  {
   "cell_type": "markdown",
   "metadata": {},
   "source": [
    "<h3> Hotspot calculation (Also used in GUI) <h3>"
   ]
  },
  {
   "cell_type": "code",
   "execution_count": 784,
   "metadata": {},
   "outputs": [],
   "source": [
    "def open_file():\n",
    "    try:\n",
    "        data_file = pd.read_csv(DEFAULT_FILE_PATH + CSV_FILE_EXTENSION)\n",
    "    except:\n",
    "        print(\"File not found\")\n",
    "        return pd.DataFrame()\n",
    "    return data_file"
   ]
  },
  {
   "cell_type": "code",
   "execution_count": 785,
   "metadata": {},
   "outputs": [],
   "source": [
    "# Define file variables\n",
    "DEFAULT_FILE_PATH = \"CrimeGUI/data\"\n",
    "CSV_FILE_EXTENSION = \".csv\"\n",
    "DATA_FILE = pd.DataFrame()\n",
    "FILTERED_DATA = pd.DataFrame()\n",
    "DATA_FILE = open_file()\n",
    "FIRST_DATE = datetime.strptime(DATA_FILE['Date'].iloc[0], '%d/%m/%Y')\n",
    "LAST_DATE = datetime.strptime(DATA_FILE['Date'].iloc[len(DATA_FILE) - 1], '%d/%m/%Y')\n",
    "MODEL_FEATURE_SEPARATOR = \"_\"\n",
    "MODEL_PATH = \"CrimeGUI/Models/\"\n",
    "COMMA_SPACE = \", \"\n",
    "INCIDENT_COL_KEY = \"Todays Reports\"\n",
    "NEIGHBOURHOOD_COL_KEY = \"Neighborhood\"\n",
    "DATE_COL_KEY = \"Date\""
   ]
  },
  {
   "cell_type": "code",
   "execution_count": 786,
   "metadata": {},
   "outputs": [],
   "source": [
    "# Define feature selection variables\n",
    "F_REGRESSION_NAME = \"F-Regression\"\n",
    "F_REGRESSION_FILE_TAG = \"f_regression\"\n",
    "CHI2_NAME = \"Chi-Squared\"\n",
    "CHI2_FILE_TAG = \"chi2\"\n",
    "ADABOOST_NAME = \"AdaBoost\"\n",
    "ADABOOST_FILE_TAG = \"adaboost\"\n",
    "EQUAL_DATA_NAME = \"Equal Selection\"\n",
    "EQUAL_DATA_FILE_TAG = \"equal_crime_and_business\"\n",
    "ALL_BUS_NAME = \"All Business\"\n",
    "ALL_BUS_FILE_TAG = \"all_business\"\n",
    "FEATURE_SELECTION = [F_REGRESSION_NAME, CHI2_NAME, ADABOOST_NAME, EQUAL_DATA_NAME, ALL_BUS_NAME]\n",
    "FEATURES = {\n",
    "    F_REGRESSION_NAME : ['Reports 1 day ago', 'Reports 2 days ago', 'Reports 3 days ago',\n",
    "                       'Reports 4 days ago', 'Reports 5 days ago', 'Reports 6 days ago',\n",
    "                      'Reports 7 days ago','Reports 14 days ago','Reports 30 days ago','Reports 365 days ago'],\n",
    "    CHI2_NAME : ['South of Market', 'Mission', 'Tenderloin', 'Number of businesses', \n",
    "               'Downtown / Union Square', 'Civic Center', 'Reports 365 days ago',\n",
    "               'Reports 1 day ago','Reports 2 days ago','Reports 14 days ago'],\n",
    "    ADABOOST_NAME : ['Reports 365 days ago', 'Reports 1 day ago', 'Reports 14 days ago', 'Reports 3 days ago', \n",
    "               'Reports 2 days ago', 'Reports 7 days ago', 'Number of businesses',\n",
    "               'Reports 4 days ago','Reports 5 days ago','Closures 365 days ago'],\n",
    "    EQUAL_DATA_NAME : ['Number of businesses', 'Last 28 days closures', 'Last 7 days openings',\n",
    "                          'Last 14 days closures', 'Last 7 days closures','Reports 1 day ago',\n",
    "                      'Reports 2 days ago', 'Reports 4 days ago', 'Reports 30 days ago', 'Reports 7 days ago'],\n",
    "    ALL_BUS_NAME : ['Number of businesses', 'Last 28 days closures', 'Last 7 days openings',\n",
    "                          'Last 14 days closures', 'Last 7 days closures','Number of openings',\n",
    "                   'Openings 4 days ago','Openings 1 day ago', 'Openings 7 days ago', 'Openings 2 days ago']\n",
    "    }\n",
    "FEATURE_FILE_TAGS = {\n",
    "    F_REGRESSION_NAME : F_REGRESSION_FILE_TAG,\n",
    "    CHI2_NAME : CHI2_FILE_TAG,\n",
    "    ADABOOST_NAME : ADABOOST_FILE_TAG,\n",
    "    EQUAL_DATA_NAME : EQUAL_DATA_FILE_TAG,\n",
    "    ALL_BUS_NAME : ALL_BUS_FILE_TAG\n",
    "    }\n",
    "FEATURE_NAMES_BY_FILE_TAG = {\n",
    "    F_REGRESSION_FILE_TAG : F_REGRESSION_NAME,\n",
    "    CHI2_FILE_TAG : CHI2_NAME,\n",
    "    ADABOOST_FILE_TAG : ADABOOST_NAME,\n",
    "    EQUAL_DATA_FILE_TAG : EQUAL_DATA_NAME,\n",
    "    ALL_BUS_FILE_TAG : ALL_BUS_NAME\n",
    "}"
   ]
  },
  {
   "cell_type": "code",
   "execution_count": 787,
   "metadata": {},
   "outputs": [],
   "source": [
    "# Define model variables\n",
    "ANN_NAME = \"Multi-Layer\\nPerceptron\"\n",
    "ANN_FILE_TAG = \"multi_layer_perceptron\"\n",
    "DECISION_TREE_NAME = \"Decision Tree\"\n",
    "DECISION_TREE_FILE_TAG = \"decision_tree\"\n",
    "ELASTIC_NET_NAME = \"Elastic Net\"\n",
    "ELASTIC_NET_FILE_TAG = \"elastic_net\"\n",
    "LASSO_NAME = \"Lasso\"\n",
    "LASSO_FILE_TAG = \"lasso\"\n",
    "LINERAR_REGRESSION_NAME = \"Linear \\nRegression\"\n",
    "LINERAR_REGRESSION_FILE_TAG = \"linear_regression\"\n",
    "RANDOM_FOREST_NAME = \"Random \\nForest\"\n",
    "RANDOM_FOREST_FILE_TAG = \"random_forest\"\n",
    "RIDGE_REGRESSION_NAME = \"Ridge \\nRegression\"\n",
    "RIDGE_REGRESSION_FILE_TAG = \"ridge_regression\"\n",
    "SVM_NAME = \"SVM\"\n",
    "SVM_FILE_TAG = \"svm\"\n",
    "MODELS = [ANN_NAME,\n",
    "          DECISION_TREE_NAME,\n",
    "          ELASTIC_NET_NAME,\n",
    "          LASSO_NAME,\n",
    "          LINERAR_REGRESSION_NAME,\n",
    "          RANDOM_FOREST_NAME,\n",
    "          RIDGE_REGRESSION_NAME,\n",
    "          SVM_NAME]\n",
    "MODEL_FILE_TAGS = {\n",
    "    ANN_NAME : ANN_FILE_TAG,\n",
    "    DECISION_TREE_NAME : DECISION_TREE_FILE_TAG,\n",
    "    ELASTIC_NET_NAME : ELASTIC_NET_FILE_TAG,\n",
    "    LASSO_NAME : LASSO_FILE_TAG,\n",
    "    LINERAR_REGRESSION_NAME: LINERAR_REGRESSION_FILE_TAG,\n",
    "    RANDOM_FOREST_NAME: RANDOM_FOREST_FILE_TAG,\n",
    "    RIDGE_REGRESSION_NAME: RIDGE_REGRESSION_FILE_TAG,\n",
    "    SVM_NAME : SVM_FILE_TAG\n",
    "    }\n",
    "MODEL_NAMES_BY_FILE_TAG = {\n",
    "    ANN_FILE_TAG : ANN_NAME,\n",
    "    DECISION_TREE_FILE_TAG : DECISION_TREE_NAME,\n",
    "    ELASTIC_NET_FILE_TAG : ELASTIC_NET_NAME,\n",
    "    LASSO_FILE_TAG : LASSO_NAME,\n",
    "    LINERAR_REGRESSION_FILE_TAG : LINERAR_REGRESSION_NAME,\n",
    "    RANDOM_FOREST_FILE_TAG: RANDOM_FOREST_NAME,\n",
    "    RIDGE_REGRESSION_FILE_TAG : RIDGE_REGRESSION_NAME,\n",
    "    SVM_FILE_TAG : SVM_NAME\n",
    "}"
   ]
  },
  {
   "cell_type": "code",
   "execution_count": 788,
   "metadata": {},
   "outputs": [],
   "source": [
    "PARENT_NEIGHBOURHOODS = {\n",
    "    \"Central Waterfront\" : [\"Dogpatch\"],\n",
    "    \"Eureka Valley\" : [\"Dolores Heights\",\"Castro\"],\n",
    "    \"Buena Vista\" : [\"Ashbury Heights\"],\n",
    "    \"Cole Valley\" : [\"Parnassus Heights\"],\n",
    "    \"Bayview\" : [\"Apparel City\", \"Produce Market\"],\n",
    "    \"Russian Hill\" : [\"Aquatic Park / Ft. Mason\"],\n",
    "    \"North Beach\" : [\"Bret Harte\"],\n",
    "    \"Western Addition\" : [\"Cathedral Hill\", \"Japantown\"],\n",
    "    \"Downtown / Union Square\" : [\"Fairmount\", \"Chinatown\", \"Lower Nob Hill\", \"Polk Gulch\"],\n",
    "    \"Mission Terrace\" : [\"Cayuga\"],\n",
    "    \"Northern Waterfront\" : [\"Fishermans Wharf\"],\n",
    "    \"Bernal Heights\" : [\"Holly Park\", \"Peralta Heights\", \"St. Marys Park\"],\n",
    "    \"Hunters Point\" : [\"India Basin\"],\n",
    "    \"Forest Hill\" : [\"Laguna Honda\"],\n",
    "    \"Hayes Valley\" : [\"Lower Haight\"],\n",
    "    \"Portola\" : [\"McLaren Park\", \"University Mound\"],\n",
    "    \"South of Market\" : [\"Mint Hill\"],\n",
    "    \"Stonestown\" : [\"Parkmerced\"],\n",
    "    \"Presidio Heights\" : [\"Presidio Terrace\"],\n",
    "    \"South Beach\" : [\"Rincon Hill\"],\n",
    "    \"Potrero Hill\" : [\"Showplace Square\"],\n",
    "    \"Visitacion Valley\" : [\"Sunnydale\"],\n",
    "    \"Lincoln Park / Ft. Miley\" : [\"Sutro Heights\"],\n",
    "    \"Cow Hollow\" : [\"Union Street\"]\n",
    "    }"
   ]
  },
  {
   "cell_type": "code",
   "execution_count": 789,
   "metadata": {},
   "outputs": [],
   "source": [
    "def get_hotspots(data, model_key, features_key,calendar_date):\n",
    "    x_data = data.loc[data[DATE_COL_KEY].str.contains(calendar_date)]\n",
    "    neighbourhoods_data = pd.DataFrame(x_data[NEIGHBOURHOOD_COL_KEY])\n",
    "    neighbourhoods_data.reset_index(drop=True, inplace=True)\n",
    "    y_data = pd.DataFrame(x_data[INCIDENT_COL_KEY])\n",
    "    y_data.reset_index(drop=True, inplace=True)\n",
    "    features_selected = FEATURES[features_key]\n",
    "    x_data = x_data[features_selected]\n",
    "    return load_model(x_data, y_data, neighbourhoods_data, model_key, features_key)"
   ]
  },
  {
   "cell_type": "code",
   "execution_count": 790,
   "metadata": {},
   "outputs": [],
   "source": [
    "def load_model(x_data, y_data, neighbourhoods_data, model_key, features_key):\n",
    "    model_tag = MODEL_FILE_TAGS[model_key]\n",
    "    feature_tag = FEATURE_FILE_TAGS[features_key]\n",
    "    file_path = MODEL_PATH + model_tag + MODEL_FEATURE_SEPARATOR + feature_tag\n",
    "    with open(file_path, 'rb') as f:\n",
    "        model = pickle.load(f)\n",
    "        return make_prediction(model, x_data, y_data, neighbourhoods_data)"
   ]
  },
  {
   "cell_type": "code",
   "execution_count": 791,
   "metadata": {},
   "outputs": [],
   "source": [
    "def make_prediction(model, x_data, y_data, neighbourhoods_data):\n",
    "    y_predict = model.predict(x_data)\n",
    "    y_actual,y_predict,neighbourhoods_data = merge_sub_neighbourhoods(y_data,y_predict,neighbourhoods_data)\n",
    "    total_predictions = len(y_predict)\n",
    "    neighbourhoods_data.reset_index(drop=True, inplace=True)\n",
    "    prediction_neighbourhoods = neighbourhoods_data[NEIGHBOURHOOD_COL_KEY].to_numpy()\n",
    "    actual_neighbourhoods = prediction_neighbourhoods.copy()\n",
    "    indexes = y_actual.argsort()\n",
    "    y_actual = np.flip(y_actual[indexes])\n",
    "    actual_neighbourhoods = np.flip(actual_neighbourhoods[indexes])\n",
    "    indexes = y_predict.argsort()\n",
    "    y_predict = np.flip(y_predict[indexes])\n",
    "    prediction_neighbourhoods = np.flip(prediction_neighbourhoods[indexes])\n",
    "    return y_actual, actual_neighbourhoods, y_predict, prediction_neighbourhoods"
   ]
  },
  {
   "cell_type": "code",
   "execution_count": 792,
   "metadata": {},
   "outputs": [],
   "source": [
    "def get_non_negative_value(value):\n",
    "    if value < 0:\n",
    "        return 0\n",
    "    else:\n",
    "        return value"
   ]
  },
  {
   "cell_type": "code",
   "execution_count": 793,
   "metadata": {},
   "outputs": [],
   "source": [
    "def merge_sub_neighbourhoods(y_data,y_predict,neighbourhoods_data):\n",
    "    y_data = pd.DataFrame(y_data).to_numpy().flatten()\n",
    "    indexes_to_remove = []\n",
    "    for parent_key in PARENT_NEIGHBOURHOODS:\n",
    "        parent_index = neighbourhoods_data.index[neighbourhoods_data[NEIGHBOURHOOD_COL_KEY] == parent_key].tolist()[0]\n",
    "        y_predict_parent_value = get_non_negative_value(y_predict[parent_index])\n",
    "        y_data_parent_value = get_non_negative_value(y_data[parent_index])\n",
    "        for sub_neighbourhood in PARENT_NEIGHBOURHOODS[parent_key]:\n",
    "            sub_neighbourhood_index = neighbourhoods_data.index[neighbourhoods_data[NEIGHBOURHOOD_COL_KEY] == sub_neighbourhood].tolist()[0]\n",
    "            indexes_to_remove.append(sub_neighbourhood_index)\n",
    "            y_predict_sub_neighbourhood_value = get_non_negative_value(y_predict[sub_neighbourhood_index])\n",
    "            y_predict_parent_value = y_predict_parent_value + y_predict_sub_neighbourhood_value\n",
    "            y_data_sub_neighbourhood_value = get_non_negative_value(y_data[sub_neighbourhood_index])\n",
    "            y_data_parent_value = y_data_parent_value + y_data_sub_neighbourhood_value\n",
    "        y_predict[parent_index] = y_predict_parent_value\n",
    "        y_data[parent_index] = y_data_parent_value\n",
    "    neighbourhoods_data = neighbourhoods_data.drop(neighbourhoods_data.index[indexes_to_remove])\n",
    "    indexes_to_remove.sort(reverse=True)\n",
    "    for index in indexes_to_remove:\n",
    "        y_predict = np.delete(y_predict,index)\n",
    "        y_data = np.delete(y_data,index)\n",
    "    return y_data,y_predict,neighbourhoods_data "
   ]
  },
  {
   "cell_type": "markdown",
   "metadata": {},
   "source": [
    "<h3>Evaluation <h3>"
   ]
  },
  {
   "cell_type": "code",
   "execution_count": 853,
   "metadata": {},
   "outputs": [],
   "source": [
    "def calculate_accuracy(y_actual, actual_neighbourhoods, y_predict, prediction_neighbourhoods,num_hotspots):\n",
    "    total_predictions = len(y_predict)\n",
    "    predicted_hotspots, actual_hotspots = determine_hotspots(y_actual, \n",
    "                                                             actual_neighbourhoods, \n",
    "                                                             prediction_neighbourhoods,\n",
    "                                                             num_hotspots)\n",
    "    num_predictions = len(predicted_hotspots)\n",
    "    classification_scores = calculate_standard_scores(num_predictions,\n",
    "                                                      predicted_hotspots,\n",
    "                                                      actual_hotspots,\n",
    "                                                      total_predictions)\n",
    "    misclassification_scores = get_missed_incidents(predicted_hotspots, \n",
    "                                                    actual_hotspots, \n",
    "                                                    y_actual, \n",
    "                                                    y_predict,\n",
    "                                                    num_predictions,\n",
    "                                                    actual_neighbourhoods)\n",
    "    return classification_scores + misclassification_scores"
   ]
  },
  {
   "cell_type": "code",
   "execution_count": 1260,
   "metadata": {},
   "outputs": [],
   "source": [
    "def get_missed_incidents(predicted_hotspots, actual_hotspots, y_actual, y_predict,num_predictions,actual_neighbourhoods):\n",
    "    incidents_correct = 0\n",
    "    incidents_missed = 0\n",
    "    additional_incidents_caught = 0\n",
    "    for neighbourhood in predicted_hotspots:\n",
    "        index = np.where(actual_neighbourhoods == neighbourhood)[0]\n",
    "        value = y_actual[index]\n",
    "        if neighbourhood in actual_hotspots:\n",
    "            incidents_correct += value\n",
    "        else:\n",
    "            additional_incidents_caught += value\n",
    "    i = 0\n",
    "    i_limit = 0\n",
    "    lowest_actual = y_actual[num_predictions-1]\n",
    "    while i < num_predictions:\n",
    "        if y_actual[i] != lowest_actual:\n",
    "            neighbourhood = actual_hotspots[i]\n",
    "            if neighbourhood not in predicted_hotspots:\n",
    "                index = np.where(actual_neighbourhoods == neighbourhood)[0]\n",
    "                value = y_actual[index]\n",
    "                incidents_missed += value\n",
    "            i += 1\n",
    "        else:\n",
    "            i_limit = i\n",
    "            i = num_predictions\n",
    "    i = i_limit\n",
    "    remaining_hotspots_to_find = num_predictions - i\n",
    "    hotspots_found = 0\n",
    "    while i < len(actual_hotspots):\n",
    "        neighbourhood = actual_hotspots[i]\n",
    "        if neighbourhood in predicted_hotspots:\n",
    "            hotspots_found += 1\n",
    "        i += 1\n",
    "    num_lowest_value_hotspots_missing = remaining_hotspots_to_find - hotspots_found\n",
    "    lowest_values_missed = lowest_actual * num_lowest_value_hotspots_missing\n",
    "    incidents_missed += lowest_values_missed\n",
    "    total_actual_hotspots = incidents_correct + incidents_missed\n",
    "    net_missed = incidents_missed - additional_incidents_caught\n",
    "    misclassification_severity = 0.0\n",
    "    if net_missed != 0:\n",
    "        misclassification_severity = (net_missed / total_actual_hotspots)[0]\n",
    "    return [misclassification_severity]"
   ]
  },
  {
   "cell_type": "code",
   "execution_count": 796,
   "metadata": {},
   "outputs": [],
   "source": [
    "def determine_hotspots(y_actual, actual_neighbourhoods, prediction_neighbourhoods,num_hotspots):\n",
    "    #sorted numpy arrays expected \n",
    "    predicted_hotspots = prediction_neighbourhoods[:num_hotspots]\n",
    "    actual_hotspots = actual_neighbourhoods[:num_hotspots]\n",
    "    lowest_hotspot_value = y_actual[num_hotspots-1]\n",
    "    i = num_hotspots\n",
    "    while i < len(actual_neighbourhoods):\n",
    "        if y_actual[i] == lowest_hotspot_value:\n",
    "            np.append(actual_hotspots,actual_neighbourhoods[i])\n",
    "            i += 1\n",
    "        else:\n",
    "            i = len(actual_neighbourhoods)\n",
    "    return predicted_hotspots, actual_hotspots"
   ]
  },
  {
   "cell_type": "code",
   "execution_count": 1073,
   "metadata": {},
   "outputs": [],
   "source": [
    "def calculate_standard_scores(num_predictions,predicted_hotspots,actual_hotspots,total_predictions):\n",
    "    #true positives\n",
    "    tp = 0\n",
    "    #false positives\n",
    "    fp = 0\n",
    "    for i in range(num_predictions):\n",
    "        if predicted_hotspots[i] in actual_hotspots:\n",
    "            #print(str(predicted_hotspots[i]) + \" found,\")\n",
    "            tp += 1\n",
    "        else:\n",
    "            fp +=1\n",
    "            #print(str(predicted_hotspots[i]) + \" not found,\")\n",
    "    #true negatives\n",
    "    tn = total_predictions-num_predictions-fp\n",
    "    #false negatives\n",
    "    fn = fp\n",
    "    #sensitivity/recall\n",
    "    sensitivity = 0\n",
    "    if tp + fn != 0:\n",
    "        sensitivity = tp / (tp + fn)\n",
    "    #specificity\n",
    "    specificity = 1\n",
    "    if tn + fp !=0:\n",
    "        specificity = tn / (tn + fp)\n",
    "    #precision\n",
    "    precision = 0\n",
    "    if tp + fp !=0:\n",
    "        precision = tp / (tp + fp)\n",
    "    #f1 - incorporates both sensitivity/recall and precision\n",
    "    f1 = 0\n",
    "    if precision + sensitivity != 0:\n",
    "        f1 = round(2 * (precision * sensitivity) / (precision + sensitivity),5)\n",
    "    #matthews correlation coefficient\n",
    "    mcc = 1\n",
    "    if sqrt((tp + fp) * (tp + fn) * (tn + fp) * (tn+fn)) != 0:\n",
    "        mcc = round(((tp * tn) - (fp * fn)) / (sqrt((tp + fp) * (tp + fn) * (tn + fp) * (tn+fn))),5)\n",
    "    return [sensitivity, specificity, precision, f1, mcc]"
   ]
  },
  {
   "cell_type": "code",
   "execution_count": 798,
   "metadata": {},
   "outputs": [],
   "source": [
    "def get_results(num_hotspots):\n",
    "    all_scores = {}\n",
    "    for score_key in SCORE_KEYS:\n",
    "        all_scores[score_key] = []\n",
    "    algorithm_names = []\n",
    "    for model_key in MODELS:\n",
    "        print(model_key)\n",
    "        for feature_key in FEATURES:\n",
    "            print(feature_key)\n",
    "            scores = score_algorithm(model_key, feature_key,num_hotspots)\n",
    "            for score_key in SCORE_KEYS:\n",
    "                all_scores[score_key].append(scores[score_key])\n",
    "            algorithm_names.append(model_key + \"\\n\" + feature_key)\n",
    "    return all_scores, algorithm_names"
   ]
  },
  {
   "cell_type": "code",
   "execution_count": 799,
   "metadata": {},
   "outputs": [],
   "source": [
    "def score_algorithm(model_key, feature_key,num_hotspots):\n",
    "    start_date = FIRST_DATE\n",
    "    all_scores = {}\n",
    "    for score_key in SCORE_KEYS:\n",
    "        all_scores[score_key] = []\n",
    "    while start_date <= LAST_DATE:\n",
    "        y_actual, actual_neighbourhoods, y_predict, prediction_neighbourhoods = get_hotspots(DATA_FILE, \n",
    "                                                                                model_key, \n",
    "                                                                                feature_key, \n",
    "                                                                                str(start_date.strftime(\"%d/%m/%Y\")))\n",
    "        results = calculate_accuracy(y_actual, actual_neighbourhoods, y_predict, prediction_neighbourhoods,num_hotspots)\n",
    "        for i in range(len(SCORE_KEYS)):\n",
    "            all_scores[SCORE_KEYS[i]].append(results[i])\n",
    "        start_date += timedelta(days=1)\n",
    "    averages = {}\n",
    "    for score_key in SCORE_KEYS:\n",
    "        averages[score_key] = sum(all_scores[score_key]) / len (all_scores[score_key])\n",
    "    return averages"
   ]
  },
  {
   "cell_type": "code",
   "execution_count": 800,
   "metadata": {},
   "outputs": [],
   "source": [
    "def best_x_scores(score_metric,x,algorithms,results,num_hotspots):\n",
    "    all_labels = algorithms.copy()\n",
    "    x_labels = []\n",
    "    best_scores = []\n",
    "    scores = results[score_metric].copy()\n",
    "    num_scores = len(scores)\n",
    "    x = validate_x(num_scores,x)\n",
    "    i = 0\n",
    "    while i < x:\n",
    "        if HIGHEST_IS_BEST[score_metric]:\n",
    "            index = np.argmax(scores)\n",
    "        else:\n",
    "            index = np.argmin(scores)\n",
    "        x_labels.append(all_labels[index])\n",
    "        best_scores.append(scores[index])\n",
    "        all_labels = np.delete(all_labels,index)\n",
    "        scores = np.delete(scores,index)\n",
    "        i+=1\n",
    "    y_select = np.arange(len(best_scores))\n",
    "    plt.figure(figsize = (15,15))\n",
    "    plt.xticks(y_select,x_labels)\n",
    "    #plt.xticks(rotation=45)\n",
    "    plt.title(\"Top \" + str(x) + \" \" + score_metric + \" scores\\nwhen predicting the top \" \n",
    "              + str(num_hotspots) + \" Crime Hotspots\")\n",
    "    plt.xlabel(\"Algorithm\")\n",
    "    plt.ylabel(score_metric + \" score\")\n",
    "    high_score = max(best_scores)\n",
    "    low_score = min(best_scores)\n",
    "    min_y = low_score - 0.5 * (high_score - low_score)\n",
    "    max_y = high_score + 0.5 * (high_score - low_score)\n",
    "    plt.ylim(bottom = min_y, top = max_y)\n",
    "    bar = plt.bar(y_select, best_scores)\n",
    "    return bar"
   ]
  },
  {
   "cell_type": "code",
   "execution_count": 801,
   "metadata": {},
   "outputs": [],
   "source": [
    "def get_labels():\n",
    "    labels = []\n",
    "    for algorithm in algorithms:\n",
    "        print(algorithm)\n",
    "        for sel_method in sel_methods:\n",
    "            print(sel_method)\n",
    "            labels.append(algorithm_display_names[algorithms.index(algorithm)] + \"\\nusing\\n\" + \n",
    "                          feature_select_display_names[np.nonzero(sel_methods == sel_method)[0][0]] + \"\\ndataset\")\n",
    "    return labels"
   ]
  },
  {
   "cell_type": "code",
   "execution_count": 802,
   "metadata": {},
   "outputs": [],
   "source": [
    "def validate_x(num_scores,x):\n",
    "    soft_cap = 15\n",
    "    if x > num_scores or x < 1:\n",
    "        if num_scores > soft_cap:\n",
    "            return soft_cap\n",
    "        else:\n",
    "            return num_scores\n",
    "    return x"
   ]
  },
  {
   "cell_type": "code",
   "execution_count": 803,
   "metadata": {},
   "outputs": [],
   "source": [
    "def evaluate_models(num_hotspots_range, top_x):\n",
    "    bars = []\n",
    "    for i in num_hotspots_range:\n",
    "        print(i)\n",
    "        num_hotspots = i\n",
    "        results, algorithms = get_results(num_hotspots)\n",
    "        for metric in SCORE_KEYS:\n",
    "            bars.append(best_x_scores(metric,top_x,algorithms,results,num_hotspots))\n",
    "    return bars"
   ]
  },
  {
   "cell_type": "code",
   "execution_count": 804,
   "metadata": {},
   "outputs": [],
   "source": [
    "SENSITIVITY_KEY = \"Sensitivity\"\n",
    "SPECIFICITY_KEY = \"Specificity\"\n",
    "PRECISION_KEY = \"Precision\"\n",
    "F1_KEY = \"F1\"\n",
    "MCC_KEY = \"MCC\"\n",
    "SEVERITY_KEY = \"Lowest Misclassification Severity\"\n",
    "SCORE_KEYS = [\n",
    "    SENSITIVITY_KEY,\n",
    "    SPECIFICITY_KEY,\n",
    "    PRECISION_KEY,\n",
    "    F1_KEY,\n",
    "    MCC_KEY,\n",
    "    SEVERITY_KEY\n",
    "]\n",
    "HIGHEST_IS_BEST = {\n",
    "    SENSITIVITY_KEY: True,\n",
    "    SPECIFICITY_KEY: True,\n",
    "    PRECISION_KEY: True,\n",
    "    F1_KEY:True,\n",
    "    MCC_KEY: True,\n",
    "    SEVERITY_KEY: False\n",
    "}\n",
    "\n",
    "num_hotspots_range = [5,10,15,20]    #[5,10,15,20]"
   ]
  },
  {
   "cell_type": "code",
   "execution_count": 408,
   "metadata": {
    "scrolled": true
   },
   "outputs": [
    {
     "name": "stdout",
     "output_type": "stream",
     "text": [
      "5\n",
      "Multi-Layer\n",
      "Perceptron\n",
      "F-Regression\n",
      "['South of Market' 'Mission' 'Downtown / Union Square' 'Tenderloin'\n",
      " 'Western Addition']\n",
      "['Downtown / Union Square' 'South of Market' 'Tenderloin' 'Bayview'\n",
      " 'Bernal Heights']\n",
      "['South of Market' 'Downtown / Union Square' 'Mission' 'Tenderloin'\n",
      " 'Western Addition']\n",
      "['South of Market' 'Outer Sunset' 'Western Addition' 'Duboce Triangle'\n",
      " 'Bayview']\n",
      "['South of Market' 'Downtown / Union Square' 'Mission' 'Tenderloin'\n",
      " 'Bayview']\n",
      "['South of Market' 'Downtown / Union Square' 'Mission' 'Potrero Hill'\n",
      " 'Civic Center']\n",
      "['Downtown / Union Square' 'South of Market' 'Mission' 'Tenderloin'\n",
      " 'Potrero Hill']\n",
      "['Mission' 'Downtown / Union Square' 'Civic Center' 'South of Market'\n",
      " 'Northern Waterfront']\n",
      "['Downtown / Union Square' 'Mission' 'South of Market' 'Tenderloin'\n",
      " 'Bayview']\n",
      "['South of Market' 'Tenderloin' 'Bayview' 'Downtown / Union Square'\n",
      " 'Mission']\n",
      "['Downtown / Union Square' 'South of Market' 'Mission' 'Tenderloin'\n",
      " 'Bayview']\n",
      "['South of Market' 'Downtown / Union Square' 'Tenderloin' 'Civic Center'\n",
      " 'Northern Waterfront']\n",
      "['South of Market' 'Downtown / Union Square' 'Tenderloin' 'Mission'\n",
      " 'Bayview']\n",
      "['Downtown / Union Square' 'South of Market' 'Portola' 'Potrero Hill'\n",
      " 'Mission']\n",
      "['South of Market' 'Downtown / Union Square' 'Mission' 'Tenderloin'\n",
      " 'Civic Center']\n",
      "['South of Market' 'Downtown / Union Square' 'Mission' 'Tenderloin'\n",
      " 'Western Addition']\n",
      "['South of Market' 'Downtown / Union Square' 'Mission' 'Tenderloin'\n",
      " 'Potrero Hill']\n",
      "['South of Market' 'Bayview' 'Mission' 'Downtown / Union Square'\n",
      " 'Tenderloin']\n",
      "['South of Market' 'Downtown / Union Square' 'Tenderloin' 'Mission'\n",
      " 'Civic Center']\n",
      "['South of Market' 'Tenderloin' 'Potrero Hill' 'Mission'\n",
      " 'Downtown / Union Square']\n",
      "['South of Market' 'Downtown / Union Square' 'Mission' 'Tenderloin'\n",
      " 'Potrero Hill']\n",
      "['Mission' 'Western Addition' 'Marina' 'South of Market'\n",
      " 'Downtown / Union Square']\n",
      "['South of Market' 'Downtown / Union Square' 'Mission' 'Tenderloin'\n",
      " 'Potrero Hill']\n",
      "['Mission' 'Downtown / Union Square' 'Northern Waterfront'\n",
      " 'South of Market' 'Tenderloin']\n",
      "['South of Market' 'Downtown / Union Square' 'Mission' 'Tenderloin'\n",
      " 'Potrero Hill']\n",
      "['Tenderloin' 'South of Market' 'Downtown / Union Square' 'Bayview'\n",
      " 'Western Addition']\n",
      "['South of Market' 'Downtown / Union Square' 'Mission' 'Tenderloin'\n",
      " 'Potrero Hill']\n",
      "['Mission' 'Tenderloin' 'South of Market' 'Civic Center'\n",
      " 'Downtown / Union Square']\n",
      "['South of Market' 'Downtown / Union Square' 'Tenderloin' 'Mission'\n",
      " 'Western Addition']\n",
      "['South of Market' 'Western Addition' 'Civic Center' 'Financial District'\n",
      " 'Tenderloin']\n",
      "['South of Market' 'Mission' 'Tenderloin' 'Downtown / Union Square'\n",
      " 'Western Addition']\n",
      "['South of Market' 'Downtown / Union Square' 'Pacific Heights' 'Mission'\n",
      " 'Bayview']\n",
      "['South of Market' 'Mission' 'Downtown / Union Square' 'Tenderloin'\n",
      " 'Potrero Hill']\n",
      "['South of Market' 'Downtown / Union Square' 'Civic Center' 'Tenderloin'\n",
      " 'Western Addition']\n",
      "['South of Market' 'Mission' 'Downtown / Union Square' 'Tenderloin'\n",
      " 'Western Addition']\n",
      "['Tenderloin' 'Bayview' 'Northern Waterfront' 'Mission' 'South of Market']\n",
      "['South of Market' 'Downtown / Union Square' 'Tenderloin' 'Mission'\n",
      " 'Bayview']\n",
      "['Tenderloin' 'Civic Center' 'Mission' 'Downtown / Union Square'\n",
      " 'Western Addition']\n",
      "['South of Market' 'Tenderloin' 'Downtown / Union Square' 'Mission'\n",
      " 'Civic Center']\n",
      "['South of Market' 'Downtown / Union Square' 'Tenderloin' 'Mission'\n",
      " 'Western Addition']\n",
      "['South of Market' 'Downtown / Union Square' 'Tenderloin' 'Mission'\n",
      " 'Civic Center']\n",
      "['South of Market' 'Tenderloin' 'Downtown / Union Square' 'Mission'\n",
      " 'Bernal Heights']\n",
      "['South of Market' 'Downtown / Union Square' 'Tenderloin' 'Mission'\n",
      " 'Civic Center']\n",
      "['South of Market' 'Downtown / Union Square' 'Bayview' 'Potrero Hill'\n",
      " 'Mission']\n",
      "['South of Market' 'Downtown / Union Square' 'Tenderloin' 'Mission'\n",
      " 'Bayview']\n",
      "['South of Market' 'Tenderloin' 'Potrero Hill' 'Mission'\n",
      " 'Downtown / Union Square']\n",
      "['South of Market' 'Tenderloin' 'Downtown / Union Square' 'Mission'\n",
      " 'Potrero Hill']\n",
      "['Downtown / Union Square' 'Tenderloin' 'Portola' 'South of Market'\n",
      " 'Mission']\n",
      "['South of Market' 'Downtown / Union Square' 'Tenderloin' 'Mission'\n",
      " 'Potrero Hill']\n",
      "['Mission' 'Tenderloin' 'South of Market' 'Downtown / Union Square'\n",
      " 'Potrero Hill']\n",
      "['South of Market' 'Downtown / Union Square' 'Tenderloin' 'Mission'\n",
      " 'Potrero Hill']\n",
      "['Downtown / Union Square' 'Mission' 'South of Market' 'Tenderloin'\n",
      " 'Potrero Hill']\n",
      "['South of Market' 'Downtown / Union Square' 'Tenderloin' 'Mission'\n",
      " 'Potrero Hill']\n",
      "['South of Market' 'Civic Center' 'Mission' 'Tenderloin'\n",
      " 'Northern Waterfront']\n",
      "['South of Market' 'Downtown / Union Square' 'Mission' 'Tenderloin'\n",
      " 'Potrero Hill']\n",
      "['Tenderloin' 'Mission' 'Downtown / Union Square' 'South of Market'\n",
      " 'Bayview']\n",
      "['South of Market' 'Downtown / Union Square' 'Mission' 'Tenderloin'\n",
      " 'Potrero Hill']\n",
      "['Bayview' 'Tenderloin' 'Mission' 'Outer Sunset' 'Civic Center']\n",
      "['South of Market' 'Mission' 'Tenderloin' 'Downtown / Union Square'\n",
      " 'Potrero Hill']\n",
      "['South of Market' 'Mission' 'Bayview' 'Downtown / Union Square'\n",
      " 'Nob Hill']\n",
      "['South of Market' 'Downtown / Union Square' 'Tenderloin' 'Mission'\n",
      " 'Bayview']\n",
      "['South of Market' 'Tenderloin' 'Downtown / Union Square' 'Bernal Heights'\n",
      " 'Marina']\n",
      "['South of Market' 'Mission' 'Tenderloin' 'Downtown / Union Square'\n",
      " 'Bayview']\n",
      "['Downtown / Union Square' 'South of Market' 'Potrero Hill' 'Mission'\n",
      " 'Outer Sunset']\n",
      "['South of Market' 'Downtown / Union Square' 'Mission' 'Tenderloin'\n",
      " 'Potrero Hill']\n",
      "['Tenderloin' 'Potrero Hill' 'Downtown / Union Square' 'South of Market'\n",
      " 'Bayview']\n",
      "['South of Market' 'Downtown / Union Square' 'Mission' 'Tenderloin'\n",
      " 'Potrero Hill']\n",
      "['South of Market' 'Mission' 'Downtown / Union Square' 'Tenderloin'\n",
      " 'Inner Richmond']\n",
      "['South of Market' 'Downtown / Union Square' 'Tenderloin' 'Mission'\n",
      " 'Bayview']\n",
      "['Downtown / Union Square' 'South of Market' 'Tenderloin' 'Bayview'\n",
      " 'Mission']\n",
      "['South of Market' 'Downtown / Union Square' 'Mission' 'Tenderloin'\n",
      " 'Bayview']\n",
      "['South of Market' 'Mission' 'Tenderloin' 'Downtown / Union Square'\n",
      " 'Bayview']\n",
      "['South of Market' 'Downtown / Union Square' 'Mission' 'Tenderloin'\n",
      " 'Potrero Hill']\n",
      "['Downtown / Union Square' 'Civic Center' 'Mission' 'Potrero Hill'\n",
      " 'South of Market']\n",
      "['Downtown / Union Square' 'South of Market' 'Tenderloin' 'Mission'\n",
      " 'Potrero Hill']\n",
      "['Tenderloin' 'South of Market' 'Bayview' 'Potrero Hill' 'Mission']\n",
      "['Downtown / Union Square' 'South of Market' 'Mission' 'Tenderloin'\n",
      " 'Potrero Hill']\n",
      "['Downtown / Union Square' 'Cow Hollow' 'Tenderloin' 'Mission'\n",
      " 'South of Market']\n",
      "['South of Market' 'Downtown / Union Square' 'Mission' 'Tenderloin'\n",
      " 'Potrero Hill']\n",
      "['Downtown / Union Square' 'Mission' 'South of Market' 'Tenderloin'\n",
      " 'Northern Waterfront']\n",
      "['South of Market' 'Downtown / Union Square' 'Mission' 'Tenderloin'\n",
      " 'Bayview']\n",
      "['Mission' 'South of Market' 'Bayview' 'Western Addition'\n",
      " 'Downtown / Union Square']\n",
      "['Downtown / Union Square' 'South of Market' 'Mission' 'Tenderloin'\n",
      " 'Bayview']\n",
      "['South of Market' 'Tenderloin' 'Downtown / Union Square' 'Marina'\n",
      " 'Western Addition']\n",
      "['South of Market' 'Downtown / Union Square' 'Mission' 'Tenderloin'\n",
      " 'Bayview']\n",
      "['South of Market' 'Mission' 'Potrero Hill' 'Inner Richmond'\n",
      " 'Western Addition']\n",
      "['South of Market' 'Downtown / Union Square' 'Mission' 'Tenderloin'\n",
      " 'Western Addition']\n",
      "['South of Market' 'Mission' 'Tenderloin' 'Downtown / Union Square'\n",
      " 'Outer Sunset']\n",
      "['South of Market' 'Mission' 'Downtown / Union Square' 'Tenderloin'\n",
      " 'Bayview']\n",
      "['South of Market' 'Tenderloin' 'Mission' 'Marina' 'Hunters Point']\n",
      "['South of Market' 'Downtown / Union Square' 'Mission' 'Tenderloin'\n",
      " 'Western Addition']\n",
      "['South of Market' 'Hunters Point' 'Civic Center' 'Bayview'\n",
      " 'Downtown / Union Square']\n",
      "['South of Market' 'Downtown / Union Square' 'Mission' 'Tenderloin'\n",
      " 'Bayview']\n",
      "['South of Market' 'Downtown / Union Square' 'Civic Center' 'Potrero Hill'\n",
      " 'Mission']\n",
      "['South of Market' 'Mission' 'Downtown / Union Square' 'Tenderloin'\n",
      " 'Bayview']\n",
      "['Western Addition' 'Mission' 'Tenderloin' 'South of Market'\n",
      " 'Downtown / Union Square']\n",
      "['South of Market' 'Mission' 'Downtown / Union Square' 'Tenderloin'\n",
      " 'Western Addition']\n",
      "['South of Market' 'Tenderloin' 'Civic Center' 'Mission'\n",
      " 'Western Addition']\n",
      "['South of Market' 'Mission' 'Tenderloin' 'Downtown / Union Square'\n",
      " 'Western Addition']\n",
      "['Downtown / Union Square' 'South of Market' 'Tenderloin' 'Potrero Hill'\n",
      " 'Mission']\n",
      "['South of Market' 'Downtown / Union Square' 'Tenderloin' 'Mission'\n",
      " 'Western Addition']\n",
      "['South of Market' 'Mission' 'Potrero Hill' 'Bayview'\n",
      " 'Downtown / Union Square']\n",
      "['South of Market' 'Downtown / Union Square' 'Mission' 'Tenderloin'\n",
      " 'Bayview']\n",
      "['South of Market' 'Downtown / Union Square' 'Mission' 'Tenderloin'\n",
      " 'Inner Richmond']\n"
     ]
    },
    {
     "name": "stdout",
     "output_type": "stream",
     "text": [
      "['Downtown / Union Square' 'South of Market' 'Mission' 'Tenderloin'\n",
      " 'Civic Center']\n",
      "['Downtown / Union Square' 'South of Market' 'North Beach'\n",
      " 'Mission Terrace' 'Civic Center']\n",
      "['Downtown / Union Square' 'South of Market' 'Mission' 'Tenderloin'\n",
      " 'Western Addition']\n",
      "['Downtown / Union Square' 'Mission' 'Tenderloin' 'Marina' 'Parkside']\n",
      "['Downtown / Union Square' 'South of Market' 'Mission' 'Tenderloin'\n",
      " 'Western Addition']\n",
      "['Mission' 'Potrero Hill' 'Downtown / Union Square' 'South of Market'\n",
      " 'Bayview']\n",
      "['Downtown / Union Square' 'South of Market' 'Mission' 'Tenderloin'\n",
      " 'Potrero Hill']\n",
      "['South of Market' 'Tenderloin' 'Downtown / Union Square' 'Mission'\n",
      " 'Western Addition']\n",
      "['South of Market' 'Downtown / Union Square' 'Mission' 'Tenderloin'\n",
      " 'Potrero Hill']\n",
      "['Downtown / Union Square' 'South of Market' 'Outer Richmond' 'Tenderloin'\n",
      " 'Mission']\n",
      "['Downtown / Union Square' 'South of Market' 'Mission' 'Tenderloin'\n",
      " 'Potrero Hill']\n",
      "['South of Market' 'Tenderloin' 'Mission' 'Civic Center' 'Bayview']\n",
      "['Downtown / Union Square' 'South of Market' 'Tenderloin' 'Mission'\n",
      " 'Bayview']\n",
      "['South of Market' 'Mission' 'Downtown / Union Square' 'Bayview'\n",
      " 'Tenderloin']\n",
      "['Downtown / Union Square' 'South of Market' 'Mission' 'Tenderloin'\n",
      " 'Bayview']\n",
      "['Tenderloin' 'South of Market' 'Downtown / Union Square' 'Mission'\n",
      " 'Potrero Hill']\n",
      "['Downtown / Union Square' 'South of Market' 'Tenderloin' 'Mission'\n",
      " 'Potrero Hill']\n",
      "['Mission' 'South of Market' 'Downtown / Union Square'\n",
      " 'Northern Waterfront' 'Outer Sunset']\n",
      "['Downtown / Union Square' 'South of Market' 'Mission' 'Tenderloin'\n",
      " 'Civic Center']\n",
      "['South of Market' 'Mission' 'Tenderloin' 'Western Addition' 'Bayview']\n",
      "['South of Market' 'Downtown / Union Square' 'Tenderloin' 'Mission'\n",
      " 'Western Addition']\n",
      "['Mission' 'South of Market' 'Tenderloin' 'Downtown / Union Square'\n",
      " 'Potrero Hill']\n",
      "['South of Market' 'Downtown / Union Square' 'Mission' 'Tenderloin'\n",
      " 'Potrero Hill']\n",
      "['South of Market' 'Mission' 'Tenderloin' 'Downtown / Union Square'\n",
      " 'Portola']\n",
      "['South of Market' 'Mission' 'Downtown / Union Square' 'Tenderloin'\n",
      " 'Western Addition']\n",
      "['Tenderloin' 'Western Addition' 'Downtown / Union Square'\n",
      " 'South of Market' 'Hunters Point']\n",
      "['South of Market' 'Mission' 'Downtown / Union Square' 'Tenderloin'\n",
      " 'Western Addition']\n",
      "['Mission' 'Tenderloin' 'Downtown / Union Square' 'Civic Center'\n",
      " 'Hunters Point']\n",
      "['Mission' 'Tenderloin' 'South of Market' 'Downtown / Union Square'\n",
      " 'Western Addition']\n",
      "['Mission' 'Tenderloin' 'South of Market' 'Northern Waterfront'\n",
      " 'Hunters Point']\n",
      "['Mission' 'Tenderloin' 'South of Market' 'Downtown / Union Square'\n",
      " 'Western Addition']\n",
      "['Tenderloin' 'Downtown / Union Square' 'South of Market' 'Mission'\n",
      " 'Potrero Hill']\n",
      "['Mission' 'Tenderloin' 'South of Market' 'Downtown / Union Square'\n",
      " 'Western Addition']\n",
      "['Mission' 'Tenderloin' 'South of Market' 'Western Addition' 'Mission Bay']\n",
      "['Mission' 'Tenderloin' 'South of Market' 'Downtown / Union Square'\n",
      " 'Western Addition']\n",
      "['Mission' 'Downtown / Union Square' 'Civic Center' 'Tenderloin'\n",
      " 'South of Market']\n",
      "['Mission' 'Tenderloin' 'Downtown / Union Square' 'South of Market'\n",
      " 'Western Addition']\n",
      "['Tenderloin' 'South of Market' 'Bayview' 'Marina' 'Mission']\n",
      "['Tenderloin' 'South of Market' 'Mission' 'Downtown / Union Square'\n",
      " 'Western Addition']\n",
      "['Tenderloin' 'South of Market' 'Downtown / Union Square' 'Mission'\n",
      " 'Potrero Hill']\n",
      "['South of Market' 'Mission' 'Downtown / Union Square' 'Tenderloin'\n",
      " 'Western Addition']\n",
      "['Downtown / Union Square' 'South of Market' 'Tenderloin' 'Bayview'\n",
      " 'Bernal Heights']\n",
      "['South of Market' 'Downtown / Union Square' 'Mission' 'Tenderloin'\n",
      " 'Western Addition']\n",
      "['South of Market' 'Outer Sunset' 'Western Addition' 'Duboce Triangle'\n",
      " 'Bayview']\n",
      "['South of Market' 'Downtown / Union Square' 'Mission' 'Tenderloin'\n",
      " 'Bayview']\n",
      "['South of Market' 'Downtown / Union Square' 'Mission' 'Potrero Hill'\n",
      " 'Civic Center']\n",
      "['Downtown / Union Square' 'South of Market' 'Mission' 'Tenderloin'\n",
      " 'Potrero Hill']\n",
      "['Mission' 'Downtown / Union Square' 'Civic Center' 'South of Market'\n",
      " 'Northern Waterfront']\n",
      "['Downtown / Union Square' 'Mission' 'South of Market' 'Tenderloin'\n",
      " 'Bayview']\n",
      "['South of Market' 'Tenderloin' 'Bayview' 'Downtown / Union Square'\n",
      " 'Mission']\n",
      "['Downtown / Union Square' 'South of Market' 'Mission' 'Tenderloin'\n",
      " 'Bayview']\n",
      "['South of Market' 'Downtown / Union Square' 'Tenderloin' 'Civic Center'\n",
      " 'Northern Waterfront']\n",
      "['South of Market' 'Downtown / Union Square' 'Tenderloin' 'Mission'\n",
      " 'Bayview']\n",
      "['Downtown / Union Square' 'South of Market' 'Portola' 'Potrero Hill'\n",
      " 'Mission']\n",
      "['South of Market' 'Downtown / Union Square' 'Mission' 'Tenderloin'\n",
      " 'Civic Center']\n",
      "['South of Market' 'Downtown / Union Square' 'Mission' 'Tenderloin'\n",
      " 'Western Addition']\n",
      "['South of Market' 'Downtown / Union Square' 'Mission' 'Tenderloin'\n",
      " 'Potrero Hill']\n",
      "['South of Market' 'Bayview' 'Mission' 'Downtown / Union Square'\n",
      " 'Tenderloin']\n",
      "['South of Market' 'Downtown / Union Square' 'Tenderloin' 'Mission'\n",
      " 'Civic Center']\n",
      "['South of Market' 'Tenderloin' 'Potrero Hill' 'Mission'\n",
      " 'Downtown / Union Square']\n",
      "['South of Market' 'Downtown / Union Square' 'Mission' 'Tenderloin'\n",
      " 'Potrero Hill']\n",
      "['Mission' 'Western Addition' 'Marina' 'South of Market'\n",
      " 'Downtown / Union Square']\n",
      "['South of Market' 'Downtown / Union Square' 'Mission' 'Tenderloin'\n",
      " 'Potrero Hill']\n",
      "['Mission' 'Downtown / Union Square' 'Northern Waterfront'\n",
      " 'South of Market' 'Tenderloin']\n",
      "['South of Market' 'Downtown / Union Square' 'Mission' 'Tenderloin'\n",
      " 'Potrero Hill']\n",
      "['Tenderloin' 'South of Market' 'Downtown / Union Square' 'Bayview'\n",
      " 'Western Addition']\n",
      "['South of Market' 'Downtown / Union Square' 'Mission' 'Tenderloin'\n",
      " 'Potrero Hill']\n",
      "['Mission' 'Tenderloin' 'South of Market' 'Civic Center'\n",
      " 'Downtown / Union Square']\n",
      "['South of Market' 'Downtown / Union Square' 'Tenderloin' 'Mission'\n",
      " 'Western Addition']\n",
      "['South of Market' 'Western Addition' 'Civic Center' 'Financial District'\n",
      " 'Tenderloin']\n",
      "['South of Market' 'Mission' 'Tenderloin' 'Downtown / Union Square'\n",
      " 'Western Addition']\n",
      "['South of Market' 'Downtown / Union Square' 'Pacific Heights' 'Mission'\n",
      " 'Bayview']\n",
      "['South of Market' 'Mission' 'Downtown / Union Square' 'Tenderloin'\n",
      " 'Potrero Hill']\n",
      "['South of Market' 'Downtown / Union Square' 'Civic Center' 'Tenderloin'\n",
      " 'Western Addition']\n",
      "['South of Market' 'Mission' 'Downtown / Union Square' 'Tenderloin'\n",
      " 'Western Addition']\n",
      "['Tenderloin' 'Bayview' 'Northern Waterfront' 'Mission' 'South of Market']\n",
      "['South of Market' 'Downtown / Union Square' 'Tenderloin' 'Mission'\n",
      " 'Bayview']\n",
      "['Tenderloin' 'Civic Center' 'Mission' 'Downtown / Union Square'\n",
      " 'Western Addition']\n",
      "['South of Market' 'Tenderloin' 'Downtown / Union Square' 'Mission'\n",
      " 'Civic Center']\n",
      "['South of Market' 'Downtown / Union Square' 'Tenderloin' 'Mission'\n",
      " 'Western Addition']\n",
      "['South of Market' 'Downtown / Union Square' 'Tenderloin' 'Mission'\n",
      " 'Civic Center']\n",
      "['South of Market' 'Tenderloin' 'Downtown / Union Square' 'Mission'\n",
      " 'Bernal Heights']\n",
      "['South of Market' 'Downtown / Union Square' 'Tenderloin' 'Mission'\n",
      " 'Civic Center']\n",
      "['South of Market' 'Downtown / Union Square' 'Bayview' 'Potrero Hill'\n",
      " 'Mission']\n",
      "['South of Market' 'Downtown / Union Square' 'Tenderloin' 'Mission'\n",
      " 'Bayview']\n",
      "['South of Market' 'Tenderloin' 'Potrero Hill' 'Mission'\n",
      " 'Downtown / Union Square']\n",
      "['South of Market' 'Tenderloin' 'Downtown / Union Square' 'Mission'\n",
      " 'Potrero Hill']\n",
      "['Downtown / Union Square' 'Tenderloin' 'Portola' 'South of Market'\n",
      " 'Mission']\n",
      "['South of Market' 'Downtown / Union Square' 'Tenderloin' 'Mission'\n",
      " 'Potrero Hill']\n",
      "['Mission' 'Tenderloin' 'South of Market' 'Downtown / Union Square'\n",
      " 'Potrero Hill']\n",
      "['South of Market' 'Downtown / Union Square' 'Tenderloin' 'Mission'\n",
      " 'Potrero Hill']\n",
      "['Downtown / Union Square' 'Mission' 'South of Market' 'Tenderloin'\n",
      " 'Potrero Hill']\n",
      "['South of Market' 'Downtown / Union Square' 'Tenderloin' 'Mission'\n",
      " 'Potrero Hill']\n",
      "['South of Market' 'Civic Center' 'Mission' 'Tenderloin'\n",
      " 'Northern Waterfront']\n",
      "['South of Market' 'Downtown / Union Square' 'Mission' 'Tenderloin'\n",
      " 'Potrero Hill']\n",
      "['Tenderloin' 'Mission' 'Downtown / Union Square' 'South of Market'\n",
      " 'Bayview']\n",
      "['South of Market' 'Downtown / Union Square' 'Mission' 'Tenderloin'\n",
      " 'Potrero Hill']\n",
      "['Bayview' 'Tenderloin' 'Mission' 'Outer Sunset' 'Civic Center']\n",
      "['South of Market' 'Mission' 'Tenderloin' 'Downtown / Union Square'\n",
      " 'Potrero Hill']\n",
      "['South of Market' 'Mission' 'Bayview' 'Downtown / Union Square'\n",
      " 'Nob Hill']\n"
     ]
    },
    {
     "name": "stdout",
     "output_type": "stream",
     "text": [
      "['South of Market' 'Downtown / Union Square' 'Tenderloin' 'Mission'\n",
      " 'Bayview']\n",
      "['South of Market' 'Tenderloin' 'Downtown / Union Square' 'Bernal Heights'\n",
      " 'Marina']\n",
      "['South of Market' 'Mission' 'Tenderloin' 'Downtown / Union Square'\n",
      " 'Bayview']\n",
      "['Downtown / Union Square' 'South of Market' 'Potrero Hill' 'Mission'\n",
      " 'Outer Sunset']\n",
      "['South of Market' 'Downtown / Union Square' 'Mission' 'Tenderloin'\n",
      " 'Potrero Hill']\n",
      "['Tenderloin' 'Potrero Hill' 'Downtown / Union Square' 'South of Market'\n",
      " 'Bayview']\n",
      "['South of Market' 'Downtown / Union Square' 'Mission' 'Tenderloin'\n",
      " 'Potrero Hill']\n",
      "['South of Market' 'Mission' 'Downtown / Union Square' 'Tenderloin'\n",
      " 'Inner Richmond']\n",
      "['South of Market' 'Downtown / Union Square' 'Tenderloin' 'Mission'\n",
      " 'Bayview']\n",
      "['Downtown / Union Square' 'South of Market' 'Tenderloin' 'Bayview'\n",
      " 'Mission']\n",
      "['South of Market' 'Downtown / Union Square' 'Mission' 'Tenderloin'\n",
      " 'Bayview']\n",
      "['South of Market' 'Mission' 'Tenderloin' 'Downtown / Union Square'\n",
      " 'Bayview']\n",
      "['South of Market' 'Downtown / Union Square' 'Mission' 'Tenderloin'\n",
      " 'Potrero Hill']\n",
      "['Downtown / Union Square' 'Civic Center' 'Mission' 'Potrero Hill'\n",
      " 'South of Market']\n",
      "['Downtown / Union Square' 'South of Market' 'Tenderloin' 'Mission'\n",
      " 'Potrero Hill']\n",
      "['Tenderloin' 'South of Market' 'Bayview' 'Potrero Hill' 'Mission']\n",
      "['Downtown / Union Square' 'South of Market' 'Mission' 'Tenderloin'\n",
      " 'Potrero Hill']\n",
      "['Downtown / Union Square' 'Cow Hollow' 'Tenderloin' 'Mission'\n",
      " 'South of Market']\n",
      "['South of Market' 'Downtown / Union Square' 'Mission' 'Tenderloin'\n",
      " 'Potrero Hill']\n",
      "['Downtown / Union Square' 'Mission' 'South of Market' 'Tenderloin'\n",
      " 'Northern Waterfront']\n",
      "['South of Market' 'Downtown / Union Square' 'Mission' 'Tenderloin'\n",
      " 'Bayview']\n",
      "['Mission' 'South of Market' 'Bayview' 'Western Addition'\n",
      " 'Downtown / Union Square']\n",
      "['Downtown / Union Square' 'South of Market' 'Mission' 'Tenderloin'\n",
      " 'Bayview']\n",
      "['South of Market' 'Tenderloin' 'Downtown / Union Square' 'Marina'\n",
      " 'Western Addition']\n",
      "['South of Market' 'Downtown / Union Square' 'Mission' 'Tenderloin'\n",
      " 'Bayview']\n",
      "['South of Market' 'Mission' 'Potrero Hill' 'Inner Richmond'\n",
      " 'Western Addition']\n",
      "['South of Market' 'Downtown / Union Square' 'Mission' 'Tenderloin'\n",
      " 'Western Addition']\n",
      "['South of Market' 'Mission' 'Tenderloin' 'Downtown / Union Square'\n",
      " 'Outer Sunset']\n",
      "['South of Market' 'Mission' 'Downtown / Union Square' 'Tenderloin'\n",
      " 'Bayview']\n",
      "['South of Market' 'Tenderloin' 'Mission' 'Marina' 'Hunters Point']\n",
      "['South of Market' 'Downtown / Union Square' 'Mission' 'Tenderloin'\n",
      " 'Western Addition']\n",
      "['South of Market' 'Hunters Point' 'Civic Center' 'Bayview'\n",
      " 'Downtown / Union Square']\n",
      "['South of Market' 'Downtown / Union Square' 'Mission' 'Tenderloin'\n",
      " 'Bayview']\n",
      "['South of Market' 'Downtown / Union Square' 'Civic Center' 'Potrero Hill'\n",
      " 'Mission']\n",
      "['South of Market' 'Mission' 'Downtown / Union Square' 'Tenderloin'\n",
      " 'Bayview']\n",
      "['Western Addition' 'Mission' 'Tenderloin' 'South of Market'\n",
      " 'Downtown / Union Square']\n",
      "['South of Market' 'Mission' 'Downtown / Union Square' 'Tenderloin'\n",
      " 'Western Addition']\n",
      "['South of Market' 'Tenderloin' 'Civic Center' 'Mission'\n",
      " 'Western Addition']\n",
      "['South of Market' 'Mission' 'Tenderloin' 'Downtown / Union Square'\n",
      " 'Western Addition']\n",
      "['Downtown / Union Square' 'South of Market' 'Tenderloin' 'Potrero Hill'\n",
      " 'Mission']\n",
      "['South of Market' 'Downtown / Union Square' 'Tenderloin' 'Mission'\n",
      " 'Western Addition']\n",
      "['South of Market' 'Mission' 'Potrero Hill' 'Bayview'\n",
      " 'Downtown / Union Square']\n",
      "['South of Market' 'Downtown / Union Square' 'Mission' 'Tenderloin'\n",
      " 'Bayview']\n",
      "['South of Market' 'Downtown / Union Square' 'Mission' 'Tenderloin'\n",
      " 'Inner Richmond']\n",
      "['Downtown / Union Square' 'South of Market' 'Mission' 'Tenderloin'\n",
      " 'Civic Center']\n",
      "['Downtown / Union Square' 'South of Market' 'North Beach'\n",
      " 'Mission Terrace' 'Civic Center']\n",
      "['Downtown / Union Square' 'South of Market' 'Mission' 'Tenderloin'\n",
      " 'Western Addition']\n",
      "['Downtown / Union Square' 'Mission' 'Tenderloin' 'Marina' 'Parkside']\n",
      "['Downtown / Union Square' 'South of Market' 'Mission' 'Tenderloin'\n",
      " 'Western Addition']\n",
      "['Mission' 'Potrero Hill' 'Downtown / Union Square' 'South of Market'\n",
      " 'Bayview']\n",
      "['Downtown / Union Square' 'South of Market' 'Mission' 'Tenderloin'\n",
      " 'Potrero Hill']\n",
      "['South of Market' 'Tenderloin' 'Downtown / Union Square' 'Mission'\n",
      " 'Western Addition']\n",
      "['South of Market' 'Downtown / Union Square' 'Mission' 'Tenderloin'\n",
      " 'Potrero Hill']\n",
      "['Downtown / Union Square' 'South of Market' 'Outer Richmond' 'Tenderloin'\n",
      " 'Mission']\n",
      "['Downtown / Union Square' 'South of Market' 'Mission' 'Tenderloin'\n",
      " 'Potrero Hill']\n",
      "['South of Market' 'Tenderloin' 'Mission' 'Civic Center' 'Bayview']\n",
      "['Downtown / Union Square' 'South of Market' 'Tenderloin' 'Mission'\n",
      " 'Bayview']\n",
      "['South of Market' 'Mission' 'Downtown / Union Square' 'Bayview'\n",
      " 'Tenderloin']\n",
      "['Downtown / Union Square' 'South of Market' 'Mission' 'Tenderloin'\n",
      " 'Bayview']\n",
      "['Tenderloin' 'South of Market' 'Downtown / Union Square' 'Mission'\n",
      " 'Potrero Hill']\n",
      "['Downtown / Union Square' 'South of Market' 'Tenderloin' 'Mission'\n",
      " 'Potrero Hill']\n",
      "['Mission' 'South of Market' 'Downtown / Union Square'\n",
      " 'Northern Waterfront' 'Outer Sunset']\n",
      "['Downtown / Union Square' 'South of Market' 'Mission' 'Tenderloin'\n",
      " 'Civic Center']\n",
      "['South of Market' 'Mission' 'Tenderloin' 'Western Addition' 'Bayview']\n",
      "['South of Market' 'Downtown / Union Square' 'Tenderloin' 'Mission'\n",
      " 'Western Addition']\n",
      "['Mission' 'South of Market' 'Tenderloin' 'Downtown / Union Square'\n",
      " 'Potrero Hill']\n",
      "['South of Market' 'Downtown / Union Square' 'Mission' 'Tenderloin'\n",
      " 'Potrero Hill']\n",
      "['South of Market' 'Mission' 'Tenderloin' 'Downtown / Union Square'\n",
      " 'Portola']\n",
      "['South of Market' 'Mission' 'Downtown / Union Square' 'Tenderloin'\n",
      " 'Western Addition']\n",
      "['Tenderloin' 'Western Addition' 'Downtown / Union Square'\n",
      " 'South of Market' 'Hunters Point']\n",
      "['South of Market' 'Mission' 'Downtown / Union Square' 'Tenderloin'\n",
      " 'Western Addition']\n",
      "['Mission' 'Tenderloin' 'Downtown / Union Square' 'Civic Center'\n",
      " 'Hunters Point']\n",
      "['Mission' 'Tenderloin' 'South of Market' 'Downtown / Union Square'\n",
      " 'Western Addition']\n",
      "['Mission' 'Tenderloin' 'South of Market' 'Northern Waterfront'\n",
      " 'Hunters Point']\n",
      "['Mission' 'Tenderloin' 'South of Market' 'Downtown / Union Square'\n",
      " 'Western Addition']\n",
      "['Tenderloin' 'Downtown / Union Square' 'South of Market' 'Mission'\n",
      " 'Potrero Hill']\n",
      "['Mission' 'Tenderloin' 'South of Market' 'Downtown / Union Square'\n",
      " 'Western Addition']\n",
      "['Mission' 'Tenderloin' 'South of Market' 'Western Addition' 'Mission Bay']\n",
      "['Mission' 'Tenderloin' 'South of Market' 'Downtown / Union Square'\n",
      " 'Western Addition']\n",
      "['Mission' 'Downtown / Union Square' 'Civic Center' 'Tenderloin'\n",
      " 'South of Market']\n",
      "['Mission' 'Tenderloin' 'Downtown / Union Square' 'South of Market'\n",
      " 'Western Addition']\n",
      "['Tenderloin' 'South of Market' 'Bayview' 'Marina' 'Mission']\n",
      "['Tenderloin' 'South of Market' 'Mission' 'Downtown / Union Square'\n",
      " 'Western Addition']\n",
      "['Tenderloin' 'South of Market' 'Downtown / Union Square' 'Mission'\n",
      " 'Potrero Hill']\n",
      "['South of Market' 'Mission' 'Downtown / Union Square' 'Tenderloin'\n",
      " 'Western Addition']\n",
      "['Downtown / Union Square' 'South of Market' 'Tenderloin' 'Bayview'\n",
      " 'Bernal Heights']\n",
      "['South of Market' 'Downtown / Union Square' 'Mission' 'Tenderloin'\n",
      " 'Western Addition']\n",
      "['South of Market' 'Outer Sunset' 'Western Addition' 'Duboce Triangle'\n",
      " 'Bayview']\n",
      "['South of Market' 'Downtown / Union Square' 'Mission' 'Tenderloin'\n",
      " 'Bayview']\n",
      "['South of Market' 'Downtown / Union Square' 'Mission' 'Potrero Hill'\n",
      " 'Civic Center']\n",
      "['Downtown / Union Square' 'South of Market' 'Mission' 'Tenderloin'\n",
      " 'Potrero Hill']\n",
      "['Mission' 'Downtown / Union Square' 'Civic Center' 'South of Market'\n",
      " 'Northern Waterfront']\n",
      "['Downtown / Union Square' 'Mission' 'South of Market' 'Tenderloin'\n",
      " 'Bayview']\n",
      "['South of Market' 'Tenderloin' 'Bayview' 'Downtown / Union Square'\n",
      " 'Mission']\n",
      "['Downtown / Union Square' 'South of Market' 'Mission' 'Tenderloin'\n",
      " 'Bayview']\n",
      "['South of Market' 'Downtown / Union Square' 'Tenderloin' 'Civic Center'\n",
      " 'Northern Waterfront']\n",
      "['South of Market' 'Downtown / Union Square' 'Tenderloin' 'Mission'\n",
      " 'Bayview']\n",
      "['Downtown / Union Square' 'South of Market' 'Portola' 'Potrero Hill'\n",
      " 'Mission']\n",
      "['South of Market' 'Downtown / Union Square' 'Mission' 'Tenderloin'\n",
      " 'Civic Center']\n",
      "['South of Market' 'Downtown / Union Square' 'Mission' 'Tenderloin'\n",
      " 'Western Addition']\n",
      "['South of Market' 'Downtown / Union Square' 'Mission' 'Tenderloin'\n",
      " 'Potrero Hill']\n",
      "['South of Market' 'Bayview' 'Mission' 'Downtown / Union Square'\n",
      " 'Tenderloin']\n",
      "['South of Market' 'Downtown / Union Square' 'Tenderloin' 'Mission'\n",
      " 'Civic Center']\n",
      "['South of Market' 'Tenderloin' 'Potrero Hill' 'Mission'\n",
      " 'Downtown / Union Square']\n",
      "['South of Market' 'Downtown / Union Square' 'Mission' 'Tenderloin'\n",
      " 'Potrero Hill']\n",
      "['Mission' 'Western Addition' 'Marina' 'South of Market'\n",
      " 'Downtown / Union Square']\n",
      "['South of Market' 'Downtown / Union Square' 'Mission' 'Tenderloin'\n",
      " 'Potrero Hill']\n",
      "['Mission' 'Downtown / Union Square' 'Northern Waterfront'\n",
      " 'South of Market' 'Tenderloin']\n"
     ]
    },
    {
     "name": "stdout",
     "output_type": "stream",
     "text": [
      "['South of Market' 'Downtown / Union Square' 'Mission' 'Tenderloin'\n",
      " 'Potrero Hill']\n",
      "['Tenderloin' 'South of Market' 'Downtown / Union Square' 'Bayview'\n",
      " 'Western Addition']\n",
      "['South of Market' 'Downtown / Union Square' 'Mission' 'Tenderloin'\n",
      " 'Potrero Hill']\n",
      "['Mission' 'Tenderloin' 'South of Market' 'Civic Center'\n",
      " 'Downtown / Union Square']\n",
      "['South of Market' 'Downtown / Union Square' 'Tenderloin' 'Mission'\n",
      " 'Western Addition']\n",
      "['South of Market' 'Western Addition' 'Civic Center' 'Financial District'\n",
      " 'Tenderloin']\n",
      "['South of Market' 'Mission' 'Tenderloin' 'Downtown / Union Square'\n",
      " 'Western Addition']\n",
      "['South of Market' 'Downtown / Union Square' 'Pacific Heights' 'Mission'\n",
      " 'Bayview']\n",
      "['South of Market' 'Mission' 'Downtown / Union Square' 'Tenderloin'\n",
      " 'Potrero Hill']\n",
      "['South of Market' 'Downtown / Union Square' 'Civic Center' 'Tenderloin'\n",
      " 'Western Addition']\n",
      "['South of Market' 'Mission' 'Downtown / Union Square' 'Tenderloin'\n",
      " 'Western Addition']\n",
      "['Tenderloin' 'Bayview' 'Northern Waterfront' 'Mission' 'South of Market']\n",
      "['South of Market' 'Downtown / Union Square' 'Tenderloin' 'Mission'\n",
      " 'Bayview']\n",
      "['Tenderloin' 'Civic Center' 'Mission' 'Downtown / Union Square'\n",
      " 'Western Addition']\n",
      "['South of Market' 'Tenderloin' 'Downtown / Union Square' 'Mission'\n",
      " 'Civic Center']\n",
      "['South of Market' 'Downtown / Union Square' 'Tenderloin' 'Mission'\n",
      " 'Western Addition']\n",
      "['South of Market' 'Downtown / Union Square' 'Tenderloin' 'Mission'\n",
      " 'Civic Center']\n",
      "['South of Market' 'Tenderloin' 'Downtown / Union Square' 'Mission'\n",
      " 'Bernal Heights']\n",
      "['South of Market' 'Downtown / Union Square' 'Tenderloin' 'Mission'\n",
      " 'Civic Center']\n",
      "['South of Market' 'Downtown / Union Square' 'Bayview' 'Potrero Hill'\n",
      " 'Mission']\n",
      "['South of Market' 'Downtown / Union Square' 'Tenderloin' 'Mission'\n",
      " 'Bayview']\n",
      "['South of Market' 'Tenderloin' 'Potrero Hill' 'Mission'\n",
      " 'Downtown / Union Square']\n",
      "['South of Market' 'Tenderloin' 'Downtown / Union Square' 'Mission'\n",
      " 'Potrero Hill']\n",
      "['Downtown / Union Square' 'Tenderloin' 'Portola' 'South of Market'\n",
      " 'Mission']\n",
      "['South of Market' 'Downtown / Union Square' 'Tenderloin' 'Mission'\n",
      " 'Potrero Hill']\n",
      "['Mission' 'Tenderloin' 'South of Market' 'Downtown / Union Square'\n",
      " 'Potrero Hill']\n",
      "['South of Market' 'Downtown / Union Square' 'Tenderloin' 'Mission'\n",
      " 'Potrero Hill']\n",
      "['Downtown / Union Square' 'Mission' 'South of Market' 'Tenderloin'\n",
      " 'Potrero Hill']\n",
      "['South of Market' 'Downtown / Union Square' 'Tenderloin' 'Mission'\n",
      " 'Potrero Hill']\n",
      "['South of Market' 'Civic Center' 'Mission' 'Tenderloin'\n",
      " 'Northern Waterfront']\n",
      "['South of Market' 'Downtown / Union Square' 'Mission' 'Tenderloin'\n",
      " 'Potrero Hill']\n",
      "['Tenderloin' 'Mission' 'Downtown / Union Square' 'South of Market'\n",
      " 'Bayview']\n",
      "['South of Market' 'Downtown / Union Square' 'Mission' 'Tenderloin'\n",
      " 'Potrero Hill']\n",
      "['Bayview' 'Tenderloin' 'Mission' 'Outer Sunset' 'Civic Center']\n",
      "['South of Market' 'Mission' 'Tenderloin' 'Downtown / Union Square'\n",
      " 'Potrero Hill']\n",
      "['South of Market' 'Mission' 'Bayview' 'Downtown / Union Square'\n",
      " 'Nob Hill']\n",
      "['South of Market' 'Downtown / Union Square' 'Tenderloin' 'Mission'\n",
      " 'Bayview']\n",
      "['South of Market' 'Tenderloin' 'Downtown / Union Square' 'Bernal Heights'\n",
      " 'Marina']\n",
      "['South of Market' 'Mission' 'Tenderloin' 'Downtown / Union Square'\n",
      " 'Bayview']\n",
      "['Downtown / Union Square' 'South of Market' 'Potrero Hill' 'Mission'\n",
      " 'Outer Sunset']\n",
      "['South of Market' 'Downtown / Union Square' 'Mission' 'Tenderloin'\n",
      " 'Potrero Hill']\n",
      "['Tenderloin' 'Potrero Hill' 'Downtown / Union Square' 'South of Market'\n",
      " 'Bayview']\n",
      "['South of Market' 'Downtown / Union Square' 'Mission' 'Tenderloin'\n",
      " 'Potrero Hill']\n",
      "['South of Market' 'Mission' 'Downtown / Union Square' 'Tenderloin'\n",
      " 'Inner Richmond']\n",
      "['South of Market' 'Downtown / Union Square' 'Tenderloin' 'Mission'\n",
      " 'Bayview']\n",
      "['Downtown / Union Square' 'South of Market' 'Tenderloin' 'Bayview'\n",
      " 'Mission']\n",
      "['South of Market' 'Downtown / Union Square' 'Mission' 'Tenderloin'\n",
      " 'Bayview']\n",
      "['South of Market' 'Mission' 'Tenderloin' 'Downtown / Union Square'\n",
      " 'Bayview']\n",
      "['South of Market' 'Downtown / Union Square' 'Mission' 'Tenderloin'\n",
      " 'Potrero Hill']\n",
      "['Downtown / Union Square' 'Civic Center' 'Mission' 'Potrero Hill'\n",
      " 'South of Market']\n",
      "['Downtown / Union Square' 'South of Market' 'Tenderloin' 'Mission'\n",
      " 'Potrero Hill']\n",
      "['Tenderloin' 'South of Market' 'Bayview' 'Potrero Hill' 'Mission']\n",
      "['Downtown / Union Square' 'South of Market' 'Mission' 'Tenderloin'\n",
      " 'Potrero Hill']\n",
      "['Downtown / Union Square' 'Cow Hollow' 'Tenderloin' 'Mission'\n",
      " 'South of Market']\n",
      "['South of Market' 'Downtown / Union Square' 'Mission' 'Tenderloin'\n",
      " 'Potrero Hill']\n",
      "['Downtown / Union Square' 'Mission' 'South of Market' 'Tenderloin'\n",
      " 'Northern Waterfront']\n",
      "['South of Market' 'Downtown / Union Square' 'Mission' 'Tenderloin'\n",
      " 'Bayview']\n",
      "['Mission' 'South of Market' 'Bayview' 'Western Addition'\n",
      " 'Downtown / Union Square']\n",
      "['Downtown / Union Square' 'South of Market' 'Mission' 'Tenderloin'\n",
      " 'Bayview']\n",
      "['South of Market' 'Tenderloin' 'Downtown / Union Square' 'Marina'\n",
      " 'Western Addition']\n",
      "['South of Market' 'Downtown / Union Square' 'Mission' 'Tenderloin'\n",
      " 'Bayview']\n",
      "['South of Market' 'Mission' 'Potrero Hill' 'Inner Richmond'\n",
      " 'Western Addition']\n",
      "['South of Market' 'Downtown / Union Square' 'Mission' 'Tenderloin'\n",
      " 'Western Addition']\n",
      "['South of Market' 'Mission' 'Tenderloin' 'Downtown / Union Square'\n",
      " 'Outer Sunset']\n",
      "['South of Market' 'Mission' 'Downtown / Union Square' 'Tenderloin'\n",
      " 'Bayview']\n",
      "['South of Market' 'Tenderloin' 'Mission' 'Marina' 'Hunters Point']\n",
      "['South of Market' 'Downtown / Union Square' 'Mission' 'Tenderloin'\n",
      " 'Western Addition']\n",
      "['South of Market' 'Hunters Point' 'Civic Center' 'Bayview'\n",
      " 'Downtown / Union Square']\n",
      "['South of Market' 'Downtown / Union Square' 'Mission' 'Tenderloin'\n",
      " 'Bayview']\n",
      "['South of Market' 'Downtown / Union Square' 'Civic Center' 'Potrero Hill'\n",
      " 'Mission']\n",
      "['South of Market' 'Mission' 'Downtown / Union Square' 'Tenderloin'\n",
      " 'Bayview']\n",
      "['Western Addition' 'Mission' 'Tenderloin' 'South of Market'\n",
      " 'Downtown / Union Square']\n",
      "['South of Market' 'Mission' 'Downtown / Union Square' 'Tenderloin'\n",
      " 'Western Addition']\n",
      "['South of Market' 'Tenderloin' 'Civic Center' 'Mission'\n",
      " 'Western Addition']\n",
      "['South of Market' 'Mission' 'Tenderloin' 'Downtown / Union Square'\n",
      " 'Western Addition']\n",
      "['Downtown / Union Square' 'South of Market' 'Tenderloin' 'Potrero Hill'\n",
      " 'Mission']\n",
      "['South of Market' 'Downtown / Union Square' 'Tenderloin' 'Mission'\n",
      " 'Western Addition']\n",
      "['South of Market' 'Mission' 'Potrero Hill' 'Bayview'\n",
      " 'Downtown / Union Square']\n",
      "['South of Market' 'Downtown / Union Square' 'Mission' 'Tenderloin'\n",
      " 'Bayview']\n",
      "['South of Market' 'Downtown / Union Square' 'Mission' 'Tenderloin'\n",
      " 'Inner Richmond']\n",
      "['Downtown / Union Square' 'South of Market' 'Mission' 'Tenderloin'\n",
      " 'Civic Center']\n",
      "['Downtown / Union Square' 'South of Market' 'North Beach'\n",
      " 'Mission Terrace' 'Civic Center']\n",
      "['Downtown / Union Square' 'South of Market' 'Mission' 'Tenderloin'\n",
      " 'Western Addition']\n",
      "['Downtown / Union Square' 'Mission' 'Tenderloin' 'Marina' 'Parkside']\n",
      "['Downtown / Union Square' 'South of Market' 'Mission' 'Tenderloin'\n",
      " 'Western Addition']\n",
      "['Mission' 'Potrero Hill' 'Downtown / Union Square' 'South of Market'\n",
      " 'Bayview']\n",
      "['Downtown / Union Square' 'South of Market' 'Mission' 'Tenderloin'\n",
      " 'Potrero Hill']\n",
      "['South of Market' 'Tenderloin' 'Downtown / Union Square' 'Mission'\n",
      " 'Western Addition']\n",
      "['South of Market' 'Downtown / Union Square' 'Mission' 'Tenderloin'\n",
      " 'Potrero Hill']\n",
      "['Downtown / Union Square' 'South of Market' 'Outer Richmond' 'Tenderloin'\n",
      " 'Mission']\n",
      "['Downtown / Union Square' 'South of Market' 'Mission' 'Tenderloin'\n",
      " 'Potrero Hill']\n",
      "['South of Market' 'Tenderloin' 'Mission' 'Civic Center' 'Bayview']\n",
      "['Downtown / Union Square' 'South of Market' 'Tenderloin' 'Mission'\n",
      " 'Bayview']\n",
      "['South of Market' 'Mission' 'Downtown / Union Square' 'Bayview'\n",
      " 'Tenderloin']\n",
      "['Downtown / Union Square' 'South of Market' 'Mission' 'Tenderloin'\n",
      " 'Bayview']\n",
      "['Tenderloin' 'South of Market' 'Downtown / Union Square' 'Mission'\n",
      " 'Potrero Hill']\n",
      "['Downtown / Union Square' 'South of Market' 'Tenderloin' 'Mission'\n",
      " 'Potrero Hill']\n",
      "['Mission' 'South of Market' 'Downtown / Union Square'\n",
      " 'Northern Waterfront' 'Outer Sunset']\n",
      "['Downtown / Union Square' 'South of Market' 'Mission' 'Tenderloin'\n",
      " 'Civic Center']\n",
      "['South of Market' 'Mission' 'Tenderloin' 'Western Addition' 'Bayview']\n",
      "['South of Market' 'Downtown / Union Square' 'Tenderloin' 'Mission'\n",
      " 'Western Addition']\n",
      "['Mission' 'South of Market' 'Tenderloin' 'Downtown / Union Square'\n",
      " 'Potrero Hill']\n",
      "['South of Market' 'Downtown / Union Square' 'Mission' 'Tenderloin'\n",
      " 'Potrero Hill']\n",
      "['South of Market' 'Mission' 'Tenderloin' 'Downtown / Union Square'\n",
      " 'Portola']\n",
      "['South of Market' 'Mission' 'Downtown / Union Square' 'Tenderloin'\n",
      " 'Western Addition']\n",
      "['Tenderloin' 'Western Addition' 'Downtown / Union Square'\n",
      " 'South of Market' 'Hunters Point']\n",
      "['South of Market' 'Mission' 'Downtown / Union Square' 'Tenderloin'\n",
      " 'Western Addition']\n",
      "['Mission' 'Tenderloin' 'Downtown / Union Square' 'Civic Center'\n",
      " 'Hunters Point']\n"
     ]
    },
    {
     "name": "stdout",
     "output_type": "stream",
     "text": [
      "['Mission' 'Tenderloin' 'South of Market' 'Downtown / Union Square'\n",
      " 'Western Addition']\n",
      "['Mission' 'Tenderloin' 'South of Market' 'Northern Waterfront'\n",
      " 'Hunters Point']\n",
      "['Mission' 'Tenderloin' 'South of Market' 'Downtown / Union Square'\n",
      " 'Western Addition']\n",
      "['Tenderloin' 'Downtown / Union Square' 'South of Market' 'Mission'\n",
      " 'Potrero Hill']\n",
      "['Mission' 'Tenderloin' 'South of Market' 'Downtown / Union Square'\n",
      " 'Western Addition']\n",
      "['Mission' 'Tenderloin' 'South of Market' 'Western Addition' 'Mission Bay']\n",
      "['Mission' 'Tenderloin' 'South of Market' 'Downtown / Union Square'\n",
      " 'Western Addition']\n",
      "['Mission' 'Downtown / Union Square' 'Civic Center' 'Tenderloin'\n",
      " 'South of Market']\n",
      "['Mission' 'Tenderloin' 'Downtown / Union Square' 'South of Market'\n",
      " 'Western Addition']\n",
      "['Tenderloin' 'South of Market' 'Bayview' 'Marina' 'Mission']\n"
     ]
    },
    {
     "ename": "KeyboardInterrupt",
     "evalue": "",
     "output_type": "error",
     "traceback": [
      "\u001b[1;31m---------------------------------------------------------------------------\u001b[0m",
      "\u001b[1;31mKeyboardInterrupt\u001b[0m                         Traceback (most recent call last)",
      "\u001b[1;32m<ipython-input-408-2d1873f79acd>\u001b[0m in \u001b[0;36m<module>\u001b[1;34m\u001b[0m\n\u001b[0;32m      1\u001b[0m \u001b[0mtop_x\u001b[0m \u001b[1;33m=\u001b[0m \u001b[1;36m10\u001b[0m\u001b[1;33m\u001b[0m\u001b[1;33m\u001b[0m\u001b[0m\n\u001b[1;32m----> 2\u001b[1;33m \u001b[0mbars\u001b[0m \u001b[1;33m=\u001b[0m \u001b[0mevaluate_models\u001b[0m\u001b[1;33m(\u001b[0m\u001b[0mnum_hotspots_range\u001b[0m\u001b[1;33m,\u001b[0m\u001b[0mtop_x\u001b[0m\u001b[1;33m)\u001b[0m\u001b[1;33m\u001b[0m\u001b[1;33m\u001b[0m\u001b[0m\n\u001b[0m",
      "\u001b[1;32m<ipython-input-406-acd2bbedbb12>\u001b[0m in \u001b[0;36mevaluate_models\u001b[1;34m(num_hotspots_range, top_x)\u001b[0m\n\u001b[0;32m      4\u001b[0m         \u001b[0mprint\u001b[0m\u001b[1;33m(\u001b[0m\u001b[0mi\u001b[0m\u001b[1;33m)\u001b[0m\u001b[1;33m\u001b[0m\u001b[1;33m\u001b[0m\u001b[0m\n\u001b[0;32m      5\u001b[0m         \u001b[0mnum_hotspots\u001b[0m \u001b[1;33m=\u001b[0m \u001b[0mi\u001b[0m\u001b[1;33m\u001b[0m\u001b[1;33m\u001b[0m\u001b[0m\n\u001b[1;32m----> 6\u001b[1;33m         \u001b[0mresults\u001b[0m\u001b[1;33m,\u001b[0m \u001b[0malgorithms\u001b[0m \u001b[1;33m=\u001b[0m \u001b[0mget_results\u001b[0m\u001b[1;33m(\u001b[0m\u001b[0mnum_hotspots\u001b[0m\u001b[1;33m)\u001b[0m\u001b[1;33m\u001b[0m\u001b[1;33m\u001b[0m\u001b[0m\n\u001b[0m\u001b[0;32m      7\u001b[0m         \u001b[1;32mfor\u001b[0m \u001b[0mmetric\u001b[0m \u001b[1;32min\u001b[0m \u001b[0mSCORE_KEYS\u001b[0m\u001b[1;33m:\u001b[0m\u001b[1;33m\u001b[0m\u001b[1;33m\u001b[0m\u001b[0m\n\u001b[0;32m      8\u001b[0m             \u001b[0mbars\u001b[0m\u001b[1;33m.\u001b[0m\u001b[0mappend\u001b[0m\u001b[1;33m(\u001b[0m\u001b[0mbest_x_scores\u001b[0m\u001b[1;33m(\u001b[0m\u001b[0mmetric\u001b[0m\u001b[1;33m,\u001b[0m\u001b[0mtop_x\u001b[0m\u001b[1;33m,\u001b[0m\u001b[0malgorithms\u001b[0m\u001b[1;33m,\u001b[0m\u001b[0mresults\u001b[0m\u001b[1;33m,\u001b[0m\u001b[0mnum_hotspots\u001b[0m\u001b[1;33m)\u001b[0m\u001b[1;33m)\u001b[0m\u001b[1;33m\u001b[0m\u001b[1;33m\u001b[0m\u001b[0m\n",
      "\u001b[1;32m<ipython-input-401-5c8b1f2041c9>\u001b[0m in \u001b[0;36mget_results\u001b[1;34m(num_hotspots)\u001b[0m\n\u001b[0;32m      8\u001b[0m         \u001b[1;32mfor\u001b[0m \u001b[0mfeature_key\u001b[0m \u001b[1;32min\u001b[0m \u001b[0mFEATURES\u001b[0m\u001b[1;33m:\u001b[0m\u001b[1;33m\u001b[0m\u001b[1;33m\u001b[0m\u001b[0m\n\u001b[0;32m      9\u001b[0m             \u001b[0mprint\u001b[0m\u001b[1;33m(\u001b[0m\u001b[0mfeature_key\u001b[0m\u001b[1;33m)\u001b[0m\u001b[1;33m\u001b[0m\u001b[1;33m\u001b[0m\u001b[0m\n\u001b[1;32m---> 10\u001b[1;33m             \u001b[0mscores\u001b[0m \u001b[1;33m=\u001b[0m \u001b[0mscore_algorithm\u001b[0m\u001b[1;33m(\u001b[0m\u001b[0mmodel_key\u001b[0m\u001b[1;33m,\u001b[0m \u001b[0mfeature_key\u001b[0m\u001b[1;33m,\u001b[0m\u001b[0mnum_hotspots\u001b[0m\u001b[1;33m)\u001b[0m\u001b[1;33m\u001b[0m\u001b[1;33m\u001b[0m\u001b[0m\n\u001b[0m\u001b[0;32m     11\u001b[0m             \u001b[1;32mfor\u001b[0m \u001b[0mscore_key\u001b[0m \u001b[1;32min\u001b[0m \u001b[0mSCORE_KEYS\u001b[0m\u001b[1;33m:\u001b[0m\u001b[1;33m\u001b[0m\u001b[1;33m\u001b[0m\u001b[0m\n\u001b[0;32m     12\u001b[0m                 \u001b[0mall_scores\u001b[0m\u001b[1;33m[\u001b[0m\u001b[0mscore_key\u001b[0m\u001b[1;33m]\u001b[0m\u001b[1;33m.\u001b[0m\u001b[0mappend\u001b[0m\u001b[1;33m(\u001b[0m\u001b[0mscores\u001b[0m\u001b[1;33m[\u001b[0m\u001b[0mscore_key\u001b[0m\u001b[1;33m]\u001b[0m\u001b[1;33m)\u001b[0m\u001b[1;33m\u001b[0m\u001b[1;33m\u001b[0m\u001b[0m\n",
      "\u001b[1;32m<ipython-input-402-f25ead65a0f7>\u001b[0m in \u001b[0;36mscore_algorithm\u001b[1;34m(model_key, feature_key, num_hotspots)\u001b[0m\n\u001b[0;32m      5\u001b[0m         \u001b[0mall_scores\u001b[0m\u001b[1;33m[\u001b[0m\u001b[0mscore_key\u001b[0m\u001b[1;33m]\u001b[0m \u001b[1;33m=\u001b[0m \u001b[1;33m[\u001b[0m\u001b[1;33m]\u001b[0m\u001b[1;33m\u001b[0m\u001b[1;33m\u001b[0m\u001b[0m\n\u001b[0;32m      6\u001b[0m     \u001b[1;32mwhile\u001b[0m \u001b[0mstart_date\u001b[0m \u001b[1;33m<=\u001b[0m \u001b[0mLAST_DATE\u001b[0m\u001b[1;33m:\u001b[0m\u001b[1;33m\u001b[0m\u001b[1;33m\u001b[0m\u001b[0m\n\u001b[1;32m----> 7\u001b[1;33m         y_actual, actual_neighbourhoods, y_predict, prediction_neighbourhoods = get_hotspots(DATA_FILE, \n\u001b[0m\u001b[0;32m      8\u001b[0m                                                                                 \u001b[0mmodel_key\u001b[0m\u001b[1;33m,\u001b[0m\u001b[1;33m\u001b[0m\u001b[1;33m\u001b[0m\u001b[0m\n\u001b[0;32m      9\u001b[0m                                                                                 \u001b[0mfeature_key\u001b[0m\u001b[1;33m,\u001b[0m\u001b[1;33m\u001b[0m\u001b[1;33m\u001b[0m\u001b[0m\n",
      "\u001b[1;32m<ipython-input-392-9394ae5c8e7d>\u001b[0m in \u001b[0;36mget_hotspots\u001b[1;34m(data, model_key, features_key, calendar_date)\u001b[0m\n\u001b[0;32m      1\u001b[0m \u001b[1;32mdef\u001b[0m \u001b[0mget_hotspots\u001b[0m\u001b[1;33m(\u001b[0m\u001b[0mdata\u001b[0m\u001b[1;33m,\u001b[0m \u001b[0mmodel_key\u001b[0m\u001b[1;33m,\u001b[0m \u001b[0mfeatures_key\u001b[0m\u001b[1;33m,\u001b[0m\u001b[0mcalendar_date\u001b[0m\u001b[1;33m)\u001b[0m\u001b[1;33m:\u001b[0m\u001b[1;33m\u001b[0m\u001b[1;33m\u001b[0m\u001b[0m\n\u001b[1;32m----> 2\u001b[1;33m     \u001b[0mx_data\u001b[0m \u001b[1;33m=\u001b[0m \u001b[0mdata\u001b[0m\u001b[1;33m.\u001b[0m\u001b[0mloc\u001b[0m\u001b[1;33m[\u001b[0m\u001b[0mdata\u001b[0m\u001b[1;33m[\u001b[0m\u001b[0mDATE_COL_KEY\u001b[0m\u001b[1;33m]\u001b[0m\u001b[1;33m.\u001b[0m\u001b[0mstr\u001b[0m\u001b[1;33m.\u001b[0m\u001b[0mcontains\u001b[0m\u001b[1;33m(\u001b[0m\u001b[0mcalendar_date\u001b[0m\u001b[1;33m)\u001b[0m\u001b[1;33m]\u001b[0m\u001b[1;33m\u001b[0m\u001b[1;33m\u001b[0m\u001b[0m\n\u001b[0m\u001b[0;32m      3\u001b[0m     \u001b[0mneighbourhoods_data\u001b[0m \u001b[1;33m=\u001b[0m \u001b[0mpd\u001b[0m\u001b[1;33m.\u001b[0m\u001b[0mDataFrame\u001b[0m\u001b[1;33m(\u001b[0m\u001b[0mx_data\u001b[0m\u001b[1;33m[\u001b[0m\u001b[0mNEIGHBOURHOOD_COL_KEY\u001b[0m\u001b[1;33m]\u001b[0m\u001b[1;33m)\u001b[0m\u001b[1;33m\u001b[0m\u001b[1;33m\u001b[0m\u001b[0m\n\u001b[0;32m      4\u001b[0m     \u001b[0mneighbourhoods_data\u001b[0m\u001b[1;33m.\u001b[0m\u001b[0mreset_index\u001b[0m\u001b[1;33m(\u001b[0m\u001b[0mdrop\u001b[0m\u001b[1;33m=\u001b[0m\u001b[1;32mTrue\u001b[0m\u001b[1;33m,\u001b[0m \u001b[0minplace\u001b[0m\u001b[1;33m=\u001b[0m\u001b[1;32mTrue\u001b[0m\u001b[1;33m)\u001b[0m\u001b[1;33m\u001b[0m\u001b[1;33m\u001b[0m\u001b[0m\n\u001b[0;32m      5\u001b[0m     \u001b[0my_data\u001b[0m \u001b[1;33m=\u001b[0m \u001b[0mpd\u001b[0m\u001b[1;33m.\u001b[0m\u001b[0mDataFrame\u001b[0m\u001b[1;33m(\u001b[0m\u001b[0mx_data\u001b[0m\u001b[1;33m[\u001b[0m\u001b[0mINCIDENT_COL_KEY\u001b[0m\u001b[1;33m]\u001b[0m\u001b[1;33m)\u001b[0m\u001b[1;33m\u001b[0m\u001b[1;33m\u001b[0m\u001b[0m\n",
      "\u001b[1;32mc:\\users\\chris\\appdata\\local\\programs\\python\\python39\\lib\\site-packages\\pandas\\core\\indexing.py\u001b[0m in \u001b[0;36m__getitem__\u001b[1;34m(self, key)\u001b[0m\n\u001b[0;32m    877\u001b[0m \u001b[1;33m\u001b[0m\u001b[0m\n\u001b[0;32m    878\u001b[0m             \u001b[0mmaybe_callable\u001b[0m \u001b[1;33m=\u001b[0m \u001b[0mcom\u001b[0m\u001b[1;33m.\u001b[0m\u001b[0mapply_if_callable\u001b[0m\u001b[1;33m(\u001b[0m\u001b[0mkey\u001b[0m\u001b[1;33m,\u001b[0m \u001b[0mself\u001b[0m\u001b[1;33m.\u001b[0m\u001b[0mobj\u001b[0m\u001b[1;33m)\u001b[0m\u001b[1;33m\u001b[0m\u001b[1;33m\u001b[0m\u001b[0m\n\u001b[1;32m--> 879\u001b[1;33m             \u001b[1;32mreturn\u001b[0m \u001b[0mself\u001b[0m\u001b[1;33m.\u001b[0m\u001b[0m_getitem_axis\u001b[0m\u001b[1;33m(\u001b[0m\u001b[0mmaybe_callable\u001b[0m\u001b[1;33m,\u001b[0m \u001b[0maxis\u001b[0m\u001b[1;33m=\u001b[0m\u001b[0maxis\u001b[0m\u001b[1;33m)\u001b[0m\u001b[1;33m\u001b[0m\u001b[1;33m\u001b[0m\u001b[0m\n\u001b[0m\u001b[0;32m    880\u001b[0m \u001b[1;33m\u001b[0m\u001b[0m\n\u001b[0;32m    881\u001b[0m     \u001b[1;32mdef\u001b[0m \u001b[0m_is_scalar_access\u001b[0m\u001b[1;33m(\u001b[0m\u001b[0mself\u001b[0m\u001b[1;33m,\u001b[0m \u001b[0mkey\u001b[0m\u001b[1;33m:\u001b[0m \u001b[0mTuple\u001b[0m\u001b[1;33m)\u001b[0m\u001b[1;33m:\u001b[0m\u001b[1;33m\u001b[0m\u001b[1;33m\u001b[0m\u001b[0m\n",
      "\u001b[1;32mc:\\users\\chris\\appdata\\local\\programs\\python\\python39\\lib\\site-packages\\pandas\\core\\indexing.py\u001b[0m in \u001b[0;36m_getitem_axis\u001b[1;34m(self, key, axis)\u001b[0m\n\u001b[0;32m   1088\u001b[0m             \u001b[1;32mreturn\u001b[0m \u001b[0mself\u001b[0m\u001b[1;33m.\u001b[0m\u001b[0m_get_slice_axis\u001b[0m\u001b[1;33m(\u001b[0m\u001b[0mkey\u001b[0m\u001b[1;33m,\u001b[0m \u001b[0maxis\u001b[0m\u001b[1;33m=\u001b[0m\u001b[0maxis\u001b[0m\u001b[1;33m)\u001b[0m\u001b[1;33m\u001b[0m\u001b[1;33m\u001b[0m\u001b[0m\n\u001b[0;32m   1089\u001b[0m         \u001b[1;32melif\u001b[0m \u001b[0mcom\u001b[0m\u001b[1;33m.\u001b[0m\u001b[0mis_bool_indexer\u001b[0m\u001b[1;33m(\u001b[0m\u001b[0mkey\u001b[0m\u001b[1;33m)\u001b[0m\u001b[1;33m:\u001b[0m\u001b[1;33m\u001b[0m\u001b[1;33m\u001b[0m\u001b[0m\n\u001b[1;32m-> 1090\u001b[1;33m             \u001b[1;32mreturn\u001b[0m \u001b[0mself\u001b[0m\u001b[1;33m.\u001b[0m\u001b[0m_getbool_axis\u001b[0m\u001b[1;33m(\u001b[0m\u001b[0mkey\u001b[0m\u001b[1;33m,\u001b[0m \u001b[0maxis\u001b[0m\u001b[1;33m=\u001b[0m\u001b[0maxis\u001b[0m\u001b[1;33m)\u001b[0m\u001b[1;33m\u001b[0m\u001b[1;33m\u001b[0m\u001b[0m\n\u001b[0m\u001b[0;32m   1091\u001b[0m         \u001b[1;32melif\u001b[0m \u001b[0mis_list_like_indexer\u001b[0m\u001b[1;33m(\u001b[0m\u001b[0mkey\u001b[0m\u001b[1;33m)\u001b[0m\u001b[1;33m:\u001b[0m\u001b[1;33m\u001b[0m\u001b[1;33m\u001b[0m\u001b[0m\n\u001b[0;32m   1092\u001b[0m \u001b[1;33m\u001b[0m\u001b[0m\n",
      "\u001b[1;32mc:\\users\\chris\\appdata\\local\\programs\\python\\python39\\lib\\site-packages\\pandas\\core\\indexing.py\u001b[0m in \u001b[0;36m_getbool_axis\u001b[1;34m(self, key, axis)\u001b[0m\n\u001b[0;32m    895\u001b[0m         \u001b[0mlabels\u001b[0m \u001b[1;33m=\u001b[0m \u001b[0mself\u001b[0m\u001b[1;33m.\u001b[0m\u001b[0mobj\u001b[0m\u001b[1;33m.\u001b[0m\u001b[0m_get_axis\u001b[0m\u001b[1;33m(\u001b[0m\u001b[0maxis\u001b[0m\u001b[1;33m)\u001b[0m\u001b[1;33m\u001b[0m\u001b[1;33m\u001b[0m\u001b[0m\n\u001b[0;32m    896\u001b[0m         \u001b[0mkey\u001b[0m \u001b[1;33m=\u001b[0m \u001b[0mcheck_bool_indexer\u001b[0m\u001b[1;33m(\u001b[0m\u001b[0mlabels\u001b[0m\u001b[1;33m,\u001b[0m \u001b[0mkey\u001b[0m\u001b[1;33m)\u001b[0m\u001b[1;33m\u001b[0m\u001b[1;33m\u001b[0m\u001b[0m\n\u001b[1;32m--> 897\u001b[1;33m         \u001b[0minds\u001b[0m \u001b[1;33m=\u001b[0m \u001b[0mkey\u001b[0m\u001b[1;33m.\u001b[0m\u001b[0mnonzero\u001b[0m\u001b[1;33m(\u001b[0m\u001b[1;33m)\u001b[0m\u001b[1;33m[\u001b[0m\u001b[1;36m0\u001b[0m\u001b[1;33m]\u001b[0m\u001b[1;33m\u001b[0m\u001b[1;33m\u001b[0m\u001b[0m\n\u001b[0m\u001b[0;32m    898\u001b[0m         \u001b[1;32mreturn\u001b[0m \u001b[0mself\u001b[0m\u001b[1;33m.\u001b[0m\u001b[0mobj\u001b[0m\u001b[1;33m.\u001b[0m\u001b[0m_take_with_is_copy\u001b[0m\u001b[1;33m(\u001b[0m\u001b[0minds\u001b[0m\u001b[1;33m,\u001b[0m \u001b[0maxis\u001b[0m\u001b[1;33m=\u001b[0m\u001b[0maxis\u001b[0m\u001b[1;33m)\u001b[0m\u001b[1;33m\u001b[0m\u001b[1;33m\u001b[0m\u001b[0m\n\u001b[0;32m    899\u001b[0m \u001b[1;33m\u001b[0m\u001b[0m\n",
      "\u001b[1;31mKeyboardInterrupt\u001b[0m: "
     ]
    }
   ],
   "source": [
    "top_x = 10\n",
    "bars = evaluate_models(num_hotspots_range,top_x)"
   ]
  },
  {
   "cell_type": "markdown",
   "metadata": {},
   "source": [
    "<h3> Testing starts here <h3>"
   ]
  },
  {
   "cell_type": "markdown",
   "metadata": {},
   "source": [
    "<h3> Test open_file <h3>"
   ]
  },
  {
   "cell_type": "code",
   "execution_count": 1153,
   "metadata": {},
   "outputs": [],
   "source": [
    "def test_open_file(expected_length,expected_columns):\n",
    "    df = open_file()\n",
    "    assert len(df) == expected_length, \"Data frame length not as expected.\"\n",
    "    actual_columns = df.columns    \n",
    "    assert len(actual_columns) == len(expected_columns), \"Actual columns not as expected.\"\n",
    "    for i in range(len(expected_columns)):\n",
    "        assert expected_columns[i] == actual_columns[i], \"Expected column \" + expected_columns[i] + \" but got \" + actual_columns[i]\n",
    "    print(\"All tests completed successfully\")"
   ]
  },
  {
   "cell_type": "code",
   "execution_count": 1154,
   "metadata": {},
   "outputs": [],
   "source": [
    "def get_all_columns():\n",
    "    return ['Reports 1 day ago','Reports 2 days ago','Reports 3 days ago','Reports 4 days ago','Reports 5 days ago',\n",
    "                    'Reports 6 days ago','Reports 7 days ago','Reports 14 days ago','Reports 30 days ago',\n",
    "                    'Reports 365 days ago','Last 7 days reports','Last 14 days reports','Last 28 days reports',\n",
    "                    'Number of businesses','Businesses 1 day ago','Businesses 2 days ago','Businesses 3 days ago',\n",
    "                    'Businesses 4 days ago','Businesses 5 days ago','Businesses 6 days ago','Businesses 7 days ago',\n",
    "                    'Businesses 14 days ago','Businesses 30 days ago','Businesses 365 days ago','Number of closures',\n",
    "                    'Closures 1 day ago','Closures 2 days ago','Closures 3 days ago','Closures 4 days ago',\n",
    "                    'Closures 5 days ago','Closures 6 days ago','Closures 7 days ago','Closures 14 days ago',\n",
    "                    'Closures 30 days ago','Closures 365 days ago','Last 7 days closures','Last 14 days closures',\n",
    "                    'Last 28 days closures','Number of openings','Openings 1 day ago','Openings 2 days ago',\n",
    "                    'Openings 3 days ago','Openings 4 days ago','Openings 5 days ago','Openings 6 days ago',\n",
    "                    'Openings 7 days ago','Openings 14 days ago','Openings 30 days ago','Openings 365 days ago',\n",
    "                    'Last 7 days openings','Last 14 days openings','Last 28 days openings','Alamo Square','Anza Vista',\n",
    "                    'Apparel City','Aquatic Park / Ft. Mason','Balboa Terrace','Bayview','Bernal Heights','Bret Harte',\n",
    "                    'Buena Vista','Candlestick Point SRA','Castro','Cathedral Hill','Cayuga','Central Waterfront','Chinatown',\n",
    "                    'Civic Center','Clarendon Heights','Cole Valley','Corona Heights','Cow Hollow','Crocker Amazon',\n",
    "                    'Diamond Heights','Dogpatch','Dolores Heights','Downtown / Union Square','Duboce Triangle','Eureka Valley',\n",
    "                    'Excelsior','Fairmount','Financial District','Fishermans Wharf','Forest Hill','Forest Knolls','Glen Park',\n",
    "                    'Golden Gate Heights','Golden Gate Park','Haight Ashbury','Hayes Valley','Holly Park','Hunters Point',\n",
    "                    'India Basin','Ingleside','Ingleside Terraces','Inner Richmond','Inner Sunset','Japantown','Laguna Honda',\n",
    "                    'Lake Street','Lakeshore','Laurel Heights / Jordan Park','Lincoln Park / Ft. Miley','Little Hollywood',\n",
    "                    'Lone Mountain','Lower Haight','Lower Nob Hill','Lower Pacific Heights','Marina','McLaren Park',\n",
    "                    'Merced Heights','Merced Manor','Midtown Terrace','Mint Hill','Miraloma Park','Mission','Mission Bay',\n",
    "                    'Mission Dolores','Mission Terrace','Monterey Heights','Mt. Davidson Manor','Nob Hill','Noe Valley',\n",
    "                    'North Beach','Northern Waterfront','Oceanview','Outer Mission','Outer Richmond','Outer Sunset',\n",
    "                    'Pacific Heights','Panhandle','Parkmerced','Parkside','Parnassus Heights','Peralta Heights',\n",
    "                    'Polk Gulch','Portola','Potrero Hill','Presidio Heights','Presidio National Park','Presidio Terrace',\n",
    "                    'Produce Market','Rincon Hill','Russian Hill','Seacliff','Sherwood Forest','Showplace Square',\n",
    "                    'Silver Terrace','South Beach','South of Market','St. Francis Wood','St. Marys Park','Stonestown',\n",
    "                    'Sunnydale','Sunnyside','Sutro Heights','Telegraph Hill','Tenderloin','Treasure Island','Union Street',\n",
    "                    'University Mound','Upper Market','Visitacion Valley','West Portal','Western Addition',\n",
    "                    'Westwood Highlands','Westwood Park','Yerba Buena Island','Friday','Saturday','Sunday','Thursday',\n",
    "                    'Tuesday','Wednesday','Todays Reports','Date','Neighborhood']"
   ]
  },
  {
   "cell_type": "code",
   "execution_count": 1155,
   "metadata": {},
   "outputs": [],
   "source": [
    "def get_all_neighbourhoods():\n",
    "    return ['Alamo Square','Anza Vista', 'Apparel City','Aquatic Park / Ft. Mason','Ashbury Heights','Balboa Terrace','Bayview',\n",
    "            'Bernal Heights','Bret Harte','Buena Vista','Candlestick Point SRA','Castro','Cathedral Hill','Cayuga',\n",
    "            'Central Waterfront','Chinatown','Civic Center','Clarendon Heights','Cole Valley','Corona Heights','Cow Hollow',\n",
    "            'Crocker Amazon','Diamond Heights','Dogpatch','Dolores Heights','Downtown / Union Square','Duboce Triangle',\n",
    "            'Eureka Valley','Excelsior','Fairmount','Financial District','Fishermans Wharf','Forest Hill','Forest Knolls',\n",
    "            'Glen Park','Golden Gate Heights','Golden Gate Park','Haight Ashbury','Hayes Valley','Holly Park','Hunters Point',\n",
    "            'India Basin','Ingleside','Ingleside Terraces','Inner Richmond','Inner Sunset','Japantown','Laguna Honda',\n",
    "            'Lake Street','Lakeshore','Laurel Heights / Jordan Park','Lincoln Park / Ft. Miley','Little Hollywood',\n",
    "            'Lone Mountain','Lower Haight','Lower Nob Hill','Lower Pacific Heights','Marina','McLaren Park',\n",
    "            'Merced Heights','Merced Manor','Midtown Terrace','Mint Hill','Miraloma Park','Mission','Mission Bay',\n",
    "            'Mission Dolores','Mission Terrace','Monterey Heights','Mt. Davidson Manor','Nob Hill','Noe Valley',\n",
    "            'North Beach','Northern Waterfront','Oceanview','Outer Mission','Outer Richmond','Outer Sunset',\n",
    "            'Pacific Heights','Panhandle','Parkmerced','Parkside','Parnassus Heights','Peralta Heights',\n",
    "            'Polk Gulch','Portola','Potrero Hill','Presidio Heights','Presidio National Park','Presidio Terrace',\n",
    "            'Produce Market','Rincon Hill','Russian Hill','Seacliff','Sherwood Forest','Showplace Square',\n",
    "            'Silver Terrace','South Beach','South of Market','St. Francis Wood','St. Marys Park','Stonestown',\n",
    "            'Sunnydale','Sunnyside','Sutro Heights','Telegraph Hill','Tenderloin','Treasure Island','Union Street',\n",
    "            'University Mound','Upper Market','Visitacion Valley','West Portal','Western Addition',\n",
    "            'Westwood Highlands','Westwood Park','Yerba Buena Island']"
   ]
  },
  {
   "cell_type": "code",
   "execution_count": 1156,
   "metadata": {},
   "outputs": [],
   "source": [
    "def get_all_ones():\n",
    "    all_ones = []\n",
    "    for i in range(0,117):\n",
    "        all_ones.append(1)\n",
    "    return all_ones"
   ]
  },
  {
   "cell_type": "code",
   "execution_count": 1157,
   "metadata": {},
   "outputs": [
    {
     "name": "stdout",
     "output_type": "stream",
     "text": [
      "All tests completed successfully\n"
     ]
    }
   ],
   "source": [
    "#test successful load\n",
    "expected_columns = get_all_columns()\n",
    "DEFAULT_FILE_PATH = \"tuning_test_data\"\n",
    "expected_length = 819\n",
    "test_open_file(expected_length,expected_columns)"
   ]
  },
  {
   "cell_type": "code",
   "execution_count": 1158,
   "metadata": {
    "scrolled": true
   },
   "outputs": [
    {
     "name": "stdout",
     "output_type": "stream",
     "text": [
      "File not found\n",
      "All tests completed successfully\n"
     ]
    }
   ],
   "source": [
    "#test failed load\n",
    "expected_columns = []\n",
    "DEFAULT_FILE_PATH = \"incorrect_path\"\n",
    "expected_length = 0\n",
    "test_open_file(expected_length,expected_columns)"
   ]
  },
  {
   "cell_type": "markdown",
   "metadata": {},
   "source": [
    "<h3> Test get_hotspots <h3>"
   ]
  },
  {
   "cell_type": "code",
   "execution_count": 1159,
   "metadata": {},
   "outputs": [],
   "source": [
    "def test_get_hotspots(test_model_name,test_feature_name,calendar_date, expected_y_actual, expected_actual_neighbourhoods,\n",
    "                     expected_y_predict, expected_prediction_neighbourhoods):\n",
    "    data = open_file()\n",
    "    y_actual, actual_neighbourhoods, y_predict, prediction_neighbourhoods = get_hotspots(data, \n",
    "                                                                                     test_model_name, \n",
    "                                                                                     test_feature_name,\n",
    "                                                                                     calendar_date)\n",
    "    for i in range(0,len(y_actual)):\n",
    "        assert y_actual[i] == expected_y_actual[i], \"Y actual not as expected.\"\n",
    "    for i in range(0,len(expected_y_actual)):\n",
    "        assert expected_y_actual[i] == y_actual[i], \"Y actual not as expected.\"\n",
    "        \n",
    "    for i in range(0,len(y_predict)):\n",
    "        assert y_predict[i] == expected_y_predict[i], \"Y actual not as expected.\"\n",
    "    for i in range(0,len(expected_y_predict)):\n",
    "        assert expected_y_predict[i] == y_predict[i], \"Y actual not as expected.\"   \n",
    "    for i in range(0,len(actual_neighbourhoods)):\n",
    "        assert actual_neighbourhoods[i] == expected_actual_neighbourhoods[i], \"Actual neighbourhoods not as expected.\"\n",
    "    for i in range(0,len(expected_actual_neighbourhoods)):\n",
    "        assert expected_actual_neighbourhoods[i] == actual_neighbourhoods[i], \"Actual neighbourhoods not as expected.\"    \n",
    "    for i in range(0,len(prediction_neighbourhoods)):\n",
    "        assert prediction_neighbourhoods[i] == expected_prediction_neighbourhoods[i], \"Predicted neighbourhoods not as expected.\"  \n",
    "    for i in range(0,len(expected_prediction_neighbourhoods)):\n",
    "        assert expected_prediction_neighbourhoods[i] == prediction_neighbourhoods[i], \"Predicted neighbourhoods not as expected.\"\n",
    "    print(\"Tests completed successfully\")"
   ]
  },
  {
   "cell_type": "code",
   "execution_count": 1160,
   "metadata": {},
   "outputs": [],
   "source": [
    "DEFAULT_FILE_PATH = \"tuning_test_data\"\n",
    "test_model_name = \"Tuning Template Test\"\n",
    "test_model_file_tag = \"tuning_template_test_model\"\n",
    "test_feature_file_tag = \"arbitrary_name\"\n",
    "test_feature_name = \"Arbitrary Feature Name\"\n",
    "test_feature_features = ['Reports 1 day ago', 'Reports 2 days ago', 'Reports 3 days ago',\n",
    "                       'Reports 4 days ago', 'Reports 5 days ago', 'Reports 6 days ago',\n",
    "                      'Reports 7 days ago','Reports 14 days ago','Reports 30 days ago','Reports 365 days ago']\n",
    "FEATURES[test_feature_name] = test_feature_features\n",
    "FEATURE_FILE_TAGS[test_feature_name] = test_feature_file_tag\n",
    "FEATURE_NAMES_BY_FILE_TAG[test_feature_file_tag] = test_feature_name\n",
    "MODEL_FILE_TAGS[test_model_name] = test_model_file_tag\n",
    "calendar_date = \"05/01/2021\""
   ]
  },
  {
   "cell_type": "code",
   "execution_count": 1161,
   "metadata": {},
   "outputs": [
    {
     "name": "stdout",
     "output_type": "stream",
     "text": [
      "Tests completed successfully\n"
     ]
    }
   ],
   "source": [
    "expected_y_actual = [5, 4, 3, 3, 3, 3, 2, 2, 2, 2, 2, 2, 2, 2, 2, 2, 2, 2, 2, 2, 2, 2, 2, 2, 1, 1, 1, 1, 1, 1, 1, 1, 1, 1, 1, \n",
    "                     1, 1, 1, 1, 1, 1, 1, 1, 1, 1, 1, 1, 1, 1, 1, 1, 1, 1, 1, 1, 1, 1, 1, 1, 1, 1, 1, 1, 1, 1, 1, 1, 1, 1, 1,\n",
    "                     1, 1, 1, 1, 1, 1, 1, 1, 1, 1, 1, 1, 1, 1]\n",
    "expected_actual_neighbourhoods = ['Downtown / Union Square', 'Bernal Heights', 'Western Addition', 'Portola',\n",
    " 'Bayview', 'Eureka Valley', 'South Beach', 'Lincoln Park / Ft. Miley',\n",
    " 'Hunters Point', 'Potrero Hill', 'Presidio Heights', 'Cow Hollow',\n",
    " 'Russian Hill', 'Cole Valley', 'Mission Terrace', 'Hayes Valley',\n",
    " 'Stonestown', 'Central Waterfront', 'Northern Waterfront', 'Buena Vista',\n",
    " 'Visitacion Valley', 'North Beach', 'Forest Hill', 'South of Market',\n",
    " 'Haight Ashbury', 'Golden Gate Park', 'Yerba Buena Island',\n",
    " 'Golden Gate Heights', 'Ingleside Terraces', 'Inner Richmond',\n",
    " 'Inner Sunset', 'Lake Street', 'Lakeshore', 'Ingleside', 'Diamond Heights',\n",
    " 'Glen Park', 'Forest Knolls', 'Financial District', 'Excelsior',\n",
    " 'Duboce Triangle', 'Crocker Amazon', 'Corona Heights', 'Clarendon Heights',\n",
    " 'Civic Center', 'Candlestick Point SRA', 'Balboa Terrace', 'Anza Vista',\n",
    " 'Laurel Heights / Jordan Park', 'Merced Manor', 'Little Hollywood',\n",
    " 'St. Francis Wood', 'Panhandle', 'Parkside', 'Presidio National Park',\n",
    " 'Seacliff', 'Sherwood Forest', 'Silver Terrace', 'Sunnyside', 'Outer Sunset',\n",
    " 'Telegraph Hill', 'Tenderloin', 'Treasure Island', 'Upper Market',\n",
    " 'West Portal', 'Westwood Highlands', 'Pacific Heights', 'Outer Richmond',\n",
    " 'Lone Mountain', 'Mission', 'Lower Pacific Heights', 'Marina',\n",
    " 'Merced Heights', 'Westwood Park', 'Midtown Terrace', 'Miraloma Park',\n",
    " 'Mission Bay', 'Outer Mission', 'Mission Dolores', 'Monterey Heights',\n",
    " 'Mt. Davidson Manor', 'Nob Hill', 'Noe Valley', 'Oceanview', 'Alamo Square']\n",
    "expected_y_predict = expected_y_actual\n",
    "expected_prediction_neighbourhoods = expected_actual_neighbourhoods\n",
    "test_get_hotspots(test_model_name,test_feature_name,calendar_date, expected_y_actual, expected_actual_neighbourhoods,\n",
    "                     expected_y_predict, expected_prediction_neighbourhoods)"
   ]
  },
  {
   "cell_type": "markdown",
   "metadata": {},
   "source": [
    "<h3> Test load_model <h3>"
   ]
  },
  {
   "cell_type": "code",
   "execution_count": 1162,
   "metadata": {},
   "outputs": [],
   "source": [
    "def test_load_model(x_data, y_data, neighbourhoods_data, model_key, features_key):\n",
    "    y_actual, actual_neighbourhoods, y_predict, prediction_neighbourhoods = load_model(x_data, \n",
    "                                                                                       y_data, \n",
    "                                                                                       neighbourhoods_data,\n",
    "                                                                                       model_key, \n",
    "                                                                                       features_key)\n",
    "    for i in range(0,len(y_actual)):\n",
    "        assert y_actual[i] == expected_y_actual[i], \"Y actual not as expected.\"\n",
    "    for i in range(0,len(expected_y_actual)):\n",
    "        assert expected_y_actual[i] == y_actual[i], \"Y actual not as expected.\"   \n",
    "    for i in range(0,len(y_predict)):\n",
    "        assert y_predict[i] == expected_y_predict[i], \"Y actual not as expected.\"\n",
    "    for i in range(0,len(expected_y_predict)):\n",
    "        assert expected_y_predict[i] == y_predict[i], \"Y actual not as expected.\"   \n",
    "    for i in range(0,len(actual_neighbourhoods)):\n",
    "        assert actual_neighbourhoods[i] == expected_actual_neighbourhoods[i], \"Actual neighbourhoods not as expected.\"\n",
    "    for i in range(0,len(expected_actual_neighbourhoods)):\n",
    "        assert expected_actual_neighbourhoods[i] == actual_neighbourhoods[i], \"Actual neighbourhoods not as expected.\"    \n",
    "    for i in range(0,len(prediction_neighbourhoods)):\n",
    "        assert prediction_neighbourhoods[i] == expected_prediction_neighbourhoods[i], \"Predicted neighbourhoods not as expected.\"  \n",
    "    for i in range(0,len(expected_prediction_neighbourhoods)):\n",
    "        assert expected_prediction_neighbourhoods[i] == prediction_neighbourhoods[i], \"Predicted neighbourhoods not as expected.\"\n",
    "    print(\"Tests completed successfully\")"
   ]
  },
  {
   "cell_type": "code",
   "execution_count": 1163,
   "metadata": {
    "scrolled": false
   },
   "outputs": [
    {
     "name": "stdout",
     "output_type": "stream",
     "text": [
      "Tests completed successfully\n"
     ]
    }
   ],
   "source": [
    "all_ones = get_all_ones()\n",
    "x_columns = ['Reports 1 day ago','Reports 2 days ago','Reports 3 days ago','Reports 4 days ago',\n",
    "                      'Reports 5 days ago','Reports 6 days ago','Reports 7 days ago','Reports 14 days ago',\n",
    "                      'Reports 30 days ago','Reports 365 days ago']\n",
    "x_data = pd.DataFrame()\n",
    "for col in x_columns:\n",
    "    x_data[col] = all_ones\n",
    "y_data = pd.DataFrame()\n",
    "y_data['Todays Reports'] = all_ones\n",
    "neighbourhoods_data = pd.DataFrame()\n",
    "neighbourhoods_data['Neighborhood'] = get_all_neighbourhoods()\n",
    "model_key = 'Tuning Template Test'\n",
    "features_key = 'Arbitrary Feature Name'\n",
    "test_load_model(x_data, y_data, neighbourhoods_data, model_key, features_key)"
   ]
  },
  {
   "cell_type": "markdown",
   "metadata": {},
   "source": [
    "<h3> Test make_prediction <h3>"
   ]
  },
  {
   "cell_type": "code",
   "execution_count": 1164,
   "metadata": {},
   "outputs": [],
   "source": [
    "def test_make_prediction(model_path, x_data, y_data, neighbourhoods_data):\n",
    "    with open(model_path, 'rb') as f:\n",
    "        model = pickle.load(f)\n",
    "    y_actual, actual_neighbourhoods, y_predict, prediction_neighbourhoods = make_prediction(model,\n",
    "                                                                                            x_data, \n",
    "                                                                                            y_data, \n",
    "                                                                                            neighbourhoods_data)\n",
    "    for i in range(0,len(y_actual)):\n",
    "        assert y_actual[i] == expected_y_actual[i], \"Y actual not as expected.\"\n",
    "    for i in range(0,len(expected_y_actual)):\n",
    "        assert expected_y_actual[i] == y_actual[i], \"Y actual not as expected.\"   \n",
    "    for i in range(0,len(y_predict)):\n",
    "        assert y_predict[i] == expected_y_predict[i], \"Y actual not as expected.\"\n",
    "    for i in range(0,len(expected_y_predict)):\n",
    "        assert expected_y_predict[i] == y_predict[i], \"Y actual not as expected.\"   \n",
    "    for i in range(0,len(actual_neighbourhoods)):\n",
    "        assert actual_neighbourhoods[i] == expected_actual_neighbourhoods[i], \"Actual neighbourhoods not as expected.\"\n",
    "    for i in range(0,len(expected_actual_neighbourhoods)):\n",
    "        assert expected_actual_neighbourhoods[i] == actual_neighbourhoods[i], \"Actual neighbourhoods not as expected.\"    \n",
    "    for i in range(0,len(prediction_neighbourhoods)):\n",
    "        assert prediction_neighbourhoods[i] == expected_prediction_neighbourhoods[i], \"Predicted neighbourhoods not as expected.\"  \n",
    "    for i in range(0,len(expected_prediction_neighbourhoods)):\n",
    "        assert expected_prediction_neighbourhoods[i] == prediction_neighbourhoods[i], \"Predicted neighbourhoods not as expected.\"\n",
    "    print(\"Tests completed successfully\")"
   ]
  },
  {
   "cell_type": "code",
   "execution_count": 1165,
   "metadata": {},
   "outputs": [
    {
     "name": "stdout",
     "output_type": "stream",
     "text": [
      "Tests completed successfully\n"
     ]
    }
   ],
   "source": [
    "model_path = \"CrimeGUI/Models/tuning_template_test_model_arbitrary_name\"\n",
    "test_make_prediction(model_path,x_data, y_data, neighbourhoods_data)"
   ]
  },
  {
   "cell_type": "markdown",
   "metadata": {},
   "source": [
    "<h3> Test get non negative value <h3>"
   ]
  },
  {
   "cell_type": "code",
   "execution_count": 1166,
   "metadata": {},
   "outputs": [],
   "source": [
    "def test_get_non_negative_value(nums_in,expected_outs):\n",
    "    for i in range(0,len(nums_in)):\n",
    "        result = get_non_negative_value(nums_in[i])\n",
    "        assert result == expected_outs[i], \"Returned value not as expected\"\n",
    "    print(\"Tests completed successfully.\")"
   ]
  },
  {
   "cell_type": "code",
   "execution_count": 1167,
   "metadata": {},
   "outputs": [
    {
     "name": "stdout",
     "output_type": "stream",
     "text": [
      "Tests completed successfully.\n"
     ]
    }
   ],
   "source": [
    "nums_in = [-10,-2,-1,0,1,2,10]\n",
    "expected_outs = [0,0,0,0,1,2,10]\n",
    "test_get_non_negative_value(nums_in,expected_outs)"
   ]
  },
  {
   "cell_type": "markdown",
   "metadata": {},
   "source": [
    "<h3> Test merge sub neighbourhoods <h3>"
   ]
  },
  {
   "cell_type": "code",
   "execution_count": 1168,
   "metadata": {},
   "outputs": [],
   "source": [
    "def test_merge_sub_neighbourhoods(y_data_in,y_predict_in,neighbourhoods_data_in, expected_y_actual, expected_y_predict,\n",
    "                                 expected_neighbourhoods_data):\n",
    "    y_actual,y_predict,neighbourhoods_data = merge_sub_neighbourhoods(y_data_in,y_predict_in,neighbourhoods_data_in)\n",
    "    neighbourhoods_data.reset_index(drop=True, inplace=True)\n",
    "    for i in range(0,len(y_actual)):\n",
    "        assert y_actual[i] == expected_y_actual[i], \"Y actual not as expected.\"\n",
    "    for i in range(0,len(expected_y_actual)):\n",
    "        assert expected_y_actual[i] == y_actual[i], \"Y actual not as expected.\"   \n",
    "    for i in range(0,len(y_predict)):\n",
    "        assert y_predict[i] == expected_y_predict[i], \"Y actual not as expected.\"\n",
    "    for i in range(0,len(expected_y_predict)):\n",
    "        assert expected_y_predict[i] == y_predict[i], \"Y actual not as expected.\" \n",
    "    for i in range(0,len(neighbourhoods_data)):\n",
    "        assert neighbourhoods_data['Neighborhood'][i] == expected_neighbourhoods_data[i], \"Neighbourhoods not as expected.\"\n",
    "    for i in range(0,len(expected_neighbourhoods_data)):\n",
    "        assert expected_neighbourhoods_data[i] == neighbourhoods_data['Neighborhood'][i], \"Neighbourhoods not as expected.\"   \n",
    "    print(\"Tests completed successfully\")"
   ]
  },
  {
   "cell_type": "code",
   "execution_count": 1169,
   "metadata": {},
   "outputs": [
    {
     "name": "stdout",
     "output_type": "stream",
     "text": [
      "Tests completed successfully\n"
     ]
    }
   ],
   "source": [
    "y_data_in = pd.DataFrame()\n",
    "y_data_in['Todays Reports'] = get_all_ones()\n",
    "y_predict_in = all_ones\n",
    "neighbourhoods_data_in = pd.DataFrame()\n",
    "neighbourhoods_data_in['Neighborhood'] = get_all_neighbourhoods()\n",
    "expected_y_actual = [1, 1, 1, 3, 4, 2, 1, 2, 1, 1, 2, 1, 2, 1, 1, 5, 1, 3, 1, 1, 2, 1, 1, 1, 1, 1, 2, 2, 1, 1, 1, 1, 1, 1, 1, \n",
    "                     2, 1, 1, 1, 1, 1, 1, 1, 1, 1, 1, 1, 2, 1, 1, 1, 1, 2, 2, 1, 1, 1, 1, 1, 1, 1, 3, 2, 2, 1, 2, 1, 1, 1, 2,\n",
    "                     2, 1, 2, 1, 1, 1, 1, 1, 2, 1, 3, 1, 1, 1]\n",
    "expected_y_predict = expected_y_actual\n",
    "expected_neighbourhoods_data = ['Alamo Square', 'Anza Vista', 'Balboa Terrace', 'Bayview', 'Bernal Heights', 'Buena Vista', \n",
    "                                'Candlestick Point SRA', 'Central Waterfront', 'Civic Center', 'Clarendon Heights', \n",
    "                                'Cole Valley', 'Corona Heights', 'Cow Hollow', 'Crocker Amazon', 'Diamond Heights', \n",
    "                                'Downtown / Union Square', 'Duboce Triangle', 'Eureka Valley', 'Excelsior', \n",
    "                                'Financial District', 'Forest Hill', 'Forest Knolls', 'Glen Park', 'Golden Gate Heights', \n",
    "                                'Golden Gate Park', 'Haight Ashbury', 'Hayes Valley', 'Hunters Point', 'Ingleside', \n",
    "                                'Ingleside Terraces', 'Inner Richmond', 'Inner Sunset', 'Lake Street', 'Lakeshore', \n",
    "                                'Laurel Heights / Jordan Park', 'Lincoln Park / Ft. Miley', 'Little Hollywood', \n",
    "                                'Lone Mountain', 'Lower Pacific Heights', 'Marina', 'Merced Heights', 'Merced Manor', \n",
    "                                'Midtown Terrace', 'Miraloma Park', 'Mission', 'Mission Bay', 'Mission Dolores', \n",
    "                                'Mission Terrace', 'Monterey Heights', 'Mt. Davidson Manor', 'Nob Hill', 'Noe Valley', \n",
    "                                'North Beach', 'Northern Waterfront', 'Oceanview', 'Outer Mission', 'Outer Richmond', \n",
    "                                'Outer Sunset', 'Pacific Heights', 'Panhandle', 'Parkside', 'Portola', 'Potrero Hill', \n",
    "                                'Presidio Heights', 'Presidio National Park', 'Russian Hill', 'Seacliff', 'Sherwood Forest', \n",
    "                                'Silver Terrace', 'South Beach', 'South of Market', 'St. Francis Wood', 'Stonestown', \n",
    "                                'Sunnyside', 'Telegraph Hill', 'Tenderloin', 'Treasure Island', 'Upper Market', \n",
    "                                'Visitacion Valley', 'West Portal', 'Western Addition', 'Westwood Highlands', 'Westwood Park', \n",
    "                                'Yerba Buena Island']\n",
    "test_merge_sub_neighbourhoods(y_data_in,y_predict_in,neighbourhoods_data_in, expected_y_actual, expected_y_predict,\n",
    "                                 expected_neighbourhoods_data)"
   ]
  },
  {
   "cell_type": "markdown",
   "metadata": {},
   "source": [
    "<h3> Test calculate accuracy <h3>"
   ]
  },
  {
   "cell_type": "code",
   "execution_count": 1170,
   "metadata": {},
   "outputs": [],
   "source": [
    "def test_calculate_accuracy(y_actual, actual_neighbourhoods, y_predict, prediction_neighbourhoods, expected_scores\n",
    "                            ,num_hotspots):\n",
    "    \n",
    "    result = calculate_accuracy(y_actual, actual_neighbourhoods, y_predict, prediction_neighbourhoods,num_hotspots)\n",
    "    #returns [sensitivity, specificity, precision, f1, mcc, misclassification_severity]\n",
    "    print(result)\n",
    "    assert result [0] == expected_scores [0], \"Sensitivity not as expected.\"\n",
    "    assert result [1] == expected_scores [1], \"Specificity not as expected.\"\n",
    "    assert result [2] == expected_scores [2], \"Precision not as expected.\"\n",
    "    assert result [3] == expected_scores [3], \"F1 not as expected.\"\n",
    "    assert result [4] == expected_scores [4], \"MCC not as expected.\"\n",
    "    assert result [5] == expected_scores [5], \"Misclassification severity not as expected.\"\n",
    "    print (\"All tests completed successfully\")"
   ]
  },
  {
   "cell_type": "code",
   "execution_count": 1171,
   "metadata": {},
   "outputs": [],
   "source": [
    "def get_x_neighbourhoods(x, reverse):\n",
    "    neighbourhoods = []\n",
    "    for i in range(0,x):\n",
    "        neighbourhoods.append('Neighbourhood ' + str(i))\n",
    "    if reverse:\n",
    "        neighbourhoods.reverse()\n",
    "    return neighbourhoods"
   ]
  },
  {
   "cell_type": "code",
   "execution_count": 1172,
   "metadata": {
    "scrolled": true
   },
   "outputs": [
    {
     "name": "stdout",
     "output_type": "stream",
     "text": [
      "[1.0, 1.0, 1.0, 1.0, 1.0, 0.0]\n",
      "All tests completed successfully\n"
     ]
    }
   ],
   "source": [
    "data = open_file()\n",
    "test_model_name = \"Tuning Template Test\"\n",
    "test_feature_name = \"Arbitrary Feature Name\"\n",
    "calendar_date = \"05/01/2021\"\n",
    "expected_scores = [1,1,1,1,1,0]\n",
    "num_hotspots = 10\n",
    "y_actual, actual_neighbourhoods, y_predict, prediction_neighbourhoods = get_hotspots(data, \n",
    "                                                                                     test_model_name, \n",
    "                                                                                     test_feature_name,\n",
    "                                                                                     calendar_date)\n",
    "test_calculate_accuracy(y_actual, actual_neighbourhoods, y_predict, prediction_neighbourhoods, expected_scores, num_hotspots)"
   ]
  },
  {
   "cell_type": "code",
   "execution_count": null,
   "metadata": {
    "scrolled": true
   },
   "outputs": [],
   "source": []
  },
  {
   "cell_type": "code",
   "execution_count": 1173,
   "metadata": {},
   "outputs": [
    {
     "name": "stdout",
     "output_type": "stream",
     "text": [
      "[1.0, 1, 1.0, 1.0, 1, 0.0]\n",
      "All tests completed successfully\n"
     ]
    }
   ],
   "source": [
    "ten_to_one = [10.0,9.0,8.0,7.0,6.0,5.0,4.0,3.0,2.0,1.0]\n",
    "y_actual = np.ndarray((10,),buffer = np.array(ten_to_one))\n",
    "y_predict = np.ndarray((10,),buffer = np.array(ten_to_one))\n",
    "actual_neighbourhoods = np.array(get_x_neighbourhoods(len(y_actual), reverse = False), dtype=object)\n",
    "predicted_neighbourhoods = np.array(get_x_neighbourhoods(len(y_predict), reverse = False), dtype=object)\n",
    "expected_scores = [1,1,1,1,1,0]\n",
    "num_hotspots = 10\n",
    "test_calculate_accuracy(y_actual, actual_neighbourhoods, y_predict, predicted_neighbourhoods, expected_scores, num_hotspots)"
   ]
  },
  {
   "cell_type": "code",
   "execution_count": 1174,
   "metadata": {},
   "outputs": [
    {
     "name": "stdout",
     "output_type": "stream",
     "text": [
      "[1.0, 1, 1.0, 1.0, 1, 0.0]\n",
      "All tests completed successfully\n"
     ]
    }
   ],
   "source": [
    "ten_to_one = [10.0,9.0,8.0,7.0,6.0,5.0,4.0,3.0,2.0,1.0]\n",
    "y_actual = np.ndarray((10,),buffer = np.array(ten_to_one))\n",
    "y_predict = np.ndarray((10,),buffer = np.array(ten_to_one))\n",
    "actual_neighbourhoods = np.array(get_x_neighbourhoods(len(y_actual), reverse = True), dtype=object)\n",
    "predicted_neighbourhoods = np.array(get_x_neighbourhoods(len(y_predict), reverse = False), dtype=object)\n",
    "expected_scores = [1,1,1,1,1,0]\n",
    "num_hotspots = 10\n",
    "test_calculate_accuracy(y_actual, actual_neighbourhoods, y_predict, predicted_neighbourhoods, expected_scores, num_hotspots)"
   ]
  },
  {
   "cell_type": "code",
   "execution_count": 1175,
   "metadata": {},
   "outputs": [
    {
     "name": "stdout",
     "output_type": "stream",
     "text": [
      "[1.0, 1, 1.0, 1.0, 1, 0.0]\n",
      "All tests completed successfully\n"
     ]
    }
   ],
   "source": [
    "ten_to_one = [10.0,9.0,8.0,7.0,6.0,5.0,4.0,3.0,2.0,1.0]\n",
    "y_actual = np.ndarray((10,),buffer = np.array(ten_to_one))\n",
    "y_predict = np.ndarray((10,),buffer = np.array(ten_to_one))\n",
    "actual_neighbourhoods = np.array(get_x_neighbourhoods(len(y_actual), reverse = False), dtype=object)\n",
    "predicted_neighbourhoods = np.array(get_x_neighbourhoods(len(y_predict), reverse = True), dtype=object)\n",
    "expected_scores = [1,1,1,1,1,0]\n",
    "num_hotspots = 10\n",
    "test_calculate_accuracy(y_actual, actual_neighbourhoods, y_predict, predicted_neighbourhoods, expected_scores, num_hotspots)"
   ]
  },
  {
   "cell_type": "code",
   "execution_count": 1176,
   "metadata": {},
   "outputs": [
    {
     "name": "stdout",
     "output_type": "stream",
     "text": [
      "[1.0, 1, 1.0, 1.0, 1, 0.0]\n",
      "All tests completed successfully\n"
     ]
    }
   ],
   "source": [
    "ten_to_one = [10.0,9.0,8.0,7.0,6.0,5.0,4.0,3.0,2.0,1.0]\n",
    "y_actual = np.ndarray((10,),buffer = np.array(ten_to_one))\n",
    "y_predict = np.ndarray((10,),buffer = np.array(ten_to_one))\n",
    "actual_neighbourhoods = np.array(get_x_neighbourhoods(len(y_actual), reverse = True), dtype=object)\n",
    "predicted_neighbourhoods = np.array(get_x_neighbourhoods(len(y_predict), reverse = True), dtype=object)\n",
    "expected_scores = [1,1,1,1,1,0]\n",
    "num_hotspots = 10\n",
    "test_calculate_accuracy(y_actual, actual_neighbourhoods, y_predict, predicted_neighbourhoods, expected_scores, num_hotspots)"
   ]
  },
  {
   "cell_type": "code",
   "execution_count": 1177,
   "metadata": {},
   "outputs": [
    {
     "name": "stdout",
     "output_type": "stream",
     "text": [
      "[1.0, 1, 1.0, 1.0, 1, 0.0]\n",
      "All tests completed successfully\n"
     ]
    }
   ],
   "source": [
    "ten_to_one = [10.0,9.0,8.0,7.0,6.0,5.0,4.0,3.0,2.0,1.0]\n",
    "one_to_ten = [1.0,2.0,3.0,4.0,5.0,6.0,7.0,8.0,9.0,10.0]\n",
    "y_actual = np.ndarray((10,),buffer = np.array(one_to_ten))\n",
    "y_predict = np.ndarray((10,),buffer = np.array(ten_to_one))\n",
    "actual_neighbourhoods = np.array(get_x_neighbourhoods(len(y_actual), reverse = False), dtype=object)\n",
    "predicted_neighbourhoods = np.array(get_x_neighbourhoods(len(y_predict), reverse = False), dtype=object)\n",
    "expected_scores = [1,1,1,1,1,0]\n",
    "num_hotspots = 10\n",
    "test_calculate_accuracy(y_actual, actual_neighbourhoods, y_predict, predicted_neighbourhoods, expected_scores, num_hotspots)"
   ]
  },
  {
   "cell_type": "code",
   "execution_count": 1178,
   "metadata": {},
   "outputs": [
    {
     "name": "stdout",
     "output_type": "stream",
     "text": [
      "[1.0, 1, 1.0, 1.0, 1, 0.0]\n",
      "All tests completed successfully\n"
     ]
    }
   ],
   "source": [
    "ten_to_one = [10.0,9.0,8.0,7.0,6.0,5.0,4.0,3.0,2.0,1.0]\n",
    "one_to_ten = [1.0,2.0,3.0,4.0,5.0,6.0,7.0,8.0,9.0,10.0]\n",
    "y_actual = np.ndarray((10,),buffer = np.array(ten_to_one))\n",
    "y_predict = np.ndarray((10,),buffer = np.array(one_to_ten))\n",
    "actual_neighbourhoods = np.array(get_x_neighbourhoods(len(y_actual), reverse = False), dtype=object)\n",
    "predicted_neighbourhoods = np.array(get_x_neighbourhoods(len(y_predict), reverse = False), dtype=object)\n",
    "expected_scores = [1,1,1,1,1,0]\n",
    "num_hotspots = 10\n",
    "test_calculate_accuracy(y_actual, actual_neighbourhoods, y_predict, predicted_neighbourhoods, expected_scores, num_hotspots)"
   ]
  },
  {
   "cell_type": "code",
   "execution_count": 1179,
   "metadata": {},
   "outputs": [
    {
     "name": "stdout",
     "output_type": "stream",
     "text": [
      "[1.0, 1, 1.0, 1.0, 1, 0.0]\n",
      "All tests completed successfully\n"
     ]
    }
   ],
   "source": [
    "ten_to_one = [10.0,9.0,8.0,7.0,6.0,5.0,4.0,3.0,2.0,1.0]\n",
    "one_to_ten = [1.0,2.0,3.0,4.0,5.0,6.0,7.0,8.0,9.0,10.0]\n",
    "y_actual = np.ndarray((10,),buffer = np.array(one_to_ten))\n",
    "y_predict = np.ndarray((10,),buffer = np.array(one_to_ten))\n",
    "actual_neighbourhoods = np.array(get_x_neighbourhoods(len(y_actual), reverse = False), dtype=object)\n",
    "predicted_neighbourhoods = np.array(get_x_neighbourhoods(len(y_predict), reverse = False), dtype=object)\n",
    "expected_scores = [1,1,1,1,1,0]\n",
    "num_hotspots = 10\n",
    "test_calculate_accuracy(y_actual, actual_neighbourhoods, y_predict, predicted_neighbourhoods, expected_scores, num_hotspots)"
   ]
  },
  {
   "cell_type": "code",
   "execution_count": 1180,
   "metadata": {},
   "outputs": [
    {
     "name": "stdout",
     "output_type": "stream",
     "text": [
      "[1.0, 1, 1.0, 1.0, 1, 0.0]\n",
      "All tests completed successfully\n"
     ]
    }
   ],
   "source": [
    "ten_to_one = [10.0,9.0,8.0,7.0,6.0,5.0,4.0,3.0,2.0,1.0]\n",
    "one_to_ten = [1.0,2.0,3.0,4.0,5.0,6.0,7.0,8.0,9.0,10.0]\n",
    "y_actual = np.ndarray((10,),buffer = np.array(one_to_ten))\n",
    "y_predict = np.ndarray((10,),buffer = np.array(ten_to_one))\n",
    "actual_neighbourhoods = np.array(get_x_neighbourhoods(len(y_actual), reverse = True), dtype=object)\n",
    "predicted_neighbourhoods = np.array(get_x_neighbourhoods(len(y_predict), reverse = False), dtype=object)\n",
    "expected_scores = [1,1,1,1,1,0]\n",
    "num_hotspots = 10\n",
    "test_calculate_accuracy(y_actual, actual_neighbourhoods, y_predict, predicted_neighbourhoods, expected_scores, num_hotspots)"
   ]
  },
  {
   "cell_type": "code",
   "execution_count": 1181,
   "metadata": {},
   "outputs": [
    {
     "name": "stdout",
     "output_type": "stream",
     "text": [
      "[1.0, 1, 1.0, 1.0, 1, 0.0]\n",
      "All tests completed successfully\n"
     ]
    }
   ],
   "source": [
    "ten_to_one = [10.0,9.0,8.0,7.0,6.0,5.0,4.0,3.0,2.0,1.0]\n",
    "one_to_ten = [1.0,2.0,3.0,4.0,5.0,6.0,7.0,8.0,9.0,10.0]\n",
    "y_actual = np.ndarray((10,),buffer = np.array(one_to_ten))\n",
    "y_predict = np.ndarray((10,),buffer = np.array(ten_to_one))\n",
    "actual_neighbourhoods = np.array(get_x_neighbourhoods(len(y_actual), reverse = False), dtype=object)\n",
    "predicted_neighbourhoods = np.array(get_x_neighbourhoods(len(y_predict), reverse = True), dtype=object)\n",
    "expected_scores = [1,1,1,1,1,0]\n",
    "num_hotspots = 10\n",
    "test_calculate_accuracy(y_actual, actual_neighbourhoods, y_predict, predicted_neighbourhoods, expected_scores, num_hotspots)"
   ]
  },
  {
   "cell_type": "code",
   "execution_count": 1182,
   "metadata": {},
   "outputs": [
    {
     "name": "stdout",
     "output_type": "stream",
     "text": [
      "[1.0, 1, 1.0, 1.0, 1, 0.0]\n",
      "All tests completed successfully\n"
     ]
    }
   ],
   "source": [
    "ten_to_one = [10.0,9.0,8.0,7.0,6.0,5.0,4.0,3.0,2.0,1.0]\n",
    "one_to_ten = [1.0,2.0,3.0,4.0,5.0,6.0,7.0,8.0,9.0,10.0]\n",
    "y_actual = np.ndarray((10,),buffer = np.array(one_to_ten))\n",
    "y_predict = np.ndarray((10,),buffer = np.array(ten_to_one))\n",
    "actual_neighbourhoods = np.array(get_x_neighbourhoods(len(y_actual), reverse = True), dtype=object)\n",
    "predicted_neighbourhoods = np.array(get_x_neighbourhoods(len(y_predict), reverse = True), dtype=object)\n",
    "expected_scores = [1,1,1,1,1,0]\n",
    "num_hotspots = 10\n",
    "test_calculate_accuracy(y_actual, actual_neighbourhoods, y_predict, predicted_neighbourhoods, expected_scores, num_hotspots)"
   ]
  },
  {
   "cell_type": "code",
   "execution_count": 1183,
   "metadata": {},
   "outputs": [
    {
     "name": "stdout",
     "output_type": "stream",
     "text": [
      "[1.0, 1.0, 1.0, 1.0, 1.0, 0.0]\n",
      "All tests completed successfully\n"
     ]
    }
   ],
   "source": [
    "ten_to_one = [10.0,9.0,8.0,7.0,6.0,5.0,4.0,3.0,2.0,1.0]\n",
    "y_actual = np.ndarray((10,),buffer = np.array(ten_to_one))\n",
    "y_predict = np.ndarray((10,),buffer = np.array(ten_to_one))\n",
    "actual_neighbourhoods = np.array(get_x_neighbourhoods(len(y_actual), reverse = False), dtype=object)\n",
    "predicted_neighbourhoods = np.array(get_x_neighbourhoods(len(y_predict), reverse = False), dtype=object)\n",
    "expected_scores = [1,1,1,1,1,0]\n",
    "num_hotspots = 9\n",
    "test_calculate_accuracy(y_actual, actual_neighbourhoods, y_predict, predicted_neighbourhoods, expected_scores, num_hotspots)"
   ]
  },
  {
   "cell_type": "code",
   "execution_count": 1184,
   "metadata": {},
   "outputs": [
    {
     "name": "stdout",
     "output_type": "stream",
     "text": [
      "[0.8888888888888888, 0.0, 0.8888888888888888, 0.88889, -0.11111, 0.16666666666666666]\n",
      "All tests completed successfully\n"
     ]
    }
   ],
   "source": [
    "ten_to_one = [10.0,9.0,8.0,7.0,6.0,5.0,4.0,3.0,2.0,1.0]\n",
    "y_actual = np.ndarray((10,),buffer = np.array(ten_to_one))\n",
    "y_predict = np.ndarray((10,),buffer = np.array(ten_to_one))\n",
    "actual_neighbourhoods = np.array(get_x_neighbourhoods(len(y_actual), reverse = True), dtype=object)\n",
    "predicted_neighbourhoods = np.array(get_x_neighbourhoods(len(y_predict), reverse = False), dtype=object)\n",
    "expected_scores = [0.8888888888888888,0,0.8888888888888888,0.88889,-0.11111,0.16666666666666666]\n",
    "num_hotspots = 9\n",
    "test_calculate_accuracy(y_actual, actual_neighbourhoods, y_predict, predicted_neighbourhoods, expected_scores, num_hotspots)"
   ]
  },
  {
   "cell_type": "code",
   "execution_count": 1185,
   "metadata": {},
   "outputs": [
    {
     "name": "stdout",
     "output_type": "stream",
     "text": [
      "[0.8888888888888888, 0.0, 0.8888888888888888, 0.88889, -0.11111, 0.16666666666666666]\n",
      "All tests completed successfully\n"
     ]
    }
   ],
   "source": [
    "ten_to_one = [10.0,9.0,8.0,7.0,6.0,5.0,4.0,3.0,2.0,1.0]\n",
    "y_actual = np.ndarray((10,),buffer = np.array(ten_to_one))\n",
    "y_predict = np.ndarray((10,),buffer = np.array(ten_to_one))\n",
    "actual_neighbourhoods = np.array(get_x_neighbourhoods(len(y_actual), reverse = False), dtype=object)\n",
    "predicted_neighbourhoods = np.array(get_x_neighbourhoods(len(y_predict), reverse = True), dtype=object)\n",
    "expected_scores = [0.8888888888888888,0,0.8888888888888888,0.88889,-0.11111,0.16666666666666666]\n",
    "num_hotspots = 9\n",
    "test_calculate_accuracy(y_actual, actual_neighbourhoods, y_predict, predicted_neighbourhoods, expected_scores, num_hotspots)"
   ]
  },
  {
   "cell_type": "code",
   "execution_count": 1186,
   "metadata": {},
   "outputs": [
    {
     "name": "stdout",
     "output_type": "stream",
     "text": [
      "[1.0, 1.0, 1.0, 1.0, 1.0, 0.0]\n",
      "All tests completed successfully\n"
     ]
    }
   ],
   "source": [
    "ten_to_one = [10.0,9.0,8.0,7.0,6.0,5.0,4.0,3.0,2.0,1.0]\n",
    "y_actual = np.ndarray((10,),buffer = np.array(ten_to_one))\n",
    "y_predict = np.ndarray((10,),buffer = np.array(ten_to_one))\n",
    "actual_neighbourhoods = np.array(get_x_neighbourhoods(len(y_actual), reverse = True), dtype=object)\n",
    "predicted_neighbourhoods = np.array(get_x_neighbourhoods(len(y_predict), reverse = True), dtype=object)\n",
    "expected_scores = [1,1,1,1,1,0]\n",
    "num_hotspots = 9\n",
    "test_calculate_accuracy(y_actual, actual_neighbourhoods, y_predict, predicted_neighbourhoods, expected_scores, num_hotspots)"
   ]
  },
  {
   "cell_type": "code",
   "execution_count": 1187,
   "metadata": {},
   "outputs": [
    {
     "name": "stdout",
     "output_type": "stream",
     "text": [
      "[1.0, 1.0, 1.0, 1.0, 1.0, 0.0]\n",
      "All tests completed successfully\n"
     ]
    }
   ],
   "source": [
    "ten_to_one = [10.0,9.0,8.0,7.0,6.0,5.0,4.0,3.0,2.0,1.0]\n",
    "one_to_ten = [1.0,2.0,3.0,4.0,5.0,6.0,7.0,8.0,9.0,10.0]\n",
    "y_actual = np.ndarray((10,),buffer = np.array(ten_to_one))\n",
    "y_predict = np.ndarray((10,),buffer = np.array(one_to_ten))\n",
    "actual_neighbourhoods = np.array(get_x_neighbourhoods(len(y_actual), reverse = False), dtype=object)\n",
    "predicted_neighbourhoods = np.array(get_x_neighbourhoods(len(y_predict), reverse = False), dtype=object)\n",
    "expected_scores = [1,1,1,1,1,0]\n",
    "num_hotspots = 9\n",
    "test_calculate_accuracy(y_actual, actual_neighbourhoods, y_predict, predicted_neighbourhoods, expected_scores, num_hotspots)"
   ]
  },
  {
   "cell_type": "code",
   "execution_count": 1188,
   "metadata": {},
   "outputs": [
    {
     "name": "stdout",
     "output_type": "stream",
     "text": [
      "[0.8888888888888888, 0.0, 0.8888888888888888, 0.88889, -0.11111, 0.16666666666666666]\n",
      "All tests completed successfully\n"
     ]
    }
   ],
   "source": [
    "ten_to_one = [10.0,9.0,8.0,7.0,6.0,5.0,4.0,3.0,2.0,1.0]\n",
    "one_to_ten = [1.0,2.0,3.0,4.0,5.0,6.0,7.0,8.0,9.0,10.0]\n",
    "y_actual = np.ndarray((10,),buffer = np.array(ten_to_one))\n",
    "y_predict = np.ndarray((10,),buffer = np.array(one_to_ten))\n",
    "actual_neighbourhoods = np.array(get_x_neighbourhoods(len(y_actual), reverse = True), dtype=object)\n",
    "predicted_neighbourhoods = np.array(get_x_neighbourhoods(len(y_predict), reverse = False), dtype=object)\n",
    "expected_scores = [0.8888888888888888,0,0.8888888888888888,0.88889,-0.11111,0.16666666666666666]\n",
    "num_hotspots = 9\n",
    "test_calculate_accuracy(y_actual, actual_neighbourhoods, y_predict, predicted_neighbourhoods, expected_scores, num_hotspots)"
   ]
  },
  {
   "cell_type": "code",
   "execution_count": 1189,
   "metadata": {},
   "outputs": [
    {
     "name": "stdout",
     "output_type": "stream",
     "text": [
      "[0.8888888888888888, 0.0, 0.8888888888888888, 0.88889, -0.11111, 0.16666666666666666]\n",
      "All tests completed successfully\n"
     ]
    }
   ],
   "source": [
    "ten_to_one = [10.0,9.0,8.0,7.0,6.0,5.0,4.0,3.0,2.0,1.0]\n",
    "one_to_ten = [1.0,2.0,3.0,4.0,5.0,6.0,7.0,8.0,9.0,10.0]\n",
    "y_actual = np.ndarray((10,),buffer = np.array(ten_to_one))\n",
    "y_predict = np.ndarray((10,),buffer = np.array(one_to_ten))\n",
    "actual_neighbourhoods = np.array(get_x_neighbourhoods(len(y_actual), reverse = False), dtype=object)\n",
    "predicted_neighbourhoods = np.array(get_x_neighbourhoods(len(y_predict), reverse = True), dtype=object)\n",
    "expected_scores = [0.8888888888888888,0,0.8888888888888888,0.88889,-0.11111,0.16666666666666666]\n",
    "num_hotspots = 9\n",
    "test_calculate_accuracy(y_actual, actual_neighbourhoods, y_predict, predicted_neighbourhoods, expected_scores, num_hotspots)"
   ]
  },
  {
   "cell_type": "code",
   "execution_count": 1190,
   "metadata": {
    "scrolled": true
   },
   "outputs": [
    {
     "name": "stdout",
     "output_type": "stream",
     "text": [
      "[1.0, 1.0, 1.0, 1.0, 1.0, 0.0]\n",
      "All tests completed successfully\n"
     ]
    }
   ],
   "source": [
    "ten_to_one = [10.0,9.0,8.0,7.0,6.0,5.0,4.0,3.0,2.0,1.0]\n",
    "one_to_ten = [1.0,2.0,3.0,4.0,5.0,6.0,7.0,8.0,9.0,10.0]\n",
    "y_actual = np.ndarray((10,), buffer = np.array(ten_to_one))\n",
    "y_predict = np.ndarray((10,), buffer = np.array(one_to_ten))\n",
    "actual_neighbourhoods = np.array(get_x_neighbourhoods(len(y_actual), reverse = True), dtype=object)\n",
    "predicted_neighbourhoods = np.array(get_x_neighbourhoods(len(y_predict), reverse = True), dtype=object)\n",
    "expected_scores = [1,1,1,1,1,0]\n",
    "num_hotspots = 9\n",
    "test_calculate_accuracy(y_actual, actual_neighbourhoods, y_predict, predicted_neighbourhoods, expected_scores, num_hotspots)"
   ]
  },
  {
   "cell_type": "markdown",
   "metadata": {},
   "source": [
    "<h3> Test determine hotspots <h3>"
   ]
  },
  {
   "cell_type": "code",
   "execution_count": 1191,
   "metadata": {},
   "outputs": [],
   "source": [
    "def test_determine_hotspots(y_actual, actual_neighbourhoods, prediction_neighbourhoods,num_hotspots,expected_result):\n",
    "    result = determine_hotspots(y_actual, actual_neighbourhoods, prediction_neighbourhoods,num_hotspots)[0]\n",
    "    for i in range (0,len(expected_result)):\n",
    "        assert expected_result[i] in result, \"Hotspots not as expected\"\n",
    "    print(\"All tests completed successfully\")"
   ]
  },
  {
   "cell_type": "code",
   "execution_count": 1192,
   "metadata": {},
   "outputs": [
    {
     "name": "stdout",
     "output_type": "stream",
     "text": [
      "All tests completed successfully\n"
     ]
    }
   ],
   "source": [
    "ten_to_one = [10.0,9.0,8.0,7.0,6.0,5.0,4.0,3.0,2.0,1.0]\n",
    "y_actual = np.ndarray((10,),buffer = np.array(ten_to_one))\n",
    "actual_neighbourhoods = np.array(get_x_neighbourhoods(10, reverse = False), dtype=object)\n",
    "prediction_neighbourhoods = np.array(get_x_neighbourhoods(10, reverse = False), dtype=object)\n",
    "expected_result = np.array(get_x_neighbourhoods(10, reverse = False), dtype=object)\n",
    "num_hotspots = 10\n",
    "test_determine_hotspots(y_actual, actual_neighbourhoods, prediction_neighbourhoods,num_hotspots,expected_result)"
   ]
  },
  {
   "cell_type": "code",
   "execution_count": 1193,
   "metadata": {},
   "outputs": [
    {
     "name": "stdout",
     "output_type": "stream",
     "text": [
      "All tests completed successfully\n"
     ]
    }
   ],
   "source": [
    "ten_to_one = [10.0,9.0,8.0,7.0,6.0,5.0,4.0,3.0,2.0,1.0]\n",
    "y_actual = np.ndarray((10,),buffer = np.array(ten_to_one))\n",
    "actual_neighbourhoods = np.array(get_x_neighbourhoods(10, reverse = True), dtype=object)\n",
    "prediction_neighbourhoods = np.array(get_x_neighbourhoods(10, reverse = False), dtype=object)\n",
    "expected_result = np.array(get_x_neighbourhoods(10, reverse = False), dtype=object)\n",
    "num_hotspots = 10\n",
    "test_determine_hotspots(y_actual, actual_neighbourhoods, prediction_neighbourhoods,num_hotspots,expected_result)"
   ]
  },
  {
   "cell_type": "code",
   "execution_count": 1194,
   "metadata": {},
   "outputs": [
    {
     "name": "stdout",
     "output_type": "stream",
     "text": [
      "All tests completed successfully\n"
     ]
    }
   ],
   "source": [
    "ten_to_one = [10.0,9.0,8.0,7.0,6.0,5.0,4.0,3.0,2.0,1.0]\n",
    "y_actual = np.ndarray((10,),buffer = np.array(ten_to_one))\n",
    "actual_neighbourhoods = np.array(get_x_neighbourhoods(10, reverse = False), dtype=object)\n",
    "prediction_neighbourhoods = np.array(get_x_neighbourhoods(10, reverse = True), dtype=object)\n",
    "expected_result = np.array(get_x_neighbourhoods(10, reverse = False), dtype=object)\n",
    "num_hotspots = 10\n",
    "test_determine_hotspots(y_actual, actual_neighbourhoods, prediction_neighbourhoods,num_hotspots,expected_result)"
   ]
  },
  {
   "cell_type": "code",
   "execution_count": 1195,
   "metadata": {},
   "outputs": [
    {
     "name": "stdout",
     "output_type": "stream",
     "text": [
      "All tests completed successfully\n"
     ]
    }
   ],
   "source": [
    "ten_to_one = [10.0,9.0,8.0,7.0,6.0,5.0,4.0,3.0,2.0,1.0]\n",
    "y_actual = np.ndarray((10,),buffer = np.array(ten_to_one))\n",
    "actual_neighbourhoods = np.array(get_x_neighbourhoods(10, reverse = True), dtype=object)\n",
    "prediction_neighbourhoods = np.array(get_x_neighbourhoods(10, reverse = True), dtype=object)\n",
    "expected_result = np.array(get_x_neighbourhoods(10, reverse = False), dtype=object)\n",
    "num_hotspots = 10\n",
    "test_determine_hotspots(y_actual, actual_neighbourhoods, prediction_neighbourhoods,num_hotspots,expected_result)"
   ]
  },
  {
   "cell_type": "code",
   "execution_count": 1196,
   "metadata": {},
   "outputs": [
    {
     "name": "stdout",
     "output_type": "stream",
     "text": [
      "All tests completed successfully\n"
     ]
    }
   ],
   "source": [
    "ten_to_one = [10.0,9.0,8.0,7.0,6.0,5.0,4.0,3.0,2.0,1.0]\n",
    "y_actual = np.ndarray((10,),buffer = np.array(ten_to_one))\n",
    "actual_neighbourhoods = np.array(get_x_neighbourhoods(10, reverse = False), dtype=object)\n",
    "prediction_neighbourhoods = np.array(get_x_neighbourhoods(10, reverse = False), dtype=object)\n",
    "expected_result = np.array(get_x_neighbourhoods(9, reverse = False), dtype=object)\n",
    "num_hotspots = 9\n",
    "test_determine_hotspots(y_actual, actual_neighbourhoods, prediction_neighbourhoods,num_hotspots,expected_result)"
   ]
  },
  {
   "cell_type": "code",
   "execution_count": 1197,
   "metadata": {
    "scrolled": true
   },
   "outputs": [
    {
     "name": "stdout",
     "output_type": "stream",
     "text": [
      "All tests completed successfully\n"
     ]
    }
   ],
   "source": [
    "ten_to_one = [10.0,9.0,8.0,7.0,6.0,5.0,4.0,3.0,2.0,1.0]\n",
    "y_actual = np.ndarray((10,),buffer = np.array(ten_to_one))\n",
    "actual_neighbourhoods = np.array(get_x_neighbourhoods(10, reverse = True), dtype=object)\n",
    "prediction_neighbourhoods = np.array(get_x_neighbourhoods(10, reverse = False), dtype=object)\n",
    "expected_result = np.array(get_x_neighbourhoods(9, reverse = False), dtype=object)\n",
    "num_hotspots = 9\n",
    "test_determine_hotspots(y_actual, actual_neighbourhoods, prediction_neighbourhoods,num_hotspots,expected_result)"
   ]
  },
  {
   "cell_type": "code",
   "execution_count": 1198,
   "metadata": {},
   "outputs": [
    {
     "name": "stdout",
     "output_type": "stream",
     "text": [
      "['Neighbourhood 9' 'Neighbourhood 8' 'Neighbourhood 7' 'Neighbourhood 6'\n",
      " 'Neighbourhood 5' 'Neighbourhood 4' 'Neighbourhood 3' 'Neighbourhood 2'\n",
      " 'Neighbourhood 1']\n",
      "<class 'numpy.ndarray'>\n",
      "All tests completed successfully\n"
     ]
    }
   ],
   "source": [
    "ten_to_one = [10.0,9.0,8.0,7.0,6.0,5.0,4.0,3.0,2.0,1.0]\n",
    "y_actual = np.ndarray((10,),buffer = np.array(ten_to_one))\n",
    "actual_neighbourhoods = np.array(get_x_neighbourhoods(10, reverse = False), dtype=object)\n",
    "prediction_neighbourhoods = np.array(get_x_neighbourhoods(10, reverse = True), dtype=object)\n",
    "expected_result = np.array(['Neighbourhood 9','Neighbourhood 8', 'Neighbourhood 7', 'Neighbourhood 6', 'Neighbourhood 5' ,\n",
    "                   'Neighbourhood 4', 'Neighbourhood 3', 'Neighbourhood 2', 'Neighbourhood 1'], dtype=object)\n",
    "print(expected_result)\n",
    "print(type(expected_result))\n",
    "num_hotspots = 9\n",
    "test_determine_hotspots(y_actual, actual_neighbourhoods, prediction_neighbourhoods,num_hotspots,expected_result)"
   ]
  },
  {
   "cell_type": "code",
   "execution_count": 1199,
   "metadata": {},
   "outputs": [
    {
     "name": "stdout",
     "output_type": "stream",
     "text": [
      "All tests completed successfully\n"
     ]
    }
   ],
   "source": [
    "ten_to_one = [10.0,9.0,8.0,7.0,6.0,5.0,4.0,3.0,2.0,1.0]\n",
    "y_actual = np.ndarray((10,),buffer = np.array(ten_to_one))\n",
    "actual_neighbourhoods = np.array(get_x_neighbourhoods(10, reverse = True), dtype=object)\n",
    "prediction_neighbourhoods = np.array(get_x_neighbourhoods(10, reverse = True), dtype=object)\n",
    "expected_result = np.array(['Neighbourhood 9','Neighbourhood 8', 'Neighbourhood 7', 'Neighbourhood 6', 'Neighbourhood 5' ,\n",
    "                   'Neighbourhood 4', 'Neighbourhood 3', 'Neighbourhood 2', 'Neighbourhood 1'], dtype=object)\n",
    "num_hotspots = 9\n",
    "test_determine_hotspots(y_actual, actual_neighbourhoods, prediction_neighbourhoods,num_hotspots,expected_result)"
   ]
  },
  {
   "cell_type": "code",
   "execution_count": 1200,
   "metadata": {},
   "outputs": [
    {
     "name": "stdout",
     "output_type": "stream",
     "text": [
      "All tests completed successfully\n"
     ]
    }
   ],
   "source": [
    "five_to_zero = [5.0,4.0,3.0,2.0,1.0,1.0,1.0,0.0,0.0,0.0]\n",
    "y_actual = np.ndarray((10,),buffer = np.array(five_to_zero))\n",
    "actual_neighbourhoods = np.array(get_x_neighbourhoods(10, reverse = False), dtype=object)\n",
    "prediction_neighbourhoods = np.array(get_x_neighbourhoods(10, reverse = False), dtype=object)\n",
    "expected_result = np.array(get_x_neighbourhoods(5, reverse = False), dtype=object)\n",
    "num_hotspots = 5\n",
    "test_determine_hotspots(y_actual, actual_neighbourhoods, prediction_neighbourhoods,num_hotspots,expected_result)"
   ]
  },
  {
   "cell_type": "code",
   "execution_count": 1201,
   "metadata": {},
   "outputs": [
    {
     "name": "stdout",
     "output_type": "stream",
     "text": [
      "All tests completed successfully\n"
     ]
    }
   ],
   "source": [
    "five_to_zero = [5.0,4.0,3.0,2.0,1.0,1.0,1.0,0.0,0.0,0.0]\n",
    "y_actual = np.ndarray((10,),buffer = np.array(five_to_zero))\n",
    "actual_neighbourhoods = np.array(get_x_neighbourhoods(10, reverse = True), dtype=object)\n",
    "prediction_neighbourhoods = np.array(get_x_neighbourhoods(10, reverse = False), dtype=object)\n",
    "expected_result = np.array(get_x_neighbourhoods(5, reverse = False), dtype=object)\n",
    "num_hotspots = 5\n",
    "test_determine_hotspots(y_actual, actual_neighbourhoods, prediction_neighbourhoods,num_hotspots,expected_result)"
   ]
  },
  {
   "cell_type": "code",
   "execution_count": 1202,
   "metadata": {},
   "outputs": [
    {
     "name": "stdout",
     "output_type": "stream",
     "text": [
      "All tests completed successfully\n"
     ]
    }
   ],
   "source": [
    "five_to_zero = [5.0,4.0,3.0,2.0,1.0,1.0,1.0,0.0,0.0,0.0]\n",
    "y_actual = np.ndarray((10,),buffer = np.array(five_to_zero))\n",
    "actual_neighbourhoods = np.array(get_x_neighbourhoods(10, reverse = False), dtype=object)\n",
    "prediction_neighbourhoods = np.array(get_x_neighbourhoods(10, reverse = True), dtype=object)\n",
    "expected_result = np.array(['Neighbourhood 9', 'Neighbourhood 8', 'Neighbourhood 7', 'Neighbourhood 6',\n",
    "                            'Neighbourhood 5'], dtype=object)\n",
    "num_hotspots = 5\n",
    "test_determine_hotspots(y_actual, actual_neighbourhoods, prediction_neighbourhoods,num_hotspots,expected_result)"
   ]
  },
  {
   "cell_type": "code",
   "execution_count": 1203,
   "metadata": {},
   "outputs": [
    {
     "name": "stdout",
     "output_type": "stream",
     "text": [
      "All tests completed successfully\n"
     ]
    }
   ],
   "source": [
    "five_to_zero = [5.0,4.0,3.0,2.0,1.0,1.0,1.0,0.0,0.0,0.0]\n",
    "y_actual = np.ndarray((10,),buffer = np.array(five_to_zero))\n",
    "actual_neighbourhoods = np.array(get_x_neighbourhoods(10, reverse = False), dtype=object)\n",
    "prediction_neighbourhoods = np.array(get_x_neighbourhoods(10, reverse = False), dtype=object)\n",
    "expected_result = np.array(get_x_neighbourhoods(5, reverse = True), dtype=object)\n",
    "num_hotspots = 5\n",
    "test_determine_hotspots(y_actual, actual_neighbourhoods, prediction_neighbourhoods,num_hotspots,expected_result)"
   ]
  },
  {
   "cell_type": "markdown",
   "metadata": {},
   "source": [
    "<h3> Test calculate_standard_scores <h3>"
   ]
  },
  {
   "cell_type": "code",
   "execution_count": 1216,
   "metadata": {},
   "outputs": [],
   "source": [
    "def test_calculate_standard_scores(predicted_hotspots, actual_hotspots, total_predictions,expected):\n",
    "    num_predictions = len(predicted_hotspots)\n",
    "    expected_result = np.ndarray((5,),buffer = np.array(expected))\n",
    "    result = calculate_standard_scores(num_predictions, predicted_hotspots, actual_hotspots, total_predictions)\n",
    "    assert len(expected_result) == len(result), \"Scores not as expected\"\n",
    "    for i in range (0,len(expected_result)):\n",
    "        assert expected_result[i] == result[i], \"Scores not as expected\"\n",
    "    print(\"All tests completed successfully\")"
   ]
  },
  {
   "cell_type": "code",
   "execution_count": 1217,
   "metadata": {},
   "outputs": [
    {
     "name": "stdout",
     "output_type": "stream",
     "text": [
      "All tests completed successfully\n"
     ]
    }
   ],
   "source": [
    "predicted_hotspots = ['Neighbourhood 1','Neighbourhood 2','Neighbourhood 3','Neighbourhood 4','Neighbourhood 5']\n",
    "actual_hotspots = ['Neighbourhood 1','Neighbourhood 2','Neighbourhood 3','Neighbourhood 4','Neighbourhood 5']\n",
    "total_predictions = 5\n",
    "expected_result = [1.0,1.0,1.0,1.0,1.0]\n",
    "test_calculate_standard_scores(predicted_hotspots, actual_hotspots, total_predictions,expected_result)"
   ]
  },
  {
   "cell_type": "code",
   "execution_count": 1218,
   "metadata": {},
   "outputs": [
    {
     "name": "stdout",
     "output_type": "stream",
     "text": [
      "All tests completed successfully\n"
     ]
    }
   ],
   "source": [
    "predicted_hotspots = ['Neighbourhood 1','Neighbourhood 2','Neighbourhood 3','Neighbourhood 4','Neighbourhood 5']\n",
    "actual_hotspots = ['Neighbourhood 1','Neighbourhood 2','Neighbourhood 3','Neighbourhood 4','Neighbourhood 5']\n",
    "total_predictions = 10\n",
    "expected_result = [1.0,1.0,1.0,1.0,1.0]\n",
    "test_calculate_standard_scores(predicted_hotspots, actual_hotspots, total_predictions,expected_result)"
   ]
  },
  {
   "cell_type": "code",
   "execution_count": 1219,
   "metadata": {},
   "outputs": [
    {
     "name": "stdout",
     "output_type": "stream",
     "text": [
      "All tests completed successfully\n"
     ]
    }
   ],
   "source": [
    "predicted_hotspots = ['Neighbourhood 1','Neighbourhood 2','Neighbourhood 3','Neighbourhood 4','Neighbourhood 5']\n",
    "actual_hotspots = ['Neighbourhood 1','Neighbourhood 2','Neighbourhood 3','Neighbourhood 4','Neighbourhood 6']\n",
    "total_predictions = 5\n",
    "expected_result = [0.8,1,0.8,0.8,1.0]\n",
    "test_calculate_standard_scores(predicted_hotspots, actual_hotspots, total_predictions,expected_result)"
   ]
  },
  {
   "cell_type": "code",
   "execution_count": 1220,
   "metadata": {},
   "outputs": [
    {
     "name": "stdout",
     "output_type": "stream",
     "text": [
      "All tests completed successfully\n"
     ]
    }
   ],
   "source": [
    "predicted_hotspots = ['Neighbourhood 1','Neighbourhood 2','Neighbourhood 3','Neighbourhood 4','Neighbourhood 5']\n",
    "actual_hotspots = ['Neighbourhood 1','Neighbourhood 2','Neighbourhood 3','Neighbourhood 4','Neighbourhood 6']\n",
    "total_predictions = 10\n",
    "expected_result = [0.8,0.8,0.8,0.8,0.6]\n",
    "test_calculate_standard_scores(predicted_hotspots, actual_hotspots, total_predictions,expected_result)"
   ]
  },
  {
   "cell_type": "code",
   "execution_count": 1221,
   "metadata": {},
   "outputs": [
    {
     "name": "stdout",
     "output_type": "stream",
     "text": [
      "All tests completed successfully\n"
     ]
    }
   ],
   "source": [
    "predicted_hotspots = ['Neighbourhood 1','Neighbourhood 2','Neighbourhood 3','Neighbourhood 4','Neighbourhood 5']\n",
    "actual_hotspots = ['Neighbourhood 1','Neighbourhood 2','Neighbourhood 3','Neighbourhood 4','Neighbourhood 6']\n",
    "total_predictions = 15\n",
    "expected_result = [0.8,0.9,0.8,0.8,0.7]\n",
    "test_calculate_standard_scores(predicted_hotspots, actual_hotspots, total_predictions,expected_result)"
   ]
  },
  {
   "cell_type": "code",
   "execution_count": 1222,
   "metadata": {},
   "outputs": [
    {
     "name": "stdout",
     "output_type": "stream",
     "text": [
      "All tests completed successfully\n"
     ]
    }
   ],
   "source": [
    "predicted_hotspots = ['Neighbourhood 1','Neighbourhood 2','Neighbourhood 3','Neighbourhood 4','Neighbourhood 5']\n",
    "actual_hotspots = ['Neighbourhood 6','Neighbourhood 7','Neighbourhood 8','Neighbourhood 9','Neighbourhood 10']\n",
    "total_predictions = 5\n",
    "expected_result = [0.0,1.0,0.0,0.0,1.0]\n",
    "test_calculate_standard_scores(predicted_hotspots, actual_hotspots, total_predictions,expected_result)"
   ]
  },
  {
   "cell_type": "code",
   "execution_count": 1223,
   "metadata": {},
   "outputs": [
    {
     "name": "stdout",
     "output_type": "stream",
     "text": [
      "All tests completed successfully\n"
     ]
    }
   ],
   "source": [
    "predicted_hotspots = ['Neighbourhood 1','Neighbourhood 2','Neighbourhood 3','Neighbourhood 4','Neighbourhood 5']\n",
    "actual_hotspots = ['Neighbourhood 6','Neighbourhood 7','Neighbourhood 8','Neighbourhood 9','Neighbourhood 10']\n",
    "total_predictions = 10\n",
    "expected_result = [0.0,0.0,0.0,0.0,-1.0]\n",
    "test_calculate_standard_scores(predicted_hotspots, actual_hotspots, total_predictions,expected_result)"
   ]
  },
  {
   "cell_type": "code",
   "execution_count": 1224,
   "metadata": {},
   "outputs": [
    {
     "name": "stdout",
     "output_type": "stream",
     "text": [
      "All tests completed successfully\n"
     ]
    }
   ],
   "source": [
    "predicted_hotspots = ['Neighbourhood 1','Neighbourhood 2','Neighbourhood 3','Neighbourhood 4','Neighbourhood 5']\n",
    "actual_hotspots = ['Neighbourhood 6','Neighbourhood 7','Neighbourhood 8','Neighbourhood 9','Neighbourhood 10']\n",
    "total_predictions = 15\n",
    "expected_result = [0.0,0.5,0.0,0.0,-0.5]\n",
    "test_calculate_standard_scores(predicted_hotspots, actual_hotspots, total_predictions,expected_result)"
   ]
  },
  {
   "cell_type": "markdown",
   "metadata": {},
   "source": [
    "<h3> Test get_missed_incidents <h3>"
   ]
  },
  {
   "cell_type": "code",
   "execution_count": 1261,
   "metadata": {},
   "outputs": [],
   "source": [
    "def test_get_missed_incidents(predicted_hotspots, actual_hotspots, y_actual, y_predict, actual_neighbourhoods,expected_result):\n",
    "    num_predictions = len(predicted_hotspots)\n",
    "    \n",
    "    \n",
    "    actual_result = get_missed_incidents(predicted_hotspots, actual_hotspots, y_actual, y_predict, num_predictions, \n",
    "                                  actual_neighbourhoods)\n",
    "\n",
    "    assert actual_result[0] == expected_result[0], \"Result not as expected.\"\n",
    "    print(\"All tests completed successfully.\")"
   ]
  },
  {
   "cell_type": "code",
   "execution_count": 1262,
   "metadata": {},
   "outputs": [
    {
     "name": "stdout",
     "output_type": "stream",
     "text": [
      "All tests completed successfully.\n"
     ]
    }
   ],
   "source": [
    "actuals = [10.0,9.0,8.0,7.0,6.0,5.0,4.0,3.0,2.0,1.0]\n",
    "y_actual = np.ndarray((10,),buffer = np.array(actuals))\n",
    "predicts = [10.0,9.0,8.0,7.0,6.0,5.0,4.0,3.0,2.0,1.0]\n",
    "y_predict = np.ndarray((10,),buffer = np.array(predicts))\n",
    "actual_neighbourhoods = np.array(['Neighbourhood 1','Neighbourhood 2','Neighbourhood 3','Neighbourhood 4','Neighbourhood 5',\n",
    "                                  'Neighbourhood 6','Neighbourhood 7','Neighbourhood 8','Neighbourhood 9','Neighbourhood 10'], \n",
    "                                 dtype=object)\n",
    "\n",
    "\n",
    "predicted_hotspots = ['Neighbourhood 1','Neighbourhood 2','Neighbourhood 3','Neighbourhood 4','Neighbourhood 5']\n",
    "actual_hotspots = ['Neighbourhood 1','Neighbourhood 2','Neighbourhood 3','Neighbourhood 4','Neighbourhood 5']\n",
    "\n",
    "\n",
    "expected_result = [0]\n",
    "test_get_missed_incidents(predicted_hotspots, actual_hotspots, y_actual, y_predict, actual_neighbourhoods,expected_result)"
   ]
  },
  {
   "cell_type": "code",
   "execution_count": 1263,
   "metadata": {},
   "outputs": [
    {
     "name": "stdout",
     "output_type": "stream",
     "text": [
      "All tests completed successfully.\n"
     ]
    }
   ],
   "source": [
    "actuals = [10.0,9.0,8.0,7.0,6.0,5.0,4.0,3.0,2.0,1.0]\n",
    "y_actual = np.ndarray((10,),buffer = np.array(actuals))\n",
    "predicts = [10.0,9.0,8.0,7.0,6.0,5.0,4.0,3.0,2.0,1.0]\n",
    "y_predict = np.ndarray((10,),buffer = np.array(predicts))\n",
    "actual_neighbourhoods = np.array(['Neighbourhood 1','Neighbourhood 2','Neighbourhood 3','Neighbourhood 4','Neighbourhood 5',\n",
    "                                  'Neighbourhood 6','Neighbourhood 7','Neighbourhood 8','Neighbourhood 9','Neighbourhood 10'], \n",
    "                                 dtype=object)\n",
    "\n",
    "\n",
    "predicted_hotspots = ['Neighbourhood 1','Neighbourhood 2','Neighbourhood 3','Neighbourhood 4','Neighbourhood 6']\n",
    "actual_hotspots = ['Neighbourhood 1','Neighbourhood 2','Neighbourhood 3','Neighbourhood 4','Neighbourhood 5']\n",
    "\n",
    "actual_hotspot_incidents = 10+9+8+7+6\n",
    "predicted_hotspot_incidents = 10+9+8+7+5\n",
    "missed = actual_hotspot_incidents - predicted_hotspot_incidents\n",
    "expected_result = [missed/actual_hotspot_incidents]\n",
    "\n",
    "test_get_missed_incidents(predicted_hotspots, actual_hotspots, y_actual, y_predict, actual_neighbourhoods,expected_result)"
   ]
  },
  {
   "cell_type": "code",
   "execution_count": 1264,
   "metadata": {},
   "outputs": [
    {
     "name": "stdout",
     "output_type": "stream",
     "text": [
      "All tests completed successfully.\n"
     ]
    }
   ],
   "source": [
    "actuals = [10.0,9.0,8.0,7.0,6.0,5.0,4.0,3.0,2.0,1.0]\n",
    "y_actual = np.ndarray((10,),buffer = np.array(actuals))\n",
    "predicts = [10.0,9.0,8.0,7.0,6.0,5.0,4.0,3.0,2.0,1.0]\n",
    "y_predict = np.ndarray((10,),buffer = np.array(predicts))\n",
    "actual_neighbourhoods = np.array(['Neighbourhood 1','Neighbourhood 2','Neighbourhood 3','Neighbourhood 4','Neighbourhood 5',\n",
    "                                  'Neighbourhood 6','Neighbourhood 7','Neighbourhood 8','Neighbourhood 9','Neighbourhood 10'], \n",
    "                                 dtype=object)\n",
    "\n",
    "\n",
    "predicted_hotspots = ['Neighbourhood 1','Neighbourhood 2','Neighbourhood 3','Neighbourhood 4','Neighbourhood 7']\n",
    "actual_hotspots = ['Neighbourhood 1','Neighbourhood 2','Neighbourhood 3','Neighbourhood 4','Neighbourhood 5']\n",
    "\n",
    "actual_hotspot_incidents = 10+9+8+7+6\n",
    "predicted_hotspot_incidents = 10+9+8+7+4\n",
    "missed = actual_hotspot_incidents - predicted_hotspot_incidents\n",
    "expected_result = [missed/actual_hotspot_incidents]\n",
    "\n",
    "test_get_missed_incidents(predicted_hotspots, actual_hotspots, y_actual, y_predict, actual_neighbourhoods,expected_result)"
   ]
  },
  {
   "cell_type": "code",
   "execution_count": 1265,
   "metadata": {
    "scrolled": false
   },
   "outputs": [
    {
     "name": "stdout",
     "output_type": "stream",
     "text": [
      "All tests completed successfully.\n"
     ]
    }
   ],
   "source": [
    "actuals = [10.0,9.0,8.0,7.0,6.0,5.0,4.0,3.0,2.0,1.0]\n",
    "y_actual = np.ndarray((10,),buffer = np.array(actuals))\n",
    "predicts = [10.0,9.0,8.0,7.0,6.0,5.0,4.0,3.0,2.0,1.0]\n",
    "y_predict = np.ndarray((10,),buffer = np.array(predicts))\n",
    "actual_neighbourhoods = np.array(['Neighbourhood 1','Neighbourhood 2','Neighbourhood 3','Neighbourhood 4','Neighbourhood 5',\n",
    "                                  'Neighbourhood 6','Neighbourhood 7','Neighbourhood 8','Neighbourhood 9','Neighbourhood 10'], \n",
    "                                 dtype=object)\n",
    "\n",
    "\n",
    "predicted_hotspots = ['Neighbourhood 6','Neighbourhood 7','Neighbourhood 8','Neighbourhood 9','Neighbourhood 10']\n",
    "actual_hotspots = ['Neighbourhood 1','Neighbourhood 2','Neighbourhood 3','Neighbourhood 4','Neighbourhood 5']\n",
    "\n",
    "actual_hotspot_incidents = 10+9+8+7+6\n",
    "predicted_hotspot_incidents = 1+2+3+4+5\n",
    "missed = actual_hotspot_incidents - predicted_hotspot_incidents\n",
    "expected_result = [missed/actual_hotspot_incidents]\n",
    "\n",
    "test_get_missed_incidents(predicted_hotspots, actual_hotspots, y_actual, y_predict, actual_neighbourhoods,expected_result)"
   ]
  },
  {
   "cell_type": "code",
   "execution_count": 1266,
   "metadata": {},
   "outputs": [
    {
     "name": "stdout",
     "output_type": "stream",
     "text": [
      "All tests completed successfully.\n"
     ]
    }
   ],
   "source": [
    "actuals = [10.0,9.0,8.0,7.0,6.0,5.0,4.0,3.0,2.0,1.0]\n",
    "y_actual = np.ndarray((10,),buffer = np.array(actuals))\n",
    "predicts = [10.0,9.0,8.0,7.0,6.0,5.0,4.0,3.0,2.0,1.0]\n",
    "y_predict = np.ndarray((10,),buffer = np.array(predicts))\n",
    "actual_neighbourhoods = np.array(['Neighbourhood 1','Neighbourhood 2','Neighbourhood 3','Neighbourhood 4','Neighbourhood 5',\n",
    "                                  'Neighbourhood 6','Neighbourhood 7','Neighbourhood 8','Neighbourhood 9','Neighbourhood 10'], \n",
    "                                 dtype=object)\n",
    "\n",
    "\n",
    "predicted_hotspots = ['Neighbourhood 10','Neighbourhood 2','Neighbourhood 3','Neighbourhood 4','Neighbourhood 5']\n",
    "actual_hotspots = ['Neighbourhood 1','Neighbourhood 2','Neighbourhood 3','Neighbourhood 4','Neighbourhood 5']\n",
    "\n",
    "actual_hotspot_incidents = 10+9+8+7+6\n",
    "predicted_hotspot_incidents = 1+9+8+7+6\n",
    "missed = actual_hotspot_incidents - predicted_hotspot_incidents\n",
    "expected_result = [missed/actual_hotspot_incidents]\n",
    "\n",
    "test_get_missed_incidents(predicted_hotspots, actual_hotspots, y_actual, y_predict, actual_neighbourhoods,expected_result)"
   ]
  },
  {
   "cell_type": "code",
   "execution_count": 1267,
   "metadata": {},
   "outputs": [
    {
     "name": "stdout",
     "output_type": "stream",
     "text": [
      "All tests completed successfully.\n"
     ]
    }
   ],
   "source": [
    "actuals = [10.0,9.0,8.0,7.0,6.0,0.0,0.0,0.0,0.0,0.0]\n",
    "y_actual = np.ndarray((10,),buffer = np.array(actuals))\n",
    "predicts = [10.0,9.0,8.0,7.0,6.0,5.0,4.0,3.0,2.0,1.0]\n",
    "y_predict = np.ndarray((10,),buffer = np.array(predicts))\n",
    "actual_neighbourhoods = np.array(['Neighbourhood 1','Neighbourhood 2','Neighbourhood 3','Neighbourhood 4','Neighbourhood 5',\n",
    "                                  'Neighbourhood 6','Neighbourhood 7','Neighbourhood 8','Neighbourhood 9','Neighbourhood 10'], \n",
    "                                 dtype=object)\n",
    "\n",
    "\n",
    "predicted_hotspots = ['Neighbourhood 6','Neighbourhood 7','Neighbourhood 8','Neighbourhood 9','Neighbourhood 10']\n",
    "actual_hotspots = ['Neighbourhood 1','Neighbourhood 2','Neighbourhood 3','Neighbourhood 4','Neighbourhood 5']\n",
    "\n",
    "actual_hotspot_incidents = 10+9+8+7+6\n",
    "predicted_hotspot_incidents = 0+0+0+0+0\n",
    "missed = actual_hotspot_incidents - predicted_hotspot_incidents\n",
    "expected_result = [missed/actual_hotspot_incidents]\n",
    "\n",
    "test_get_missed_incidents(predicted_hotspots, actual_hotspots, y_actual, y_predict, actual_neighbourhoods,expected_result)"
   ]
  },
  {
   "cell_type": "code",
   "execution_count": null,
   "metadata": {},
   "outputs": [],
   "source": []
  },
  {
   "cell_type": "code",
   "execution_count": null,
   "metadata": {},
   "outputs": [],
   "source": []
  },
  {
   "cell_type": "code",
   "execution_count": null,
   "metadata": {},
   "outputs": [],
   "source": []
  },
  {
   "cell_type": "code",
   "execution_count": null,
   "metadata": {},
   "outputs": [],
   "source": []
  },
  {
   "cell_type": "code",
   "execution_count": null,
   "metadata": {},
   "outputs": [],
   "source": []
  },
  {
   "cell_type": "code",
   "execution_count": null,
   "metadata": {},
   "outputs": [],
   "source": []
  },
  {
   "cell_type": "code",
   "execution_count": null,
   "metadata": {},
   "outputs": [],
   "source": []
  },
  {
   "cell_type": "code",
   "execution_count": null,
   "metadata": {},
   "outputs": [],
   "source": []
  },
  {
   "cell_type": "code",
   "execution_count": null,
   "metadata": {},
   "outputs": [],
   "source": []
  },
  {
   "cell_type": "code",
   "execution_count": null,
   "metadata": {},
   "outputs": [],
   "source": []
  },
  {
   "cell_type": "code",
   "execution_count": null,
   "metadata": {},
   "outputs": [],
   "source": []
  },
  {
   "cell_type": "code",
   "execution_count": null,
   "metadata": {},
   "outputs": [],
   "source": []
  },
  {
   "cell_type": "code",
   "execution_count": null,
   "metadata": {},
   "outputs": [],
   "source": []
  },
  {
   "cell_type": "code",
   "execution_count": null,
   "metadata": {},
   "outputs": [],
   "source": []
  },
  {
   "cell_type": "code",
   "execution_count": null,
   "metadata": {},
   "outputs": [],
   "source": []
  },
  {
   "cell_type": "code",
   "execution_count": null,
   "metadata": {},
   "outputs": [],
   "source": []
  },
  {
   "cell_type": "code",
   "execution_count": null,
   "metadata": {},
   "outputs": [],
   "source": []
  },
  {
   "cell_type": "code",
   "execution_count": null,
   "metadata": {},
   "outputs": [],
   "source": []
  },
  {
   "cell_type": "code",
   "execution_count": null,
   "metadata": {},
   "outputs": [],
   "source": []
  },
  {
   "cell_type": "code",
   "execution_count": null,
   "metadata": {},
   "outputs": [],
   "source": []
  },
  {
   "cell_type": "code",
   "execution_count": null,
   "metadata": {},
   "outputs": [],
   "source": []
  },
  {
   "cell_type": "code",
   "execution_count": null,
   "metadata": {},
   "outputs": [],
   "source": []
  },
  {
   "cell_type": "code",
   "execution_count": null,
   "metadata": {},
   "outputs": [],
   "source": []
  },
  {
   "cell_type": "code",
   "execution_count": null,
   "metadata": {},
   "outputs": [],
   "source": []
  },
  {
   "cell_type": "code",
   "execution_count": null,
   "metadata": {},
   "outputs": [],
   "source": []
  }
 ],
 "metadata": {
  "kernelspec": {
   "display_name": "Python 3",
   "language": "python",
   "name": "python3"
  },
  "language_info": {
   "codemirror_mode": {
    "name": "ipython",
    "version": 3
   },
   "file_extension": ".py",
   "mimetype": "text/x-python",
   "name": "python",
   "nbconvert_exporter": "python",
   "pygments_lexer": "ipython3",
   "version": "3.9.0"
  }
 },
 "nbformat": 4,
 "nbformat_minor": 4
}
